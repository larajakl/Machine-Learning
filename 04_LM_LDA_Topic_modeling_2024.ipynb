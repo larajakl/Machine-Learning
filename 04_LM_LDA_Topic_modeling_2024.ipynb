{
  "nbformat": 4,
  "nbformat_minor": 0,
  "metadata": {
    "colab": {
      "provenance": [],
      "toc_visible": true,
      "include_colab_link": true
    },
    "kernelspec": {
      "name": "python3",
      "display_name": "Python 3"
    }
  },
  "cells": [
    {
      "cell_type": "markdown",
      "metadata": {
        "id": "view-in-github",
        "colab_type": "text"
      },
      "source": [
        "<a href=\"https://colab.research.google.com/github/larajakl/Machine-Learning/blob/main/04_LM_LDA_Topic_modeling_2024.ipynb\" target=\"_parent\"><img src=\"https://colab.research.google.com/assets/colab-badge.svg\" alt=\"Open In Colab\"/></a>"
      ]
    },
    {
      "cell_type": "markdown",
      "source": [
        "# Clustering Documents"
      ],
      "metadata": {
        "id": "0QCMG-L_oPQ6"
      }
    },
    {
      "cell_type": "markdown",
      "metadata": {
        "id": "nzhvlugtZytc"
      },
      "source": [
        "In this notebook, you'll learn about **Latent Dirichlet Allocation** (LDA) algorithm, and how to use it to cluster documents based on automatically generated topics, made out of their content words.\n",
        "\n",
        "Key-learning:\n",
        "- Unsupervised machine learning for NLP\n",
        "- Clustering Documents\n",
        "- LDA\n",
        "- python packages: *pandas*, [*gensim*](https://pypi.org/project/gensim/)\n",
        "\n",
        "Terms in this notebook:\n",
        "- Bag of Words (BoW)\n",
        "- LDA\n",
        "- Clustering\n",
        "- TF/IDF\n",
        "\n",
        "This notebook includes two recommended videos (total length: 25min).\n",
        "\n",
        "Estimated reading duration: 1-2h.\n"
      ]
    },
    {
      "cell_type": "markdown",
      "metadata": {
        "id": "LuFLTklaSGqw"
      },
      "source": [
        "# Setup"
      ]
    },
    {
      "cell_type": "markdown",
      "metadata": {
        "id": "ncCmcyBB_KyW"
      },
      "source": [
        "We start by importing [pandas](https://pandas.pydata.org/) - an essential tool for data scientists!\n",
        "\n",
        "We load a .CSV (Comma Seperated Values) file of German news articles from https://github.com/tblock/10kGNAD\n"
      ]
    },
    {
      "cell_type": "code",
      "source": [
        "from IPython.display import YouTubeVideo"
      ],
      "metadata": {
        "id": "9e5gBKX3pFlC"
      },
      "execution_count": 1,
      "outputs": []
    },
    {
      "cell_type": "code",
      "metadata": {
        "id": "KfprTyMF4BG1",
        "outputId": "3ffd7ae5-be7b-48ee-a6b4-c03ddba3b02d",
        "colab": {
          "base_uri": "https://localhost:8080/"
        }
      },
      "source": [
        "import pandas as pd\n",
        "\n",
        "import nltk\n",
        "nltk.download('punkt')\n",
        "nltk.download('stopwords')\n",
        "nltk.download('averaged_perceptron_tagger')\n",
        "nltk.download('universal_tagset')\n",
        "\n"
      ],
      "execution_count": 2,
      "outputs": [
        {
          "output_type": "stream",
          "name": "stderr",
          "text": [
            "[nltk_data] Downloading package punkt to /root/nltk_data...\n",
            "[nltk_data]   Unzipping tokenizers/punkt.zip.\n",
            "[nltk_data] Downloading package stopwords to /root/nltk_data...\n",
            "[nltk_data]   Unzipping corpora/stopwords.zip.\n",
            "[nltk_data] Downloading package averaged_perceptron_tagger to\n",
            "[nltk_data]     /root/nltk_data...\n",
            "[nltk_data]   Unzipping taggers/averaged_perceptron_tagger.zip.\n",
            "[nltk_data] Downloading package universal_tagset to /root/nltk_data...\n",
            "[nltk_data]   Unzipping taggers/universal_tagset.zip.\n"
          ]
        },
        {
          "output_type": "execute_result",
          "data": {
            "text/plain": [
              "True"
            ]
          },
          "metadata": {},
          "execution_count": 2
        }
      ]
    },
    {
      "cell_type": "markdown",
      "source": [
        "Pandas is a useful package to load CSV files and to parse them. It can also parse TSV - separated by tabs, or as in our case, separated by a `;`.  \n",
        "Pandas is often used as the first-step for data scientists to load and analyze data."
      ],
      "metadata": {
        "id": "v62qoMC7U7W-"
      }
    },
    {
      "cell_type": "code",
      "metadata": {
        "id": "ieItNWA44BEA"
      },
      "source": [
        "df_articles = pd.read_csv('https://raw.githubusercontent.com/tblock/10kGNAD/master/articles.csv',\n",
        "                 sep=';',       # this file is actually a TSV, separated by \";\"\n",
        "                 on_bad_lines='skip',\n",
        "                 header=None,   # There is no header line for this CSV...\n",
        "                 # .. so we define the column names here:\n",
        "                 names=['article_category', 'content'],\n",
        "                 # And by specifiying the column as a Categorical type,\n",
        "                 # we can save computer memory! Yay!\n",
        "                 dtype={'article_category': 'category'})"
      ],
      "execution_count": 3,
      "outputs": []
    },
    {
      "cell_type": "markdown",
      "source": [
        "**Note:** Specifying a column with repeated strings as a category is a good Pandas' trick to be aware of. Often the dataset can't fit into the memory, and by specifiying columns as a categorical column when loading the data (`pd.read_csv`), we get to spare memory and allow the dataset to fit the working memory better."
      ],
      "metadata": {
        "id": "SVusBTWghIkz"
      }
    },
    {
      "cell_type": "code",
      "source": [
        "df_articles"
      ],
      "metadata": {
        "id": "XyYuGSLJSNCA",
        "outputId": "7fab5b49-a975-4749-d693-75076b37c932",
        "colab": {
          "base_uri": "https://localhost:8080/",
          "height": 424
        }
      },
      "execution_count": 4,
      "outputs": [
        {
          "output_type": "execute_result",
          "data": {
            "text/plain": [
              "     article_category                                            content\n",
              "0                Etat  Die ARD-Tochter Degeto hat sich verpflichtet, ...\n",
              "1                Etat  App sei nicht so angenommen worden wie geplant...\n",
              "2                Etat  Mitarbeiter überreichten Eigentümervertretern ...\n",
              "3                Etat  Service: Jobwechsel in der Kommunikationsbranc...\n",
              "4                Etat  Was Sie über diese Woche wissen sollten - und ...\n",
              "...               ...                                                ...\n",
              "9571     Wissenschaft  Die Fundstelle in Südengland ist Unesco-Weltku...\n",
              "9572     Wissenschaft  Im Team arbeitet auch ein Inspektor der sudane...\n",
              "9573     Wissenschaft  Die zentrale Frage des Projekts: Siedelten Ägy...\n",
              "9574     Wissenschaft  Klimatische Verschlechterungen dürften zur Auf...\n",
              "9575     Wissenschaft  Knochen können zum Verständnis des Lebens in d...\n",
              "\n",
              "[9576 rows x 2 columns]"
            ],
            "text/html": [
              "\n",
              "  <div id=\"df-e9e4270c-064d-4dc3-a6d4-7746ea5dbb7f\" class=\"colab-df-container\">\n",
              "    <div>\n",
              "<style scoped>\n",
              "    .dataframe tbody tr th:only-of-type {\n",
              "        vertical-align: middle;\n",
              "    }\n",
              "\n",
              "    .dataframe tbody tr th {\n",
              "        vertical-align: top;\n",
              "    }\n",
              "\n",
              "    .dataframe thead th {\n",
              "        text-align: right;\n",
              "    }\n",
              "</style>\n",
              "<table border=\"1\" class=\"dataframe\">\n",
              "  <thead>\n",
              "    <tr style=\"text-align: right;\">\n",
              "      <th></th>\n",
              "      <th>article_category</th>\n",
              "      <th>content</th>\n",
              "    </tr>\n",
              "  </thead>\n",
              "  <tbody>\n",
              "    <tr>\n",
              "      <th>0</th>\n",
              "      <td>Etat</td>\n",
              "      <td>Die ARD-Tochter Degeto hat sich verpflichtet, ...</td>\n",
              "    </tr>\n",
              "    <tr>\n",
              "      <th>1</th>\n",
              "      <td>Etat</td>\n",
              "      <td>App sei nicht so angenommen worden wie geplant...</td>\n",
              "    </tr>\n",
              "    <tr>\n",
              "      <th>2</th>\n",
              "      <td>Etat</td>\n",
              "      <td>Mitarbeiter überreichten Eigentümervertretern ...</td>\n",
              "    </tr>\n",
              "    <tr>\n",
              "      <th>3</th>\n",
              "      <td>Etat</td>\n",
              "      <td>Service: Jobwechsel in der Kommunikationsbranc...</td>\n",
              "    </tr>\n",
              "    <tr>\n",
              "      <th>4</th>\n",
              "      <td>Etat</td>\n",
              "      <td>Was Sie über diese Woche wissen sollten - und ...</td>\n",
              "    </tr>\n",
              "    <tr>\n",
              "      <th>...</th>\n",
              "      <td>...</td>\n",
              "      <td>...</td>\n",
              "    </tr>\n",
              "    <tr>\n",
              "      <th>9571</th>\n",
              "      <td>Wissenschaft</td>\n",
              "      <td>Die Fundstelle in Südengland ist Unesco-Weltku...</td>\n",
              "    </tr>\n",
              "    <tr>\n",
              "      <th>9572</th>\n",
              "      <td>Wissenschaft</td>\n",
              "      <td>Im Team arbeitet auch ein Inspektor der sudane...</td>\n",
              "    </tr>\n",
              "    <tr>\n",
              "      <th>9573</th>\n",
              "      <td>Wissenschaft</td>\n",
              "      <td>Die zentrale Frage des Projekts: Siedelten Ägy...</td>\n",
              "    </tr>\n",
              "    <tr>\n",
              "      <th>9574</th>\n",
              "      <td>Wissenschaft</td>\n",
              "      <td>Klimatische Verschlechterungen dürften zur Auf...</td>\n",
              "    </tr>\n",
              "    <tr>\n",
              "      <th>9575</th>\n",
              "      <td>Wissenschaft</td>\n",
              "      <td>Knochen können zum Verständnis des Lebens in d...</td>\n",
              "    </tr>\n",
              "  </tbody>\n",
              "</table>\n",
              "<p>9576 rows × 2 columns</p>\n",
              "</div>\n",
              "    <div class=\"colab-df-buttons\">\n",
              "\n",
              "  <div class=\"colab-df-container\">\n",
              "    <button class=\"colab-df-convert\" onclick=\"convertToInteractive('df-e9e4270c-064d-4dc3-a6d4-7746ea5dbb7f')\"\n",
              "            title=\"Convert this dataframe to an interactive table.\"\n",
              "            style=\"display:none;\">\n",
              "\n",
              "  <svg xmlns=\"http://www.w3.org/2000/svg\" height=\"24px\" viewBox=\"0 -960 960 960\">\n",
              "    <path d=\"M120-120v-720h720v720H120Zm60-500h600v-160H180v160Zm220 220h160v-160H400v160Zm0 220h160v-160H400v160ZM180-400h160v-160H180v160Zm440 0h160v-160H620v160ZM180-180h160v-160H180v160Zm440 0h160v-160H620v160Z\"/>\n",
              "  </svg>\n",
              "    </button>\n",
              "\n",
              "  <style>\n",
              "    .colab-df-container {\n",
              "      display:flex;\n",
              "      gap: 12px;\n",
              "    }\n",
              "\n",
              "    .colab-df-convert {\n",
              "      background-color: #E8F0FE;\n",
              "      border: none;\n",
              "      border-radius: 50%;\n",
              "      cursor: pointer;\n",
              "      display: none;\n",
              "      fill: #1967D2;\n",
              "      height: 32px;\n",
              "      padding: 0 0 0 0;\n",
              "      width: 32px;\n",
              "    }\n",
              "\n",
              "    .colab-df-convert:hover {\n",
              "      background-color: #E2EBFA;\n",
              "      box-shadow: 0px 1px 2px rgba(60, 64, 67, 0.3), 0px 1px 3px 1px rgba(60, 64, 67, 0.15);\n",
              "      fill: #174EA6;\n",
              "    }\n",
              "\n",
              "    .colab-df-buttons div {\n",
              "      margin-bottom: 4px;\n",
              "    }\n",
              "\n",
              "    [theme=dark] .colab-df-convert {\n",
              "      background-color: #3B4455;\n",
              "      fill: #D2E3FC;\n",
              "    }\n",
              "\n",
              "    [theme=dark] .colab-df-convert:hover {\n",
              "      background-color: #434B5C;\n",
              "      box-shadow: 0px 1px 3px 1px rgba(0, 0, 0, 0.15);\n",
              "      filter: drop-shadow(0px 1px 2px rgba(0, 0, 0, 0.3));\n",
              "      fill: #FFFFFF;\n",
              "    }\n",
              "  </style>\n",
              "\n",
              "    <script>\n",
              "      const buttonEl =\n",
              "        document.querySelector('#df-e9e4270c-064d-4dc3-a6d4-7746ea5dbb7f button.colab-df-convert');\n",
              "      buttonEl.style.display =\n",
              "        google.colab.kernel.accessAllowed ? 'block' : 'none';\n",
              "\n",
              "      async function convertToInteractive(key) {\n",
              "        const element = document.querySelector('#df-e9e4270c-064d-4dc3-a6d4-7746ea5dbb7f');\n",
              "        const dataTable =\n",
              "          await google.colab.kernel.invokeFunction('convertToInteractive',\n",
              "                                                    [key], {});\n",
              "        if (!dataTable) return;\n",
              "\n",
              "        const docLinkHtml = 'Like what you see? Visit the ' +\n",
              "          '<a target=\"_blank\" href=https://colab.research.google.com/notebooks/data_table.ipynb>data table notebook</a>'\n",
              "          + ' to learn more about interactive tables.';\n",
              "        element.innerHTML = '';\n",
              "        dataTable['output_type'] = 'display_data';\n",
              "        await google.colab.output.renderOutput(dataTable, element);\n",
              "        const docLink = document.createElement('div');\n",
              "        docLink.innerHTML = docLinkHtml;\n",
              "        element.appendChild(docLink);\n",
              "      }\n",
              "    </script>\n",
              "  </div>\n",
              "\n",
              "\n",
              "<div id=\"df-c00cc0ee-2dbb-4a0b-9cf2-412622b7cf6b\">\n",
              "  <button class=\"colab-df-quickchart\" onclick=\"quickchart('df-c00cc0ee-2dbb-4a0b-9cf2-412622b7cf6b')\"\n",
              "            title=\"Suggest charts\"\n",
              "            style=\"display:none;\">\n",
              "\n",
              "<svg xmlns=\"http://www.w3.org/2000/svg\" height=\"24px\"viewBox=\"0 0 24 24\"\n",
              "     width=\"24px\">\n",
              "    <g>\n",
              "        <path d=\"M19 3H5c-1.1 0-2 .9-2 2v14c0 1.1.9 2 2 2h14c1.1 0 2-.9 2-2V5c0-1.1-.9-2-2-2zM9 17H7v-7h2v7zm4 0h-2V7h2v10zm4 0h-2v-4h2v4z\"/>\n",
              "    </g>\n",
              "</svg>\n",
              "  </button>\n",
              "\n",
              "<style>\n",
              "  .colab-df-quickchart {\n",
              "      --bg-color: #E8F0FE;\n",
              "      --fill-color: #1967D2;\n",
              "      --hover-bg-color: #E2EBFA;\n",
              "      --hover-fill-color: #174EA6;\n",
              "      --disabled-fill-color: #AAA;\n",
              "      --disabled-bg-color: #DDD;\n",
              "  }\n",
              "\n",
              "  [theme=dark] .colab-df-quickchart {\n",
              "      --bg-color: #3B4455;\n",
              "      --fill-color: #D2E3FC;\n",
              "      --hover-bg-color: #434B5C;\n",
              "      --hover-fill-color: #FFFFFF;\n",
              "      --disabled-bg-color: #3B4455;\n",
              "      --disabled-fill-color: #666;\n",
              "  }\n",
              "\n",
              "  .colab-df-quickchart {\n",
              "    background-color: var(--bg-color);\n",
              "    border: none;\n",
              "    border-radius: 50%;\n",
              "    cursor: pointer;\n",
              "    display: none;\n",
              "    fill: var(--fill-color);\n",
              "    height: 32px;\n",
              "    padding: 0;\n",
              "    width: 32px;\n",
              "  }\n",
              "\n",
              "  .colab-df-quickchart:hover {\n",
              "    background-color: var(--hover-bg-color);\n",
              "    box-shadow: 0 1px 2px rgba(60, 64, 67, 0.3), 0 1px 3px 1px rgba(60, 64, 67, 0.15);\n",
              "    fill: var(--button-hover-fill-color);\n",
              "  }\n",
              "\n",
              "  .colab-df-quickchart-complete:disabled,\n",
              "  .colab-df-quickchart-complete:disabled:hover {\n",
              "    background-color: var(--disabled-bg-color);\n",
              "    fill: var(--disabled-fill-color);\n",
              "    box-shadow: none;\n",
              "  }\n",
              "\n",
              "  .colab-df-spinner {\n",
              "    border: 2px solid var(--fill-color);\n",
              "    border-color: transparent;\n",
              "    border-bottom-color: var(--fill-color);\n",
              "    animation:\n",
              "      spin 1s steps(1) infinite;\n",
              "  }\n",
              "\n",
              "  @keyframes spin {\n",
              "    0% {\n",
              "      border-color: transparent;\n",
              "      border-bottom-color: var(--fill-color);\n",
              "      border-left-color: var(--fill-color);\n",
              "    }\n",
              "    20% {\n",
              "      border-color: transparent;\n",
              "      border-left-color: var(--fill-color);\n",
              "      border-top-color: var(--fill-color);\n",
              "    }\n",
              "    30% {\n",
              "      border-color: transparent;\n",
              "      border-left-color: var(--fill-color);\n",
              "      border-top-color: var(--fill-color);\n",
              "      border-right-color: var(--fill-color);\n",
              "    }\n",
              "    40% {\n",
              "      border-color: transparent;\n",
              "      border-right-color: var(--fill-color);\n",
              "      border-top-color: var(--fill-color);\n",
              "    }\n",
              "    60% {\n",
              "      border-color: transparent;\n",
              "      border-right-color: var(--fill-color);\n",
              "    }\n",
              "    80% {\n",
              "      border-color: transparent;\n",
              "      border-right-color: var(--fill-color);\n",
              "      border-bottom-color: var(--fill-color);\n",
              "    }\n",
              "    90% {\n",
              "      border-color: transparent;\n",
              "      border-bottom-color: var(--fill-color);\n",
              "    }\n",
              "  }\n",
              "</style>\n",
              "\n",
              "  <script>\n",
              "    async function quickchart(key) {\n",
              "      const quickchartButtonEl =\n",
              "        document.querySelector('#' + key + ' button');\n",
              "      quickchartButtonEl.disabled = true;  // To prevent multiple clicks.\n",
              "      quickchartButtonEl.classList.add('colab-df-spinner');\n",
              "      try {\n",
              "        const charts = await google.colab.kernel.invokeFunction(\n",
              "            'suggestCharts', [key], {});\n",
              "      } catch (error) {\n",
              "        console.error('Error during call to suggestCharts:', error);\n",
              "      }\n",
              "      quickchartButtonEl.classList.remove('colab-df-spinner');\n",
              "      quickchartButtonEl.classList.add('colab-df-quickchart-complete');\n",
              "    }\n",
              "    (() => {\n",
              "      let quickchartButtonEl =\n",
              "        document.querySelector('#df-c00cc0ee-2dbb-4a0b-9cf2-412622b7cf6b button');\n",
              "      quickchartButtonEl.style.display =\n",
              "        google.colab.kernel.accessAllowed ? 'block' : 'none';\n",
              "    })();\n",
              "  </script>\n",
              "</div>\n",
              "\n",
              "  <div id=\"id_48ca4eba-e3ed-4bcd-8efd-68c18facc4ec\">\n",
              "    <style>\n",
              "      .colab-df-generate {\n",
              "        background-color: #E8F0FE;\n",
              "        border: none;\n",
              "        border-radius: 50%;\n",
              "        cursor: pointer;\n",
              "        display: none;\n",
              "        fill: #1967D2;\n",
              "        height: 32px;\n",
              "        padding: 0 0 0 0;\n",
              "        width: 32px;\n",
              "      }\n",
              "\n",
              "      .colab-df-generate:hover {\n",
              "        background-color: #E2EBFA;\n",
              "        box-shadow: 0px 1px 2px rgba(60, 64, 67, 0.3), 0px 1px 3px 1px rgba(60, 64, 67, 0.15);\n",
              "        fill: #174EA6;\n",
              "      }\n",
              "\n",
              "      [theme=dark] .colab-df-generate {\n",
              "        background-color: #3B4455;\n",
              "        fill: #D2E3FC;\n",
              "      }\n",
              "\n",
              "      [theme=dark] .colab-df-generate:hover {\n",
              "        background-color: #434B5C;\n",
              "        box-shadow: 0px 1px 3px 1px rgba(0, 0, 0, 0.15);\n",
              "        filter: drop-shadow(0px 1px 2px rgba(0, 0, 0, 0.3));\n",
              "        fill: #FFFFFF;\n",
              "      }\n",
              "    </style>\n",
              "    <button class=\"colab-df-generate\" onclick=\"generateWithVariable('df_articles')\"\n",
              "            title=\"Generate code using this dataframe.\"\n",
              "            style=\"display:none;\">\n",
              "\n",
              "  <svg xmlns=\"http://www.w3.org/2000/svg\" height=\"24px\"viewBox=\"0 0 24 24\"\n",
              "       width=\"24px\">\n",
              "    <path d=\"M7,19H8.4L18.45,9,17,7.55,7,17.6ZM5,21V16.75L18.45,3.32a2,2,0,0,1,2.83,0l1.4,1.43a1.91,1.91,0,0,1,.58,1.4,1.91,1.91,0,0,1-.58,1.4L9.25,21ZM18.45,9,17,7.55Zm-12,3A5.31,5.31,0,0,0,4.9,8.1,5.31,5.31,0,0,0,1,6.5,5.31,5.31,0,0,0,4.9,4.9,5.31,5.31,0,0,0,6.5,1,5.31,5.31,0,0,0,8.1,4.9,5.31,5.31,0,0,0,12,6.5,5.46,5.46,0,0,0,6.5,12Z\"/>\n",
              "  </svg>\n",
              "    </button>\n",
              "    <script>\n",
              "      (() => {\n",
              "      const buttonEl =\n",
              "        document.querySelector('#id_48ca4eba-e3ed-4bcd-8efd-68c18facc4ec button.colab-df-generate');\n",
              "      buttonEl.style.display =\n",
              "        google.colab.kernel.accessAllowed ? 'block' : 'none';\n",
              "\n",
              "      buttonEl.onclick = () => {\n",
              "        google.colab.notebook.generateWithVariable('df_articles');\n",
              "      }\n",
              "      })();\n",
              "    </script>\n",
              "  </div>\n",
              "\n",
              "    </div>\n",
              "  </div>\n"
            ],
            "application/vnd.google.colaboratory.intrinsic+json": {
              "type": "dataframe",
              "variable_name": "df_articles",
              "summary": "{\n  \"name\": \"df_articles\",\n  \"rows\": 9576,\n  \"fields\": [\n    {\n      \"column\": \"article_category\",\n      \"properties\": {\n        \"dtype\": \"category\",\n        \"num_unique_values\": 9,\n        \"samples\": [\n          \"Wirtschaft\",\n          \"Inland\",\n          \"Sport\"\n        ],\n        \"semantic_type\": \"\",\n        \"description\": \"\"\n      }\n    },\n    {\n      \"column\": \"content\",\n      \"properties\": {\n        \"dtype\": \"string\",\n        \"num_unique_values\": 9574,\n        \"samples\": [\n          \"Von dem E3-Showdeb\\u00fct des US-Herstellers kann sich die Branche eine Scheibe abschneiden. Es war Bethesdas erste eigene E3-Pressekonferenz und den Reaktionen der Journalisten und Zuseher zufolge hat der US-Herausgeber bei seinem Show-Deb\\u00fct sehr viel richtig gemacht. Erstmals in der Unternehmsgeschichte b\\u00fcndelte man seine prestigetr\\u00e4chtigen Kernmarken, um den Fans und der Konkurrenz zu zeigen, dass die Spielwelt mit einem weiteren Schwergewicht zu rechnen hat. Gleichzeitig machte der privat gef\\u00fchrte Mutterkonzern Zenimax damit ein klares Zugest\\u00e4ndnis zum teuren und in den letzten Jahren von vielen Branchenfehlschl\\u00e4gen gezeichneten AAA-Segment. Einerseits beeindruckte Bethesda mit einem ambitioniert angelegten Fahrplan, der in den folgenden 12 Monaten bis Ende Fr\\u00fchjahr 2016 die Ver\\u00f6ffentlichung von gleich drei Blockbustern vorsieht: Fallout 4, Doom und Dishonored 2. Jedes dieser Games wurde auf der E3 pr\\u00e4sentiert und bedient ein Millionenpublikum eingeschworener Fans. Andererseits ist es erfreulich zu sehen, dass es neben den wenigen Milliardenkonzernen rund um Activision und EA noch private Hersteller gibt, die ihr Kapital vorrangig in Hochglanzproduktionen investieren und auch daran festhalten. In Zeiten, in denen (einstige) Kolosse wie Konami oder Sega vom Zukunftsmarkt Mobile schw\\u00e4rmen, b\\u00f6rsennotierte Big Player ihre Franchises nach Gesch\\u00e4ftsquartalen richten und einander mit Marketingmillionen \\u00fcberbieten, ist dies alles andere als eine Selbstverst\\u00e4ndlichkeit. Mit der Vorstellungen des neuen Doom, eine moderne Interpretation des 1993 erschienenen Kult-Shooters, beweist Bethesda zudem, dass es gewillt ist, seinen Marken Zeit zu geben. Das mehrfach verschobene Projekt wurde vor ein paar Jahren komplett neu angefangen, nachdem die Produktion den internen Erwartungen des Studios id Software nicht gerecht wurde. Eine kostspielige Entscheidung, die jedoch sicherstellen sollte, dass derart wertvolle Marken langfristig nicht an Ansehen und Popularit\\u00e4t verlieren. Gleiches gilt f\\u00fcr Bethesdas andere Schl\\u00fcsselfranchises: Fallout 4 erscheint sage und schreibe sieben Jahre nach Teil 3 und der 2012 erschienene \\u00dcberraschungshit Dishonored wird erst vier Jahre sp\\u00e4ter eine Fortsetzung erhalten. Nach den heutigen Ma\\u00dfst\\u00e4ben annualisierter Spieleserien eine kleine Ewigkeit, die nicht gerade nach Profitmaximierung schreit. Und so aufregend es war, nach vielen Jahren einen neuen Big Player im Rampenlicht der E3 zu sehen, so beruhigt es als Videospielfan umso mehr, dass eine Wiederholung des Bethesda-Spektakels im n\\u00e4chsten Jahr alles andere als sicher ist. Denn w\\u00e4hrend nicht nur die eine oder andere vergangene Pressekonferenz mit farblosen L\\u00fcckenf\\u00fcllern oder leeren Ank\\u00fcndigungen nicht einmal Jahre sp\\u00e4ter erschienener oder auch wieder eingestellter Games gespickt war, hat Bethesda solange geschwiegen, bis es etwas Handfestes zu zeigen hatte. Auch davon kann sich die Branche eine Scheibe abschneiden.\",\n          \"Domain wieder erreichbar \\u2013 Unternehmen verweist auf IT-Probleme. Bei den \\u00d6BB hat eine Zugangs-Sperre bei Computern des Unternehmens f\\u00fcr die Internetseite norberthofer.at f\\u00fcr Aufregung gesorgt. Wie die Krone berichtete, konnte die Website von FP\\u00d6-Kandidat Norbert Hofer von Tausenden Computern der \\u00d6BB aus tagelang nicht aufgerufen werden \\u2013 jene von Alexander Van der Bellen (vanderbellen.at) hingegen schon. FP\\u00d6-Abgeordneter Christian H\\u00f6bart sprach von einer Frechheit. Die \\u00d6BB-Generaldirektion dementierte den Versuch einer politischen Beeinflussung: Die Ursache f\\u00fcr die Sperre war ein Fehler unseres IT-Lieferanten. Da diese Domain nicht unmittelbar nach ihrer Reservierung mit Inhalt bef\\u00fcllt war, wurde sie weggefiltert, zitierte die Krone ein entsprechendes Schreiben. Kurz nach der Anfrage der Zeitung war die Domain norberthofer.at von \\u00d6BB-PCs wieder erreichbar, so der Bericht.\",\n          \"Geb\\u00fcrtiger Bosnier kommt abl\\u00f6sefrei aus Kasachstan. Altach \\u2013 Der SCR Altach hat Mittelst\\u00fcrmer Mihret Topcagic verpflichtet. Der geb\\u00fcrtige Bosnier mit \\u00f6sterreichischer Staatsb\\u00fcrgerschaft spielte zuletzt zwei Jahre f\\u00fcr den kasachischen Klub Schachtjor Karagandy, er kommt abl\\u00f6sefrei. In Vorarlberg erh\\u00e4lt der 27-J\\u00e4hrige einen Vertrag bis Sommer 2017. Er hat beim WAC und bei der Admira bereits Bundesliga-Erfahrung gesammelt.\"\n        ],\n        \"semantic_type\": \"\",\n        \"description\": \"\"\n      }\n    }\n  ]\n}"
            }
          },
          "metadata": {},
          "execution_count": 4
        }
      ]
    },
    {
      "cell_type": "markdown",
      "source": [
        "Our corpus contains 9 categories, as seen below.  \n",
        "However, our plan now is to **ignore them**, and instead, use an **un**supervised algorithm to deduct the topics only by the articles content.   \n",
        "Or in other words: we will *cluster* those documents based on their content."
      ],
      "metadata": {
        "id": "eJtNm2v7V38-"
      }
    },
    {
      "cell_type": "code",
      "source": [
        "df_articles['article_category'].cat.categories"
      ],
      "metadata": {
        "colab": {
          "base_uri": "https://localhost:8080/"
        },
        "id": "KGgnGvdLVLkh",
        "outputId": "9b08160f-f509-4f2c-ffb6-34a8c8b5311a"
      },
      "execution_count": 5,
      "outputs": [
        {
          "output_type": "execute_result",
          "data": {
            "text/plain": [
              "Index(['Etat', 'Inland', 'International', 'Kultur', 'Panorama', 'Sport', 'Web',\n",
              "       'Wirtschaft', 'Wissenschaft'],\n",
              "      dtype='object')"
            ]
          },
          "metadata": {},
          "execution_count": 5
        }
      ]
    },
    {
      "cell_type": "markdown",
      "metadata": {
        "id": "lMnZgp90-Y7R"
      },
      "source": [
        "# Clustering with Latent Dirichlet Allocation (LDA)"
      ]
    },
    {
      "cell_type": "markdown",
      "metadata": {
        "id": "uvF0AlS6-dqA"
      },
      "source": [
        "## Introduction\n",
        "\n",
        "We start by clustering our data as an unsupervised learning task: **topic modeling**.\n",
        "\n",
        "There are many different methods to cluster documents. One of these methods is *topic modeling* - where an algorithm assigns a *topic* to each document and clusters these documents by these topics.\n",
        "\n",
        "Documents can be represented as a distribution of their words: their occurrences and frequencies. A set of words, which are relatively not frequent but are common to several documents, can express a document topic.  \n",
        "For example, suppose we locate documents with the words 'Android', 'OnePlus' and 'iPhone' in them. Based on the frequency of these words, we could assume that these documents are related to mobile phones.\n",
        "\n",
        "[Dirichlet](https://en.wikipedia.org/wiki/Dirichlet_distribution) is a distribution on probability distributions. In other words, it can handle the frequency of which a set of words appear (which have by themselves, each one, a frequency).\n",
        "\n",
        "For a deeper mathematical explanation of this distribution, watch this recommended video: https://www.youtube.com/watch?v=nfBNOWv1pgE"
      ]
    },
    {
      "cell_type": "code",
      "source": [
        "YouTubeVideo('nfBNOWv1pgE')"
      ],
      "metadata": {
        "colab": {
          "base_uri": "https://localhost:8080/",
          "height": 321
        },
        "id": "tHzU2nNmpKbp",
        "outputId": "c391569e-cf05-4561-e1bf-3383219caa03"
      },
      "execution_count": null,
      "outputs": [
        {
          "output_type": "execute_result",
          "data": {
            "text/plain": [
              "<IPython.lib.display.YouTubeVideo at 0x7dd8a9713dc0>"
            ],
            "text/html": [
              "\n",
              "        <iframe\n",
              "            width=\"400\"\n",
              "            height=\"300\"\n",
              "            src=\"https://www.youtube.com/embed/nfBNOWv1pgE\"\n",
              "            frameborder=\"0\"\n",
              "            allowfullscreen\n",
              "            \n",
              "        ></iframe>\n",
              "        "
            ],
            "image/jpeg": "[encoded data removed]"
          },
          "metadata": {},
          "execution_count": 5
        }
      ]
    },
    {
      "cell_type": "markdown",
      "source": [
        "LDA is an unsupervised algorithm that assigns topics to every document. These topics are described as a set of words.  \n",
        "Each document can contain several topics - more than just one topic.  \n",
        "For example, some article about Apple can be 80% mobile phones and 20% about business innovations or income.\n",
        "\n",
        "The [LDA paper](https://www.jmlr.org/papers/volume3/blei03a/blei03a.pdf) is a milestone in NLP and one of the recommended readings.\n",
        "\n",
        "If you're interested to learn more about the algorithm method, watch this video: https://www.youtube.com/watch?v=DWJYZq_fQ2A."
      ],
      "metadata": {
        "id": "EtlPh-CJpiM2"
      }
    },
    {
      "cell_type": "code",
      "source": [
        "YouTubeVideo('DWJYZq_fQ2A')"
      ],
      "metadata": {
        "colab": {
          "base_uri": "https://localhost:8080/",
          "height": 321
        },
        "id": "1x0Hfl2LpmQ0",
        "outputId": "fe9027fd-3a59-4eec-a2e4-ed03454ff04d"
      },
      "execution_count": null,
      "outputs": [
        {
          "output_type": "execute_result",
          "data": {
            "text/plain": [
              "<IPython.lib.display.YouTubeVideo at 0x7dd8a9711b10>"
            ],
            "text/html": [
              "\n",
              "        <iframe\n",
              "            width=\"400\"\n",
              "            height=\"300\"\n",
              "            src=\"https://www.youtube.com/embed/DWJYZq_fQ2A\"\n",
              "            frameborder=\"0\"\n",
              "            allowfullscreen\n",
              "            \n",
              "        ></iframe>\n",
              "        "
            ],
            "image/jpeg": "[encoded data removed]"
          },
          "metadata": {},
          "execution_count": 6
        }
      ]
    },
    {
      "cell_type": "markdown",
      "source": [
        "Now, let's examine our German data set with LDA:"
      ],
      "metadata": {
        "id": "nXYgZ4M9plG8"
      }
    },
    {
      "cell_type": "markdown",
      "metadata": {
        "id": "ZjX33ZXRfsM4"
      },
      "source": [
        "In previous exercises, you got to know NLTK.\n",
        "\n",
        "### Stemming\n",
        "Here we will also use NLTK's methods of **stemming** the words. By returning to the root of the word, its stem, we reduce the dimensionality: the number of words in the vocabulary decreases. For example, instead of having different words for the singular and plural form - 'word' <--> 'words' or 'Kanzler', 'Kanzlers', 'Kanzlei', etc., we trim those words into 'Kanzl'. Hence we can reduce the size of the vocabulary by at least half.\n",
        "\n",
        "### Stop Words\n",
        "We will also remove `stopwords` from our text. In English, words such as: `a`, `an`, and `the` will be removed, as they don't add much to the meaning of the sentence. For each language, there is a different curated list of such words, and NLTK is a great source for those.\n",
        "\n",
        "### GenSim\n",
        "In this exercise, you'll be introduced to another package, specialized in topic modeling, called `gensim`:\n",
        "https://radimrehurek.com/gensim/\n",
        "\n"
      ]
    },
    {
      "cell_type": "code",
      "source": [
        "%pip install -U gensim --quiet"
      ],
      "metadata": {
        "id": "wXiy7e3wvTfP"
      },
      "execution_count": 6,
      "outputs": []
    },
    {
      "cell_type": "code",
      "metadata": {
        "id": "dA1Ek-yR4BBG"
      },
      "source": [
        "from pprint import pprint # for printing objects nicely\n",
        "\n",
        "from gensim import corpora, models\n",
        "from gensim.utils import simple_preprocess\n",
        "\n",
        "## Instead of the gensim English stopwords...\n",
        "# from gensim.parsing.preprocessing import STOPWORDS\n",
        "## ...we use nltk's German stopwords:\n",
        "from nltk.corpus import stopwords\n",
        "\n",
        "from nltk.stem.snowball import SnowballStemmer\n",
        "from nltk.stem.porter import *\n",
        "\n",
        "import numpy as np\n",
        "\n",
        "from random import choice\n",
        "\n",
        "np.random.seed(1234)"
      ],
      "execution_count": 7,
      "outputs": []
    },
    {
      "cell_type": "code",
      "source": [
        "# Initialize the Stemmers\n",
        "stemmer = SnowballStemmer('german')\n",
        "german_stop_words = set(stopwords.words('german'))\n",
        "\n",
        "\n",
        "def lemmatize_stemming(text):\n",
        "  \"\"\"lemmatize and stem a word\"\"\"\n",
        "  return stemmer.stem(text)\n",
        "\n",
        "\n",
        "def preprocess(text):\n",
        "  \"\"\"lemmatize and remove stopwords\"\"\"\n",
        "  result = [lemmatize_stemming(token)\n",
        "            for token in simple_preprocess(text)\n",
        "            if token not in german_stop_words and len(token) > 3]\n",
        "  return result\n"
      ],
      "metadata": {
        "id": "2zkoH-LZjmg6"
      },
      "execution_count": 8,
      "outputs": []
    },
    {
      "cell_type": "markdown",
      "metadata": {
        "id": "H9FeFqUmk7hJ"
      },
      "source": [
        "In our DataFrame, we have a table contains the articles and their topics.\n",
        "\n",
        "We only need the articles for this tasks - we will create our own topics. So, let's start by converting the articles column into a ist of all the articles:"
      ]
    },
    {
      "cell_type": "code",
      "metadata": {
        "id": "5Yk3kIqSjY6C",
        "outputId": "2f560d5d-4d22-4d24-b7a5-e958c10ef786",
        "colab": {
          "base_uri": "https://localhost:8080/"
        }
      },
      "source": [
        "all_articles = df_articles['content'].to_list()\n",
        "all_articles[:5]"
      ],
      "execution_count": 9,
      "outputs": [
        {
          "output_type": "execute_result",
          "data": {
            "text/plain": [
              "['Die ARD-Tochter Degeto hat sich verpflichtet, ab August einer Quotenregelung zu folgen, die für die Gleichstellung von Regisseurinnen sorgen soll. In mindestens 20 Prozent der Filme, die die ARD-Tochter Degeto produziert oder mitfinanziert, sollen ab Mitte August Frauen Regie führen. Degeto-Chefin Christine Strobl folgt mit dieser Selbstverpflichtung der Forderung von Pro Quote Regie. Die Vereinigung von Regisseurinnen hatte im vergangenen Jahr eine Quotenregelung gefordert, um den weiblichen Filmschaffenden mehr Gehör und ökonomische Gleichstellung zu verschaffen. Pro Quote Regie kritisiert, dass, während rund 50 Prozent der Regie-Studierenden weiblich seien, der Anteil der Regisseurinnen bei Fernsehfilmen nur bei 13 bis 15 Prozent liege. In Österreich sieht die Situation ähnlich aus, auch hier wird von unterschiedlichen Seiten Handlungsbedarf angemahnt. Aber wie soll dieser aussehen? Ist die Einführung der Quotenregelung auch für die österreichische Film- und Fernsehlandschaft sinnvoll? Diskutieren Sie im Forum.',\n",
              " 'App sei nicht so angenommen worden wie geplant. Wegen zu geringer Nutzung schaltet Spiegel Online nach zwei Jahren die Fußball-App aus, die App sei nicht so genutzt worden, wie man sich das vorgestellt habe. Dafür soll der Live-Fußball-Bereich in der News-App ausgebaut werden.',\n",
              " 'Mitarbeiter überreichten Eigentümervertretern Petition gegen Personalabbau. Wien – Mehrere hundert APA-Mitarbeiter haben laut dem Betriebsrat eine Resolution unterschrieben, die am Mittwoch den Eigentümervertretern übergeben wurde. Inhalt ist ein deutlicher Protest gegen den geplanten Personalabbau (DER STANDARD berichtete) und für eine Gleichstellung der Mitarbeiter von APA-Tochterunternehmen bei automatischen Gehaltsanpassungen. Ich lehne erneute Personalkürzungen oder gar Kündigungen, wie sie derzeit insbesondere in der Redaktion geplant sind, ab und unterstütze die Forderung nach einer verpflichtenden Weitergabe der jährlichen Ist-Erhöhung der Gehälter für alle MitarbeiterInnen der APA-Gruppe, heißt es in der Resolution. Sie wurde den Teilnehmern von Aufsichtsrats- und Vorstandssitzung von denen der zeitgleich stattfindenden Betriebsversammlung übergeben. Hauptkritikpunkt der Belegschaft ist, dass Sparmaßnahmen angekündigt würden, obwohl die APA seit Jahren Gewinne schreibe. Die als Genossenschaft organisierte Agentur gehört zu 45 Prozent dem ORF, den Rest teilen sich 13 Tageszeitungen. Ihnen wirft der Betriebsrat vor, Gewinne einzustreifen und gleichzeitig Sparprogramme zu verordnen. Peter Kropsch, Vorsitzender der APA-Geschäftsführung, versteht die Aufregung nicht vollends. Die APA sei ein gewinnorientiertes Unternehmen, das auch in Zukunft stabil aufgestellt sein müsse, sagt er zum STANDARD. Der Betriebsrat glaubt, dass man die Kosten einfach unbegrenzt weiterlaufen lassen kann, so Kropsch. Für 2016 steige das Personalbudget sogar, allerdings würden automatische Gehaltserhöhungen die Kosten für den einzelnen Mitarbeiter steigen lassen. Ob die APA die Qualität auch mit weniger Mitarbeitern aufrechterhalten könne? Na klar, sagt Kropsch – unter vergleichbaren Agenturen in Europa sei man am breitesten aufgestellt, da habe ich keine Angst. Persönlich habe er außerdem nur eine geringe Beteiligung an der Betriebsversammlung wahrgenommen.',\n",
              " 'Service: Jobwechsel in der Kommunikationsbranche im Überblick. Hier liefert derStandard.at/Etat Jobwechsel in der Kommunikationsbranche im Überblick. Grob sortiert nach Kalenderwochen, in denen die Infos einlangten. Quellen: Presse- und eigene Infos, andere Branchendienste wie Horizont.at und medianet.at. Wenn Sie Infos für uns haben, bitte ein Mail an etat@derstandard.at schicken. Woche 15 / 2017 Woche 14 / 2017 Woche 13 / 2017 Woche 12 / 2017 Woche 9 / 2017 Woche 8 / 2017 Woche 7 / 2017 Spannende neue Aufgaben voraus: ich mach ab Februar die Nachrichten auf @kurierat. Ich freu mich auch. https://t.co/0zC6EsrXe3 Woche 2 / 2017 Freu mich: Die ausgezeichnete Journalistin Münire Inam vom #ORFreport moderiert (alternierend mit Martina Rupp) ab 23.1. heute konkret! Wie es im kommenden Jahr weitergeht, lasse ich euch bald wissen. Es warten spannende neue Herausforderungen. Woche 45 / 2016 Stefan Huber wechselt von Media in Progress zu content garden technologies und übernimmt den Ausbau der Content Management Unit. Mich interessieren vor allem die Möglichkeiten, die sich aus der Kombination von Content und Technologie ergeben, sagt er.  Woche 43 / 2016 Woche 41 / 2016 Woche 38 / 2016 Woche 37 / 2016 Woche 33 / 2016  Woche 31 / 2016 Woche 30 / 2016 Krone-Anzeigenvermarktung: Thomas Kreuzer leitet die Branchenvermarktung Special Account, Thomas Grojer übernimmt die Regionalleitung Wien und Stammausgabe. Sie folgen in ihren neuen Funktionen Friedrich Dungl nach, der als Geschäftsführer in das Niederösterreichische Pressehaus wechselt. Woche 18 /2016 Vielen Dank! Ich verspreche auch, nicht über die Alpenrepublik und das Schnitzelland zu schreiben. https://t.co/zqj0HXZ7dD Andreas Csar wechselt vom Verband Österreichischer Zeitungen (VÖZ) als Leiter der Presse- und Öffentlichkeitsarbeit zur Stelle des Pressesprechers bei ecoplus (Wirtschaftsagentur des Landes Niederösterreichs). Woche 11 / 2016 Woche 6 / 2016 Woche 5 / 2016 Woche 4 / 2016 Die ÖBB holen Sven Pusswald von der OMV als Leiter der Konzernkommunikation & Public Affairs.',\n",
              " 'Was Sie über diese Woche wissen sollten - und was Sie gleich wieder vergessen können. Wien - Was hat sich diese Woche getan in der Medienwelt? Ist Ihnen da  nichts entgangen? Besser noch einmal durchchecken – im  Etat.at-Wochenquiz. Wir wünschen viel Spaß beim Mitmachen! Und für alle, die vorige Woche nicht so viel Zeit hatten, Medien-Nachrichten zu lesen: ein nützlicher Link.']"
            ]
          },
          "metadata": {},
          "execution_count": 9
        }
      ]
    },
    {
      "cell_type": "markdown",
      "metadata": {
        "id": "LNnJfuDllNhz"
      },
      "source": [
        "## Preprocessing\n",
        "\n",
        "Let's see an example, what happens when we pre-process a document.\n",
        "\n",
        "Look at the output of this cell, and compare the tokenized original document, to the lemmatized document:\n",
        "\n",
        "My observations: The lemmatized (preprocessed) document has fewer unique tokens/words because of the lemmatization, the removal of words of length 3 or shorter, and the removal of stopwords. Every token is in lowercase now. There also aren't any numbers in the lemmatized document anymore."
      ]
    },
    {
      "cell_type": "code",
      "metadata": {
        "id": "oVI6_TKjjm2B",
        "outputId": "81370225-9537-45ee-a7ba-7d43e74fe8d0",
        "colab": {
          "base_uri": "https://localhost:8080/"
        }
      },
      "source": [
        "print('original document: ')\n",
        "article = choice(all_articles)\n",
        "print(article, \"\\n\")\n",
        "\n",
        "# This time, we don't care about punctuations as tokens (Can you think why?): #my guess: because in the preprocess function we omit all words of length 3 or shorter anyway and we lemmatise/stem so punctuation at the end of a word will also be removed.\n",
        "print('original document, broken into words: ')\n",
        "words = [word for word in article.split(' ')]\n",
        "print(words, \"\\n\")\n",
        "print(\"Vocabulary size of the original article:\", len(set(words)))\n",
        "\n",
        "# now let's see what happens when we pass the article into our preprocessing\n",
        "# method:\n",
        "print('\\n\\n tokenized and lemmatized document: ')\n",
        "preprocessed_article = preprocess(article)\n",
        "print(preprocessed_article, '\\n')\n",
        "print(\"Vocabulary size after preprocessing:\", len(set(preprocessed_article)))\n"
      ],
      "execution_count": 10,
      "outputs": [
        {
          "output_type": "stream",
          "name": "stdout",
          "text": [
            "original document: \n",
            "All-Time-High wegen Brüssel-Terrors, \"Dancing Stars\", \"Vorstadtweibern\" und Lugner. Wien – Einen Rekord an Videoabrufen hat die TVthek des ORF im März verzeichnet. Die Livestreams und Video-on-Demand-Angebote wurden laut ORF so intensiv genutzt wie nie zuvor: 25,3 Millionen Videoabrufe wurden im gesamten ORF.at-Netzwerk inklusive TVthek gemessen. Damit wurde der bisherige Spitzenwert vom Februar 2014 (25,1 Millionen) übertroffen. Der neue Rekord geht vor allem auf Sonderereignisse wie die Terroranschläge in Brüssel zurück, nach denen die Infosendungen des ORF stark genutzt wurden, sowie auf die neuen Staffeln der Dancing Stars mit im Schnitt 205.000 On-Demand-Abrufen pro Ausgabe sowie der Vorstandweiber mit durchschnittlich 190.000 Abrufen pro Folge. Die am meisten abgerufene Einzelsendung im März war die Zeit im Bild 2 vom 29. März mit Richard Lugner, die es bisher auf 400.000 Abrufe brachte, rund 200.000 Abrufe davon machte allein das Lugner-Interview aus. Live als auch on demand  Der neue Videoabrufrekord für die ORF-TVthek zeigt den steigenden Bedarf unseres Publikums nach zeit- und ortsunabhängiger Nutzung der ORF-TV-Sendungen – sowohl live als auch on demand. Die ORF-TVthek ist eine wichtige Ergänzung zum klassischen TV-Konsum und kann damit ihre Position als größte österreichische Videoplattform erfolgreich behaupten, sagte ORF-Online-Hauptabteilungsleiter Thomas Prantner. \n",
            "\n",
            "original document, broken into words: \n",
            "['All-Time-High', 'wegen', 'Brüssel-Terrors,', '\"Dancing', 'Stars\",', '\"Vorstadtweibern\"', 'und', 'Lugner.', 'Wien', '–', 'Einen', 'Rekord', 'an', 'Videoabrufen', 'hat', 'die', 'TVthek', 'des', 'ORF', 'im', 'März', 'verzeichnet.', 'Die', 'Livestreams', 'und', 'Video-on-Demand-Angebote', 'wurden', 'laut', 'ORF', 'so', 'intensiv', 'genutzt', 'wie', 'nie', 'zuvor:', '25,3', 'Millionen', 'Videoabrufe', 'wurden', 'im', 'gesamten', 'ORF.at-Netzwerk', 'inklusive', 'TVthek', 'gemessen.', 'Damit', 'wurde', 'der', 'bisherige', 'Spitzenwert', 'vom', 'Februar', '2014', '(25,1', 'Millionen)', 'übertroffen.', 'Der', 'neue', 'Rekord', 'geht', 'vor', 'allem', 'auf', 'Sonderereignisse', 'wie', 'die', 'Terroranschläge', 'in', 'Brüssel', 'zurück,', 'nach', 'denen', 'die', 'Infosendungen', 'des', 'ORF', 'stark', 'genutzt', 'wurden,', 'sowie', 'auf', 'die', 'neuen', 'Staffeln', 'der', 'Dancing', 'Stars', 'mit', 'im', 'Schnitt', '205.000', 'On-Demand-Abrufen', 'pro', 'Ausgabe', 'sowie', 'der', 'Vorstandweiber', 'mit', 'durchschnittlich', '190.000', 'Abrufen', 'pro', 'Folge.', 'Die', 'am', 'meisten', 'abgerufene', 'Einzelsendung', 'im', 'März', 'war', 'die', 'Zeit', 'im', 'Bild', '2', 'vom', '29.', 'März', 'mit', 'Richard', 'Lugner,', 'die', 'es', 'bisher', 'auf', '400.000', 'Abrufe', 'brachte,', 'rund', '200.000', 'Abrufe', 'davon', 'machte', 'allein', 'das', 'Lugner-Interview', 'aus.', 'Live', 'als', 'auch', 'on', 'demand', '', 'Der', 'neue', 'Videoabrufrekord', 'für', 'die', 'ORF-TVthek', 'zeigt', 'den', 'steigenden', 'Bedarf', 'unseres', 'Publikums', 'nach', 'zeit-', 'und', 'ortsunabhängiger', 'Nutzung', 'der', 'ORF-TV-Sendungen', '–', 'sowohl', 'live', 'als', 'auch', 'on', 'demand.', 'Die', 'ORF-TVthek', 'ist', 'eine', 'wichtige', 'Ergänzung', 'zum', 'klassischen', 'TV-Konsum', 'und', 'kann', 'damit', 'ihre', 'Position', 'als', 'größte', 'österreichische', 'Videoplattform', 'erfolgreich', 'behaupten,', 'sagte', 'ORF-Online-Hauptabteilungsleiter', 'Thomas', 'Prantner.'] \n",
            "\n",
            "Vocabulary size of the original article: 149\n",
            "\n",
            "\n",
            " tokenized and lemmatized document: \n",
            "['tim', 'high', 'weg', 'brussel', 'terror', 'dancing', 'star', 'vorstadtweib', 'lugn', 'wien', 'rekord', 'videoabruf', 'tvthek', 'marz', 'verzeichnet', 'livestream', 'video', 'demand', 'angebot', 'wurd', 'laut', 'intensiv', 'genutzt', 'zuvor', 'million', 'videoabruf', 'wurd', 'gesamt', 'netzwerk', 'inklusiv', 'tvthek', 'gemess', 'wurd', 'bisher', 'spitzenwert', 'februar', 'million', 'ubertroff', 'neu', 'rekord', 'geht', 'terroranschlag', 'brussel', 'zuruck', 'den', 'infosend', 'stark', 'genutzt', 'wurd', 'sowi', 'neu', 'staffeln', 'dancing', 'star', 'schnitt', 'demand', 'abruf', 'ausgab', 'sowi', 'vorstandweib', 'abruf', 'folg', 'meist', 'abgeruf', 'einzelsend', 'marz', 'zeit', 'bild', 'marz', 'richard', 'lugn', 'bish', 'abruf', 'bracht', 'rund', 'abruf', 'davon', 'macht', 'allein', 'lugn', 'interview', 'liv', 'demand', 'neu', 'tvthek', 'zeigt', 'steigend', 'bedarf', 'publikum', 'zeit', 'nutzung', 'sendung', 'sowohl', 'liv', 'demand', 'tvthek', 'wichtig', 'erganz', 'klassisch', 'konsum', 'position', 'grosst', 'osterreich', 'videoplattform', 'erfolgreich', 'behaupt', 'sagt', 'onlin', 'thomas', 'prantn'] \n",
            "\n",
            "Vocabulary size after preprocessing: 82\n"
          ]
        }
      ]
    },
    {
      "cell_type": "markdown",
      "metadata": {
        "id": "DDVOwyaIlL52"
      },
      "source": [
        "Now let's pre-process all the documents.  \n",
        "This is a heavy procedure, and may take a bit ;)"
      ]
    },
    {
      "cell_type": "code",
      "metadata": {
        "id": "2pQYw_aYkq-_",
        "outputId": "73e9e144-4eb9-4d9c-8080-2571597e1042",
        "colab": {
          "base_uri": "https://localhost:8080/"
        }
      },
      "source": [
        "processed_docs = list(map(preprocess, all_articles))\n",
        "processed_docs[:10]"
      ],
      "execution_count": 11,
      "outputs": [
        {
          "output_type": "execute_result",
          "data": {
            "text/plain": [
              "[['tocht',\n",
              "  'degeto',\n",
              "  'verpflichtet',\n",
              "  'august',\n",
              "  'quotenregel',\n",
              "  'folg',\n",
              "  'gleichstell',\n",
              "  'regisseurinn',\n",
              "  'sorg',\n",
              "  'mindest',\n",
              "  'prozent',\n",
              "  'film',\n",
              "  'tocht',\n",
              "  'degeto',\n",
              "  'produziert',\n",
              "  'mitfinanziert',\n",
              "  'soll',\n",
              "  'mitt',\n",
              "  'august',\n",
              "  'frau',\n",
              "  'regi',\n",
              "  'fuhr',\n",
              "  'degeto',\n",
              "  'chefin',\n",
              "  'christin',\n",
              "  'strobl',\n",
              "  'folgt',\n",
              "  'forder',\n",
              "  'quot',\n",
              "  'regi',\n",
              "  'verein',\n",
              "  'regisseurinn',\n",
              "  'vergang',\n",
              "  'jahr',\n",
              "  'quotenregel',\n",
              "  'gefordert',\n",
              "  'weiblich',\n",
              "  'filmschaff',\n",
              "  'mehr',\n",
              "  'gehor',\n",
              "  'okonom',\n",
              "  'gleichstell',\n",
              "  'verschaff',\n",
              "  'quot',\n",
              "  'regi',\n",
              "  'kritisiert',\n",
              "  'rund',\n",
              "  'prozent',\n",
              "  'regi',\n",
              "  'studier',\n",
              "  'weiblich',\n",
              "  'seien',\n",
              "  'anteil',\n",
              "  'regisseurinn',\n",
              "  'fernsehfilm',\n",
              "  'prozent',\n",
              "  'lieg',\n",
              "  'osterreich',\n",
              "  'sieht',\n",
              "  'situation',\n",
              "  'ahnlich',\n",
              "  'seit',\n",
              "  'handlungsbedarf',\n",
              "  'angemahnt',\n",
              "  'ausseh',\n",
              "  'einfuhr',\n",
              "  'quotenregel',\n",
              "  'osterreich',\n",
              "  'film',\n",
              "  'sinnvoll',\n",
              "  'diskuti',\n",
              "  'forum'],\n",
              " ['angenomm',\n",
              "  'word',\n",
              "  'geplant',\n",
              "  'weg',\n",
              "  'gering',\n",
              "  'nutzung',\n",
              "  'schaltet',\n",
              "  'spiegel',\n",
              "  'onlin',\n",
              "  'zwei',\n",
              "  'jahr',\n",
              "  'fussball',\n",
              "  'genutzt',\n",
              "  'word',\n",
              "  'vorgestellt',\n",
              "  'dafur',\n",
              "  'liv',\n",
              "  'fussball',\n",
              "  'bereich',\n",
              "  'news',\n",
              "  'ausgebaut'],\n",
              " ['mitarbeit',\n",
              "  'uberreicht',\n",
              "  'petition',\n",
              "  'personalabbau',\n",
              "  'wien',\n",
              "  'mehr',\n",
              "  'hundert',\n",
              "  'mitarbeit',\n",
              "  'laut',\n",
              "  'betriebsrat',\n",
              "  'resolution',\n",
              "  'unterschrieb',\n",
              "  'mittwoch',\n",
              "  'ubergeb',\n",
              "  'wurd',\n",
              "  'inhalt',\n",
              "  'deutlich',\n",
              "  'prot',\n",
              "  'geplant',\n",
              "  'personalabbau',\n",
              "  'standard',\n",
              "  'berichtet',\n",
              "  'gleichstell',\n",
              "  'mitarbeit',\n",
              "  'automat',\n",
              "  'lehn',\n",
              "  'erneut',\n",
              "  'kundig',\n",
              "  'derzeit',\n",
              "  'insbesond',\n",
              "  'redaktion',\n",
              "  'geplant',\n",
              "  'unterstutz',\n",
              "  'forder',\n",
              "  'verpflicht',\n",
              "  'weitergab',\n",
              "  'jahrlich',\n",
              "  'erhoh',\n",
              "  'gehalt',\n",
              "  'grupp',\n",
              "  'heisst',\n",
              "  'resolution',\n",
              "  'wurd',\n",
              "  'teilnehm',\n",
              "  'aufsichtsrat',\n",
              "  'den',\n",
              "  'zeitgleich',\n",
              "  'stattfind',\n",
              "  'ubergeb',\n",
              "  'belegschaft',\n",
              "  'sparmassnahm',\n",
              "  'angekundigt',\n",
              "  'obwohl',\n",
              "  'seit',\n",
              "  'jahr',\n",
              "  'gewinn',\n",
              "  'schreib',\n",
              "  'genossenschaft',\n",
              "  'organisiert',\n",
              "  'agentur',\n",
              "  'gehort',\n",
              "  'prozent',\n",
              "  'rest',\n",
              "  'teil',\n",
              "  'tageszeit',\n",
              "  'wirft',\n",
              "  'betriebsrat',\n",
              "  'gewinn',\n",
              "  'einzustreif',\n",
              "  'gleichzeit',\n",
              "  'sparprogramm',\n",
              "  'verordn',\n",
              "  'pet',\n",
              "  'kropsch',\n",
              "  'vorsitz',\n",
              "  'versteht',\n",
              "  'aufreg',\n",
              "  'vollend',\n",
              "  'unternehm',\n",
              "  'zukunft',\n",
              "  'stabil',\n",
              "  'aufgestellt',\n",
              "  'muss',\n",
              "  'sagt',\n",
              "  'standard',\n",
              "  'betriebsrat',\n",
              "  'glaubt',\n",
              "  'kost',\n",
              "  'einfach',\n",
              "  'unbegrenzt',\n",
              "  'weiterlauf',\n",
              "  'lass',\n",
              "  'kropsch',\n",
              "  'steig',\n",
              "  'personalbudget',\n",
              "  'sogar',\n",
              "  'allerding',\n",
              "  'automat',\n",
              "  'kost',\n",
              "  'einzeln',\n",
              "  'mitarbeit',\n",
              "  'steig',\n",
              "  'lass',\n",
              "  'qualitat',\n",
              "  'wenig',\n",
              "  'mitarbeit',\n",
              "  'konn',\n",
              "  'klar',\n",
              "  'sagt',\n",
              "  'kropsch',\n",
              "  'vergleichbar',\n",
              "  'agentur',\n",
              "  'europa',\n",
              "  'breit',\n",
              "  'aufgestellt',\n",
              "  'angst',\n",
              "  'person',\n",
              "  'ausserd',\n",
              "  'gering',\n",
              "  'beteil',\n",
              "  'wahrgenomm'],\n",
              " ['servic',\n",
              "  'jobwechsel',\n",
              "  'uberblick',\n",
              "  'liefert',\n",
              "  'derstandard',\n",
              "  'etat',\n",
              "  'jobwechsel',\n",
              "  'uberblick',\n",
              "  'grob',\n",
              "  'sortiert',\n",
              "  'kalenderwoch',\n",
              "  'den',\n",
              "  'infos',\n",
              "  'einlangt',\n",
              "  'quell',\n",
              "  'press',\n",
              "  'eig',\n",
              "  'infos',\n",
              "  'branchendien',\n",
              "  'horizont',\n",
              "  'medianet',\n",
              "  'infos',\n",
              "  'bitt',\n",
              "  'mail',\n",
              "  'etat',\n",
              "  'derstandard',\n",
              "  'schick',\n",
              "  'woch',\n",
              "  'woch',\n",
              "  'woch',\n",
              "  'woch',\n",
              "  'woch',\n",
              "  'woch',\n",
              "  'woch',\n",
              "  'spannend',\n",
              "  'neu',\n",
              "  'aufgab',\n",
              "  'voraus',\n",
              "  'mach',\n",
              "  'februar',\n",
              "  'nachricht',\n",
              "  'kurierat',\n",
              "  'freu',\n",
              "  'https',\n",
              "  'esrx',\n",
              "  'woch',\n",
              "  'freu',\n",
              "  'ausgezeichnet',\n",
              "  'journalistin',\n",
              "  'munir',\n",
              "  'inam',\n",
              "  'orfreport',\n",
              "  'moderiert',\n",
              "  'alternier',\n",
              "  'martina',\n",
              "  'rupp',\n",
              "  'heut',\n",
              "  'konkret',\n",
              "  'kommend',\n",
              "  'jahr',\n",
              "  'weitergeht',\n",
              "  'lass',\n",
              "  'bald',\n",
              "  'wiss',\n",
              "  'wart',\n",
              "  'spannend',\n",
              "  'neu',\n",
              "  'woch',\n",
              "  'stefan',\n",
              "  'hub',\n",
              "  'wechselt',\n",
              "  'media',\n",
              "  'progress',\n",
              "  'content',\n",
              "  'gard',\n",
              "  'technologi',\n",
              "  'ubernimmt',\n",
              "  'ausbau',\n",
              "  'content',\n",
              "  'management',\n",
              "  'unit',\n",
              "  'interessi',\n",
              "  'moglich',\n",
              "  'kombination',\n",
              "  'content',\n",
              "  'technologi',\n",
              "  'ergeb',\n",
              "  'sagt',\n",
              "  'woch',\n",
              "  'woch',\n",
              "  'woch',\n",
              "  'woch',\n",
              "  'woch',\n",
              "  'woch',\n",
              "  'woch',\n",
              "  'kron',\n",
              "  'thomas',\n",
              "  'kreuz',\n",
              "  'leitet',\n",
              "  'special',\n",
              "  'account',\n",
              "  'thomas',\n",
              "  'groj',\n",
              "  'ubernimmt',\n",
              "  'regionalleit',\n",
              "  'wien',\n",
              "  'stammausgab',\n",
              "  'folg',\n",
              "  'neu',\n",
              "  'funktion',\n",
              "  'friedrich',\n",
              "  'dungl',\n",
              "  'geschaftsfuhr',\n",
              "  'pressehaus',\n",
              "  'wechselt',\n",
              "  'woch',\n",
              "  'viel',\n",
              "  'dank',\n",
              "  'versprech',\n",
              "  'alpenrepubl',\n",
              "  'schnitzelland',\n",
              "  'schreib',\n",
              "  'https',\n",
              "  'andreas',\n",
              "  'csar',\n",
              "  'wechselt',\n",
              "  'verband',\n",
              "  'zeitung',\n",
              "  'leit',\n",
              "  'press',\n",
              "  'stell',\n",
              "  'pressesprech',\n",
              "  'ecoplus',\n",
              "  'land',\n",
              "  'woch',\n",
              "  'woch',\n",
              "  'woch',\n",
              "  'woch',\n",
              "  'hol',\n",
              "  'sven',\n",
              "  'pusswald',\n",
              "  'leit',\n",
              "  'public',\n",
              "  'affair'],\n",
              " ['woch',\n",
              "  'wiss',\n",
              "  'sollt',\n",
              "  'gleich',\n",
              "  'vergess',\n",
              "  'wien',\n",
              "  'woch',\n",
              "  'getan',\n",
              "  'medienwelt',\n",
              "  'entgang',\n",
              "  'bess',\n",
              "  'durchcheck',\n",
              "  'etat',\n",
              "  'wochenquiz',\n",
              "  'wunsch',\n",
              "  'spass',\n",
              "  'beim',\n",
              "  'mitmach',\n",
              "  'vorig',\n",
              "  'woch',\n",
              "  'zeit',\n",
              "  'medi',\n",
              "  'nachricht',\n",
              "  'les',\n",
              "  'nutzlich',\n",
              "  'link'],\n",
              " ['woch',\n",
              "  'wiss',\n",
              "  'sollt',\n",
              "  'gleich',\n",
              "  'vergess',\n",
              "  'wien',\n",
              "  'woch',\n",
              "  'getan',\n",
              "  'medienwelt',\n",
              "  'entgang',\n",
              "  'bess',\n",
              "  'durchcheck',\n",
              "  'etat',\n",
              "  'wochenquiz',\n",
              "  'wunsch',\n",
              "  'spass',\n",
              "  'beim',\n",
              "  'mitmach',\n",
              "  'vorig',\n",
              "  'woch',\n",
              "  'zeit',\n",
              "  'medi',\n",
              "  'nachricht',\n",
              "  'les',\n",
              "  'nutzlich',\n",
              "  'link'],\n",
              " ['mocht',\n",
              "  'eig',\n",
              "  'plattform',\n",
              "  'aufbau',\n",
              "  'les',\n",
              "  'unterstutzt',\n",
              "  'irgendwas',\n",
              "  'medi',\n",
              "  'recht',\n",
              "  'vag',\n",
              "  'stefan',\n",
              "  'niggemei',\n",
              "  'plant',\n",
              "  'jedenfall',\n",
              "  'deutsch',\n",
              "  'onlinemagazin',\n",
              "  'krautreport',\n",
              "  'verlasst',\n",
              "  'niggemei',\n",
              "  'herausgeb',\n",
              "  'initiator',\n",
              "  'kritisch',\n",
              "  'bild',\n",
              "  'blog',\n",
              "  'kundigt',\n",
              "  'neu',\n",
              "  'plattform',\n",
              "  'medienkrit',\n",
              "  'einbezieh',\n",
              "  'les',\n",
              "  'blog',\n",
              "  'schreibt',\n",
              "  'niggemei',\n",
              "  'projekt',\n",
              "  'krautreport',\n",
              "  'richtig',\n",
              "  'findet',\n",
              "  'umsetz',\n",
              "  'vorstell',\n",
              "  'verlief',\n",
              "  'grosst',\n",
              "  'einzeln',\n",
              "  'fehl',\n",
              "  'meinung',\n",
              "  'eig',\n",
              "  'softwar',\n",
              "  'programmi',\n",
              "  'lass',\n",
              "  'zeit',\n",
              "  'geld',\n",
              "  'nerv',\n",
              "  'gekostet',\n",
              "  'teilweis',\n",
              "  'richtig',\n",
              "  'funktioniert',\n",
              "  'zentral',\n",
              "  'probl',\n",
              "  'verortet',\n",
              "  'redaktionell',\n",
              "  'bereich',\n",
              "  'rot',\n",
              "  'fad',\n",
              "  'gefehlt',\n",
              "  'trieb',\n",
              "  'lust',\n",
              "  'neu',\n",
              "  'geschaftsmodell',\n",
              "  'auszuprobi',\n",
              "  'unbedingt',\n",
              "  'gemeinsam',\n",
              "  'redaktionell',\n",
              "  'ide',\n",
              "  'tat',\n",
              "  'schwer',\n",
              "  'defini',\n",
              "  'worub',\n",
              "  'bericht',\n",
              "  'niggemei',\n",
              "  'verliert',\n",
              "  'krautreport',\n",
              "  'bekannt',\n",
              "  'journalist',\n",
              "  'portal',\n",
              "  'wurd',\n",
              "  'jahr',\n",
              "  'erfolgreich',\n",
              "  'crowdfunding',\n",
              "  'tauf',\n",
              "  'gehob',\n",
              "  'finanzier',\n",
              "  'gelang',\n",
              "  'nachd',\n",
              "  'mitglied',\n",
              "  'jahresabo',\n",
              "  'euro',\n",
              "  'abschloss',\n",
              "  'krautreport',\n",
              "  'weitergeht',\n",
              "  'nach',\n",
              "  'woch',\n",
              "  'zeig',\n",
              "  'mitglied',\n",
              "  'muss',\n",
              "  'namlich',\n",
              "  'verlang',\n",
              "  'zweit',\n",
              "  'jahr',\n",
              "  'geh'],\n",
              " ['fest',\n",
              "  'redaktion',\n",
              "  'umwandl',\n",
              "  'genossenschaft',\n",
              "  'steht',\n",
              "  'kurz',\n",
              "  'bevor',\n",
              "  'berlin',\n",
              "  'wien',\n",
              "  'angesagt',\n",
              "  'revolution',\n",
              "  'verandert',\n",
              "  'form',\n",
              "  'fortgesetzt',\n",
              "  'krautreport',\n",
              "  'genossenschaft',\n",
              "  'umgewandelt',\n",
              "  'muss',\n",
              "  'gefund',\n",
              "  'einlag',\n",
              "  'zumind',\n",
              "  'euro',\n",
              "  'beteil',\n",
              "  'erst',\n",
              "  'zahl',\n",
              "  'erreicht',\n",
              "  'genossenschaft',\n",
              "  'eingetrag',\n",
              "  'daran',\n",
              "  'scheit',\n",
              "  'plattform',\n",
              "  'bish',\n",
              "  'gesellschaft',\n",
              "  'beschrankt',\n",
              "  'haftung',\n",
              "  'weitergefuhrt',\n",
              "  'mitglied',\n",
              "  'haft',\n",
              "  'hoh',\n",
              "  'einlag',\n",
              "  'besteht',\n",
              "  'unabhang',\n",
              "  'einlagenhoh',\n",
              "  'mitglied',\n",
              "  'stimm',\n",
              "  'erhalt',\n",
              "  'eingenomm',\n",
              "  'euro',\n",
              "  'soll',\n",
              "  'verwendet',\n",
              "  'besteh',\n",
              "  'portal',\n",
              "  'journalismus',\n",
              "  'crowdfunding',\n",
              "  'plattform',\n",
              "  'erweit',\n",
              "  'erst',\n",
              "  'jahr',\n",
              "  'besteh',\n",
              "  'krautreport',\n",
              "  'uneingeschrankt',\n",
              "  'zufried',\n",
              "  'text',\n",
              "  'bish',\n",
              "  'erschi',\n",
              "  'wenig',\n",
              "  'anfang',\n",
              "  'geplant',\n",
              "  'stefan',\n",
              "  'niggermei',\n",
              "  'kritisiert',\n",
              "  'austritt',\n",
              "  'kollektiv',\n",
              "  'fehlend',\n",
              "  'redaktionell',\n",
              "  'lini',\n",
              "  'geschaff',\n",
              "  'fest',\n",
              "  'redaktion',\n",
              "  'vorteil',\n",
              "  'mitgliedschaft',\n",
              "  'abseit',\n",
              "  'genossenschaft',\n",
              "  'soll',\n",
              "  'ausgebaut',\n",
              "  'planung',\n",
              "  'beispielsweis',\n",
              "  'mitglied',\n",
              "  'lauf',\n",
              "  'oktob',\n",
              "  'davon',\n",
              "  'ziel',\n",
              "  'gesetzt',\n",
              "  'soll',\n",
              "  'zumind',\n",
              "  'verlangert',\n",
              "  'eig',\n",
              "  'angab',\n",
              "  'benotigt',\n",
              "  'plattform',\n",
              "  'mindest',\n",
              "  'unterstutz',\n",
              "  'fortgefuhrt'],\n",
              " ['nachricht',\n",
              "  'drei',\n",
              "  'jahr',\n",
              "  'finanzier',\n",
              "  'gescheitert',\n",
              "  'york',\n",
              "  'news',\n",
              "  'circa',\n",
              "  'speziell',\n",
              "  'smartphon',\n",
              "  'drei',\n",
              "  'jahr',\n",
              "  'end',\n",
              "  'team',\n",
              "  'geld',\n",
              "  'ausgegang',\n",
              "  'betrieb',\n",
              "  'weit',\n",
              "  'eingestellt',\n",
              "  'erklart',\n",
              "  'mitgrund',\n",
              "  'matt',\n",
              "  'galligan',\n",
              "  'mittwoch',\n",
              "  'konzept',\n",
              "  'circa',\n",
              "  'klein',\n",
              "  'happch',\n",
              "  'runterzubrech',\n",
              "  'smartphon',\n",
              "  'bildschirm',\n",
              "  'pass',\n",
              "  'nutz',\n",
              "  'updat',\n",
              "  'aktuell',\n",
              "  'entwickl',\n",
              "  'laufend',\n",
              "  'halt',\n",
              "  'ide',\n",
              "  'mach',\n",
              "  'laut',\n",
              "  'medienbericht',\n",
              "  'rund',\n",
              "  'funf',\n",
              "  'million',\n",
              "  'dollar',\n",
              "  'investor',\n",
              "  'eingesammelt',\n",
              "  'mehr',\n",
              "  'etabliert',\n",
              "  'journalist',\n",
              "  'angeworb',\n",
              "  'circa',\n",
              "  'gelung',\n",
              "  'weit',\n",
              "  'investment',\n",
              "  'einzufadeln',\n",
              "  'bevor',\n",
              "  'ressourc',\n",
              "  'knapp',\n",
              "  'geword',\n",
              "  'seien',\n",
              "  'schrieb',\n",
              "  'galligan',\n",
              "  'blog',\n",
              "  'plattform',\n",
              "  'medium',\n",
              "  'hatt',\n",
              "  'versuch',\n",
              "  'werbung',\n",
              "  'gebuhr',\n",
              "  'rund',\n",
              "  'komm',\n",
              "  'raumt',\n",
              "  'hatt',\n",
              "  'vision',\n",
              "  'dien',\n",
              "  'widersproch',\n",
              "  'wohl',\n",
              "  'genug',\n",
              "  'eingebracht',\n",
              "  'sagt',\n",
              "  'galligan',\n",
              "  'circa',\n",
              "  'bereit',\n",
              "  'seit',\n",
              "  'montag',\n",
              "  'mehr',\n",
              "  'veroffentlicht'],\n",
              " ['news',\n",
              "  'interess',\n",
              "  'les',\n",
              "  'ausgeliefert',\n",
              "  'wien',\n",
              "  'london',\n",
              "  'britisch',\n",
              "  'bringt',\n",
              "  'neu',\n",
              "  'international',\n",
              "  'news',\n",
              "  'android',\n",
              "  'auf',\n",
              "  'handy',\n",
              "  'ansatz',\n",
              "  'soll',\n",
              "  'nachricht',\n",
              "  'praferenz',\n",
              "  'les',\n",
              "  'lief',\n",
              "  'biet',\n",
              "  'kombination',\n",
              "  'stori',\n",
              "  'meist',\n",
              "  'geles',\n",
              "  'geschicht',\n",
              "  'person',\n",
              "  'ausgewahlt',\n",
              "  'empfohl',\n",
              "  'them',\n",
              "  'gebiet',\n",
              "  'bereich',\n",
              "  'news',\n",
              "  'gelang',\n",
              "  'les',\n",
              "  'geschicht',\n",
              "  'meist',\n",
              "  'interessi',\n",
              "  'konnt',\n",
              "  'anhand',\n",
              "  'list',\n",
              "  'basier',\n",
              "  'geles',\n",
              "  'artikel',\n",
              "  'eingab',\n",
              "  'suchfeld',\n",
              "  'benutz',\n",
              "  'them',\n",
              "  'innerhalb',\n",
              "  'artikel',\n",
              "  'folg',\n",
              "  'wirklich',\n",
              "  'person',\n",
              "  'servic',\n",
              "  'schaff',\n",
              "  'geschicht',\n",
              "  'themat',\n",
              "  'chronolog',\n",
              "  'geordnet',\n",
              "  'heisst',\n",
              "  'aussend',\n",
              "  'seit',\n",
              "  'start',\n",
              "  'freitag',\n",
              "  'bereit',\n",
              "  'million',\n",
              "  'heruntergelad',\n",
              "  'word',\n",
              "  'laut',\n",
              "  'konsumi',\n",
              "  'mittlerweil',\n",
              "  'prozent',\n",
              "  'nutz',\n",
              "  'news',\n",
              "  'smartphon',\n",
              "  'tablet',\n",
              "  'erst',\n",
              "  'prozent']]"
            ]
          },
          "metadata": {},
          "execution_count": 11
        }
      ]
    },
    {
      "cell_type": "markdown",
      "metadata": {
        "id": "T8LndhI5mAGP"
      },
      "source": [
        "## Setting Up The Dictionary\n",
        "\n",
        "Our preprocessing is complete.\n",
        "\n",
        "We now need to calculate the occurance frequencies of each of our stemmed words. But first, we will create a vocabulary dictionary where every word appears once. Every article would be represented as a [bag-of-words](https://en.wikipedia.org/wiki/Bag-of-words_model), an unordered set of words that the article contain.\n",
        "\n",
        "---\n",
        "\n",
        "Q: Why is it called bag-of-words?\n",
        "\n",
        "Hint: Think about your probability lessons - where you had randomly picked out white or black balls out of a bag...\n",
        "\n",
        "My guess: Well, the order is lost in the bag-of-words approach, so we can image it like a bag per article in which we throw all the words of that article, with their respective frequency (meaning that if the word \"dairy\" appears 3 times in the article, it is also 3 times in our bag). Then we could imagine to randomly pick a word out of our article-bag and the probability of picking that word would be its frequency divided by all the words (again, including duplicates)."
      ]
    },
    {
      "cell_type": "code",
      "metadata": {
        "id": "pj6CI60KlF0N"
      },
      "source": [
        "dictionary = corpora.Dictionary(processed_docs)\n"
      ],
      "execution_count": 12,
      "outputs": []
    },
    {
      "cell_type": "markdown",
      "metadata": {
        "id": "KiaCJuuXmkDV"
      },
      "source": [
        "Let's take a look:"
      ]
    },
    {
      "cell_type": "code",
      "metadata": {
        "id": "F0DJqlhimfns",
        "outputId": "4c090bb9-cea7-4344-ec63-4a30ecb5f241",
        "colab": {
          "base_uri": "https://localhost:8080/"
        }
      },
      "source": [
        "for idx, (k, v) in enumerate(dictionary.iteritems()):\n",
        "    print(k, v)\n",
        "    if idx >= 10:\n",
        "        break\n",
        "\n",
        "\n",
        "### BTW: `enumerate` is a great python function!\n",
        "### It automatically creates an index, an auto-incremented counter variable,\n",
        "### that represents the position of every object in the collection.\n",
        "\n",
        "### Read more about it here: https://realpython.com/python-enumerate/"
      ],
      "execution_count": 13,
      "outputs": [
        {
          "output_type": "stream",
          "name": "stdout",
          "text": [
            "0 ahnlich\n",
            "1 angemahnt\n",
            "2 anteil\n",
            "3 august\n",
            "4 ausseh\n",
            "5 chefin\n",
            "6 christin\n",
            "7 degeto\n",
            "8 diskuti\n",
            "9 einfuhr\n",
            "10 fernsehfilm\n"
          ]
        }
      ]
    },
    {
      "cell_type": "markdown",
      "metadata": {
        "id": "XLT9Y9LImtv_"
      },
      "source": [
        "Second, we filter the tokens that may appear to often.\n",
        "\n",
        "We have full control on the process."
      ]
    },
    {
      "cell_type": "markdown",
      "metadata": {
        "id": "8LtlVAJEa6vp"
      },
      "source": [
        "### Model Hyperparameter tuning"
      ]
    },
    {
      "cell_type": "markdown",
      "source": [
        "### Your Turn:\n",
        "#### Exercise 1 - Hyperparameter effect on the model output:\n",
        "**Q:** How would changing these parameters influence the result?  \n",
        "After running this example, please return here to change them and try them out.\n",
        "\n",
        "My observations:\n",
        "\n",
        "The hyperparameters affect the model in the following way:\n",
        "no_below=filter_tokens_if_container_documents_are_less_than: excludes (filters) tokens that occur in less than x documents.\n",
        "\n",
        "no_above=filter_tokens_if_appeared_percentage_more_than: filters tokens that occur in x percent of documents or more often. Hence, this will remove words that occur in most documents that might not be decisive for topic modeling.\n",
        "\n",
        "keep_n=keep_the_first_n_token: keeps the most frequent x tokens (after filtering).\n",
        "\n",
        "We are here talking about dictionary in the sense of 1 dictionary per article."
      ],
      "metadata": {
        "id": "yHsgesK9dW7j"
      }
    },
    {
      "cell_type": "code",
      "metadata": {
        "id": "KSwEk-wcBKEg"
      },
      "source": [
        "## Model hyper parameters:\n",
        "\n",
        "## These are the dictionary preparation parameters:\n",
        "filter_tokens_if_container_documents_are_less_than = 15\n",
        "filter_tokens_if_appeared_percentage_more_than = 0.5\n",
        "keep_the_first_n_tokens=100000\n",
        "\n",
        "## and the LDA Parameters:\n",
        "num_of_topics = 10"
      ],
      "execution_count": 14,
      "outputs": []
    },
    {
      "cell_type": "code",
      "metadata": {
        "id": "zelcg-UUmiVx"
      },
      "source": [
        "dictionary.filter_extremes(\n",
        "    no_below=filter_tokens_if_container_documents_are_less_than,\n",
        "    no_above=filter_tokens_if_appeared_percentage_more_than,\n",
        "    keep_n=keep_the_first_n_tokens)\n"
      ],
      "execution_count": 15,
      "outputs": []
    },
    {
      "cell_type": "markdown",
      "metadata": {
        "id": "EsknGryxnx0X"
      },
      "source": [
        "We now create a [bag-of-words](https://en.wikipedia.org/wiki/Bag-of-words_model) (BOW) dictionary for each document, using [gensim's dictionary](https://radimrehurek.com/gensim/corpora/dictionary.html) tool.\n",
        "\n",
        "It will be in the format of:\n",
        "\n",
        "```{ 'word_id': count }```\n"
      ]
    },
    {
      "cell_type": "code",
      "metadata": {
        "id": "u1CsbhJcntUW"
      },
      "source": [
        "bow_corpus = [dictionary.doc2bow(doc) for doc in processed_docs]"
      ],
      "execution_count": 16,
      "outputs": []
    },
    {
      "cell_type": "markdown",
      "metadata": {
        "id": "RmHQyMKXokyq"
      },
      "source": [
        "Let's take a look at the result.\n",
        "\n",
        "Our corpus contains now only word_ids, not the words themselves, so we have to peek into the dictionary to know which word that id represents:"
      ]
    },
    {
      "cell_type": "code",
      "metadata": {
        "id": "dD6n6MNnoSBH",
        "outputId": "c9c227fd-d2bd-47b3-f966-a966e51637bf",
        "colab": {
          "base_uri": "https://localhost:8080/"
        }
      },
      "source": [
        "# randomly choose an article from the corpus:\n",
        "sample_bow_doc = choice(bow_corpus)\n",
        "\n",
        "print('The processed bag-of-word document is just pairs of (word_id, # of occurnces) and looks like this:')\n",
        "print(sample_bow_doc, '\\n\\n')\n",
        "\n",
        "print ('We peek in the dictionary: for each word_id, we get its assigned word:')\n",
        "for word_id, word_freq in sample_bow_doc:\n",
        "  real_word = dictionary[word_id]\n",
        "  print(f'Word #{word_id} (\"{real_word}\") appears {word_freq} time.')\n"
      ],
      "execution_count": 17,
      "outputs": [
        {
          "output_type": "stream",
          "name": "stdout",
          "text": [
            "The processed bag-of-word document is just pairs of (word_id, # of occurnces) and looks like this:\n",
            "[(25, 1), (32, 1), (52, 1), (63, 1), (85, 1), (90, 1), (94, 1), (98, 1), (106, 4), (117, 2), (119, 1), (123, 1), (132, 1), (134, 1), (144, 2), (147, 7), (168, 1), (193, 6), (197, 1), (203, 1), (234, 1), (252, 1), (256, 2), (273, 1), (278, 1), (280, 2), (293, 1), (303, 1), (313, 1), (318, 1), (325, 1), (334, 1), (347, 1), (377, 1), (387, 2), (390, 1), (392, 1), (393, 1), (419, 1), (436, 6), (442, 2), (450, 2), (463, 2), (473, 2), (491, 1), (498, 2), (508, 1), (548, 1), (549, 1), (553, 1), (555, 1), (562, 1), (571, 1), (579, 4), (596, 1), (623, 2), (627, 2), (638, 1), (688, 1), (731, 1), (745, 1), (756, 1), (771, 1), (781, 1), (787, 3), (791, 1), (838, 1), (856, 1), (906, 1), (934, 1), (957, 1), (972, 4), (997, 1), (1019, 1), (1050, 1), (1134, 1), (1155, 1), (1223, 2), (1235, 1), (1237, 1), (1255, 1), (1317, 1), (1391, 10), (1420, 1), (1441, 1), (1532, 3), (1630, 1), (1633, 2), (1635, 1), (1666, 1), (1668, 1), (1716, 1), (1781, 1), (1827, 1), (1941, 1), (2018, 2), (2029, 1), (2087, 1), (2093, 1), (2095, 2), (2100, 1), (2144, 1), (2305, 1), (2319, 1), (2326, 7), (2337, 2), (2359, 1), (2399, 1), (2403, 1), (2596, 1), (2612, 1), (2710, 1), (2722, 1), (2723, 1), (2799, 1), (2829, 1), (2984, 1), (3116, 1), (3426, 1), (3452, 1), (3480, 1), (3490, 1), (3606, 1), (3621, 1), (3958, 1), (4029, 1), (4092, 1), (4155, 3), (4208, 1), (4229, 1), (4303, 1), (4521, 1), (4596, 1), (4646, 1), (4689, 1), (4922, 1), (4997, 1), (5008, 1), (5194, 1), (5583, 1), (5743, 1), (5827, 1), (6747, 1), (6777, 1), (6815, 1), (6875, 1), (6956, 2), (6993, 1), (7228, 1), (7550, 1)] \n",
            "\n",
            "\n",
            "We peek in the dictionary: for each word_id, we get its assigned word:\n",
            "Word #25 (\"osterreich\") appears 1 time.\n",
            "Word #32 (\"seit\") appears 1 time.\n",
            "Word #52 (\"geplant\") appears 1 time.\n",
            "Word #63 (\"zwei\") appears 1 time.\n",
            "Word #85 (\"europa\") appears 1 time.\n",
            "Word #90 (\"gleichzeit\") appears 1 time.\n",
            "Word #94 (\"inhalt\") appears 1 time.\n",
            "Word #98 (\"konn\") appears 1 time.\n",
            "Word #106 (\"muss\") appears 4 time.\n",
            "Word #117 (\"sagt\") appears 2 time.\n",
            "Word #119 (\"sogar\") appears 1 time.\n",
            "Word #123 (\"standard\") appears 1 time.\n",
            "Word #132 (\"unternehm\") appears 1 time.\n",
            "Word #134 (\"unterstutz\") appears 1 time.\n",
            "Word #144 (\"wien\") appears 2 time.\n",
            "Word #147 (\"zukunft\") appears 7 time.\n",
            "Word #168 (\"heut\") appears 1 time.\n",
            "Word #193 (\"neu\") appears 6 time.\n",
            "Word #197 (\"quell\") appears 1 time.\n",
            "Word #203 (\"stell\") appears 1 time.\n",
            "Word #234 (\"zeit\") appears 1 time.\n",
            "Word #252 (\"geh\") appears 1 time.\n",
            "Word #256 (\"geld\") appears 2 time.\n",
            "Word #273 (\"namlich\") appears 1 time.\n",
            "Word #278 (\"probl\") appears 1 time.\n",
            "Word #280 (\"projekt\") appears 2 time.\n",
            "Word #293 (\"unterstutzt\") appears 1 time.\n",
            "Word #303 (\"zweit\") appears 1 time.\n",
            "Word #313 (\"besteh\") appears 1 time.\n",
            "Word #318 (\"davon\") appears 1 time.\n",
            "Word #325 (\"erst\") appears 1 time.\n",
            "Word #334 (\"gesellschaft\") appears 1 time.\n",
            "Word #347 (\"revolution\") appears 1 time.\n",
            "Word #377 (\"entwickl\") appears 1 time.\n",
            "Word #387 (\"hatt\") appears 2 time.\n",
            "Word #390 (\"klein\") appears 1 time.\n",
            "Word #392 (\"komm\") appears 1 time.\n",
            "Word #393 (\"konzept\") appears 1 time.\n",
            "Word #419 (\"ansatz\") appears 1 time.\n",
            "Word #436 (\"geschicht\") appears 6 time.\n",
            "Word #442 (\"konnt\") appears 2 time.\n",
            "Word #450 (\"schaff\") appears 2 time.\n",
            "Word #463 (\"aufklar\") appears 2 time.\n",
            "Word #473 (\"burg\") appears 2 time.\n",
            "Word #491 (\"fruh\") appears 1 time.\n",
            "Word #498 (\"imm\") appears 2 time.\n",
            "Word #508 (\"leb\") appears 1 time.\n",
            "Word #548 (\"zunach\") appears 1 time.\n",
            "Word #549 (\"zuruck\") appears 1 time.\n",
            "Word #553 (\"dabei\") appears 1 time.\n",
            "Word #555 (\"etwa\") appears 1 time.\n",
            "Word #562 (\"seh\") appears 1 time.\n",
            "Word #571 (\"arbeit\") appears 1 time.\n",
            "Word #579 (\"denkt\") appears 4 time.\n",
            "Word #596 (\"ganz\") appears 1 time.\n",
            "Word #623 (\"neb\") appears 2 time.\n",
            "Word #627 (\"plan\") appears 2 time.\n",
            "Word #638 (\"schon\") appears 1 time.\n",
            "Word #688 (\"besitz\") appears 1 time.\n",
            "Word #731 (\"offent\") appears 1 time.\n",
            "Word #745 (\"antwortet\") appears 1 time.\n",
            "Word #756 (\"bemuh\") appears 1 time.\n",
            "Word #771 (\"durf\") appears 1 time.\n",
            "Word #781 (\"frag\") appears 1 time.\n",
            "Word #787 (\"gelt\") appears 3 time.\n",
            "Word #791 (\"gibt\") appears 1 time.\n",
            "Word #838 (\"raum\") appears 1 time.\n",
            "Word #856 (\"uberhaupt\") appears 1 time.\n",
            "Word #906 (\"radikal\") appears 1 time.\n",
            "Word #934 (\"holz\") appears 1 time.\n",
            "Word #957 (\"darub\") appears 1 time.\n",
            "Word #972 (\"gross\") appears 4 time.\n",
            "Word #997 (\"schritt\") appears 1 time.\n",
            "Word #1019 (\"gestellt\") appears 1 time.\n",
            "Word #1050 (\"warum\") appears 1 time.\n",
            "Word #1134 (\"stark\") appears 1 time.\n",
            "Word #1155 (\"auftrag\") appears 1 time.\n",
            "Word #1223 (\"war\") appears 2 time.\n",
            "Word #1235 (\"bezahl\") appears 1 time.\n",
            "Word #1237 (\"droht\") appears 1 time.\n",
            "Word #1255 (\"musst\") appears 1 time.\n",
            "Word #1317 (\"pladiert\") appears 1 time.\n",
            "Word #1391 (\"haus\") appears 10 time.\n",
            "Word #1420 (\"zieh\") appears 1 time.\n",
            "Word #1441 (\"uns\") appears 1 time.\n",
            "Word #1532 (\"losung\") appears 3 time.\n",
            "Word #1630 (\"problem\") appears 1 time.\n",
            "Word #1633 (\"ring\") appears 2 time.\n",
            "Word #1635 (\"schlagt\") appears 1 time.\n",
            "Word #1666 (\"heimisch\") appears 1 time.\n",
            "Word #1668 (\"histor\") appears 1 time.\n",
            "Word #1716 (\"paar\") appears 1 time.\n",
            "Word #1781 (\"gegenub\") appears 1 time.\n",
            "Word #1827 (\"parlament\") appears 1 time.\n",
            "Word #1941 (\"bisher\") appears 1 time.\n",
            "Word #2018 (\"versteh\") appears 2 time.\n",
            "Word #2029 (\"gezeigt\") appears 1 time.\n",
            "Word #2087 (\"bedurfnis\") appears 1 time.\n",
            "Word #2093 (\"entsteh\") appears 1 time.\n",
            "Word #2095 (\"fantasi\") appears 2 time.\n",
            "Word #2100 (\"infrag\") appears 1 time.\n",
            "Word #2144 (\"auss\") appears 1 time.\n",
            "Word #2305 (\"republ\") appears 1 time.\n",
            "Word #2319 (\"harald\") appears 1 time.\n",
            "Word #2326 (\"mahr\") appears 7 time.\n",
            "Word #2337 (\"staatssekretar\") appears 2 time.\n",
            "Word #2359 (\"stadt\") appears 1 time.\n",
            "Word #2399 (\"neubau\") appears 1 time.\n",
            "Word #2403 (\"objekt\") appears 1 time.\n",
            "Word #2596 (\"kuliss\") appears 1 time.\n",
            "Word #2612 (\"tot\") appears 1 time.\n",
            "Word #2710 (\"vorn\") appears 1 time.\n",
            "Word #2722 (\"dialog\") appears 1 time.\n",
            "Word #2723 (\"diskutiert\") appears 1 time.\n",
            "Word #2799 (\"genomm\") appears 1 time.\n",
            "Word #2829 (\"dimension\") appears 1 time.\n",
            "Word #2984 (\"folgend\") appears 1 time.\n",
            "Word #3116 (\"auto\") appears 1 time.\n",
            "Word #3426 (\"gesproch\") appears 1 time.\n",
            "Word #3452 (\"begegn\") appears 1 time.\n",
            "Word #3480 (\"anstoss\") appears 1 time.\n",
            "Word #3490 (\"hohepunkt\") appears 1 time.\n",
            "Word #3606 (\"hofburg\") appears 1 time.\n",
            "Word #3621 (\"rudolf\") appears 1 time.\n",
            "Word #3958 (\"angepasst\") appears 1 time.\n",
            "Word #4029 (\"alternativ\") appears 1 time.\n",
            "Word #4092 (\"aussicht\") appears 1 time.\n",
            "Word #4155 (\"lieb\") appears 3 time.\n",
            "Word #4208 (\"winkt\") appears 1 time.\n",
            "Word #4229 (\"vorhab\") appears 1 time.\n",
            "Word #4303 (\"bloss\") appears 1 time.\n",
            "Word #4521 (\"demograf\") appears 1 time.\n",
            "Word #4596 (\"wissenschaft\") appears 1 time.\n",
            "Word #4646 (\"zeich\") appears 1 time.\n",
            "Word #4689 (\"womit\") appears 1 time.\n",
            "Word #4922 (\"fahig\") appears 1 time.\n",
            "Word #4997 (\"thematisiert\") appears 1 time.\n",
            "Word #5008 (\"mobilitat\") appears 1 time.\n",
            "Word #5194 (\"bezirk\") appears 1 time.\n",
            "Word #5583 (\"irgendwo\") appears 1 time.\n",
            "Word #5743 (\"seidl\") appears 1 time.\n",
            "Word #5827 (\"weich\") appears 1 time.\n",
            "Word #6747 (\"besiegt\") appears 1 time.\n",
            "Word #6777 (\"mathemat\") appears 1 time.\n",
            "Word #6815 (\"vened\") appears 1 time.\n",
            "Word #6875 (\"errichtet\") appears 1 time.\n",
            "Word #6956 (\"museum\") appears 2 time.\n",
            "Word #6993 (\"philosoph\") appears 1 time.\n",
            "Word #7228 (\"aufweist\") appears 1 time.\n",
            "Word #7550 (\"automatisiert\") appears 1 time.\n"
          ]
        }
      ]
    },
    {
      "cell_type": "markdown",
      "metadata": {
        "id": "jdEpXnWNrR4H"
      },
      "source": [
        "## LDA model using Bag-of-words\n",
        "\n",
        "Let's start by applying the LDA model using the bag-of-words (Warning: this could take a while):"
      ]
    },
    {
      "cell_type": "code",
      "metadata": {
        "id": "84CchtGap73H"
      },
      "source": [
        "lda_model = models.LdaMulticore(bow_corpus,\n",
        "                                num_topics=num_of_topics,\n",
        "                                id2word=dictionary,\n",
        "                                passes=5,\n",
        "                                workers=2)"
      ],
      "execution_count": 18,
      "outputs": []
    },
    {
      "cell_type": "markdown",
      "metadata": {
        "id": "oqm3NWaGrYzC"
      },
      "source": [
        "It is done!\n",
        "\n",
        "Now we can observe which topics the model had extracted from the documents.\n",
        "\n",
        "- *Topics* are made of sets of words and their distribution for that topic, representing their weight in that topic.\n",
        "- Every document may be composed of multiple topics, with different weights representing the relation to each topics.\n",
        "\n",
        "We will loop over the extracted topics and examine the words that construct them."
      ]
    },
    {
      "cell_type": "code",
      "metadata": {
        "id": "N83rLkRRrYYz",
        "outputId": "c0d63a1f-0329-4143-b538-6b63c47a3586",
        "colab": {
          "base_uri": "https://localhost:8080/"
        }
      },
      "source": [
        "for idx, topic in lda_model.print_topics(num_of_topics):\n",
        "    print(f'Topic: {idx} \\t Words: {topic}')\n"
      ],
      "execution_count": 19,
      "outputs": [
        {
          "output_type": "stream",
          "name": "stdout",
          "text": [
            "Topic: 0 \t Words: 0.008*\"polit\" + 0.008*\"sagt\" + 0.007*\"standard\" + 0.006*\"wien\" + 0.005*\"grun\" + 0.005*\"partei\" + 0.005*\"land\" + 0.005*\"regier\" + 0.004*\"wahl\" + 0.004*\"seit\"\n",
            "Topic: 1 \t Words: 0.032*\"prozent\" + 0.016*\"osterreich\" + 0.014*\"jahr\" + 0.007*\"euro\" + 0.007*\"standard\" + 0.006*\"wenig\" + 0.006*\"land\" + 0.006*\"hoh\" + 0.005*\"zahl\" + 0.005*\"wien\"\n",
            "Topic: 2 \t Words: 0.020*\"euro\" + 0.013*\"wien\" + 0.010*\"million\" + 0.009*\"jahr\" + 0.007*\"prozent\" + 0.006*\"unternehm\" + 0.006*\"neu\" + 0.006*\"osterreich\" + 0.006*\"rund\" + 0.005*\"seit\"\n",
            "Topic: 3 \t Words: 0.009*\"jahr\" + 0.006*\"wien\" + 0.006*\"erst\" + 0.006*\"gross\" + 0.005*\"schon\" + 0.004*\"sagt\" + 0.004*\"lang\" + 0.004*\"imm\" + 0.004*\"ganz\" + 0.004*\"neu\"\n",
            "Topic: 4 \t Words: 0.009*\"spiel\" + 0.009*\"erst\" + 0.006*\"forsch\" + 0.005*\"salzburg\" + 0.004*\"jahr\" + 0.004*\"wien\" + 0.004*\"zwei\" + 0.004*\"konnt\" + 0.004*\"gross\" + 0.004*\"schon\"\n",
            "Topic: 5 \t Words: 0.010*\"neu\" + 0.006*\"sagt\" + 0.006*\"griechenland\" + 0.005*\"nutz\" + 0.005*\"appl\" + 0.004*\"soll\" + 0.004*\"bereit\" + 0.004*\"griechisch\" + 0.004*\"googl\" + 0.004*\"allerding\"\n",
            "Topic: 6 \t Words: 0.019*\"fluchtling\" + 0.010*\"mensch\" + 0.009*\"grenz\" + 0.008*\"sagt\" + 0.008*\"ukrain\" + 0.007*\"russisch\" + 0.007*\"russland\" + 0.006*\"deutschland\" + 0.006*\"grund\" + 0.005*\"turkei\"\n",
            "Topic: 7 \t Words: 0.006*\"erst\" + 0.006*\"spiel\" + 0.006*\"seit\" + 0.005*\"israel\" + 0.005*\"sagt\" + 0.004*\"jahr\" + 0.004*\"minut\" + 0.004*\"zwei\" + 0.004*\"leagu\" + 0.004*\"beim\"\n",
            "Topic: 8 \t Words: 0.010*\"word\" + 0.010*\"jahr\" + 0.009*\"sagt\" + 0.008*\"jahrig\" + 0.007*\"polizei\" + 0.007*\"mann\" + 0.006*\"weg\" + 0.006*\"frau\" + 0.006*\"wien\" + 0.005*\"zwei\"\n",
            "Topic: 9 \t Words: 0.013*\"jahr\" + 0.009*\"dollar\" + 0.008*\"sagt\" + 0.008*\"prozent\" + 0.008*\"china\" + 0.006*\"erst\" + 0.006*\"seit\" + 0.006*\"unternehm\" + 0.006*\"land\" + 0.006*\"neu\"\n"
          ]
        }
      ]
    },
    {
      "cell_type": "markdown",
      "metadata": {
        "id": "CgCkLEelplF8"
      },
      "source": [
        "## TF / IDF\n",
        "\n",
        "Let's take it one step further. We will cluster our document by running the LDA using [TF/IDF](https://en.wikipedia.org/wiki/Tf%E2%80%93idf).\n",
        "\n",
        "We start with TF/IDF calculation on our bag-of-words.\n",
        "TF/IDF accepts a dictionary of word frequencies as an input, and it calculates the term frequency and the inversed document frequency accordingly.\n",
        "\n",
        "Its output is a re-weighted dictionary of the documents term frequencies:"
      ]
    },
    {
      "cell_type": "code",
      "metadata": {
        "id": "Xhj6Df56os0j",
        "outputId": "4c51ac97-96ee-4b25-a4e3-ea76f2d43f60",
        "colab": {
          "base_uri": "https://localhost:8080/"
        }
      },
      "source": [
        "# initialize a tfidf from our corpus\n",
        "tfidf = models.TfidfModel(bow_corpus)\n",
        "\n",
        "# apply it on our corpus\n",
        "tfidf_corpus = tfidf[bow_corpus]\n",
        "\n",
        "pprint(tfidf_corpus[0][:10])"
      ],
      "execution_count": 20,
      "outputs": [
        {
          "output_type": "stream",
          "name": "stdout",
          "text": [
            "[(0, 0.07624324224596976),\n",
            " (1, 0.09765147703315807),\n",
            " (2, 0.17806134714371552),\n",
            " (3, 0.12554321379384176),\n",
            " (4, 0.12114843374003081),\n",
            " (5, 0.14917128474504127),\n",
            " (6, 0.11948454964321391),\n",
            " (7, 0.10815383759404282),\n",
            " (8, 0.19221567840914694),\n",
            " (9, 0.0625612949812136)]\n"
          ]
        }
      ]
    },
    {
      "cell_type": "code",
      "source": [
        "# the new tfidf corpus is just our corpus - but transformed. It has the same size of documents:\n",
        "assert len(bow_corpus) == len(tfidf_corpus)"
      ],
      "metadata": {
        "id": "OdllL8StNLm2"
      },
      "execution_count": 21,
      "outputs": []
    },
    {
      "cell_type": "markdown",
      "metadata": {
        "id": "UZ-9a3gcsYts"
      },
      "source": [
        "Now let's apply LDA on the tfidf corpus, with the same amount of topics.\n",
        "\n",
        "You can play with the # of passes, if the model doesn't converge properly"
      ]
    },
    {
      "cell_type": "code",
      "metadata": {
        "id": "ihxND83irVSf",
        "outputId": "2beb4c8a-d948-429a-c796-fc94b77b6d36",
        "colab": {
          "base_uri": "https://localhost:8080/"
        }
      },
      "source": [
        "lda_model_tfidf = models.LdaMulticore(tfidf_corpus,\n",
        "                                      num_topics=num_of_topics,\n",
        "                                      id2word=dictionary,\n",
        "                                      passes=5,\n",
        "                                      workers=4)"
      ],
      "execution_count": 22,
      "outputs": [
        {
          "output_type": "stream",
          "name": "stderr",
          "text": [
            "WARNING:gensim.models.ldamulticore:too few updates, training might not converge; consider increasing the number of passes or iterations to improve accuracy\n"
          ]
        }
      ]
    },
    {
      "cell_type": "code",
      "source": [
        "for idx, topic in lda_model_tfidf.print_topics(num_of_topics):\n",
        "    print(f'Topic: {idx} \\t Word: {topic}')"
      ],
      "metadata": {
        "id": "adACX8kGihtG",
        "outputId": "3658b5df-82ba-4acf-a6d3-942b4cab3ae8",
        "colab": {
          "base_uri": "https://localhost:8080/"
        }
      },
      "execution_count": 23,
      "outputs": [
        {
          "output_type": "stream",
          "name": "stdout",
          "text": [
            "Topic: 0 \t Word: 0.005*\"prozent\" + 0.004*\"zielpunkt\" + 0.003*\"euro\" + 0.003*\"unternehm\" + 0.002*\"million\" + 0.002*\"pfeiff\" + 0.002*\"dollar\" + 0.002*\"forsch\" + 0.002*\"bank\" + 0.002*\"wien\"\n",
            "Topic: 1 \t Word: 0.003*\"euro\" + 0.002*\"prozent\" + 0.002*\"europa\" + 0.002*\"million\" + 0.002*\"kommission\" + 0.002*\"osterreich\" + 0.002*\"jahr\" + 0.002*\"milliard\" + 0.002*\"konz\" + 0.002*\"unternehm\"\n",
            "Topic: 2 \t Word: 0.003*\"fluchtling\" + 0.003*\"griechenland\" + 0.002*\"griechisch\" + 0.002*\"word\" + 0.002*\"regier\" + 0.002*\"ath\" + 0.002*\"sagt\" + 0.002*\"mensch\" + 0.002*\"land\" + 0.002*\"euro\"\n",
            "Topic: 3 \t Word: 0.015*\"volltext\" + 0.014*\"basier\" + 0.012*\"artikel\" + 0.011*\"rechtlich\" + 0.009*\"verfug\" + 0.008*\"grund\" + 0.007*\"steht\" + 0.003*\"prozent\" + 0.003*\"euro\" + 0.002*\"forsch\"\n",
            "Topic: 4 \t Word: 0.004*\"prozent\" + 0.003*\"euro\" + 0.002*\"milliard\" + 0.002*\"osterreich\" + 0.002*\"million\" + 0.002*\"unternehm\" + 0.002*\"wien\" + 0.001*\"jahr\" + 0.001*\"neu\" + 0.001*\"rapid\"\n",
            "Topic: 5 \t Word: 0.004*\"prozent\" + 0.003*\"euro\" + 0.002*\"tsipras\" + 0.002*\"ath\" + 0.002*\"griechenland\" + 0.002*\"milliard\" + 0.002*\"forsch\" + 0.002*\"griechisch\" + 0.002*\"wien\" + 0.002*\"europa\"\n",
            "Topic: 6 \t Word: 0.002*\"prozent\" + 0.002*\"wien\" + 0.002*\"standard\" + 0.002*\"osterreich\" + 0.001*\"spiel\" + 0.001*\"euro\" + 0.001*\"jahr\" + 0.001*\"neu\" + 0.001*\"erst\" + 0.001*\"gross\"\n",
            "Topic: 7 \t Word: 0.006*\"prozent\" + 0.003*\"euro\" + 0.002*\"griechisch\" + 0.002*\"osterreich\" + 0.002*\"oecd\" + 0.002*\"streik\" + 0.002*\"milliard\" + 0.002*\"telekom\" + 0.002*\"verdi\" + 0.002*\"wachstum\"\n",
            "Topic: 8 \t Word: 0.004*\"prozent\" + 0.003*\"lufthansa\" + 0.003*\"euro\" + 0.002*\"million\" + 0.002*\"forsch\" + 0.002*\"jahr\" + 0.002*\"wien\" + 0.002*\"osterreich\" + 0.002*\"unternehm\" + 0.001*\"land\"\n",
            "Topic: 9 \t Word: 0.003*\"forsch\" + 0.002*\"prozent\" + 0.002*\"euro\" + 0.002*\"tier\" + 0.002*\"studi\" + 0.002*\"million\" + 0.002*\"bors\" + 0.002*\"europa\" + 0.002*\"jahr\" + 0.001*\"sagt\"\n"
          ]
        }
      ]
    },
    {
      "cell_type": "markdown",
      "metadata": {
        "id": "f9HswwLLsw0X"
      },
      "source": [
        "## Inference\n",
        "\n",
        "Now that we have a topic-modeler, let's use it on one of the articles."
      ]
    },
    {
      "cell_type": "code",
      "metadata": {
        "id": "tQlSUn_CsbcX",
        "outputId": "01a17672-e45b-4a95-dd5d-91b0da0ace0e",
        "colab": {
          "base_uri": "https://localhost:8080/"
        }
      },
      "source": [
        "# randomly pick an article:\n",
        "test_doc = choice(range(len(processed_docs)))\n",
        "processed_docs[test_doc][:50]"
      ],
      "execution_count": 24,
      "outputs": [
        {
          "output_type": "execute_result",
          "data": {
            "text/plain": [
              "['unvollstand',\n",
              " 'auswahl',\n",
              " 'wichtig',\n",
              " 'netzpolit',\n",
              " 'drei',\n",
              " 'buchstab',\n",
              " 'dominiert',\n",
              " 'snowd',\n",
              " 'enthull',\n",
              " 'juni',\n",
              " 'netzpolit',\n",
              " 'sachbuch',\n",
              " 'snowd',\n",
              " 'vertraut',\n",
              " 'glenn',\n",
              " 'greenwald',\n",
              " 'berichtet',\n",
              " 'ebenso',\n",
              " 'kolleg',\n",
              " 'guardian',\n",
              " 'luk',\n",
              " 'harding',\n",
              " 'spiegel',\n",
              " 'markus',\n",
              " 'rosenbach',\n",
              " 'holg',\n",
              " 'stark',\n",
              " 'erst',\n",
              " 'hand',\n",
              " 'zahlreich',\n",
              " 'publizist',\n",
              " 'folgt',\n",
              " 'essayist',\n",
              " 'betracht',\n",
              " 'etwa',\n",
              " 'stefan',\n",
              " 'aust',\n",
              " 'digital',\n",
              " 'diktatur',\n",
              " 'ebbt',\n",
              " 'full',\n",
              " 'titeln',\n",
              " 'uberwach',\n",
              " 'data',\n",
              " 'verlag',\n",
              " 'biet',\n",
              " 'breit',\n",
              " 'potpourri',\n",
              " 'them',\n",
              " 'webstandard']"
            ]
          },
          "metadata": {},
          "execution_count": 24
        }
      ]
    },
    {
      "cell_type": "markdown",
      "metadata": {
        "id": "Jt6oJJL8tiO_"
      },
      "source": [
        "Using the original BOW model:"
      ]
    },
    {
      "cell_type": "code",
      "metadata": {
        "id": "ZBbrSNDVszGW",
        "outputId": "d6c863ed-f513-46d2-9033-c8b4e2cce826",
        "colab": {
          "base_uri": "https://localhost:8080/"
        }
      },
      "source": [
        "for index, score in sorted(lda_model[bow_corpus[test_doc]], key=lambda tup: -1*tup[1]):\n",
        "    print(f\"Topic match score: {score} \\nTopic: {lda_model.print_topic(index, num_of_topics)}\")\n"
      ],
      "execution_count": 25,
      "outputs": [
        {
          "output_type": "stream",
          "name": "stdout",
          "text": [
            "Topic match score: 0.675970733165741 \n",
            "Topic: 0.009*\"jahr\" + 0.006*\"wien\" + 0.006*\"erst\" + 0.006*\"gross\" + 0.005*\"schon\" + 0.004*\"sagt\" + 0.004*\"lang\" + 0.004*\"imm\" + 0.004*\"ganz\" + 0.004*\"neu\"\n",
            "Topic match score: 0.22203290462493896 \n",
            "Topic: 0.010*\"neu\" + 0.006*\"sagt\" + 0.006*\"griechenland\" + 0.005*\"nutz\" + 0.005*\"appl\" + 0.004*\"soll\" + 0.004*\"bereit\" + 0.004*\"griechisch\" + 0.004*\"googl\" + 0.004*\"allerding\"\n",
            "Topic match score: 0.06100942939519882 \n",
            "Topic: 0.008*\"polit\" + 0.008*\"sagt\" + 0.007*\"standard\" + 0.006*\"wien\" + 0.005*\"grun\" + 0.005*\"partei\" + 0.005*\"land\" + 0.005*\"regier\" + 0.004*\"wahl\" + 0.004*\"seit\"\n",
            "Topic match score: 0.03095242567360401 \n",
            "Topic: 0.019*\"fluchtling\" + 0.010*\"mensch\" + 0.009*\"grenz\" + 0.008*\"sagt\" + 0.008*\"ukrain\" + 0.007*\"russisch\" + 0.007*\"russland\" + 0.006*\"deutschland\" + 0.006*\"grund\" + 0.005*\"turkei\"\n"
          ]
        }
      ]
    },
    {
      "cell_type": "markdown",
      "metadata": {
        "id": "hdz9qz-Atj3A"
      },
      "source": [
        "And with the TF/IDF model:"
      ]
    },
    {
      "cell_type": "code",
      "metadata": {
        "id": "XWHTDQjVtTyO",
        "outputId": "607b753a-d0b9-4cbb-a90f-ab02e5766372",
        "colab": {
          "base_uri": "https://localhost:8080/"
        }
      },
      "source": [
        "for index, score in sorted(lda_model_tfidf[bow_corpus[test_doc]], key=lambda tup: -1*tup[1]):\n",
        "    print(\"Topic match score: {}\\t \\nTopic: {}\".format(score, lda_model_tfidf.print_topic(index, num_of_topics)))"
      ],
      "execution_count": 26,
      "outputs": [
        {
          "output_type": "stream",
          "name": "stdout",
          "text": [
            "Topic match score: 0.9367567300796509\t \n",
            "Topic: 0.002*\"prozent\" + 0.002*\"wien\" + 0.002*\"standard\" + 0.002*\"osterreich\" + 0.001*\"spiel\" + 0.001*\"euro\" + 0.001*\"jahr\" + 0.001*\"neu\" + 0.001*\"erst\" + 0.001*\"gross\"\n",
            "Topic match score: 0.06081927940249443\t \n",
            "Topic: 0.003*\"fluchtling\" + 0.003*\"griechenland\" + 0.002*\"griechisch\" + 0.002*\"word\" + 0.002*\"regier\" + 0.002*\"ath\" + 0.002*\"sagt\" + 0.002*\"mensch\" + 0.002*\"land\" + 0.002*\"euro\"\n"
          ]
        }
      ]
    },
    {
      "cell_type": "markdown",
      "source": [
        "Calculating the [perplexity score](https://towardsdatascience.com/perplexity-in-language-models-87a196019a94) (lower is better):"
      ],
      "metadata": {
        "id": "Y6hgkxQ4RIzf"
      }
    },
    {
      "cell_type": "code",
      "source": [
        "print('Perplexity: ', lda_model.log_perplexity(bow_corpus))\n",
        "print('Perplexity TFIDF: ', lda_model_tfidf.log_perplexity(bow_corpus))"
      ],
      "metadata": {
        "colab": {
          "base_uri": "https://localhost:8080/"
        },
        "id": "hHtIgzTlw-gN",
        "outputId": "5774842f-1bfd-4f40-9784-a5985136fe9d"
      },
      "execution_count": 27,
      "outputs": [
        {
          "output_type": "stream",
          "name": "stdout",
          "text": [
            "Perplexity:  -7.995265653251104\n",
            "Perplexity TFIDF:  -8.477054006734754\n"
          ]
        }
      ]
    },
    {
      "cell_type": "markdown",
      "metadata": {
        "id": "NZGXqV-TtyTm"
      },
      "source": [
        "### Exercise - inference\n",
        "\n",
        "Now please try it on a new document!\n",
        "\n",
        "Go to a news website, such as [orf.at](https://orf.at/) and copy an article of your choice here:"
      ]
    },
    {
      "cell_type": "code",
      "metadata": {
        "id": "Srd1NWjFtlqM",
        "outputId": "dde24dab-aa0a-4475-b912-c3c01b478749",
        "colab": {
          "base_uri": "https://localhost:8080/"
        }
      },
      "source": [
        "unseen_document = \"\"\"Wohnungslosigkeit von Eltern betrifft auch Minderjährige in Wien\n",
        "Straßenkinder gibt es in Wien 'in der Regel' keine. Im Vorjahr erhielten dennoch 2570 Minderjährige Leistungen der Wiener Wohnungslosenhilfe, sagt der Leiter der Einrichtung\n",
        "Die Frage ist einfach gestellt: Gibt es auch in Wien Straßenkinder? Für eine schnelle Antwort ist das Thema aber zu komplex. Darauf weist Markus Hollendohner hin, er ist Leiter der Wiener Wohnungslosenhilfe. 'In der Regel', sagt er dem STANDARD, gebe es in der Millionenmetropole keine Straßenkinder. Ihm sei kein solcher Extremfall eines Kindes unter 14 Jahren in den letzten Jahren bekannt. 'Wir haben breit aufgestellte Sicherheitsnetze in der Stadt.'\n",
        "Das heißt aber nicht, dass Kinder und Jugendliche nicht von Wohnungs- oder Obdachlosigkeit betroffen sind. Denn wenn Mütter oder Väter temporär kein Obdach oder keine eigene Wohnung haben, betrifft das auch die Kinder im Familienverband. Laut Hollendohner haben im Vorjahr 2570 Minderjährige Leistungen der Wohnungslosenhilfe erhalten: Das sind rund ein Fünftel aller 12.750 Kundinnen und Kunden, die Kontakt mit den Einrichtungen hatten, die vom Fonds Soziales Wien (FSW) gefördert werden. Die Zahl der Minderjährigen sei hoch, da vielfach Mehrkindfamilien betroffen sind.\n",
        "\n",
        "Im Zuge des Winterpakets des FSW mit Partnerorganisationen stehen 40 Plätze in Notunterkünften zur Verfügung, die nur für Familien gewidmet sind. Im Vorjahr sei man mit 21 Plätzen gestartet, sagte Hollendohner. Diese mussten später aufgestockt werden. Diesmal startete die Wohnungslosenhilfe gleich mit 40 Plätzen, um dem steigenden Bedarf gerecht zu werden. Außerdem gibt es Plätze für Familien in Chancenhäusern, in eigenen Mutter-Kind-Einrichtungen oder im mobil betreuten Wohnen nach dem Housing-first-Prinzip, das eigenständiges Wohnen ermöglicht, begleitet und sichert.\n",
        "Mütter mit Babys als vulnerable Zielgruppe\n",
        "Schwangere Personen und Mütter mit Babys sind \"eine besonders vulnerable Zielgruppe\", sagt Hollendohner. Hier komme es auf den Faktor Zeit an – also wann die Stadt von der Notlage erfährt. Niederschwellig können Betroffene in einem Chancenhaus für Frauen und später in einem Chancenhaus für Familien unterkommen. Wenn mehr Zeit zum Reagieren bleibt, sei es aber einfacher, passendere Plätze zu finden.\n",
        "14- bis 20-Jährige, die wegen Alkohols, Drogen, Streits in der Familie oder eines anderen Grunds auf der Straße landen, können in der Notschlafstelle a_way der Caritas für bis zu fünf Nächte im Monat ohne Anmeldung Unterschlupf finden.\n",
        "\n",
        "Phänomen \"vererbte Wohnungslosigkeit\"\n",
        "Laut Hollendohner ist zuletzt auch das Phänomen \"vererbte Wohnungslosigkeit\" Thema geworden. \"Zu uns kommen auch Personen, die schon vor 15 oder 20 Jahren als Kind in der Wohnungslosenhilfe betreut wurden.\" Hier gebe es eine enge Zusammenarbeit mit der Kinder- und Jugendhilfe der Stadt (MA 11) sowie mit Sozialarbeitern. Das Ziel sei, eng mit Betroffenen zu arbeiten, um künftige Wohnungslosigkeit zu verhindern. (David Krutzler, 18.12.2024)\n",
        "\"\"\"\n",
        "\n",
        "bow_vector = dictionary.doc2bow(preprocess(unseen_document))\n",
        "\n",
        "print(\"Simply printing the lda_model output would look like this:\")\n",
        "pprint(lda_model[bow_vector])\n",
        "\n",
        "print(\"\\n\\nSo let's make it nicer, by printing the topic contents:\")\n",
        "for index, score in sorted(lda_model[bow_vector], key=lambda tup: -1*tup[1]):\n",
        "    print(\"Score: {}\\t Topic: {}\".format(score, lda_model.print_topic(index, 5)))\n"
      ],
      "execution_count": 28,
      "outputs": [
        {
          "output_type": "stream",
          "name": "stdout",
          "text": [
            "Simply printing the lda_model output would look like this:\n",
            "[(1, 0.40941796), (3, 0.106284425), (5, 0.024538595), (8, 0.45644087)]\n",
            "\n",
            "\n",
            "So let's make it nicer, by printing the topic contents:\n",
            "Score: 0.45601320266723633\t Topic: 0.010*\"word\" + 0.010*\"jahr\" + 0.009*\"sagt\" + 0.008*\"jahrig\" + 0.007*\"polizei\"\n",
            "Score: 0.40813031792640686\t Topic: 0.032*\"prozent\" + 0.016*\"osterreich\" + 0.014*\"jahr\" + 0.007*\"euro\" + 0.007*\"standard\"\n",
            "Score: 0.10472213476896286\t Topic: 0.009*\"jahr\" + 0.006*\"wien\" + 0.006*\"erst\" + 0.006*\"gross\" + 0.005*\"schon\"\n",
            "Score: 0.027816249057650566\t Topic: 0.010*\"neu\" + 0.006*\"sagt\" + 0.006*\"griechenland\" + 0.005*\"nutz\" + 0.005*\"appl\"\n"
          ]
        }
      ]
    },
    {
      "cell_type": "markdown",
      "source": [
        "## Visualization"
      ],
      "metadata": {
        "id": "NOl16tMOsmYd"
      }
    },
    {
      "cell_type": "markdown",
      "source": [
        "Finally, there are packages that can visulaize the results, such as [pyLDAvis](https://pypi.org/project/pyLDAvis/) and [tmplot](https://pypi.org/project/tmplot/).\n",
        "\n",
        "Let's take a look at pyLDAvis visualization result.\n",
        "\n",
        "**Please note:** this is an old and unmaintained package. It is easier to run it in Google-Colab than on your laptop. But, if you still try running it locally, please try **lowering your python version** (3.6 / 3.6 / 3.8) when you create the poetry environment for this exercise."
      ],
      "metadata": {
        "id": "Am2p_6seTOOE"
      }
    },
    {
      "cell_type": "code",
      "source": [
        "%pip install pyLDAvis"
      ],
      "metadata": {
        "id": "ERQDi99Rs6dO",
        "colab": {
          "base_uri": "https://localhost:8080/"
        },
        "outputId": "f6584f34-ab6d-4747-b1a5-c3916e04a89e"
      },
      "execution_count": 29,
      "outputs": [
        {
          "output_type": "stream",
          "name": "stdout",
          "text": [
            "Collecting pyLDAvis\n",
            "  Downloading pyLDAvis-3.4.1-py3-none-any.whl.metadata (4.2 kB)\n",
            "Requirement already satisfied: numpy>=1.24.2 in /usr/local/lib/python3.10/dist-packages (from pyLDAvis) (1.26.4)\n",
            "Requirement already satisfied: scipy in /usr/local/lib/python3.10/dist-packages (from pyLDAvis) (1.13.1)\n",
            "Requirement already satisfied: pandas>=2.0.0 in /usr/local/lib/python3.10/dist-packages (from pyLDAvis) (2.2.2)\n",
            "Requirement already satisfied: joblib>=1.2.0 in /usr/local/lib/python3.10/dist-packages (from pyLDAvis) (1.4.2)\n",
            "Requirement already satisfied: jinja2 in /usr/local/lib/python3.10/dist-packages (from pyLDAvis) (3.1.4)\n",
            "Requirement already satisfied: numexpr in /usr/local/lib/python3.10/dist-packages (from pyLDAvis) (2.10.2)\n",
            "Collecting funcy (from pyLDAvis)\n",
            "  Downloading funcy-2.0-py2.py3-none-any.whl.metadata (5.9 kB)\n",
            "Requirement already satisfied: scikit-learn>=1.0.0 in /usr/local/lib/python3.10/dist-packages (from pyLDAvis) (1.5.2)\n",
            "Requirement already satisfied: gensim in /usr/local/lib/python3.10/dist-packages (from pyLDAvis) (4.3.3)\n",
            "Requirement already satisfied: setuptools in /usr/local/lib/python3.10/dist-packages (from pyLDAvis) (75.1.0)\n",
            "Requirement already satisfied: python-dateutil>=2.8.2 in /usr/local/lib/python3.10/dist-packages (from pandas>=2.0.0->pyLDAvis) (2.8.2)\n",
            "Requirement already satisfied: pytz>=2020.1 in /usr/local/lib/python3.10/dist-packages (from pandas>=2.0.0->pyLDAvis) (2024.2)\n",
            "Requirement already satisfied: tzdata>=2022.7 in /usr/local/lib/python3.10/dist-packages (from pandas>=2.0.0->pyLDAvis) (2024.2)\n",
            "Requirement already satisfied: threadpoolctl>=3.1.0 in /usr/local/lib/python3.10/dist-packages (from scikit-learn>=1.0.0->pyLDAvis) (3.5.0)\n",
            "Requirement already satisfied: smart-open>=1.8.1 in /usr/local/lib/python3.10/dist-packages (from gensim->pyLDAvis) (7.0.5)\n",
            "Requirement already satisfied: MarkupSafe>=2.0 in /usr/local/lib/python3.10/dist-packages (from jinja2->pyLDAvis) (3.0.2)\n",
            "Requirement already satisfied: six>=1.5 in /usr/local/lib/python3.10/dist-packages (from python-dateutil>=2.8.2->pandas>=2.0.0->pyLDAvis) (1.17.0)\n",
            "Requirement already satisfied: wrapt in /usr/local/lib/python3.10/dist-packages (from smart-open>=1.8.1->gensim->pyLDAvis) (1.17.0)\n",
            "Downloading pyLDAvis-3.4.1-py3-none-any.whl (2.6 MB)\n",
            "\u001b[2K   \u001b[90m━━━━━━━━━━━━━━━━━━━━━━━━━━━━━━━━━━━━━━━━\u001b[0m \u001b[32m2.6/2.6 MB\u001b[0m \u001b[31m48.6 MB/s\u001b[0m eta \u001b[36m0:00:00\u001b[0m\n",
            "\u001b[?25hDownloading funcy-2.0-py2.py3-none-any.whl (30 kB)\n",
            "Installing collected packages: funcy, pyLDAvis\n",
            "Successfully installed funcy-2.0 pyLDAvis-3.4.1\n"
          ]
        }
      ]
    },
    {
      "cell_type": "code",
      "source": [
        "import pyLDAvis.gensim_models as gensimvis\n",
        "import pyLDAvis\n",
        "\n",
        "bow_lda_data = gensimvis.prepare(lda_model, bow_corpus, dictionary)\n",
        "\n",
        "pyLDAvis.display(bow_lda_data)"
      ],
      "metadata": {
        "colab": {
          "base_uri": "https://localhost:8080/",
          "height": 881
        },
        "id": "xwDURjMYslxZ",
        "outputId": "a45ba736-afbe-4a8a-c477-48c4fd8ff715"
      },
      "execution_count": 30,
      "outputs": [
        {
          "output_type": "execute_result",
          "data": {
            "text/plain": [
              "<IPython.core.display.HTML object>"
            ],
            "text/html": [
              "\n",
              "<link rel=\"stylesheet\" type=\"text/css\" href=\"https://cdn.jsdelivr.net/gh/bmabey/pyLDAvis@3.4.0/pyLDAvis/js/ldavis.v1.0.0.css\">\n",
              "\n",
              "\n",
              "<div id=\"ldavis_el10191375134506426086379415342\" style=\"background-color:white;\"></div>\n",
              "<script type=\"text/javascript\">\n",
              "\n",
              "var ldavis_el10191375134506426086379415342_data = {\"mdsDat\": {\"x\": [-0.037823035939783964, 0.036606696288560975, -0.07712980759261492, 0.04772337314797812, -0.08676065393695317, 0.11993013790903209, -0.10741007325981178, 0.17167215219608192, -0.009670589679550324, -0.05713819913293872], \"y\": [0.023849489432492006, -0.09140019262813705, -0.0066778366676970985, 0.0729507757460891, -0.018397105950747027, -0.10710755554243724, -0.06945609748340771, 0.03995322036515712, 0.12874888320582487, 0.027536419522862857], \"topics\": [1, 2, 3, 4, 5, 6, 7, 8, 9, 10], \"cluster\": [1, 1, 1, 1, 1, 1, 1, 1, 1, 1], \"Freq\": [18.358829703212145, 15.375921994907849, 12.607741029640065, 11.805944499758267, 8.956089081849642, 8.198986042089796, 7.671494000340822, 7.08246868741956, 5.535183852034717, 4.407341108747132]}, \"tinfo\": {\"Term\": [\"prozent\", \"fluchtling\", \"euro\", \"osterreich\", \"jahr\", \"spiel\", \"standard\", \"unternehm\", \"million\", \"mensch\", \"polizei\", \"dollar\", \"word\", \"grenz\", \"wien\", \"jahrig\", \"forsch\", \"land\", \"ukrain\", \"griechenland\", \"partei\", \"china\", \"russisch\", \"russland\", \"milliard\", \"appl\", \"mann\", \"regier\", \"israel\", \"minut\", \"trump\", \"griss\", \"niessl\", \"strolz\", \"volkspartei\", \"puhring\", \"khol\", \"haimbuchn\", \"kandidatur\", \"obamas\", \"podemos\", \"glawischn\", \"haupl\", \"wahlergebnis\", \"irmgard\", \"republikan\", \"parteitag\", \"wahlkampf\", \"vassilakou\", \"labour\", \"juraczka\", \"landtagswahl\", \"stadtrat\", \"kandidi\", \"stichwahl\", \"osz\", \"stenzel\", \"pjongjang\", \"vov\", \"klubchef\", \"strach\", \"clinton\", \"lopatka\", \"wahlkart\", \"partei\", \"demokrat\", \"gemeinderat\", \"bell\", \"neos\", \"landeshauptmann\", \"stronach\", \"obama\", \"parteichef\", \"wahl\", \"grun\", \"kandidat\", \"ttip\", \"koalition\", \"freiheit\", \"nationalrat\", \"polit\", \"abgeordnet\", \"mandat\", \"faymann\", \"burgermeist\", \"mitterlehn\", \"blau\", \"stimm\", \"prasident\", \"standard\", \"parlament\", \"mehrheit\", \"regier\", \"sagt\", \"land\", \"wien\", \"europa\", \"chef\", \"gesprach\", \"muss\", \"fordert\", \"seit\", \"staat\", \"hatt\", \"neu\", \"schon\", \"recht\", \"entscheid\", \"gibt\", \"jahr\", \"viel\", \"erst\", \"frag\", \"osterreich\", \"bereit\", \"geb\", \"erklart\", \"gross\", \"thiem\", \"nadal\", \"djokovic\", \"slam\", \"mozart\", \"gemald\", \"wimbledon\", \"murray\", \"cont\", \"tennis\", \"french\", \"literar\", \"topgesetzt\", \"tiebreak\", \"australian\", \"kunstlerin\", \"klavi\", \"breakball\", \"maur\", \"literatur\", \"dirigent\", \"dominic\", \"zeitgeschicht\", \"sehnsucht\", \"melz\", \"urauffuhr\", \"gesang\", \"epoch\", \"philosoph\", \"break\", \"kunstwerk\", \"award\", \"fed\", \"komponist\", \"fiction\", \"kunst\", \"museum\", \"gehirn\", \"open\", \"mathemat\", \"satz\", \"buch\", \"musikal\", \"autor\", \"musik\", \"song\", \"wissenschaft\", \"eigenschaft\", \"werk\", \"geschicht\", \"judisch\", \"universitat\", \"university\", \"kunstl\", \"film\", \"theori\", \"physik\", \"forsch\", \"heut\", \"art\", \"leb\", \"welt\", \"ganz\", \"gross\", \"studi\", \"natur\", \"schon\", \"jahr\", \"zeit\", \"form\", \"lang\", \"imm\", \"wien\", \"erst\", \"alt\", \"dabei\", \"klein\", \"gibt\", \"etwa\", \"viel\", \"arbeit\", \"macht\", \"mensch\", \"spiel\", \"neu\", \"sagt\", \"wenig\", \"zwei\", \"standard\", \"seit\", \"konnt\", \"android\", \"windows\", \"betriebssyst\", \"brows\", \"lumia\", \"eurogrupp\", \"phon\", \"dijsselblo\", \"syriza\", \"betriebssystem\", \"spotify\", \"megapixel\", \"nexus\", \"messeng\", \"snapdragon\", \"schaubl\", \"jero\", \"display\", \"desktop\", \"microsoft\", \"apps\", \"prozessor\", \"linux\", \"updat\", \"iphon\", \"sony\", \"firmwar\", \"ipad\", \"webstandard\", \"varoufakis\", \"tsipras\", \"googl\", \"junck\", \"appl\", \"smartphon\", \"hilfsprogramm\", \"hilfspaket\", \"samsung\", \"ath\", \"wlan\", \"tablet\", \"griechenland\", \"griechisch\", \"griech\", \"version\", \"alexis\", \"nutz\", \"gerat\", \"facebook\", \"mobil\", \"softwar\", \"finanzminist\", \"user\", \"kommission\", \"neu\", \"herstell\", \"soll\", \"allerding\", \"aktuell\", \"europa\", \"eig\", \"sagt\", \"bereit\", \"moglich\", \"euro\", \"gibt\", \"weit\", \"erst\", \"etwa\", \"seit\", \"beim\", \"muss\", \"land\", \"jahr\", \"schon\", \"gross\", \"rousseff\", \"obduktion\", \"tatverdacht\", \"hakenkreuz\", \"justizanstalt\", \"praterst\", \"staatsanwaltin\", \"razzi\", \"dilma\", \"zeugin\", \"brandstift\", \"eingeliefert\", \"kriminalist\", \"schuldspruch\", \"kompliz\", \"molenbeek\", \"bluttat\", \"feldkirch\", \"uberstellt\", \"psychiatr\", \"schoffensenat\", \"lebensgefahr\", \"jakarta\", \"tatort\", \"feuerwehrleut\", \"vergewalt\", \"dreharbeit\", \"silvesternacht\", \"brasilia\", \"vergewaltigt\", \"festgenomm\", \"staatsanwalt\", \"angeklagt\", \"haft\", \"festnahm\", \"polizei\", \"tat\", \"sexuell\", \"verschuttet\", \"verdacht\", \"verurteilt\", \"ermittl\", \"ubergriff\", \"mandant\", \"anschlag\", \"krankenhaus\", \"polizist\", \"mutmass\", \"attentat\", \"mann\", \"mord\", \"leich\", \"gefangnis\", \"unfall\", \"frau\", \"jahrig\", \"opf\", \"word\", \"flughaf\", \"verletzt\", \"weg\", \"beamt\", \"madch\", \"vorfall\", \"stadt\", \"tot\", \"gericht\", \"angab\", \"jugend\", \"jahr\", \"kind\", \"sagt\", \"berichtet\", \"zwei\", \"laut\", \"seien\", \"mensch\", \"schwer\", \"alt\", \"wien\", \"seit\", \"drei\", \"weit\", \"fall\", \"erklart\", \"bereit\", \"erst\", \"hatt\", \"rund\", \"beid\", \"osterreich\", \"offshor\", \"eigenkapital\", \"ebit\", \"unicredit\", \"pfeiff\", \"heta\", \"ebitda\", \"transaktion\", \"jahresumsatz\", \"zielpunkt\", \"bawag\", \"telekom\", \"ruckstell\", \"geschaftsjahr\", \"lufthansa\", \"lobbyist\", \"borsennotiert\", \"konsortium\", \"liegenschaft\", \"abschreib\", \"provision\", \"kapitalerhoh\", \"steueroas\", \"konkur\", \"holding\", \"aktionar\", \"sanier\", \"divid\", \"haftung\", \"betriebsrat\", \"gmbh\", \"ikea\", \"hypo\", \"operativ\", \"insolvenz\", \"eigentum\", \"euro\", \"filial\", \"umsatz\", \"panama\", \"million\", \"bank\", \"vorstand\", \"anleih\", \"standort\", \"unternehm\", \"milliard\", \"mitarbeit\", \"wien\", \"geschaft\", \"verkauf\", \"konz\", \"energi\", \"kund\", \"rund\", \"prozent\", \"jahr\", \"laut\", \"osterreich\", \"neu\", \"hoh\", \"soll\", \"seit\", \"chef\", \"weit\", \"erst\", \"bereit\", \"sowi\", \"sagt\", \"seien\", \"weg\", \"etwa\", \"gross\", \"word\", \"drei\", \"zwei\", \"deutsch\", \"land\", \"admira\", \"grodig\", \"kainz\", \"barisic\", \"zeidl\", \"altach\", \"jelic\", \"schaub\", \"meteorologi\", \"dibon\", \"schottel\", \"stangl\", \"foda\", \"pavelic\", \"lask\", \"strebing\", \"kayod\", \"petsos\", \"grahovac\", \"zamg\", \"prosen\", \"geodynam\", \"pfeifenberg\", \"gorgon\", \"novota\", \"edomwonyi\", \"schobesberg\", \"venuto\", \"tomi\", \"grozurek\", \"soriano\", \"vastic\", \"rapid\", \"wack\", \"ried\", \"keita\", \"alm\", \"happel\", \"slalom\", \"mattersburg\", \"weltcup\", \"fink\", \"hofmann\", \"celsius\", \"wolfsberg\", \"grad\", \"mannschaft\", \"mannch\", \"stadion\", \"temperatur\", \"bull\", \"sturm\", \"sonn\", \"ball\", \"arena\", \"spiel\", \"forsch\", \"salzburg\", \"bundesliga\", \"train\", \"austria\", \"atmosphar\", \"minut\", \"parti\", \"sieg\", \"team\", \"erst\", \"fussball\", \"punkt\", \"met\", \"platz\", \"zweit\", \"konnt\", \"zwei\", \"vier\", \"gross\", \"schon\", \"rund\", \"wien\", \"jahr\", \"drei\", \"bereit\", \"sagt\", \"weit\", \"beim\", \"stark\", \"osterreich\", \"wifo\", \"vormonat\", \"jobsuch\", \"arbeitslos\", \"einkomm\", \"arbeitsmarkt\", \"uberstund\", \"mindestlohn\", \"steuerreform\", \"mittelschicht\", \"altersgrupp\", \"arbeitszeit\", \"arbeitskraft\", \"weiterbild\", \"zuwach\", \"teilzeit\", \"lohnnebenkost\", \"prozentpunkt\", \"produktivitat\", \"market\", \"schrumpf\", \"sprachkurs\", \"jahresvergleich\", \"geringfug\", \"berufsbild\", \"zuwachs\", \"oecd\", \"armut\", \"lohn\", \"teuer\", \"arbeitnehm\", \"okonom\", \"wachstum\", \"durchschnitt\", \"anstieg\", \"ruckgang\", \"prozent\", \"inflation\", \"konjunktur\", \"plus\", \"gestieg\", \"statist\", \"schnitt\", \"befragt\", \"osterreich\", \"niedrig\", \"wirtschaft\", \"haushalt\", \"minus\", \"zahl\", \"hoh\", \"jahr\", \"standard\", \"wenig\", \"deutlich\", \"stark\", \"studi\", \"euro\", \"land\", \"arbeit\", \"gibt\", \"mensch\", \"viel\", \"vorjahr\", \"wien\", \"liegt\", \"fluchtling\", \"seit\", \"laut\", \"imm\", \"etwa\", \"sagt\", \"geht\", \"gross\", \"rund\", \"muss\", \"unternehm\", \"erst\", \"schon\", \"stok\", \"atletico\", \"tottenham\", \"palastinens\", \"barca\", \"israelis\", \"leic\", \"neymar\", \"westjordanland\", \"dynamo\", \"tampa\", \"nusra\", \"juventus\", \"netanjahu\", \"leaf\", \"grabn\", \"tempelberg\", \"aden\", \"sanaa\", \"hadi\", \"houthi\", \"suarez\", \"vidal\", \"watford\", \"mapl\", \"gazastreif\", \"jemenit\", \"ronaldo\", \"monchengladbach\", \"hisbollah\", \"assad\", \"chelsea\", \"leverkus\", \"guardiola\", \"united\", \"jerusal\", \"borussia\", \"israel\", \"luftangriff\", \"toronto\", \"liverpool\", \"sevilla\", \"taliban\", \"barcelona\", \"schalk\", \"bashar\", \"dortmund\", \"arsenal\", \"manch\", \"arnautovic\", \"hinspiel\", \"leagu\", \"rebell\", \"bay\", \"madrid\", \"champion\", \"syrisch\", \"city\", \"alaba\", \"tor\", \"minut\", \"arme\", \"syri\", \"saison\", \"train\", \"getotet\", \"kampf\", \"sieg\", \"real\", \"spiel\", \"punkt\", \"angriff\", \"islam\", \"erst\", \"seit\", \"beim\", \"munch\", \"jahrig\", \"zwei\", \"sagt\", \"drei\", \"word\", \"jahr\", \"sonntag\", \"bereit\", \"rund\", \"team\", \"samstag\", \"neu\", \"treff\", \"vergang\", \"volltext\", \"krim\", \"peskow\", \"mazedon\", \"kosovar\", \"radkersburg\", \"transitland\", \"balkanstaat\", \"mazedoni\", \"kosovo\", \"tribunal\", \"idomeni\", \"belgrad\", \"serbisch\", \"bohmermann\", \"serbi\", \"basier\", \"slowen\", \"dmitri\", \"uberfahrt\", \"kroatisch\", \"grenzubergang\", \"sonderzug\", \"moskaus\", \"kroati\", \"sammelstell\", \"grenzubertritt\", \"ukrain\", \"grenzzaun\", \"nickelsdorf\", \"sloweni\", \"budap\", \"kiew\", \"balkanrout\", \"ungar\", \"einreis\", \"ungarn\", \"artikel\", \"russisch\", \"fluchtling\", \"grenz\", \"spielfeld\", \"turkei\", \"agypt\", \"russland\", \"turkisch\", \"rechtlich\", \"moskau\", \"zaun\", \"putin\", \"verfug\", \"migrant\", \"mensch\", \"grund\", \"deutschland\", \"steht\", \"sagt\", \"berlin\", \"tier\", \"regier\", \"osterreich\", \"land\", \"seit\", \"rund\", \"europa\", \"seien\", \"deutsch\", \"bereit\", \"jahr\", \"zwei\", \"yuan\", \"vettel\", \"boeing\", \"barrel\", \"chinas\", \"toyota\", \"hamilton\", \"peking\", \"renault\", \"umweltbehord\", \"hongkong\", \"olpreis\", \"jinping\", \"nico\", \"autobau\", \"wang\", \"volkswag\", \"china\", \"taiwan\", \"ferrari\", \"chines\", \"vollzug\", \"tesla\", \"volksrepubl\", \"motor\", \"aktienmarkt\", \"shanghai\", \"geldpolit\", \"daiml\", \"absatz\", \"porsch\", \"bors\", \"airbus\", \"autos\", \"dollar\", \"fahrzeug\", \"satellit\", \"notenbank\", \"audi\", \"japan\", \"tokio\", \"markt\", \"konz\", \"amazon\", \"indi\", \"iran\", \"unternehm\", \"weltweit\", \"jahr\", \"herstell\", \"mark\", \"milliard\", \"prozent\", \"million\", \"sagt\", \"land\", \"erst\", \"seit\", \"bereit\", \"neu\", \"zufolg\", \"rund\", \"soll\", \"vergang\", \"euro\", \"deutsch\", \"weit\", \"europa\", \"zwei\", \"gross\"], \"Freq\": [5844.0, 3017.0, 5066.0, 5609.0, 9908.0, 2763.0, 3512.0, 2161.0, 3029.0, 4197.0, 1514.0, 1139.0, 3566.0, 1302.0, 7020.0, 2411.0, 1776.0, 4101.0, 724.0, 1323.0, 1407.0, 603.0, 888.0, 1053.0, 1417.0, 863.0, 1891.0, 2660.0, 616.0, 1073.0, 340.34731913304967, 219.7078562764123, 140.25614577938558, 83.6117888335985, 97.87099125293452, 73.85554185434817, 134.9782305333592, 58.86998587993802, 136.5527280547554, 57.05694906065299, 48.947925789711, 136.75158013509073, 294.8814228765023, 52.14002758529374, 62.039895044491466, 230.0117708288294, 102.82700458033727, 301.87339542577854, 112.26436463296969, 42.514138937611314, 39.952952842562844, 78.47065499704584, 61.574563468199294, 55.55077354797327, 79.44045961546621, 39.38814942875607, 42.04674266426207, 38.153510202422495, 35.49098984441793, 111.13502495654653, 419.6077799093301, 187.91309397315777, 144.74634665835347, 61.513798021724945, 1309.96422949416, 301.01851161656776, 158.67646460849028, 342.7292391464631, 304.34978010010974, 327.0926815184478, 186.47608008722145, 352.4455126747417, 156.69623312492973, 1137.5700702963395, 1418.653057860888, 598.0184586985528, 372.78790035681595, 310.7975580416941, 370.6463248200492, 180.95588161019535, 2029.7688250215833, 515.0466114592778, 201.51409692253074, 542.3556304919981, 455.2717615988547, 372.5737214310441, 347.5575923693208, 483.3694414771366, 1006.979057674503, 1772.0041367421009, 603.9453070846816, 418.85117720661395, 1236.0756448540076, 1976.5098079602708, 1241.16550092779, 1525.5329520873263, 933.5596821193488, 659.4907108937283, 525.7721058558942, 837.5998294192518, 502.5704066160915, 1045.5296156089569, 651.1043007253709, 734.1151673042234, 1011.5004770782894, 881.0955238112145, 593.0973200508311, 626.2200985543476, 756.768183796336, 985.8571991478161, 711.6523013965311, 832.3850381830663, 606.0198047739899, 760.9314679471922, 684.9520817622273, 610.4081065560564, 605.9906165982184, 614.5094726938742, 224.6955187871391, 70.63616664949114, 67.42650025667959, 47.2339606984417, 28.131244549487786, 57.03918461430459, 24.039220675824474, 59.731456737848966, 31.925745142914316, 45.97862993595666, 17.560397298123767, 29.483281085844933, 15.87919195139529, 17.95287794508316, 22.297388432189063, 19.05887012505404, 23.06660447269208, 13.594933170501315, 57.33479008048342, 45.94223302149354, 15.873917962735929, 60.14798677309505, 17.4352647253777, 24.611076069802277, 27.208859092889856, 18.716605841023675, 13.424704798360942, 32.39463789465595, 84.98185690018772, 42.69016695621748, 50.325838148170746, 81.51696781254422, 84.9867025770408, 37.16022683268204, 49.885322651773244, 140.39370596647325, 272.4434121004734, 94.32850910029751, 195.49342440211396, 139.38278782024685, 212.03500535644932, 390.3390367863066, 44.43713574517143, 201.97839757022717, 230.48087338691226, 104.62533588270492, 770.6339443631948, 131.51516021434134, 217.24105225645118, 466.9647093420397, 179.41782112215213, 555.1167000945911, 216.3002749630375, 138.4333803635724, 291.01025584171174, 112.04312102317778, 169.80242563810188, 731.3733755195979, 683.5783806930003, 181.50844301215008, 686.4864516470587, 519.9768743901752, 840.0068021437199, 1265.939342727991, 507.2246383058072, 504.4438590634885, 1169.515334097275, 2025.1281819270082, 758.7278989829025, 293.6384282267259, 870.4699231989822, 867.2070822150572, 1364.3997118962923, 1298.2731763279396, 541.4806841506118, 728.4800845192127, 540.0957155505229, 793.239193093393, 780.1879314411095, 747.342936467582, 541.6436216329752, 531.059896260212, 764.329757133611, 635.3932769161618, 815.2104892085954, 920.4337355874337, 639.220722358747, 643.4816960618455, 615.3056833395316, 670.0309933293523, 538.9622107297123, 408.14732116794096, 512.9012651445483, 106.14189165303901, 92.84589135164768, 60.38422614216979, 140.46817386150565, 51.348843184239705, 87.52166862746336, 78.25427787409798, 50.44027484663789, 56.788742192955915, 51.93042211159212, 154.3348501234275, 54.455627854715466, 47.085023094274504, 112.30855726941235, 58.59786413918324, 109.32149031972796, 44.687790924223556, 485.6560929601566, 210.48974205001738, 80.7344459773492, 84.9651273383489, 273.7812338116326, 277.5695325356435, 92.33764535979468, 32.60120483846018, 108.8653164780716, 38.569114087299624, 141.3791377067217, 460.1815625876461, 740.1422834852898, 164.62986122519257, 814.2123434108446, 640.0644123061688, 124.80762408147429, 89.58024311604105, 182.5318093768859, 557.4180786784846, 93.45205437245914, 145.47837017397453, 1009.0205998878081, 749.4214630715313, 184.9025966105827, 328.6489466359182, 158.79981422582435, 905.0396762588754, 705.0434526921358, 553.541654628411, 256.2745706253439, 274.44203747001706, 372.34877151174584, 150.2050264473416, 456.17782543268265, 1784.5793259766722, 343.0924632280737, 793.2087003871294, 734.7145349944068, 437.7985265230058, 692.9104215402543, 525.2599457751561, 1041.8256980685549, 770.081243295478, 557.3186939424539, 725.8112561565952, 645.3586833224587, 659.3361609847083, 699.4371471523, 577.8291035209402, 630.3913420762411, 537.6910892006417, 525.8551638946578, 538.4408359076004, 562.9834561582505, 525.3175218268734, 516.4017465117042, 75.72136081845655, 31.75823146733083, 51.92631958808186, 21.98871506737475, 32.080476446113906, 34.003177168556476, 30.514252267579597, 20.925040599129936, 18.55913706861141, 27.27497875025834, 19.88599553092913, 24.096390916250126, 14.336538037062642, 21.996971088673938, 20.584076000115118, 20.20929950887707, 19.053301910658142, 38.82955543195471, 15.706492734223934, 31.35068981189693, 29.880460287671934, 30.857363088540353, 19.788736949458972, 79.14764892526044, 21.34107879015771, 80.07995595828476, 16.415785341728995, 67.11904311101473, 13.018138069812599, 29.994088566545656, 332.89648318969216, 111.40607404448386, 302.125673342281, 301.5023780933771, 112.2150954134346, 1199.2235929787132, 311.19467222514675, 158.23419740276088, 39.83355535861515, 421.615197225291, 323.2934247697056, 462.3943271707781, 135.11323429665362, 55.41562734854824, 328.55819432817236, 191.58860198676933, 318.38118044887733, 225.72476638069418, 187.7090376951289, 1191.395981631362, 142.34601943406358, 129.34875456911115, 125.30508099321563, 138.95354076525544, 973.6651643208413, 1278.930697787231, 375.9582017777506, 1703.8373478606527, 244.86424603567448, 423.2252882661029, 1015.7065918201156, 258.6039343522248, 153.57375682310288, 193.50286016662295, 618.2587028688218, 252.6639969924821, 337.06529291719386, 531.8913743809843, 262.5636438970003, 1657.037860428808, 486.45702645195234, 1451.0420202463624, 534.6697169779065, 901.8396245969639, 780.6676983141766, 701.0423487320317, 826.3357279685425, 452.2015080664038, 492.13449890627874, 953.134157309003, 725.6060638313098, 578.1757881796232, 608.4646466481254, 503.057539043137, 471.21635223218726, 517.5056744858198, 557.4044239436596, 463.34044168769935, 482.9441433821518, 428.3748858366004, 430.0822820892049, 66.70239464420344, 34.8135053508734, 23.767009156129465, 22.668488946979533, 122.43594867492574, 48.63222946299386, 18.984521949175843, 51.47552964503414, 26.3160931742811, 161.94279649800225, 20.046033344028444, 152.4203120307644, 12.277063473500016, 58.08669873735971, 138.46368084083772, 20.02351303928247, 27.31700119282862, 44.38430346792593, 15.32752402167621, 34.84646289341749, 18.89508677398715, 19.256632989201314, 39.727791077442795, 21.99451260116625, 89.82113329509731, 61.34170941132344, 49.434932362249725, 43.903989455063346, 33.13829703371616, 63.745144996912444, 110.6103906878757, 75.6107241869072, 138.80864960950277, 75.58401111378426, 62.61618811927812, 153.94819257385097, 2611.707623672875, 127.4091007205641, 236.74230564665734, 140.70577676301096, 1294.0417332645957, 512.9738167215687, 162.22266192536793, 73.39310718064004, 187.3169838840355, 783.6232562013859, 552.6967745722324, 407.32418595396854, 1633.6827221089673, 269.141055682043, 207.5872242137645, 244.96121895538164, 210.49926941336767, 239.90931286784885, 711.8515811736931, 917.021804743967, 1160.161500426059, 568.4528257733831, 729.2707390070765, 751.7106140932452, 446.3725474801912, 448.3030678369008, 590.4153061454526, 341.87642697803864, 488.13192473964375, 574.2999428863045, 482.4261255178796, 322.33109619327433, 549.6079777480124, 377.4154041367764, 322.02716144549237, 352.1621591280826, 360.3200501560236, 340.4596436261559, 320.9241431331458, 339.9469492280303, 310.4449925456473, 315.04461584619844, 166.0952905505515, 173.46244857860466, 76.97657561129849, 119.41543835201982, 63.80232021590288, 136.06278486954645, 39.596049024496885, 47.080920466473366, 38.52832100190533, 34.74486011768974, 34.71743274225747, 33.0985153745851, 30.60425362678585, 31.25858708395088, 48.84640010194468, 30.554164407968834, 35.221856469198194, 33.26035597903423, 31.242756518265143, 41.326322354541354, 30.502166249275845, 29.883724270600293, 33.14610592745731, 29.02455133827987, 26.394112296489087, 25.016578671722744, 56.139678747976525, 24.970435163452937, 23.630812743741274, 21.600500084280334, 66.27808569983245, 39.08495423445389, 434.4340826223943, 72.479740486611, 121.82653849765084, 49.88956415891793, 61.165651553356135, 61.48308098416059, 54.978920585822216, 103.22556927576983, 109.2894258740729, 59.193396232283796, 117.8894454504528, 77.45915561194415, 54.79676681580002, 302.9488401284345, 309.1971003187564, 157.2720204556767, 185.02122951574705, 144.09537206779373, 180.97378610843302, 253.98461412146662, 148.70364837538347, 169.52103314611603, 111.97152730566776, 1090.40434664879, 758.1044923750724, 584.6547791524974, 169.98892794500154, 326.4310095190299, 348.27372680300135, 130.47748586286468, 406.50149261666724, 190.77859218167802, 378.2753349285853, 409.935320936135, 1041.0569418675752, 256.0318703267374, 362.6780962368308, 255.57058864099366, 337.94058071322667, 391.0912754916186, 451.87093940205324, 495.4072584951132, 335.62146419904786, 448.2522984320218, 435.94116338390444, 414.0556040350022, 498.7101062685196, 501.47566927854893, 353.41218389057263, 384.91492779348147, 420.6014134108488, 347.34813639828195, 327.8365892202776, 298.7806971798197, 325.7864150640535, 133.23571233069808, 38.14771839770172, 30.75380171435926, 210.18920891655392, 162.64798682412368, 279.0363606339462, 45.93791899304763, 96.88609319194707, 126.58004610886054, 32.79432928153365, 13.572733554649343, 84.9786939301401, 76.24050066787945, 17.277735841607125, 57.05060707984353, 23.390442135623374, 24.055311530828682, 108.95844755380551, 38.03868498389494, 22.295950470719273, 26.97335155834781, 21.160639451422917, 18.639628086590978, 30.914696567642373, 12.747174232205591, 35.12154280355985, 143.55055076422676, 70.95618358942966, 110.88664694290627, 17.05099354564327, 131.1222151440686, 284.8454797573797, 313.3821060593027, 77.36373141644907, 163.5470332640886, 126.65686227788562, 3520.779405473754, 81.17302750472521, 107.38762642856969, 230.9975111253353, 174.29253215295876, 165.42240160254448, 179.00070882665784, 169.51307630032872, 1806.4721575842486, 267.73156195535825, 398.30999108840604, 138.5503170001237, 160.9602382467844, 601.499870414076, 684.8789802139866, 1500.6091309763037, 762.5569294392579, 698.577289578251, 422.9924895435487, 552.4418830190572, 370.9581020540478, 790.3721139996047, 687.4416115003269, 411.66707386958717, 580.1618925883847, 559.3474537615497, 483.34065490137687, 227.3183725783968, 597.414439271427, 295.03333740195194, 388.2628801597755, 458.1778672087124, 387.2049323105417, 370.22025347085616, 384.88600513659424, 450.3447868352411, 334.87496651112997, 374.5494907902315, 352.3351630807446, 323.8552845482658, 314.13429468135575, 331.55527303081044, 315.2118133665444, 76.06689368858643, 91.77601039002808, 57.412377234108305, 129.0178177046306, 50.397164144752495, 59.785066748501194, 77.14876345289325, 53.76811398297565, 43.06770452872848, 43.250741889439276, 34.07586756530163, 41.92341183955506, 97.34550512371817, 45.814045262759, 42.938388751170955, 42.292887593016886, 30.535537497625345, 37.33017231070244, 32.88363651975157, 29.903758252291613, 26.504999455983636, 38.69972521636581, 45.515246194171375, 39.66404294597289, 41.9188918532505, 37.91218164820583, 23.097767525739922, 63.87561607410825, 43.23441104641318, 23.43305333719382, 152.50528019292696, 93.20861931310235, 84.04581497193692, 70.60941216598769, 131.76331922296288, 119.14657986179259, 85.62860522498178, 551.981646232477, 121.17979043085685, 85.44748775421924, 117.45552194982535, 71.47508229872906, 123.61669614155575, 217.3994567769134, 81.37437055820368, 56.77215282869545, 135.98483920059206, 99.14347028179168, 182.0503488219415, 92.60656891580169, 151.42188511728088, 410.6698780257675, 195.67818703481686, 385.21468146056844, 238.89706522927142, 242.6902259575872, 317.8383934136046, 224.98544843649864, 121.34826960766556, 275.482912107965, 446.29370692032876, 178.68373345918434, 352.9346177048403, 292.74757547073176, 317.4908108837091, 273.60184398345035, 408.11786136743495, 376.9286720132249, 210.57918318810098, 580.3326493198713, 355.1949053187658, 241.05650561781687, 231.35043720285836, 600.4041917869848, 559.5310304199201, 409.3301481958647, 199.3273560170136, 362.9334281122767, 432.92236836023324, 531.9585839311734, 364.5005058917573, 376.39230423123985, 454.0075184922971, 279.3238462941342, 356.8320178567269, 335.2039040017514, 263.9539847471683, 260.58277578269445, 312.06904166984106, 255.50227584097797, 256.2464157621483, 302.72600687644353, 129.08019577110372, 38.5456276296083, 83.01031187700606, 23.222945599932498, 32.51090920568521, 18.911026336333407, 39.3755785854101, 188.48020925793475, 113.41989237502086, 28.209893574021915, 41.184421623836144, 58.14495436182117, 124.90063895883836, 85.87493394254238, 224.17637128463426, 311.2428066259723, 129.67779212537968, 43.27363390640272, 19.8844573977285, 141.78259098426963, 109.7752164722205, 20.49987743907553, 21.43987269034079, 221.46879097580936, 30.56887754372939, 25.198201351009693, 596.260854975623, 63.71804504389181, 29.337696866369548, 258.0766788965138, 85.78429894039816, 213.25449452106665, 77.45355593100133, 214.3459807565171, 95.61258146369191, 354.955131064539, 367.7234175376428, 548.7005104135201, 1481.5788428266783, 681.1744558713517, 117.32029964025965, 418.91556904733613, 193.0201888686924, 526.1169116302061, 301.05215899406517, 346.5662292146438, 271.68868279360004, 144.44467889205893, 165.7953894220535, 384.6473271437945, 186.7734617718936, 781.0120681378221, 444.8878085973912, 461.83336897797346, 403.3553268409047, 613.4236963424548, 255.66889553567114, 251.3818765037194, 345.06562434875474, 417.03475007129424, 364.75240106272366, 352.1339394215211, 319.64426445219544, 304.5590689571854, 298.85462379988655, 277.4471444238404, 276.6401559921955, 264.4223073200481, 261.8018456035747, 47.36683491196055, 32.03373168274944, 38.4058324295496, 45.42616734751431, 122.71452790360786, 42.1583240492148, 39.93851203972679, 171.55763376476696, 30.94324730604964, 33.76831633186223, 36.871291099012666, 85.21256070871317, 14.85585964404003, 11.561627009361752, 97.70991567367018, 26.29775842756971, 202.39647447371286, 490.28930473727615, 25.05665061231595, 25.22725089669856, 347.8990093011459, 14.603878725191988, 98.59734059821919, 34.387451960396156, 110.79904850636292, 24.403641201724742, 16.030486084912088, 51.7622760556274, 48.048422463034576, 44.38275371156359, 97.66064605060645, 119.59660806632547, 49.8420031246496, 226.94671699175765, 572.4197873904358, 241.0062385787314, 77.62171844460316, 121.97419354669393, 58.47473813110936, 231.5016723881374, 54.21778259561957, 266.67880528939224, 211.6745264674664, 113.28651946560248, 113.95610111923848, 149.21357385066315, 363.37403938935654, 180.88158376203506, 796.4369334743768, 177.54120300097892, 134.94656572847842, 256.1046147856568, 495.72840139394833, 326.0492727905923, 497.4413600354965, 353.08198014580694, 404.6076857828082, 375.75650275337273, 330.14617168239823, 350.8098603908571, 187.7195067327836, 269.93288724920586, 246.96268826639593, 235.06003568265317, 275.1633539518634, 236.81553536738218, 240.66432703801777, 224.20849282296243, 227.93940974231697, 199.49276242191658], \"Total\": [5844.0, 3017.0, 5066.0, 5609.0, 9908.0, 2763.0, 3512.0, 2161.0, 3029.0, 4197.0, 1514.0, 1139.0, 3566.0, 1302.0, 7020.0, 2411.0, 1776.0, 4101.0, 724.0, 1323.0, 1407.0, 603.0, 888.0, 1053.0, 1417.0, 863.0, 1891.0, 2660.0, 616.0, 1073.0, 346.2950050151475, 223.54756788857816, 143.1425870167021, 85.36923758755738, 99.94523231271106, 75.4507870348609, 137.9379782428978, 60.16661033236682, 139.66708442150002, 58.396928331385325, 50.1306995650453, 140.10509004547876, 302.2346209663391, 53.46012600849391, 63.638432627343725, 236.01547285199814, 105.58993834876301, 310.02130451911756, 115.35184981640691, 43.70987555067953, 41.08130321934894, 80.77450343024496, 63.46092915651579, 57.326786701538126, 82.0281158662871, 40.69103642025832, 43.439509350238666, 39.43114020845862, 36.70015820950821, 114.95993653713023, 436.1420933655678, 195.37338085208765, 150.87039848793228, 63.69382201130878, 1407.4405115374987, 318.9400392448429, 166.54116278696907, 367.0074313053276, 325.4590518201076, 350.63398055518326, 198.23523725848602, 383.1358087250943, 166.6245215597895, 1322.4860273357833, 1675.2048412505853, 677.8273075115571, 426.81409437036154, 354.653191560166, 429.98119455057036, 197.85088126488705, 2914.930036366872, 640.3309050603636, 223.21418995469298, 697.6325788793463, 570.0807035862844, 458.37598345985197, 425.302390600769, 658.2533999571372, 1665.6407823230893, 3512.8517387252705, 925.2524934922266, 579.3353990107406, 2660.322182901739, 8453.189080165848, 4101.63842139816, 7020.760575426274, 3262.050880279815, 1613.0105528400159, 1036.524042465216, 3029.29855521483, 997.9701291935356, 5689.726164408108, 1907.6121063025648, 2607.965522960164, 6047.606984661434, 4336.911198613216, 1562.4088555684377, 1832.0456277013272, 3737.9992279541393, 9908.119757629518, 3485.097684000011, 6532.202206027956, 1951.4053730659823, 5609.278698563709, 4384.955490766077, 2167.971402282705, 2503.045448630935, 4428.843952802249, 226.88539786848443, 72.24305211743795, 69.19292571675044, 48.679482340592855, 29.338324987666137, 59.489530016550745, 25.30030972891291, 63.04800142433957, 33.71668651674876, 48.736363390751606, 18.69551238914676, 31.392645582997954, 16.91756866869695, 19.210190309274275, 23.963911431891432, 20.511460424024904, 24.833794902908735, 14.637364002643814, 61.86497009950633, 49.61644972257641, 17.144309110768052, 65.04485857471845, 18.859176306078822, 26.638491847450805, 29.535934303270512, 20.32471518823119, 14.592589287026728, 35.21944891228545, 92.5639259412241, 46.50148327089042, 55.04904735693291, 90.05470374378945, 94.8984386128097, 40.84196465118011, 55.474955063147384, 161.69771990522042, 331.70796833321106, 109.84762993302122, 241.68485960522136, 171.54290426646705, 269.40217839507585, 531.8060767736508, 50.276063762833914, 263.41335628454146, 316.03359343162106, 131.54189873354764, 1272.2419087745352, 171.18105568490066, 303.48598266551176, 755.1229568867736, 250.63187710166193, 964.1141280509099, 319.9860804302242, 187.024268599044, 484.3997959718153, 148.87036094516435, 257.0659628573968, 1776.8695944466897, 1624.729089325983, 283.28147972828936, 1744.236853750632, 1204.6304945730699, 2450.347389887305, 4428.843952802249, 1222.6292434855516, 1254.9497617392733, 4336.911198613216, 9908.119757629518, 2329.729633974487, 586.1817500792438, 3122.551194575554, 3114.225725959461, 7020.760575426274, 6532.202206027956, 1597.5390808729119, 2956.675728499475, 1764.5312808635074, 3737.9992279541393, 3666.3520109487863, 3485.097684000011, 1835.8193223224657, 1841.7016243821056, 4197.380253060308, 2763.9852350610117, 6047.606984661434, 8453.189080165848, 3258.346469553441, 4378.217018489325, 3512.8517387252705, 5689.726164408108, 3008.818925036342, 412.5337070646351, 518.5667786598804, 107.86670959336976, 94.67923425637353, 61.664453229204334, 143.78038707395723, 52.57376081278609, 89.61398185907312, 80.14401623940356, 51.69872417784107, 58.23360174779587, 53.29395131737923, 158.46692471332287, 55.92002711887459, 48.416330663346706, 115.49187949333091, 60.3026715924644, 112.67631033367022, 46.164748013236924, 501.78519698473673, 217.48582456670184, 83.4911850493791, 87.94394636165393, 283.55608761008114, 287.52783942833656, 95.65419631942974, 33.7767352132749, 112.83242581664771, 40.002831436479084, 146.80973947398778, 478.31686229490504, 780.3314775706401, 171.2769402117113, 863.1375111509268, 700.1120736316057, 131.09501070269206, 93.67264691238228, 198.33060825911056, 648.7398660086096, 98.6975603742724, 158.937786609842, 1323.0271882956845, 969.8784580751817, 208.36906255316381, 397.1549838743326, 176.61466117915094, 1297.114518731004, 1009.4803746872689, 831.788166997432, 330.11259370926143, 381.29534524735067, 593.6309710185072, 172.58896854354754, 833.679854290756, 6047.606984661434, 651.3660765437403, 2964.891298937265, 2651.093096244812, 1257.4816090664017, 3262.050880279815, 1927.278918028163, 8453.189080165848, 4384.955490766077, 2565.165319218505, 5066.633581510757, 3737.9992279541393, 4090.9556036597924, 6532.202206027956, 3666.3520109487863, 5689.726164408108, 3185.0025373771637, 3029.29855521483, 4101.63842139816, 9908.119757629518, 4336.911198613216, 4428.843952802249, 77.28549965888678, 32.90050031338137, 54.05834889069368, 23.122795439048666, 33.782397662425716, 35.85839871503432, 32.18423341137403, 22.106507169773934, 19.64223558272825, 28.880352908702186, 21.140773571099192, 25.637119161497093, 15.355383355489705, 23.671465341950945, 22.226348962516834, 21.882019781525052, 20.634484416267497, 42.090070196617326, 17.04900988057427, 34.213098820136054, 32.66829140675356, 33.81536662288813, 21.693592618780634, 86.78844312281312, 23.425164447451568, 88.00193807743689, 18.07591506682558, 73.94140358979547, 14.349496665572493, 33.14313110525657, 373.76227379227174, 124.18372251825471, 349.4891102580787, 351.98990927223196, 128.0311188443544, 1514.1361506224137, 384.46149431463624, 189.85710343034822, 44.8027824572286, 551.5029326499676, 415.9219022292147, 613.2827522989144, 165.38768491255894, 63.85852633279629, 442.9687320421342, 246.65734045992423, 431.12431164042744, 296.66223685823843, 242.6055975416062, 1891.6001533609297, 183.18185205696946, 165.7490440397872, 160.22093834369568, 180.77383971135214, 1732.4239584407514, 2411.0572367416285, 587.3368254310708, 3566.215270721357, 355.6140794637542, 744.4701375688142, 2537.0659318306084, 414.2227161359684, 208.0681540126373, 283.46038891143655, 1477.190276925944, 430.7535470842044, 662.9852530553057, 1398.5864058883742, 482.76292672540296, 9908.119757629518, 1331.2077289215508, 8453.189080165848, 1655.2679541612997, 4378.217018489325, 3430.7596635829564, 2866.409474335087, 4197.380253060308, 1283.0619498947206, 1597.5390808729119, 7020.760575426274, 5689.726164408108, 3002.735576109991, 4090.9556036597924, 2310.13040157768, 2503.045448630935, 4384.955490766077, 6532.202206027956, 2607.965522960164, 3720.087200493081, 2232.679239843175, 5609.278698563709, 69.28554067703152, 36.515365401468124, 24.952755724652206, 23.951860823609714, 129.70804473156207, 51.56578672194219, 20.15817427033698, 55.37204877394588, 28.320769795170765, 176.27465602590792, 21.943066878719392, 167.6651152224852, 13.518349740832912, 64.00075811855515, 154.0189374386863, 22.335724425039263, 30.56371219207459, 49.70176007703004, 17.223163015686467, 39.184909939466024, 21.306069253494872, 21.745031976934246, 45.04373045878996, 25.02214961088621, 102.92398123865017, 70.49944114699844, 57.08188858186843, 50.873121893766246, 38.58465533975049, 74.32626939220026, 129.25219478082343, 91.76022696728688, 174.92112195875742, 93.92988430534106, 78.12556242219503, 213.45669186480177, 5066.633581510757, 174.59755899792725, 353.5409014871162, 204.690639773454, 3029.3209937334627, 1002.8634555775287, 252.00788116900503, 98.62202621166207, 336.9017156893001, 2161.8775598663237, 1417.2296124513525, 1025.796615354242, 7020.760575426274, 594.0993434037426, 439.10593593825485, 580.4139467026649, 470.96251434382845, 633.7730594507362, 3720.087200493081, 5844.479890385095, 9908.119757629518, 3430.7596635829564, 5609.278698563709, 6047.606984661434, 2369.704039474395, 2964.891298937265, 5689.726164408108, 1613.0105528400159, 4090.9556036597924, 6532.202206027956, 4384.955490766077, 1695.2602360452272, 8453.189080165848, 2866.409474335087, 2537.0659318306084, 3666.3520109487863, 4428.843952802249, 3566.215270721357, 3002.735576109991, 4378.217018489325, 3004.8527002969136, 4101.63842139816, 168.52911285692844, 176.30423326667278, 78.55420500694453, 121.96368531693098, 65.25024586639057, 139.9296052363176, 40.811145969486226, 48.57851873135779, 39.81229940585956, 35.956375675765955, 35.92973312831796, 34.31475648635227, 31.742724280661196, 32.451751175558, 50.72252184705809, 31.743926881282555, 36.59753360176486, 34.5604720173552, 32.46788552177893, 42.947958410470164, 31.76825591038286, 31.19195465040507, 34.61079759304972, 30.311235474958217, 27.578285781409786, 26.1608643442407, 58.75741022510671, 26.144457909106578, 24.762751102102158, 22.6636889931551, 69.98692399625435, 41.07220408925454, 468.84370558415657, 77.24368098586936, 132.317348580091, 52.86380949110225, 65.4675576594619, 66.0456261675076, 58.7796424046514, 114.31930016036095, 122.59223373388296, 63.86167852868695, 134.70797065810385, 86.26819625641309, 59.631437519139325, 397.84955634241595, 408.80760362519914, 206.4227199521202, 257.15803268004174, 195.13133469990763, 258.1253886249095, 396.60902616500175, 207.82863941080134, 249.18230940801644, 147.4825536257966, 2763.9852350610117, 1776.8695944466897, 1355.580269738941, 266.08971421609846, 674.9106191857047, 750.9049278663658, 190.11138582498398, 1073.2113513475367, 346.68029002772835, 1023.0379524133735, 1166.4286335329557, 6532.202206027956, 619.2315153458549, 1230.3402877229398, 656.0061941267013, 1285.9198918596608, 1799.5522379651402, 3008.818925036342, 4378.217018489325, 1843.1455373241981, 4428.843952802249, 4336.911198613216, 3720.087200493081, 7020.760575426274, 9908.119757629518, 3002.735576109991, 4384.955490766077, 8453.189080165848, 4090.9556036597924, 3185.0025373771637, 2358.924886670359, 5609.278698563709, 136.25257864282912, 39.50457558247067, 32.79949484055797, 224.723625525525, 175.13944474994193, 302.66451785981803, 50.6826575614518, 106.92682570163076, 139.84551365411892, 36.295130391763756, 15.52280445605834, 98.77205663725088, 88.78182468734006, 20.152901041015454, 67.16286243455383, 27.85834194947035, 29.1938539914905, 132.34816639529154, 46.40027183823797, 27.46062572027896, 33.50447852445162, 26.621328160324502, 23.932514206578386, 39.73207510271088, 16.567635523486604, 45.6577200225195, 187.6143943577135, 92.75956736356255, 145.33563593639764, 22.371670702763513, 173.5474523309602, 386.01013406684206, 432.08748290042183, 102.48841649589698, 222.19264006086343, 173.69825064258367, 5844.479890385095, 110.22075207721359, 149.90490174753623, 357.7465610197813, 264.2184618695429, 252.31947282759816, 277.4659222730428, 274.4500029729455, 5609.278698563709, 522.1543371468758, 903.9224536447628, 223.70974057265047, 284.67476454548614, 1950.6617303342414, 2369.704039474395, 9908.119757629518, 3512.8517387252705, 3258.346469553441, 1427.6901103858481, 2358.924886670359, 1222.6292434855516, 5066.633581510757, 4101.63842139816, 1835.8193223224657, 3737.9992279541393, 4197.380253060308, 3485.097684000011, 567.689744294478, 7020.760575426274, 1211.8691564538499, 3017.0739021946893, 5689.726164408108, 3430.7596635829564, 3114.225725959461, 3666.3520109487863, 8453.189080165848, 2368.484638147861, 4428.843952802249, 3720.087200493081, 3029.29855521483, 2161.8775598663237, 6532.202206027956, 4336.911198613216, 77.38748911677538, 93.87867276553727, 58.72990242351874, 132.096266248405, 51.622338643277864, 61.45159270412959, 79.35999396295627, 55.35561397388608, 44.35454554781536, 44.599431638036975, 35.14868923791243, 43.268040974227816, 100.54096821173925, 47.343131746740106, 44.378645284218344, 43.717980997339644, 31.578709483941193, 38.64936780319104, 34.05598064167602, 30.98202855083883, 27.573717711093828, 40.30832298654499, 47.438486816525355, 41.368226965235934, 43.80555826099777, 39.64591687065906, 24.15848631545686, 66.81957840823536, 45.2424504432634, 24.522782525965162, 161.0904808509406, 98.04697258113718, 88.39591722575554, 74.24280818167061, 140.20947624672445, 126.82786283160712, 90.6542419529009, 616.796926234127, 129.33670767535008, 91.18260999395683, 127.0043874536146, 75.8591516675658, 134.48282072640544, 245.54962368185227, 87.89082983859554, 59.895116214181044, 153.39294905968626, 109.6390193528468, 215.32933803339765, 102.5501660951868, 177.73651461151593, 552.5698815803163, 243.90340529695897, 533.5433285873546, 311.5718175529971, 320.42582766998976, 473.834991875399, 311.32126172454457, 152.16537463973134, 476.29135907999694, 1073.2113513475367, 278.6462873914024, 785.8059745786444, 592.3787829794522, 674.9106191857047, 564.5572527590249, 1112.4832239788739, 1023.0379524133735, 417.24417750968564, 2763.9852350610117, 1230.3402877229398, 551.158896233178, 615.1806582337018, 6532.202206027956, 5689.726164408108, 3185.0025373771637, 435.06428734099603, 2411.0572367416285, 4378.217018489325, 8453.189080165848, 3002.735576109991, 3566.215270721357, 9908.119757629518, 1393.8203557990762, 4384.955490766077, 3720.087200493081, 1166.4286335329557, 1058.1488376055447, 6047.606984661434, 1045.9020242046047, 2571.7024457461494, 305.97446745068953, 133.63041025154388, 40.298115099616226, 87.76410409320134, 24.61636767531301, 34.91628490895316, 20.318307782826032, 42.424301779064905, 203.12098576885623, 122.51189595969193, 30.486330167462423, 44.53662778487686, 62.901173086947416, 135.66709471059173, 94.0853107975697, 245.94908208691473, 346.3549979509096, 145.51580631494636, 48.85237318268959, 22.53231431624024, 160.79533246183016, 125.7882395270218, 23.88114825300756, 25.460528285131613, 263.0035100672719, 36.402607971622956, 30.255506435620195, 724.772731205745, 77.87241773048518, 36.22325025974891, 321.6086849457774, 106.46057228525032, 276.6829310644071, 96.75592618465996, 285.2916126034219, 121.1102498592597, 498.6718125416264, 529.8940418442334, 888.9508422987482, 3017.0739021946893, 1302.72792782065, 160.82678925125225, 778.427702332022, 300.03234992502047, 1053.5003662695635, 529.4630892371721, 660.1515987315743, 487.6277429421979, 218.0461493903249, 267.78491849818704, 985.3175311086932, 337.0983775259972, 4197.380253060308, 1641.2030595156027, 2082.494580983958, 1680.643618558116, 8453.189080165848, 984.4375891172524, 951.1268287342414, 2660.322182901739, 5609.278698563709, 4101.63842139816, 5689.726164408108, 3720.087200493081, 3262.050880279815, 2866.409474335087, 3004.8527002969136, 4384.955490766077, 9908.119757629518, 4378.217018489325, 49.179434537627735, 33.414979310602206, 40.37554325061989, 49.22423455836691, 134.10861101305198, 46.118374199475355, 44.40422252808995, 195.54857469875182, 36.1603747210104, 39.5708681257603, 43.8088188905468, 101.91997497788303, 17.802020968083887, 14.119635309390512, 119.3530104565615, 32.17176440229197, 248.3607032192395, 603.2402020571635, 31.287260267982955, 32.352280233690806, 451.3591054116201, 19.360820676392333, 131.89715063138974, 46.052973922520735, 148.90257488741605, 33.3523863616452, 21.942753796766752, 71.14180396141022, 66.59983226723736, 61.68737314296379, 141.13652211345754, 178.07396368395183, 71.54993573106191, 384.07795781130375, 1139.0874646543434, 442.11480324260697, 121.21409660399132, 209.96425632990469, 87.20200521491046, 501.53746589211903, 79.64063875022623, 720.010203661756, 580.4139467026649, 242.89737620010257, 247.37679837593424, 461.1230544365152, 2161.8775598663237, 643.4460878125204, 9908.119757629518, 651.3660765437403, 407.9556137306987, 1417.2296124513525, 5844.479890385095, 3029.3209937334627, 8453.189080165848, 4101.63842139816, 6532.202206027956, 5689.726164408108, 4384.955490766077, 6047.606984661434, 997.0875442122222, 3720.087200493081, 2964.891298937265, 2571.7024457461494, 5066.633581510757, 3004.8527002969136, 4090.9556036597924, 3262.050880279815, 4378.217018489325, 4428.843952802249], \"Category\": [\"Default\", \"Default\", \"Default\", \"Default\", \"Default\", \"Default\", \"Default\", \"Default\", \"Default\", \"Default\", \"Default\", \"Default\", \"Default\", \"Default\", \"Default\", \"Default\", \"Default\", \"Default\", \"Default\", \"Default\", \"Default\", \"Default\", \"Default\", \"Default\", \"Default\", \"Default\", \"Default\", \"Default\", \"Default\", \"Default\", \"Topic1\", \"Topic1\", \"Topic1\", \"Topic1\", \"Topic1\", \"Topic1\", \"Topic1\", \"Topic1\", \"Topic1\", \"Topic1\", \"Topic1\", \"Topic1\", \"Topic1\", \"Topic1\", \"Topic1\", \"Topic1\", \"Topic1\", \"Topic1\", \"Topic1\", \"Topic1\", \"Topic1\", \"Topic1\", \"Topic1\", \"Topic1\", \"Topic1\", \"Topic1\", \"Topic1\", \"Topic1\", \"Topic1\", \"Topic1\", \"Topic1\", \"Topic1\", \"Topic1\", \"Topic1\", \"Topic1\", \"Topic1\", \"Topic1\", \"Topic1\", \"Topic1\", \"Topic1\", \"Topic1\", \"Topic1\", \"Topic1\", \"Topic1\", \"Topic1\", \"Topic1\", \"Topic1\", \"Topic1\", \"Topic1\", \"Topic1\", \"Topic1\", \"Topic1\", \"Topic1\", \"Topic1\", \"Topic1\", \"Topic1\", \"Topic1\", \"Topic1\", \"Topic1\", \"Topic1\", \"Topic1\", \"Topic1\", \"Topic1\", \"Topic1\", \"Topic1\", \"Topic1\", \"Topic1\", \"Topic1\", \"Topic1\", \"Topic1\", \"Topic1\", \"Topic1\", \"Topic1\", \"Topic1\", \"Topic1\", \"Topic1\", \"Topic1\", \"Topic1\", \"Topic1\", \"Topic1\", \"Topic1\", \"Topic1\", \"Topic1\", \"Topic1\", \"Topic1\", \"Topic1\", \"Topic1\", \"Topic1\", \"Topic2\", \"Topic2\", \"Topic2\", \"Topic2\", \"Topic2\", \"Topic2\", \"Topic2\", \"Topic2\", \"Topic2\", \"Topic2\", \"Topic2\", \"Topic2\", \"Topic2\", \"Topic2\", \"Topic2\", \"Topic2\", \"Topic2\", \"Topic2\", \"Topic2\", \"Topic2\", \"Topic2\", \"Topic2\", \"Topic2\", \"Topic2\", \"Topic2\", \"Topic2\", \"Topic2\", \"Topic2\", \"Topic2\", \"Topic2\", \"Topic2\", \"Topic2\", \"Topic2\", \"Topic2\", \"Topic2\", \"Topic2\", \"Topic2\", \"Topic2\", \"Topic2\", \"Topic2\", \"Topic2\", \"Topic2\", \"Topic2\", \"Topic2\", \"Topic2\", \"Topic2\", \"Topic2\", \"Topic2\", \"Topic2\", \"Topic2\", \"Topic2\", \"Topic2\", \"Topic2\", \"Topic2\", \"Topic2\", \"Topic2\", \"Topic2\", \"Topic2\", \"Topic2\", \"Topic2\", \"Topic2\", \"Topic2\", \"Topic2\", \"Topic2\", \"Topic2\", \"Topic2\", \"Topic2\", \"Topic2\", \"Topic2\", \"Topic2\", \"Topic2\", \"Topic2\", \"Topic2\", \"Topic2\", \"Topic2\", \"Topic2\", \"Topic2\", \"Topic2\", \"Topic2\", \"Topic2\", \"Topic2\", \"Topic2\", \"Topic2\", \"Topic2\", \"Topic2\", \"Topic2\", \"Topic2\", \"Topic2\", \"Topic2\", \"Topic2\", \"Topic2\", \"Topic3\", \"Topic3\", \"Topic3\", \"Topic3\", \"Topic3\", \"Topic3\", \"Topic3\", \"Topic3\", \"Topic3\", \"Topic3\", \"Topic3\", \"Topic3\", \"Topic3\", \"Topic3\", \"Topic3\", \"Topic3\", \"Topic3\", \"Topic3\", \"Topic3\", \"Topic3\", \"Topic3\", \"Topic3\", \"Topic3\", \"Topic3\", \"Topic3\", \"Topic3\", \"Topic3\", \"Topic3\", \"Topic3\", \"Topic3\", \"Topic3\", \"Topic3\", \"Topic3\", \"Topic3\", \"Topic3\", \"Topic3\", \"Topic3\", \"Topic3\", \"Topic3\", \"Topic3\", \"Topic3\", \"Topic3\", \"Topic3\", \"Topic3\", \"Topic3\", \"Topic3\", \"Topic3\", \"Topic3\", \"Topic3\", \"Topic3\", \"Topic3\", \"Topic3\", \"Topic3\", \"Topic3\", \"Topic3\", \"Topic3\", \"Topic3\", \"Topic3\", \"Topic3\", \"Topic3\", \"Topic3\", \"Topic3\", \"Topic3\", \"Topic3\", \"Topic3\", \"Topic3\", \"Topic3\", \"Topic3\", \"Topic3\", \"Topic3\", \"Topic3\", \"Topic3\", \"Topic3\", \"Topic3\", \"Topic3\", \"Topic3\", \"Topic4\", \"Topic4\", \"Topic4\", \"Topic4\", \"Topic4\", \"Topic4\", \"Topic4\", \"Topic4\", \"Topic4\", \"Topic4\", \"Topic4\", \"Topic4\", \"Topic4\", \"Topic4\", \"Topic4\", \"Topic4\", \"Topic4\", \"Topic4\", \"Topic4\", \"Topic4\", \"Topic4\", \"Topic4\", \"Topic4\", \"Topic4\", \"Topic4\", \"Topic4\", \"Topic4\", \"Topic4\", \"Topic4\", \"Topic4\", \"Topic4\", \"Topic4\", \"Topic4\", \"Topic4\", \"Topic4\", \"Topic4\", \"Topic4\", \"Topic4\", \"Topic4\", \"Topic4\", \"Topic4\", \"Topic4\", \"Topic4\", \"Topic4\", \"Topic4\", \"Topic4\", \"Topic4\", \"Topic4\", \"Topic4\", \"Topic4\", \"Topic4\", \"Topic4\", \"Topic4\", \"Topic4\", \"Topic4\", \"Topic4\", \"Topic4\", \"Topic4\", \"Topic4\", \"Topic4\", \"Topic4\", \"Topic4\", \"Topic4\", \"Topic4\", \"Topic4\", \"Topic4\", \"Topic4\", \"Topic4\", \"Topic4\", \"Topic4\", \"Topic4\", \"Topic4\", \"Topic4\", \"Topic4\", \"Topic4\", \"Topic4\", \"Topic4\", \"Topic4\", \"Topic4\", \"Topic4\", \"Topic4\", \"Topic4\", \"Topic4\", \"Topic4\", \"Topic4\", \"Topic4\", \"Topic4\", \"Topic4\", \"Topic4\", \"Topic4\", \"Topic4\", \"Topic5\", \"Topic5\", \"Topic5\", \"Topic5\", \"Topic5\", \"Topic5\", \"Topic5\", \"Topic5\", \"Topic5\", \"Topic5\", \"Topic5\", \"Topic5\", \"Topic5\", \"Topic5\", \"Topic5\", \"Topic5\", \"Topic5\", \"Topic5\", \"Topic5\", \"Topic5\", \"Topic5\", \"Topic5\", \"Topic5\", \"Topic5\", \"Topic5\", \"Topic5\", \"Topic5\", \"Topic5\", \"Topic5\", \"Topic5\", \"Topic5\", \"Topic5\", \"Topic5\", \"Topic5\", \"Topic5\", \"Topic5\", \"Topic5\", \"Topic5\", \"Topic5\", \"Topic5\", \"Topic5\", \"Topic5\", \"Topic5\", \"Topic5\", \"Topic5\", \"Topic5\", \"Topic5\", \"Topic5\", \"Topic5\", \"Topic5\", \"Topic5\", \"Topic5\", \"Topic5\", \"Topic5\", \"Topic5\", \"Topic5\", \"Topic5\", \"Topic5\", \"Topic5\", \"Topic5\", \"Topic5\", \"Topic5\", \"Topic5\", \"Topic5\", \"Topic5\", \"Topic5\", \"Topic5\", \"Topic5\", \"Topic5\", \"Topic5\", \"Topic5\", \"Topic5\", \"Topic5\", \"Topic5\", \"Topic5\", \"Topic5\", \"Topic5\", \"Topic5\", \"Topic6\", \"Topic6\", \"Topic6\", \"Topic6\", \"Topic6\", \"Topic6\", \"Topic6\", \"Topic6\", \"Topic6\", \"Topic6\", \"Topic6\", \"Topic6\", \"Topic6\", \"Topic6\", \"Topic6\", \"Topic6\", \"Topic6\", \"Topic6\", \"Topic6\", \"Topic6\", \"Topic6\", \"Topic6\", \"Topic6\", \"Topic6\", \"Topic6\", \"Topic6\", \"Topic6\", \"Topic6\", \"Topic6\", \"Topic6\", \"Topic6\", \"Topic6\", \"Topic6\", \"Topic6\", \"Topic6\", \"Topic6\", \"Topic6\", \"Topic6\", \"Topic6\", \"Topic6\", \"Topic6\", \"Topic6\", \"Topic6\", \"Topic6\", \"Topic6\", \"Topic6\", \"Topic6\", \"Topic6\", \"Topic6\", \"Topic6\", \"Topic6\", \"Topic6\", \"Topic6\", \"Topic6\", \"Topic6\", \"Topic6\", \"Topic6\", \"Topic6\", \"Topic6\", \"Topic6\", \"Topic6\", \"Topic6\", \"Topic6\", \"Topic6\", \"Topic6\", \"Topic6\", \"Topic6\", \"Topic6\", \"Topic6\", \"Topic6\", \"Topic6\", \"Topic6\", \"Topic6\", \"Topic6\", \"Topic6\", \"Topic6\", \"Topic6\", \"Topic6\", \"Topic6\", \"Topic6\", \"Topic6\", \"Topic6\", \"Topic6\", \"Topic6\", \"Topic6\", \"Topic6\", \"Topic6\", \"Topic7\", \"Topic7\", \"Topic7\", \"Topic7\", \"Topic7\", \"Topic7\", \"Topic7\", \"Topic7\", \"Topic7\", \"Topic7\", \"Topic7\", \"Topic7\", \"Topic7\", \"Topic7\", \"Topic7\", \"Topic7\", \"Topic7\", \"Topic7\", \"Topic7\", \"Topic7\", \"Topic7\", \"Topic7\", \"Topic7\", \"Topic7\", \"Topic7\", \"Topic7\", \"Topic7\", \"Topic7\", \"Topic7\", \"Topic7\", \"Topic7\", \"Topic7\", \"Topic7\", \"Topic7\", \"Topic7\", \"Topic7\", \"Topic7\", \"Topic7\", \"Topic7\", \"Topic7\", \"Topic7\", \"Topic7\", \"Topic7\", \"Topic7\", \"Topic7\", \"Topic7\", \"Topic7\", \"Topic7\", \"Topic7\", \"Topic7\", \"Topic7\", \"Topic7\", \"Topic7\", \"Topic7\", \"Topic7\", \"Topic7\", \"Topic7\", \"Topic7\", \"Topic7\", \"Topic7\", \"Topic7\", \"Topic7\", \"Topic7\", \"Topic7\", \"Topic7\", \"Topic7\", \"Topic7\", \"Topic7\", \"Topic7\", \"Topic7\", \"Topic7\", \"Topic7\", \"Topic7\", \"Topic7\", \"Topic7\", \"Topic7\", \"Topic7\", \"Topic7\", \"Topic7\", \"Topic8\", \"Topic8\", \"Topic8\", \"Topic8\", \"Topic8\", \"Topic8\", \"Topic8\", \"Topic8\", \"Topic8\", \"Topic8\", \"Topic8\", \"Topic8\", \"Topic8\", \"Topic8\", \"Topic8\", \"Topic8\", \"Topic8\", \"Topic8\", \"Topic8\", \"Topic8\", \"Topic8\", \"Topic8\", \"Topic8\", \"Topic8\", \"Topic8\", \"Topic8\", \"Topic8\", \"Topic8\", \"Topic8\", \"Topic8\", \"Topic8\", \"Topic8\", \"Topic8\", \"Topic8\", \"Topic8\", \"Topic8\", \"Topic8\", \"Topic8\", \"Topic8\", \"Topic8\", \"Topic8\", \"Topic8\", \"Topic8\", \"Topic8\", \"Topic8\", \"Topic8\", \"Topic8\", \"Topic8\", \"Topic8\", \"Topic8\", \"Topic8\", \"Topic8\", \"Topic8\", \"Topic8\", \"Topic8\", \"Topic8\", \"Topic8\", \"Topic8\", \"Topic8\", \"Topic8\", \"Topic8\", \"Topic8\", \"Topic8\", \"Topic8\", \"Topic8\", \"Topic8\", \"Topic8\", \"Topic8\", \"Topic8\", \"Topic8\", \"Topic8\", \"Topic8\", \"Topic8\", \"Topic8\", \"Topic8\", \"Topic8\", \"Topic8\", \"Topic8\", \"Topic8\", \"Topic8\", \"Topic8\", \"Topic8\", \"Topic8\", \"Topic8\", \"Topic8\", \"Topic8\", \"Topic8\", \"Topic8\", \"Topic8\", \"Topic8\", \"Topic8\", \"Topic9\", \"Topic9\", \"Topic9\", \"Topic9\", \"Topic9\", \"Topic9\", \"Topic9\", \"Topic9\", \"Topic9\", \"Topic9\", \"Topic9\", \"Topic9\", \"Topic9\", \"Topic9\", \"Topic9\", \"Topic9\", \"Topic9\", \"Topic9\", \"Topic9\", \"Topic9\", \"Topic9\", \"Topic9\", \"Topic9\", \"Topic9\", \"Topic9\", \"Topic9\", \"Topic9\", \"Topic9\", \"Topic9\", \"Topic9\", \"Topic9\", \"Topic9\", \"Topic9\", \"Topic9\", \"Topic9\", \"Topic9\", \"Topic9\", \"Topic9\", \"Topic9\", \"Topic9\", \"Topic9\", \"Topic9\", \"Topic9\", \"Topic9\", \"Topic9\", \"Topic9\", \"Topic9\", \"Topic9\", \"Topic9\", \"Topic9\", \"Topic9\", \"Topic9\", \"Topic9\", \"Topic9\", \"Topic9\", \"Topic9\", \"Topic9\", \"Topic9\", \"Topic9\", \"Topic9\", \"Topic9\", \"Topic9\", \"Topic9\", \"Topic9\", \"Topic9\", \"Topic9\", \"Topic9\", \"Topic9\", \"Topic9\", \"Topic9\", \"Topic10\", \"Topic10\", \"Topic10\", \"Topic10\", \"Topic10\", \"Topic10\", \"Topic10\", \"Topic10\", \"Topic10\", \"Topic10\", \"Topic10\", \"Topic10\", \"Topic10\", \"Topic10\", \"Topic10\", \"Topic10\", \"Topic10\", \"Topic10\", \"Topic10\", \"Topic10\", \"Topic10\", \"Topic10\", \"Topic10\", \"Topic10\", \"Topic10\", \"Topic10\", \"Topic10\", \"Topic10\", \"Topic10\", \"Topic10\", \"Topic10\", \"Topic10\", \"Topic10\", \"Topic10\", \"Topic10\", \"Topic10\", \"Topic10\", \"Topic10\", \"Topic10\", \"Topic10\", \"Topic10\", \"Topic10\", \"Topic10\", \"Topic10\", \"Topic10\", \"Topic10\", \"Topic10\", \"Topic10\", \"Topic10\", \"Topic10\", \"Topic10\", \"Topic10\", \"Topic10\", \"Topic10\", \"Topic10\", \"Topic10\", \"Topic10\", \"Topic10\", \"Topic10\", \"Topic10\", \"Topic10\", \"Topic10\", \"Topic10\", \"Topic10\", \"Topic10\", \"Topic10\", \"Topic10\", \"Topic10\", \"Topic10\", \"Topic10\"], \"logprob\": [30.0, 29.0, 28.0, 27.0, 26.0, 25.0, 24.0, 23.0, 22.0, 21.0, 20.0, 19.0, 18.0, 17.0, 16.0, 15.0, 14.0, 13.0, 12.0, 11.0, 10.0, 9.0, 8.0, 7.0, 6.0, 5.0, 4.0, 3.0, 2.0, 1.0, -6.6471, -7.0848, -7.5336, -8.0509, -7.8935, -8.175, -7.572, -8.4018, -7.5604, -8.4331, -8.5864, -7.5589, -6.7905, -8.5232, -8.3493, -7.039, -7.8441, -6.7671, -7.7563, -8.7273, -8.7894, -8.1144, -8.3569, -8.4598, -8.1021, -8.8036, -8.7383, -8.8355, -8.9078, -7.7664, -6.4378, -7.2411, -7.5021, -8.3578, -5.2994, -6.7699, -7.4102, -6.6402, -6.7589, -6.6869, -7.2488, -6.6122, -7.4228, -5.4405, -5.2196, -6.0835, -6.5561, -6.738, -6.5619, -7.2789, -4.8614, -6.2329, -7.1712, -6.1812, -6.3562, -6.5567, -6.6262, -6.2963, -5.5624, -4.9972, -6.0736, -6.4396, -5.3574, -4.888, -5.3533, -5.147, -5.6381, -5.9856, -6.2122, -5.7466, -6.2574, -5.5248, -5.9984, -5.8784, -5.5579, -5.6959, -6.0917, -6.0374, -5.8481, -5.5836, -5.9095, -5.7528, -6.0702, -5.8426, -5.9478, -6.063, -6.0702, -6.0563, -6.8851, -8.0423, -8.0888, -8.4447, -8.9629, -8.2561, -9.1201, -8.2099, -8.8364, -8.4716, -9.4342, -8.916, -9.5348, -9.412, -9.1953, -9.3523, -9.1614, -9.6901, -8.2509, -8.4724, -9.5351, -8.203, -9.4413, -9.0966, -8.9963, -9.3704, -9.7027, -8.8218, -7.8574, -8.5458, -8.3813, -7.899, -7.8573, -8.6846, -8.3901, -7.3553, -6.6924, -7.753, -7.0243, -7.3626, -6.943, -6.3328, -8.5057, -6.9916, -6.8596, -7.6494, -5.6526, -7.4207, -6.9188, -6.1535, -7.1101, -5.9806, -6.9231, -7.3694, -6.6264, -7.5809, -7.1652, -5.7049, -5.7725, -7.0985, -5.7682, -6.046, -5.5664, -5.1562, -6.0708, -6.0763, -5.2355, -4.6864, -5.6682, -6.6175, -5.5308, -5.5345, -5.0813, -5.131, -6.0055, -5.7088, -6.0081, -5.6237, -5.6403, -5.6833, -6.0052, -6.0249, -5.6608, -5.8456, -5.5964, -5.475, -5.8395, -5.8329, -5.8777, -5.7925, -6.0102, -6.0897, -5.8612, -7.4365, -7.5704, -8.0006, -7.1563, -8.1627, -7.6294, -7.7413, -8.1805, -8.062, -8.1514, -7.0622, -8.1039, -8.2494, -7.3801, -8.0306, -7.407, -8.3016, -5.9158, -6.7519, -7.7101, -7.6591, -6.489, -6.4752, -7.5759, -8.617, -7.4112, -8.4489, -7.1499, -5.9697, -5.4945, -6.9976, -5.3991, -5.6397, -7.2745, -7.6062, -6.8944, -5.778, -7.5639, -7.1213, -5.1846, -5.482, -6.8815, -6.3063, -7.0337, -5.2933, -5.543, -5.785, -6.5551, -6.4866, -6.1815, -7.0893, -5.9784, -4.6144, -6.2633, -5.4252, -5.5018, -6.0195, -5.5604, -5.8374, -5.1526, -5.4548, -5.7782, -5.514, -5.6315, -5.6101, -5.551, -5.742, -5.655, -5.814, -5.8363, -5.8126, -5.7681, -5.8373, -5.8544, -7.7085, -8.5774, -8.0858, -8.9451, -8.5674, -8.5091, -8.6174, -8.9947, -9.1146, -8.7296, -9.0456, -8.8535, -9.3728, -8.9447, -9.0111, -9.0295, -9.0884, -8.3764, -9.2815, -8.5904, -8.6384, -8.6062, -9.0505, -7.6643, -8.975, -7.6526, -9.2374, -7.8291, -9.4693, -8.6346, -6.2278, -7.3224, -6.3248, -6.3268, -7.3152, -4.9462, -6.2952, -6.9715, -8.3509, -5.9915, -6.257, -5.8992, -7.1295, -8.0207, -6.2409, -6.7802, -6.2724, -6.6163, -6.8007, -4.9527, -7.0773, -7.1731, -7.2048, -7.1015, -5.1545, -4.8818, -6.1061, -4.595, -6.5349, -5.9877, -5.1123, -6.4803, -7.0014, -6.7703, -5.6087, -6.5035, -6.2153, -5.7592, -6.4651, -4.6228, -5.8485, -4.7556, -5.754, -5.2312, -5.3755, -5.483, -5.3186, -5.9215, -5.8368, -5.1758, -5.4486, -5.6757, -5.6247, -5.8149, -5.8803, -5.7866, -5.7123, -5.8971, -5.8557, -5.9756, -5.9716, -7.5591, -8.2093, -8.591, -8.6384, -6.9517, -7.875, -8.8157, -7.8182, -8.4891, -6.6721, -8.7613, -6.7327, -9.2516, -7.6974, -6.8287, -8.7624, -8.4518, -7.9664, -9.0297, -8.2084, -8.8204, -8.8015, -8.0773, -8.6685, -7.2615, -7.6429, -7.8587, -7.9773, -8.2586, -7.6044, -7.0533, -7.4337, -6.8262, -7.4341, -7.6223, -6.7227, -3.8916, -6.9119, -6.2924, -6.8127, -4.5938, -5.5191, -6.6704, -7.4635, -6.5265, -5.0954, -5.4445, -5.7497, -4.3607, -6.1641, -6.4238, -6.2582, -6.4098, -6.2791, -5.1915, -4.9382, -4.703, -5.4164, -5.1673, -5.137, -5.6582, -5.6539, -5.3785, -5.9249, -5.5687, -5.4062, -5.5805, -5.9838, -5.4501, -5.826, -5.9847, -5.8952, -5.8723, -5.929, -5.9881, -5.9305, -6.0213, -6.0066, -6.5584, -6.515, -7.3275, -6.8884, -7.5152, -6.7579, -7.9923, -7.8191, -8.0196, -8.123, -8.1238, -8.1715, -8.2499, -8.2287, -7.7823, -8.2515, -8.1093, -8.1666, -8.2292, -7.9495, -8.2532, -8.2737, -8.1701, -8.3029, -8.3979, -8.4515, -7.6432, -8.4533, -8.5085, -8.5983, -7.4771, -8.0053, -5.597, -7.3877, -6.8684, -7.7612, -7.5574, -7.5522, -7.6641, -7.0341, -6.977, -7.5902, -6.9013, -7.3213, -7.6674, -5.9574, -5.937, -6.613, -6.4505, -6.7005, -6.4727, -6.1337, -6.6691, -6.538, -6.9528, -4.6767, -5.0402, -5.3, -6.5353, -5.8828, -5.818, -6.7998, -5.6634, -6.4199, -5.7354, -5.655, -4.723, -6.1257, -5.7775, -6.1275, -5.8481, -5.7021, -5.5576, -5.4656, -5.855, -5.5657, -5.5935, -5.645, -5.459, -5.4535, -5.8034, -5.718, -5.6293, -5.8207, -5.8785, -5.9713, -5.8848, -6.7124, -7.963, -8.1785, -6.2565, -6.5129, -5.9732, -7.7772, -7.031, -6.7636, -8.1143, -8.9964, -7.1621, -7.2706, -8.7551, -7.5606, -8.4522, -8.4242, -6.9135, -7.9659, -8.5001, -8.3097, -8.5524, -8.6792, -8.1733, -9.0592, -8.0457, -6.6378, -7.3424, -6.896, -8.7683, -6.7284, -5.9526, -5.8571, -7.256, -6.5074, -6.763, -3.4381, -7.2079, -6.9281, -6.1621, -6.4438, -6.496, -6.4171, -6.4716, -4.1054, -6.0145, -5.6173, -6.6733, -6.5234, -5.2051, -5.0753, -4.2909, -4.9678, -5.0555, -5.5572, -5.2902, -5.6884, -4.932, -5.0715, -5.5843, -5.2412, -5.2777, -5.4238, -6.1782, -5.2119, -5.9174, -5.6428, -5.4773, -5.6456, -5.6904, -5.6516, -5.4945, -5.7908, -5.6788, -5.7399, -5.8242, -5.8547, -5.8007, -5.8513, -7.193, -7.0053, -7.4744, -6.6647, -7.6047, -7.4339, -7.1789, -7.5399, -7.7618, -7.7576, -7.996, -7.7888, -6.9464, -7.7, -7.7649, -7.78, -8.1057, -7.9048, -8.0316, -8.1266, -8.2473, -7.8688, -7.7066, -7.8442, -7.7889, -7.8893, -8.3849, -7.3677, -7.758, -8.3705, -6.4974, -6.9898, -7.0933, -7.2675, -6.6436, -6.7443, -7.0746, -5.2111, -6.7273, -7.0767, -6.7586, -7.2553, -6.7074, -6.1429, -7.1256, -7.4856, -6.6121, -6.9281, -6.3203, -6.9963, -6.5045, -5.5068, -6.2481, -5.5708, -6.0486, -6.0328, -5.7631, -6.1086, -6.726, -5.9061, -5.4236, -6.339, -5.6583, -5.8453, -5.7642, -5.9129, -5.5131, -5.5926, -6.1748, -5.161, -5.652, -6.0396, -6.0807, -5.127, -5.1975, -5.5101, -6.2297, -5.6304, -5.4541, -5.2481, -5.6261, -5.594, -5.4065, -5.8922, -5.6474, -5.7099, -5.9488, -5.9617, -5.7814, -5.9814, -5.9785, -5.5653, -6.4177, -7.6263, -6.8592, -8.133, -7.7965, -8.3384, -7.605, -6.0391, -6.547, -7.9384, -7.5601, -7.2152, -6.4506, -6.8252, -5.8657, -5.5375, -6.4131, -7.5106, -8.2882, -6.3238, -6.5797, -8.2577, -8.2129, -5.8778, -7.8581, -8.0513, -4.8874, -7.1237, -7.8992, -5.7249, -6.8263, -5.9156, -6.9284, -5.9105, -6.7178, -5.4061, -5.3708, -4.9706, -3.9773, -4.7543, -6.5132, -5.2405, -6.0153, -5.0126, -5.5708, -5.43, -5.6735, -6.3052, -6.1674, -5.3258, -6.0482, -4.6175, -5.1803, -5.1429, -5.2783, -4.8591, -5.7342, -5.7511, -5.4344, -5.245, -5.3789, -5.4141, -5.5109, -5.5593, -5.5782, -5.6525, -5.6554, -5.7006, -5.7105, -7.1923, -7.5835, -7.4021, -7.2342, -6.2404, -7.3088, -7.3629, -5.9053, -7.6181, -7.5307, -7.4428, -6.6051, -8.3519, -8.6026, -6.4683, -7.7808, -5.74, -4.8553, -7.8291, -7.8223, -5.1984, -8.369, -6.4592, -7.5126, -6.3426, -7.8555, -8.2758, -7.1036, -7.1781, -7.2574, -6.4688, -6.2661, -7.1414, -5.6256, -4.7004, -5.5654, -6.6984, -6.2465, -6.9817, -5.6057, -7.0573, -5.4642, -5.6952, -6.3203, -6.3145, -6.0449, -5.1548, -5.8524, -4.3701, -5.8711, -6.1454, -5.5047, -4.8442, -5.2632, -4.8408, -5.1836, -5.0474, -5.1213, -5.2507, -5.19, -5.8153, -5.4521, -5.541, -5.5904, -5.4329, -5.583, -5.5669, -5.6377, -5.6212, -5.7545], \"loglift\": [30.0, 29.0, 28.0, 27.0, 26.0, 25.0, 24.0, 23.0, 22.0, 21.0, 20.0, 19.0, 18.0, 17.0, 16.0, 15.0, 14.0, 13.0, 12.0, 11.0, 10.0, 9.0, 8.0, 7.0, 6.0, 5.0, 4.0, 3.0, 2.0, 1.0, 1.6777, 1.6777, 1.6747, 1.6743, 1.6741, 1.6737, 1.6734, 1.6733, 1.6725, 1.6718, 1.6712, 1.6708, 1.6704, 1.6701, 1.6696, 1.6693, 1.6685, 1.6684, 1.6679, 1.6673, 1.6672, 1.6661, 1.6649, 1.6636, 1.663, 1.6625, 1.6625, 1.6621, 1.6616, 1.6612, 1.6564, 1.6561, 1.6536, 1.6602, 1.6233, 1.6372, 1.6467, 1.6266, 1.628, 1.6256, 1.6339, 1.6116, 1.6336, 1.5444, 1.5288, 1.5698, 1.5597, 1.5631, 1.5466, 1.6058, 1.3331, 1.4773, 1.5928, 1.4433, 1.4702, 1.4878, 1.4932, 1.3863, 1.1918, 1.0107, 1.2685, 1.3707, 0.9286, 0.2418, 0.4997, 0.1685, 0.444, 0.8007, 1.0163, 0.4095, 1.0091, 0.0009, 0.6201, 0.4274, -0.0932, 0.1013, 0.7264, 0.6216, 0.0978, -0.6125, 0.1064, -0.3651, 0.5257, -0.3026, -0.1615, 0.4276, 0.2767, -0.28, 1.8627, 1.8499, 1.8465, 1.8422, 1.8304, 1.8303, 1.8212, 1.8183, 1.8178, 1.8141, 1.8097, 1.8096, 1.809, 1.8047, 1.8003, 1.7989, 1.7985, 1.7985, 1.7963, 1.7954, 1.7954, 1.7941, 1.7939, 1.7932, 1.7903, 1.7899, 1.789, 1.7888, 1.7869, 1.7869, 1.7827, 1.7728, 1.7621, 1.7779, 1.7662, 1.7311, 1.6755, 1.7201, 1.6603, 1.6648, 1.6329, 1.5631, 1.7489, 1.6068, 1.5567, 1.6434, 1.371, 1.6088, 1.538, 1.3917, 1.5381, 1.3203, 1.4808, 1.5715, 1.3628, 1.5882, 1.4577, 0.9847, 1.0066, 1.4272, 0.9399, 1.0322, 0.8018, 0.62, 0.9926, 0.961, 0.5618, 0.2846, 0.7505, 1.1811, 0.595, 0.5939, 0.2342, 0.2567, 0.7905, 0.4715, 0.6885, 0.3222, 0.3249, 0.3326, 0.6517, 0.6288, 0.1692, 0.4022, -0.1316, -0.3451, 0.2436, -0.0451, 0.1303, -0.2667, 0.1527, 2.0602, 2.0599, 2.0547, 2.0513, 2.0499, 2.0476, 2.0473, 2.0472, 2.047, 2.0462, 2.0457, 2.0449, 2.0444, 2.0443, 2.043, 2.0429, 2.0422, 2.0406, 2.0383, 2.0382, 2.0382, 2.0373, 2.0364, 2.0358, 2.0356, 2.0356, 2.0354, 2.0351, 2.0344, 2.0332, 2.0322, 2.018, 2.0313, 2.0125, 1.9812, 2.0217, 2.0262, 1.9878, 1.9191, 2.0162, 1.9824, 1.7999, 1.813, 1.9514, 1.8815, 1.9645, 1.7109, 1.7119, 1.6636, 1.8177, 1.742, 1.6044, 1.9319, 1.4679, 0.8504, 1.4298, 0.7523, 0.7876, 1.0158, 0.5216, 0.7709, -0.0227, 0.3314, 0.5442, 0.1277, 0.3144, 0.2456, -0.1634, 0.2232, -0.1292, 0.2919, 0.3198, 0.0404, -0.797, -0.0401, -0.0781, 2.1161, 2.1012, 2.0963, 2.0863, 2.0849, 2.0834, 2.0833, 2.0816, 2.0798, 2.0794, 2.0754, 2.0746, 2.0679, 2.0632, 2.0598, 2.057, 2.0568, 2.0559, 2.0545, 2.0492, 2.0474, 2.045, 2.0447, 2.0444, 2.0434, 2.0422, 2.0402, 2.0398, 2.0392, 2.0367, 2.0208, 2.028, 1.9909, 1.9817, 2.0047, 1.9034, 1.9251, 1.9544, 2.019, 1.868, 1.8846, 1.8542, 1.9344, 1.9948, 1.8378, 1.8839, 1.8334, 1.8633, 1.88, 1.6743, 1.8843, 1.8886, 1.8908, 1.8735, 1.5604, 1.5025, 1.6904, 1.3979, 1.7634, 1.5718, 1.2211, 1.6655, 1.8329, 1.7548, 1.2656, 1.6031, 1.4601, 1.1698, 1.5275, 0.3482, 1.1299, 0.3743, 1.0065, 0.5566, 0.6562, 0.7283, 0.5114, 1.0937, 0.9591, 0.1397, 0.0772, 0.4892, 0.231, 0.6122, 0.4666, -0.0003, -0.3246, 0.4087, 0.095, 0.4856, -0.4316, 2.3748, 2.3651, 2.3642, 2.3578, 2.3551, 2.3543, 2.3529, 2.3399, 2.3394, 2.328, 2.3224, 2.3175, 2.3165, 2.3159, 2.3064, 2.3036, 2.3005, 2.2997, 2.2962, 2.2955, 2.2927, 2.2913, 2.2873, 2.2839, 2.2767, 2.2737, 2.269, 2.2655, 2.2607, 2.2593, 2.2571, 2.2193, 2.1816, 2.1955, 2.1915, 2.086, 1.7502, 2.0978, 2.0118, 2.038, 1.5623, 1.7424, 1.9723, 2.1174, 1.8258, 1.398, 1.4712, 1.4892, 0.9548, 1.621, 1.6636, 1.5502, 1.6075, 1.4414, 0.7592, 0.5607, 0.268, 0.6152, 0.3727, 0.3278, 0.7435, 0.5237, 0.1472, 0.8614, 0.2869, -0.0185, 0.2057, 0.7528, -0.3203, 0.3854, 0.3487, 0.07, -0.0961, 0.0639, 0.1768, -0.1428, 0.1429, -0.1536, 2.4866, 2.4849, 2.4809, 2.48, 2.4787, 2.4731, 2.4709, 2.4698, 2.4684, 2.4669, 2.4668, 2.4651, 2.4646, 2.4637, 2.4635, 2.463, 2.4628, 2.4628, 2.4627, 2.4627, 2.4605, 2.4583, 2.4579, 2.4578, 2.4573, 2.4564, 2.4556, 2.4552, 2.4544, 2.4531, 2.4467, 2.4516, 2.4249, 2.4375, 2.4186, 2.4433, 2.4332, 2.4296, 2.4343, 2.3991, 2.3863, 2.4253, 2.3678, 2.3934, 2.4166, 2.2286, 2.2219, 2.2292, 2.1719, 2.198, 2.1461, 2.0555, 2.1664, 2.116, 2.2257, 1.571, 1.6494, 1.6602, 2.0531, 1.7748, 1.7329, 2.1248, 1.5303, 1.9039, 1.5063, 1.4555, 0.6647, 1.618, 1.2796, 1.5585, 1.1648, 0.9748, 0.6053, 0.3221, 0.7979, 0.2106, 0.2037, 0.3057, -0.1434, -0.4824, 0.3615, 0.0682, -0.4995, 0.035, 0.2275, 0.4349, -0.3448, 2.5453, 2.5327, 2.5033, 2.5008, 2.4937, 2.4864, 2.4694, 2.4691, 2.468, 2.4662, 2.4334, 2.4172, 2.4154, 2.4137, 2.4045, 2.3929, 2.3741, 2.3732, 2.369, 2.3593, 2.3508, 2.3381, 2.3177, 2.3167, 2.3055, 2.3053, 2.3, 2.2997, 2.2971, 2.2961, 2.2873, 2.2637, 2.2465, 2.2864, 2.2612, 2.2518, 2.0608, 2.2618, 2.2341, 2.1302, 2.1516, 2.1455, 2.1294, 2.0858, 1.4346, 1.8997, 1.7481, 2.0885, 1.9975, 1.3912, 1.3264, 0.6802, 1.0402, 1.0277, 1.3512, 1.116, 1.375, 0.7097, 0.7815, 1.0726, 0.7047, 0.5522, 0.5921, 1.6524, 0.1036, 1.1548, 0.5173, 0.0485, 0.3861, 0.438, 0.3137, -0.3646, 0.6114, 0.0975, 0.2107, 0.3319, 0.6387, -0.413, -0.054, 2.6303, 2.6249, 2.6249, 2.624, 2.6235, 2.6201, 2.6193, 2.6185, 2.6181, 2.6168, 2.6165, 2.616, 2.6152, 2.6147, 2.6146, 2.6144, 2.614, 2.6128, 2.6125, 2.6121, 2.608, 2.6068, 2.6062, 2.6055, 2.6035, 2.6028, 2.6026, 2.6025, 2.6021, 2.6021, 2.5928, 2.5969, 2.5971, 2.5974, 2.5854, 2.5851, 2.5905, 2.5365, 2.5824, 2.5826, 2.5694, 2.588, 2.5633, 2.5258, 2.5705, 2.594, 2.5271, 2.5469, 2.4797, 2.5456, 2.4873, 2.3508, 2.4272, 2.3218, 2.382, 2.3697, 2.2482, 2.3228, 2.4212, 2.1, 1.7701, 2.2032, 1.8471, 1.9427, 1.8934, 1.9232, 1.6448, 1.6491, 1.9637, 1.0867, 1.4052, 1.8206, 1.6696, 0.2607, 0.3282, 0.5959, 1.867, 0.7539, 0.3337, -0.1182, 0.5388, 0.3989, -0.4354, 1.0401, 0.1389, 0.2408, 1.1616, 1.2462, -0.3166, 1.2381, 0.3414, 2.8834, 2.8594, 2.8496, 2.8384, 2.8358, 2.8227, 2.8223, 2.8195, 2.8192, 2.8169, 2.8164, 2.8158, 2.8154, 2.8114, 2.8027, 2.8014, 2.7872, 2.7788, 2.7728, 2.769, 2.7682, 2.7579, 2.7414, 2.7222, 2.7222, 2.7194, 2.7111, 2.6989, 2.6934, 2.6832, 2.674, 2.6781, 2.6337, 2.6715, 2.6081, 2.6576, 2.5541, 2.5287, 2.4116, 2.1829, 2.2456, 2.5786, 2.2744, 2.4529, 2.1997, 2.3295, 2.2496, 2.3091, 2.4822, 2.4146, 1.9534, 2.3036, 1.2124, 1.5887, 1.3879, 1.4669, 0.2708, 1.5459, 1.5634, 0.8516, 0.295, 0.4741, 0.1116, 0.4398, 0.5228, 0.6332, 0.5117, 0.1308, -0.7295, 0.0772, 3.0843, 3.0797, 3.0719, 3.0416, 3.0331, 3.0321, 3.0159, 2.991, 2.9661, 2.9633, 2.9495, 2.9429, 2.941, 2.922, 2.9218, 2.9203, 2.9172, 2.9146, 2.8998, 2.8731, 2.8615, 2.8399, 2.8309, 2.8298, 2.8263, 2.8095, 2.808, 2.8039, 2.7954, 2.7927, 2.7537, 2.7238, 2.7604, 2.5958, 2.4338, 2.5152, 2.6762, 2.5788, 2.7223, 2.3488, 2.7374, 2.1287, 2.1132, 2.3592, 2.3468, 1.9936, 1.3386, 1.8529, 0.6009, 1.822, 2.0156, 1.411, 0.6547, 0.8929, 0.2891, 0.6695, 0.3403, 0.4044, 0.5355, 0.2747, 1.452, 0.4986, 0.6365, 0.7294, 0.2088, 0.5812, 0.2888, 0.4444, 0.1666, 0.0218]}, \"token.table\": {\"Topic\": [1, 2, 3, 4, 5, 7, 8, 9, 10, 1, 2, 3, 5, 7, 10, 3, 5, 7, 8, 2, 6, 1, 2, 3, 4, 5, 6, 7, 8, 9, 10, 3, 5, 8, 10, 7, 10, 5, 10, 1, 2, 3, 4, 5, 6, 7, 8, 9, 10, 1, 2, 4, 6, 8, 1, 3, 6, 7, 8, 9, 10, 1, 2, 3, 4, 5, 6, 7, 8, 9, 10, 2, 4, 5, 6, 8, 1, 2, 3, 4, 5, 6, 7, 8, 9, 10, 6, 7, 8, 4, 7, 2, 3, 5, 6, 8, 9, 10, 2, 3, 6, 1, 2, 3, 4, 5, 6, 7, 8, 9, 10, 1, 2, 4, 5, 8, 9, 10, 1, 2, 3, 4, 5, 6, 7, 8, 9, 10, 1, 2, 3, 5, 6, 7, 9, 10, 1, 2, 3, 4, 5, 6, 7, 8, 9, 10, 1, 2, 3, 4, 5, 6, 7, 8, 9, 10, 1, 2, 3, 4, 5, 6, 7, 8, 10, 2, 3, 5, 6, 7, 1, 2, 3, 4, 5, 6, 7, 8, 9, 10, 1, 2, 3, 5, 7, 8, 10, 2, 3, 7, 10, 1, 2, 3, 4, 7, 9, 1, 2, 3, 4, 5, 6, 7, 9, 10, 1, 2, 3, 4, 5, 7, 1, 2, 4, 6, 8, 1, 2, 3, 4, 6, 8, 9, 1, 2, 3, 4, 7, 9, 2, 6, 8, 1, 2, 6, 8, 1, 2, 3, 4, 5, 6, 8, 9, 1, 2, 3, 4, 5, 6, 7, 8, 9, 10, 1, 3, 4, 8, 9, 1, 2, 3, 4, 5, 6, 7, 8, 9, 10, 6, 8, 1, 2, 3, 4, 5, 6, 7, 8, 9, 10, 1, 2, 3, 4, 6, 8, 9, 1, 2, 3, 4, 5, 7, 8, 10, 2, 1, 2, 3, 4, 5, 6, 7, 8, 9, 10, 1, 2, 3, 4, 5, 9, 10, 1, 2, 3, 4, 5, 6, 7, 8, 9, 10, 1, 2, 3, 4, 5, 6, 7, 8, 9, 10, 2, 4, 5, 1, 3, 4, 9, 3, 9, 1, 2, 3, 4, 5, 6, 8, 1, 2, 3, 4, 5, 6, 7, 8, 9, 10, 8, 1, 2, 3, 4, 5, 6, 7, 8, 10, 2, 6, 8, 7, 10, 1, 8, 1, 2, 3, 5, 6, 8, 9, 2, 5, 1, 2, 3, 4, 5, 6, 7, 8, 9, 10, 1, 2, 3, 4, 5, 7, 8, 9, 10, 1, 2, 3, 4, 5, 7, 8, 9, 10, 1, 2, 3, 4, 5, 6, 7, 8, 9, 10, 1, 2, 3, 4, 5, 6, 7, 8, 9, 10, 8, 9, 1, 2, 3, 4, 7, 8, 1, 2, 3, 4, 5, 6, 7, 8, 9, 10, 1, 2, 3, 4, 5, 6, 7, 8, 9, 10, 1, 2, 3, 4, 5, 6, 7, 8, 9, 10, 4, 7, 1, 2, 3, 5, 8, 10, 3, 3, 1, 2, 3, 4, 5, 6, 7, 8, 9, 1, 4, 10, 1, 3, 9, 1, 2, 3, 4, 5, 7, 9, 10, 2, 3, 5, 10, 2, 6, 8, 4, 4, 2, 3, 5, 2, 3, 1, 2, 3, 4, 5, 6, 7, 8, 9, 10, 1, 2, 3, 4, 5, 6, 8, 9, 10, 1, 2, 4, 5, 6, 7, 8, 10, 2, 4, 6, 8, 1, 2, 3, 4, 5, 6, 7, 8, 9, 10, 2, 4, 5, 6, 9, 10, 1, 2, 3, 4, 5, 6, 7, 8, 10, 1, 2, 3, 4, 5, 6, 7, 8, 9, 10, 2, 8, 1, 2, 3, 4, 5, 6, 7, 8, 9, 10, 1, 2, 4, 7, 8, 9, 10, 1, 2, 3, 4, 5, 6, 7, 8, 9, 10, 1, 2, 3, 4, 5, 6, 7, 8, 9, 10, 1, 2, 3, 4, 8, 10, 2, 1, 2, 3, 4, 5, 6, 7, 8, 9, 10, 2, 3, 4, 5, 10, 1, 2, 3, 4, 7, 8, 9, 10, 3, 1, 2, 3, 4, 5, 6, 7, 8, 9, 10, 1, 2, 3, 4, 5, 6, 7, 8, 9, 10, 1, 2, 3, 4, 5, 6, 7, 8, 9, 10, 6, 3, 4, 2, 2, 3, 6, 1, 2, 5, 10, 2, 6, 1, 2, 5, 8, 9, 10, 1, 2, 3, 4, 5, 6, 7, 8, 9, 10, 2, 6, 8, 1, 2, 4, 6, 8, 10, 4, 8, 1, 2, 3, 4, 5, 6, 7, 8, 9, 10, 1, 2, 4, 5, 7, 9, 10, 8, 5, 5, 6, 1, 2, 3, 4, 5, 6, 7, 8, 9, 10, 5, 7, 1, 2, 3, 4, 5, 6, 8, 9, 1, 2, 3, 4, 5, 7, 8, 9, 10, 4, 1, 2, 3, 4, 5, 7, 9, 1, 3, 4, 8, 9, 1, 2, 3, 4, 5, 6, 7, 8, 9, 10, 1, 2, 3, 4, 5, 6, 7, 8, 9, 10, 2, 6, 1, 2, 3, 4, 5, 6, 7, 8, 9, 10, 1, 2, 3, 4, 5, 6, 7, 8, 9, 10, 1, 2, 3, 4, 5, 6, 7, 8, 9, 10, 1, 2, 3, 4, 5, 6, 7, 8, 9, 10, 1, 2, 3, 4, 5, 6, 7, 8, 9, 10, 3, 7, 1, 2, 3, 4, 5, 6, 7, 8, 9, 10, 1, 2, 3, 4, 5, 6, 7, 8, 9, 10, 1, 2, 3, 4, 5, 7, 8, 9, 10, 1, 2, 3, 4, 5, 6, 7, 8, 9, 10, 1, 2, 3, 4, 5, 6, 7, 9, 2, 5, 8, 10, 1, 4, 5, 2, 7, 8, 10, 1, 3, 4, 8, 9, 10, 1, 4, 6, 8, 9, 4, 9, 2, 3, 4, 6, 8, 1, 3, 4, 5, 6, 7, 9, 10, 1, 2, 3, 4, 5, 6, 8, 9, 10, 1, 2, 3, 4, 5, 6, 7, 9, 10, 1, 2, 6, 10, 3, 1, 2, 3, 4, 5, 6, 7, 8, 9, 10, 1, 2, 3, 4, 5, 6, 7, 8, 9, 10, 6, 1, 2, 3, 4, 5, 6, 7, 8, 9, 10, 1, 2, 3, 4, 5, 6, 7, 8, 9, 10, 1, 2, 3, 4, 5, 6, 7, 8, 9, 10, 1, 2, 3, 4, 5, 6, 7, 8, 9, 10, 1, 2, 3, 4, 5, 6, 7, 8, 9, 10, 1, 2, 3, 4, 5, 6, 7, 8, 9, 10, 2, 1, 2, 3, 4, 5, 6, 7, 8, 9, 10, 1, 2, 3, 4, 5, 6, 7, 8, 9, 10, 8, 9, 1, 2, 3, 4, 5, 6, 7, 8, 9, 10, 1, 2, 3, 4, 6, 8, 9, 10, 2, 3, 4, 5, 6, 7, 9, 1, 2, 3, 4, 5, 6, 7, 8, 9, 10, 2, 3, 5, 7, 9, 10, 2, 5, 1, 2, 3, 4, 5, 7, 6, 1, 2, 3, 4, 5, 6, 7, 8, 9, 10, 1, 2, 3, 4, 5, 6, 7, 8, 9, 10, 1, 2, 3, 5, 6, 7, 10, 2, 1, 2, 3, 4, 5, 6, 7, 8, 9, 10, 5, 10, 1, 2, 3, 4, 5, 6, 7, 8, 9, 10, 1, 2, 3, 4, 5, 6, 7, 8, 9, 10, 1, 2, 3, 4, 5, 6, 7, 8, 9, 10, 1, 2, 3, 4, 5, 6, 8, 9, 10, 1, 2, 3, 4, 5, 6, 7, 8, 9, 10, 1, 2, 3, 1, 2, 3, 4, 5, 7, 9, 1, 2, 3, 4, 5, 6, 7, 8, 9, 10, 6, 8, 1, 2, 3, 4, 5, 6, 7, 8, 9, 10, 6, 1, 2, 3, 4, 5, 6, 7, 8, 9, 10, 1, 3, 4, 7, 9, 1, 3, 4, 9, 1, 3, 9, 1, 2, 3, 6, 7, 8, 9, 10, 1, 2, 3, 4, 5, 6, 7, 8, 9, 10, 1, 2, 3, 4, 5, 6, 7, 8, 9, 10, 1, 5, 6, 9, 4, 6, 1, 2, 3, 4, 5, 6, 7, 8, 9, 10, 6, 1, 2, 3, 4, 5, 6, 7, 8, 9, 10, 1, 2, 3, 4, 5, 6, 7, 8, 9, 10, 2, 6, 8, 8, 1, 2, 3, 4, 5, 8, 9, 10, 1, 3, 5, 7, 10, 1, 4, 1, 2, 10, 2, 6, 8, 1, 2, 3, 4, 5, 6, 7, 8, 9, 10, 1, 2, 3, 4, 5, 1, 2, 3, 4, 5, 6, 7, 9, 10, 1, 2, 3, 4, 5, 6, 7, 8, 9, 10, 1, 5, 7, 1, 2, 3, 4, 5, 6, 7, 8, 9, 10, 3, 5, 9, 10, 3, 7, 10, 1, 2, 5, 6, 8, 8, 1, 2, 5, 6, 10, 1, 2, 3, 4, 5, 6, 7, 8, 9, 10, 1, 2, 3, 4, 5, 7, 10, 1, 2, 4, 5, 10, 8, 1, 2, 3, 5, 7, 3, 9, 2, 3, 5, 7, 9, 10, 1, 2, 3, 4, 5, 6, 7, 8, 9, 10, 1, 2, 3, 4, 5, 6, 7, 8, 10, 1, 5, 7, 9, 10, 2, 3, 4, 5, 6, 7, 9, 3, 5, 6, 1, 2, 3, 4, 5, 6, 7, 10, 1, 2, 3, 4, 5, 6, 7, 8, 9, 10, 1, 1, 2, 3, 4, 5, 6, 7, 8, 9, 10, 1, 2, 3, 4, 5, 6, 7, 8, 9, 10, 8, 1, 2, 3, 4, 5, 6, 7, 8, 9, 10, 5, 5, 7, 10, 1, 2, 3, 4, 5, 6, 7, 8, 9, 10, 4, 6, 1, 2, 3, 4, 5, 6, 7, 8, 9, 10, 6, 8, 3, 2, 4, 8, 1, 4, 10, 7, 9, 1, 2, 3, 4, 8, 1, 2, 3, 4, 5, 6, 7, 8, 9, 10, 1, 3, 9, 1, 4, 6, 8, 6, 1, 2, 3, 4, 5, 6, 7, 8, 9, 10, 1, 2, 3, 4, 5, 6, 7, 8, 9, 10, 1, 4, 10, 1, 5, 10, 6, 2, 6, 8, 1, 5, 7, 1, 2, 4, 5, 8, 9, 1, 2, 3, 4, 5, 6, 7, 8, 9, 10, 2, 4, 1, 2, 3, 4, 5, 6, 7, 8, 9, 10, 1, 3, 6, 1, 2, 3, 4, 5, 7, 8, 9, 1, 2, 3, 4, 5, 6, 7, 8, 9, 10, 4, 2, 3, 4, 8, 1, 2, 3, 5, 7, 9, 10, 2, 4, 5, 1, 2, 3, 4, 5, 6, 7, 8, 9, 10, 3, 4, 5, 1, 2, 3, 4, 5, 6, 7, 8, 9, 10, 9, 1, 9, 1, 2, 3, 4, 5, 6, 7, 8, 9, 10, 1, 3, 9, 4, 1, 2, 3, 4, 5, 6, 7, 8, 9, 1, 2, 3, 4, 5, 6, 8, 9, 1, 2, 3, 4, 5, 6, 7, 8, 9, 10, 1, 2, 3, 4, 5, 7, 9, 1, 2, 3, 4, 5, 8, 10, 2, 2, 3, 4, 5, 8, 1, 1, 2, 3, 4, 5, 6, 7, 8, 9, 10, 1, 2, 3, 4, 5, 7, 9, 1, 1, 2, 3, 4, 5, 6, 7, 8, 9, 10, 4, 6, 1, 2, 3, 4, 5, 6, 7, 8, 9, 10, 8, 1, 2, 3, 4, 5, 6, 8, 9, 1, 2, 3, 4, 5, 6, 7, 8, 9, 10, 4, 8, 9, 2, 8, 1, 2, 3, 4, 7, 8, 9, 10, 2, 5, 6, 8, 3, 5, 1, 2, 3, 4, 5, 6, 7, 8, 9, 10, 2, 3, 6, 2, 2, 4, 6, 2, 8, 3, 5, 1, 2, 3, 4, 5, 6, 7, 8, 9, 10, 5, 7, 1, 2, 3, 7, 1, 4, 8, 9, 2, 4, 5, 7, 8, 10, 3, 1, 2, 3, 4, 5, 6, 7, 8, 9, 10, 1, 2, 4, 6, 7, 8, 9, 10, 1, 2, 3, 4, 5, 6, 7, 8, 9, 10, 1, 2, 3, 4, 5, 6, 8, 9, 10, 1, 4, 5, 9, 1, 3, 4, 5, 8, 9, 10, 1, 2, 3, 4, 5, 6, 7, 8, 9, 10, 2, 4, 5, 6, 7, 8, 9, 1, 2, 3, 4, 5, 6, 8, 5, 8, 1, 2, 3, 4, 5, 6, 7, 8, 9, 10, 1, 5, 7, 10, 1, 2, 3, 4, 5, 6, 7, 8, 9, 10, 1, 2, 3, 4, 5, 6, 7, 8, 1, 2, 4, 5, 6, 8, 2, 4, 6, 1, 3, 9, 1, 3, 5, 6, 8, 9, 3, 1, 2, 3, 4, 5, 6, 7, 8, 9, 10, 2, 5, 6, 8, 1, 2, 3, 4, 5, 6, 7, 8, 9, 10, 3, 1, 2, 3, 4, 5, 6, 7, 8, 9, 10, 6, 1, 2, 3, 5, 6, 7, 10, 1, 2, 3, 4, 6, 7, 8, 9, 10, 1, 2, 3, 4, 5, 6, 7, 8, 9, 10, 1, 2, 3, 4, 5, 6, 7, 8, 9, 10, 1, 7, 1, 2, 3, 4, 5, 6, 7, 9, 10, 1, 2, 3, 4, 5, 6, 7, 8, 9, 10, 1, 2, 3, 4, 5, 6, 7, 8, 9, 10, 1, 7, 1, 2, 3, 4, 5, 7, 9, 10, 1, 2, 3, 4, 5, 6, 7, 8, 9, 10, 1, 2, 3, 4, 5, 6, 7, 8, 9, 10, 1, 4, 6, 8, 1, 2, 4, 7, 8, 9, 10, 1, 2, 3, 4, 5, 6, 7, 8, 9, 10, 1, 8, 9, 1, 2, 3, 4, 5, 6, 7, 8, 9, 10, 2, 1, 2, 3, 4, 5, 6, 7, 8, 9, 10, 2, 4, 8, 1, 2, 3, 4, 6, 7, 8, 9, 1, 2, 3, 4, 5, 6, 7, 8, 10, 1, 2, 4, 8, 1, 2, 3, 4, 5, 6, 7, 8, 9, 10, 1, 2, 3, 4, 5, 7, 8, 9, 10, 2, 1, 2, 3, 4, 5, 7, 1, 2, 3, 4, 5, 6, 7, 8, 9, 10, 1, 2, 3, 5, 7, 8, 1, 2, 3, 4, 5, 6, 7, 8, 9, 10, 3, 6, 8, 1, 3, 4, 9, 2, 10, 1, 2, 3, 4, 5, 6, 7, 8, 9, 10, 1, 3, 5, 1, 2, 3, 5, 7, 9, 10, 6, 8, 1, 2, 3, 4, 5, 6, 7, 8, 9, 10, 1, 2, 3, 4, 5, 6, 8, 10, 1, 4, 1, 3, 5, 7, 10, 1, 5, 10, 1, 2, 3, 4, 5, 6, 7, 8, 9, 10, 1, 5, 7, 9, 10, 1, 2, 3, 4, 5, 6, 8, 9, 1, 3, 4, 5, 7, 9, 10, 1, 2, 3, 4, 5, 6, 7, 8, 9, 10, 1, 2, 3, 4, 5, 6, 7, 8, 9, 10, 1, 8, 9, 1, 2, 3, 4, 5, 6, 8, 9, 10, 1, 2, 3, 4, 5, 6, 7, 8, 9, 10, 1, 2, 3, 4, 5, 6, 7, 8, 9, 10, 1, 3, 4, 5, 8, 10, 1, 3, 1, 2, 3, 4, 6, 8, 9, 6, 1, 2, 4, 5, 6, 8, 10, 1, 9, 6, 6, 1, 2, 4, 5, 7, 1, 2, 3, 4, 6, 3, 1, 2, 3, 4, 5, 6, 8, 9, 1, 1, 2, 3, 4, 5, 6, 7, 8, 9, 10, 1, 2, 3, 4, 5, 6, 7, 8, 9, 10, 1, 1, 2, 3, 4, 5, 6, 7, 8, 9, 10, 1, 2, 3, 4, 5, 6, 7, 8, 9, 10, 1, 2, 3, 4, 6, 8, 9, 10, 1, 3, 4, 5, 7, 8, 10, 1, 2, 3, 4, 5, 6, 7, 8, 9, 10, 4, 3, 5, 7, 10, 6, 2, 5, 1, 2, 3, 4, 5, 6, 7, 8, 9, 10, 1, 3, 5, 7, 10, 3, 5, 6, 4, 8, 10, 1, 1, 2, 3, 4, 5, 6, 7, 8, 9, 10, 1, 2, 3, 5, 8, 9, 10, 4, 9, 1, 2, 4, 5, 6, 7, 8, 9, 10, 4, 1, 2, 3, 4, 5, 6, 7, 8, 9, 10, 1, 2, 3, 4, 6, 8, 9, 1, 2, 3, 4, 5, 6, 7, 8, 9, 10, 1, 2, 3, 4, 5, 6, 7, 8, 9, 10, 1, 2, 3, 4, 5, 6, 7, 8, 9, 10, 4, 5, 7, 10, 1, 3, 4, 8, 10, 4, 5, 6, 9, 10, 6, 8, 4, 1, 2, 3, 4, 5, 6, 7, 8, 9, 10, 5, 1, 2, 3, 4, 5, 6, 7, 8, 9, 10, 1, 2, 3, 4, 5, 6, 7, 8, 9, 10, 1, 2, 3, 4, 5, 6, 7, 8, 9, 10, 1, 2, 3, 4, 5, 6, 7, 8, 9, 10, 1, 2, 3, 4, 5, 6, 7, 8, 10, 1, 2, 3, 4, 5, 6, 7, 8, 9, 10, 1, 3, 4, 6, 9, 1, 2, 3, 4, 5, 6, 7, 8, 9, 10, 1, 2, 3, 5, 6, 7, 10, 8, 1, 2, 4, 5, 7, 10, 2, 3, 5, 6, 7, 8, 10, 1, 2, 3, 4, 5, 6, 7, 8, 9, 2, 6, 8, 6, 3, 10, 1, 2, 3, 4, 5, 6, 7, 8, 9, 10, 1, 6, 4, 5, 1, 2, 3, 4, 5, 6, 7, 8, 9, 10, 6, 5, 7, 4, 1, 2, 3, 4, 5, 6, 7, 8, 9, 10, 1, 2, 1, 2, 3, 4, 5, 6, 7, 8, 9, 10, 1, 2, 3, 4, 5, 6, 7, 8, 9, 10, 1, 2, 3, 4, 6, 7, 8, 9, 1, 2, 4, 6, 8, 9, 5, 6, 8, 1, 2, 3, 4, 7, 8, 10, 2, 8, 10, 1, 2, 3, 4, 5, 6, 7, 8, 9, 10, 1, 3, 4, 8, 2, 6, 2, 1, 3, 4, 6, 9, 1, 2, 3, 4, 5, 6, 7, 8, 9, 10, 1, 2, 3, 4, 5, 6, 7, 8, 9, 10, 3, 1, 2, 3, 4, 5, 6, 7, 8, 9, 10, 1, 2, 3, 4, 5, 6, 7, 8, 9, 10, 1, 3, 9, 1, 2, 3, 4, 8, 1, 2, 3, 4, 5, 6, 7, 8, 9, 10, 1, 2, 3, 4, 5, 6, 7, 8, 9, 10, 2, 3, 2, 6, 8, 1, 2, 3, 4, 5, 6, 7, 8, 9, 10, 1, 2, 3, 4, 5, 6, 7, 8, 9, 10, 1, 2, 3, 4, 6, 7, 8, 9, 3, 3, 5, 7, 1, 2, 3, 4, 5, 6, 7, 8, 9, 10, 1, 3, 4, 5, 8, 9, 4, 1, 2, 4, 6, 8, 9, 10, 1, 2, 3, 4, 5, 6, 7, 8, 9, 10, 1, 1, 2, 3, 4, 5, 6, 7, 8, 9, 10, 1, 2, 3, 4, 5, 6, 7, 8, 9, 10, 6, 1, 2, 3, 4, 5, 6, 7, 8, 9, 10, 1, 2, 3, 4, 5, 6, 7, 8, 9, 10, 1, 2, 3, 4, 5, 6, 7, 8, 9, 10, 1, 1, 3, 5, 10, 1, 2, 3, 5, 7, 10, 1, 4, 7, 1, 2, 3, 4, 5, 6, 7, 8, 9, 10, 8, 1, 2, 3, 4, 7, 8, 9, 6, 1, 1, 3, 5, 7, 1, 2, 3, 4, 5, 6, 7, 8, 9, 10, 1, 2, 3, 4, 5, 6, 7, 8, 9, 10, 6, 8, 1, 2, 3, 4, 5, 6, 7, 8, 9, 10, 1, 2, 3, 4, 8, 9, 1, 3, 2, 3, 4, 5, 6, 7, 10, 3, 10, 1, 4, 8, 8, 1, 2, 3, 4, 5, 6, 7, 8, 9, 10, 1, 2, 3, 4, 6, 8, 1, 4, 1, 2, 3, 4, 5, 6, 7, 8, 9, 10, 2, 6, 7, 2, 3, 4, 5, 7, 8, 1, 2, 3, 4, 5, 6, 7, 8, 9, 10, 2, 6, 1, 2, 3, 4, 5, 7, 9, 10, 7, 10, 1, 2, 3, 4, 5, 6, 7, 8, 9, 2, 8, 2, 1, 2, 3, 4, 5, 6, 7, 8, 9, 1, 2, 4, 5, 6, 8, 10, 6, 2, 1, 2, 3, 4, 6, 7, 8, 9, 10, 2, 8, 1, 2, 3, 4, 5, 6, 7, 8, 9, 10, 8, 4, 8, 10, 1, 2, 3, 4, 5, 6, 7, 8, 9, 10, 3, 5, 9, 1, 2, 3, 4, 5, 6, 7, 8, 9, 10, 1, 4, 9, 1, 2, 3, 7, 8, 10, 1, 3, 7, 9, 10, 1, 3, 4, 5, 6, 7, 9, 10, 1, 2, 3, 4, 5, 6, 7, 8, 9, 10, 1, 2, 3, 4, 5, 6, 7, 8, 9, 10, 3, 4, 9, 1, 2, 3, 4, 7, 8, 10, 4, 2, 3, 6, 7, 9, 1, 2, 3, 4, 5, 6, 7, 8, 9, 10, 1, 2, 3, 4, 5, 7, 9, 10, 1, 3, 5, 10, 1, 2, 3, 4, 5, 7, 8, 9, 10, 1, 2, 3, 4, 5, 6, 7, 8, 9, 1, 2, 3, 4, 5, 6, 7, 8, 9, 10, 5, 1, 2, 5, 6, 8, 10, 1, 2, 3, 4, 5, 6, 7, 8, 9, 10, 1, 2, 3, 4, 5, 6, 7, 8, 9, 1, 2, 3, 4, 5, 6, 7, 8, 9, 10, 1, 2, 3, 5, 6, 10, 2, 8, 1, 2, 3, 4, 5, 6, 7, 8, 1, 2, 3, 1, 2, 5, 6, 8, 6, 1, 2, 3, 4, 5, 6, 7, 8, 9, 10, 1, 2, 3, 4, 5, 6, 7, 8, 9, 10, 1, 2, 3, 4, 5, 6, 7, 8, 9, 10, 1, 4, 8, 9, 1, 4, 8, 9, 1, 2, 3, 4, 5, 6, 7, 8, 9, 10, 1, 2, 3, 4, 5, 6, 7, 8, 9, 10, 2, 3, 4, 10, 1, 2, 3, 4, 5, 6, 8, 9, 10, 1, 2, 3, 4, 5, 6, 8, 9, 10, 10, 8, 1, 2, 3, 4, 5, 6, 7, 8, 9, 10, 1, 2, 3, 4, 5, 6, 7, 8, 9, 10, 1, 1, 3, 9, 10, 1, 2, 3, 4, 5, 8, 9, 10, 1, 2, 8, 9, 3, 4, 10, 1, 2, 3, 4, 5, 6, 7, 8, 9, 10, 1, 2, 3, 4, 5, 6, 7, 8, 9, 10, 7, 1, 2, 3, 4, 5, 6, 7, 8, 10, 1, 1, 2, 3, 4, 5, 6, 7, 9, 10, 2, 4, 6, 1, 2, 3, 4, 5, 6, 7, 8, 9, 10, 1, 1, 2, 3, 4, 5, 7, 9, 1, 7, 1, 2, 4, 10, 2, 8, 3, 1, 2, 3, 4, 5, 6, 7, 8, 9, 10, 1, 2, 3, 4, 5, 6, 7, 8, 9, 10, 4, 7, 1, 2, 3, 4, 5, 6, 7, 8, 9, 10, 2, 4, 6, 1, 2, 3, 4, 5, 6, 7, 8, 9, 10, 1, 2, 3, 4, 5, 6, 7, 8, 9, 10, 1, 2, 3, 4, 5, 6, 7, 8, 9, 10, 8, 1, 2, 3, 4, 5, 6, 7, 8, 9, 10, 2, 5, 7, 2, 1, 2, 3, 4, 6, 8, 1, 2, 3, 4, 5, 6, 7, 8, 9, 10, 1, 2, 3, 4, 5, 6, 7, 8, 9, 10, 1, 3, 5, 8, 1, 4, 5, 6, 7, 1, 2, 3, 4, 5, 6, 7, 8, 9, 10, 10, 1, 2, 3, 4, 5, 6, 7, 8, 9, 10, 4, 6, 1, 2, 3, 4, 6, 7, 8, 9, 10, 6, 1, 2, 3, 4, 5, 6, 7, 8, 9, 10, 2, 4, 5, 7, 1, 2, 3, 4, 5, 6, 7, 8, 9, 10, 1, 5, 6, 7, 8, 10, 1, 3, 5, 7, 10, 1, 2, 3, 4, 5, 6, 7, 8, 9, 10, 1, 2, 3, 4, 5, 6, 7, 8, 9, 10], \"Freq\": [0.8042716600590303, 0.0015616925438039424, 0.12493540350431538, 0.009370155262823653, 0.021863695613255192, 0.0015616925438039424, 0.0031233850876078847, 0.010931847806627596, 0.021863695613255192, 0.06484309180632129, 0.016210772951580323, 0.08105386475790162, 0.06484309180632129, 0.032421545903160646, 0.7132740098695343, 0.025520028029790774, 0.8932009810426771, 0.05104005605958155, 0.9573248439252644, 0.005933692897611956, 0.9849930210035847, 0.01666486964238864, 0.029996765356299557, 0.0033329739284777287, 0.0699924524980323, 0.039995687141732746, 0.08999029606889868, 0.006665947856955457, 0.08665732214042095, 0.6432639681962016, 0.013331895713910915, 0.04192875883601406, 0.05590501178135208, 0.19566754123473226, 0.698812647266901, 0.20988003449282136, 0.7195886896896733, 0.8652550858213025, 0.09929156722539538, 0.0970193115512656, 0.18767670103359577, 0.3483152332742158, 0.02862864931020952, 0.0842954674133947, 0.06202874017212063, 0.11690031801668888, 0.02147148698265714, 0.02862864931020952, 0.025447688275741797, 0.006571797311757768, 0.02628718924703107, 0.006571797311757768, 0.15772313548218642, 0.7951874747226899, 0.005662044098284907, 0.9002650116273001, 0.022648176393139628, 0.005662044098284907, 0.03963430868799435, 0.005662044098284907, 0.022648176393139628, 0.12447695649294035, 0.14560031880689386, 0.2772441303706399, 0.0765721883880815, 0.08524785505274098, 0.07808099998193531, 0.0799670144742526, 0.06299288404339709, 0.0365886811509552, 0.03357105796324755, 0.01527474119626749, 0.01527474119626749, 0.01527474119626749, 0.9317592129723169, 0.01527474119626749, 0.06009242662629862, 0.33864586255028706, 0.07010783106401507, 0.30797368645978046, 0.03255006442257842, 0.0331760271999357, 0.07887130994701694, 0.03129813886786387, 0.029420250535792034, 0.018152920543361043, 0.9719172706184573, 0.007146450519253363, 0.007146450519253363, 0.06442134878596074, 0.9018988830034504, 0.0864562653105807, 0.3375911312127437, 0.05352054519226425, 0.004116965014789558, 0.004116965014789558, 0.04116965014789557, 0.46521704667122, 0.0024240443456498492, 0.9890100930251385, 0.0048480886912996984, 0.05934563617274606, 0.006435068982586922, 0.08437090443836187, 0.38038407763736026, 0.08723093509728938, 0.008580091976782563, 0.029315314254007088, 0.14300153294637605, 0.11726125701602835, 0.08365589677362999, 0.017167916893231168, 0.002861319482205195, 0.8641184836259688, 0.07725562601954025, 0.00572263896441039, 0.02861319482205195, 0.002861319482205195, 0.11249024632230512, 0.012700511681550578, 0.09797537582910446, 0.23949536313781092, 0.009071794058250413, 0.0417302526679519, 0.009071794058250413, 0.4372604736076699, 0.032658458609701485, 0.009071794058250413, 0.010139722721309793, 0.010139722721309793, 0.03041916816392938, 0.7401997586556149, 0.010139722721309793, 0.06083833632785876, 0.03041916816392938, 0.10139722721309793, 0.06546737478807327, 0.002257495682347354, 0.01805996545877883, 0.7427160794922795, 0.002257495682347354, 0.002257495682347354, 0.004514991364694708, 0.14899471503492537, 0.015802469776431478, 0.002257495682347354, 0.004500599118522009, 0.04500599118522009, 0.013501797355566027, 0.03150419382965407, 0.04500599118522009, 0.013501797355566027, 0.7380982554376095, 0.04500599118522009, 0.018002396474088037, 0.049506590303742104, 0.001158563945004056, 0.002317127890008112, 0.9430710512333015, 0.001158563945004056, 0.026646970735093284, 0.0034756918350121674, 0.001158563945004056, 0.001158563945004056, 0.01969558706506895, 0.013794002464192394, 0.9655801724934676, 0.004598000821397465, 0.004598000821397465, 0.004598000821397465, 0.13182125117511545, 0.2952360253591429, 0.09042284171516185, 0.08824397805937481, 0.044121989029687406, 0.0506585799970485, 0.22442295654606434, 0.016341477418402743, 0.02505693204155087, 0.03486181849259252, 0.09795591794445066, 0.011524225640523607, 0.023048451281047214, 0.057621128202618034, 0.7548367794542963, 0.011524225640523607, 0.03457267692157082, 0.05631783326833313, 0.011263566653666627, 0.8560310656786636, 0.05631783326833313, 0.017799641629338454, 0.004449910407334614, 0.017799641629338454, 0.017799641629338454, 0.9344811855402687, 0.004449910407334614, 0.03303988214644835, 0.003303988214644835, 0.01982392928786901, 0.003303988214644835, 0.00660797642928967, 0.003303988214644835, 0.921812711885909, 0.00660797642928967, 0.003303988214644835, 0.020248641853689218, 0.030372962780533825, 0.020248641853689218, 0.040497283707378436, 0.020248641853689218, 0.8605672787817917, 0.03390231506762733, 0.09492648218935652, 0.027121852054101864, 0.7594118575148522, 0.06780463013525466, 0.1650838431426355, 0.0035887791987529454, 0.0035887791987529454, 0.06818680477630597, 0.007177558397505891, 0.6423914765767772, 0.10407459676383542, 0.07546391384690429, 0.03234167736295898, 0.010780559120986327, 0.06468335472591796, 0.7654196975900293, 0.03234167736295898, 0.048756625078100926, 0.03900530006248074, 0.9068732264526772, 0.009120840426178391, 0.009120840426178391, 0.07296672340942713, 0.9029632021916606, 0.0035300578102004914, 0.6424705214564894, 0.017650289051002455, 0.02118034686120295, 0.017650289051002455, 0.2047433529916285, 0.0423606937224059, 0.04589075153260639, 0.09813282636472033, 0.090584147413588, 0.06982528029797408, 0.007548678951132333, 0.024533206591180082, 0.0018871697377830833, 0.0018871697377830833, 0.009435848688915416, 0.6944784635041746, 0.0018871697377830833, 0.031038457229676866, 0.006207691445935373, 0.006207691445935373, 0.9497767912281121, 0.006207691445935373, 0.004624349692670476, 0.0015414498975568256, 0.8585875929391518, 0.0015414498975568256, 0.0015414498975568256, 0.0015414498975568256, 0.03545334764380698, 0.0015414498975568256, 0.07553104498028444, 0.01695594887312508, 0.010652046631480484, 0.9799882900962046, 0.031560445335575976, 0.14202200401009188, 0.015780222667787988, 0.021040296890383982, 0.042080593780767964, 0.6838096489374794, 0.0052600742225959955, 0.04734066800336396, 0.0052600742225959955, 0.0052600742225959955, 0.024731498616683882, 0.004121916436113981, 0.032975331488911845, 0.7749202899894283, 0.016487665744455923, 0.14426707526398933, 0.004121916436113981, 0.06880575722098274, 0.03440287861049137, 0.022935252406994247, 0.03440287861049137, 0.12614388823846837, 0.011467626203497124, 0.03440287861049137, 0.6651223198028332, 0.9180471252586154, 0.00399517953427773, 0.039951795342777305, 0.00665863255712955, 0.01065381209140728, 0.2543597636823488, 0.4634408259762167, 0.20774933578244198, 0.00799035906855546, 0.00133172651142591, 0.00266345302285182, 0.008378506718638235, 0.008378506718638235, 0.050271040311829406, 0.008378506718638235, 0.08378506718638234, 0.01675701343727647, 0.8210936584265469, 0.06074103540412984, 0.7668555719771392, 0.03416683241482303, 0.04175946184033926, 0.011388944138274345, 0.01518525885103246, 0.04935209126585549, 0.011388944138274345, 0.003796314712758115, 0.003796314712758115, 0.01822546662112559, 0.03124365706478673, 0.10154188546055687, 0.1223709901704147, 0.05988367604084123, 0.0026036380887322274, 0.046865485597180095, 0.015621828532393365, 0.01041455235492891, 0.5910258461422156, 0.9105576565250215, 0.022208723329878572, 0.055521808324696435, 0.05167642125049203, 0.13435869525127928, 0.010335284250098406, 0.7958168872575773, 0.04714279118641709, 0.9192844281351333, 0.05217063775869226, 0.09230189757307092, 0.008026251962875732, 0.020065629907189332, 0.004013125981437866, 0.6822314168444372, 0.1404594093503253, 0.026922907450497583, 0.021937183848553587, 0.1555545763806527, 0.013960026085443191, 0.5115352415594541, 0.023931473289331186, 0.12564023476898872, 0.03290577577283038, 0.002991434161166398, 0.08475730123304795, 0.9685729340065626, 0.02036248284574151, 0.024434979414889813, 0.03257997255318642, 0.004072496569148302, 0.004072496569148302, 0.024434979414889813, 0.004072496569148302, 0.8837317555051816, 0.004072496569148302, 0.008199161884961344, 0.9757002643103999, 0.008199161884961344, 0.04063039309689071, 0.914183844680041, 0.033391704139084225, 0.9516635679639005, 0.008661633346561967, 0.03464653338624787, 0.028872111155206555, 0.014436055577603277, 0.008661633346561967, 0.005774422231041311, 0.8979226569269239, 0.04557248107236141, 0.9114496214472282, 0.033736716468103944, 0.02061688228606352, 0.005622786078017324, 0.04123376457212704, 0.08059326711824831, 0.016868358234051972, 0.0018742620260057746, 0.7215908800122233, 0.05997638483218479, 0.016868358234051972, 0.10622304930654025, 0.0024141602115122784, 0.08690976761444202, 0.6252674947816801, 0.0337982429611719, 0.01689912148058595, 0.021727441903610506, 0.1013947288835157, 0.004828320423024557, 0.1202404796594338, 0.04008015988647793, 0.010930952696312163, 0.10930952696312163, 0.04008015988647793, 0.6194206527910225, 0.003643650898770721, 0.003643650898770721, 0.054654763481560814, 0.20110367489758094, 0.14377345131876054, 0.06091336255249668, 0.19169793509168073, 0.05688233120711087, 0.0989842141478071, 0.031800358391376946, 0.10077578363464525, 0.0676317481281397, 0.04568502191437251, 0.151962202327968, 0.1437989435252259, 0.16891666291827848, 0.06970167131572086, 0.09230761876946816, 0.1029826495115155, 0.06216635549780509, 0.1284143403969812, 0.03171112073372886, 0.048037638339213026, 0.04769386408506471, 0.922081372311251, 0.9345859803984325, 0.016348442805803484, 0.0027247404676339145, 0.0027247404676339145, 0.0381463665468748, 0.005449480935267829, 0.15621595280556122, 0.09190515179655645, 0.17560041410260166, 0.11813118766902293, 0.10992129817851169, 0.08780020705130083, 0.04059334248086117, 0.08141473744756986, 0.0631705385797671, 0.07525732032968643, 0.10572306408763285, 0.06645449742651208, 0.1455957625435401, 0.3232105102107633, 0.11720156818857584, 0.025977667175818356, 0.014499163074875362, 0.07189168357959033, 0.09243216460233043, 0.03745617127676135, 0.10767569338250327, 0.11173892709505055, 0.1361183293703343, 0.10158084281368232, 0.1097073102387769, 0.013205509565778702, 0.032505869700378345, 0.08532790796349315, 0.26004695760302676, 0.04266395398174658, 0.18107592937731767, 0.7846623606350432, 0.026908386716498898, 0.026908386716498898, 0.013454193358249449, 0.8610683749279647, 0.04036258007474835, 0.013454193358249449, 0.9826942937222543, 0.9671418549518255, 0.8182413447251636, 0.11050960690253646, 0.011756341159844304, 0.018810145855750887, 0.007053804695906583, 0.016458877623782026, 0.004702536463937722, 0.011756341159844304, 0.004702536463937722, 0.048462562951737016, 0.9207886960830033, 0.9411638071127769, 0.04251460686149238, 0.031885955146119284, 0.9140640475220861, 0.0056156440802026175, 0.02807822040101309, 0.04492515264162094, 0.0056156440802026175, 0.15723803424567329, 0.061772084882228795, 0.01684693224060785, 0.6738772896243141, 0.032718538694370636, 0.032718538694370636, 0.8834005447480071, 0.032718538694370636, 0.01103092341249234, 0.033092770237477025, 0.9486594134743414, 0.9460391755645733, 0.9059551218399023, 0.924701686385081, 0.04300938076209679, 0.021504690381048394, 0.9564563672442188, 0.982263964537076, 0.047009617023689235, 0.7333500255695521, 0.041368462980846524, 0.018803846809475694, 0.03008615489516111, 0.013162692766632986, 0.05829192510937465, 0.016923462128528126, 0.005641154042842708, 0.03760769361895139, 0.03757259531991247, 0.028179446489934357, 0.018786297659956236, 0.056358892979868715, 0.018786297659956236, 0.009393148829978118, 0.009393148829978118, 0.8078107993781182, 0.009393148829978118, 0.003874086176982509, 0.058111292654737634, 0.023244517061895054, 0.011622258530947527, 0.7012095980338342, 0.015496344707930036, 0.1588375332562829, 0.023244517061895054, 0.015032523943227263, 0.0037581309858068157, 0.6388822675871587, 0.3344736577368066, 0.7981326102386372, 0.014033100839360655, 0.017541376049200818, 0.13331445797392621, 0.007016550419680328, 0.001754137604920082, 0.001754137604920082, 0.003508275209840164, 0.022803788863961064, 0.001754137604920082, 0.011591757372876113, 0.011591757372876113, 0.023183514745752226, 0.8925653177114607, 0.023183514745752226, 0.011591757372876113, 0.0031208470530344123, 0.0249667764242753, 0.0031208470530344123, 0.006241694106068825, 0.009362541159103238, 0.18725082318206474, 0.0031208470530344123, 0.7583658338873622, 0.0031208470530344123, 0.40855281376783525, 0.013639092417135623, 0.1159322855456528, 0.03161789605790531, 0.2120258912118356, 0.0024798349849337498, 0.061995874623343744, 0.026038267341804373, 0.03533764853530593, 0.09237385318878218, 0.03059757910951711, 0.9485249523950304, 0.04641600461062557, 0.01823485895417433, 0.0215502878549333, 0.019892573404553814, 0.009946286702276907, 0.003315428900758969, 0.05636229131290248, 0.006630857801517938, 0.006630857801517938, 0.8122800806859474, 0.014913285469829764, 0.022369928204744646, 0.014913285469829764, 0.007456642734914882, 0.007456642734914882, 0.007456642734914882, 0.9171670563945304, 0.017724246401774356, 0.046526146804657685, 0.0398795544039923, 0.04431061600443589, 0.03766402360377051, 0.004431061600443589, 0.017724246401774356, 0.011077654001108973, 0.008862123200887178, 0.7710047184771845, 0.05139385569546071, 0.1188482912957529, 0.0032121159809662945, 0.04175750775256183, 0.028909043828696652, 0.02248481186676406, 0.0032121159809662945, 0.7227260957174163, 0.0032121159809662945, 0.0032121159809662945, 0.962260053954485, 0.00511840454231109, 0.00511840454231109, 0.00511840454231109, 0.01535521362693327, 0.00511840454231109, 0.9490849578028376, 0.11262648683120853, 0.24622246970906847, 0.16132983248794736, 0.12446410556722143, 0.09436273220993147, 0.08117224276123138, 0.059526311358236335, 0.05783522296737735, 0.034159985495351534, 0.028410284966430978, 0.030030105661149924, 0.07507526415287481, 0.015015052830574962, 0.1201204226445997, 0.7207225358675982, 0.943751059643312, 0.009406156740631015, 0.009406156740631015, 0.012541542320841354, 0.006270771160420677, 0.006270771160420677, 0.0031353855802103386, 0.006270771160420677, 0.9747697526064054, 0.10366395264866089, 0.0931574709612966, 0.12887950869833517, 0.04552808731191188, 0.10576524898613375, 0.10016179208620613, 0.29628278358367266, 0.03852376618700236, 0.030819012949601887, 0.05743543322425806, 0.1427690615109386, 0.14842657676894783, 0.14975775682965586, 0.10549601981111313, 0.10316645470487405, 0.04293055695783468, 0.06722459306575664, 0.0688885681416417, 0.09218421920403262, 0.0788724185969521, 0.13925606464866666, 0.055702425859466664, 0.15942418435640457, 0.07827151219907816, 0.09075653868482068, 0.03697488613085287, 0.1445381912387885, 0.017286959749489652, 0.2218493167851172, 0.05618261918584137, 0.9734017776321506, 0.9819896200839366, 0.9673033357112885, 0.9332542884420271, 0.008874979993919604, 0.967372819337237, 0.008874979993919604, 0.03931349061251676, 0.01965674530625838, 0.8648967934753686, 0.03931349061251676, 0.9683070820602753, 0.014452344508362318, 0.04093966924637926, 0.02046983462318963, 0.02046983462318963, 0.02046983462318963, 0.8802028887971541, 0.02046983462318963, 0.019313705648297964, 0.05355163838846254, 0.12553908671393676, 0.012290539958007796, 0.18874757792654828, 0.001755791422572542, 0.029848454183733216, 0.014924227091866608, 0.05091795125460372, 0.5021563468557471, 0.92244031757063, 0.030748010585687668, 0.030748010585687668, 0.013038408950738578, 0.006519204475369289, 0.006519204475369289, 0.07171124922906218, 0.8866118086502233, 0.013038408950738578, 0.885155741263939, 0.05532223382899619, 0.08991800748229115, 0.11789249869900395, 0.07459864324456747, 0.19249114194357142, 0.10690252000672391, 0.11755946904166213, 0.07559773221659292, 0.12155582492976395, 0.04695718168519649, 0.05628201209076742, 0.019514400440366526, 0.019514400440366526, 0.06830040154128283, 0.03902880088073305, 0.7513044169541112, 0.058543201321099574, 0.03902880088073305, 0.9641378470690446, 0.9618176150495904, 0.9425456762698372, 0.9556259178226937, 0.1862729865624743, 0.1655183362491067, 0.2724047853629499, 0.06330168345577121, 0.06589601474494217, 0.06693374726061055, 0.047216829462911315, 0.05084889326775065, 0.04202816688456941, 0.03891496933756427, 0.9585006096801322, 0.027385731705146632, 0.023367071689071418, 0.7711133657393567, 0.03505060753360713, 0.011683535844535709, 0.02920883961133927, 0.12267712636762494, 0.005841767922267854, 0.005841767922267854, 0.02810874631093905, 0.0374783284145854, 0.03279353736276222, 0.03279353736276222, 0.7214578219807689, 0.023423955259115874, 0.04216311946640857, 0.014054373155469525, 0.07027186577734762, 0.9361426238578402, 0.011419472083262175, 0.011419472083262175, 0.0057097360416310874, 0.0057097360416310874, 0.028548680208155437, 0.9306869747858673, 0.0057097360416310874, 0.07431245506023444, 0.07431245506023444, 0.049541636706822954, 0.00825693945113716, 0.7926661873091673, 0.021233112393101102, 0.07006927089723364, 0.019109801153790993, 0.04883615850413254, 0.44589536025512316, 0.23356423632411213, 0.0828091383330943, 0.004246622478620221, 0.04883615850413254, 0.025479734871721324, 0.3416945465410946, 0.1315469420389837, 0.14410121451573318, 0.04803373817191106, 0.1217218592310928, 0.05622130717848681, 0.038754493297791875, 0.07477979692672518, 0.02074184148332523, 0.02237935528464038, 0.9085888901810039, 0.02839340281815637, 0.24210507257527328, 0.08190023082166836, 0.09987833027032726, 0.18817077422929657, 0.09987833027032726, 0.05792943155678981, 0.03835327882380567, 0.057130404914627196, 0.09108903720653846, 0.04314743867678138, 0.07337561643681603, 0.0016305692541514676, 0.016305692541514673, 0.753322995417978, 0.12229269406136006, 0.0016305692541514676, 0.0016305692541514676, 0.011413984779060273, 0.008152846270757337, 0.009783415524908806, 0.12736899038921748, 0.19870787202548593, 0.10700832245440267, 0.0852698649600891, 0.08787235635025341, 0.15936432571535505, 0.05082512597262044, 0.09185263729991645, 0.02954593166480646, 0.06200053017744361, 0.13146582722024747, 0.21274552952654155, 0.15764989239274488, 0.11100952630423386, 0.09600823896582387, 0.0662784149678841, 0.10500901136886986, 0.02182005431041452, 0.06300540682132193, 0.03491208689666323, 0.028618607931139208, 0.019144861857382782, 0.14329040936556597, 0.030197565610098613, 0.5155296821802456, 0.007500048975057172, 0.1559220707972412, 0.014605358530374493, 0.030987044449578317, 0.054276670214229536, 0.9737072131262751, 0.006955051522330537, 0.28632294046863016, 0.046289897227797805, 0.21244303827062172, 0.024524448862409433, 0.06928156803630665, 0.08123723685673125, 0.0839962373537523, 0.03402767279659309, 0.09349946128793597, 0.06866845681474641, 0.10699839638410578, 0.061313687815611174, 0.6660349617617372, 0.11300954224838139, 0.001202229172855121, 0.002404458345710242, 0.015628979247116575, 0.020437895938537058, 0.008415604209985848, 0.004808916691420484, 0.018094847630808833, 0.004523711907702208, 0.052022686938575396, 0.22844745133896152, 0.0565463988462776, 0.020356703584659935, 0.033927839307766564, 0.04523711907702208, 0.5451072848781161, 0.1891668105408921, 0.09956147923204847, 0.1255340390317133, 0.2177366263205234, 0.12466828703839114, 0.05800538355258476, 0.06796153147578961, 0.02770406378630914, 0.06449852350250097, 0.02597255979966482, 0.7769132583668193, 0.002866838591759481, 0.20354554001492314, 0.0014334192958797404, 0.002866838591759481, 0.0014334192958797404, 0.0014334192958797404, 0.008600515775278442, 0.8956943996392205, 0.021075162344452246, 0.03161274351667837, 0.021075162344452246, 0.023758572873094602, 0.9265843420506895, 0.023758572873094602, 0.030909722368150934, 0.06181944473630187, 0.12363888947260374, 0.7727430592037733, 0.02407947679867227, 0.0026754974220746966, 0.8909406415508739, 0.05886094328564333, 0.013377487110373483, 0.005350994844149393, 0.07810601118121022, 0.8747873252295545, 0.007810601118121022, 0.023431803354363064, 0.007810601118121022, 0.8964718282814274, 0.04268913468006797, 0.9013076250910844, 0.01802615250182169, 0.05407845750546507, 0.01802615250182169, 0.01802615250182169, 0.005727456934331319, 0.005727456934331319, 0.05154711240898187, 0.7273870306600775, 0.005727456934331319, 0.028637284671656594, 0.022909827737325274, 0.14318642335828297, 0.006193231345156376, 0.6007434404801685, 0.08257641793541835, 0.22089191797724408, 0.002064410448385459, 0.002064410448385459, 0.02064410448385459, 0.002064410448385459, 0.06193231345156376, 0.14487114756234448, 0.0033690964549382436, 0.6266519406185134, 0.0016845482274691218, 0.10612653833055467, 0.0016845482274691218, 0.0774892184635796, 0.0016845482274691218, 0.03369096454938244, 0.01565884303449361, 0.01565884303449361, 0.9238717390351232, 0.03131768606898722, 0.977003839821392, 0.19356502987055932, 0.00596604544121587, 0.1382133860548343, 0.03877929536790315, 0.0006628939379128744, 0.0003314469689564372, 0.12860142395509763, 0.0016572348447821859, 0.49120440799343995, 0.0009943409068693117, 0.0056240742858547285, 0.0028120371429273643, 0.02530833428634628, 0.6889491000172042, 0.08998518857367566, 0.0028120371429273643, 0.008436111428782093, 0.12372963428880403, 0.03655648285805573, 0.01968426000049155, 0.9766017474085017, 0.504023101780087, 0.020040679991255944, 0.11322984195059609, 0.0731484819680842, 0.06914034596983301, 0.012024407994753567, 0.05912000597420504, 0.02204474799038154, 0.09819933195715413, 0.028056951987758323, 0.11429902072342327, 0.501550926756514, 0.09553350985838362, 0.04606079939600639, 0.05629653259511892, 0.08188586559290024, 0.04776675492919181, 0.023883377464595904, 0.027295288530966747, 0.005117866599556265, 0.003939512512272896, 0.411397663781641, 0.0135069000420785, 0.01294411254032523, 0.035455612610456065, 0.42659292632897927, 0.025325437578897186, 0.01294411254032523, 0.05459038767006727, 0.002251150007013083, 0.31054541940092806, 0.2511010816938197, 0.18755713448966943, 0.0404836437832893, 0.06405639839128055, 0.024085205795121484, 0.07789258044379714, 0.00819921899408391, 0.023572754607991242, 0.012298828491125865, 0.1292986043679566, 0.1575826740734471, 0.006926710948283389, 0.5622180386356684, 0.00634948503592644, 0.01212174415949593, 0.06984433539519085, 0.021357358757207116, 0.023089036494277963, 0.010390066422425084, 0.8628284322708129, 0.053490711434578696, 0.013954098635107486, 0.02093114795266123, 0.011628415529256237, 0.0046513662117024955, 0.018605464846809982, 0.0046513662117024955, 0.006977049317553743, 0.0023256831058512477, 0.9627978963791052, 0.05813657591360347, 0.10012410296231708, 0.0032298097729779704, 0.04521733682169159, 0.014534143978400867, 0.4134156509411802, 0.0016149048864889852, 0.36012378968704367, 0.0016149048864889852, 0.004844714659466956, 0.20323648885675094, 0.3428085354210257, 0.09712908503595728, 0.06652118008765141, 0.04489159392418193, 0.09753719043526803, 0.059175282900058, 0.024078218559333946, 0.040402434531763745, 0.024078218559333946, 0.9584845804921425, 0.025223278434003748, 0.28136902514383605, 0.08810079311880768, 0.19926462108547077, 0.07334045081618022, 0.09870978914882117, 0.058118847816595647, 0.08856205381576479, 0.03367203087786891, 0.053506240847024565, 0.025369338332640955, 0.09362072245403383, 0.012482762993871178, 0.006241381496935589, 0.7801726871169485, 0.006241381496935589, 0.04993105197548471, 0.012482762993871178, 0.03744828898161353, 0.8557307978088904, 0.009103519125626493, 0.009103519125626493, 0.009103519125626493, 0.02731055737687948, 0.009103519125626493, 0.08193167213063844, 0.19970574956731946, 0.19252816448773294, 0.11230809595117755, 0.09119755159945245, 0.11146367417710853, 0.060798367732968296, 0.14144064715655819, 0.027865918544277134, 0.03715455805903618, 0.025754864109104623, 0.014056432987592423, 0.014056432987592423, 0.014056432987592423, 0.19679006182629394, 0.014056432987592423, 0.730934515354806, 0.9581517955200163, 0.016809680623158182, 0.9547189255750824, 0.006004521544497373, 0.006004521544497373, 0.012009043088994746, 0.012009043088994746, 0.006004521544497373, 0.9617864714230215, 0.029718259762398874, 0.06637078013602415, 0.6983791044163735, 0.049530432937331455, 0.05250225891357134, 0.02278399915117247, 0.016840347198692696, 0.017830955857439323, 0.00990608658746629, 0.034671303056132016, 0.12066633402677882, 0.01206663340267788, 0.0558081794873852, 0.5083069320878058, 0.16893286763749032, 0.001508329175334735, 0.00301665835066947, 0.010558304227343145, 0.07843311711740622, 0.03921655855870311, 0.025168582245324787, 0.025168582245324787, 0.05033716449064957, 0.025168582245324787, 0.05033716449064957, 0.7802260496050684, 0.05033716449064957, 0.8908631459639181, 0.06564558677435885, 0.08752744903247846, 0.08079456833767241, 0.05891270607955281, 0.45278622672570584, 0.005049660521104526, 0.04713016486364224, 0.01178254121591056, 0.010099321042209052, 0.18178777875976296, 0.906239265049965, 0.06249925965861827, 0.12713161363255263, 0.6184423288166883, 0.029134328124126644, 0.07018724502630509, 0.03443147869214967, 0.038404341618166936, 0.009270013494040295, 0.042377204544184206, 0.015891451704069078, 0.013242876420057566, 0.5074653152752621, 0.047273384883056734, 0.17655162109386494, 0.047273384883056734, 0.0607800662782158, 0.007718103654376609, 0.05016767375344796, 0.046308621926259654, 0.021224785049535674, 0.03473146644469474, 0.02270848129818605, 0.03406272194727908, 0.011354240649093026, 0.0908339251927442, 0.06434069701152714, 0.003784746883031009, 0.6585459576473955, 0.018923734415155043, 0.06434069701152714, 0.03406272194727908, 0.01594169582627176, 0.0035425990725048363, 0.0017712995362524182, 0.4693943771068908, 0.0017712995362524182, 0.007085198145009673, 0.48533607293316255, 0.014170396290019345, 0.0017712995362524182, 0.2025147555780307, 0.21214557618676136, 0.1725522025730909, 0.06634565308236673, 0.06795078985048851, 0.05457465011614038, 0.15516322091843832, 0.015248799297156869, 0.03156768977306159, 0.021936869164330935, 0.9778374215778254, 0.014274998855150735, 0.007137499427575368, 0.01547362505829364, 0.03094725011658728, 0.03094725011658728, 0.02321043758744046, 0.858786190735297, 0.03094725011658728, 0.00773681252914682, 0.0012815066785633728, 0.010252053428506982, 0.9483149421368958, 0.0012815066785633728, 0.012815066785633726, 0.007689040071380236, 0.0012815066785633728, 0.0012815066785633728, 0.0012815066785633728, 0.0140965734641971, 0.9567409426104885, 0.9607031029762287, 0.03518918087708175, 0.04272971963645641, 0.05278377131562262, 0.04775674547603951, 0.010054051679166212, 0.7615944146968406, 0.03016215503749864, 0.002513512919791553, 0.01508107751874932, 0.005027025839583106, 0.9547896175501082, 0.187299277761083, 0.04528957945862253, 0.0798324790457075, 0.05833911930263241, 0.016120019807306325, 0.01151429986236166, 0.039148619532029645, 0.03300765960543676, 0.5227492137512194, 0.006908579917416996, 0.047699212760753215, 0.05564908155421208, 0.015899737586917737, 0.007949868793458869, 0.8744855672804756, 0.03305183478345903, 0.06610366956691806, 0.06610366956691806, 0.8262958695864757, 0.11557365576023096, 0.06420758653346165, 0.821857107628309, 0.004799176939930118, 0.04799176939930118, 0.8878477338870718, 0.004799176939930118, 0.02399588469965059, 0.01919670775972047, 0.004799176939930118, 0.004799176939930118, 0.009070108389426469, 0.0015116847315710781, 0.7626449470776089, 0.0015116847315710781, 0.009825950755212007, 0.0037792118289276953, 0.08238681787062375, 0.002267527097356617, 0.1201789361599007, 0.0060467389262843126, 0.004124228109920484, 0.009279513247321089, 0.7722617135826106, 0.004124228109920484, 0.005155285137400605, 0.002062114054960242, 0.034024881906843996, 0.002062114054960242, 0.15981383925941875, 0.007217399192360847, 0.9841305905401468, 0.004473320866091577, 0.004473320866091577, 0.004473320866091577, 0.005672013549938012, 0.981258344139276, 0.13886242246373862, 0.2858533769741351, 0.11650895933542949, 0.06502825637326297, 0.08128532046657871, 0.10115506546952018, 0.08467220881935282, 0.052383873189572945, 0.02912723983385737, 0.0449327188134699, 0.9707157562321143, 0.8470605892833252, 0.028056270399095338, 0.01850519962493522, 0.017908257701550214, 0.03641345732648544, 0.013729664237855165, 0.015520490008010186, 0.0023877676935400286, 0.01850519962493522, 0.0029847096169250357, 0.15293659035347038, 0.15963899072752685, 0.08774051398764834, 0.08103811361359188, 0.10662909685998931, 0.023153746746740537, 0.07189847673987851, 0.023153746746740537, 0.27114256058682995, 0.02376305587165476, 0.026938636199024712, 0.013469318099512356, 0.9563215850653772, 0.9683032842982697, 0.025568914798177706, 0.002840990533130856, 0.005681981066261712, 0.8579791410055186, 0.05113782959635541, 0.005681981066261712, 0.02272792426504685, 0.028409905331308563, 0.051834077106283495, 0.025917038553141748, 0.8552622722536776, 0.025917038553141748, 0.025917038553141748, 0.9806103364320785, 0.9514420545730149, 0.022520380789628813, 0.04504076157925763, 0.9008152315851525, 0.045423144182042845, 0.9236039317015379, 0.015141048060680949, 0.2814454384223896, 0.10084489142382626, 0.09125887512878574, 0.1775330217841504, 0.09010855317338087, 0.06020018233285446, 0.03949438713556694, 0.07745501166392739, 0.049080403430607454, 0.032975896054939384, 0.9760628979459476, 0.00330868778964728, 0.00661737557929456, 0.00661737557929456, 0.00330868778964728, 0.013410234137863747, 0.013410234137863747, 0.053640936551454986, 0.0491708585055004, 0.19221335597604705, 0.004470078045954583, 0.621340848387687, 0.026820468275727493, 0.022350390229772914, 0.016887585024949227, 0.08443792512474613, 0.5265856057779622, 0.007676175011340557, 0.0660151050975288, 0.00921141001360867, 0.007676175011340557, 0.004605705006804335, 0.004605705006804335, 0.2732718304037238, 0.01939270325482073, 0.9502424594862159, 0.01939270325482073, 0.16925898711771292, 0.42099326250369323, 0.07755139046120664, 0.07139651820238072, 0.06277969704002442, 0.07447395433179368, 0.05908677368472887, 0.014156206195299625, 0.024004001809421104, 0.027081437938834066, 0.960792749714679, 0.010675474996829767, 0.010675474996829767, 0.010675474996829767, 0.9535069208963656, 0.0305122214686837, 0.007628055367170925, 0.005626305895475278, 0.005626305895475278, 0.005626305895475278, 0.13503134149140666, 0.849572190216767, 0.9379033547945543, 0.044540794213494064, 0.00742346570224901, 0.03711732851124505, 0.8759689528653832, 0.022270397106747032, 0.07427087816377152, 0.08271075068238191, 0.08988464232320076, 0.07131692278225787, 0.1882091571650119, 0.10085647659739427, 0.2890656337624062, 0.01814572591501236, 0.035025470952233156, 0.05021724148573188, 0.029147725961395626, 0.009715908653798542, 0.019431817307597084, 0.009715908653798542, 0.8744317788418688, 0.009715908653798542, 0.04857954326899271, 0.022826454246539455, 0.022826454246539455, 0.022826454246539455, 0.09130581698615782, 0.8445788071219599, 0.9791933130996332, 0.17150587455683794, 0.005716862485227931, 0.005716862485227931, 0.7946438854466824, 0.017150587455683795, 0.044906857556896856, 0.9205905799163855, 0.09808171031669918, 0.02179593562593315, 0.8282455537854597, 0.010897967812966576, 0.010897967812966576, 0.02179593562593315, 0.19202204741140344, 0.27839985803626555, 0.10532312968384672, 0.07385463361977056, 0.0488082796095875, 0.079955668570969, 0.1188096279970222, 0.03789063811796924, 0.03050517475599219, 0.034037352885633386, 0.01616966516771419, 0.06063624437892821, 0.04446657921121402, 0.2910539730188554, 0.01616966516771419, 0.04446657921121402, 0.05659382808699966, 0.012127248875785642, 0.4608354572798544, 0.009072701656939014, 0.009072701656939014, 0.7348888342120601, 0.05443620994163408, 0.17238133148184126, 0.01279990785341093, 0.08959935497387651, 0.01279990785341093, 0.8063941947648886, 0.01279990785341093, 0.03839972356023279, 0.03839972356023279, 0.9660343576865449, 0.008862700529234357, 0.017725401058468714, 0.00347792409245728, 0.00347792409245728, 0.9668628977031238, 0.00347792409245728, 0.00695584818491456, 0.00347792409245728, 0.00695584818491456, 0.00695584818491456, 0.20818737878397867, 0.0043372370579995555, 0.0021686185289997778, 0.021686185289997776, 0.015180329702998444, 0.032529277934996666, 0.023854803818997555, 0.34047310905296513, 0.028192040876997112, 0.3231241608209669, 0.9742540386414272, 0.36412068065199854, 0.003251077505821416, 0.004876616258732124, 0.21132003787839201, 0.001625538752910708, 0.003251077505821416, 0.011378771270374954, 0.3754994519223735, 0.017880926282017786, 0.006502155011642832, 0.02269790818426648, 0.027561745652323583, 0.0032425583120380685, 0.014591512404171308, 0.0016212791560190343, 0.017834070716209377, 0.0032425583120380685, 0.8949460941225069, 0.009727674936114206, 0.004863837468057103, 0.9763782736906664, 0.0995143401694104, 0.20437782844123334, 0.05682208267279722, 0.16723657369240674, 0.11707569431695342, 0.05056458866620143, 0.15149191135323023, 0.045821004499911076, 0.026644813189375605, 0.08033814885887493, 0.9180541414673516, 0.12535247964776652, 0.7938990377691879, 0.04178415988258884, 0.05060020896263511, 0.11156931320449874, 0.004147558111691403, 0.5304726824853304, 0.006221337167537104, 0.08212165061148978, 0.01576072082442733, 0.1505563594543979, 0.009954139468059366, 0.03857229043873005, 0.9219312057462326, 0.04609656028731163, 0.10368118742137049, 0.18542981596514338, 0.021932558877597604, 0.017944820899852585, 0.019938689888725093, 0.09769958045475295, 0.015950951910980074, 0.021932558877597604, 0.05383446269955775, 0.4625776054184222, 0.9801244010620848, 0.9520464030597957, 0.9783977797655786, 0.03942351379553434, 0.007884702759106868, 0.9382796283337173, 0.0561733974919385, 0.0561733974919385, 0.8426009623790774, 0.9451365074582546, 0.030488274434137246, 0.03989915455145306, 0.7141948664710099, 0.003989915455145307, 0.10772771728892327, 0.13166721001979512, 0.17192703790034536, 0.12428460571109302, 0.01657128076147907, 0.5447808550336244, 0.004142820190369768, 0.006214230285554651, 0.11185614513998372, 0.014499870666294186, 0.004142820190369768, 0.002071410095184884, 0.023353990298143442, 0.963352099798417, 0.0058384975745358605, 0.9736789455393992, 0.9472388644454275, 0.019892388501650395, 0.9647808423300442, 0.9802148719243339, 0.22202581996390675, 0.09258566581490849, 0.05663006744018674, 0.10606901520542913, 0.028764478699777392, 0.035056708415353695, 0.021573359024833046, 0.36674710342216177, 0.03415781845598565, 0.03775337829345783, 0.8822306115039544, 0.03688255064815863, 0.0029506040518526904, 0.016228322285189795, 0.014753020259263451, 0.014753020259263451, 0.005901208103705381, 0.020654228362968832, 0.0014753020259263452, 0.004425906077779035, 0.9809039872741164, 0.007159883118789171, 0.007159883118789171, 0.9768557287460431, 0.87376279879257, 0.045987515725924744, 0.9563485993578589, 0.018916533061589413, 0.9458266530794707, 0.018916533061589413, 0.978700729992401, 0.007249635036980748, 0.007249635036980748, 0.05059943505058878, 0.0036142453607563413, 0.0036142453607563413, 0.0036142453607563413, 0.16264104123403536, 0.7698342618411007, 0.08713891715004907, 0.2621679490117856, 0.012019160986213666, 0.3650820149562401, 0.00375598780819177, 0.0052583829314684786, 0.17878501966992827, 0.021033531725873914, 0.06009580493106832, 0.00375598780819177, 0.9261572824420022, 0.04026770793226096, 0.1354467345475682, 0.3060302788940872, 0.12467900251240588, 0.07197378781397976, 0.09577614283907543, 0.12864606168325515, 0.04420437361803481, 0.037970423492414515, 0.03286991884417973, 0.02266890954771016, 0.9655537689353957, 0.008698682603021583, 0.008698682603021583, 0.8769130164369031, 0.005639312002809666, 0.025376904012643496, 0.002819656001404833, 0.005639312002809666, 0.0084589680042145, 0.07049140003512083, 0.002819656001404833, 0.11515211685386226, 0.0011995012172277318, 0.5469725550558457, 0.022790523127326906, 0.17032917284633795, 0.0011995012172277318, 0.08516458642316897, 0.0023990024344554637, 0.041982542602970616, 0.013194513389505051, 0.9448245429519267, 0.905930954007887, 0.024484620378591542, 0.024484620378591542, 0.024484620378591542, 0.013341791873946317, 0.006670895936973158, 0.020012687810919475, 0.033354479684865795, 0.713785865256128, 0.04669627155881211, 0.15343060655038265, 0.039964591993524694, 0.039964591993524694, 0.8792210238575432, 0.14158379437700944, 0.17914005908264807, 0.11333350676657328, 0.13659844950457953, 0.07943316163404988, 0.1502250588225546, 0.05384172462224302, 0.05783000052018695, 0.05949178214433025, 0.028582643935264815, 0.02012001181548007, 0.04024002363096014, 0.8852805198811231, 0.008614541446505601, 0.005168724867903361, 0.1705679206408109, 0.008614541446505601, 0.42211253087877443, 0.0034458165786022403, 0.0017229082893011202, 0.008614541446505601, 0.005168724867903361, 0.3652565573318375, 0.9343376855337591, 0.06529978119538782, 0.922359409384853, 0.020271036696807236, 0.020271036696807236, 0.024325244036168682, 0.7784078091573978, 0.004054207339361447, 0.004054207339361447, 0.004054207339361447, 0.10946359816275907, 0.004054207339361447, 0.036487866054253026, 0.014966653146055827, 0.0074833265730279135, 0.9653491279206008, 0.9117323661603576, 0.00760446124649984, 0.00380223062324992, 0.00760446124649984, 0.00380223062324992, 0.034220075609249286, 0.034220075609249286, 0.0570334593487488, 0.00760446124649984, 0.8402929677382324, 0.01865725798173989, 0.02487634397565319, 0.012438171987826594, 0.02487634397565319, 0.006219085993913297, 0.012438171987826594, 0.012438171987826594, 0.8831102111356881, 0.007889259294696565, 0.04417985205030077, 0.3487052608255882, 0.026823481601968322, 0.37868444614543517, 0.0015778518589393132, 0.04102414833242214, 0.011044963012575192, 0.022089926025150385, 0.11676103756150917, 0.049475032824762295, 0.8658130744333402, 0.024737516412381148, 0.012368758206190574, 0.006184379103095287, 0.006184379103095287, 0.01855313730928586, 0.04812209702739083, 0.7378721544199928, 0.12832559207304223, 0.03208139801826056, 0.02138759867884037, 0.0053468996697100925, 0.02138759867884037, 0.9263114184568475, 0.9082809312903208, 0.01816561862580642, 0.01816561862580642, 0.01816561862580642, 0.01816561862580642, 0.983759378361614, 0.3025620185157545, 0.02876899128514023, 0.13116709585936817, 0.06582735294057511, 0.07679857843067095, 0.01560352069702521, 0.16749404248212998, 0.036814556644543854, 0.0889888289752219, 0.08606316884452968, 0.9325964342709685, 0.0028519768632139708, 0.011407907452855883, 0.0057039537264279416, 0.019963838042497795, 0.008555930589641913, 0.017111861179283826, 0.965651247455319, 0.11817260214693066, 0.27861833026512106, 0.11785235119260294, 0.12041435882722475, 0.055083164144368764, 0.08935001625743538, 0.0832652481252086, 0.0694944570891164, 0.03971111833663794, 0.027541582072184382, 0.019715108073988637, 0.9660402956254432, 0.13699589772754575, 0.055672800991406896, 0.13961922342871153, 0.22764637473449625, 0.16556099980690636, 0.023901411943954794, 0.1128030051501281, 0.04517949818674381, 0.06762350696338429, 0.024775853844343384, 0.9689344892033329, 0.0018097258524841433, 0.009048629262420716, 0.0018097258524841433, 0.0018097258524841433, 0.00542917755745243, 0.23526436082293864, 0.7437973253709829, 0.0018097258524841433, 0.10950347688692207, 0.39329521018025415, 0.030385781544538585, 0.22187353693842324, 0.016052865721643026, 0.03783889777244427, 0.06707804605115121, 0.0590516131903297, 0.05331844686117148, 0.011466332658316447, 0.9167429809563995, 0.059144708448799974, 0.029572354224399987, 0.012600807410176731, 0.9702621705836083, 0.0060332173002455155, 0.03619930380147309, 0.012066434600491031, 0.7782850317316715, 0.0060332173002455155, 0.048265738401964124, 0.10859791140441928, 0.0060332173002455155, 0.011312739676042802, 0.022625479352085604, 0.011312739676042802, 0.9502701327875953, 0.05806134442838535, 0.8709201664257802, 0.1336777977533825, 0.11222333638555568, 0.08581784547130729, 0.08746818865344781, 0.06766407046776152, 0.11964988070518805, 0.2434256193657274, 0.07756612956060466, 0.03960823637137259, 0.032181692051740235, 0.011370879308595918, 0.9665247412306531, 0.011370879308595918, 0.9237832448153463, 0.9271118803784371, 0.020154606095183415, 0.020154606095183415, 0.06298994987808444, 0.921228016966985, 0.044771326014344935, 0.8954265202868987, 0.04816437451763976, 0.04128374958654837, 0.027522499724365577, 0.006880624931091394, 0.027522499724365577, 0.013761249862182788, 0.7637493673511448, 0.006880624931091394, 0.006880624931091394, 0.06880624931091395, 0.1370151402814418, 0.8220908416886508, 0.9610897926513938, 0.006628205466561337, 0.013256410933122674, 0.006628205466561337, 0.007731757039232159, 0.015463514078464318, 0.9355426017470913, 0.030927028156928636, 0.006492708082719322, 0.006492708082719322, 0.8959937154152664, 0.012985416165438643, 0.05194166466175457, 0.012985416165438643, 0.9730078977102476, 0.22262020870919078, 0.2883203190843422, 0.07710260887001241, 0.07981748946402693, 0.04289511338542944, 0.09067701184008502, 0.0640711820187427, 0.06027034918712238, 0.028234758177751024, 0.04560999397944396, 0.0432550576646793, 0.18263246569531258, 0.7401420978178458, 0.009612235036595399, 0.004806117518297699, 0.009612235036595399, 0.004806117518297699, 0.004806117518297699, 0.10912411869284916, 0.01283813161092343, 0.006419065805461715, 0.022466730319116, 0.009628598708192573, 0.019257197416385145, 0.03851439483277029, 0.7670783637526749, 0.0032095329027308577, 0.006419065805461715, 0.0325083430986738, 0.05572858816915508, 0.01393214704228877, 0.004644049014096257, 0.023220245070481284, 0.01857619605638503, 0.8452169205655188, 0.004644049014096257, 0.004644049014096257, 0.015659615989077762, 0.8612788793992768, 0.09395769593446657, 0.015659615989077762, 0.9049603882306992, 0.04032001729740739, 0.00896000384386831, 0.03584001537547324, 0.004480001921934155, 0.004480001921934155, 0.004480001921934155, 0.09515753087679879, 0.12159017834257624, 0.007401141290417684, 0.6296256626348187, 0.0021146117972621952, 0.02326072976988415, 0.026961300415092992, 0.04387819479319056, 0.03330513580687958, 0.015859588479466467, 0.19862154713158495, 0.014533283936457435, 0.004844427978819145, 0.7605751926746057, 0.004844427978819145, 0.014533283936457435, 0.004844427978819145, 0.012230692275929569, 0.02690752300704505, 0.0048922769103718275, 0.0048922769103718275, 0.0024461384551859137, 0.7558567826524474, 0.19079879950450127, 0.022828153314287263, 0.958782439200065, 0.022061223567182278, 0.1152086119619519, 0.10540362370987089, 0.01715872944114177, 0.1715872944114177, 0.019609976504162026, 0.09804988252081012, 0.07353741189060758, 0.04657369419738481, 0.33091835350773413, 0.10924732854082701, 0.03641577618027567, 0.8011470759660648, 0.03641577618027567, 0.020833038092674935, 0.03472173015445822, 0.25694080314299084, 0.009722084443248303, 0.16944204315375613, 0.002777738412356658, 0.11249840570044464, 0.009722084443248303, 0.011110953649426632, 0.3708280780496138, 0.023317781735737547, 0.8102929153168797, 0.005829445433934387, 0.023317781735737547, 0.017488336301803162, 0.029147227169671934, 0.08161223607508142, 0.005829445433934387, 0.01749485867385916, 0.01749485867385916, 0.026242288010788744, 0.01749485867385916, 0.9009852217037468, 0.00874742933692958, 0.9213614733559023, 0.016164236374664954, 0.03232847274932991, 0.022788360009646933, 0.022788360009646933, 0.9457169404003477, 0.049231742166610054, 0.009846348433322012, 0.004923174216661006, 0.004923174216661006, 0.004923174216661006, 0.925556752732269, 0.975720484494133, 0.7232425305194098, 0.022439505720172618, 0.07249686463440384, 0.01726115824628663, 0.04142677979108791, 0.001726115824628663, 0.044879011440345236, 0.018987274070915293, 0.03452231649257326, 0.020713389895543954, 0.9141407115403251, 0.03385706339038241, 0.03385706339038241, 0.03385706339038241, 0.13055762570009077, 0.18201829568406816, 0.05574905914930884, 0.19678941392020982, 0.004526633007849863, 0.04431335470842497, 0.13317830796779334, 0.05598730299182725, 0.1860684410068812, 0.010959216755847037, 0.9656647677442465, 0.013719382653057291, 0.08079192006800405, 0.009146255102038195, 0.3475576938774514, 0.01676813435373669, 0.390240217686963, 0.0030487517006793983, 0.06402378571426737, 0.06402378571426737, 0.010670630952377894, 0.9795967724049617, 0.0019928846167823837, 0.0019928846167823837, 0.9685419237562385, 0.007971538467129535, 0.0019928846167823837, 0.0019928846167823837, 0.01594307693425907, 0.11272673656540937, 0.014832465337553865, 0.08009531282279087, 0.017798958405064638, 0.0029664930675107727, 0.21358750086077566, 0.0029664930675107727, 0.5547342036245145, 0.0029664930675107727, 0.012700835377596842, 0.016228845204707076, 0.17569488939008965, 0.007056019654220468, 0.39019788687839185, 0.011995233412174795, 0.15523243239285028, 0.004939213757954327, 0.045864127752433044, 0.18063410314804398, 0.05875904216430538, 0.09606113072928575, 0.06305043288417038, 0.04423433511245461, 0.427158430115793, 0.020136525685520382, 0.08846867022490922, 0.040273051371040765, 0.05413754446598922, 0.10761487497507614, 0.07481752074379583, 0.9071624390185243, 0.01053834190322357, 0.0035127806344078566, 0.0035127806344078566, 0.0035127806344078566, 0.07025561268815714, 0.17212625108598498, 0.565557682139665, 0.007025561268815713, 0.1615879091827614, 0.021431007015646014, 0.06615658687438553, 0.034475967807778375, 0.04006666529012081, 0.012113177878408618, 0.3792356458855621, 0.013976743705856097, 0.41557517952078793, 0.008386046223513658, 0.008386046223513658, 0.09066124669156174, 0.05069230997807753, 0.09456065515141385, 0.12770562706015684, 0.39676481078995296, 0.006823964804741206, 0.09553550726637688, 0.023396450759112706, 0.02827071133392785, 0.08481213400178356, 0.05510381085320053, 0.9092128790778087, 0.8137424591589018, 0.004363230344015559, 0.0850829917083034, 0.013089691032046677, 0.05890360964421004, 0.015271306204054456, 0.008726460688031118, 0.0021816151720077796, 0.01514634732294893, 0.054526850362616154, 0.7754929829349853, 0.018175616787538717, 0.0666439282209753, 0.003029269464589786, 0.02423415571671829, 0.006058538929179572, 0.009087808393769358, 0.027263425181308077, 0.22064854680494267, 0.1407316703119864, 0.21714000100769093, 0.06744204699161675, 0.10018847443263298, 0.10447669707371844, 0.06159447066286386, 0.036254973238267964, 0.023780143736928452, 0.02767852795609705, 0.04569962050963404, 0.9139924101926807, 0.02210313522372217, 0.9504348146200533, 0.08188584093655199, 0.021836224249747196, 0.7751859608660255, 0.016377168187310397, 0.021836224249747196, 0.06550867274924159, 0.005459056062436799, 0.0635730851016708, 0.004101489361398116, 0.002050744680699058, 0.014355212764893406, 0.016405957445592464, 0.016405957445592464, 0.002050744680699058, 0.17841478722081805, 0.5578025531501437, 0.14765361701033217, 0.07855296550024675, 0.039276482750123375, 0.8248061377525908, 0.026863202352439945, 0.047010604116769904, 0.026863202352439945, 0.026863202352439945, 0.08730540764542982, 0.006715800588109986, 0.02014740176432996, 0.006715800588109986, 0.006715800588109986, 0.7454538652802085, 0.9543830471498025, 0.05056723946352501, 0.10803001158116707, 0.01838808707764546, 0.19997044696939437, 0.06895532654117047, 0.03677617415529092, 0.00919404353882273, 0.4574036660564308, 0.022985108847056825, 0.02758213061646819, 0.9516558597341535, 0.015860930995569223, 0.031721861991138446, 0.012058799853676938, 0.8199983900500318, 0.0030146999634192346, 0.06933809915864239, 0.0030146999634192346, 0.0030146999634192346, 0.012058799853676938, 0.07536749908548086, 0.00949266173707922, 0.7277707331760735, 0.17403213184645236, 0.05062752926442251, 0.003164220579026407, 0.003164220579026407, 0.003164220579026407, 0.003164220579026407, 0.01898532347415844, 0.05967054251008649, 0.8751679568146018, 0.019890180836695498, 0.019890180836695498, 0.2766316969839149, 0.08384779359655654, 0.17363755681806592, 0.057108930284268826, 0.09672206111728766, 0.07328429204108486, 0.10695545324915087, 0.03631203659693394, 0.04819597584683959, 0.047535756999622605, 0.04045004219979054, 0.0067416736999650895, 0.010112510549947634, 0.761809128096055, 0.010112510549947634, 0.013483347399930179, 0.0977542686494938, 0.05730422644970326, 0.0067416736999650895, 0.9827934717456669, 0.914830395714403, 0.005054311578532614, 0.04548880420679352, 0.005054311578532614, 0.01516293473559784, 0.010108623157065228, 0.12430776494494475, 0.4016097021298215, 0.10518349341495324, 0.027092718000821293, 0.043029610942480874, 0.1601657740636788, 0.06613810570788727, 0.03665485376581704, 0.02788956264790427, 0.008765291117912771, 0.9340652788727205, 0.006145166308373161, 0.024580665233492643, 0.021508082079306063, 0.009217749462559741, 0.97162985005037, 0.16733891646179044, 0.13476404833632333, 0.2951580690556284, 0.050763880784357375, 0.12434670472259526, 0.04828356087632688, 0.04596859562883176, 0.051590654087034206, 0.02381107111709271, 0.058039485847913484, 0.9718116274332714, 0.018931395339609185, 0.9755108131484986, 0.11042631379892433, 0.027606578449731082, 0.027606578449731082, 0.8005907750422013, 0.07082335896699346, 0.8498803076039215, 0.036387708859833764, 0.024896853430412574, 0.07660570286280792, 0.024896853430412574, 0.13214483743834368, 0.05553913457553575, 0.5132582091808131, 0.0038302851431403964, 0.02106656828727218, 0.1110782691510715, 0.9780457578544712, 0.006986041127531937, 0.006986041127531937, 0.004762715413945304, 0.004762715413945304, 0.057152584967343656, 0.18574590114386688, 0.13335603159046852, 0.03333900789761713, 0.5810512805013271, 0.9427707075806108, 0.9706933582922529, 0.03854709763708151, 0.08480361480157932, 0.6977024672311753, 0.014647897102090973, 0.023899200534990533, 0.05011122692820596, 0.032379562015148466, 0.012335071243866083, 0.016189781007574233, 0.029295794204181946, 0.9187342764209369, 0.0052200811160280506, 0.007830121674042076, 0.0026100405580140253, 0.0026100405580140253, 0.0026100405580140253, 0.018270283906098177, 0.03915060837021038, 0.9760787361373158, 0.9726295860304861, 0.015990244300125894, 0.015990244300125894, 0.07462114006725416, 0.7675317264060428, 0.12259187296763185, 0.014433025855443813, 0.9670127323147355, 0.014433025855443813, 0.1243490669384557, 0.06994635015288132, 0.015543633367306962, 0.002590605561217827, 0.023315450050960442, 0.005181211122435654, 0.7383225849470807, 0.002590605561217827, 0.002590605561217827, 0.01813423892852479, 0.019623238726599046, 0.019623238726599046, 0.10792781299629475, 0.009811619363299523, 0.8339876458804595, 0.024825717298968014, 0.8068358122164605, 0.1406790646941521, 0.004137619549828003, 0.004137619549828003, 0.008275239099656006, 0.008275239099656006, 0.004137619549828003, 0.031938717078025966, 0.021292478052017314, 0.04258495610403463, 0.8091141659766579, 0.010646239026008657, 0.010646239026008657, 0.06387743415605193, 0.05107801639711891, 0.10556123388737908, 0.022133807105418193, 0.640177805510557, 0.015323404919135673, 0.027241608745130083, 0.005107801639711891, 0.0953456306079553, 0.03405201093141261, 0.0034052010931412604, 0.13566806730335199, 0.09002940077292083, 0.08824664036157587, 0.07665869768783358, 0.1299632339870481, 0.05811798940984592, 0.32196653028890104, 0.017471052031180677, 0.07434110915308513, 0.0073093176865143645, 0.9584420410727994, 0.9765605316763268, 0.007570236679661448, 0.16121890105245407, 0.00977084248802752, 0.02931252746408256, 0.01465626373204128, 0.6888443954059401, 0.053739633684151356, 0.01465626373204128, 0.0244271062200688, 0.00488542124401376, 0.652794782233218, 0.0021615721266000595, 0.24858079455900686, 0.008646288506400238, 0.024858079455900687, 0.0010807860633000297, 0.009727074569700268, 0.0032423581899000894, 0.03134279583570086, 0.019454149139400537, 0.9307675807689706, 0.008526115243685226, 0.029841403352898293, 0.007105096036404355, 0.005684076829123484, 0.0007105096036404355, 0.0021315288109213064, 0.002842038414561742, 0.007105096036404355, 0.005684076829123484, 0.9422382643941398, 0.01800455282281796, 0.012003035215211972, 0.006001517607605986, 0.006001517607605986, 0.012003035215211972, 0.9754717315942694, 0.009470599335866692, 0.0028845020290020453, 0.06057454260904296, 0.008653506087006137, 0.0057690040580040906, 0.5509398875393907, 0.3692162597122618, 0.0028845020290020453, 0.9552643193982262, 0.015341456743530787, 0.010227637829020525, 0.0664796458886334, 0.005113818914510263, 0.005113818914510263, 0.015341456743530787, 0.8795768532957652, 0.024815056424550324, 0.9677872005574626, 0.9548480698825068, 0.9534596800689393, 0.007709622036702156, 0.007709622036702156, 0.007709622036702156, 0.9405738884776631, 0.030838488146808625, 0.021606689427476882, 0.9182843006677676, 0.010803344713738441, 0.010803344713738441, 0.03241003414121533, 0.9700656603511737, 0.003890052144144551, 0.6613088645045737, 0.003890052144144551, 0.019450260720722756, 0.10892146003604743, 0.190612555063083, 0.003890052144144551, 0.003890052144144551, 0.9637053303330139, 0.14853180295996607, 0.10731617177212208, 0.046659205118313944, 0.09331841023662789, 0.015553068372771315, 0.2628468554998352, 0.1112044388653149, 0.1384223085176647, 0.03110613674554263, 0.04432624486239825, 0.02236219958955146, 0.019566924640857526, 0.06708659876865437, 0.016771649692163593, 0.10062989815298157, 0.061496048871266515, 0.6457085131482984, 0.0027952749486939324, 0.008385824846081797, 0.05590549897387865, 0.9774449673582113, 0.6964146565006972, 0.06621085157863771, 0.06518166735720811, 0.019211438800019232, 0.03636450915717926, 0.003430614071432006, 0.06689697439292411, 0.009262657992866416, 0.018525315985732833, 0.018525315985732833, 0.055477177508423035, 0.002641770357543954, 0.014529736966491747, 0.7918706646738002, 0.001320885178771977, 0.001320885178771977, 0.005283540715087908, 0.02113416286035163, 0.1036894865336002, 0.002641770357543954, 0.060307431749951734, 0.004639033211534749, 0.009278066423069498, 0.7376062806340251, 0.0023195166057673744, 0.05798791514418436, 0.12525389671143822, 0.0023195166057673744, 0.014170676519804207, 0.014170676519804207, 0.205474809537161, 0.06376804433911892, 0.007085338259902103, 0.007085338259902103, 0.6943631494704061, 0.6045721326512701, 0.022213673195726903, 0.03662254229565787, 0.05163178094141929, 0.05643473730806295, 0.012607760462439594, 0.0348214336581665, 0.07504619322880711, 0.05343288957891066, 0.052232150487249746, 0.9481739625407436, 0.04310319575222448, 0.02155159787611224, 0.8189607192922651, 0.10775798938056119, 0.9758168684944467, 0.046934983084032184, 0.8917646785966115, 0.0776801372431595, 0.017452365636128345, 0.023098719224287516, 0.007528471450878894, 0.15690018910127151, 0.007870674698646118, 0.6024488176941952, 0.0023954227343705573, 0.020018889994382515, 0.08486640544627118, 0.1360049065299357, 0.007555828140551982, 0.007555828140551982, 0.823585267320166, 0.015111656281103964, 0.9701622985958849, 0.011977312328344257, 0.011977312328344257, 0.9060857118781362, 0.02922857135090762, 0.02922857135090762, 0.9807717441808714, 0.07558884393855, 0.05445647896648226, 0.09509564237430483, 0.014630098826816129, 0.023570714776537095, 0.2950403263407919, 0.12516862329609355, 0.2885380601955403, 0.013004532290503225, 0.016255665363129033, 0.13443624906846174, 0.003734340251901715, 0.003734340251901715, 0.05228076352662401, 0.018671701259508573, 0.6199004818156847, 0.16431097108367546, 0.028639931270110074, 0.9451177319136324, 0.002132906954043562, 0.012797441724261373, 0.002132906954043562, 0.008531627816174248, 0.925681618054906, 0.008531627816174248, 0.02986069735660987, 0.002132906954043562, 0.008531627816174248, 0.9499465401170722, 0.026363459558988462, 0.14380068850357342, 0.05752027540142937, 0.009586712566904895, 0.06471030982660804, 0.028760137700714686, 0.14619736664529964, 0.5056990879042332, 0.002396678141726224, 0.014380068850357343, 0.0819996751404494, 0.02869988629915729, 0.00409998375702247, 0.01229995127106741, 0.00409998375702247, 0.8035968163764041, 0.06559974011235951, 0.3795421396176444, 0.12352720564284211, 0.16064937106918845, 0.10304601092485792, 0.05312309879977148, 0.05440317346964549, 0.04544265078052741, 0.027521605402291247, 0.03776220276128334, 0.015360896038488137, 0.18026162510042917, 0.019692446439542682, 0.11209546434816604, 0.01817764286727017, 0.12118428578180113, 0.0015148035722725142, 0.012118428578180114, 0.006059214289090057, 0.5256368395785624, 0.0030296071445450284, 0.46460538048509464, 0.0037589432078082093, 0.17215959891761598, 0.04924215602228754, 0.022553659246849257, 0.0022553659246849255, 0.06051898564571217, 0.042851952569013585, 0.12968354066938323, 0.05262520490931493, 0.08296374202828431, 0.027654580676094772, 0.027654580676094772, 0.8572920009589379, 0.9745123792973931, 0.004237010344771274, 0.004237010344771274, 0.004237010344771274, 0.012711031034313824, 0.015115175912018903, 0.04534552773605671, 0.9220257306331531, 0.0075575879560094514, 0.0075575879560094514, 0.014965673591809916, 0.9578031098758346, 0.9833668713463644, 0.011514220739708947, 0.02878555184927237, 0.023028441479417894, 0.005757110369854474, 0.06332821406839921, 0.005757110369854474, 0.7311530169715181, 0.011514220739708947, 0.06332821406839921, 0.06908532443825369, 0.8876823155235691, 0.07741754009471254, 0.07687991828849924, 0.06989083480772659, 0.12983566620050746, 0.1913933630119282, 0.11128771388614926, 0.09462143789353754, 0.09005165254072464, 0.08601948899412504, 0.072578943838793, 0.0843691196760179, 0.010124294361122149, 0.005624607978401194, 0.014623980743843103, 0.055121158188331694, 0.0022498431913604774, 0.0022498431913604774, 0.13499059148162865, 0.617581956028451, 0.07424482531489575, 0.13573796894476825, 0.006644515962331314, 0.008542949094425975, 0.004746082830236652, 0.03796866264189322, 0.04271474547212987, 0.013289031924662627, 0.12434737015220029, 0.4992879137408958, 0.12624580328429497, 0.23387623076345668, 0.10883466479634807, 0.12326708773673337, 0.17165119415163158, 0.06506420178042548, 0.04980368899919841, 0.05323434691125721, 0.06293482790397519, 0.07251701034800148, 0.058794378699766295, 0.0016881090760380707, 0.10128654456228425, 0.0016881090760380707, 0.013504872608304566, 0.0033762181520761415, 0.36631966950026135, 0.005064327228114213, 0.49461595927915475, 0.011816763532266496, 0.08557221035854955, 0.03688457343040929, 0.01770459524659646, 0.29286351303744973, 0.057539934551438486, 0.43154950913578866, 0.05016301986535663, 0.0103276805605146, 0.013278446434947343, 0.0051638402802573, 0.027470559273652405, 0.027470559273652405, 0.027470559273652405, 0.08241167782095722, 0.8515873374832246, 0.10679026993565907, 0.03496672555415386, 0.0963947569330728, 0.17388858113417052, 0.01890093273197506, 0.15404260176559673, 0.004725233182993765, 0.2466571721522745, 0.13136148248722665, 0.0340216789175551, 0.005042086084330172, 0.010084172168660343, 0.9227017534324214, 0.010084172168660343, 0.015126258252990516, 0.005042086084330172, 0.035294602590311204, 0.9689927988629473, 0.07007476625905762, 0.017518691564764405, 0.017518691564764405, 0.8584158866734558, 0.017518691564764405, 0.017518691564764405, 0.016499731104163872, 0.016499731104163872, 0.19799677324996648, 0.08249865552081936, 0.008249865552081936, 0.02474959665624581, 0.643489513062391, 0.10393382921699414, 0.786927564071527, 0.011135767416106515, 0.0074238449440710095, 0.0074238449440710095, 0.02227153483221303, 0.02227153483221303, 0.025983457304248534, 0.0074238449440710095, 0.011377751260699436, 0.045511005042797745, 0.9215978521166543, 0.9675058282429916, 0.9697651513799067, 0.008658617423034882, 0.007208092379834242, 0.118933524267265, 0.018020230949585606, 0.018020230949585606, 0.06487283141850818, 0.0504566466588397, 0.6451242679951648, 0.021624277139502726, 0.018020230949585606, 0.03604046189917121, 0.01701912994750585, 0.9530712770603276, 0.918321672427535, 0.030610722414251168, 0.20313996751460148, 0.2697772553826149, 0.12105389664604516, 0.06294802625594348, 0.06041165889764539, 0.10053237892890607, 0.0726323379876271, 0.05095792601671615, 0.03735377382220822, 0.020982675418647827, 0.9741235726689772, 0.1492337806825136, 0.8058624156855735, 0.9293890210088199, 0.12236353826320107, 0.10989336875867102, 0.0475425212360208, 0.3522822885029738, 0.051439449206186434, 0.08495302974961093, 0.05923330514651771, 0.07404163143314714, 0.050660063612153305, 0.04832190683005392, 0.03753966274542288, 0.9384915686355719, 0.16361933080366775, 0.026514006697396054, 0.12210397821169236, 0.24455682493256098, 0.1315234279594515, 0.01535021440375561, 0.08337957369312707, 0.07047143885360531, 0.10431168424370289, 0.03802666750021276, 0.18384013039910743, 0.11775610646979157, 0.11072589115816223, 0.12759840790607266, 0.10369567584653287, 0.0495630179469869, 0.08049596531815603, 0.09842301436281087, 0.06186589474233826, 0.06608402392931587, 0.01626352888191085, 0.012197646661433137, 0.012197646661433137, 0.004065882220477712, 0.024395293322866274, 0.008131764440955425, 0.004065882220477712, 0.9107576173870076, 0.014741968229410733, 0.0221129523441161, 0.007370984114705366, 0.014741968229410733, 0.014741968229410733, 0.9213730143381708, 0.013182325111968768, 0.026364650223937535, 0.9359450829497825, 0.015801357683204058, 0.12114374223789777, 0.005267119227734685, 0.8322048379820803, 0.005267119227734685, 0.005267119227734685, 0.005267119227734685, 0.13671939391864515, 0.0911462626124301, 0.7291701008994408, 0.08308587164286795, 0.14564464558573323, 0.00293244252857181, 0.00586488505714362, 0.00293244252857181, 0.36948775860004807, 0.00488740421428635, 0.36851027775719075, 0.00293244252857181, 0.013684731800001779, 0.04057266773894491, 0.013524222579648304, 0.9061229128364363, 0.027048445159296608, 0.034025385629799856, 0.9356981048194961, 0.9654991741933054, 0.034360528430693475, 0.013744211372277392, 0.034360528430693475, 0.020616317058416087, 0.8933737391980304, 0.01243747506593111, 0.0031093687664827774, 0.04974990026372444, 0.006218737532965555, 0.03731242519779333, 0.02487495013186222, 0.05596863779668999, 0.0031093687664827774, 0.8022171417525565, 0.0031093687664827774, 0.002856685486975885, 0.01856845566534325, 0.9141393558322832, 0.00571337097395177, 0.008570056460927655, 0.009998399204415597, 0.02285348389580708, 0.002856685486975885, 0.002856685486975885, 0.012855084691391482, 0.9707468400859438, 0.005245277774641012, 0.03147166664784607, 0.7186030551258187, 0.002622638887320506, 0.05507541663373063, 0.02098111109856405, 0.002622638887320506, 0.002622638887320506, 0.002622638887320506, 0.15735833323923037, 0.20169373501630464, 0.032378927360477, 0.2674634312172735, 0.1308648314152612, 0.15110166101555933, 0.015514902693561894, 0.030692524893785485, 0.03102980538712379, 0.05565128140081984, 0.0833082818545606, 0.083748066835443, 0.0418740334177215, 0.83748066835443, 0.015204281063718083, 0.7982247558451994, 0.14444067010532177, 0.022806421595577123, 0.0076021405318590415, 0.004811656385929396, 0.09623312771858791, 0.019246625543717585, 0.03368159470150577, 0.09623312771858791, 0.7169368015034799, 0.009623312771858792, 0.004811656385929396, 0.014434969157788188, 0.009623312771858792, 0.2683272621496377, 0.04448205950074208, 0.10259571788074383, 0.1262716527763001, 0.011479241161481826, 0.10546552817111428, 0.006457073153333527, 0.20016926775333935, 0.07676742526740972, 0.058113658380001744, 0.010454324415215176, 0.9617978461997962, 0.01428838335648984, 0.9430333015283294, 0.02857676671297968, 0.14805986400385532, 0.10558850859239084, 0.12505454648931205, 0.15159914362147736, 0.18994133947904945, 0.06724631273481875, 0.0637070331171967, 0.06193739330838569, 0.047780274837897534, 0.03893207579384243, 0.03509425403926184, 0.229740735205477, 0.07923341891338498, 0.014110060902383627, 0.009406707268255751, 0.39435811239995266, 0.011577485868622462, 0.20984193136878215, 0.004703353634127876, 0.01121568943522801, 0.06839656534344667, 0.024871478306707877, 0.04352508703673878, 0.024871478306707877, 0.055960826190092725, 0.012435739153353938, 0.03730721746006182, 0.7274907404712054, 0.9788163240677009, 0.11269159757667896, 0.037563865858892986, 0.7888411830367527, 0.34126434711184694, 0.01729911436972496, 0.18609653337128368, 0.07705969128332028, 0.026734994935029486, 0.0015726467608840873, 0.12266644734895882, 0.08439870950077935, 0.10012517710962023, 0.04246146254387036, 0.024157755454294803, 0.008052585151431601, 0.8938369518089077, 0.0563680960600212, 0.008052585151431601, 0.008052585151431601, 0.9632045481327041, 0.0038886593958517668, 0.031109275166814134, 0.027220615770962367, 0.7194019882325768, 0.2099876073759954, 0.0038886593958517668, 0.0038886593958517668, 0.23558237922076863, 0.08326618575906478, 0.011508334617106514, 0.41836181137481326, 0.047387260188085645, 0.010831373757276719, 0.03452500385131954, 0.11102158101208637, 0.037909808150468516, 0.009477452037617129, 0.9769790771119558, 0.5044334722315996, 0.17507143646864207, 0.04981707541790628, 0.008824739074029113, 0.02505087221014716, 0.006832056057312861, 0.21720244882207138, 0.0011386760095521435, 0.008824739074029113, 0.002562021021492323, 0.029682247178646818, 0.06233271907515832, 0.065300943793023, 0.065300943793023, 0.5550580222406954, 0.008904674153594045, 0.06233271907515832, 0.002968224717864682, 0.06233271907515832, 0.08904674153594046, 0.9616853907479955, 0.17889505612688514, 0.132687565326339, 0.09623027900664201, 0.05044671014004581, 0.045783568866596194, 0.12675265825103946, 0.23400490754038056, 0.052566319809795634, 0.02925061344254757, 0.05341416367769556, 0.00792645917331373, 0.14663949470630402, 0.00792645917331373, 0.039632295866568655, 0.043595525453225516, 0.06737490297316671, 0.6539328817983827, 0.019816147933284328, 0.00792645917331373, 0.003963229586656865, 0.17612300236141018, 0.12554714019681604, 0.11424194747767145, 0.06307107516996445, 0.09103655189626944, 0.06366608531307733, 0.029750507155643608, 0.05414592302327137, 0.2397890876744875, 0.042245720161013925, 0.9668617493205927, 0.04440129579919628, 0.04440129579919628, 0.8880259159839256, 0.02220064789959814, 0.03575373903210469, 0.007150747806420937, 0.007150747806420937, 0.03575373903210469, 0.9081449714154589, 0.007150747806420937, 0.9630844152116917, 0.012190941964704959, 0.012190941964704959, 0.7337599775883437, 0.095707823163697, 0.08355444879370373, 0.02430674873998654, 0.006076687184996635, 0.019749233351239064, 0.015191717962491589, 0.009115030777494953, 0.0015191717962491588, 0.009115030777494953, 0.9820708859712233, 0.9629889120744928, 0.004585661486069014, 0.011464153715172534, 0.002292830743034507, 0.004585661486069014, 0.004585661486069014, 0.009171322972138027, 0.9765647494065643, 0.983960995479747, 0.9382792008742015, 0.015133535497970993, 0.010089023665313994, 0.025222559163284985, 0.023719373763157258, 0.4146800861351976, 0.018811917122504032, 0.013086551041741936, 0.05725366080762097, 0.11450732161524194, 0.30344440228039116, 0.003271637760435484, 0.04007756256533468, 0.011450732161524193, 0.012606873949257634, 0.007564124369554581, 0.010085499159406108, 0.060512994956436646, 0.03277787226806985, 0.6404291966222878, 0.005042749579703054, 0.21179548234752826, 0.007564124369554581, 0.007564124369554581, 0.024808772132092975, 0.9675421131516261, 0.13616592830994226, 0.0012725787692517967, 0.029269311692791327, 0.15398203107946742, 0.0012725787692517967, 0.0012725787692517967, 0.03817736307755391, 0.44922030554588427, 0.18834165784926593, 0.0025451575385035934, 0.040098347158363294, 0.002110439324124384, 0.029546150537741376, 0.0654236190478559, 0.671119705071554, 0.18993953917119455, 0.012477537898934752, 0.9732479561169106, 0.012583540029468064, 0.9123066521364347, 0.006291770014734032, 0.031458850073670164, 0.012583540029468064, 0.012583540029468064, 0.006291770014734032, 0.159809454620628, 0.79904727310314, 0.022307682005743026, 0.04461536401148605, 0.9220508562373785, 0.96731914438865, 0.06762705858579969, 0.036414570007738296, 0.018207285003869148, 0.8089236623147579, 0.013005203574192247, 0.010404162859353798, 0.005202081429676899, 0.018207285003869148, 0.013005203574192247, 0.010404162859353798, 0.011522271445576156, 0.023044542891152313, 0.011522271445576156, 0.9102594442005164, 0.023044542891152313, 0.011522271445576156, 0.018498530208941568, 0.9619235708649616, 0.15260256382841178, 0.15860378824863022, 0.05744029087923365, 0.01800367326065532, 0.014574402163387642, 0.3515002874699372, 0.00600122442021844, 0.2263318924196669, 0.0042865888715846005, 0.00943049551748612, 0.10768767234752952, 0.03589589078250984, 0.8256054879977264, 0.005964269899991052, 0.06560696889990157, 0.005964269899991052, 0.9065690247986399, 0.005964269899991052, 0.9816740616257454, 0.010249507097749314, 0.040998028390997254, 0.010249507097749314, 0.0358732748421226, 0.0358732748421226, 0.7379645110379506, 0.020499014195498627, 0.010249507097749314, 0.09737031742861847, 0.005124753548874657, 0.9438537633837721, 0.020518560073560264, 0.02274499476022828, 0.030326659680304378, 0.17437829316175016, 0.007581664920076094, 0.007581664920076094, 0.007581664920076094, 0.007581664920076094, 0.7505848270875333, 0.7598896043959754, 0.17879755397552363, 0.03358626907502243, 0.7523324272805024, 0.03358626907502243, 0.02686901526001794, 0.02686901526001794, 0.020151761445013457, 0.040303522890026915, 0.006717253815004485, 0.0470207767050314, 0.9916900872149678, 0.00440751149873319, 0.937002690249767, 0.003154153483392322, 0.29018212047209363, 0.0021027689889282146, 0.0998815269740902, 0.01577076741696161, 0.25233227867138575, 0.006308306966784644, 0.06728860764570287, 0.26389750811049095, 0.03766921068286231, 0.18834605341431154, 0.03766921068286231, 0.012556403560954103, 0.012556403560954103, 0.025112807121908207, 0.6780457922915216, 0.9691976429049757, 0.9457623795318323, 0.0062986656020692705, 0.010497776003448783, 0.004199110401379514, 0.008398220802759027, 0.3842186017262255, 0.004199110401379514, 0.5773776801896832, 0.002099555200689757, 0.004199110401379514, 0.0438680138709026, 0.9321952947566802, 0.07893144520839808, 0.07428841901966877, 0.018572104754917194, 0.5873428128742563, 0.002321513094364649, 0.027858157132375792, 0.002321513094364649, 0.12536170709569106, 0.07428841901966877, 0.011607565471823246, 0.9705447761339037, 0.04336666317310796, 0.02168333158655398, 0.9106999266352671, 0.004445033038033347, 0.02667019822820008, 0.0014816776793444488, 0.007408388396722244, 0.0014816776793444488, 0.48302692346629034, 0.0029633553586888976, 0.46969182435219026, 0.0014816776793444488, 0.0014816776793444488, 0.036119306478344666, 0.9210423151977889, 0.935117245150685, 0.2304231127033887, 0.049717850043884695, 0.16923191264937676, 0.03537616253122565, 0.027727262524474158, 0.09561125008439365, 0.01912225001687873, 0.24476480021604774, 0.07266455006413917, 0.054498412548104384, 0.032801586629383296, 0.032801586629383296, 0.9184444256227322, 0.9818218428681287, 0.0028877113025533195, 0.0028877113025533195, 0.0028877113025533195, 0.005775422605106639, 0.0028877113025533195, 0.004181328649808095, 0.9617055894558619, 0.006271992974712143, 0.012543985949424286, 0.01045332162452024, 0.8739167823177245, 0.0374870469626906, 0.0023429404351681623, 0.03280116609235428, 0.004685880870336325, 0.00937176174067265, 0.02811528522201795, 0.011714702175840811, 0.07065524497038121, 0.0012846408176432947, 0.1477336940289789, 0.09249413887031722, 0.005138563270573179, 0.017984971447006125, 0.0244081755352226, 0.10020198377617699, 0.5382645025925404, 0.0025692816352865895, 0.10010140664642014, 0.0018887057857815122, 0.05099505621610083, 0.19453669593549575, 0.01699835207203361, 0.0018887057857815122, 0.005666117357344537, 0.06043858514500839, 0.5685004415202352, 0.0018887057857815122, 0.044380705238043244, 0.044380705238043244, 0.8876141047608649, 0.09069599110677772, 0.024185597628474057, 0.006046399407118514, 0.8162639199609995, 0.012092798814237029, 0.0423247958498296, 0.006046399407118514, 0.9384709207207675, 0.01973061493051185, 0.01973061493051185, 0.01973061493051185, 0.907608286803545, 0.01973061493051185, 0.07312637150659386, 0.01655691430337974, 0.006898714293074892, 0.004139228575844935, 0.023455628596454635, 0.015177171444764763, 0.015177171444764763, 0.0193164000206097, 0.8223267437345272, 0.0055189714344599135, 0.0028285270411249498, 0.0056570540822498995, 0.025456743370124546, 0.0028285270411249498, 0.670360908746613, 0.06222759490474889, 0.0028285270411249498, 0.22911069033112091, 0.025271116034702522, 0.025271116034702522, 0.07581334810410756, 0.8592179451798857, 0.011063547707972953, 0.022127095415945906, 0.022127095415945906, 0.7689165657041203, 0.01659532156195943, 0.005531773853986476, 0.08297660780979715, 0.011063547707972953, 0.05531773853986477, 0.05608296666695657, 0.09464000625048923, 0.028041483333478286, 0.028041483333478286, 0.01752592708342393, 0.010515556250054358, 0.007010370833369571, 0.0035051854166847857, 0.7501096791705442, 0.07419709530285801, 0.036095884201390385, 0.036095884201390385, 0.030079903501158654, 0.006015980700231731, 0.026069249701004167, 0.07018644150270352, 0.008021307600308974, 0.7118910495274214, 0.0020053269000772436, 0.9602594207347994, 0.007132185546719506, 0.021396556640158517, 0.014264371093439011, 0.007132185546719506, 0.9414484921669748, 0.007132185546719506, 0.032153869648887716, 0.5756579888752479, 0.014521102422078325, 0.10061049535297124, 0.0985360521498172, 0.1296527001971279, 0.02281887523469451, 0.006223329609462139, 0.012446659218924279, 0.006223329609462139, 0.012500543756847058, 0.6750293628697411, 0.012500543756847058, 0.05000217502738823, 0.03125135939211765, 0.18125788447428234, 0.009375407817635293, 0.015625679696058825, 0.009375407817635293, 0.03978023621528209, 0.020352678993865253, 0.22619227336363884, 0.017577313676519993, 0.3626477347997809, 0.004625608862242103, 0.14524411827440203, 0.0032379262035694724, 0.012489143928053678, 0.16790960169938834, 0.007053278301505578, 0.007053278301505578, 0.9662991273062642, 0.010579917452258367, 0.003526639150752789, 0.007053278301505578, 0.9348224476474706, 0.04920118145513003, 0.03476467847645827, 0.057941130794097115, 0.8691169619114567, 0.011588226158819423, 0.0057941130794097115, 0.0057941130794097115, 0.011588226158819423, 0.0057941130794097115, 0.006811537188084059, 0.020434611564252178, 0.9604267435198524, 0.9709423834837353, 0.008669128423961923, 0.008669128423961923, 0.9495472878749968, 0.02434736635576915, 0.9562256018814626, 0.06164971750309693, 0.00906613492692602, 0.04170422066385969, 0.7651817878325561, 0.05983649051771173, 0.00906613492692602, 0.003626453970770408, 0.030824858751548466, 0.00906613492692602, 0.010879361912311224, 0.09844542184371188, 0.07307289044069336, 0.15933949721095633, 0.02943213642750149, 0.11569874319776448, 0.04973016154991631, 0.05277486531827853, 0.019283123866294077, 0.3907369836064853, 0.012178815073448892, 0.14348471791919884, 0.09643417356087076, 0.10654420788580077, 0.13454122601637614, 0.09798956345701385, 0.06882600290433115, 0.09332339376858462, 0.09954495335315693, 0.06804830795625962, 0.09137915639840577, 0.05681693050441995, 0.9090708880707192, 0.011363386100883992, 0.011363386100883992, 0.030172164386767848, 0.9051649316030353, 0.030172164386767848, 0.030172164386767848, 0.04099238595246656, 0.08653948145520719, 0.09792625533089235, 0.03871503117732953, 0.4736897932285025, 0.004554709550274062, 0.05010180505301469, 0.01594148342595922, 0.01821883820109625, 0.17080160813527734, 0.033580930568473145, 0.012089135004650333, 0.006716186113694629, 0.5681893452185657, 0.006716186113694629, 0.05238625168681811, 0.0013432372227389258, 0.2767068678842187, 0.032237693345734224, 0.009402660559172481, 0.044640084617720316, 0.022320042308860158, 0.8928016923544062, 0.022320042308860158, 0.007553726181991606, 0.08309098800190766, 0.8283919712917461, 0.020143269818644283, 0.005035817454661071, 0.022661178545974818, 0.017625361091313747, 0.0025179087273305353, 0.017625361091313747, 0.06491603316701579, 0.0024042975247042884, 0.007212892574112865, 0.7765881004794851, 0.03125586782115575, 0.0024042975247042884, 0.0408730579199729, 0.03125586782115575, 0.0408730579199729, 0.9576543412626549, 0.9696767980376588, 0.20429843423579563, 0.21434119434570134, 0.12108699332514854, 0.079481272869825, 0.0519354165683694, 0.06398672870025622, 0.13859008951669846, 0.02008552021981137, 0.06054349666257427, 0.045335888496145664, 0.10037188938892763, 0.11122290445800088, 0.042318958769385705, 0.22244580891600177, 0.08735067130603973, 0.18229705316043074, 0.0802975115111421, 0.1052548461700106, 0.02061692863123919, 0.04774446630392233, 0.980537017447468, 0.04342824859399501, 0.021714124296997504, 0.17371299437598003, 0.7382802260979152, 0.01610560748198967, 0.004026401870497418, 0.01610560748198967, 0.004026401870497418, 0.13287126172641478, 0.004026401870497418, 0.008052803740994836, 0.8133331778404784, 0.0032682465577333142, 0.0032682465577333142, 0.0032682465577333142, 0.9902787069931942, 0.10330140614538645, 0.10330140614538645, 0.7747605460903983, 0.049389616848278986, 0.00352782977487707, 0.05644527639803312, 0.6843989763261517, 0.01058348932463121, 0.00352782977487707, 0.00352782977487707, 0.15169668031971403, 0.017639148874385353, 0.02116697864926242, 0.04932271594019769, 0.058130343786661556, 0.024661357970098843, 0.059891869355954336, 0.2289983240080607, 0.07222254834100375, 0.3998663042294598, 0.04403813923231936, 0.012330678985049422, 0.04932271594019769, 0.9619138907256531, 0.16666145441631397, 0.007936259734110189, 0.003968129867055094, 0.015872519468220377, 0.6428370384629253, 0.023808779202330568, 0.04364942853760604, 0.003968129867055094, 0.08729885707521208, 0.9536743629331893, 0.009257384576728952, 0.027772153730186856, 0.030086499874369094, 0.002314346144182238, 0.03471519216273357, 0.03471519216273357, 0.7243903431290405, 0.018514769153457903, 0.1157173072091119, 0.012946042799059976, 0.02589208559811995, 0.9321150815323183, 0.860500584866337, 0.02873376293929772, 0.049906009315622356, 0.008317668219270392, 0.007561516562973084, 0.007561516562973084, 0.01436688146964886, 0.016635336438540784, 0.002268454968891925, 0.005293061594081158, 0.9726875688945829, 0.9741266022618683, 0.003225584775701551, 0.003225584775701551, 0.006451169551403102, 0.003225584775701551, 0.003225584775701551, 0.006451169551403102, 0.9734068084184359, 0.015700109813200577, 0.062166313758580075, 0.031083156879290037, 0.062166313758580075, 0.808162078861541, 0.024173141402467083, 0.9669256560986833, 0.9749309886208557, 0.10839292607645203, 0.0413863899564635, 0.050451980137403124, 0.4004625923406373, 0.12691826253315472, 0.03113833149105349, 0.050846136232226585, 0.06109419469763659, 0.06070003860281313, 0.06858316049928237, 0.13517624085318428, 0.11293204932038181, 0.16108705736392123, 0.14862053243894402, 0.11928753261546823, 0.08482125782288417, 0.05891044131214722, 0.05842155798175595, 0.061599299629299165, 0.05891044131214722, 0.049620647566560594, 0.8435510086315301, 0.11704834024641844, 0.4316676377882098, 0.09878547864768648, 0.05063793443284769, 0.026564162325428298, 0.04150650363348171, 0.05146806450551732, 0.053128324650856595, 0.012451951090044515, 0.11538808010107916, 0.05709986503056341, 0.04078561787897386, 0.8891264697616302, 0.03574503044721512, 0.18649581102894847, 0.07770658792872853, 0.08081485144587768, 0.14608838530600965, 0.04351568924008798, 0.09946443254877252, 0.012433054068596565, 0.037299162205789695, 0.2812978483019973, 0.15345206676824807, 0.19611174132982104, 0.11386143354204008, 0.06966723831278462, 0.06690510111095616, 0.08286411605485396, 0.2145259893420108, 0.0322249340213321, 0.029769700953040126, 0.04081824976035399, 0.006590090199336513, 0.7150247866280117, 0.052720721594692106, 0.023065315697677797, 0.08237612749170642, 0.016475225498341284, 0.006590090199336513, 0.013180180398673027, 0.0032950450996682566, 0.07908108239203816, 0.9694609530751448, 0.21735536821198992, 0.19428094511215874, 0.030338593334963207, 0.1357402790996241, 0.2327383169452107, 0.07107492053589971, 0.08503352216419265, 0.01338886278632179, 0.014955644601742426, 0.00512764957774026, 0.007339310638820188, 0.007339310638820188, 0.9761283149630849, 0.9486049877315561, 0.0019283919470974903, 0.0019283919470974903, 0.9892650688610125, 0.0019283919470974903, 0.0019283919470974903, 0.0019283919470974903, 0.17147488634120628, 0.023232081375260207, 0.07633398166156925, 0.013275475071577262, 0.13717990907296504, 0.001106289589298105, 0.44030325654064584, 0.00442515835719242, 0.01991321260736589, 0.1106289589298105, 0.007860140379774413, 0.6060168232806072, 0.01179021056966162, 0.03144056151909765, 0.140696512797962, 0.15248672336762362, 0.011004196531684178, 0.0031440561519097653, 0.03144056151909765, 0.005502098265842089, 0.010131962697030058, 0.9422725308237955, 0.020263925394060116, 0.010131962697030058, 0.016769677901510252, 0.016769677901510252, 0.016769677901510252, 0.9223322845830638, 0.016769677901510252, 0.0978628527742819, 0.025236838824313382, 0.06056841317835212, 0.4778174817403334, 0.09533916889185055, 0.014020466013507435, 0.014020466013507435, 0.10543390442157591, 0.07038273938780733, 0.03897689551755067, 0.9556840260950901, 0.07074522345622376, 0.053315240865559936, 0.09894078352935642, 0.07433374928371338, 0.12406046432178369, 0.07228316309657645, 0.3081005746173223, 0.054853180505912626, 0.08561197331296644, 0.057929059786618005, 0.023283993861654965, 0.9546437483278535, 0.1788612186413162, 0.009172370186734165, 0.06879277640050624, 0.045861850933670824, 0.004586185093367083, 0.004586185093367083, 0.01834474037346833, 0.6604106534448598, 0.009172370186734165, 0.9808392160092295, 0.16568446156625016, 0.3257888764994401, 0.11889791671982201, 0.09314385533646707, 0.06180974732005188, 0.07726218415006485, 0.058805106825327136, 0.051937357123099145, 0.021461717819462458, 0.02575406138335495, 0.901417947639656, 0.9348916228743313, 0.9190203722547051, 0.06807558312997816, 0.07221030933335516, 0.025073024074081653, 0.11032130592595928, 0.233680584370441, 0.09628041244447355, 0.01303797251852246, 0.06318402066668577, 0.09427457051854701, 0.10430378014817968, 0.18854914103709403, 0.029778361545398393, 0.029778361545398393, 0.029778361545398393, 0.8486833040438542, 0.029778361545398393, 0.014889180772699196, 0.1095105055078063, 0.021902101101561263, 0.021902101101561263, 0.7665735385546442, 0.06570630330468379, 0.10095433783511015, 0.14686343716736613, 0.07948441078420437, 0.2060199382969895, 0.07765718295008472, 0.11305972223615277, 0.06532339506977716, 0.09889870652172555, 0.059841711567418236, 0.05207599327240976, 0.1444803849061905, 0.17170938052312643, 0.0611263166910806, 0.07279588624119598, 0.07279588624119598, 0.2172762711473865, 0.07279588624119598, 0.14003483460138466, 0.021116363947827843, 0.02667330182883517], \"Term\": [\"abgeordnet\", \"abgeordnet\", \"abgeordnet\", \"abgeordnet\", \"abgeordnet\", \"abgeordnet\", \"abgeordnet\", \"abgeordnet\", \"abgeordnet\", \"absatz\", \"absatz\", \"absatz\", \"absatz\", \"absatz\", \"absatz\", \"abschreib\", \"abschreib\", \"abschreib\", \"aden\", \"admira\", \"admira\", \"agypt\", \"agypt\", \"agypt\", \"agypt\", \"agypt\", \"agypt\", \"agypt\", \"agypt\", \"agypt\", \"agypt\", \"airbus\", \"airbus\", \"airbus\", \"airbus\", \"aktienmarkt\", \"aktienmarkt\", \"aktionar\", \"aktionar\", \"aktuell\", \"aktuell\", \"aktuell\", \"aktuell\", \"aktuell\", \"aktuell\", \"aktuell\", \"aktuell\", \"aktuell\", \"aktuell\", \"alaba\", \"alaba\", \"alaba\", \"alaba\", \"alaba\", \"alexis\", \"alexis\", \"alexis\", \"alexis\", \"alexis\", \"alexis\", \"alexis\", \"allerding\", \"allerding\", \"allerding\", \"allerding\", \"allerding\", \"allerding\", \"allerding\", \"allerding\", \"allerding\", \"allerding\", \"alm\", \"alm\", \"alm\", \"alm\", \"alm\", \"alt\", \"alt\", \"alt\", \"alt\", \"alt\", \"alt\", \"alt\", \"alt\", \"alt\", \"alt\", \"altach\", \"altach\", \"altach\", \"altersgrupp\", \"altersgrupp\", \"amazon\", \"amazon\", \"amazon\", \"amazon\", \"amazon\", \"amazon\", \"amazon\", \"android\", \"android\", \"android\", \"angab\", \"angab\", \"angab\", \"angab\", \"angab\", \"angab\", \"angab\", \"angab\", \"angab\", \"angab\", \"angeklagt\", \"angeklagt\", \"angeklagt\", \"angeklagt\", \"angeklagt\", \"angeklagt\", \"angeklagt\", \"angriff\", \"angriff\", \"angriff\", \"angriff\", \"angriff\", \"angriff\", \"angriff\", \"angriff\", \"angriff\", \"angriff\", \"anleih\", \"anleih\", \"anleih\", \"anleih\", \"anleih\", \"anleih\", \"anleih\", \"anleih\", \"anschlag\", \"anschlag\", \"anschlag\", \"anschlag\", \"anschlag\", \"anschlag\", \"anschlag\", \"anschlag\", \"anschlag\", \"anschlag\", \"anstieg\", \"anstieg\", \"anstieg\", \"anstieg\", \"anstieg\", \"anstieg\", \"anstieg\", \"anstieg\", \"anstieg\", \"anstieg\", \"appl\", \"appl\", \"appl\", \"appl\", \"appl\", \"appl\", \"appl\", \"appl\", \"appl\", \"apps\", \"apps\", \"apps\", \"apps\", \"apps\", \"arbeit\", \"arbeit\", \"arbeit\", \"arbeit\", \"arbeit\", \"arbeit\", \"arbeit\", \"arbeit\", \"arbeit\", \"arbeit\", \"arbeitnehm\", \"arbeitnehm\", \"arbeitnehm\", \"arbeitnehm\", \"arbeitnehm\", \"arbeitnehm\", \"arbeitnehm\", \"arbeitskraft\", \"arbeitskraft\", \"arbeitskraft\", \"arbeitskraft\", \"arbeitslos\", \"arbeitslos\", \"arbeitslos\", \"arbeitslos\", \"arbeitslos\", \"arbeitslos\", \"arbeitsmarkt\", \"arbeitsmarkt\", \"arbeitsmarkt\", \"arbeitsmarkt\", \"arbeitsmarkt\", \"arbeitsmarkt\", \"arbeitsmarkt\", \"arbeitsmarkt\", \"arbeitsmarkt\", \"arbeitszeit\", \"arbeitszeit\", \"arbeitszeit\", \"arbeitszeit\", \"arbeitszeit\", \"arbeitszeit\", \"arena\", \"arena\", \"arena\", \"arena\", \"arena\", \"arme\", \"arme\", \"arme\", \"arme\", \"arme\", \"arme\", \"arme\", \"armut\", \"armut\", \"armut\", \"armut\", \"armut\", \"armut\", \"arnautovic\", \"arnautovic\", \"arnautovic\", \"arsenal\", \"arsenal\", \"arsenal\", \"arsenal\", \"art\", \"art\", \"art\", \"art\", \"art\", \"art\", \"art\", \"art\", \"artikel\", \"artikel\", \"artikel\", \"artikel\", \"artikel\", \"artikel\", \"artikel\", \"artikel\", \"artikel\", \"artikel\", \"assad\", \"assad\", \"assad\", \"assad\", \"assad\", \"ath\", \"ath\", \"ath\", \"ath\", \"ath\", \"ath\", \"ath\", \"ath\", \"ath\", \"ath\", \"atletico\", \"atletico\", \"atmosphar\", \"atmosphar\", \"atmosphar\", \"atmosphar\", \"atmosphar\", \"atmosphar\", \"atmosphar\", \"atmosphar\", \"atmosphar\", \"atmosphar\", \"attentat\", \"attentat\", \"attentat\", \"attentat\", \"attentat\", \"attentat\", \"attentat\", \"audi\", \"audi\", \"audi\", \"audi\", \"audi\", \"audi\", \"audi\", \"audi\", \"australian\", \"austria\", \"austria\", \"austria\", \"austria\", \"austria\", \"austria\", \"austria\", \"austria\", \"austria\", \"austria\", \"autobau\", \"autobau\", \"autobau\", \"autobau\", \"autobau\", \"autobau\", \"autobau\", \"autor\", \"autor\", \"autor\", \"autor\", \"autor\", \"autor\", \"autor\", \"autor\", \"autor\", \"autor\", \"autos\", \"autos\", \"autos\", \"autos\", \"autos\", \"autos\", \"autos\", \"autos\", \"autos\", \"autos\", \"award\", \"award\", \"award\", \"balkanrout\", \"balkanrout\", \"balkanrout\", \"balkanrout\", \"balkanstaat\", \"balkanstaat\", \"ball\", \"ball\", \"ball\", \"ball\", \"ball\", \"ball\", \"ball\", \"bank\", \"bank\", \"bank\", \"bank\", \"bank\", \"bank\", \"bank\", \"bank\", \"bank\", \"bank\", \"barca\", \"barcelona\", \"barcelona\", \"barcelona\", \"barcelona\", \"barcelona\", \"barcelona\", \"barcelona\", \"barcelona\", \"barcelona\", \"barisic\", \"barisic\", \"barisic\", \"barrel\", \"barrel\", \"bashar\", \"bashar\", \"basier\", \"basier\", \"basier\", \"basier\", \"basier\", \"basier\", \"basier\", \"bawag\", \"bawag\", \"bay\", \"bay\", \"bay\", \"bay\", \"bay\", \"bay\", \"bay\", \"bay\", \"bay\", \"bay\", \"beamt\", \"beamt\", \"beamt\", \"beamt\", \"beamt\", \"beamt\", \"beamt\", \"beamt\", \"beamt\", \"befragt\", \"befragt\", \"befragt\", \"befragt\", \"befragt\", \"befragt\", \"befragt\", \"befragt\", \"befragt\", \"beid\", \"beid\", \"beid\", \"beid\", \"beid\", \"beid\", \"beid\", \"beid\", \"beid\", \"beid\", \"beim\", \"beim\", \"beim\", \"beim\", \"beim\", \"beim\", \"beim\", \"beim\", \"beim\", \"beim\", \"belgrad\", \"belgrad\", \"bell\", \"bell\", \"bell\", \"bell\", \"bell\", \"bell\", \"bereit\", \"bereit\", \"bereit\", \"bereit\", \"bereit\", \"bereit\", \"bereit\", \"bereit\", \"bereit\", \"bereit\", \"berichtet\", \"berichtet\", \"berichtet\", \"berichtet\", \"berichtet\", \"berichtet\", \"berichtet\", \"berichtet\", \"berichtet\", \"berichtet\", \"berlin\", \"berlin\", \"berlin\", \"berlin\", \"berlin\", \"berlin\", \"berlin\", \"berlin\", \"berlin\", \"berlin\", \"berufsbild\", \"berufsbild\", \"betriebsrat\", \"betriebsrat\", \"betriebsrat\", \"betriebsrat\", \"betriebsrat\", \"betriebsrat\", \"betriebssyst\", \"betriebssystem\", \"blau\", \"blau\", \"blau\", \"blau\", \"blau\", \"blau\", \"blau\", \"blau\", \"blau\", \"bluttat\", \"bluttat\", \"boeing\", \"bohmermann\", \"bohmermann\", \"bohmermann\", \"bors\", \"bors\", \"bors\", \"bors\", \"bors\", \"bors\", \"bors\", \"bors\", \"borsennotiert\", \"borsennotiert\", \"borsennotiert\", \"borsennotiert\", \"borussia\", \"borussia\", \"borussia\", \"brandstift\", \"brasilia\", \"break\", \"break\", \"break\", \"breakball\", \"brows\", \"buch\", \"buch\", \"buch\", \"buch\", \"buch\", \"buch\", \"buch\", \"buch\", \"buch\", \"buch\", \"budap\", \"budap\", \"budap\", \"budap\", \"budap\", \"budap\", \"budap\", \"budap\", \"budap\", \"bull\", \"bull\", \"bull\", \"bull\", \"bull\", \"bull\", \"bull\", \"bull\", \"bundesliga\", \"bundesliga\", \"bundesliga\", \"bundesliga\", \"burgermeist\", \"burgermeist\", \"burgermeist\", \"burgermeist\", \"burgermeist\", \"burgermeist\", \"burgermeist\", \"burgermeist\", \"burgermeist\", \"burgermeist\", \"celsius\", \"celsius\", \"celsius\", \"celsius\", \"celsius\", \"celsius\", \"champion\", \"champion\", \"champion\", \"champion\", \"champion\", \"champion\", \"champion\", \"champion\", \"champion\", \"chef\", \"chef\", \"chef\", \"chef\", \"chef\", \"chef\", \"chef\", \"chef\", \"chef\", \"chef\", \"chelsea\", \"chelsea\", \"china\", \"china\", \"china\", \"china\", \"china\", \"china\", \"china\", \"china\", \"china\", \"china\", \"chinas\", \"chinas\", \"chinas\", \"chinas\", \"chinas\", \"chinas\", \"chinas\", \"chines\", \"chines\", \"chines\", \"chines\", \"chines\", \"chines\", \"chines\", \"chines\", \"chines\", \"chines\", \"city\", \"city\", \"city\", \"city\", \"city\", \"city\", \"city\", \"city\", \"city\", \"city\", \"clinton\", \"clinton\", \"clinton\", \"clinton\", \"clinton\", \"clinton\", \"cont\", \"dabei\", \"dabei\", \"dabei\", \"dabei\", \"dabei\", \"dabei\", \"dabei\", \"dabei\", \"dabei\", \"dabei\", \"daiml\", \"daiml\", \"daiml\", \"daiml\", \"daiml\", \"demokrat\", \"demokrat\", \"demokrat\", \"demokrat\", \"demokrat\", \"demokrat\", \"demokrat\", \"demokrat\", \"desktop\", \"deutlich\", \"deutlich\", \"deutlich\", \"deutlich\", \"deutlich\", \"deutlich\", \"deutlich\", \"deutlich\", \"deutlich\", \"deutlich\", \"deutsch\", \"deutsch\", \"deutsch\", \"deutsch\", \"deutsch\", \"deutsch\", \"deutsch\", \"deutsch\", \"deutsch\", \"deutsch\", \"deutschland\", \"deutschland\", \"deutschland\", \"deutschland\", \"deutschland\", \"deutschland\", \"deutschland\", \"deutschland\", \"deutschland\", \"deutschland\", \"dibon\", \"dijsselblo\", \"dilma\", \"dirigent\", \"display\", \"display\", \"display\", \"divid\", \"divid\", \"divid\", \"divid\", \"djokovic\", \"djokovic\", \"dmitri\", \"dmitri\", \"dmitri\", \"dmitri\", \"dmitri\", \"dmitri\", \"dollar\", \"dollar\", \"dollar\", \"dollar\", \"dollar\", \"dollar\", \"dollar\", \"dollar\", \"dollar\", \"dollar\", \"dominic\", \"dominic\", \"dominic\", \"dortmund\", \"dortmund\", \"dortmund\", \"dortmund\", \"dortmund\", \"dortmund\", \"dreharbeit\", \"dreharbeit\", \"drei\", \"drei\", \"drei\", \"drei\", \"drei\", \"drei\", \"drei\", \"drei\", \"drei\", \"drei\", \"durchschnitt\", \"durchschnitt\", \"durchschnitt\", \"durchschnitt\", \"durchschnitt\", \"durchschnitt\", \"durchschnitt\", \"dynamo\", \"ebit\", \"ebitda\", \"edomwonyi\", \"eig\", \"eig\", \"eig\", \"eig\", \"eig\", \"eig\", \"eig\", \"eig\", \"eig\", \"eig\", \"eigenkapital\", \"eigenkapital\", \"eigenschaft\", \"eigenschaft\", \"eigenschaft\", \"eigenschaft\", \"eigenschaft\", \"eigenschaft\", \"eigenschaft\", \"eigenschaft\", \"eigentum\", \"eigentum\", \"eigentum\", \"eigentum\", \"eigentum\", \"eigentum\", \"eigentum\", \"eigentum\", \"eigentum\", \"eingeliefert\", \"einkomm\", \"einkomm\", \"einkomm\", \"einkomm\", \"einkomm\", \"einkomm\", \"einkomm\", \"einreis\", \"einreis\", \"einreis\", \"einreis\", \"einreis\", \"energi\", \"energi\", \"energi\", \"energi\", \"energi\", \"energi\", \"energi\", \"energi\", \"energi\", \"energi\", \"entscheid\", \"entscheid\", \"entscheid\", \"entscheid\", \"entscheid\", \"entscheid\", \"entscheid\", \"entscheid\", \"entscheid\", \"entscheid\", \"epoch\", \"epoch\", \"erklart\", \"erklart\", \"erklart\", \"erklart\", \"erklart\", \"erklart\", \"erklart\", \"erklart\", \"erklart\", \"erklart\", \"ermittl\", \"ermittl\", \"ermittl\", \"ermittl\", \"ermittl\", \"ermittl\", \"ermittl\", \"ermittl\", \"ermittl\", \"ermittl\", \"erst\", \"erst\", \"erst\", \"erst\", \"erst\", \"erst\", \"erst\", \"erst\", \"erst\", \"erst\", \"etwa\", \"etwa\", \"etwa\", \"etwa\", \"etwa\", \"etwa\", \"etwa\", \"etwa\", \"etwa\", \"etwa\", \"euro\", \"euro\", \"euro\", \"euro\", \"euro\", \"euro\", \"euro\", \"euro\", \"euro\", \"euro\", \"eurogrupp\", \"eurogrupp\", \"europa\", \"europa\", \"europa\", \"europa\", \"europa\", \"europa\", \"europa\", \"europa\", \"europa\", \"europa\", \"facebook\", \"facebook\", \"facebook\", \"facebook\", \"facebook\", \"facebook\", \"facebook\", \"facebook\", \"facebook\", \"facebook\", \"fahrzeug\", \"fahrzeug\", \"fahrzeug\", \"fahrzeug\", \"fahrzeug\", \"fahrzeug\", \"fahrzeug\", \"fahrzeug\", \"fahrzeug\", \"fall\", \"fall\", \"fall\", \"fall\", \"fall\", \"fall\", \"fall\", \"fall\", \"fall\", \"fall\", \"faymann\", \"faymann\", \"faymann\", \"faymann\", \"faymann\", \"faymann\", \"faymann\", \"faymann\", \"fed\", \"fed\", \"fed\", \"fed\", \"feldkirch\", \"feldkirch\", \"feldkirch\", \"ferrari\", \"ferrari\", \"ferrari\", \"ferrari\", \"festgenomm\", \"festgenomm\", \"festgenomm\", \"festgenomm\", \"festgenomm\", \"festgenomm\", \"festnahm\", \"festnahm\", \"festnahm\", \"festnahm\", \"festnahm\", \"feuerwehrleut\", \"feuerwehrleut\", \"fiction\", \"fiction\", \"fiction\", \"fiction\", \"fiction\", \"filial\", \"filial\", \"filial\", \"filial\", \"filial\", \"filial\", \"filial\", \"filial\", \"film\", \"film\", \"film\", \"film\", \"film\", \"film\", \"film\", \"film\", \"film\", \"finanzminist\", \"finanzminist\", \"finanzminist\", \"finanzminist\", \"finanzminist\", \"finanzminist\", \"finanzminist\", \"finanzminist\", \"finanzminist\", \"fink\", \"fink\", \"fink\", \"fink\", \"firmwar\", \"fluchtling\", \"fluchtling\", \"fluchtling\", \"fluchtling\", \"fluchtling\", \"fluchtling\", \"fluchtling\", \"fluchtling\", \"fluchtling\", \"fluchtling\", \"flughaf\", \"flughaf\", \"flughaf\", \"flughaf\", \"flughaf\", \"flughaf\", \"flughaf\", \"flughaf\", \"flughaf\", \"flughaf\", \"foda\", \"fordert\", \"fordert\", \"fordert\", \"fordert\", \"fordert\", \"fordert\", \"fordert\", \"fordert\", \"fordert\", \"fordert\", \"form\", \"form\", \"form\", \"form\", \"form\", \"form\", \"form\", \"form\", \"form\", \"form\", \"forsch\", \"forsch\", \"forsch\", \"forsch\", \"forsch\", \"forsch\", \"forsch\", \"forsch\", \"forsch\", \"forsch\", \"frag\", \"frag\", \"frag\", \"frag\", \"frag\", \"frag\", \"frag\", \"frag\", \"frag\", \"frag\", \"frau\", \"frau\", \"frau\", \"frau\", \"frau\", \"frau\", \"frau\", \"frau\", \"frau\", \"frau\", \"freiheit\", \"freiheit\", \"freiheit\", \"freiheit\", \"freiheit\", \"freiheit\", \"freiheit\", \"freiheit\", \"freiheit\", \"freiheit\", \"french\", \"fussball\", \"fussball\", \"fussball\", \"fussball\", \"fussball\", \"fussball\", \"fussball\", \"fussball\", \"fussball\", \"fussball\", \"ganz\", \"ganz\", \"ganz\", \"ganz\", \"ganz\", \"ganz\", \"ganz\", \"ganz\", \"ganz\", \"ganz\", \"gazastreif\", \"gazastreif\", \"geb\", \"geb\", \"geb\", \"geb\", \"geb\", \"geb\", \"geb\", \"geb\", \"geb\", \"geb\", \"gefangnis\", \"gefangnis\", \"gefangnis\", \"gefangnis\", \"gefangnis\", \"gefangnis\", \"gefangnis\", \"gefangnis\", \"gehirn\", \"gehirn\", \"gehirn\", \"gehirn\", \"gehirn\", \"gehirn\", \"gehirn\", \"geht\", \"geht\", \"geht\", \"geht\", \"geht\", \"geht\", \"geht\", \"geht\", \"geht\", \"geht\", \"geldpolit\", \"geldpolit\", \"geldpolit\", \"geldpolit\", \"geldpolit\", \"geldpolit\", \"gemald\", \"gemald\", \"gemeinderat\", \"gemeinderat\", \"gemeinderat\", \"gemeinderat\", \"gemeinderat\", \"gemeinderat\", \"geodynam\", \"gerat\", \"gerat\", \"gerat\", \"gerat\", \"gerat\", \"gerat\", \"gerat\", \"gerat\", \"gerat\", \"gerat\", \"gericht\", \"gericht\", \"gericht\", \"gericht\", \"gericht\", \"gericht\", \"gericht\", \"gericht\", \"gericht\", \"gericht\", \"geringfug\", \"geringfug\", \"geringfug\", \"geringfug\", \"geringfug\", \"geringfug\", \"geringfug\", \"gesang\", \"geschaft\", \"geschaft\", \"geschaft\", \"geschaft\", \"geschaft\", \"geschaft\", \"geschaft\", \"geschaft\", \"geschaft\", \"geschaft\", \"geschaftsjahr\", \"geschaftsjahr\", \"geschicht\", \"geschicht\", \"geschicht\", \"geschicht\", \"geschicht\", \"geschicht\", \"geschicht\", \"geschicht\", \"geschicht\", \"geschicht\", \"gesprach\", \"gesprach\", \"gesprach\", \"gesprach\", \"gesprach\", \"gesprach\", \"gesprach\", \"gesprach\", \"gesprach\", \"gesprach\", \"gestieg\", \"gestieg\", \"gestieg\", \"gestieg\", \"gestieg\", \"gestieg\", \"gestieg\", \"gestieg\", \"gestieg\", \"gestieg\", \"getotet\", \"getotet\", \"getotet\", \"getotet\", \"getotet\", \"getotet\", \"getotet\", \"getotet\", \"getotet\", \"gibt\", \"gibt\", \"gibt\", \"gibt\", \"gibt\", \"gibt\", \"gibt\", \"gibt\", \"gibt\", \"gibt\", \"glawischn\", \"glawischn\", \"glawischn\", \"gmbh\", \"gmbh\", \"gmbh\", \"gmbh\", \"gmbh\", \"gmbh\", \"gmbh\", \"googl\", \"googl\", \"googl\", \"googl\", \"googl\", \"googl\", \"googl\", \"googl\", \"googl\", \"googl\", \"gorgon\", \"grabn\", \"grad\", \"grad\", \"grad\", \"grad\", \"grad\", \"grad\", \"grad\", \"grad\", \"grad\", \"grad\", \"grahovac\", \"grenz\", \"grenz\", \"grenz\", \"grenz\", \"grenz\", \"grenz\", \"grenz\", \"grenz\", \"grenz\", \"grenz\", \"grenzubergang\", \"grenzubergang\", \"grenzubergang\", \"grenzubergang\", \"grenzubergang\", \"grenzubertritt\", \"grenzubertritt\", \"grenzubertritt\", \"grenzubertritt\", \"grenzzaun\", \"grenzzaun\", \"grenzzaun\", \"griech\", \"griech\", \"griech\", \"griech\", \"griech\", \"griech\", \"griech\", \"griech\", \"griechenland\", \"griechenland\", \"griechenland\", \"griechenland\", \"griechenland\", \"griechenland\", \"griechenland\", \"griechenland\", \"griechenland\", \"griechenland\", \"griechisch\", \"griechisch\", \"griechisch\", \"griechisch\", \"griechisch\", \"griechisch\", \"griechisch\", \"griechisch\", \"griechisch\", \"griechisch\", \"griss\", \"griss\", \"griss\", \"griss\", \"grodig\", \"grodig\", \"gross\", \"gross\", \"gross\", \"gross\", \"gross\", \"gross\", \"gross\", \"gross\", \"gross\", \"gross\", \"grozurek\", \"grun\", \"grun\", \"grun\", \"grun\", \"grun\", \"grun\", \"grun\", \"grun\", \"grun\", \"grun\", \"grund\", \"grund\", \"grund\", \"grund\", \"grund\", \"grund\", \"grund\", \"grund\", \"grund\", \"grund\", \"guardiola\", \"guardiola\", \"guardiola\", \"hadi\", \"haft\", \"haft\", \"haft\", \"haft\", \"haft\", \"haft\", \"haft\", \"haft\", \"haftung\", \"haftung\", \"haftung\", \"haftung\", \"haftung\", \"haimbuchn\", \"hakenkreuz\", \"hamilton\", \"hamilton\", \"hamilton\", \"happel\", \"happel\", \"happel\", \"hatt\", \"hatt\", \"hatt\", \"hatt\", \"hatt\", \"hatt\", \"hatt\", \"hatt\", \"hatt\", \"hatt\", \"haupl\", \"haupl\", \"haupl\", \"haupl\", \"haupl\", \"haushalt\", \"haushalt\", \"haushalt\", \"haushalt\", \"haushalt\", \"haushalt\", \"haushalt\", \"haushalt\", \"haushalt\", \"herstell\", \"herstell\", \"herstell\", \"herstell\", \"herstell\", \"herstell\", \"herstell\", \"herstell\", \"herstell\", \"herstell\", \"heta\", \"heta\", \"heta\", \"heut\", \"heut\", \"heut\", \"heut\", \"heut\", \"heut\", \"heut\", \"heut\", \"heut\", \"heut\", \"hilfspaket\", \"hilfspaket\", \"hilfspaket\", \"hilfspaket\", \"hilfsprogramm\", \"hilfsprogramm\", \"hilfsprogramm\", \"hinspiel\", \"hinspiel\", \"hinspiel\", \"hinspiel\", \"hinspiel\", \"hisbollah\", \"hofmann\", \"hofmann\", \"hofmann\", \"hofmann\", \"hofmann\", \"hoh\", \"hoh\", \"hoh\", \"hoh\", \"hoh\", \"hoh\", \"hoh\", \"hoh\", \"hoh\", \"hoh\", \"holding\", \"holding\", \"holding\", \"holding\", \"holding\", \"holding\", \"holding\", \"hongkong\", \"hongkong\", \"hongkong\", \"hongkong\", \"hongkong\", \"houthi\", \"hypo\", \"hypo\", \"hypo\", \"hypo\", \"hypo\", \"idomeni\", \"idomeni\", \"ikea\", \"ikea\", \"ikea\", \"ikea\", \"ikea\", \"ikea\", \"imm\", \"imm\", \"imm\", \"imm\", \"imm\", \"imm\", \"imm\", \"imm\", \"imm\", \"imm\", \"indi\", \"indi\", \"indi\", \"indi\", \"indi\", \"indi\", \"indi\", \"indi\", \"indi\", \"inflation\", \"inflation\", \"inflation\", \"inflation\", \"inflation\", \"insolvenz\", \"insolvenz\", \"insolvenz\", \"insolvenz\", \"insolvenz\", \"insolvenz\", \"insolvenz\", \"ipad\", \"ipad\", \"ipad\", \"iphon\", \"iphon\", \"iphon\", \"iphon\", \"iphon\", \"iphon\", \"iphon\", \"iphon\", \"iran\", \"iran\", \"iran\", \"iran\", \"iran\", \"iran\", \"iran\", \"iran\", \"iran\", \"iran\", \"irmgard\", \"islam\", \"islam\", \"islam\", \"islam\", \"islam\", \"islam\", \"islam\", \"islam\", \"islam\", \"islam\", \"israel\", \"israel\", \"israel\", \"israel\", \"israel\", \"israel\", \"israel\", \"israel\", \"israel\", \"israel\", \"israelis\", \"jahr\", \"jahr\", \"jahr\", \"jahr\", \"jahr\", \"jahr\", \"jahr\", \"jahr\", \"jahr\", \"jahr\", \"jahresumsatz\", \"jahresvergleich\", \"jahresvergleich\", \"jahresvergleich\", \"jahrig\", \"jahrig\", \"jahrig\", \"jahrig\", \"jahrig\", \"jahrig\", \"jahrig\", \"jahrig\", \"jahrig\", \"jahrig\", \"jakarta\", \"jakarta\", \"japan\", \"japan\", \"japan\", \"japan\", \"japan\", \"japan\", \"japan\", \"japan\", \"japan\", \"japan\", \"jelic\", \"jemenit\", \"jero\", \"jerusal\", \"jerusal\", \"jerusal\", \"jinping\", \"jinping\", \"jinping\", \"jobsuch\", \"jobsuch\", \"judisch\", \"judisch\", \"judisch\", \"judisch\", \"judisch\", \"jugend\", \"jugend\", \"jugend\", \"jugend\", \"jugend\", \"jugend\", \"jugend\", \"jugend\", \"jugend\", \"jugend\", \"junck\", \"junck\", \"junck\", \"juraczka\", \"justizanstalt\", \"juventus\", \"juventus\", \"kainz\", \"kampf\", \"kampf\", \"kampf\", \"kampf\", \"kampf\", \"kampf\", \"kampf\", \"kampf\", \"kampf\", \"kampf\", \"kandidat\", \"kandidat\", \"kandidat\", \"kandidat\", \"kandidat\", \"kandidat\", \"kandidat\", \"kandidat\", \"kandidat\", \"kandidat\", \"kandidatur\", \"kandidatur\", \"kandidatur\", \"kandidi\", \"kapitalerhoh\", \"kapitalerhoh\", \"kayod\", \"keita\", \"keita\", \"keita\", \"khol\", \"khol\", \"khol\", \"kiew\", \"kiew\", \"kiew\", \"kiew\", \"kiew\", \"kiew\", \"kind\", \"kind\", \"kind\", \"kind\", \"kind\", \"kind\", \"kind\", \"kind\", \"kind\", \"kind\", \"klavi\", \"klavi\", \"klein\", \"klein\", \"klein\", \"klein\", \"klein\", \"klein\", \"klein\", \"klein\", \"klein\", \"klein\", \"klubchef\", \"klubchef\", \"klubchef\", \"koalition\", \"koalition\", \"koalition\", \"koalition\", \"koalition\", \"koalition\", \"koalition\", \"koalition\", \"kommission\", \"kommission\", \"kommission\", \"kommission\", \"kommission\", \"kommission\", \"kommission\", \"kommission\", \"kommission\", \"kommission\", \"kompliz\", \"komponist\", \"komponist\", \"komponist\", \"komponist\", \"konjunktur\", \"konjunktur\", \"konjunktur\", \"konjunktur\", \"konjunktur\", \"konjunktur\", \"konjunktur\", \"konkur\", \"konkur\", \"konkur\", \"konnt\", \"konnt\", \"konnt\", \"konnt\", \"konnt\", \"konnt\", \"konnt\", \"konnt\", \"konnt\", \"konnt\", \"konsortium\", \"konsortium\", \"konsortium\", \"konz\", \"konz\", \"konz\", \"konz\", \"konz\", \"konz\", \"konz\", \"konz\", \"konz\", \"konz\", \"kosovar\", \"kosovo\", \"kosovo\", \"krankenhaus\", \"krankenhaus\", \"krankenhaus\", \"krankenhaus\", \"krankenhaus\", \"krankenhaus\", \"krankenhaus\", \"krankenhaus\", \"krankenhaus\", \"krankenhaus\", \"krim\", \"krim\", \"krim\", \"kriminalist\", \"kroati\", \"kroati\", \"kroati\", \"kroati\", \"kroati\", \"kroati\", \"kroati\", \"kroati\", \"kroati\", \"kroatisch\", \"kroatisch\", \"kroatisch\", \"kroatisch\", \"kroatisch\", \"kroatisch\", \"kroatisch\", \"kroatisch\", \"kund\", \"kund\", \"kund\", \"kund\", \"kund\", \"kund\", \"kund\", \"kund\", \"kund\", \"kund\", \"kunst\", \"kunst\", \"kunst\", \"kunst\", \"kunst\", \"kunst\", \"kunst\", \"kunstl\", \"kunstl\", \"kunstl\", \"kunstl\", \"kunstl\", \"kunstl\", \"kunstl\", \"kunstlerin\", \"kunstwerk\", \"kunstwerk\", \"kunstwerk\", \"kunstwerk\", \"kunstwerk\", \"labour\", \"land\", \"land\", \"land\", \"land\", \"land\", \"land\", \"land\", \"land\", \"land\", \"land\", \"landeshauptmann\", \"landeshauptmann\", \"landeshauptmann\", \"landeshauptmann\", \"landeshauptmann\", \"landeshauptmann\", \"landeshauptmann\", \"landtagswahl\", \"lang\", \"lang\", \"lang\", \"lang\", \"lang\", \"lang\", \"lang\", \"lang\", \"lang\", \"lang\", \"lask\", \"lask\", \"laut\", \"laut\", \"laut\", \"laut\", \"laut\", \"laut\", \"laut\", \"laut\", \"laut\", \"laut\", \"leaf\", \"leagu\", \"leagu\", \"leagu\", \"leagu\", \"leagu\", \"leagu\", \"leagu\", \"leagu\", \"leb\", \"leb\", \"leb\", \"leb\", \"leb\", \"leb\", \"leb\", \"leb\", \"leb\", \"leb\", \"lebensgefahr\", \"lebensgefahr\", \"lebensgefahr\", \"leic\", \"leic\", \"leich\", \"leich\", \"leich\", \"leich\", \"leich\", \"leich\", \"leich\", \"leich\", \"leverkus\", \"leverkus\", \"leverkus\", \"leverkus\", \"liegenschaft\", \"liegenschaft\", \"liegt\", \"liegt\", \"liegt\", \"liegt\", \"liegt\", \"liegt\", \"liegt\", \"liegt\", \"liegt\", \"liegt\", \"linux\", \"linux\", \"linux\", \"literar\", \"literatur\", \"literatur\", \"literatur\", \"liverpool\", \"liverpool\", \"lobbyist\", \"lobbyist\", \"lohn\", \"lohn\", \"lohn\", \"lohn\", \"lohn\", \"lohn\", \"lohn\", \"lohn\", \"lohn\", \"lohn\", \"lohnnebenkost\", \"lohnnebenkost\", \"lopatka\", \"lopatka\", \"lopatka\", \"lopatka\", \"luftangriff\", \"luftangriff\", \"luftangriff\", \"luftangriff\", \"lufthansa\", \"lufthansa\", \"lufthansa\", \"lufthansa\", \"lufthansa\", \"lufthansa\", \"lumia\", \"macht\", \"macht\", \"macht\", \"macht\", \"macht\", \"macht\", \"macht\", \"macht\", \"macht\", \"macht\", \"madch\", \"madch\", \"madch\", \"madch\", \"madch\", \"madch\", \"madch\", \"madch\", \"madrid\", \"madrid\", \"madrid\", \"madrid\", \"madrid\", \"madrid\", \"madrid\", \"madrid\", \"madrid\", \"madrid\", \"manch\", \"manch\", \"manch\", \"manch\", \"manch\", \"manch\", \"manch\", \"manch\", \"manch\", \"mandant\", \"mandant\", \"mandant\", \"mandant\", \"mandat\", \"mandat\", \"mandat\", \"mandat\", \"mandat\", \"mandat\", \"mandat\", \"mann\", \"mann\", \"mann\", \"mann\", \"mann\", \"mann\", \"mann\", \"mann\", \"mann\", \"mann\", \"mannch\", \"mannch\", \"mannch\", \"mannch\", \"mannch\", \"mannch\", \"mannch\", \"mannschaft\", \"mannschaft\", \"mannschaft\", \"mannschaft\", \"mannschaft\", \"mannschaft\", \"mannschaft\", \"mapl\", \"mapl\", \"mark\", \"mark\", \"mark\", \"mark\", \"mark\", \"mark\", \"mark\", \"mark\", \"mark\", \"mark\", \"market\", \"market\", \"market\", \"market\", \"markt\", \"markt\", \"markt\", \"markt\", \"markt\", \"markt\", \"markt\", \"markt\", \"markt\", \"markt\", \"mathemat\", \"mathemat\", \"mathemat\", \"mathemat\", \"mathemat\", \"mathemat\", \"mathemat\", \"mathemat\", \"mattersburg\", \"mattersburg\", \"mattersburg\", \"mattersburg\", \"mattersburg\", \"mattersburg\", \"maur\", \"maur\", \"maur\", \"mazedon\", \"mazedon\", \"mazedon\", \"mazedoni\", \"mazedoni\", \"mazedoni\", \"mazedoni\", \"mazedoni\", \"mazedoni\", \"megapixel\", \"mehrheit\", \"mehrheit\", \"mehrheit\", \"mehrheit\", \"mehrheit\", \"mehrheit\", \"mehrheit\", \"mehrheit\", \"mehrheit\", \"mehrheit\", \"melz\", \"melz\", \"melz\", \"melz\", \"mensch\", \"mensch\", \"mensch\", \"mensch\", \"mensch\", \"mensch\", \"mensch\", \"mensch\", \"mensch\", \"mensch\", \"messeng\", \"met\", \"met\", \"met\", \"met\", \"met\", \"met\", \"met\", \"met\", \"met\", \"met\", \"meteorologi\", \"microsoft\", \"microsoft\", \"microsoft\", \"microsoft\", \"microsoft\", \"microsoft\", \"microsoft\", \"migrant\", \"migrant\", \"migrant\", \"migrant\", \"migrant\", \"migrant\", \"migrant\", \"migrant\", \"migrant\", \"milliard\", \"milliard\", \"milliard\", \"milliard\", \"milliard\", \"milliard\", \"milliard\", \"milliard\", \"milliard\", \"milliard\", \"million\", \"million\", \"million\", \"million\", \"million\", \"million\", \"million\", \"million\", \"million\", \"million\", \"mindestlohn\", \"mindestlohn\", \"minus\", \"minus\", \"minus\", \"minus\", \"minus\", \"minus\", \"minus\", \"minus\", \"minus\", \"minut\", \"minut\", \"minut\", \"minut\", \"minut\", \"minut\", \"minut\", \"minut\", \"minut\", \"minut\", \"mitarbeit\", \"mitarbeit\", \"mitarbeit\", \"mitarbeit\", \"mitarbeit\", \"mitarbeit\", \"mitarbeit\", \"mitarbeit\", \"mitarbeit\", \"mitarbeit\", \"mittelschicht\", \"mittelschicht\", \"mitterlehn\", \"mitterlehn\", \"mitterlehn\", \"mitterlehn\", \"mitterlehn\", \"mitterlehn\", \"mitterlehn\", \"mitterlehn\", \"mobil\", \"mobil\", \"mobil\", \"mobil\", \"mobil\", \"mobil\", \"mobil\", \"mobil\", \"mobil\", \"mobil\", \"moglich\", \"moglich\", \"moglich\", \"moglich\", \"moglich\", \"moglich\", \"moglich\", \"moglich\", \"moglich\", \"moglich\", \"molenbeek\", \"molenbeek\", \"monchengladbach\", \"monchengladbach\", \"mord\", \"mord\", \"mord\", \"mord\", \"mord\", \"mord\", \"mord\", \"moskau\", \"moskau\", \"moskau\", \"moskau\", \"moskau\", \"moskau\", \"moskau\", \"moskau\", \"moskau\", \"moskau\", \"moskaus\", \"moskaus\", \"moskaus\", \"motor\", \"motor\", \"motor\", \"motor\", \"motor\", \"motor\", \"motor\", \"motor\", \"motor\", \"motor\", \"mozart\", \"munch\", \"munch\", \"munch\", \"munch\", \"munch\", \"munch\", \"munch\", \"munch\", \"munch\", \"munch\", \"murray\", \"murray\", \"murray\", \"museum\", \"museum\", \"museum\", \"museum\", \"museum\", \"museum\", \"museum\", \"museum\", \"musik\", \"musik\", \"musik\", \"musik\", \"musik\", \"musik\", \"musik\", \"musik\", \"musik\", \"musikal\", \"musikal\", \"musikal\", \"musikal\", \"muss\", \"muss\", \"muss\", \"muss\", \"muss\", \"muss\", \"muss\", \"muss\", \"muss\", \"muss\", \"mutmass\", \"mutmass\", \"mutmass\", \"mutmass\", \"mutmass\", \"mutmass\", \"mutmass\", \"mutmass\", \"mutmass\", \"nadal\", \"nationalrat\", \"nationalrat\", \"nationalrat\", \"nationalrat\", \"nationalrat\", \"nationalrat\", \"natur\", \"natur\", \"natur\", \"natur\", \"natur\", \"natur\", \"natur\", \"natur\", \"natur\", \"natur\", \"neos\", \"neos\", \"neos\", \"neos\", \"neos\", \"netanjahu\", \"neu\", \"neu\", \"neu\", \"neu\", \"neu\", \"neu\", \"neu\", \"neu\", \"neu\", \"neu\", \"nexus\", \"nexus\", \"neymar\", \"nickelsdorf\", \"nickelsdorf\", \"nickelsdorf\", \"nickelsdorf\", \"nico\", \"nico\", \"niedrig\", \"niedrig\", \"niedrig\", \"niedrig\", \"niedrig\", \"niedrig\", \"niedrig\", \"niedrig\", \"niedrig\", \"niedrig\", \"niessl\", \"niessl\", \"niessl\", \"notenbank\", \"notenbank\", \"notenbank\", \"notenbank\", \"notenbank\", \"notenbank\", \"notenbank\", \"novota\", \"nusra\", \"nutz\", \"nutz\", \"nutz\", \"nutz\", \"nutz\", \"nutz\", \"nutz\", \"nutz\", \"nutz\", \"nutz\", \"obama\", \"obama\", \"obama\", \"obama\", \"obama\", \"obama\", \"obama\", \"obama\", \"obamas\", \"obduktion\", \"oecd\", \"oecd\", \"oecd\", \"oecd\", \"oecd\", \"offshor\", \"offshor\", \"offshor\", \"okonom\", \"okonom\", \"okonom\", \"okonom\", \"okonom\", \"okonom\", \"okonom\", \"okonom\", \"okonom\", \"okonom\", \"olpreis\", \"olpreis\", \"olpreis\", \"olpreis\", \"olpreis\", \"open\", \"open\", \"open\", \"open\", \"open\", \"open\", \"open\", \"open\", \"operativ\", \"operativ\", \"operativ\", \"operativ\", \"operativ\", \"operativ\", \"operativ\", \"opf\", \"opf\", \"opf\", \"opf\", \"opf\", \"opf\", \"opf\", \"opf\", \"opf\", \"opf\", \"osterreich\", \"osterreich\", \"osterreich\", \"osterreich\", \"osterreich\", \"osterreich\", \"osterreich\", \"osterreich\", \"osterreich\", \"osterreich\", \"osz\", \"palastinens\", \"palastinens\", \"panama\", \"panama\", \"panama\", \"panama\", \"panama\", \"panama\", \"panama\", \"panama\", \"panama\", \"parlament\", \"parlament\", \"parlament\", \"parlament\", \"parlament\", \"parlament\", \"parlament\", \"parlament\", \"parlament\", \"parlament\", \"partei\", \"partei\", \"partei\", \"partei\", \"partei\", \"partei\", \"partei\", \"partei\", \"partei\", \"partei\", \"parteichef\", \"parteichef\", \"parteichef\", \"parteichef\", \"parteichef\", \"parteichef\", \"parteitag\", \"parteitag\", \"parti\", \"parti\", \"parti\", \"parti\", \"parti\", \"parti\", \"parti\", \"pavelic\", \"peking\", \"peking\", \"peking\", \"peking\", \"peking\", \"peking\", \"peking\", \"peskow\", \"peskow\", \"petsos\", \"pfeifenberg\", \"pfeiff\", \"pfeiff\", \"pfeiff\", \"pfeiff\", \"pfeiff\", \"philosoph\", \"philosoph\", \"philosoph\", \"philosoph\", \"philosoph\", \"phon\", \"physik\", \"physik\", \"physik\", \"physik\", \"physik\", \"physik\", \"physik\", \"physik\", \"pjongjang\", \"platz\", \"platz\", \"platz\", \"platz\", \"platz\", \"platz\", \"platz\", \"platz\", \"platz\", \"platz\", \"plus\", \"plus\", \"plus\", \"plus\", \"plus\", \"plus\", \"plus\", \"plus\", \"plus\", \"plus\", \"podemos\", \"polit\", \"polit\", \"polit\", \"polit\", \"polit\", \"polit\", \"polit\", \"polit\", \"polit\", \"polit\", \"polizei\", \"polizei\", \"polizei\", \"polizei\", \"polizei\", \"polizei\", \"polizei\", \"polizei\", \"polizei\", \"polizei\", \"polizist\", \"polizist\", \"polizist\", \"polizist\", \"polizist\", \"polizist\", \"polizist\", \"polizist\", \"porsch\", \"porsch\", \"porsch\", \"porsch\", \"porsch\", \"porsch\", \"porsch\", \"prasident\", \"prasident\", \"prasident\", \"prasident\", \"prasident\", \"prasident\", \"prasident\", \"prasident\", \"prasident\", \"prasident\", \"praterst\", \"produktivitat\", \"produktivitat\", \"produktivitat\", \"produktivitat\", \"prosen\", \"provision\", \"provision\", \"prozent\", \"prozent\", \"prozent\", \"prozent\", \"prozent\", \"prozent\", \"prozent\", \"prozent\", \"prozent\", \"prozent\", \"prozentpunkt\", \"prozentpunkt\", \"prozentpunkt\", \"prozentpunkt\", \"prozentpunkt\", \"prozessor\", \"prozessor\", \"prozessor\", \"psychiatr\", \"psychiatr\", \"psychiatr\", \"puhring\", \"punkt\", \"punkt\", \"punkt\", \"punkt\", \"punkt\", \"punkt\", \"punkt\", \"punkt\", \"punkt\", \"punkt\", \"putin\", \"putin\", \"putin\", \"putin\", \"putin\", \"putin\", \"putin\", \"radkersburg\", \"radkersburg\", \"rapid\", \"rapid\", \"rapid\", \"rapid\", \"rapid\", \"rapid\", \"rapid\", \"rapid\", \"rapid\", \"razzi\", \"real\", \"real\", \"real\", \"real\", \"real\", \"real\", \"real\", \"real\", \"real\", \"real\", \"rebell\", \"rebell\", \"rebell\", \"rebell\", \"rebell\", \"rebell\", \"rebell\", \"recht\", \"recht\", \"recht\", \"recht\", \"recht\", \"recht\", \"recht\", \"recht\", \"recht\", \"recht\", \"rechtlich\", \"rechtlich\", \"rechtlich\", \"rechtlich\", \"rechtlich\", \"rechtlich\", \"rechtlich\", \"rechtlich\", \"rechtlich\", \"rechtlich\", \"regier\", \"regier\", \"regier\", \"regier\", \"regier\", \"regier\", \"regier\", \"regier\", \"regier\", \"regier\", \"renault\", \"renault\", \"renault\", \"renault\", \"republikan\", \"republikan\", \"republikan\", \"republikan\", \"republikan\", \"ried\", \"ried\", \"ried\", \"ried\", \"ried\", \"ronaldo\", \"ronaldo\", \"rousseff\", \"ruckgang\", \"ruckgang\", \"ruckgang\", \"ruckgang\", \"ruckgang\", \"ruckgang\", \"ruckgang\", \"ruckgang\", \"ruckgang\", \"ruckgang\", \"ruckstell\", \"rund\", \"rund\", \"rund\", \"rund\", \"rund\", \"rund\", \"rund\", \"rund\", \"rund\", \"rund\", \"russisch\", \"russisch\", \"russisch\", \"russisch\", \"russisch\", \"russisch\", \"russisch\", \"russisch\", \"russisch\", \"russisch\", \"russland\", \"russland\", \"russland\", \"russland\", \"russland\", \"russland\", \"russland\", \"russland\", \"russland\", \"russland\", \"sagt\", \"sagt\", \"sagt\", \"sagt\", \"sagt\", \"sagt\", \"sagt\", \"sagt\", \"sagt\", \"sagt\", \"saison\", \"saison\", \"saison\", \"saison\", \"saison\", \"saison\", \"saison\", \"saison\", \"saison\", \"salzburg\", \"salzburg\", \"salzburg\", \"salzburg\", \"salzburg\", \"salzburg\", \"salzburg\", \"salzburg\", \"salzburg\", \"salzburg\", \"sammelstell\", \"sammelstell\", \"sammelstell\", \"sammelstell\", \"sammelstell\", \"samstag\", \"samstag\", \"samstag\", \"samstag\", \"samstag\", \"samstag\", \"samstag\", \"samstag\", \"samstag\", \"samstag\", \"samsung\", \"samsung\", \"samsung\", \"samsung\", \"samsung\", \"samsung\", \"samsung\", \"sanaa\", \"sanier\", \"sanier\", \"sanier\", \"sanier\", \"sanier\", \"sanier\", \"satellit\", \"satellit\", \"satellit\", \"satellit\", \"satellit\", \"satellit\", \"satellit\", \"satz\", \"satz\", \"satz\", \"satz\", \"satz\", \"satz\", \"satz\", \"satz\", \"satz\", \"schalk\", \"schalk\", \"schalk\", \"schaub\", \"schaubl\", \"schaubl\", \"schnitt\", \"schnitt\", \"schnitt\", \"schnitt\", \"schnitt\", \"schnitt\", \"schnitt\", \"schnitt\", \"schnitt\", \"schnitt\", \"schobesberg\", \"schobesberg\", \"schoffensenat\", \"schoffensenat\", \"schon\", \"schon\", \"schon\", \"schon\", \"schon\", \"schon\", \"schon\", \"schon\", \"schon\", \"schon\", \"schottel\", \"schrumpf\", \"schrumpf\", \"schuldspruch\", \"schwer\", \"schwer\", \"schwer\", \"schwer\", \"schwer\", \"schwer\", \"schwer\", \"schwer\", \"schwer\", \"schwer\", \"sehnsucht\", \"sehnsucht\", \"seien\", \"seien\", \"seien\", \"seien\", \"seien\", \"seien\", \"seien\", \"seien\", \"seien\", \"seien\", \"seit\", \"seit\", \"seit\", \"seit\", \"seit\", \"seit\", \"seit\", \"seit\", \"seit\", \"seit\", \"serbi\", \"serbi\", \"serbi\", \"serbi\", \"serbi\", \"serbi\", \"serbi\", \"serbi\", \"serbisch\", \"serbisch\", \"serbisch\", \"serbisch\", \"serbisch\", \"serbisch\", \"sevilla\", \"sevilla\", \"sevilla\", \"sexuell\", \"sexuell\", \"sexuell\", \"sexuell\", \"sexuell\", \"sexuell\", \"sexuell\", \"shanghai\", \"shanghai\", \"shanghai\", \"sieg\", \"sieg\", \"sieg\", \"sieg\", \"sieg\", \"sieg\", \"sieg\", \"sieg\", \"sieg\", \"sieg\", \"silvesternacht\", \"silvesternacht\", \"silvesternacht\", \"silvesternacht\", \"slalom\", \"slalom\", \"slam\", \"slowen\", \"slowen\", \"slowen\", \"slowen\", \"slowen\", \"sloweni\", \"sloweni\", \"sloweni\", \"sloweni\", \"sloweni\", \"sloweni\", \"sloweni\", \"sloweni\", \"sloweni\", \"sloweni\", \"smartphon\", \"smartphon\", \"smartphon\", \"smartphon\", \"smartphon\", \"smartphon\", \"smartphon\", \"smartphon\", \"smartphon\", \"smartphon\", \"snapdragon\", \"softwar\", \"softwar\", \"softwar\", \"softwar\", \"softwar\", \"softwar\", \"softwar\", \"softwar\", \"softwar\", \"softwar\", \"soll\", \"soll\", \"soll\", \"soll\", \"soll\", \"soll\", \"soll\", \"soll\", \"soll\", \"soll\", \"sonderzug\", \"sonderzug\", \"sonderzug\", \"song\", \"song\", \"song\", \"song\", \"song\", \"sonn\", \"sonn\", \"sonn\", \"sonn\", \"sonn\", \"sonn\", \"sonn\", \"sonn\", \"sonn\", \"sonn\", \"sonntag\", \"sonntag\", \"sonntag\", \"sonntag\", \"sonntag\", \"sonntag\", \"sonntag\", \"sonntag\", \"sonntag\", \"sonntag\", \"sony\", \"sony\", \"soriano\", \"soriano\", \"soriano\", \"sowi\", \"sowi\", \"sowi\", \"sowi\", \"sowi\", \"sowi\", \"sowi\", \"sowi\", \"sowi\", \"sowi\", \"spiel\", \"spiel\", \"spiel\", \"spiel\", \"spiel\", \"spiel\", \"spiel\", \"spiel\", \"spiel\", \"spiel\", \"spielfeld\", \"spielfeld\", \"spielfeld\", \"spielfeld\", \"spielfeld\", \"spielfeld\", \"spielfeld\", \"spielfeld\", \"spotify\", \"sprachkurs\", \"sprachkurs\", \"sprachkurs\", \"staat\", \"staat\", \"staat\", \"staat\", \"staat\", \"staat\", \"staat\", \"staat\", \"staat\", \"staat\", \"staatsanwalt\", \"staatsanwalt\", \"staatsanwalt\", \"staatsanwalt\", \"staatsanwalt\", \"staatsanwalt\", \"staatsanwaltin\", \"stadion\", \"stadion\", \"stadion\", \"stadion\", \"stadion\", \"stadion\", \"stadion\", \"stadt\", \"stadt\", \"stadt\", \"stadt\", \"stadt\", \"stadt\", \"stadt\", \"stadt\", \"stadt\", \"stadt\", \"stadtrat\", \"standard\", \"standard\", \"standard\", \"standard\", \"standard\", \"standard\", \"standard\", \"standard\", \"standard\", \"standard\", \"standort\", \"standort\", \"standort\", \"standort\", \"standort\", \"standort\", \"standort\", \"standort\", \"standort\", \"standort\", \"stangl\", \"stark\", \"stark\", \"stark\", \"stark\", \"stark\", \"stark\", \"stark\", \"stark\", \"stark\", \"stark\", \"statist\", \"statist\", \"statist\", \"statist\", \"statist\", \"statist\", \"statist\", \"statist\", \"statist\", \"statist\", \"steht\", \"steht\", \"steht\", \"steht\", \"steht\", \"steht\", \"steht\", \"steht\", \"steht\", \"steht\", \"stenzel\", \"steueroas\", \"steueroas\", \"steueroas\", \"steueroas\", \"steuerreform\", \"steuerreform\", \"steuerreform\", \"steuerreform\", \"steuerreform\", \"steuerreform\", \"stichwahl\", \"stichwahl\", \"stichwahl\", \"stimm\", \"stimm\", \"stimm\", \"stimm\", \"stimm\", \"stimm\", \"stimm\", \"stimm\", \"stimm\", \"stimm\", \"stok\", \"strach\", \"strach\", \"strach\", \"strach\", \"strach\", \"strach\", \"strach\", \"strebing\", \"strolz\", \"stronach\", \"stronach\", \"stronach\", \"stronach\", \"studi\", \"studi\", \"studi\", \"studi\", \"studi\", \"studi\", \"studi\", \"studi\", \"studi\", \"studi\", \"sturm\", \"sturm\", \"sturm\", \"sturm\", \"sturm\", \"sturm\", \"sturm\", \"sturm\", \"sturm\", \"sturm\", \"suarez\", \"suarez\", \"syri\", \"syri\", \"syri\", \"syri\", \"syri\", \"syri\", \"syri\", \"syri\", \"syri\", \"syri\", \"syrisch\", \"syrisch\", \"syrisch\", \"syrisch\", \"syrisch\", \"syrisch\", \"syriza\", \"syriza\", \"tablet\", \"tablet\", \"tablet\", \"tablet\", \"tablet\", \"tablet\", \"tablet\", \"taiwan\", \"taiwan\", \"taliban\", \"taliban\", \"taliban\", \"tampa\", \"tat\", \"tat\", \"tat\", \"tat\", \"tat\", \"tat\", \"tat\", \"tat\", \"tat\", \"tat\", \"tatort\", \"tatort\", \"tatort\", \"tatort\", \"tatort\", \"tatort\", \"tatverdacht\", \"tatverdacht\", \"team\", \"team\", \"team\", \"team\", \"team\", \"team\", \"team\", \"team\", \"team\", \"team\", \"teilzeit\", \"teilzeit\", \"teilzeit\", \"telekom\", \"telekom\", \"telekom\", \"telekom\", \"telekom\", \"tempelberg\", \"temperatur\", \"temperatur\", \"temperatur\", \"temperatur\", \"temperatur\", \"temperatur\", \"temperatur\", \"temperatur\", \"temperatur\", \"temperatur\", \"tennis\", \"tennis\", \"tesla\", \"tesla\", \"tesla\", \"tesla\", \"tesla\", \"tesla\", \"tesla\", \"tesla\", \"teuer\", \"teuer\", \"theori\", \"theori\", \"theori\", \"theori\", \"theori\", \"theori\", \"theori\", \"theori\", \"theori\", \"thiem\", \"thiem\", \"tiebreak\", \"tier\", \"tier\", \"tier\", \"tier\", \"tier\", \"tier\", \"tier\", \"tier\", \"tier\", \"tokio\", \"tokio\", \"tokio\", \"tokio\", \"tokio\", \"tokio\", \"tokio\", \"tomi\", \"topgesetzt\", \"tor\", \"tor\", \"tor\", \"tor\", \"tor\", \"tor\", \"tor\", \"tor\", \"tor\", \"toronto\", \"toronto\", \"tot\", \"tot\", \"tot\", \"tot\", \"tot\", \"tot\", \"tot\", \"tot\", \"tot\", \"tot\", \"tottenham\", \"toyota\", \"toyota\", \"toyota\", \"train\", \"train\", \"train\", \"train\", \"train\", \"train\", \"train\", \"train\", \"train\", \"train\", \"transaktion\", \"transaktion\", \"transitland\", \"treff\", \"treff\", \"treff\", \"treff\", \"treff\", \"treff\", \"treff\", \"treff\", \"treff\", \"treff\", \"tribunal\", \"tribunal\", \"tribunal\", \"trump\", \"trump\", \"trump\", \"trump\", \"trump\", \"trump\", \"tsipras\", \"tsipras\", \"tsipras\", \"tsipras\", \"tsipras\", \"ttip\", \"ttip\", \"ttip\", \"ttip\", \"ttip\", \"ttip\", \"ttip\", \"ttip\", \"turkei\", \"turkei\", \"turkei\", \"turkei\", \"turkei\", \"turkei\", \"turkei\", \"turkei\", \"turkei\", \"turkei\", \"turkisch\", \"turkisch\", \"turkisch\", \"turkisch\", \"turkisch\", \"turkisch\", \"turkisch\", \"turkisch\", \"turkisch\", \"turkisch\", \"uberfahrt\", \"uberfahrt\", \"uberfahrt\", \"ubergriff\", \"ubergriff\", \"ubergriff\", \"ubergriff\", \"ubergriff\", \"ubergriff\", \"ubergriff\", \"uberstellt\", \"uberstund\", \"uberstund\", \"uberstund\", \"uberstund\", \"uberstund\", \"ukrain\", \"ukrain\", \"ukrain\", \"ukrain\", \"ukrain\", \"ukrain\", \"ukrain\", \"ukrain\", \"ukrain\", \"ukrain\", \"umsatz\", \"umsatz\", \"umsatz\", \"umsatz\", \"umsatz\", \"umsatz\", \"umsatz\", \"umsatz\", \"umweltbehord\", \"umweltbehord\", \"umweltbehord\", \"umweltbehord\", \"unfall\", \"unfall\", \"unfall\", \"unfall\", \"unfall\", \"unfall\", \"unfall\", \"unfall\", \"unfall\", \"ungar\", \"ungar\", \"ungar\", \"ungar\", \"ungar\", \"ungar\", \"ungar\", \"ungar\", \"ungar\", \"ungarn\", \"ungarn\", \"ungarn\", \"ungarn\", \"ungarn\", \"ungarn\", \"ungarn\", \"ungarn\", \"ungarn\", \"ungarn\", \"unicredit\", \"united\", \"united\", \"united\", \"united\", \"united\", \"united\", \"universitat\", \"universitat\", \"universitat\", \"universitat\", \"universitat\", \"universitat\", \"universitat\", \"universitat\", \"universitat\", \"universitat\", \"university\", \"university\", \"university\", \"university\", \"university\", \"university\", \"university\", \"university\", \"university\", \"unternehm\", \"unternehm\", \"unternehm\", \"unternehm\", \"unternehm\", \"unternehm\", \"unternehm\", \"unternehm\", \"unternehm\", \"unternehm\", \"updat\", \"updat\", \"updat\", \"updat\", \"updat\", \"updat\", \"urauffuhr\", \"urauffuhr\", \"user\", \"user\", \"user\", \"user\", \"user\", \"user\", \"user\", \"user\", \"varoufakis\", \"varoufakis\", \"varoufakis\", \"vassilakou\", \"vassilakou\", \"vassilakou\", \"vastic\", \"vastic\", \"venuto\", \"verdacht\", \"verdacht\", \"verdacht\", \"verdacht\", \"verdacht\", \"verdacht\", \"verdacht\", \"verdacht\", \"verdacht\", \"verdacht\", \"verfug\", \"verfug\", \"verfug\", \"verfug\", \"verfug\", \"verfug\", \"verfug\", \"verfug\", \"verfug\", \"verfug\", \"vergang\", \"vergang\", \"vergang\", \"vergang\", \"vergang\", \"vergang\", \"vergang\", \"vergang\", \"vergang\", \"vergang\", \"vergewalt\", \"vergewalt\", \"vergewalt\", \"vergewalt\", \"vergewaltigt\", \"vergewaltigt\", \"vergewaltigt\", \"vergewaltigt\", \"verkauf\", \"verkauf\", \"verkauf\", \"verkauf\", \"verkauf\", \"verkauf\", \"verkauf\", \"verkauf\", \"verkauf\", \"verkauf\", \"verletzt\", \"verletzt\", \"verletzt\", \"verletzt\", \"verletzt\", \"verletzt\", \"verletzt\", \"verletzt\", \"verletzt\", \"verletzt\", \"verschuttet\", \"verschuttet\", \"verschuttet\", \"verschuttet\", \"version\", \"version\", \"version\", \"version\", \"version\", \"version\", \"version\", \"version\", \"version\", \"verurteilt\", \"verurteilt\", \"verurteilt\", \"verurteilt\", \"verurteilt\", \"verurteilt\", \"verurteilt\", \"verurteilt\", \"verurteilt\", \"vettel\", \"vidal\", \"viel\", \"viel\", \"viel\", \"viel\", \"viel\", \"viel\", \"viel\", \"viel\", \"viel\", \"viel\", \"vier\", \"vier\", \"vier\", \"vier\", \"vier\", \"vier\", \"vier\", \"vier\", \"vier\", \"vier\", \"volkspartei\", \"volksrepubl\", \"volksrepubl\", \"volksrepubl\", \"volksrepubl\", \"volkswag\", \"volkswag\", \"volkswag\", \"volkswag\", \"volkswag\", \"volkswag\", \"volkswag\", \"volkswag\", \"volltext\", \"volltext\", \"volltext\", \"volltext\", \"vollzug\", \"vollzug\", \"vollzug\", \"vorfall\", \"vorfall\", \"vorfall\", \"vorfall\", \"vorfall\", \"vorfall\", \"vorfall\", \"vorfall\", \"vorfall\", \"vorfall\", \"vorjahr\", \"vorjahr\", \"vorjahr\", \"vorjahr\", \"vorjahr\", \"vorjahr\", \"vorjahr\", \"vorjahr\", \"vorjahr\", \"vorjahr\", \"vormonat\", \"vorstand\", \"vorstand\", \"vorstand\", \"vorstand\", \"vorstand\", \"vorstand\", \"vorstand\", \"vorstand\", \"vorstand\", \"vov\", \"wachstum\", \"wachstum\", \"wachstum\", \"wachstum\", \"wachstum\", \"wachstum\", \"wachstum\", \"wachstum\", \"wachstum\", \"wack\", \"wack\", \"wack\", \"wahl\", \"wahl\", \"wahl\", \"wahl\", \"wahl\", \"wahl\", \"wahl\", \"wahl\", \"wahl\", \"wahl\", \"wahlergebnis\", \"wahlkampf\", \"wahlkampf\", \"wahlkampf\", \"wahlkampf\", \"wahlkampf\", \"wahlkampf\", \"wahlkampf\", \"wahlkart\", \"wahlkart\", \"wang\", \"wang\", \"wang\", \"wang\", \"watford\", \"watford\", \"webstandard\", \"weg\", \"weg\", \"weg\", \"weg\", \"weg\", \"weg\", \"weg\", \"weg\", \"weg\", \"weg\", \"weit\", \"weit\", \"weit\", \"weit\", \"weit\", \"weit\", \"weit\", \"weit\", \"weit\", \"weit\", \"weiterbild\", \"weiterbild\", \"welt\", \"welt\", \"welt\", \"welt\", \"welt\", \"welt\", \"welt\", \"welt\", \"welt\", \"welt\", \"weltcup\", \"weltcup\", \"weltcup\", \"weltweit\", \"weltweit\", \"weltweit\", \"weltweit\", \"weltweit\", \"weltweit\", \"weltweit\", \"weltweit\", \"weltweit\", \"weltweit\", \"wenig\", \"wenig\", \"wenig\", \"wenig\", \"wenig\", \"wenig\", \"wenig\", \"wenig\", \"wenig\", \"wenig\", \"werk\", \"werk\", \"werk\", \"werk\", \"werk\", \"werk\", \"werk\", \"werk\", \"werk\", \"werk\", \"westjordanland\", \"wien\", \"wien\", \"wien\", \"wien\", \"wien\", \"wien\", \"wien\", \"wien\", \"wien\", \"wien\", \"wifo\", \"wifo\", \"wifo\", \"wimbledon\", \"windows\", \"windows\", \"windows\", \"windows\", \"windows\", \"windows\", \"wirtschaft\", \"wirtschaft\", \"wirtschaft\", \"wirtschaft\", \"wirtschaft\", \"wirtschaft\", \"wirtschaft\", \"wirtschaft\", \"wirtschaft\", \"wirtschaft\", \"wissenschaft\", \"wissenschaft\", \"wissenschaft\", \"wissenschaft\", \"wissenschaft\", \"wissenschaft\", \"wissenschaft\", \"wissenschaft\", \"wissenschaft\", \"wissenschaft\", \"wlan\", \"wlan\", \"wlan\", \"wlan\", \"wolfsberg\", \"wolfsberg\", \"wolfsberg\", \"wolfsberg\", \"wolfsberg\", \"word\", \"word\", \"word\", \"word\", \"word\", \"word\", \"word\", \"word\", \"word\", \"word\", \"yuan\", \"zahl\", \"zahl\", \"zahl\", \"zahl\", \"zahl\", \"zahl\", \"zahl\", \"zahl\", \"zahl\", \"zahl\", \"zamg\", \"zamg\", \"zaun\", \"zaun\", \"zaun\", \"zaun\", \"zaun\", \"zaun\", \"zaun\", \"zaun\", \"zaun\", \"zeidl\", \"zeit\", \"zeit\", \"zeit\", \"zeit\", \"zeit\", \"zeit\", \"zeit\", \"zeit\", \"zeit\", \"zeit\", \"zeitgeschicht\", \"zeugin\", \"zielpunkt\", \"zielpunkt\", \"zufolg\", \"zufolg\", \"zufolg\", \"zufolg\", \"zufolg\", \"zufolg\", \"zufolg\", \"zufolg\", \"zufolg\", \"zufolg\", \"zuwach\", \"zuwach\", \"zuwach\", \"zuwach\", \"zuwach\", \"zuwach\", \"zuwachs\", \"zuwachs\", \"zuwachs\", \"zuwachs\", \"zuwachs\", \"zwei\", \"zwei\", \"zwei\", \"zwei\", \"zwei\", \"zwei\", \"zwei\", \"zwei\", \"zwei\", \"zwei\", \"zweit\", \"zweit\", \"zweit\", \"zweit\", \"zweit\", \"zweit\", \"zweit\", \"zweit\", \"zweit\", \"zweit\"]}, \"R\": 30, \"lambda.step\": 0.01, \"plot.opts\": {\"xlab\": \"PC1\", \"ylab\": \"PC2\"}, \"topic.order\": [1, 4, 6, 9, 3, 5, 2, 8, 7, 10]};\n",
              "\n",
              "function LDAvis_load_lib(url, callback){\n",
              "  var s = document.createElement('script');\n",
              "  s.src = url;\n",
              "  s.async = true;\n",
              "  s.onreadystatechange = s.onload = callback;\n",
              "  s.onerror = function(){console.warn(\"failed to load library \" + url);};\n",
              "  document.getElementsByTagName(\"head\")[0].appendChild(s);\n",
              "}\n",
              "\n",
              "if(typeof(LDAvis) !== \"undefined\"){\n",
              "   // already loaded: just create the visualization\n",
              "   !function(LDAvis){\n",
              "       new LDAvis(\"#\" + \"ldavis_el10191375134506426086379415342\", ldavis_el10191375134506426086379415342_data);\n",
              "   }(LDAvis);\n",
              "}else if(typeof define === \"function\" && define.amd){\n",
              "   // require.js is available: use it to load d3/LDAvis\n",
              "   require.config({paths: {d3: \"https://d3js.org/d3.v5\"}});\n",
              "   require([\"d3\"], function(d3){\n",
              "      window.d3 = d3;\n",
              "      LDAvis_load_lib(\"https://cdn.jsdelivr.net/gh/bmabey/pyLDAvis@3.4.0/pyLDAvis/js/ldavis.v3.0.0.js\", function(){\n",
              "        new LDAvis(\"#\" + \"ldavis_el10191375134506426086379415342\", ldavis_el10191375134506426086379415342_data);\n",
              "      });\n",
              "    });\n",
              "}else{\n",
              "    // require.js not available: dynamically load d3 & LDAvis\n",
              "    LDAvis_load_lib(\"https://d3js.org/d3.v5.js\", function(){\n",
              "         LDAvis_load_lib(\"https://cdn.jsdelivr.net/gh/bmabey/pyLDAvis@3.4.0/pyLDAvis/js/ldavis.v3.0.0.js\", function(){\n",
              "                 new LDAvis(\"#\" + \"ldavis_el10191375134506426086379415342\", ldavis_el10191375134506426086379415342_data);\n",
              "            })\n",
              "         });\n",
              "}\n",
              "</script>"
            ]
          },
          "metadata": {},
          "execution_count": 30
        }
      ]
    },
    {
      "cell_type": "markdown",
      "metadata": {
        "id": "syy0tnTQmxZP"
      },
      "source": [
        "# Your turn - Do it yourself:\n",
        "\n",
        "Replace the given corpus with one in another language - maybe your own native language? You can find corpus online, for example:\n",
        "- https://www.corpusdata.org/intro.asp\n",
        "- or here: https://www.clarin.eu/resource-families/newspaper-corpora\n",
        "- or even in nltk: https://www.nltk.org/nltk_data/\n",
        "- In this github, there are many datasets that can be loaded through their `raw` url: https://github.com/selva86/datasets\n",
        "\n",
        "Careful: You will need to change the [Stemming](https://snowballstem.org/algorithms/) and the [Stopwords](https://www.kaggle.com/rtatman/stopword-lists-for-19-languages) to support your language. Make a web-search after the appropriate ones (if they exist..)\n",
        "\n",
        "Use the notebook to reproduce the result.  \n",
        "Try changing the parameters to get a *satisfying level of clustering*.  \n",
        "Which parameters worked best for the language you chose?"
      ]
    },
    {
      "cell_type": "markdown",
      "source": [
        "##### Help note\n",
        "\n",
        "If your corpus is a csv, [pandas' read_csv method](https://pandas.pydata.org/docs/reference/api/pandas.read_csv.html) would be the best way to tackle it.\n",
        "\n",
        "If it is, however a text file or a zip of text files, you will need another way to load them. Luckily, python is working well with both - text and zip files, with a built-in support."
      ],
      "metadata": {
        "id": "vB0wRwUpX3yB"
      }
    },
    {
      "cell_type": "markdown",
      "source": [
        "###### Example with text\n",
        "For the sake of this example, let's download two files: one text file, and one gzip file, from this website:\n",
        "\n",
        "https://lindat.mff.cuni.cz/repository/xmlui/handle/11858/00-097C-0000-0023-6260-A"
      ],
      "metadata": {
        "id": "hHe2aaI-bFHU"
      }
    },
    {
      "cell_type": "code",
      "source": [
        "!curl --remote-name-all https://lindat.mff.cuni.cz/repository/xmlui/bitstream/handle/11858/00-097C-0000-0023-6260-A{/README.txt,/hindmonocorp05.plaintext.gz}\n"
      ],
      "metadata": {
        "colab": {
          "base_uri": "https://localhost:8080/"
        },
        "id": "JeiBbArnXZ_u",
        "outputId": "7d40e071-7998-4802-df74-fe156d48ee09"
      },
      "execution_count": null,
      "outputs": [
        {
          "output_type": "stream",
          "name": "stderr",
          "text": [
            "/usr/local/lib/python3.10/dist-packages/ipykernel/ipkernel.py:283: DeprecationWarning: `should_run_async` will not call `transform_cell` automatically in the future. Please pass the result to `transformed_cell` argument and any exception that happen during thetransform in `preprocessing_exc_tuple` in IPython 7.17 and above.\n",
            "  and should_run_async(code)\n"
          ]
        },
        {
          "output_type": "stream",
          "name": "stdout",
          "text": [
            "  % Total    % Received % Xferd  Average Speed   Time    Time     Time  Current\n",
            "                                 Dload  Upload   Total   Spent    Left  Speed\n",
            "100  4472  100  4472    0     0   3258      0  0:00:01  0:00:01 --:--:--  3259\n",
            "  % Total    % Received % Xferd  Average Speed   Time    Time     Time  Current\n",
            "                                 Dload  Upload   Total   Spent    Left  Speed\n",
            "100 2353M  100 2353M    0     0  19.3M      0  0:02:01  0:02:01 --:--:-- 20.0M\n"
          ]
        }
      ]
    },
    {
      "cell_type": "markdown",
      "source": [
        "Files are accessed using the `Path` package of python's pathlib:"
      ],
      "metadata": {
        "id": "2xk8Q5phbKR4"
      }
    },
    {
      "cell_type": "code",
      "source": [
        "from pathlib import Path"
      ],
      "metadata": {
        "id": "ZA1ibqJoZjgx",
        "colab": {
          "base_uri": "https://localhost:8080/"
        },
        "outputId": "b6bf1c87-66bf-4bfd-ae3d-d9849d073d25"
      },
      "execution_count": null,
      "outputs": [
        {
          "output_type": "stream",
          "name": "stderr",
          "text": [
            "/usr/local/lib/python3.10/dist-packages/ipykernel/ipkernel.py:283: DeprecationWarning: `should_run_async` will not call `transform_cell` automatically in the future. Please pass the result to `transformed_cell` argument and any exception that happen during thetransform in `preprocessing_exc_tuple` in IPython 7.17 and above.\n",
            "  and should_run_async(code)\n"
          ]
        }
      ]
    },
    {
      "cell_type": "markdown",
      "source": [
        "To access a file, we use its path in Path, like so:\n",
        "\n",
        "`Path('Folder/filename.extension')`\n",
        "\n",
        "Path has many methods for files and folder. Including looping over files in folder, checking if a file exists, etc.\n",
        "\n",
        "Read more about it here: https://docs.python.org/3/library/pathlib.html"
      ],
      "metadata": {
        "id": "icYkPSu5bQhG"
      }
    },
    {
      "cell_type": "code",
      "source": [
        "readme_file = Path('README.txt')\n",
        "\n",
        "if readme_file.exists():\n",
        "  # read the text content into a variable\n",
        "  file_content = readme_file.read_text()\n",
        "  print(file_content)\n",
        "else:\n",
        "  print(\"README.txt was not found...\")"
      ],
      "metadata": {
        "colab": {
          "base_uri": "https://localhost:8080/"
        },
        "id": "kteZ2w0QapcU",
        "outputId": "2f800598-e0d0-4e86-a689-2aa366df5422"
      },
      "execution_count": null,
      "outputs": [
        {
          "output_type": "stream",
          "name": "stdout",
          "text": [
            "HindEnCorp 0.5 and HindMonoCorp 0.5 File Formats\n",
            "================================================\n",
            "\n",
            "This file describes the file formats of the Hindi-English and Hindi-only\n",
            "corpora released in 2014 under the names HindEnCorp 0.5 and HindMonoCorp 0.5.\n",
            "\n",
            "More details about the preparation of the corpora can be found in the paper:\n",
            "\n",
            "  Ondřej Bojar, Vojtěch Diatka, Pavel Rychlý, Pavel Straňák, Aleš Tamchyna\n",
            "  and Dan Zeman. HindEnCorp - Hindi-English and Hindi-only Corpus for\n",
            "  Machine Translation. In Proc. of LREC 2014. Reykjavik, Iceland. ISBN\n",
            "  978-2-9517408-8-4. ELRA. 2014.\n",
            "\n",
            "or on the corpora web page:\n",
            "  http://ufal.mff.cuni.cz/hindencorp\n",
            "\n",
            "Please cite this paper if you make any use of the corpora. BibTeX citation\n",
            "format below.\n",
            "\n",
            "\n",
            "Common Properties\n",
            "-----------------\n",
            "\n",
            "All the files are plain text:\n",
            "\n",
            "- compressed with gzip\n",
            "- encoded in UTF-8\n",
            "- with unix line breaks (LF)\n",
            "- with tab-delimited columns\n",
            "\n",
            "The monolingual and parallel corpora have different columns.\n",
            "\n",
            "The actual corpus text is stored in one (monolingual corpus) or two (parallel\n",
            "corpus) of the columns.\n",
            "\n",
            "\n",
            "Plaintext vs. Export File Format\n",
            "--------------------------------\n",
            "\n",
            "Both the monolingual and the parallel corpus come in a simple plain text format\n",
            "and in a tokenized, tagged and lemmatized format.\n",
            "\n",
            "The plaintext format preserves the original tokenization (as much as possible\n",
            "given the diverse sources included in our corpus).\n",
            "\n",
            "The 'export' format is tokenized and represents each token as a '|'-delimited\n",
            "triple of: the word form, the lemma, and part-of-speech tag. If there was the\n",
            "character '|' (this character is also used instead of the proper Devanagari\n",
            "Danda in some sources), we escape it as '&pipe;'.\n",
            "\n",
            "There is exactly the same number of lines in the plaintext and export file\n",
            "formats.\n",
            "\n",
            "\n",
            "HindEnCorp Columns\n",
            "------------------\n",
            "\n",
            "The files hindencorp05.plaintext.gz and hindencorp05.export.gz each contain the\n",
            "parallel corpus and differ only in the processing of the corpus texts. The\n",
            "files have these columns:\n",
            "\n",
            "- source identifier (where do the segments come from)\n",
            "- alignment type (number of English segments - number of Hindi segments)\n",
            "- alignment quality, which is one of the following:\n",
            "    \"manual\"  ... for sources that were sentence-aligned manually\n",
            "    \"implied\" ... for sources where one side was constructed by translating\n",
            "                  segment by segment\n",
            "    float     ... a value somehow reflecting the goodness of the automatic\n",
            "                  alignment; not really reliable\n",
            "- English segment or segments\n",
            "- Hindi segment or segments\n",
            "\n",
            "Each of the segments field is in the plaintext or export format as described\n",
            "above.\n",
            "\n",
            "If there are more than one segments on a line (e.g. for lines with alignment\n",
            "type 2-1 where there are two English segments), then the segments are delimited\n",
            "with '<s>' in the text field.\n",
            "\n",
            "HindMonoCorp Columns\n",
            "--------------------\n",
            "\n",
            "The files hindmonocorp05.plaintext.gz and hindmonocorp05.export.gz each contain\n",
            "the monolingual corpus and differ only in the processing of the corpus text.\n",
            "Each input segment (usually one Hindi sentence) is stored on a separate line.\n",
            "The files have these columns:\n",
            "\n",
            "- source identifier (where does the segment come from)\n",
            "- segment type, which is one of the following:\n",
            "    <s>  ... this segment is a sentence from a 'text body'\n",
            "    <h>  ... this segment comes from a 'headline' (e.g. of an article)\n",
            "    <a>  ... anything, the source here does not allow to distinguish between\n",
            "             body and headlines\n",
            "- Hindi segment\n",
            "\n",
            "\n",
            "BibTeX Citation for HindEnCorp and HindMonoCorp 0.5\n",
            "---------------------------------------------------\n",
            "\n",
            "@InProceedings{hindencorp05:lrec:2014,\n",
            "  author = {Ond{\\v{r}}ej Bojar and Vojt{\\v{e}}ch Diatka\n",
            "            and Pavel Rychl{\\'{y}} and Pavel Stra{\\v{n}}{\\'{a}}k\n",
            "            and V{\\'{\\i}}t Suchomel and Ale{\\v{s}} Tamchyna and Daniel Zeman},\n",
            "  title = \"{HindEnCorp - Hindi-English and Hindi-only Corpus for Machine\n",
            "            Translation}\",\n",
            "  booktitle = {Proceedings of the Ninth International Conference on Language\n",
            "               Resources and Evaluation (LREC'14)},\n",
            "  year = {2014},\n",
            "  month = {may},\n",
            "  date = {26-31},\n",
            "  address = {Reykjavik, Iceland},\n",
            "  editor = {Nicoletta Calzolari (Conference Chair) and Khalid Choukri and\n",
            "     Thierry Declerck and Hrafn Loftsson and Bente Maegaard and Joseph Mariani\n",
            "     and Asuncion Moreno and Jan Odijk and Stelios Piperidis},\n",
            "  publisher = {European Language Resources Association (ELRA)},\n",
            "  isbn = {978-2-9517408-8-4},\n",
            "  language = {english}\n",
            "}\n",
            "\n",
            "\n"
          ]
        },
        {
          "output_type": "stream",
          "name": "stderr",
          "text": [
            "/usr/local/lib/python3.10/dist-packages/ipykernel/ipkernel.py:283: DeprecationWarning: `should_run_async` will not call `transform_cell` automatically in the future. Please pass the result to `transformed_cell` argument and any exception that happen during thetransform in `preprocessing_exc_tuple` in IPython 7.17 and above.\n",
            "  and should_run_async(code)\n"
          ]
        }
      ]
    },
    {
      "cell_type": "markdown",
      "source": [
        "If the file is a `.zip` file, you can open it and read its data without actually extracting all the files from it.\n",
        "\n",
        "https://docs.python.org/3/library/gzip.html\n",
        "\n",
        "Also, [requests](https://requests.readthedocs.io/en/latest/) is a great package of retrieving content from a URL."
      ],
      "metadata": {
        "id": "z4pDENv4cEqR"
      }
    },
    {
      "cell_type": "markdown",
      "source": [
        "###### Example with zipped files"
      ],
      "metadata": {
        "id": "79u_AizrnqqK"
      }
    },
    {
      "cell_type": "code",
      "source": [
        "import gzip\n"
      ],
      "metadata": {
        "id": "GjCxwaYDaWqX",
        "colab": {
          "base_uri": "https://localhost:8080/"
        },
        "outputId": "24fcc914-dc15-4d57-8a46-b04580198e36"
      },
      "execution_count": null,
      "outputs": [
        {
          "output_type": "stream",
          "name": "stderr",
          "text": [
            "/usr/local/lib/python3.10/dist-packages/ipykernel/ipkernel.py:283: DeprecationWarning: `should_run_async` will not call `transform_cell` automatically in the future. Please pass the result to `transformed_cell` argument and any exception that happen during thetransform in `preprocessing_exc_tuple` in IPython 7.17 and above.\n",
            "  and should_run_async(code)\n"
          ]
        }
      ]
    },
    {
      "cell_type": "code",
      "source": [
        "\n",
        "# this would download the file (but it's 2 GB, so go easy on your internet provider...):\n",
        "# file = requests.get('https://lindat.mff.cuni.cz/repository/xmlui/bitstream/handle/11858/00-097C-0000-0023-6260-A/hindmonocorp05.plaintext.gz')\n",
        "# with gzip.open(file.content, 'rb') as gz:\n",
        "#  ..."
      ],
      "metadata": {
        "id": "tBOjd-J6e5Kt",
        "colab": {
          "base_uri": "https://localhost:8080/"
        },
        "outputId": "788c6ef9-0269-4cd2-cf44-fc62f3db2566"
      },
      "execution_count": null,
      "outputs": [
        {
          "output_type": "stream",
          "name": "stderr",
          "text": [
            "/usr/local/lib/python3.10/dist-packages/ipykernel/ipkernel.py:283: DeprecationWarning: `should_run_async` will not call `transform_cell` automatically in the future. Please pass the result to `transformed_cell` argument and any exception that happen during thetransform in `preprocessing_exc_tuple` in IPython 7.17 and above.\n",
            "  and should_run_async(code)\n"
          ]
        }
      ]
    },
    {
      "cell_type": "markdown",
      "source": [
        "In this example, we will open the zip and read the text lines.\n",
        "The text is in hindi, so we have to decode it into `UTF-8` format:"
      ],
      "metadata": {
        "id": "_8CXmJU4i3Ng"
      }
    },
    {
      "cell_type": "code",
      "source": [
        "with gzip.open('hindmonocorp05.plaintext.gz', 'rb') as gz:\n",
        "  for i in range(10):\n",
        "    line = gz.readline()\n",
        "    words = line.decode('utf8').split()\n",
        "    print(words)\n"
      ],
      "metadata": {
        "colab": {
          "base_uri": "https://localhost:8080/"
        },
        "id": "FaShXt80f691",
        "outputId": "6bca3e9d-e1bc-4090-fb75-eb8f4227438d"
      },
      "execution_count": null,
      "outputs": [
        {
          "output_type": "stream",
          "name": "stdout",
          "text": [
            "['hwt2013', '<s>', 'लेकिन', 'गांव', 'के', 'जगदीश', 'मेघवाल,', 'मोहन...']\n",
            "['spiderling', '<s>', 'विटामिन', 'सी', 'शरीर', 'में', 'रोग', 'पैदा', 'करने', 'वाले', 'विषाणुओं', 'से', 'लड़ने', 'की', 'ताकत', 'पैदा', 'करता', 'है', 'और', 'शरीर', 'में', 'इसकी', 'संतुलित', 'मात्रा', 'बने', 'रहने', 'से', 'रोग', 'प्रतिरोधक', 'क्षमता', 'मजबूत', 'रहती', 'है।']\n",
            "['spiderling', '<s>', 'इन', 'बोतलों', 'के', 'बहुत', 'कम', 'पैसे', 'मिलते', 'हैं।']\n",
            "['commoncrawl', '<a>', 'कार्टून', ':-', 'रे', 'लोकपाल', 'आ', 'गया', 'तू', '?', 'शाबाश....', '19', '0']\n",
            "['spiderling', '<s>', 'प्रखर', 'बुद्धि', 'तेजस्वी', 'बालक', 'राजेन्द्र', 'बाल्यावस्था', 'में', 'ही', 'फारसी', 'में', 'शिक्षा', 'ग्रहण', 'करने', 'लगा', 'और', 'उसके', 'पश्चात', 'प्राथमिक', 'शिक्षा', 'के', 'लिए', 'छपरा', 'के', 'जिला', 'स्कूल', 'में', 'नामांकित', 'हो', 'गया।']\n",
            "['commoncrawl', '<a>', 'निदेशक', 'स्तर', 'का', 'एक', 'वैज्ञानिक', 'संस्थान', 'या', 'सहोदर', 'संस्थान', 'से', '(']\n",
            "['commoncrawl', '<a>', 'गज़ब', 'का', 'बतंगड़', 'है!', ':)', 'हिट', 'तो', 'वैसे', 'भी', 'है', 'जैसे', 'आपने', 'लिख', 'दिया', 'है,', 'जबर-रोचक', '(इस', 'शब्द', 'की']\n",
            "['w2cweb', '<a>', '2005', 'में', 'वर्ल्ड', 'वाइल्ड', 'लाइफ', 'फंड', 'की', 'संस्तुति', 'पर', 'गंगा', 'नदी', 'में', '165', 'किलोमीटर', 'के', 'हिस्से', 'में', \"'रामसर\", \"साइट'\", 'की', 'घोषणा', 'की', 'थी,', 'जिसमें', 'राष्ट्रीय', 'जल', 'जीव', 'डोलफिन', 'से', 'लेकर', 'सभी', 'प्रकार', 'के', 'जल', 'जीवों', 'की', 'रक्षा', 'के', 'लिए', 'सुरक्षा', 'के', 'व्यापक', 'प्रबंध', 'किए', 'गये', 'थे', 'और', 'उस', 'क्षेत्र', 'में', 'इन', 'जल', 'जीवों', 'को', 'किसी', 'भी', 'प्रकार', 'से', 'मारने', 'पर', 'वाइल्ड', 'लाइफ', 'प्रोटेक्शन', 'एक्ट', '1972', 'के', 'अंतर्गत', 'कार्रवाई', 'तक', 'करने', 'की', 'संस्तुति', 'की', 'गई', 'थी।']\n",
            "['spiderling', '<s>', 'पुराना', 'कैदीः', '”', 'अरे', '!', 'इतना', 'छोटा', 'काम', 'को', 'हमारे', 'बच्चे', 'ही', 'कर', 'लेते', 'हैं।']\n",
            "['spiderling', '<s>', 'इन', 'महाशय', 'का', 'सधवा', 'रूप', 'भी', 'विधवा', 'की', 'तरह', 'ही', 'बीता', 'था', '.....']\n"
          ]
        },
        {
          "output_type": "stream",
          "name": "stderr",
          "text": [
            "/usr/local/lib/python3.10/dist-packages/ipykernel/ipkernel.py:283: DeprecationWarning: `should_run_async` will not call `transform_cell` automatically in the future. Please pass the result to `transformed_cell` argument and any exception that happen during thetransform in `preprocessing_exc_tuple` in IPython 7.17 and above.\n",
            "  and should_run_async(code)\n"
          ]
        }
      ]
    },
    {
      "cell_type": "markdown",
      "source": [
        "**IMPORTANT NOTE**: If your corpus, like that file example is very large (2.3GB zipped), then please don't load all the text: it will not fit in the memory and will only cause you trouble.  \n",
        "Instead, you can use only the first 10 to 20k sentences, or so. For this exercise we just want you to get a hold of the steps and the proces involved in using LDA."
      ],
      "metadata": {
        "id": "SZLMI43toL76"
      }
    },
    {
      "cell_type": "markdown",
      "source": [
        "# Afterword\n",
        "\n",
        "Gensim is not the only library that implements the LDA algorithm.\n",
        "Another package that does LDA is [tomotopy](https://bab2min.github.io/tomotopy/v0.12.3/en/) - sometimes even faster than gensim. Additionaly, it is implemented as part of [Scikit-Learn](https://scikit-learn.org/stable/modules/generated/sklearn.decomposition.LatentDirichletAllocation.html) - which we use often in the course.\n",
        "\n",
        "Here's a jupyter example using Scikit-learn and spaCy: https://nbviewer.org/github/bmabey/pyLDAvis/blob/master/notebooks/sklearn.ipynb\n",
        "\n",
        "Since we won't dive deeper into the LDA topic in this course, if you wish to know more about the statistics behind it, [this video](https://www.youtube.com/watch?v=0jQo8lVRHRY) of a lesson by the researcher [Nando de Freitas](https://linkedin.com/in/nandodefreitas) gives a good overview."
      ],
      "metadata": {
        "id": "gvufRXnxoiwI"
      }
    },
    {
      "cell_type": "code",
      "source": [
        "'''\n",
        "For the task, I used the following dataset of news articles in Dutch:\n",
        "https://www.kaggle.com/datasets/maxscheijen/dutch-news-articles?resource=download\n",
        "'''\n",
        "\n",
        "df_articles = pd.read_csv('https://raw.githubusercontent.com/tblock/10kGNAD/master/articles.csv',\n",
        "                 sep=';',       # this file is actually a TSV, separated by \";\"\n",
        "                 on_bad_lines='skip',\n",
        "                 header=None,   # There is no header line for this CSV...\n",
        "                 # .. so we define the column names here:\n",
        "                 names=['article_category', 'content'],\n",
        "                 # And by specifiying the column as a Categorical type,\n",
        "                 # we can save computer memory! Yay!\n",
        "                 dtype={'article_category': 'category'})"
      ],
      "metadata": {
        "id": "c6YoKZ45q6AK",
        "colab": {
          "base_uri": "https://localhost:8080/"
        },
        "outputId": "abd26d7d-7821-4288-eaac-c5c054cd2294"
      },
      "execution_count": null,
      "outputs": [
        {
          "output_type": "stream",
          "name": "stderr",
          "text": [
            "/usr/local/lib/python3.10/dist-packages/ipykernel/ipkernel.py:283: DeprecationWarning: `should_run_async` will not call `transform_cell` automatically in the future. Please pass the result to `transformed_cell` argument and any exception that happen during thetransform in `preprocessing_exc_tuple` in IPython 7.17 and above.\n",
            "  and should_run_async(code)\n"
          ]
        }
      ]
    }
  ]
}