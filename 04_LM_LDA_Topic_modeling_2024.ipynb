{
  "nbformat": 4,
  "nbformat_minor": 0,
  "metadata": {
    "colab": {
      "provenance": [],
      "include_colab_link": true
    },
    "kernelspec": {
      "name": "python3",
      "display_name": "Python 3"
    }
  },
  "cells": [
    {
      "cell_type": "markdown",
      "metadata": {
        "id": "view-in-github",
        "colab_type": "text"
      },
      "source": [
        "<a href=\"https://colab.research.google.com/github/larajakl/Machine-Learning/blob/main/04_LM_LDA_Topic_modeling_2024.ipynb\" target=\"_parent\"><img src=\"https://colab.research.google.com/assets/colab-badge.svg\" alt=\"Open In Colab\"/></a>"
      ]
    },
    {
      "cell_type": "markdown",
      "source": [
        "# Clustering Documents"
      ],
      "metadata": {
        "id": "0QCMG-L_oPQ6"
      }
    },
    {
      "cell_type": "markdown",
      "metadata": {
        "id": "nzhvlugtZytc"
      },
      "source": [
        "In this notebook, you'll learn about **Latent Dirichlet Allocation** (LDA) algorithm, and how to use it to cluster documents based on automatically generated topics, made out of their content words.\n",
        "\n",
        "Key-learning:\n",
        "- Unsupervised machine learning for NLP\n",
        "- Clustering Documents\n",
        "- LDA\n",
        "- python packages: *pandas*, [*gensim*](https://pypi.org/project/gensim/)\n",
        "\n",
        "Terms in this notebook:\n",
        "- Bag of Words (BoW)\n",
        "- LDA\n",
        "- Clustering\n",
        "- TF/IDF\n",
        "\n",
        "This notebook includes two recommended videos (total length: 25min).\n",
        "\n",
        "Estimated reading duration: 1-2h.\n"
      ]
    },
    {
      "cell_type": "markdown",
      "metadata": {
        "id": "LuFLTklaSGqw"
      },
      "source": [
        "# Setup"
      ]
    },
    {
      "cell_type": "markdown",
      "metadata": {
        "id": "ncCmcyBB_KyW"
      },
      "source": [
        "We start by importing [pandas](https://pandas.pydata.org/) - an essential tool for data scientists!\n",
        "\n",
        "We load a .CSV (Comma Seperated Values) file of German news articles from https://github.com/tblock/10kGNAD\n"
      ]
    },
    {
      "cell_type": "code",
      "source": [
        "from IPython.display import YouTubeVideo"
      ],
      "metadata": {
        "id": "9e5gBKX3pFlC"
      },
      "execution_count": 1,
      "outputs": []
    },
    {
      "cell_type": "code",
      "metadata": {
        "id": "KfprTyMF4BG1",
        "outputId": "6513d016-8136-48fa-eb0d-835541a28ee0",
        "colab": {
          "base_uri": "https://localhost:8080/"
        }
      },
      "source": [
        "import pandas as pd\n",
        "\n",
        "import nltk\n",
        "nltk.download('punkt')\n",
        "nltk.download('stopwords')\n",
        "nltk.download('averaged_perceptron_tagger')\n",
        "nltk.download('universal_tagset')\n",
        "\n"
      ],
      "execution_count": 2,
      "outputs": [
        {
          "output_type": "stream",
          "name": "stderr",
          "text": [
            "[nltk_data] Downloading package punkt to /root/nltk_data...\n",
            "[nltk_data]   Unzipping tokenizers/punkt.zip.\n",
            "[nltk_data] Downloading package stopwords to /root/nltk_data...\n",
            "[nltk_data]   Unzipping corpora/stopwords.zip.\n",
            "[nltk_data] Downloading package averaged_perceptron_tagger to\n",
            "[nltk_data]     /root/nltk_data...\n",
            "[nltk_data]   Unzipping taggers/averaged_perceptron_tagger.zip.\n",
            "[nltk_data] Downloading package universal_tagset to /root/nltk_data...\n",
            "[nltk_data]   Unzipping taggers/universal_tagset.zip.\n"
          ]
        },
        {
          "output_type": "execute_result",
          "data": {
            "text/plain": [
              "True"
            ]
          },
          "metadata": {},
          "execution_count": 2
        }
      ]
    },
    {
      "cell_type": "markdown",
      "source": [
        "Pandas is a useful package to load CSV files and to parse them. It can also parse TSV - separated by tabs, or as in our case, separated by a `;`.  \n",
        "Pandas is often used as the first-step for data scientists to load and analyze data."
      ],
      "metadata": {
        "id": "v62qoMC7U7W-"
      }
    },
    {
      "cell_type": "code",
      "metadata": {
        "id": "ieItNWA44BEA"
      },
      "source": [
        "df_articles = pd.read_csv('https://raw.githubusercontent.com/tblock/10kGNAD/master/articles.csv',\n",
        "                 sep=';',       # this file is actually a TSV, separated by \";\"\n",
        "                 on_bad_lines='skip',\n",
        "                 header=None,   # There is no header line for this CSV...\n",
        "                 # .. so we define the column names here:\n",
        "                 names=['article_category', 'content'],\n",
        "                 # And by specifiying the column as a Categorical type,\n",
        "                 # we can save computer memory! Yay!\n",
        "                 dtype={'article_category': 'category'})"
      ],
      "execution_count": 3,
      "outputs": []
    },
    {
      "cell_type": "markdown",
      "source": [
        "**Note:** Specifying a column with repeated strings as a category is a good Pandas' trick to be aware of. Often the dataset can't fit into the memory, and by specifiying columns as a categorical column when loading the data (`pd.read_csv`), we get to spare memory and allow the dataset to fit the working memory better."
      ],
      "metadata": {
        "id": "SVusBTWghIkz"
      }
    },
    {
      "cell_type": "code",
      "source": [
        "df_articles"
      ],
      "metadata": {
        "id": "XyYuGSLJSNCA",
        "outputId": "255819f3-5482-448a-dd5c-16ad474f5814",
        "colab": {
          "base_uri": "https://localhost:8080/",
          "height": 424
        }
      },
      "execution_count": 4,
      "outputs": [
        {
          "output_type": "execute_result",
          "data": {
            "text/plain": [
              "     article_category                                            content\n",
              "0                Etat  Die ARD-Tochter Degeto hat sich verpflichtet, ...\n",
              "1                Etat  App sei nicht so angenommen worden wie geplant...\n",
              "2                Etat  Mitarbeiter überreichten Eigentümervertretern ...\n",
              "3                Etat  Service: Jobwechsel in der Kommunikationsbranc...\n",
              "4                Etat  Was Sie über diese Woche wissen sollten - und ...\n",
              "...               ...                                                ...\n",
              "9571     Wissenschaft  Die Fundstelle in Südengland ist Unesco-Weltku...\n",
              "9572     Wissenschaft  Im Team arbeitet auch ein Inspektor der sudane...\n",
              "9573     Wissenschaft  Die zentrale Frage des Projekts: Siedelten Ägy...\n",
              "9574     Wissenschaft  Klimatische Verschlechterungen dürften zur Auf...\n",
              "9575     Wissenschaft  Knochen können zum Verständnis des Lebens in d...\n",
              "\n",
              "[9576 rows x 2 columns]"
            ],
            "text/html": [
              "\n",
              "  <div id=\"df-b0f21ace-c863-4c15-976e-0fc3cdaba7a5\" class=\"colab-df-container\">\n",
              "    <div>\n",
              "<style scoped>\n",
              "    .dataframe tbody tr th:only-of-type {\n",
              "        vertical-align: middle;\n",
              "    }\n",
              "\n",
              "    .dataframe tbody tr th {\n",
              "        vertical-align: top;\n",
              "    }\n",
              "\n",
              "    .dataframe thead th {\n",
              "        text-align: right;\n",
              "    }\n",
              "</style>\n",
              "<table border=\"1\" class=\"dataframe\">\n",
              "  <thead>\n",
              "    <tr style=\"text-align: right;\">\n",
              "      <th></th>\n",
              "      <th>article_category</th>\n",
              "      <th>content</th>\n",
              "    </tr>\n",
              "  </thead>\n",
              "  <tbody>\n",
              "    <tr>\n",
              "      <th>0</th>\n",
              "      <td>Etat</td>\n",
              "      <td>Die ARD-Tochter Degeto hat sich verpflichtet, ...</td>\n",
              "    </tr>\n",
              "    <tr>\n",
              "      <th>1</th>\n",
              "      <td>Etat</td>\n",
              "      <td>App sei nicht so angenommen worden wie geplant...</td>\n",
              "    </tr>\n",
              "    <tr>\n",
              "      <th>2</th>\n",
              "      <td>Etat</td>\n",
              "      <td>Mitarbeiter überreichten Eigentümervertretern ...</td>\n",
              "    </tr>\n",
              "    <tr>\n",
              "      <th>3</th>\n",
              "      <td>Etat</td>\n",
              "      <td>Service: Jobwechsel in der Kommunikationsbranc...</td>\n",
              "    </tr>\n",
              "    <tr>\n",
              "      <th>4</th>\n",
              "      <td>Etat</td>\n",
              "      <td>Was Sie über diese Woche wissen sollten - und ...</td>\n",
              "    </tr>\n",
              "    <tr>\n",
              "      <th>...</th>\n",
              "      <td>...</td>\n",
              "      <td>...</td>\n",
              "    </tr>\n",
              "    <tr>\n",
              "      <th>9571</th>\n",
              "      <td>Wissenschaft</td>\n",
              "      <td>Die Fundstelle in Südengland ist Unesco-Weltku...</td>\n",
              "    </tr>\n",
              "    <tr>\n",
              "      <th>9572</th>\n",
              "      <td>Wissenschaft</td>\n",
              "      <td>Im Team arbeitet auch ein Inspektor der sudane...</td>\n",
              "    </tr>\n",
              "    <tr>\n",
              "      <th>9573</th>\n",
              "      <td>Wissenschaft</td>\n",
              "      <td>Die zentrale Frage des Projekts: Siedelten Ägy...</td>\n",
              "    </tr>\n",
              "    <tr>\n",
              "      <th>9574</th>\n",
              "      <td>Wissenschaft</td>\n",
              "      <td>Klimatische Verschlechterungen dürften zur Auf...</td>\n",
              "    </tr>\n",
              "    <tr>\n",
              "      <th>9575</th>\n",
              "      <td>Wissenschaft</td>\n",
              "      <td>Knochen können zum Verständnis des Lebens in d...</td>\n",
              "    </tr>\n",
              "  </tbody>\n",
              "</table>\n",
              "<p>9576 rows × 2 columns</p>\n",
              "</div>\n",
              "    <div class=\"colab-df-buttons\">\n",
              "\n",
              "  <div class=\"colab-df-container\">\n",
              "    <button class=\"colab-df-convert\" onclick=\"convertToInteractive('df-b0f21ace-c863-4c15-976e-0fc3cdaba7a5')\"\n",
              "            title=\"Convert this dataframe to an interactive table.\"\n",
              "            style=\"display:none;\">\n",
              "\n",
              "  <svg xmlns=\"http://www.w3.org/2000/svg\" height=\"24px\" viewBox=\"0 -960 960 960\">\n",
              "    <path d=\"M120-120v-720h720v720H120Zm60-500h600v-160H180v160Zm220 220h160v-160H400v160Zm0 220h160v-160H400v160ZM180-400h160v-160H180v160Zm440 0h160v-160H620v160ZM180-180h160v-160H180v160Zm440 0h160v-160H620v160Z\"/>\n",
              "  </svg>\n",
              "    </button>\n",
              "\n",
              "  <style>\n",
              "    .colab-df-container {\n",
              "      display:flex;\n",
              "      gap: 12px;\n",
              "    }\n",
              "\n",
              "    .colab-df-convert {\n",
              "      background-color: #E8F0FE;\n",
              "      border: none;\n",
              "      border-radius: 50%;\n",
              "      cursor: pointer;\n",
              "      display: none;\n",
              "      fill: #1967D2;\n",
              "      height: 32px;\n",
              "      padding: 0 0 0 0;\n",
              "      width: 32px;\n",
              "    }\n",
              "\n",
              "    .colab-df-convert:hover {\n",
              "      background-color: #E2EBFA;\n",
              "      box-shadow: 0px 1px 2px rgba(60, 64, 67, 0.3), 0px 1px 3px 1px rgba(60, 64, 67, 0.15);\n",
              "      fill: #174EA6;\n",
              "    }\n",
              "\n",
              "    .colab-df-buttons div {\n",
              "      margin-bottom: 4px;\n",
              "    }\n",
              "\n",
              "    [theme=dark] .colab-df-convert {\n",
              "      background-color: #3B4455;\n",
              "      fill: #D2E3FC;\n",
              "    }\n",
              "\n",
              "    [theme=dark] .colab-df-convert:hover {\n",
              "      background-color: #434B5C;\n",
              "      box-shadow: 0px 1px 3px 1px rgba(0, 0, 0, 0.15);\n",
              "      filter: drop-shadow(0px 1px 2px rgba(0, 0, 0, 0.3));\n",
              "      fill: #FFFFFF;\n",
              "    }\n",
              "  </style>\n",
              "\n",
              "    <script>\n",
              "      const buttonEl =\n",
              "        document.querySelector('#df-b0f21ace-c863-4c15-976e-0fc3cdaba7a5 button.colab-df-convert');\n",
              "      buttonEl.style.display =\n",
              "        google.colab.kernel.accessAllowed ? 'block' : 'none';\n",
              "\n",
              "      async function convertToInteractive(key) {\n",
              "        const element = document.querySelector('#df-b0f21ace-c863-4c15-976e-0fc3cdaba7a5');\n",
              "        const dataTable =\n",
              "          await google.colab.kernel.invokeFunction('convertToInteractive',\n",
              "                                                    [key], {});\n",
              "        if (!dataTable) return;\n",
              "\n",
              "        const docLinkHtml = 'Like what you see? Visit the ' +\n",
              "          '<a target=\"_blank\" href=https://colab.research.google.com/notebooks/data_table.ipynb>data table notebook</a>'\n",
              "          + ' to learn more about interactive tables.';\n",
              "        element.innerHTML = '';\n",
              "        dataTable['output_type'] = 'display_data';\n",
              "        await google.colab.output.renderOutput(dataTable, element);\n",
              "        const docLink = document.createElement('div');\n",
              "        docLink.innerHTML = docLinkHtml;\n",
              "        element.appendChild(docLink);\n",
              "      }\n",
              "    </script>\n",
              "  </div>\n",
              "\n",
              "\n",
              "<div id=\"df-a25cc088-f7de-4853-baf0-e3e8cdfc43b3\">\n",
              "  <button class=\"colab-df-quickchart\" onclick=\"quickchart('df-a25cc088-f7de-4853-baf0-e3e8cdfc43b3')\"\n",
              "            title=\"Suggest charts\"\n",
              "            style=\"display:none;\">\n",
              "\n",
              "<svg xmlns=\"http://www.w3.org/2000/svg\" height=\"24px\"viewBox=\"0 0 24 24\"\n",
              "     width=\"24px\">\n",
              "    <g>\n",
              "        <path d=\"M19 3H5c-1.1 0-2 .9-2 2v14c0 1.1.9 2 2 2h14c1.1 0 2-.9 2-2V5c0-1.1-.9-2-2-2zM9 17H7v-7h2v7zm4 0h-2V7h2v10zm4 0h-2v-4h2v4z\"/>\n",
              "    </g>\n",
              "</svg>\n",
              "  </button>\n",
              "\n",
              "<style>\n",
              "  .colab-df-quickchart {\n",
              "      --bg-color: #E8F0FE;\n",
              "      --fill-color: #1967D2;\n",
              "      --hover-bg-color: #E2EBFA;\n",
              "      --hover-fill-color: #174EA6;\n",
              "      --disabled-fill-color: #AAA;\n",
              "      --disabled-bg-color: #DDD;\n",
              "  }\n",
              "\n",
              "  [theme=dark] .colab-df-quickchart {\n",
              "      --bg-color: #3B4455;\n",
              "      --fill-color: #D2E3FC;\n",
              "      --hover-bg-color: #434B5C;\n",
              "      --hover-fill-color: #FFFFFF;\n",
              "      --disabled-bg-color: #3B4455;\n",
              "      --disabled-fill-color: #666;\n",
              "  }\n",
              "\n",
              "  .colab-df-quickchart {\n",
              "    background-color: var(--bg-color);\n",
              "    border: none;\n",
              "    border-radius: 50%;\n",
              "    cursor: pointer;\n",
              "    display: none;\n",
              "    fill: var(--fill-color);\n",
              "    height: 32px;\n",
              "    padding: 0;\n",
              "    width: 32px;\n",
              "  }\n",
              "\n",
              "  .colab-df-quickchart:hover {\n",
              "    background-color: var(--hover-bg-color);\n",
              "    box-shadow: 0 1px 2px rgba(60, 64, 67, 0.3), 0 1px 3px 1px rgba(60, 64, 67, 0.15);\n",
              "    fill: var(--button-hover-fill-color);\n",
              "  }\n",
              "\n",
              "  .colab-df-quickchart-complete:disabled,\n",
              "  .colab-df-quickchart-complete:disabled:hover {\n",
              "    background-color: var(--disabled-bg-color);\n",
              "    fill: var(--disabled-fill-color);\n",
              "    box-shadow: none;\n",
              "  }\n",
              "\n",
              "  .colab-df-spinner {\n",
              "    border: 2px solid var(--fill-color);\n",
              "    border-color: transparent;\n",
              "    border-bottom-color: var(--fill-color);\n",
              "    animation:\n",
              "      spin 1s steps(1) infinite;\n",
              "  }\n",
              "\n",
              "  @keyframes spin {\n",
              "    0% {\n",
              "      border-color: transparent;\n",
              "      border-bottom-color: var(--fill-color);\n",
              "      border-left-color: var(--fill-color);\n",
              "    }\n",
              "    20% {\n",
              "      border-color: transparent;\n",
              "      border-left-color: var(--fill-color);\n",
              "      border-top-color: var(--fill-color);\n",
              "    }\n",
              "    30% {\n",
              "      border-color: transparent;\n",
              "      border-left-color: var(--fill-color);\n",
              "      border-top-color: var(--fill-color);\n",
              "      border-right-color: var(--fill-color);\n",
              "    }\n",
              "    40% {\n",
              "      border-color: transparent;\n",
              "      border-right-color: var(--fill-color);\n",
              "      border-top-color: var(--fill-color);\n",
              "    }\n",
              "    60% {\n",
              "      border-color: transparent;\n",
              "      border-right-color: var(--fill-color);\n",
              "    }\n",
              "    80% {\n",
              "      border-color: transparent;\n",
              "      border-right-color: var(--fill-color);\n",
              "      border-bottom-color: var(--fill-color);\n",
              "    }\n",
              "    90% {\n",
              "      border-color: transparent;\n",
              "      border-bottom-color: var(--fill-color);\n",
              "    }\n",
              "  }\n",
              "</style>\n",
              "\n",
              "  <script>\n",
              "    async function quickchart(key) {\n",
              "      const quickchartButtonEl =\n",
              "        document.querySelector('#' + key + ' button');\n",
              "      quickchartButtonEl.disabled = true;  // To prevent multiple clicks.\n",
              "      quickchartButtonEl.classList.add('colab-df-spinner');\n",
              "      try {\n",
              "        const charts = await google.colab.kernel.invokeFunction(\n",
              "            'suggestCharts', [key], {});\n",
              "      } catch (error) {\n",
              "        console.error('Error during call to suggestCharts:', error);\n",
              "      }\n",
              "      quickchartButtonEl.classList.remove('colab-df-spinner');\n",
              "      quickchartButtonEl.classList.add('colab-df-quickchart-complete');\n",
              "    }\n",
              "    (() => {\n",
              "      let quickchartButtonEl =\n",
              "        document.querySelector('#df-a25cc088-f7de-4853-baf0-e3e8cdfc43b3 button');\n",
              "      quickchartButtonEl.style.display =\n",
              "        google.colab.kernel.accessAllowed ? 'block' : 'none';\n",
              "    })();\n",
              "  </script>\n",
              "</div>\n",
              "\n",
              "  <div id=\"id_e043497c-64eb-4301-b59b-3718860e3c08\">\n",
              "    <style>\n",
              "      .colab-df-generate {\n",
              "        background-color: #E8F0FE;\n",
              "        border: none;\n",
              "        border-radius: 50%;\n",
              "        cursor: pointer;\n",
              "        display: none;\n",
              "        fill: #1967D2;\n",
              "        height: 32px;\n",
              "        padding: 0 0 0 0;\n",
              "        width: 32px;\n",
              "      }\n",
              "\n",
              "      .colab-df-generate:hover {\n",
              "        background-color: #E2EBFA;\n",
              "        box-shadow: 0px 1px 2px rgba(60, 64, 67, 0.3), 0px 1px 3px 1px rgba(60, 64, 67, 0.15);\n",
              "        fill: #174EA6;\n",
              "      }\n",
              "\n",
              "      [theme=dark] .colab-df-generate {\n",
              "        background-color: #3B4455;\n",
              "        fill: #D2E3FC;\n",
              "      }\n",
              "\n",
              "      [theme=dark] .colab-df-generate:hover {\n",
              "        background-color: #434B5C;\n",
              "        box-shadow: 0px 1px 3px 1px rgba(0, 0, 0, 0.15);\n",
              "        filter: drop-shadow(0px 1px 2px rgba(0, 0, 0, 0.3));\n",
              "        fill: #FFFFFF;\n",
              "      }\n",
              "    </style>\n",
              "    <button class=\"colab-df-generate\" onclick=\"generateWithVariable('df_articles')\"\n",
              "            title=\"Generate code using this dataframe.\"\n",
              "            style=\"display:none;\">\n",
              "\n",
              "  <svg xmlns=\"http://www.w3.org/2000/svg\" height=\"24px\"viewBox=\"0 0 24 24\"\n",
              "       width=\"24px\">\n",
              "    <path d=\"M7,19H8.4L18.45,9,17,7.55,7,17.6ZM5,21V16.75L18.45,3.32a2,2,0,0,1,2.83,0l1.4,1.43a1.91,1.91,0,0,1,.58,1.4,1.91,1.91,0,0,1-.58,1.4L9.25,21ZM18.45,9,17,7.55Zm-12,3A5.31,5.31,0,0,0,4.9,8.1,5.31,5.31,0,0,0,1,6.5,5.31,5.31,0,0,0,4.9,4.9,5.31,5.31,0,0,0,6.5,1,5.31,5.31,0,0,0,8.1,4.9,5.31,5.31,0,0,0,12,6.5,5.46,5.46,0,0,0,6.5,12Z\"/>\n",
              "  </svg>\n",
              "    </button>\n",
              "    <script>\n",
              "      (() => {\n",
              "      const buttonEl =\n",
              "        document.querySelector('#id_e043497c-64eb-4301-b59b-3718860e3c08 button.colab-df-generate');\n",
              "      buttonEl.style.display =\n",
              "        google.colab.kernel.accessAllowed ? 'block' : 'none';\n",
              "\n",
              "      buttonEl.onclick = () => {\n",
              "        google.colab.notebook.generateWithVariable('df_articles');\n",
              "      }\n",
              "      })();\n",
              "    </script>\n",
              "  </div>\n",
              "\n",
              "    </div>\n",
              "  </div>\n"
            ],
            "application/vnd.google.colaboratory.intrinsic+json": {
              "type": "dataframe",
              "variable_name": "df_articles",
              "summary": "{\n  \"name\": \"df_articles\",\n  \"rows\": 9576,\n  \"fields\": [\n    {\n      \"column\": \"article_category\",\n      \"properties\": {\n        \"dtype\": \"category\",\n        \"num_unique_values\": 9,\n        \"samples\": [\n          \"Wirtschaft\",\n          \"Inland\",\n          \"Sport\"\n        ],\n        \"semantic_type\": \"\",\n        \"description\": \"\"\n      }\n    },\n    {\n      \"column\": \"content\",\n      \"properties\": {\n        \"dtype\": \"string\",\n        \"num_unique_values\": 9574,\n        \"samples\": [\n          \"Von dem E3-Showdeb\\u00fct des US-Herstellers kann sich die Branche eine Scheibe abschneiden. Es war Bethesdas erste eigene E3-Pressekonferenz und den Reaktionen der Journalisten und Zuseher zufolge hat der US-Herausgeber bei seinem Show-Deb\\u00fct sehr viel richtig gemacht. Erstmals in der Unternehmsgeschichte b\\u00fcndelte man seine prestigetr\\u00e4chtigen Kernmarken, um den Fans und der Konkurrenz zu zeigen, dass die Spielwelt mit einem weiteren Schwergewicht zu rechnen hat. Gleichzeitig machte der privat gef\\u00fchrte Mutterkonzern Zenimax damit ein klares Zugest\\u00e4ndnis zum teuren und in den letzten Jahren von vielen Branchenfehlschl\\u00e4gen gezeichneten AAA-Segment. Einerseits beeindruckte Bethesda mit einem ambitioniert angelegten Fahrplan, der in den folgenden 12 Monaten bis Ende Fr\\u00fchjahr 2016 die Ver\\u00f6ffentlichung von gleich drei Blockbustern vorsieht: Fallout 4, Doom und Dishonored 2. Jedes dieser Games wurde auf der E3 pr\\u00e4sentiert und bedient ein Millionenpublikum eingeschworener Fans. Andererseits ist es erfreulich zu sehen, dass es neben den wenigen Milliardenkonzernen rund um Activision und EA noch private Hersteller gibt, die ihr Kapital vorrangig in Hochglanzproduktionen investieren und auch daran festhalten. In Zeiten, in denen (einstige) Kolosse wie Konami oder Sega vom Zukunftsmarkt Mobile schw\\u00e4rmen, b\\u00f6rsennotierte Big Player ihre Franchises nach Gesch\\u00e4ftsquartalen richten und einander mit Marketingmillionen \\u00fcberbieten, ist dies alles andere als eine Selbstverst\\u00e4ndlichkeit. Mit der Vorstellungen des neuen Doom, eine moderne Interpretation des 1993 erschienenen Kult-Shooters, beweist Bethesda zudem, dass es gewillt ist, seinen Marken Zeit zu geben. Das mehrfach verschobene Projekt wurde vor ein paar Jahren komplett neu angefangen, nachdem die Produktion den internen Erwartungen des Studios id Software nicht gerecht wurde. Eine kostspielige Entscheidung, die jedoch sicherstellen sollte, dass derart wertvolle Marken langfristig nicht an Ansehen und Popularit\\u00e4t verlieren. Gleiches gilt f\\u00fcr Bethesdas andere Schl\\u00fcsselfranchises: Fallout 4 erscheint sage und schreibe sieben Jahre nach Teil 3 und der 2012 erschienene \\u00dcberraschungshit Dishonored wird erst vier Jahre sp\\u00e4ter eine Fortsetzung erhalten. Nach den heutigen Ma\\u00dfst\\u00e4ben annualisierter Spieleserien eine kleine Ewigkeit, die nicht gerade nach Profitmaximierung schreit. Und so aufregend es war, nach vielen Jahren einen neuen Big Player im Rampenlicht der E3 zu sehen, so beruhigt es als Videospielfan umso mehr, dass eine Wiederholung des Bethesda-Spektakels im n\\u00e4chsten Jahr alles andere als sicher ist. Denn w\\u00e4hrend nicht nur die eine oder andere vergangene Pressekonferenz mit farblosen L\\u00fcckenf\\u00fcllern oder leeren Ank\\u00fcndigungen nicht einmal Jahre sp\\u00e4ter erschienener oder auch wieder eingestellter Games gespickt war, hat Bethesda solange geschwiegen, bis es etwas Handfestes zu zeigen hatte. Auch davon kann sich die Branche eine Scheibe abschneiden.\",\n          \"Domain wieder erreichbar \\u2013 Unternehmen verweist auf IT-Probleme. Bei den \\u00d6BB hat eine Zugangs-Sperre bei Computern des Unternehmens f\\u00fcr die Internetseite norberthofer.at f\\u00fcr Aufregung gesorgt. Wie die Krone berichtete, konnte die Website von FP\\u00d6-Kandidat Norbert Hofer von Tausenden Computern der \\u00d6BB aus tagelang nicht aufgerufen werden \\u2013 jene von Alexander Van der Bellen (vanderbellen.at) hingegen schon. FP\\u00d6-Abgeordneter Christian H\\u00f6bart sprach von einer Frechheit. Die \\u00d6BB-Generaldirektion dementierte den Versuch einer politischen Beeinflussung: Die Ursache f\\u00fcr die Sperre war ein Fehler unseres IT-Lieferanten. Da diese Domain nicht unmittelbar nach ihrer Reservierung mit Inhalt bef\\u00fcllt war, wurde sie weggefiltert, zitierte die Krone ein entsprechendes Schreiben. Kurz nach der Anfrage der Zeitung war die Domain norberthofer.at von \\u00d6BB-PCs wieder erreichbar, so der Bericht.\",\n          \"Geb\\u00fcrtiger Bosnier kommt abl\\u00f6sefrei aus Kasachstan. Altach \\u2013 Der SCR Altach hat Mittelst\\u00fcrmer Mihret Topcagic verpflichtet. Der geb\\u00fcrtige Bosnier mit \\u00f6sterreichischer Staatsb\\u00fcrgerschaft spielte zuletzt zwei Jahre f\\u00fcr den kasachischen Klub Schachtjor Karagandy, er kommt abl\\u00f6sefrei. In Vorarlberg erh\\u00e4lt der 27-J\\u00e4hrige einen Vertrag bis Sommer 2017. Er hat beim WAC und bei der Admira bereits Bundesliga-Erfahrung gesammelt.\"\n        ],\n        \"semantic_type\": \"\",\n        \"description\": \"\"\n      }\n    }\n  ]\n}"
            }
          },
          "metadata": {},
          "execution_count": 4
        }
      ]
    },
    {
      "cell_type": "markdown",
      "source": [
        "Our corpus contains 9 categories, as seen below.  \n",
        "However, our plan now is to **ignore them**, and instead, use an **un**supervised algorithm to deduct the topics only by the articles content.   \n",
        "Or in other words: we will *cluster* those documents based on their content."
      ],
      "metadata": {
        "id": "eJtNm2v7V38-"
      }
    },
    {
      "cell_type": "code",
      "source": [
        "df_articles['article_category'].cat.categories"
      ],
      "metadata": {
        "colab": {
          "base_uri": "https://localhost:8080/"
        },
        "id": "KGgnGvdLVLkh",
        "outputId": "b7a73593-a773-4006-b6d6-f26a692005e8"
      },
      "execution_count": null,
      "outputs": [
        {
          "output_type": "stream",
          "name": "stderr",
          "text": [
            "/usr/local/lib/python3.10/dist-packages/ipykernel/ipkernel.py:283: DeprecationWarning: `should_run_async` will not call `transform_cell` automatically in the future. Please pass the result to `transformed_cell` argument and any exception that happen during thetransform in `preprocessing_exc_tuple` in IPython 7.17 and above.\n",
            "  and should_run_async(code)\n"
          ]
        },
        {
          "output_type": "execute_result",
          "data": {
            "text/plain": [
              "Index(['Etat', 'Inland', 'International', 'Kultur', 'Panorama', 'Sport', 'Web',\n",
              "       'Wirtschaft', 'Wissenschaft'],\n",
              "      dtype='object')"
            ]
          },
          "metadata": {},
          "execution_count": 52
        }
      ]
    },
    {
      "cell_type": "markdown",
      "metadata": {
        "id": "lMnZgp90-Y7R"
      },
      "source": [
        "# Clustering with Latent Dirichlet Allocation (LDA)"
      ]
    },
    {
      "cell_type": "markdown",
      "metadata": {
        "id": "uvF0AlS6-dqA"
      },
      "source": [
        "## Introduction\n",
        "\n",
        "We start by clustering our data as an unsupervised learning task: **topic modeling**.\n",
        "\n",
        "There are many different methods to cluster documents. One of these methods is *topic modeling* - where an algorithm assigns a *topic* to each document and clusters these documents by these topics.\n",
        "\n",
        "Documents can be represented as a distribution of their words: their occurrences and frequencies. A set of words, which are relatively not frequent but are common to several documents, can express a document topic.  \n",
        "For example, suppose we locate documents with the words 'Android', 'OnePlus' and 'iPhone' in them. Based on the frequency of these words, we could assume that these documents are related to mobile phones.\n",
        "\n",
        "[Dirichlet](https://en.wikipedia.org/wiki/Dirichlet_distribution) is a distribution on probability distributions. In other words, it can handle the frequency of which a set of words appear (which have by themselves, each one, a frequency).\n",
        "\n",
        "For a deeper mathematical explanation of this distribution, watch this recommended video: https://www.youtube.com/watch?v=nfBNOWv1pgE"
      ]
    },
    {
      "cell_type": "code",
      "source": [
        "YouTubeVideo('nfBNOWv1pgE')"
      ],
      "metadata": {
        "colab": {
          "base_uri": "https://localhost:8080/",
          "height": 321
        },
        "id": "tHzU2nNmpKbp",
        "outputId": "c391569e-cf05-4561-e1bf-3383219caa03"
      },
      "execution_count": 5,
      "outputs": [
        {
          "output_type": "execute_result",
          "data": {
            "text/plain": [
              "<IPython.lib.display.YouTubeVideo at 0x7dd8a9713dc0>"
            ],
            "text/html": [
              "\n",
              "        <iframe\n",
              "            width=\"400\"\n",
              "            height=\"300\"\n",
              "            src=\"https://www.youtube.com/embed/nfBNOWv1pgE\"\n",
              "            frameborder=\"0\"\n",
              "            allowfullscreen\n",
              "            \n",
              "        ></iframe>\n",
              "        "
            ],
            "image/jpeg": "[encoded data removed]"
          },
          "metadata": {},
          "execution_count": 5
        }
      ]
    },
    {
      "cell_type": "markdown",
      "source": [
        "LDA is an unsupervised algorithm that assigns topics to every document. These topics are described as a set of words.  \n",
        "Each document can contain several topics - more than just one topic.  \n",
        "For example, some article about Apple can be 80% mobile phones and 20% about business innovations or income.\n",
        "\n",
        "The [LDA paper](https://www.jmlr.org/papers/volume3/blei03a/blei03a.pdf) is a milestone in NLP and one of the recommended readings.\n",
        "\n",
        "If you're interested to learn more about the algorithm method, watch this video: https://www.youtube.com/watch?v=DWJYZq_fQ2A."
      ],
      "metadata": {
        "id": "EtlPh-CJpiM2"
      }
    },
    {
      "cell_type": "code",
      "source": [
        "YouTubeVideo('DWJYZq_fQ2A')"
      ],
      "metadata": {
        "colab": {
          "base_uri": "https://localhost:8080/",
          "height": 321
        },
        "id": "1x0Hfl2LpmQ0",
        "outputId": "fe9027fd-3a59-4eec-a2e4-ed03454ff04d"
      },
      "execution_count": 6,
      "outputs": [
        {
          "output_type": "execute_result",
          "data": {
            "text/plain": [
              "<IPython.lib.display.YouTubeVideo at 0x7dd8a9711b10>"
            ],
            "text/html": [
              "\n",
              "        <iframe\n",
              "            width=\"400\"\n",
              "            height=\"300\"\n",
              "            src=\"https://www.youtube.com/embed/DWJYZq_fQ2A\"\n",
              "            frameborder=\"0\"\n",
              "            allowfullscreen\n",
              "            \n",
              "        ></iframe>\n",
              "        "
            ],
            "image/jpeg": "[encoded data removed]"
          },
          "metadata": {},
          "execution_count": 6
        }
      ]
    },
    {
      "cell_type": "markdown",
      "source": [
        "Now, let's examine our German data set with LDA:"
      ],
      "metadata": {
        "id": "nXYgZ4M9plG8"
      }
    },
    {
      "cell_type": "markdown",
      "metadata": {
        "id": "ZjX33ZXRfsM4"
      },
      "source": [
        "In previous exercises, you got to know NLTK.\n",
        "\n",
        "### Stemming\n",
        "Here we will also use NLTK's methods of **stemming** the words. By returning to the root of the word, its stem, we reduce the dimensionality: the number of words in the vocabulary decreases. For example, instead of having different words for the singular and plural form - 'word' <--> 'words' or 'Kanzler', 'Kanzlers', 'Kanzlei', etc., we trim those words into 'Kanzl'. Hence we can reduce the size of the vocabulary by at least half.\n",
        "\n",
        "### Stop Words\n",
        "We will also remove `stopwords` from our text. In English, words such as: `a`, `an`, and `the` will be removed, as they don't add much to the meaning of the sentence. For each language, there is a different curated list of such words, and NLTK is a great source for those.\n",
        "\n",
        "### GenSim\n",
        "In this exercise, you'll be introduced to another package, specialized in topic modeling, called `gensim`:\n",
        "https://radimrehurek.com/gensim/\n",
        "\n"
      ]
    },
    {
      "cell_type": "code",
      "source": [
        "%pip install -U gensim --quiet"
      ],
      "metadata": {
        "id": "wXiy7e3wvTfP"
      },
      "execution_count": 7,
      "outputs": []
    },
    {
      "cell_type": "code",
      "metadata": {
        "id": "dA1Ek-yR4BBG"
      },
      "source": [
        "from pprint import pprint # for printing objects nicely\n",
        "\n",
        "from gensim import corpora, models\n",
        "from gensim.utils import simple_preprocess\n",
        "\n",
        "## Instead of the gensim English stopwords...\n",
        "# from gensim.parsing.preprocessing import STOPWORDS\n",
        "## ...we use nltk's German stopwords:\n",
        "from nltk.corpus import stopwords\n",
        "\n",
        "from nltk.stem.snowball import SnowballStemmer\n",
        "from nltk.stem.porter import *\n",
        "\n",
        "import numpy as np\n",
        "\n",
        "from random import choice\n",
        "\n",
        "np.random.seed(1234)"
      ],
      "execution_count": 8,
      "outputs": []
    },
    {
      "cell_type": "code",
      "source": [
        "# Initialize the Stemmers\n",
        "stemmer = SnowballStemmer('german')\n",
        "german_stop_words = set(stopwords.words('german'))\n",
        "\n",
        "\n",
        "def lemmatize_stemming(text):\n",
        "  \"\"\"lemmatize and stem a word\"\"\"\n",
        "  return stemmer.stem(text)\n",
        "\n",
        "\n",
        "def preprocess(text):\n",
        "  \"\"\"lemmatize and remove stopwords\"\"\"\n",
        "  result = [lemmatize_stemming(token)\n",
        "            for token in simple_preprocess(text)\n",
        "            if token not in german_stop_words and len(token) > 3]\n",
        "  return result\n"
      ],
      "metadata": {
        "id": "2zkoH-LZjmg6"
      },
      "execution_count": 9,
      "outputs": []
    },
    {
      "cell_type": "markdown",
      "metadata": {
        "id": "H9FeFqUmk7hJ"
      },
      "source": [
        "In our DataFrame, we have a table contains the articles and their topics.\n",
        "\n",
        "We only need the articles for this tasks - we will create our own topics. So, let's start by converting the articles column into a ist of all the articles:"
      ]
    },
    {
      "cell_type": "code",
      "metadata": {
        "id": "5Yk3kIqSjY6C",
        "outputId": "89381116-3aba-488d-b6f3-fe39bfeb0586",
        "colab": {
          "base_uri": "https://localhost:8080/"
        }
      },
      "source": [
        "all_articles = df_articles['content'].to_list()\n",
        "all_articles[:5]"
      ],
      "execution_count": 11,
      "outputs": [
        {
          "output_type": "execute_result",
          "data": {
            "text/plain": [
              "['Die ARD-Tochter Degeto hat sich verpflichtet, ab August einer Quotenregelung zu folgen, die für die Gleichstellung von Regisseurinnen sorgen soll. In mindestens 20 Prozent der Filme, die die ARD-Tochter Degeto produziert oder mitfinanziert, sollen ab Mitte August Frauen Regie führen. Degeto-Chefin Christine Strobl folgt mit dieser Selbstverpflichtung der Forderung von Pro Quote Regie. Die Vereinigung von Regisseurinnen hatte im vergangenen Jahr eine Quotenregelung gefordert, um den weiblichen Filmschaffenden mehr Gehör und ökonomische Gleichstellung zu verschaffen. Pro Quote Regie kritisiert, dass, während rund 50 Prozent der Regie-Studierenden weiblich seien, der Anteil der Regisseurinnen bei Fernsehfilmen nur bei 13 bis 15 Prozent liege. In Österreich sieht die Situation ähnlich aus, auch hier wird von unterschiedlichen Seiten Handlungsbedarf angemahnt. Aber wie soll dieser aussehen? Ist die Einführung der Quotenregelung auch für die österreichische Film- und Fernsehlandschaft sinnvoll? Diskutieren Sie im Forum.',\n",
              " 'App sei nicht so angenommen worden wie geplant. Wegen zu geringer Nutzung schaltet Spiegel Online nach zwei Jahren die Fußball-App aus, die App sei nicht so genutzt worden, wie man sich das vorgestellt habe. Dafür soll der Live-Fußball-Bereich in der News-App ausgebaut werden.',\n",
              " 'Mitarbeiter überreichten Eigentümervertretern Petition gegen Personalabbau. Wien – Mehrere hundert APA-Mitarbeiter haben laut dem Betriebsrat eine Resolution unterschrieben, die am Mittwoch den Eigentümervertretern übergeben wurde. Inhalt ist ein deutlicher Protest gegen den geplanten Personalabbau (DER STANDARD berichtete) und für eine Gleichstellung der Mitarbeiter von APA-Tochterunternehmen bei automatischen Gehaltsanpassungen. Ich lehne erneute Personalkürzungen oder gar Kündigungen, wie sie derzeit insbesondere in der Redaktion geplant sind, ab und unterstütze die Forderung nach einer verpflichtenden Weitergabe der jährlichen Ist-Erhöhung der Gehälter für alle MitarbeiterInnen der APA-Gruppe, heißt es in der Resolution. Sie wurde den Teilnehmern von Aufsichtsrats- und Vorstandssitzung von denen der zeitgleich stattfindenden Betriebsversammlung übergeben. Hauptkritikpunkt der Belegschaft ist, dass Sparmaßnahmen angekündigt würden, obwohl die APA seit Jahren Gewinne schreibe. Die als Genossenschaft organisierte Agentur gehört zu 45 Prozent dem ORF, den Rest teilen sich 13 Tageszeitungen. Ihnen wirft der Betriebsrat vor, Gewinne einzustreifen und gleichzeitig Sparprogramme zu verordnen. Peter Kropsch, Vorsitzender der APA-Geschäftsführung, versteht die Aufregung nicht vollends. Die APA sei ein gewinnorientiertes Unternehmen, das auch in Zukunft stabil aufgestellt sein müsse, sagt er zum STANDARD. Der Betriebsrat glaubt, dass man die Kosten einfach unbegrenzt weiterlaufen lassen kann, so Kropsch. Für 2016 steige das Personalbudget sogar, allerdings würden automatische Gehaltserhöhungen die Kosten für den einzelnen Mitarbeiter steigen lassen. Ob die APA die Qualität auch mit weniger Mitarbeitern aufrechterhalten könne? Na klar, sagt Kropsch – unter vergleichbaren Agenturen in Europa sei man am breitesten aufgestellt, da habe ich keine Angst. Persönlich habe er außerdem nur eine geringe Beteiligung an der Betriebsversammlung wahrgenommen.',\n",
              " 'Service: Jobwechsel in der Kommunikationsbranche im Überblick. Hier liefert derStandard.at/Etat Jobwechsel in der Kommunikationsbranche im Überblick. Grob sortiert nach Kalenderwochen, in denen die Infos einlangten. Quellen: Presse- und eigene Infos, andere Branchendienste wie Horizont.at und medianet.at. Wenn Sie Infos für uns haben, bitte ein Mail an etat@derstandard.at schicken. Woche 15 / 2017 Woche 14 / 2017 Woche 13 / 2017 Woche 12 / 2017 Woche 9 / 2017 Woche 8 / 2017 Woche 7 / 2017 Spannende neue Aufgaben voraus: ich mach ab Februar die Nachrichten auf @kurierat. Ich freu mich auch. https://t.co/0zC6EsrXe3 Woche 2 / 2017 Freu mich: Die ausgezeichnete Journalistin Münire Inam vom #ORFreport moderiert (alternierend mit Martina Rupp) ab 23.1. heute konkret! Wie es im kommenden Jahr weitergeht, lasse ich euch bald wissen. Es warten spannende neue Herausforderungen. Woche 45 / 2016 Stefan Huber wechselt von Media in Progress zu content garden technologies und übernimmt den Ausbau der Content Management Unit. Mich interessieren vor allem die Möglichkeiten, die sich aus der Kombination von Content und Technologie ergeben, sagt er.  Woche 43 / 2016 Woche 41 / 2016 Woche 38 / 2016 Woche 37 / 2016 Woche 33 / 2016  Woche 31 / 2016 Woche 30 / 2016 Krone-Anzeigenvermarktung: Thomas Kreuzer leitet die Branchenvermarktung Special Account, Thomas Grojer übernimmt die Regionalleitung Wien und Stammausgabe. Sie folgen in ihren neuen Funktionen Friedrich Dungl nach, der als Geschäftsführer in das Niederösterreichische Pressehaus wechselt. Woche 18 /2016 Vielen Dank! Ich verspreche auch, nicht über die Alpenrepublik und das Schnitzelland zu schreiben. https://t.co/zqj0HXZ7dD Andreas Csar wechselt vom Verband Österreichischer Zeitungen (VÖZ) als Leiter der Presse- und Öffentlichkeitsarbeit zur Stelle des Pressesprechers bei ecoplus (Wirtschaftsagentur des Landes Niederösterreichs). Woche 11 / 2016 Woche 6 / 2016 Woche 5 / 2016 Woche 4 / 2016 Die ÖBB holen Sven Pusswald von der OMV als Leiter der Konzernkommunikation & Public Affairs.',\n",
              " 'Was Sie über diese Woche wissen sollten - und was Sie gleich wieder vergessen können. Wien - Was hat sich diese Woche getan in der Medienwelt? Ist Ihnen da  nichts entgangen? Besser noch einmal durchchecken – im  Etat.at-Wochenquiz. Wir wünschen viel Spaß beim Mitmachen! Und für alle, die vorige Woche nicht so viel Zeit hatten, Medien-Nachrichten zu lesen: ein nützlicher Link.']"
            ]
          },
          "metadata": {},
          "execution_count": 11
        }
      ]
    },
    {
      "cell_type": "markdown",
      "metadata": {
        "id": "LNnJfuDllNhz"
      },
      "source": [
        "## Preprocessing\n",
        "\n",
        "Let's see an example, what happens when we pre-process a document.\n",
        "\n",
        "Look at the output of this cell, and compare the tokenized original document, to the lemmatized document:\n",
        "\n",
        "My observations: The lemmatized (preprocessed) document has fewer unique tokens/words because of the lemmatization, the removal of words of length 3 or shorter, and the removal of stopwords. Every token is in lowercase now. There also aren't any numbers in the lemmatized document anymore."
      ]
    },
    {
      "cell_type": "code",
      "metadata": {
        "id": "oVI6_TKjjm2B",
        "outputId": "1e85bf85-dbd7-4e0c-c27b-f804c55437d6",
        "colab": {
          "base_uri": "https://localhost:8080/"
        }
      },
      "source": [
        "print('original document: ')\n",
        "article = choice(all_articles)\n",
        "print(article, \"\\n\")\n",
        "\n",
        "# This time, we don't care about punctuations as tokens (Can you think why?): #my guess: because in the preprocess function we omit all words of length 3 or shorter anyway and we lemmatise/stem so punctuation at the end of a word will also be removed.\n",
        "print('original document, broken into words: ')\n",
        "words = [word for word in article.split(' ')]\n",
        "print(words, \"\\n\")\n",
        "print(\"Vocabulary size of the original article:\", len(set(words)))\n",
        "\n",
        "# now let's see what happens when we pass the article into our preprocessing\n",
        "# method:\n",
        "print('\\n\\n tokenized and lemmatized document: ')\n",
        "preprocessed_article = preprocess(article)\n",
        "print(preprocessed_article, '\\n')\n",
        "print(\"Vocabulary size after preprocessing:\", len(set(preprocessed_article)))\n"
      ],
      "execution_count": 12,
      "outputs": [
        {
          "output_type": "stream",
          "name": "stdout",
          "text": [
            "original document: \n",
            "Bund schultert größeren Teil der Beamtenpensionen – Länder-Einschau in Transparenzdatenbank verlängert. Wien – Der Finanzausschuss des Nationalrats hat am Dienstagabend das Abgabenänderungsgesetz 2015 und eine Novelle zum Poststrukturgesetz auf den Weg gebracht. Ersteres enthält u.a Änderungen bei der Transparenzdatenbank, zweiteres soll einen Streit zwischen Bund und Post bzw. Telekom über die Bezahlung von Postbeamten beilegen. Den Bund kostet die Einigung 14,2 (2016) bzw. 22,2 Mio. Euro ab 2017. Das Poststrukturgesetz soll einen zwischen Bund sowie Post und Telekom schwelenden Konflikt über die Bezahlung von Postbeamten beenden, die bei der Teilprivatisierung der Unternehmen übernommen wurden. So wird der bisherige Beitrag der Firmen zur Deckung des Pensionsaufwandes ihrer Beamten ab 2017 durch einen niedrigeren Dienstgeberanteil (12,55 Prozent) ersetzt, der Dienstnehmeranteil der Beamten fließt an den Bund. Außerdem entfällt ab 2016 der bisher von Post und Telekom geleistete Pflegegeldanteil an der Krankenversicherung (0,8 Prozent). Die Abwicklung der Pensionen übernimmt die Beamten-Sozialversicherung BVA, wofür die Unternehmen sechs Jahre lang (also bis 2022) je 1,98 Mio. Euro bezahlen. Den Erläuterungen zum Gesetzesentwurf ist zu entnehmen, dass die Post bereits eine Klage zu den Aktivbezügen ihrer Beamten gegen den Bund beim Verfassungsgerichtshof eingebracht hatte. Diese wurde angesichts der nun erzielten Einigung zurückgezogen. Wie Finanzminister Hans Jörg Schelling (ÖVP) im Ausschuss sagte, hätten die Forderungen der Post 240 Mio. Euro ausgemacht. Er kritisierte, dass 2003 verabsäumt worden sei, zu klären, wie ein ausgegliedertes Unternehmen mit beamteten Bediensteten umzugehen habe. Nachdem das Stillhalteabkommen 2015 auslaufe, habe man einen Vergleich geschlossen, den es nun durch eine Gesetzesnovelle umzusetzen gelte. Auch der Rechnungshof hatte eine Bereinigung der strittigen Rechtslage empfohlen. Die Transparenzdatenbank soll Förderungen von Bund und Ländern zusammenfassen, um den auszahlenden Stellen einen besseren Überblick zu ermöglichen. Allerdings hat sich die Einbindung der Länder in die Datenbank mehrmals verzögert. Finanzminister Shelling kündigte im Ausschuss laut Parlamentskorrespondenz einmal mehr einen (weiteren) 15a-Vertrag mit den Ländern dazu für das kommende Jahr an. Konkret sollen sie in fünf Fällen ihre Auszahlungen darstellen, u.a. bei der Energieförderung. Mit dem Abgabenänderungsgesetz beschlossen wird nun, dass jene Länder, die ihre Förderungen 2016 in die Datenbank einspeisen, auch in die entsprechenden Daten der anderen Gebietskörperschaften (also des Bundes und der anderen Länder) Einblick nehmen dürfen. Bisher war die Einsicht der Länder in die Bundesdaten mit 31. Dezember 2015 befristet. \n",
            "\n",
            "original document, broken into words: \n",
            "['Bund', 'schultert', 'größeren', 'Teil', 'der', 'Beamtenpensionen', '–', 'Länder-Einschau', 'in', 'Transparenzdatenbank', 'verlängert.', 'Wien', '–', 'Der', 'Finanzausschuss', 'des', 'Nationalrats', 'hat', 'am', 'Dienstagabend', 'das', 'Abgabenänderungsgesetz', '2015', 'und', 'eine', 'Novelle', 'zum', 'Poststrukturgesetz', 'auf', 'den', 'Weg', 'gebracht.', 'Ersteres', 'enthält', 'u.a', 'Änderungen', 'bei', 'der', 'Transparenzdatenbank,', 'zweiteres', 'soll', 'einen', 'Streit', 'zwischen', 'Bund', 'und', 'Post', 'bzw.', 'Telekom', 'über', 'die', 'Bezahlung', 'von', 'Postbeamten', 'beilegen.', 'Den', 'Bund', 'kostet', 'die', 'Einigung', '14,2', '(2016)', 'bzw.', '22,2', 'Mio.', 'Euro', 'ab', '2017.', 'Das', 'Poststrukturgesetz', 'soll', 'einen', 'zwischen', 'Bund', 'sowie', 'Post', 'und', 'Telekom', 'schwelenden', 'Konflikt', 'über', 'die', 'Bezahlung', 'von', 'Postbeamten', 'beenden,', 'die', 'bei', 'der', 'Teilprivatisierung', 'der', 'Unternehmen', 'übernommen', 'wurden.', 'So', 'wird', 'der', 'bisherige', 'Beitrag', 'der', 'Firmen', 'zur', 'Deckung', 'des', 'Pensionsaufwandes', 'ihrer', 'Beamten', 'ab', '2017', 'durch', 'einen', 'niedrigeren', 'Dienstgeberanteil', '(12,55', 'Prozent)', 'ersetzt,', 'der', 'Dienstnehmeranteil', 'der', 'Beamten', 'fließt', 'an', 'den', 'Bund.', 'Außerdem', 'entfällt', 'ab', '2016', 'der', 'bisher', 'von', 'Post', 'und', 'Telekom', 'geleistete', 'Pflegegeldanteil', 'an', 'der', 'Krankenversicherung', '(0,8', 'Prozent).', 'Die', 'Abwicklung', 'der', 'Pensionen', 'übernimmt', 'die', 'Beamten-Sozialversicherung', 'BVA,', 'wofür', 'die', 'Unternehmen', 'sechs', 'Jahre', 'lang', '(also', 'bis', '2022)', 'je', '1,98', 'Mio.', 'Euro', 'bezahlen.', 'Den', 'Erläuterungen', 'zum', 'Gesetzesentwurf', 'ist', 'zu', 'entnehmen,', 'dass', 'die', 'Post', 'bereits', 'eine', 'Klage', 'zu', 'den', 'Aktivbezügen', 'ihrer', 'Beamten', 'gegen', 'den', 'Bund', 'beim', 'Verfassungsgerichtshof', 'eingebracht', 'hatte.', 'Diese', 'wurde', 'angesichts', 'der', 'nun', 'erzielten', 'Einigung', 'zurückgezogen.', 'Wie', 'Finanzminister', 'Hans', 'Jörg', 'Schelling', '(ÖVP)', 'im', 'Ausschuss', 'sagte,', 'hätten', 'die', 'Forderungen', 'der', 'Post', '240', 'Mio.', 'Euro', 'ausgemacht.', 'Er', 'kritisierte,', 'dass', '2003', 'verabsäumt', 'worden', 'sei,', 'zu', 'klären,', 'wie', 'ein', 'ausgegliedertes', 'Unternehmen', 'mit', 'beamteten', 'Bediensteten', 'umzugehen', 'habe.', 'Nachdem', 'das', 'Stillhalteabkommen', '2015', 'auslaufe,', 'habe', 'man', 'einen', 'Vergleich', 'geschlossen,', 'den', 'es', 'nun', 'durch', 'eine', 'Gesetzesnovelle', 'umzusetzen', 'gelte.', 'Auch', 'der', 'Rechnungshof', 'hatte', 'eine', 'Bereinigung', 'der', 'strittigen', 'Rechtslage', 'empfohlen.', 'Die', 'Transparenzdatenbank', 'soll', 'Förderungen', 'von', 'Bund', 'und', 'Ländern', 'zusammenfassen,', 'um', 'den', 'auszahlenden', 'Stellen', 'einen', 'besseren', 'Überblick', 'zu', 'ermöglichen.', 'Allerdings', 'hat', 'sich', 'die', 'Einbindung', 'der', 'Länder', 'in', 'die', 'Datenbank', 'mehrmals', 'verzögert.', 'Finanzminister', 'Shelling', 'kündigte', 'im', 'Ausschuss', 'laut', 'Parlamentskorrespondenz', 'einmal', 'mehr', 'einen', '(weiteren)', '15a-Vertrag', 'mit', 'den', 'Ländern', 'dazu', 'für', 'das', 'kommende', 'Jahr', 'an.', 'Konkret', 'sollen', 'sie', 'in', 'fünf', 'Fällen', 'ihre', 'Auszahlungen', 'darstellen,', 'u.a.', 'bei', 'der', 'Energieförderung.', 'Mit', 'dem', 'Abgabenänderungsgesetz', 'beschlossen', 'wird', 'nun,', 'dass', 'jene', 'Länder,', 'die', 'ihre', 'Förderungen', '2016', 'in', 'die', 'Datenbank', 'einspeisen,', 'auch', 'in', 'die', 'entsprechenden', 'Daten', 'der', 'anderen', 'Gebietskörperschaften', '(also', 'des', 'Bundes', 'und', 'der', 'anderen', 'Länder)', 'Einblick', 'nehmen', 'dürfen.', 'Bisher', 'war', 'die', 'Einsicht', 'der', 'Länder', 'in', 'die', 'Bundesdaten', 'mit', '31.', 'Dezember', '2015', 'befristet.'] \n",
            "\n",
            "Vocabulary size of the original article: 245\n",
            "\n",
            "\n",
            " tokenized and lemmatized document: \n",
            "['bund', 'schultert', 'gross', 'teil', 'land', 'einschau', 'verlangert', 'wien', 'finanzausschuss', 'nationalrat', 'dienstagab', 'novell', 'gebracht', 'erst', 'enthalt', 'ander', 'zweit', 'streit', 'bund', 'post', 'telekom', 'bezahl', 'postbeamt', 'beileg', 'bund', 'kostet', 'einig', 'euro', 'bund', 'sowi', 'post', 'telekom', 'schwelend', 'konflikt', 'bezahl', 'postbeamt', 'beend', 'unternehm', 'ubernomm', 'wurd', 'bisher', 'beitrag', 'firm', 'deckung', 'beamt', 'niedrig', 'prozent', 'ersetzt', 'beamt', 'fliesst', 'bund', 'ausserd', 'entfallt', 'bish', 'post', 'telekom', 'geleistet', 'prozent', 'abwickl', 'pension', 'ubernimmt', 'beamt', 'wofur', 'unternehm', 'sech', 'jahr', 'lang', 'euro', 'bezahl', 'erlauter', 'gesetzesentwurf', 'entnehm', 'post', 'bereit', 'klag', 'aktivbezug', 'beamt', 'bund', 'beim', 'eingebracht', 'wurd', 'angesicht', 'erzielt', 'einig', 'zuruckgezog', 'finanzminist', 'han', 'jorg', 'schelling', 'ausschuss', 'sagt', 'hatt', 'forder', 'post', 'euro', 'ausgemacht', 'kritisiert', 'verabsaumt', 'word', 'klar', 'ausgegliedert', 'unternehm', 'beamtet', 'bedienstet', 'umzugeh', 'nachd', 'auslauf', 'vergleich', 'geschloss', 'gesetzesnovell', 'umzusetz', 'gelt', 'rechnungshof', 'berein', 'strittig', 'rechtslag', 'empfohl', 'forder', 'bund', 'land', 'zusammenfass', 'auszahl', 'stell', 'bess', 'uberblick', 'ermog', 'allerding', 'einbind', 'land', 'datenbank', 'mehrmal', 'verzogert', 'finanzminist', 'shelling', 'kundigt', 'ausschuss', 'laut', 'mehr', 'weit', 'vertrag', 'land', 'kommend', 'jahr', 'konkret', 'soll', 'funf', 'fall', 'auszahl', 'darstell', 'beschloss', 'land', 'forder', 'datenbank', 'einspeis', 'entsprech', 'dat', 'bund', 'land', 'einblick', 'nehm', 'durf', 'bish', 'einsicht', 'land', 'bundesdat', 'dezemb', 'befristet'] \n",
            "\n",
            "Vocabulary size after preprocessing: 127\n"
          ]
        }
      ]
    },
    {
      "cell_type": "markdown",
      "metadata": {
        "id": "DDVOwyaIlL52"
      },
      "source": [
        "Now let's pre-process all the documents.  \n",
        "This is a heavy procedure, and may take a bit ;)"
      ]
    },
    {
      "cell_type": "code",
      "metadata": {
        "id": "2pQYw_aYkq-_",
        "outputId": "2adadc06-604d-4202-c404-fcb9e426f499",
        "colab": {
          "base_uri": "https://localhost:8080/"
        }
      },
      "source": [
        "processed_docs = list(map(preprocess, all_articles))\n",
        "processed_docs[:10]"
      ],
      "execution_count": 13,
      "outputs": [
        {
          "output_type": "execute_result",
          "data": {
            "text/plain": [
              "[['tocht',\n",
              "  'degeto',\n",
              "  'verpflichtet',\n",
              "  'august',\n",
              "  'quotenregel',\n",
              "  'folg',\n",
              "  'gleichstell',\n",
              "  'regisseurinn',\n",
              "  'sorg',\n",
              "  'mindest',\n",
              "  'prozent',\n",
              "  'film',\n",
              "  'tocht',\n",
              "  'degeto',\n",
              "  'produziert',\n",
              "  'mitfinanziert',\n",
              "  'soll',\n",
              "  'mitt',\n",
              "  'august',\n",
              "  'frau',\n",
              "  'regi',\n",
              "  'fuhr',\n",
              "  'degeto',\n",
              "  'chefin',\n",
              "  'christin',\n",
              "  'strobl',\n",
              "  'folgt',\n",
              "  'forder',\n",
              "  'quot',\n",
              "  'regi',\n",
              "  'verein',\n",
              "  'regisseurinn',\n",
              "  'vergang',\n",
              "  'jahr',\n",
              "  'quotenregel',\n",
              "  'gefordert',\n",
              "  'weiblich',\n",
              "  'filmschaff',\n",
              "  'mehr',\n",
              "  'gehor',\n",
              "  'okonom',\n",
              "  'gleichstell',\n",
              "  'verschaff',\n",
              "  'quot',\n",
              "  'regi',\n",
              "  'kritisiert',\n",
              "  'rund',\n",
              "  'prozent',\n",
              "  'regi',\n",
              "  'studier',\n",
              "  'weiblich',\n",
              "  'seien',\n",
              "  'anteil',\n",
              "  'regisseurinn',\n",
              "  'fernsehfilm',\n",
              "  'prozent',\n",
              "  'lieg',\n",
              "  'osterreich',\n",
              "  'sieht',\n",
              "  'situation',\n",
              "  'ahnlich',\n",
              "  'seit',\n",
              "  'handlungsbedarf',\n",
              "  'angemahnt',\n",
              "  'ausseh',\n",
              "  'einfuhr',\n",
              "  'quotenregel',\n",
              "  'osterreich',\n",
              "  'film',\n",
              "  'sinnvoll',\n",
              "  'diskuti',\n",
              "  'forum'],\n",
              " ['angenomm',\n",
              "  'word',\n",
              "  'geplant',\n",
              "  'weg',\n",
              "  'gering',\n",
              "  'nutzung',\n",
              "  'schaltet',\n",
              "  'spiegel',\n",
              "  'onlin',\n",
              "  'zwei',\n",
              "  'jahr',\n",
              "  'fussball',\n",
              "  'genutzt',\n",
              "  'word',\n",
              "  'vorgestellt',\n",
              "  'dafur',\n",
              "  'liv',\n",
              "  'fussball',\n",
              "  'bereich',\n",
              "  'news',\n",
              "  'ausgebaut'],\n",
              " ['mitarbeit',\n",
              "  'uberreicht',\n",
              "  'petition',\n",
              "  'personalabbau',\n",
              "  'wien',\n",
              "  'mehr',\n",
              "  'hundert',\n",
              "  'mitarbeit',\n",
              "  'laut',\n",
              "  'betriebsrat',\n",
              "  'resolution',\n",
              "  'unterschrieb',\n",
              "  'mittwoch',\n",
              "  'ubergeb',\n",
              "  'wurd',\n",
              "  'inhalt',\n",
              "  'deutlich',\n",
              "  'prot',\n",
              "  'geplant',\n",
              "  'personalabbau',\n",
              "  'standard',\n",
              "  'berichtet',\n",
              "  'gleichstell',\n",
              "  'mitarbeit',\n",
              "  'automat',\n",
              "  'lehn',\n",
              "  'erneut',\n",
              "  'kundig',\n",
              "  'derzeit',\n",
              "  'insbesond',\n",
              "  'redaktion',\n",
              "  'geplant',\n",
              "  'unterstutz',\n",
              "  'forder',\n",
              "  'verpflicht',\n",
              "  'weitergab',\n",
              "  'jahrlich',\n",
              "  'erhoh',\n",
              "  'gehalt',\n",
              "  'grupp',\n",
              "  'heisst',\n",
              "  'resolution',\n",
              "  'wurd',\n",
              "  'teilnehm',\n",
              "  'aufsichtsrat',\n",
              "  'den',\n",
              "  'zeitgleich',\n",
              "  'stattfind',\n",
              "  'ubergeb',\n",
              "  'belegschaft',\n",
              "  'sparmassnahm',\n",
              "  'angekundigt',\n",
              "  'obwohl',\n",
              "  'seit',\n",
              "  'jahr',\n",
              "  'gewinn',\n",
              "  'schreib',\n",
              "  'genossenschaft',\n",
              "  'organisiert',\n",
              "  'agentur',\n",
              "  'gehort',\n",
              "  'prozent',\n",
              "  'rest',\n",
              "  'teil',\n",
              "  'tageszeit',\n",
              "  'wirft',\n",
              "  'betriebsrat',\n",
              "  'gewinn',\n",
              "  'einzustreif',\n",
              "  'gleichzeit',\n",
              "  'sparprogramm',\n",
              "  'verordn',\n",
              "  'pet',\n",
              "  'kropsch',\n",
              "  'vorsitz',\n",
              "  'versteht',\n",
              "  'aufreg',\n",
              "  'vollend',\n",
              "  'unternehm',\n",
              "  'zukunft',\n",
              "  'stabil',\n",
              "  'aufgestellt',\n",
              "  'muss',\n",
              "  'sagt',\n",
              "  'standard',\n",
              "  'betriebsrat',\n",
              "  'glaubt',\n",
              "  'kost',\n",
              "  'einfach',\n",
              "  'unbegrenzt',\n",
              "  'weiterlauf',\n",
              "  'lass',\n",
              "  'kropsch',\n",
              "  'steig',\n",
              "  'personalbudget',\n",
              "  'sogar',\n",
              "  'allerding',\n",
              "  'automat',\n",
              "  'kost',\n",
              "  'einzeln',\n",
              "  'mitarbeit',\n",
              "  'steig',\n",
              "  'lass',\n",
              "  'qualitat',\n",
              "  'wenig',\n",
              "  'mitarbeit',\n",
              "  'konn',\n",
              "  'klar',\n",
              "  'sagt',\n",
              "  'kropsch',\n",
              "  'vergleichbar',\n",
              "  'agentur',\n",
              "  'europa',\n",
              "  'breit',\n",
              "  'aufgestellt',\n",
              "  'angst',\n",
              "  'person',\n",
              "  'ausserd',\n",
              "  'gering',\n",
              "  'beteil',\n",
              "  'wahrgenomm'],\n",
              " ['servic',\n",
              "  'jobwechsel',\n",
              "  'uberblick',\n",
              "  'liefert',\n",
              "  'derstandard',\n",
              "  'etat',\n",
              "  'jobwechsel',\n",
              "  'uberblick',\n",
              "  'grob',\n",
              "  'sortiert',\n",
              "  'kalenderwoch',\n",
              "  'den',\n",
              "  'infos',\n",
              "  'einlangt',\n",
              "  'quell',\n",
              "  'press',\n",
              "  'eig',\n",
              "  'infos',\n",
              "  'branchendien',\n",
              "  'horizont',\n",
              "  'medianet',\n",
              "  'infos',\n",
              "  'bitt',\n",
              "  'mail',\n",
              "  'etat',\n",
              "  'derstandard',\n",
              "  'schick',\n",
              "  'woch',\n",
              "  'woch',\n",
              "  'woch',\n",
              "  'woch',\n",
              "  'woch',\n",
              "  'woch',\n",
              "  'woch',\n",
              "  'spannend',\n",
              "  'neu',\n",
              "  'aufgab',\n",
              "  'voraus',\n",
              "  'mach',\n",
              "  'februar',\n",
              "  'nachricht',\n",
              "  'kurierat',\n",
              "  'freu',\n",
              "  'https',\n",
              "  'esrx',\n",
              "  'woch',\n",
              "  'freu',\n",
              "  'ausgezeichnet',\n",
              "  'journalistin',\n",
              "  'munir',\n",
              "  'inam',\n",
              "  'orfreport',\n",
              "  'moderiert',\n",
              "  'alternier',\n",
              "  'martina',\n",
              "  'rupp',\n",
              "  'heut',\n",
              "  'konkret',\n",
              "  'kommend',\n",
              "  'jahr',\n",
              "  'weitergeht',\n",
              "  'lass',\n",
              "  'bald',\n",
              "  'wiss',\n",
              "  'wart',\n",
              "  'spannend',\n",
              "  'neu',\n",
              "  'woch',\n",
              "  'stefan',\n",
              "  'hub',\n",
              "  'wechselt',\n",
              "  'media',\n",
              "  'progress',\n",
              "  'content',\n",
              "  'gard',\n",
              "  'technologi',\n",
              "  'ubernimmt',\n",
              "  'ausbau',\n",
              "  'content',\n",
              "  'management',\n",
              "  'unit',\n",
              "  'interessi',\n",
              "  'moglich',\n",
              "  'kombination',\n",
              "  'content',\n",
              "  'technologi',\n",
              "  'ergeb',\n",
              "  'sagt',\n",
              "  'woch',\n",
              "  'woch',\n",
              "  'woch',\n",
              "  'woch',\n",
              "  'woch',\n",
              "  'woch',\n",
              "  'woch',\n",
              "  'kron',\n",
              "  'thomas',\n",
              "  'kreuz',\n",
              "  'leitet',\n",
              "  'special',\n",
              "  'account',\n",
              "  'thomas',\n",
              "  'groj',\n",
              "  'ubernimmt',\n",
              "  'regionalleit',\n",
              "  'wien',\n",
              "  'stammausgab',\n",
              "  'folg',\n",
              "  'neu',\n",
              "  'funktion',\n",
              "  'friedrich',\n",
              "  'dungl',\n",
              "  'geschaftsfuhr',\n",
              "  'pressehaus',\n",
              "  'wechselt',\n",
              "  'woch',\n",
              "  'viel',\n",
              "  'dank',\n",
              "  'versprech',\n",
              "  'alpenrepubl',\n",
              "  'schnitzelland',\n",
              "  'schreib',\n",
              "  'https',\n",
              "  'andreas',\n",
              "  'csar',\n",
              "  'wechselt',\n",
              "  'verband',\n",
              "  'zeitung',\n",
              "  'leit',\n",
              "  'press',\n",
              "  'stell',\n",
              "  'pressesprech',\n",
              "  'ecoplus',\n",
              "  'land',\n",
              "  'woch',\n",
              "  'woch',\n",
              "  'woch',\n",
              "  'woch',\n",
              "  'hol',\n",
              "  'sven',\n",
              "  'pusswald',\n",
              "  'leit',\n",
              "  'public',\n",
              "  'affair'],\n",
              " ['woch',\n",
              "  'wiss',\n",
              "  'sollt',\n",
              "  'gleich',\n",
              "  'vergess',\n",
              "  'wien',\n",
              "  'woch',\n",
              "  'getan',\n",
              "  'medienwelt',\n",
              "  'entgang',\n",
              "  'bess',\n",
              "  'durchcheck',\n",
              "  'etat',\n",
              "  'wochenquiz',\n",
              "  'wunsch',\n",
              "  'spass',\n",
              "  'beim',\n",
              "  'mitmach',\n",
              "  'vorig',\n",
              "  'woch',\n",
              "  'zeit',\n",
              "  'medi',\n",
              "  'nachricht',\n",
              "  'les',\n",
              "  'nutzlich',\n",
              "  'link'],\n",
              " ['woch',\n",
              "  'wiss',\n",
              "  'sollt',\n",
              "  'gleich',\n",
              "  'vergess',\n",
              "  'wien',\n",
              "  'woch',\n",
              "  'getan',\n",
              "  'medienwelt',\n",
              "  'entgang',\n",
              "  'bess',\n",
              "  'durchcheck',\n",
              "  'etat',\n",
              "  'wochenquiz',\n",
              "  'wunsch',\n",
              "  'spass',\n",
              "  'beim',\n",
              "  'mitmach',\n",
              "  'vorig',\n",
              "  'woch',\n",
              "  'zeit',\n",
              "  'medi',\n",
              "  'nachricht',\n",
              "  'les',\n",
              "  'nutzlich',\n",
              "  'link'],\n",
              " ['mocht',\n",
              "  'eig',\n",
              "  'plattform',\n",
              "  'aufbau',\n",
              "  'les',\n",
              "  'unterstutzt',\n",
              "  'irgendwas',\n",
              "  'medi',\n",
              "  'recht',\n",
              "  'vag',\n",
              "  'stefan',\n",
              "  'niggemei',\n",
              "  'plant',\n",
              "  'jedenfall',\n",
              "  'deutsch',\n",
              "  'onlinemagazin',\n",
              "  'krautreport',\n",
              "  'verlasst',\n",
              "  'niggemei',\n",
              "  'herausgeb',\n",
              "  'initiator',\n",
              "  'kritisch',\n",
              "  'bild',\n",
              "  'blog',\n",
              "  'kundigt',\n",
              "  'neu',\n",
              "  'plattform',\n",
              "  'medienkrit',\n",
              "  'einbezieh',\n",
              "  'les',\n",
              "  'blog',\n",
              "  'schreibt',\n",
              "  'niggemei',\n",
              "  'projekt',\n",
              "  'krautreport',\n",
              "  'richtig',\n",
              "  'findet',\n",
              "  'umsetz',\n",
              "  'vorstell',\n",
              "  'verlief',\n",
              "  'grosst',\n",
              "  'einzeln',\n",
              "  'fehl',\n",
              "  'meinung',\n",
              "  'eig',\n",
              "  'softwar',\n",
              "  'programmi',\n",
              "  'lass',\n",
              "  'zeit',\n",
              "  'geld',\n",
              "  'nerv',\n",
              "  'gekostet',\n",
              "  'teilweis',\n",
              "  'richtig',\n",
              "  'funktioniert',\n",
              "  'zentral',\n",
              "  'probl',\n",
              "  'verortet',\n",
              "  'redaktionell',\n",
              "  'bereich',\n",
              "  'rot',\n",
              "  'fad',\n",
              "  'gefehlt',\n",
              "  'trieb',\n",
              "  'lust',\n",
              "  'neu',\n",
              "  'geschaftsmodell',\n",
              "  'auszuprobi',\n",
              "  'unbedingt',\n",
              "  'gemeinsam',\n",
              "  'redaktionell',\n",
              "  'ide',\n",
              "  'tat',\n",
              "  'schwer',\n",
              "  'defini',\n",
              "  'worub',\n",
              "  'bericht',\n",
              "  'niggemei',\n",
              "  'verliert',\n",
              "  'krautreport',\n",
              "  'bekannt',\n",
              "  'journalist',\n",
              "  'portal',\n",
              "  'wurd',\n",
              "  'jahr',\n",
              "  'erfolgreich',\n",
              "  'crowdfunding',\n",
              "  'tauf',\n",
              "  'gehob',\n",
              "  'finanzier',\n",
              "  'gelang',\n",
              "  'nachd',\n",
              "  'mitglied',\n",
              "  'jahresabo',\n",
              "  'euro',\n",
              "  'abschloss',\n",
              "  'krautreport',\n",
              "  'weitergeht',\n",
              "  'nach',\n",
              "  'woch',\n",
              "  'zeig',\n",
              "  'mitglied',\n",
              "  'muss',\n",
              "  'namlich',\n",
              "  'verlang',\n",
              "  'zweit',\n",
              "  'jahr',\n",
              "  'geh'],\n",
              " ['fest',\n",
              "  'redaktion',\n",
              "  'umwandl',\n",
              "  'genossenschaft',\n",
              "  'steht',\n",
              "  'kurz',\n",
              "  'bevor',\n",
              "  'berlin',\n",
              "  'wien',\n",
              "  'angesagt',\n",
              "  'revolution',\n",
              "  'verandert',\n",
              "  'form',\n",
              "  'fortgesetzt',\n",
              "  'krautreport',\n",
              "  'genossenschaft',\n",
              "  'umgewandelt',\n",
              "  'muss',\n",
              "  'gefund',\n",
              "  'einlag',\n",
              "  'zumind',\n",
              "  'euro',\n",
              "  'beteil',\n",
              "  'erst',\n",
              "  'zahl',\n",
              "  'erreicht',\n",
              "  'genossenschaft',\n",
              "  'eingetrag',\n",
              "  'daran',\n",
              "  'scheit',\n",
              "  'plattform',\n",
              "  'bish',\n",
              "  'gesellschaft',\n",
              "  'beschrankt',\n",
              "  'haftung',\n",
              "  'weitergefuhrt',\n",
              "  'mitglied',\n",
              "  'haft',\n",
              "  'hoh',\n",
              "  'einlag',\n",
              "  'besteht',\n",
              "  'unabhang',\n",
              "  'einlagenhoh',\n",
              "  'mitglied',\n",
              "  'stimm',\n",
              "  'erhalt',\n",
              "  'eingenomm',\n",
              "  'euro',\n",
              "  'soll',\n",
              "  'verwendet',\n",
              "  'besteh',\n",
              "  'portal',\n",
              "  'journalismus',\n",
              "  'crowdfunding',\n",
              "  'plattform',\n",
              "  'erweit',\n",
              "  'erst',\n",
              "  'jahr',\n",
              "  'besteh',\n",
              "  'krautreport',\n",
              "  'uneingeschrankt',\n",
              "  'zufried',\n",
              "  'text',\n",
              "  'bish',\n",
              "  'erschi',\n",
              "  'wenig',\n",
              "  'anfang',\n",
              "  'geplant',\n",
              "  'stefan',\n",
              "  'niggermei',\n",
              "  'kritisiert',\n",
              "  'austritt',\n",
              "  'kollektiv',\n",
              "  'fehlend',\n",
              "  'redaktionell',\n",
              "  'lini',\n",
              "  'geschaff',\n",
              "  'fest',\n",
              "  'redaktion',\n",
              "  'vorteil',\n",
              "  'mitgliedschaft',\n",
              "  'abseit',\n",
              "  'genossenschaft',\n",
              "  'soll',\n",
              "  'ausgebaut',\n",
              "  'planung',\n",
              "  'beispielsweis',\n",
              "  'mitglied',\n",
              "  'lauf',\n",
              "  'oktob',\n",
              "  'davon',\n",
              "  'ziel',\n",
              "  'gesetzt',\n",
              "  'soll',\n",
              "  'zumind',\n",
              "  'verlangert',\n",
              "  'eig',\n",
              "  'angab',\n",
              "  'benotigt',\n",
              "  'plattform',\n",
              "  'mindest',\n",
              "  'unterstutz',\n",
              "  'fortgefuhrt'],\n",
              " ['nachricht',\n",
              "  'drei',\n",
              "  'jahr',\n",
              "  'finanzier',\n",
              "  'gescheitert',\n",
              "  'york',\n",
              "  'news',\n",
              "  'circa',\n",
              "  'speziell',\n",
              "  'smartphon',\n",
              "  'drei',\n",
              "  'jahr',\n",
              "  'end',\n",
              "  'team',\n",
              "  'geld',\n",
              "  'ausgegang',\n",
              "  'betrieb',\n",
              "  'weit',\n",
              "  'eingestellt',\n",
              "  'erklart',\n",
              "  'mitgrund',\n",
              "  'matt',\n",
              "  'galligan',\n",
              "  'mittwoch',\n",
              "  'konzept',\n",
              "  'circa',\n",
              "  'klein',\n",
              "  'happch',\n",
              "  'runterzubrech',\n",
              "  'smartphon',\n",
              "  'bildschirm',\n",
              "  'pass',\n",
              "  'nutz',\n",
              "  'updat',\n",
              "  'aktuell',\n",
              "  'entwickl',\n",
              "  'laufend',\n",
              "  'halt',\n",
              "  'ide',\n",
              "  'mach',\n",
              "  'laut',\n",
              "  'medienbericht',\n",
              "  'rund',\n",
              "  'funf',\n",
              "  'million',\n",
              "  'dollar',\n",
              "  'investor',\n",
              "  'eingesammelt',\n",
              "  'mehr',\n",
              "  'etabliert',\n",
              "  'journalist',\n",
              "  'angeworb',\n",
              "  'circa',\n",
              "  'gelung',\n",
              "  'weit',\n",
              "  'investment',\n",
              "  'einzufadeln',\n",
              "  'bevor',\n",
              "  'ressourc',\n",
              "  'knapp',\n",
              "  'geword',\n",
              "  'seien',\n",
              "  'schrieb',\n",
              "  'galligan',\n",
              "  'blog',\n",
              "  'plattform',\n",
              "  'medium',\n",
              "  'hatt',\n",
              "  'versuch',\n",
              "  'werbung',\n",
              "  'gebuhr',\n",
              "  'rund',\n",
              "  'komm',\n",
              "  'raumt',\n",
              "  'hatt',\n",
              "  'vision',\n",
              "  'dien',\n",
              "  'widersproch',\n",
              "  'wohl',\n",
              "  'genug',\n",
              "  'eingebracht',\n",
              "  'sagt',\n",
              "  'galligan',\n",
              "  'circa',\n",
              "  'bereit',\n",
              "  'seit',\n",
              "  'montag',\n",
              "  'mehr',\n",
              "  'veroffentlicht'],\n",
              " ['news',\n",
              "  'interess',\n",
              "  'les',\n",
              "  'ausgeliefert',\n",
              "  'wien',\n",
              "  'london',\n",
              "  'britisch',\n",
              "  'bringt',\n",
              "  'neu',\n",
              "  'international',\n",
              "  'news',\n",
              "  'android',\n",
              "  'auf',\n",
              "  'handy',\n",
              "  'ansatz',\n",
              "  'soll',\n",
              "  'nachricht',\n",
              "  'praferenz',\n",
              "  'les',\n",
              "  'lief',\n",
              "  'biet',\n",
              "  'kombination',\n",
              "  'stori',\n",
              "  'meist',\n",
              "  'geles',\n",
              "  'geschicht',\n",
              "  'person',\n",
              "  'ausgewahlt',\n",
              "  'empfohl',\n",
              "  'them',\n",
              "  'gebiet',\n",
              "  'bereich',\n",
              "  'news',\n",
              "  'gelang',\n",
              "  'les',\n",
              "  'geschicht',\n",
              "  'meist',\n",
              "  'interessi',\n",
              "  'konnt',\n",
              "  'anhand',\n",
              "  'list',\n",
              "  'basier',\n",
              "  'geles',\n",
              "  'artikel',\n",
              "  'eingab',\n",
              "  'suchfeld',\n",
              "  'benutz',\n",
              "  'them',\n",
              "  'innerhalb',\n",
              "  'artikel',\n",
              "  'folg',\n",
              "  'wirklich',\n",
              "  'person',\n",
              "  'servic',\n",
              "  'schaff',\n",
              "  'geschicht',\n",
              "  'themat',\n",
              "  'chronolog',\n",
              "  'geordnet',\n",
              "  'heisst',\n",
              "  'aussend',\n",
              "  'seit',\n",
              "  'start',\n",
              "  'freitag',\n",
              "  'bereit',\n",
              "  'million',\n",
              "  'heruntergelad',\n",
              "  'word',\n",
              "  'laut',\n",
              "  'konsumi',\n",
              "  'mittlerweil',\n",
              "  'prozent',\n",
              "  'nutz',\n",
              "  'news',\n",
              "  'smartphon',\n",
              "  'tablet',\n",
              "  'erst',\n",
              "  'prozent']]"
            ]
          },
          "metadata": {},
          "execution_count": 13
        }
      ]
    },
    {
      "cell_type": "markdown",
      "metadata": {
        "id": "T8LndhI5mAGP"
      },
      "source": [
        "## Setting Up The Dictionary\n",
        "\n",
        "Our preprocessing is complete.\n",
        "\n",
        "We now need to calculate the occurance frequencies of each of our stemmed words. But first, we will create a vocabulary dictionary where every word appears once. Every article would be represented as a [bag-of-words](https://en.wikipedia.org/wiki/Bag-of-words_model), an unordered set of words that the article contain.\n",
        "\n",
        "---\n",
        "\n",
        "Q: Why is it called bag-of-words?\n",
        "\n",
        "Hint: Think about your probability lessons - where you had randomly picked out white or black balls out of a bag...\n",
        "\n",
        "My guess: Well, the order is lost in the bag-of-words approach, so we can image it like a bag per article in which we throw all the words of that article, with their respective frequency. Then we could imagine to randomly pick a word out of the article-bag and the probability of picking that word would be its frequency divided by all the words (again, including duplicates)."
      ]
    },
    {
      "cell_type": "code",
      "metadata": {
        "id": "pj6CI60KlF0N",
        "colab": {
          "base_uri": "https://localhost:8080/"
        },
        "outputId": "91a8c70e-8eab-4991-ed8f-f97a8ec0c969"
      },
      "source": [
        "dictionary = corpora.Dictionary(processed_docs)\n"
      ],
      "execution_count": null,
      "outputs": [
        {
          "output_type": "stream",
          "name": "stderr",
          "text": [
            "/usr/local/lib/python3.10/dist-packages/ipykernel/ipkernel.py:283: DeprecationWarning: `should_run_async` will not call `transform_cell` automatically in the future. Please pass the result to `transformed_cell` argument and any exception that happen during thetransform in `preprocessing_exc_tuple` in IPython 7.17 and above.\n",
            "  and should_run_async(code)\n"
          ]
        }
      ]
    },
    {
      "cell_type": "markdown",
      "metadata": {
        "id": "KiaCJuuXmkDV"
      },
      "source": [
        "Let's take a look:"
      ]
    },
    {
      "cell_type": "code",
      "metadata": {
        "id": "F0DJqlhimfns",
        "outputId": "c7b13a3a-e576-40cb-c203-de9deb772a1c",
        "colab": {
          "base_uri": "https://localhost:8080/"
        }
      },
      "source": [
        "for idx, (k, v) in enumerate(dictionary.iteritems()):\n",
        "    print(k, v)\n",
        "    if idx >= 10:\n",
        "        break\n",
        "\n",
        "\n",
        "### BTW: `enumerate` is a great python function!\n",
        "### It automatically creates an index, an auto-incremented counter variable,\n",
        "### that represents the position of every object in the collection.\n",
        "\n",
        "### Read more about it here: https://realpython.com/python-enumerate/"
      ],
      "execution_count": null,
      "outputs": [
        {
          "output_type": "stream",
          "name": "stdout",
          "text": [
            "0 ahnlich\n",
            "1 angemahnt\n",
            "2 anteil\n",
            "3 august\n",
            "4 ausseh\n",
            "5 chefin\n",
            "6 christin\n",
            "7 degeto\n",
            "8 diskuti\n",
            "9 einfuhr\n",
            "10 fernsehfilm\n"
          ]
        },
        {
          "output_type": "stream",
          "name": "stderr",
          "text": [
            "/usr/local/lib/python3.10/dist-packages/ipykernel/ipkernel.py:283: DeprecationWarning: `should_run_async` will not call `transform_cell` automatically in the future. Please pass the result to `transformed_cell` argument and any exception that happen during thetransform in `preprocessing_exc_tuple` in IPython 7.17 and above.\n",
            "  and should_run_async(code)\n"
          ]
        }
      ]
    },
    {
      "cell_type": "markdown",
      "metadata": {
        "id": "XLT9Y9LImtv_"
      },
      "source": [
        "Second, we filter the tokens that may appear to often.\n",
        "\n",
        "We have full control on the process."
      ]
    },
    {
      "cell_type": "markdown",
      "metadata": {
        "id": "8LtlVAJEa6vp"
      },
      "source": [
        "### Model Hyperparameter tuning"
      ]
    },
    {
      "cell_type": "markdown",
      "source": [
        "### Your Turn:\n",
        "#### Exercise 1 - Hyperparameter effect on the model output:\n",
        "**Q:** How would changing these parameters influence the result?  \n",
        "After running this example, please return here to change them and try them out."
      ],
      "metadata": {
        "id": "yHsgesK9dW7j"
      }
    },
    {
      "cell_type": "code",
      "metadata": {
        "id": "KSwEk-wcBKEg",
        "colab": {
          "base_uri": "https://localhost:8080/"
        },
        "outputId": "ad65cb71-dff8-43da-c124-8a149f16b74f"
      },
      "source": [
        "## Model hyper parameters:\n",
        "\n",
        "## These are the dictionary preparation parameters:\n",
        "filter_tokens_if_container_documents_are_less_than = 15\n",
        "filter_tokens_if_appeared_percentage_more_than = 0.5\n",
        "keep_the_first_n_tokens=100000\n",
        "\n",
        "## and the LDA Parameters:\n",
        "num_of_topics = 10"
      ],
      "execution_count": null,
      "outputs": [
        {
          "output_type": "stream",
          "name": "stderr",
          "text": [
            "/usr/local/lib/python3.10/dist-packages/ipykernel/ipkernel.py:283: DeprecationWarning: `should_run_async` will not call `transform_cell` automatically in the future. Please pass the result to `transformed_cell` argument and any exception that happen during thetransform in `preprocessing_exc_tuple` in IPython 7.17 and above.\n",
            "  and should_run_async(code)\n"
          ]
        }
      ]
    },
    {
      "cell_type": "code",
      "metadata": {
        "id": "zelcg-UUmiVx",
        "colab": {
          "base_uri": "https://localhost:8080/"
        },
        "outputId": "4e122904-f2d9-4a08-d1ee-f8df839f3def"
      },
      "source": [
        "dictionary.filter_extremes(\n",
        "    no_below=filter_tokens_if_container_documents_are_less_than,\n",
        "    no_above=filter_tokens_if_appeared_percentage_more_than,\n",
        "    keep_n=keep_the_first_n_tokens)\n"
      ],
      "execution_count": null,
      "outputs": [
        {
          "output_type": "stream",
          "name": "stderr",
          "text": [
            "/usr/local/lib/python3.10/dist-packages/ipykernel/ipkernel.py:283: DeprecationWarning: `should_run_async` will not call `transform_cell` automatically in the future. Please pass the result to `transformed_cell` argument and any exception that happen during thetransform in `preprocessing_exc_tuple` in IPython 7.17 and above.\n",
            "  and should_run_async(code)\n"
          ]
        }
      ]
    },
    {
      "cell_type": "markdown",
      "metadata": {
        "id": "EsknGryxnx0X"
      },
      "source": [
        "We now create a [bag-of-words](https://en.wikipedia.org/wiki/Bag-of-words_model) (BOW) dictionary for each document, using [gensim's dictionary](https://radimrehurek.com/gensim/corpora/dictionary.html) tool.\n",
        "\n",
        "It will be in the format of:\n",
        "\n",
        "```{ 'word_id': count }```\n"
      ]
    },
    {
      "cell_type": "code",
      "metadata": {
        "id": "u1CsbhJcntUW",
        "colab": {
          "base_uri": "https://localhost:8080/"
        },
        "outputId": "19f734f4-5143-432c-b5d5-0170a20e54a1"
      },
      "source": [
        "bow_corpus = [dictionary.doc2bow(doc) for doc in processed_docs]"
      ],
      "execution_count": null,
      "outputs": [
        {
          "output_type": "stream",
          "name": "stderr",
          "text": [
            "/usr/local/lib/python3.10/dist-packages/ipykernel/ipkernel.py:283: DeprecationWarning: `should_run_async` will not call `transform_cell` automatically in the future. Please pass the result to `transformed_cell` argument and any exception that happen during thetransform in `preprocessing_exc_tuple` in IPython 7.17 and above.\n",
            "  and should_run_async(code)\n"
          ]
        }
      ]
    },
    {
      "cell_type": "markdown",
      "metadata": {
        "id": "RmHQyMKXokyq"
      },
      "source": [
        "Let's take a look at the result.\n",
        "\n",
        "Our corpus contains now only word_ids, not the words themselves, so we have to peek into the dictionary to know which word that id represents:"
      ]
    },
    {
      "cell_type": "code",
      "metadata": {
        "id": "dD6n6MNnoSBH",
        "outputId": "1551d815-e20a-4037-b785-67f4fa283656",
        "colab": {
          "base_uri": "https://localhost:8080/"
        }
      },
      "source": [
        "# randomly choose an article from the corpus:\n",
        "sample_bow_doc = choice(bow_corpus)\n",
        "\n",
        "print('The processed bag-of-word document is just pairs of (word_id, # of occurnces) and looks like this:')\n",
        "print(sample_bow_doc, '\\n\\n')\n",
        "\n",
        "print ('We peek in the dictionary: for each word_id, we get its assigned word:')\n",
        "for word_id, word_freq in sample_bow_doc:\n",
        "  real_word = dictionary[word_id]\n",
        "  print(f'Word #{word_id} (\"{real_word}\") appears {word_freq} time.')\n"
      ],
      "execution_count": null,
      "outputs": [
        {
          "output_type": "stream",
          "name": "stdout",
          "text": [
            "The processed bag-of-word document is just pairs of (word_id, # of occurnces) and looks like this:\n",
            "[(14, 1), (30, 1), (31, 1), (32, 1), (35, 1), (40, 1), (48, 1), (52, 1), (79, 3), (102, 1), (104, 2), (106, 1), (110, 1), (117, 2), (123, 1), (144, 1), (193, 1), (211, 1), (218, 1), (219, 1), (245, 1), (258, 1), (271, 1), (315, 1), (325, 1), (333, 1), (343, 1), (366, 2), (372, 1), (392, 1), (400, 1), (413, 1), (423, 1), (441, 2), (442, 2), (451, 1), (558, 1), (571, 1), (589, 1), (606, 1), (619, 2), (631, 1), (635, 1), (638, 1), (639, 1), (647, 3), (665, 1), (683, 1), (696, 1), (719, 1), (751, 6), (762, 1), (788, 2), (813, 2), (833, 1), (869, 1), (918, 2), (961, 1), (969, 1), (977, 1), (996, 1), (1013, 2), (1019, 1), (1062, 1), (1063, 1), (1067, 3), (1083, 1), (1126, 1), (1134, 1), (1168, 1), (1348, 1), (1420, 1), (1454, 1), (1505, 1), (1509, 1), (1571, 1), (1666, 1), (1674, 1), (1677, 1), (1689, 1), (1701, 1), (1734, 1), (1776, 1), (1826, 2), (1884, 1), (2025, 1), (2032, 1), (2097, 1), (2116, 1), (2209, 1), (2364, 3), (2375, 1), (2500, 1), (2511, 1), (2593, 1), (2619, 1), (2922, 1), (2923, 4), (2943, 1), (2977, 2), (3117, 1), (3125, 1), (3160, 1), (3469, 1), (3487, 1), (3604, 1), (3736, 1), (4124, 1), (4247, 1), (4248, 1), (4425, 1), (4504, 1), (4617, 1), (4621, 1), (4745, 1), (4765, 1), (4877, 1), (4936, 2), (5065, 1), (5117, 3), (5166, 1), (5434, 5), (5466, 2), (5786, 1), (6031, 1), (6196, 2), (8651, 1), (8985, 1), (9121, 1), (9363, 1), (9545, 1)] \n",
            "\n",
            "\n",
            "We peek in the dictionary: for each word_id, we get its assigned word:\n",
            "Word #14 (\"fuhr\") appears 1 time.\n",
            "Word #30 (\"rund\") appears 1 time.\n",
            "Word #31 (\"seien\") appears 1 time.\n",
            "Word #32 (\"seit\") appears 1 time.\n",
            "Word #35 (\"situation\") appears 1 time.\n",
            "Word #40 (\"tocht\") appears 1 time.\n",
            "Word #48 (\"bereich\") appears 1 time.\n",
            "Word #52 (\"geplant\") appears 1 time.\n",
            "Word #79 (\"derzeit\") appears 3 time.\n",
            "Word #102 (\"laut\") appears 1 time.\n",
            "Word #104 (\"mitarbeit\") appears 2 time.\n",
            "Word #106 (\"muss\") appears 1 time.\n",
            "Word #110 (\"pet\") appears 1 time.\n",
            "Word #117 (\"sagt\") appears 2 time.\n",
            "Word #123 (\"standard\") appears 1 time.\n",
            "Word #144 (\"wien\") appears 1 time.\n",
            "Word #193 (\"neu\") appears 1 time.\n",
            "Word #211 (\"viel\") appears 1 time.\n",
            "Word #218 (\"zeitung\") appears 1 time.\n",
            "Word #219 (\"beim\") appears 1 time.\n",
            "Word #245 (\"euro\") appears 1 time.\n",
            "Word #258 (\"geschaftsmodell\") appears 1 time.\n",
            "Word #271 (\"nach\") appears 1 time.\n",
            "Word #315 (\"bevor\") appears 1 time.\n",
            "Word #325 (\"erst\") appears 1 time.\n",
            "Word #333 (\"geschaff\") appears 1 time.\n",
            "Word #343 (\"lini\") appears 1 time.\n",
            "Word #366 (\"bereit\") appears 2 time.\n",
            "Word #372 (\"drei\") appears 1 time.\n",
            "Word #392 (\"komm\") appears 1 time.\n",
            "Word #400 (\"montag\") appears 1 time.\n",
            "Word #413 (\"weit\") appears 1 time.\n",
            "Word #423 (\"ausgewahlt\") appears 1 time.\n",
            "Word #441 (\"international\") appears 2 time.\n",
            "Word #442 (\"konnt\") appears 2 time.\n",
            "Word #451 (\"start\") appears 1 time.\n",
            "Word #558 (\"milliard\") appears 1 time.\n",
            "Word #571 (\"arbeit\") appears 1 time.\n",
            "Word #589 (\"fall\") appears 1 time.\n",
            "Word #606 (\"gut\") appears 1 time.\n",
            "Word #619 (\"monat\") appears 2 time.\n",
            "Word #631 (\"region\") appears 1 time.\n",
            "Word #635 (\"russland\") appears 1 time.\n",
            "Word #638 (\"schon\") appears 1 time.\n",
            "Word #639 (\"schwierig\") appears 1 time.\n",
            "Word #647 (\"ukrain\") appears 3 time.\n",
            "Word #665 (\"fortsetz\") appears 1 time.\n",
            "Word #683 (\"zeigt\") appears 1 time.\n",
            "Word #696 (\"durft\") appears 1 time.\n",
            "Word #719 (\"anbiet\") appears 1 time.\n",
            "Word #751 (\"bank\") appears 6 time.\n",
            "Word #762 (\"bring\") appears 1 time.\n",
            "Word #788 (\"gesprach\") appears 2 time.\n",
            "Word #813 (\"kund\") appears 2 time.\n",
            "Word #833 (\"partn\") appears 1 time.\n",
            "Word #869 (\"wann\") appears 1 time.\n",
            "Word #918 (\"unklar\") appears 2 time.\n",
            "Word #961 (\"entsprech\") appears 1 time.\n",
            "Word #969 (\"gemacht\") appears 1 time.\n",
            "Word #977 (\"lang\") appears 1 time.\n",
            "Word #996 (\"sag\") appears 1 time.\n",
            "Word #1013 (\"aktiv\") appears 2 time.\n",
            "Word #1019 (\"gestellt\") appears 1 time.\n",
            "Word #1062 (\"ebenfall\") appears 1 time.\n",
            "Word #1063 (\"erlaubt\") appears 1 time.\n",
            "Word #1067 (\"geschaft\") appears 3 time.\n",
            "Word #1083 (\"eingefuhrt\") appears 1 time.\n",
            "Word #1126 (\"polit\") appears 1 time.\n",
            "Word #1134 (\"stark\") appears 1 time.\n",
            "Word #1168 (\"erwartet\") appears 1 time.\n",
            "Word #1348 (\"hoch\") appears 1 time.\n",
            "Word #1420 (\"zieh\") appears 1 time.\n",
            "Word #1454 (\"dau\") appears 1 time.\n",
            "Word #1505 (\"frank\") appears 1 time.\n",
            "Word #1509 (\"schweiz\") appears 1 time.\n",
            "Word #1571 (\"eroffnet\") appears 1 time.\n",
            "Word #1666 (\"heimisch\") appears 1 time.\n",
            "Word #1674 (\"nenn\") appears 1 time.\n",
            "Word #1677 (\"russisch\") appears 1 time.\n",
            "Word #1689 (\"wahrschein\") appears 1 time.\n",
            "Word #1701 (\"diskussion\") appears 1 time.\n",
            "Word #1734 (\"zustand\") appears 1 time.\n",
            "Word #1776 (\"ausgab\") appears 1 time.\n",
            "Word #1826 (\"notwend\") appears 2 time.\n",
            "Word #1884 (\"lag\") appears 1 time.\n",
            "Word #2025 (\"beschreibt\") appears 1 time.\n",
            "Word #2032 (\"intensiv\") appears 1 time.\n",
            "Word #2097 (\"grundsatz\") appears 1 time.\n",
            "Word #2116 (\"voraussetz\") appears 1 time.\n",
            "Word #2209 (\"gestartet\") appears 1 time.\n",
            "Word #2364 (\"verkauf\") appears 3 time.\n",
            "Word #2375 (\"auswirk\") appears 1 time.\n",
            "Word #2500 (\"interessiert\") appears 1 time.\n",
            "Word #2511 (\"bewert\") appears 1 time.\n",
            "Word #2593 (\"konflikt\") appears 1 time.\n",
            "Word #2619 (\"vorbereit\") appears 1 time.\n",
            "Word #2922 (\"volum\") appears 1 time.\n",
            "Word #2923 (\"vorstand\") appears 4 time.\n",
            "Word #2943 (\"zeitplan\") appears 1 time.\n",
            "Word #2977 (\"quartal\") appears 2 time.\n",
            "Word #3117 (\"beendet\") appears 1 time.\n",
            "Word #3125 (\"dritt\") appears 1 time.\n",
            "Word #3160 (\"negativ\") appears 1 time.\n",
            "Word #3469 (\"strateg\") appears 1 time.\n",
            "Word #3487 (\"eroffn\") appears 1 time.\n",
            "Word #3604 (\"getroff\") appears 1 time.\n",
            "Word #3736 (\"trend\") appears 1 time.\n",
            "Word #4124 (\"anlauf\") appears 1 time.\n",
            "Word #4247 (\"pol\") appears 1 time.\n",
            "Word #4248 (\"polnisch\") appears 1 time.\n",
            "Word #4425 (\"bors\") appears 1 time.\n",
            "Word #4504 (\"grossbank\") appears 1 time.\n",
            "Word #4617 (\"geschloss\") appears 1 time.\n",
            "Word #4621 (\"kommenti\") appears 1 time.\n",
            "Word #4745 (\"ruhig\") appears 1 time.\n",
            "Word #4765 (\"fokussiert\") appears 1 time.\n",
            "Word #4877 (\"optimist\") appears 1 time.\n",
            "Word #4936 (\"raiffeis\") appears 2 time.\n",
            "Word #5065 (\"ganzlich\") appears 1 time.\n",
            "Word #5117 (\"filial\") appears 3 time.\n",
            "Word #5166 (\"zuruckgezog\") appears 1 time.\n",
            "Word #5434 (\"iran\") appears 5 time.\n",
            "Word #5466 (\"teheran\") appears 2 time.\n",
            "Word #5786 (\"dato\") appears 1 time.\n",
            "Word #6031 (\"portfolio\") appears 1 time.\n",
            "Word #6196 (\"sanktion\") appears 2 time.\n",
            "Word #8651 (\"robust\") appears 1 time.\n",
            "Word #8985 (\"krim\") appears 1 time.\n",
            "Word #9121 (\"erzwung\") appears 1 time.\n",
            "Word #9363 (\"donbass\") appears 1 time.\n",
            "Word #9545 (\"swift\") appears 1 time.\n"
          ]
        },
        {
          "output_type": "stream",
          "name": "stderr",
          "text": [
            "/usr/local/lib/python3.10/dist-packages/ipykernel/ipkernel.py:283: DeprecationWarning: `should_run_async` will not call `transform_cell` automatically in the future. Please pass the result to `transformed_cell` argument and any exception that happen during thetransform in `preprocessing_exc_tuple` in IPython 7.17 and above.\n",
            "  and should_run_async(code)\n"
          ]
        }
      ]
    },
    {
      "cell_type": "markdown",
      "metadata": {
        "id": "jdEpXnWNrR4H"
      },
      "source": [
        "## LDA model using Bag-of-words\n",
        "\n",
        "Let's start by applying the LDA model using the bag-of-words (Warning: this could take a while):"
      ]
    },
    {
      "cell_type": "code",
      "metadata": {
        "id": "84CchtGap73H",
        "colab": {
          "base_uri": "https://localhost:8080/"
        },
        "outputId": "81e9787d-be6c-4e46-e5ac-3dc9f3a8a20b"
      },
      "source": [
        "lda_model = models.LdaMulticore(bow_corpus,\n",
        "                                num_topics=num_of_topics,\n",
        "                                id2word=dictionary,\n",
        "                                passes=5,\n",
        "                                workers=2)"
      ],
      "execution_count": null,
      "outputs": [
        {
          "output_type": "stream",
          "name": "stderr",
          "text": [
            "/usr/local/lib/python3.10/dist-packages/ipykernel/ipkernel.py:283: DeprecationWarning: `should_run_async` will not call `transform_cell` automatically in the future. Please pass the result to `transformed_cell` argument and any exception that happen during thetransform in `preprocessing_exc_tuple` in IPython 7.17 and above.\n",
            "  and should_run_async(code)\n"
          ]
        }
      ]
    },
    {
      "cell_type": "markdown",
      "metadata": {
        "id": "oqm3NWaGrYzC"
      },
      "source": [
        "It is done!\n",
        "\n",
        "Now we can observe which topics the model had extracted from the documents.\n",
        "\n",
        "- *Topics* are made of sets of words and their distribution for that topic, representing their weight in that topic.\n",
        "- Every document may be composed of multiple topics, with different weights representing the relation to each topics.\n",
        "\n",
        "We will loop over the extracted topics and examine the words that construct them."
      ]
    },
    {
      "cell_type": "code",
      "metadata": {
        "id": "N83rLkRRrYYz",
        "outputId": "d31a4d0d-c23f-4b32-c810-150c53ed20e9",
        "colab": {
          "base_uri": "https://localhost:8080/"
        }
      },
      "source": [
        "for idx, topic in lda_model.print_topics(num_of_topics):\n",
        "    print(f'Topic: {idx} \\t Words: {topic}')\n"
      ],
      "execution_count": null,
      "outputs": [
        {
          "output_type": "stream",
          "name": "stdout",
          "text": [
            "Topic: 0 \t Words: 0.008*\"polit\" + 0.008*\"sagt\" + 0.007*\"standard\" + 0.006*\"wien\" + 0.005*\"grun\" + 0.005*\"partei\" + 0.005*\"land\" + 0.005*\"regier\" + 0.004*\"wahl\" + 0.004*\"seit\"\n",
            "Topic: 1 \t Words: 0.032*\"prozent\" + 0.016*\"osterreich\" + 0.014*\"jahr\" + 0.007*\"euro\" + 0.007*\"standard\" + 0.006*\"wenig\" + 0.006*\"land\" + 0.006*\"hoh\" + 0.005*\"zahl\" + 0.005*\"wien\"\n",
            "Topic: 2 \t Words: 0.020*\"euro\" + 0.013*\"wien\" + 0.010*\"million\" + 0.009*\"jahr\" + 0.007*\"prozent\" + 0.006*\"unternehm\" + 0.006*\"neu\" + 0.006*\"osterreich\" + 0.006*\"rund\" + 0.005*\"seit\"\n",
            "Topic: 3 \t Words: 0.009*\"jahr\" + 0.006*\"wien\" + 0.006*\"erst\" + 0.006*\"gross\" + 0.005*\"schon\" + 0.004*\"sagt\" + 0.004*\"lang\" + 0.004*\"imm\" + 0.004*\"ganz\" + 0.004*\"forsch\"\n",
            "Topic: 4 \t Words: 0.010*\"spiel\" + 0.009*\"erst\" + 0.006*\"forsch\" + 0.005*\"salzburg\" + 0.004*\"wien\" + 0.004*\"zwei\" + 0.004*\"jahr\" + 0.004*\"rapid\" + 0.004*\"schon\" + 0.004*\"konnt\"\n",
            "Topic: 5 \t Words: 0.010*\"neu\" + 0.006*\"sagt\" + 0.006*\"griechenland\" + 0.005*\"nutz\" + 0.005*\"appl\" + 0.004*\"soll\" + 0.004*\"bereit\" + 0.004*\"griechisch\" + 0.004*\"euro\" + 0.004*\"googl\"\n",
            "Topic: 6 \t Words: 0.018*\"fluchtling\" + 0.010*\"mensch\" + 0.008*\"grenz\" + 0.008*\"sagt\" + 0.007*\"ukrain\" + 0.006*\"russisch\" + 0.006*\"russland\" + 0.006*\"deutschland\" + 0.006*\"grund\" + 0.005*\"osterreich\"\n",
            "Topic: 7 \t Words: 0.006*\"erst\" + 0.006*\"spiel\" + 0.005*\"seit\" + 0.005*\"israel\" + 0.005*\"sagt\" + 0.005*\"jahr\" + 0.004*\"minut\" + 0.004*\"zwei\" + 0.004*\"beim\" + 0.004*\"leagu\"\n",
            "Topic: 8 \t Words: 0.010*\"word\" + 0.010*\"jahr\" + 0.009*\"sagt\" + 0.007*\"jahrig\" + 0.007*\"polizei\" + 0.007*\"mann\" + 0.006*\"weg\" + 0.006*\"wien\" + 0.006*\"frau\" + 0.005*\"zwei\"\n",
            "Topic: 9 \t Words: 0.013*\"jahr\" + 0.009*\"dollar\" + 0.008*\"prozent\" + 0.008*\"sagt\" + 0.008*\"china\" + 0.006*\"erst\" + 0.006*\"seit\" + 0.006*\"unternehm\" + 0.006*\"neu\" + 0.006*\"land\"\n"
          ]
        },
        {
          "output_type": "stream",
          "name": "stderr",
          "text": [
            "/usr/local/lib/python3.10/dist-packages/ipykernel/ipkernel.py:283: DeprecationWarning: `should_run_async` will not call `transform_cell` automatically in the future. Please pass the result to `transformed_cell` argument and any exception that happen during thetransform in `preprocessing_exc_tuple` in IPython 7.17 and above.\n",
            "  and should_run_async(code)\n"
          ]
        }
      ]
    },
    {
      "cell_type": "markdown",
      "metadata": {
        "id": "CgCkLEelplF8"
      },
      "source": [
        "## TF / IDF\n",
        "\n",
        "Let's take it one step further. We will cluster our document by running the LDA using [TF/IDF](https://en.wikipedia.org/wiki/Tf%E2%80%93idf).\n",
        "\n",
        "We start with TF/IDF calculation on our bag-of-words.\n",
        "TF/IDF accepts a dictionary of word frequencies as an input, and it calculates the term frequency and the inversed document frequency accordingly.\n",
        "\n",
        "Its output is a re-weighted dictionary of the documents term frequencies:"
      ]
    },
    {
      "cell_type": "code",
      "metadata": {
        "id": "Xhj6Df56os0j",
        "outputId": "d4b696af-ef6d-440a-c927-76d3e5edaeaf",
        "colab": {
          "base_uri": "https://localhost:8080/"
        }
      },
      "source": [
        "# initialize a tfidf from our corpus\n",
        "tfidf = models.TfidfModel(bow_corpus)\n",
        "\n",
        "# apply it on our corpus\n",
        "tfidf_corpus = tfidf[bow_corpus]\n",
        "\n",
        "pprint(tfidf_corpus[0][:10])"
      ],
      "execution_count": null,
      "outputs": [
        {
          "output_type": "stream",
          "name": "stderr",
          "text": [
            "/usr/local/lib/python3.10/dist-packages/ipykernel/ipkernel.py:283: DeprecationWarning: `should_run_async` will not call `transform_cell` automatically in the future. Please pass the result to `transformed_cell` argument and any exception that happen during thetransform in `preprocessing_exc_tuple` in IPython 7.17 and above.\n",
            "  and should_run_async(code)\n"
          ]
        },
        {
          "output_type": "stream",
          "name": "stdout",
          "text": [
            "[(0, 0.07624324224596976),\n",
            " (1, 0.09765147703315807),\n",
            " (2, 0.17806134714371552),\n",
            " (3, 0.12554321379384176),\n",
            " (4, 0.12114843374003081),\n",
            " (5, 0.14917128474504127),\n",
            " (6, 0.11948454964321391),\n",
            " (7, 0.10815383759404282),\n",
            " (8, 0.19221567840914694),\n",
            " (9, 0.0625612949812136)]\n"
          ]
        }
      ]
    },
    {
      "cell_type": "code",
      "source": [
        "# the new tfidf corpus is just our corpus - but transformed. It has the same size of documents:\n",
        "assert len(bow_corpus) == len(tfidf_corpus)"
      ],
      "metadata": {
        "id": "OdllL8StNLm2",
        "colab": {
          "base_uri": "https://localhost:8080/"
        },
        "outputId": "5b995513-4376-406c-cf8a-3189c42276e0"
      },
      "execution_count": null,
      "outputs": [
        {
          "output_type": "stream",
          "name": "stderr",
          "text": [
            "/usr/local/lib/python3.10/dist-packages/ipykernel/ipkernel.py:283: DeprecationWarning: `should_run_async` will not call `transform_cell` automatically in the future. Please pass the result to `transformed_cell` argument and any exception that happen during thetransform in `preprocessing_exc_tuple` in IPython 7.17 and above.\n",
            "  and should_run_async(code)\n"
          ]
        }
      ]
    },
    {
      "cell_type": "markdown",
      "metadata": {
        "id": "UZ-9a3gcsYts"
      },
      "source": [
        "Now let's apply LDA on the tfidf corpus, with the same amount of topics.\n",
        "\n",
        "You can play with the # of passes, if the model doesn't converge properly"
      ]
    },
    {
      "cell_type": "code",
      "metadata": {
        "id": "ihxND83irVSf",
        "outputId": "e45e4db0-789e-4524-f091-c6412638505e",
        "colab": {
          "base_uri": "https://localhost:8080/"
        }
      },
      "source": [
        "lda_model_tfidf = models.LdaMulticore(tfidf_corpus,\n",
        "                                      num_topics=num_of_topics,\n",
        "                                      id2word=dictionary,\n",
        "                                      passes=5,\n",
        "                                      workers=4)"
      ],
      "execution_count": null,
      "outputs": [
        {
          "output_type": "stream",
          "name": "stderr",
          "text": [
            "/usr/local/lib/python3.10/dist-packages/ipykernel/ipkernel.py:283: DeprecationWarning: `should_run_async` will not call `transform_cell` automatically in the future. Please pass the result to `transformed_cell` argument and any exception that happen during thetransform in `preprocessing_exc_tuple` in IPython 7.17 and above.\n",
            "  and should_run_async(code)\n",
            "WARNING:gensim.models.ldamulticore:too few updates, training might not converge; consider increasing the number of passes or iterations to improve accuracy\n"
          ]
        }
      ]
    },
    {
      "cell_type": "code",
      "source": [
        "for idx, topic in lda_model_tfidf.print_topics(num_of_topics):\n",
        "    print(f'Topic: {idx} \\t Word: {topic}')"
      ],
      "metadata": {
        "id": "adACX8kGihtG",
        "outputId": "d9141f3c-808d-4b99-dd5a-82465383045a",
        "colab": {
          "base_uri": "https://localhost:8080/"
        }
      },
      "execution_count": null,
      "outputs": [
        {
          "output_type": "stream",
          "name": "stdout",
          "text": [
            "Topic: 0 \t Word: 0.005*\"prozent\" + 0.004*\"zielpunkt\" + 0.003*\"euro\" + 0.003*\"unternehm\" + 0.002*\"million\" + 0.002*\"pfeiff\" + 0.002*\"dollar\" + 0.002*\"forsch\" + 0.002*\"bank\" + 0.002*\"wien\"\n",
            "Topic: 1 \t Word: 0.003*\"euro\" + 0.002*\"prozent\" + 0.002*\"europa\" + 0.002*\"million\" + 0.002*\"kommission\" + 0.002*\"osterreich\" + 0.002*\"jahr\" + 0.002*\"milliard\" + 0.002*\"konz\" + 0.002*\"unternehm\"\n",
            "Topic: 2 \t Word: 0.003*\"fluchtling\" + 0.003*\"griechenland\" + 0.002*\"griechisch\" + 0.002*\"word\" + 0.002*\"regier\" + 0.002*\"ath\" + 0.002*\"sagt\" + 0.002*\"mensch\" + 0.002*\"land\" + 0.002*\"euro\"\n",
            "Topic: 3 \t Word: 0.015*\"volltext\" + 0.014*\"basier\" + 0.012*\"artikel\" + 0.011*\"rechtlich\" + 0.009*\"verfug\" + 0.008*\"grund\" + 0.007*\"steht\" + 0.003*\"prozent\" + 0.003*\"euro\" + 0.002*\"forsch\"\n",
            "Topic: 4 \t Word: 0.004*\"prozent\" + 0.003*\"euro\" + 0.002*\"milliard\" + 0.002*\"osterreich\" + 0.002*\"million\" + 0.002*\"unternehm\" + 0.002*\"wien\" + 0.001*\"jahr\" + 0.001*\"neu\" + 0.001*\"rapid\"\n",
            "Topic: 5 \t Word: 0.004*\"prozent\" + 0.003*\"euro\" + 0.002*\"tsipras\" + 0.002*\"ath\" + 0.002*\"griechenland\" + 0.002*\"milliard\" + 0.002*\"forsch\" + 0.002*\"griechisch\" + 0.002*\"wien\" + 0.002*\"europa\"\n",
            "Topic: 6 \t Word: 0.002*\"prozent\" + 0.002*\"wien\" + 0.002*\"standard\" + 0.002*\"osterreich\" + 0.001*\"spiel\" + 0.001*\"euro\" + 0.001*\"jahr\" + 0.001*\"neu\" + 0.001*\"erst\" + 0.001*\"gross\"\n",
            "Topic: 7 \t Word: 0.006*\"prozent\" + 0.003*\"euro\" + 0.002*\"griechisch\" + 0.002*\"osterreich\" + 0.002*\"oecd\" + 0.002*\"streik\" + 0.002*\"milliard\" + 0.002*\"telekom\" + 0.002*\"verdi\" + 0.002*\"wachstum\"\n",
            "Topic: 8 \t Word: 0.004*\"prozent\" + 0.003*\"lufthansa\" + 0.003*\"euro\" + 0.002*\"million\" + 0.002*\"forsch\" + 0.002*\"jahr\" + 0.002*\"wien\" + 0.002*\"osterreich\" + 0.002*\"unternehm\" + 0.001*\"land\"\n",
            "Topic: 9 \t Word: 0.003*\"forsch\" + 0.002*\"prozent\" + 0.002*\"euro\" + 0.002*\"tier\" + 0.002*\"studi\" + 0.002*\"million\" + 0.002*\"bors\" + 0.002*\"europa\" + 0.002*\"jahr\" + 0.001*\"sagt\"\n"
          ]
        },
        {
          "output_type": "stream",
          "name": "stderr",
          "text": [
            "/usr/local/lib/python3.10/dist-packages/ipykernel/ipkernel.py:283: DeprecationWarning: `should_run_async` will not call `transform_cell` automatically in the future. Please pass the result to `transformed_cell` argument and any exception that happen during thetransform in `preprocessing_exc_tuple` in IPython 7.17 and above.\n",
            "  and should_run_async(code)\n"
          ]
        }
      ]
    },
    {
      "cell_type": "markdown",
      "metadata": {
        "id": "f9HswwLLsw0X"
      },
      "source": [
        "## Inference\n",
        "\n",
        "Now that we have a topic-modeler, let's use it on one of the articles."
      ]
    },
    {
      "cell_type": "code",
      "metadata": {
        "id": "tQlSUn_CsbcX",
        "outputId": "ab9b450c-d579-4143-bdc5-d85be14331a2",
        "colab": {
          "base_uri": "https://localhost:8080/"
        }
      },
      "source": [
        "# randomly pick an article:\n",
        "test_doc = choice(range(len(processed_docs)))\n",
        "processed_docs[test_doc][:50]"
      ],
      "execution_count": null,
      "outputs": [
        {
          "output_type": "stream",
          "name": "stderr",
          "text": [
            "/usr/local/lib/python3.10/dist-packages/ipykernel/ipkernel.py:283: DeprecationWarning: `should_run_async` will not call `transform_cell` automatically in the future. Please pass the result to `transformed_cell` argument and any exception that happen during thetransform in `preprocessing_exc_tuple` in IPython 7.17 and above.\n",
            "  and should_run_async(code)\n"
          ]
        },
        {
          "output_type": "execute_result",
          "data": {
            "text/plain": [
              "['toronto',\n",
              " 'gewinnt',\n",
              " 'philadelphia',\n",
              " 'michael',\n",
              " 'raffl',\n",
              " 'chicago',\n",
              " 'stellt',\n",
              " 'sieg',\n",
              " 'folg',\n",
              " 'neu',\n",
              " 'clubrekord',\n",
              " 'philadelphia',\n",
              " 'michael',\n",
              " 'grabn',\n",
              " 'dienstag',\n",
              " 'freund',\n",
              " 'michael',\n",
              " 'raffl',\n",
              " 'duell',\n",
              " 'beid',\n",
              " 'villach',\n",
              " 'eishockey',\n",
              " 'sturm',\n",
              " 'national',\n",
              " 'hockey',\n",
              " 'leagu',\n",
              " 'gewonn',\n",
              " 'grabn',\n",
              " 'gewann',\n",
              " 'toronto',\n",
              " 'mapl',\n",
              " 'leaf',\n",
              " 'philadelphia',\n",
              " 'flyer',\n",
              " 'matt',\n",
              " 'hundwick',\n",
              " 'erzielt',\n",
              " 'sekund',\n",
              " 'schlusssir',\n",
              " 'entscheid',\n",
              " 'treff',\n",
              " 'gast',\n",
              " 'toronto',\n",
              " 'zuletzt',\n",
              " 'funf',\n",
              " 'niederlag',\n",
              " 'kassiert',\n",
              " 'flyer',\n",
              " 'blieb',\n",
              " 'erstmal']"
            ]
          },
          "metadata": {},
          "execution_count": 73
        }
      ]
    },
    {
      "cell_type": "markdown",
      "metadata": {
        "id": "Jt6oJJL8tiO_"
      },
      "source": [
        "Using the original BOW model:"
      ]
    },
    {
      "cell_type": "code",
      "metadata": {
        "id": "ZBbrSNDVszGW",
        "outputId": "0fa57f8c-2a06-4a5e-fc59-6ba3d1b44521",
        "colab": {
          "base_uri": "https://localhost:8080/"
        }
      },
      "source": [
        "for index, score in sorted(lda_model[bow_corpus[test_doc]], key=lambda tup: -1*tup[1]):\n",
        "    print(f\"Topic match score: {score} \\nTopic: {lda_model.print_topic(index, num_of_topics)}\")\n"
      ],
      "execution_count": null,
      "outputs": [
        {
          "output_type": "stream",
          "name": "stdout",
          "text": [
            "Topic match score: 0.9902136325836182 \n",
            "Topic: 0.006*\"erst\" + 0.006*\"spiel\" + 0.005*\"seit\" + 0.005*\"israel\" + 0.005*\"sagt\" + 0.005*\"jahr\" + 0.004*\"minut\" + 0.004*\"zwei\" + 0.004*\"beim\" + 0.004*\"leagu\"\n"
          ]
        },
        {
          "output_type": "stream",
          "name": "stderr",
          "text": [
            "/usr/local/lib/python3.10/dist-packages/ipykernel/ipkernel.py:283: DeprecationWarning: `should_run_async` will not call `transform_cell` automatically in the future. Please pass the result to `transformed_cell` argument and any exception that happen during thetransform in `preprocessing_exc_tuple` in IPython 7.17 and above.\n",
            "  and should_run_async(code)\n"
          ]
        }
      ]
    },
    {
      "cell_type": "markdown",
      "metadata": {
        "id": "hdz9qz-Atj3A"
      },
      "source": [
        "And with the TF/IDF model:"
      ]
    },
    {
      "cell_type": "code",
      "metadata": {
        "id": "XWHTDQjVtTyO",
        "outputId": "60368a49-d603-4b8d-b0e4-a7d76dc84dfc",
        "colab": {
          "base_uri": "https://localhost:8080/"
        }
      },
      "source": [
        "for index, score in sorted(lda_model_tfidf[bow_corpus[test_doc]], key=lambda tup: -1*tup[1]):\n",
        "    print(\"Topic match score: {}\\t \\nTopic: {}\".format(score, lda_model_tfidf.print_topic(index, num_of_topics)))"
      ],
      "execution_count": null,
      "outputs": [
        {
          "output_type": "stream",
          "name": "stdout",
          "text": [
            "Topic match score: 0.5551183223724365\t \n",
            "Topic: 0.003*\"euro\" + 0.002*\"prozent\" + 0.002*\"europa\" + 0.002*\"million\" + 0.002*\"kommission\" + 0.002*\"osterreich\" + 0.002*\"jahr\" + 0.002*\"milliard\" + 0.002*\"konz\" + 0.002*\"unternehm\"\n",
            "Topic match score: 0.43617144227027893\t \n",
            "Topic: 0.002*\"prozent\" + 0.002*\"wien\" + 0.002*\"standard\" + 0.002*\"osterreich\" + 0.001*\"spiel\" + 0.001*\"euro\" + 0.001*\"jahr\" + 0.001*\"neu\" + 0.001*\"erst\" + 0.001*\"gross\"\n"
          ]
        },
        {
          "output_type": "stream",
          "name": "stderr",
          "text": [
            "/usr/local/lib/python3.10/dist-packages/ipykernel/ipkernel.py:283: DeprecationWarning: `should_run_async` will not call `transform_cell` automatically in the future. Please pass the result to `transformed_cell` argument and any exception that happen during thetransform in `preprocessing_exc_tuple` in IPython 7.17 and above.\n",
            "  and should_run_async(code)\n"
          ]
        }
      ]
    },
    {
      "cell_type": "markdown",
      "source": [
        "Calculating the [perplexity score](https://towardsdatascience.com/perplexity-in-language-models-87a196019a94) (lower is better):"
      ],
      "metadata": {
        "id": "Y6hgkxQ4RIzf"
      }
    },
    {
      "cell_type": "code",
      "source": [
        "print('Perplexity: ', lda_model.log_perplexity(bow_corpus))\n",
        "print('Perplexity TFIDF: ', lda_model_tfidf.log_perplexity(bow_corpus))"
      ],
      "metadata": {
        "colab": {
          "base_uri": "https://localhost:8080/"
        },
        "id": "hHtIgzTlw-gN",
        "outputId": "b6ef6f76-a79f-4113-ea99-5d948cdd8c9b"
      },
      "execution_count": null,
      "outputs": [
        {
          "output_type": "stream",
          "name": "stderr",
          "text": [
            "/usr/local/lib/python3.10/dist-packages/ipykernel/ipkernel.py:283: DeprecationWarning: `should_run_async` will not call `transform_cell` automatically in the future. Please pass the result to `transformed_cell` argument and any exception that happen during thetransform in `preprocessing_exc_tuple` in IPython 7.17 and above.\n",
            "  and should_run_async(code)\n"
          ]
        },
        {
          "output_type": "stream",
          "name": "stdout",
          "text": [
            "Perplexity:  -7.997607384640231\n",
            "Perplexity TFIDF:  -8.47706411507947\n"
          ]
        }
      ]
    },
    {
      "cell_type": "markdown",
      "metadata": {
        "id": "NZGXqV-TtyTm"
      },
      "source": [
        "### Exercise - inference\n",
        "\n",
        "Now please try it on a new document!\n",
        "\n",
        "Go to a news website, such as [orf.at](https://orf.at/) and copy an article of your choice here:"
      ]
    },
    {
      "cell_type": "code",
      "metadata": {
        "id": "Srd1NWjFtlqM",
        "outputId": "5e125ecb-00b4-42c8-dc4c-af334662adfc",
        "colab": {
          "base_uri": "https://localhost:8080/"
        }
      },
      "source": [
        "unseen_document = \"\"\"Sobotka sprach in einer um eineinhalb Stunden verspäteten Pressekonferenz am Abend von einer „schwierigen“, aber „sachlichen und pointierten“ Diskussion im Hauptausschuss. Er meinte, dass von Gesundheitsminister Rudolf Anschober (Grüne), die „Notwendigkeit, Verhältnismäßigkeit und Richtigkeit“ der Maßnahmen erläutert worden seien. Zudem betonte Sobotka die Wichtigkeit der im Covid-Maßnahmengesetz vorgesehenen Mitsprache des Parlaments bei Maßnahmen, bei denen auch die Freiheitsrechte betroffen seien.\n",
        "Der Nationalratspräsident zitierte auch die deutsche Kanzlerin Angela Merkel, die die Maßnahmen im Kampf gegen die Pandemie als „demokratische Zumutung“ bezeichnet hatte. Dem sei nicht nur zuzustimmen, das sei auch zu unterstreichen, sagte er. Die Eindämmung der Pandemie könne aber nur gelingen, wenn sich alle Österreicher einbringen. Der Beschluss alleine reiche nicht, die Maßnahmen müssten auch im Geiste verinnerlicht werden, appellierte Sobotka an die Bevölkerung, die Maßnahmen mitzutragen.\n",
        "Rendi-Wagner kritisiert Regierung\n",
        "Die Opposition hatte schon vor der Sitzung – und dann auch noch einmal danach – ihre Kritik an der Regierung bekräftigt. „Die Bundesregierung hat die Kontrolle über das Infektionsgeschehen verloren und hat die schwierige Situation, vor der wir jetzt stehen, zu verantworten“, kritisierte SPÖ-Klub- und Parteivorsitzende Rendi-Wagner.\n",
        "Sessel auf Tischen in einem geschlossenen Lokal\n",
        "DEBATTEWie gerechtfertigt sind die Maßnahmen?\"\"\"\n",
        "\n",
        "bow_vector = dictionary.doc2bow(preprocess(unseen_document))\n",
        "\n",
        "print(\"Simply printing the lda_model output would look like this:\")\n",
        "pprint(lda_model[bow_vector])\n",
        "\n",
        "print(\"\\n\\nSo let's make it nicer, by printing the topic contents:\")\n",
        "for index, score in sorted(lda_model[bow_vector], key=lambda tup: -1*tup[1]):\n",
        "    print(\"Score: {}\\t Topic: {}\".format(score, lda_model.print_topic(index, 5)))\n"
      ],
      "execution_count": null,
      "outputs": [
        {
          "output_type": "stream",
          "name": "stdout",
          "text": [
            "Simply printing the lda_model output would look like this:\n",
            "[(0, 0.9890117)]\n",
            "\n",
            "\n",
            "So let's make it nicer, by printing the topic contents:\n",
            "Score: 0.9890117049217224\t Topic: 0.008*\"polit\" + 0.008*\"sagt\" + 0.007*\"standard\" + 0.006*\"wien\" + 0.005*\"grun\"\n"
          ]
        },
        {
          "output_type": "stream",
          "name": "stderr",
          "text": [
            "/usr/local/lib/python3.10/dist-packages/ipykernel/ipkernel.py:283: DeprecationWarning: `should_run_async` will not call `transform_cell` automatically in the future. Please pass the result to `transformed_cell` argument and any exception that happen during thetransform in `preprocessing_exc_tuple` in IPython 7.17 and above.\n",
            "  and should_run_async(code)\n"
          ]
        }
      ]
    },
    {
      "cell_type": "code",
      "source": [],
      "metadata": {
        "colab": {
          "base_uri": "https://localhost:8080/"
        },
        "id": "dig8d3oWR6xM",
        "outputId": "db37c6d9-b4b9-4af9-8662-aaf40594355e"
      },
      "execution_count": null,
      "outputs": [
        {
          "output_type": "stream",
          "name": "stderr",
          "text": [
            "/usr/local/lib/python3.10/dist-packages/ipykernel/ipkernel.py:283: DeprecationWarning: `should_run_async` will not call `transform_cell` automatically in the future. Please pass the result to `transformed_cell` argument and any exception that happen during thetransform in `preprocessing_exc_tuple` in IPython 7.17 and above.\n",
            "  and should_run_async(code)\n"
          ]
        }
      ]
    },
    {
      "cell_type": "markdown",
      "source": [
        "## Visualization"
      ],
      "metadata": {
        "id": "NOl16tMOsmYd"
      }
    },
    {
      "cell_type": "markdown",
      "source": [
        "Finally, there are packages that can visulaize the results, such as [pyLDAvis](https://pypi.org/project/pyLDAvis/) and [tmplot](https://pypi.org/project/tmplot/).\n",
        "\n",
        "Let's take a look at pyLDAvis visualization result.\n",
        "\n",
        "**Please note:** this is an old and unmaintained package. It is easier to run it in Google-Colab than on your laptop. But, if you still try running it locally, please try **lowering your python version** (3.6 / 3.6 / 3.8) when you create the poetry environment for this exercise."
      ],
      "metadata": {
        "id": "Am2p_6seTOOE"
      }
    },
    {
      "cell_type": "code",
      "source": [
        "%pip install pyLDAvis"
      ],
      "metadata": {
        "id": "ERQDi99Rs6dO",
        "colab": {
          "base_uri": "https://localhost:8080/"
        },
        "outputId": "6284ebec-b720-4856-d183-5af2d3a412a8"
      },
      "execution_count": null,
      "outputs": [
        {
          "output_type": "stream",
          "name": "stderr",
          "text": [
            "/usr/local/lib/python3.10/dist-packages/ipykernel/ipkernel.py:283: DeprecationWarning: `should_run_async` will not call `transform_cell` automatically in the future. Please pass the result to `transformed_cell` argument and any exception that happen during thetransform in `preprocessing_exc_tuple` in IPython 7.17 and above.\n",
            "  and should_run_async(code)\n"
          ]
        },
        {
          "output_type": "stream",
          "name": "stdout",
          "text": [
            "Requirement already satisfied: pyLDAvis in /usr/local/lib/python3.10/dist-packages (3.4.1)\n",
            "Requirement already satisfied: numpy>=1.24.2 in /usr/local/lib/python3.10/dist-packages (from pyLDAvis) (1.26.4)\n",
            "Requirement already satisfied: scipy in /usr/local/lib/python3.10/dist-packages (from pyLDAvis) (1.13.1)\n",
            "Requirement already satisfied: pandas>=2.0.0 in /usr/local/lib/python3.10/dist-packages (from pyLDAvis) (2.2.2)\n",
            "Requirement already satisfied: joblib>=1.2.0 in /usr/local/lib/python3.10/dist-packages (from pyLDAvis) (1.4.2)\n",
            "Requirement already satisfied: jinja2 in /usr/local/lib/python3.10/dist-packages (from pyLDAvis) (3.1.4)\n",
            "Requirement already satisfied: numexpr in /usr/local/lib/python3.10/dist-packages (from pyLDAvis) (2.10.2)\n",
            "Requirement already satisfied: funcy in /usr/local/lib/python3.10/dist-packages (from pyLDAvis) (2.0)\n",
            "Requirement already satisfied: scikit-learn>=1.0.0 in /usr/local/lib/python3.10/dist-packages (from pyLDAvis) (1.5.2)\n",
            "Requirement already satisfied: gensim in /usr/local/lib/python3.10/dist-packages (from pyLDAvis) (4.3.3)\n",
            "Requirement already satisfied: setuptools in /usr/local/lib/python3.10/dist-packages (from pyLDAvis) (75.1.0)\n",
            "Requirement already satisfied: python-dateutil>=2.8.2 in /usr/local/lib/python3.10/dist-packages (from pandas>=2.0.0->pyLDAvis) (2.8.2)\n",
            "Requirement already satisfied: pytz>=2020.1 in /usr/local/lib/python3.10/dist-packages (from pandas>=2.0.0->pyLDAvis) (2024.2)\n",
            "Requirement already satisfied: tzdata>=2022.7 in /usr/local/lib/python3.10/dist-packages (from pandas>=2.0.0->pyLDAvis) (2024.2)\n",
            "Requirement already satisfied: threadpoolctl>=3.1.0 in /usr/local/lib/python3.10/dist-packages (from scikit-learn>=1.0.0->pyLDAvis) (3.5.0)\n",
            "Requirement already satisfied: smart-open>=1.8.1 in /usr/local/lib/python3.10/dist-packages (from gensim->pyLDAvis) (7.0.5)\n",
            "Requirement already satisfied: MarkupSafe>=2.0 in /usr/local/lib/python3.10/dist-packages (from jinja2->pyLDAvis) (3.0.2)\n",
            "Requirement already satisfied: six>=1.5 in /usr/local/lib/python3.10/dist-packages (from python-dateutil>=2.8.2->pandas>=2.0.0->pyLDAvis) (1.16.0)\n",
            "Requirement already satisfied: wrapt in /usr/local/lib/python3.10/dist-packages (from smart-open>=1.8.1->gensim->pyLDAvis) (1.17.0)\n"
          ]
        }
      ]
    },
    {
      "cell_type": "code",
      "source": [
        "import pyLDAvis.gensim_models as gensimvis\n",
        "import pyLDAvis\n",
        "\n",
        "bow_lda_data = gensimvis.prepare(lda_model, bow_corpus, dictionary)\n",
        "\n",
        "pyLDAvis.display(bow_lda_data)"
      ],
      "metadata": {
        "colab": {
          "base_uri": "https://localhost:8080/",
          "height": 916
        },
        "id": "xwDURjMYslxZ",
        "outputId": "09621968-bfd1-451c-fd54-1961419733a3"
      },
      "execution_count": null,
      "outputs": [
        {
          "output_type": "stream",
          "name": "stderr",
          "text": [
            "/usr/local/lib/python3.10/dist-packages/ipykernel/ipkernel.py:283: DeprecationWarning: `should_run_async` will not call `transform_cell` automatically in the future. Please pass the result to `transformed_cell` argument and any exception that happen during thetransform in `preprocessing_exc_tuple` in IPython 7.17 and above.\n",
            "  and should_run_async(code)\n"
          ]
        },
        {
          "output_type": "execute_result",
          "data": {
            "text/plain": [
              "<IPython.core.display.HTML object>"
            ],
            "text/html": [
              "\n",
              "<link rel=\"stylesheet\" type=\"text/css\" href=\"https://cdn.jsdelivr.net/gh/bmabey/pyLDAvis@3.4.0/pyLDAvis/js/ldavis.v1.0.0.css\">\n",
              "\n",
              "\n",
              "<div id=\"ldavis_el2721376858731961921705246614\" style=\"background-color:white;\"></div>\n",
              "<script type=\"text/javascript\">\n",
              "\n",
              "var ldavis_el2721376858731961921705246614_data = {\"mdsDat\": {\"x\": [-0.03856905552414546, 0.036687690837349345, -0.07662400325063534, 0.0458413858340139, -0.08607489367053317, 0.12286277950275978, -0.10578905384904877, 0.17064553714904263, -0.011549488149993351, -0.05743089887880945], \"y\": [0.021915437887133436, -0.08806249288707407, -0.008373033174218694, 0.07371562089477927, -0.016691607097084733, -0.10540100763316144, -0.07023295814410635, 0.042106130647553516, 0.12263649876277823, 0.028387410743401082], \"topics\": [1, 2, 3, 4, 5, 6, 7, 8, 9, 10], \"cluster\": [1, 1, 1, 1, 1, 1, 1, 1, 1, 1], \"Freq\": [18.56600670175494, 15.41298636121521, 12.575269445938092, 11.883007169508456, 8.856644273588849, 8.154278347752905, 7.6374341842113544, 7.043674827766949, 5.494266193803535, 4.376432494459707]}, \"tinfo\": {\"Term\": [\"prozent\", \"euro\", \"fluchtling\", \"osterreich\", \"jahr\", \"spiel\", \"unternehm\", \"standard\", \"million\", \"mensch\", \"polizei\", \"dollar\", \"word\", \"grenz\", \"wien\", \"jahrig\", \"land\", \"forsch\", \"griechenland\", \"ukrain\", \"partei\", \"china\", \"russland\", \"milliard\", \"appl\", \"russisch\", \"mann\", \"minut\", \"erst\", \"israel\", \"griss\", \"trump\", \"niessl\", \"strolz\", \"volkspartei\", \"puhring\", \"haimbuchn\", \"khol\", \"obamas\", \"kandidatur\", \"podemos\", \"glawischn\", \"wahlergebnis\", \"irmgard\", \"haupl\", \"republikan\", \"parteitag\", \"wahlkampf\", \"vassilakou\", \"labour\", \"juraczka\", \"landtagswahl\", \"stadtrat\", \"kandidi\", \"stichwahl\", \"osz\", \"pjongjang\", \"stenzel\", \"vov\", \"klubchef\", \"strach\", \"clinton\", \"lopatka\", \"wahlkart\", \"partei\", \"demokrat\", \"gemeinderat\", \"landeshauptmann\", \"bell\", \"neos\", \"obama\", \"stronach\", \"ttip\", \"parteichef\", \"wahl\", \"grun\", \"kandidat\", \"freiheit\", \"koalition\", \"polit\", \"nationalrat\", \"abgeordnet\", \"burgermeist\", \"faymann\", \"mitterlehn\", \"blau\", \"mandat\", \"stimm\", \"prasident\", \"standard\", \"parlament\", \"mehrheit\", \"regier\", \"sagt\", \"land\", \"wien\", \"europa\", \"chef\", \"gesprach\", \"muss\", \"fordert\", \"staat\", \"seit\", \"hatt\", \"neu\", \"schon\", \"recht\", \"entscheid\", \"gibt\", \"jahr\", \"viel\", \"erst\", \"frag\", \"osterreich\", \"bereit\", \"geb\", \"gross\", \"erklart\", \"thiem\", \"nadal\", \"djokovic\", \"slam\", \"mozart\", \"gemald\", \"wimbledon\", \"murray\", \"cont\", \"tennis\", \"french\", \"literar\", \"topgesetzt\", \"tiebreak\", \"australian\", \"kunstlerin\", \"breakball\", \"klavi\", \"dominic\", \"dirigent\", \"zeitgeschicht\", \"maur\", \"sehnsucht\", \"literatur\", \"melz\", \"gesang\", \"epoch\", \"break\", \"lektur\", \"urauffuhr\", \"philosoph\", \"kunstwerk\", \"award\", \"fed\", \"fiction\", \"komponist\", \"kunst\", \"open\", \"gehirn\", \"museum\", \"dissertation\", \"satz\", \"mathemat\", \"musikal\", \"buch\", \"eigenschaft\", \"autor\", \"wissenschaft\", \"musik\", \"song\", \"werk\", \"university\", \"universitat\", \"judisch\", \"geschicht\", \"physik\", \"kunstl\", \"forsch\", \"film\", \"art\", \"heut\", \"studi\", \"leb\", \"welt\", \"gross\", \"ganz\", \"natur\", \"jahr\", \"schon\", \"zeit\", \"lang\", \"imm\", \"wien\", \"erst\", \"alt\", \"form\", \"dabei\", \"klein\", \"etwa\", \"gibt\", \"viel\", \"arbeit\", \"einfach\", \"mensch\", \"spiel\", \"macht\", \"sagt\", \"neu\", \"wenig\", \"zwei\", \"seit\", \"standard\", \"konnt\", \"android\", \"windows\", \"betriebssyst\", \"brows\", \"lumia\", \"phon\", \"eurogrupp\", \"dijsselblo\", \"syriza\", \"betriebssystem\", \"spotify\", \"megapixel\", \"nexus\", \"messeng\", \"snapdragon\", \"jero\", \"display\", \"schaubl\", \"microsoft\", \"prozessor\", \"desktop\", \"apps\", \"linux\", \"sony\", \"updat\", \"firmwar\", \"iphon\", \"ipad\", \"webstandard\", \"build\", \"tsipras\", \"googl\", \"junck\", \"varoufakis\", \"appl\", \"smartphon\", \"hilfsprogramm\", \"hilfspaket\", \"samsung\", \"ath\", \"wlan\", \"tablet\", \"griechenland\", \"griechisch\", \"griech\", \"version\", \"alexis\", \"nutz\", \"gerat\", \"facebook\", \"mobil\", \"softwar\", \"user\", \"finanzminist\", \"neu\", \"kommission\", \"herstell\", \"soll\", \"allerding\", \"aktuell\", \"eig\", \"bereit\", \"sagt\", \"europa\", \"euro\", \"gibt\", \"weit\", \"moglich\", \"erst\", \"etwa\", \"seit\", \"beim\", \"muss\", \"land\", \"schon\", \"jahr\", \"gross\", \"rousseff\", \"obduktion\", \"tatverdacht\", \"hakenkreuz\", \"justizanstalt\", \"praterst\", \"razzi\", \"staatsanwaltin\", \"dilma\", \"zeugin\", \"brandstift\", \"eingeliefert\", \"kriminalist\", \"schuldspruch\", \"kompliz\", \"molenbeek\", \"bluttat\", \"feldkirch\", \"uberstellt\", \"feuerwehrleut\", \"lebensgefahr\", \"tatort\", \"schoffensenat\", \"jakarta\", \"brasilia\", \"vergewalt\", \"dreharbeit\", \"psychiatr\", \"vergewaltigt\", \"silvesternacht\", \"festgenomm\", \"staatsanwalt\", \"angeklagt\", \"haft\", \"festnahm\", \"polizei\", \"tat\", \"sexuell\", \"verdacht\", \"verurteilt\", \"ermittl\", \"ubergriff\", \"mandant\", \"anschlag\", \"polizist\", \"krankenhaus\", \"attentat\", \"mutmass\", \"mann\", \"mord\", \"leich\", \"unfall\", \"flughaf\", \"frau\", \"gefangnis\", \"jahrig\", \"opf\", \"word\", \"madch\", \"verletzt\", \"weg\", \"beamt\", \"vorfall\", \"stadt\", \"tot\", \"gericht\", \"angab\", \"jugend\", \"kind\", \"jahr\", \"sagt\", \"berichtet\", \"zwei\", \"laut\", \"seien\", \"mensch\", \"alt\", \"schwer\", \"wien\", \"seit\", \"drei\", \"weit\", \"fall\", \"erklart\", \"bereit\", \"erst\", \"rund\", \"hatt\", \"osterreich\", \"offshor\", \"eigenkapital\", \"ebit\", \"unicredit\", \"pfeiff\", \"heta\", \"ebitda\", \"transaktion\", \"jahresumsatz\", \"zielpunkt\", \"bawag\", \"telekom\", \"geschaftsjahr\", \"ruckstell\", \"lufthansa\", \"lobbyist\", \"borsennotiert\", \"abschreib\", \"liegenschaft\", \"provision\", \"konkur\", \"steueroas\", \"aktionar\", \"kapitalerhoh\", \"holding\", \"divid\", \"konsortium\", \"betriebsrat\", \"gmbh\", \"haftung\", \"sanier\", \"ikea\", \"hypo\", \"operativ\", \"insolvenz\", \"filial\", \"euro\", \"umsatz\", \"eigentum\", \"vorstand\", \"bank\", \"million\", \"panama\", \"group\", \"versicher\", \"unternehm\", \"milliard\", \"standort\", \"geschaft\", \"mitarbeit\", \"wien\", \"verkauf\", \"konz\", \"energi\", \"prozent\", \"rund\", \"kund\", \"jahr\", \"laut\", \"osterreich\", \"neu\", \"hoh\", \"soll\", \"seit\", \"chef\", \"weit\", \"erst\", \"bereit\", \"sowi\", \"sagt\", \"seien\", \"weg\", \"etwa\", \"gross\", \"word\", \"drei\", \"zwei\", \"deutsch\", \"land\", \"admira\", \"grodig\", \"kainz\", \"barisic\", \"zeidl\", \"altach\", \"jelic\", \"schaub\", \"meteorologi\", \"dibon\", \"schottel\", \"stangl\", \"foda\", \"pavelic\", \"lask\", \"strebing\", \"petsos\", \"kayod\", \"grahovac\", \"zamg\", \"prosen\", \"pfeifenberg\", \"geodynam\", \"gorgon\", \"novota\", \"edomwonyi\", \"schobesberg\", \"venuto\", \"tomi\", \"grozurek\", \"soriano\", \"vastic\", \"rapid\", \"wack\", \"ried\", \"keita\", \"happel\", \"slalom\", \"mattersburg\", \"weltcup\", \"alm\", \"fink\", \"celsius\", \"wolfsberg\", \"mannschaft\", \"hofmann\", \"grad\", \"stadion\", \"bull\", \"sturm\", \"arena\", \"temperatur\", \"ball\", \"spiel\", \"sonn\", \"bundesliga\", \"salzburg\", \"train\", \"austria\", \"forsch\", \"mannch\", \"parti\", \"minut\", \"sieg\", \"team\", \"erst\", \"fussball\", \"punkt\", \"platz\", \"zweit\", \"met\", \"chanc\", \"konnt\", \"zwei\", \"saison\", \"vier\", \"schon\", \"gross\", \"wien\", \"rund\", \"jahr\", \"drei\", \"bereit\", \"sagt\", \"beim\", \"weit\", \"osterreich\", \"stark\", \"wifo\", \"vormonat\", \"arbeitslos\", \"jobsuch\", \"einkomm\", \"arbeitsmarkt\", \"uberstund\", \"mindestlohn\", \"mittelschicht\", \"steuerreform\", \"altersgrupp\", \"arbeitskraft\", \"weiterbild\", \"zuwach\", \"arbeitszeit\", \"teilzeit\", \"lohnnebenkost\", \"prozentpunkt\", \"produktivitat\", \"schrumpf\", \"sprachkurs\", \"market\", \"jahresvergleich\", \"geringfug\", \"berufsbild\", \"armut\", \"teuer\", \"zuwachs\", \"lohn\", \"oecd\", \"durchschnitt\", \"arbeitnehm\", \"wachstum\", \"okonom\", \"anstieg\", \"ruckgang\", \"prozent\", \"konjunktur\", \"inflation\", \"plus\", \"gestieg\", \"schnitt\", \"statist\", \"befragt\", \"osterreich\", \"niedrig\", \"wirtschaft\", \"haushalt\", \"minus\", \"zahl\", \"hoh\", \"jahr\", \"standard\", \"wenig\", \"deutlich\", \"stark\", \"euro\", \"land\", \"studi\", \"arbeit\", \"gibt\", \"mensch\", \"vorjahr\", \"viel\", \"wien\", \"liegt\", \"fluchtling\", \"seit\", \"laut\", \"imm\", \"etwa\", \"sagt\", \"geht\", \"gross\", \"rund\", \"unternehm\", \"muss\", \"erst\", \"stok\", \"tottenham\", \"palastinens\", \"atletico\", \"barca\", \"israelis\", \"leic\", \"westjordanland\", \"neymar\", \"dynamo\", \"tampa\", \"nusra\", \"netanjahu\", \"leaf\", \"grabn\", \"tempelberg\", \"juventus\", \"aden\", \"sanaa\", \"hadi\", \"houthi\", \"suarez\", \"vidal\", \"watford\", \"gazastreif\", \"mapl\", \"jemenit\", \"hisbollah\", \"shark\", \"ronaldo\", \"assad\", \"chelsea\", \"leverkus\", \"united\", \"guardiola\", \"luftangriff\", \"jerusal\", \"borussia\", \"israel\", \"toronto\", \"liverpool\", \"taliban\", \"sevilla\", \"barcelona\", \"schalk\", \"dortmund\", \"arsenal\", \"arnautovic\", \"manch\", \"hinspiel\", \"leagu\", \"bay\", \"rebell\", \"madrid\", \"champion\", \"syrisch\", \"city\", \"alaba\", \"tor\", \"minut\", \"syri\", \"arme\", \"saison\", \"train\", \"getotet\", \"kampf\", \"sieg\", \"real\", \"spiel\", \"angriff\", \"punkt\", \"islam\", \"erst\", \"seit\", \"munch\", \"beim\", \"jahrig\", \"sagt\", \"zwei\", \"drei\", \"word\", \"jahr\", \"bereit\", \"rund\", \"sonntag\", \"samstag\", \"neu\", \"team\", \"treff\", \"vergang\", \"volltext\", \"krim\", \"peskow\", \"mazedon\", \"kosovar\", \"radkersburg\", \"transitland\", \"balkanstaat\", \"mazedoni\", \"kosovo\", \"belgrad\", \"idomeni\", \"tribunal\", \"serbisch\", \"bohmermann\", \"serbi\", \"basier\", \"slowen\", \"uberfahrt\", \"dmitri\", \"kroatisch\", \"grenzubergang\", \"sonderzug\", \"moskaus\", \"sammelstell\", \"kroati\", \"grenzubertritt\", \"grenzzaun\", \"budap\", \"nickelsdorf\", \"ukrain\", \"sloweni\", \"kiew\", \"balkanrout\", \"einreis\", \"ungar\", \"ungarn\", \"artikel\", \"russisch\", \"fluchtling\", \"grenz\", \"spielfeld\", \"turkei\", \"agypt\", \"russland\", \"turkisch\", \"rechtlich\", \"moskau\", \"zaun\", \"verfug\", \"mensch\", \"grund\", \"migrant\", \"deutschland\", \"steht\", \"tier\", \"sagt\", \"berlin\", \"regier\", \"osterreich\", \"land\", \"rund\", \"seit\", \"seien\", \"europa\", \"bereit\", \"zwei\", \"jahr\", \"deutsch\", \"yuan\", \"vettel\", \"boeing\", \"barrel\", \"toyota\", \"hamilton\", \"chinas\", \"peking\", \"renault\", \"umweltbehord\", \"hongkong\", \"jinping\", \"olpreis\", \"nico\", \"wang\", \"volkswag\", \"autobau\", \"taiwan\", \"china\", \"ferrari\", \"vollzug\", \"chines\", \"volksrepubl\", \"tesla\", \"motor\", \"shanghai\", \"daiml\", \"aktienmarkt\", \"absatz\", \"geldpolit\", \"porsch\", \"bors\", \"autos\", \"tokio\", \"dollar\", \"fahrzeug\", \"satellit\", \"audi\", \"notenbank\", \"japan\", \"markt\", \"konz\", \"amazon\", \"indi\", \"iran\", \"unternehm\", \"herstell\", \"weltweit\", \"jahr\", \"mark\", \"milliard\", \"prozent\", \"million\", \"sagt\", \"land\", \"erst\", \"seit\", \"bereit\", \"neu\", \"zufolg\", \"rund\", \"soll\", \"euro\", \"vergang\", \"deutsch\", \"weit\", \"europa\", \"zwei\", \"gross\"], \"Freq\": [5850.0, 5097.0, 2958.0, 5606.0, 9910.0, 2782.0, 2175.0, 3508.0, 3045.0, 4170.0, 1498.0, 1141.0, 3548.0, 1278.0, 7034.0, 2396.0, 4100.0, 1803.0, 1317.0, 702.0, 1399.0, 606.0, 1030.0, 1425.0, 865.0, 860.0, 1878.0, 1081.0, 6545.0, 609.0, 219.16254527808937, 339.35132071492285, 139.86144218118966, 83.3916395319576, 97.57644063749477, 73.64800395901035, 58.71930475142667, 134.43958194508724, 56.916780645923076, 135.97339899013403, 48.812712792472055, 136.3472777979903, 52.00385517939251, 61.88211444852475, 293.6992022587046, 229.47172310754823, 102.54990257587713, 300.8845051649283, 111.97129191479232, 42.40220339519142, 39.84937825446937, 78.25752919674015, 61.44165517041569, 55.36774167897742, 79.24033891374162, 39.284252825433676, 38.063863025692, 41.91683867557803, 35.398324647867035, 110.79028845201255, 418.05458514495353, 187.3003610842361, 144.37923449810512, 61.353087050807495, 1296.1388071550634, 300.2330192581014, 157.93273495328873, 326.7534667195591, 339.9855468766353, 303.3406996619938, 354.7555351632442, 185.95928815167113, 399.2757354514874, 156.36175851066534, 1128.3246828670592, 1415.5157261732188, 589.8683080070164, 369.3170479596685, 308.2413866106894, 2026.0688043503183, 180.48861278672067, 511.31260050346566, 453.6612540595405, 539.2503231353105, 372.62174881718477, 345.15652328639067, 199.3674701983012, 480.78628661775554, 1007.7655176227237, 1790.2656108258561, 606.2380801462521, 415.1794327204125, 1236.2796645136189, 2006.119009086686, 1269.2281783000242, 1517.7691254712165, 993.512549786817, 657.1985428226274, 526.2104158826937, 844.6841451247785, 510.86035813013416, 676.1879058294937, 1055.156455051874, 741.7092946562161, 1014.0549810928964, 886.3772670907048, 600.2355174839578, 631.6536877876156, 775.3932773668212, 1003.0727812703541, 723.1573843663128, 835.2806407721918, 611.8415382193689, 769.5371292149616, 689.6388358494888, 617.2483772282831, 622.8182420944507, 610.326200525755, 221.01417859105385, 69.45708620213429, 66.2977659931314, 46.46217920416294, 27.663577380939298, 56.03914854259632, 23.65480113297787, 58.77815352613338, 31.391807586119135, 45.09449661945533, 17.27178470675406, 28.992997060503583, 15.620199824605866, 17.65195464081196, 21.94820731707039, 18.74631794396314, 13.371244867991006, 22.638169969353555, 59.220672899367024, 15.58817522764492, 17.145126544656545, 56.29277566077887, 24.201684806812853, 45.062878938333704, 26.766665983742772, 13.203162993856509, 31.88731893625494, 42.003208253100944, 17.35119737665672, 18.278271810950827, 83.08324942518381, 49.27364083959343, 80.26355335111504, 83.63825699752749, 49.06255084489798, 36.3672156144557, 136.60726077710564, 194.05779210230355, 92.09893443435038, 260.22597302294986, 44.01945701257943, 208.545892786769, 136.99675933688158, 43.69231590213355, 380.4799718868463, 135.23579419549847, 196.53606976687112, 804.295468178159, 226.63451298003943, 102.76259014403716, 211.300411837188, 222.42365816098962, 569.2926124121442, 177.55938619286314, 452.74238074214225, 179.20042971192964, 135.20351006953766, 825.5171224580243, 283.42073977926367, 184.97778875803002, 674.4316166903254, 541.1881721578841, 671.147222727749, 509.8767993373585, 1274.6911012061125, 827.3359016892086, 508.27927979279093, 2025.8661993205885, 1146.5739503768536, 750.0501904908816, 871.7598843110635, 853.0878429260547, 1373.9694408332925, 1301.1223035290736, 527.2890036513273, 293.1584216498596, 737.6015648093534, 546.3651156688462, 797.0925323560066, 787.6390123118512, 740.7726118842769, 535.7621833370088, 428.33063444444826, 766.7035704579315, 629.8417918334833, 520.4792702843073, 942.3094273996214, 816.4479360261411, 640.2237208036421, 647.3543217282466, 664.9578982410433, 599.8468526303426, 559.4222054885707, 409.52260621488955, 514.5833734054028, 106.49681679045952, 93.16489678054268, 60.58870020896194, 51.52179543691258, 140.86519979117503, 87.79928034710275, 78.48365961426056, 50.61054796423925, 56.9777152500337, 52.10500302125007, 154.9930359715195, 54.64240669348685, 47.2440910893597, 58.776489350451364, 109.70494996550663, 112.27255235943393, 487.5639664422297, 81.1407131732507, 44.83379287470915, 211.1787615123426, 85.26983416351086, 92.677921480041, 274.7247980679631, 32.7119418123376, 278.523646681286, 109.2353640258676, 38.69730126418241, 25.841246394865536, 460.5584040453718, 741.2911164968579, 165.10961819446237, 141.4114955030861, 816.0929318594146, 641.0643615804964, 125.05890862091559, 89.7032010008303, 183.18044750977234, 558.0349839636797, 93.74447591736403, 145.13253639892315, 1005.0088569469881, 749.8812725438256, 184.4773613095753, 327.8658483345237, 158.87159540736553, 904.952126689452, 706.1111951338153, 553.4976469429223, 257.2509895334426, 272.5303088275541, 150.57173607493098, 372.2638249273845, 1787.604546908193, 442.2089162347951, 342.8287293613921, 789.3987676384374, 735.0488483216009, 438.26438597653026, 525.9046734000513, 769.0215736937411, 1030.6554350412885, 665.4433462405135, 742.2385700200344, 642.6565703597108, 659.6377883882076, 552.6184124156975, 699.2076084147235, 576.0385249223143, 629.5213812188679, 534.7567887184147, 520.7904655073332, 532.5958234052009, 525.1534279148942, 564.3232612717061, 515.7399175237745, 75.15042762164501, 31.519170267441684, 51.55373579500112, 21.816480912432006, 31.822985987092004, 33.82264132324987, 20.762838906174505, 30.162233763721407, 18.419568460439127, 27.03190669867936, 19.695300523537682, 23.64044237718236, 14.230003043803633, 21.82401022630707, 20.387022887470216, 20.057075656393593, 18.899376951424408, 38.61447897759415, 15.58510538887816, 21.200929860177478, 30.57586185837242, 78.51580366104405, 29.430358764492865, 19.63570580659676, 12.952729546368447, 79.44454255133537, 16.32022876335136, 30.61465709275821, 29.713906104764938, 66.40074733698654, 329.9196334734031, 109.73977937203226, 294.821173628398, 296.1458190589638, 110.98369711971186, 1185.5469493639487, 308.0146855931864, 157.0557861029966, 415.87313447637564, 317.58175589929357, 453.0185400725072, 133.30405167266028, 55.00478001195503, 322.54404803044923, 314.5659791436395, 188.44030812873817, 185.54302419721762, 222.07600607421992, 1181.1378147778769, 141.14580243057188, 127.13586384079515, 137.1769449673939, 248.1518974115422, 975.4015462453312, 122.76932619975663, 1262.1248538721934, 370.48014612826864, 1686.53611171102, 152.71417819805623, 415.86171205270165, 1013.2437592095331, 254.73860442778033, 190.9194483534805, 623.4593613566183, 248.9626918726082, 331.5432578793386, 523.1662129116601, 262.38328873434773, 486.5920075471423, 1682.388467626772, 1452.743999197733, 528.7044283873328, 896.4290432571146, 775.3179940928995, 698.1357682767823, 823.3421318057148, 498.21616149943605, 448.9104989935232, 979.7686273407833, 730.0296256598965, 575.5745851174171, 611.8205044921905, 499.1825617805867, 480.1311448111048, 523.263481370697, 564.5157028031348, 495.39964477475905, 460.15514390734785, 441.9729378078943, 66.98532049224083, 34.964131555521135, 23.884552286977847, 22.784154203601105, 122.97670901111722, 48.887996758238984, 19.079482926953606, 51.71884432083396, 26.426565996300805, 162.09794990767347, 20.139762895969618, 153.10860540682555, 58.362845928977904, 12.297445731520794, 138.63206024644407, 20.06175074628201, 27.358254428859222, 35.03254039706255, 15.397658170778907, 18.991326178361565, 22.033308435795718, 39.75528753370857, 61.66770585903894, 18.969516211279544, 89.75192877432484, 44.12373593446098, 43.66621268274594, 63.81602996249362, 110.83840000083151, 33.132584059888856, 48.76170294581637, 75.74038551552223, 139.4122259303208, 75.97713946512643, 62.90238271408485, 127.85196389833492, 2575.8537493571175, 237.00547674101682, 152.26933224504901, 161.7738382577394, 511.86598641631394, 1277.7829533081344, 136.58645250830307, 79.44703416044983, 70.60081871928082, 778.8130903281426, 550.078610018038, 185.3433758935467, 270.5168833221726, 401.32374978749107, 1617.1384114822606, 207.68137763360585, 245.82508424328077, 209.89533784430975, 927.3828070258711, 703.0822860272663, 238.26234651715058, 1142.2984214936062, 563.974891485586, 726.15367414649, 742.5524127521337, 439.476720938307, 445.1982305334075, 588.6730093055739, 338.7442341228213, 481.9259647065266, 570.3686326509201, 477.5240556995148, 317.8095526081254, 535.9793629274003, 370.41288075692415, 319.56972705092113, 344.2370318024401, 355.75534564178736, 336.5525883474571, 318.39025817096564, 335.7234340088346, 311.74456272779594, 312.4078390658932, 171.5925041911247, 179.22158726541795, 79.52627971954267, 123.39267339929378, 65.90943408425552, 140.58892753875227, 40.90741146265816, 48.64075777727846, 39.80081213415886, 35.897215944059425, 35.870697537808596, 34.197122343216655, 31.618063250400525, 32.29409953718902, 50.47043288204853, 31.56743689390044, 34.364345609430195, 36.386060489459574, 32.279250314563264, 42.68676194170752, 31.514220399024534, 34.24632480165674, 30.859708704576427, 29.984987784915266, 27.272016164905992, 25.849536917612024, 58.00112460039553, 25.796481458826243, 24.41589702171441, 22.31550838363635, 68.49974197174569, 40.39356055513757, 449.18440083338186, 74.88780296020835, 125.87970799463196, 51.544160506762594, 63.525903316945715, 56.79713742505892, 106.66450201542719, 112.9237137903934, 62.54874988303466, 61.151390570682594, 79.85718006775365, 56.52108427402591, 320.39086853155993, 118.49686435818201, 305.3448767548479, 191.45886553363613, 187.54359337944467, 262.5311912522584, 115.73672611493511, 144.07909153689613, 175.62105082622293, 1129.2255839882473, 145.73545112589593, 175.58519571697866, 594.3117796829866, 338.5858447703051, 359.6291866882817, 660.8765458981916, 142.6408053260194, 198.21070535456195, 419.48337900443306, 391.59271472990696, 411.13385775551353, 1050.3760219924218, 263.15228202509815, 374.6829624410551, 344.75013000793774, 399.5976797701734, 246.38174628371297, 240.65146517476947, 434.63650215899304, 494.04255985332645, 223.65379735141283, 334.87481384165375, 440.57863217739725, 433.71048022637, 496.8465270349537, 408.01731104738076, 488.81736928860107, 354.9272583192068, 381.96095293655316, 415.7504336065916, 331.05689563196484, 336.25564237557586, 333.1606846742195, 293.67496083933867, 132.93495963096356, 38.04595692666119, 209.73241712839754, 30.610872503900193, 162.24247175947406, 277.96050767144806, 45.838842925351955, 96.67279030909717, 32.72204183480619, 125.14991674595252, 13.530976236804777, 76.01823939032754, 17.16120903371642, 56.986616037526055, 84.10977972668391, 23.204394806297397, 24.018686238160747, 108.49204508949519, 38.03229657238984, 26.867862400508223, 21.140563588240603, 21.713422071128917, 18.586436154010826, 30.853339029192135, 12.717525478766008, 71.02741530328663, 17.150003224738366, 34.9773720406353, 110.45279810663229, 142.2185516354507, 77.08265470320698, 129.77820481070881, 311.863614464534, 280.8937178750819, 161.49565492037897, 126.33883116861139, 3478.648094180341, 107.5116622302273, 80.43056557346992, 230.3552590053834, 174.0949343466991, 178.4435122099085, 162.22603614959294, 165.9918865431462, 1798.248579030022, 266.1839740454821, 398.95626686365796, 138.84658431610367, 160.2020301670711, 595.8914024618432, 677.3096033932225, 1491.7511276846744, 755.6673261062781, 690.9494830099127, 419.6944755447783, 546.9186704091951, 808.1872031687524, 687.3954792448037, 353.00138713539155, 407.82778739104106, 572.9809751771015, 550.0771526196692, 227.0296517911879, 476.05233424386216, 593.5510427426067, 293.56877384587705, 396.0534892112413, 462.41469007333814, 384.15987409232014, 369.8132124451478, 377.47500095744925, 447.7276563445632, 335.27450225973564, 370.708254606741, 351.40581203146274, 317.0817046780066, 319.26842827891085, 329.1196330886349, 75.30289910139639, 56.82461154705307, 127.75462283274467, 90.80224717513015, 49.890181573827796, 59.191672849831754, 76.33921468626157, 42.64248836445459, 53.22174023407085, 42.80708107579186, 33.73633704370485, 41.511175573641985, 45.35942778256863, 42.50508373104871, 41.86637182227369, 30.225906367084313, 96.23279339258549, 36.955064009137686, 32.554788978351645, 29.60466288623483, 26.24003281667693, 38.29994260771652, 45.04759071983222, 39.261101489433166, 37.53499824534046, 41.494374840865994, 22.866807636312416, 23.199521886422023, 21.385963755932966, 63.19592265928905, 150.95057489290664, 92.18470412528323, 83.15040219162125, 131.32511678794907, 69.83184604486878, 120.19810597427049, 117.1209333090282, 84.64697058562119, 541.0444844990125, 84.6097260816217, 116.23246534398675, 122.59193365278084, 70.73370891172605, 215.18167688391165, 80.36100613583186, 134.33015494914076, 98.2735274764877, 91.65573142852055, 180.07551931360754, 149.36631001229176, 404.18230068935594, 392.5939008133934, 192.56203944940492, 236.7379219381467, 238.94096451313774, 312.9872086303199, 221.23151035256782, 119.93046564485381, 271.88384836867357, 442.4299873661583, 348.6618559076846, 176.8236565121349, 291.0619507234376, 312.20141343695815, 274.0595740122833, 402.40257683917497, 367.8186623013632, 208.86300826293962, 564.3294274372635, 237.92602103003293, 350.69012634879533, 229.62774171621683, 599.2166161403675, 552.7266662586107, 198.44687021847412, 405.0486644307625, 358.6986962514099, 530.9802335123059, 429.88875136994835, 362.6686476152907, 373.6320145475813, 453.43116692902305, 355.73094359304264, 336.231129315699, 275.13641400714573, 257.1956796179342, 312.68796406382484, 260.05498452727574, 252.48538318666053, 252.59228469428732, 293.1759686095938, 124.84023790984196, 37.30001672184122, 80.37056284771451, 22.491924449253894, 31.50204826621823, 18.314982155288178, 38.11379978288567, 182.1593933153866, 109.74415437932306, 56.300808412759416, 39.869723193348335, 27.25484080184486, 120.95925223951689, 83.13353737099926, 217.05855926781868, 300.33331227063206, 125.48754551285751, 19.247857370402954, 41.279878461772775, 135.98631326063924, 106.11123491334097, 19.582062368988524, 20.703792361848844, 29.55076666643166, 211.8806466764933, 24.382923284181622, 61.33987647912645, 83.72142567581443, 28.321946249192884, 561.1488713734929, 247.65963489921842, 206.17686918434853, 75.00462011214546, 92.59842029475021, 206.0176623795133, 339.29159386700394, 357.1629597471456, 507.16552066850176, 1410.0687938376068, 654.477537756537, 112.52524799661542, 396.9243841196543, 185.61395437742104, 490.3427413886179, 286.23143064670825, 337.0690215509259, 255.25253124465095, 139.48789442240292, 376.87061311317615, 770.7979912648576, 437.8644359123482, 173.93690642356015, 443.10806334184934, 396.4692777987616, 285.35849783525623, 591.1331485571425, 257.2217651843021, 327.919454721531, 399.2180074064852, 345.3049766951816, 315.9754356689743, 338.55765634453, 291.28900613864886, 288.96248888387674, 271.6780975872186, 266.8068664236647, 270.98493031056506, 263.5376811454053, 47.22452220357167, 31.94381374865373, 38.297162934911235, 44.79397282561437, 41.95100030587004, 39.85517922824287, 120.28225531143104, 170.54548280957616, 30.80974927428644, 33.7335608201724, 36.66286013284605, 14.770256075873009, 84.05562169076875, 11.522767274612157, 26.188669352831393, 202.18985299713938, 96.9792760847347, 24.976990097265364, 478.4334069093576, 25.229962317587482, 14.683696380374457, 341.31723046516754, 34.28648607595522, 98.19278580893085, 110.46672937318482, 16.005481235323657, 48.27770762166824, 24.18697184554906, 44.21951136038228, 50.06313143924542, 96.11696160033439, 118.66466690781138, 226.01178281733087, 53.739695006218206, 559.9397571374997, 240.65292626070928, 77.30722607785098, 58.061260404081196, 118.50498308377722, 224.03155783520154, 264.02624206331564, 209.07309919764626, 110.64377899503782, 111.75968798631244, 147.23164450058908, 360.49687349324404, 176.95277805343352, 175.871862673187, 787.2894050945895, 132.24325788288664, 248.81869412795976, 501.5332659828568, 322.68755774152663, 492.653040371646, 347.58225135204134, 401.24352733537637, 369.0976742470109, 328.96215674656037, 348.0526563162608, 185.5450778634232, 268.81078865600364, 247.70981588299404, 278.0282571874718, 231.15568351794334, 234.35451296797092, 240.194501222395, 218.67120330930305, 226.79848402698687, 197.52774037381798], \"Total\": [5850.0, 5097.0, 2958.0, 5606.0, 9910.0, 2782.0, 2175.0, 3508.0, 3045.0, 4170.0, 1498.0, 1141.0, 3548.0, 1278.0, 7034.0, 2396.0, 4100.0, 1803.0, 1317.0, 702.0, 1399.0, 606.0, 1030.0, 1425.0, 865.0, 860.0, 1878.0, 1081.0, 6545.0, 609.0, 222.96883265857093, 345.2515795959627, 142.75641128719892, 85.14002458813123, 99.65601590210116, 75.24370176775903, 60.00790521030323, 137.46737734989415, 58.248714432436614, 139.16426996671495, 49.99162776207412, 139.69530599206598, 53.31723839309815, 63.473822528873114, 301.28140876673734, 235.41816767630516, 105.31524028190601, 309.02480441224833, 115.05829721126625, 43.59499748483702, 40.97127061450108, 80.55137342671665, 63.30033623700304, 57.161597052440236, 81.8128492331109, 40.581593114056716, 39.33316953923278, 43.3195657758485, 36.6011501968373, 114.6719478768219, 434.8142975171732, 194.75924666710623, 150.48147836728805, 63.52672455294879, 1399.5414091169105, 318.0741394983417, 165.976738078121, 349.7415985527963, 364.8908861243932, 324.6032978689889, 383.92561945674964, 197.7337305046456, 439.83895367574416, 166.38324187367877, 1316.6219153782151, 1673.1670478404355, 674.0436667476903, 428.2118545141252, 352.8713681663387, 2906.2703196562115, 197.4033893877725, 638.2313679697617, 567.5287987584135, 695.8077018527265, 457.99413994711523, 423.1451504957867, 221.9713216337066, 655.6238348429571, 1659.4287129116647, 3508.8593051692696, 924.6080819167183, 576.7632985679616, 2644.1487939698613, 8446.051746044977, 4100.8249660759075, 7034.0753446198805, 3285.3357403171176, 1613.2460596042274, 1034.7966983316464, 3033.6990511202257, 997.3862273417317, 1903.6780732397892, 5676.189358678673, 2605.1960864449125, 6056.679389510183, 4331.565778948597, 1564.052601395368, 1834.4752408444865, 3741.5829743149784, 9910.22313029048, 3482.544868480991, 6545.858436295788, 1948.2352693488558, 5606.882313726616, 4389.104676554272, 2171.1574128628654, 4431.071427966722, 2503.0371755472534, 223.1951183200425, 71.08707474104585, 68.09927471320384, 47.90692144240007, 28.87060710680577, 58.53257520880502, 24.898013285873308, 62.040575785974006, 33.19444403404564, 48.000000334255375, 18.40415349660401, 30.900955619533946, 16.653885894942988, 18.915286744193796, 23.60919246917044, 20.19175056563276, 14.411586439016952, 24.46002973896606, 64.11015722566414, 16.87907261455337, 18.56980753222698, 60.99715075664942, 26.23220393114335, 48.89185043667971, 29.104795747021615, 14.36624030662266, 34.735274667982154, 45.804167991551125, 18.992486365251196, 20.04660532939077, 91.43185753035083, 54.192525585741016, 88.78967380066202, 93.47345755413068, 54.648230825495816, 40.28500027306427, 158.93370921600837, 238.6683011004479, 108.55908759548247, 328.60207440714674, 49.75288579345105, 265.9606918608227, 169.40720335239084, 49.52839473026379, 525.131891459257, 170.21129342466978, 260.46008517979465, 1280.7497038943916, 312.25329437088254, 129.88058246807014, 299.4651670369712, 320.3843503423659, 965.9569414195328, 246.71261551564777, 748.0869600757804, 257.9192211056249, 184.7465224855514, 1803.5600031890292, 479.92285493697386, 283.0839974769661, 1619.2020412665138, 1234.1328691244926, 1732.9268506059827, 1200.655883065894, 4431.071427966722, 2445.2980351566753, 1255.9177037059897, 9910.22313029048, 4331.565778948597, 2323.701229786212, 3122.5382939108263, 3107.51505892771, 7034.0753446198805, 6545.858436295788, 1592.4725078020047, 584.87020386948, 2960.693246351518, 1769.3694152716525, 3671.955330328533, 3741.5829743149784, 3482.544868480991, 1833.4659576764238, 1184.5516576364225, 4170.970827795297, 2782.1762584659473, 1836.1214009317189, 8446.051746044977, 6056.679389510183, 3259.1286441242414, 4375.213233234521, 5676.189358678673, 3508.8593051692696, 3021.1217784466544, 413.93079604801505, 520.2855500293927, 108.22148801462066, 94.98252062434796, 61.85863645463468, 52.7386115594375, 144.22130889913998, 89.89593968128541, 80.41510367780594, 51.86237714637625, 58.41434582081843, 53.45957300693719, 159.055973464896, 56.092491116339566, 48.56721630993328, 60.487875253971396, 113.05035382318003, 115.76694148049587, 503.50532688691317, 83.79833678966304, 46.30803937042205, 218.17081968092157, 88.2480419403262, 95.95865778307042, 284.4703740754428, 33.88176103269954, 288.5540383127335, 113.24132756146876, 40.12537732258658, 26.869910779348423, 479.4929405509477, 782.5911949397866, 171.80849888840856, 147.33716927779017, 865.6978563487584, 702.1642028798528, 131.4536902441706, 93.97227733733922, 198.9907673956788, 647.8031022024281, 98.99321014278277, 159.3363029803229, 1317.715883960756, 966.3829206422374, 208.62009202463307, 398.1525268397195, 177.0475446408265, 1302.1086951539949, 1011.4182210712167, 831.4509201327625, 330.6905805192454, 382.13446305618334, 172.87657917553565, 599.5315014118323, 6056.679389510183, 840.6343272306123, 652.1313548668146, 2967.906764803976, 2657.087680271173, 1258.2913543103257, 1926.2651220970774, 4389.104676554272, 8446.051746044977, 3285.3357403171176, 5097.590325041452, 3741.5829743149784, 4095.125391033259, 2574.022929225474, 6545.858436295788, 3671.955330328533, 5676.189358678673, 3191.6234152269712, 3033.6990511202257, 4100.8249660759075, 4331.565778948597, 9910.22313029048, 4431.071427966722, 76.70418265817257, 32.6552684593735, 53.66922356895949, 22.9514535093131, 33.532802094244786, 35.64464533912913, 21.940941940162745, 31.881706623865178, 19.497521626432572, 28.659584484578865, 20.96326957244661, 25.30327252756736, 15.24336347712195, 23.49346913637445, 22.03374643101388, 21.72345214690309, 20.48125990465194, 41.85024700862141, 16.921207226018723, 23.237547066512196, 33.53829010107027, 86.18306151839097, 32.31483054995572, 21.562857923465142, 14.233534299648351, 87.34168701693957, 17.94480198954107, 33.71861160543989, 32.84891351917728, 73.4137531842527, 370.77595370401923, 122.88223499788589, 344.826341397378, 348.19979508425934, 127.16412688395766, 1498.7882814747297, 381.6021859857686, 188.31744353935653, 547.784191754766, 412.07693885643744, 608.8380035455449, 164.06163371772595, 63.47053113866694, 438.0380038457261, 426.67900709380666, 244.35103491112466, 240.88379099341955, 293.8008967999376, 1878.879350136374, 181.7274145153749, 163.96533990644548, 179.34163674775104, 354.990764179594, 1722.1470217125595, 158.69847675408917, 2396.716906478281, 582.596889672544, 3548.3138429906367, 206.37773463282514, 739.1630758050471, 2529.882525513435, 411.0374220003475, 281.51814847908383, 1472.4491882028722, 427.0856805521631, 658.6389629224283, 1388.8964013081263, 480.57903026437623, 1322.02459338082, 9910.22313029048, 8446.051746044977, 1650.2946628068742, 4375.213233234521, 3427.6280542403106, 2862.356697468936, 4170.970827795297, 1592.4725078020047, 1280.5605489762752, 7034.0753446198805, 5676.189358678673, 3002.659862048355, 4095.125391033259, 2313.0818690298206, 2503.0371755472534, 4389.104676554272, 6545.858436295788, 3731.464278530923, 2605.1960864449125, 5606.882313726616, 69.66268116777208, 36.68439420850108, 25.06677612439861, 24.058630039644335, 130.29794764451435, 51.80376192645615, 20.248356261088333, 55.612256394661244, 28.444123355590385, 177.08771573049899, 22.036511369964682, 168.46443176631536, 64.26611614651317, 13.57201019710999, 155.19158012783424, 22.463925258331113, 30.70495668329951, 39.35140111867755, 17.29650369718002, 21.373209273952178, 25.177493848665314, 45.581263036820935, 70.78186743230495, 21.8464397007286, 103.41337670560192, 51.07257039661873, 50.97092922992474, 74.78807673194974, 129.9146771629381, 38.93054685292196, 57.60371366177343, 92.04129457131964, 175.63039390251822, 94.18683206243672, 78.68202867375112, 175.65521631066278, 5097.590325041452, 354.63158556436804, 215.48114375466898, 252.92690919711598, 1007.155096909058, 3045.5934371601575, 213.17515004839777, 109.51162569664221, 95.24720378414787, 2175.0429530863084, 1425.5771511703174, 339.3046465248287, 595.4947403992303, 1028.4001990946588, 7034.0753446198805, 440.17520514922484, 583.3023777020297, 477.51087599946726, 5850.900971600797, 3731.464278530923, 635.991195079285, 9910.22313029048, 3427.6280542403106, 5606.882313726616, 6056.679389510183, 2387.563672982064, 2967.906764803976, 5676.189358678673, 1613.2460596042274, 4095.125391033259, 6545.858436295788, 4389.104676554272, 1701.1066138913266, 8446.051746044977, 2862.356697468936, 2529.882525513435, 3671.955330328533, 4431.071427966722, 3548.3138429906367, 3002.659862048355, 4375.213233234521, 2997.1052952625378, 4100.8249660759075, 174.01266227146712, 182.0224292098882, 81.0874529553741, 125.88727276846812, 67.35128662646214, 144.40762818119833, 42.11204979362742, 50.119435665379164, 41.07489181331801, 37.09484031446592, 37.069815373520626, 35.39951897592013, 32.74649995476927, 33.47562237476722, 52.31975025096635, 32.744902459632556, 35.64866591999209, 37.749648016919394, 33.48986594908537, 44.30017046191582, 32.765299095394475, 35.691659567042436, 32.16644975131541, 31.261517507737633, 28.439596697430357, 26.98005611056914, 60.59784044058499, 26.95998832447114, 25.53487410573377, 23.369589349443412, 72.12731157951212, 42.34214071159284, 482.83349740081314, 79.58945735021064, 136.32957790728688, 54.48106470846884, 68.01454874478324, 60.54963138692865, 117.8211705797018, 126.02296257229482, 67.29215031996533, 65.78623331491728, 88.73468219633773, 61.38976468154326, 417.68484214476615, 140.14085906618595, 405.7541024709717, 262.33646525719536, 263.19364771846784, 403.93932122916885, 150.8390132341099, 198.6485000015389, 253.7463739862176, 2782.1762584659473, 211.36281615879653, 270.66852492914217, 1376.3897408097525, 681.676120603202, 763.2469642783918, 1803.5600031890292, 211.83496827669657, 350.87005201851144, 1081.3688598428282, 1027.9961277913624, 1174.5610699966028, 6545.858436295788, 624.7708305886698, 1237.5953914722456, 1291.0331708052618, 1805.0057009012303, 666.3418478004, 707.4572106722446, 3021.1217784466544, 4375.213233234521, 596.4956386110524, 1847.8781311705604, 4331.565778948597, 4431.071427966722, 7034.0753446198805, 3731.464278530923, 9910.22313029048, 3002.659862048355, 4389.104676554272, 8446.051746044977, 3191.6234152269712, 4095.125391033259, 5606.882313726616, 2366.1743144141615, 135.9728741989571, 39.43654559203695, 224.2151102946573, 32.78395271494794, 174.82897548613258, 302.28329419882425, 50.5619482030185, 106.70524244903861, 36.221487421551565, 140.58352904643982, 15.500020982850202, 88.55986147121227, 20.148553802950374, 67.01037455842139, 99.05933065042272, 27.855389660970037, 29.158765777085023, 132.05326957826682, 46.32996942092077, 33.47706270966591, 26.58564628189584, 27.37543443946431, 23.89684662378894, 39.79877793617773, 16.513316117988662, 92.28713043186497, 22.320794563049137, 45.56330141933181, 145.02469635874175, 187.88248240676552, 102.50617512730231, 174.8146836207163, 434.02879167530676, 390.77493940774286, 222.4646567794189, 173.2707447201419, 5850.900971600797, 150.10604046725703, 110.27665970746042, 358.1666947339778, 263.0961928944728, 277.02182155337374, 253.12570223594665, 274.81154623150303, 5606.882313726616, 524.7479591475942, 908.5536384274195, 224.23244379818925, 285.34364006449323, 1950.8537668386948, 2387.563672982064, 9910.22313029048, 3508.8593051692696, 3259.1286441242414, 1432.528823732674, 2366.1743144141615, 5097.590325041452, 4100.8249660759075, 1234.1328691244926, 1833.4659576764238, 3741.5829743149784, 4170.970827795297, 568.4860589225822, 3482.544868480991, 7034.0753446198805, 1214.7408046916519, 2958.0722868666685, 5676.189358678673, 3427.6280542403106, 3107.51505892771, 3671.955330328533, 8446.051746044977, 2368.6922298856875, 4431.071427966722, 3731.464278530923, 2175.0429530863084, 3033.6990511202257, 6545.858436295788, 76.61755247466793, 58.14657460355276, 130.7542163817266, 92.96149053489526, 51.11193004817966, 60.8389861758837, 78.56141161141231, 43.91393471107293, 54.811157530946765, 44.153673564086354, 34.804069125784316, 42.84305133353707, 46.878449699870636, 43.939901968790195, 43.285434722289395, 31.265025489495414, 99.57602245713929, 38.26996895025076, 33.72235807146161, 30.678861465712846, 27.304944932583876, 39.92642027054523, 46.97139722926685, 40.95263952480899, 39.23767443603829, 43.377754302030226, 23.9230783389491, 24.28440279804217, 22.401410458462436, 66.20145560247263, 159.466558067571, 97.03610629678562, 87.56216284313702, 139.35113078429742, 73.51061054454466, 127.99373685350123, 125.38482611102559, 89.85231499931608, 609.768626832936, 90.25683399750628, 125.70024721994568, 133.18092553561232, 75.17518179389074, 243.46000138459422, 87.13006481722137, 152.25656487557865, 108.90118891939055, 101.65799796221468, 213.67029142663313, 176.81738536528295, 552.0818957666677, 534.8342586325309, 241.17541257972758, 309.4336466445354, 319.5890168415929, 467.44948867281494, 308.7352939551243, 151.61450526291597, 479.3734704907707, 1081.3688598428282, 772.1235885648473, 275.9123942992737, 596.4956386110524, 681.676120603202, 559.2865289930668, 1107.5073621761485, 1027.9961277913624, 415.39913191841464, 2782.1762584659473, 545.8498347345119, 1237.5953914722456, 610.2898159689283, 6545.858436295788, 5676.189358678673, 433.38529632588114, 3191.6234152269712, 2396.716906478281, 8446.051746044977, 4375.213233234521, 3002.659862048355, 3548.3138429906367, 9910.22313029048, 4389.104676554272, 3731.464278530923, 1388.968639093543, 1055.3995249277807, 6056.679389510183, 1174.5610699966028, 1044.7528047573887, 2568.8004023943495, 296.4046253970216, 129.54363588160632, 39.083349888448566, 85.14493833120709, 23.883236930872897, 33.88154133110782, 19.722375309738524, 41.180984724656035, 197.10982947678073, 118.93772653273905, 61.033991979144076, 43.23761877156659, 29.587504420110943, 131.68500266311568, 91.36004448286246, 239.01918157506034, 336.2823754106966, 141.50104746376908, 21.896438685165606, 47.19934240835335, 156.37095219792306, 122.24170365187979, 23.304202415267053, 24.757007140026573, 35.52138325761084, 255.32069375774054, 29.433484346328896, 75.75221336356864, 103.91050300697408, 35.27469690772722, 702.203575652692, 312.78688238462206, 269.414204041822, 94.33663313185887, 118.10377417004065, 278.1589066200419, 486.529760391747, 518.8503986981992, 860.6994299410185, 2958.0722868666685, 1278.290279020238, 156.96605620324624, 760.9005211006468, 294.26325960150643, 1030.424093971813, 517.1305098728377, 652.1607077732206, 475.5448231427693, 213.23977162194214, 978.2041716776986, 4170.970827795297, 1630.7738569776823, 328.0204633532293, 2070.5462145636875, 1671.5466154696608, 962.0756763359211, 8446.051746044977, 980.4697926336556, 2644.1487939698613, 5606.882313726616, 4100.8249660759075, 3731.464278530923, 5676.189358678673, 2862.356697468936, 3285.3357403171176, 4389.104676554272, 4375.213233234521, 9910.22313029048, 2997.1052952625378, 49.03344852974273, 33.30750820073665, 40.24159938606099, 49.08826523564068, 46.05662016093879, 44.204423988302025, 134.2710593045255, 195.36613573039276, 36.03916179108246, 39.48784729607361, 43.70084202697066, 17.789239515144626, 101.69287824258346, 14.059176460199568, 32.06703935691587, 248.02604301176538, 119.16767028437914, 31.22138192073618, 606.1650871188081, 32.186852806127256, 19.155915139980387, 452.616662437701, 45.68454168313373, 131.68126655812932, 148.8618593545687, 21.810330830341893, 66.4045014468885, 33.26896005454356, 61.5841143367454, 71.53844774311962, 142.3165520410972, 178.0147111956382, 383.9398250463401, 79.47160097031279, 1141.4780363617774, 440.32707776412656, 122.05356329752725, 87.07032414948415, 211.57697316742764, 506.36734100084004, 720.752723234844, 583.3023777020297, 243.46252008001474, 248.4175754619178, 459.26550508388476, 2175.0429530863084, 652.1313548668146, 645.9893311779604, 9910.22313029048, 409.2105966723516, 1425.5771511703174, 5850.900971600797, 3045.5934371601575, 8446.051746044977, 4100.8249660759075, 6545.858436295788, 5676.189358678673, 4389.104676554272, 6056.679389510183, 991.7958578663472, 3731.464278530923, 2967.906764803976, 5097.590325041452, 2568.8004023943495, 2997.1052952625378, 4095.125391033259, 3285.3357403171176, 4375.213233234521, 4431.071427966722], \"Category\": [\"Default\", \"Default\", \"Default\", \"Default\", \"Default\", \"Default\", \"Default\", \"Default\", \"Default\", \"Default\", \"Default\", \"Default\", \"Default\", \"Default\", \"Default\", \"Default\", \"Default\", \"Default\", \"Default\", \"Default\", \"Default\", \"Default\", \"Default\", \"Default\", \"Default\", \"Default\", \"Default\", \"Default\", \"Default\", \"Default\", \"Topic1\", \"Topic1\", \"Topic1\", \"Topic1\", \"Topic1\", \"Topic1\", \"Topic1\", \"Topic1\", \"Topic1\", \"Topic1\", \"Topic1\", \"Topic1\", \"Topic1\", \"Topic1\", \"Topic1\", \"Topic1\", \"Topic1\", \"Topic1\", \"Topic1\", \"Topic1\", \"Topic1\", \"Topic1\", \"Topic1\", \"Topic1\", \"Topic1\", \"Topic1\", \"Topic1\", \"Topic1\", \"Topic1\", \"Topic1\", \"Topic1\", \"Topic1\", \"Topic1\", \"Topic1\", \"Topic1\", \"Topic1\", \"Topic1\", \"Topic1\", \"Topic1\", \"Topic1\", \"Topic1\", \"Topic1\", \"Topic1\", \"Topic1\", \"Topic1\", \"Topic1\", \"Topic1\", \"Topic1\", \"Topic1\", \"Topic1\", \"Topic1\", \"Topic1\", \"Topic1\", \"Topic1\", \"Topic1\", \"Topic1\", \"Topic1\", \"Topic1\", \"Topic1\", \"Topic1\", \"Topic1\", \"Topic1\", \"Topic1\", \"Topic1\", \"Topic1\", \"Topic1\", \"Topic1\", \"Topic1\", \"Topic1\", \"Topic1\", \"Topic1\", \"Topic1\", \"Topic1\", \"Topic1\", \"Topic1\", \"Topic1\", \"Topic1\", \"Topic1\", \"Topic1\", \"Topic1\", \"Topic1\", \"Topic1\", \"Topic1\", \"Topic1\", \"Topic1\", \"Topic1\", \"Topic1\", \"Topic1\", \"Topic2\", \"Topic2\", \"Topic2\", \"Topic2\", \"Topic2\", \"Topic2\", \"Topic2\", \"Topic2\", \"Topic2\", \"Topic2\", \"Topic2\", \"Topic2\", \"Topic2\", \"Topic2\", \"Topic2\", \"Topic2\", \"Topic2\", \"Topic2\", \"Topic2\", \"Topic2\", \"Topic2\", \"Topic2\", \"Topic2\", \"Topic2\", \"Topic2\", \"Topic2\", \"Topic2\", \"Topic2\", \"Topic2\", \"Topic2\", \"Topic2\", \"Topic2\", \"Topic2\", \"Topic2\", \"Topic2\", \"Topic2\", \"Topic2\", \"Topic2\", \"Topic2\", \"Topic2\", \"Topic2\", \"Topic2\", \"Topic2\", \"Topic2\", \"Topic2\", \"Topic2\", \"Topic2\", \"Topic2\", \"Topic2\", \"Topic2\", \"Topic2\", \"Topic2\", \"Topic2\", \"Topic2\", \"Topic2\", \"Topic2\", \"Topic2\", \"Topic2\", \"Topic2\", \"Topic2\", \"Topic2\", \"Topic2\", \"Topic2\", \"Topic2\", \"Topic2\", \"Topic2\", \"Topic2\", \"Topic2\", \"Topic2\", \"Topic2\", \"Topic2\", \"Topic2\", \"Topic2\", \"Topic2\", \"Topic2\", \"Topic2\", \"Topic2\", \"Topic2\", \"Topic2\", \"Topic2\", \"Topic2\", \"Topic2\", \"Topic2\", \"Topic2\", \"Topic2\", \"Topic2\", \"Topic2\", \"Topic2\", \"Topic2\", \"Topic2\", \"Topic2\", \"Topic2\", \"Topic2\", \"Topic3\", \"Topic3\", \"Topic3\", \"Topic3\", \"Topic3\", \"Topic3\", \"Topic3\", \"Topic3\", \"Topic3\", \"Topic3\", \"Topic3\", \"Topic3\", \"Topic3\", \"Topic3\", \"Topic3\", \"Topic3\", \"Topic3\", \"Topic3\", \"Topic3\", \"Topic3\", \"Topic3\", \"Topic3\", \"Topic3\", \"Topic3\", \"Topic3\", \"Topic3\", \"Topic3\", \"Topic3\", \"Topic3\", \"Topic3\", \"Topic3\", \"Topic3\", \"Topic3\", \"Topic3\", \"Topic3\", \"Topic3\", \"Topic3\", \"Topic3\", \"Topic3\", \"Topic3\", \"Topic3\", \"Topic3\", \"Topic3\", \"Topic3\", \"Topic3\", \"Topic3\", \"Topic3\", \"Topic3\", \"Topic3\", \"Topic3\", \"Topic3\", \"Topic3\", \"Topic3\", \"Topic3\", \"Topic3\", \"Topic3\", \"Topic3\", \"Topic3\", \"Topic3\", \"Topic3\", \"Topic3\", \"Topic3\", \"Topic3\", \"Topic3\", \"Topic3\", \"Topic3\", \"Topic3\", \"Topic3\", \"Topic3\", \"Topic3\", \"Topic3\", \"Topic3\", \"Topic3\", \"Topic3\", \"Topic3\", \"Topic3\", \"Topic3\", \"Topic4\", \"Topic4\", \"Topic4\", \"Topic4\", \"Topic4\", \"Topic4\", \"Topic4\", \"Topic4\", \"Topic4\", \"Topic4\", \"Topic4\", \"Topic4\", \"Topic4\", \"Topic4\", \"Topic4\", \"Topic4\", \"Topic4\", \"Topic4\", \"Topic4\", \"Topic4\", \"Topic4\", \"Topic4\", \"Topic4\", \"Topic4\", \"Topic4\", \"Topic4\", \"Topic4\", \"Topic4\", \"Topic4\", \"Topic4\", \"Topic4\", \"Topic4\", \"Topic4\", \"Topic4\", \"Topic4\", \"Topic4\", \"Topic4\", \"Topic4\", \"Topic4\", \"Topic4\", \"Topic4\", \"Topic4\", \"Topic4\", \"Topic4\", \"Topic4\", \"Topic4\", \"Topic4\", \"Topic4\", \"Topic4\", \"Topic4\", \"Topic4\", \"Topic4\", \"Topic4\", \"Topic4\", \"Topic4\", \"Topic4\", \"Topic4\", \"Topic4\", \"Topic4\", \"Topic4\", \"Topic4\", \"Topic4\", \"Topic4\", \"Topic4\", \"Topic4\", \"Topic4\", \"Topic4\", \"Topic4\", \"Topic4\", \"Topic4\", \"Topic4\", \"Topic4\", \"Topic4\", \"Topic4\", \"Topic4\", \"Topic4\", \"Topic4\", \"Topic4\", \"Topic4\", \"Topic4\", \"Topic4\", \"Topic4\", \"Topic4\", \"Topic4\", \"Topic4\", \"Topic4\", \"Topic4\", \"Topic4\", \"Topic4\", \"Topic5\", \"Topic5\", \"Topic5\", \"Topic5\", \"Topic5\", \"Topic5\", \"Topic5\", \"Topic5\", \"Topic5\", \"Topic5\", \"Topic5\", \"Topic5\", \"Topic5\", \"Topic5\", \"Topic5\", \"Topic5\", \"Topic5\", \"Topic5\", \"Topic5\", \"Topic5\", \"Topic5\", \"Topic5\", \"Topic5\", \"Topic5\", \"Topic5\", \"Topic5\", \"Topic5\", \"Topic5\", \"Topic5\", \"Topic5\", \"Topic5\", \"Topic5\", \"Topic5\", \"Topic5\", \"Topic5\", \"Topic5\", \"Topic5\", \"Topic5\", \"Topic5\", \"Topic5\", \"Topic5\", \"Topic5\", \"Topic5\", \"Topic5\", \"Topic5\", \"Topic5\", \"Topic5\", \"Topic5\", \"Topic5\", \"Topic5\", \"Topic5\", \"Topic5\", \"Topic5\", \"Topic5\", \"Topic5\", \"Topic5\", \"Topic5\", \"Topic5\", \"Topic5\", \"Topic5\", \"Topic5\", \"Topic5\", \"Topic5\", \"Topic5\", \"Topic5\", \"Topic5\", \"Topic5\", \"Topic5\", \"Topic5\", \"Topic5\", \"Topic5\", \"Topic5\", \"Topic5\", \"Topic5\", \"Topic5\", \"Topic5\", \"Topic5\", \"Topic5\", \"Topic5\", \"Topic6\", \"Topic6\", \"Topic6\", \"Topic6\", \"Topic6\", \"Topic6\", \"Topic6\", \"Topic6\", \"Topic6\", \"Topic6\", \"Topic6\", \"Topic6\", \"Topic6\", \"Topic6\", \"Topic6\", \"Topic6\", \"Topic6\", \"Topic6\", \"Topic6\", \"Topic6\", \"Topic6\", \"Topic6\", \"Topic6\", \"Topic6\", \"Topic6\", \"Topic6\", \"Topic6\", \"Topic6\", \"Topic6\", \"Topic6\", \"Topic6\", \"Topic6\", \"Topic6\", \"Topic6\", \"Topic6\", \"Topic6\", \"Topic6\", \"Topic6\", \"Topic6\", \"Topic6\", \"Topic6\", \"Topic6\", \"Topic6\", \"Topic6\", \"Topic6\", \"Topic6\", \"Topic6\", \"Topic6\", \"Topic6\", \"Topic6\", \"Topic6\", \"Topic6\", \"Topic6\", \"Topic6\", \"Topic6\", \"Topic6\", \"Topic6\", \"Topic6\", \"Topic6\", \"Topic6\", \"Topic6\", \"Topic6\", \"Topic6\", \"Topic6\", \"Topic6\", \"Topic6\", \"Topic6\", \"Topic6\", \"Topic6\", \"Topic6\", \"Topic6\", \"Topic6\", \"Topic6\", \"Topic6\", \"Topic6\", \"Topic6\", \"Topic6\", \"Topic6\", \"Topic6\", \"Topic6\", \"Topic6\", \"Topic6\", \"Topic6\", \"Topic6\", \"Topic6\", \"Topic6\", \"Topic6\", \"Topic6\", \"Topic7\", \"Topic7\", \"Topic7\", \"Topic7\", \"Topic7\", \"Topic7\", \"Topic7\", \"Topic7\", \"Topic7\", \"Topic7\", \"Topic7\", \"Topic7\", \"Topic7\", \"Topic7\", \"Topic7\", \"Topic7\", \"Topic7\", \"Topic7\", \"Topic7\", \"Topic7\", \"Topic7\", \"Topic7\", \"Topic7\", \"Topic7\", \"Topic7\", \"Topic7\", \"Topic7\", \"Topic7\", \"Topic7\", \"Topic7\", \"Topic7\", \"Topic7\", \"Topic7\", \"Topic7\", \"Topic7\", \"Topic7\", \"Topic7\", \"Topic7\", \"Topic7\", \"Topic7\", \"Topic7\", \"Topic7\", \"Topic7\", \"Topic7\", \"Topic7\", \"Topic7\", \"Topic7\", \"Topic7\", \"Topic7\", \"Topic7\", \"Topic7\", \"Topic7\", \"Topic7\", \"Topic7\", \"Topic7\", \"Topic7\", \"Topic7\", \"Topic7\", \"Topic7\", \"Topic7\", \"Topic7\", \"Topic7\", \"Topic7\", \"Topic7\", \"Topic7\", \"Topic7\", \"Topic7\", \"Topic7\", \"Topic7\", \"Topic7\", \"Topic7\", \"Topic7\", \"Topic7\", \"Topic7\", \"Topic7\", \"Topic7\", \"Topic7\", \"Topic7\", \"Topic8\", \"Topic8\", \"Topic8\", \"Topic8\", \"Topic8\", \"Topic8\", \"Topic8\", \"Topic8\", \"Topic8\", \"Topic8\", \"Topic8\", \"Topic8\", \"Topic8\", \"Topic8\", \"Topic8\", \"Topic8\", \"Topic8\", \"Topic8\", \"Topic8\", \"Topic8\", \"Topic8\", \"Topic8\", \"Topic8\", \"Topic8\", \"Topic8\", \"Topic8\", \"Topic8\", \"Topic8\", \"Topic8\", \"Topic8\", \"Topic8\", \"Topic8\", \"Topic8\", \"Topic8\", \"Topic8\", \"Topic8\", \"Topic8\", \"Topic8\", \"Topic8\", \"Topic8\", \"Topic8\", \"Topic8\", \"Topic8\", \"Topic8\", \"Topic8\", \"Topic8\", \"Topic8\", \"Topic8\", \"Topic8\", \"Topic8\", \"Topic8\", \"Topic8\", \"Topic8\", \"Topic8\", \"Topic8\", \"Topic8\", \"Topic8\", \"Topic8\", \"Topic8\", \"Topic8\", \"Topic8\", \"Topic8\", \"Topic8\", \"Topic8\", \"Topic8\", \"Topic8\", \"Topic8\", \"Topic8\", \"Topic8\", \"Topic8\", \"Topic8\", \"Topic8\", \"Topic8\", \"Topic8\", \"Topic8\", \"Topic8\", \"Topic8\", \"Topic8\", \"Topic8\", \"Topic8\", \"Topic8\", \"Topic8\", \"Topic8\", \"Topic8\", \"Topic8\", \"Topic8\", \"Topic8\", \"Topic8\", \"Topic8\", \"Topic8\", \"Topic9\", \"Topic9\", \"Topic9\", \"Topic9\", \"Topic9\", \"Topic9\", \"Topic9\", \"Topic9\", \"Topic9\", \"Topic9\", \"Topic9\", \"Topic9\", \"Topic9\", \"Topic9\", \"Topic9\", \"Topic9\", \"Topic9\", \"Topic9\", \"Topic9\", \"Topic9\", \"Topic9\", \"Topic9\", \"Topic9\", \"Topic9\", \"Topic9\", \"Topic9\", \"Topic9\", \"Topic9\", \"Topic9\", \"Topic9\", \"Topic9\", \"Topic9\", \"Topic9\", \"Topic9\", \"Topic9\", \"Topic9\", \"Topic9\", \"Topic9\", \"Topic9\", \"Topic9\", \"Topic9\", \"Topic9\", \"Topic9\", \"Topic9\", \"Topic9\", \"Topic9\", \"Topic9\", \"Topic9\", \"Topic9\", \"Topic9\", \"Topic9\", \"Topic9\", \"Topic9\", \"Topic9\", \"Topic9\", \"Topic9\", \"Topic9\", \"Topic9\", \"Topic9\", \"Topic9\", \"Topic9\", \"Topic9\", \"Topic9\", \"Topic9\", \"Topic9\", \"Topic9\", \"Topic9\", \"Topic9\", \"Topic9\", \"Topic10\", \"Topic10\", \"Topic10\", \"Topic10\", \"Topic10\", \"Topic10\", \"Topic10\", \"Topic10\", \"Topic10\", \"Topic10\", \"Topic10\", \"Topic10\", \"Topic10\", \"Topic10\", \"Topic10\", \"Topic10\", \"Topic10\", \"Topic10\", \"Topic10\", \"Topic10\", \"Topic10\", \"Topic10\", \"Topic10\", \"Topic10\", \"Topic10\", \"Topic10\", \"Topic10\", \"Topic10\", \"Topic10\", \"Topic10\", \"Topic10\", \"Topic10\", \"Topic10\", \"Topic10\", \"Topic10\", \"Topic10\", \"Topic10\", \"Topic10\", \"Topic10\", \"Topic10\", \"Topic10\", \"Topic10\", \"Topic10\", \"Topic10\", \"Topic10\", \"Topic10\", \"Topic10\", \"Topic10\", \"Topic10\", \"Topic10\", \"Topic10\", \"Topic10\", \"Topic10\", \"Topic10\", \"Topic10\", \"Topic10\", \"Topic10\", \"Topic10\", \"Topic10\", \"Topic10\", \"Topic10\", \"Topic10\", \"Topic10\", \"Topic10\", \"Topic10\", \"Topic10\", \"Topic10\", \"Topic10\", \"Topic10\"], \"logprob\": [30.0, 29.0, 28.0, 27.0, 26.0, 25.0, 24.0, 23.0, 22.0, 21.0, 20.0, 19.0, 18.0, 17.0, 16.0, 15.0, 14.0, 13.0, 12.0, 11.0, 10.0, 9.0, 8.0, 7.0, 6.0, 5.0, 4.0, 3.0, 2.0, 1.0, -7.0985, -6.6613, -7.5477, -8.0648, -7.9077, -8.189, -8.4156, -7.5872, -8.4467, -7.5759, -8.6003, -7.5731, -8.537, -8.3631, -6.8058, -7.0525, -7.858, -6.7816, -7.7701, -8.7411, -8.8032, -8.1283, -8.3702, -8.4743, -8.1158, -8.8175, -8.8491, -8.7526, -8.9217, -7.7807, -6.4527, -7.2556, -7.5159, -8.3717, -5.3212, -6.7838, -7.4262, -6.6991, -6.6594, -6.7735, -6.6169, -7.2628, -6.4987, -7.4362, -5.4598, -5.2331, -6.1084, -6.5767, -6.7574, -4.8745, -7.2927, -6.2513, -6.371, -6.1981, -6.5678, -6.6443, -7.1932, -6.3129, -5.5728, -4.9982, -6.0811, -6.4596, -5.3685, -4.8844, -5.3422, -5.1633, -5.5871, -6.0003, -6.2226, -5.7494, -6.2522, -5.9719, -5.5269, -5.8794, -5.5666, -5.7012, -6.091, -6.04, -5.835, -5.5775, -5.9047, -5.7606, -6.0719, -5.8425, -5.9522, -6.0631, -6.0541, -6.0743, -6.904, -8.0615, -8.1081, -8.4636, -8.9821, -8.2762, -9.1386, -8.2284, -8.8557, -8.4934, -9.4531, -8.9352, -9.5536, -9.4314, -9.2135, -9.3712, -9.7091, -9.1826, -8.2209, -9.5557, -9.4605, -8.2716, -9.1158, -8.4941, -9.015, -9.7218, -8.84, -8.5645, -9.4485, -9.3965, -7.8824, -8.4048, -7.9169, -7.8757, -8.4091, -8.7085, -7.3851, -7.0341, -7.7793, -6.7407, -8.5176, -6.962, -7.3822, -8.525, -6.3608, -7.3952, -7.0214, -5.6122, -6.8789, -7.6698, -6.9489, -6.8976, -5.9578, -7.1229, -6.1869, -7.1137, -7.3954, -5.5862, -6.6553, -7.082, -5.7883, -6.0084, -5.7932, -6.068, -5.1517, -5.584, -6.0712, -4.6885, -5.2577, -5.6821, -5.5317, -5.5533, -5.0767, -5.1312, -6.0345, -6.6215, -5.6988, -5.9989, -5.6212, -5.6332, -5.6945, -6.0185, -6.2423, -5.6601, -5.8567, -6.0475, -5.4539, -5.5972, -5.8404, -5.8293, -5.8025, -5.9055, -5.9753, -6.0837, -5.8554, -7.4306, -7.5644, -7.9946, -8.1567, -7.1509, -7.6237, -7.7358, -8.1746, -8.0561, -8.1455, -7.0553, -8.0979, -8.2434, -8.025, -7.4009, -7.3778, -5.9093, -7.7025, -8.2958, -6.746, -7.6529, -7.5696, -6.483, -8.611, -6.4692, -7.4052, -8.443, -8.8468, -5.9663, -5.4903, -6.9921, -7.1471, -5.3942, -5.6356, -7.2699, -7.6022, -6.8883, -5.7743, -7.5582, -7.1211, -5.186, -5.4788, -6.8812, -6.3061, -7.0306, -5.2908, -5.539, -5.7825, -6.5487, -6.491, -7.0843, -6.1791, -4.6101, -6.0069, -6.2615, -5.4275, -5.4988, -6.0159, -5.8336, -5.4536, -5.1608, -5.5983, -5.4891, -5.6331, -5.607, -5.7841, -5.5488, -5.7426, -5.6538, -5.8169, -5.8434, -5.821, -5.835, -5.7631, -5.8531, -7.7226, -8.5915, -8.0995, -8.9594, -8.5819, -8.521, -9.0089, -8.6355, -9.1287, -8.7451, -9.0617, -8.8791, -9.3868, -8.9591, -9.0272, -9.0435, -9.103, -8.3885, -9.2958, -8.9881, -8.6219, -7.6788, -8.6601, -9.0648, -9.4808, -7.667, -9.2497, -8.6206, -8.6505, -7.8464, -6.2433, -7.344, -6.3557, -6.3513, -7.3327, -4.9641, -6.312, -6.9855, -6.0117, -6.2814, -5.9262, -7.1495, -8.0347, -6.2659, -6.2909, -6.8033, -6.8188, -6.6391, -4.9679, -7.0923, -7.1968, -7.1208, -6.5281, -5.1593, -7.2318, -4.9016, -6.1273, -4.6117, -7.0135, -6.0118, -5.1212, -6.5019, -6.7903, -5.6068, -6.5248, -6.2383, -5.7822, -6.4723, -5.8547, -4.6141, -4.7609, -5.7717, -5.2437, -5.3888, -5.4937, -5.3287, -5.8311, -5.9353, -5.1548, -5.449, -5.6867, -5.6257, -5.8291, -5.868, -5.782, -5.7061, -5.8367, -5.9105, -5.9509, -7.5437, -8.1938, -8.5749, -8.6221, -6.9362, -7.8586, -8.7996, -7.8023, -8.4738, -6.66, -8.7455, -6.717, -7.6815, -9.2388, -6.8163, -8.7493, -8.4391, -8.1919, -9.0139, -8.8042, -8.6556, -8.0654, -7.6264, -8.8053, -7.2511, -7.9612, -7.9716, -7.5922, -7.0401, -8.2476, -7.8612, -7.4209, -6.8107, -7.4177, -7.6066, -6.8973, -3.8942, -6.2801, -6.7225, -6.662, -5.5101, -4.5953, -6.8312, -7.3731, -7.4911, -5.0904, -5.4381, -6.526, -6.1478, -5.7534, -4.3598, -6.4122, -6.2435, -6.4016, -4.9158, -5.1927, -6.2748, -4.7074, -5.4132, -5.1604, -5.1381, -5.6626, -5.6496, -5.3703, -5.9229, -5.5704, -5.4019, -5.5796, -5.9867, -5.4641, -5.8335, -5.9812, -5.9068, -5.8739, -5.9294, -5.9849, -5.9319, -6.006, -6.0039, -6.5204, -6.4769, -7.2895, -6.8502, -7.4773, -6.7197, -7.9542, -7.7811, -7.9817, -8.0849, -8.0856, -8.1334, -8.2118, -8.1907, -7.7442, -8.2134, -8.1285, -8.0714, -8.1911, -7.9117, -8.2151, -8.132, -8.2361, -8.2648, -8.3597, -8.4132, -7.6051, -8.4153, -8.4703, -8.5603, -7.4387, -7.9669, -5.5581, -7.3495, -6.8302, -7.7231, -7.5141, -7.6261, -6.9959, -6.9388, -7.5296, -7.5522, -7.2853, -7.6309, -5.896, -6.8907, -5.9441, -6.4109, -6.4315, -6.0952, -6.9142, -6.6952, -6.4972, -4.6363, -6.6837, -6.4974, -5.2781, -5.8408, -5.7805, -5.172, -6.7052, -6.3762, -5.6265, -5.6953, -5.6466, -4.7086, -6.0928, -5.7395, -5.8227, -5.6751, -6.1587, -6.1822, -5.591, -5.4629, -6.2554, -5.8518, -5.5775, -5.5932, -5.4573, -5.6542, -5.4736, -5.7936, -5.7202, -5.6355, -5.8632, -5.8477, -5.8569, -5.9831, -6.7102, -7.9613, -6.2542, -8.1787, -6.511, -5.9726, -7.7749, -7.0287, -8.112, -6.7705, -8.9951, -7.2691, -8.7574, -7.5572, -7.1679, -8.4557, -8.4212, -6.9134, -7.9616, -8.3091, -8.5489, -8.5221, -8.6776, -8.1708, -9.0571, -7.337, -8.7581, -8.0454, -6.8955, -6.6427, -7.2552, -6.7342, -5.8575, -5.9621, -6.5156, -6.7611, -3.4457, -6.9225, -7.2127, -6.1604, -6.4405, -6.4158, -6.5111, -6.4881, -4.1055, -6.0159, -5.6112, -6.6667, -6.5236, -5.21, -5.0819, -4.2924, -4.9725, -5.062, -5.5605, -5.2958, -4.9053, -5.0671, -5.7336, -5.5892, -5.2492, -5.29, -6.175, -5.4345, -5.2139, -5.9179, -5.6185, -5.4636, -5.649, -5.6871, -5.6666, -5.4959, -5.7851, -5.6846, -5.7381, -5.8409, -5.834, -5.8036, -7.1976, -7.4792, -6.669, -7.0104, -7.6093, -7.4383, -7.1839, -7.7663, -7.5447, -7.7624, -8.0006, -7.7932, -7.7045, -7.7695, -7.7846, -8.1104, -6.9524, -7.9094, -8.0362, -8.1312, -8.2518, -7.8737, -7.7114, -7.8489, -7.8939, -7.7936, -8.3894, -8.375, -8.4564, -7.3729, -6.5022, -6.9953, -7.0985, -6.6415, -7.273, -6.73, -6.7559, -7.0806, -5.2256, -7.0811, -6.7635, -6.7103, -7.2602, -6.1476, -7.1326, -6.6188, -6.9314, -7.0011, -6.3258, -6.5127, -5.5173, -5.5464, -6.2587, -6.0522, -6.0429, -5.773, -6.1199, -6.7322, -5.9138, -5.4268, -5.665, -6.344, -5.8456, -5.7755, -5.9058, -5.5217, -5.6115, -6.1774, -5.1835, -6.0472, -5.6592, -6.0827, -5.1235, -5.2043, -6.2286, -5.5151, -5.6366, -5.2444, -5.4556, -5.6256, -5.5959, -5.4023, -5.645, -5.7013, -5.9019, -5.9693, -5.7739, -5.9582, -5.9878, -5.9874, -5.5899, -6.4437, -7.6517, -6.8841, -8.1575, -7.8206, -8.363, -7.6301, -6.0658, -6.5726, -7.24, -7.5851, -7.9655, -6.4752, -6.8503, -5.8905, -5.5658, -6.4385, -8.3133, -7.5503, -6.3581, -6.6062, -8.2961, -8.2404, -7.8846, -5.9147, -8.0768, -7.1543, -6.8432, -7.9271, -4.9407, -5.7586, -5.942, -6.9532, -6.7424, -5.9427, -5.4438, -5.3925, -5.0419, -4.0193, -4.7869, -6.5475, -5.287, -6.047, -5.0756, -5.6139, -5.4504, -5.7284, -6.3327, -5.3388, -4.6233, -5.1888, -6.112, -5.1769, -5.2881, -5.617, -4.8887, -5.7208, -5.4779, -5.2812, -5.4263, -5.515, -5.446, -5.5964, -5.6044, -5.6661, -5.6842, -5.6686, -5.6965, -7.1883, -7.5793, -7.3979, -7.2412, -7.3067, -7.358, -6.2534, -5.9042, -7.6154, -7.5247, -7.4415, -8.3506, -6.6118, -8.5989, -7.7779, -5.734, -6.4687, -7.8253, -4.8727, -7.8152, -8.3565, -5.2104, -7.5085, -6.4563, -6.3385, -8.2703, -7.1663, -7.8574, -7.2541, -7.1299, -6.4777, -6.2669, -5.6226, -7.0591, -4.7154, -5.5599, -6.6954, -6.9817, -6.2683, -5.6314, -5.4672, -5.7005, -6.3369, -6.3269, -6.0512, -5.1557, -5.8673, -5.8735, -4.3746, -6.1586, -5.5265, -4.8256, -5.2665, -4.8434, -5.1922, -5.0487, -5.1322, -5.2473, -5.1909, -5.8199, -5.4492, -5.531, -5.4155, -5.6001, -5.5864, -5.5618, -5.6557, -5.6192, -5.7574], \"loglift\": [30.0, 29.0, 28.0, 27.0, 26.0, 25.0, 24.0, 23.0, 22.0, 21.0, 20.0, 19.0, 18.0, 17.0, 16.0, 15.0, 14.0, 13.0, 12.0, 11.0, 10.0, 9.0, 8.0, 7.0, 6.0, 5.0, 4.0, 3.0, 2.0, 1.0, 1.6666, 1.6666, 1.6634, 1.6631, 1.6627, 1.6624, 1.6621, 1.6616, 1.6607, 1.6606, 1.66, 1.6596, 1.6589, 1.6584, 1.6583, 1.6583, 1.6572, 1.6571, 1.6566, 1.6561, 1.6561, 1.6549, 1.654, 1.652, 1.6519, 1.6513, 1.651, 1.6509, 1.6504, 1.6494, 1.6445, 1.6448, 1.6424, 1.649, 1.6071, 1.6261, 1.6342, 1.6158, 1.6131, 1.6161, 1.6048, 1.6224, 1.5871, 1.6217, 1.5295, 1.5166, 1.5504, 1.5359, 1.5486, 1.3231, 1.5943, 1.4621, 1.4599, 1.4289, 1.4775, 1.4801, 1.5764, 1.3737, 1.1851, 1.0109, 1.2617, 1.3551, 0.9236, 0.2463, 0.5111, 0.1503, 0.4879, 0.7858, 1.0076, 0.4053, 1.0148, 0.6488, 0.0012, 0.4275, -0.1034, 0.0973, 0.7261, 0.6177, 0.1099, -0.6067, 0.1119, -0.375, 0.5256, -0.3021, -0.1669, 0.4261, -0.2783, 0.2726, 1.8601, 1.8468, 1.8431, 1.8393, 1.8273, 1.8264, 1.8187, 1.8159, 1.8141, 1.8075, 1.8065, 1.8062, 1.8059, 1.8008, 1.797, 1.7957, 1.795, 1.7926, 1.7906, 1.7904, 1.7901, 1.7897, 1.7894, 1.7884, 1.7862, 1.7855, 1.7844, 1.7833, 1.7796, 1.7776, 1.7742, 1.7748, 1.769, 1.7588, 1.7621, 1.7676, 1.7186, 1.663, 1.7055, 1.6367, 1.7475, 1.6268, 1.6576, 1.7446, 1.5477, 1.6399, 1.5884, 1.4047, 1.5495, 1.6358, 1.5212, 1.505, 1.3412, 1.541, 1.3678, 1.5058, 1.5578, 1.0885, 1.3433, 1.4445, 0.9941, 1.0456, 0.9214, 1.0135, 0.624, 0.7862, 0.9654, 0.2824, 0.5408, 0.7392, 0.5941, 0.5772, 0.2369, 0.2544, 0.7647, 1.1793, 0.4802, 0.6949, 0.3425, 0.3117, 0.3221, 0.6397, 0.8527, 0.1762, 0.3844, 0.6093, -0.3232, -0.134, 0.2426, -0.0409, -0.2744, 0.1036, 0.1835, 2.0627, 2.0624, 2.0574, 2.0541, 2.0527, 2.0501, 2.0499, 2.0498, 2.0491, 2.049, 2.0485, 2.0478, 2.0476, 2.0472, 2.0458, 2.0447, 2.0434, 2.0428, 2.0413, 2.0412, 2.0411, 2.0409, 2.0391, 2.0387, 2.0386, 2.0383, 2.0381, 2.0374, 2.0372, 2.0344, 2.0331, 2.0192, 2.0337, 2.0324, 2.0144, 1.9824, 2.0236, 2.0269, 1.9907, 1.9243, 2.019, 1.9801, 1.8025, 1.8198, 1.9504, 1.8792, 1.9651, 1.7096, 1.7141, 1.6665, 1.8223, 1.7354, 1.9353, 1.5969, 0.8532, 1.4311, 1.4304, 0.7491, 0.7884, 1.0188, 0.7752, 0.3317, -0.0301, 0.4767, 0.1466, 0.3118, 0.2476, 0.5349, -0.1632, 0.2211, -0.1256, 0.287, 0.3112, 0.0323, -0.0366, -0.7923, -0.0774, 2.1096, 2.0947, 2.0898, 2.0793, 2.0777, 2.0776, 2.0749, 2.0746, 2.0732, 2.0716, 2.0677, 2.0621, 2.0613, 2.0563, 2.0524, 2.0503, 2.0497, 2.0496, 2.0478, 2.0383, 2.0376, 2.0369, 2.0366, 2.0364, 2.0358, 2.0353, 2.0352, 2.0335, 2.0298, 2.0297, 2.0133, 2.0169, 1.9734, 1.9681, 1.994, 1.8956, 1.9158, 1.9485, 1.8546, 1.8696, 1.8344, 1.9225, 1.9869, 1.824, 1.8252, 1.8702, 1.869, 1.8502, 1.6659, 1.8773, 1.8757, 1.862, 1.772, 1.5616, 1.8734, 1.4888, 1.6774, 1.3863, 1.8289, 1.5549, 1.215, 1.6516, 1.7417, 1.2707, 1.5904, 1.4436, 1.1537, 1.5249, 1.1306, 0.3567, 0.3698, 0.9918, 0.5448, 0.6437, 0.7191, 0.5075, 0.9681, 1.0818, 0.1589, 0.0791, 0.4782, 0.2289, 0.5967, 0.4789, 0.0033, -0.3206, 0.1109, 0.3964, -0.4104, 2.3848, 2.376, 2.3757, 2.3696, 2.3662, 2.3661, 2.3645, 2.3514, 2.3504, 2.3356, 2.334, 2.3284, 2.3276, 2.3254, 2.3112, 2.3109, 2.3086, 2.3077, 2.3077, 2.3058, 2.2906, 2.2872, 2.2862, 2.2828, 2.2823, 2.2778, 2.2693, 2.2653, 2.2652, 2.2627, 2.2574, 2.2291, 2.1931, 2.2092, 2.2002, 2.1064, 1.7414, 2.021, 2.0768, 1.9771, 1.7472, 1.5554, 1.9788, 2.1031, 2.1246, 1.397, 1.4717, 1.8193, 1.6349, 1.483, 0.9539, 1.6728, 1.5599, 1.602, 0.582, 0.7549, 1.4422, 0.2635, 0.6194, 0.38, 0.3252, 0.7316, 0.5269, 0.1578, 0.8632, 0.2842, -0.0163, 0.2057, 0.7464, -0.3334, 0.3792, 0.355, 0.0569, -0.0982, 0.0685, 0.18, -0.1434, 0.1608, -0.1506, 2.4926, 2.4911, 2.4872, 2.4866, 2.485, 2.4798, 2.4776, 2.4767, 2.4751, 2.4738, 2.4737, 2.4721, 2.4716, 2.4707, 2.4706, 2.47, 2.4699, 2.4698, 2.4698, 2.4695, 2.4677, 2.4653, 2.4652, 2.4649, 2.4647, 2.4638, 2.4628, 2.4625, 2.4618, 2.4605, 2.455, 2.4595, 2.4344, 2.4457, 2.4269, 2.4512, 2.4384, 2.4426, 2.4071, 2.3969, 2.4335, 2.4336, 2.4012, 2.424, 2.2414, 2.3389, 2.2223, 2.1917, 2.1677, 2.0757, 2.2417, 2.1855, 2.1386, 1.6049, 2.1348, 2.0739, 1.6668, 1.8069, 1.7541, 1.5027, 2.1111, 1.9355, 1.5597, 1.5415, 1.4569, 0.6769, 1.642, 1.3118, 1.1862, 0.9988, 1.5117, 1.4283, 0.5678, 0.3255, 1.5257, 0.7986, 0.221, 0.1826, -0.1436, 0.2934, -0.5027, 0.3713, 0.0651, -0.5047, 0.2406, 0.0069, -0.3165, 0.4201, 2.5495, 2.5362, 2.5053, 2.5035, 2.4974, 2.4882, 2.474, 2.4734, 2.4705, 2.4558, 2.4362, 2.4194, 2.4116, 2.4101, 2.4085, 2.3894, 2.3782, 2.3756, 2.3748, 2.3522, 2.3429, 2.3404, 2.3208, 2.3175, 2.3109, 2.3103, 2.3086, 2.3077, 2.2998, 2.2937, 2.2871, 2.2742, 2.2416, 2.242, 2.2518, 2.2562, 2.0522, 2.2384, 2.2565, 2.1307, 2.1592, 2.1323, 2.1272, 2.068, 1.4349, 1.8934, 1.7491, 2.0928, 1.9948, 1.3861, 1.3122, 0.6785, 1.0367, 1.021, 1.3444, 1.1074, 0.7304, 0.7861, 1.3205, 1.069, 0.6957, 0.5463, 1.6542, 0.5821, 0.0997, 1.1519, 0.5614, 0.0645, 0.3835, 0.4435, 0.2971, -0.3652, 0.617, 0.0911, 0.2095, 0.6465, 0.3206, -0.4181, 2.6357, 2.63, 2.6298, 2.6295, 2.6288, 2.6256, 2.6243, 2.6237, 2.6236, 2.6221, 2.6219, 2.6215, 2.6201, 2.6198, 2.6197, 2.6192, 2.6189, 2.6181, 2.6178, 2.6174, 2.6133, 2.6115, 2.6112, 2.6109, 2.6087, 2.6087, 2.6079, 2.6073, 2.6067, 2.6066, 2.5982, 2.6018, 2.6013, 2.5937, 2.6017, 2.5902, 2.5849, 2.5934, 2.5335, 2.5884, 2.5747, 2.5702, 2.5921, 2.5296, 2.5722, 2.5278, 2.5504, 2.5495, 2.482, 2.4843, 2.3412, 2.3439, 2.4279, 2.3853, 2.3622, 2.2519, 2.3198, 2.4186, 2.0859, 1.7593, 1.858, 2.2081, 1.9355, 1.8721, 1.9397, 1.6406, 1.6253, 1.9655, 1.0577, 1.8227, 1.392, 1.6756, 0.2621, 0.3239, 1.8719, 0.5888, 0.7537, -0.1137, 0.3329, 0.5393, 0.4021, -0.4314, 0.1403, 0.2463, 1.034, 1.2412, -0.3107, 1.1453, 1.2329, 0.3336, 2.8905, 2.8645, 2.8548, 2.8438, 2.8414, 2.8286, 2.8274, 2.8241, 2.8226, 2.821, 2.8207, 2.8204, 2.8193, 2.8165, 2.8071, 2.8051, 2.7884, 2.7814, 2.7725, 2.7675, 2.7618, 2.76, 2.7274, 2.7227, 2.7174, 2.715, 2.7132, 2.6904, 2.6854, 2.6819, 2.6772, 2.668, 2.6339, 2.6721, 2.6582, 2.6012, 2.541, 2.528, 2.3726, 2.1606, 2.232, 2.5686, 2.2507, 2.4407, 2.1588, 2.31, 2.2415, 2.2793, 2.477, 1.9476, 1.213, 1.5866, 2.2671, 1.3597, 1.4626, 1.6861, 0.2421, 1.5634, 0.8141, 0.2592, 0.4269, 0.4326, 0.0821, 0.6164, 0.4705, 0.1192, 0.1043, -0.6978, 0.4703, 3.0913, 3.0871, 3.0794, 3.0374, 3.0356, 3.0254, 3.0189, 2.9931, 2.9722, 2.9714, 2.9533, 2.943, 2.9385, 2.93, 2.9264, 2.9246, 2.9229, 2.9058, 2.8923, 2.8854, 2.8631, 2.8467, 2.8419, 2.8355, 2.8306, 2.8195, 2.8101, 2.8101, 2.7977, 2.772, 2.7364, 2.7234, 2.599, 2.7377, 2.4167, 2.5248, 2.6723, 2.7237, 2.5493, 2.3135, 2.1247, 2.1029, 2.3403, 2.3302, 1.9913, 1.3316, 1.8246, 1.8279, 0.5962, 1.9993, 1.3833, 0.6723, 0.8842, 0.2873, 0.661, 0.3369, 0.396, 0.538, 0.2724, 1.4527, 0.4984, 0.6456, 0.2201, 0.7208, 0.5804, 0.2928, 0.4193, 0.1693, 0.0184]}, \"token.table\": {\"Topic\": [1, 2, 3, 4, 5, 7, 8, 9, 10, 1, 2, 3, 5, 7, 10, 3, 5, 7, 8, 2, 6, 1, 2, 3, 4, 5, 6, 7, 8, 9, 10, 7, 10, 5, 10, 1, 2, 3, 4, 5, 6, 7, 8, 9, 10, 1, 2, 4, 6, 8, 1, 3, 6, 7, 8, 9, 10, 1, 2, 3, 4, 5, 6, 7, 8, 9, 10, 2, 4, 5, 6, 8, 1, 2, 3, 4, 5, 6, 7, 8, 9, 10, 6, 7, 8, 4, 7, 2, 3, 5, 6, 8, 9, 10, 2, 3, 6, 1, 2, 3, 4, 5, 6, 7, 8, 9, 10, 1, 2, 4, 5, 8, 9, 10, 1, 2, 3, 4, 5, 6, 7, 8, 9, 10, 1, 2, 3, 4, 5, 6, 7, 8, 9, 10, 1, 2, 3, 4, 5, 6, 7, 8, 9, 10, 1, 2, 3, 4, 5, 6, 7, 8, 10, 2, 3, 5, 6, 7, 1, 2, 3, 4, 5, 6, 7, 8, 9, 10, 1, 2, 3, 5, 7, 8, 10, 2, 3, 7, 10, 1, 2, 3, 4, 7, 9, 1, 2, 3, 4, 5, 6, 7, 9, 10, 1, 2, 3, 4, 5, 7, 1, 2, 4, 6, 8, 1, 2, 3, 4, 6, 8, 9, 1, 2, 3, 4, 7, 9, 2, 6, 8, 1, 2, 6, 8, 1, 2, 3, 4, 5, 6, 8, 9, 1, 2, 3, 4, 5, 6, 7, 8, 9, 10, 1, 3, 4, 8, 9, 1, 2, 3, 4, 5, 6, 7, 8, 9, 10, 6, 8, 1, 2, 3, 4, 6, 8, 9, 1, 2, 3, 4, 5, 7, 8, 10, 2, 1, 2, 3, 4, 5, 6, 7, 8, 9, 10, 1, 2, 3, 4, 5, 9, 10, 1, 2, 3, 4, 5, 6, 7, 8, 9, 10, 1, 2, 3, 4, 5, 6, 7, 8, 9, 10, 2, 4, 5, 1, 3, 4, 9, 3, 9, 1, 2, 3, 4, 5, 6, 8, 1, 2, 3, 4, 5, 6, 7, 8, 9, 10, 8, 1, 2, 3, 4, 5, 6, 7, 8, 10, 2, 6, 8, 7, 10, 1, 2, 3, 5, 6, 8, 9, 2, 4, 5, 1, 2, 3, 4, 5, 6, 7, 8, 9, 10, 1, 2, 3, 4, 5, 7, 8, 9, 10, 1, 2, 3, 4, 5, 7, 8, 9, 10, 1, 2, 3, 4, 5, 6, 7, 8, 9, 10, 8, 9, 1, 2, 3, 4, 7, 8, 1, 2, 3, 4, 5, 6, 7, 8, 9, 10, 1, 2, 3, 4, 5, 6, 7, 8, 9, 10, 1, 2, 3, 4, 5, 6, 7, 8, 9, 10, 4, 7, 1, 2, 3, 5, 8, 10, 3, 3, 1, 2, 3, 4, 5, 6, 7, 8, 9, 1, 4, 10, 1, 3, 9, 1, 2, 3, 4, 5, 7, 9, 10, 2, 3, 5, 10, 2, 6, 8, 4, 4, 2, 3, 5, 2, 3, 1, 2, 3, 4, 5, 6, 7, 8, 9, 10, 1, 2, 3, 4, 5, 6, 9, 10, 3, 1, 2, 4, 5, 6, 7, 8, 10, 2, 4, 6, 8, 1, 2, 3, 4, 5, 6, 7, 8, 9, 10, 2, 4, 5, 6, 9, 10, 1, 2, 3, 4, 5, 6, 7, 8, 10, 1, 2, 3, 4, 5, 6, 7, 8, 9, 10, 1, 2, 3, 4, 5, 6, 7, 8, 9, 10, 2, 8, 1, 2, 3, 4, 5, 6, 7, 8, 9, 10, 1, 2, 4, 7, 8, 9, 10, 1, 2, 3, 4, 5, 6, 7, 8, 9, 10, 1, 2, 3, 4, 5, 6, 7, 8, 9, 10, 1, 2, 3, 4, 8, 10, 2, 1, 2, 3, 4, 5, 6, 7, 8, 9, 10, 2, 3, 4, 5, 10, 1, 2, 3, 4, 7, 8, 9, 10, 3, 1, 2, 3, 4, 5, 6, 7, 8, 9, 10, 1, 2, 3, 4, 5, 6, 7, 8, 9, 10, 1, 2, 3, 4, 5, 6, 7, 8, 9, 10, 6, 3, 4, 2, 2, 3, 6, 2, 4, 5, 6, 1, 2, 5, 10, 2, 6, 1, 2, 5, 8, 9, 10, 1, 2, 3, 4, 5, 6, 7, 8, 9, 10, 2, 6, 8, 1, 2, 4, 6, 8, 10, 4, 8, 1, 2, 3, 4, 5, 6, 7, 8, 9, 10, 1, 2, 4, 5, 7, 9, 10, 8, 5, 5, 6, 1, 2, 3, 4, 5, 6, 7, 8, 9, 10, 5, 7, 1, 2, 3, 4, 5, 6, 8, 9, 1, 2, 3, 4, 5, 7, 8, 9, 10, 1, 2, 3, 4, 5, 6, 7, 8, 9, 10, 4, 10, 1, 2, 3, 4, 5, 7, 9, 1, 3, 4, 8, 9, 1, 2, 3, 4, 5, 6, 7, 8, 9, 10, 1, 2, 3, 4, 5, 6, 7, 8, 9, 10, 2, 4, 6, 1, 2, 3, 4, 5, 6, 7, 8, 9, 10, 1, 2, 3, 4, 5, 6, 7, 8, 9, 10, 1, 2, 3, 4, 5, 6, 7, 8, 9, 10, 1, 2, 3, 4, 5, 6, 7, 8, 9, 10, 1, 2, 3, 4, 5, 6, 7, 8, 9, 10, 3, 7, 1, 2, 3, 4, 5, 6, 7, 8, 9, 10, 1, 2, 3, 4, 5, 6, 7, 8, 9, 10, 1, 2, 3, 4, 5, 7, 8, 9, 10, 1, 2, 3, 4, 5, 6, 7, 8, 9, 10, 1, 2, 3, 4, 5, 6, 7, 9, 2, 5, 8, 10, 1, 4, 5, 2, 7, 8, 10, 1, 3, 4, 8, 9, 10, 1, 4, 6, 8, 9, 4, 9, 2, 3, 4, 6, 8, 1, 3, 4, 5, 6, 7, 9, 10, 1, 2, 3, 4, 5, 6, 8, 9, 10, 1, 2, 3, 4, 5, 6, 7, 9, 10, 1, 2, 6, 10, 3, 1, 2, 3, 4, 5, 6, 7, 8, 9, 10, 1, 2, 3, 4, 5, 6, 7, 8, 9, 10, 6, 1, 2, 3, 4, 5, 6, 7, 8, 9, 10, 1, 2, 3, 4, 5, 6, 7, 8, 9, 10, 1, 2, 3, 4, 5, 6, 7, 8, 9, 10, 1, 2, 3, 4, 5, 6, 7, 8, 9, 10, 1, 2, 3, 4, 5, 6, 7, 8, 9, 10, 1, 2, 3, 4, 5, 6, 7, 8, 9, 10, 2, 1, 2, 3, 4, 5, 6, 7, 8, 9, 10, 1, 2, 3, 4, 5, 6, 7, 8, 9, 10, 8, 9, 1, 2, 3, 4, 5, 6, 7, 8, 9, 10, 1, 2, 3, 4, 6, 8, 9, 10, 2, 3, 4, 6, 7, 9, 1, 2, 3, 4, 5, 6, 7, 8, 9, 10, 2, 3, 5, 7, 9, 10, 2, 5, 1, 2, 3, 4, 5, 7, 6, 1, 2, 3, 4, 5, 6, 7, 8, 9, 10, 1, 2, 3, 4, 5, 6, 7, 8, 9, 10, 1, 2, 3, 5, 6, 7, 10, 2, 1, 2, 3, 4, 5, 6, 7, 8, 9, 10, 5, 10, 1, 2, 3, 4, 5, 6, 7, 8, 9, 10, 1, 2, 3, 4, 5, 6, 7, 8, 9, 10, 1, 2, 3, 4, 5, 6, 7, 8, 9, 10, 1, 2, 3, 4, 5, 6, 8, 9, 10, 1, 2, 3, 4, 5, 6, 7, 8, 9, 10, 1, 2, 3, 1, 2, 3, 4, 5, 7, 9, 1, 2, 3, 4, 5, 6, 7, 8, 9, 10, 6, 8, 1, 2, 3, 4, 5, 6, 7, 8, 9, 10, 6, 1, 2, 3, 4, 5, 6, 7, 8, 9, 10, 1, 3, 4, 7, 9, 1, 3, 4, 9, 1, 3, 9, 1, 2, 3, 6, 7, 8, 9, 10, 1, 2, 3, 4, 5, 6, 7, 8, 9, 10, 1, 2, 3, 4, 5, 6, 7, 8, 9, 10, 1, 5, 6, 9, 4, 6, 1, 2, 3, 4, 5, 6, 7, 8, 9, 10, 1, 2, 3, 4, 5, 7, 8, 10, 6, 1, 2, 3, 4, 5, 6, 7, 8, 9, 10, 1, 2, 3, 4, 5, 6, 7, 8, 9, 10, 2, 6, 8, 8, 1, 2, 3, 4, 5, 8, 9, 10, 1, 3, 5, 7, 10, 1, 4, 1, 2, 10, 2, 6, 8, 1, 2, 3, 4, 5, 6, 7, 8, 9, 10, 1, 2, 3, 4, 5, 1, 2, 3, 4, 5, 6, 7, 9, 10, 1, 2, 3, 4, 5, 6, 7, 8, 9, 10, 1, 5, 7, 1, 2, 3, 4, 5, 6, 7, 8, 9, 10, 3, 5, 9, 10, 3, 7, 10, 1, 2, 5, 6, 8, 8, 1, 2, 5, 6, 10, 1, 2, 3, 4, 5, 6, 7, 8, 9, 10, 1, 3, 4, 5, 7, 10, 1, 2, 4, 5, 10, 8, 1, 2, 3, 5, 7, 3, 9, 1, 2, 3, 5, 7, 9, 10, 1, 2, 3, 4, 5, 6, 7, 8, 9, 10, 1, 2, 3, 4, 5, 6, 7, 8, 10, 1, 5, 7, 9, 10, 2, 3, 4, 5, 6, 7, 9, 3, 5, 6, 1, 2, 3, 4, 5, 6, 7, 10, 1, 2, 3, 4, 5, 6, 7, 8, 9, 10, 1, 1, 2, 3, 4, 5, 6, 7, 8, 9, 10, 1, 2, 3, 4, 5, 6, 7, 8, 9, 10, 8, 1, 2, 3, 4, 5, 6, 7, 8, 9, 10, 5, 5, 7, 10, 1, 2, 3, 4, 5, 6, 7, 8, 9, 10, 4, 6, 1, 2, 3, 4, 5, 6, 7, 8, 9, 10, 6, 8, 3, 2, 4, 8, 1, 4, 10, 7, 9, 1, 2, 3, 4, 8, 1, 2, 3, 4, 5, 6, 7, 8, 9, 10, 1, 3, 9, 1, 4, 6, 8, 6, 1, 2, 3, 4, 5, 6, 7, 8, 9, 10, 1, 2, 3, 4, 5, 6, 7, 8, 9, 10, 1, 4, 10, 1, 3, 5, 10, 6, 2, 6, 8, 1, 5, 7, 1, 2, 4, 5, 7, 8, 9, 1, 2, 3, 4, 5, 6, 7, 8, 9, 10, 2, 4, 1, 2, 3, 4, 5, 6, 7, 8, 9, 10, 1, 3, 6, 1, 2, 3, 4, 5, 7, 8, 1, 2, 3, 4, 5, 6, 7, 8, 9, 10, 4, 2, 3, 4, 8, 1, 2, 3, 5, 7, 9, 10, 2, 4, 5, 1, 2, 3, 4, 5, 6, 7, 8, 9, 10, 3, 4, 5, 1, 2, 3, 4, 5, 6, 7, 8, 9, 10, 9, 1, 9, 1, 2, 3, 4, 5, 6, 7, 8, 9, 10, 1, 3, 9, 4, 1, 2, 3, 4, 5, 6, 7, 8, 9, 1, 2, 3, 4, 5, 6, 8, 9, 1, 2, 3, 4, 5, 6, 7, 8, 9, 10, 1, 2, 3, 4, 5, 6, 7, 9, 1, 2, 3, 4, 5, 8, 10, 2, 2, 3, 4, 5, 8, 1, 1, 2, 3, 4, 5, 6, 7, 8, 9, 10, 1, 2, 3, 4, 5, 7, 9, 1, 1, 2, 3, 4, 5, 6, 7, 8, 9, 10, 4, 6, 1, 2, 3, 4, 5, 6, 7, 8, 9, 10, 8, 1, 2, 3, 4, 5, 6, 8, 9, 1, 2, 3, 4, 5, 6, 7, 8, 9, 10, 4, 8, 9, 2, 8, 1, 2, 3, 4, 7, 8, 9, 10, 2, 2, 5, 6, 8, 3, 5, 1, 2, 3, 4, 5, 6, 7, 8, 9, 10, 2, 3, 6, 2, 2, 4, 6, 2, 8, 3, 5, 1, 2, 3, 4, 5, 6, 7, 8, 9, 10, 5, 7, 1, 2, 3, 7, 1, 4, 8, 9, 2, 4, 5, 7, 8, 10, 3, 1, 2, 3, 4, 5, 6, 7, 8, 9, 10, 1, 2, 4, 6, 7, 8, 9, 10, 1, 2, 3, 4, 5, 6, 7, 8, 9, 10, 1, 2, 3, 4, 5, 6, 8, 9, 10, 1, 4, 5, 9, 10, 1, 3, 4, 5, 9, 10, 1, 2, 3, 4, 5, 6, 7, 8, 9, 10, 2, 4, 5, 6, 7, 8, 9, 1, 2, 3, 4, 5, 6, 8, 5, 8, 1, 2, 3, 4, 5, 6, 7, 8, 9, 10, 1, 5, 7, 10, 1, 2, 3, 4, 5, 6, 7, 8, 9, 10, 1, 2, 3, 4, 5, 6, 7, 8, 1, 2, 4, 5, 6, 8, 2, 4, 6, 1, 3, 9, 1, 3, 5, 6, 8, 9, 3, 1, 2, 3, 4, 5, 6, 7, 8, 9, 10, 2, 5, 6, 8, 1, 2, 3, 4, 5, 6, 7, 8, 9, 10, 3, 1, 2, 3, 4, 5, 6, 7, 8, 9, 10, 6, 1, 2, 3, 5, 6, 7, 10, 1, 2, 3, 4, 6, 7, 8, 9, 10, 1, 2, 3, 4, 5, 6, 7, 8, 9, 10, 1, 2, 3, 4, 5, 6, 7, 8, 9, 10, 1, 7, 1, 2, 3, 4, 5, 6, 7, 9, 10, 1, 2, 3, 4, 5, 6, 7, 8, 9, 10, 1, 2, 3, 4, 5, 6, 7, 8, 9, 10, 1, 7, 1, 2, 3, 4, 5, 7, 9, 10, 1, 2, 3, 4, 5, 6, 7, 8, 9, 10, 1, 2, 3, 4, 5, 6, 7, 8, 9, 10, 1, 4, 1, 2, 4, 7, 8, 9, 10, 1, 2, 3, 4, 5, 6, 7, 8, 9, 10, 1, 8, 9, 1, 2, 3, 4, 5, 6, 7, 8, 9, 10, 2, 1, 2, 3, 4, 5, 6, 7, 8, 9, 10, 2, 4, 8, 1, 2, 3, 4, 6, 7, 8, 9, 1, 2, 3, 4, 5, 6, 7, 8, 10, 1, 2, 4, 8, 1, 2, 3, 4, 5, 6, 7, 8, 9, 10, 1, 2, 3, 4, 5, 7, 8, 9, 10, 2, 1, 2, 3, 4, 5, 7, 1, 2, 3, 4, 5, 6, 7, 8, 9, 10, 1, 2, 3, 5, 7, 8, 1, 2, 3, 4, 5, 6, 7, 8, 9, 10, 3, 6, 8, 1, 3, 4, 9, 2, 10, 1, 2, 3, 4, 5, 6, 7, 8, 9, 10, 1, 3, 5, 1, 2, 3, 5, 7, 9, 10, 6, 8, 1, 2, 3, 4, 5, 6, 7, 8, 9, 10, 1, 2, 3, 4, 5, 6, 8, 10, 1, 4, 1, 3, 5, 7, 10, 1, 5, 10, 1, 2, 3, 4, 5, 6, 7, 8, 9, 10, 1, 5, 7, 9, 10, 1, 2, 3, 4, 5, 6, 8, 9, 1, 3, 4, 5, 7, 9, 10, 1, 2, 3, 4, 5, 6, 7, 8, 9, 10, 1, 2, 3, 4, 5, 6, 7, 8, 9, 10, 1, 8, 9, 1, 2, 3, 4, 5, 6, 8, 9, 10, 1, 2, 3, 4, 5, 6, 7, 8, 9, 10, 1, 2, 3, 4, 5, 6, 7, 8, 9, 10, 1, 3, 4, 5, 8, 10, 1, 3, 1, 2, 3, 4, 6, 8, 9, 6, 1, 2, 4, 5, 6, 8, 10, 1, 9, 6, 6, 1, 2, 4, 5, 7, 1, 2, 3, 4, 6, 3, 1, 2, 3, 4, 5, 6, 8, 9, 1, 1, 2, 3, 4, 5, 6, 7, 8, 9, 10, 1, 2, 3, 4, 5, 6, 7, 8, 9, 10, 1, 1, 2, 3, 4, 5, 6, 7, 8, 9, 10, 1, 2, 3, 4, 5, 6, 7, 8, 9, 10, 1, 2, 3, 4, 6, 8, 9, 10, 1, 3, 4, 5, 7, 8, 10, 1, 2, 3, 4, 5, 6, 7, 8, 9, 10, 4, 3, 5, 7, 10, 6, 2, 5, 1, 2, 3, 4, 5, 6, 7, 8, 9, 10, 1, 3, 5, 7, 10, 3, 5, 6, 4, 8, 10, 1, 1, 2, 3, 4, 5, 6, 7, 8, 9, 10, 4, 9, 1, 2, 4, 5, 6, 7, 8, 9, 10, 4, 1, 2, 3, 4, 5, 6, 7, 8, 9, 10, 1, 2, 3, 4, 6, 8, 9, 1, 2, 3, 4, 5, 6, 7, 8, 9, 10, 1, 2, 3, 4, 5, 6, 7, 8, 9, 10, 1, 2, 3, 4, 5, 6, 7, 8, 9, 10, 4, 5, 7, 10, 1, 3, 4, 7, 8, 10, 4, 5, 6, 9, 10, 6, 8, 4, 1, 2, 3, 4, 5, 6, 7, 8, 9, 10, 5, 1, 2, 3, 4, 5, 6, 7, 8, 9, 10, 1, 2, 3, 4, 5, 6, 7, 8, 9, 10, 1, 2, 3, 4, 5, 6, 7, 8, 9, 10, 1, 2, 3, 4, 5, 6, 7, 8, 9, 10, 1, 2, 3, 4, 5, 6, 7, 8, 10, 1, 2, 3, 4, 5, 6, 7, 8, 9, 10, 1, 3, 4, 6, 9, 1, 2, 3, 4, 5, 6, 7, 8, 9, 10, 1, 2, 3, 5, 6, 7, 10, 8, 1, 2, 4, 5, 7, 10, 2, 3, 5, 6, 7, 8, 10, 1, 2, 3, 4, 5, 6, 7, 8, 9, 2, 6, 8, 6, 1, 3, 10, 1, 2, 3, 4, 5, 6, 7, 8, 9, 10, 1, 6, 4, 5, 1, 2, 3, 4, 5, 6, 7, 8, 9, 10, 6, 5, 7, 10, 4, 1, 2, 3, 4, 5, 6, 7, 8, 9, 10, 1, 2, 1, 2, 3, 4, 5, 6, 7, 8, 9, 10, 1, 2, 3, 4, 5, 6, 7, 8, 9, 10, 1, 2, 3, 4, 6, 7, 8, 9, 1, 2, 4, 6, 8, 9, 5, 6, 8, 1, 2, 3, 4, 7, 8, 10, 2, 8, 10, 8, 1, 2, 3, 4, 5, 6, 7, 8, 9, 10, 1, 3, 4, 8, 2, 6, 2, 1, 3, 4, 6, 9, 1, 2, 3, 4, 5, 6, 7, 8, 9, 10, 1, 2, 3, 4, 5, 6, 7, 8, 9, 10, 3, 1, 2, 3, 4, 5, 6, 7, 8, 9, 10, 1, 2, 3, 4, 5, 6, 7, 8, 9, 10, 1, 3, 9, 1, 2, 3, 4, 8, 1, 2, 3, 4, 5, 6, 7, 8, 9, 10, 1, 2, 3, 4, 5, 6, 7, 8, 9, 10, 2, 3, 6, 2, 6, 8, 1, 2, 3, 4, 5, 6, 7, 8, 9, 10, 1, 2, 3, 4, 5, 6, 7, 8, 9, 10, 1, 2, 3, 4, 6, 7, 8, 9, 3, 3, 5, 7, 1, 2, 3, 4, 5, 6, 7, 8, 9, 10, 1, 3, 4, 5, 8, 9, 4, 5, 1, 2, 4, 6, 8, 9, 10, 1, 2, 3, 4, 5, 6, 7, 8, 9, 10, 1, 1, 2, 3, 4, 5, 6, 7, 8, 9, 10, 1, 2, 3, 4, 5, 6, 7, 8, 9, 10, 6, 1, 2, 3, 4, 5, 6, 7, 8, 9, 10, 1, 2, 3, 4, 5, 6, 7, 8, 9, 10, 1, 2, 3, 4, 5, 6, 7, 8, 9, 10, 1, 1, 3, 5, 1, 2, 3, 5, 7, 10, 1, 4, 7, 1, 2, 3, 4, 5, 6, 7, 8, 9, 10, 8, 1, 2, 3, 4, 7, 8, 9, 6, 1, 1, 3, 5, 7, 1, 2, 3, 4, 5, 6, 7, 8, 9, 10, 1, 2, 3, 4, 5, 6, 7, 8, 9, 10, 6, 8, 1, 2, 3, 4, 5, 6, 7, 8, 9, 10, 1, 2, 3, 4, 8, 9, 1, 3, 2, 3, 4, 5, 6, 7, 10, 3, 10, 1, 4, 8, 8, 1, 2, 3, 4, 5, 6, 7, 8, 9, 10, 1, 2, 3, 4, 6, 8, 1, 4, 1, 2, 3, 4, 5, 6, 7, 8, 9, 10, 2, 6, 7, 2, 3, 4, 5, 7, 8, 1, 2, 3, 4, 5, 6, 7, 8, 9, 10, 2, 6, 1, 2, 3, 4, 5, 7, 9, 10, 7, 10, 2, 8, 2, 1, 2, 3, 4, 5, 6, 7, 8, 9, 1, 2, 4, 5, 6, 8, 10, 6, 2, 1, 2, 3, 4, 6, 7, 8, 9, 10, 2, 8, 1, 2, 3, 4, 5, 6, 7, 8, 9, 10, 8, 4, 8, 10, 1, 2, 3, 4, 5, 6, 7, 8, 9, 10, 3, 5, 9, 1, 2, 3, 4, 5, 6, 7, 8, 9, 10, 1, 4, 9, 1, 2, 3, 7, 8, 10, 1, 3, 7, 9, 10, 1, 3, 4, 5, 6, 7, 9, 10, 1, 2, 3, 4, 5, 6, 7, 8, 9, 10, 1, 2, 3, 4, 5, 6, 7, 8, 9, 10, 3, 4, 9, 1, 2, 3, 4, 7, 8, 10, 4, 2, 3, 6, 7, 9, 1, 2, 3, 4, 5, 6, 7, 8, 9, 10, 1, 2, 3, 4, 5, 7, 9, 10, 1, 3, 5, 10, 1, 2, 3, 4, 5, 7, 8, 9, 10, 1, 2, 3, 4, 5, 6, 7, 8, 9, 1, 2, 3, 4, 5, 6, 7, 8, 9, 10, 5, 1, 2, 5, 6, 8, 10, 1, 2, 3, 4, 5, 6, 7, 8, 9, 10, 1, 2, 3, 4, 5, 6, 7, 8, 9, 1, 2, 3, 4, 5, 6, 7, 8, 9, 10, 1, 2, 3, 5, 6, 10, 2, 8, 1, 2, 3, 4, 5, 6, 7, 8, 1, 2, 3, 1, 2, 5, 6, 8, 6, 1, 2, 3, 4, 5, 6, 7, 8, 9, 10, 1, 2, 3, 4, 5, 6, 7, 8, 9, 10, 1, 2, 3, 4, 5, 6, 7, 8, 9, 10, 1, 4, 8, 9, 1, 4, 8, 9, 1, 2, 3, 4, 5, 6, 7, 8, 9, 10, 1, 2, 3, 4, 5, 6, 7, 8, 9, 10, 1, 2, 3, 4, 5, 7, 10, 1, 2, 3, 4, 5, 6, 8, 9, 10, 1, 2, 3, 4, 5, 6, 8, 9, 10, 10, 8, 1, 2, 3, 4, 5, 6, 7, 8, 9, 10, 1, 2, 3, 4, 5, 6, 7, 8, 9, 10, 1, 1, 3, 9, 10, 1, 2, 3, 4, 5, 8, 9, 10, 1, 2, 8, 9, 3, 4, 10, 1, 2, 3, 4, 5, 6, 7, 8, 9, 10, 1, 2, 3, 4, 5, 6, 7, 8, 9, 10, 7, 1, 2, 3, 4, 5, 6, 7, 8, 10, 1, 1, 2, 3, 4, 5, 6, 7, 9, 10, 2, 4, 6, 1, 2, 3, 4, 5, 6, 7, 8, 9, 10, 1, 1, 2, 3, 4, 5, 7, 9, 1, 7, 1, 2, 4, 10, 2, 8, 3, 1, 2, 3, 4, 5, 6, 7, 8, 9, 10, 1, 2, 3, 4, 5, 6, 7, 8, 9, 10, 4, 7, 1, 2, 3, 4, 5, 6, 7, 8, 9, 10, 2, 4, 6, 1, 2, 3, 4, 5, 6, 7, 8, 9, 10, 1, 2, 3, 4, 5, 6, 7, 8, 9, 10, 1, 2, 3, 4, 5, 6, 7, 8, 9, 10, 8, 1, 2, 3, 4, 5, 6, 7, 8, 9, 10, 2, 5, 7, 2, 1, 2, 3, 6, 8, 1, 2, 3, 4, 5, 6, 7, 8, 9, 10, 1, 2, 3, 4, 5, 6, 7, 8, 9, 10, 1, 3, 5, 8, 1, 4, 5, 6, 7, 1, 2, 3, 4, 5, 6, 7, 8, 9, 10, 10, 1, 2, 3, 4, 5, 6, 7, 8, 9, 10, 4, 6, 1, 2, 3, 4, 6, 7, 8, 9, 10, 6, 1, 2, 3, 4, 5, 6, 7, 8, 9, 10, 2, 4, 5, 7, 1, 2, 3, 4, 5, 6, 7, 8, 9, 10, 1, 5, 6, 7, 8, 10, 1, 3, 5, 7, 10, 1, 2, 3, 4, 5, 6, 7, 8, 9, 10, 1, 2, 3, 4, 5, 6, 7, 8, 9, 10], \"Freq\": [0.8006500865438665, 0.001566829914958643, 0.12534639319669144, 0.009400979489751857, 0.021935618809421, 0.001566829914958643, 0.003133659829917286, 0.012534639319669144, 0.023502448724379645, 0.06495181497825518, 0.016237953744563795, 0.08118976872281898, 0.06495181497825518, 0.03247590748912759, 0.714469964760807, 0.025412055773672695, 0.8894219520785444, 0.05082411154734539, 0.9668155218024436, 0.005746708239196741, 0.9884338171418394, 0.016991587759787066, 0.03398317551957413, 0.003398317551957413, 0.07136466859110567, 0.040779810623488955, 0.08835625635089274, 0.006796635103914826, 0.08835625635089274, 0.6320870646640788, 0.013593270207829652, 0.24046438442572945, 0.7213931532771883, 0.8759305490109619, 0.09889538456575377, 0.09695687694434543, 0.18835065439188414, 0.34809108280019097, 0.02861022598357734, 0.08344649245210058, 0.061988822964417566, 0.11603036093339698, 0.02066294098813919, 0.02861022598357734, 0.026226040484945895, 0.00659567498680876, 0.0329783749340438, 0.00659567498680876, 0.164891874670219, 0.7914809984170512, 0.005648200329627186, 0.8980638524107225, 0.022592801318508743, 0.005648200329627186, 0.0395374023073903, 0.005648200329627186, 0.022592801318508743, 0.12457247928160929, 0.15016440856000635, 0.2766186473473801, 0.07677578783519122, 0.08392647395709628, 0.07489402832942672, 0.07828119543980282, 0.06322711939368689, 0.03801154201644271, 0.033118967301455034, 0.014860574305400132, 0.014860574305400132, 0.014860574305400132, 0.9362161812402082, 0.014860574305400132, 0.06091156960309685, 0.3309319296992994, 0.07095883881597881, 0.3127212542509508, 0.03202567061606123, 0.030769761964450987, 0.07786633639983515, 0.03202567061606123, 0.033281579267671474, 0.017582721122543422, 0.9764027134569198, 0.0069248419394107785, 0.0069248419394107785, 0.06451604169481041, 0.9032245837273458, 0.09447039319415973, 0.33680748877917815, 0.05339630919669897, 0.004107408399746075, 0.004107408399746075, 0.04518149239720683, 0.45592233237181434, 0.002415862771138203, 0.9905037361666632, 0.004831725542276406, 0.06191966508013215, 0.007919957161412252, 0.08567953656436891, 0.37655796321987345, 0.08711952877553478, 0.008639953266995183, 0.030959832540066075, 0.14327922501100346, 0.11519937689326912, 0.08279955214203719, 0.01740006281331506, 0.0029000104688858435, 0.8555030883213238, 0.08410030359768945, 0.005800020937771687, 0.029000104688858434, 0.0029000104688858435, 0.11541635810999498, 0.012824039789999441, 0.09892830695142427, 0.2290007105357043, 0.010992034105713807, 0.04396813642285523, 0.009160028421428172, 0.43601735285998106, 0.03480810800142706, 0.009160028421428172, 0.0662043013286436, 0.002282906942367021, 0.01826325553893617, 0.7373789423845478, 0.002282906942367021, 0.002282906942367021, 0.006848720827101063, 0.14838895125385637, 0.015980348596569147, 0.002282906942367021, 0.004495096050207801, 0.05394115260249361, 0.013485288150623402, 0.03146567235145461, 0.04495096050207801, 0.013485288150623402, 0.723710464083456, 0.04495096050207801, 0.017980384200831204, 0.04944605655228581, 0.0011551374335356285, 0.002310274867071257, 0.9425921457650729, 0.0011551374335356285, 0.027723298404855087, 0.003465412300606886, 0.0011551374335356285, 0.0011551374335356285, 0.019637336370105687, 0.013750693169634462, 0.9671320862642905, 0.004583564389878154, 0.004583564389878154, 0.004583564389878154, 0.13362669700750365, 0.2923424881470284, 0.09053890491120656, 0.09272056527051274, 0.043087792096297095, 0.05017818826404219, 0.22252935664923057, 0.01581703760496982, 0.02454367904219455, 0.034906565748898916, 0.10868652224445303, 0.011440686552047687, 0.022881373104095375, 0.05720343276023843, 0.7436446258830997, 0.01716102982807153, 0.040042402932166904, 0.05645898623752168, 0.011291797247504336, 0.8581765908103295, 0.04516718899001734, 0.013380008136193331, 0.004460002712064444, 0.017840010848257776, 0.017840010848257776, 0.9366005695335332, 0.004460002712064444, 0.03308155029375386, 0.0033081550293753864, 0.01984893017625232, 0.0033081550293753864, 0.006616310058750773, 0.0033081550293753864, 0.9196670981663574, 0.006616310058750773, 0.0033081550293753864, 0.020189920392839494, 0.03028488058925924, 0.020189920392839494, 0.050474800982098736, 0.020189920392839494, 0.8479766564992587, 0.03977750763118353, 0.09281418447276157, 0.02651833842078902, 0.7690318142028816, 0.06629584605197256, 0.1739682630854773, 0.0036243388142807773, 0.0036243388142807773, 0.06523809865705399, 0.007248677628561555, 0.6415079701276976, 0.09785714798558098, 0.08668597628470366, 0.032507241106763875, 0.010835747035587958, 0.06501448221352775, 0.769338039526745, 0.032507241106763875, 0.049184521633590036, 0.03934761730687203, 0.9049951980580567, 0.009182636203725997, 0.009182636203725997, 0.07346108962980798, 0.8998983479651477, 0.003532520414126792, 0.6535162766134566, 0.01766260207063396, 0.021195122484760753, 0.01766260207063396, 0.1836910615345932, 0.0459227653836483, 0.05298780621190188, 0.10214890483456797, 0.09443955352629868, 0.06938416177442353, 0.0077093513082692805, 0.02312805392480784, 0.0019273378270673201, 0.0019273378270673201, 0.0096366891353366, 0.6880596042630333, 0.0019273378270673201, 0.031354536403057895, 0.006270907280611579, 0.006270907280611579, 0.9469069993723485, 0.006270907280611579, 0.004631036791581384, 0.001543678930527128, 0.8613728432341373, 0.001543678930527128, 0.001543678930527128, 0.001543678930527128, 0.03704829433265107, 0.001543678930527128, 0.07100923080424788, 0.018524147166325534, 0.010757142492510129, 0.9788999668184217, 0.024908276207608788, 0.004151379367934797, 0.03321103494347838, 0.7721565624358724, 0.01660551747173919, 0.14529827787771793, 0.004151379367934797, 0.06890981581392847, 0.03445490790696423, 0.02296993860464282, 0.03445490790696423, 0.1263346623255355, 0.01148496930232141, 0.03445490790696423, 0.6661282195346417, 0.931840427355922, 0.0039305757381378325, 0.04061594929409094, 0.006550959563563054, 0.010481535301700887, 0.24893646341539608, 0.47166908857653994, 0.2057001302958799, 0.007861151476275665, 0.0013101919127126108, 0.0026203838254252217, 0.008391537718356176, 0.008391537718356176, 0.05034922631013705, 0.008391537718356176, 0.09230691490191793, 0.016783075436712352, 0.813979158680549, 0.06910847774458288, 0.7563538953157126, 0.03455423887229144, 0.04223295862168954, 0.011518079624097148, 0.015357439498796196, 0.053751038245786684, 0.011518079624097148, 0.003839359874699049, 0.003839359874699049, 0.023441173363335604, 0.031254897817780805, 0.10157841790778763, 0.11981044163482643, 0.057300645999264814, 0.0026045748181484007, 0.04688234672667121, 0.015627448908890403, 0.013022874090742003, 0.5886339089015385, 0.9010056752726072, 0.03378771282272277, 0.05631285470453795, 0.05300167955974492, 0.13780436685533679, 0.010600335911948984, 0.7950251933961738, 0.04856610431664963, 0.922755982016343, 0.05123225918769623, 0.09064168933207795, 0.007881886028876343, 0.019704715072190855, 0.003940943014438172, 0.6936059705411182, 0.13005111947645964, 0.02879397630911119, 0.021843706165532627, 0.15687752609791614, 0.013900540287157126, 0.5083626162160321, 0.0238294976351265, 0.12709065405400802, 0.03276555924829894, 0.0019857914695938753, 0.08340324172294275, 0.9782451954537518, 0.020537254463009268, 0.02464470535561112, 0.032859607140814824, 0.004107450892601853, 0.004107450892601853, 0.020537254463009268, 0.004107450892601853, 0.8831019419093985, 0.004107450892601853, 0.007943614775412604, 0.9770646173757501, 0.007943614775412604, 0.06111440250738055, 0.9167160376107082, 0.008921074131036886, 0.03865798790115984, 0.029736913770122952, 0.014868456885061476, 0.008921074131036886, 0.00594738275402459, 0.8921074131036886, 0.045379233727666154, 0.045379233727666154, 0.9075846745533231, 0.03365528611802573, 0.020567119294349057, 0.007478952470672384, 0.041134238588698115, 0.07105004847138766, 0.016827643059012864, 0.001869738117668096, 0.7348070802435618, 0.059831619765379075, 0.014957904941344769, 0.1094790829044319, 0.0024328685089873756, 0.08758326632354552, 0.6203814697917808, 0.034060159125823254, 0.017030079562911627, 0.02189581658088638, 0.0997476088684824, 0.004865737017974751, 0.12372114806034452, 0.04366628755070983, 0.010916571887677457, 0.10916571887677458, 0.040027430254817344, 0.6040503111181527, 0.003638857295892486, 0.003638857295892486, 0.058221716734279776, 0.15509348554042934, 0.14287399880088036, 0.16762629245278726, 0.06987039853639544, 0.09086285011459497, 0.10370897719976185, 0.06172407404336279, 0.12689466998762403, 0.033211938317748504, 0.04793798643976907, 0.0491529376126197, 0.9175215021022344, 0.9317853992223095, 0.013702726459151611, 0.002740545291830322, 0.002740545291830322, 0.03836763408562451, 0.005481090583660644, 0.15720746048410358, 0.09432447629046214, 0.17520657552503718, 0.11915869830896547, 0.10890603784261088, 0.08703369551438778, 0.04032713116766135, 0.08110993613382736, 0.061971636596632136, 0.07495833985401461, 0.10785952594505267, 0.07150238236806863, 0.14542857430793618, 0.32054881587040934, 0.11573690705339922, 0.024238095717989364, 0.013936905037843885, 0.07210833476101836, 0.09149881133540985, 0.037569048362883516, 0.11423095422364314, 0.10607160035052578, 0.1336094196722969, 0.1019919234139671, 0.10811143881880511, 0.013258950043815722, 0.03365733472660914, 0.08465329643359269, 0.2621192431738954, 0.04181668859972651, 0.18167156606007026, 0.7872434529269711, 0.02674223067893913, 0.02674223067893913, 0.013371115339469565, 0.8557513817260521, 0.04011334601840869, 0.013371115339469565, 0.9794727640935732, 0.9833718160673145, 0.8153230625372255, 0.11107299692536116, 0.011816276268655442, 0.018906042029848708, 0.007089765761193265, 0.01417953152238653, 0.004726510507462177, 0.011816276268655442, 0.004726510507462177, 0.04882512133801244, 0.9276773054222364, 0.9442964638518457, 0.04378281581014696, 0.03283711185761022, 0.9084934280605493, 0.005617513256536421, 0.03370507953921852, 0.044940106052291366, 0.005617513256536421, 0.15729037118301978, 0.06179264582190063, 0.022470053026145683, 0.6684840775278341, 0.03256803161503569, 0.03256803161503569, 0.8793368536059638, 0.03256803161503569, 0.01112937379529522, 0.04451749518118088, 0.9459967726000937, 0.9540496500740181, 0.9133360503667156, 0.9169471216625346, 0.04366414865059688, 0.02183207432529844, 0.9020519742923431, 0.9791275214500914, 0.047607087679495196, 0.7236277327283269, 0.041894237157955774, 0.01904283507179808, 0.028564252607697117, 0.013329984550258654, 0.06093707222975385, 0.01713855156461827, 0.005712850521539423, 0.03808567014359616, 0.038494664968867824, 0.02887099872665087, 0.019247332484433912, 0.05774199745330174, 0.019247332484433912, 0.009623666242216956, 0.8083879643462243, 0.009623666242216956, 0.9676250960975644, 0.00379948379707734, 0.05319277315908276, 0.02279690278246404, 0.01139845139123202, 0.7143029538505399, 0.01519793518830936, 0.1519793518830936, 0.02279690278246404, 0.014778223663232188, 0.003694555915808047, 0.6502418411822163, 0.32512092059110814, 0.7999594046913898, 0.01409620096372493, 0.017620251204656164, 0.13215188403492123, 0.007048100481862465, 0.0017620251204656162, 0.0017620251204656162, 0.0035240502409312324, 0.02290632656605301, 0.0017620251204656162, 0.011269550701577563, 0.011269550701577563, 0.022539101403155126, 0.901564056126205, 0.022539101403155126, 0.011269550701577563, 0.003129018668672393, 0.025032149349379144, 0.003129018668672393, 0.006258037337344786, 0.009387056006017178, 0.19712817612636074, 0.003129018668672393, 0.7478354618127019, 0.003129018668672393, 0.22757560114061673, 0.07774321778095603, 0.06784862642701617, 0.024029721859568226, 0.025443234910131063, 0.34065664518564365, 0.06360808727532766, 0.13287022675290666, 0.024029721859568226, 0.016962156606754042, 0.4072534354500018, 0.014256969581963534, 0.11653522962648453, 0.03223314862009147, 0.2101353342732886, 0.0024794729707762666, 0.06260669251210073, 0.0260344661931508, 0.035952358076255866, 0.09236036816141593, 0.030916327071332385, 0.9481006968541931, 0.05444061477848198, 0.019796587192175266, 0.023096018390871144, 0.021446302791523205, 0.009898293596087633, 0.0032994311986958777, 0.06598862397391755, 0.006598862397391755, 0.006598862397391755, 0.7885640564883147, 0.014895242581381732, 0.029790485162763464, 0.014895242581381732, 0.014895242581381732, 0.007447621290690866, 0.007447621290690866, 0.893714554882904, 0.02209375135714633, 0.04860625298572193, 0.04197812757857803, 0.04860625298572193, 0.04197812757857803, 0.004418750271429266, 0.019884376221431698, 0.0132562508142878, 0.008837500542858532, 0.75339692127869, 0.051824330788450945, 0.11984376494829281, 0.003239020674278184, 0.04534628943989458, 0.029151186068503657, 0.02267314471994729, 0.003239020674278184, 0.7158235690154786, 0.006478041348556368, 0.003239020674278184, 0.9601598034502117, 0.005134544403477067, 0.005134544403477067, 0.005134544403477067, 0.015403633210431204, 0.005134544403477067, 0.9338912249352656, 0.11618900418809462, 0.24926594503143557, 0.15942212202552516, 0.12530848998192762, 0.09254589287074978, 0.0773467498810281, 0.058432260827152235, 0.057418984627837455, 0.035802425709122176, 0.028371733580813803, 0.030118440112070346, 0.07529610028017586, 0.015059220056035173, 0.12047376044828138, 0.7228425626896883, 0.94317633138347, 0.0094317633138347, 0.0094317633138347, 0.0094317633138347, 0.0094317633138347, 0.006287842209223134, 0.003143921104611567, 0.006287842209223134, 0.9717535143313036, 0.10331380252047094, 0.10052153758748524, 0.12844418691734225, 0.048864636327249765, 0.10540800122021021, 0.0942389414882674, 0.2931878179634986, 0.038393642828553384, 0.031412980496089135, 0.05654336489296044, 0.14947756447133984, 0.1458073564151239, 0.14747563280431297, 0.10643603363026206, 0.10410044668539739, 0.0440424966745912, 0.06839933195675149, 0.06839933195675149, 0.0880849933491824, 0.07807533501404804, 0.14392337534122393, 0.055057935533219894, 0.15841230574470286, 0.07968911721913406, 0.09176322588869983, 0.03815418339582782, 0.1463381970751371, 0.017386716484174704, 0.21395320562470538, 0.055057935533219894, 0.9704853746455147, 0.978909618298588, 0.9231942574484749, 0.9479193771703179, 0.00884561583561323, 0.9730177419174554, 0.00884561583561323, 0.8843708118292045, 0.04019867326496384, 0.02009933663248192, 0.04019867326496384, 0.03915996364522923, 0.019579981822614615, 0.861519200195043, 0.03915996364522923, 0.9691733176007408, 0.01468444420607183, 0.042373471704259154, 0.021186735852129577, 0.021186735852129577, 0.021186735852129577, 0.8686561699373126, 0.021186735852129577, 0.020149314544244488, 0.05606765786224553, 0.12615223019005245, 0.01226480015736621, 0.19010440243917626, 0.0017521143081951729, 0.0324141147016107, 0.014016914465561383, 0.05606765786224553, 0.4905920062946484, 0.9202909890288262, 0.031196304712841568, 0.031196304712841568, 0.013135722598459807, 0.006567861299229903, 0.006567861299229903, 0.07224647429152893, 0.880093414096807, 0.013135722598459807, 0.8916231011813573, 0.055726443823834834, 0.09025331287944455, 0.1192276236562404, 0.07460052429887667, 0.19182991962568288, 0.10590610146001242, 0.1182285094915233, 0.07493356235378237, 0.1208928139307689, 0.04729140379660932, 0.056616469333968904, 0.01951101967775309, 0.01951101967775309, 0.06828856887213582, 0.03902203935550618, 0.751174257593494, 0.058533059033259276, 0.03902203935550618, 0.9738714025139524, 0.9574426276795814, 0.9383477727776193, 0.9636747934640056, 0.1868901616243131, 0.16352889142127397, 0.27306729170663524, 0.06437327789281895, 0.06541155656850958, 0.06748811391989085, 0.0477608190817689, 0.05035651577099547, 0.04256942570331576, 0.03893545033839856, 0.9540841754418082, 0.02725954786976595, 0.023500203303315332, 0.7931318614868925, 0.035250304954973, 0.011750101651657666, 0.029375254129144164, 0.09987586403909016, 0.005875050825828833, 0.005875050825828833, 0.032485441083279595, 0.04640777297611371, 0.032485441083279595, 0.032485441083279595, 0.7053981492369283, 0.023203886488056855, 0.04176699567850234, 0.013922331892834112, 0.06961165946417056, 0.14604681770079406, 0.3613181385892477, 0.1975430944623457, 0.05318467927832384, 0.024481836493196688, 0.08695272961376756, 0.07344550947959007, 0.017728226426107947, 0.02532603775158278, 0.013507220134177484, 0.9484939141311673, 0.03952057975546531, 0.011439751302315672, 0.005719875651157836, 0.005719875651157836, 0.005719875651157836, 0.028599378255789183, 0.9266198554875695, 0.005719875651157836, 0.06773703936405918, 0.07620416928456658, 0.05080277952304439, 0.008467129920507398, 0.787443082607188, 0.0209419313833831, 0.08586191867187072, 0.018847738245044793, 0.05235482845845776, 0.43978055905104513, 0.21360770011050764, 0.08167353239519409, 0.0041883862766766205, 0.05654321473513437, 0.02303612452172141, 0.3445126900208605, 0.13300806386881323, 0.1428201341542175, 0.0474250063794539, 0.11883507345656265, 0.056691961649002365, 0.038703166125761225, 0.0746807571722435, 0.0201692555866643, 0.02289483066594326, 0.9212536911215664, 0.02878917784754895, 0.02878917784754895, 0.2437039313515718, 0.0838980747275903, 0.09907963110686853, 0.1917670279487778, 0.09828060182374862, 0.05633156445995348, 0.038353405589755564, 0.05673107910151343, 0.08949127970942965, 0.042348552005355096, 0.07883870540352907, 0.0016424730292401888, 0.01642473029240189, 0.7440402822458055, 0.12482795022225436, 0.0016424730292401888, 0.0016424730292401888, 0.011497311204681322, 0.008212365146200945, 0.009854838175441133, 0.1275615731880256, 0.19875162481152253, 0.10678507743524539, 0.08631411838471194, 0.08707796014032886, 0.16040676867955314, 0.05026078751959332, 0.09150824232290698, 0.02978982846905987, 0.06126010880047696, 0.13398855806777485, 0.21705057069109054, 0.15686465334763885, 0.11383580746408513, 0.09368305686039542, 0.06181992414915628, 0.10267009429177057, 0.022059091877011713, 0.06290926201962599, 0.034858811855030855, 0.02962183902033597, 0.019420940814657357, 0.14555897055026018, 0.03079886573637581, 0.5053368034197713, 0.007846844773598932, 0.15850626442669843, 0.014516662831158024, 0.033937603645815384, 0.05453557117651258, 0.977664126586226, 0.006933788131817206, 0.30255659651517197, 0.04900564591442926, 0.20241462442916436, 0.025568163085789183, 0.06879053401652804, 0.07974831819615197, 0.08309653002881484, 0.03409088411438558, 0.08796665633086992, 0.06665985375937894, 0.10704179626837007, 0.06013584060020791, 0.6651023970382994, 0.11185266351638672, 0.001202716812004158, 0.002405433624008316, 0.015635318556054056, 0.020446185804070687, 0.009621734496033265, 0.006013584060020791, 0.018168312611211757, 0.004542078152802939, 0.049962859680832326, 0.22483286856374549, 0.05450493783363527, 0.020439351687613225, 0.034065586146022044, 0.04542078152802939, 0.5473204174127542, 0.19281634860034869, 0.09943443986116637, 0.12580618260695398, 0.215729502133574, 0.12277991704596194, 0.05706672200727809, 0.06701016599339472, 0.02723639004892818, 0.06657784234182444, 0.025507095442647024, 0.7746393127940453, 0.002874357375859166, 0.20551655237393038, 0.001437178687929583, 0.002874357375859166, 0.001437178687929583, 0.001437178687929583, 0.008623072127577498, 0.8986508277106945, 0.021396448278826058, 0.03209467241823909, 0.021396448278826058, 0.023894721572228567, 0.9318941413169141, 0.023894721572228567, 0.03106858586092129, 0.06213717172184258, 0.09320575758276387, 0.7767146465230322, 0.024273418785902348, 0.0026970465317669276, 0.8900253554830861, 0.062032070230639336, 0.013485232658834638, 0.005394093063533855, 0.07863852994583448, 0.8728876823987627, 0.007863852994583448, 0.023591558983750344, 0.007863852994583448, 0.9037098425187595, 0.04303380202470284, 0.8966438484800744, 0.018298854050613763, 0.054896562151841286, 0.018298854050613763, 0.018298854050613763, 0.005692970701373342, 0.005692970701373342, 0.05123673631236008, 0.7287002497757877, 0.011385941402746683, 0.02846485350686671, 0.02846485350686671, 0.13663129683296021, 0.006251004654475096, 0.5896781057388174, 0.08334672872633461, 0.23128717221557857, 0.0020836682181583654, 0.0020836682181583654, 0.01875301396342529, 0.0020836682181583654, 0.06251004654475097, 0.1567890924474195, 0.005003907205768708, 0.6204844935153198, 0.0016679690685895692, 0.1034140822525533, 0.0016679690685895692, 0.07339063901794105, 0.0016679690685895692, 0.03335938137179138, 0.015200748691797288, 0.015200748691797288, 0.9272456701996346, 0.030401497383594576, 0.9739753482161524, 0.19776392977186502, 0.006423101992590488, 0.14266047583543084, 0.03887666995515295, 0.0006761159992200513, 0.0003380579996100257, 0.13387096784557018, 0.0016902899980501284, 0.4766617794501362, 0.001014173998830077, 0.005633949391957072, 0.002816974695978536, 0.025352772263806823, 0.6986097246026769, 0.08732621557533461, 0.002816974695978536, 0.008450924087935609, 0.12112991192707705, 0.030986721655763896, 0.019718822871849753, 0.9772036719710392, 0.5123391380307455, 0.021055033069756666, 0.11229350970536889, 0.07218868481059428, 0.06918082294348618, 0.01203144746843238, 0.05815199609742317, 0.02205765369212603, 0.09324371788035095, 0.028073377426342222, 0.11797489347807175, 0.50096585201558, 0.09403795856947747, 0.049583650882088125, 0.0547129940767869, 0.07694014792048157, 0.04787386981718853, 0.022227153843694676, 0.030776059168192628, 0.005129343194698772, 0.0038812127057723054, 0.45798309928113207, 0.013307014991219333, 0.01718822769699164, 0.03326753747804833, 0.3664973712164991, 0.02439619415056878, 0.014415932907154278, 0.06764399287203161, 0.002217835831869889, 0.3141304387762902, 0.2499698099412636, 0.185809181106237, 0.04106280245441702, 0.06364734380434638, 0.023611111411289788, 0.07699275460203191, 0.008212560490883404, 0.024124396441969998, 0.012318840736325106, 0.1294895251035196, 0.1532970162660501, 0.0075487167100706494, 0.5661537532552987, 0.006387375677752088, 0.012774751355504176, 0.06968046193911369, 0.02206547961405267, 0.02264615013021195, 0.010452069290867054, 0.8617229908749011, 0.051376438480346405, 0.014011755949185384, 0.021017633923778076, 0.014011755949185384, 0.004670585316395128, 0.01868234126558051, 0.002335292658197564, 0.007005877974592692, 0.002335292658197564, 0.9237045324109523, 0.05922171488886247, 0.10083697399995502, 0.0032011737777763497, 0.043215845999980726, 0.012804695111105399, 0.42095435177759, 0.0016005868888881749, 0.3505285286665103, 0.0016005868888881749, 0.004801760666664524, 0.20570089730095897, 0.33820008363398224, 0.09732964921993685, 0.06788538559037612, 0.04498429165627333, 0.0965117530080046, 0.059297475365087574, 0.02453688635796727, 0.04130375870257824, 0.02453688635796727, 0.9684569879885253, 0.02548571021022435, 0.2841802240337932, 0.08935326331046335, 0.19712987988081607, 0.0736934130395574, 0.09764377227741355, 0.05849414660014869, 0.08705034415297719, 0.03316203586780083, 0.05342772445367912, 0.025332110732347857, 0.09451886562996577, 0.012602515417328769, 0.006301257708664384, 0.7750546981657193, 0.006301257708664384, 0.056711319377979456, 0.012602515417328769, 0.037807546251986304, 0.8474647497297909, 0.009211573366628163, 0.009211573366628163, 0.018423146733256325, 0.009211573366628163, 0.09211573366628162, 0.20222129070061431, 0.1878673786258317, 0.11187607940639414, 0.09330042848608719, 0.109765209983632, 0.062059561029207316, 0.1414282513250643, 0.02786347638046043, 0.03757347572516634, 0.026174780842250705, 0.013978497319242958, 0.027956994638485916, 0.013978497319242958, 0.20967745978864435, 0.041935491957728874, 0.6989248659621479, 0.9567322093762236, 0.017084503738861136, 0.9519406263161615, 0.012049881345774196, 0.006024940672887098, 0.012049881345774196, 0.012049881345774196, 0.006024940672887098, 0.9637370688921705, 0.030650031168280883, 0.06723232643364839, 0.6980297420905259, 0.04943553414238853, 0.05240166619093183, 0.02274034570549872, 0.016808081608412098, 0.01878550297410764, 0.009887106828477705, 0.03460487389967197, 0.12146259863679225, 0.012146259863679225, 0.05617645186951642, 0.5040697843426879, 0.17004763809150916, 0.0015182824829599031, 0.004554847448879709, 0.010627977380719323, 0.07895068911391497, 0.04099362703991739, 0.025126399649849147, 0.050252799299698295, 0.050252799299698295, 0.025126399649849147, 0.025126399649849147, 0.7789183891453235, 0.050252799299698295, 0.9048992445161286, 0.06717103827513789, 0.0890016257145577, 0.08060524593016546, 0.05709538253386721, 0.4550837843140592, 0.0050378278706353415, 0.04869900274947497, 0.010075655741270683, 0.010075655741270683, 0.17464469951535852, 0.9024973575153079, 0.06224119707002124, 0.1296640700570078, 0.6055445745961293, 0.029408345786125483, 0.07485760745559214, 0.03475531774723921, 0.04143903269863136, 0.010693943922227448, 0.04277577568890979, 0.016040915883341174, 0.014704172893062742, 0.5083124065316837, 0.04638592302950727, 0.17684633154999643, 0.04638592302950727, 0.060881523976228286, 0.008697360568032612, 0.0512177900117476, 0.04638592302950727, 0.02029384132540943, 0.03478944227213045, 0.022805347101341696, 0.03420802065201254, 0.011402673550670848, 0.08742049722180983, 0.06461515012046813, 0.007601782367113898, 0.6613550659389091, 0.019004455917784744, 0.06461515012046813, 0.03420802065201254, 0.01609193058199256, 0.0035759845737761246, 0.0017879922868880623, 0.4630900023040081, 0.0017879922868880623, 0.007151969147552249, 0.48990988660732904, 0.014303938295104499, 0.0035759845737761246, 0.20713158182517377, 0.21060604706869282, 0.1718523962755958, 0.06788570552721825, 0.0673511724128307, 0.05345331143875452, 0.1531437372720317, 0.014966927202851267, 0.031537453748865164, 0.021915857689889354, 0.9735473861070475, 0.01431687332510364, 0.00715843666255182, 0.01539471939334163, 0.03078943878668326, 0.03078943878668326, 0.03078943878668326, 0.8544069263304604, 0.03078943878668326, 0.007697359696670815, 0.001277806352110748, 0.010222450816885983, 0.9468545069140643, 0.001277806352110748, 0.014055869873218227, 0.007666838112664488, 0.001277806352110748, 0.001277806352110748, 0.001277806352110748, 0.014055869873218227, 0.959646312517446, 0.9703032964659709, 0.034503656068398184, 0.04436184351651195, 0.05175548410259727, 0.04682639037854039, 0.009858187448113766, 0.7516867929186747, 0.03696820293042662, 0.0024645468620284414, 0.014787281172170649, 0.007393640586085324, 0.9555129318418171, 0.19166225701707082, 0.04693769559601734, 0.08057637743982977, 0.059454414421621964, 0.01721048838520636, 0.010952128972404046, 0.04067933618321503, 0.03207409199061185, 0.5116208819965891, 0.007040654339402601, 0.04908308556535513, 0.057263599826247645, 0.016361028521785042, 0.008180514260892521, 0.8671345116546072, 0.03397491062333996, 0.06794982124667992, 0.06794982124667992, 0.815397854960159, 0.11880840968705413, 0.06600467204836341, 0.8052569989900336, 0.0047934021612929005, 0.04314061945163611, 0.8819859976778938, 0.0047934021612929005, 0.028760412967757405, 0.019173608645171602, 0.0047934021612929005, 0.0047934021612929005, 0.009106667185289376, 0.0007588889321074481, 0.7626833767679853, 0.002276666796322344, 0.009865556117396824, 0.00379444466053724, 0.08727222719235653, 0.002276666796322344, 0.11459222874822465, 0.006830000388967032, 0.004139145999539898, 0.009313078498964771, 0.7760898749137309, 0.004139145999539898, 0.005173932499424873, 0.002069572999769949, 0.03621752749597411, 0.002069572999769949, 0.15314840198297625, 0.007243505499194822, 0.9822000563430838, 0.004484931764123671, 0.004484931764123671, 0.004484931764123671, 0.005493828449278139, 0.9833952924207869, 0.14059804950737953, 0.28774079152794363, 0.11645039092425014, 0.06725235754927623, 0.08034174257564544, 0.09794470864559023, 0.08372692835832712, 0.0523575401054768, 0.029338276783241312, 0.044684452331398304, 0.009131450598405842, 0.05478870359043504, 0.036525802393623366, 0.018262901196811683, 0.7213845972740615, 0.02739435179521752, 0.018262901196811683, 0.10044595658246425, 0.9413943767276325, 0.8462992394140428, 0.02809044085625707, 0.019125406540430347, 0.018527737586041898, 0.03526246830891845, 0.013148716996545863, 0.014941723859711207, 0.0023906758175537934, 0.019723075494818793, 0.0029883447719422414, 0.15575427513336454, 0.15820709836381122, 0.08830163629608069, 0.08216957821996397, 0.10485819310159582, 0.022688614881631843, 0.07174507949056555, 0.023915026496855184, 0.2685841437339121, 0.023301820689243514, 0.027206956726173227, 0.013603478363086613, 0.952243485416063, 0.97787201241247, 0.028719143839760573, 0.0028719143839760573, 0.0057438287679521145, 0.8500866576569129, 0.05456637329554509, 0.0057438287679521145, 0.022975315071808458, 0.028719143839760573, 0.05137353984663816, 0.02568676992331908, 0.8476634074695296, 0.02568676992331908, 0.02568676992331908, 0.9832037927874514, 0.958544956251811, 0.022622170130859154, 0.04524434026171831, 0.9048868052343662, 0.044108210013377495, 0.9409751469520533, 0.014702736671125833, 0.2848154132660869, 0.10056824565460211, 0.09135588727402788, 0.1765702022943396, 0.08905279767888431, 0.060648026005447074, 0.03915252311744052, 0.07600195663973748, 0.04874872976387202, 0.03301095086372436, 0.9758318682970084, 0.003319156014615675, 0.00663831202923135, 0.00663831202923135, 0.003319156014615675, 0.01783863178871666, 0.013378973841537493, 0.05351589536614997, 0.05351589536614997, 0.1873056337815249, 0.004459657947179165, 0.6198924546579039, 0.026757947683074986, 0.022298289735895822, 0.016867767387517413, 0.0874057037353175, 0.5259676558107702, 0.007667166994326097, 0.06440420275233921, 0.009200600393191316, 0.007667166994326097, 0.004600300196595658, 0.004600300196595658, 0.2714177115991438, 0.019303617397895975, 0.9458772524969028, 0.019303617397895975, 0.1704543305689741, 0.41625441595466867, 0.07781610743366209, 0.0734929903540142, 0.06175881542354134, 0.07411057850824962, 0.0599060509608351, 0.01420452754741451, 0.02532111432365195, 0.026556290632122777, 0.9577292638862029, 0.010641436265402255, 0.010641436265402255, 0.010641436265402255, 0.9509052181632703, 0.030428966981224652, 0.007607241745306163, 0.005655552466937135, 0.005655552466937135, 0.005655552466937135, 0.14138881167342837, 0.8426773175736331, 0.9471099697726263, 0.07135677679324902, 0.007135677679324903, 0.02854271071729961, 0.8420099661603385, 0.02854271071729961, 0.07706600752983657, 0.08879344345828996, 0.08921228045573472, 0.0732964745528337, 0.18386944187825138, 0.09758902040463001, 0.2835526472701052, 0.018428827887569613, 0.037695329770028756, 0.05026043969337168, 0.029009786698488974, 0.01933985779899265, 0.009669928899496324, 0.8702936009546692, 0.009669928899496324, 0.04834964449748162, 0.02288285427962313, 0.02288285427962313, 0.02288285427962313, 0.09153141711849253, 0.8466656083460559, 0.9522084759443465, 0.17081325921668877, 0.005693775307222959, 0.005693775307222959, 0.7914347677039913, 0.017081325921668878, 0.04625601633074244, 0.9251203266148488, 0.010864688558081224, 0.09778219702273101, 0.02172937711616245, 0.825716330414173, 0.010864688558081224, 0.010864688558081224, 0.02172937711616245, 0.19436752149108438, 0.27449585402631616, 0.10555057458456238, 0.07433592295437168, 0.0489136809050411, 0.08077193359977182, 0.11906619693990268, 0.03765066227559085, 0.030892851097920695, 0.03378905588835076, 0.0161019202951411, 0.060382201106779124, 0.044280280811638026, 0.3019110055338956, 0.0161019202951411, 0.044280280811638026, 0.05635672103299385, 0.012076440221355825, 0.4508537682639508, 0.009068102014086922, 0.009068102014086922, 0.7254481611269538, 0.06347671409860846, 0.17229393826765152, 0.01270938252172452, 0.08896567765207164, 0.01270938252172452, 0.8006910988686448, 0.01270938252172452, 0.02541876504344904, 0.03812814756517356, 0.9625461158677557, 0.008830698310713356, 0.01766139662142671, 0.003465555380362429, 0.003465555380362429, 0.9668899511211176, 0.003465555380362429, 0.006931110760724858, 0.003465555380362429, 0.006931110760724858, 0.006931110760724858, 0.20685202556775578, 0.004354779485636963, 0.0021773897428184817, 0.021773897428184818, 0.015241728199729373, 0.032660846142277225, 0.026128676913821782, 0.3396727998796832, 0.028306066656640264, 0.3200762921943168, 0.9767806243557696, 0.36703873166286705, 0.0032771315327041702, 0.004915697299056255, 0.2080978523267148, 0.0016385657663520851, 0.0032771315327041702, 0.011469960364464595, 0.37687012626097954, 0.018024223429872935, 0.0065542630654083405, 0.022959528227475882, 0.03279932603925126, 0.0032799326039251258, 0.01639966301962563, 0.0016399663019625629, 0.01803962932158819, 0.0032799326039251258, 0.8872217693617465, 0.009839797811775377, 0.0065598652078502516, 0.9697728990656215, 0.10120861930286336, 0.20443535663768808, 0.056910928501311, 0.1697237264879523, 0.11523453962499497, 0.04934298588145581, 0.15055160518431918, 0.045710373423925324, 0.02734549933307674, 0.07941294455768041, 0.9140728183099368, 0.12553957629763363, 0.7950839832183463, 0.041846525432544544, 0.050902966332918284, 0.11098515610292019, 0.004172374289583466, 0.5265536353454334, 0.006258561434375199, 0.08553367293646105, 0.016272259729375516, 0.14978823699604643, 0.010848173152917012, 0.03880308089312623, 0.9275208356419021, 0.04637604178209511, 0.11256650140062141, 0.18366113386417177, 0.021723359919418168, 0.01974850901765288, 0.01974850901765288, 0.09676769418649911, 0.01974850901765288, 0.023698210821183455, 0.061220377954723924, 0.4423666019954245, 0.973593073738346, 0.9614147340960616, 0.9754020909525384, 0.03987723359421982, 0.01595089343768793, 0.9331272661047437, 0.056213757712838916, 0.056213757712838916, 0.8432063656925837, 0.9455845751590979, 0.030502728230938643, 0.04053299009091713, 0.721487223618325, 0.004053299009091713, 0.10538577423638455, 0.12970556829093483, 0.17270832635860126, 0.1206877461301069, 0.016646585673118195, 0.5451756807946209, 0.004161646418279549, 0.006242469627419323, 0.11028363008440803, 0.01456576246397842, 0.004161646418279549, 0.0020808232091397744, 0.023281735338355074, 0.9603715827071467, 0.005820433834588769, 0.9762938615294661, 0.9542894718450069, 0.02008515655323413, 0.9640875145552382, 0.9865891341293878, 0.22844091934782143, 0.09119578203213424, 0.055981569168240826, 0.10564263859168027, 0.02889371311909204, 0.035214212863893424, 0.02167028483931903, 0.36297727105859373, 0.03250542725897854, 0.03702006993383668, 0.8753142104973598, 0.04154033541343402, 0.0029671668152452873, 0.01928658429909437, 0.014835834076226437, 0.013352250668603793, 0.007417917038113219, 0.022253751114339654, 0.0014835834076226437, 0.004450750222867931, 0.9772623391947388, 0.007185752494078962, 0.007185752494078962, 0.9621844531310562, 0.01749426278420102, 0.869706929837466, 0.091548097877628, 0.9536512760030186, 0.01835500105130204, 0.954460054667706, 0.01835500105130204, 0.9747767258186015, 0.007274453177750758, 0.007274453177750758, 0.051964594998958315, 0.0037117567856398796, 0.0037117567856398796, 0.0037117567856398796, 0.0037117567856398796, 0.16331729856815472, 0.7646218978418152, 0.08774420731716694, 0.2609633752105396, 0.012859064865446879, 0.3683743876160371, 0.003782077901602023, 0.005294909062242833, 0.17548841463433387, 0.02117963624897133, 0.05975683084531197, 0.003782077901602023, 0.940309568117975, 0.04088302470078152, 0.13903258295115917, 0.308584513379402, 0.1237729092126173, 0.07234215698271695, 0.09381873483696106, 0.12320773611118982, 0.04351832880991567, 0.03843177089706838, 0.03391038608564857, 0.022041750955671572, 0.9679786735569694, 0.008720528590603328, 0.008720528590603328, 0.8728393057234756, 0.005667787699503088, 0.02833893849751544, 0.002833893849751544, 0.008501681549254632, 0.008501681549254632, 0.0708473462437886, 0.133232722447789, 0.002379155757996232, 0.5257934225171673, 0.024981135458960437, 0.1701096366967306, 0.001189577878998116, 0.08683918516686248, 0.002379155757996232, 0.040445647885935944, 0.013085356668979278, 0.9076985642282215, 0.8936328597736327, 0.024823134993712023, 0.024823134993712023, 0.024823134993712023, 0.01998587125915427, 0.006661957086384757, 0.01998587125915427, 0.03330978543192378, 0.7194913653295537, 0.05329565669107805, 0.14656305590046464, 0.039718011888344125, 0.039718011888344125, 0.8737962615435707, 0.14398625143262528, 0.1850306081628449, 0.11220997525439073, 0.13703519101863645, 0.07778567606130331, 0.14398625143262528, 0.05229845454334435, 0.05693249481933689, 0.061897537972186036, 0.028135244532811833, 0.01961902627847141, 0.07847610511388564, 0.863237156252742, 0.010286260144588335, 0.005143130072294167, 0.17143766907647226, 0.008571883453823613, 0.42173666592812176, 0.003428753381529445, 0.0017143766907647224, 0.010286260144588335, 0.008571883453823613, 0.358304728369827, 0.9211481703119349, 0.0672620894413843, 0.924853729819034, 0.02046236473612072, 0.02046236473612072, 0.024554837683344863, 0.769384914078139, 0.0040924729472241435, 0.0040924729472241435, 0.0040924729472241435, 0.11458924252227604, 0.0040924729472241435, 0.036832256525017294, 0.015438813233772887, 0.007719406616886444, 0.9649258271108055, 0.9184324720073719, 0.007833285937636091, 0.0039166429688180454, 0.007833285937636091, 0.0039166429688180454, 0.035249786719362415, 0.03916642968818046, 0.05874964453227069, 0.007833285937636091, 0.8303283093894257, 0.02558019852010039, 0.02558019852010039, 0.012790099260050194, 0.031975248150125486, 0.006395049630025097, 0.012790099260050194, 0.012790099260050194, 0.8697267496834132, 0.007861744059800516, 0.044025766734882885, 0.3459167386312227, 0.028302278615281857, 0.3742190172465045, 0.0015723488119601032, 0.044025766734882885, 0.012578790495680826, 0.023585232179401547, 0.11635381208504764, 0.056627382852859814, 0.8619946056490883, 0.02516772571238214, 0.01258386285619107, 0.006291931428095535, 0.006291931428095535, 0.01258386285619107, 0.018875794284286606, 0.054128217762702824, 0.7307309397964882, 0.12990772263048678, 0.032476930657621694, 0.02165128710508113, 0.005412821776270282, 0.02165128710508113, 0.9409783435191018, 0.9041837314349627, 0.018452729212958423, 0.018452729212958423, 0.018452729212958423, 0.018452729212958423, 0.9634132910457952, 0.30944993031836476, 0.02975011150420843, 0.1299738478011729, 0.06632811745200567, 0.07608225237141827, 0.014875055752104216, 0.1675272672409114, 0.036821859320782566, 0.08412941367993368, 0.08486097379888961, 0.9349759975739252, 0.0028592538152107804, 0.011437015260843121, 0.005718507630421561, 0.017155522891264683, 0.008577761445632342, 0.014296269076053903, 0.9683261337680628, 0.11913384720546957, 0.27925998592249857, 0.11785283809573334, 0.1242578836444145, 0.0541226348863558, 0.08518710579745942, 0.08198458302311884, 0.07109600559036088, 0.039711282401823186, 0.027541695859328984, 0.019113241083973446, 0.9556620541986722, 0.1388715439562182, 0.05834938821689841, 0.1400385317205562, 0.22610387934048135, 0.1645452747716535, 0.023048008345674872, 0.11203082537644495, 0.045804269750265254, 0.06651830256726418, 0.024798489992181823, 0.9786093749262847, 0.0018113254712171195, 0.007245301884868478, 0.0018113254712171195, 0.0018113254712171195, 0.005433976413651359, 0.24634026408552825, 0.7317754903717163, 0.0018113254712171195, 0.11194933007827805, 0.3872061880542504, 0.030584095330663592, 0.22447571855902146, 0.016157635269029823, 0.03693173775778245, 0.06636171628351534, 0.05943701545393113, 0.05482054823420832, 0.011541168049307016, 0.9243166514028911, 0.05963333234857362, 0.02981666617428681, 0.012728895516112823, 0.9673960592245745, 0.0060988499189558905, 0.03659309951373534, 0.012197699837911781, 0.774553939707398, 0.0060988499189558905, 0.048790799351647124, 0.10977929854120602, 0.0060988499189558905, 0.895090809758502, 0.01142045796414882, 0.02284091592829764, 0.01142045796414882, 0.947898011024352, 0.05781515255959142, 0.8672272883938713, 0.135831445986441, 0.11195804032821804, 0.08561497201569615, 0.08890785555476138, 0.06750411255083735, 0.11936702829111483, 0.2420269401212949, 0.07655954228326675, 0.04033782335354915, 0.03210561450588606, 0.011331696182859279, 0.9631941755430388, 0.011331696182859279, 0.9384823031708358, 0.920398790352186, 0.020453306452270798, 0.020453306452270798, 0.0556880368560585, 0.9228303250432551, 0.044515817627604225, 0.8903163525520845, 0.04826764113806094, 0.041372263832623664, 0.02758150922174911, 0.006895377305437277, 0.02758150922174911, 0.013790754610874555, 0.7584915035981005, 0.006895377305437277, 0.006895377305437277, 0.06895377305437277, 0.13718001751444078, 0.8230801050866448, 0.9569283978492797, 0.006645336096175554, 0.013290672192351107, 0.006645336096175554, 0.007812882290830978, 0.015625764581661955, 0.9375458748997173, 0.023438646872492933, 0.006443648548305785, 0.006443648548305785, 0.8956671482145041, 0.01288729709661157, 0.057992836934752066, 0.01288729709661157, 0.9861193763094928, 0.22384140819416556, 0.28320567460089074, 0.07788156051524495, 0.08114931829910138, 0.043025477487443016, 0.09204184424528948, 0.06426590308250982, 0.05936426640672517, 0.028865193757398478, 0.04574860897399004, 0.043609355515081404, 0.17928290600644578, 0.741359043756384, 0.009690967892240313, 0.004845483946120156, 0.009690967892240313, 0.004845483946120156, 0.004845483946120156, 0.10987816085513738, 0.012926842453545575, 0.006463421226772788, 0.022621974293704755, 0.009695131840159181, 0.022621974293704755, 0.038780527360636724, 0.7659154153725753, 0.003231710613386394, 0.006463421226772788, 0.03744086249232696, 0.05616129373849044, 0.01404032343462261, 0.00468010781154087, 0.023400539057704353, 0.01872043124616348, 0.8424194060773567, 0.00468010781154087, 0.00468010781154087, 0.01575534318147196, 0.8665438749809579, 0.09453205908883176, 0.01575534318147196, 0.01575534318147196, 0.8965122094843698, 0.045050864798209536, 0.009010172959641908, 0.03604069183856763, 0.004505086479820954, 0.004505086479820954, 0.09739848382852118, 0.11815553775918963, 0.007451250128957905, 0.6285661715928061, 0.002128928608273687, 0.02395044684307898, 0.02714383975548951, 0.044707500773747424, 0.03406285773237899, 0.01596696456205265, 0.2832393560331769, 0.01888262373554513, 0.004720655933886282, 0.6750537985457383, 0.004720655933886282, 0.014161967801658846, 0.004720655933886282, 0.011970748026970634, 0.026335645659335393, 0.004788299210788253, 0.004788299210788253, 0.0023941496053941267, 0.7661278737261206, 0.18195537000995363, 0.02305329116480326, 0.9451849377569337, 0.02199356535042556, 0.11485528571888902, 0.10752409726874718, 0.017106106383664322, 0.17106106383664324, 0.01954983586704494, 0.0977491793352247, 0.08064307295156038, 0.05131831915099297, 0.32257229180624153, 0.10958730195255688, 0.03652910065085229, 0.8036402143187504, 0.03652910065085229, 0.022199014286327843, 0.03468595982238726, 0.2566761026856657, 0.011099507143163921, 0.1692674839332498, 0.0027748767857909804, 0.1137699482174302, 0.009712068750268431, 0.013874383928954903, 0.3662837357244094, 0.023611746849273207, 0.8087023295876073, 0.005902936712318302, 0.023611746849273207, 0.017708810136954908, 0.02951468356159151, 0.08264111397245623, 0.005902936712318302, 0.016974878030490043, 0.016974878030490043, 0.025462317045735067, 0.016974878030490043, 0.9081559746312173, 0.008487439015245022, 0.9180756691966523, 0.01639420837851165, 0.049182625135534945, 0.02348935872406364, 0.02348935872406364, 0.9395743489625457, 0.050733137086793466, 0.010146627417358693, 0.005073313708679346, 0.005073313708679346, 0.005073313708679346, 0.9233430949796411, 0.9726976306610644, 0.7195326072765004, 0.02600720267264459, 0.07282016748340485, 0.017338135115096395, 0.04161152427623135, 0.0017338135115096394, 0.04507915129925062, 0.017338135115096395, 0.03467627023019279, 0.02253957564962531, 0.9276821673886165, 0.03435859879217098, 0.03435859879217098, 0.03435859879217098, 0.13378180357472055, 0.18389004183120192, 0.05562254198805586, 0.19731617265590504, 0.004315542050797437, 0.04099764948257566, 0.13186378488547726, 0.0563417989965221, 0.18484905117582356, 0.010788855126993593, 0.9805233981483605, 0.013506580788388234, 0.08404094712774901, 0.009004387192258823, 0.3631769500877725, 0.01650804318580784, 0.3691798748826117, 0.0030014623974196075, 0.06603217274323137, 0.06303071034581176, 0.010505118390968626, 0.973830927706315, 0.0019860763066457073, 0.0019860763066457073, 0.9692052376431051, 0.00794430522658283, 0.0019860763066457073, 0.0019860763066457073, 0.01588861045316566, 0.11279784078640392, 0.021340132040671013, 0.08231193787115962, 0.018291541749146583, 0.0030485902915244304, 0.22559568157280785, 0.0030485902915244304, 0.5304547107252509, 0.0030485902915244304, 0.013327935274777717, 0.020342638050976518, 0.17677050996020974, 0.007014702776198799, 0.38580865269093395, 0.011223524441918077, 0.1564278719092332, 0.004910291943339159, 0.04980438971101147, 0.1746660991273501, 0.060415155140198074, 0.10080137297848266, 0.06337024425031645, 0.046624739292978945, 0.4196226536368105, 0.02002893730191349, 0.08832433006909392, 0.03972953136936938, 0.0551616633888765, 0.10605486472980423, 0.07497288620866704, 0.9090462452800879, 0.01051363892085326, 0.0035045463069510873, 0.0035045463069510873, 0.0035045463069510873, 0.07359547244597282, 0.17172276904060327, 0.5607274091121739, 0.0070090926139021745, 0.1647136764267011, 0.02126933820097514, 0.06565752227257544, 0.03329113805370022, 0.039764414897475266, 0.01202179985272508, 0.38747185679167756, 0.013871307522375092, 0.4087411949926527, 0.008322784513425056, 0.008322784513425056, 0.09140410521385732, 0.05153635719504721, 0.09529364160593636, 0.12835470093860815, 0.38992602330592324, 0.00680668868613831, 0.09821079389999562, 0.02333721835247421, 0.028199138842573, 0.08654218472375852, 0.05521584402991723, 0.9110614264936343, 0.8144209007632073, 0.004366868100607009, 0.08515392796183668, 0.013100604301821028, 0.05895271935819463, 0.013100604301821028, 0.008733736201214018, 0.0021834340503035046, 0.015119874270833706, 0.05443154737500134, 0.7771615375208525, 0.018143849125000448, 0.0665274467916683, 0.0030239748541667413, 0.02419179883333393, 0.0060479497083334825, 0.009071924562500224, 0.02721577368750067, 0.22338573346470464, 0.14413236020070508, 0.21483880105388115, 0.06720996850329373, 0.09828972272447004, 0.1045056735687053, 0.06021702380352908, 0.03613021428211745, 0.023698312593646926, 0.027583281871293962, 0.04603319920045768, 0.9206639840091536, 0.0880439533169407, 0.022010988329235176, 0.7758873386055399, 0.016508241246926382, 0.022010988329235176, 0.06603296498770553, 0.011005494164617588, 0.06939408946124234, 0.0042057023915904445, 0.0021028511957952222, 0.016822809566361778, 0.016822809566361778, 0.016822809566361778, 0.0021028511957952222, 0.18084520283838912, 0.5362270549277818, 0.15561098848884647, 0.08078520916070041, 0.040392604580350204, 0.8482446961873542, 0.026870549765689436, 0.047023462089956516, 0.026870549765689436, 0.026870549765689436, 0.08732928673849066, 0.006717637441422359, 0.020152912324267077, 0.006717637441422359, 0.006717637441422359, 0.7389401185564595, 0.969844516826924, 0.05076314352727197, 0.10614111828429594, 0.01845932491900799, 0.2030525741090879, 0.06691505283140396, 0.03922606545289198, 0.009229662459503995, 0.4568682917454478, 0.02307415614875999, 0.025381571763635986, 0.9509905292229507, 0.016118483546151707, 0.03223696709230341, 0.012172777689296912, 0.7912305498042993, 0.003043194422324228, 0.0760798605581057, 0.003043194422324228, 0.003043194422324228, 0.01825916653394537, 0.09129583266972685, 0.009607584784795623, 0.7269739153828688, 0.17613905438791977, 0.05124045218557666, 0.006405056523197082, 0.003202528261598541, 0.003202528261598541, 0.003202528261598541, 0.019215169569591246, 0.06057131502723391, 0.8883792870660974, 0.020190438342411302, 0.020190438342411302, 0.2785378462929521, 0.08537432211819478, 0.17173753599837638, 0.057685352782564044, 0.09559287032539183, 0.0741668821490109, 0.10515215735793103, 0.03625936460618311, 0.047137173988038045, 0.0484556963373538, 0.04084398696771625, 0.0068073311612860425, 0.010210996741929063, 0.7556137589027507, 0.010210996741929063, 0.010210996741929063, 0.0987063018386476, 0.06126598045157438, 0.0068073311612860425, 0.9706405876363798, 0.9118384469398046, 0.0050657691496655815, 0.045591922346990235, 0.0050657691496655815, 0.015197307448996744, 0.010131538299331163, 0.12500819085257014, 0.4044851016121378, 0.10510242797795706, 0.028664298539442835, 0.042200217294179734, 0.15287625887702846, 0.06529090222873091, 0.037422834204272594, 0.030256759569411883, 0.008758535664829755, 0.9334470782927534, 0.006161366853417514, 0.024645467413670057, 0.021564783986961298, 0.009242050280126271, 0.9599293553456436, 0.16741847054942172, 0.1347272899095938, 0.29521126759602173, 0.052999338310024034, 0.12267448088581887, 0.047715915176314475, 0.046229952419958656, 0.05167848252659664, 0.02394051107462145, 0.057457226579091476, 0.9744997099037518, 0.018861284707814552, 0.9669564079188773, 0.11339572981912047, 0.028348932454780117, 0.028348932454780117, 0.7937701087338433, 0.07112792152733284, 0.8535350583279941, 0.04001921233598051, 0.026679474890653674, 0.07622707111615336, 0.026679474890653674, 0.13339737445326838, 0.057170303337115015, 0.5069100229224198, 0.003811353555807668, 0.02477379811274984, 0.1067178995626147, 0.9806915061653271, 0.0070049393297523365, 0.0070049393297523365, 0.00472641226041488, 0.00472641226041488, 0.05671694712497856, 0.17960366589576543, 0.13706595555203152, 0.0472641226041488, 0.5624430589893706, 0.9493805516039392, 0.9803223321566469, 0.03993522214660442, 0.08908626478857909, 0.6950264623591731, 0.015359700825617086, 0.02303955123842563, 0.04761507255941296, 0.032255371733795876, 0.012287760660493668, 0.016127685866897938, 0.029183431568672463, 0.924658272355778, 0.005209342379469172, 0.007814013569203759, 0.002604671189734586, 0.002604671189734586, 0.002604671189734586, 0.018232698328142102, 0.036465396656284205, 0.9785623692367492, 0.9799337598406602, 0.02128990392696644, 0.01596742794522483, 0.06919218776264092, 0.7557915894073086, 0.12773942356179863, 0.014354888201785553, 0.961777509519632, 0.014354888201785553, 0.1484230285798383, 0.06653446108751372, 0.012795088670675716, 0.002559017734135143, 0.023031159607216287, 0.005118035468270286, 0.7190839832919752, 0.002559017734135143, 0.002559017734135143, 0.017913124138946003, 0.01966706060997798, 0.01966706060997798, 0.11800236365986788, 0.00983353030498899, 0.8260165456190752, 0.025139492644541808, 0.8128435955068518, 0.13407729410422298, 0.004189915440756968, 0.004189915440756968, 0.008379830881513936, 0.008379830881513936, 0.004189915440756968, 0.03185158619637288, 0.02123439079758192, 0.04246878159516384, 0.8069068503081129, 0.01061719539879096, 0.01061719539879096, 0.06370317239274575, 0.053210033471726814, 0.10813651963608999, 0.022313885004272536, 0.6350874962754491, 0.015448074233727141, 0.025746790389545235, 0.006865810770545396, 0.09612135078763553, 0.03432905385272698, 0.003432905385272698, 0.13733122204382764, 0.09113799281090379, 0.08721424360965158, 0.07883168849788548, 0.1294837236413232, 0.05939129472804494, 0.3206773210841586, 0.017121814696373316, 0.0711625423318016, 0.007669146166083881, 0.9610268352548023, 0.9789359268255956, 0.007647936928324966, 0.20640304458568717, 0.004690978286038345, 0.028145869716230072, 0.014072934858115036, 0.6426640251872533, 0.05160076114642179, 0.01876391314415338, 0.032836848002268416, 0.004690978286038345, 0.6554128304218997, 0.0021630786482570944, 0.24767250522543732, 0.008652314593028378, 0.024875404454956587, 0.0010815393241285472, 0.009733853917156926, 0.0032446179723856416, 0.02812002242734223, 0.01946770783431385, 0.9260176165975371, 0.011432316254290581, 0.0314388696992991, 0.007145197658931613, 0.005001638361252129, 0.0007145197658931613, 0.002143559297679484, 0.0028580790635726453, 0.007145197658931613, 0.005716158127145291, 0.9375944250349328, 0.018030662019902555, 0.012020441346601702, 0.006010220673300851, 0.006010220673300851, 0.012020441346601702, 0.9780160945774931, 0.009495301889101875, 0.0028500580036601164, 0.05985121807686245, 0.00855017401098035, 0.005700116007320233, 0.564311484724703, 0.35625725045751455, 0.0028500580036601164, 0.9559194939455556, 0.015355783072558851, 0.010237188715039234, 0.07166032100527464, 0.005118594357519617, 0.005118594357519617, 0.015355783072558851, 0.8752796351358545, 0.025586343106570784, 0.946694694943119, 0.9537523809813173, 0.9526035049206704, 0.007674717968146759, 0.007674717968146759, 0.007674717968146759, 0.9439903100820514, 0.030698871872587036, 0.021874213802733907, 0.9077798728134571, 0.010937106901366954, 0.010937106901366954, 0.03281132070410086, 0.9859948614952619, 0.0038771829246121714, 0.6940157435055787, 0.0038771829246121714, 0.02326309754767303, 0.10080675603991646, 0.16671886575832337, 0.0038771829246121714, 0.0038771829246121714, 0.9661057180275541, 0.14794352640905944, 0.10766570770083383, 0.04647440620179878, 0.09527253271368749, 0.016266042170629574, 0.26722783566034297, 0.11231314832101372, 0.1355503514219131, 0.030208364031169208, 0.042601539018315544, 0.02233596846837438, 0.01954397240982758, 0.06700790540512314, 0.016751976351280784, 0.1005118581076847, 0.06421590934657634, 0.6421590934657634, 0.0027919960585467973, 0.008375988175640392, 0.05304792511238915, 0.9801641233449412, 0.6971134055553578, 0.06606405422834585, 0.06503180338102794, 0.01926868248326754, 0.03612877965612664, 0.0034408361577263464, 0.06709630507566376, 0.009290257625861135, 0.017892348020177, 0.01858051525172227, 0.05671247970818428, 0.003336028218128487, 0.01534572980339104, 0.7913058933400772, 0.0013344112872513947, 0.0013344112872513947, 0.005337645149005579, 0.021350580596022316, 0.10141525783110601, 0.0026688225745027895, 0.06093573756321183, 0.004687364427939371, 0.009374728855878742, 0.738259897400451, 0.0023436822139696854, 0.05859205534924214, 0.12187147512642366, 0.0023436822139696854, 0.014053179137044113, 0.014053179137044113, 0.2248508661927058, 0.06323930611669851, 0.0070265895685220564, 0.0070265895685220564, 0.6745525985781174, 0.6074379647386867, 0.02289944708340287, 0.03736225576765732, 0.05182506445191176, 0.056646000679996575, 0.01325757462723324, 0.03615702171063611, 0.07412189450680404, 0.05001721336637996, 0.050619830394890555, 0.9538599606341515, 0.04316860177112225, 0.021584300885561125, 0.8202034336513228, 0.0863372035422445, 0.976642999864999, 0.04678754543514968, 0.8889633632678439, 0.07810762858886083, 0.01965509253330196, 0.023586111039962353, 0.007691123165205115, 0.15843713720322536, 0.007862037013320784, 0.5946092775944132, 0.002392793873619369, 0.02204788640692133, 0.08579875175406594, 0.13630862800660576, 0.007572701555922542, 0.007572701555922542, 0.8178517680396346, 0.015145403111845084, 0.9666062967730855, 0.011933411071272661, 0.011933411071272661, 0.9193735602980376, 0.029657211622517343, 0.029657211622517343, 0.983471018323929, 0.07433770409451561, 0.0557532780708867, 0.09453816716367745, 0.014544333409796531, 0.023432537160227744, 0.3030069460374277, 0.12201079693773757, 0.28361450149103234, 0.012928296364263583, 0.016968388978095952, 0.02951459587471203, 0.944467067990785, 0.0020711073390375667, 0.012426644034225401, 0.0020711073390375667, 0.008284429356150267, 0.9299271952278675, 0.008284429356150267, 0.028995502746525934, 0.0020711073390375667, 0.008284429356150267, 0.9571147882926413, 0.02888787933807437, 0.14203207341219898, 0.05777575867614874, 0.009629293112691457, 0.06499772851066733, 0.02888787933807437, 0.1468467199685447, 0.5031305651381286, 0.0024073232781728644, 0.014443939669037184, 0.08292719305865566, 0.02902451757052948, 0.004146359652932783, 0.016585438611731132, 0.004146359652932783, 0.8002474130160271, 0.06219539479399175, 0.3836188114547494, 0.12083992560824607, 0.159201806753721, 0.10229834972126652, 0.05178853954639117, 0.05434599828942283, 0.045394892688812014, 0.027492681487590376, 0.039640610516990776, 0.015344752458189977, 0.18707045448439333, 0.021467101334274645, 0.11193559981443207, 0.01840037257223541, 0.11960242171953016, 0.0015333643810196175, 0.01226691504815694, 0.00613345752407847, 0.5167437964036111, 0.003066728762039235, 0.4674472188625585, 0.004160128970459663, 0.17396902967376773, 0.04916516055997784, 0.02306980610891268, 0.0022691612566143617, 0.06202374101412589, 0.04235767679013475, 0.12404748202825178, 0.0514343218165922, 0.08324277954606371, 0.027747593182021236, 0.027747593182021236, 0.8601753886426583, 0.9727371606887621, 0.004247760527025162, 0.004247760527025162, 0.004247760527025162, 0.004247760527025162, 0.008495521054050324, 0.01467033075801153, 0.04401099227403459, 0.9242308377547265, 0.007335165379005765, 0.007335165379005765, 0.015105408044270402, 0.9516407067890353, 0.977782402482963, 0.01154262944520899, 0.028856573613022476, 0.02308525889041798, 0.005771314722604495, 0.06348446194864944, 0.005771314722604495, 0.7271856550481663, 0.01154262944520899, 0.05771314722604495, 0.06925577667125395, 0.884172633657118, 0.07825346250265067, 0.08012940167223476, 0.07021372320443313, 0.1326556984205893, 0.1883978908882309, 0.10934045445575846, 0.09406494978914515, 0.09004508014003638, 0.0846852539412247, 0.07208966237401722, 0.09178581657177776, 0.010456612014506327, 0.005809228896947959, 0.015103995132064695, 0.06506336364581715, 0.0034855373381687755, 0.0023236915587791836, 0.13709780196797183, 0.5890558101505231, 0.07900551299849225, 0.14460065605189146, 0.0067933194118338265, 0.00873426781521492, 0.0058228452101432805, 0.042700864874384056, 0.04464181327776515, 0.0145571130253582, 0.12519117201808053, 0.47553235882836786, 0.1310140172282238, 0.23750742480820666, 0.11153140287603723, 0.12206887087600253, 0.17203304498819755, 0.06346160503349889, 0.04925378301107376, 0.05304253555038713, 0.06286961244923117, 0.06997352346044373, 0.05837046880879655, 0.0016764581922652654, 0.0972345751513854, 0.0016764581922652654, 0.016764581922652653, 0.0033529163845305307, 0.37552663506741946, 0.0050293745767957965, 0.4878493339491922, 0.010058749153591593, 0.08427845439457818, 0.037053458397616264, 0.017436921598878243, 0.29788074398083664, 0.05521691839644777, 0.4315638095722365, 0.04867807279686843, 0.010171537599345642, 0.012351152799205421, 0.005085768799672821, 0.028152056825820237, 0.028152056825820237, 0.028152056825820237, 0.0844561704774607, 0.8445617047746071, 0.10801596675704477, 0.0350578137720233, 0.09664586499314531, 0.17434156037979157, 0.018950169606499083, 0.1591814246945923, 0.004737542401624771, 0.2435096794435132, 0.12696613636354384, 0.03316279681137339, 0.005025358779644143, 0.010050717559288287, 0.9196406566748783, 0.010050717559288287, 0.01507607633893243, 0.005025358779644143, 0.035177511457509004, 0.9785792538608702, 0.0694399674209625, 0.017359991855240627, 0.017359991855240627, 0.8506396009067907, 0.017359991855240627, 0.03471998371048125, 0.03277249669679278, 0.01638624834839639, 0.19663498018075667, 0.07373811756778376, 0.008193124174198195, 0.03277249669679278, 0.630870561413261, 0.1052787154526294, 0.7858304117714123, 0.011279862369924579, 0.007519908246616386, 0.007519908246616386, 0.022559724739849157, 0.022559724739849157, 0.02631967886315735, 0.007519908246616386, 0.011477094641186916, 0.045908378564747665, 0.9181675712949533, 0.9776646394653555, 0.008638044567917324, 0.9674609916067402, 0.008638044567917324, 0.007219647855844672, 0.11912418962143709, 0.01804911963961168, 0.01804911963961168, 0.06497683070260205, 0.0505375349909127, 0.6425486591701758, 0.021658943567534016, 0.01804911963961168, 0.03609823927922336, 0.01650223824362983, 0.9571298181305302, 0.8974207664548541, 0.06189108734171408, 0.2045449717757857, 0.2648003189919032, 0.12120328463012134, 0.06441088840343591, 0.060486210615412934, 0.10181075908930191, 0.07249110737877733, 0.05102081124429869, 0.03832332428304789, 0.021008569335887697, 0.9711405259847934, 0.1493559946809891, 0.8065223712773412, 0.02987119893619782, 0.9364304553020592, 0.12416437483343537, 0.11088893853048945, 0.04763538908704124, 0.35062770000133636, 0.050759021158322634, 0.08433806592459761, 0.05856810133652612, 0.07340535367511274, 0.05153992917614298, 0.04841629710486159, 0.038121082110557314, 0.9149059706533755, 0.1673446221512364, 0.029346447308358784, 0.12192750131687162, 0.24385500263374324, 0.1292641131439613, 0.014673223654179392, 0.08314826737368322, 0.07022185605928709, 0.10166447817538579, 0.03808050900727509, 0.18586413055211876, 0.11715606333379996, 0.11098995473728418, 0.12860740787018643, 0.10376679895279425, 0.050209741428771416, 0.0813926334740084, 0.09742451582494945, 0.05972316612053863, 0.06500840206040931, 0.016735058557398083, 0.012551293918048562, 0.012551293918048562, 0.004183764639349521, 0.025102587836097125, 0.008367529278699042, 0.004183764639349521, 0.907876926738846, 0.015187758359366994, 0.02278163753905049, 0.007593879179683497, 0.015187758359366994, 0.015187758359366994, 0.9188593807417031, 0.013302262477285647, 0.026604524954571294, 0.944460635887281, 0.015930547609483817, 0.12213419833937593, 0.005310182536494606, 0.8336986582296532, 0.005310182536494606, 0.005310182536494606, 0.005310182536494606, 0.13754949538988598, 0.0916996635932573, 0.7335973087460584, 0.9374409722521273, 0.08268513635612763, 0.14396941389066928, 0.002918298930216269, 0.005836597860432538, 0.002918298930216269, 0.3813243935482592, 0.004863831550360449, 0.357978002106529, 0.004863831550360449, 0.013618728341009256, 0.040864277739222056, 0.013621425913074019, 0.8990141102628852, 0.027242851826148037, 0.03303075434463762, 0.9413764988221722, 0.96019528316607, 0.03533542747293256, 0.014134170989173023, 0.03533542747293256, 0.028268341978346045, 0.883385686823314, 0.012788260075054405, 0.003197065018763601, 0.05435010531898122, 0.006394130037527202, 0.041561845243926816, 0.02557652015010881, 0.05754717033774482, 0.003197065018763601, 0.7928721246533731, 0.003197065018763601, 0.002848336602460236, 0.018514187915991534, 0.9128918810885057, 0.005696673204920472, 0.008545009807380708, 0.009969178108610827, 0.024210861120912006, 0.002848336602460236, 0.002848336602460236, 0.012817514711071063, 0.9677309833873937, 0.007850639735571102, 0.036636318765998474, 0.7144082159369702, 0.002616879911857034, 0.052337598237140674, 0.02093503929485627, 0.002616879911857034, 0.002616879911857034, 0.002616879911857034, 0.15962967462327907, 0.20384737390494104, 0.033019905194519375, 0.2658439305966917, 0.1320796207780775, 0.14993732460776654, 0.015836076981045007, 0.03032440272966065, 0.03167215396209001, 0.053573111489067154, 0.08356057641062047, 0.08582143101751295, 0.042910715508756476, 0.8582143101751295, 0.015398760630686887, 0.7930361724803746, 0.1462882259915254, 0.02309814094603033, 0.007699380315343444, 0.004731201155309653, 0.09935522426150271, 0.018924804621238613, 0.04258081039778688, 0.10881762657212203, 0.6907553686752094, 0.009462402310619306, 0.004731201155309653, 0.01419360346592896, 0.009462402310619306, 0.26926453879050627, 0.045357395571662816, 0.10295408836107592, 0.12599276547684116, 0.012239297217750284, 0.1094337162998849, 0.006479627938808974, 0.19798863146360754, 0.07271582464663404, 0.0575966927894131, 0.010421154516986436, 0.9691673700797386, 0.010421154516986436, 0.01386437367622685, 0.9427774099834259, 0.0277287473524537, 0.15049027374856488, 0.10816488425678102, 0.1246247579480303, 0.15225383164405587, 0.18693713692204544, 0.06583949476499713, 0.06231237897401515, 0.06231237897401515, 0.04820391581008719, 0.03879827370080188, 0.035583654953114725, 0.22644144061073007, 0.07799649621036259, 0.014017803466378528, 0.009704633169031288, 0.4057974388087528, 0.011861218317704909, 0.20271900397532025, 0.004672601155459509, 0.011142356601480368, 0.07007884549100692, 0.03185402067773042, 0.04459562894882258, 0.02548321654218433, 0.057337237219914745, 0.012741608271092166, 0.0382248248132765, 0.7199008673167073, 0.975787697337965, 0.11284284640629275, 0.037614282135430915, 0.7898999248440491, 0.3551020571716436, 0.019436059342234933, 0.17965222419038776, 0.0756430417643738, 0.027840841760498686, 0.001575896703424454, 0.12397054066939038, 0.08352252528149606, 0.0919273076997598, 0.04149861319017729, 0.024413618453892973, 0.008137872817964326, 0.8951660099760758, 0.05696510972575027, 0.008137872817964326, 0.008137872817964326, 0.9409784850583682, 0.03136594950194561, 0.0038118985823019204, 0.030495188658415363, 0.026683290076113444, 0.7280726292196669, 0.19821872627969986, 0.0038118985823019204, 0.0038118985823019204, 0.23769920402290814, 0.08081772936778878, 0.01154538990968411, 0.42310458316077654, 0.04618155963873644, 0.010866249326761515, 0.03395702914612974, 0.10730421210176996, 0.0393901538095105, 0.009507968160916326, 0.9636599681178574, 0.510137296574691, 0.17099574186861152, 0.04958876514189734, 0.008834779996544929, 0.025364368377177374, 0.007124822577858813, 0.2154546347544505, 0.0011399716124574101, 0.009119772899659281, 0.0025649361280291726, 0.029472039662351773, 0.06483848725717391, 0.06189128329093872, 0.06778569122340908, 0.5452327337535078, 0.008841611898705533, 0.06189128329093872, 0.0029472039662351776, 0.06483848725717391, 0.08841611898705533, 0.960465028440863, 0.18130532369768185, 0.13650727168846444, 0.09509020473654643, 0.05156002212381629, 0.045643298273542285, 0.124251200855754, 0.23117485329284843, 0.05240526838814114, 0.029160996119207572, 0.05282789152030357, 0.007901212647839828, 0.15802425295679656, 0.007901212647839828, 0.03950606323919914, 0.04740727588703897, 0.06716030750663854, 0.6399982244750261, 0.01975303161959957, 0.007901212647839828, 0.003950606323919914, 0.17827800747050648, 0.12323915952659173, 0.11486368266556123, 0.06461082149937819, 0.09093374877690263, 0.06520906984659465, 0.02931416901360677, 0.05384235124948182, 0.23690634549772002, 0.04247563265236899, 0.9695388041820081, 0.04387767838693682, 0.04387767838693682, 0.8775535677387364, 0.04979246180174953, 0.007113208828821361, 0.007113208828821361, 0.03556604414410681, 0.8891511036026701, 0.007113208828821361, 0.9656184907446972, 0.01222301887018604, 0.01222301887018604, 0.7336524001071665, 0.09304115677034752, 0.0854148324449092, 0.024404237841402627, 0.006101059460350657, 0.0213537081112273, 0.015252648650876643, 0.009151589190525986, 0.0015252648650876642, 0.009151589190525986, 0.9788879646709839, 0.9613299341507759, 0.004599664756702277, 0.011499161891755693, 0.0022998323783511385, 0.004599664756702277, 0.004599664756702277, 0.009199329513404554, 0.9772513458987743, 0.9748646468158344, 0.9406589332295537, 0.015171918277896029, 0.01011461218526402, 0.025286530463160047, 0.027549707856107886, 0.43836446912218724, 0.01782628155395216, 0.013774853928053943, 0.05428913018703613, 0.09804454854673689, 0.2860307903884142, 0.0032411421007185748, 0.049427417035958265, 0.011343997352515012, 0.012378096751723078, 0.007426858051033847, 0.009902477401378463, 0.059414864408270776, 0.03218305155448, 0.6510878891406339, 0.004951238700689232, 0.2054764060786031, 0.007426858051033847, 0.007426858051033847, 0.025046072080189125, 0.9517507390471868, 0.13857885134539383, 0.0012951294518261105, 0.029787977392000543, 0.15412040476730715, 0.0012951294518261105, 0.0012951294518261105, 0.044034401362087756, 0.45200017868731257, 0.17484247599652492, 0.0038853883554783317, 0.04064610286331664, 0.002139268571753507, 0.03208902857630261, 0.06631732572435872, 0.6695910629588477, 0.1882556343143086, 0.01243547485813904, 0.969967038934845, 0.018828100965606578, 0.910024880004318, 0.006276033655202193, 0.037656201931213155, 0.012552067310404386, 0.012552067310404386, 0.006276033655202193, 0.1601466588728787, 0.8007332943643936, 0.02252574824761828, 0.04505149649523656, 0.9235556781523495, 0.9768972667282565, 0.06813378160514426, 0.03406689080257213, 0.018343710432154225, 0.8071232590147859, 0.01310265030868159, 0.01048212024694527, 0.005241060123472635, 0.018343710432154225, 0.01310265030868159, 0.01048212024694527, 0.011603208129089332, 0.023206416258178663, 0.011603208129089332, 0.9166534421980571, 0.023206416258178663, 0.011603208129089332, 0.018632652635920878, 0.9688979370678857, 0.15069459095942278, 0.16687084648614048, 0.05704258527842557, 0.01873040113619944, 0.014473491787063204, 0.34991794849899865, 0.005959673088790731, 0.2213592861550843, 0.005108291218963484, 0.010216582437926967, 0.10769908576089644, 0.035899695253632145, 0.8256929908335394, 0.00593597110983727, 0.07123165331804723, 0.00593597110983727, 0.9082035798051022, 0.00593597110983727, 0.9595386387923962, 0.010068034744709908, 0.05034017372354954, 0.010068034744709908, 0.03523812160648468, 0.03523812160648468, 0.7248985016191134, 0.02517008686177477, 0.010068034744709908, 0.09061231270238918, 0.005034017372354954, 0.9374999934715748, 0.020833333188257218, 0.02278228390729885, 0.030376378543065134, 0.1746641766226245, 0.007594094635766283, 0.007594094635766283, 0.007594094635766283, 0.007594094635766283, 0.7442212743050958, 0.7616216327774719, 0.17920509006528748, 0.9901650253976663, 0.004480384730306182, 0.951611267829458, 0.0031182578187877513, 0.30247100842241187, 0.0020788385458585007, 0.1070601851117128, 0.013512450548080255, 0.19956850040241608, 0.0051970963646462524, 0.06964109128625978, 0.2962344927848364, 0.03774933389250171, 0.1887466694625085, 0.03774933389250171, 0.012583111297500569, 0.012583111297500569, 0.025166222595001137, 0.6794880100650307, 0.939891064299819, 0.9607367374156477, 0.006258168598543165, 0.010430280997571942, 0.0041721123990287766, 0.008344224798057553, 0.3942646217082194, 0.0041721123990287766, 0.5674072862679136, 0.0020860561995143883, 0.0041721123990287766, 0.04431797375155566, 0.9417569422205578, 0.07960931857055631, 0.07258496693197782, 0.018731604369542663, 0.5830211860020154, 0.002341450546192833, 0.02575595600812116, 0.002341450546192833, 0.12643832949441297, 0.07960931857055631, 0.011707252730964164, 0.9802813044212806, 0.04342481044009012, 0.02171240522004506, 0.9119210192418925, 0.004400916959428413, 0.02640550175657048, 0.001466972319809471, 0.007334861599047356, 0.001466972319809471, 0.4973036164154107, 0.002933944639618942, 0.457695363780555, 0.001466972319809471, 0.001466972319809471, 0.03596329531761274, 0.9350456782579313, 0.9126689720336044, 0.23450523308898283, 0.05168686770124519, 0.16846090213739173, 0.03541507601751986, 0.02775776228400205, 0.0966735858856623, 0.02010044855048424, 0.2412053826058109, 0.06891582360166025, 0.05360119613462464, 0.0337980515626147, 0.0337980515626147, 0.9125473921905969, 0.9818926835808289, 0.0028964385946337137, 0.0028964385946337137, 0.0028964385946337137, 0.005792877189267427, 0.0028964385946337137, 0.004171072878991622, 0.9614322986075688, 0.006256609318487432, 0.012513218636974865, 0.012513218636974865, 0.9071502118344633, 0.025009153709722044, 0.0022735594281565494, 0.022735594281565494, 0.004547118856313099, 0.0068206782844696485, 0.025009153709722044, 0.0068206782844696485, 0.07228277347010119, 0.0013142322449109308, 0.15245094040966797, 0.09462472163358701, 0.006571161224554653, 0.01839925142875303, 0.027598877143129544, 0.1025101151030526, 0.5217502012296394, 0.003942696734732792, 0.10248863485744186, 0.0019337478274989032, 0.05221119134247038, 0.19917602623238703, 0.017403730447490127, 0.0019337478274989032, 0.007734991309995613, 0.0618799304799649, 0.5530518786646863, 0.0019337478274989032, 0.04566952710339512, 0.04566952710339512, 0.8677210149645073, 0.0914290541919633, 0.02438108111785688, 0.00609527027946422, 0.8106709471687413, 0.01219054055892844, 0.04876216223571376, 0.00609527027946422, 0.9455590127989073, 0.01977771892777464, 0.01977771892777464, 0.01977771892777464, 0.9097750706776334, 0.01977771892777464, 0.08259712996489588, 0.02136132671505928, 0.007120442238353093, 0.005696353790682475, 0.027057680505741755, 0.015664972924376803, 0.017089061372047423, 0.01993723826738866, 0.798913619143217, 0.005696353790682475, 0.0056396555789500775, 0.0056396555789500775, 0.025378450105275348, 0.0028198277894750387, 0.6682991861055841, 0.0648560391579259, 0.0028198277894750387, 0.2255862231580031, 0.02532424703990974, 0.02532424703990974, 0.07597274111972922, 0.8610243993569312, 0.016727850009641557, 0.02230380001285541, 0.02230380001285541, 0.7639051504402978, 0.011151900006427705, 0.0055759500032138525, 0.08363925004820778, 0.011151900006427705, 0.055759500032138525, 0.05752107741009926, 0.1006618854676737, 0.02876053870504963, 0.032355606043180836, 0.01797533669065602, 0.014380269352524814, 0.007190134676262407, 0.0035950673381312036, 0.7405838716550279, 0.07810416359608285, 0.03905208179804143, 0.03905208179804143, 0.0308305908931906, 0.00616611817863812, 0.026719845440765187, 0.07399341814365744, 0.008221490904850826, 0.6967713541861076, 0.0020553727262127065, 0.9559979085301241, 0.0071761168665929725, 0.02152835059977892, 0.014352233733185945, 0.0071761168665929725, 0.9400713095236795, 0.0071761168665929725, 0.03416301346880378, 0.5890531716287681, 0.014493399653431906, 0.10352428323879932, 0.0921366120825314, 0.11698244005984323, 0.021740099480147858, 0.00621145699432796, 0.014493399653431906, 0.00621145699432796, 0.015606255407472151, 0.6929177400917635, 0.012485004325977721, 0.05618251946689974, 0.031212510814944302, 0.15294130299322709, 0.00936375324448329, 0.01872750648896658, 0.012485004325977721, 0.045976103533083595, 0.02022948555455678, 0.22436338524144794, 0.018390441413233437, 0.3581538465227212, 0.004597610353308359, 0.145744248199875, 0.0032183272473158514, 0.013792831059925079, 0.16551397271910093, 0.007030609097696729, 0.007030609097696729, 0.9667087509333003, 0.010545913646545094, 0.0035153045488483647, 0.007030609097696729, 0.897907635943219, 0.049883757552401056, 0.03470684131196113, 0.052060261967941696, 0.8734555063510218, 0.011568947103987042, 0.005784473551993521, 0.005784473551993521, 0.011568947103987042, 0.005784473551993521, 0.006787153607618153, 0.02036146082285446, 0.9569886586741595, 0.9734195856762011, 0.008691246300680367, 0.008691246300680367, 0.9446853495777178, 0.023617133739442946, 0.9643921090425779, 0.06389377518887754, 0.010953218603807578, 0.04198733798126238, 0.7594231565306587, 0.062068238754909605, 0.009127682169839647, 0.003651072867935859, 0.031034119377454802, 0.009127682169839647, 0.010953218603807578, 0.10120586567342793, 0.07564882888720875, 0.1604981910174564, 0.03066844414346301, 0.11347324333081314, 0.04702494768664328, 0.05315863651533589, 0.019423347957526572, 0.3854001147361852, 0.013289659128833972, 0.14637182384802444, 0.09965741198163365, 0.10627528699603901, 0.13469322088142674, 0.09693240462276086, 0.06812518397181988, 0.09420739726388806, 0.09848955168497389, 0.06540017661294709, 0.08992524284280225, 0.057246432611615, 0.904493635263517, 0.011449286522323, 0.011449286522323, 0.030442407156516683, 0.9132722146955005, 0.030442407156516683, 0.030442407156516683, 0.04316463030569558, 0.08632926061139116, 0.0976883738497321, 0.04089280765802739, 0.4725391107149832, 0.004543645295336377, 0.052251920896368334, 0.01590275853367732, 0.020446403829013696, 0.16811487592744595, 0.035174917215233636, 0.01217593288219626, 0.0067644071567757, 0.5627986754437382, 0.00811728858813084, 0.0541152572542056, 0.00135288143135514, 0.27869357485915885, 0.03111627292116822, 0.00947017001948598, 0.010498995878831578, 0.010498995878831578, 0.010498995878831578, 0.031496987636494736, 0.745428707397042, 0.1469859423036421, 0.04199598351532631, 0.007534800855873211, 0.08288280941460532, 0.823804893575471, 0.020092802282328563, 0.005023200570582141, 0.022604402567619634, 0.020092802282328563, 0.0025116002852910704, 0.017581201997037492, 0.06794847602416998, 0.0024267312865774993, 0.007280193859732499, 0.7717005491316449, 0.03397423801208499, 0.0024267312865774993, 0.04125443187181749, 0.03154750672550749, 0.04125443187181749, 0.9607443404995475, 0.958029836335409, 0.20760680114808014, 0.2127754352015593, 0.12088860758415178, 0.08068812050153598, 0.05197348687109613, 0.06345934032327206, 0.1366816560808937, 0.020100243541307895, 0.060875023296532486, 0.04536912113609497, 0.10065598854301938, 0.11418501926116716, 0.04221057584062103, 0.22187610377762337, 0.08712695782487162, 0.18128901162318006, 0.08009186185143478, 0.10390295591537485, 0.021105287920310516, 0.04762218812788014, 0.9833826800408318, 0.04377848450077326, 0.02188924225038663, 0.17511393800309305, 0.7442342365131455, 0.01612733869164802, 0.004031834672912005, 0.01612733869164802, 0.004031834672912005, 0.12901870953318417, 0.004031834672912005, 0.00806366934582401, 0.8144306039282251, 0.003373766514812452, 0.003373766514812452, 0.003373766514812452, 0.9885135888400484, 0.10440639277137911, 0.10440639277137911, 0.7830479457853433, 0.04973036401253601, 0.0035521688580382863, 0.06038687058665087, 0.6784642518853127, 0.01065650657411486, 0.0035521688580382863, 0.0035521688580382863, 0.15274326089564633, 0.01776084429019143, 0.02131301314822972, 0.05101268455898809, 0.058048916911951964, 0.02462681323537356, 0.05980797500019293, 0.22691849338308495, 0.07388043970612068, 0.39930618603069984, 0.04221739411778325, 0.01231340661768678, 0.05101268455898809, 0.9635732397330709, 0.16210216670954167, 0.007907422766319106, 0.003953711383159553, 0.019768556915797764, 0.6405012440718475, 0.023722268298957315, 0.04349082521475508, 0.003953711383159553, 0.09093536181266972, 0.9562541016272309, 0.00921597847129083, 0.03686391388516332, 0.0299519300316952, 0.0023039946178227077, 0.03225592464951791, 0.02764793541387249, 0.7188463207606848, 0.02764793541387249, 0.11289573627331267, 0.012564478177050337, 0.025128956354100673, 0.9423358632787752, 0.8567379798444026, 0.029621259941428814, 0.051647325026081006, 0.008354714342454281, 0.007595194856776619, 0.007595194856776619, 0.014430870227875576, 0.016709428684908562, 0.0022785584570329856, 0.005316636399743633, 0.9752943244474442, 0.9740318437301136, 0.0032359861917943974, 0.0032359861917943974, 0.006471972383588795, 0.0032359861917943974, 0.0032359861917943974, 0.006471972383588795, 0.960225801491736, 0.01574140658183174, 0.06236933749135346, 0.03118466874567673, 0.06236933749135346, 0.810801387387595, 0.024418450473606298, 0.9523195684706456, 0.9719534768847369, 0.11028180051300107, 0.04150390341887137, 0.05059523464395748, 0.4004138491744447, 0.1264880866098937, 0.032017296923129344, 0.05178106045592523, 0.06087239168101134, 0.05850074005707583, 0.06798734655281786, 0.13674794945868654, 0.11696833534055509, 0.1611672261477377, 0.14944597333699314, 0.11770091364122662, 0.08204876967521192, 0.058606264053722795, 0.058117878519941775, 0.060803998955737404, 0.058606264053722795, 0.04963135368323899, 0.8437330126150628, 0.12326595995355442, 0.4247678349750862, 0.09827961671972582, 0.052471320791040055, 0.026652099449417172, 0.04164390538971433, 0.052471320791040055, 0.054969955114422916, 0.0124931716169143, 0.11327142266002298, 0.0555454328093926, 0.03967530914956614, 0.8966619867801948, 0.037152316364476246, 0.18885760818608757, 0.07585264591080566, 0.08359271182007155, 0.14396522591234545, 0.03870032954632942, 0.10216887000230966, 0.01393211863667859, 0.04334436909188895, 0.2724503200061591, 0.15494939143026626, 0.1963715059710305, 0.11383410736758175, 0.07118467091449855, 0.067195874699462, 0.08131007669112982, 0.212019860353097, 0.03221720019837219, 0.029455725895654573, 0.04111528406268451, 0.006678573070079584, 0.7045894588933961, 0.05676787109567646, 0.02337500574527854, 0.08682144991103459, 0.01669643267519896, 0.006678573070079584, 0.013357146140159168, 0.003339286535039792, 0.080142876840955, 0.9791880477783176, 0.2158066164533005, 0.19533484256049727, 0.030423330646249212, 0.13932179454824406, 0.2298809610046027, 0.07065605294946663, 0.08444606730781323, 0.013505684165391005, 0.015638160612558006, 0.005117943473200802, 0.0073544080456576085, 0.0073544080456576085, 0.978136270072462, 0.9639323316458015, 0.0019220214744451517, 0.0019220214744451517, 0.9898410593392531, 0.0019220214744451517, 0.0019220214744451517, 0.1794060285555957, 0.02531496108453191, 0.07484423277165955, 0.01430845626517021, 0.13427935879621272, 0.00110065048193617, 0.4391595422925318, 0.00440260192774468, 0.019811708674851058, 0.10676309674780848, 0.007807926849089151, 0.6277573186667678, 0.010931097588724811, 0.03669725619071901, 0.12805000032506209, 0.13195396374960666, 0.010150304903815896, 0.0039039634245445756, 0.037478048875627924, 0.0054655487943624055, 0.010101702920408894, 0.9495600745184359, 0.020203405840817788, 0.010101702920408894, 0.016289360371186574, 0.016289360371186574, 0.016289360371186574, 0.9284935411576347, 0.016289360371186574, 0.10032934395114029, 0.02705510398682435, 0.06087398397035478, 0.4754370877684654, 0.09497468795374797, 0.013809375993274928, 0.01465484799286319, 0.10540217594866985, 0.06876505596651189, 0.03889171198106, 0.9585293592289501, 0.07227604774728279, 0.05638556916454686, 0.09841844799629998, 0.07432643208053905, 0.12353565607868904, 0.07227604774728279, 0.30550726565518116, 0.054847780914604675, 0.08355316158019216, 0.05843595349780311, 0.022573276571467932, 0.970650892573121, 0.18289271135191434, 0.009379113402662275, 0.07034335051996705, 0.04689556701331137, 0.004689556701331137, 0.004689556701331137, 0.01875822680532455, 0.6518483814850281, 0.009379113402662275, 0.9799367362652398, 0.16697499447280373, 0.322760942924234, 0.11877602699611813, 0.09553723910557327, 0.06110940519365497, 0.07574123460622025, 0.05981836142195804, 0.051641750867877444, 0.021947744118847912, 0.025820875433938722, 0.9154645232858414, 0.9420932119419996, 0.9148008902353214, 0.0677630289063201, 0.07259558449345994, 0.02823161619190109, 0.11090992075389713, 0.23190256157633038, 0.0967941126579466, 0.012099264082243325, 0.06452940843863106, 0.09376929663738576, 0.10082720068536104, 0.18753859327477151, 0.029846124770670366, 0.029846124770670366, 0.029846124770670366, 0.8506145559641055, 0.029846124770670366, 0.014923062385335183, 0.10973743877739678, 0.021947487755479354, 0.021947487755479354, 0.7681620714417775, 0.06584246326643807, 0.1017093285007778, 0.14787850683146794, 0.07976754077926168, 0.20479001873415034, 0.07679625702530637, 0.11290878265030163, 0.06513968229825094, 0.09828092416929089, 0.06102559710046668, 0.05188318554983496, 0.14348985151165042, 0.17008256530531535, 0.06094163577714882, 0.07368397780327994, 0.07312996293257859, 0.22160594828054117, 0.07202193319117588, 0.13739568793393553, 0.022160594828054117, 0.026038698922963587], \"Term\": [\"abgeordnet\", \"abgeordnet\", \"abgeordnet\", \"abgeordnet\", \"abgeordnet\", \"abgeordnet\", \"abgeordnet\", \"abgeordnet\", \"abgeordnet\", \"absatz\", \"absatz\", \"absatz\", \"absatz\", \"absatz\", \"absatz\", \"abschreib\", \"abschreib\", \"abschreib\", \"aden\", \"admira\", \"admira\", \"agypt\", \"agypt\", \"agypt\", \"agypt\", \"agypt\", \"agypt\", \"agypt\", \"agypt\", \"agypt\", \"agypt\", \"aktienmarkt\", \"aktienmarkt\", \"aktionar\", \"aktionar\", \"aktuell\", \"aktuell\", \"aktuell\", \"aktuell\", \"aktuell\", \"aktuell\", \"aktuell\", \"aktuell\", \"aktuell\", \"aktuell\", \"alaba\", \"alaba\", \"alaba\", \"alaba\", \"alaba\", \"alexis\", \"alexis\", \"alexis\", \"alexis\", \"alexis\", \"alexis\", \"alexis\", \"allerding\", \"allerding\", \"allerding\", \"allerding\", \"allerding\", \"allerding\", \"allerding\", \"allerding\", \"allerding\", \"allerding\", \"alm\", \"alm\", \"alm\", \"alm\", \"alm\", \"alt\", \"alt\", \"alt\", \"alt\", \"alt\", \"alt\", \"alt\", \"alt\", \"alt\", \"alt\", \"altach\", \"altach\", \"altach\", \"altersgrupp\", \"altersgrupp\", \"amazon\", \"amazon\", \"amazon\", \"amazon\", \"amazon\", \"amazon\", \"amazon\", \"android\", \"android\", \"android\", \"angab\", \"angab\", \"angab\", \"angab\", \"angab\", \"angab\", \"angab\", \"angab\", \"angab\", \"angab\", \"angeklagt\", \"angeklagt\", \"angeklagt\", \"angeklagt\", \"angeklagt\", \"angeklagt\", \"angeklagt\", \"angriff\", \"angriff\", \"angriff\", \"angriff\", \"angriff\", \"angriff\", \"angriff\", \"angriff\", \"angriff\", \"angriff\", \"anschlag\", \"anschlag\", \"anschlag\", \"anschlag\", \"anschlag\", \"anschlag\", \"anschlag\", \"anschlag\", \"anschlag\", \"anschlag\", \"anstieg\", \"anstieg\", \"anstieg\", \"anstieg\", \"anstieg\", \"anstieg\", \"anstieg\", \"anstieg\", \"anstieg\", \"anstieg\", \"appl\", \"appl\", \"appl\", \"appl\", \"appl\", \"appl\", \"appl\", \"appl\", \"appl\", \"apps\", \"apps\", \"apps\", \"apps\", \"apps\", \"arbeit\", \"arbeit\", \"arbeit\", \"arbeit\", \"arbeit\", \"arbeit\", \"arbeit\", \"arbeit\", \"arbeit\", \"arbeit\", \"arbeitnehm\", \"arbeitnehm\", \"arbeitnehm\", \"arbeitnehm\", \"arbeitnehm\", \"arbeitnehm\", \"arbeitnehm\", \"arbeitskraft\", \"arbeitskraft\", \"arbeitskraft\", \"arbeitskraft\", \"arbeitslos\", \"arbeitslos\", \"arbeitslos\", \"arbeitslos\", \"arbeitslos\", \"arbeitslos\", \"arbeitsmarkt\", \"arbeitsmarkt\", \"arbeitsmarkt\", \"arbeitsmarkt\", \"arbeitsmarkt\", \"arbeitsmarkt\", \"arbeitsmarkt\", \"arbeitsmarkt\", \"arbeitsmarkt\", \"arbeitszeit\", \"arbeitszeit\", \"arbeitszeit\", \"arbeitszeit\", \"arbeitszeit\", \"arbeitszeit\", \"arena\", \"arena\", \"arena\", \"arena\", \"arena\", \"arme\", \"arme\", \"arme\", \"arme\", \"arme\", \"arme\", \"arme\", \"armut\", \"armut\", \"armut\", \"armut\", \"armut\", \"armut\", \"arnautovic\", \"arnautovic\", \"arnautovic\", \"arsenal\", \"arsenal\", \"arsenal\", \"arsenal\", \"art\", \"art\", \"art\", \"art\", \"art\", \"art\", \"art\", \"art\", \"artikel\", \"artikel\", \"artikel\", \"artikel\", \"artikel\", \"artikel\", \"artikel\", \"artikel\", \"artikel\", \"artikel\", \"assad\", \"assad\", \"assad\", \"assad\", \"assad\", \"ath\", \"ath\", \"ath\", \"ath\", \"ath\", \"ath\", \"ath\", \"ath\", \"ath\", \"ath\", \"atletico\", \"atletico\", \"attentat\", \"attentat\", \"attentat\", \"attentat\", \"attentat\", \"attentat\", \"attentat\", \"audi\", \"audi\", \"audi\", \"audi\", \"audi\", \"audi\", \"audi\", \"audi\", \"australian\", \"austria\", \"austria\", \"austria\", \"austria\", \"austria\", \"austria\", \"austria\", \"austria\", \"austria\", \"austria\", \"autobau\", \"autobau\", \"autobau\", \"autobau\", \"autobau\", \"autobau\", \"autobau\", \"autor\", \"autor\", \"autor\", \"autor\", \"autor\", \"autor\", \"autor\", \"autor\", \"autor\", \"autor\", \"autos\", \"autos\", \"autos\", \"autos\", \"autos\", \"autos\", \"autos\", \"autos\", \"autos\", \"autos\", \"award\", \"award\", \"award\", \"balkanrout\", \"balkanrout\", \"balkanrout\", \"balkanrout\", \"balkanstaat\", \"balkanstaat\", \"ball\", \"ball\", \"ball\", \"ball\", \"ball\", \"ball\", \"ball\", \"bank\", \"bank\", \"bank\", \"bank\", \"bank\", \"bank\", \"bank\", \"bank\", \"bank\", \"bank\", \"barca\", \"barcelona\", \"barcelona\", \"barcelona\", \"barcelona\", \"barcelona\", \"barcelona\", \"barcelona\", \"barcelona\", \"barcelona\", \"barisic\", \"barisic\", \"barisic\", \"barrel\", \"barrel\", \"basier\", \"basier\", \"basier\", \"basier\", \"basier\", \"basier\", \"basier\", \"bawag\", \"bawag\", \"bawag\", \"bay\", \"bay\", \"bay\", \"bay\", \"bay\", \"bay\", \"bay\", \"bay\", \"bay\", \"bay\", \"beamt\", \"beamt\", \"beamt\", \"beamt\", \"beamt\", \"beamt\", \"beamt\", \"beamt\", \"beamt\", \"befragt\", \"befragt\", \"befragt\", \"befragt\", \"befragt\", \"befragt\", \"befragt\", \"befragt\", \"befragt\", \"beim\", \"beim\", \"beim\", \"beim\", \"beim\", \"beim\", \"beim\", \"beim\", \"beim\", \"beim\", \"belgrad\", \"belgrad\", \"bell\", \"bell\", \"bell\", \"bell\", \"bell\", \"bell\", \"bereit\", \"bereit\", \"bereit\", \"bereit\", \"bereit\", \"bereit\", \"bereit\", \"bereit\", \"bereit\", \"bereit\", \"berichtet\", \"berichtet\", \"berichtet\", \"berichtet\", \"berichtet\", \"berichtet\", \"berichtet\", \"berichtet\", \"berichtet\", \"berichtet\", \"berlin\", \"berlin\", \"berlin\", \"berlin\", \"berlin\", \"berlin\", \"berlin\", \"berlin\", \"berlin\", \"berlin\", \"berufsbild\", \"berufsbild\", \"betriebsrat\", \"betriebsrat\", \"betriebsrat\", \"betriebsrat\", \"betriebsrat\", \"betriebsrat\", \"betriebssyst\", \"betriebssystem\", \"blau\", \"blau\", \"blau\", \"blau\", \"blau\", \"blau\", \"blau\", \"blau\", \"blau\", \"bluttat\", \"bluttat\", \"boeing\", \"bohmermann\", \"bohmermann\", \"bohmermann\", \"bors\", \"bors\", \"bors\", \"bors\", \"bors\", \"bors\", \"bors\", \"bors\", \"borsennotiert\", \"borsennotiert\", \"borsennotiert\", \"borsennotiert\", \"borussia\", \"borussia\", \"borussia\", \"brandstift\", \"brasilia\", \"break\", \"break\", \"break\", \"breakball\", \"brows\", \"buch\", \"buch\", \"buch\", \"buch\", \"buch\", \"buch\", \"buch\", \"buch\", \"buch\", \"buch\", \"budap\", \"budap\", \"budap\", \"budap\", \"budap\", \"budap\", \"budap\", \"budap\", \"build\", \"bull\", \"bull\", \"bull\", \"bull\", \"bull\", \"bull\", \"bull\", \"bull\", \"bundesliga\", \"bundesliga\", \"bundesliga\", \"bundesliga\", \"burgermeist\", \"burgermeist\", \"burgermeist\", \"burgermeist\", \"burgermeist\", \"burgermeist\", \"burgermeist\", \"burgermeist\", \"burgermeist\", \"burgermeist\", \"celsius\", \"celsius\", \"celsius\", \"celsius\", \"celsius\", \"celsius\", \"champion\", \"champion\", \"champion\", \"champion\", \"champion\", \"champion\", \"champion\", \"champion\", \"champion\", \"chanc\", \"chanc\", \"chanc\", \"chanc\", \"chanc\", \"chanc\", \"chanc\", \"chanc\", \"chanc\", \"chanc\", \"chef\", \"chef\", \"chef\", \"chef\", \"chef\", \"chef\", \"chef\", \"chef\", \"chef\", \"chef\", \"chelsea\", \"chelsea\", \"china\", \"china\", \"china\", \"china\", \"china\", \"china\", \"china\", \"china\", \"china\", \"china\", \"chinas\", \"chinas\", \"chinas\", \"chinas\", \"chinas\", \"chinas\", \"chinas\", \"chines\", \"chines\", \"chines\", \"chines\", \"chines\", \"chines\", \"chines\", \"chines\", \"chines\", \"chines\", \"city\", \"city\", \"city\", \"city\", \"city\", \"city\", \"city\", \"city\", \"city\", \"city\", \"clinton\", \"clinton\", \"clinton\", \"clinton\", \"clinton\", \"clinton\", \"cont\", \"dabei\", \"dabei\", \"dabei\", \"dabei\", \"dabei\", \"dabei\", \"dabei\", \"dabei\", \"dabei\", \"dabei\", \"daiml\", \"daiml\", \"daiml\", \"daiml\", \"daiml\", \"demokrat\", \"demokrat\", \"demokrat\", \"demokrat\", \"demokrat\", \"demokrat\", \"demokrat\", \"demokrat\", \"desktop\", \"deutlich\", \"deutlich\", \"deutlich\", \"deutlich\", \"deutlich\", \"deutlich\", \"deutlich\", \"deutlich\", \"deutlich\", \"deutlich\", \"deutsch\", \"deutsch\", \"deutsch\", \"deutsch\", \"deutsch\", \"deutsch\", \"deutsch\", \"deutsch\", \"deutsch\", \"deutsch\", \"deutschland\", \"deutschland\", \"deutschland\", \"deutschland\", \"deutschland\", \"deutschland\", \"deutschland\", \"deutschland\", \"deutschland\", \"deutschland\", \"dibon\", \"dijsselblo\", \"dilma\", \"dirigent\", \"display\", \"display\", \"display\", \"dissertation\", \"dissertation\", \"dissertation\", \"dissertation\", \"divid\", \"divid\", \"divid\", \"divid\", \"djokovic\", \"djokovic\", \"dmitri\", \"dmitri\", \"dmitri\", \"dmitri\", \"dmitri\", \"dmitri\", \"dollar\", \"dollar\", \"dollar\", \"dollar\", \"dollar\", \"dollar\", \"dollar\", \"dollar\", \"dollar\", \"dollar\", \"dominic\", \"dominic\", \"dominic\", \"dortmund\", \"dortmund\", \"dortmund\", \"dortmund\", \"dortmund\", \"dortmund\", \"dreharbeit\", \"dreharbeit\", \"drei\", \"drei\", \"drei\", \"drei\", \"drei\", \"drei\", \"drei\", \"drei\", \"drei\", \"drei\", \"durchschnitt\", \"durchschnitt\", \"durchschnitt\", \"durchschnitt\", \"durchschnitt\", \"durchschnitt\", \"durchschnitt\", \"dynamo\", \"ebit\", \"ebitda\", \"edomwonyi\", \"eig\", \"eig\", \"eig\", \"eig\", \"eig\", \"eig\", \"eig\", \"eig\", \"eig\", \"eig\", \"eigenkapital\", \"eigenkapital\", \"eigenschaft\", \"eigenschaft\", \"eigenschaft\", \"eigenschaft\", \"eigenschaft\", \"eigenschaft\", \"eigenschaft\", \"eigenschaft\", \"eigentum\", \"eigentum\", \"eigentum\", \"eigentum\", \"eigentum\", \"eigentum\", \"eigentum\", \"eigentum\", \"eigentum\", \"einfach\", \"einfach\", \"einfach\", \"einfach\", \"einfach\", \"einfach\", \"einfach\", \"einfach\", \"einfach\", \"einfach\", \"eingeliefert\", \"eingeliefert\", \"einkomm\", \"einkomm\", \"einkomm\", \"einkomm\", \"einkomm\", \"einkomm\", \"einkomm\", \"einreis\", \"einreis\", \"einreis\", \"einreis\", \"einreis\", \"energi\", \"energi\", \"energi\", \"energi\", \"energi\", \"energi\", \"energi\", \"energi\", \"energi\", \"energi\", \"entscheid\", \"entscheid\", \"entscheid\", \"entscheid\", \"entscheid\", \"entscheid\", \"entscheid\", \"entscheid\", \"entscheid\", \"entscheid\", \"epoch\", \"epoch\", \"epoch\", \"erklart\", \"erklart\", \"erklart\", \"erklart\", \"erklart\", \"erklart\", \"erklart\", \"erklart\", \"erklart\", \"erklart\", \"ermittl\", \"ermittl\", \"ermittl\", \"ermittl\", \"ermittl\", \"ermittl\", \"ermittl\", \"ermittl\", \"ermittl\", \"ermittl\", \"erst\", \"erst\", \"erst\", \"erst\", \"erst\", \"erst\", \"erst\", \"erst\", \"erst\", \"erst\", \"etwa\", \"etwa\", \"etwa\", \"etwa\", \"etwa\", \"etwa\", \"etwa\", \"etwa\", \"etwa\", \"etwa\", \"euro\", \"euro\", \"euro\", \"euro\", \"euro\", \"euro\", \"euro\", \"euro\", \"euro\", \"euro\", \"eurogrupp\", \"eurogrupp\", \"europa\", \"europa\", \"europa\", \"europa\", \"europa\", \"europa\", \"europa\", \"europa\", \"europa\", \"europa\", \"facebook\", \"facebook\", \"facebook\", \"facebook\", \"facebook\", \"facebook\", \"facebook\", \"facebook\", \"facebook\", \"facebook\", \"fahrzeug\", \"fahrzeug\", \"fahrzeug\", \"fahrzeug\", \"fahrzeug\", \"fahrzeug\", \"fahrzeug\", \"fahrzeug\", \"fahrzeug\", \"fall\", \"fall\", \"fall\", \"fall\", \"fall\", \"fall\", \"fall\", \"fall\", \"fall\", \"fall\", \"faymann\", \"faymann\", \"faymann\", \"faymann\", \"faymann\", \"faymann\", \"faymann\", \"faymann\", \"fed\", \"fed\", \"fed\", \"fed\", \"feldkirch\", \"feldkirch\", \"feldkirch\", \"ferrari\", \"ferrari\", \"ferrari\", \"ferrari\", \"festgenomm\", \"festgenomm\", \"festgenomm\", \"festgenomm\", \"festgenomm\", \"festgenomm\", \"festnahm\", \"festnahm\", \"festnahm\", \"festnahm\", \"festnahm\", \"feuerwehrleut\", \"feuerwehrleut\", \"fiction\", \"fiction\", \"fiction\", \"fiction\", \"fiction\", \"filial\", \"filial\", \"filial\", \"filial\", \"filial\", \"filial\", \"filial\", \"filial\", \"film\", \"film\", \"film\", \"film\", \"film\", \"film\", \"film\", \"film\", \"film\", \"finanzminist\", \"finanzminist\", \"finanzminist\", \"finanzminist\", \"finanzminist\", \"finanzminist\", \"finanzminist\", \"finanzminist\", \"finanzminist\", \"fink\", \"fink\", \"fink\", \"fink\", \"firmwar\", \"fluchtling\", \"fluchtling\", \"fluchtling\", \"fluchtling\", \"fluchtling\", \"fluchtling\", \"fluchtling\", \"fluchtling\", \"fluchtling\", \"fluchtling\", \"flughaf\", \"flughaf\", \"flughaf\", \"flughaf\", \"flughaf\", \"flughaf\", \"flughaf\", \"flughaf\", \"flughaf\", \"flughaf\", \"foda\", \"fordert\", \"fordert\", \"fordert\", \"fordert\", \"fordert\", \"fordert\", \"fordert\", \"fordert\", \"fordert\", \"fordert\", \"form\", \"form\", \"form\", \"form\", \"form\", \"form\", \"form\", \"form\", \"form\", \"form\", \"forsch\", \"forsch\", \"forsch\", \"forsch\", \"forsch\", \"forsch\", \"forsch\", \"forsch\", \"forsch\", \"forsch\", \"frag\", \"frag\", \"frag\", \"frag\", \"frag\", \"frag\", \"frag\", \"frag\", \"frag\", \"frag\", \"frau\", \"frau\", \"frau\", \"frau\", \"frau\", \"frau\", \"frau\", \"frau\", \"frau\", \"frau\", \"freiheit\", \"freiheit\", \"freiheit\", \"freiheit\", \"freiheit\", \"freiheit\", \"freiheit\", \"freiheit\", \"freiheit\", \"freiheit\", \"french\", \"fussball\", \"fussball\", \"fussball\", \"fussball\", \"fussball\", \"fussball\", \"fussball\", \"fussball\", \"fussball\", \"fussball\", \"ganz\", \"ganz\", \"ganz\", \"ganz\", \"ganz\", \"ganz\", \"ganz\", \"ganz\", \"ganz\", \"ganz\", \"gazastreif\", \"gazastreif\", \"geb\", \"geb\", \"geb\", \"geb\", \"geb\", \"geb\", \"geb\", \"geb\", \"geb\", \"geb\", \"gefangnis\", \"gefangnis\", \"gefangnis\", \"gefangnis\", \"gefangnis\", \"gefangnis\", \"gefangnis\", \"gefangnis\", \"gehirn\", \"gehirn\", \"gehirn\", \"gehirn\", \"gehirn\", \"gehirn\", \"geht\", \"geht\", \"geht\", \"geht\", \"geht\", \"geht\", \"geht\", \"geht\", \"geht\", \"geht\", \"geldpolit\", \"geldpolit\", \"geldpolit\", \"geldpolit\", \"geldpolit\", \"geldpolit\", \"gemald\", \"gemald\", \"gemeinderat\", \"gemeinderat\", \"gemeinderat\", \"gemeinderat\", \"gemeinderat\", \"gemeinderat\", \"geodynam\", \"gerat\", \"gerat\", \"gerat\", \"gerat\", \"gerat\", \"gerat\", \"gerat\", \"gerat\", \"gerat\", \"gerat\", \"gericht\", \"gericht\", \"gericht\", \"gericht\", \"gericht\", \"gericht\", \"gericht\", \"gericht\", \"gericht\", \"gericht\", \"geringfug\", \"geringfug\", \"geringfug\", \"geringfug\", \"geringfug\", \"geringfug\", \"geringfug\", \"gesang\", \"geschaft\", \"geschaft\", \"geschaft\", \"geschaft\", \"geschaft\", \"geschaft\", \"geschaft\", \"geschaft\", \"geschaft\", \"geschaft\", \"geschaftsjahr\", \"geschaftsjahr\", \"geschicht\", \"geschicht\", \"geschicht\", \"geschicht\", \"geschicht\", \"geschicht\", \"geschicht\", \"geschicht\", \"geschicht\", \"geschicht\", \"gesprach\", \"gesprach\", \"gesprach\", \"gesprach\", \"gesprach\", \"gesprach\", \"gesprach\", \"gesprach\", \"gesprach\", \"gesprach\", \"gestieg\", \"gestieg\", \"gestieg\", \"gestieg\", \"gestieg\", \"gestieg\", \"gestieg\", \"gestieg\", \"gestieg\", \"gestieg\", \"getotet\", \"getotet\", \"getotet\", \"getotet\", \"getotet\", \"getotet\", \"getotet\", \"getotet\", \"getotet\", \"gibt\", \"gibt\", \"gibt\", \"gibt\", \"gibt\", \"gibt\", \"gibt\", \"gibt\", \"gibt\", \"gibt\", \"glawischn\", \"glawischn\", \"glawischn\", \"gmbh\", \"gmbh\", \"gmbh\", \"gmbh\", \"gmbh\", \"gmbh\", \"gmbh\", \"googl\", \"googl\", \"googl\", \"googl\", \"googl\", \"googl\", \"googl\", \"googl\", \"googl\", \"googl\", \"gorgon\", \"grabn\", \"grad\", \"grad\", \"grad\", \"grad\", \"grad\", \"grad\", \"grad\", \"grad\", \"grad\", \"grad\", \"grahovac\", \"grenz\", \"grenz\", \"grenz\", \"grenz\", \"grenz\", \"grenz\", \"grenz\", \"grenz\", \"grenz\", \"grenz\", \"grenzubergang\", \"grenzubergang\", \"grenzubergang\", \"grenzubergang\", \"grenzubergang\", \"grenzubertritt\", \"grenzubertritt\", \"grenzubertritt\", \"grenzubertritt\", \"grenzzaun\", \"grenzzaun\", \"grenzzaun\", \"griech\", \"griech\", \"griech\", \"griech\", \"griech\", \"griech\", \"griech\", \"griech\", \"griechenland\", \"griechenland\", \"griechenland\", \"griechenland\", \"griechenland\", \"griechenland\", \"griechenland\", \"griechenland\", \"griechenland\", \"griechenland\", \"griechisch\", \"griechisch\", \"griechisch\", \"griechisch\", \"griechisch\", \"griechisch\", \"griechisch\", \"griechisch\", \"griechisch\", \"griechisch\", \"griss\", \"griss\", \"griss\", \"griss\", \"grodig\", \"grodig\", \"gross\", \"gross\", \"gross\", \"gross\", \"gross\", \"gross\", \"gross\", \"gross\", \"gross\", \"gross\", \"group\", \"group\", \"group\", \"group\", \"group\", \"group\", \"group\", \"group\", \"grozurek\", \"grun\", \"grun\", \"grun\", \"grun\", \"grun\", \"grun\", \"grun\", \"grun\", \"grun\", \"grun\", \"grund\", \"grund\", \"grund\", \"grund\", \"grund\", \"grund\", \"grund\", \"grund\", \"grund\", \"grund\", \"guardiola\", \"guardiola\", \"guardiola\", \"hadi\", \"haft\", \"haft\", \"haft\", \"haft\", \"haft\", \"haft\", \"haft\", \"haft\", \"haftung\", \"haftung\", \"haftung\", \"haftung\", \"haftung\", \"haimbuchn\", \"hakenkreuz\", \"hamilton\", \"hamilton\", \"hamilton\", \"happel\", \"happel\", \"happel\", \"hatt\", \"hatt\", \"hatt\", \"hatt\", \"hatt\", \"hatt\", \"hatt\", \"hatt\", \"hatt\", \"hatt\", \"haupl\", \"haupl\", \"haupl\", \"haupl\", \"haupl\", \"haushalt\", \"haushalt\", \"haushalt\", \"haushalt\", \"haushalt\", \"haushalt\", \"haushalt\", \"haushalt\", \"haushalt\", \"herstell\", \"herstell\", \"herstell\", \"herstell\", \"herstell\", \"herstell\", \"herstell\", \"herstell\", \"herstell\", \"herstell\", \"heta\", \"heta\", \"heta\", \"heut\", \"heut\", \"heut\", \"heut\", \"heut\", \"heut\", \"heut\", \"heut\", \"heut\", \"heut\", \"hilfspaket\", \"hilfspaket\", \"hilfspaket\", \"hilfspaket\", \"hilfsprogramm\", \"hilfsprogramm\", \"hilfsprogramm\", \"hinspiel\", \"hinspiel\", \"hinspiel\", \"hinspiel\", \"hinspiel\", \"hisbollah\", \"hofmann\", \"hofmann\", \"hofmann\", \"hofmann\", \"hofmann\", \"hoh\", \"hoh\", \"hoh\", \"hoh\", \"hoh\", \"hoh\", \"hoh\", \"hoh\", \"hoh\", \"hoh\", \"holding\", \"holding\", \"holding\", \"holding\", \"holding\", \"holding\", \"hongkong\", \"hongkong\", \"hongkong\", \"hongkong\", \"hongkong\", \"houthi\", \"hypo\", \"hypo\", \"hypo\", \"hypo\", \"hypo\", \"idomeni\", \"idomeni\", \"ikea\", \"ikea\", \"ikea\", \"ikea\", \"ikea\", \"ikea\", \"ikea\", \"imm\", \"imm\", \"imm\", \"imm\", \"imm\", \"imm\", \"imm\", \"imm\", \"imm\", \"imm\", \"indi\", \"indi\", \"indi\", \"indi\", \"indi\", \"indi\", \"indi\", \"indi\", \"indi\", \"inflation\", \"inflation\", \"inflation\", \"inflation\", \"inflation\", \"insolvenz\", \"insolvenz\", \"insolvenz\", \"insolvenz\", \"insolvenz\", \"insolvenz\", \"insolvenz\", \"ipad\", \"ipad\", \"ipad\", \"iphon\", \"iphon\", \"iphon\", \"iphon\", \"iphon\", \"iphon\", \"iphon\", \"iphon\", \"iran\", \"iran\", \"iran\", \"iran\", \"iran\", \"iran\", \"iran\", \"iran\", \"iran\", \"iran\", \"irmgard\", \"islam\", \"islam\", \"islam\", \"islam\", \"islam\", \"islam\", \"islam\", \"islam\", \"islam\", \"islam\", \"israel\", \"israel\", \"israel\", \"israel\", \"israel\", \"israel\", \"israel\", \"israel\", \"israel\", \"israel\", \"israelis\", \"jahr\", \"jahr\", \"jahr\", \"jahr\", \"jahr\", \"jahr\", \"jahr\", \"jahr\", \"jahr\", \"jahr\", \"jahresumsatz\", \"jahresvergleich\", \"jahresvergleich\", \"jahresvergleich\", \"jahrig\", \"jahrig\", \"jahrig\", \"jahrig\", \"jahrig\", \"jahrig\", \"jahrig\", \"jahrig\", \"jahrig\", \"jahrig\", \"jakarta\", \"jakarta\", \"japan\", \"japan\", \"japan\", \"japan\", \"japan\", \"japan\", \"japan\", \"japan\", \"japan\", \"japan\", \"jelic\", \"jemenit\", \"jero\", \"jerusal\", \"jerusal\", \"jerusal\", \"jinping\", \"jinping\", \"jinping\", \"jobsuch\", \"jobsuch\", \"judisch\", \"judisch\", \"judisch\", \"judisch\", \"judisch\", \"jugend\", \"jugend\", \"jugend\", \"jugend\", \"jugend\", \"jugend\", \"jugend\", \"jugend\", \"jugend\", \"jugend\", \"junck\", \"junck\", \"junck\", \"juraczka\", \"justizanstalt\", \"juventus\", \"juventus\", \"kainz\", \"kampf\", \"kampf\", \"kampf\", \"kampf\", \"kampf\", \"kampf\", \"kampf\", \"kampf\", \"kampf\", \"kampf\", \"kandidat\", \"kandidat\", \"kandidat\", \"kandidat\", \"kandidat\", \"kandidat\", \"kandidat\", \"kandidat\", \"kandidat\", \"kandidat\", \"kandidatur\", \"kandidatur\", \"kandidatur\", \"kandidi\", \"kandidi\", \"kapitalerhoh\", \"kapitalerhoh\", \"kayod\", \"keita\", \"keita\", \"keita\", \"khol\", \"khol\", \"khol\", \"kiew\", \"kiew\", \"kiew\", \"kiew\", \"kiew\", \"kiew\", \"kiew\", \"kind\", \"kind\", \"kind\", \"kind\", \"kind\", \"kind\", \"kind\", \"kind\", \"kind\", \"kind\", \"klavi\", \"klavi\", \"klein\", \"klein\", \"klein\", \"klein\", \"klein\", \"klein\", \"klein\", \"klein\", \"klein\", \"klein\", \"klubchef\", \"klubchef\", \"klubchef\", \"koalition\", \"koalition\", \"koalition\", \"koalition\", \"koalition\", \"koalition\", \"koalition\", \"kommission\", \"kommission\", \"kommission\", \"kommission\", \"kommission\", \"kommission\", \"kommission\", \"kommission\", \"kommission\", \"kommission\", \"kompliz\", \"komponist\", \"komponist\", \"komponist\", \"komponist\", \"konjunktur\", \"konjunktur\", \"konjunktur\", \"konjunktur\", \"konjunktur\", \"konjunktur\", \"konjunktur\", \"konkur\", \"konkur\", \"konkur\", \"konnt\", \"konnt\", \"konnt\", \"konnt\", \"konnt\", \"konnt\", \"konnt\", \"konnt\", \"konnt\", \"konnt\", \"konsortium\", \"konsortium\", \"konsortium\", \"konz\", \"konz\", \"konz\", \"konz\", \"konz\", \"konz\", \"konz\", \"konz\", \"konz\", \"konz\", \"kosovar\", \"kosovo\", \"kosovo\", \"krankenhaus\", \"krankenhaus\", \"krankenhaus\", \"krankenhaus\", \"krankenhaus\", \"krankenhaus\", \"krankenhaus\", \"krankenhaus\", \"krankenhaus\", \"krankenhaus\", \"krim\", \"krim\", \"krim\", \"kriminalist\", \"kroati\", \"kroati\", \"kroati\", \"kroati\", \"kroati\", \"kroati\", \"kroati\", \"kroati\", \"kroati\", \"kroatisch\", \"kroatisch\", \"kroatisch\", \"kroatisch\", \"kroatisch\", \"kroatisch\", \"kroatisch\", \"kroatisch\", \"kund\", \"kund\", \"kund\", \"kund\", \"kund\", \"kund\", \"kund\", \"kund\", \"kund\", \"kund\", \"kunst\", \"kunst\", \"kunst\", \"kunst\", \"kunst\", \"kunst\", \"kunst\", \"kunst\", \"kunstl\", \"kunstl\", \"kunstl\", \"kunstl\", \"kunstl\", \"kunstl\", \"kunstl\", \"kunstlerin\", \"kunstwerk\", \"kunstwerk\", \"kunstwerk\", \"kunstwerk\", \"kunstwerk\", \"labour\", \"land\", \"land\", \"land\", \"land\", \"land\", \"land\", \"land\", \"land\", \"land\", \"land\", \"landeshauptmann\", \"landeshauptmann\", \"landeshauptmann\", \"landeshauptmann\", \"landeshauptmann\", \"landeshauptmann\", \"landeshauptmann\", \"landtagswahl\", \"lang\", \"lang\", \"lang\", \"lang\", \"lang\", \"lang\", \"lang\", \"lang\", \"lang\", \"lang\", \"lask\", \"lask\", \"laut\", \"laut\", \"laut\", \"laut\", \"laut\", \"laut\", \"laut\", \"laut\", \"laut\", \"laut\", \"leaf\", \"leagu\", \"leagu\", \"leagu\", \"leagu\", \"leagu\", \"leagu\", \"leagu\", \"leagu\", \"leb\", \"leb\", \"leb\", \"leb\", \"leb\", \"leb\", \"leb\", \"leb\", \"leb\", \"leb\", \"lebensgefahr\", \"lebensgefahr\", \"lebensgefahr\", \"leic\", \"leic\", \"leich\", \"leich\", \"leich\", \"leich\", \"leich\", \"leich\", \"leich\", \"leich\", \"lektur\", \"leverkus\", \"leverkus\", \"leverkus\", \"leverkus\", \"liegenschaft\", \"liegenschaft\", \"liegt\", \"liegt\", \"liegt\", \"liegt\", \"liegt\", \"liegt\", \"liegt\", \"liegt\", \"liegt\", \"liegt\", \"linux\", \"linux\", \"linux\", \"literar\", \"literatur\", \"literatur\", \"literatur\", \"liverpool\", \"liverpool\", \"lobbyist\", \"lobbyist\", \"lohn\", \"lohn\", \"lohn\", \"lohn\", \"lohn\", \"lohn\", \"lohn\", \"lohn\", \"lohn\", \"lohn\", \"lohnnebenkost\", \"lohnnebenkost\", \"lopatka\", \"lopatka\", \"lopatka\", \"lopatka\", \"luftangriff\", \"luftangriff\", \"luftangriff\", \"luftangriff\", \"lufthansa\", \"lufthansa\", \"lufthansa\", \"lufthansa\", \"lufthansa\", \"lufthansa\", \"lumia\", \"macht\", \"macht\", \"macht\", \"macht\", \"macht\", \"macht\", \"macht\", \"macht\", \"macht\", \"macht\", \"madch\", \"madch\", \"madch\", \"madch\", \"madch\", \"madch\", \"madch\", \"madch\", \"madrid\", \"madrid\", \"madrid\", \"madrid\", \"madrid\", \"madrid\", \"madrid\", \"madrid\", \"madrid\", \"madrid\", \"manch\", \"manch\", \"manch\", \"manch\", \"manch\", \"manch\", \"manch\", \"manch\", \"manch\", \"mandant\", \"mandant\", \"mandant\", \"mandant\", \"mandant\", \"mandat\", \"mandat\", \"mandat\", \"mandat\", \"mandat\", \"mandat\", \"mann\", \"mann\", \"mann\", \"mann\", \"mann\", \"mann\", \"mann\", \"mann\", \"mann\", \"mann\", \"mannch\", \"mannch\", \"mannch\", \"mannch\", \"mannch\", \"mannch\", \"mannch\", \"mannschaft\", \"mannschaft\", \"mannschaft\", \"mannschaft\", \"mannschaft\", \"mannschaft\", \"mannschaft\", \"mapl\", \"mapl\", \"mark\", \"mark\", \"mark\", \"mark\", \"mark\", \"mark\", \"mark\", \"mark\", \"mark\", \"mark\", \"market\", \"market\", \"market\", \"market\", \"markt\", \"markt\", \"markt\", \"markt\", \"markt\", \"markt\", \"markt\", \"markt\", \"markt\", \"markt\", \"mathemat\", \"mathemat\", \"mathemat\", \"mathemat\", \"mathemat\", \"mathemat\", \"mathemat\", \"mathemat\", \"mattersburg\", \"mattersburg\", \"mattersburg\", \"mattersburg\", \"mattersburg\", \"mattersburg\", \"maur\", \"maur\", \"maur\", \"mazedon\", \"mazedon\", \"mazedon\", \"mazedoni\", \"mazedoni\", \"mazedoni\", \"mazedoni\", \"mazedoni\", \"mazedoni\", \"megapixel\", \"mehrheit\", \"mehrheit\", \"mehrheit\", \"mehrheit\", \"mehrheit\", \"mehrheit\", \"mehrheit\", \"mehrheit\", \"mehrheit\", \"mehrheit\", \"melz\", \"melz\", \"melz\", \"melz\", \"mensch\", \"mensch\", \"mensch\", \"mensch\", \"mensch\", \"mensch\", \"mensch\", \"mensch\", \"mensch\", \"mensch\", \"messeng\", \"met\", \"met\", \"met\", \"met\", \"met\", \"met\", \"met\", \"met\", \"met\", \"met\", \"meteorologi\", \"microsoft\", \"microsoft\", \"microsoft\", \"microsoft\", \"microsoft\", \"microsoft\", \"microsoft\", \"migrant\", \"migrant\", \"migrant\", \"migrant\", \"migrant\", \"migrant\", \"migrant\", \"migrant\", \"migrant\", \"milliard\", \"milliard\", \"milliard\", \"milliard\", \"milliard\", \"milliard\", \"milliard\", \"milliard\", \"milliard\", \"milliard\", \"million\", \"million\", \"million\", \"million\", \"million\", \"million\", \"million\", \"million\", \"million\", \"million\", \"mindestlohn\", \"mindestlohn\", \"minus\", \"minus\", \"minus\", \"minus\", \"minus\", \"minus\", \"minus\", \"minus\", \"minus\", \"minut\", \"minut\", \"minut\", \"minut\", \"minut\", \"minut\", \"minut\", \"minut\", \"minut\", \"minut\", \"mitarbeit\", \"mitarbeit\", \"mitarbeit\", \"mitarbeit\", \"mitarbeit\", \"mitarbeit\", \"mitarbeit\", \"mitarbeit\", \"mitarbeit\", \"mitarbeit\", \"mittelschicht\", \"mittelschicht\", \"mitterlehn\", \"mitterlehn\", \"mitterlehn\", \"mitterlehn\", \"mitterlehn\", \"mitterlehn\", \"mitterlehn\", \"mitterlehn\", \"mobil\", \"mobil\", \"mobil\", \"mobil\", \"mobil\", \"mobil\", \"mobil\", \"mobil\", \"mobil\", \"mobil\", \"moglich\", \"moglich\", \"moglich\", \"moglich\", \"moglich\", \"moglich\", \"moglich\", \"moglich\", \"moglich\", \"moglich\", \"molenbeek\", \"molenbeek\", \"mord\", \"mord\", \"mord\", \"mord\", \"mord\", \"mord\", \"mord\", \"moskau\", \"moskau\", \"moskau\", \"moskau\", \"moskau\", \"moskau\", \"moskau\", \"moskau\", \"moskau\", \"moskau\", \"moskaus\", \"moskaus\", \"moskaus\", \"motor\", \"motor\", \"motor\", \"motor\", \"motor\", \"motor\", \"motor\", \"motor\", \"motor\", \"motor\", \"mozart\", \"munch\", \"munch\", \"munch\", \"munch\", \"munch\", \"munch\", \"munch\", \"munch\", \"munch\", \"munch\", \"murray\", \"murray\", \"murray\", \"museum\", \"museum\", \"museum\", \"museum\", \"museum\", \"museum\", \"museum\", \"museum\", \"musik\", \"musik\", \"musik\", \"musik\", \"musik\", \"musik\", \"musik\", \"musik\", \"musik\", \"musikal\", \"musikal\", \"musikal\", \"musikal\", \"muss\", \"muss\", \"muss\", \"muss\", \"muss\", \"muss\", \"muss\", \"muss\", \"muss\", \"muss\", \"mutmass\", \"mutmass\", \"mutmass\", \"mutmass\", \"mutmass\", \"mutmass\", \"mutmass\", \"mutmass\", \"mutmass\", \"nadal\", \"nationalrat\", \"nationalrat\", \"nationalrat\", \"nationalrat\", \"nationalrat\", \"nationalrat\", \"natur\", \"natur\", \"natur\", \"natur\", \"natur\", \"natur\", \"natur\", \"natur\", \"natur\", \"natur\", \"neos\", \"neos\", \"neos\", \"neos\", \"neos\", \"netanjahu\", \"neu\", \"neu\", \"neu\", \"neu\", \"neu\", \"neu\", \"neu\", \"neu\", \"neu\", \"neu\", \"nexus\", \"nexus\", \"neymar\", \"nickelsdorf\", \"nickelsdorf\", \"nickelsdorf\", \"nickelsdorf\", \"nico\", \"nico\", \"niedrig\", \"niedrig\", \"niedrig\", \"niedrig\", \"niedrig\", \"niedrig\", \"niedrig\", \"niedrig\", \"niedrig\", \"niedrig\", \"niessl\", \"niessl\", \"niessl\", \"notenbank\", \"notenbank\", \"notenbank\", \"notenbank\", \"notenbank\", \"notenbank\", \"notenbank\", \"novota\", \"nusra\", \"nutz\", \"nutz\", \"nutz\", \"nutz\", \"nutz\", \"nutz\", \"nutz\", \"nutz\", \"nutz\", \"nutz\", \"obama\", \"obama\", \"obama\", \"obama\", \"obama\", \"obama\", \"obama\", \"obama\", \"obamas\", \"obduktion\", \"oecd\", \"oecd\", \"oecd\", \"oecd\", \"oecd\", \"offshor\", \"offshor\", \"offshor\", \"okonom\", \"okonom\", \"okonom\", \"okonom\", \"okonom\", \"okonom\", \"okonom\", \"okonom\", \"okonom\", \"okonom\", \"olpreis\", \"olpreis\", \"olpreis\", \"olpreis\", \"olpreis\", \"open\", \"open\", \"open\", \"open\", \"open\", \"open\", \"open\", \"open\", \"operativ\", \"operativ\", \"operativ\", \"operativ\", \"operativ\", \"operativ\", \"operativ\", \"opf\", \"opf\", \"opf\", \"opf\", \"opf\", \"opf\", \"opf\", \"opf\", \"opf\", \"opf\", \"osterreich\", \"osterreich\", \"osterreich\", \"osterreich\", \"osterreich\", \"osterreich\", \"osterreich\", \"osterreich\", \"osterreich\", \"osterreich\", \"osz\", \"palastinens\", \"palastinens\", \"panama\", \"panama\", \"panama\", \"panama\", \"panama\", \"panama\", \"panama\", \"panama\", \"panama\", \"parlament\", \"parlament\", \"parlament\", \"parlament\", \"parlament\", \"parlament\", \"parlament\", \"parlament\", \"parlament\", \"parlament\", \"partei\", \"partei\", \"partei\", \"partei\", \"partei\", \"partei\", \"partei\", \"partei\", \"partei\", \"partei\", \"parteichef\", \"parteichef\", \"parteichef\", \"parteichef\", \"parteichef\", \"parteichef\", \"parteitag\", \"parteitag\", \"parti\", \"parti\", \"parti\", \"parti\", \"parti\", \"parti\", \"parti\", \"pavelic\", \"peking\", \"peking\", \"peking\", \"peking\", \"peking\", \"peking\", \"peking\", \"peskow\", \"peskow\", \"petsos\", \"pfeifenberg\", \"pfeiff\", \"pfeiff\", \"pfeiff\", \"pfeiff\", \"pfeiff\", \"philosoph\", \"philosoph\", \"philosoph\", \"philosoph\", \"philosoph\", \"phon\", \"physik\", \"physik\", \"physik\", \"physik\", \"physik\", \"physik\", \"physik\", \"physik\", \"pjongjang\", \"platz\", \"platz\", \"platz\", \"platz\", \"platz\", \"platz\", \"platz\", \"platz\", \"platz\", \"platz\", \"plus\", \"plus\", \"plus\", \"plus\", \"plus\", \"plus\", \"plus\", \"plus\", \"plus\", \"plus\", \"podemos\", \"polit\", \"polit\", \"polit\", \"polit\", \"polit\", \"polit\", \"polit\", \"polit\", \"polit\", \"polit\", \"polizei\", \"polizei\", \"polizei\", \"polizei\", \"polizei\", \"polizei\", \"polizei\", \"polizei\", \"polizei\", \"polizei\", \"polizist\", \"polizist\", \"polizist\", \"polizist\", \"polizist\", \"polizist\", \"polizist\", \"polizist\", \"porsch\", \"porsch\", \"porsch\", \"porsch\", \"porsch\", \"porsch\", \"porsch\", \"prasident\", \"prasident\", \"prasident\", \"prasident\", \"prasident\", \"prasident\", \"prasident\", \"prasident\", \"prasident\", \"prasident\", \"praterst\", \"produktivitat\", \"produktivitat\", \"produktivitat\", \"produktivitat\", \"prosen\", \"provision\", \"provision\", \"prozent\", \"prozent\", \"prozent\", \"prozent\", \"prozent\", \"prozent\", \"prozent\", \"prozent\", \"prozent\", \"prozent\", \"prozentpunkt\", \"prozentpunkt\", \"prozentpunkt\", \"prozentpunkt\", \"prozentpunkt\", \"prozessor\", \"prozessor\", \"prozessor\", \"psychiatr\", \"psychiatr\", \"psychiatr\", \"puhring\", \"punkt\", \"punkt\", \"punkt\", \"punkt\", \"punkt\", \"punkt\", \"punkt\", \"punkt\", \"punkt\", \"punkt\", \"radkersburg\", \"radkersburg\", \"rapid\", \"rapid\", \"rapid\", \"rapid\", \"rapid\", \"rapid\", \"rapid\", \"rapid\", \"rapid\", \"razzi\", \"real\", \"real\", \"real\", \"real\", \"real\", \"real\", \"real\", \"real\", \"real\", \"real\", \"rebell\", \"rebell\", \"rebell\", \"rebell\", \"rebell\", \"rebell\", \"rebell\", \"recht\", \"recht\", \"recht\", \"recht\", \"recht\", \"recht\", \"recht\", \"recht\", \"recht\", \"recht\", \"rechtlich\", \"rechtlich\", \"rechtlich\", \"rechtlich\", \"rechtlich\", \"rechtlich\", \"rechtlich\", \"rechtlich\", \"rechtlich\", \"rechtlich\", \"regier\", \"regier\", \"regier\", \"regier\", \"regier\", \"regier\", \"regier\", \"regier\", \"regier\", \"regier\", \"renault\", \"renault\", \"renault\", \"renault\", \"republikan\", \"republikan\", \"republikan\", \"republikan\", \"republikan\", \"republikan\", \"ried\", \"ried\", \"ried\", \"ried\", \"ried\", \"ronaldo\", \"ronaldo\", \"rousseff\", \"ruckgang\", \"ruckgang\", \"ruckgang\", \"ruckgang\", \"ruckgang\", \"ruckgang\", \"ruckgang\", \"ruckgang\", \"ruckgang\", \"ruckgang\", \"ruckstell\", \"rund\", \"rund\", \"rund\", \"rund\", \"rund\", \"rund\", \"rund\", \"rund\", \"rund\", \"rund\", \"russisch\", \"russisch\", \"russisch\", \"russisch\", \"russisch\", \"russisch\", \"russisch\", \"russisch\", \"russisch\", \"russisch\", \"russland\", \"russland\", \"russland\", \"russland\", \"russland\", \"russland\", \"russland\", \"russland\", \"russland\", \"russland\", \"sagt\", \"sagt\", \"sagt\", \"sagt\", \"sagt\", \"sagt\", \"sagt\", \"sagt\", \"sagt\", \"sagt\", \"saison\", \"saison\", \"saison\", \"saison\", \"saison\", \"saison\", \"saison\", \"saison\", \"saison\", \"salzburg\", \"salzburg\", \"salzburg\", \"salzburg\", \"salzburg\", \"salzburg\", \"salzburg\", \"salzburg\", \"salzburg\", \"salzburg\", \"sammelstell\", \"sammelstell\", \"sammelstell\", \"sammelstell\", \"sammelstell\", \"samstag\", \"samstag\", \"samstag\", \"samstag\", \"samstag\", \"samstag\", \"samstag\", \"samstag\", \"samstag\", \"samstag\", \"samsung\", \"samsung\", \"samsung\", \"samsung\", \"samsung\", \"samsung\", \"samsung\", \"sanaa\", \"sanier\", \"sanier\", \"sanier\", \"sanier\", \"sanier\", \"sanier\", \"satellit\", \"satellit\", \"satellit\", \"satellit\", \"satellit\", \"satellit\", \"satellit\", \"satz\", \"satz\", \"satz\", \"satz\", \"satz\", \"satz\", \"satz\", \"satz\", \"satz\", \"schalk\", \"schalk\", \"schalk\", \"schaub\", \"schaubl\", \"schaubl\", \"schaubl\", \"schnitt\", \"schnitt\", \"schnitt\", \"schnitt\", \"schnitt\", \"schnitt\", \"schnitt\", \"schnitt\", \"schnitt\", \"schnitt\", \"schobesberg\", \"schobesberg\", \"schoffensenat\", \"schoffensenat\", \"schon\", \"schon\", \"schon\", \"schon\", \"schon\", \"schon\", \"schon\", \"schon\", \"schon\", \"schon\", \"schottel\", \"schrumpf\", \"schrumpf\", \"schrumpf\", \"schuldspruch\", \"schwer\", \"schwer\", \"schwer\", \"schwer\", \"schwer\", \"schwer\", \"schwer\", \"schwer\", \"schwer\", \"schwer\", \"sehnsucht\", \"sehnsucht\", \"seien\", \"seien\", \"seien\", \"seien\", \"seien\", \"seien\", \"seien\", \"seien\", \"seien\", \"seien\", \"seit\", \"seit\", \"seit\", \"seit\", \"seit\", \"seit\", \"seit\", \"seit\", \"seit\", \"seit\", \"serbi\", \"serbi\", \"serbi\", \"serbi\", \"serbi\", \"serbi\", \"serbi\", \"serbi\", \"serbisch\", \"serbisch\", \"serbisch\", \"serbisch\", \"serbisch\", \"serbisch\", \"sevilla\", \"sevilla\", \"sevilla\", \"sexuell\", \"sexuell\", \"sexuell\", \"sexuell\", \"sexuell\", \"sexuell\", \"sexuell\", \"shanghai\", \"shanghai\", \"shanghai\", \"shark\", \"sieg\", \"sieg\", \"sieg\", \"sieg\", \"sieg\", \"sieg\", \"sieg\", \"sieg\", \"sieg\", \"sieg\", \"silvesternacht\", \"silvesternacht\", \"silvesternacht\", \"silvesternacht\", \"slalom\", \"slalom\", \"slam\", \"slowen\", \"slowen\", \"slowen\", \"slowen\", \"slowen\", \"sloweni\", \"sloweni\", \"sloweni\", \"sloweni\", \"sloweni\", \"sloweni\", \"sloweni\", \"sloweni\", \"sloweni\", \"sloweni\", \"smartphon\", \"smartphon\", \"smartphon\", \"smartphon\", \"smartphon\", \"smartphon\", \"smartphon\", \"smartphon\", \"smartphon\", \"smartphon\", \"snapdragon\", \"softwar\", \"softwar\", \"softwar\", \"softwar\", \"softwar\", \"softwar\", \"softwar\", \"softwar\", \"softwar\", \"softwar\", \"soll\", \"soll\", \"soll\", \"soll\", \"soll\", \"soll\", \"soll\", \"soll\", \"soll\", \"soll\", \"sonderzug\", \"sonderzug\", \"sonderzug\", \"song\", \"song\", \"song\", \"song\", \"song\", \"sonn\", \"sonn\", \"sonn\", \"sonn\", \"sonn\", \"sonn\", \"sonn\", \"sonn\", \"sonn\", \"sonn\", \"sonntag\", \"sonntag\", \"sonntag\", \"sonntag\", \"sonntag\", \"sonntag\", \"sonntag\", \"sonntag\", \"sonntag\", \"sonntag\", \"sony\", \"sony\", \"sony\", \"soriano\", \"soriano\", \"soriano\", \"sowi\", \"sowi\", \"sowi\", \"sowi\", \"sowi\", \"sowi\", \"sowi\", \"sowi\", \"sowi\", \"sowi\", \"spiel\", \"spiel\", \"spiel\", \"spiel\", \"spiel\", \"spiel\", \"spiel\", \"spiel\", \"spiel\", \"spiel\", \"spielfeld\", \"spielfeld\", \"spielfeld\", \"spielfeld\", \"spielfeld\", \"spielfeld\", \"spielfeld\", \"spielfeld\", \"spotify\", \"sprachkurs\", \"sprachkurs\", \"sprachkurs\", \"staat\", \"staat\", \"staat\", \"staat\", \"staat\", \"staat\", \"staat\", \"staat\", \"staat\", \"staat\", \"staatsanwalt\", \"staatsanwalt\", \"staatsanwalt\", \"staatsanwalt\", \"staatsanwalt\", \"staatsanwalt\", \"staatsanwaltin\", \"staatsanwaltin\", \"stadion\", \"stadion\", \"stadion\", \"stadion\", \"stadion\", \"stadion\", \"stadion\", \"stadt\", \"stadt\", \"stadt\", \"stadt\", \"stadt\", \"stadt\", \"stadt\", \"stadt\", \"stadt\", \"stadt\", \"stadtrat\", \"standard\", \"standard\", \"standard\", \"standard\", \"standard\", \"standard\", \"standard\", \"standard\", \"standard\", \"standard\", \"standort\", \"standort\", \"standort\", \"standort\", \"standort\", \"standort\", \"standort\", \"standort\", \"standort\", \"standort\", \"stangl\", \"stark\", \"stark\", \"stark\", \"stark\", \"stark\", \"stark\", \"stark\", \"stark\", \"stark\", \"stark\", \"statist\", \"statist\", \"statist\", \"statist\", \"statist\", \"statist\", \"statist\", \"statist\", \"statist\", \"statist\", \"steht\", \"steht\", \"steht\", \"steht\", \"steht\", \"steht\", \"steht\", \"steht\", \"steht\", \"steht\", \"stenzel\", \"steueroas\", \"steueroas\", \"steueroas\", \"steuerreform\", \"steuerreform\", \"steuerreform\", \"steuerreform\", \"steuerreform\", \"steuerreform\", \"stichwahl\", \"stichwahl\", \"stichwahl\", \"stimm\", \"stimm\", \"stimm\", \"stimm\", \"stimm\", \"stimm\", \"stimm\", \"stimm\", \"stimm\", \"stimm\", \"stok\", \"strach\", \"strach\", \"strach\", \"strach\", \"strach\", \"strach\", \"strach\", \"strebing\", \"strolz\", \"stronach\", \"stronach\", \"stronach\", \"stronach\", \"studi\", \"studi\", \"studi\", \"studi\", \"studi\", \"studi\", \"studi\", \"studi\", \"studi\", \"studi\", \"sturm\", \"sturm\", \"sturm\", \"sturm\", \"sturm\", \"sturm\", \"sturm\", \"sturm\", \"sturm\", \"sturm\", \"suarez\", \"suarez\", \"syri\", \"syri\", \"syri\", \"syri\", \"syri\", \"syri\", \"syri\", \"syri\", \"syri\", \"syri\", \"syrisch\", \"syrisch\", \"syrisch\", \"syrisch\", \"syrisch\", \"syrisch\", \"syriza\", \"syriza\", \"tablet\", \"tablet\", \"tablet\", \"tablet\", \"tablet\", \"tablet\", \"tablet\", \"taiwan\", \"taiwan\", \"taliban\", \"taliban\", \"taliban\", \"tampa\", \"tat\", \"tat\", \"tat\", \"tat\", \"tat\", \"tat\", \"tat\", \"tat\", \"tat\", \"tat\", \"tatort\", \"tatort\", \"tatort\", \"tatort\", \"tatort\", \"tatort\", \"tatverdacht\", \"tatverdacht\", \"team\", \"team\", \"team\", \"team\", \"team\", \"team\", \"team\", \"team\", \"team\", \"team\", \"teilzeit\", \"teilzeit\", \"teilzeit\", \"telekom\", \"telekom\", \"telekom\", \"telekom\", \"telekom\", \"tempelberg\", \"temperatur\", \"temperatur\", \"temperatur\", \"temperatur\", \"temperatur\", \"temperatur\", \"temperatur\", \"temperatur\", \"temperatur\", \"temperatur\", \"tennis\", \"tennis\", \"tesla\", \"tesla\", \"tesla\", \"tesla\", \"tesla\", \"tesla\", \"tesla\", \"tesla\", \"teuer\", \"teuer\", \"thiem\", \"thiem\", \"tiebreak\", \"tier\", \"tier\", \"tier\", \"tier\", \"tier\", \"tier\", \"tier\", \"tier\", \"tier\", \"tokio\", \"tokio\", \"tokio\", \"tokio\", \"tokio\", \"tokio\", \"tokio\", \"tomi\", \"topgesetzt\", \"tor\", \"tor\", \"tor\", \"tor\", \"tor\", \"tor\", \"tor\", \"tor\", \"tor\", \"toronto\", \"toronto\", \"tot\", \"tot\", \"tot\", \"tot\", \"tot\", \"tot\", \"tot\", \"tot\", \"tot\", \"tot\", \"tottenham\", \"toyota\", \"toyota\", \"toyota\", \"train\", \"train\", \"train\", \"train\", \"train\", \"train\", \"train\", \"train\", \"train\", \"train\", \"transaktion\", \"transaktion\", \"transitland\", \"treff\", \"treff\", \"treff\", \"treff\", \"treff\", \"treff\", \"treff\", \"treff\", \"treff\", \"treff\", \"tribunal\", \"tribunal\", \"tribunal\", \"trump\", \"trump\", \"trump\", \"trump\", \"trump\", \"trump\", \"tsipras\", \"tsipras\", \"tsipras\", \"tsipras\", \"tsipras\", \"ttip\", \"ttip\", \"ttip\", \"ttip\", \"ttip\", \"ttip\", \"ttip\", \"ttip\", \"turkei\", \"turkei\", \"turkei\", \"turkei\", \"turkei\", \"turkei\", \"turkei\", \"turkei\", \"turkei\", \"turkei\", \"turkisch\", \"turkisch\", \"turkisch\", \"turkisch\", \"turkisch\", \"turkisch\", \"turkisch\", \"turkisch\", \"turkisch\", \"turkisch\", \"uberfahrt\", \"uberfahrt\", \"uberfahrt\", \"ubergriff\", \"ubergriff\", \"ubergriff\", \"ubergriff\", \"ubergriff\", \"ubergriff\", \"ubergriff\", \"uberstellt\", \"uberstund\", \"uberstund\", \"uberstund\", \"uberstund\", \"uberstund\", \"ukrain\", \"ukrain\", \"ukrain\", \"ukrain\", \"ukrain\", \"ukrain\", \"ukrain\", \"ukrain\", \"ukrain\", \"ukrain\", \"umsatz\", \"umsatz\", \"umsatz\", \"umsatz\", \"umsatz\", \"umsatz\", \"umsatz\", \"umsatz\", \"umweltbehord\", \"umweltbehord\", \"umweltbehord\", \"umweltbehord\", \"unfall\", \"unfall\", \"unfall\", \"unfall\", \"unfall\", \"unfall\", \"unfall\", \"unfall\", \"unfall\", \"ungar\", \"ungar\", \"ungar\", \"ungar\", \"ungar\", \"ungar\", \"ungar\", \"ungar\", \"ungar\", \"ungarn\", \"ungarn\", \"ungarn\", \"ungarn\", \"ungarn\", \"ungarn\", \"ungarn\", \"ungarn\", \"ungarn\", \"ungarn\", \"unicredit\", \"united\", \"united\", \"united\", \"united\", \"united\", \"united\", \"universitat\", \"universitat\", \"universitat\", \"universitat\", \"universitat\", \"universitat\", \"universitat\", \"universitat\", \"universitat\", \"universitat\", \"university\", \"university\", \"university\", \"university\", \"university\", \"university\", \"university\", \"university\", \"university\", \"unternehm\", \"unternehm\", \"unternehm\", \"unternehm\", \"unternehm\", \"unternehm\", \"unternehm\", \"unternehm\", \"unternehm\", \"unternehm\", \"updat\", \"updat\", \"updat\", \"updat\", \"updat\", \"updat\", \"urauffuhr\", \"urauffuhr\", \"user\", \"user\", \"user\", \"user\", \"user\", \"user\", \"user\", \"user\", \"varoufakis\", \"varoufakis\", \"varoufakis\", \"vassilakou\", \"vassilakou\", \"vassilakou\", \"vastic\", \"vastic\", \"venuto\", \"verdacht\", \"verdacht\", \"verdacht\", \"verdacht\", \"verdacht\", \"verdacht\", \"verdacht\", \"verdacht\", \"verdacht\", \"verdacht\", \"verfug\", \"verfug\", \"verfug\", \"verfug\", \"verfug\", \"verfug\", \"verfug\", \"verfug\", \"verfug\", \"verfug\", \"vergang\", \"vergang\", \"vergang\", \"vergang\", \"vergang\", \"vergang\", \"vergang\", \"vergang\", \"vergang\", \"vergang\", \"vergewalt\", \"vergewalt\", \"vergewalt\", \"vergewalt\", \"vergewaltigt\", \"vergewaltigt\", \"vergewaltigt\", \"vergewaltigt\", \"verkauf\", \"verkauf\", \"verkauf\", \"verkauf\", \"verkauf\", \"verkauf\", \"verkauf\", \"verkauf\", \"verkauf\", \"verkauf\", \"verletzt\", \"verletzt\", \"verletzt\", \"verletzt\", \"verletzt\", \"verletzt\", \"verletzt\", \"verletzt\", \"verletzt\", \"verletzt\", \"versicher\", \"versicher\", \"versicher\", \"versicher\", \"versicher\", \"versicher\", \"versicher\", \"version\", \"version\", \"version\", \"version\", \"version\", \"version\", \"version\", \"version\", \"version\", \"verurteilt\", \"verurteilt\", \"verurteilt\", \"verurteilt\", \"verurteilt\", \"verurteilt\", \"verurteilt\", \"verurteilt\", \"verurteilt\", \"vettel\", \"vidal\", \"viel\", \"viel\", \"viel\", \"viel\", \"viel\", \"viel\", \"viel\", \"viel\", \"viel\", \"viel\", \"vier\", \"vier\", \"vier\", \"vier\", \"vier\", \"vier\", \"vier\", \"vier\", \"vier\", \"vier\", \"volkspartei\", \"volksrepubl\", \"volksrepubl\", \"volksrepubl\", \"volksrepubl\", \"volkswag\", \"volkswag\", \"volkswag\", \"volkswag\", \"volkswag\", \"volkswag\", \"volkswag\", \"volkswag\", \"volltext\", \"volltext\", \"volltext\", \"volltext\", \"vollzug\", \"vollzug\", \"vollzug\", \"vorfall\", \"vorfall\", \"vorfall\", \"vorfall\", \"vorfall\", \"vorfall\", \"vorfall\", \"vorfall\", \"vorfall\", \"vorfall\", \"vorjahr\", \"vorjahr\", \"vorjahr\", \"vorjahr\", \"vorjahr\", \"vorjahr\", \"vorjahr\", \"vorjahr\", \"vorjahr\", \"vorjahr\", \"vormonat\", \"vorstand\", \"vorstand\", \"vorstand\", \"vorstand\", \"vorstand\", \"vorstand\", \"vorstand\", \"vorstand\", \"vorstand\", \"vov\", \"wachstum\", \"wachstum\", \"wachstum\", \"wachstum\", \"wachstum\", \"wachstum\", \"wachstum\", \"wachstum\", \"wachstum\", \"wack\", \"wack\", \"wack\", \"wahl\", \"wahl\", \"wahl\", \"wahl\", \"wahl\", \"wahl\", \"wahl\", \"wahl\", \"wahl\", \"wahl\", \"wahlergebnis\", \"wahlkampf\", \"wahlkampf\", \"wahlkampf\", \"wahlkampf\", \"wahlkampf\", \"wahlkampf\", \"wahlkampf\", \"wahlkart\", \"wahlkart\", \"wang\", \"wang\", \"wang\", \"wang\", \"watford\", \"watford\", \"webstandard\", \"weg\", \"weg\", \"weg\", \"weg\", \"weg\", \"weg\", \"weg\", \"weg\", \"weg\", \"weg\", \"weit\", \"weit\", \"weit\", \"weit\", \"weit\", \"weit\", \"weit\", \"weit\", \"weit\", \"weit\", \"weiterbild\", \"weiterbild\", \"welt\", \"welt\", \"welt\", \"welt\", \"welt\", \"welt\", \"welt\", \"welt\", \"welt\", \"welt\", \"weltcup\", \"weltcup\", \"weltcup\", \"weltweit\", \"weltweit\", \"weltweit\", \"weltweit\", \"weltweit\", \"weltweit\", \"weltweit\", \"weltweit\", \"weltweit\", \"weltweit\", \"wenig\", \"wenig\", \"wenig\", \"wenig\", \"wenig\", \"wenig\", \"wenig\", \"wenig\", \"wenig\", \"wenig\", \"werk\", \"werk\", \"werk\", \"werk\", \"werk\", \"werk\", \"werk\", \"werk\", \"werk\", \"werk\", \"westjordanland\", \"wien\", \"wien\", \"wien\", \"wien\", \"wien\", \"wien\", \"wien\", \"wien\", \"wien\", \"wien\", \"wifo\", \"wifo\", \"wifo\", \"wimbledon\", \"windows\", \"windows\", \"windows\", \"windows\", \"windows\", \"wirtschaft\", \"wirtschaft\", \"wirtschaft\", \"wirtschaft\", \"wirtschaft\", \"wirtschaft\", \"wirtschaft\", \"wirtschaft\", \"wirtschaft\", \"wirtschaft\", \"wissenschaft\", \"wissenschaft\", \"wissenschaft\", \"wissenschaft\", \"wissenschaft\", \"wissenschaft\", \"wissenschaft\", \"wissenschaft\", \"wissenschaft\", \"wissenschaft\", \"wlan\", \"wlan\", \"wlan\", \"wlan\", \"wolfsberg\", \"wolfsberg\", \"wolfsberg\", \"wolfsberg\", \"wolfsberg\", \"word\", \"word\", \"word\", \"word\", \"word\", \"word\", \"word\", \"word\", \"word\", \"word\", \"yuan\", \"zahl\", \"zahl\", \"zahl\", \"zahl\", \"zahl\", \"zahl\", \"zahl\", \"zahl\", \"zahl\", \"zahl\", \"zamg\", \"zamg\", \"zaun\", \"zaun\", \"zaun\", \"zaun\", \"zaun\", \"zaun\", \"zaun\", \"zaun\", \"zaun\", \"zeidl\", \"zeit\", \"zeit\", \"zeit\", \"zeit\", \"zeit\", \"zeit\", \"zeit\", \"zeit\", \"zeit\", \"zeit\", \"zeitgeschicht\", \"zeugin\", \"zielpunkt\", \"zielpunkt\", \"zufolg\", \"zufolg\", \"zufolg\", \"zufolg\", \"zufolg\", \"zufolg\", \"zufolg\", \"zufolg\", \"zufolg\", \"zufolg\", \"zuwach\", \"zuwach\", \"zuwach\", \"zuwach\", \"zuwach\", \"zuwach\", \"zuwachs\", \"zuwachs\", \"zuwachs\", \"zuwachs\", \"zuwachs\", \"zwei\", \"zwei\", \"zwei\", \"zwei\", \"zwei\", \"zwei\", \"zwei\", \"zwei\", \"zwei\", \"zwei\", \"zweit\", \"zweit\", \"zweit\", \"zweit\", \"zweit\", \"zweit\", \"zweit\", \"zweit\", \"zweit\", \"zweit\"]}, \"R\": 30, \"lambda.step\": 0.01, \"plot.opts\": {\"xlab\": \"PC1\", \"ylab\": \"PC2\"}, \"topic.order\": [1, 4, 6, 9, 3, 5, 2, 8, 7, 10]};\n",
              "\n",
              "function LDAvis_load_lib(url, callback){\n",
              "  var s = document.createElement('script');\n",
              "  s.src = url;\n",
              "  s.async = true;\n",
              "  s.onreadystatechange = s.onload = callback;\n",
              "  s.onerror = function(){console.warn(\"failed to load library \" + url);};\n",
              "  document.getElementsByTagName(\"head\")[0].appendChild(s);\n",
              "}\n",
              "\n",
              "if(typeof(LDAvis) !== \"undefined\"){\n",
              "   // already loaded: just create the visualization\n",
              "   !function(LDAvis){\n",
              "       new LDAvis(\"#\" + \"ldavis_el2721376858731961921705246614\", ldavis_el2721376858731961921705246614_data);\n",
              "   }(LDAvis);\n",
              "}else if(typeof define === \"function\" && define.amd){\n",
              "   // require.js is available: use it to load d3/LDAvis\n",
              "   require.config({paths: {d3: \"https://d3js.org/d3.v5\"}});\n",
              "   require([\"d3\"], function(d3){\n",
              "      window.d3 = d3;\n",
              "      LDAvis_load_lib(\"https://cdn.jsdelivr.net/gh/bmabey/pyLDAvis@3.4.0/pyLDAvis/js/ldavis.v3.0.0.js\", function(){\n",
              "        new LDAvis(\"#\" + \"ldavis_el2721376858731961921705246614\", ldavis_el2721376858731961921705246614_data);\n",
              "      });\n",
              "    });\n",
              "}else{\n",
              "    // require.js not available: dynamically load d3 & LDAvis\n",
              "    LDAvis_load_lib(\"https://d3js.org/d3.v5.js\", function(){\n",
              "         LDAvis_load_lib(\"https://cdn.jsdelivr.net/gh/bmabey/pyLDAvis@3.4.0/pyLDAvis/js/ldavis.v3.0.0.js\", function(){\n",
              "                 new LDAvis(\"#\" + \"ldavis_el2721376858731961921705246614\", ldavis_el2721376858731961921705246614_data);\n",
              "            })\n",
              "         });\n",
              "}\n",
              "</script>"
            ]
          },
          "metadata": {},
          "execution_count": 79
        }
      ]
    },
    {
      "cell_type": "markdown",
      "metadata": {
        "id": "syy0tnTQmxZP"
      },
      "source": [
        "# Your turn - Do it yourself:\n",
        "\n",
        "Replace the given corpus with one in another language - maybe your own native language? You can find corpus online, for example:\n",
        "- https://www.corpusdata.org/intro.asp\n",
        "- or here: https://www.clarin.eu/resource-families/newspaper-corpora\n",
        "- or even in nltk: https://www.nltk.org/nltk_data/\n",
        "- In this github, there are many datasets that can be loaded through their `raw` url: https://github.com/selva86/datasets\n",
        "\n",
        "Careful: You will need to change the [Stemming](https://snowballstem.org/algorithms/) and the [Stopwords](https://www.kaggle.com/rtatman/stopword-lists-for-19-languages) to support your language. Make a web-search after the appropriate ones (if they exist..)\n",
        "\n",
        "Use the notebook to reproduce the result.  \n",
        "Try changing the parameters to get a *satisfying level of clustering*.  \n",
        "Which parameters worked best for the language you chose?"
      ]
    },
    {
      "cell_type": "markdown",
      "source": [
        "##### Help note\n",
        "\n",
        "If your corpus is a csv, [pandas' read_csv method](https://pandas.pydata.org/docs/reference/api/pandas.read_csv.html) would be the best way to tackle it.\n",
        "\n",
        "If it is, however a text file or a zip of text files, you will need another way to load them. Luckily, python is working well with both - text and zip files, with a built-in support."
      ],
      "metadata": {
        "id": "vB0wRwUpX3yB"
      }
    },
    {
      "cell_type": "markdown",
      "source": [
        "###### Example with text\n",
        "For the sake of this example, let's download two files: one text file, and one gzip file, from this website:\n",
        "\n",
        "https://lindat.mff.cuni.cz/repository/xmlui/handle/11858/00-097C-0000-0023-6260-A"
      ],
      "metadata": {
        "id": "hHe2aaI-bFHU"
      }
    },
    {
      "cell_type": "code",
      "source": [
        "!curl --remote-name-all https://lindat.mff.cuni.cz/repository/xmlui/bitstream/handle/11858/00-097C-0000-0023-6260-A{/README.txt,/hindmonocorp05.plaintext.gz}\n"
      ],
      "metadata": {
        "colab": {
          "base_uri": "https://localhost:8080/"
        },
        "id": "JeiBbArnXZ_u",
        "outputId": "7d40e071-7998-4802-df74-fe156d48ee09"
      },
      "execution_count": null,
      "outputs": [
        {
          "output_type": "stream",
          "name": "stderr",
          "text": [
            "/usr/local/lib/python3.10/dist-packages/ipykernel/ipkernel.py:283: DeprecationWarning: `should_run_async` will not call `transform_cell` automatically in the future. Please pass the result to `transformed_cell` argument and any exception that happen during thetransform in `preprocessing_exc_tuple` in IPython 7.17 and above.\n",
            "  and should_run_async(code)\n"
          ]
        },
        {
          "output_type": "stream",
          "name": "stdout",
          "text": [
            "  % Total    % Received % Xferd  Average Speed   Time    Time     Time  Current\n",
            "                                 Dload  Upload   Total   Spent    Left  Speed\n",
            "100  4472  100  4472    0     0   3258      0  0:00:01  0:00:01 --:--:--  3259\n",
            "  % Total    % Received % Xferd  Average Speed   Time    Time     Time  Current\n",
            "                                 Dload  Upload   Total   Spent    Left  Speed\n",
            "100 2353M  100 2353M    0     0  19.3M      0  0:02:01  0:02:01 --:--:-- 20.0M\n"
          ]
        }
      ]
    },
    {
      "cell_type": "markdown",
      "source": [
        "Files are accessed using the `Path` package of python's pathlib:"
      ],
      "metadata": {
        "id": "2xk8Q5phbKR4"
      }
    },
    {
      "cell_type": "code",
      "source": [
        "from pathlib import Path"
      ],
      "metadata": {
        "id": "ZA1ibqJoZjgx",
        "colab": {
          "base_uri": "https://localhost:8080/"
        },
        "outputId": "b6bf1c87-66bf-4bfd-ae3d-d9849d073d25"
      },
      "execution_count": null,
      "outputs": [
        {
          "output_type": "stream",
          "name": "stderr",
          "text": [
            "/usr/local/lib/python3.10/dist-packages/ipykernel/ipkernel.py:283: DeprecationWarning: `should_run_async` will not call `transform_cell` automatically in the future. Please pass the result to `transformed_cell` argument and any exception that happen during thetransform in `preprocessing_exc_tuple` in IPython 7.17 and above.\n",
            "  and should_run_async(code)\n"
          ]
        }
      ]
    },
    {
      "cell_type": "markdown",
      "source": [
        "To access a file, we use its path in Path, like so:\n",
        "\n",
        "`Path('Folder/filename.extension')`\n",
        "\n",
        "Path has many methods for files and folder. Including looping over files in folder, checking if a file exists, etc.\n",
        "\n",
        "Read more about it here: https://docs.python.org/3/library/pathlib.html"
      ],
      "metadata": {
        "id": "icYkPSu5bQhG"
      }
    },
    {
      "cell_type": "code",
      "source": [
        "readme_file = Path('README.txt')\n",
        "\n",
        "if readme_file.exists():\n",
        "  # read the text content into a variable\n",
        "  file_content = readme_file.read_text()\n",
        "  print(file_content)\n",
        "else:\n",
        "  print(\"README.txt was not found...\")"
      ],
      "metadata": {
        "colab": {
          "base_uri": "https://localhost:8080/"
        },
        "id": "kteZ2w0QapcU",
        "outputId": "2f800598-e0d0-4e86-a689-2aa366df5422"
      },
      "execution_count": null,
      "outputs": [
        {
          "output_type": "stream",
          "name": "stdout",
          "text": [
            "HindEnCorp 0.5 and HindMonoCorp 0.5 File Formats\n",
            "================================================\n",
            "\n",
            "This file describes the file formats of the Hindi-English and Hindi-only\n",
            "corpora released in 2014 under the names HindEnCorp 0.5 and HindMonoCorp 0.5.\n",
            "\n",
            "More details about the preparation of the corpora can be found in the paper:\n",
            "\n",
            "  Ondřej Bojar, Vojtěch Diatka, Pavel Rychlý, Pavel Straňák, Aleš Tamchyna\n",
            "  and Dan Zeman. HindEnCorp - Hindi-English and Hindi-only Corpus for\n",
            "  Machine Translation. In Proc. of LREC 2014. Reykjavik, Iceland. ISBN\n",
            "  978-2-9517408-8-4. ELRA. 2014.\n",
            "\n",
            "or on the corpora web page:\n",
            "  http://ufal.mff.cuni.cz/hindencorp\n",
            "\n",
            "Please cite this paper if you make any use of the corpora. BibTeX citation\n",
            "format below.\n",
            "\n",
            "\n",
            "Common Properties\n",
            "-----------------\n",
            "\n",
            "All the files are plain text:\n",
            "\n",
            "- compressed with gzip\n",
            "- encoded in UTF-8\n",
            "- with unix line breaks (LF)\n",
            "- with tab-delimited columns\n",
            "\n",
            "The monolingual and parallel corpora have different columns.\n",
            "\n",
            "The actual corpus text is stored in one (monolingual corpus) or two (parallel\n",
            "corpus) of the columns.\n",
            "\n",
            "\n",
            "Plaintext vs. Export File Format\n",
            "--------------------------------\n",
            "\n",
            "Both the monolingual and the parallel corpus come in a simple plain text format\n",
            "and in a tokenized, tagged and lemmatized format.\n",
            "\n",
            "The plaintext format preserves the original tokenization (as much as possible\n",
            "given the diverse sources included in our corpus).\n",
            "\n",
            "The 'export' format is tokenized and represents each token as a '|'-delimited\n",
            "triple of: the word form, the lemma, and part-of-speech tag. If there was the\n",
            "character '|' (this character is also used instead of the proper Devanagari\n",
            "Danda in some sources), we escape it as '&pipe;'.\n",
            "\n",
            "There is exactly the same number of lines in the plaintext and export file\n",
            "formats.\n",
            "\n",
            "\n",
            "HindEnCorp Columns\n",
            "------------------\n",
            "\n",
            "The files hindencorp05.plaintext.gz and hindencorp05.export.gz each contain the\n",
            "parallel corpus and differ only in the processing of the corpus texts. The\n",
            "files have these columns:\n",
            "\n",
            "- source identifier (where do the segments come from)\n",
            "- alignment type (number of English segments - number of Hindi segments)\n",
            "- alignment quality, which is one of the following:\n",
            "    \"manual\"  ... for sources that were sentence-aligned manually\n",
            "    \"implied\" ... for sources where one side was constructed by translating\n",
            "                  segment by segment\n",
            "    float     ... a value somehow reflecting the goodness of the automatic\n",
            "                  alignment; not really reliable\n",
            "- English segment or segments\n",
            "- Hindi segment or segments\n",
            "\n",
            "Each of the segments field is in the plaintext or export format as described\n",
            "above.\n",
            "\n",
            "If there are more than one segments on a line (e.g. for lines with alignment\n",
            "type 2-1 where there are two English segments), then the segments are delimited\n",
            "with '<s>' in the text field.\n",
            "\n",
            "HindMonoCorp Columns\n",
            "--------------------\n",
            "\n",
            "The files hindmonocorp05.plaintext.gz and hindmonocorp05.export.gz each contain\n",
            "the monolingual corpus and differ only in the processing of the corpus text.\n",
            "Each input segment (usually one Hindi sentence) is stored on a separate line.\n",
            "The files have these columns:\n",
            "\n",
            "- source identifier (where does the segment come from)\n",
            "- segment type, which is one of the following:\n",
            "    <s>  ... this segment is a sentence from a 'text body'\n",
            "    <h>  ... this segment comes from a 'headline' (e.g. of an article)\n",
            "    <a>  ... anything, the source here does not allow to distinguish between\n",
            "             body and headlines\n",
            "- Hindi segment\n",
            "\n",
            "\n",
            "BibTeX Citation for HindEnCorp and HindMonoCorp 0.5\n",
            "---------------------------------------------------\n",
            "\n",
            "@InProceedings{hindencorp05:lrec:2014,\n",
            "  author = {Ond{\\v{r}}ej Bojar and Vojt{\\v{e}}ch Diatka\n",
            "            and Pavel Rychl{\\'{y}} and Pavel Stra{\\v{n}}{\\'{a}}k\n",
            "            and V{\\'{\\i}}t Suchomel and Ale{\\v{s}} Tamchyna and Daniel Zeman},\n",
            "  title = \"{HindEnCorp - Hindi-English and Hindi-only Corpus for Machine\n",
            "            Translation}\",\n",
            "  booktitle = {Proceedings of the Ninth International Conference on Language\n",
            "               Resources and Evaluation (LREC'14)},\n",
            "  year = {2014},\n",
            "  month = {may},\n",
            "  date = {26-31},\n",
            "  address = {Reykjavik, Iceland},\n",
            "  editor = {Nicoletta Calzolari (Conference Chair) and Khalid Choukri and\n",
            "     Thierry Declerck and Hrafn Loftsson and Bente Maegaard and Joseph Mariani\n",
            "     and Asuncion Moreno and Jan Odijk and Stelios Piperidis},\n",
            "  publisher = {European Language Resources Association (ELRA)},\n",
            "  isbn = {978-2-9517408-8-4},\n",
            "  language = {english}\n",
            "}\n",
            "\n",
            "\n"
          ]
        },
        {
          "output_type": "stream",
          "name": "stderr",
          "text": [
            "/usr/local/lib/python3.10/dist-packages/ipykernel/ipkernel.py:283: DeprecationWarning: `should_run_async` will not call `transform_cell` automatically in the future. Please pass the result to `transformed_cell` argument and any exception that happen during thetransform in `preprocessing_exc_tuple` in IPython 7.17 and above.\n",
            "  and should_run_async(code)\n"
          ]
        }
      ]
    },
    {
      "cell_type": "markdown",
      "source": [
        "If the file is a `.zip` file, you can open it and read its data without actually extracting all the files from it.\n",
        "\n",
        "https://docs.python.org/3/library/gzip.html\n",
        "\n",
        "Also, [requests](https://requests.readthedocs.io/en/latest/) is a great package of retrieving content from a URL."
      ],
      "metadata": {
        "id": "z4pDENv4cEqR"
      }
    },
    {
      "cell_type": "markdown",
      "source": [
        "###### Example with zipped files"
      ],
      "metadata": {
        "id": "79u_AizrnqqK"
      }
    },
    {
      "cell_type": "code",
      "source": [
        "import gzip\n"
      ],
      "metadata": {
        "id": "GjCxwaYDaWqX",
        "colab": {
          "base_uri": "https://localhost:8080/"
        },
        "outputId": "24fcc914-dc15-4d57-8a46-b04580198e36"
      },
      "execution_count": null,
      "outputs": [
        {
          "output_type": "stream",
          "name": "stderr",
          "text": [
            "/usr/local/lib/python3.10/dist-packages/ipykernel/ipkernel.py:283: DeprecationWarning: `should_run_async` will not call `transform_cell` automatically in the future. Please pass the result to `transformed_cell` argument and any exception that happen during thetransform in `preprocessing_exc_tuple` in IPython 7.17 and above.\n",
            "  and should_run_async(code)\n"
          ]
        }
      ]
    },
    {
      "cell_type": "code",
      "source": [
        "\n",
        "# this would download the file (but it's 2 GB, so go easy on your internet provider...):\n",
        "# file = requests.get('https://lindat.mff.cuni.cz/repository/xmlui/bitstream/handle/11858/00-097C-0000-0023-6260-A/hindmonocorp05.plaintext.gz')\n",
        "# with gzip.open(file.content, 'rb') as gz:\n",
        "#  ..."
      ],
      "metadata": {
        "id": "tBOjd-J6e5Kt",
        "colab": {
          "base_uri": "https://localhost:8080/"
        },
        "outputId": "788c6ef9-0269-4cd2-cf44-fc62f3db2566"
      },
      "execution_count": null,
      "outputs": [
        {
          "output_type": "stream",
          "name": "stderr",
          "text": [
            "/usr/local/lib/python3.10/dist-packages/ipykernel/ipkernel.py:283: DeprecationWarning: `should_run_async` will not call `transform_cell` automatically in the future. Please pass the result to `transformed_cell` argument and any exception that happen during thetransform in `preprocessing_exc_tuple` in IPython 7.17 and above.\n",
            "  and should_run_async(code)\n"
          ]
        }
      ]
    },
    {
      "cell_type": "markdown",
      "source": [
        "In this example, we will open the zip and read the text lines.\n",
        "The text is in hindi, so we have to decode it into `UTF-8` format:"
      ],
      "metadata": {
        "id": "_8CXmJU4i3Ng"
      }
    },
    {
      "cell_type": "code",
      "source": [
        "with gzip.open('hindmonocorp05.plaintext.gz', 'rb') as gz:\n",
        "  for i in range(10):\n",
        "    line = gz.readline()\n",
        "    words = line.decode('utf8').split()\n",
        "    print(words)\n"
      ],
      "metadata": {
        "colab": {
          "base_uri": "https://localhost:8080/"
        },
        "id": "FaShXt80f691",
        "outputId": "6bca3e9d-e1bc-4090-fb75-eb8f4227438d"
      },
      "execution_count": null,
      "outputs": [
        {
          "output_type": "stream",
          "name": "stdout",
          "text": [
            "['hwt2013', '<s>', 'लेकिन', 'गांव', 'के', 'जगदीश', 'मेघवाल,', 'मोहन...']\n",
            "['spiderling', '<s>', 'विटामिन', 'सी', 'शरीर', 'में', 'रोग', 'पैदा', 'करने', 'वाले', 'विषाणुओं', 'से', 'लड़ने', 'की', 'ताकत', 'पैदा', 'करता', 'है', 'और', 'शरीर', 'में', 'इसकी', 'संतुलित', 'मात्रा', 'बने', 'रहने', 'से', 'रोग', 'प्रतिरोधक', 'क्षमता', 'मजबूत', 'रहती', 'है।']\n",
            "['spiderling', '<s>', 'इन', 'बोतलों', 'के', 'बहुत', 'कम', 'पैसे', 'मिलते', 'हैं।']\n",
            "['commoncrawl', '<a>', 'कार्टून', ':-', 'रे', 'लोकपाल', 'आ', 'गया', 'तू', '?', 'शाबाश....', '19', '0']\n",
            "['spiderling', '<s>', 'प्रखर', 'बुद्धि', 'तेजस्वी', 'बालक', 'राजेन्द्र', 'बाल्यावस्था', 'में', 'ही', 'फारसी', 'में', 'शिक्षा', 'ग्रहण', 'करने', 'लगा', 'और', 'उसके', 'पश्चात', 'प्राथमिक', 'शिक्षा', 'के', 'लिए', 'छपरा', 'के', 'जिला', 'स्कूल', 'में', 'नामांकित', 'हो', 'गया।']\n",
            "['commoncrawl', '<a>', 'निदेशक', 'स्तर', 'का', 'एक', 'वैज्ञानिक', 'संस्थान', 'या', 'सहोदर', 'संस्थान', 'से', '(']\n",
            "['commoncrawl', '<a>', 'गज़ब', 'का', 'बतंगड़', 'है!', ':)', 'हिट', 'तो', 'वैसे', 'भी', 'है', 'जैसे', 'आपने', 'लिख', 'दिया', 'है,', 'जबर-रोचक', '(इस', 'शब्द', 'की']\n",
            "['w2cweb', '<a>', '2005', 'में', 'वर्ल्ड', 'वाइल्ड', 'लाइफ', 'फंड', 'की', 'संस्तुति', 'पर', 'गंगा', 'नदी', 'में', '165', 'किलोमीटर', 'के', 'हिस्से', 'में', \"'रामसर\", \"साइट'\", 'की', 'घोषणा', 'की', 'थी,', 'जिसमें', 'राष्ट्रीय', 'जल', 'जीव', 'डोलफिन', 'से', 'लेकर', 'सभी', 'प्रकार', 'के', 'जल', 'जीवों', 'की', 'रक्षा', 'के', 'लिए', 'सुरक्षा', 'के', 'व्यापक', 'प्रबंध', 'किए', 'गये', 'थे', 'और', 'उस', 'क्षेत्र', 'में', 'इन', 'जल', 'जीवों', 'को', 'किसी', 'भी', 'प्रकार', 'से', 'मारने', 'पर', 'वाइल्ड', 'लाइफ', 'प्रोटेक्शन', 'एक्ट', '1972', 'के', 'अंतर्गत', 'कार्रवाई', 'तक', 'करने', 'की', 'संस्तुति', 'की', 'गई', 'थी।']\n",
            "['spiderling', '<s>', 'पुराना', 'कैदीः', '”', 'अरे', '!', 'इतना', 'छोटा', 'काम', 'को', 'हमारे', 'बच्चे', 'ही', 'कर', 'लेते', 'हैं।']\n",
            "['spiderling', '<s>', 'इन', 'महाशय', 'का', 'सधवा', 'रूप', 'भी', 'विधवा', 'की', 'तरह', 'ही', 'बीता', 'था', '.....']\n"
          ]
        },
        {
          "output_type": "stream",
          "name": "stderr",
          "text": [
            "/usr/local/lib/python3.10/dist-packages/ipykernel/ipkernel.py:283: DeprecationWarning: `should_run_async` will not call `transform_cell` automatically in the future. Please pass the result to `transformed_cell` argument and any exception that happen during thetransform in `preprocessing_exc_tuple` in IPython 7.17 and above.\n",
            "  and should_run_async(code)\n"
          ]
        }
      ]
    },
    {
      "cell_type": "markdown",
      "source": [
        "**IMPORTANT NOTE**: If your corpus, like that file example is very large (2.3GB zipped), then please don't load all the text: it will not fit in the memory and will only cause you trouble.  \n",
        "Instead, you can use only the first 10 to 20k sentences, or so. For this exercise we just want you to get a hold of the steps and the proces involved in using LDA."
      ],
      "metadata": {
        "id": "SZLMI43toL76"
      }
    },
    {
      "cell_type": "markdown",
      "source": [
        "# Afterword\n",
        "\n",
        "Gensim is not the only library that implements the LDA algorithm.\n",
        "Another package that does LDA is [tomotopy](https://bab2min.github.io/tomotopy/v0.12.3/en/) - sometimes even faster than gensim. Additionaly, it is implemented as part of [Scikit-Learn](https://scikit-learn.org/stable/modules/generated/sklearn.decomposition.LatentDirichletAllocation.html) - which we use often in the course.\n",
        "\n",
        "Here's a jupyter example using Scikit-learn and spaCy: https://nbviewer.org/github/bmabey/pyLDAvis/blob/master/notebooks/sklearn.ipynb\n",
        "\n",
        "Since we won't dive deeper into the LDA topic in this course, if you wish to know more about the statistics behind it, [this video](https://www.youtube.com/watch?v=0jQo8lVRHRY) of a lesson by the researcher [Nando de Freitas](https://linkedin.com/in/nandodefreitas) gives a good overview."
      ],
      "metadata": {
        "id": "gvufRXnxoiwI"
      }
    },
    {
      "cell_type": "code",
      "source": [],
      "metadata": {
        "id": "c6YoKZ45q6AK",
        "colab": {
          "base_uri": "https://localhost:8080/"
        },
        "outputId": "abd26d7d-7821-4288-eaac-c5c054cd2294"
      },
      "execution_count": null,
      "outputs": [
        {
          "output_type": "stream",
          "name": "stderr",
          "text": [
            "/usr/local/lib/python3.10/dist-packages/ipykernel/ipkernel.py:283: DeprecationWarning: `should_run_async` will not call `transform_cell` automatically in the future. Please pass the result to `transformed_cell` argument and any exception that happen during thetransform in `preprocessing_exc_tuple` in IPython 7.17 and above.\n",
            "  and should_run_async(code)\n"
          ]
        }
      ]
    }
  ]
}