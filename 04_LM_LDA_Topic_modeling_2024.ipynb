{
  "nbformat": 4,
  "nbformat_minor": 0,
  "metadata": {
    "colab": {
      "provenance": [],
      "toc_visible": true,
      "include_colab_link": true
    },
    "kernelspec": {
      "name": "python3",
      "display_name": "Python 3"
    }
  },
  "cells": [
    {
      "cell_type": "markdown",
      "metadata": {
        "id": "view-in-github",
        "colab_type": "text"
      },
      "source": [
        "<a href=\"https://colab.research.google.com/github/larajakl/Machine-Learning/blob/main/04_LM_LDA_Topic_modeling_2024.ipynb\" target=\"_parent\"><img src=\"https://colab.research.google.com/assets/colab-badge.svg\" alt=\"Open In Colab\"/></a>"
      ]
    },
    {
      "cell_type": "markdown",
      "source": [
        "# Clustering Documents"
      ],
      "metadata": {
        "id": "0QCMG-L_oPQ6"
      }
    },
    {
      "cell_type": "markdown",
      "metadata": {
        "id": "nzhvlugtZytc"
      },
      "source": [
        "In this notebook, you'll learn about **Latent Dirichlet Allocation** (LDA) algorithm, and how to use it to cluster documents based on automatically generated topics, made out of their content words.\n",
        "\n",
        "Key-learning:\n",
        "- Unsupervised machine learning for NLP\n",
        "- Clustering Documents\n",
        "- LDA\n",
        "- python packages: *pandas*, [*gensim*](https://pypi.org/project/gensim/)\n",
        "\n",
        "Terms in this notebook:\n",
        "- Bag of Words (BoW)\n",
        "- LDA\n",
        "- Clustering\n",
        "- TF/IDF\n",
        "\n",
        "This notebook includes two recommended videos (total length: 25min).\n",
        "\n",
        "Estimated reading duration: 1-2h.\n"
      ]
    },
    {
      "cell_type": "markdown",
      "metadata": {
        "id": "LuFLTklaSGqw"
      },
      "source": [
        "# Setup"
      ]
    },
    {
      "cell_type": "markdown",
      "metadata": {
        "id": "ncCmcyBB_KyW"
      },
      "source": [
        "We start by importing [pandas](https://pandas.pydata.org/) - an essential tool for data scientists!\n",
        "\n",
        "We load a .CSV (Comma Seperated Values) file of German news articles from https://github.com/tblock/10kGNAD\n"
      ]
    },
    {
      "cell_type": "code",
      "source": [
        "from IPython.display import YouTubeVideo"
      ],
      "metadata": {
        "id": "9e5gBKX3pFlC"
      },
      "execution_count": 1,
      "outputs": []
    },
    {
      "cell_type": "code",
      "metadata": {
        "id": "KfprTyMF4BG1",
        "outputId": "6d8f8c81-0f7c-495c-d1a6-ce7f5fb066e7",
        "colab": {
          "base_uri": "https://localhost:8080/"
        }
      },
      "source": [
        "import pandas as pd\n",
        "\n",
        "import nltk\n",
        "nltk.download('punkt')\n",
        "nltk.download('stopwords')\n",
        "nltk.download('averaged_perceptron_tagger')\n",
        "nltk.download('universal_tagset')\n",
        "\n"
      ],
      "execution_count": 2,
      "outputs": [
        {
          "output_type": "stream",
          "name": "stderr",
          "text": [
            "[nltk_data] Downloading package punkt to /root/nltk_data...\n",
            "[nltk_data]   Unzipping tokenizers/punkt.zip.\n",
            "[nltk_data] Downloading package stopwords to /root/nltk_data...\n",
            "[nltk_data]   Unzipping corpora/stopwords.zip.\n",
            "[nltk_data] Downloading package averaged_perceptron_tagger to\n",
            "[nltk_data]     /root/nltk_data...\n",
            "[nltk_data]   Unzipping taggers/averaged_perceptron_tagger.zip.\n",
            "[nltk_data] Downloading package universal_tagset to /root/nltk_data...\n",
            "[nltk_data]   Unzipping taggers/universal_tagset.zip.\n"
          ]
        },
        {
          "output_type": "execute_result",
          "data": {
            "text/plain": [
              "True"
            ]
          },
          "metadata": {},
          "execution_count": 2
        }
      ]
    },
    {
      "cell_type": "markdown",
      "source": [
        "Pandas is a useful package to load CSV files and to parse them. It can also parse TSV - separated by tabs, or as in our case, separated by a `;`.  \n",
        "Pandas is often used as the first-step for data scientists to load and analyze data."
      ],
      "metadata": {
        "id": "v62qoMC7U7W-"
      }
    },
    {
      "cell_type": "code",
      "metadata": {
        "id": "ieItNWA44BEA"
      },
      "source": [
        "df_articles = pd.read_csv('https://raw.githubusercontent.com/tblock/10kGNAD/master/articles.csv',\n",
        "                 sep=';',       # this file is actually a TSV, separated by \";\"\n",
        "                 on_bad_lines='skip',\n",
        "                 header=None,   # There is no header line for this CSV...\n",
        "                 # .. so we define the column names here:\n",
        "                 names=['article_category', 'content'],\n",
        "                 # And by specifiying the column as a Categorical type,\n",
        "                 # we can save computer memory! Yay!\n",
        "                 dtype={'article_category': 'category'})"
      ],
      "execution_count": 3,
      "outputs": []
    },
    {
      "cell_type": "markdown",
      "source": [
        "**Note:** Specifying a column with repeated strings as a category is a good Pandas' trick to be aware of. Often the dataset can't fit into the memory, and by specifiying columns as a categorical column when loading the data (`pd.read_csv`), we get to spare memory and allow the dataset to fit the working memory better."
      ],
      "metadata": {
        "id": "SVusBTWghIkz"
      }
    },
    {
      "cell_type": "code",
      "source": [
        "df_articles"
      ],
      "metadata": {
        "id": "XyYuGSLJSNCA",
        "outputId": "4b658cda-cc4f-4ced-d0c1-6bf5df4e7f17",
        "colab": {
          "base_uri": "https://localhost:8080/",
          "height": 424
        }
      },
      "execution_count": 4,
      "outputs": [
        {
          "output_type": "execute_result",
          "data": {
            "text/plain": [
              "     article_category                                            content\n",
              "0                Etat  Die ARD-Tochter Degeto hat sich verpflichtet, ...\n",
              "1                Etat  App sei nicht so angenommen worden wie geplant...\n",
              "2                Etat  Mitarbeiter überreichten Eigentümervertretern ...\n",
              "3                Etat  Service: Jobwechsel in der Kommunikationsbranc...\n",
              "4                Etat  Was Sie über diese Woche wissen sollten - und ...\n",
              "...               ...                                                ...\n",
              "9571     Wissenschaft  Die Fundstelle in Südengland ist Unesco-Weltku...\n",
              "9572     Wissenschaft  Im Team arbeitet auch ein Inspektor der sudane...\n",
              "9573     Wissenschaft  Die zentrale Frage des Projekts: Siedelten Ägy...\n",
              "9574     Wissenschaft  Klimatische Verschlechterungen dürften zur Auf...\n",
              "9575     Wissenschaft  Knochen können zum Verständnis des Lebens in d...\n",
              "\n",
              "[9576 rows x 2 columns]"
            ],
            "text/html": [
              "\n",
              "  <div id=\"df-195f2883-42fa-4361-8d50-079f0d9df022\" class=\"colab-df-container\">\n",
              "    <div>\n",
              "<style scoped>\n",
              "    .dataframe tbody tr th:only-of-type {\n",
              "        vertical-align: middle;\n",
              "    }\n",
              "\n",
              "    .dataframe tbody tr th {\n",
              "        vertical-align: top;\n",
              "    }\n",
              "\n",
              "    .dataframe thead th {\n",
              "        text-align: right;\n",
              "    }\n",
              "</style>\n",
              "<table border=\"1\" class=\"dataframe\">\n",
              "  <thead>\n",
              "    <tr style=\"text-align: right;\">\n",
              "      <th></th>\n",
              "      <th>article_category</th>\n",
              "      <th>content</th>\n",
              "    </tr>\n",
              "  </thead>\n",
              "  <tbody>\n",
              "    <tr>\n",
              "      <th>0</th>\n",
              "      <td>Etat</td>\n",
              "      <td>Die ARD-Tochter Degeto hat sich verpflichtet, ...</td>\n",
              "    </tr>\n",
              "    <tr>\n",
              "      <th>1</th>\n",
              "      <td>Etat</td>\n",
              "      <td>App sei nicht so angenommen worden wie geplant...</td>\n",
              "    </tr>\n",
              "    <tr>\n",
              "      <th>2</th>\n",
              "      <td>Etat</td>\n",
              "      <td>Mitarbeiter überreichten Eigentümervertretern ...</td>\n",
              "    </tr>\n",
              "    <tr>\n",
              "      <th>3</th>\n",
              "      <td>Etat</td>\n",
              "      <td>Service: Jobwechsel in der Kommunikationsbranc...</td>\n",
              "    </tr>\n",
              "    <tr>\n",
              "      <th>4</th>\n",
              "      <td>Etat</td>\n",
              "      <td>Was Sie über diese Woche wissen sollten - und ...</td>\n",
              "    </tr>\n",
              "    <tr>\n",
              "      <th>...</th>\n",
              "      <td>...</td>\n",
              "      <td>...</td>\n",
              "    </tr>\n",
              "    <tr>\n",
              "      <th>9571</th>\n",
              "      <td>Wissenschaft</td>\n",
              "      <td>Die Fundstelle in Südengland ist Unesco-Weltku...</td>\n",
              "    </tr>\n",
              "    <tr>\n",
              "      <th>9572</th>\n",
              "      <td>Wissenschaft</td>\n",
              "      <td>Im Team arbeitet auch ein Inspektor der sudane...</td>\n",
              "    </tr>\n",
              "    <tr>\n",
              "      <th>9573</th>\n",
              "      <td>Wissenschaft</td>\n",
              "      <td>Die zentrale Frage des Projekts: Siedelten Ägy...</td>\n",
              "    </tr>\n",
              "    <tr>\n",
              "      <th>9574</th>\n",
              "      <td>Wissenschaft</td>\n",
              "      <td>Klimatische Verschlechterungen dürften zur Auf...</td>\n",
              "    </tr>\n",
              "    <tr>\n",
              "      <th>9575</th>\n",
              "      <td>Wissenschaft</td>\n",
              "      <td>Knochen können zum Verständnis des Lebens in d...</td>\n",
              "    </tr>\n",
              "  </tbody>\n",
              "</table>\n",
              "<p>9576 rows × 2 columns</p>\n",
              "</div>\n",
              "    <div class=\"colab-df-buttons\">\n",
              "\n",
              "  <div class=\"colab-df-container\">\n",
              "    <button class=\"colab-df-convert\" onclick=\"convertToInteractive('df-195f2883-42fa-4361-8d50-079f0d9df022')\"\n",
              "            title=\"Convert this dataframe to an interactive table.\"\n",
              "            style=\"display:none;\">\n",
              "\n",
              "  <svg xmlns=\"http://www.w3.org/2000/svg\" height=\"24px\" viewBox=\"0 -960 960 960\">\n",
              "    <path d=\"M120-120v-720h720v720H120Zm60-500h600v-160H180v160Zm220 220h160v-160H400v160Zm0 220h160v-160H400v160ZM180-400h160v-160H180v160Zm440 0h160v-160H620v160ZM180-180h160v-160H180v160Zm440 0h160v-160H620v160Z\"/>\n",
              "  </svg>\n",
              "    </button>\n",
              "\n",
              "  <style>\n",
              "    .colab-df-container {\n",
              "      display:flex;\n",
              "      gap: 12px;\n",
              "    }\n",
              "\n",
              "    .colab-df-convert {\n",
              "      background-color: #E8F0FE;\n",
              "      border: none;\n",
              "      border-radius: 50%;\n",
              "      cursor: pointer;\n",
              "      display: none;\n",
              "      fill: #1967D2;\n",
              "      height: 32px;\n",
              "      padding: 0 0 0 0;\n",
              "      width: 32px;\n",
              "    }\n",
              "\n",
              "    .colab-df-convert:hover {\n",
              "      background-color: #E2EBFA;\n",
              "      box-shadow: 0px 1px 2px rgba(60, 64, 67, 0.3), 0px 1px 3px 1px rgba(60, 64, 67, 0.15);\n",
              "      fill: #174EA6;\n",
              "    }\n",
              "\n",
              "    .colab-df-buttons div {\n",
              "      margin-bottom: 4px;\n",
              "    }\n",
              "\n",
              "    [theme=dark] .colab-df-convert {\n",
              "      background-color: #3B4455;\n",
              "      fill: #D2E3FC;\n",
              "    }\n",
              "\n",
              "    [theme=dark] .colab-df-convert:hover {\n",
              "      background-color: #434B5C;\n",
              "      box-shadow: 0px 1px 3px 1px rgba(0, 0, 0, 0.15);\n",
              "      filter: drop-shadow(0px 1px 2px rgba(0, 0, 0, 0.3));\n",
              "      fill: #FFFFFF;\n",
              "    }\n",
              "  </style>\n",
              "\n",
              "    <script>\n",
              "      const buttonEl =\n",
              "        document.querySelector('#df-195f2883-42fa-4361-8d50-079f0d9df022 button.colab-df-convert');\n",
              "      buttonEl.style.display =\n",
              "        google.colab.kernel.accessAllowed ? 'block' : 'none';\n",
              "\n",
              "      async function convertToInteractive(key) {\n",
              "        const element = document.querySelector('#df-195f2883-42fa-4361-8d50-079f0d9df022');\n",
              "        const dataTable =\n",
              "          await google.colab.kernel.invokeFunction('convertToInteractive',\n",
              "                                                    [key], {});\n",
              "        if (!dataTable) return;\n",
              "\n",
              "        const docLinkHtml = 'Like what you see? Visit the ' +\n",
              "          '<a target=\"_blank\" href=https://colab.research.google.com/notebooks/data_table.ipynb>data table notebook</a>'\n",
              "          + ' to learn more about interactive tables.';\n",
              "        element.innerHTML = '';\n",
              "        dataTable['output_type'] = 'display_data';\n",
              "        await google.colab.output.renderOutput(dataTable, element);\n",
              "        const docLink = document.createElement('div');\n",
              "        docLink.innerHTML = docLinkHtml;\n",
              "        element.appendChild(docLink);\n",
              "      }\n",
              "    </script>\n",
              "  </div>\n",
              "\n",
              "\n",
              "<div id=\"df-54f7eb1f-eac8-437c-a177-1acff954ebdc\">\n",
              "  <button class=\"colab-df-quickchart\" onclick=\"quickchart('df-54f7eb1f-eac8-437c-a177-1acff954ebdc')\"\n",
              "            title=\"Suggest charts\"\n",
              "            style=\"display:none;\">\n",
              "\n",
              "<svg xmlns=\"http://www.w3.org/2000/svg\" height=\"24px\"viewBox=\"0 0 24 24\"\n",
              "     width=\"24px\">\n",
              "    <g>\n",
              "        <path d=\"M19 3H5c-1.1 0-2 .9-2 2v14c0 1.1.9 2 2 2h14c1.1 0 2-.9 2-2V5c0-1.1-.9-2-2-2zM9 17H7v-7h2v7zm4 0h-2V7h2v10zm4 0h-2v-4h2v4z\"/>\n",
              "    </g>\n",
              "</svg>\n",
              "  </button>\n",
              "\n",
              "<style>\n",
              "  .colab-df-quickchart {\n",
              "      --bg-color: #E8F0FE;\n",
              "      --fill-color: #1967D2;\n",
              "      --hover-bg-color: #E2EBFA;\n",
              "      --hover-fill-color: #174EA6;\n",
              "      --disabled-fill-color: #AAA;\n",
              "      --disabled-bg-color: #DDD;\n",
              "  }\n",
              "\n",
              "  [theme=dark] .colab-df-quickchart {\n",
              "      --bg-color: #3B4455;\n",
              "      --fill-color: #D2E3FC;\n",
              "      --hover-bg-color: #434B5C;\n",
              "      --hover-fill-color: #FFFFFF;\n",
              "      --disabled-bg-color: #3B4455;\n",
              "      --disabled-fill-color: #666;\n",
              "  }\n",
              "\n",
              "  .colab-df-quickchart {\n",
              "    background-color: var(--bg-color);\n",
              "    border: none;\n",
              "    border-radius: 50%;\n",
              "    cursor: pointer;\n",
              "    display: none;\n",
              "    fill: var(--fill-color);\n",
              "    height: 32px;\n",
              "    padding: 0;\n",
              "    width: 32px;\n",
              "  }\n",
              "\n",
              "  .colab-df-quickchart:hover {\n",
              "    background-color: var(--hover-bg-color);\n",
              "    box-shadow: 0 1px 2px rgba(60, 64, 67, 0.3), 0 1px 3px 1px rgba(60, 64, 67, 0.15);\n",
              "    fill: var(--button-hover-fill-color);\n",
              "  }\n",
              "\n",
              "  .colab-df-quickchart-complete:disabled,\n",
              "  .colab-df-quickchart-complete:disabled:hover {\n",
              "    background-color: var(--disabled-bg-color);\n",
              "    fill: var(--disabled-fill-color);\n",
              "    box-shadow: none;\n",
              "  }\n",
              "\n",
              "  .colab-df-spinner {\n",
              "    border: 2px solid var(--fill-color);\n",
              "    border-color: transparent;\n",
              "    border-bottom-color: var(--fill-color);\n",
              "    animation:\n",
              "      spin 1s steps(1) infinite;\n",
              "  }\n",
              "\n",
              "  @keyframes spin {\n",
              "    0% {\n",
              "      border-color: transparent;\n",
              "      border-bottom-color: var(--fill-color);\n",
              "      border-left-color: var(--fill-color);\n",
              "    }\n",
              "    20% {\n",
              "      border-color: transparent;\n",
              "      border-left-color: var(--fill-color);\n",
              "      border-top-color: var(--fill-color);\n",
              "    }\n",
              "    30% {\n",
              "      border-color: transparent;\n",
              "      border-left-color: var(--fill-color);\n",
              "      border-top-color: var(--fill-color);\n",
              "      border-right-color: var(--fill-color);\n",
              "    }\n",
              "    40% {\n",
              "      border-color: transparent;\n",
              "      border-right-color: var(--fill-color);\n",
              "      border-top-color: var(--fill-color);\n",
              "    }\n",
              "    60% {\n",
              "      border-color: transparent;\n",
              "      border-right-color: var(--fill-color);\n",
              "    }\n",
              "    80% {\n",
              "      border-color: transparent;\n",
              "      border-right-color: var(--fill-color);\n",
              "      border-bottom-color: var(--fill-color);\n",
              "    }\n",
              "    90% {\n",
              "      border-color: transparent;\n",
              "      border-bottom-color: var(--fill-color);\n",
              "    }\n",
              "  }\n",
              "</style>\n",
              "\n",
              "  <script>\n",
              "    async function quickchart(key) {\n",
              "      const quickchartButtonEl =\n",
              "        document.querySelector('#' + key + ' button');\n",
              "      quickchartButtonEl.disabled = true;  // To prevent multiple clicks.\n",
              "      quickchartButtonEl.classList.add('colab-df-spinner');\n",
              "      try {\n",
              "        const charts = await google.colab.kernel.invokeFunction(\n",
              "            'suggestCharts', [key], {});\n",
              "      } catch (error) {\n",
              "        console.error('Error during call to suggestCharts:', error);\n",
              "      }\n",
              "      quickchartButtonEl.classList.remove('colab-df-spinner');\n",
              "      quickchartButtonEl.classList.add('colab-df-quickchart-complete');\n",
              "    }\n",
              "    (() => {\n",
              "      let quickchartButtonEl =\n",
              "        document.querySelector('#df-54f7eb1f-eac8-437c-a177-1acff954ebdc button');\n",
              "      quickchartButtonEl.style.display =\n",
              "        google.colab.kernel.accessAllowed ? 'block' : 'none';\n",
              "    })();\n",
              "  </script>\n",
              "</div>\n",
              "\n",
              "  <div id=\"id_15802069-d8a2-45d5-a010-0197c276db5e\">\n",
              "    <style>\n",
              "      .colab-df-generate {\n",
              "        background-color: #E8F0FE;\n",
              "        border: none;\n",
              "        border-radius: 50%;\n",
              "        cursor: pointer;\n",
              "        display: none;\n",
              "        fill: #1967D2;\n",
              "        height: 32px;\n",
              "        padding: 0 0 0 0;\n",
              "        width: 32px;\n",
              "      }\n",
              "\n",
              "      .colab-df-generate:hover {\n",
              "        background-color: #E2EBFA;\n",
              "        box-shadow: 0px 1px 2px rgba(60, 64, 67, 0.3), 0px 1px 3px 1px rgba(60, 64, 67, 0.15);\n",
              "        fill: #174EA6;\n",
              "      }\n",
              "\n",
              "      [theme=dark] .colab-df-generate {\n",
              "        background-color: #3B4455;\n",
              "        fill: #D2E3FC;\n",
              "      }\n",
              "\n",
              "      [theme=dark] .colab-df-generate:hover {\n",
              "        background-color: #434B5C;\n",
              "        box-shadow: 0px 1px 3px 1px rgba(0, 0, 0, 0.15);\n",
              "        filter: drop-shadow(0px 1px 2px rgba(0, 0, 0, 0.3));\n",
              "        fill: #FFFFFF;\n",
              "      }\n",
              "    </style>\n",
              "    <button class=\"colab-df-generate\" onclick=\"generateWithVariable('df_articles')\"\n",
              "            title=\"Generate code using this dataframe.\"\n",
              "            style=\"display:none;\">\n",
              "\n",
              "  <svg xmlns=\"http://www.w3.org/2000/svg\" height=\"24px\"viewBox=\"0 0 24 24\"\n",
              "       width=\"24px\">\n",
              "    <path d=\"M7,19H8.4L18.45,9,17,7.55,7,17.6ZM5,21V16.75L18.45,3.32a2,2,0,0,1,2.83,0l1.4,1.43a1.91,1.91,0,0,1,.58,1.4,1.91,1.91,0,0,1-.58,1.4L9.25,21ZM18.45,9,17,7.55Zm-12,3A5.31,5.31,0,0,0,4.9,8.1,5.31,5.31,0,0,0,1,6.5,5.31,5.31,0,0,0,4.9,4.9,5.31,5.31,0,0,0,6.5,1,5.31,5.31,0,0,0,8.1,4.9,5.31,5.31,0,0,0,12,6.5,5.46,5.46,0,0,0,6.5,12Z\"/>\n",
              "  </svg>\n",
              "    </button>\n",
              "    <script>\n",
              "      (() => {\n",
              "      const buttonEl =\n",
              "        document.querySelector('#id_15802069-d8a2-45d5-a010-0197c276db5e button.colab-df-generate');\n",
              "      buttonEl.style.display =\n",
              "        google.colab.kernel.accessAllowed ? 'block' : 'none';\n",
              "\n",
              "      buttonEl.onclick = () => {\n",
              "        google.colab.notebook.generateWithVariable('df_articles');\n",
              "      }\n",
              "      })();\n",
              "    </script>\n",
              "  </div>\n",
              "\n",
              "    </div>\n",
              "  </div>\n"
            ],
            "application/vnd.google.colaboratory.intrinsic+json": {
              "type": "dataframe",
              "variable_name": "df_articles",
              "summary": "{\n  \"name\": \"df_articles\",\n  \"rows\": 9576,\n  \"fields\": [\n    {\n      \"column\": \"article_category\",\n      \"properties\": {\n        \"dtype\": \"category\",\n        \"num_unique_values\": 9,\n        \"samples\": [\n          \"Wirtschaft\",\n          \"Inland\",\n          \"Sport\"\n        ],\n        \"semantic_type\": \"\",\n        \"description\": \"\"\n      }\n    },\n    {\n      \"column\": \"content\",\n      \"properties\": {\n        \"dtype\": \"string\",\n        \"num_unique_values\": 9574,\n        \"samples\": [\n          \"Von dem E3-Showdeb\\u00fct des US-Herstellers kann sich die Branche eine Scheibe abschneiden. Es war Bethesdas erste eigene E3-Pressekonferenz und den Reaktionen der Journalisten und Zuseher zufolge hat der US-Herausgeber bei seinem Show-Deb\\u00fct sehr viel richtig gemacht. Erstmals in der Unternehmsgeschichte b\\u00fcndelte man seine prestigetr\\u00e4chtigen Kernmarken, um den Fans und der Konkurrenz zu zeigen, dass die Spielwelt mit einem weiteren Schwergewicht zu rechnen hat. Gleichzeitig machte der privat gef\\u00fchrte Mutterkonzern Zenimax damit ein klares Zugest\\u00e4ndnis zum teuren und in den letzten Jahren von vielen Branchenfehlschl\\u00e4gen gezeichneten AAA-Segment. Einerseits beeindruckte Bethesda mit einem ambitioniert angelegten Fahrplan, der in den folgenden 12 Monaten bis Ende Fr\\u00fchjahr 2016 die Ver\\u00f6ffentlichung von gleich drei Blockbustern vorsieht: Fallout 4, Doom und Dishonored 2. Jedes dieser Games wurde auf der E3 pr\\u00e4sentiert und bedient ein Millionenpublikum eingeschworener Fans. Andererseits ist es erfreulich zu sehen, dass es neben den wenigen Milliardenkonzernen rund um Activision und EA noch private Hersteller gibt, die ihr Kapital vorrangig in Hochglanzproduktionen investieren und auch daran festhalten. In Zeiten, in denen (einstige) Kolosse wie Konami oder Sega vom Zukunftsmarkt Mobile schw\\u00e4rmen, b\\u00f6rsennotierte Big Player ihre Franchises nach Gesch\\u00e4ftsquartalen richten und einander mit Marketingmillionen \\u00fcberbieten, ist dies alles andere als eine Selbstverst\\u00e4ndlichkeit. Mit der Vorstellungen des neuen Doom, eine moderne Interpretation des 1993 erschienenen Kult-Shooters, beweist Bethesda zudem, dass es gewillt ist, seinen Marken Zeit zu geben. Das mehrfach verschobene Projekt wurde vor ein paar Jahren komplett neu angefangen, nachdem die Produktion den internen Erwartungen des Studios id Software nicht gerecht wurde. Eine kostspielige Entscheidung, die jedoch sicherstellen sollte, dass derart wertvolle Marken langfristig nicht an Ansehen und Popularit\\u00e4t verlieren. Gleiches gilt f\\u00fcr Bethesdas andere Schl\\u00fcsselfranchises: Fallout 4 erscheint sage und schreibe sieben Jahre nach Teil 3 und der 2012 erschienene \\u00dcberraschungshit Dishonored wird erst vier Jahre sp\\u00e4ter eine Fortsetzung erhalten. Nach den heutigen Ma\\u00dfst\\u00e4ben annualisierter Spieleserien eine kleine Ewigkeit, die nicht gerade nach Profitmaximierung schreit. Und so aufregend es war, nach vielen Jahren einen neuen Big Player im Rampenlicht der E3 zu sehen, so beruhigt es als Videospielfan umso mehr, dass eine Wiederholung des Bethesda-Spektakels im n\\u00e4chsten Jahr alles andere als sicher ist. Denn w\\u00e4hrend nicht nur die eine oder andere vergangene Pressekonferenz mit farblosen L\\u00fcckenf\\u00fcllern oder leeren Ank\\u00fcndigungen nicht einmal Jahre sp\\u00e4ter erschienener oder auch wieder eingestellter Games gespickt war, hat Bethesda solange geschwiegen, bis es etwas Handfestes zu zeigen hatte. Auch davon kann sich die Branche eine Scheibe abschneiden.\",\n          \"Domain wieder erreichbar \\u2013 Unternehmen verweist auf IT-Probleme. Bei den \\u00d6BB hat eine Zugangs-Sperre bei Computern des Unternehmens f\\u00fcr die Internetseite norberthofer.at f\\u00fcr Aufregung gesorgt. Wie die Krone berichtete, konnte die Website von FP\\u00d6-Kandidat Norbert Hofer von Tausenden Computern der \\u00d6BB aus tagelang nicht aufgerufen werden \\u2013 jene von Alexander Van der Bellen (vanderbellen.at) hingegen schon. FP\\u00d6-Abgeordneter Christian H\\u00f6bart sprach von einer Frechheit. Die \\u00d6BB-Generaldirektion dementierte den Versuch einer politischen Beeinflussung: Die Ursache f\\u00fcr die Sperre war ein Fehler unseres IT-Lieferanten. Da diese Domain nicht unmittelbar nach ihrer Reservierung mit Inhalt bef\\u00fcllt war, wurde sie weggefiltert, zitierte die Krone ein entsprechendes Schreiben. Kurz nach der Anfrage der Zeitung war die Domain norberthofer.at von \\u00d6BB-PCs wieder erreichbar, so der Bericht.\",\n          \"Geb\\u00fcrtiger Bosnier kommt abl\\u00f6sefrei aus Kasachstan. Altach \\u2013 Der SCR Altach hat Mittelst\\u00fcrmer Mihret Topcagic verpflichtet. Der geb\\u00fcrtige Bosnier mit \\u00f6sterreichischer Staatsb\\u00fcrgerschaft spielte zuletzt zwei Jahre f\\u00fcr den kasachischen Klub Schachtjor Karagandy, er kommt abl\\u00f6sefrei. In Vorarlberg erh\\u00e4lt der 27-J\\u00e4hrige einen Vertrag bis Sommer 2017. Er hat beim WAC und bei der Admira bereits Bundesliga-Erfahrung gesammelt.\"\n        ],\n        \"semantic_type\": \"\",\n        \"description\": \"\"\n      }\n    }\n  ]\n}"
            }
          },
          "metadata": {},
          "execution_count": 4
        }
      ]
    },
    {
      "cell_type": "markdown",
      "source": [
        "Our corpus contains 9 categories, as seen below.  \n",
        "However, our plan now is to **ignore them**, and instead, use an **un**supervised algorithm to deduct the topics only by the articles content.   \n",
        "Or in other words: we will *cluster* those documents based on their content."
      ],
      "metadata": {
        "id": "eJtNm2v7V38-"
      }
    },
    {
      "cell_type": "code",
      "source": [
        "df_articles['article_category'].cat.categories"
      ],
      "metadata": {
        "colab": {
          "base_uri": "https://localhost:8080/"
        },
        "id": "KGgnGvdLVLkh",
        "outputId": "07845cfd-c0b6-42e0-bfc9-11225213b4a8"
      },
      "execution_count": 5,
      "outputs": [
        {
          "output_type": "execute_result",
          "data": {
            "text/plain": [
              "Index(['Etat', 'Inland', 'International', 'Kultur', 'Panorama', 'Sport', 'Web',\n",
              "       'Wirtschaft', 'Wissenschaft'],\n",
              "      dtype='object')"
            ]
          },
          "metadata": {},
          "execution_count": 5
        }
      ]
    },
    {
      "cell_type": "markdown",
      "metadata": {
        "id": "lMnZgp90-Y7R"
      },
      "source": [
        "# Clustering with Latent Dirichlet Allocation (LDA)"
      ]
    },
    {
      "cell_type": "markdown",
      "metadata": {
        "id": "uvF0AlS6-dqA"
      },
      "source": [
        "## Introduction\n",
        "\n",
        "We start by clustering our data as an unsupervised learning task: **topic modeling**.\n",
        "\n",
        "There are many different methods to cluster documents. One of these methods is *topic modeling* - where an algorithm assigns a *topic* to each document and clusters these documents by these topics.\n",
        "\n",
        "Documents can be represented as a distribution of their words: their occurrences and frequencies. A set of words, which are relatively not frequent but are common to several documents, can express a document topic.  \n",
        "For example, suppose we locate documents with the words 'Android', 'OnePlus' and 'iPhone' in them. Based on the frequency of these words, we could assume that these documents are related to mobile phones.\n",
        "\n",
        "[Dirichlet](https://en.wikipedia.org/wiki/Dirichlet_distribution) is a distribution on probability distributions. In other words, it can handle the frequency of which a set of words appear (which have by themselves, each one, a frequency).\n",
        "\n",
        "For a deeper mathematical explanation of this distribution, watch this recommended video: https://www.youtube.com/watch?v=nfBNOWv1pgE"
      ]
    },
    {
      "cell_type": "code",
      "source": [
        "YouTubeVideo('nfBNOWv1pgE')"
      ],
      "metadata": {
        "colab": {
          "base_uri": "https://localhost:8080/",
          "height": 321
        },
        "id": "tHzU2nNmpKbp",
        "outputId": "c391569e-cf05-4561-e1bf-3383219caa03"
      },
      "execution_count": null,
      "outputs": [
        {
          "output_type": "execute_result",
          "data": {
            "text/plain": [
              "<IPython.lib.display.YouTubeVideo at 0x7dd8a9713dc0>"
            ],
            "text/html": [
              "\n",
              "        <iframe\n",
              "            width=\"400\"\n",
              "            height=\"300\"\n",
              "            src=\"https://www.youtube.com/embed/nfBNOWv1pgE\"\n",
              "            frameborder=\"0\"\n",
              "            allowfullscreen\n",
              "            \n",
              "        ></iframe>\n",
              "        "
            ],
            "image/jpeg": "[encoded data removed]"
          },
          "metadata": {},
          "execution_count": 5
        }
      ]
    },
    {
      "cell_type": "markdown",
      "source": [
        "LDA is an unsupervised algorithm that assigns topics to every document. These topics are described as a set of words.  \n",
        "Each document can contain several topics - more than just one topic.  \n",
        "For example, some article about Apple can be 80% mobile phones and 20% about business innovations or income.\n",
        "\n",
        "The [LDA paper](https://www.jmlr.org/papers/volume3/blei03a/blei03a.pdf) is a milestone in NLP and one of the recommended readings.\n",
        "\n",
        "If you're interested to learn more about the algorithm method, watch this video: https://www.youtube.com/watch?v=DWJYZq_fQ2A."
      ],
      "metadata": {
        "id": "EtlPh-CJpiM2"
      }
    },
    {
      "cell_type": "code",
      "source": [
        "YouTubeVideo('DWJYZq_fQ2A')"
      ],
      "metadata": {
        "colab": {
          "base_uri": "https://localhost:8080/",
          "height": 321
        },
        "id": "1x0Hfl2LpmQ0",
        "outputId": "fe9027fd-3a59-4eec-a2e4-ed03454ff04d"
      },
      "execution_count": null,
      "outputs": [
        {
          "output_type": "execute_result",
          "data": {
            "text/plain": [
              "<IPython.lib.display.YouTubeVideo at 0x7dd8a9711b10>"
            ],
            "text/html": [
              "\n",
              "        <iframe\n",
              "            width=\"400\"\n",
              "            height=\"300\"\n",
              "            src=\"https://www.youtube.com/embed/DWJYZq_fQ2A\"\n",
              "            frameborder=\"0\"\n",
              "            allowfullscreen\n",
              "            \n",
              "        ></iframe>\n",
              "        "
            ],
            "image/jpeg": "[encoded data removed]"
          },
          "metadata": {},
          "execution_count": 6
        }
      ]
    },
    {
      "cell_type": "markdown",
      "source": [
        "Now, let's examine our German data set with LDA:"
      ],
      "metadata": {
        "id": "nXYgZ4M9plG8"
      }
    },
    {
      "cell_type": "markdown",
      "metadata": {
        "id": "ZjX33ZXRfsM4"
      },
      "source": [
        "In previous exercises, you got to know NLTK.\n",
        "\n",
        "### Stemming\n",
        "Here we will also use NLTK's methods of **stemming** the words. By returning to the root of the word, its stem, we reduce the dimensionality: the number of words in the vocabulary decreases. For example, instead of having different words for the singular and plural form - 'word' <--> 'words' or 'Kanzler', 'Kanzlers', 'Kanzlei', etc., we trim those words into 'Kanzl'. Hence we can reduce the size of the vocabulary by at least half.\n",
        "\n",
        "### Stop Words\n",
        "We will also remove `stopwords` from our text. In English, words such as: `a`, `an`, and `the` will be removed, as they don't add much to the meaning of the sentence. For each language, there is a different curated list of such words, and NLTK is a great source for those.\n",
        "\n",
        "### GenSim\n",
        "In this exercise, you'll be introduced to another package, specialized in topic modeling, called `gensim`:\n",
        "https://radimrehurek.com/gensim/\n",
        "\n"
      ]
    },
    {
      "cell_type": "code",
      "source": [
        "%pip install -U gensim --quiet"
      ],
      "metadata": {
        "id": "wXiy7e3wvTfP"
      },
      "execution_count": 6,
      "outputs": []
    },
    {
      "cell_type": "code",
      "metadata": {
        "id": "dA1Ek-yR4BBG"
      },
      "source": [
        "from pprint import pprint # for printing objects nicely\n",
        "\n",
        "from gensim import corpora, models\n",
        "from gensim.utils import simple_preprocess\n",
        "\n",
        "## Instead of the gensim English stopwords...\n",
        "# from gensim.parsing.preprocessing import STOPWORDS\n",
        "## ...we use nltk's German stopwords:\n",
        "from nltk.corpus import stopwords\n",
        "\n",
        "from nltk.stem.snowball import SnowballStemmer\n",
        "from nltk.stem.porter import *\n",
        "\n",
        "import numpy as np\n",
        "\n",
        "from random import choice\n",
        "\n",
        "np.random.seed(1234)"
      ],
      "execution_count": 7,
      "outputs": []
    },
    {
      "cell_type": "code",
      "source": [
        "# Initialize the Stemmers\n",
        "stemmer = SnowballStemmer('german')\n",
        "german_stop_words = set(stopwords.words('german'))\n",
        "\n",
        "\n",
        "def lemmatize_stemming(text):\n",
        "  \"\"\"lemmatize and stem a word\"\"\"\n",
        "  return stemmer.stem(text)\n",
        "\n",
        "\n",
        "def preprocess(text):\n",
        "  \"\"\"lemmatize and remove stopwords\"\"\"\n",
        "  result = [lemmatize_stemming(token)\n",
        "            for token in simple_preprocess(text)\n",
        "            if token not in german_stop_words and len(token) > 3]\n",
        "  return result\n"
      ],
      "metadata": {
        "id": "2zkoH-LZjmg6"
      },
      "execution_count": 8,
      "outputs": []
    },
    {
      "cell_type": "markdown",
      "metadata": {
        "id": "H9FeFqUmk7hJ"
      },
      "source": [
        "In our DataFrame, we have a table contains the articles and their topics.\n",
        "\n",
        "We only need the articles for this tasks - we will create our own topics. So, let's start by converting the articles column into a ist of all the articles:"
      ]
    },
    {
      "cell_type": "code",
      "metadata": {
        "id": "5Yk3kIqSjY6C",
        "outputId": "7a783c56-753d-434e-9104-83785937f936",
        "colab": {
          "base_uri": "https://localhost:8080/"
        }
      },
      "source": [
        "all_articles = df_articles['content'].to_list()\n",
        "all_articles[:5]"
      ],
      "execution_count": 9,
      "outputs": [
        {
          "output_type": "execute_result",
          "data": {
            "text/plain": [
              "['Die ARD-Tochter Degeto hat sich verpflichtet, ab August einer Quotenregelung zu folgen, die für die Gleichstellung von Regisseurinnen sorgen soll. In mindestens 20 Prozent der Filme, die die ARD-Tochter Degeto produziert oder mitfinanziert, sollen ab Mitte August Frauen Regie führen. Degeto-Chefin Christine Strobl folgt mit dieser Selbstverpflichtung der Forderung von Pro Quote Regie. Die Vereinigung von Regisseurinnen hatte im vergangenen Jahr eine Quotenregelung gefordert, um den weiblichen Filmschaffenden mehr Gehör und ökonomische Gleichstellung zu verschaffen. Pro Quote Regie kritisiert, dass, während rund 50 Prozent der Regie-Studierenden weiblich seien, der Anteil der Regisseurinnen bei Fernsehfilmen nur bei 13 bis 15 Prozent liege. In Österreich sieht die Situation ähnlich aus, auch hier wird von unterschiedlichen Seiten Handlungsbedarf angemahnt. Aber wie soll dieser aussehen? Ist die Einführung der Quotenregelung auch für die österreichische Film- und Fernsehlandschaft sinnvoll? Diskutieren Sie im Forum.',\n",
              " 'App sei nicht so angenommen worden wie geplant. Wegen zu geringer Nutzung schaltet Spiegel Online nach zwei Jahren die Fußball-App aus, die App sei nicht so genutzt worden, wie man sich das vorgestellt habe. Dafür soll der Live-Fußball-Bereich in der News-App ausgebaut werden.',\n",
              " 'Mitarbeiter überreichten Eigentümervertretern Petition gegen Personalabbau. Wien – Mehrere hundert APA-Mitarbeiter haben laut dem Betriebsrat eine Resolution unterschrieben, die am Mittwoch den Eigentümervertretern übergeben wurde. Inhalt ist ein deutlicher Protest gegen den geplanten Personalabbau (DER STANDARD berichtete) und für eine Gleichstellung der Mitarbeiter von APA-Tochterunternehmen bei automatischen Gehaltsanpassungen. Ich lehne erneute Personalkürzungen oder gar Kündigungen, wie sie derzeit insbesondere in der Redaktion geplant sind, ab und unterstütze die Forderung nach einer verpflichtenden Weitergabe der jährlichen Ist-Erhöhung der Gehälter für alle MitarbeiterInnen der APA-Gruppe, heißt es in der Resolution. Sie wurde den Teilnehmern von Aufsichtsrats- und Vorstandssitzung von denen der zeitgleich stattfindenden Betriebsversammlung übergeben. Hauptkritikpunkt der Belegschaft ist, dass Sparmaßnahmen angekündigt würden, obwohl die APA seit Jahren Gewinne schreibe. Die als Genossenschaft organisierte Agentur gehört zu 45 Prozent dem ORF, den Rest teilen sich 13 Tageszeitungen. Ihnen wirft der Betriebsrat vor, Gewinne einzustreifen und gleichzeitig Sparprogramme zu verordnen. Peter Kropsch, Vorsitzender der APA-Geschäftsführung, versteht die Aufregung nicht vollends. Die APA sei ein gewinnorientiertes Unternehmen, das auch in Zukunft stabil aufgestellt sein müsse, sagt er zum STANDARD. Der Betriebsrat glaubt, dass man die Kosten einfach unbegrenzt weiterlaufen lassen kann, so Kropsch. Für 2016 steige das Personalbudget sogar, allerdings würden automatische Gehaltserhöhungen die Kosten für den einzelnen Mitarbeiter steigen lassen. Ob die APA die Qualität auch mit weniger Mitarbeitern aufrechterhalten könne? Na klar, sagt Kropsch – unter vergleichbaren Agenturen in Europa sei man am breitesten aufgestellt, da habe ich keine Angst. Persönlich habe er außerdem nur eine geringe Beteiligung an der Betriebsversammlung wahrgenommen.',\n",
              " 'Service: Jobwechsel in der Kommunikationsbranche im Überblick. Hier liefert derStandard.at/Etat Jobwechsel in der Kommunikationsbranche im Überblick. Grob sortiert nach Kalenderwochen, in denen die Infos einlangten. Quellen: Presse- und eigene Infos, andere Branchendienste wie Horizont.at und medianet.at. Wenn Sie Infos für uns haben, bitte ein Mail an etat@derstandard.at schicken. Woche 15 / 2017 Woche 14 / 2017 Woche 13 / 2017 Woche 12 / 2017 Woche 9 / 2017 Woche 8 / 2017 Woche 7 / 2017 Spannende neue Aufgaben voraus: ich mach ab Februar die Nachrichten auf @kurierat. Ich freu mich auch. https://t.co/0zC6EsrXe3 Woche 2 / 2017 Freu mich: Die ausgezeichnete Journalistin Münire Inam vom #ORFreport moderiert (alternierend mit Martina Rupp) ab 23.1. heute konkret! Wie es im kommenden Jahr weitergeht, lasse ich euch bald wissen. Es warten spannende neue Herausforderungen. Woche 45 / 2016 Stefan Huber wechselt von Media in Progress zu content garden technologies und übernimmt den Ausbau der Content Management Unit. Mich interessieren vor allem die Möglichkeiten, die sich aus der Kombination von Content und Technologie ergeben, sagt er.  Woche 43 / 2016 Woche 41 / 2016 Woche 38 / 2016 Woche 37 / 2016 Woche 33 / 2016  Woche 31 / 2016 Woche 30 / 2016 Krone-Anzeigenvermarktung: Thomas Kreuzer leitet die Branchenvermarktung Special Account, Thomas Grojer übernimmt die Regionalleitung Wien und Stammausgabe. Sie folgen in ihren neuen Funktionen Friedrich Dungl nach, der als Geschäftsführer in das Niederösterreichische Pressehaus wechselt. Woche 18 /2016 Vielen Dank! Ich verspreche auch, nicht über die Alpenrepublik und das Schnitzelland zu schreiben. https://t.co/zqj0HXZ7dD Andreas Csar wechselt vom Verband Österreichischer Zeitungen (VÖZ) als Leiter der Presse- und Öffentlichkeitsarbeit zur Stelle des Pressesprechers bei ecoplus (Wirtschaftsagentur des Landes Niederösterreichs). Woche 11 / 2016 Woche 6 / 2016 Woche 5 / 2016 Woche 4 / 2016 Die ÖBB holen Sven Pusswald von der OMV als Leiter der Konzernkommunikation & Public Affairs.',\n",
              " 'Was Sie über diese Woche wissen sollten - und was Sie gleich wieder vergessen können. Wien - Was hat sich diese Woche getan in der Medienwelt? Ist Ihnen da  nichts entgangen? Besser noch einmal durchchecken – im  Etat.at-Wochenquiz. Wir wünschen viel Spaß beim Mitmachen! Und für alle, die vorige Woche nicht so viel Zeit hatten, Medien-Nachrichten zu lesen: ein nützlicher Link.']"
            ]
          },
          "metadata": {},
          "execution_count": 9
        }
      ]
    },
    {
      "cell_type": "markdown",
      "metadata": {
        "id": "LNnJfuDllNhz"
      },
      "source": [
        "## Preprocessing\n",
        "\n",
        "Let's see an example, what happens when we pre-process a document.\n",
        "\n",
        "Look at the output of this cell, and compare the tokenized original document, to the lemmatized document:\n",
        "\n",
        "My observations: The lemmatized (preprocessed) document has fewer unique tokens/words because of the lemmatization, the removal of words of length 3 or shorter, and the removal of stopwords. Every token is in lowercase now. There also aren't any numbers in the lemmatized document anymore."
      ]
    },
    {
      "cell_type": "code",
      "metadata": {
        "id": "oVI6_TKjjm2B",
        "outputId": "f264b266-d250-4ce4-c8a5-c6fa1b37b843",
        "colab": {
          "base_uri": "https://localhost:8080/"
        }
      },
      "source": [
        "print('original document: ')\n",
        "article = choice(all_articles)\n",
        "print(article, \"\\n\")\n",
        "\n",
        "# This time, we don't care about punctuations as tokens (Can you think why?): #my guess: because in the preprocess function we omit all words of length 3 or shorter anyway and we lemmatise/stem so punctuation at the end of a word will also be removed.\n",
        "print('original document, broken into words: ')\n",
        "words = [word for word in article.split(' ')]\n",
        "print(words, \"\\n\")\n",
        "print(\"Vocabulary size of the original article:\", len(set(words)))\n",
        "\n",
        "# now let's see what happens when we pass the article into our preprocessing\n",
        "# method:\n",
        "print('\\n\\n tokenized and lemmatized document: ')\n",
        "preprocessed_article = preprocess(article)\n",
        "print(preprocessed_article, '\\n')\n",
        "print(\"Vocabulary size after preprocessing:\", len(set(preprocessed_article)))\n"
      ],
      "execution_count": 10,
      "outputs": [
        {
          "output_type": "stream",
          "name": "stdout",
          "text": [
            "original document: \n",
            "Neue Ausgabe mit optionaler Full-HD-Variante und neun Stunden Akkulaufzeit. Der IT-Konzern Hewlett-Packard hat die zweite Generation seines 2014 vorgestellten Chromebook 14-Laptops vorgestellt. Dabei verabschiedet sich das Unternehmen von Nvidias Tegra-Plattform und wechselt zum Konkurrenten Intel. Die aktuelle Fassung des Geräts nützt als Unterbau einen passiv gekühlten Celeron-Chip, wie man ihn auch in anderen Geräten mit Chrome OS findet. Bei 17,8 Millimeter Dicke wiegt es rund 1,79 Kilogramm. HP verspricht, dass das neue Chromebook über neun Stunden Nutzung verkraftet, bis der Akku wieder geladen werden muss. Es gibt einen USB 3.0- und zwei USB 2.0-Steckplätze sowie einen HDMI-Ausgang und einen integrierten microSD-Kartenleser. Die USB-Anschlüsse können zum Aufladen anderer Geräte genutzt werden, wenn das Chromebook 14 ausgeschalten und mit einer Stromquelle verbunden ist. Käufer erhalten 100 GB Speicher bei Google Drive für zwei Jahre und drei Monate lang kostenlosen Zugang zum Streamingdienst Play Music. Das Standard-Modell des Chromebook 14 bringt ein Display mit 1.366 x 768 Pixel mit und wird zum Start in den USA 250 Dollar kosten. Für 30 Dollar mehr bietet HP auch eine Version mit Full-HD-Panel an. Verfügbar wird das Gerät ab 8. November, Details zur internationalen Verfügbarkeit gibt es noch nicht. \n",
            "\n",
            "original document, broken into words: \n",
            "['Neue', 'Ausgabe', 'mit', 'optionaler', 'Full-HD-Variante', 'und', 'neun', 'Stunden', 'Akkulaufzeit.', 'Der', 'IT-Konzern', 'Hewlett-Packard', 'hat', 'die', 'zweite', 'Generation', 'seines', '2014', 'vorgestellten', 'Chromebook', '14-Laptops', 'vorgestellt.', 'Dabei', 'verabschiedet', 'sich', 'das', 'Unternehmen', 'von', 'Nvidias', 'Tegra-Plattform', 'und', 'wechselt', 'zum', 'Konkurrenten', 'Intel.', 'Die', 'aktuelle', 'Fassung', 'des', 'Geräts', 'nützt', 'als', 'Unterbau', 'einen', 'passiv', 'gekühlten', 'Celeron-Chip,', 'wie', 'man', 'ihn', 'auch', 'in', 'anderen', 'Geräten', 'mit', 'Chrome', 'OS', 'findet.', 'Bei', '17,8', 'Millimeter', 'Dicke', 'wiegt', 'es', 'rund', '1,79', 'Kilogramm.', 'HP', 'verspricht,', 'dass', 'das', 'neue', 'Chromebook', 'über', 'neun', 'Stunden', 'Nutzung', 'verkraftet,', 'bis', 'der', 'Akku', 'wieder', 'geladen', 'werden', 'muss.', 'Es', 'gibt', 'einen', 'USB', '3.0-', 'und', 'zwei', 'USB', '2.0-Steckplätze', 'sowie', 'einen', 'HDMI-Ausgang', 'und', 'einen', 'integrierten', 'microSD-Kartenleser.', 'Die', 'USB-Anschlüsse', 'können', 'zum', 'Aufladen', 'anderer', 'Geräte', 'genutzt', 'werden,', 'wenn', 'das', 'Chromebook', '14', 'ausgeschalten', 'und', 'mit', 'einer', 'Stromquelle', 'verbunden', 'ist.', 'Käufer', 'erhalten', '100', 'GB', 'Speicher', 'bei', 'Google', 'Drive', 'für', 'zwei', 'Jahre', 'und', 'drei', 'Monate', 'lang', 'kostenlosen', 'Zugang', 'zum', 'Streamingdienst', 'Play', 'Music.', 'Das', 'Standard-Modell', 'des', 'Chromebook', '14', 'bringt', 'ein', 'Display', 'mit', '1.366', 'x', '768', 'Pixel', 'mit', 'und', 'wird', 'zum', 'Start', 'in', 'den', 'USA', '250', 'Dollar', 'kosten.', 'Für', '30', 'Dollar', 'mehr', 'bietet', 'HP', 'auch', 'eine', 'Version', 'mit', 'Full-HD-Panel', 'an.', 'Verfügbar', 'wird', 'das', 'Gerät', 'ab', '8.', 'November,', 'Details', 'zur', 'internationalen', 'Verfügbarkeit', 'gibt', 'es', 'noch', 'nicht.'] \n",
            "\n",
            "Vocabulary size of the original article: 156\n",
            "\n",
            "\n",
            " tokenized and lemmatized document: \n",
            "['neu', 'ausgab', 'optional', 'full', 'variant', 'neun', 'stund', 'akkulaufzeit', 'konz', 'hewlett', 'packard', 'zweit', 'generation', 'vorgestellt', 'chromebook', 'laptops', 'vorgestellt', 'dabei', 'verabschiedet', 'unternehm', 'nvidias', 'tegra', 'plattform', 'wechselt', 'konkurrent', 'intel', 'aktuell', 'fassung', 'gerat', 'nutzt', 'unterbau', 'passiv', 'gekuhlt', 'celeron', 'chip', 'gerat', 'chrom', 'findet', 'millimet', 'dick', 'wiegt', 'rund', 'kilogramm', 'verspricht', 'neu', 'chromebook', 'neun', 'stund', 'nutzung', 'verkraftet', 'akku', 'gelad', 'gibt', 'zwei', 'steckplatz', 'sowi', 'hdmi', 'ausgang', 'integriert', 'microsd', 'kartenles', 'anschluss', 'auflad', 'gerat', 'genutzt', 'chromebook', 'ausgeschalt', 'stromquell', 'verbund', 'kauf', 'erhalt', 'speich', 'googl', 'driv', 'zwei', 'jahr', 'drei', 'monat', 'lang', 'kostenlos', 'zugang', 'streamingdien', 'play', 'music', 'standard', 'modell', 'chromebook', 'bringt', 'display', 'pixel', 'start', 'dollar', 'kost', 'dollar', 'mehr', 'bietet', 'version', 'full', 'panel', 'verfugbar', 'gerat', 'novemb', 'detail', 'international', 'verfugbar', 'gibt'] \n",
            "\n",
            "Vocabulary size after preprocessing: 91\n"
          ]
        }
      ]
    },
    {
      "cell_type": "markdown",
      "metadata": {
        "id": "DDVOwyaIlL52"
      },
      "source": [
        "Now let's pre-process all the documents.  \n",
        "This is a heavy procedure, and may take a bit ;)"
      ]
    },
    {
      "cell_type": "code",
      "metadata": {
        "id": "2pQYw_aYkq-_",
        "outputId": "0096dd0f-b52a-4ab7-9b2f-fb86b1ae3c71",
        "colab": {
          "base_uri": "https://localhost:8080/"
        }
      },
      "source": [
        "processed_docs = list(map(preprocess, all_articles))\n",
        "processed_docs[:10]"
      ],
      "execution_count": 11,
      "outputs": [
        {
          "output_type": "execute_result",
          "data": {
            "text/plain": [
              "[['tocht',\n",
              "  'degeto',\n",
              "  'verpflichtet',\n",
              "  'august',\n",
              "  'quotenregel',\n",
              "  'folg',\n",
              "  'gleichstell',\n",
              "  'regisseurinn',\n",
              "  'sorg',\n",
              "  'mindest',\n",
              "  'prozent',\n",
              "  'film',\n",
              "  'tocht',\n",
              "  'degeto',\n",
              "  'produziert',\n",
              "  'mitfinanziert',\n",
              "  'soll',\n",
              "  'mitt',\n",
              "  'august',\n",
              "  'frau',\n",
              "  'regi',\n",
              "  'fuhr',\n",
              "  'degeto',\n",
              "  'chefin',\n",
              "  'christin',\n",
              "  'strobl',\n",
              "  'folgt',\n",
              "  'forder',\n",
              "  'quot',\n",
              "  'regi',\n",
              "  'verein',\n",
              "  'regisseurinn',\n",
              "  'vergang',\n",
              "  'jahr',\n",
              "  'quotenregel',\n",
              "  'gefordert',\n",
              "  'weiblich',\n",
              "  'filmschaff',\n",
              "  'mehr',\n",
              "  'gehor',\n",
              "  'okonom',\n",
              "  'gleichstell',\n",
              "  'verschaff',\n",
              "  'quot',\n",
              "  'regi',\n",
              "  'kritisiert',\n",
              "  'rund',\n",
              "  'prozent',\n",
              "  'regi',\n",
              "  'studier',\n",
              "  'weiblich',\n",
              "  'seien',\n",
              "  'anteil',\n",
              "  'regisseurinn',\n",
              "  'fernsehfilm',\n",
              "  'prozent',\n",
              "  'lieg',\n",
              "  'osterreich',\n",
              "  'sieht',\n",
              "  'situation',\n",
              "  'ahnlich',\n",
              "  'seit',\n",
              "  'handlungsbedarf',\n",
              "  'angemahnt',\n",
              "  'ausseh',\n",
              "  'einfuhr',\n",
              "  'quotenregel',\n",
              "  'osterreich',\n",
              "  'film',\n",
              "  'sinnvoll',\n",
              "  'diskuti',\n",
              "  'forum'],\n",
              " ['angenomm',\n",
              "  'word',\n",
              "  'geplant',\n",
              "  'weg',\n",
              "  'gering',\n",
              "  'nutzung',\n",
              "  'schaltet',\n",
              "  'spiegel',\n",
              "  'onlin',\n",
              "  'zwei',\n",
              "  'jahr',\n",
              "  'fussball',\n",
              "  'genutzt',\n",
              "  'word',\n",
              "  'vorgestellt',\n",
              "  'dafur',\n",
              "  'liv',\n",
              "  'fussball',\n",
              "  'bereich',\n",
              "  'news',\n",
              "  'ausgebaut'],\n",
              " ['mitarbeit',\n",
              "  'uberreicht',\n",
              "  'petition',\n",
              "  'personalabbau',\n",
              "  'wien',\n",
              "  'mehr',\n",
              "  'hundert',\n",
              "  'mitarbeit',\n",
              "  'laut',\n",
              "  'betriebsrat',\n",
              "  'resolution',\n",
              "  'unterschrieb',\n",
              "  'mittwoch',\n",
              "  'ubergeb',\n",
              "  'wurd',\n",
              "  'inhalt',\n",
              "  'deutlich',\n",
              "  'prot',\n",
              "  'geplant',\n",
              "  'personalabbau',\n",
              "  'standard',\n",
              "  'berichtet',\n",
              "  'gleichstell',\n",
              "  'mitarbeit',\n",
              "  'automat',\n",
              "  'lehn',\n",
              "  'erneut',\n",
              "  'kundig',\n",
              "  'derzeit',\n",
              "  'insbesond',\n",
              "  'redaktion',\n",
              "  'geplant',\n",
              "  'unterstutz',\n",
              "  'forder',\n",
              "  'verpflicht',\n",
              "  'weitergab',\n",
              "  'jahrlich',\n",
              "  'erhoh',\n",
              "  'gehalt',\n",
              "  'grupp',\n",
              "  'heisst',\n",
              "  'resolution',\n",
              "  'wurd',\n",
              "  'teilnehm',\n",
              "  'aufsichtsrat',\n",
              "  'den',\n",
              "  'zeitgleich',\n",
              "  'stattfind',\n",
              "  'ubergeb',\n",
              "  'belegschaft',\n",
              "  'sparmassnahm',\n",
              "  'angekundigt',\n",
              "  'obwohl',\n",
              "  'seit',\n",
              "  'jahr',\n",
              "  'gewinn',\n",
              "  'schreib',\n",
              "  'genossenschaft',\n",
              "  'organisiert',\n",
              "  'agentur',\n",
              "  'gehort',\n",
              "  'prozent',\n",
              "  'rest',\n",
              "  'teil',\n",
              "  'tageszeit',\n",
              "  'wirft',\n",
              "  'betriebsrat',\n",
              "  'gewinn',\n",
              "  'einzustreif',\n",
              "  'gleichzeit',\n",
              "  'sparprogramm',\n",
              "  'verordn',\n",
              "  'pet',\n",
              "  'kropsch',\n",
              "  'vorsitz',\n",
              "  'versteht',\n",
              "  'aufreg',\n",
              "  'vollend',\n",
              "  'unternehm',\n",
              "  'zukunft',\n",
              "  'stabil',\n",
              "  'aufgestellt',\n",
              "  'muss',\n",
              "  'sagt',\n",
              "  'standard',\n",
              "  'betriebsrat',\n",
              "  'glaubt',\n",
              "  'kost',\n",
              "  'einfach',\n",
              "  'unbegrenzt',\n",
              "  'weiterlauf',\n",
              "  'lass',\n",
              "  'kropsch',\n",
              "  'steig',\n",
              "  'personalbudget',\n",
              "  'sogar',\n",
              "  'allerding',\n",
              "  'automat',\n",
              "  'kost',\n",
              "  'einzeln',\n",
              "  'mitarbeit',\n",
              "  'steig',\n",
              "  'lass',\n",
              "  'qualitat',\n",
              "  'wenig',\n",
              "  'mitarbeit',\n",
              "  'konn',\n",
              "  'klar',\n",
              "  'sagt',\n",
              "  'kropsch',\n",
              "  'vergleichbar',\n",
              "  'agentur',\n",
              "  'europa',\n",
              "  'breit',\n",
              "  'aufgestellt',\n",
              "  'angst',\n",
              "  'person',\n",
              "  'ausserd',\n",
              "  'gering',\n",
              "  'beteil',\n",
              "  'wahrgenomm'],\n",
              " ['servic',\n",
              "  'jobwechsel',\n",
              "  'uberblick',\n",
              "  'liefert',\n",
              "  'derstandard',\n",
              "  'etat',\n",
              "  'jobwechsel',\n",
              "  'uberblick',\n",
              "  'grob',\n",
              "  'sortiert',\n",
              "  'kalenderwoch',\n",
              "  'den',\n",
              "  'infos',\n",
              "  'einlangt',\n",
              "  'quell',\n",
              "  'press',\n",
              "  'eig',\n",
              "  'infos',\n",
              "  'branchendien',\n",
              "  'horizont',\n",
              "  'medianet',\n",
              "  'infos',\n",
              "  'bitt',\n",
              "  'mail',\n",
              "  'etat',\n",
              "  'derstandard',\n",
              "  'schick',\n",
              "  'woch',\n",
              "  'woch',\n",
              "  'woch',\n",
              "  'woch',\n",
              "  'woch',\n",
              "  'woch',\n",
              "  'woch',\n",
              "  'spannend',\n",
              "  'neu',\n",
              "  'aufgab',\n",
              "  'voraus',\n",
              "  'mach',\n",
              "  'februar',\n",
              "  'nachricht',\n",
              "  'kurierat',\n",
              "  'freu',\n",
              "  'https',\n",
              "  'esrx',\n",
              "  'woch',\n",
              "  'freu',\n",
              "  'ausgezeichnet',\n",
              "  'journalistin',\n",
              "  'munir',\n",
              "  'inam',\n",
              "  'orfreport',\n",
              "  'moderiert',\n",
              "  'alternier',\n",
              "  'martina',\n",
              "  'rupp',\n",
              "  'heut',\n",
              "  'konkret',\n",
              "  'kommend',\n",
              "  'jahr',\n",
              "  'weitergeht',\n",
              "  'lass',\n",
              "  'bald',\n",
              "  'wiss',\n",
              "  'wart',\n",
              "  'spannend',\n",
              "  'neu',\n",
              "  'woch',\n",
              "  'stefan',\n",
              "  'hub',\n",
              "  'wechselt',\n",
              "  'media',\n",
              "  'progress',\n",
              "  'content',\n",
              "  'gard',\n",
              "  'technologi',\n",
              "  'ubernimmt',\n",
              "  'ausbau',\n",
              "  'content',\n",
              "  'management',\n",
              "  'unit',\n",
              "  'interessi',\n",
              "  'moglich',\n",
              "  'kombination',\n",
              "  'content',\n",
              "  'technologi',\n",
              "  'ergeb',\n",
              "  'sagt',\n",
              "  'woch',\n",
              "  'woch',\n",
              "  'woch',\n",
              "  'woch',\n",
              "  'woch',\n",
              "  'woch',\n",
              "  'woch',\n",
              "  'kron',\n",
              "  'thomas',\n",
              "  'kreuz',\n",
              "  'leitet',\n",
              "  'special',\n",
              "  'account',\n",
              "  'thomas',\n",
              "  'groj',\n",
              "  'ubernimmt',\n",
              "  'regionalleit',\n",
              "  'wien',\n",
              "  'stammausgab',\n",
              "  'folg',\n",
              "  'neu',\n",
              "  'funktion',\n",
              "  'friedrich',\n",
              "  'dungl',\n",
              "  'geschaftsfuhr',\n",
              "  'pressehaus',\n",
              "  'wechselt',\n",
              "  'woch',\n",
              "  'viel',\n",
              "  'dank',\n",
              "  'versprech',\n",
              "  'alpenrepubl',\n",
              "  'schnitzelland',\n",
              "  'schreib',\n",
              "  'https',\n",
              "  'andreas',\n",
              "  'csar',\n",
              "  'wechselt',\n",
              "  'verband',\n",
              "  'zeitung',\n",
              "  'leit',\n",
              "  'press',\n",
              "  'stell',\n",
              "  'pressesprech',\n",
              "  'ecoplus',\n",
              "  'land',\n",
              "  'woch',\n",
              "  'woch',\n",
              "  'woch',\n",
              "  'woch',\n",
              "  'hol',\n",
              "  'sven',\n",
              "  'pusswald',\n",
              "  'leit',\n",
              "  'public',\n",
              "  'affair'],\n",
              " ['woch',\n",
              "  'wiss',\n",
              "  'sollt',\n",
              "  'gleich',\n",
              "  'vergess',\n",
              "  'wien',\n",
              "  'woch',\n",
              "  'getan',\n",
              "  'medienwelt',\n",
              "  'entgang',\n",
              "  'bess',\n",
              "  'durchcheck',\n",
              "  'etat',\n",
              "  'wochenquiz',\n",
              "  'wunsch',\n",
              "  'spass',\n",
              "  'beim',\n",
              "  'mitmach',\n",
              "  'vorig',\n",
              "  'woch',\n",
              "  'zeit',\n",
              "  'medi',\n",
              "  'nachricht',\n",
              "  'les',\n",
              "  'nutzlich',\n",
              "  'link'],\n",
              " ['woch',\n",
              "  'wiss',\n",
              "  'sollt',\n",
              "  'gleich',\n",
              "  'vergess',\n",
              "  'wien',\n",
              "  'woch',\n",
              "  'getan',\n",
              "  'medienwelt',\n",
              "  'entgang',\n",
              "  'bess',\n",
              "  'durchcheck',\n",
              "  'etat',\n",
              "  'wochenquiz',\n",
              "  'wunsch',\n",
              "  'spass',\n",
              "  'beim',\n",
              "  'mitmach',\n",
              "  'vorig',\n",
              "  'woch',\n",
              "  'zeit',\n",
              "  'medi',\n",
              "  'nachricht',\n",
              "  'les',\n",
              "  'nutzlich',\n",
              "  'link'],\n",
              " ['mocht',\n",
              "  'eig',\n",
              "  'plattform',\n",
              "  'aufbau',\n",
              "  'les',\n",
              "  'unterstutzt',\n",
              "  'irgendwas',\n",
              "  'medi',\n",
              "  'recht',\n",
              "  'vag',\n",
              "  'stefan',\n",
              "  'niggemei',\n",
              "  'plant',\n",
              "  'jedenfall',\n",
              "  'deutsch',\n",
              "  'onlinemagazin',\n",
              "  'krautreport',\n",
              "  'verlasst',\n",
              "  'niggemei',\n",
              "  'herausgeb',\n",
              "  'initiator',\n",
              "  'kritisch',\n",
              "  'bild',\n",
              "  'blog',\n",
              "  'kundigt',\n",
              "  'neu',\n",
              "  'plattform',\n",
              "  'medienkrit',\n",
              "  'einbezieh',\n",
              "  'les',\n",
              "  'blog',\n",
              "  'schreibt',\n",
              "  'niggemei',\n",
              "  'projekt',\n",
              "  'krautreport',\n",
              "  'richtig',\n",
              "  'findet',\n",
              "  'umsetz',\n",
              "  'vorstell',\n",
              "  'verlief',\n",
              "  'grosst',\n",
              "  'einzeln',\n",
              "  'fehl',\n",
              "  'meinung',\n",
              "  'eig',\n",
              "  'softwar',\n",
              "  'programmi',\n",
              "  'lass',\n",
              "  'zeit',\n",
              "  'geld',\n",
              "  'nerv',\n",
              "  'gekostet',\n",
              "  'teilweis',\n",
              "  'richtig',\n",
              "  'funktioniert',\n",
              "  'zentral',\n",
              "  'probl',\n",
              "  'verortet',\n",
              "  'redaktionell',\n",
              "  'bereich',\n",
              "  'rot',\n",
              "  'fad',\n",
              "  'gefehlt',\n",
              "  'trieb',\n",
              "  'lust',\n",
              "  'neu',\n",
              "  'geschaftsmodell',\n",
              "  'auszuprobi',\n",
              "  'unbedingt',\n",
              "  'gemeinsam',\n",
              "  'redaktionell',\n",
              "  'ide',\n",
              "  'tat',\n",
              "  'schwer',\n",
              "  'defini',\n",
              "  'worub',\n",
              "  'bericht',\n",
              "  'niggemei',\n",
              "  'verliert',\n",
              "  'krautreport',\n",
              "  'bekannt',\n",
              "  'journalist',\n",
              "  'portal',\n",
              "  'wurd',\n",
              "  'jahr',\n",
              "  'erfolgreich',\n",
              "  'crowdfunding',\n",
              "  'tauf',\n",
              "  'gehob',\n",
              "  'finanzier',\n",
              "  'gelang',\n",
              "  'nachd',\n",
              "  'mitglied',\n",
              "  'jahresabo',\n",
              "  'euro',\n",
              "  'abschloss',\n",
              "  'krautreport',\n",
              "  'weitergeht',\n",
              "  'nach',\n",
              "  'woch',\n",
              "  'zeig',\n",
              "  'mitglied',\n",
              "  'muss',\n",
              "  'namlich',\n",
              "  'verlang',\n",
              "  'zweit',\n",
              "  'jahr',\n",
              "  'geh'],\n",
              " ['fest',\n",
              "  'redaktion',\n",
              "  'umwandl',\n",
              "  'genossenschaft',\n",
              "  'steht',\n",
              "  'kurz',\n",
              "  'bevor',\n",
              "  'berlin',\n",
              "  'wien',\n",
              "  'angesagt',\n",
              "  'revolution',\n",
              "  'verandert',\n",
              "  'form',\n",
              "  'fortgesetzt',\n",
              "  'krautreport',\n",
              "  'genossenschaft',\n",
              "  'umgewandelt',\n",
              "  'muss',\n",
              "  'gefund',\n",
              "  'einlag',\n",
              "  'zumind',\n",
              "  'euro',\n",
              "  'beteil',\n",
              "  'erst',\n",
              "  'zahl',\n",
              "  'erreicht',\n",
              "  'genossenschaft',\n",
              "  'eingetrag',\n",
              "  'daran',\n",
              "  'scheit',\n",
              "  'plattform',\n",
              "  'bish',\n",
              "  'gesellschaft',\n",
              "  'beschrankt',\n",
              "  'haftung',\n",
              "  'weitergefuhrt',\n",
              "  'mitglied',\n",
              "  'haft',\n",
              "  'hoh',\n",
              "  'einlag',\n",
              "  'besteht',\n",
              "  'unabhang',\n",
              "  'einlagenhoh',\n",
              "  'mitglied',\n",
              "  'stimm',\n",
              "  'erhalt',\n",
              "  'eingenomm',\n",
              "  'euro',\n",
              "  'soll',\n",
              "  'verwendet',\n",
              "  'besteh',\n",
              "  'portal',\n",
              "  'journalismus',\n",
              "  'crowdfunding',\n",
              "  'plattform',\n",
              "  'erweit',\n",
              "  'erst',\n",
              "  'jahr',\n",
              "  'besteh',\n",
              "  'krautreport',\n",
              "  'uneingeschrankt',\n",
              "  'zufried',\n",
              "  'text',\n",
              "  'bish',\n",
              "  'erschi',\n",
              "  'wenig',\n",
              "  'anfang',\n",
              "  'geplant',\n",
              "  'stefan',\n",
              "  'niggermei',\n",
              "  'kritisiert',\n",
              "  'austritt',\n",
              "  'kollektiv',\n",
              "  'fehlend',\n",
              "  'redaktionell',\n",
              "  'lini',\n",
              "  'geschaff',\n",
              "  'fest',\n",
              "  'redaktion',\n",
              "  'vorteil',\n",
              "  'mitgliedschaft',\n",
              "  'abseit',\n",
              "  'genossenschaft',\n",
              "  'soll',\n",
              "  'ausgebaut',\n",
              "  'planung',\n",
              "  'beispielsweis',\n",
              "  'mitglied',\n",
              "  'lauf',\n",
              "  'oktob',\n",
              "  'davon',\n",
              "  'ziel',\n",
              "  'gesetzt',\n",
              "  'soll',\n",
              "  'zumind',\n",
              "  'verlangert',\n",
              "  'eig',\n",
              "  'angab',\n",
              "  'benotigt',\n",
              "  'plattform',\n",
              "  'mindest',\n",
              "  'unterstutz',\n",
              "  'fortgefuhrt'],\n",
              " ['nachricht',\n",
              "  'drei',\n",
              "  'jahr',\n",
              "  'finanzier',\n",
              "  'gescheitert',\n",
              "  'york',\n",
              "  'news',\n",
              "  'circa',\n",
              "  'speziell',\n",
              "  'smartphon',\n",
              "  'drei',\n",
              "  'jahr',\n",
              "  'end',\n",
              "  'team',\n",
              "  'geld',\n",
              "  'ausgegang',\n",
              "  'betrieb',\n",
              "  'weit',\n",
              "  'eingestellt',\n",
              "  'erklart',\n",
              "  'mitgrund',\n",
              "  'matt',\n",
              "  'galligan',\n",
              "  'mittwoch',\n",
              "  'konzept',\n",
              "  'circa',\n",
              "  'klein',\n",
              "  'happch',\n",
              "  'runterzubrech',\n",
              "  'smartphon',\n",
              "  'bildschirm',\n",
              "  'pass',\n",
              "  'nutz',\n",
              "  'updat',\n",
              "  'aktuell',\n",
              "  'entwickl',\n",
              "  'laufend',\n",
              "  'halt',\n",
              "  'ide',\n",
              "  'mach',\n",
              "  'laut',\n",
              "  'medienbericht',\n",
              "  'rund',\n",
              "  'funf',\n",
              "  'million',\n",
              "  'dollar',\n",
              "  'investor',\n",
              "  'eingesammelt',\n",
              "  'mehr',\n",
              "  'etabliert',\n",
              "  'journalist',\n",
              "  'angeworb',\n",
              "  'circa',\n",
              "  'gelung',\n",
              "  'weit',\n",
              "  'investment',\n",
              "  'einzufadeln',\n",
              "  'bevor',\n",
              "  'ressourc',\n",
              "  'knapp',\n",
              "  'geword',\n",
              "  'seien',\n",
              "  'schrieb',\n",
              "  'galligan',\n",
              "  'blog',\n",
              "  'plattform',\n",
              "  'medium',\n",
              "  'hatt',\n",
              "  'versuch',\n",
              "  'werbung',\n",
              "  'gebuhr',\n",
              "  'rund',\n",
              "  'komm',\n",
              "  'raumt',\n",
              "  'hatt',\n",
              "  'vision',\n",
              "  'dien',\n",
              "  'widersproch',\n",
              "  'wohl',\n",
              "  'genug',\n",
              "  'eingebracht',\n",
              "  'sagt',\n",
              "  'galligan',\n",
              "  'circa',\n",
              "  'bereit',\n",
              "  'seit',\n",
              "  'montag',\n",
              "  'mehr',\n",
              "  'veroffentlicht'],\n",
              " ['news',\n",
              "  'interess',\n",
              "  'les',\n",
              "  'ausgeliefert',\n",
              "  'wien',\n",
              "  'london',\n",
              "  'britisch',\n",
              "  'bringt',\n",
              "  'neu',\n",
              "  'international',\n",
              "  'news',\n",
              "  'android',\n",
              "  'auf',\n",
              "  'handy',\n",
              "  'ansatz',\n",
              "  'soll',\n",
              "  'nachricht',\n",
              "  'praferenz',\n",
              "  'les',\n",
              "  'lief',\n",
              "  'biet',\n",
              "  'kombination',\n",
              "  'stori',\n",
              "  'meist',\n",
              "  'geles',\n",
              "  'geschicht',\n",
              "  'person',\n",
              "  'ausgewahlt',\n",
              "  'empfohl',\n",
              "  'them',\n",
              "  'gebiet',\n",
              "  'bereich',\n",
              "  'news',\n",
              "  'gelang',\n",
              "  'les',\n",
              "  'geschicht',\n",
              "  'meist',\n",
              "  'interessi',\n",
              "  'konnt',\n",
              "  'anhand',\n",
              "  'list',\n",
              "  'basier',\n",
              "  'geles',\n",
              "  'artikel',\n",
              "  'eingab',\n",
              "  'suchfeld',\n",
              "  'benutz',\n",
              "  'them',\n",
              "  'innerhalb',\n",
              "  'artikel',\n",
              "  'folg',\n",
              "  'wirklich',\n",
              "  'person',\n",
              "  'servic',\n",
              "  'schaff',\n",
              "  'geschicht',\n",
              "  'themat',\n",
              "  'chronolog',\n",
              "  'geordnet',\n",
              "  'heisst',\n",
              "  'aussend',\n",
              "  'seit',\n",
              "  'start',\n",
              "  'freitag',\n",
              "  'bereit',\n",
              "  'million',\n",
              "  'heruntergelad',\n",
              "  'word',\n",
              "  'laut',\n",
              "  'konsumi',\n",
              "  'mittlerweil',\n",
              "  'prozent',\n",
              "  'nutz',\n",
              "  'news',\n",
              "  'smartphon',\n",
              "  'tablet',\n",
              "  'erst',\n",
              "  'prozent']]"
            ]
          },
          "metadata": {},
          "execution_count": 11
        }
      ]
    },
    {
      "cell_type": "markdown",
      "metadata": {
        "id": "T8LndhI5mAGP"
      },
      "source": [
        "## Setting Up The Dictionary\n",
        "\n",
        "Our preprocessing is complete.\n",
        "\n",
        "We now need to calculate the occurance frequencies of each of our stemmed words. But first, we will create a vocabulary dictionary where every word appears once. Every article would be represented as a [bag-of-words](https://en.wikipedia.org/wiki/Bag-of-words_model), an unordered set of words that the article contain.\n",
        "\n",
        "---\n",
        "\n",
        "Q: Why is it called bag-of-words?\n",
        "\n",
        "Hint: Think about your probability lessons - where you had randomly picked out white or black balls out of a bag...\n",
        "\n",
        "My guess: Well, the order is lost in the bag-of-words approach, so we can image it like a bag per article in which we throw all the words of that article, with their respective frequency (meaning that if the word \"dairy\" appears 3 times in the article, it is also 3 times in our bag). Then we could imagine to randomly pick a word out of our article-bag and the probability of picking that word would be its frequency divided by all the words (again, including duplicates)."
      ]
    },
    {
      "cell_type": "code",
      "metadata": {
        "id": "pj6CI60KlF0N"
      },
      "source": [
        "dictionary = corpora.Dictionary(processed_docs)\n"
      ],
      "execution_count": 12,
      "outputs": []
    },
    {
      "cell_type": "markdown",
      "metadata": {
        "id": "KiaCJuuXmkDV"
      },
      "source": [
        "Let's take a look:"
      ]
    },
    {
      "cell_type": "code",
      "metadata": {
        "id": "F0DJqlhimfns",
        "outputId": "9527bb44-f209-4f6b-907f-02499166590c",
        "colab": {
          "base_uri": "https://localhost:8080/"
        }
      },
      "source": [
        "for idx, (k, v) in enumerate(dictionary.iteritems()):\n",
        "    print(k, v)\n",
        "    if idx >= 10:\n",
        "        break\n",
        "\n",
        "\n",
        "### BTW: `enumerate` is a great python function!\n",
        "### It automatically creates an index, an auto-incremented counter variable,\n",
        "### that represents the position of every object in the collection.\n",
        "\n",
        "### Read more about it here: https://realpython.com/python-enumerate/"
      ],
      "execution_count": 13,
      "outputs": [
        {
          "output_type": "stream",
          "name": "stdout",
          "text": [
            "0 ahnlich\n",
            "1 angemahnt\n",
            "2 anteil\n",
            "3 august\n",
            "4 ausseh\n",
            "5 chefin\n",
            "6 christin\n",
            "7 degeto\n",
            "8 diskuti\n",
            "9 einfuhr\n",
            "10 fernsehfilm\n"
          ]
        }
      ]
    },
    {
      "cell_type": "markdown",
      "metadata": {
        "id": "XLT9Y9LImtv_"
      },
      "source": [
        "Second, we filter the tokens that may appear to often.\n",
        "\n",
        "We have full control on the process."
      ]
    },
    {
      "cell_type": "markdown",
      "metadata": {
        "id": "8LtlVAJEa6vp"
      },
      "source": [
        "### Model Hyperparameter tuning"
      ]
    },
    {
      "cell_type": "markdown",
      "source": [
        "### Your Turn:\n",
        "#### Exercise 1 - Hyperparameter effect on the model output:\n",
        "**Q:** How would changing these parameters influence the result?  \n",
        "After running this example, please return here to change them and try them out.\n",
        "\n",
        "My observations:\n",
        "\n",
        "The hyperparameters affect the model in the following way:\n",
        "no_below=filter_tokens_if_container_documents_are_less_than: excludes (filters) tokens that occur in less than x documents.\n",
        "\n",
        "no_above=filter_tokens_if_appeared_percentage_more_than: filters tokens that occur in x percent of documents or more often. Hence, this will remove words that occur in most documents that might not be decisive for topic modeling.\n",
        "\n",
        "keep_n=keep_the_first_n_token: keeps the most frequent x tokens (after filtering).\n",
        "\n",
        "We are here talking about dictionary in the sense of 1 dictionary per article."
      ],
      "metadata": {
        "id": "yHsgesK9dW7j"
      }
    },
    {
      "cell_type": "code",
      "metadata": {
        "id": "KSwEk-wcBKEg"
      },
      "source": [
        "## Model hyper parameters:\n",
        "\n",
        "## These are the dictionary preparation parameters:\n",
        "filter_tokens_if_container_documents_are_less_than = 15\n",
        "filter_tokens_if_appeared_percentage_more_than = 0.5\n",
        "keep_the_first_n_tokens=100000\n",
        "\n",
        "## and the LDA Parameters:\n",
        "num_of_topics = 10"
      ],
      "execution_count": 14,
      "outputs": []
    },
    {
      "cell_type": "code",
      "metadata": {
        "id": "zelcg-UUmiVx"
      },
      "source": [
        "dictionary.filter_extremes(\n",
        "    no_below=filter_tokens_if_container_documents_are_less_than,\n",
        "    no_above=filter_tokens_if_appeared_percentage_more_than,\n",
        "    keep_n=keep_the_first_n_tokens)\n"
      ],
      "execution_count": 15,
      "outputs": []
    },
    {
      "cell_type": "markdown",
      "metadata": {
        "id": "EsknGryxnx0X"
      },
      "source": [
        "We now create a [bag-of-words](https://en.wikipedia.org/wiki/Bag-of-words_model) (BOW) dictionary for each document, using [gensim's dictionary](https://radimrehurek.com/gensim/corpora/dictionary.html) tool.\n",
        "\n",
        "It will be in the format of:\n",
        "\n",
        "```{ 'word_id': count }```\n"
      ]
    },
    {
      "cell_type": "code",
      "metadata": {
        "id": "u1CsbhJcntUW"
      },
      "source": [
        "bow_corpus = [dictionary.doc2bow(doc) for doc in processed_docs]"
      ],
      "execution_count": 16,
      "outputs": []
    },
    {
      "cell_type": "markdown",
      "metadata": {
        "id": "RmHQyMKXokyq"
      },
      "source": [
        "Let's take a look at the result.\n",
        "\n",
        "Our corpus contains now only word_ids, not the words themselves, so we have to peek into the dictionary to know which word that id represents:"
      ]
    },
    {
      "cell_type": "code",
      "metadata": {
        "id": "dD6n6MNnoSBH",
        "outputId": "ca9bbfc6-3a98-4abd-9948-220d94da56f9",
        "colab": {
          "base_uri": "https://localhost:8080/"
        }
      },
      "source": [
        "# randomly choose an article from the corpus:\n",
        "sample_bow_doc = choice(bow_corpus)\n",
        "\n",
        "print('The processed bag-of-word document is just pairs of (word_id, # of occurnces) and looks like this:')\n",
        "print(sample_bow_doc, '\\n\\n')\n",
        "\n",
        "print ('We peek in the dictionary: for each word_id, we get its assigned word:')\n",
        "for word_id, word_freq in sample_bow_doc:\n",
        "  real_word = dictionary[word_id]\n",
        "  print(f'Word #{word_id} (\"{real_word}\") appears {word_freq} time.')\n"
      ],
      "execution_count": 17,
      "outputs": [
        {
          "output_type": "stream",
          "name": "stdout",
          "text": [
            "The processed bag-of-word document is just pairs of (word_id, # of occurnces) and looks like this:\n",
            "[(13, 1), (25, 3), (27, 1), (42, 1), (63, 1), (77, 2), (79, 1), (88, 2), (97, 1), (101, 1), (109, 2), (117, 1), (123, 6), (127, 2), (134, 2), (140, 1), (143, 2), (177, 1), (180, 1), (200, 1), (211, 2), (218, 1), (220, 1), (224, 1), (225, 1), (234, 1), (236, 7), (256, 2), (264, 1), (286, 3), (293, 2), (309, 1), (318, 2), (325, 2), (333, 1), (343, 1), (383, 1), (385, 1), (387, 1), (388, 1), (391, 1), (421, 1), (441, 1), (460, 1), (475, 1), (482, 1), (498, 2), (506, 1), (507, 2), (512, 2), (553, 1), (555, 1), (562, 2), (589, 3), (596, 1), (652, 1), (658, 1), (683, 1), (689, 1), (691, 1), (698, 4), (716, 1), (731, 1), (736, 1), (750, 1), (765, 1), (766, 1), (776, 1), (781, 1), (791, 2), (818, 1), (829, 1), (864, 1), (918, 1), (959, 1), (961, 2), (972, 2), (1013, 2), (1033, 1), (1110, 1), (1126, 7), (1134, 1), (1194, 1), (1223, 6), (1255, 1), (1261, 2), (1372, 1), (1373, 1), (1443, 1), (1531, 1), (1537, 1), (1558, 1), (1563, 4), (1570, 1), (1573, 2), (1588, 1), (1617, 1), (1619, 1), (1700, 1), (1714, 1), (1799, 1), (1820, 1), (1870, 1), (1884, 1), (1898, 1), (1936, 1), (1945, 1), (1949, 4), (1990, 2), (2002, 2), (2004, 1), (2116, 1), (2126, 3), (2156, 1), (2248, 1), (2301, 1), (2330, 2), (2367, 1), (2427, 1), (2577, 1), (2585, 1), (2652, 1), (2800, 1), (2801, 4), (2864, 1), (2875, 1), (2957, 1), (3256, 2), (3384, 1), (3404, 1), (3426, 1), (3559, 1), (3562, 8), (3605, 11), (3607, 1), (3610, 5), (3618, 2), (3621, 1), (3749, 1), (3770, 2), (3904, 2), (4007, 1), (4050, 2), (4239, 1), (4330, 1), (4457, 1), (4557, 1), (4585, 2), (4678, 1), (4808, 1), (4935, 1), (5071, 1), (5394, 2), (5528, 1), (6679, 1), (7039, 1), (7174, 1), (7186, 1), (7624, 1), (7685, 1), (7814, 1), (7826, 1), (7942, 1), (8060, 1), (8103, 2), (8220, 1), (8225, 1), (8569, 1), (8754, 1)] \n",
            "\n",
            "\n",
            "We peek in the dictionary: for each word_id, we get its assigned word:\n",
            "Word #13 (\"frau\") appears 1 time.\n",
            "Word #25 (\"osterreich\") appears 3 time.\n",
            "Word #27 (\"prozent\") appears 1 time.\n",
            "Word #42 (\"vergang\") appears 1 time.\n",
            "Word #63 (\"zwei\") appears 1 time.\n",
            "Word #77 (\"breit\") appears 2 time.\n",
            "Word #79 (\"derzeit\") appears 1 time.\n",
            "Word #88 (\"gewinn\") appears 2 time.\n",
            "Word #97 (\"klar\") appears 1 time.\n",
            "Word #101 (\"lass\") appears 1 time.\n",
            "Word #109 (\"person\") appears 2 time.\n",
            "Word #117 (\"sagt\") appears 1 time.\n",
            "Word #123 (\"standard\") appears 6 time.\n",
            "Word #127 (\"teil\") appears 2 time.\n",
            "Word #134 (\"unterstutz\") appears 2 time.\n",
            "Word #140 (\"vorsitz\") appears 1 time.\n",
            "Word #143 (\"wenig\") appears 2 time.\n",
            "Word #177 (\"kommend\") appears 1 time.\n",
            "Word #180 (\"kron\") appears 1 time.\n",
            "Word #200 (\"spannend\") appears 1 time.\n",
            "Word #211 (\"viel\") appears 2 time.\n",
            "Word #218 (\"zeitung\") appears 1 time.\n",
            "Word #220 (\"bess\") appears 1 time.\n",
            "Word #224 (\"les\") appears 1 time.\n",
            "Word #225 (\"link\") appears 1 time.\n",
            "Word #234 (\"zeit\") appears 1 time.\n",
            "Word #236 (\"bekannt\") appears 7 time.\n",
            "Word #256 (\"geld\") appears 2 time.\n",
            "Word #264 (\"journalist\") appears 1 time.\n",
            "Word #286 (\"schwer\") appears 3 time.\n",
            "Word #293 (\"unterstutzt\") appears 2 time.\n",
            "Word #309 (\"beispielsweis\") appears 1 time.\n",
            "Word #318 (\"davon\") appears 2 time.\n",
            "Word #325 (\"erst\") appears 2 time.\n",
            "Word #333 (\"geschaff\") appears 1 time.\n",
            "Word #343 (\"lini\") appears 1 time.\n",
            "Word #383 (\"genug\") appears 1 time.\n",
            "Word #385 (\"geword\") appears 1 time.\n",
            "Word #387 (\"hatt\") appears 1 time.\n",
            "Word #388 (\"investment\") appears 1 time.\n",
            "Word #391 (\"knapp\") appears 1 time.\n",
            "Word #421 (\"auf\") appears 1 time.\n",
            "Word #441 (\"international\") appears 1 time.\n",
            "Word #460 (\"allgemein\") appears 1 time.\n",
            "Word #475 (\"darauf\") appears 1 time.\n",
            "Word #482 (\"eben\") appears 1 time.\n",
            "Word #498 (\"imm\") appears 2 time.\n",
            "Word #506 (\"kommt\") appears 1 time.\n",
            "Word #507 (\"kultur\") appears 2 time.\n",
            "Word #512 (\"mensch\") appears 2 time.\n",
            "Word #553 (\"dabei\") appears 1 time.\n",
            "Word #555 (\"etwa\") appears 1 time.\n",
            "Word #562 (\"seh\") appears 2 time.\n",
            "Word #589 (\"fall\") appears 3 time.\n",
            "Word #596 (\"ganz\") appears 1 time.\n",
            "Word #652 (\"vielleicht\") appears 1 time.\n",
            "Word #658 (\"bell\") appears 1 time.\n",
            "Word #683 (\"zeigt\") appears 1 time.\n",
            "Word #689 (\"besond\") appears 1 time.\n",
            "Word #691 (\"blatt\") appears 1 time.\n",
            "Word #698 (\"erfahr\") appears 4 time.\n",
            "Word #716 (\"wichtig\") appears 1 time.\n",
            "Word #731 (\"offent\") appears 1 time.\n",
            "Word #736 (\"trotzd\") appears 1 time.\n",
            "Word #750 (\"ausserhalb\") appears 1 time.\n",
            "Word #765 (\"dah\") appears 1 time.\n",
            "Word #766 (\"darum\") appears 1 time.\n",
            "Word #776 (\"fast\") appears 1 time.\n",
            "Word #781 (\"frag\") appears 1 time.\n",
            "Word #791 (\"gibt\") appears 2 time.\n",
            "Word #818 (\"macht\") appears 1 time.\n",
            "Word #829 (\"nehm\") appears 1 time.\n",
            "Word #864 (\"verlust\") appears 1 time.\n",
            "Word #918 (\"unklar\") appears 1 time.\n",
            "Word #959 (\"eher\") appears 1 time.\n",
            "Word #961 (\"entsprech\") appears 2 time.\n",
            "Word #972 (\"gross\") appears 2 time.\n",
            "Word #1013 (\"aktiv\") appears 2 time.\n",
            "Word #1033 (\"partei\") appears 1 time.\n",
            "Word #1110 (\"geht\") appears 1 time.\n",
            "Word #1126 (\"polit\") appears 7 time.\n",
            "Word #1134 (\"stark\") appears 1 time.\n",
            "Word #1194 (\"niemand\") appears 1 time.\n",
            "Word #1223 (\"war\") appears 6 time.\n",
            "Word #1255 (\"musst\") appears 1 time.\n",
            "Word #1261 (\"relevant\") appears 2 time.\n",
            "Word #1372 (\"beid\") appears 1 time.\n",
            "Word #1373 (\"betrifft\") appears 1 time.\n",
            "Word #1443 (\"vertret\") appears 1 time.\n",
            "Word #1531 (\"liess\") appears 1 time.\n",
            "Word #1537 (\"neutral\") appears 1 time.\n",
            "Word #1558 (\"bekommt\") appears 1 time.\n",
            "Word #1563 (\"chanc\") appears 4 time.\n",
            "Word #1570 (\"entwickelt\") appears 1 time.\n",
            "Word #1573 (\"faktor\") appears 2 time.\n",
            "Word #1588 (\"relevanz\") appears 1 time.\n",
            "Word #1617 (\"gegn\") appears 1 time.\n",
            "Word #1619 (\"gewiss\") appears 1 time.\n",
            "Word #1700 (\"braucht\") appears 1 time.\n",
            "Word #1714 (\"offenbar\") appears 1 time.\n",
            "Word #1799 (\"umstand\") appears 1 time.\n",
            "Word #1820 (\"finanziell\") appears 1 time.\n",
            "Word #1870 (\"ehemal\") appears 1 time.\n",
            "Word #1884 (\"lag\") appears 1 time.\n",
            "Word #1898 (\"alexand\") appears 1 time.\n",
            "Word #1936 (\"abhang\") appears 1 time.\n",
            "Word #1945 (\"fruhjahr\") appears 1 time.\n",
            "Word #1949 (\"kandidat\") appears 4 time.\n",
            "Word #1990 (\"gerichtshof\") appears 2 time.\n",
            "Word #2002 (\"oberst\") appears 2 time.\n",
            "Word #2004 (\"potenzial\") appears 1 time.\n",
            "Word #2116 (\"voraussetz\") appears 1 time.\n",
            "Word #2126 (\"kandidatin\") appears 3 time.\n",
            "Word #2156 (\"gegeb\") appears 1 time.\n",
            "Word #2248 (\"begeb\") appears 1 time.\n",
            "Word #2301 (\"beigetrag\") appears 1 time.\n",
            "Word #2330 (\"nam\") appears 2 time.\n",
            "Word #2367 (\"zielgrupp\") appears 1 time.\n",
            "Word #2427 (\"wahlkampf\") appears 1 time.\n",
            "Word #2577 (\"erwin\") appears 1 time.\n",
            "Word #2585 (\"hindernis\") appears 1 time.\n",
            "Word #2652 (\"divers\") appears 1 time.\n",
            "Word #2800 (\"gesagt\") appears 1 time.\n",
            "Word #2801 (\"kandidatur\") appears 4 time.\n",
            "Word #2864 (\"wunscht\") appears 1 time.\n",
            "Word #2875 (\"fuhl\") appears 1 time.\n",
            "Word #2957 (\"diesbezug\") appears 1 time.\n",
            "Word #3256 (\"neos\") appears 2 time.\n",
            "Word #3384 (\"gewonn\") appears 1 time.\n",
            "Word #3404 (\"einerseit\") appears 1 time.\n",
            "Word #3426 (\"gesproch\") appears 1 time.\n",
            "Word #3559 (\"leiterin\") appears 1 time.\n",
            "Word #3562 (\"pick\") appears 8 time.\n",
            "Word #3605 (\"griss\") appears 11 time.\n",
            "Word #3607 (\"hundstorf\") appears 1 time.\n",
            "Word #3610 (\"irmgard\") appears 5 time.\n",
            "Word #3618 (\"prasidentenamt\") appears 2 time.\n",
            "Word #3621 (\"rudolf\") appears 1 time.\n",
            "Word #3749 (\"kampagn\") appears 1 time.\n",
            "Word #3770 (\"positioni\") appears 2 time.\n",
            "Word #3904 (\"glaubwurd\") appears 2 time.\n",
            "Word #4007 (\"erhofft\") appears 1 time.\n",
            "Word #4050 (\"investi\") appears 2 time.\n",
            "Word #4239 (\"normal\") appears 1 time.\n",
            "Word #4330 (\"ansprech\") appears 1 time.\n",
            "Word #4457 (\"motiv\") appears 1 time.\n",
            "Word #4557 (\"positionier\") appears 1 time.\n",
            "Word #4585 (\"aussenpolit\") appears 2 time.\n",
            "Word #4678 (\"parkett\") appears 1 time.\n",
            "Word #4808 (\"vorhand\") appears 1 time.\n",
            "Word #4935 (\"proll\") appears 1 time.\n",
            "Word #5071 (\"merkt\") appears 1 time.\n",
            "Word #5394 (\"prasidentin\") appears 2 time.\n",
            "Word #5528 (\"angegriff\") appears 1 time.\n",
            "Word #6679 (\"erfahrt\") appears 1 time.\n",
            "Word #7039 (\"obama\") appears 1 time.\n",
            "Word #7174 (\"barack\") appears 1 time.\n",
            "Word #7186 (\"niederlag\") appears 1 time.\n",
            "Word #7624 (\"mobilisi\") appears 1 time.\n",
            "Word #7685 (\"gebund\") appears 1 time.\n",
            "Word #7814 (\"kandidi\") appears 1 time.\n",
            "Word #7826 (\"ausgefullt\") appears 1 time.\n",
            "Word #7942 (\"mitgebracht\") appears 1 time.\n",
            "Word #8060 (\"abzuseh\") appears 1 time.\n",
            "Word #8103 (\"hypo\") appears 2 time.\n",
            "Word #8220 (\"hyp\") appears 1 time.\n",
            "Word #8225 (\"antritt\") appears 1 time.\n",
            "Word #8569 (\"blas\") appears 1 time.\n",
            "Word #8754 (\"zuruckgreif\") appears 1 time.\n"
          ]
        }
      ]
    },
    {
      "cell_type": "markdown",
      "metadata": {
        "id": "jdEpXnWNrR4H"
      },
      "source": [
        "## LDA model using Bag-of-words\n",
        "\n",
        "Let's start by applying the LDA model using the bag-of-words (Warning: this could take a while):"
      ]
    },
    {
      "cell_type": "code",
      "metadata": {
        "id": "84CchtGap73H"
      },
      "source": [
        "lda_model = models.LdaMulticore(bow_corpus,\n",
        "                                num_topics=num_of_topics,\n",
        "                                id2word=dictionary,\n",
        "                                passes=5,\n",
        "                                workers=2)"
      ],
      "execution_count": 18,
      "outputs": []
    },
    {
      "cell_type": "markdown",
      "metadata": {
        "id": "oqm3NWaGrYzC"
      },
      "source": [
        "It is done!\n",
        "\n",
        "Now we can observe which topics the model had extracted from the documents.\n",
        "\n",
        "- *Topics* are made of sets of words and their distribution for that topic, representing their weight in that topic.\n",
        "- Every document may be composed of multiple topics, with different weights representing the relation to each topics.\n",
        "\n",
        "We will loop over the extracted topics and examine the words that construct them."
      ]
    },
    {
      "cell_type": "code",
      "metadata": {
        "id": "N83rLkRRrYYz",
        "outputId": "0ff24476-cebf-45de-8fd9-20a677f0f115",
        "colab": {
          "base_uri": "https://localhost:8080/"
        }
      },
      "source": [
        "for idx, topic in lda_model.print_topics(num_of_topics):\n",
        "    print(f'Topic: {idx} \\t Words: {topic}')\n"
      ],
      "execution_count": 19,
      "outputs": [
        {
          "output_type": "stream",
          "name": "stdout",
          "text": [
            "Topic: 0 \t Words: 0.008*\"sagt\" + 0.007*\"polit\" + 0.006*\"grun\" + 0.006*\"wien\" + 0.005*\"partei\" + 0.005*\"wahl\" + 0.004*\"regier\" + 0.004*\"seit\" + 0.004*\"standard\" + 0.004*\"prasident\"\n",
            "Topic: 1 \t Words: 0.017*\"prozent\" + 0.015*\"osterreich\" + 0.013*\"standard\" + 0.011*\"jahr\" + 0.009*\"mensch\" + 0.007*\"gibt\" + 0.007*\"wenig\" + 0.006*\"viel\" + 0.005*\"land\" + 0.005*\"hoh\"\n",
            "Topic: 2 \t Words: 0.022*\"euro\" + 0.020*\"prozent\" + 0.012*\"jahr\" + 0.011*\"million\" + 0.010*\"wien\" + 0.008*\"unternehm\" + 0.007*\"osterreich\" + 0.006*\"rund\" + 0.006*\"milliard\" + 0.005*\"seit\"\n",
            "Topic: 3 \t Words: 0.008*\"jahr\" + 0.008*\"wien\" + 0.006*\"forsch\" + 0.006*\"gross\" + 0.005*\"wissenschaft\" + 0.005*\"sagt\" + 0.005*\"neu\" + 0.005*\"erst\" + 0.005*\"etwa\" + 0.004*\"schon\"\n",
            "Topic: 4 \t Words: 0.015*\"spiel\" + 0.010*\"erst\" + 0.006*\"salzburg\" + 0.005*\"schon\" + 0.005*\"zwei\" + 0.005*\"rapid\" + 0.005*\"wien\" + 0.004*\"minut\" + 0.004*\"zweit\" + 0.004*\"punkt\"\n",
            "Topic: 5 \t Words: 0.010*\"neu\" + 0.007*\"sagt\" + 0.006*\"griechenland\" + 0.006*\"europa\" + 0.005*\"soll\" + 0.005*\"land\" + 0.005*\"griechisch\" + 0.005*\"euro\" + 0.004*\"bereit\" + 0.004*\"weit\"\n",
            "Topic: 6 \t Words: 0.017*\"fluchtling\" + 0.009*\"sagt\" + 0.008*\"mensch\" + 0.007*\"grenz\" + 0.007*\"russland\" + 0.007*\"russisch\" + 0.006*\"seit\" + 0.006*\"ukrain\" + 0.006*\"syri\" + 0.006*\"osterreich\"\n",
            "Topic: 7 \t Words: 0.009*\"erst\" + 0.007*\"spiel\" + 0.005*\"sieg\" + 0.005*\"minut\" + 0.005*\"jahr\" + 0.005*\"beim\" + 0.005*\"israel\" + 0.005*\"steht\" + 0.005*\"zwei\" + 0.005*\"jahrig\"\n",
            "Topic: 8 \t Words: 0.011*\"jahr\" + 0.009*\"word\" + 0.007*\"sagt\" + 0.005*\"wien\" + 0.005*\"mann\" + 0.005*\"zwei\" + 0.005*\"jahrig\" + 0.005*\"polizei\" + 0.004*\"weg\" + 0.004*\"weit\"\n",
            "Topic: 9 \t Words: 0.013*\"jahr\" + 0.010*\"china\" + 0.008*\"chines\" + 0.007*\"erst\" + 0.006*\"jahrig\" + 0.005*\"sagt\" + 0.005*\"japan\" + 0.005*\"zwei\" + 0.005*\"seit\" + 0.004*\"neu\"\n"
          ]
        }
      ]
    },
    {
      "cell_type": "markdown",
      "metadata": {
        "id": "CgCkLEelplF8"
      },
      "source": [
        "## TF / IDF\n",
        "\n",
        "Let's take it one step further. We will cluster our document by running the LDA using [TF/IDF](https://en.wikipedia.org/wiki/Tf%E2%80%93idf).\n",
        "\n",
        "We start with TF/IDF calculation on our bag-of-words.\n",
        "TF/IDF accepts a dictionary of word frequencies as an input, and it calculates the term frequency and the inversed document frequency accordingly.\n",
        "\n",
        "Its output is a re-weighted dictionary of the documents term frequencies:"
      ]
    },
    {
      "cell_type": "code",
      "metadata": {
        "id": "Xhj6Df56os0j",
        "outputId": "4e8dd86f-e977-473e-e1a2-bbc3ab8d11a7",
        "colab": {
          "base_uri": "https://localhost:8080/"
        }
      },
      "source": [
        "# initialize a tfidf from our corpus\n",
        "tfidf = models.TfidfModel(bow_corpus)\n",
        "\n",
        "# apply it on our corpus\n",
        "tfidf_corpus = tfidf[bow_corpus]\n",
        "\n",
        "pprint(tfidf_corpus[0][:10])"
      ],
      "execution_count": 20,
      "outputs": [
        {
          "output_type": "stream",
          "name": "stdout",
          "text": [
            "[(0, 0.07624324224596976),\n",
            " (1, 0.09765147703315807),\n",
            " (2, 0.17806134714371552),\n",
            " (3, 0.12554321379384176),\n",
            " (4, 0.12114843374003081),\n",
            " (5, 0.14917128474504127),\n",
            " (6, 0.11948454964321391),\n",
            " (7, 0.10815383759404282),\n",
            " (8, 0.19221567840914694),\n",
            " (9, 0.0625612949812136)]\n"
          ]
        }
      ]
    },
    {
      "cell_type": "code",
      "source": [
        "# the new tfidf corpus is just our corpus - but transformed. It has the same size of documents:\n",
        "assert len(bow_corpus) == len(tfidf_corpus)"
      ],
      "metadata": {
        "id": "OdllL8StNLm2"
      },
      "execution_count": 21,
      "outputs": []
    },
    {
      "cell_type": "markdown",
      "metadata": {
        "id": "UZ-9a3gcsYts"
      },
      "source": [
        "Now let's apply LDA on the tfidf corpus, with the same amount of topics.\n",
        "\n",
        "You can play with the # of passes, if the model doesn't converge properly"
      ]
    },
    {
      "cell_type": "code",
      "metadata": {
        "id": "ihxND83irVSf",
        "outputId": "e5574c29-6f34-49a0-dc08-32e47d2f9eee",
        "colab": {
          "base_uri": "https://localhost:8080/"
        }
      },
      "source": [
        "lda_model_tfidf = models.LdaMulticore(tfidf_corpus,\n",
        "                                      num_topics=num_of_topics,\n",
        "                                      id2word=dictionary,\n",
        "                                      passes=5,\n",
        "                                      workers=4)"
      ],
      "execution_count": 22,
      "outputs": [
        {
          "output_type": "stream",
          "name": "stderr",
          "text": [
            "WARNING:gensim.models.ldamulticore:too few updates, training might not converge; consider increasing the number of passes or iterations to improve accuracy\n"
          ]
        }
      ]
    },
    {
      "cell_type": "code",
      "source": [
        "for idx, topic in lda_model_tfidf.print_topics(num_of_topics):\n",
        "    print(f'Topic: {idx} \\t Word: {topic}')"
      ],
      "metadata": {
        "id": "adACX8kGihtG",
        "outputId": "a251eb61-c514-4a2c-d883-05786f57bff8",
        "colab": {
          "base_uri": "https://localhost:8080/"
        }
      },
      "execution_count": 23,
      "outputs": [
        {
          "output_type": "stream",
          "name": "stdout",
          "text": [
            "Topic: 0 \t Word: 0.005*\"prozent\" + 0.004*\"zielpunkt\" + 0.003*\"euro\" + 0.003*\"unternehm\" + 0.002*\"million\" + 0.002*\"pfeiff\" + 0.002*\"dollar\" + 0.002*\"forsch\" + 0.002*\"bank\" + 0.002*\"wien\"\n",
            "Topic: 1 \t Word: 0.003*\"euro\" + 0.002*\"prozent\" + 0.002*\"europa\" + 0.002*\"million\" + 0.002*\"kommission\" + 0.002*\"osterreich\" + 0.002*\"jahr\" + 0.002*\"milliard\" + 0.002*\"konz\" + 0.002*\"unternehm\"\n",
            "Topic: 2 \t Word: 0.003*\"fluchtling\" + 0.003*\"griechenland\" + 0.002*\"griechisch\" + 0.002*\"word\" + 0.002*\"regier\" + 0.002*\"ath\" + 0.002*\"sagt\" + 0.002*\"mensch\" + 0.002*\"land\" + 0.002*\"euro\"\n",
            "Topic: 3 \t Word: 0.015*\"volltext\" + 0.014*\"basier\" + 0.012*\"artikel\" + 0.011*\"rechtlich\" + 0.009*\"verfug\" + 0.008*\"grund\" + 0.007*\"steht\" + 0.003*\"prozent\" + 0.003*\"euro\" + 0.002*\"forsch\"\n",
            "Topic: 4 \t Word: 0.004*\"prozent\" + 0.003*\"euro\" + 0.002*\"milliard\" + 0.002*\"osterreich\" + 0.002*\"million\" + 0.002*\"unternehm\" + 0.002*\"wien\" + 0.001*\"jahr\" + 0.001*\"neu\" + 0.001*\"rapid\"\n",
            "Topic: 5 \t Word: 0.004*\"prozent\" + 0.003*\"euro\" + 0.002*\"tsipras\" + 0.002*\"ath\" + 0.002*\"griechenland\" + 0.002*\"milliard\" + 0.002*\"forsch\" + 0.002*\"griechisch\" + 0.002*\"wien\" + 0.002*\"europa\"\n",
            "Topic: 6 \t Word: 0.002*\"prozent\" + 0.002*\"wien\" + 0.002*\"standard\" + 0.002*\"osterreich\" + 0.001*\"spiel\" + 0.001*\"euro\" + 0.001*\"jahr\" + 0.001*\"neu\" + 0.001*\"erst\" + 0.001*\"gross\"\n",
            "Topic: 7 \t Word: 0.006*\"prozent\" + 0.003*\"euro\" + 0.002*\"griechisch\" + 0.002*\"osterreich\" + 0.002*\"oecd\" + 0.002*\"streik\" + 0.002*\"milliard\" + 0.002*\"telekom\" + 0.002*\"verdi\" + 0.002*\"wachstum\"\n",
            "Topic: 8 \t Word: 0.004*\"prozent\" + 0.003*\"lufthansa\" + 0.003*\"euro\" + 0.002*\"million\" + 0.002*\"forsch\" + 0.002*\"jahr\" + 0.002*\"wien\" + 0.002*\"osterreich\" + 0.002*\"unternehm\" + 0.001*\"land\"\n",
            "Topic: 9 \t Word: 0.003*\"forsch\" + 0.002*\"prozent\" + 0.002*\"euro\" + 0.002*\"tier\" + 0.002*\"studi\" + 0.002*\"million\" + 0.002*\"bors\" + 0.002*\"europa\" + 0.002*\"jahr\" + 0.001*\"sagt\"\n"
          ]
        }
      ]
    },
    {
      "cell_type": "markdown",
      "metadata": {
        "id": "f9HswwLLsw0X"
      },
      "source": [
        "## Inference\n",
        "\n",
        "Now that we have a topic-modeler, let's use it on one of the articles."
      ]
    },
    {
      "cell_type": "code",
      "metadata": {
        "id": "tQlSUn_CsbcX",
        "outputId": "fc3b01b4-3ec4-41e1-e58f-635b10a31c67",
        "colab": {
          "base_uri": "https://localhost:8080/"
        }
      },
      "source": [
        "# randomly pick an article:\n",
        "test_doc = choice(range(len(processed_docs)))\n",
        "processed_docs[test_doc][:50]"
      ],
      "execution_count": 24,
      "outputs": [
        {
          "output_type": "execute_result",
          "data": {
            "text/plain": [
              "['frankfurt',\n",
              " 'allgemein',\n",
              " 'zeitung',\n",
              " 'bezieht',\n",
              " 'bericht',\n",
              " 'intern',\n",
              " 'revision',\n",
              " 'volkswag',\n",
              " 'wolfsburg',\n",
              " 'verantwort',\n",
              " 'volkswag',\n",
              " 'offenbar',\n",
              " 'schon',\n",
              " 'mehr',\n",
              " 'jahr',\n",
              " 'kenntnis',\n",
              " 'einsatz',\n",
              " 'rechtswidr',\n",
              " 'softwar',\n",
              " 'dieselautos',\n",
              " 'konzern',\n",
              " 'gehabt',\n",
              " 'legt',\n",
              " 'bericht',\n",
              " 'intern',\n",
              " 'revision',\n",
              " 'volkswag',\n",
              " 'nah',\n",
              " 'mehr',\n",
              " 'deutsch',\n",
              " 'zeitung',\n",
              " 'sonntag',\n",
              " 'berichtet',\n",
              " 'berichtet',\n",
              " 'frankfurt',\n",
              " 'allgemein',\n",
              " 'zeitung',\n",
              " 'schon',\n",
              " 'mitarbeit',\n",
              " 'darauf',\n",
              " 'hingewies',\n",
              " 'softwar',\n",
              " 'rechtsverstoss',\n",
              " 'darstell',\n",
              " 'schreibt',\n",
              " 'frankfurt',\n",
              " 'allgemein',\n",
              " 'sonntagszeit',\n",
              " 'verweis',\n",
              " 'prufbericht']"
            ]
          },
          "metadata": {},
          "execution_count": 24
        }
      ]
    },
    {
      "cell_type": "markdown",
      "metadata": {
        "id": "Jt6oJJL8tiO_"
      },
      "source": [
        "Using the original BOW model:"
      ]
    },
    {
      "cell_type": "code",
      "metadata": {
        "id": "ZBbrSNDVszGW",
        "outputId": "a25b8a4e-852f-4091-fa0f-a4a318ae3e1f",
        "colab": {
          "base_uri": "https://localhost:8080/"
        }
      },
      "source": [
        "for index, score in sorted(lda_model[bow_corpus[test_doc]], key=lambda tup: -1*tup[1]):\n",
        "    print(f\"Topic match score: {score} \\nTopic: {lda_model.print_topic(index, num_of_topics)}\")\n"
      ],
      "execution_count": 25,
      "outputs": [
        {
          "output_type": "stream",
          "name": "stdout",
          "text": [
            "Topic match score: 0.6362001895904541 \n",
            "Topic: 0.008*\"sagt\" + 0.007*\"polit\" + 0.006*\"grun\" + 0.006*\"wien\" + 0.005*\"partei\" + 0.005*\"wahl\" + 0.004*\"regier\" + 0.004*\"seit\" + 0.004*\"standard\" + 0.004*\"prasident\"\n",
            "Topic match score: 0.28463807702064514 \n",
            "Topic: 0.022*\"euro\" + 0.020*\"prozent\" + 0.012*\"jahr\" + 0.011*\"million\" + 0.010*\"wien\" + 0.008*\"unternehm\" + 0.007*\"osterreich\" + 0.006*\"rund\" + 0.006*\"milliard\" + 0.005*\"seit\"\n",
            "Topic match score: 0.0718260109424591 \n",
            "Topic: 0.011*\"jahr\" + 0.009*\"word\" + 0.007*\"sagt\" + 0.005*\"wien\" + 0.005*\"mann\" + 0.005*\"zwei\" + 0.005*\"jahrig\" + 0.005*\"polizei\" + 0.004*\"weg\" + 0.004*\"weit\"\n"
          ]
        }
      ]
    },
    {
      "cell_type": "markdown",
      "metadata": {
        "id": "hdz9qz-Atj3A"
      },
      "source": [
        "And with the TF/IDF model:"
      ]
    },
    {
      "cell_type": "code",
      "metadata": {
        "id": "XWHTDQjVtTyO",
        "outputId": "3dd7019e-7c34-4c02-a360-5716b0c81638",
        "colab": {
          "base_uri": "https://localhost:8080/"
        }
      },
      "source": [
        "for index, score in sorted(lda_model_tfidf[bow_corpus[test_doc]], key=lambda tup: -1*tup[1]):\n",
        "    print(\"Topic match score: {}\\t \\nTopic: {}\".format(score, lda_model_tfidf.print_topic(index, num_of_topics)))"
      ],
      "execution_count": 26,
      "outputs": [
        {
          "output_type": "stream",
          "name": "stdout",
          "text": [
            "Topic match score: 0.48550674319267273\t \n",
            "Topic: 0.002*\"prozent\" + 0.002*\"wien\" + 0.002*\"standard\" + 0.002*\"osterreich\" + 0.001*\"spiel\" + 0.001*\"euro\" + 0.001*\"jahr\" + 0.001*\"neu\" + 0.001*\"erst\" + 0.001*\"gross\"\n",
            "Topic match score: 0.2832375466823578\t \n",
            "Topic: 0.003*\"fluchtling\" + 0.003*\"griechenland\" + 0.002*\"griechisch\" + 0.002*\"word\" + 0.002*\"regier\" + 0.002*\"ath\" + 0.002*\"sagt\" + 0.002*\"mensch\" + 0.002*\"land\" + 0.002*\"euro\"\n",
            "Topic match score: 0.1296956092119217\t \n",
            "Topic: 0.005*\"prozent\" + 0.004*\"zielpunkt\" + 0.003*\"euro\" + 0.003*\"unternehm\" + 0.002*\"million\" + 0.002*\"pfeiff\" + 0.002*\"dollar\" + 0.002*\"forsch\" + 0.002*\"bank\" + 0.002*\"wien\"\n",
            "Topic match score: 0.09508296102285385\t \n",
            "Topic: 0.003*\"euro\" + 0.002*\"prozent\" + 0.002*\"europa\" + 0.002*\"million\" + 0.002*\"kommission\" + 0.002*\"osterreich\" + 0.002*\"jahr\" + 0.002*\"milliard\" + 0.002*\"konz\" + 0.002*\"unternehm\"\n"
          ]
        }
      ]
    },
    {
      "cell_type": "markdown",
      "source": [
        "Calculating the [perplexity score](https://towardsdatascience.com/perplexity-in-language-models-87a196019a94) (lower is better):"
      ],
      "metadata": {
        "id": "Y6hgkxQ4RIzf"
      }
    },
    {
      "cell_type": "code",
      "source": [
        "print('Perplexity: ', lda_model.log_perplexity(bow_corpus))\n",
        "print('Perplexity TFIDF: ', lda_model_tfidf.log_perplexity(bow_corpus))"
      ],
      "metadata": {
        "colab": {
          "base_uri": "https://localhost:8080/"
        },
        "id": "hHtIgzTlw-gN",
        "outputId": "fc072fd1-1605-4039-8b4c-bdfcf29e8cde"
      },
      "execution_count": 27,
      "outputs": [
        {
          "output_type": "stream",
          "name": "stdout",
          "text": [
            "Perplexity:  -8.000523633749065\n",
            "Perplexity TFIDF:  -8.477047410907032\n"
          ]
        }
      ]
    },
    {
      "cell_type": "markdown",
      "metadata": {
        "id": "NZGXqV-TtyTm"
      },
      "source": [
        "### Exercise - inference\n",
        "\n",
        "Now please try it on a new document!\n",
        "\n",
        "Go to a news website, such as [orf.at](https://orf.at/) and copy an article of your choice here:"
      ]
    },
    {
      "cell_type": "code",
      "metadata": {
        "id": "Srd1NWjFtlqM",
        "outputId": "1a1c7154-1bfd-43de-e99f-17cb664690c2",
        "colab": {
          "base_uri": "https://localhost:8080/"
        }
      },
      "source": [
        "unseen_document = \"\"\"Wohnungslosigkeit von Eltern betrifft auch Minderjährige in Wien\n",
        "Straßenkinder gibt es in Wien 'in der Regel' keine. Im Vorjahr erhielten dennoch 2570 Minderjährige Leistungen der Wiener Wohnungslosenhilfe, sagt der Leiter der Einrichtung\n",
        "Die Frage ist einfach gestellt: Gibt es auch in Wien Straßenkinder? Für eine schnelle Antwort ist das Thema aber zu komplex. Darauf weist Markus Hollendohner hin, er ist Leiter der Wiener Wohnungslosenhilfe. 'In der Regel', sagt er dem STANDARD, gebe es in der Millionenmetropole keine Straßenkinder. Ihm sei kein solcher Extremfall eines Kindes unter 14 Jahren in den letzten Jahren bekannt. 'Wir haben breit aufgestellte Sicherheitsnetze in der Stadt.'\n",
        "Das heißt aber nicht, dass Kinder und Jugendliche nicht von Wohnungs- oder Obdachlosigkeit betroffen sind. Denn wenn Mütter oder Väter temporär kein Obdach oder keine eigene Wohnung haben, betrifft das auch die Kinder im Familienverband. Laut Hollendohner haben im Vorjahr 2570 Minderjährige Leistungen der Wohnungslosenhilfe erhalten: Das sind rund ein Fünftel aller 12.750 Kundinnen und Kunden, die Kontakt mit den Einrichtungen hatten, die vom Fonds Soziales Wien (FSW) gefördert werden. Die Zahl der Minderjährigen sei hoch, da vielfach Mehrkindfamilien betroffen sind.\n",
        "\n",
        "Im Zuge des Winterpakets des FSW mit Partnerorganisationen stehen 40 Plätze in Notunterkünften zur Verfügung, die nur für Familien gewidmet sind. Im Vorjahr sei man mit 21 Plätzen gestartet, sagte Hollendohner. Diese mussten später aufgestockt werden. Diesmal startete die Wohnungslosenhilfe gleich mit 40 Plätzen, um dem steigenden Bedarf gerecht zu werden. Außerdem gibt es Plätze für Familien in Chancenhäusern, in eigenen Mutter-Kind-Einrichtungen oder im mobil betreuten Wohnen nach dem Housing-first-Prinzip, das eigenständiges Wohnen ermöglicht, begleitet und sichert.\n",
        "Mütter mit Babys als vulnerable Zielgruppe\n",
        "Schwangere Personen und Mütter mit Babys sind \"eine besonders vulnerable Zielgruppe\", sagt Hollendohner. Hier komme es auf den Faktor Zeit an – also wann die Stadt von der Notlage erfährt. Niederschwellig können Betroffene in einem Chancenhaus für Frauen und später in einem Chancenhaus für Familien unterkommen. Wenn mehr Zeit zum Reagieren bleibt, sei es aber einfacher, passendere Plätze zu finden.\n",
        "14- bis 20-Jährige, die wegen Alkohols, Drogen, Streits in der Familie oder eines anderen Grunds auf der Straße landen, können in der Notschlafstelle a_way der Caritas für bis zu fünf Nächte im Monat ohne Anmeldung Unterschlupf finden.\n",
        "\n",
        "Phänomen \"vererbte Wohnungslosigkeit\"\n",
        "Laut Hollendohner ist zuletzt auch das Phänomen \"vererbte Wohnungslosigkeit\" Thema geworden. \"Zu uns kommen auch Personen, die schon vor 15 oder 20 Jahren als Kind in der Wohnungslosenhilfe betreut wurden.\" Hier gebe es eine enge Zusammenarbeit mit der Kinder- und Jugendhilfe der Stadt (MA 11) sowie mit Sozialarbeitern. Das Ziel sei, eng mit Betroffenen zu arbeiten, um künftige Wohnungslosigkeit zu verhindern. (David Krutzler, 18.12.2024)\n",
        "\"\"\"\n",
        "\n",
        "bow_vector = dictionary.doc2bow(preprocess(unseen_document))\n",
        "\n",
        "print(\"Simply printing the lda_model output would look like this:\")\n",
        "pprint(lda_model[bow_vector])\n",
        "\n",
        "print(\"\\n\\nSo let's make it nicer, by printing the topic contents:\")\n",
        "for index, score in sorted(lda_model[bow_vector], key=lambda tup: -1*tup[1]):\n",
        "    print(\"Score: {}\\t Topic: {}\".format(score, lda_model.print_topic(index, 5)))\n"
      ],
      "execution_count": 28,
      "outputs": [
        {
          "output_type": "stream",
          "name": "stdout",
          "text": [
            "Simply printing the lda_model output would look like this:\n",
            "[(1, 0.6668052), (3, 0.034352727), (6, 0.030207127), (8, 0.265316)]\n",
            "\n",
            "\n",
            "So let's make it nicer, by printing the topic contents:\n",
            "Score: 0.6671279668807983\t Topic: 0.017*\"prozent\" + 0.015*\"osterreich\" + 0.013*\"standard\" + 0.011*\"jahr\" + 0.009*\"mensch\"\n",
            "Score: 0.2657630443572998\t Topic: 0.011*\"jahr\" + 0.009*\"word\" + 0.007*\"sagt\" + 0.005*\"wien\" + 0.005*\"mann\"\n",
            "Score: 0.034043993800878525\t Topic: 0.008*\"jahr\" + 0.008*\"wien\" + 0.006*\"forsch\" + 0.006*\"gross\" + 0.005*\"wissenschaft\"\n",
            "Score: 0.029746003448963165\t Topic: 0.017*\"fluchtling\" + 0.009*\"sagt\" + 0.008*\"mensch\" + 0.007*\"grenz\" + 0.007*\"russland\"\n"
          ]
        }
      ]
    },
    {
      "cell_type": "markdown",
      "source": [
        "## Visualization"
      ],
      "metadata": {
        "id": "NOl16tMOsmYd"
      }
    },
    {
      "cell_type": "markdown",
      "source": [
        "Finally, there are packages that can visulaize the results, such as [pyLDAvis](https://pypi.org/project/pyLDAvis/) and [tmplot](https://pypi.org/project/tmplot/).\n",
        "\n",
        "Let's take a look at pyLDAvis visualization result.\n",
        "\n",
        "**Please note:** this is an old and unmaintained package. It is easier to run it in Google-Colab than on your laptop. But, if you still try running it locally, please try **lowering your python version** (3.6 / 3.6 / 3.8) when you create the poetry environment for this exercise."
      ],
      "metadata": {
        "id": "Am2p_6seTOOE"
      }
    },
    {
      "cell_type": "code",
      "source": [
        "%pip install pyLDAvis"
      ],
      "metadata": {
        "id": "ERQDi99Rs6dO",
        "colab": {
          "base_uri": "https://localhost:8080/"
        },
        "outputId": "1aff92b6-f8eb-4c00-f2fc-66a834933976"
      },
      "execution_count": 29,
      "outputs": [
        {
          "output_type": "stream",
          "name": "stdout",
          "text": [
            "Collecting pyLDAvis\n",
            "  Downloading pyLDAvis-3.4.1-py3-none-any.whl.metadata (4.2 kB)\n",
            "Requirement already satisfied: numpy>=1.24.2 in /usr/local/lib/python3.10/dist-packages (from pyLDAvis) (1.26.4)\n",
            "Requirement already satisfied: scipy in /usr/local/lib/python3.10/dist-packages (from pyLDAvis) (1.13.1)\n",
            "Requirement already satisfied: pandas>=2.0.0 in /usr/local/lib/python3.10/dist-packages (from pyLDAvis) (2.2.2)\n",
            "Requirement already satisfied: joblib>=1.2.0 in /usr/local/lib/python3.10/dist-packages (from pyLDAvis) (1.4.2)\n",
            "Requirement already satisfied: jinja2 in /usr/local/lib/python3.10/dist-packages (from pyLDAvis) (3.1.4)\n",
            "Requirement already satisfied: numexpr in /usr/local/lib/python3.10/dist-packages (from pyLDAvis) (2.10.2)\n",
            "Collecting funcy (from pyLDAvis)\n",
            "  Downloading funcy-2.0-py2.py3-none-any.whl.metadata (5.9 kB)\n",
            "Requirement already satisfied: scikit-learn>=1.0.0 in /usr/local/lib/python3.10/dist-packages (from pyLDAvis) (1.6.0)\n",
            "Requirement already satisfied: gensim in /usr/local/lib/python3.10/dist-packages (from pyLDAvis) (4.3.3)\n",
            "Requirement already satisfied: setuptools in /usr/local/lib/python3.10/dist-packages (from pyLDAvis) (75.1.0)\n",
            "Requirement already satisfied: python-dateutil>=2.8.2 in /usr/local/lib/python3.10/dist-packages (from pandas>=2.0.0->pyLDAvis) (2.8.2)\n",
            "Requirement already satisfied: pytz>=2020.1 in /usr/local/lib/python3.10/dist-packages (from pandas>=2.0.0->pyLDAvis) (2024.2)\n",
            "Requirement already satisfied: tzdata>=2022.7 in /usr/local/lib/python3.10/dist-packages (from pandas>=2.0.0->pyLDAvis) (2024.2)\n",
            "Requirement already satisfied: threadpoolctl>=3.1.0 in /usr/local/lib/python3.10/dist-packages (from scikit-learn>=1.0.0->pyLDAvis) (3.5.0)\n",
            "Requirement already satisfied: smart-open>=1.8.1 in /usr/local/lib/python3.10/dist-packages (from gensim->pyLDAvis) (7.0.5)\n",
            "Requirement already satisfied: MarkupSafe>=2.0 in /usr/local/lib/python3.10/dist-packages (from jinja2->pyLDAvis) (3.0.2)\n",
            "Requirement already satisfied: six>=1.5 in /usr/local/lib/python3.10/dist-packages (from python-dateutil>=2.8.2->pandas>=2.0.0->pyLDAvis) (1.17.0)\n",
            "Requirement already satisfied: wrapt in /usr/local/lib/python3.10/dist-packages (from smart-open>=1.8.1->gensim->pyLDAvis) (1.17.0)\n",
            "Downloading pyLDAvis-3.4.1-py3-none-any.whl (2.6 MB)\n",
            "\u001b[2K   \u001b[90m━━━━━━━━━━━━━━━━━━━━━━━━━━━━━━━━━━━━━━━━\u001b[0m \u001b[32m2.6/2.6 MB\u001b[0m \u001b[31m20.6 MB/s\u001b[0m eta \u001b[36m0:00:00\u001b[0m\n",
            "\u001b[?25hDownloading funcy-2.0-py2.py3-none-any.whl (30 kB)\n",
            "Installing collected packages: funcy, pyLDAvis\n",
            "Successfully installed funcy-2.0 pyLDAvis-3.4.1\n"
          ]
        }
      ]
    },
    {
      "cell_type": "code",
      "source": [
        "import pyLDAvis.gensim_models as gensimvis\n",
        "import pyLDAvis\n",
        "\n",
        "bow_lda_data = gensimvis.prepare(lda_model, bow_corpus, dictionary)\n",
        "\n",
        "pyLDAvis.display(bow_lda_data)"
      ],
      "metadata": {
        "colab": {
          "base_uri": "https://localhost:8080/",
          "height": 881
        },
        "id": "xwDURjMYslxZ",
        "outputId": "2df2d435-d8fe-43c7-e83a-02485b9ec5bf"
      },
      "execution_count": 30,
      "outputs": [
        {
          "output_type": "execute_result",
          "data": {
            "text/plain": [
              "<IPython.core.display.HTML object>"
            ],
            "text/html": [
              "\n",
              "<link rel=\"stylesheet\" type=\"text/css\" href=\"https://cdn.jsdelivr.net/gh/bmabey/pyLDAvis@3.4.0/pyLDAvis/js/ldavis.v1.0.0.css\">\n",
              "\n",
              "\n",
              "<div id=\"ldavis_el19501362012300736641211962455\" style=\"background-color:white;\"></div>\n",
              "<script type=\"text/javascript\">\n",
              "\n",
              "var ldavis_el19501362012300736641211962455_data = {\"mdsDat\": {\"x\": [0.052319153570063504, 0.03633877804611926, 0.09299815802827678, 0.08356537920825671, -0.014351759976185888, 0.020801512451853462, 0.09193576997753723, -0.13390271625922662, -0.19655538888104618, -0.033148886165648046], \"y\": [-0.04081327534774724, 0.09593408636061937, 0.004591488102502678, 0.021209060121666665, -0.053972616441923145, -0.16631292910286088, 0.08118963823990177, 0.09850929865972168, -0.021566966661113768, -0.01876778393076703], \"topics\": [1, 2, 3, 4, 5, 6, 7, 8, 9, 10], \"cluster\": [1, 1, 1, 1, 1, 1, 1, 1, 1, 1], \"Freq\": [16.51411380476138, 12.458458504201616, 12.455361317169588, 10.591646794012274, 10.220826247322607, 9.730971407016753, 8.944011197564294, 8.110453466111805, 6.589958767956458, 4.384198493883205]}, \"tinfo\": {\"Term\": [\"prozent\", \"euro\", \"fluchtling\", \"spiel\", \"standard\", \"jahr\", \"mensch\", \"osterreich\", \"china\", \"jahrig\", \"million\", \"griechenland\", \"russisch\", \"erst\", \"unternehm\", \"russland\", \"word\", \"polizei\", \"partei\", \"grenz\", \"chines\", \"ukrain\", \"forsch\", \"sieg\", \"syri\", \"minut\", \"griechisch\", \"turkei\", \"grun\", \"wissenschaft\", \"kandidatur\", \"republikan\", \"griss\", \"khol\", \"strolz\", \"trump\", \"glawischn\", \"haupl\", \"podemos\", \"haimbuchn\", \"volkspartei\", \"wahlergebnis\", \"niessl\", \"parteitag\", \"irmgard\", \"puhring\", \"hillary\", \"wahlkampf\", \"juraczka\", \"stichwahl\", \"obamas\", \"clinton\", \"spitzenkandidat\", \"stenzel\", \"stadtrat\", \"vov\", \"wahlkart\", \"landtagswahl\", \"gemeinderat\", \"labour\", \"vassilakou\", \"strach\", \"neos\", \"stronach\", \"partei\", \"obama\", \"bell\", \"kandidat\", \"demokrat\", \"parteichef\", \"grun\", \"landtag\", \"wahl\", \"landeshauptmann\", \"freiheit\", \"mandat\", \"proll\", \"blau\", \"abgeordnet\", \"volkswag\", \"burgermeist\", \"polit\", \"koalition\", \"stimm\", \"faymann\", \"prasident\", \"heinz\", \"mehrheit\", \"parlament\", \"regier\", \"chef\", \"sagt\", \"standard\", \"wien\", \"land\", \"seit\", \"neu\", \"hatt\", \"entscheid\", \"fordert\", \"schon\", \"erklart\", \"muss\", \"jahr\", \"erst\", \"bereit\", \"recht\", \"laut\", \"geb\", \"gross\", \"viel\", \"soll\", \"gibt\", \"prozent\", \"weit\", \"pfeiff\", \"evolutionar\", \"molekul\", \"teilch\", \"dissertation\", \"biologi\", \"planck\", \"philosoph\", \"mozart\", \"galaxi\", \"zeitgeschicht\", \"gustav\", \"workshops\", \"unis\", \"produktivitat\", \"eigenschaft\", \"spezi\", \"cambridg\", \"publikation\", \"promoviert\", \"kohlendioxid\", \"gesang\", \"reflektiert\", \"review\", \"biology\", \"orch\", \"epoch\", \"physik\", \"fachjournal\", \"zart\", \"evolution\", \"wissenschaft\", \"studier\", \"scienc\", \"fossil\", \"kunst\", \"universitat\", \"saugeti\", \"forsch\", \"gen\", \"holz\", \"universum\", \"biolog\", \"experiment\", \"forschung\", \"zielpunkt\", \"mathemat\", \"art\", \"institut\", \"university\", \"studi\", \"buch\", \"projekt\", \"form\", \"verschied\", \"natur\", \"wien\", \"gross\", \"geschicht\", \"etwa\", \"klein\", \"dabei\", \"jahr\", \"heut\", \"ganz\", \"entwickelt\", \"lang\", \"arbeit\", \"zeit\", \"schon\", \"neu\", \"imm\", \"gibt\", \"erst\", \"sagt\", \"konnt\", \"viel\", \"dafur\", \"mensch\", \"wenig\", \"leb\", \"seit\", \"weit\", \"tsipras\", \"fachblatt\", \"eurogrupp\", \"hilfsprogramm\", \"junck\", \"hilfspaket\", \"dijsselblo\", \"varoufakis\", \"schaubl\", \"jero\", \"nothilf\", \"ath\", \"yanis\", \"phon\", \"grexit\", \"lumia\", \"spotify\", \"syriza\", \"messeng\", \"kommissionschef\", \"betriebssystem\", \"draghi\", \"lagard\", \"firefox\", \"brows\", \"windows\", \"finanzhilf\", \"tragfah\", \"betriebssyst\", \"foglar\", \"microsoft\", \"updat\", \"griechisch\", \"alexis\", \"griechenland\", \"android\", \"appl\", \"griech\", \"apps\", \"googl\", \"iphon\", \"claud\", \"finanzminist\", \"kommission\", \"smartphon\", \"version\", \"wahrungsfond\", \"nutz\", \"brussel\", \"gerat\", \"vorschlag\", \"eurozon\", \"neu\", \"verhandl\", \"europa\", \"einig\", \"soll\", \"sagt\", \"regier\", \"land\", \"allerding\", \"muss\", \"euro\", \"bereit\", \"weit\", \"staat\", \"moglich\", \"gibt\", \"erst\", \"osterreich\", \"seit\", \"deutsch\", \"jahr\", \"beim\", \"geb\", \"schon\", \"geschaftsjahr\", \"umsatz\", \"aktionar\", \"ebit\", \"offshor\", \"unicredit\", \"heta\", \"ebitda\", \"gesamtjahr\", \"kapitalerhoh\", \"eigenkapital\", \"negativzins\", \"erwirtschaftet\", \"fiskus\", \"transaktion\", \"entfiel\", \"ersparnis\", \"jahresumsatz\", \"olpreis\", \"einkunft\", \"telekom\", \"liegenschaft\", \"bawag\", \"diskont\", \"nachbors\", \"ruckstell\", \"zukauf\", \"divid\", \"holding\", \"borsennotiert\", \"quartal\", \"operativ\", \"anleih\", \"ikea\", \"akti\", \"gmbh\", \"analyst\", \"euro\", \"filial\", \"aufsichtsrat\", \"million\", \"bank\", \"konz\", \"milliard\", \"marktanteil\", \"prozent\", \"eigentum\", \"investor\", \"geschaft\", \"unternehm\", \"hypo\", \"verkauf\", \"dollar\", \"vorstand\", \"betrug\", \"kund\", \"mitarbeit\", \"firm\", \"wien\", \"jahr\", \"rund\", \"standort\", \"markt\", \"anteil\", \"osterreich\", \"hoh\", \"vorjahr\", \"laut\", \"kost\", \"seit\", \"zahl\", \"neu\", \"chef\", \"erst\", \"gewinn\", \"bereit\", \"seien\", \"weg\", \"weit\", \"deutsch\", \"sagt\", \"soll\", \"land\", \"drei\", \"zwei\", \"ausgrab\", \"durchmess\", \"archaolog\", \"schadel\", \"uberr\", \"obduktion\", \"fund\", \"boz\", \"zeitrechn\", \"princ\", \"dilma\", \"witw\", \"kriminalist\", \"hakenkreuz\", \"molenbeek\", \"friedhof\", \"knoch\", \"geborg\", \"razzi\", \"rousseff\", \"verschuttet\", \"belagert\", \"antik\", \"tunnel\", \"besiedelt\", \"jakarta\", \"bauarbeit\", \"hinterblieb\", \"hektar\", \"flamm\", \"grab\", \"siedlung\", \"flughaf\", \"hund\", \"erdbeb\", \"entdeckt\", \"agypt\", \"tat\", \"verdacht\", \"opf\", \"ermittl\", \"bahn\", \"attentat\", \"polizei\", \"mann\", \"kilomet\", \"word\", \"met\", \"festgenomm\", \"gefund\", \"tot\", \"frau\", \"koln\", \"jahrig\", \"alt\", \"angeklagt\", \"jahr\", \"anschlag\", \"verletzt\", \"weg\", \"stadt\", \"untersuch\", \"tier\", \"berichtet\", \"zwei\", \"sagt\", \"angab\", \"laut\", \"wien\", \"weit\", \"bekannt\", \"mensch\", \"rund\", \"seien\", \"konnt\", \"bereit\", \"drei\", \"erst\", \"seit\", \"etwa\", \"lang\", \"gross\", \"erklart\", \"neu\", \"bohmermann\", \"kosovo\", \"radkersburg\", \"mazedon\", \"peskow\", \"mazedoni\", \"kosovar\", \"idomeni\", \"notquarti\", \"libysch\", \"ostukrain\", \"belgrad\", \"diyarbakir\", \"uberfahrt\", \"serbi\", \"grenzubertritt\", \"transitland\", \"slowen\", \"balkanstaat\", \"serbisch\", \"grenzstadt\", \"kurdisch\", \"ankara\", \"kampfjet\", \"moskaus\", \"scharia\", \"kurd\", \"dmitri\", \"interfax\", \"tranengas\", \"ukrain\", \"syrisch\", \"turkisch\", \"separatist\", \"kreml\", \"kiew\", \"putin\", \"syri\", \"kroatisch\", \"russisch\", \"einreis\", \"moskau\", \"turkei\", \"kroati\", \"ungarn\", \"wladimir\", \"russland\", \"ungar\", \"sloweni\", \"grenzubergang\", \"fluchtling\", \"irak\", \"erdogan\", \"grenz\", \"soldat\", \"zaun\", \"syr\", \"spielfeld\", \"polizei\", \"mensch\", \"kampf\", \"islam\", \"sagt\", \"deutschland\", \"staat\", \"regier\", \"word\", \"seien\", \"seit\", \"osterreich\", \"land\", \"angab\", \"montag\", \"zwei\", \"rund\", \"hatt\", \"jahr\", \"bereit\", \"jobsuch\", \"mittelschicht\", \"mindestlohn\", \"arbeitslos\", \"armut\", \"berufsbild\", \"sozialstaat\", \"wifo\", \"diskrepanz\", \"zuwand\", \"ungleich\", \"arbeitsmarkt\", \"zuwander\", \"einkomm\", \"pflichtschul\", \"arbeitskraft\", \"oecd\", \"demograf\", \"kindergart\", \"sozialhilf\", \"skandinav\", \"wachstumsrat\", \"uberstund\", \"kognitiv\", \"padagog\", \"sozialsyst\", \"kinderbetreu\", \"schulsyst\", \"analyt\", \"psychologi\", \"market\", \"gehirn\", \"durchschnitt\", \"hassposting\", \"okonom\", \"befragt\", \"statist\", \"standard\", \"arbeitnehm\", \"arbeitszeit\", \"prozentpunkt\", \"wachstum\", \"prozent\", \"wohlstand\", \"integration\", \"osterreich\", \"kind\", \"studi\", \"job\", \"schnitt\", \"mensch\", \"sozial\", \"gibt\", \"wenig\", \"facebook\", \"arbeit\", \"hoh\", \"viel\", \"zahl\", \"stark\", \"jahr\", \"imm\", \"land\", \"liegt\", \"person\", \"geht\", \"fluchtling\", \"etwa\", \"gross\", \"deutlich\", \"schon\", \"wien\", \"sagt\", \"seit\", \"laut\", \"muss\", \"erst\", \"admira\", \"grodig\", \"zeidl\", \"zamg\", \"meteorologi\", \"altach\", \"barisic\", \"kainz\", \"slalom\", \"schottel\", \"foda\", \"kayod\", \"lask\", \"gorgon\", \"jelic\", \"zentralanstalt\", \"geodynam\", \"edomwonyi\", \"wack\", \"weltcup\", \"strebing\", \"fallout\", \"grozurek\", \"avdijaj\", \"siebenhandl\", \"venuto\", \"dibon\", \"schwegl\", \"laim\", \"pfeifenberg\", \"riesentorlauf\", \"pavelic\", \"rapid\", \"soriano\", \"keita\", \"ried\", \"schobesberg\", \"mattersburg\", \"celsius\", \"happel\", \"schaub\", \"fink\", \"vastic\", \"wolk\", \"mannschaft\", \"hirsch\", \"grad\", \"hofmann\", \"ball\", \"wolfsberg\", \"spiel\", \"stadion\", \"arena\", \"sturm\", \"planet\", \"salzburg\", \"bull\", \"bundesliga\", \"train\", \"austria\", \"temperatur\", \"fussball\", \"minut\", \"sieg\", \"parti\", \"punkt\", \"erst\", \"team\", \"saison\", \"platz\", \"zweit\", \"best\", \"schon\", \"zwei\", \"vier\", \"wien\", \"drei\", \"beim\", \"gross\", \"rund\", \"osterreich\", \"bereit\", \"sagt\", \"konnt\", \"seit\", \"jahr\", \"neu\", \"volltext\", \"atletico\", \"stok\", \"leic\", \"juventus\", \"barca\", \"tottenham\", \"dallas\", \"chelsea\", \"neymar\", \"warrior\", \"monchengladbach\", \"hasenhuttl\", \"tampa\", \"suarez\", \"cavali\", \"tempelberg\", \"lewandowski\", \"sanaa\", \"hadi\", \"aden\", \"vidal\", \"ronaldo\", \"thiem\", \"borussia\", \"leverkus\", \"grabn\", \"houthi\", \"united\", \"liverpool\", \"nadal\", \"guardiola\", \"basier\", \"schalk\", \"netanjahu\", \"halbfinal\", \"israel\", \"barcelona\", \"hinspiel\", \"minnesota\", \"manch\", \"dortmund\", \"ingolstadt\", \"leagu\", \"taliban\", \"champion\", \"achtelfinal\", \"palastinens\", \"bay\", \"madrid\", \"jerusal\", \"city\", \"artikel\", \"tor\", \"sieg\", \"minut\", \"alaba\", \"saison\", \"train\", \"niederlag\", \"rechtlich\", \"spiel\", \"steht\", \"punkt\", \"erst\", \"verfug\", \"real\", \"jahrig\", \"zweit\", \"beim\", \"team\", \"grund\", \"zwei\", \"drei\", \"seit\", \"jahr\", \"rund\", \"sagt\", \"bereit\", \"neu\", \"schon\", \"vettel\", \"hamilton\", \"peking\", \"mannch\", \"taiwan\", \"chinas\", \"nico\", \"wang\", \"ferrari\", \"yuan\", \"jinping\", \"blockbust\", \"kinofilm\", \"volksrepubl\", \"clip\", \"toyota\", \"hongkong\", \"vollzug\", \"chines\", \"delhi\", \"kinostart\", \"franziskus\", \"renault\", \"verbuss\", \"vatikan\", \"christi\", \"prix\", \"xinhua\", \"papst\", \"china\", \"formel\", \"notenbank\", \"satellit\", \"indi\", \"tokio\", \"japan\", \"film\", \"bors\", \"autos\", \"indisch\", \"jahrig\", \"jahr\", \"welt\", \"dollar\", \"weltweit\", \"franzos\", \"erst\", \"markt\", \"twitt\", \"mann\", \"zwei\", \"bereit\", \"drei\", \"seit\", \"sagt\", \"neu\", \"weit\", \"fahrzeug\", \"gross\", \"prozent\", \"beim\", \"land\", \"beid\"], \"Freq\": [6349.0, 5135.0, 3540.0, 3018.0, 3226.0, 9849.0, 4092.0, 5955.0, 830.0, 2244.0, 3084.0, 1299.0, 1104.0, 6698.0, 2254.0, 1302.0, 3470.0, 1433.0, 1376.0, 1457.0, 620.0, 877.0, 1548.0, 1102.0, 930.0, 1132.0, 927.0, 933.0, 1660.0, 1100.0, 137.126127292456, 233.12621481068857, 218.12862137616693, 134.85472671324695, 82.63248638079506, 335.24818491605663, 135.6903240837087, 291.93537401151, 48.454558003159214, 58.06629994216413, 96.35614776403605, 51.59414165495664, 137.25799433734508, 101.73236292728673, 61.457767089160974, 72.40821082681512, 92.42413970742626, 298.51040795565257, 39.44804432998, 78.80154480865716, 55.621867636839696, 187.6825077113237, 34.82177063182227, 41.51494662748031, 60.82392506151214, 35.15599035540395, 61.1914994713414, 77.16636186875638, 160.25088046002531, 41.64435223658926, 108.93488104822073, 404.23484895807115, 301.3328543168416, 186.5895203700819, 1245.5421462278725, 359.16847962050014, 333.80114904639925, 606.9458193236302, 288.87440525422363, 155.34138373077334, 1400.3728146474396, 154.2071321523253, 1096.0143923065955, 310.3300234597649, 370.1245534204686, 202.93100967903422, 161.50188030626956, 343.4608804007042, 499.3712574535668, 417.57867338112504, 444.4427216918424, 1640.7739488072386, 285.8500730975584, 469.68347198688593, 445.3606690225457, 918.2112021116949, 299.0132137159002, 383.25553402432223, 510.10671520196934, 999.0114396397283, 695.0917227399043, 1811.861930238229, 927.4187982665812, 1380.4282227759088, 897.6612000272027, 960.4101944444367, 892.220637371257, 654.4249312682185, 570.5340916305223, 455.3233526567989, 750.4408378883684, 619.1883760942825, 656.7117801891437, 899.7755767952791, 797.3243167038192, 671.990341196869, 500.3190303826768, 532.7058951865662, 500.643267044545, 531.4185608406057, 516.3745399897797, 505.6484748331406, 507.89791816932376, 512.6864921455514, 508.50047215555014, 157.89402410553745, 70.27334245291507, 78.93310961698592, 139.78318012220194, 37.2398134789787, 30.89626515072993, 78.63406739453842, 66.26812529221596, 21.04912818881619, 77.54162807963164, 13.481994580092454, 19.45876904434938, 14.648579355883385, 43.36640041511988, 48.82284747261989, 124.55773385218933, 81.156686122259, 58.412855414301326, 50.618494158730236, 19.87569967484417, 41.94773298573651, 10.218185410529191, 20.301464360565333, 27.401273598954123, 45.09934110734545, 8.27853663157311, 24.568336343756528, 192.0112852429086, 92.87222835442326, 10.820943280418623, 80.24399432096443, 915.8869166849471, 100.39031754689903, 175.86604056135772, 97.48438732409659, 106.62102253880411, 605.998059421451, 57.63812612309438, 1074.785334798597, 117.0583331799462, 71.81962585159764, 95.36918662503952, 124.46921200884795, 204.29279232075427, 247.24182959666555, 150.45719475380713, 109.3073833678534, 165.88265170016754, 439.01704277801025, 180.01839356067327, 548.3673040755992, 255.3598783017537, 412.06525450735086, 264.97008724922983, 301.8293603967421, 449.87080492322764, 1445.6071799264787, 1036.9203209092527, 294.15807506391144, 823.7079246924569, 517.7698454689158, 707.981231455007, 1510.1860867546518, 475.52380319466, 613.7082549992894, 267.1223749230279, 688.4039912812893, 505.1105070662782, 535.6875781963441, 748.6009580894178, 866.860256603094, 608.092209636521, 643.6239348401467, 827.8660582872768, 914.189037687138, 571.6566396361899, 596.8651743421782, 465.7824431018706, 564.6711111134032, 495.90083744600526, 393.3910303711266, 510.43300591612416, 462.52724266862293, 457.8037207880861, 183.8839768089016, 137.4119306054744, 126.57842168847421, 161.32233903398097, 89.62519835496943, 85.28742727721082, 139.0395819030729, 109.98973058749111, 57.10399920208787, 49.35333989244893, 610.2571333539639, 45.25572495437774, 49.12467474969887, 103.0426746517734, 57.58536270831184, 54.24423753887302, 75.03901154631382, 51.85858436308573, 27.816254732695928, 47.76548503985427, 64.80308107617208, 93.34389003080699, 23.135126038023984, 87.1781908160845, 478.0374037594032, 42.24445716344953, 23.946323619700337, 99.23353603924917, 36.34793157437136, 451.9939473063503, 255.73320878131102, 843.2642261968915, 159.6697379287015, 1145.7437219278252, 367.1387917593535, 723.8251365668406, 186.9420630330477, 191.31804594785032, 621.9859664820887, 240.2677665147965, 79.66982117057559, 457.83914143659956, 592.7164553611493, 476.8978945687457, 287.2601751870142, 158.30751364282926, 733.2926823517365, 421.8428141725272, 564.1637670252733, 372.3094607444604, 222.214628379161, 1706.8894839891123, 399.7142715025448, 1058.4483529780327, 254.62912023916695, 896.3189720744268, 1287.7659399309446, 700.5455263893173, 874.074390531361, 641.4861727493925, 670.918701708812, 842.9126710819377, 776.7115204378742, 742.0997055402593, 502.72016874996984, 535.0726434043329, 596.5877043915494, 642.4677597036366, 623.2098638142924, 605.2928569663942, 541.1761804166057, 603.832449128502, 540.7968273424091, 499.60837156582636, 509.61290266771874, 63.8756979312419, 342.8699797898316, 69.33181624765984, 24.38246550826877, 68.49379412677372, 23.37939877413357, 50.24817697505438, 19.510394058348986, 29.638973176893458, 20.925067204594736, 35.39643624048129, 27.74468446668031, 31.655065379748432, 26.994247688053754, 53.12328104383081, 24.820478089707834, 23.813395275121106, 26.882026422454178, 92.52291941645653, 16.489714779499288, 156.79671132245645, 15.978122496015668, 20.36579277294316, 31.907649097488715, 10.996790098570367, 12.549269408906259, 30.16441477289908, 46.84970540445289, 94.30445622763325, 28.162541784712957, 242.7923374555708, 84.22109984833988, 87.82096111991709, 78.22251122637019, 252.22360919312877, 110.40480826429918, 93.59842752281531, 3379.3409009130683, 143.72768095765693, 85.69429679853391, 1666.933657581623, 636.2577618787985, 400.5639346932484, 833.7395699737567, 84.86818200389882, 2957.4165616189553, 157.4228323563605, 170.19638136337738, 372.7965430787081, 1143.82861013695, 137.5084457050903, 280.12319678919863, 640.9851817731129, 180.1519277437396, 150.31870309658524, 315.7357901931493, 444.6396778445069, 220.26728713815015, 1516.106303804341, 1801.492221737512, 963.0022627075602, 195.35159447440395, 320.34755401621476, 224.99377346990346, 1047.2694946379288, 617.9499307088564, 267.83592819018793, 687.6601392383574, 278.6414216320752, 816.1900029760842, 478.0267285603434, 776.8627112983469, 410.8399220191117, 704.6950842778197, 301.53091363608434, 568.9888722897418, 463.90122243536, 440.0605358679161, 515.351229099923, 458.98240460163186, 566.6373514990428, 440.501177396756, 465.6660784211525, 403.255730230275, 399.8747189217243, 85.75145008127494, 76.28851792966513, 290.70222212919964, 35.263559461475474, 100.41237133884962, 24.859985403879985, 181.8538684738971, 27.711580601242943, 65.91607302867061, 86.6128253539037, 14.615037037973563, 23.823142909304995, 11.349909129584336, 17.06426276154877, 16.012759753660923, 58.48183721274898, 94.93179552699925, 45.9633481282012, 16.045439950076148, 56.19469939918796, 32.42793147535109, 17.256926340668556, 85.96640295241045, 80.12945343375735, 37.52976248696815, 15.329144267306576, 41.03534618552104, 13.996002175118386, 47.943698765350135, 33.202482513774555, 221.53908761890779, 90.07654797516821, 256.5516399700585, 130.69766879352676, 94.70017641435271, 367.82250534402567, 184.70038773411449, 222.6324134592667, 305.9024123089351, 310.9289031551086, 319.8387557560745, 166.15358906265143, 141.2749274396381, 677.5094887951453, 762.9164550583854, 392.8089153657523, 1304.0810963249814, 346.0561389651832, 199.54260642356738, 295.48020665115985, 222.9146262158271, 579.4784012618701, 206.34056321343857, 709.6396227508708, 509.51686794483254, 178.48060759390916, 1574.352359110598, 214.97648093608564, 297.9119991121652, 640.0311995828897, 437.3298602080551, 301.75636815096954, 301.67777080191604, 442.94443736100914, 741.8237413909808, 1036.7491432252923, 406.6117249084444, 594.6073031020877, 793.4402386951333, 620.8848581571414, 397.28124730754814, 590.4319209197998, 573.9147152125204, 509.76466036578887, 502.7045311036423, 555.8609517284807, 489.4718583001268, 590.8261994900085, 567.6870991341849, 492.22256154464037, 466.14982873355183, 419.7113397430172, 392.7839627471514, 401.57241779903853, 113.50132120352538, 145.86020331004786, 41.56574458402101, 104.17960360403318, 47.53540316924156, 237.3634814705995, 29.448154980752765, 52.94702987674228, 47.695938983842616, 44.29232887708996, 77.58889307066568, 72.43812897036877, 21.712120989307273, 26.397015657867506, 287.2597118684189, 35.16054764070451, 23.375574246955008, 167.32401973571288, 48.40400387942197, 155.9923759360651, 22.017565864882958, 103.47270388775335, 158.1697885690043, 28.37189140364317, 28.22473694506008, 22.050716834258992, 82.60058007512777, 54.41950094194671, 27.756347003935893, 40.087548766355376, 799.4133990896212, 522.1736142413654, 556.9729239331259, 77.00266223559277, 59.782614923820375, 288.78574072378683, 322.6900308830548, 794.7666640431204, 172.8649651624149, 937.0185498082305, 131.17008391845815, 545.2611242039626, 776.110525153162, 275.28959836176955, 491.9423252612046, 151.4739562599243, 998.4033024519418, 280.1737063244567, 319.88602689875086, 131.39299728319827, 2417.7201179235853, 404.4554201461114, 139.3631149867658, 998.4665457950327, 345.0153517533052, 210.60110927862507, 201.4910254609318, 160.82327404407397, 598.8872715530617, 1133.9139139152905, 504.1518831139061, 338.3328542739864, 1247.9239896219935, 605.2567241939084, 564.0614863983287, 667.0714927313275, 701.5925834992349, 644.975161959525, 833.1368598948214, 779.5749268715628, 684.7725082565928, 455.49004690261137, 436.8340374770196, 525.206834886759, 502.5092715964024, 440.09708973924427, 474.5178456230262, 437.8833138023324, 39.22083955542709, 42.80874271656905, 125.3079064938499, 260.20788909799387, 97.09102604089712, 16.862291444669538, 32.6727136240684, 146.60098093692085, 28.343808393328423, 67.52483131929847, 98.80993680125393, 317.60273772586544, 56.55435425573439, 178.43286551720593, 11.827041252577144, 90.18459320802422, 193.10085442459942, 15.142732722820046, 98.24997164006606, 22.30069639814695, 17.643182655914597, 23.473411876267978, 49.24347073849111, 21.607273480909704, 52.343154902231745, 16.09124515768201, 13.668287514609666, 13.822163030004486, 32.6880824897743, 14.234496161285122, 25.216283267202094, 65.86837772526064, 85.91546962972097, 34.09975724181916, 299.4657359003373, 200.9306983892297, 184.85444094343435, 1682.5569709853116, 133.41085739603267, 80.6713880490058, 100.82041349973525, 281.5152279903384, 2137.784900218465, 48.82466635907481, 158.36077735935214, 1869.3872835790155, 516.0996741557129, 474.0456383126517, 157.57536994017102, 165.11973155348898, 1122.784997145899, 303.7916569755658, 897.6379641674118, 832.3248141402592, 303.3808884342309, 517.5290344449699, 613.234772733834, 749.0461331647693, 548.2841390337893, 591.8452979823769, 1364.104851495817, 587.1128921628842, 702.0204533352531, 359.69279911234764, 405.96244825606686, 482.8445872444601, 528.9866446823722, 509.98038903458115, 521.475898976623, 352.8908433302546, 505.96843458632605, 503.9057267996025, 508.6035647566219, 455.9052153991851, 390.3450330742887, 378.35557753112266, 378.4604413135825, 209.77048772594597, 219.112244515065, 80.61272699213698, 52.79220861331294, 48.91011819427458, 171.3556952677632, 149.76108258502398, 96.5237649116108, 71.61086234807735, 43.87825571466336, 38.6465610131776, 44.56735350410408, 61.52449095096706, 36.76661667538679, 49.6829970134594, 35.61441676560617, 37.71827286859449, 31.610906910078025, 92.70581691983608, 145.81081006740132, 38.40732344985617, 44.075882640174186, 27.273373897748947, 27.243194383291502, 25.53512828135822, 31.50005536166752, 43.49122283082016, 28.049569091511295, 29.68338009982811, 41.50876256023212, 46.43555649336519, 39.114367091357515, 540.1001440390742, 82.90948583071939, 62.750561544906255, 153.55336955947791, 69.8327190763726, 129.07644127340052, 101.10318083129393, 77.93466769145192, 58.09486395192076, 74.62936680391913, 48.686992108056806, 88.61756163890631, 375.35026228821675, 76.75187350964086, 357.28919529464116, 138.44522811703249, 223.27418501944996, 68.10224932147226, 1690.4022040939926, 225.58575373819966, 141.27125808290432, 309.9236376741963, 225.40161486384298, 710.4931836079134, 202.46414529624624, 199.73415025459207, 383.51965115906694, 428.2453274076186, 155.86441224423257, 335.1428134152874, 448.9714714526434, 424.51312970105647, 215.283903979876, 438.9602082683851, 1115.8237418380277, 389.04681173712305, 266.35963331934823, 398.05008588252826, 439.73822603505965, 299.96470812841613, 589.3307214687077, 555.82872234656, 355.17127452631183, 522.0966710239268, 393.44224389503773, 385.08035355811535, 417.8699138183001, 375.5857636613685, 375.3817703757129, 353.77917276669046, 381.13733761201365, 321.86644373593566, 337.2714706723354, 344.9741190210468, 319.054427855213, 265.9667659479524, 81.00855063567994, 66.36086365353643, 67.9821534017674, 86.3794400665837, 44.105492948654266, 50.10650676230953, 53.019723420763256, 84.11209370834423, 47.015194379666774, 63.36445967195683, 38.63602919750078, 39.386567244176206, 29.7326211325569, 34.240000285231034, 28.27829783815933, 26.666745516527033, 35.88859263786717, 28.691848044512476, 26.10258302048442, 32.63479071615247, 39.922791490633344, 56.608806256303055, 251.74345979887687, 77.09707514031622, 74.47871017033863, 36.63562641650103, 23.13433373663361, 119.69074904410206, 106.57436417957409, 79.49110667893557, 62.53665785767224, 277.84765385111143, 73.63387196928122, 39.566972661843764, 123.97569896110902, 448.08987224315416, 186.9601688483242, 143.05159713262643, 57.299056645444026, 161.08064248913755, 121.93106952277782, 84.63561875044432, 395.76290343435437, 103.28758542427983, 238.2612940112676, 110.2324035577801, 103.14285559235833, 353.0709127562108, 212.23475826502997, 95.52736603721124, 198.85396692428378, 303.0455055513918, 291.24762414126417, 500.8151933108274, 488.15423725860666, 113.36110393236594, 303.6783012878106, 319.7145990039851, 204.9169260046722, 269.74118319115723, 689.7183322062285, 439.7393357527523, 388.1632611711169, 870.8382808128719, 296.7342283934873, 189.47776213842008, 432.9964993550019, 371.9649616091554, 460.345155157528, 304.8087414440304, 329.113774691538, 438.4534913093413, 381.5822293499597, 423.9125598392944, 471.9206484297371, 351.2522880576862, 397.93154943924804, 333.8095267454331, 298.2770488401464, 285.2980071721685, 49.29578339043486, 63.810501329484886, 272.6402520491242, 208.38974617952337, 42.588871208845156, 186.56227498292668, 19.08821727419563, 42.44203533303495, 41.603501791784545, 65.04981682810524, 22.748009792924627, 28.376187936632494, 14.189566774657855, 55.606237249112915, 16.849784950806242, 61.14548012770514, 53.14509035883845, 22.478786991130953, 522.155169705392, 35.745939528711475, 14.236228123097021, 38.484444288480844, 40.59621891205212, 13.61958980906516, 35.77256670078848, 35.426712399728004, 37.3457535439226, 15.164561838632741, 62.57231595454251, 633.1142413105356, 76.76703390583575, 195.09320678075545, 128.81485073013332, 193.99331208839374, 76.68053934330848, 320.84511611653653, 226.30996422751875, 121.10322943434876, 216.09803543323804, 57.466256772835614, 371.98669770015294, 804.6137612818032, 227.77876045285097, 231.34099777924965, 164.84061252706974, 171.94888631010934, 442.29850161304256, 148.71593497862864, 123.13407626589684, 202.54194672680381, 292.1743304559797, 270.49616682504376, 233.28034833960538, 289.0494728663159, 327.8371548565171, 274.49280911101204, 217.43938287217756, 118.4181066133422, 195.17768170290336, 212.8144938969466, 180.94777680406258, 177.11298281102023, 154.97858460572866], \"Total\": [6349.0, 5135.0, 3540.0, 3018.0, 3226.0, 9849.0, 4092.0, 5955.0, 830.0, 2244.0, 3084.0, 1299.0, 1104.0, 6698.0, 2254.0, 1302.0, 3470.0, 1433.0, 1376.0, 1457.0, 620.0, 877.0, 1548.0, 1102.0, 930.0, 1132.0, 927.0, 933.0, 1660.0, 1100.0, 138.98797061089638, 236.43697094753816, 221.58695119502516, 137.24717518857605, 84.26890223329369, 341.96525450214983, 138.57837730265183, 298.2501063422823, 49.54380544338817, 59.42750871867502, 98.62814612153917, 52.84662051468543, 140.75338966436846, 104.36021687477478, 63.04585032751293, 74.3293620857073, 94.89168882382755, 306.9345742111579, 40.60775217286775, 81.24390822383288, 57.39200910004928, 193.79470383841726, 35.9640801311176, 42.892987964551004, 62.849445355062954, 36.34149699659762, 63.2672621815521, 79.85897593983232, 165.87931880262963, 43.11612580193716, 112.93109233750744, 432.83712498101875, 321.7232813391388, 197.73005951171572, 1376.5864361819047, 390.0565692408837, 362.8358796298436, 677.6334446010142, 314.9598834039715, 165.7542938262576, 1660.9103470346017, 164.60409076374975, 1298.1966174444722, 347.3622418169481, 426.73936398436706, 225.08878883817636, 176.41974527692562, 414.14782033708104, 633.9871942668175, 523.473586837349, 564.2986380321643, 2820.085595413327, 346.55249333239465, 640.363424525308, 652.9094504729413, 1731.8267611121253, 400.8541167219125, 568.5475572288753, 889.9358516272637, 2751.399991172081, 1694.6499925262688, 8480.63699886704, 3226.677539475882, 6864.087882549768, 4316.916206510376, 5799.288738109177, 6005.724461921077, 2625.3720852431, 1811.715477388579, 1008.3658841673516, 4295.120567488099, 2529.7964340288086, 3077.5226903677126, 9849.769919377974, 6698.074058537335, 4488.200047125916, 1516.964290628078, 3437.039277229809, 2165.8564502297195, 4349.408973004169, 3441.9454912754222, 2997.0419176190576, 3631.454859776418, 6349.866192219922, 4127.850240373725, 159.52859819380154, 71.82255323239843, 81.29136211277195, 144.68933458975786, 39.26624813862406, 32.6115914091903, 84.38139162368337, 71.34934379351849, 22.731219917020997, 83.74321598351985, 14.638881294503165, 21.205993664898312, 16.024018805243877, 47.4944917334139, 53.58567378767629, 136.96643114210408, 89.63067982352399, 64.57236304749235, 55.9821090161225, 22.032440002364716, 46.77939004543146, 11.436513652337416, 22.75220094243178, 30.760933475102725, 51.0419958453048, 9.42031263822323, 27.964990264449153, 218.86171427268042, 106.71210872206345, 12.503349593405272, 92.7519352419896, 1100.271172933126, 117.53490998301962, 210.80633469320344, 115.529670012063, 129.01283793520486, 822.7553325584029, 67.89170449201798, 1548.7717911281077, 146.36606078679367, 86.39318666851716, 118.17017296031331, 161.60202599577346, 286.2501436852905, 362.5202569038135, 206.01976089167917, 141.87523612346823, 237.89009567083477, 787.1074089004339, 273.2373472979904, 1167.7202075219723, 462.5137900337649, 901.6082044696859, 524.2149704898019, 641.6002184442384, 1164.6664773335851, 6864.087882549768, 4349.408973004169, 675.6939589903121, 3554.9870763258955, 1696.0001357668643, 2822.520374608165, 9849.769919377974, 1498.3235851982122, 2328.781094383382, 587.3981852521672, 2999.299442336837, 1836.54839974779, 2216.4474213843005, 4295.120567488099, 6005.724461921077, 3035.204681411881, 3631.454859776418, 6698.074058537335, 8480.63699886704, 2949.2121788921095, 3441.9454912754222, 1995.8574938972904, 4092.6533597902553, 3291.7927918258997, 1598.0087910196398, 5799.288738109177, 4127.850240373725, 460.24929849309484, 184.88640440881701, 138.58969808939298, 127.71244617710103, 162.97697509485366, 90.70466425381949, 86.32372769443883, 140.79384943041924, 111.53533751127833, 58.118850988770376, 50.4553716699476, 625.4744697414613, 46.54366315802334, 50.52784121156451, 106.1408917337649, 59.36718135790643, 55.98034427271396, 77.46534137703986, 53.79144131310174, 28.860377302134292, 49.6931356759818, 67.47658874082676, 97.78077276474848, 24.246824553385498, 91.42955629110976, 501.624425670873, 44.352532429833616, 25.14267997918681, 104.33966174949775, 38.28281712700047, 483.0011446942426, 274.489483040467, 927.3774055872381, 171.7415378114259, 1299.0252477746815, 403.6771873603157, 827.3838977393469, 202.75941463005637, 210.2915491822117, 762.5293850298594, 279.52774635310493, 84.89226046483752, 599.572358219617, 830.6597995963917, 695.376957966088, 390.4369774906336, 190.78103684073758, 1267.2754372923132, 649.6871427578642, 999.438295009659, 604.7426371065416, 314.16825658598515, 6005.724461921077, 741.0174226231085, 3227.770111450024, 387.10877857226825, 2997.0419176190576, 8480.63699886704, 2751.399991172081, 4316.916206510376, 2631.294242678388, 3077.5226903677126, 5135.522829707635, 4488.200047125916, 4127.850240373725, 1959.4277765544166, 2549.245248865654, 3631.454859776418, 6698.074058537335, 5955.895185359689, 5799.288738109177, 3021.7035742272324, 9849.769919377974, 3189.6344882973804, 2165.8564502297195, 4295.120567488099, 65.21943502684404, 355.1039008306759, 72.20689049241032, 25.44339622552118, 71.78470093309738, 24.57904616624938, 52.84732102347589, 20.573012279941878, 31.269735715975724, 22.152996770365796, 37.511261332294794, 29.434182862709854, 33.59081062327018, 28.763885707804352, 56.63446588961247, 26.546468580432673, 25.621062524736224, 28.970037106702474, 100.21837532317748, 17.970804573748623, 171.54703640311067, 17.497791707026572, 22.340237193499114, 35.27672773478484, 12.22851282131517, 13.989571583458776, 33.63531061186829, 52.32447727161969, 107.23828517419298, 32.071972960242455, 279.4332751706016, 96.28696286187458, 100.66658096448172, 91.74442405729205, 316.7015228525623, 133.37892744242723, 112.06429305146249, 5135.522829707635, 178.3563296610022, 107.1338674178428, 3084.3547492702955, 1038.5712009413405, 620.2900921602672, 1478.4826112982612, 107.0436843031272, 6349.866192219922, 217.9993955300497, 240.3447480227308, 601.5014345432876, 2254.5811705166107, 187.59931382913004, 439.32665035397275, 1233.26599463402, 265.9590739370639, 215.17374426751795, 631.6368682596259, 1053.9176836476963, 388.6954005358324, 6864.087882549768, 9849.769919377974, 3888.197492462029, 342.61333797430467, 764.7140534232769, 434.2940052042683, 5955.895185359689, 2479.6020155884366, 602.8808351310335, 3437.039277229809, 663.5852300905889, 5799.288738109177, 2084.5720717476474, 6005.724461921077, 1694.6499925262688, 6698.074058537335, 854.2001898721945, 4488.200047125916, 2909.263599363535, 2509.1828729908125, 4127.850240373725, 3021.7035742272324, 8480.63699886704, 2997.0419176190576, 4316.916206510376, 3070.7089335825876, 4451.279664597416, 87.26120345665962, 77.94886149571289, 298.72221246259284, 36.4753216957139, 104.17983844110408, 26.438678910212772, 193.55884655696914, 29.865211594911976, 71.14251260750723, 94.12682388759882, 15.901160241731848, 25.935437615979485, 12.465006971570276, 18.75642004842818, 17.719816794460115, 64.99902204631577, 105.64191335295091, 51.23734749471567, 18.001764545462756, 63.224241407522804, 36.61308009990697, 19.517259418389997, 97.25256653848365, 91.09053230046437, 42.69910394749895, 17.677165809621588, 48.0928183644375, 16.479944465399488, 56.5476121744749, 39.28542686128772, 265.90839987316957, 108.99591813853573, 327.13588866238695, 172.468014702649, 122.84217674531875, 559.0861551430584, 266.67886213080584, 333.5794700457601, 479.027546409848, 514.2446642222931, 557.1502631453386, 255.75692739943267, 211.37875298101437, 1433.1826622345511, 1705.3860502398963, 759.0853609494918, 3470.744999887656, 660.6519481549008, 334.36460220575236, 575.0273572328227, 394.1300537572945, 1527.8168979440334, 358.743981682544, 2244.1132375966286, 1461.665272389329, 302.4292342104235, 9849.769919377974, 407.5797597092903, 693.2958015165955, 2509.1828729908125, 1405.2161461539708, 755.0468864035291, 791.1302010495217, 1638.5693291877803, 4451.279664597416, 8480.63699886704, 1438.3624166470263, 3437.039277229809, 6864.087882549768, 4127.850240373725, 1488.9268321090249, 4092.6533597902553, 3888.197492462029, 2909.263599363535, 2949.2121788921095, 4488.200047125916, 3070.7089335825876, 6698.074058537335, 5799.288738109177, 3554.9870763258955, 2999.299442336837, 4349.408973004169, 2529.7964340288086, 6005.724461921077, 116.65537801880083, 149.9959555533963, 42.89780874565591, 107.72065805206658, 49.22430550581507, 246.43133677942333, 30.59057554091083, 55.19224279590563, 50.1133929758244, 46.55449817096182, 81.7531475476112, 76.55245406481944, 22.952443445974644, 27.91700725698943, 304.3681325445683, 37.30796198705935, 24.813522594304747, 178.1988133187209, 51.58198822998316, 166.62383989086126, 23.5615330537386, 111.29179834906773, 170.16024721426172, 30.545273309024644, 30.388247291164316, 23.753555675161348, 88.99745777579572, 59.082756939995974, 30.189006426196386, 43.616437515052596, 877.1037501475354, 571.6346924968082, 627.3483485555704, 84.30032722245917, 65.1195548640546, 325.78693733365367, 366.2387608247313, 930.0958616602321, 193.27366986925816, 1104.6805907455143, 145.85876451008863, 638.6070072318762, 933.9569250111213, 317.45615842978594, 599.1254439281113, 171.8997645296305, 1302.2728495244507, 333.653856536782, 386.1281731679684, 147.8881104861396, 3540.0423495222585, 504.0423089050597, 157.99156071730292, 1457.3961438727238, 437.8305084779245, 255.50309645649085, 242.98625767468855, 194.49883833126634, 1433.1826622345511, 4092.6533597902553, 1180.314916441248, 627.3144648237551, 8480.63699886704, 2191.9435815330985, 1959.4277765544166, 2751.399991172081, 3470.744999887656, 2909.263599363535, 5799.288738109177, 5955.895185359689, 4316.916206510376, 1438.3624166470263, 1824.5470147204442, 4451.279664597416, 3888.197492462029, 2625.3720852431, 9849.769919377974, 4488.200047125916, 41.292461591130056, 45.244123924342034, 133.6157532967835, 280.9579370559156, 109.10900855523259, 19.116315271451978, 37.19412630991603, 168.9807347932962, 33.08810758461783, 78.95559529803104, 116.27097164434986, 377.5906464392326, 68.89922183794909, 217.4876443365102, 14.434535712710419, 110.22551784385706, 237.34041241669448, 19.019122811946797, 124.96305834354446, 28.43965147245303, 22.521277719817125, 30.114191559282496, 63.236466871520214, 27.792981442014717, 67.5409975714929, 20.796808255085327, 17.677821620340318, 17.945180422364253, 42.64332729069443, 18.62406746906476, 33.176361133245415, 89.42287438812465, 118.79295286582591, 45.467136287797864, 441.7728453463286, 307.79283433410933, 282.2896683688082, 3226.677539475882, 206.77043459643042, 120.04210212191826, 155.16595456675694, 500.0966385444993, 6349.866192219922, 68.79224097146428, 286.12865980864734, 5955.895185359689, 1248.781437868869, 1167.7202075219723, 284.9492803827292, 304.56587956013374, 4092.6533597902553, 742.6680740853851, 3631.454859776418, 3291.7927918258997, 800.6955103459289, 1836.54839974779, 2479.6020155884366, 3441.9454912754222, 2084.5720717476474, 2417.1213069688592, 9849.769919377974, 3035.204681411881, 4316.916206510376, 1266.377552177838, 1678.1226531946859, 2371.009242620033, 3540.0423495222585, 3554.9870763258955, 4349.408973004169, 1486.766597134087, 4295.120567488099, 6864.087882549768, 8480.63699886704, 5799.288738109177, 3437.039277229809, 3077.5226903677126, 6698.074058537335, 212.37223401574664, 222.19122296804386, 82.06671283735858, 53.85451823670171, 49.9773676105144, 175.8634027643052, 153.77582991347046, 99.1791713396117, 73.58460602437113, 45.10982899753786, 39.813444440108675, 45.95594245957888, 63.54534347987579, 38.02530246691928, 51.41335686196261, 36.855731530210015, 39.07844686596091, 32.773484717064704, 96.1694796143969, 151.34268953219333, 39.909624822084005, 45.80738337938867, 28.378896214363447, 28.362149376279824, 26.600722866465766, 32.81629813855951, 45.313572336699444, 29.243066411490762, 30.979206202215767, 43.32557281811252, 48.48061902617708, 40.886654772386834, 586.5102370837261, 87.45142656715255, 66.00268776297952, 165.25745412797042, 74.02030442750177, 140.06212893460645, 109.18430608096028, 83.30171937154272, 61.64632655267054, 80.34249664923367, 51.27432626961721, 97.65410388105951, 481.4894496037408, 84.21910456115192, 462.08512952339476, 166.51148589135073, 291.76553189768026, 74.56036371890187, 3018.6540436722485, 301.62452016585956, 176.92752959201815, 452.83492058852306, 315.24565453583676, 1444.4996903676579, 303.9964130793495, 299.7362402781435, 723.9430242961848, 866.0586150105913, 222.21216961909306, 664.0257047553514, 1132.7048253984326, 1102.0948187186405, 384.6733121947558, 1312.9133544959948, 6698.074058537335, 1198.555143714496, 619.6153827461029, 1399.5692587582578, 1886.49899555938, 915.4723374073772, 4295.120567488099, 4451.279664597416, 1880.3927556694905, 6864.087882549768, 3070.7089335825876, 3189.6344882973804, 4349.408973004169, 3888.197492462029, 5955.895185359689, 4488.200047125916, 8480.63699886704, 2949.2121788921095, 5799.288738109177, 9849.769919377974, 6005.724461921077, 267.46413279748015, 82.51470575655331, 67.83208179324691, 69.7586308348352, 88.70630207440021, 45.323005370892744, 51.580500911509965, 54.66038492050513, 86.72234656487952, 48.631628123456885, 65.54726323274113, 40.020999892109394, 40.90281219220252, 30.883973257481877, 35.585298481376384, 29.393982003992974, 27.73977766470891, 37.37431722277431, 29.91697692103344, 27.2510469790144, 34.08718548976089, 41.75829598639568, 59.23318956584897, 263.5702025862974, 80.7333439613255, 78.10534080461954, 38.41999653330995, 24.271264060683666, 125.69007941184354, 111.93334187763801, 83.82889652537632, 65.85101204086722, 304.5966529882612, 79.10499553182913, 41.771707149544554, 139.9397051532787, 550.0446951532771, 219.7024057125486, 165.4762745889107, 62.01026558734294, 192.7607106172428, 142.67013811123303, 95.5243838520713, 537.2000809642558, 120.02626894483062, 307.0717322671368, 129.20507564550755, 119.98834320654214, 506.565692586648, 287.16501512745697, 110.82599120733364, 276.6727770864279, 480.35196845399, 492.02921711710354, 1102.0948187186405, 1132.7048253984326, 143.9465080730368, 619.6153827461029, 723.9430242961848, 386.4416366600425, 608.3147156516233, 3018.6540436722485, 1641.587847868164, 1312.9133544959948, 6698.074058537335, 944.2497737053181, 396.3846909582676, 2244.1132375966286, 1886.49899555938, 3189.6344882973804, 1198.555143714496, 1556.702424645926, 4451.279664597416, 3070.7089335825876, 5799.288738109177, 9849.769919377974, 3888.197492462029, 8480.63699886704, 4488.200047125916, 6005.724461921077, 4295.120567488099, 50.598895884029325, 65.73904903711937, 283.1837551685214, 218.00828173556437, 44.937663246598454, 197.64250313615264, 20.32034464933577, 45.70276954937258, 45.75184956199372, 72.38890270144095, 25.429603898355438, 31.793063474797535, 16.010806745267455, 63.47129876913902, 19.315306080643754, 71.3320775449001, 62.8379423630838, 26.597330809041967, 620.5261438460125, 42.54760191476491, 17.103595640123192, 46.292615313532444, 48.98823694364004, 16.468436332795115, 43.56475617929344, 43.72125113981392, 46.482804645893154, 19.06236650633464, 78.66773936055137, 830.0876249389871, 103.24752375611745, 284.89437939758903, 182.9405454458623, 286.7980673559323, 105.8654061121659, 628.2663736551822, 446.31531953176886, 218.3753028776717, 481.7667445151184, 94.61661407207728, 2244.1132375966286, 9849.769919377974, 1193.3733563754276, 1233.26599463402, 676.4476957118627, 738.0952472163497, 6698.074058537335, 764.7140534232769, 512.7434348690276, 1705.3860502398963, 4451.279664597416, 4488.200047125916, 3070.7089335825876, 5799.288738109177, 8480.63699886704, 6005.724461921077, 4127.850240373725, 536.6164463462866, 4349.408973004169, 6349.866192219922, 3189.6344882973804, 4316.916206510376, 2234.1403887201523], \"Category\": [\"Default\", \"Default\", \"Default\", \"Default\", \"Default\", \"Default\", \"Default\", \"Default\", \"Default\", \"Default\", \"Default\", \"Default\", \"Default\", \"Default\", \"Default\", \"Default\", \"Default\", \"Default\", \"Default\", \"Default\", \"Default\", \"Default\", \"Default\", \"Default\", \"Default\", \"Default\", \"Default\", \"Default\", \"Default\", \"Default\", \"Topic1\", \"Topic1\", \"Topic1\", \"Topic1\", \"Topic1\", \"Topic1\", \"Topic1\", \"Topic1\", \"Topic1\", \"Topic1\", \"Topic1\", \"Topic1\", \"Topic1\", \"Topic1\", \"Topic1\", \"Topic1\", \"Topic1\", \"Topic1\", \"Topic1\", \"Topic1\", \"Topic1\", \"Topic1\", \"Topic1\", \"Topic1\", \"Topic1\", \"Topic1\", \"Topic1\", \"Topic1\", \"Topic1\", \"Topic1\", \"Topic1\", \"Topic1\", \"Topic1\", \"Topic1\", \"Topic1\", \"Topic1\", \"Topic1\", \"Topic1\", \"Topic1\", \"Topic1\", \"Topic1\", \"Topic1\", \"Topic1\", \"Topic1\", \"Topic1\", \"Topic1\", \"Topic1\", \"Topic1\", \"Topic1\", \"Topic1\", \"Topic1\", \"Topic1\", \"Topic1\", \"Topic1\", \"Topic1\", \"Topic1\", \"Topic1\", \"Topic1\", \"Topic1\", \"Topic1\", \"Topic1\", \"Topic1\", \"Topic1\", \"Topic1\", \"Topic1\", \"Topic1\", \"Topic1\", \"Topic1\", \"Topic1\", \"Topic1\", \"Topic1\", \"Topic1\", \"Topic1\", \"Topic1\", \"Topic1\", \"Topic1\", \"Topic1\", \"Topic1\", \"Topic1\", \"Topic1\", \"Topic1\", \"Topic1\", \"Topic1\", \"Topic1\", \"Topic1\", \"Topic2\", \"Topic2\", \"Topic2\", \"Topic2\", \"Topic2\", \"Topic2\", \"Topic2\", \"Topic2\", \"Topic2\", \"Topic2\", \"Topic2\", \"Topic2\", \"Topic2\", \"Topic2\", \"Topic2\", \"Topic2\", \"Topic2\", \"Topic2\", \"Topic2\", \"Topic2\", \"Topic2\", \"Topic2\", \"Topic2\", \"Topic2\", \"Topic2\", \"Topic2\", \"Topic2\", \"Topic2\", \"Topic2\", \"Topic2\", \"Topic2\", \"Topic2\", \"Topic2\", \"Topic2\", \"Topic2\", \"Topic2\", \"Topic2\", \"Topic2\", \"Topic2\", \"Topic2\", \"Topic2\", \"Topic2\", \"Topic2\", \"Topic2\", \"Topic2\", \"Topic2\", \"Topic2\", \"Topic2\", \"Topic2\", \"Topic2\", \"Topic2\", \"Topic2\", \"Topic2\", \"Topic2\", \"Topic2\", \"Topic2\", \"Topic2\", \"Topic2\", \"Topic2\", \"Topic2\", \"Topic2\", \"Topic2\", \"Topic2\", \"Topic2\", \"Topic2\", \"Topic2\", \"Topic2\", \"Topic2\", \"Topic2\", \"Topic2\", \"Topic2\", \"Topic2\", \"Topic2\", \"Topic2\", \"Topic2\", \"Topic2\", \"Topic2\", \"Topic2\", \"Topic2\", \"Topic2\", \"Topic2\", \"Topic2\", \"Topic2\", \"Topic3\", \"Topic3\", \"Topic3\", \"Topic3\", \"Topic3\", \"Topic3\", \"Topic3\", \"Topic3\", \"Topic3\", \"Topic3\", \"Topic3\", \"Topic3\", \"Topic3\", \"Topic3\", \"Topic3\", \"Topic3\", \"Topic3\", \"Topic3\", \"Topic3\", \"Topic3\", \"Topic3\", \"Topic3\", \"Topic3\", \"Topic3\", \"Topic3\", \"Topic3\", \"Topic3\", \"Topic3\", \"Topic3\", \"Topic3\", \"Topic3\", \"Topic3\", \"Topic3\", \"Topic3\", \"Topic3\", \"Topic3\", \"Topic3\", \"Topic3\", \"Topic3\", \"Topic3\", \"Topic3\", \"Topic3\", \"Topic3\", \"Topic3\", \"Topic3\", \"Topic3\", \"Topic3\", \"Topic3\", \"Topic3\", \"Topic3\", \"Topic3\", \"Topic3\", \"Topic3\", \"Topic3\", \"Topic3\", \"Topic3\", \"Topic3\", \"Topic3\", \"Topic3\", \"Topic3\", \"Topic3\", \"Topic3\", \"Topic3\", \"Topic3\", \"Topic3\", \"Topic3\", \"Topic3\", \"Topic3\", \"Topic3\", \"Topic3\", \"Topic3\", \"Topic3\", \"Topic3\", \"Topic3\", \"Topic3\", \"Topic3\", \"Topic4\", \"Topic4\", \"Topic4\", \"Topic4\", \"Topic4\", \"Topic4\", \"Topic4\", \"Topic4\", \"Topic4\", \"Topic4\", \"Topic4\", \"Topic4\", \"Topic4\", \"Topic4\", \"Topic4\", \"Topic4\", \"Topic4\", \"Topic4\", \"Topic4\", \"Topic4\", \"Topic4\", \"Topic4\", \"Topic4\", \"Topic4\", \"Topic4\", \"Topic4\", \"Topic4\", \"Topic4\", \"Topic4\", \"Topic4\", \"Topic4\", \"Topic4\", \"Topic4\", \"Topic4\", \"Topic4\", \"Topic4\", \"Topic4\", \"Topic4\", \"Topic4\", \"Topic4\", \"Topic4\", \"Topic4\", \"Topic4\", \"Topic4\", \"Topic4\", \"Topic4\", \"Topic4\", \"Topic4\", \"Topic4\", \"Topic4\", \"Topic4\", \"Topic4\", \"Topic4\", \"Topic4\", \"Topic4\", \"Topic4\", \"Topic4\", \"Topic4\", \"Topic4\", \"Topic4\", \"Topic4\", \"Topic4\", \"Topic4\", \"Topic4\", \"Topic4\", \"Topic4\", \"Topic4\", \"Topic4\", \"Topic4\", \"Topic4\", \"Topic4\", \"Topic4\", \"Topic4\", \"Topic4\", \"Topic4\", \"Topic4\", \"Topic4\", \"Topic4\", \"Topic4\", \"Topic4\", \"Topic4\", \"Topic4\", \"Topic4\", \"Topic4\", \"Topic4\", \"Topic5\", \"Topic5\", \"Topic5\", \"Topic5\", \"Topic5\", \"Topic5\", \"Topic5\", \"Topic5\", \"Topic5\", \"Topic5\", \"Topic5\", \"Topic5\", \"Topic5\", \"Topic5\", \"Topic5\", \"Topic5\", \"Topic5\", \"Topic5\", \"Topic5\", \"Topic5\", \"Topic5\", \"Topic5\", \"Topic5\", \"Topic5\", \"Topic5\", \"Topic5\", \"Topic5\", \"Topic5\", \"Topic5\", \"Topic5\", \"Topic5\", \"Topic5\", \"Topic5\", \"Topic5\", \"Topic5\", \"Topic5\", \"Topic5\", \"Topic5\", \"Topic5\", \"Topic5\", \"Topic5\", \"Topic5\", \"Topic5\", \"Topic5\", \"Topic5\", \"Topic5\", \"Topic5\", \"Topic5\", \"Topic5\", \"Topic5\", \"Topic5\", \"Topic5\", \"Topic5\", \"Topic5\", \"Topic5\", \"Topic5\", \"Topic5\", \"Topic5\", \"Topic5\", \"Topic5\", \"Topic5\", \"Topic5\", \"Topic5\", \"Topic5\", \"Topic5\", \"Topic5\", \"Topic5\", \"Topic5\", \"Topic5\", \"Topic5\", \"Topic5\", \"Topic5\", \"Topic5\", \"Topic5\", \"Topic5\", \"Topic5\", \"Topic5\", \"Topic5\", \"Topic5\", \"Topic5\", \"Topic5\", \"Topic5\", \"Topic5\", \"Topic5\", \"Topic6\", \"Topic6\", \"Topic6\", \"Topic6\", \"Topic6\", \"Topic6\", \"Topic6\", \"Topic6\", \"Topic6\", \"Topic6\", \"Topic6\", \"Topic6\", \"Topic6\", \"Topic6\", \"Topic6\", \"Topic6\", \"Topic6\", \"Topic6\", \"Topic6\", \"Topic6\", \"Topic6\", \"Topic6\", \"Topic6\", \"Topic6\", \"Topic6\", \"Topic6\", \"Topic6\", \"Topic6\", \"Topic6\", \"Topic6\", \"Topic6\", \"Topic6\", \"Topic6\", \"Topic6\", \"Topic6\", \"Topic6\", \"Topic6\", \"Topic6\", \"Topic6\", \"Topic6\", \"Topic6\", \"Topic6\", \"Topic6\", \"Topic6\", \"Topic6\", \"Topic6\", \"Topic6\", \"Topic6\", \"Topic6\", \"Topic6\", \"Topic6\", \"Topic6\", \"Topic6\", \"Topic6\", \"Topic6\", \"Topic6\", \"Topic6\", \"Topic6\", \"Topic6\", \"Topic6\", \"Topic6\", \"Topic6\", \"Topic6\", \"Topic6\", \"Topic6\", \"Topic6\", \"Topic6\", \"Topic6\", \"Topic6\", \"Topic6\", \"Topic6\", \"Topic6\", \"Topic6\", \"Topic6\", \"Topic6\", \"Topic6\", \"Topic6\", \"Topic6\", \"Topic7\", \"Topic7\", \"Topic7\", \"Topic7\", \"Topic7\", \"Topic7\", \"Topic7\", \"Topic7\", \"Topic7\", \"Topic7\", \"Topic7\", \"Topic7\", \"Topic7\", \"Topic7\", \"Topic7\", \"Topic7\", \"Topic7\", \"Topic7\", \"Topic7\", \"Topic7\", \"Topic7\", \"Topic7\", \"Topic7\", \"Topic7\", \"Topic7\", \"Topic7\", \"Topic7\", \"Topic7\", \"Topic7\", \"Topic7\", \"Topic7\", \"Topic7\", \"Topic7\", \"Topic7\", \"Topic7\", \"Topic7\", \"Topic7\", \"Topic7\", \"Topic7\", \"Topic7\", \"Topic7\", \"Topic7\", \"Topic7\", \"Topic7\", \"Topic7\", \"Topic7\", \"Topic7\", \"Topic7\", \"Topic7\", \"Topic7\", \"Topic7\", \"Topic7\", \"Topic7\", \"Topic7\", \"Topic7\", \"Topic7\", \"Topic7\", \"Topic7\", \"Topic7\", \"Topic7\", \"Topic7\", \"Topic7\", \"Topic7\", \"Topic7\", \"Topic7\", \"Topic7\", \"Topic7\", \"Topic7\", \"Topic7\", \"Topic7\", \"Topic7\", \"Topic7\", \"Topic7\", \"Topic7\", \"Topic7\", \"Topic7\", \"Topic7\", \"Topic8\", \"Topic8\", \"Topic8\", \"Topic8\", \"Topic8\", \"Topic8\", \"Topic8\", \"Topic8\", \"Topic8\", \"Topic8\", \"Topic8\", \"Topic8\", \"Topic8\", \"Topic8\", \"Topic8\", \"Topic8\", \"Topic8\", \"Topic8\", \"Topic8\", \"Topic8\", \"Topic8\", \"Topic8\", \"Topic8\", \"Topic8\", \"Topic8\", \"Topic8\", \"Topic8\", \"Topic8\", \"Topic8\", \"Topic8\", \"Topic8\", \"Topic8\", \"Topic8\", \"Topic8\", \"Topic8\", \"Topic8\", \"Topic8\", \"Topic8\", \"Topic8\", \"Topic8\", \"Topic8\", \"Topic8\", \"Topic8\", \"Topic8\", \"Topic8\", \"Topic8\", \"Topic8\", \"Topic8\", \"Topic8\", \"Topic8\", \"Topic8\", \"Topic8\", \"Topic8\", \"Topic8\", \"Topic8\", \"Topic8\", \"Topic8\", \"Topic8\", \"Topic8\", \"Topic8\", \"Topic8\", \"Topic8\", \"Topic8\", \"Topic8\", \"Topic8\", \"Topic8\", \"Topic8\", \"Topic8\", \"Topic8\", \"Topic8\", \"Topic8\", \"Topic8\", \"Topic8\", \"Topic8\", \"Topic8\", \"Topic8\", \"Topic8\", \"Topic8\", \"Topic8\", \"Topic8\", \"Topic8\", \"Topic8\", \"Topic8\", \"Topic8\", \"Topic8\", \"Topic8\", \"Topic8\", \"Topic9\", \"Topic9\", \"Topic9\", \"Topic9\", \"Topic9\", \"Topic9\", \"Topic9\", \"Topic9\", \"Topic9\", \"Topic9\", \"Topic9\", \"Topic9\", \"Topic9\", \"Topic9\", \"Topic9\", \"Topic9\", \"Topic9\", \"Topic9\", \"Topic9\", \"Topic9\", \"Topic9\", \"Topic9\", \"Topic9\", \"Topic9\", \"Topic9\", \"Topic9\", \"Topic9\", \"Topic9\", \"Topic9\", \"Topic9\", \"Topic9\", \"Topic9\", \"Topic9\", \"Topic9\", \"Topic9\", \"Topic9\", \"Topic9\", \"Topic9\", \"Topic9\", \"Topic9\", \"Topic9\", \"Topic9\", \"Topic9\", \"Topic9\", \"Topic9\", \"Topic9\", \"Topic9\", \"Topic9\", \"Topic9\", \"Topic9\", \"Topic9\", \"Topic9\", \"Topic9\", \"Topic9\", \"Topic9\", \"Topic9\", \"Topic9\", \"Topic9\", \"Topic9\", \"Topic9\", \"Topic9\", \"Topic9\", \"Topic9\", \"Topic9\", \"Topic9\", \"Topic9\", \"Topic9\", \"Topic9\", \"Topic9\", \"Topic9\", \"Topic9\", \"Topic9\", \"Topic9\", \"Topic9\", \"Topic9\", \"Topic9\", \"Topic9\", \"Topic9\", \"Topic9\", \"Topic9\", \"Topic9\", \"Topic10\", \"Topic10\", \"Topic10\", \"Topic10\", \"Topic10\", \"Topic10\", \"Topic10\", \"Topic10\", \"Topic10\", \"Topic10\", \"Topic10\", \"Topic10\", \"Topic10\", \"Topic10\", \"Topic10\", \"Topic10\", \"Topic10\", \"Topic10\", \"Topic10\", \"Topic10\", \"Topic10\", \"Topic10\", \"Topic10\", \"Topic10\", \"Topic10\", \"Topic10\", \"Topic10\", \"Topic10\", \"Topic10\", \"Topic10\", \"Topic10\", \"Topic10\", \"Topic10\", \"Topic10\", \"Topic10\", \"Topic10\", \"Topic10\", \"Topic10\", \"Topic10\", \"Topic10\", \"Topic10\", \"Topic10\", \"Topic10\", \"Topic10\", \"Topic10\", \"Topic10\", \"Topic10\", \"Topic10\", \"Topic10\", \"Topic10\", \"Topic10\", \"Topic10\", \"Topic10\", \"Topic10\", \"Topic10\", \"Topic10\", \"Topic10\", \"Topic10\", \"Topic10\", \"Topic10\", \"Topic10\", \"Topic10\", \"Topic10\"], \"logprob\": [30.0, 29.0, 28.0, 27.0, 26.0, 25.0, 24.0, 23.0, 22.0, 21.0, 20.0, 19.0, 18.0, 17.0, 16.0, 15.0, 14.0, 13.0, 12.0, 11.0, 10.0, 9.0, 8.0, 7.0, 6.0, 5.0, 4.0, 3.0, 2.0, 1.0, -7.4503, -6.9196, -6.9861, -7.467, -7.9568, -6.5563, -7.4608, -6.6947, -8.4906, -8.3096, -7.8032, -8.4278, -7.4493, -7.7489, -8.2529, -8.0889, -7.8448, -6.6724, -8.6962, -8.0043, -8.3526, -7.1365, -8.821, -8.6452, -8.2632, -8.8114, -8.2572, -8.0252, -7.2945, -8.642, -7.6805, -6.3692, -6.663, -7.1423, -5.2439, -6.4874, -6.5607, -5.9628, -6.7052, -7.3256, -5.1267, -7.3329, -5.3718, -6.6336, -6.4574, -7.0583, -7.2867, -6.5321, -6.1579, -6.3367, -6.2744, -4.9683, -6.7157, -6.2192, -6.2723, -5.5488, -6.6707, -6.4225, -6.1366, -5.4644, -5.8272, -4.8691, -5.5388, -5.1411, -5.5714, -5.5039, -5.5775, -5.8875, -6.0246, -6.2502, -5.7506, -5.9428, -5.884, -5.5691, -5.69, -5.861, -6.156, -6.0932, -6.1553, -6.0957, -6.1244, -6.1454, -6.1409, -6.1315, -6.1397, -7.0275, -7.837, -7.7208, -7.1493, -8.472, -8.6588, -7.7246, -7.8957, -9.0425, -7.7386, -9.488, -9.1211, -9.4051, -8.3197, -8.2012, -7.2646, -7.693, -8.0219, -8.1651, -9.0999, -8.353, -9.7652, -9.0787, -8.7788, -8.2805, -9.9757, -8.8879, -6.8318, -7.5582, -9.7079, -7.7043, -5.2695, -7.4803, -6.9197, -7.5097, -7.4201, -5.6825, -8.0352, -5.1095, -7.3267, -7.8152, -7.5316, -7.2653, -6.7698, -6.579, -7.0757, -7.3952, -6.9781, -6.0049, -6.8963, -5.7825, -6.5467, -6.0682, -6.5098, -6.3795, -5.9804, -4.8131, -5.1454, -6.4053, -5.3756, -5.8399, -5.527, -4.7694, -5.925, -5.6699, -6.5017, -5.555, -5.8646, -5.8058, -5.4712, -5.3245, -5.6791, -5.6223, -5.3705, -5.2714, -5.7409, -5.6977, -5.9457, -5.7532, -5.883, -6.1146, -5.8541, -5.9527, -5.9627, -6.8748, -7.1662, -7.2483, -7.0057, -7.5935, -7.6431, -7.1544, -7.3888, -8.0443, -8.1901, -5.6753, -8.2768, -8.1948, -7.454, -8.0359, -8.0957, -7.7711, -8.1406, -8.7635, -8.2228, -7.9178, -7.5529, -8.9478, -7.6212, -5.9195, -8.3457, -8.9133, -7.4917, -8.496, -5.9755, -6.545, -5.3519, -7.016, -5.0453, -6.1834, -5.5046, -6.8583, -6.8352, -5.6562, -6.6074, -7.7113, -5.9626, -5.7044, -5.9218, -6.4288, -7.0246, -5.4916, -6.0445, -5.7538, -6.1694, -6.6855, -4.6467, -6.0984, -5.1246, -6.5493, -5.2909, -4.9285, -5.5373, -5.316, -5.6254, -5.5805, -5.3523, -5.4341, -5.4797, -5.8691, -5.8067, -5.6979, -5.6238, -5.6543, -5.6834, -5.7954, -5.6859, -5.7961, -5.8753, -5.8555, -7.7701, -6.0897, -7.6882, -8.7332, -7.7003, -8.7752, -8.0101, -8.9561, -8.538, -8.8861, -8.3605, -8.604, -8.4722, -8.6314, -7.9544, -8.7154, -8.7568, -8.6356, -7.3996, -9.1243, -6.8721, -9.1558, -8.9132, -8.4642, -9.5295, -9.3974, -8.5204, -8.0801, -7.3805, -8.5891, -6.4349, -7.4936, -7.4518, -7.5675, -6.3967, -7.2229, -7.388, -3.8016, -6.9591, -7.4763, -4.5083, -5.4715, -5.9342, -5.2011, -7.486, -3.935, -6.8681, -6.7901, -6.006, -4.8849, -7.0034, -6.2918, -5.4641, -6.7333, -6.9143, -6.1722, -5.8298, -6.5322, -4.6032, -4.4307, -5.057, -6.6523, -6.1577, -6.511, -4.9731, -5.5007, -6.3367, -5.3938, -6.2971, -5.2224, -5.7574, -5.2718, -5.9089, -5.3693, -6.2182, -5.5832, -5.7874, -5.8402, -5.6822, -5.7981, -5.5873, -5.8391, -5.7836, -5.9275, -5.9359, -7.44, -7.5569, -6.2191, -8.3286, -7.2821, -8.6782, -6.6882, -8.5696, -7.703, -7.43, -9.2094, -8.7208, -9.4622, -9.0544, -9.118, -7.8227, -7.3383, -8.0636, -9.116, -7.8626, -8.4124, -9.0432, -7.4375, -7.5078, -8.2663, -9.1617, -8.177, -9.2527, -8.0214, -8.3888, -6.4908, -7.3908, -6.3441, -7.0185, -7.3407, -5.9838, -6.6727, -6.4859, -6.1682, -6.1519, -6.1236, -6.7785, -6.9407, -5.373, -5.2543, -5.9181, -4.7182, -6.0448, -6.5954, -6.2028, -6.4846, -5.5293, -6.5619, -5.3267, -5.658, -6.7069, -4.5298, -6.5209, -6.1946, -5.4299, -5.8107, -6.1818, -6.1821, -5.798, -5.2823, -4.9476, -5.8836, -5.5035, -5.215, -5.4603, -5.9068, -5.5106, -5.5389, -5.6575, -5.6714, -5.5709, -5.6981, -5.5099, -5.5499, -5.6925, -5.7469, -5.8519, -5.9182, -5.896, -7.1105, -6.8597, -8.115, -7.1962, -7.9808, -6.3727, -8.4597, -7.873, -7.9775, -8.0515, -7.4909, -7.5596, -8.7644, -8.5691, -6.1819, -8.2824, -8.6906, -6.7224, -7.9627, -6.7925, -8.7505, -7.203, -6.7786, -8.4969, -8.5021, -8.749, -7.4283, -7.8456, -8.5188, -8.1512, -5.1584, -5.5843, -5.5198, -7.4985, -7.7516, -6.1766, -6.0656, -5.1643, -6.6898, -4.9996, -6.9658, -5.541, -5.188, -6.2245, -5.6439, -6.8219, -4.9362, -6.2069, -6.0743, -6.9641, -4.0517, -5.8398, -6.9052, -4.9361, -5.9987, -6.4923, -6.5366, -6.762, -5.4472, -4.8089, -5.6194, -6.0183, -4.7131, -5.4367, -5.5071, -5.3394, -5.289, -5.3731, -5.1171, -5.1836, -5.3132, -5.7209, -5.7628, -5.5785, -5.6227, -5.7553, -5.68, -5.7604, -8.0888, -8.0012, -6.9272, -6.1965, -7.1823, -8.9329, -8.2714, -6.7703, -8.4136, -7.5455, -7.1648, -5.9972, -7.7228, -6.5738, -9.2876, -7.2561, -6.4948, -9.0405, -7.1705, -8.6534, -8.8876, -8.6021, -7.8612, -8.685, -7.8002, -8.9797, -9.1429, -9.1317, -8.271, -9.1023, -8.5305, -7.5703, -7.3046, -8.2287, -6.056, -6.455, -6.5384, -4.3299, -6.8645, -7.3676, -7.1446, -6.1178, -4.0905, -7.8697, -6.6931, -4.2246, -5.5117, -5.5967, -6.6981, -6.6513, -4.7344, -6.0416, -4.9582, -5.0338, -6.043, -5.5089, -5.3392, -5.1392, -5.4512, -5.3747, -4.5397, -5.3828, -5.204, -5.8727, -5.7517, -5.5783, -5.487, -5.5236, -5.5013, -5.8918, -5.5315, -5.5356, -5.5263, -5.6357, -5.7909, -5.8221, -5.8219, -6.3141, -6.2706, -7.2705, -7.6938, -7.7702, -6.5164, -6.6511, -7.0904, -7.3889, -7.8787, -8.0057, -7.8631, -7.5407, -8.0556, -7.7545, -8.0874, -8.03, -8.2066, -7.1307, -6.6778, -8.0119, -7.8742, -8.3542, -8.3553, -8.4201, -8.2102, -7.8876, -8.3262, -8.2696, -7.9342, -7.8221, -7.9937, -5.3684, -7.2424, -7.521, -6.6261, -7.414, -6.7997, -7.044, -7.3043, -7.5981, -7.3476, -7.7747, -7.1758, -5.7323, -7.3196, -5.7816, -6.7297, -6.2518, -7.4391, -4.2274, -6.2415, -6.7095, -5.9238, -6.2423, -5.0942, -6.3496, -6.3632, -5.7108, -5.6005, -6.6112, -5.8456, -5.5532, -5.6092, -6.2882, -5.5757, -4.6428, -5.6965, -6.0753, -5.6736, -5.574, -5.9565, -5.2812, -5.3397, -5.7876, -5.4023, -5.6852, -5.7067, -5.625, -5.7317, -5.7322, -5.7915, -5.717, -5.886, -5.8393, -5.8167, -5.8948, -5.8692, -7.058, -7.2574, -7.2333, -6.9938, -7.666, -7.5384, -7.4819, -7.0204, -7.6021, -7.3036, -7.7984, -7.7791, -8.0603, -7.9191, -8.1104, -8.1691, -7.8721, -8.0959, -8.1905, -7.9672, -7.7656, -7.4164, -5.9241, -7.1075, -7.142, -7.8515, -8.3112, -6.6676, -6.7837, -7.0769, -7.3168, -5.8255, -7.1534, -7.7745, -6.6325, -5.3476, -6.2216, -6.4893, -7.4043, -6.3706, -6.6491, -7.0142, -5.4717, -6.815, -5.9792, -6.75, -6.8164, -5.5859, -6.0949, -6.8931, -6.16, -5.7387, -5.7784, -5.2363, -5.2619, -6.722, -5.7366, -5.6851, -6.1299, -5.8551, -4.9163, -5.3664, -5.4911, -4.6831, -5.7597, -6.2083, -5.3818, -5.5337, -5.3206, -5.7329, -5.6561, -5.3693, -5.5082, -5.403, -5.2957, -5.591, -5.4663, -5.642, -5.7545, -5.799, -7.1472, -6.8891, -5.4369, -5.7056, -7.2934, -5.8162, -8.0959, -7.2969, -7.3168, -6.8699, -7.9205, -7.6995, -8.3925, -7.0267, -8.2207, -6.9317, -7.072, -7.9324, -4.787, -7.4686, -8.3892, -7.3947, -7.3413, -8.4335, -7.4678, -7.4775, -7.4248, -8.326, -6.9087, -4.5944, -6.7042, -5.7715, -6.1866, -5.7772, -6.7054, -5.274, -5.6231, -6.2484, -5.6693, -6.9938, -5.1261, -4.3546, -5.6166, -5.6011, -5.94, -5.8978, -4.953, -6.043, -6.2317, -5.7341, -5.3677, -5.4447, -5.5928, -5.3784, -5.2525, -5.4301, -5.6631, -6.2708, -5.7711, -5.6846, -5.8468, -5.8682, -6.0017], \"loglift\": [30.0, 29.0, 28.0, 27.0, 26.0, 25.0, 24.0, 23.0, 22.0, 21.0, 20.0, 19.0, 18.0, 17.0, 16.0, 15.0, 14.0, 13.0, 12.0, 11.0, 10.0, 9.0, 8.0, 7.0, 6.0, 5.0, 4.0, 3.0, 2.0, 1.0, 1.7875, 1.7869, 1.7852, 1.7834, 1.7813, 1.7811, 1.7799, 1.7796, 1.7787, 1.7778, 1.7776, 1.777, 1.7758, 1.7755, 1.7754, 1.7748, 1.7746, 1.7731, 1.772, 1.7704, 1.7696, 1.7689, 1.7687, 1.7683, 1.7682, 1.7678, 1.7676, 1.7667, 1.7664, 1.7662, 1.7649, 1.7326, 1.7355, 1.743, 1.7009, 1.7185, 1.7175, 1.6908, 1.7145, 1.7361, 1.6303, 1.7357, 1.6317, 1.6882, 1.6586, 1.6973, 1.7126, 1.6138, 1.5623, 1.5749, 1.5622, 1.2594, 1.6084, 1.491, 1.4184, 1.1665, 1.5078, 1.4066, 1.2444, 0.7879, 0.9098, 0.2575, 0.5542, 0.197, 0.2305, 0.0028, -0.1058, 0.4117, 0.6455, 1.0059, 0.0564, 0.3935, 0.2563, -0.5921, -0.3274, -0.098, 0.6917, -0.0634, 0.3363, -0.3013, -0.096, 0.0214, -0.1662, -0.7156, -0.2931, 2.0725, 2.061, 2.0533, 2.0483, 2.0298, 2.0287, 2.0122, 2.0089, 2.0059, 2.0058, 2.0004, 1.9968, 1.993, 1.9918, 1.9897, 1.9878, 1.9835, 1.9825, 1.9821, 1.9798, 1.9738, 1.9701, 1.9688, 1.9671, 1.959, 1.9536, 1.9533, 1.9519, 1.9439, 1.9383, 1.9379, 1.8994, 1.9251, 1.9016, 1.9129, 1.8921, 1.777, 1.919, 1.7174, 1.8593, 1.898, 1.8684, 1.8217, 1.7455, 1.7001, 1.7685, 1.822, 1.7222, 1.4989, 1.6655, 1.3269, 1.4888, 1.2998, 1.4005, 1.3287, 1.1315, 0.525, 0.649, 1.2511, 0.6205, 0.8963, 0.6998, 0.2076, 0.9351, 0.7492, 1.2948, 0.611, 0.7919, 0.6627, 0.3357, 0.1472, 0.4751, 0.3525, -0.008, -0.1447, 0.442, 0.3307, 0.6277, 0.1021, 0.19, 0.6811, -0.3475, -0.106, 2.0777, 2.0776, 2.0745, 2.0741, 2.0728, 2.071, 2.0709, 2.0705, 2.0691, 2.0654, 2.0609, 2.0584, 2.055, 2.0549, 2.0534, 2.0525, 2.0515, 2.0512, 2.0464, 2.0462, 2.0435, 2.0426, 2.0366, 2.0361, 2.0354, 2.0349, 2.0343, 2.0343, 2.0328, 2.0312, 2.0167, 2.0122, 1.9879, 2.0101, 1.9575, 1.9881, 1.9493, 2.0018, 1.9885, 1.8793, 1.9317, 2.0195, 1.8133, 1.7455, 1.7059, 1.7761, 1.8964, 1.5359, 1.6512, 1.5112, 1.5979, 1.7367, 0.825, 1.4657, 0.968, 1.6641, 0.8759, 0.1981, 0.715, 0.4859, 0.6716, 0.5598, 0.2759, 0.3289, 0.367, 0.7226, 0.5219, 0.2769, -0.2612, -0.1742, -0.1768, 0.3632, -0.7089, 0.3084, 0.6163, -0.0486, 2.2243, 2.21, 2.2045, 2.2025, 2.1982, 2.1951, 2.1947, 2.1921, 2.1915, 2.1881, 2.1871, 2.186, 2.1858, 2.1816, 2.1811, 2.1779, 2.1719, 2.1703, 2.1652, 2.1591, 2.1552, 2.1543, 2.1526, 2.1447, 2.1389, 2.1365, 2.1362, 2.1346, 2.1166, 2.1151, 2.1045, 2.1112, 2.1086, 2.0857, 2.0175, 2.0561, 2.065, 1.8266, 2.0292, 2.0218, 1.6297, 1.7551, 1.8078, 1.6723, 2.013, 1.481, 1.9195, 1.9, 1.7667, 1.5665, 1.9345, 1.7951, 1.5907, 1.8556, 1.8864, 1.5517, 1.3821, 1.6772, 0.7349, 0.5463, 0.8495, 1.6833, 1.375, 1.5875, 0.5069, 0.8557, 1.4338, 0.636, 1.3774, 0.2843, 0.7725, 0.1999, 0.8281, -0.0067, 1.2038, 0.1798, 0.4091, 0.5043, 0.1644, 0.3605, -0.4607, 0.3276, 0.0183, 0.215, -0.1647, 2.2633, 2.2592, 2.2535, 2.247, 2.2439, 2.2192, 2.2184, 2.2059, 2.2044, 2.1975, 2.1964, 2.1958, 2.187, 2.1862, 2.1794, 2.1751, 2.1738, 2.1721, 2.1657, 2.1629, 2.1594, 2.1577, 2.1574, 2.1525, 2.1517, 2.1382, 2.122, 2.1174, 2.1157, 2.1125, 2.0982, 2.0901, 2.0377, 2.0034, 2.0206, 1.862, 1.9134, 1.8764, 1.8323, 1.7776, 1.7257, 1.8494, 1.8778, 1.5315, 1.4763, 1.622, 1.3019, 1.6341, 1.7645, 1.6149, 1.7109, 1.3113, 1.7277, 1.1294, 1.2269, 1.7534, 0.4471, 1.641, 1.4361, 0.9145, 1.1135, 1.3636, 1.3166, 0.9726, 0.4889, 0.179, 1.0173, 0.5263, 0.1231, 0.3864, 0.9596, 0.3446, 0.3675, 0.539, 0.5115, 0.1921, 0.4444, -0.1473, -0.0432, 0.3036, 0.4191, -0.0575, 0.4181, -0.4243, 2.3024, 2.3019, 2.2983, 2.2964, 2.2949, 2.2924, 2.2918, 2.2883, 2.2804, 2.28, 2.2776, 2.2746, 2.2743, 2.2739, 2.272, 2.2706, 2.2702, 2.2669, 2.2663, 2.2639, 2.2621, 2.257, 2.2568, 2.256, 2.256, 2.2555, 2.2553, 2.2476, 2.2458, 2.2455, 2.2371, 2.2394, 2.2109, 2.2393, 2.2443, 2.2093, 2.2033, 2.1726, 2.2183, 2.1652, 2.2237, 2.1718, 2.1447, 2.1873, 2.1327, 2.2034, 2.0641, 2.1552, 2.1417, 2.2116, 1.9485, 2.1097, 2.2044, 1.9517, 2.0916, 2.1366, 2.1426, 2.1397, 1.4573, 1.0463, 1.4792, 1.7124, 0.4136, 1.043, 1.0846, 0.9129, 0.7311, 0.8234, 0.3896, 0.2965, 0.4886, 1.18, 0.9003, 0.1927, 0.2838, 0.5439, -0.703, 0.0026, 2.3627, 2.3589, 2.35, 2.3375, 2.2975, 2.2887, 2.2846, 2.2721, 2.2594, 2.2578, 2.2515, 2.2412, 2.2167, 2.2163, 2.215, 2.2135, 2.2079, 2.1863, 2.1737, 2.171, 2.1701, 2.1651, 2.1641, 2.1624, 2.1593, 2.1577, 2.157, 2.1531, 2.1483, 2.1454, 2.1398, 2.1085, 2.0902, 2.1265, 2.0254, 1.9877, 1.9908, 1.763, 1.976, 2.0167, 1.983, 1.8396, 1.3255, 2.0713, 1.8226, 1.2554, 1.5306, 1.5127, 1.8218, 1.802, 1.1208, 1.5203, 1.0166, 1.0392, 1.4437, 1.1476, 1.0171, 0.8892, 1.0787, 1.0071, 0.4372, 0.7714, 0.5979, 1.1555, 0.995, 0.8228, 0.5133, 0.4725, 0.2931, 0.976, 0.2754, -0.1975, -0.3997, -0.129, 0.2389, 0.3181, -0.4593, 2.4997, 2.4981, 2.4941, 2.4921, 2.4904, 2.4861, 2.4856, 2.4849, 2.4848, 2.4843, 2.4823, 2.4813, 2.4797, 2.4784, 2.4778, 2.4778, 2.4766, 2.4759, 2.4753, 2.4748, 2.4736, 2.4735, 2.4723, 2.4718, 2.4711, 2.4711, 2.471, 2.4703, 2.4693, 2.4692, 2.4689, 2.4677, 2.4296, 2.4587, 2.4615, 2.4386, 2.4538, 2.4303, 2.4351, 2.4454, 2.4527, 2.4383, 2.4602, 2.4149, 2.263, 2.4192, 2.2548, 2.3274, 2.2445, 2.4214, 1.9322, 2.2215, 2.287, 2.1328, 2.1765, 1.8025, 2.1056, 2.1061, 1.8767, 1.8078, 2.1574, 1.8283, 1.5866, 1.558, 1.9316, 1.4164, 0.7198, 1.3868, 1.6678, 1.2547, 1.0557, 1.3962, 0.5258, 0.4315, 0.8454, -0.0642, 0.4573, 0.3978, 0.1694, 0.1748, -0.2522, -0.0285, -0.5904, 0.2969, -0.3326, -0.8397, -0.4231, 2.714, 2.7012, 2.6977, 2.6938, 2.693, 2.6924, 2.6906, 2.6891, 2.6891, 2.6858, 2.6858, 2.6844, 2.6818, 2.6816, 2.6811, 2.6809, 2.6802, 2.6791, 2.6778, 2.6766, 2.6761, 2.6747, 2.6743, 2.6737, 2.6735, 2.6721, 2.6721, 2.6716, 2.6707, 2.6706, 2.6665, 2.668, 2.6277, 2.648, 2.6654, 2.5985, 2.5146, 2.5582, 2.574, 2.6406, 2.5401, 2.5625, 2.5986, 2.4141, 2.5694, 2.4659, 2.5608, 2.5683, 2.3586, 2.4173, 2.5711, 2.3894, 2.259, 2.1953, 1.9309, 1.8779, 2.4808, 2.0065, 1.9023, 2.0852, 1.9064, 1.2433, 1.4024, 1.501, 0.6795, 1.5621, 1.9815, 1.0743, 1.0959, 0.7839, 1.3504, 1.1657, 0.4019, 0.6343, 0.1037, -0.3188, 0.3154, -0.3396, 0.121, -0.2828, 0.0079, 3.1011, 3.0974, 3.0892, 3.082, 3.0735, 3.0695, 3.0646, 3.0531, 3.0321, 3.0203, 3.0157, 3.0135, 3.0064, 2.9949, 2.9906, 2.9731, 2.9596, 2.9589, 2.9546, 2.953, 2.9437, 2.9424, 2.9393, 2.9372, 2.9301, 2.9168, 2.9083, 2.8984, 2.8983, 2.8563, 2.8308, 2.7485, 2.7764, 2.7362, 2.8046, 2.4552, 2.448, 2.5376, 2.3254, 2.6285, 1.33, 0.6223, 1.471, 1.4536, 1.7153, 1.6703, 0.4096, 1.4897, 1.7007, 0.9966, 0.4036, 0.3182, 0.5497, 0.1283, -0.1259, 0.0416, 0.1836, 1.6161, 0.0233, -0.2686, 0.2577, -0.0663, 0.4588]}, \"token.table\": {\"Topic\": [1, 2, 3, 4, 5, 6, 7, 9, 10, 8, 9, 10, 9, 8, 9, 10, 1, 2, 3, 4, 5, 6, 7, 8, 9, 10, 1, 3, 4, 5, 6, 7, 8, 9, 10, 1, 2, 4, 1, 5, 6, 8, 9, 3, 8, 9, 1, 2, 3, 4, 5, 6, 7, 8, 9, 10, 1, 2, 3, 4, 5, 6, 7, 8, 9, 10, 7, 8, 9, 10, 1, 3, 4, 6, 7, 10, 1, 2, 7, 8, 2, 3, 4, 7, 8, 1, 2, 3, 4, 5, 6, 7, 8, 9, 10, 1, 4, 5, 6, 9, 10, 1, 3, 6, 1, 2, 3, 4, 6, 8, 10, 1, 3, 4, 5, 6, 7, 8, 9, 10, 1, 2, 3, 4, 5, 6, 7, 8, 9, 10, 1, 2, 5, 6, 7, 1, 2, 3, 4, 7, 8, 9, 10, 2, 3, 4, 7, 8, 1, 2, 3, 4, 5, 6, 7, 8, 9, 10, 1, 2, 3, 4, 6, 7, 10, 2, 3, 4, 7, 10, 1, 2, 3, 4, 5, 6, 7, 1, 2, 3, 4, 6, 7, 2, 3, 4, 7, 1, 2, 5, 9, 1, 2, 5, 6, 8, 9, 10, 1, 2, 3, 5, 6, 7, 1, 2, 3, 5, 7, 8, 9, 10, 1, 2, 3, 4, 5, 6, 7, 8, 9, 10, 1, 3, 4, 6, 10, 9, 1, 3, 5, 6, 7, 8, 9, 10, 1, 2, 4, 5, 10, 5, 1, 2, 3, 4, 5, 6, 7, 8, 9, 10, 1, 2, 3, 4, 5, 6, 7, 8, 9, 10, 8, 1, 2, 3, 4, 5, 6, 7, 8, 9, 10, 3, 6, 8, 1, 2, 3, 5, 6, 8, 9, 10, 1, 2, 3, 4, 5, 6, 7, 8, 9, 10, 9, 1, 2, 3, 4, 5, 6, 7, 8, 9, 10, 6, 8, 9, 1, 2, 3, 4, 6, 8, 9, 3, 5, 6, 7, 9, 2, 4, 1, 2, 3, 4, 5, 6, 7, 8, 9, 10, 1, 2, 3, 4, 5, 6, 7, 10, 1, 2, 3, 4, 5, 6, 7, 8, 9, 10, 1, 2, 3, 4, 5, 6, 7, 8, 9, 10, 1, 2, 3, 4, 5, 6, 7, 8, 9, 10, 1, 5, 6, 9, 1, 2, 3, 4, 5, 7, 9, 10, 1, 2, 3, 4, 5, 6, 7, 8, 9, 10, 1, 2, 3, 4, 5, 6, 7, 8, 9, 10, 2, 7, 1, 3, 5, 8, 1, 2, 3, 4, 5, 6, 7, 8, 9, 10, 3, 8, 3, 7, 1, 2, 3, 4, 5, 6, 7, 8, 9, 10, 1, 2, 4, 5, 7, 8, 10, 2, 5, 2, 7, 1, 2, 3, 4, 5, 6, 7, 8, 9, 10, 3, 8, 10, 1, 3, 6, 7, 1, 3, 4, 7, 9, 10, 1, 4, 10, 8, 9, 2, 5, 3, 8, 1, 3, 4, 5, 6, 7, 8, 9, 10, 1, 2, 3, 4, 5, 6, 7, 8, 9, 10, 1, 2, 4, 5, 6, 7, 8, 9, 10, 2, 4, 5, 6, 8, 9, 10, 1, 2, 3, 4, 5, 6, 7, 8, 9, 10, 2, 5, 7, 10, 9, 1, 5, 6, 8, 1, 2, 3, 4, 5, 6, 7, 8, 9, 10, 1, 2, 3, 4, 5, 6, 7, 8, 9, 10, 9, 10, 1, 2, 3, 4, 5, 6, 7, 8, 9, 10, 1, 2, 3, 4, 5, 7, 10, 1, 2, 3, 4, 5, 6, 7, 8, 9, 10, 2, 4, 10, 1, 2, 4, 5, 6, 7, 8, 9, 10, 1, 2, 3, 9, 10, 1, 3, 5, 6, 9, 10, 10, 1, 2, 3, 4, 5, 6, 7, 8, 9, 10, 1, 2, 3, 4, 5, 6, 7, 8, 9, 10, 9, 5, 10, 2, 7, 1, 2, 3, 5, 6, 7, 9, 10, 1, 2, 3, 4, 5, 6, 7, 8, 9, 10, 1, 2, 3, 4, 5, 6, 7, 8, 9, 10, 1, 2, 3, 4, 5, 6, 7, 8, 9, 10, 6, 8, 3, 5, 2, 4, 1, 2, 7, 2, 5, 4, 6, 7, 10, 6, 3, 4, 6, 9, 1, 2, 3, 4, 5, 6, 7, 8, 9, 10, 1, 6, 8, 9, 3, 10, 1, 2, 3, 4, 5, 6, 7, 8, 9, 10, 5, 9, 1, 2, 4, 5, 6, 7, 10, 4, 4, 8, 2, 4, 1, 2, 3, 5, 7, 8, 1, 2, 3, 4, 5, 6, 7, 9, 10, 1, 2, 3, 4, 5, 6, 7, 8, 9, 10, 1, 2, 3, 4, 6, 7, 4, 1, 3, 5, 6, 1, 2, 3, 4, 5, 6, 7, 8, 9, 10, 4, 1, 2, 3, 4, 5, 6, 7, 8, 9, 10, 1, 2, 3, 4, 5, 6, 7, 8, 9, 10, 2, 5, 1, 2, 3, 5, 9, 10, 1, 3, 5, 6, 1, 2, 3, 4, 5, 6, 7, 8, 9, 10, 1, 2, 3, 4, 5, 6, 7, 8, 9, 10, 3, 4, 1, 2, 3, 4, 5, 6, 7, 8, 9, 10, 3, 4, 1, 2, 3, 4, 5, 6, 7, 8, 9, 10, 1, 2, 3, 4, 5, 6, 7, 8, 9, 10, 3, 1, 2, 3, 4, 5, 6, 7, 8, 9, 10, 3, 4, 7, 2, 5, 7, 8, 2, 1, 2, 3, 4, 5, 7, 8, 9, 10, 1, 2, 3, 4, 5, 6, 7, 8, 9, 10, 3, 2, 5, 7, 1, 2, 3, 4, 5, 6, 7, 8, 9, 10, 8, 1, 2, 3, 4, 5, 6, 7, 8, 4, 7, 9, 10, 1, 5, 6, 9, 10, 2, 3, 4, 5, 7, 8, 9, 1, 2, 3, 4, 5, 6, 7, 8, 9, 10, 1, 3, 1, 2, 3, 4, 5, 7, 10, 1, 8, 9, 10, 3, 1, 2, 3, 4, 5, 6, 7, 8, 9, 10, 1, 4, 1, 5, 6, 9, 1, 2, 3, 4, 5, 6, 7, 8, 9, 10, 1, 3, 4, 5, 6, 7, 9, 10, 8, 1, 3, 1, 2, 3, 4, 5, 6, 7, 8, 9, 10, 1, 2, 3, 4, 5, 6, 7, 8, 9, 10, 1, 2, 3, 4, 5, 9, 10, 1, 2, 3, 4, 5, 6, 7, 8, 9, 10, 1, 2, 3, 4, 5, 7, 8, 10, 2, 3, 4, 5, 7, 10, 1, 9, 10, 1, 2, 3, 4, 5, 6, 7, 8, 9, 10, 1, 2, 3, 4, 5, 6, 7, 8, 9, 10, 1, 2, 3, 4, 5, 6, 7, 8, 9, 10, 2, 3, 5, 8, 9, 10, 2, 4, 5, 8, 1, 2, 3, 4, 5, 6, 7, 8, 9, 10, 2, 5, 1, 2, 3, 4, 5, 6, 7, 8, 9, 10, 1, 2, 3, 4, 5, 6, 7, 8, 9, 10, 5, 6, 8, 1, 2, 3, 4, 5, 6, 7, 8, 9, 10, 2, 5, 7, 1, 2, 3, 4, 5, 6, 7, 8, 9, 10, 1, 2, 4, 5, 7, 2, 3, 5, 7, 8, 1, 2, 3, 4, 5, 6, 7, 8, 9, 10, 4, 2, 1, 2, 3, 4, 5, 6, 7, 8, 9, 10, 4, 1, 2, 3, 4, 5, 6, 7, 8, 9, 10, 1, 2, 3, 4, 5, 6, 7, 8, 9, 10, 1, 2, 3, 4, 5, 6, 7, 8, 9, 10, 1, 2, 3, 6, 1, 2, 3, 4, 5, 7, 1, 2, 3, 4, 5, 6, 7, 8, 9, 10, 8, 1, 2, 3, 4, 5, 6, 8, 9, 10, 9, 10, 1, 2, 3, 4, 5, 6, 7, 8, 10, 1, 2, 3, 4, 5, 6, 7, 8, 9, 10, 6, 1, 3, 6, 1, 3, 6, 3, 4, 7, 1, 2, 3, 5, 8, 9, 10, 1, 2, 3, 4, 5, 6, 7, 8, 9, 10, 1, 2, 3, 4, 5, 6, 7, 8, 10, 1, 6, 7, 8, 6, 8, 10, 1, 2, 3, 4, 5, 6, 7, 8, 9, 10, 8, 1, 2, 3, 4, 5, 6, 7, 8, 9, 10, 1, 2, 3, 4, 5, 6, 7, 8, 9, 10, 1, 8, 9, 2, 9, 1, 5, 8, 9, 10, 1, 10, 6, 8, 9, 10, 8, 9, 1, 3, 5, 7, 1, 2, 3, 4, 5, 6, 7, 8, 9, 10, 1, 2, 3, 4, 5, 1, 2, 3, 4, 5, 6, 7, 8, 9, 10, 1, 2, 4, 5, 6, 1, 4, 1, 2, 3, 4, 5, 6, 7, 8, 9, 10, 3, 3, 1, 5, 1, 6, 8, 9, 5, 9, 2, 5, 7, 8, 1, 2, 3, 4, 6, 7, 8, 1, 2, 3, 4, 5, 6, 7, 8, 9, 10, 1, 2, 3, 4, 5, 6, 2, 4, 5, 6, 1, 4, 6, 10, 9, 1, 2, 3, 5, 6, 7, 8, 10, 1, 3, 4, 6, 7, 9, 3, 6, 2, 3, 4, 6, 1, 2, 3, 4, 5, 6, 7, 8, 9, 10, 1, 2, 3, 4, 5, 7, 8, 9, 10, 2, 3, 5, 10, 1, 4, 8, 9, 1, 2, 3, 4, 5, 6, 7, 8, 9, 10, 1, 2, 3, 4, 5, 6, 7, 8, 1, 6, 9, 1, 2, 3, 4, 5, 7, 9, 10, 1, 2, 3, 4, 5, 7, 8, 10, 1, 3, 4, 5, 6, 7, 8, 9, 10, 1, 1, 2, 3, 4, 5, 6, 7, 8, 9, 10, 1, 2, 3, 4, 5, 6, 7, 8, 9, 10, 1, 2, 3, 4, 5, 6, 7, 8, 9, 10, 2, 4, 1, 2, 3, 4, 5, 6, 7, 8, 9, 10, 5, 10, 1, 2, 3, 4, 5, 6, 7, 8, 9, 10, 6, 8, 3, 2, 5, 6, 9, 1, 5, 10, 1, 2, 3, 4, 5, 6, 7, 8, 9, 10, 4, 7, 3, 1, 8, 9, 6, 8, 1, 2, 3, 4, 5, 6, 7, 8, 9, 10, 6, 9, 1, 2, 3, 4, 5, 6, 7, 8, 9, 10, 1, 4, 8, 6, 8, 9, 1, 4, 1, 3, 4, 6, 9, 1, 2, 3, 4, 5, 6, 7, 8, 9, 10, 1, 2, 3, 4, 5, 6, 7, 8, 9, 10, 3, 5, 6, 7, 1, 2, 5, 6, 7, 8, 9, 10, 9, 10, 1, 2, 3, 4, 5, 6, 7, 8, 9, 10, 2, 5, 8, 9, 1, 2, 3, 4, 5, 6, 7, 9, 2, 7, 2, 4, 1, 2, 3, 4, 5, 6, 7, 8, 9, 10, 1, 2, 3, 4, 5, 6, 7, 9, 10, 3, 1, 2, 3, 4, 5, 6, 7, 8, 9, 10, 1, 2, 3, 4, 5, 6, 7, 8, 9, 10, 6, 1, 6, 1, 2, 3, 4, 5, 6, 7, 8, 9, 10, 1, 4, 6, 10, 5, 1, 2, 3, 4, 6, 7, 8, 9, 10, 1, 2, 3, 4, 5, 6, 8, 9, 1, 2, 3, 4, 5, 6, 7, 8, 9, 10, 1, 2, 3, 4, 5, 6, 7, 8, 10, 1, 6, 9, 1, 5, 6, 9, 1, 3, 10, 8, 1, 2, 3, 4, 5, 6, 7, 8, 9, 10, 1, 2, 3, 4, 5, 6, 7, 10, 1, 4, 5, 6, 1, 6, 1, 2, 3, 4, 5, 6, 7, 8, 9, 10, 8, 1, 2, 3, 4, 5, 6, 7, 8, 9, 10, 1, 4, 5, 6, 8, 9, 10, 1, 2, 3, 4, 5, 6, 7, 8, 9, 10, 9, 10, 4, 9, 9, 1, 6, 4, 1, 2, 3, 4, 5, 6, 7, 8, 9, 10, 2, 7, 9, 3, 1, 2, 3, 4, 5, 6, 7, 8, 9, 10, 1, 2, 3, 4, 5, 6, 7, 8, 9, 10, 1, 3, 4, 5, 6, 1, 2, 3, 4, 5, 6, 7, 8, 9, 10, 2, 8, 10, 1, 2, 3, 4, 5, 6, 7, 8, 9, 10, 1, 4, 7, 1, 2, 3, 4, 5, 6, 7, 8, 9, 10, 1, 3, 4, 6, 7, 8, 10, 1, 2, 4, 5, 7, 8, 9, 1, 2, 4, 6, 8, 9, 10, 1, 3, 6, 1, 3, 4, 6, 9, 1, 2, 3, 4, 5, 6, 7, 8, 9, 10, 1, 2, 3, 4, 5, 6, 7, 8, 9, 10, 3, 1, 2, 3, 4, 5, 6, 7, 8, 9, 10, 8, 1, 2, 3, 4, 7, 8, 9, 10, 1, 2, 3, 4, 5, 6, 7, 8, 9, 10, 1, 2, 3, 4, 5, 6, 7, 8, 9, 10, 1, 2, 7, 9, 10, 1, 2, 3, 4, 5, 6, 7, 8, 9, 10, 1, 2, 3, 4, 5, 6, 7, 8, 9, 10, 1, 7, 1, 2, 3, 4, 5, 6, 7, 8, 9, 10, 2, 5, 1, 5, 9, 1, 2, 3, 4, 5, 6, 7, 8, 9, 10, 1, 3, 4, 5, 6, 7, 8, 9, 10, 3, 6, 2, 7, 1, 2, 3, 4, 5, 6, 7, 8, 9, 10, 4, 8, 9, 10, 1, 2, 3, 4, 5, 6, 7, 8, 9, 10, 4, 1, 2, 3, 4, 7, 1, 6, 9, 1, 2, 3, 4, 5, 6, 7, 8, 9, 10, 9, 10, 1, 2, 3, 4, 5, 6, 7, 8, 9, 10, 1, 3, 4, 1, 3, 4, 7, 10, 3, 1, 3, 6, 1, 2, 3, 4, 5, 6, 7, 8, 9, 10, 1, 2, 3, 4, 6, 9, 10, 1, 3, 5, 10, 1, 2, 3, 4, 6, 7, 8, 4, 6, 1, 2, 3, 4, 6, 7, 10, 1, 3, 4, 7, 1, 3, 4, 5, 6, 1, 2, 3, 4, 5, 6, 7, 8, 9, 10, 2, 1, 2, 3, 4, 5, 6, 7, 8, 9, 10, 1, 3, 6, 9, 1, 2, 5, 7, 6, 9, 1, 4, 5, 6, 9, 10, 1, 2, 3, 4, 5, 6, 7, 9, 10, 1, 2, 3, 4, 5, 6, 7, 8, 9, 10, 1, 3, 5, 6, 10, 1, 3, 1, 2, 3, 5, 6, 7, 8, 9, 10, 6, 8, 1, 5, 9, 10, 1, 2, 3, 4, 5, 6, 7, 8, 9, 10, 3, 6, 8, 9, 2, 5, 2, 5, 7, 2, 3, 5, 7, 10, 3, 1, 2, 4, 5, 7, 10, 2, 7, 8, 2, 5, 8, 9, 10, 1, 2, 3, 4, 5, 6, 7, 8, 9, 10, 1, 1, 2, 3, 4, 5, 6, 7, 8, 9, 10, 1, 2, 3, 4, 5, 6, 7, 8, 9, 10, 1, 2, 3, 4, 5, 6, 7, 8, 9, 10, 1, 3, 4, 5, 9, 5, 7, 9, 10, 2, 5, 1, 2, 3, 4, 5, 6, 7, 8, 9, 10, 1, 2, 3, 4, 5, 8, 2, 5, 1, 2, 3, 4, 5, 6, 7, 8, 9, 10, 1, 4, 7, 10, 2, 6, 7, 1, 2, 3, 4, 5, 1, 1, 2, 3, 4, 5, 6, 7, 8, 9, 10, 1, 3, 4, 6, 7, 9, 10, 1, 3, 4, 5, 6, 7, 8, 10, 6, 1, 2, 4, 5, 6, 7, 8, 9, 10, 1, 5, 1, 2, 3, 4, 5, 6, 7, 8, 9, 10, 1, 2, 3, 4, 5, 6, 7, 8, 9, 10, 1, 2, 3, 4, 5, 6, 7, 8, 9, 10, 2, 4, 7, 1, 2, 3, 4, 5, 6, 7, 8, 9, 10, 4, 10, 1, 3, 9, 2, 3, 4, 4, 5, 6, 8, 9, 10, 8, 10, 8, 9, 1, 5, 6, 4, 1, 2, 3, 4, 5, 6, 7, 8, 9, 10, 1, 2, 3, 4, 5, 6, 7, 8, 9, 10, 1, 2, 3, 4, 5, 6, 7, 8, 9, 10, 1, 2, 3, 4, 5, 6, 7, 8, 9, 10, 1, 2, 3, 4, 5, 6, 7, 8, 9, 10, 1, 2, 3, 4, 5, 6, 7, 8, 9, 10, 9, 2, 5, 8, 9, 10, 2, 5, 7, 8, 9, 5, 6, 8, 9, 6, 6, 8, 1, 3, 1, 2, 3, 4, 5, 6, 7, 8, 9, 10, 1, 6, 8, 1, 2, 3, 4, 5, 6, 7, 8, 9, 10, 8, 1, 2, 7, 8, 2, 4, 5, 7, 8, 9, 10, 1, 2, 3, 4, 5, 6, 7, 8, 9, 10, 1, 2, 3, 4, 5, 6, 7, 8, 9, 10, 1, 3, 6, 1, 3, 4, 6, 7, 8, 9, 1, 6, 8, 9, 8, 1, 2, 5, 6, 8, 9, 1, 2, 3, 4, 5, 6, 7, 8, 9, 10, 2, 4, 7, 8, 1, 3, 5, 6, 8, 9, 1, 2, 3, 4, 5, 6, 7, 8, 9, 10, 1, 2, 3, 4, 5, 6, 7, 8, 9, 10, 1, 2, 3, 5, 6, 7, 8, 9, 10, 1, 2, 3, 4, 5, 6, 7, 8, 9, 10, 6, 8, 9, 1, 2, 3, 4, 5, 6, 7, 8, 9, 10, 2, 3, 6, 7, 1, 3, 7, 1, 6, 7, 2, 10, 1, 2, 3, 4, 5, 6, 7, 8, 9, 10, 1, 2, 3, 5, 6, 7, 8, 9, 10, 1, 3, 1, 2, 3, 4, 5, 6, 7, 8, 9, 10, 1, 2, 5, 6, 8, 9, 10, 1, 2, 3, 4, 5, 6, 7, 8, 9, 10, 1, 6, 1, 2, 3, 4, 5, 6, 7, 8, 9, 10, 1, 2, 3, 4, 5, 6, 7, 9, 10, 1, 2, 3, 4, 5, 6, 7, 8, 9, 10, 1, 2, 3, 4, 5, 7, 8, 9, 10, 1, 2, 3, 4, 5, 6, 7, 8, 9, 10, 1, 1, 7, 1, 2, 3, 4, 5, 6, 7, 8, 9, 10, 9, 1, 2, 3, 6, 7, 9, 6, 8, 1, 1, 3, 4, 7, 1, 2, 3, 4, 5, 6, 7, 8, 9, 10, 1, 2, 3, 4, 5, 7, 1, 2, 3, 4, 5, 6, 7, 8, 9, 10, 9, 1, 3, 5, 6, 7, 9, 1, 2, 3, 4, 5, 6, 7, 8, 9, 10, 1, 3, 5, 6, 7, 9, 1, 3, 3, 10, 1, 5, 6, 8, 9, 9, 1, 2, 3, 4, 5, 6, 7, 9, 10, 1, 2, 3, 4, 5, 6, 7, 8, 9, 10, 2, 5, 8, 2, 3, 4, 5, 9, 9, 1, 2, 3, 4, 5, 6, 7, 8, 9, 10, 2, 8, 9, 10, 1, 2, 3, 4, 5, 6, 7, 8, 9, 10, 1, 2, 4, 5, 8, 9, 10, 1, 2, 3, 5, 6, 7, 8, 9, 10, 1, 2, 3, 4, 5, 6, 7, 8, 9, 10, 9, 1, 10, 3, 1, 2, 3, 4, 5, 6, 7, 8, 9, 10, 1, 6, 9, 3, 4, 6, 3, 6, 1, 7, 9, 10, 1, 3, 10, 1, 5, 8, 9, 1, 3, 4, 5, 6, 7, 8, 9, 10, 1, 2, 3, 4, 5, 6, 7, 9, 10, 1, 2, 3, 4, 5, 6, 7, 8, 9, 10, 6, 2, 5, 10, 2, 3, 4, 7, 8, 1, 2, 3, 4, 5, 6, 7, 8, 9, 10, 1, 2, 3, 4, 7, 10, 1, 2, 3, 4, 5, 6, 7, 8, 9, 10, 1, 2, 3, 4, 5, 6, 7, 8, 9, 10, 1, 2, 3, 7, 4, 2, 4, 8, 1, 2, 4, 5, 6, 9, 10, 1, 2, 3, 4, 5, 6, 7, 8, 9, 10, 1, 2, 3, 5, 7, 8, 9, 10, 2, 5, 8, 9, 10, 1, 2, 3, 4, 5, 6, 7, 8, 9, 10, 1, 2, 3, 4, 5, 6, 7, 8, 9, 10, 1, 2, 3, 4, 8, 9, 3, 1, 2, 4, 8, 9, 4, 5, 10, 8, 9, 10, 1, 2, 3, 4, 5, 6, 7, 8, 9, 10, 1, 2, 3, 4, 5, 6, 7, 8, 9, 10, 1, 2, 3, 4, 5, 6, 7, 8, 9, 10, 1, 2, 3, 4, 5, 6, 7, 8, 9, 10, 1, 2, 3, 4, 5, 6, 7, 8, 9, 10, 1, 2, 3, 4, 5, 6, 7, 8, 9, 10, 3, 5, 6, 7, 1, 2, 3, 4, 5, 6, 7, 8, 9, 10, 10, 5, 9, 1, 2, 3, 4, 5, 6, 7, 8, 9, 10, 1, 2, 3, 4, 5, 6, 7, 8, 9, 10, 1, 3, 1, 3, 6, 9, 10, 1, 2, 3, 4, 5, 8, 10, 9, 1, 3, 10, 1, 2, 3, 4, 5, 6, 7, 8, 9, 10, 1, 2, 3, 4, 5, 6, 7, 8, 9, 10, 1, 2, 3, 4, 5, 6, 7, 8, 10, 1, 1, 2, 3, 4, 5, 6, 7, 8, 10, 2, 3, 6, 7, 5, 8, 9, 1, 2, 3, 4, 5, 6, 7, 8, 9, 10, 1, 1, 3, 4, 5, 6, 7, 1, 7, 1, 3, 4, 7, 10, 1, 10, 5, 9, 10, 1, 2, 3, 4, 5, 6, 7, 8, 9, 10, 1, 2, 3, 4, 5, 6, 7, 8, 9, 10, 1, 2, 3, 4, 5, 6, 7, 8, 9, 10, 5, 8, 9, 10, 1, 2, 3, 4, 5, 6, 7, 8, 9, 10, 1, 2, 3, 4, 5, 6, 7, 8, 9, 10, 1, 2, 3, 4, 5, 6, 7, 8, 9, 10, 1, 2, 4, 7, 1, 2, 3, 8, 9, 10, 1, 2, 3, 4, 5, 7, 8, 9, 10, 2, 5, 1, 3, 4, 6, 7, 8, 9, 10, 1, 2, 3, 5, 6, 7, 1, 4, 8, 9, 2, 3, 4, 6, 8, 1, 2, 3, 4, 5, 6, 7, 8, 9, 10, 2, 5, 10, 3, 3, 4, 10, 1, 2, 3, 4, 5, 6, 7, 8, 9, 10, 8, 2, 1, 2, 3, 5, 6, 7, 8, 8, 1, 2, 3, 4, 5, 6, 7, 8, 9, 10, 2, 2, 5, 8, 2, 3, 4, 3, 4, 6, 1, 2, 3, 6, 7, 1, 3, 7, 1, 2, 3, 4, 5, 6, 7, 8, 9, 10, 1, 2, 3, 4, 5, 6, 7, 8, 9, 10], \"Freq\": [0.7870821437916816, 0.0015773189254342317, 0.16246384931972585, 0.01735050817977655, 0.0015773189254342317, 0.014195870328908084, 0.0015773189254342317, 0.0015773189254342317, 0.012618551403473854, 0.12383414444103008, 0.8513597430320818, 0.00773963402756438, 0.9681057419631357, 0.9888298297244886, 0.004708713474878517, 0.004708713474878517, 0.014999314036513334, 0.04124811360041167, 0.0037498285091283334, 0.04499794210954, 0.6937182741887417, 0.07124674167343834, 0.029998628073026667, 0.014999314036513334, 0.06374708465518167, 0.02249897105477, 0.006315094357569866, 0.003157547178784933, 0.7957018890538031, 0.003157547178784933, 0.09788396254233292, 0.003157547178784933, 0.003157547178784933, 0.006315094357569866, 0.07893867946962332, 0.013849093807814784, 0.013849093807814784, 0.9555874727392201, 0.006947025067760668, 0.006947025067760668, 0.013894050135521335, 0.18756967682953804, 0.7850138326569555, 0.9316325103346971, 0.029113515947959284, 0.03493621913755114, 0.1257936093316101, 0.13947508950060697, 0.24360635523130536, 0.1052713890781148, 0.09539032006717262, 0.04826522170729451, 0.07486809981367731, 0.08322900436139762, 0.04674505724407264, 0.03724402934893592, 0.06157360491494773, 0.21208686137370886, 0.06362605841211266, 0.03283925595463879, 0.34891709451803715, 0.031470953623195505, 0.13888268664149322, 0.017103779143041037, 0.03489170945180371, 0.058837000252061164, 0.005686231383457394, 0.9723455665712144, 0.011372462766914788, 0.005686231383457394, 0.01784689793279251, 0.062464142764773786, 0.838804202841248, 0.008923448966396255, 0.008923448966396255, 0.062464142764773786, 0.04690065543821759, 0.14070196631465276, 0.7738608147305901, 0.04690065543821759, 0.002477226931100806, 0.9091422837139959, 0.002477226931100806, 0.002477226931100806, 0.0792712617952258, 0.07856156326957907, 0.011818996244095966, 0.07160921253775791, 0.12444707809959869, 0.28296067478512105, 0.3163319582978626, 0.026418932780920393, 0.006952350731821156, 0.043799809610473285, 0.037542693951834245, 0.03306558648705973, 0.09919675946117917, 0.5885674394696632, 0.19178040162494642, 0.006613117297411945, 0.0727442902715314, 0.01763043983018238, 0.04113769293709222, 0.9285364977229387, 0.019867566583051645, 0.009933783291525822, 0.06953648304068076, 0.8741729296542724, 0.009933783291525822, 0.009933783291525822, 0.009933783291525822, 0.08587276273229084, 0.012267537533184407, 0.0024535075066368815, 0.5275041139269295, 0.29932791580969953, 0.004907015013273763, 0.004907015013273763, 0.05643067265264827, 0.004907015013273763, 0.0345388143060939, 0.07828797909381284, 0.01611811334284382, 0.5180822145914085, 0.0345388143060939, 0.0046051752408125205, 0.23946911252225103, 0.00690776286121878, 0.02532846382446886, 0.04144657716731268, 0.010282504982573305, 0.08226003986058644, 0.8842954285013043, 0.010282504982573305, 0.010282504982573305, 0.0024172575819575177, 0.003625886372936277, 0.8750472446686215, 0.07493498504068305, 0.0024172575819575177, 0.025381204610553938, 0.0012086287909787588, 0.014503545491745108, 0.014265908504961294, 0.9082628414825357, 0.004755302834987098, 0.02377651417493549, 0.038042422679896784, 0.11271143196031586, 0.27497233400946625, 0.09365394346461028, 0.02776948323659956, 0.10073243919158664, 0.041381975019246404, 0.2820508297364426, 0.03811497699141116, 0.013612491782646842, 0.015245990796564465, 0.07738050186540651, 0.04836281366587907, 0.07738050186540651, 0.1305795968978735, 0.009672562733175814, 0.6432254217561917, 0.009672562733175814, 0.06350616569491685, 0.054433856309928724, 0.027216928154964362, 0.8165078446489309, 0.027216928154964362, 0.0035592516462739487, 0.007118503292547897, 0.03203326481646554, 0.021355509877643692, 0.0035592516462739487, 0.0035592516462739487, 0.9254054280312267, 0.01059348275101867, 0.015890224126528005, 0.0979897154469227, 0.029132077565301343, 0.0026483706877546676, 0.8421818787059843, 0.04998246360186383, 0.22492108620838722, 0.04165205300155319, 0.6747632586251616, 0.00669518340639114, 0.01339036681278228, 0.9741491856299108, 0.00334759170319557, 0.028260158334486623, 0.01695609500069197, 0.01695609500069197, 0.028260158334486623, 0.7969364650325227, 0.10738860167104916, 0.005652031666897324, 0.03666058424474768, 0.01833029212237384, 0.00916514606118692, 0.00916514606118692, 0.03666058424474768, 0.8890191679351312, 0.004203621832931145, 0.6978012242665701, 0.004203621832931145, 0.19757022614776384, 0.012610865498793436, 0.05464708382810489, 0.01681448733172458, 0.012610865498793436, 0.1415628632039494, 0.0853540792847342, 0.049963363483746845, 0.018736261306405065, 0.006245420435468356, 0.03539071580098735, 0.022899874930050634, 0.006245420435468356, 0.6307874639823039, 0.002081806811822785, 0.003197572557720375, 0.9752596301047144, 0.0015987862788601876, 0.015987862788601877, 0.003197572557720375, 0.9816432023520485, 0.047308444481637096, 0.028385066688982257, 0.667049067191083, 0.15611786678940243, 0.00473084444816371, 0.00946168889632742, 0.08042435561878306, 0.00473084444816371, 0.13067763105570804, 0.03733646601591658, 0.8027340193422065, 0.009334116503979145, 0.009334116503979145, 0.9855468019383204, 0.002309312516884947, 0.04618625033769894, 0.004618625033769894, 0.28173612705996354, 0.009237250067539789, 0.0034639687753274203, 0.13740409475465434, 0.4941928786133787, 0.0173198438766371, 0.0034639687753274203, 0.12039021094819445, 0.053968025597466475, 0.07264926522735872, 0.15775269020797894, 0.08925481156504071, 0.012454159753261494, 0.039438172551994735, 0.002075693292210249, 0.004151386584420498, 0.4483497511174138, 0.9519729849029342, 0.054739475260176494, 0.011729887555752105, 0.11338891303893701, 0.08210921289026474, 0.6490537780849498, 0.03127970014867228, 0.00781992503716807, 0.03127970014867228, 0.003909962518584035, 0.011729887555752105, 0.03877322431005977, 0.9305573834414345, 0.019386612155029886, 0.037701506166457004, 0.006854819302992182, 0.003427409651496091, 0.006854819302992182, 0.010282228954488274, 0.7643123522836284, 0.15766084396882019, 0.010282228954488274, 0.030811561086034188, 0.01155433540726282, 0.23301243071313354, 0.6123797765849295, 0.013480057975139957, 0.0038514451357542735, 0.026960115950279914, 0.014442919259078525, 0.04236589649329701, 0.01155433540726282, 0.970809407715438, 0.031861280614098375, 0.01820644606519907, 0.009103223032599535, 0.004551611516299767, 0.013654834548899302, 0.004551611516299767, 0.004551611516299767, 0.045516115162997674, 0.8511513535480565, 0.01820644606519907, 0.006502972544922692, 0.9754458817384037, 0.006502972544922692, 0.006566060330535141, 0.039396361983210844, 0.02298121115687299, 0.013132120661070282, 0.0032830301652675706, 0.006566060330535141, 0.9126823859443846, 0.06237937600717463, 0.8525181387647199, 0.020793125335724878, 0.041586250671449755, 0.020793125335724878, 0.04476228212523162, 0.8952456425046325, 0.025663009142247332, 0.007896310505306871, 0.003948155252653436, 0.08093718267939544, 0.029611164394900767, 0.12634096808490994, 0.001974077626326718, 0.01776669863694046, 0.6968494020933315, 0.00987038813163359, 0.10721497162659244, 0.016244692670695823, 0.00649787706827833, 0.13645541843384493, 0.05198301654622664, 0.003248938534139165, 0.6530366453619721, 0.022742569738974153, 0.18575377003847846, 0.08504389471641181, 0.05863552740973657, 0.07161591134013627, 0.1674021927575685, 0.13830822877563817, 0.036255555115943985, 0.09668148030918396, 0.09041508806692204, 0.06937791411075701, 0.13543871612405364, 0.09844388162720566, 0.16961191070165052, 0.10722231693154247, 0.055492251745271975, 0.039189443322932185, 0.0730491223539456, 0.12070348543463114, 0.14421715142839045, 0.056746313931605806, 0.15178717659341062, 0.1417128064655294, 0.11283294543226983, 0.07992333634785781, 0.2666349960512567, 0.06246109479286366, 0.04701372726344576, 0.0456704779130616, 0.036267732460372445, 0.055073223365750754, 0.051236701760379186, 0.8710239299264462, 0.9405315724958375, 0.0391888155206599, 0.9205263832803381, 0.008268201047428186, 0.0027560670158093955, 0.0027560670158093955, 0.0027560670158093955, 0.0606334743478067, 0.0027560670158093955, 0.0027560670158093955, 0.1497259464694148, 0.08132436080556013, 0.1731206256052609, 0.12677688026948963, 0.12388039618600392, 0.09758923296667216, 0.03431219606590756, 0.0788734896579953, 0.07441736029878654, 0.060157746349318454, 0.13914577548758156, 0.06469057983194582, 0.12205769779612417, 0.12083712081816293, 0.270357800618415, 0.18552770065010873, 0.012205769779612418, 0.012205769779612418, 0.03356586689393415, 0.03966875178374036, 0.05231133645788868, 0.8892927197841076, 0.04683939041107554, 0.02341969520553777, 0.8899484178104353, 0.02341969520553777, 0.08738658365861764, 0.15074185681111543, 0.027308307393318014, 0.04587795642077426, 0.074278596109825, 0.006553993774396323, 0.0633552731524978, 0.32769968871981614, 0.17477316731723527, 0.04369329182930882, 0.9488242374954464, 0.028752249621074134, 0.96592817794752, 0.02012350370724, 0.02788444296689103, 0.00929481432229701, 0.00929481432229701, 0.6971110741722758, 0.10689036470641562, 0.013942221483445516, 0.05576888593378206, 0.013942221483445516, 0.02788444296689103, 0.03717925728918804, 0.006188041231773629, 0.76731711273993, 0.006188041231773629, 0.17326515448966162, 0.012376082463547258, 0.018564123695320886, 0.006188041231773629, 0.9505822519064147, 0.030663943609884343, 0.8816269672601256, 0.09795855191779174, 0.8282067009813724, 0.0651941134883296, 0.004829193591728119, 0.007243790387592178, 0.02897516155036871, 0.009658387183456237, 0.009658387183456237, 0.02656056475450465, 0.012072983979320297, 0.004829193591728119, 0.03145340180233664, 0.03145340180233664, 0.880695250465426, 0.008572258021733335, 0.008572258021733335, 0.9772374144776002, 0.008572258021733335, 0.004579272412321162, 0.06410981377249626, 0.34344543092408714, 0.01831708964928465, 0.004579272412321162, 0.5540919618908606, 0.031179871635575247, 0.8730364057961069, 0.031179871635575247, 0.02477291168514065, 0.9537570998779151, 0.03348377415046898, 0.9375456762131313, 0.9515522499419536, 0.021874764366481694, 0.05848969065124696, 0.6495434067059531, 0.06618570257904262, 0.1754690719537409, 0.027705642940064352, 0.007696011927795653, 0.0015392023855591306, 0.004617607156677392, 0.007696011927795653, 0.036755660839342646, 0.5513349125901397, 0.04107985623220649, 0.04972824701793417, 0.0756734193751172, 0.010810488482159602, 0.1513468387502344, 0.010810488482159602, 0.04324195392863841, 0.025945172357183046, 0.0032895124974352207, 0.0032895124974352207, 0.019737074984611323, 0.009868537492305662, 0.0032895124974352207, 0.006579024994870441, 0.6644815244819146, 0.223686849825595, 0.06579024994870442, 0.0033362665758135857, 0.0033362665758135857, 0.0033362665758135857, 0.0033362665758135857, 0.6672533151627171, 0.32028159127810424, 0.0033362665758135857, 0.7868174226830096, 0.008860556561745603, 0.012404779186443844, 0.005316333937047362, 0.06734022986926658, 0.10809879005329635, 0.0017721113123491206, 0.0017721113123491206, 0.0017721113123491206, 0.005316333937047362, 0.898217089520815, 0.046459504630386984, 0.015486501543462329, 0.015486501543462329, 0.952575938714135, 0.01831765087664703, 0.02747647631497055, 0.01831765087664703, 0.9250413692706752, 0.0032565680748824215, 0.0032565680748824215, 0.0032565680748824215, 0.009769704224647265, 0.006513136149764843, 0.006513136149764843, 0.0032565680748824215, 0.1823678121934156, 0.7750632018220164, 0.006513136149764843, 0.41011418467830124, 0.01770277056165329, 0.1522438268302183, 0.24252795669465008, 0.026554155842479936, 0.050747942276739434, 0.0365857258274168, 0.002360369408220439, 0.025964063490424828, 0.035995633475361694, 0.9686084766762757, 0.011531053293765187, 0.03975483913812781, 0.00602346047547391, 0.03734545494793824, 0.09758005970267734, 0.009637536760758255, 0.001204692095094782, 0.034936070757748676, 0.001204692095094782, 0.009637536760758255, 0.762570096194997, 0.010119280864512394, 0.005059640432256197, 0.005059640432256197, 0.015178921296768589, 0.010119280864512394, 0.010119280864512394, 0.9461527608319087, 0.01611535645866609, 0.020949963396265918, 0.022561499042132525, 0.05962681889706453, 0.0177268921045327, 0.003223071291733218, 0.012892285166932872, 0.001611535645866609, 0.004834606937599827, 0.8412216071423698, 0.13723303527643596, 0.02287217254607266, 0.800526039112543, 0.05060129206577717, 0.11566009615034781, 0.010843134014095108, 0.05060129206577717, 0.010843134014095108, 0.010843134014095108, 0.014457512018793476, 0.7192612229349755, 0.014457512018793476, 0.011779636854106403, 0.011779636854106403, 0.9423709483285122, 0.011779636854106403, 0.011779636854106403, 0.970098750256618, 0.005160099735407543, 0.005160099735407543, 0.005160099735407543, 0.015480299206222627, 0.005160099735407543, 0.8801310178064448, 0.10345363761653509, 0.25083964189214675, 0.1427801916419988, 0.08786473331815309, 0.12931704702066887, 0.06093844407549327, 0.08290462740503154, 0.05810409783942382, 0.04605812633612864, 0.03790938090742896, 0.1773673727119404, 0.2334836036264526, 0.13878746395821323, 0.09419510189221693, 0.05611623091451221, 0.05561519313848978, 0.1367833128541235, 0.06513491088291597, 0.025552926577143954, 0.017035284384762636, 0.9696236145625411, 0.14101852348857938, 0.8461111409314762, 0.10515732085938825, 0.788679906445412, 0.9175771748344375, 0.012700030101514706, 0.012700030101514706, 0.0031750075253786764, 0.03492508277916544, 0.015875037626893383, 0.0031750075253786764, 0.0031750075253786764, 0.09147367196852255, 0.10492568255212881, 0.11366948943147287, 0.2246485767462245, 0.052462841276064404, 0.027576621696392828, 0.23742798680065044, 0.09483667461442412, 0.030939624342294393, 0.022868417992130637, 0.13403035408712263, 0.09597235230929768, 0.1790380779287243, 0.15190106796540565, 0.0827347864735325, 0.12873532775281654, 0.06784252490829665, 0.04236021067444863, 0.07942539501459119, 0.038058001777824944, 0.08713727926628931, 0.04242809932861207, 0.20255995808498667, 0.14188321388385328, 0.035128641379603545, 0.276010753696885, 0.13367132369121867, 0.03284756077053838, 0.028741615674221083, 0.020529725481586488, 0.022068443259550746, 0.9489430601606821, 0.9846655406364697, 0.9433273907040572, 0.05669460090052194, 0.907113614408351, 0.09066701661096675, 0.030222338870322253, 0.8462254883690231, 0.9422850858930198, 0.02546716448359513, 0.8982411760373641, 0.03822302876754741, 0.019111514383773703, 0.03822302876754741, 0.9585036143007387, 0.03385082388811317, 0.016925411944056584, 0.9139722449790556, 0.016925411944056584, 0.025947362644581973, 0.01946052198343648, 0.0973026099171824, 0.5197581079742826, 0.018649666900793293, 0.0664901167767413, 0.021082232148722853, 0.0056759855785023065, 0.037299333801586586, 0.1873075240905761, 0.014018350486495613, 0.04906422670273465, 0.07710092767572588, 0.8551193796762324, 0.9632970666264833, 0.014819954871176665, 0.08564797435657916, 0.06448022404031435, 0.06513153943466096, 0.13124005196084182, 0.15924661391774603, 0.09248678599721856, 0.07327298186399357, 0.12798347498910878, 0.12440124032020243, 0.07587824344138001, 0.9749982044853847, 0.012828923743228745, 0.008418007767931137, 0.016836015535862274, 0.15152413982276047, 0.04209003883965569, 0.02525402330379341, 0.7239486680420778, 0.04209003883965569, 0.9432703003668444, 0.9721473806487468, 0.9763990700487837, 0.02665866101226151, 0.9330531354291529, 0.036505295190267815, 0.9126323797566953, 0.007301059038053562, 0.007301059038053562, 0.02920423615221425, 0.007301059038053562, 0.01834867473037845, 0.09633054233448687, 0.03211018077816229, 0.7201854831673542, 0.06422036155632457, 0.009174337365189226, 0.013761506047783839, 0.027523012095567678, 0.022935843412973063, 0.16016169984227158, 0.012916266116312225, 0.6587295719319234, 0.11624639504681002, 0.0051665064465248895, 0.015499519339574669, 0.0051665064465248895, 0.0025832532232624448, 0.020666025786099558, 0.0025832532232624448, 0.013793887046558914, 0.03678369879082377, 0.04138166113967674, 0.08276332227935349, 0.004597962348852971, 0.8184372980958289, 0.8903329806041331, 0.027423789125289973, 0.041135683687934965, 0.027423789125289973, 0.8981290938532467, 0.01967496404411111, 0.19317237425127273, 0.03219539570854545, 0.007154532379676768, 0.6582169789302627, 0.00894316547459596, 0.028618129518707073, 0.030406762613626265, 0.00894316547459596, 0.016097697854272727, 0.941744847313794, 0.3151709013509361, 0.11094457297992673, 0.17662817588844057, 0.09880138588759643, 0.02539030028396333, 0.041397228723853256, 0.05630023106444043, 0.0618198615609542, 0.08500230964631202, 0.028150115532220216, 0.03915572192332568, 0.45454685884904156, 0.14130108346243614, 0.06298963961578478, 0.061287216923466274, 0.005107268076955523, 0.12768170192388809, 0.08171628923128837, 0.008512113461592538, 0.018726649615503584, 0.8939749223435836, 0.07151799378748668, 0.00814052653978315, 0.0162810530795663, 0.0162810530795663, 0.7733500212793994, 0.12210789809674727, 0.0651242123182652, 0.09494178000329881, 0.012658904000439841, 0.006329452000219921, 0.8797938280305689, 0.24468371908257303, 0.09486929334380861, 0.11502901817936793, 0.09486929334380861, 0.1553484678504866, 0.15692962273955008, 0.03399483011486475, 0.042295893282448004, 0.037947717337523446, 0.024507900780483892, 0.21179205648013566, 0.0017948479362723362, 0.010769087617634017, 0.12204965966651886, 0.5743513396071476, 0.04846089427935307, 0.0017948479362723362, 0.0017948479362723362, 0.007179391745089345, 0.01794847936272336, 0.03903038755846037, 0.9367293014030489, 0.1189894278616026, 0.12361762392648301, 0.09584844753720059, 0.1052541363142156, 0.08823431852723605, 0.048820003652125535, 0.05643413266209007, 0.16661505833569448, 0.1300373797584139, 0.06598911808635928, 0.029770046671849165, 0.9526414934991733, 0.11195539996486734, 0.23178705922374546, 0.13052086830074985, 0.10126619092299559, 0.13839712759476064, 0.07763741304096328, 0.14346043714091042, 0.030098562302112577, 0.011533093966230052, 0.023347482907246205, 0.02356137904792228, 0.03135026468359907, 0.16415076477188828, 0.6579661140737966, 0.019861658370975806, 0.02842943257022027, 0.033881652515194025, 0.01109916203083942, 0.016356659834921253, 0.013241105580650538, 0.9885294642292417, 0.15242721228959422, 0.05917397875470019, 0.3277804687040461, 0.08426870272920656, 0.03500868900147184, 0.10595550122569354, 0.10471625559732285, 0.05142869357738341, 0.04337359699297396, 0.035628311815657183, 0.7066277236676854, 0.10822226398514101, 0.17824843479905578, 0.8625156962092507, 0.06468867721569381, 0.04312578481046254, 0.010781446202615634, 0.9746242210785637, 0.01746724014048743, 0.7126633977318871, 0.010480344084292458, 0.013973792112389943, 0.05589516844955977, 0.13973792112389943, 0.03493448028097486, 0.006986896056194972, 0.003493448028097486, 0.1561142761322535, 0.008742399463406197, 0.2772589544108822, 0.002497828418116056, 0.046209825735147037, 0.046209825735147037, 0.3784210053445825, 0.0062445710452901405, 0.02747611259927662, 0.049956568362321124, 0.9952056809604182, 0.8715037226208577, 0.0562260466207005, 0.06559705439081726, 0.23294105287137554, 0.013044698960797031, 0.04099762530536209, 0.24412222340920156, 0.1677175580673904, 0.0428611537283331, 0.009317642114855022, 0.0018635284229710043, 0.027952926344565067, 0.21989635391057852, 0.9605438414934238, 0.6815646483255219, 0.0015316059512933075, 0.2802838890866753, 0.003063211902586615, 0.0015316059512933075, 0.027568907123279536, 0.0015316059512933075, 0.003063211902586615, 0.021857039869940136, 0.021857039869940136, 0.04371407973988027, 0.9179956745374858, 0.03289821927152179, 0.5981494413003962, 0.29010247903069214, 0.035888966478023775, 0.03887971368452575, 0.08970805819121101, 0.016820260910852064, 0.8073725237208991, 0.044854029095605506, 0.005606753636950688, 0.011213507273901377, 0.016820260910852064, 0.00672170519073222, 0.21061342930960955, 0.03808966274748258, 0.00224056839691074, 0.1747643349590377, 0.00896227358764296, 0.022405683969107398, 0.00896227358764296, 0.02016511557219666, 0.5063684577018273, 0.0225466268827381, 0.9469583290750002, 0.1267570109897595, 0.00500356622327998, 0.763877776754077, 0.0984034690578396, 0.0016678554077599933, 0.0016678554077599933, 0.0016678554077599933, 0.01244671303116068, 0.9335034773370511, 0.01244671303116068, 0.03734013909348204, 0.9485778209579444, 0.051454172013430534, 0.04630875481208748, 0.19552585365103603, 0.5659958921477359, 0.0051454172013430536, 0.010290834402686107, 0.08489938382216039, 0.0025727086006715268, 0.0051454172013430536, 0.03344521180872985, 0.034765817461466106, 0.9386770714595849, 0.025454731687933135, 0.8400061457017934, 0.025454731687933135, 0.0763641950637994, 0.0675133166223997, 0.00254234246695229, 0.09180681130661048, 0.001129929985312129, 0.0019773774742962258, 0.683042676121182, 0.14943324055752905, 0.00028248249632803225, 0.0005649649926560645, 0.0014124124816401612, 0.0030568336726638605, 0.015284168363319302, 0.051966172435285625, 0.7856062538746121, 0.11004601221589898, 0.006113667345327721, 0.018341002035983163, 0.006113667345327721, 0.9795685992119486, 0.026121379643576713, 0.9403696671687617, 0.4512251030544452, 0.028759402172700902, 0.18743196588415417, 0.06743583957736764, 0.028759402172700902, 0.14578041790989768, 0.05156858320622231, 0.013883849324752161, 0.015867256371145326, 0.008925331708769246, 0.10301117488030709, 0.5055178026533589, 0.07439695963577735, 0.028614215244529746, 0.06104365918833012, 0.028614215244529746, 0.08393503138395392, 0.07630457398541265, 0.02670660089489443, 0.011445686097811898, 0.05811277386344579, 0.05811277386344579, 0.029056386931722893, 0.07748369848459438, 0.029056386931722893, 0.009685462310574298, 0.7457805979142209, 0.001291345833812755, 0.6940983856743558, 0.005811056252157397, 0.001291345833812755, 0.15818986464206247, 0.001291345833812755, 0.0716696937766079, 0.05940190835538672, 0.0019370187507191322, 0.005811056252157397, 0.005516933086943758, 0.681341236237554, 0.016550799260831275, 0.17930032532567214, 0.008275399630415637, 0.091029395934572, 0.002758466543471879, 0.013792332717359395, 0.839611157807962, 0.017311570264081692, 0.008655785132040846, 0.0952136364524493, 0.017311570264081692, 0.008655785132040846, 0.12961030521526953, 0.021601717535878254, 0.8208652663633736, 0.06638709595380604, 0.04741935425271861, 0.09077419242663276, 0.05283870902445787, 0.20864515871196185, 0.08806451504076312, 0.013548386929348172, 0.07451612811141495, 0.125999998442938, 0.23303225518478857, 0.12959668155683213, 0.06610739816787901, 0.003927172168388853, 0.007854344336777706, 0.37897211424952426, 0.08901590248348067, 0.20159483797729444, 0.013745102589360984, 0.01701774606301836, 0.09163401726240657, 0.867039770002456, 0.032806910216309146, 0.004686701459472736, 0.009373402918945471, 0.007030052189209103, 0.02109015656762731, 0.039836962405518254, 0.009373402918945471, 0.002343350729736368, 0.004686701459472736, 0.04615454056927682, 0.015384846856425608, 0.8923211176726853, 0.015384846856425608, 0.015384846856425608, 0.015384846856425608, 0.04133109977820312, 0.00516638747227539, 0.940282519954121, 0.00516638747227539, 0.07078039248091507, 0.018071589569595335, 0.0015059657974662779, 0.012047726379730223, 0.024095452759460446, 0.01505965797466278, 0.004517897392398834, 0.5044985421512032, 0.3343244070375137, 0.016565623772129057, 0.9314187314629752, 0.05970632893993431, 0.1631754916408822, 0.26365724175658334, 0.09189356634512838, 0.04852323830373602, 0.05668201288578013, 0.07858188150074064, 0.12495807386183345, 0.11594048090273208, 0.027052778877304152, 0.02919982481994734, 0.23131726940945782, 0.08356971210201969, 0.23085555829287208, 0.09788275671617776, 0.06186928962248972, 0.07849088981957651, 0.10065302341569222, 0.06463955632200419, 0.029549511461487626, 0.02123871136294423, 0.8977826185234156, 0.07806805378464483, 0.01951701344616121, 0.08869143243101496, 0.09043048012574074, 0.09390857551519231, 0.031302858505064104, 0.5130190699441062, 0.04347619236814459, 0.03652000158924146, 0.07130095548375713, 0.017390476947257837, 0.013912381557806268, 0.24602206259343412, 0.011182821026974278, 0.7380661877803023, 0.16533043944056025, 0.12695015885614447, 0.11429731910304038, 0.1180931710289716, 0.07085590261738296, 0.05989010816469274, 0.20371072002497603, 0.07633879984372807, 0.03331914468317413, 0.031210338057656783, 0.9645566497073388, 0.006028479060670867, 0.006028479060670867, 0.006028479060670867, 0.006028479060670867, 0.7993656409898864, 0.0068321849657255245, 0.17763680910886365, 0.0068321849657255245, 0.9724030264135116, 0.0340191087031255, 0.08404720973713359, 0.5643169796636113, 0.07003934144761133, 0.04602585295128744, 0.02401348849632388, 0.02201236445496356, 0.11906688046093925, 0.008004496165441294, 0.028015736579044527, 0.959394101456156, 0.8743923457789238, 0.06982526987968045, 0.054862712048320356, 0.05818772489973371, 0.6201148967885907, 0.043225167068373614, 0.033250128514133545, 0.041562660642666935, 0.0066500257028267095, 0.0066500257028267095, 0.06483775060256042, 0.9813025821775039, 0.12135671617152298, 0.43510822627350926, 0.020719439346357584, 0.026639279159602607, 0.11247695645165545, 0.051798598365893955, 0.04587875855264893, 0.056238478225827726, 0.06807815785231777, 0.06215831803907275, 0.14867709174707833, 0.07258251723085714, 0.02926714404470046, 0.3535471000599816, 0.009365486094304147, 0.021072343712184333, 0.03394988709185253, 0.1463357202235023, 0.14165297717635023, 0.04331537318615668, 0.13988883783929967, 0.17733939285139563, 0.16439692163398012, 0.07545185348025218, 0.050393026229511494, 0.05066839795754161, 0.24728381177104547, 0.0600310367105656, 0.013768586401505871, 0.020928251330288927, 0.9813940864885384, 0.0072161329888863115, 0.0072161329888863115, 0.0072161329888863115, 0.014994872416134073, 0.05248205345646926, 0.029989744832268145, 0.8247179828873741, 0.05997948966453629, 0.007497436208067036, 0.002622849740960059, 0.010491398963840236, 0.8157062694385784, 0.040654170984880916, 0.0013114248704800295, 0.0013114248704800295, 0.015737098445760354, 0.0931111658040821, 0.0013114248704800295, 0.018359948186720414, 0.973036310025114, 0.04136762887237362, 0.052649709473930065, 0.0037606935338521477, 0.0037606935338521477, 0.8348739645151767, 0.037606935338521476, 0.011282080601556442, 0.007521387067704295, 0.0037606935338521477, 0.9630401701864075, 0.026028112707740744, 0.015148723801650924, 0.08007182580872631, 0.012984620401415077, 0.01082051700117923, 0.041117964604481076, 0.01731282720188677, 0.04544617140495277, 0.7725849138841971, 0.0021641034002358463, 0.09194480207963442, 0.046658556279217465, 0.07067398965822645, 0.013036949548604881, 0.019212346703207192, 0.6847829289214563, 0.04871702199741824, 0.012350794309204624, 0.006175397154602312, 0.006861552394002569, 0.9337253204119998, 0.020285606396202936, 0.08790429438354606, 0.8858048126341949, 0.0268039299586201, 0.0268039299586201, 0.9381375485517035, 0.9704082782567602, 0.018842879189451656, 0.009421439594725828, 0.0049319534771026284, 0.0049319534771026284, 0.9222753002181915, 0.02959172086261577, 0.0049319534771026284, 0.019727813908410514, 0.014795860431307884, 0.0038490398924619362, 0.0007698079784923872, 0.8821999433522758, 0.02001500744080207, 0.0007698079784923872, 0.06312425423637576, 0.020784815419294455, 0.0038490398924619362, 0.004618847870954323, 0.0015396159569847744, 0.0021566192878438215, 0.0010783096439219108, 0.9090150298261707, 0.007548167507453375, 0.003234928931765732, 0.07009012685492419, 0.0021566192878438215, 0.0010783096439219108, 0.003234928931765732, 0.9838124439382345, 0.004512901118982727, 0.004512901118982727, 0.004512901118982727, 0.00450062782247624, 0.9856374931222966, 0.00450062782247624, 0.12208555307072777, 0.23842319874641185, 0.09610501164513033, 0.08736819240466394, 0.09656484423673382, 0.048052505822565164, 0.11978639011271029, 0.09610501164513033, 0.05058158507638438, 0.04483367768134071, 0.9514112105013603, 0.8429112399110329, 0.02829773448272753, 0.026491496111489602, 0.034318529053520626, 0.016858224798220658, 0.019868622083617202, 0.010837430227427565, 0.016858224798220658, 0.0018062383712379275, 0.0012041589141586183, 0.15417204739986726, 0.14325152737571, 0.07580125663826807, 0.12012572026572992, 0.06552312014494359, 0.06423835308327804, 0.11627141908073323, 0.020556272986648968, 0.21134418164398472, 0.02762249182580955, 0.015185795464759125, 0.015185795464759125, 0.956705114279825, 0.8959731055399761, 0.9540917829697402, 0.9759789910522292, 0.9063563279190172, 0.09289715156796167, 0.8860959072636344, 0.014291869471994104, 0.015211659046594252, 0.9735461789820321, 0.03601366241457017, 0.9363552227788244, 0.012004554138190057, 0.012004554138190057, 0.024448196747475334, 0.953479673151538, 0.1759512617940484, 0.02199390772425605, 0.02199390772425605, 0.7477928626247057, 0.24910754695536497, 0.07694147474768154, 0.09789088618888195, 0.09103471517176182, 0.12036389118944239, 0.16759529152960334, 0.05370667296744107, 0.06970440534072139, 0.04418421322144088, 0.029329176017680585, 0.9790440767350156, 0.0033528906737500534, 0.006705781347500107, 0.0033528906737500534, 0.006705781347500107, 0.7459072703185621, 0.02494673144878134, 0.03742009717317201, 0.04989346289756268, 0.019957385159025072, 0.06735617491170962, 0.014968038869268804, 0.01247336572439067, 0.02494673144878134, 0.002494673144878134, 0.01768421267576337, 0.07073685070305348, 0.05305263802729011, 0.8488422084366417, 0.01768421267576337, 0.018922435056940332, 0.9461217528470166, 0.13681957757668262, 0.31768838500732155, 0.08609622198727832, 0.07408279566347205, 0.09277034772272626, 0.030033565809515692, 0.11546237522324922, 0.07741985853119601, 0.026029090368246934, 0.042714404706866764, 0.9922312236132905, 0.9944214820213132, 0.9695264268170403, 0.010538330726272176, 0.00604316239584363, 0.00604316239584363, 0.11482008552102896, 0.8641722226056391, 0.8495174258259024, 0.0606798161304216, 0.02374758091316193, 0.03562137136974289, 0.011873790456580964, 0.9142818651567342, 0.04804473371416567, 0.006005591714270709, 0.06005591714270709, 0.024022366857082835, 0.018016775142812125, 0.006005591714270709, 0.8287716565693578, 0.06130015988228205, 0.1351023260563453, 0.10445224611520429, 0.2492335447845415, 0.06210674093336471, 0.025407303109103746, 0.24721709215683485, 0.07218900407189795, 0.015325039970570513, 0.02742375573681039, 0.055950167332999345, 0.037300111555332895, 0.009325027888833224, 0.8765526215503231, 0.009325027888833224, 0.009325027888833224, 0.833399053518624, 0.011574986854425333, 0.09259989483540267, 0.04629994741770133, 0.015913952023156677, 0.09548371213894005, 0.015913952023156677, 0.8434394572273038, 0.9476226677973912, 0.011596353117696561, 0.09856900150042078, 0.017394529676544843, 0.7595611292091248, 0.011596353117696561, 0.09277082494157249, 0.0057981765588482805, 0.0057981765588482805, 0.2398729455960968, 0.005330509902135484, 0.7356103664946968, 0.005330509902135484, 0.005330509902135484, 0.005330509902135484, 0.01811848820309552, 0.9602798747640627, 0.10899844979957861, 0.021799689959915724, 0.8501879084367132, 0.010899844979957862, 0.15221378736971775, 0.2003159799151264, 0.09225078022407136, 0.06852915102359587, 0.06655234859022291, 0.06655234859022291, 0.19339717139832105, 0.09686331923527493, 0.0312993718617385, 0.031628838933967326, 0.0034867738448144583, 0.04532805998258796, 0.08019579843073255, 0.04532805998258796, 0.10460321534443374, 0.01743386922407229, 0.010460321534443375, 0.01743386922407229, 0.6764341258940049, 0.06341381013094914, 0.02113793671031638, 0.29593111394442934, 0.6024311962440169, 0.0209370625525017, 0.03140559382875255, 0.0418741251050034, 0.8898251584813223, 0.017786644925065043, 0.5577383658645396, 0.04065518840014867, 0.12450651447545531, 0.07114657970026017, 0.007622847825027876, 0.1461045833130343, 0.029220916662606858, 0.001270474637504646, 0.003811423912513938, 0.17824149469720016, 0.04193917522287062, 0.14678711328004718, 0.013979725074290208, 0.003494931268572552, 0.048929037760015726, 0.5521991404344632, 0.010484793805717655, 0.03312464099952141, 0.9274899479865993, 0.03312464099952141, 0.03744621038754222, 0.041606900430602466, 0.11233863116262666, 0.7073173073202419, 0.004160690043060247, 0.054088970559783206, 0.02496414025836148, 0.01248207012918074, 0.0035774623916467324, 0.0035774623916467324, 0.8585909739952158, 0.035774623916467324, 0.0035774623916467324, 0.010732387174940197, 0.06797178544128792, 0.01430984956658693, 0.045631090076472584, 0.005951881314322512, 0.009919802190537518, 0.049599010952687594, 0.8015200169954315, 0.051582971390795096, 0.011903762628645023, 0.019839604381075036, 0.0019839604381075037, 0.9675498019792727, 0.21998536258648413, 0.003188193660673683, 0.003188193660673683, 0.0015940968303368415, 0.05738748589212629, 0.5388047286538524, 0.07811074468650522, 0.003188193660673683, 0.09086351932919996, 0.004782290491010525, 0.014544272620919826, 0.027270511164224673, 0.0018180340776149783, 0.0018180340776149783, 0.06181315863890926, 0.059995124561294286, 0.009090170388074892, 0.0036360681552299566, 0.8144792667715103, 0.0036360681552299566, 0.09137269269908349, 0.1533030733062401, 0.061321229322496035, 0.1828469106122771, 0.159800687009286, 0.048224476702294065, 0.13848039204616655, 0.03502619886798201, 0.04791990105996379, 0.08172779735862468, 0.0345184231665565, 0.9319974254970254, 0.07753619429042194, 0.02762783934486299, 0.003119272184097434, 0.014259529984445414, 0.31638332152988263, 0.07174326023424099, 0.023617346536737718, 0.10694647488334061, 0.192949265102027, 0.16576703606917795, 0.8485523166748585, 0.05657015444499057, 0.15916815572702292, 0.07003398851989008, 0.014325134015432062, 0.05252549138991756, 0.05093380983264733, 0.02069186024451298, 0.012733452458161832, 0.05570885450445802, 0.05411717294718779, 0.5109297798837436, 0.019450198567754574, 0.9725099283877288, 0.980748914169233, 0.027069462382588484, 0.08120838714776545, 0.01804630825505899, 0.8662227962428315, 0.03932424602432251, 0.03932424602432251, 0.9044576585594177, 0.14037585898190041, 0.038603361220022614, 0.07018792949095021, 0.17546982372737552, 0.007018792949095021, 0.007018792949095021, 0.5544846429785066, 0.0035093964745475104, 0.0035093964745475104, 0.007018792949095021, 0.024217495432987405, 0.9444823218865088, 0.9878696049322118, 0.9604077525388865, 0.011273156208915966, 0.9694914339667731, 0.010082762201912093, 0.978027933585473, 0.14148766373597946, 0.03981988141072476, 0.07455637370518678, 0.02965310317819929, 0.03812541837197052, 0.42700468576606976, 0.028805871658822167, 0.049986659643250234, 0.1203068757515514, 0.050833891162627355, 0.9166721055898152, 0.03273828948535054, 0.8957645240745126, 0.026563033662835626, 0.0029514481847595143, 0.0014757240923797571, 0.01623296501617733, 0.0029514481847595143, 0.0103300686466583, 0.017708689108557083, 0.0206601372933166, 0.004427172277139271, 0.9856968153275523, 0.9479530113998768, 0.9791987192859838, 0.015150898151164285, 0.9545065835233499, 0.03030179630232857, 0.9836268018960066, 0.0072861244584889375, 0.006138981557605259, 0.006138981557605259, 0.006138981557605259, 0.8870828350739599, 0.09208472336407889, 0.010538999184483424, 0.06191662020884012, 0.00658687449030214, 0.056647120616598406, 0.5177283349377482, 0.16862398695173478, 0.009221624286422996, 0.06323399510690055, 0.06982086959720268, 0.035569122247631556, 0.06726557382479335, 0.10970694778567487, 0.006406245126170795, 0.006406245126170795, 0.18417954737741035, 0.16496081199889798, 0.4132028106380163, 0.004003903203856747, 0.01281249025234159, 0.031230444990082627, 0.05656805580894581, 0.05656805580894581, 0.05656805580894581, 0.7919527813252414, 0.15204493433383973, 0.016004729929877864, 0.0240070948948168, 0.008002364964938932, 0.7842317665640154, 0.008002364964938932, 0.06245781464419864, 0.874409405018781, 0.11693447635701908, 0.8185413344991336, 0.11910376405050438, 0.3054245038522835, 0.10613206697569696, 0.07429244688298788, 0.11438678329602896, 0.052476410893539056, 0.06662735315696532, 0.1067216895700064, 0.0341981104699468, 0.021226413395139393, 0.0662615791197658, 0.8992642880539644, 0.018931879748504514, 0.009465939874252257, 0.8252718000954737, 0.005771131469199118, 0.05771131469199117, 0.005771131469199118, 0.002885565734599559, 0.07213914336498897, 0.008656697203798676, 0.02308452587679647, 0.17990153414924703, 0.791566750256687, 0.897831287650613, 0.06413080626075808, 0.039025044920164634, 0.013937516042915942, 0.0027875032085831883, 0.0027875032085831883, 0.5742256609681368, 0.030662535294415073, 0.04181254812874782, 0.01672501925149913, 0.22021275347807187, 0.05296256096308058, 0.06982401222279151, 0.006019311398516509, 0.713890331864058, 0.1384441621658797, 0.008427035957923113, 0.01805793419554953, 0.03611586839109906, 0.0012038622797033017, 0.008427035957923113, 0.9701882864133358, 0.12884796920333805, 0.19395010101134041, 0.09799227131517024, 0.0793432231410029, 0.17055402239283957, 0.07527433990300275, 0.06578027901433574, 0.10918170021967065, 0.056286218125668724, 0.022717931412167495, 0.053200914244933055, 0.008060744582565614, 0.13219621115407607, 0.6464717155217623, 0.01773363808164435, 0.0032242978330262457, 0.0016121489165131229, 0.004836446749539368, 0.014509340248618106, 0.12091116873848422, 0.9480043930921258, 0.020000539274087594, 0.9733595780055962, 0.08891096022728784, 0.10247364907551819, 0.1265850959168166, 0.4204433542951408, 0.030139308551622997, 0.043701997399853344, 0.14918957733053384, 0.006027861710324599, 0.01657661970339265, 0.015069654275811499, 0.015356370326664976, 0.015356370326664976, 0.9213822195998985, 0.03071274065332995, 0.8824704250136716, 0.006300082537042211, 0.0031500412685211057, 0.009450123805563317, 0.06615086663894322, 0.8662613488433041, 0.015750206342605527, 0.015750206342605527, 0.012600165074084423, 0.0031500412685211057, 0.010348021028176882, 0.005174010514088441, 0.015522031542265323, 0.005174010514088441, 0.03621807359861909, 0.8951038189373003, 0.010348021028176882, 0.020696042056353763, 0.02374782213288166, 0.03957970355480277, 0.31030487586965366, 0.5002874529327069, 0.03324695098603432, 0.012665505137536885, 0.05541158497672387, 0.004749564426576332, 0.007915940710960552, 0.012665505137536885, 0.038755832985483116, 0.8293748258893388, 0.007751166597096623, 0.007751166597096623, 0.015502333194193247, 0.038755832985483116, 0.015502333194193247, 0.007751166597096623, 0.038755832985483116, 0.033708828038185805, 0.9326109090564739, 0.022472552025457202, 0.03594155238155074, 0.008985388095387684, 0.9254949738249315, 0.01797077619077537, 0.9741134950977666, 0.9511072307001441, 0.030680878409682068, 0.9683915011952201, 0.2080188627811953, 0.03358879187446918, 0.2024593386088694, 0.10794742767932852, 0.05003571755093339, 0.15867808575180264, 0.16261608204053352, 0.015983631995437057, 0.019689981443654345, 0.04100149077090375, 0.8924401177816064, 0.0028788390896180853, 0.023030712716944682, 0.017273034537708513, 0.0028788390896180853, 0.04894026452350745, 0.008636517268854256, 0.0028788390896180853, 0.9355782063826747, 0.03645109894997434, 0.012150366316658114, 0.006075183158329057, 0.9641996919421263, 0.012522073921326315, 0.10535793643658191, 0.22938689958344413, 0.11769415051301713, 0.05601308013084101, 0.1553696151248328, 0.056679902513351026, 0.11436003860046706, 0.07435069564986634, 0.05934719204339107, 0.03100724078671556, 0.9756812475116263, 0.15507532995944937, 0.050043070831191916, 0.12336198856061262, 0.20017228332476766, 0.1731141113055767, 0.11812492300851114, 0.11346975362886538, 0.016584040914988017, 0.024439639243140236, 0.025603431588051676, 0.0018615038147519155, 0.003723007629503831, 0.0018615038147519155, 0.005584511444255746, 0.24571850354725283, 0.7371555106417585, 0.0018615038147519155, 0.08698325114426211, 0.2459310625877339, 0.02503115140842075, 0.008135124207736745, 0.20400388397862912, 0.10825972984141975, 0.17772117499978735, 0.05882320580978877, 0.038798284683052166, 0.047559187675999426, 0.974789774200141, 0.014335143738237367, 0.025606443546581516, 0.947438411223516, 0.9632282988721234, 0.021480201468990292, 0.9451288646355729, 0.9144011008871991, 0.10739293330501286, 0.08765158527100314, 0.0560654284165876, 0.10660327938365248, 0.08765158527100314, 0.055275774495227206, 0.2842754116897399, 0.12002739604677909, 0.06475162155155187, 0.03158615685441555, 0.008933888537815375, 0.026801665613446126, 0.9559260735462451, 0.9769707551102331, 0.16366896217890348, 0.0034823183442319887, 0.006964636688463977, 0.045270138475015854, 0.017411591721159945, 0.0034823183442319887, 0.0034823183442319887, 0.006964636688463977, 0.7382514889771816, 0.010446955032695967, 0.0466900125610708, 0.036314454214166174, 0.005187779173452311, 0.020751116693809243, 0.005187779173452311, 0.005187779173452311, 0.005187779173452311, 0.025938895867261554, 0.8352324469258221, 0.010375558346904621, 0.9018663303837104, 0.057754986674818896, 0.017770765130713507, 0.004442691282678377, 0.013328073848035131, 0.10613432657933303, 0.039287292159200626, 0.005863774949134422, 0.002931887474567211, 0.44740602861895634, 0.1448352412436202, 0.07153805437943994, 0.028146119755845224, 0.03576902718971997, 0.11903463146742875, 0.004586981705644382, 0.036695853645155055, 0.9540921947740314, 0.010384443530621349, 0.0020768887061242696, 0.006230666118372809, 0.0020768887061242696, 0.0020768887061242696, 0.004153777412248539, 0.0020768887061242696, 0.7788332647966011, 0.19107376096343281, 0.004153777412248539, 0.09042583024555263, 0.12056777366073684, 0.7535485853796052, 0.01699981835276194, 0.056230168397597195, 0.19876710689383195, 0.4184570671449094, 0.006538391674139209, 0.010461426678622734, 0.08107605675932619, 0.010461426678622734, 0.005230713339311367, 0.1948440718893484, 0.009341980393426964, 0.07473584314741571, 0.794068333441292, 0.009341980393426964, 0.07473584314741571, 0.009341980393426964, 0.028025941180280893, 0.02114533925701609, 0.7682806596715847, 0.007048446419005363, 0.007048446419005363, 0.16211426763712336, 0.014096892838010727, 0.007048446419005363, 0.007139688705337969, 0.007139688705337969, 0.028558754821351878, 0.021419066116013907, 0.921019842988598, 0.014279377410675939, 0.007139688705337969, 0.009283270433760735, 0.01856654086752147, 0.9654601251111165, 0.012173776432845677, 0.012173776432845677, 0.008115850955230451, 0.9617283381948085, 0.004057925477615226, 0.673646373342554, 0.014070942524126452, 0.11784414363955904, 0.05452490228099, 0.01055320689309484, 0.04221282757237936, 0.0527660344654742, 0.003517735631031613, 0.02110641378618968, 0.012312074708610645, 0.07574548165884423, 0.138052248829829, 0.03738406030259086, 0.003909444214650025, 0.14416075541521967, 0.27708185871332053, 0.27439411581574863, 0.008307568956131302, 0.01979156133666575, 0.02125760291715951, 0.9666965363007403, 0.006054625300313402, 0.06811453462852576, 0.003027312650156701, 0.006054625300313402, 0.5237250884771093, 0.04692334607742887, 0.006054625300313402, 0.27548545116425976, 0.05146431505266392, 0.012109250600626804, 0.9804437957170682, 0.002070388467988076, 0.008281553871952304, 0.9358155875306103, 0.02691505008384499, 0.002070388467988076, 0.008281553871952304, 0.002070388467988076, 0.014492719275916532, 0.012174644370145234, 0.04464036269053252, 0.2265836591110363, 0.5640918558167292, 0.031789349188712554, 0.026378396135314675, 0.04193488616383358, 0.003381845658373676, 0.01014553697512103, 0.03990577876880938, 0.05219892427681666, 0.08883543634688053, 0.05576531040753084, 0.5404696072636855, 0.07197615645623168, 0.07165193953525766, 0.0314490413344796, 0.013292893759934678, 0.026910004440843373, 0.04765988738318043, 0.044904884730717125, 0.00748414745511952, 0.9355184318899401, 0.9192026426610629, 0.04837908645584542, 0.017656850709508485, 0.017656850709508485, 0.017656850709508485, 0.010594110425705091, 0.04325928423829579, 0.025602433528787303, 0.02295390592236103, 0.3963962984284655, 0.43082715731200705, 0.016774008174033062, 0.09962827422781854, 0.14137726533280917, 0.08160030079611805, 0.4222341145845643, 0.13188885826349311, 0.05408392029510149, 0.040800150398059024, 0.0018976814138632104, 0.007590725655452842, 0.01992565484556371, 0.022102317677146682, 0.9503996601173073, 0.1965287569812797, 0.1651469195391592, 0.2098660378941809, 0.08512323406175189, 0.05217230474752535, 0.045895937259101245, 0.07806232063727477, 0.11415143369571336, 0.03412774821830605, 0.018829102465272307, 0.9718129693829801, 0.012301429992189623, 0.056433992044016945, 0.9029438727042711, 0.9744883962204378, 0.16826094231780503, 0.007673137434688177, 0.16168396737378657, 0.1123566552936483, 0.14962617997641944, 0.2395115042113381, 0.009865462416027655, 0.02575981853073888, 0.07673137434688176, 0.04823114958946854, 0.012527266236361896, 0.006263633118180948, 0.037581798709085686, 0.007829541397726186, 0.8534200123521541, 0.001565908279545237, 0.003131816559090474, 0.039147706988630925, 0.037581798709085686, 0.032907458940244966, 0.921408850326859, 0.9238395509198047, 0.04399235956760975, 0.21348339755750087, 0.10138024358895018, 0.21803251105187682, 0.0909822698875194, 0.03899240138036545, 0.07928454947340975, 0.12282606434815117, 0.07473543597903379, 0.03411835120781977, 0.026644807609916395, 0.8995370214459942, 0.011929060758867132, 0.9423957999505035, 0.035787182276601395, 0.09702348457620663, 0.38637670848931843, 0.07298226715909348, 0.025758447232621228, 0.03863767084893184, 0.03262736649465355, 0.1614196026577597, 0.14596453431818696, 0.03176875158689951, 0.0060103043542782866, 0.9512749217670038, 0.9355866281952604, 0.006216522446480135, 0.02486608978592054, 0.02797435100916061, 0.0031082612232400677, 0.023939648825458723, 0.023939648825458723, 0.9575859530183489, 0.1485249624180514, 0.14436226728301635, 0.2842288238201948, 0.12937656479689008, 0.06693613777136398, 0.038962826463928284, 0.039129334269329685, 0.05311598992304754, 0.049619326009618075, 0.0456231386799844, 0.9664492391800082, 0.9350235110614166, 0.10868394089984647, 0.012938564392838865, 0.010350851514271092, 0.002587712878567773, 0.005175425757135546, 0.010350851514271092, 0.002587712878567773, 0.2872361295210228, 0.5304811401063935, 0.02587712878567773, 0.973333575316953, 0.007104624637350021, 0.007104624637350021, 0.003510072757891912, 0.16146334686302793, 0.12636261928410883, 0.024570509305243383, 0.6844641877889228, 0.9711552680759568, 0.01995474544065332, 0.01995474544065332, 0.9578277811513594, 0.039454721940189286, 0.0939022382176505, 0.578406223643175, 0.026829210919328713, 0.018938266531290857, 0.015781888776075715, 0.12073144913697921, 0.04892385520583471, 0.0165709832148795, 0.039454721940189286, 0.9203793201039402, 0.0025637306966683573, 0.02050984557334686, 0.0025637306966683573, 0.005127461393336715, 0.023073576270015213, 0.025637306966683572, 0.9757455938226062, 0.017424028461117968, 0.9455843117162319, 0.03782337246864927, 0.016853429886930796, 0.004213357471732699, 0.03370685977386159, 0.09690722184985208, 0.03370685977386159, 0.813177992044411, 0.004213357471732699, 0.9472770536910826, 0.02786108981444361, 0.0724354163844397, 0.09959869752860459, 0.03621770819221985, 0.10412591105263208, 0.0022636067620137408, 0.6768184218421085, 0.006790820286041222, 0.019956420103105187, 0.03991284020621037, 0.9279735347943913, 0.009978210051552593, 0.031156866005874077, 0.010385622001958026, 0.8723922481644741, 0.020771244003916053, 0.05192811000979013, 0.060282589508015974, 0.060282589508015974, 0.019445996615489024, 0.015556797292391218, 0.6047704947417086, 0.13028817732377646, 0.02722439526168463, 0.0058337989846467065, 0.04278119255407585, 0.033058194246331336, 0.8492287153549167, 0.0693430604714475, 0.07169367269081861, 0.10460224376201405, 0.175792213834396, 0.03156536408869766, 0.13096268079353282, 0.31380673128604214, 0.0629628273045831, 0.02652833790433101, 0.012592565460916617, 0.024463889892866138, 0.012231944946433069, 0.9540917058217795, 0.012231944946433069, 0.029611644362862392, 0.16286404399574314, 0.029611644362862392, 0.7699027534344222, 0.12501214367282099, 0.8584167198867041, 0.1144052196383964, 0.025423382141865864, 0.012711691070932932, 0.012711691070932932, 0.012711691070932932, 0.8008365374687747, 0.5730750132916388, 0.002247352993300544, 0.34384500797498324, 0.02134985343635517, 0.0033710294899508162, 0.04607073636266116, 0.002247352993300544, 0.001123676496650272, 0.0067420589799016325, 0.9051374960920734, 0.013802257163522789, 0.042859640665676026, 0.002905738350215324, 0.002905738350215324, 0.021066603039061098, 0.004358607525322986, 0.001452869175107662, 0.001452869175107662, 0.005085042112876817, 0.9351190634160574, 0.0180990786467624, 0.012066052431174935, 0.0060330262155874675, 0.0180990786467624, 0.9773839404951901, 0.009582195495050882, 0.0025996084685326734, 0.0025996084685326734, 0.007798825405598019, 0.0025996084685326734, 0.010398433874130694, 0.0025996084685326734, 0.5589158207345247, 0.4081385295596297, 0.005199216937065347, 0.024457858085160808, 0.9538564653212714, 0.0035312760062981173, 0.021187656037788705, 0.0035312760062981173, 0.9640383497193861, 0.19188108770655124, 0.07270028788881755, 0.07389209588699489, 0.07329619188790622, 0.12931116780224106, 0.1638735997493838, 0.2419370236299994, 0.014897599977216711, 0.00774675198815269, 0.029795199954433423, 0.020315167267964115, 0.9751280288622775, 0.9694043787100639, 0.023081056635953903, 0.9904180303023503, 0.0062684685462174065, 0.06927829338628771, 0.06927829338628771, 0.8313395206354526, 0.9250260267424572, 0.0140155458597342, 0.0140155458597342, 0.0140155458597342, 0.0140155458597342, 0.9697623889141176, 0.0045690951627752364, 0.8772662712528454, 0.009138190325550473, 0.1005200935810552, 0.0045690951627752364, 0.0045690951627752364, 0.9362253748115127, 0.011850954111538135, 0.0355528623346144, 0.16177859794797703, 0.038065552458347536, 0.7137291085940164, 0.06978684617363716, 0.009516388114586884, 0.12075143758869222, 0.04001231068027671, 0.028580221914483367, 0.04001231068027671, 0.06287648821186341, 0.08859868793489843, 0.11646440430151972, 0.2843732080491095, 0.15576220943393435, 0.06359099375972549, 0.9688395869156191, 0.5818972312999904, 0.06276405237056569, 0.10460675395094282, 0.037232912423216934, 0.007801181650578787, 0.07623882067611087, 0.10176996062345962, 0.0024821941615477956, 0.005318987489030991, 0.020566751624253164, 0.0537265779366499, 0.0013954955308220754, 0.009768468715754527, 0.002093243296233113, 0.47307298494868355, 0.41795091148121155, 0.009768468715754527, 0.0013954955308220754, 0.008372973184932452, 0.02302567625856424, 0.53007611420122, 0.018477598752112245, 0.07852979469647704, 0.06813614539841391, 0.01963244867411926, 0.18362113759911544, 0.016167898908098215, 0.013858199064084186, 0.04272944711425957, 0.028871248050175387, 0.010623964123065982, 0.03187189236919795, 0.010623964123065982, 0.9242848787067405, 0.010623964123065982, 0.021513331814162637, 0.021513331814162637, 0.12907999088497582, 0.7959932771240176, 0.9144235116675735, 0.07464681727898559, 0.059892977606345196, 0.4569612365521152, 0.1441867979412014, 0.11978595521269039, 0.10758553384843489, 0.018855196653849413, 0.031055618018104917, 0.01441867979412014, 0.02107345508371405, 0.02661910115837564, 0.9182645612922126, 0.017004899283189122, 0.005668299761063041, 0.034009798566378244, 0.005668299761063041, 0.017004899283189122, 0.9077523868374735, 0.04538761934187367, 0.08078910397018217, 0.023937512287461382, 0.035433817530781654, 0.465679104171206, 0.006299345338805627, 0.008189148940447316, 0.33670000835916075, 0.00692927987268619, 0.0026772217689923915, 0.033544013929139964, 0.1353389669701364, 0.19978609409877277, 0.6509159839992273, 0.006444712712863637, 0.10738792711753603, 0.053693963558768015, 0.7517154898227522, 0.035725699427008234, 0.9110053353887099, 0.017862849713504117, 0.017862849713504117, 0.017862849713504117, 0.9686616160781607, 0.05331654199440436, 0.01447163282705261, 0.08378313741977828, 0.05331654199440436, 0.009139978627612176, 0.017518292369590002, 0.11044140841698045, 0.33437088479347876, 0.295525975626127, 0.028181600768470875, 0.013652296083408878, 0.0027304592166817756, 0.03822642903354486, 0.8819383269882135, 0.005460918433363551, 0.0027304592166817756, 0.05460918433363551, 0.003578671865007748, 0.053680077975116224, 0.8696172631968828, 0.003578671865007748, 0.010736015595023244, 0.025050703055054236, 0.014314687460030992, 0.01789335932503874, 0.9790709881947799, 0.0017050000780416846, 0.003410000156083369, 0.010230000468250108, 0.0017050000780416846, 0.011935000546291792, 0.0017050000780416846, 0.9207000421425098, 0.04092000187300043, 0.005115000234125054, 0.055550109961417335, 0.8888017593826774, 0.030273621241500952, 0.11100327788550349, 0.03279642301162603, 0.10091207080500317, 0.005045603540250159, 0.005045603540250159, 0.17911892567888063, 0.03531922478175111, 0.47680953455364, 0.020182414161000636, 0.3296056493149103, 0.095585638301324, 0.17073572634512355, 0.05405532648764529, 0.07910535583557848, 0.0863566801205065, 0.07580929934242937, 0.057351382980794396, 0.02768687454245247, 0.023731606750673543, 0.1791835659987936, 0.031233832605294297, 0.1512375052466882, 0.12657921634777164, 0.008219429632972184, 0.03452160445848317, 0.014794973339349931, 0.006575543706377747, 0.4438492001804979, 0.0032877718531888734, 0.8790358370429536, 0.04395179185214768, 0.04395179185214768, 0.3630878836975032, 0.005088318690455501, 0.25477938585780757, 0.03925274418351386, 0.017445664081561715, 0.24242204046670135, 0.030529912142733005, 0.0018172566751626788, 0.014174602066268895, 0.03162026614783061, 0.142891445716925, 0.8369356106277035, 0.9854634791937815, 0.00422945699224799, 0.00422945699224799, 0.8777366922838428, 0.03250876638088307, 0.03250876638088307, 0.03025582129643695, 0.0060511642592873905, 0.0060511642592873905, 0.9318792959302581, 0.0060511642592873905, 0.01815349277786217, 0.948832769135277, 0.02062679932902776, 0.016882427019877255, 0.9622983401330034, 0.07908359022881166, 0.8857362105626906, 0.015816718045762332, 0.9292636248683381, 0.07021248291252172, 0.06429714552428728, 0.05400960224040132, 0.24767260455955462, 0.1476262461237636, 0.129365856794866, 0.061982448285412946, 0.09670290686852807, 0.09027319231609936, 0.038321098732475224, 0.012673346592024251, 0.0027157171268623395, 0.013578585634311698, 0.0525038644526719, 0.008147151380587019, 0.8482089826233373, 0.001810478084574893, 0.0009052390422874465, 0.03711480073378531, 0.021725737014898716, 0.025340311757286935, 0.001535776470138602, 0.027643976462494838, 0.06987782939130639, 0.005375217645485108, 0.7663524585991625, 0.013054099996178119, 0.019965094111801827, 0.04069807645867296, 0.02994764116770274, 0.21366319537578038, 0.10777492305378768, 0.1518753839094951, 0.06685818530798426, 0.1222785505544615, 0.14715875708000767, 0.06001907640522749, 0.044925870550867726, 0.046930436953399886, 0.03867634000179689, 0.0032278088241387824, 0.004841713236208174, 0.0016139044120693912, 0.006455617648277565, 0.009683426472416348, 0.0016139044120693912, 0.0016139044120693912, 0.42929857361045803, 0.4906269412690949, 0.05164494118622052, 0.09553480760170732, 0.039460029226792155, 0.028383529794710146, 0.07892005845358431, 0.16753205391024037, 0.048459685015358786, 0.016614749148123012, 0.49151966229863914, 0.02769124858020502, 0.004845968501535879, 0.9693492787237887, 0.03826379757936992, 0.0054662567970528465, 0.06012882476758131, 0.18585273109979678, 0.7051471268198172, 0.8543017211597487, 0.05891736007998267, 0.044188020059987, 0.014729340019995667, 0.014729340019995667, 0.9595528804921476, 0.012641426666886472, 0.037924280000659415, 0.9354655733495989, 0.9261771290520935, 0.032443133465401265, 0.9408508704966366, 0.008965768359277893, 0.9862345195205683, 0.006566723767246942, 0.06238387578884595, 0.013133447534493884, 0.26923567445712465, 0.013133447534493884, 0.009850085650870415, 0.5417547107978727, 0.03940034260348166, 0.02626689506898777, 0.01970017130174083, 0.013509806636629509, 0.027019613273259017, 0.9456864645640656, 0.1746167513147646, 0.17438392897967825, 0.11873939089403993, 0.05611018275581102, 0.05354913706986114, 0.06728565483995595, 0.1178081015536945, 0.1371323553658618, 0.06635436549961055, 0.03399206092260751, 0.9753971801223534, 0.05572526864950023, 0.11145053729900047, 0.7801537610930033, 0.957491926667365, 0.8348895219687835, 0.004743690465731724, 0.061667976054512415, 0.023718452328658622, 0.04269321419158552, 0.023718452328658622, 0.009487380931463448, 0.1574281547056092, 0.040560092260397126, 0.1388667565525461, 0.15949053227817175, 0.1753020936678181, 0.22170558905047583, 0.06290251596315825, 0.008249510290250263, 0.018217668557636, 0.017530209366781808, 0.16553754147323285, 0.08794181890765494, 0.10432313811594361, 0.1407069102522479, 0.09794304537166276, 0.1436383042158364, 0.0786303321997856, 0.05811057445466611, 0.07311241415067783, 0.04983369738100447, 0.05931175079315596, 0.011862350158631192, 0.9134009622146018, 0.006570990146963372, 0.006570990146963372, 0.003285495073481686, 0.9429370860892439, 0.003285495073481686, 0.009856485220445058, 0.026283960587853487, 0.01800462648061047, 0.9362405769917445, 0.012003084320406981, 0.03000771080101745, 0.9774170472929866, 0.018349311003169538, 0.036698622006339075, 0.8257189951426293, 0.009174655501584769, 0.018349311003169538, 0.07339724401267815, 0.07984793912951511, 0.011795718280496552, 0.0018147258893071617, 0.0018147258893071617, 0.0036294517786143233, 0.016332533003764457, 0.007258903557228647, 0.3856292514777719, 0.454588835271444, 0.03720188073079682, 0.044402454089897, 0.133207362269691, 0.7992441736181459, 0.9784655227501482, 0.01683512894462598, 0.00561170964820866, 0.01683512894462598, 0.9371555112508463, 0.01122341929641732, 0.00561170964820866, 0.005179627229971604, 0.002589813614985802, 0.05438608591470184, 0.05179627229971604, 0.005179627229971604, 0.8287403567954567, 0.028487949764843822, 0.01294906807492901, 0.007769440844957406, 0.002589813614985802, 0.0014380689330358396, 0.03451365439286015, 0.6859588810580955, 0.03595172332589599, 0.004314206799107519, 0.002876137866071679, 0.05177048158929023, 0.15531144476787068, 0.002876137866071679, 0.023009102928573433, 0.057099721275500157, 0.01827191080816005, 0.0022839888510200065, 0.027407866212240076, 0.7879761536019022, 0.0022839888510200065, 0.013703933106120038, 0.08222359863672023, 0.009135955404080026, 0.16883314077968653, 0.06706612904489524, 0.2989614508667967, 0.1471450890985015, 0.10243433640190466, 0.09476010273010073, 0.02569199968386534, 0.016683116677834637, 0.030029610020102345, 0.04838103836572045, 0.01143491923750513, 0.9490982967129259, 0.03430475771251539, 0.1386891447122554, 0.162926082623135, 0.12791717230742003, 0.006732482753022107, 0.06328533787840782, 0.05116686892296802, 0.40933495138374415, 0.004039489651813264, 0.002692993101208843, 0.03366241376511054, 0.03516217492920444, 0.10548652478761332, 0.03516217492920444, 0.7735678484424976, 0.08065789676044074, 0.02688596558681358, 0.8872368643648482, 0.09616860315625361, 0.09616860315625361, 0.7693488252500289, 0.9037084194773805, 0.07809825847335387, 0.030145885776727437, 0.055653942972419886, 0.027826971486209943, 0.011263297982513548, 0.007619289811700341, 0.01093202451243962, 0.021201502084731386, 0.5598521644249381, 0.22857869435101025, 0.04704083275049776, 0.02570709441196818, 0.0051414188823936365, 0.03084851329436182, 0.0051414188823936365, 0.8277684400653755, 0.0051414188823936365, 0.06683844547111728, 0.03084851329436182, 0.0051414188823936365, 0.9731932492753114, 0.964624292714841, 0.1903616986873112, 0.01837271086526328, 0.2567075990340953, 0.04848354256111143, 0.029090125536666858, 0.2878391368891247, 0.12656756373848038, 0.00153105923877194, 0.018883063944853926, 0.022455535501988453, 0.0033153803260096773, 0.0033153803260096773, 0.009946140978029032, 0.03315380326009677, 0.7492759536781871, 0.18234591793053226, 0.016576901630048387, 0.219894996827159, 0.08326121239086602, 0.010674514409085388, 0.041986423342402525, 0.3109841864513543, 0.2305695112362444, 0.044121326224219604, 0.00853961152726831, 0.03131190893331714, 0.018502491642414673, 0.9705734021260704, 0.015911039379115907, 0.2872924203484477, 0.0678716721211543, 0.06291301114426633, 0.02820238430605042, 0.0037189957326659896, 0.019524727596496445, 0.5215891515064051, 0.00712807515427648, 0.0009297489331664974, 0.0009297489331664974, 0.014593710885753636, 0.1488558510346871, 0.07588729660591892, 0.5691547245443919, 0.1488558510346871, 0.017512453062904363, 0.020431195240055093, 0.0029187421771507275, 0.0029187421771507275, 0.1340437482661164, 0.11790885264149127, 0.0947407973856193, 0.11666770682421242, 0.05502413123269592, 0.03682065924593938, 0.2449194412763608, 0.11046197773781813, 0.04840468687387536, 0.04137152724262851, 0.007084921001738622, 0.10981627552694866, 0.003542460500869311, 0.1275285780312952, 0.007084921001738622, 0.6553551926608225, 0.05667936801390898, 0.02125476300521587, 0.007084921001738622, 0.19127821907781162, 0.08832911390535887, 0.12122409425632011, 0.10660410298922622, 0.05177913573762417, 0.03837747707612144, 0.04264164119569049, 0.07188162372987826, 0.2680331732300545, 0.02010248799225409, 0.9791810268548087, 0.972380597230124, 0.012308615154811697, 0.733958221221651, 0.0593413029923888, 0.09682002067179225, 0.007808066183209053, 0.015616132366418106, 0.014054519129776295, 0.0296706514961944, 0.018739358839701726, 0.010931292656492673, 0.014054519129776295, 0.9729909248719342, 0.933376498186741, 0.0023103378667988636, 0.004620675733597727, 0.041586081602379546, 0.013862027200793181, 0.004620675733597727, 0.025056612395079437, 0.9521512710130186, 0.9849422242409092, 0.9457337971868665, 0.015172199954869516, 0.015172199954869516, 0.02022959993982602, 0.013701912407556704, 0.46929049995881705, 0.008563695254722939, 0.0565203886811714, 0.03082930291700258, 0.000856369525472294, 0.40591915507386733, 0.010276434305667527, 0.000856369525472294, 0.003425478101889176, 0.051048662911017895, 0.8508110485169649, 0.008508110485169649, 0.025524331455508947, 0.025524331455508947, 0.025524331455508947, 0.01324986154380972, 0.00220831025730162, 0.0110415512865081, 0.028708033344921058, 0.03754127437412754, 0.0220831025730162, 0.00662493077190486, 0.6845761797635022, 0.18328975135603445, 0.0110415512865081, 0.9554507465433779, 0.004115459078096532, 0.04527004985906185, 0.004115459078096532, 0.8272072746974029, 0.11111739510860635, 0.004115459078096532, 0.032254739792573255, 0.0010751579930857753, 0.013977053910115078, 0.0010751579930857753, 0.018277685882458178, 0.8547506045031913, 0.03870568775108791, 0.0021503159861715505, 0.03548021377183058, 0.003225473979257326, 0.013994951854754108, 0.006997475927377054, 0.006997475927377054, 0.9131706085227056, 0.0017493689818442635, 0.05597980741901643, 0.012908998814486506, 0.9681749110864879, 0.022253048506604197, 0.9568810857839805, 0.03332603800121936, 0.03332603800121936, 0.06665207600243872, 0.00833150950030484, 0.8581454785313984, 0.9713776057856245, 0.10192473774041284, 0.03297565044542768, 0.011991145616519159, 0.005995572808259579, 0.6685063681209431, 0.113915883356932, 0.023982291233038317, 0.008993359212389368, 0.03597343684955747, 0.15018082475717717, 0.12431634938232998, 0.030036164951435435, 0.00917771706849416, 0.05756931615691791, 0.004171689576588255, 0.01918977205230597, 0.3245574490585662, 0.25447306417188353, 0.026698813290164828, 0.9675903230666332, 0.006911359450475951, 0.020734078351427855, 0.005829305017255705, 0.04080513512078993, 0.9152008877091456, 0.02331722006902282, 0.005829305017255705, 0.9733315214833149, 0.004500203574422403, 0.1260057000838273, 0.004500203574422403, 0.02700122144653442, 0.04950223931864644, 0.058502646467491246, 0.022501017872112016, 0.7020317576098949, 0.004500203574422403, 0.004500203574422403, 0.007588111176357903, 0.02276433352907371, 0.9561020082210958, 0.011382166764536855, 0.0012640144424690013, 0.37667630385576234, 0.0012640144424690013, 0.0012640144424690013, 0.38173236162563834, 0.018960216637035017, 0.18960216637035018, 0.015168173309628014, 0.006320072212345006, 0.008848101097283009, 0.07556765041380832, 0.07556765041380832, 0.03778382520690416, 0.028337868905178122, 0.03778382520690416, 0.00944595630172604, 0.7273386352329051, 0.002032399632402315, 0.002032399632402315, 0.002032399632402315, 0.00406479926480463, 0.01219439779441389, 0.006097198897206945, 0.37192913272962363, 0.5914282930290736, 0.00812959852960926, 0.0964148753380792, 0.0329840362998692, 0.0076117006845852, 0.0076117006845852, 0.5658030842208331, 0.21566485272991398, 0.012686167807642, 0.0076117006845852, 0.038058503422926, 0.0177606349306988, 0.9693585583005209, 0.12617044546802852, 0.8551552415055267, 0.95455218058963, 0.005525296695674066, 0.0013813241739185165, 0.0013813241739185165, 0.0013813241739185165, 0.005525296695674066, 0.005525296695674066, 0.002762648347837033, 0.5304284827847103, 0.4420237356539253, 0.0041439725217555495, 0.022927136120525365, 0.9170854448210146, 0.022927136120525365, 0.035314184897554175, 0.9358258997851857, 0.017657092448777088, 0.040300606098931, 0.926913940275413, 0.9796316894466656, 0.0058485473996815855, 0.0058485473996815855, 0.0058485473996815855, 0.002172735522409499, 0.9951128692635507, 0.002172735522409499, 0.054890446610931815, 0.878247145774909, 0.03293426796655909, 0.02195617864437273, 0.01391927149086153, 0.08244491575356444, 0.009636418724442597, 0.012848558299256798, 0.8308734366852729, 0.028909256173327794, 0.0032121395748141994, 0.017131411065675728, 0.001070713191604733, 0.02709818243586903, 0.0015940107315217077, 0.017534118046738784, 0.015940107315217077, 0.030286203898912446, 0.8878639774575912, 0.014346096583695369, 0.004782032194565123, 0.0015940107315217077, 0.1326199330418917, 0.015602345063751964, 0.19697960642986856, 0.009751465664844979, 0.0877631909836048, 0.12481876051001571, 0.042906448925317905, 0.009751465664844979, 0.13652051930782969, 0.23988605535518645, 0.9313319210994768, 0.009598786242746281, 0.9598786242746281, 0.009598786242746281, 0.031627320420406654, 0.14232294189182992, 0.015813660210203327, 0.774869350299963, 0.015813660210203327, 0.007980811846742814, 0.0057005798905305815, 0.018241855649697863, 0.022802319562122326, 0.0011401159781061164, 0.910952666506787, 0.004560463912424466, 0.006840695868636698, 0.018241855649697863, 0.003420347934318349, 0.0028160772034910133, 0.0028160772034910133, 0.011264308813964053, 0.9659144807974176, 0.011264308813964053, 0.0028160772034910133, 0.026974062561173604, 0.06893371543411032, 0.014985590311763114, 0.00899135418705787, 0.011988472249410492, 0.8391930574587344, 0.00899135418705787, 0.00899135418705787, 0.002997118062352623, 0.005994236124705246, 0.021698293957884158, 0.011683696746553007, 0.023367393493106015, 0.015021895816996724, 0.00834549767610929, 0.8211969713291543, 0.06843308094409618, 0.00834549767610929, 0.01669099535221858, 0.005007298605665574, 0.034402395915596344, 0.10320718774678904, 0.008600598978899086, 0.8514592989110096, 0.9357564099286472, 0.9053681475603226, 0.02105507319907727, 0.02105507319907727, 0.007956077398307155, 0.007956077398307155, 0.007956077398307155, 0.007956077398307155, 0.007956077398307155, 0.9547292877968587, 0.007956077398307155, 0.01823142240033459, 0.7365494649735174, 0.00607714080011153, 0.013369709760245365, 0.1434205228826321, 0.001215428160022306, 0.05712512352104838, 0.021877706880401505, 0.001215428160022306, 0.002430856320044612, 0.007319643598423667, 0.6587679238581301, 0.0036598217992118336, 0.21226966435428635, 0.07319643598423667, 0.032938396192906505, 0.007319643598423667, 0.0036598217992118336, 0.8039253698300428, 0.15232270165200812, 0.0169247446280009, 0.00846237231400045, 0.00846237231400045, 0.04657184286513867, 0.04080580517707388, 0.21910943214646192, 0.5074113165497013, 0.022177068031018415, 0.006653120409305524, 0.0935872270908977, 0.004435413606203683, 0.003991872245583315, 0.05632975279878677, 0.06092336890376321, 0.2569376862463057, 0.015893052757503447, 0.07416757953501608, 0.39997516106383674, 0.003973263189375862, 0.14171305375440574, 0.02383957913625517, 0.01456863169437816, 0.00927094744187701, 0.010929380487622256, 0.0036431268292074184, 0.9326404682770991, 0.01821563414603709, 0.02550188780445193, 0.0036431268292074184, 0.9872590355496618, 0.9651903452261055, 0.01770991459130469, 0.008854957295652345, 0.9556439560481388, 0.03900587575706689, 0.11477167413544545, 0.045908669654178176, 0.8263560537752072, 0.9751252217689859, 0.12144443829297963, 0.8501110680508573, 0.11064081887819888, 0.010437813101716875, 0.039663689786524126, 0.066802003850988, 0.6387941618250728, 0.06262687861030125, 0.014612938342403625, 0.0083502504813735, 0.016700500962747, 0.031313439305150625, 0.10060897301273554, 0.1164946003305359, 0.15144298042969667, 0.10802226576104237, 0.04342071466865429, 0.05612921652289457, 0.06354250927120139, 0.03388933827797408, 0.3145354208924469, 0.01270850185424028, 0.2847436424005883, 0.009446471548834682, 0.5397983742191247, 0.09581421142389464, 0.012145463419930306, 0.024290926839860612, 0.0013494959355478118, 0.0013494959355478118, 0.017543447162121553, 0.01619395122657374, 0.047800423632574876, 0.0705625301242772, 0.06828631947510697, 0.637338981767665, 0.03414315973755348, 0.004552421298340464, 0.045524212983404644, 0.006828631947510697, 0.015933474544191625, 0.06828631947510697, 0.030290101215184297, 0.005769543088606533, 0.008654314632909799, 0.0028847715443032665, 0.4298309601011867, 0.24953273858223254, 0.0028847715443032665, 0.07067690283543003, 0.1658743637974378, 0.03173248698733593, 0.07169573618840323, 0.47069809410647334, 0.11066081020383976, 0.040523676976053996, 0.121571030928162, 0.015586029606174615, 0.07169573618840323, 0.07481294210963815, 0.014027426645557154, 0.01091022072432223, 0.02731264338513112, 0.8740045883241958, 0.02731264338513112, 0.05462528677026224, 0.015367396906313613, 0.056347121989816576, 0.7350738186853345, 0.002561232817718935, 0.017928629724032547, 0.00512246563543787, 0.00512246563543787, 0.1152554767973521, 0.015367396906313613, 0.030734793812627226, 0.9684005775996787, 0.023947337322523583, 0.9578934929009433, 0.14991521548146156, 0.173448417911691, 0.11156481152108767, 0.0688564071106713, 0.06682267356731814, 0.09122747608755606, 0.2176094891387882, 0.07030907392735213, 0.014817201530144456, 0.03544507032701223, 0.10157452448384743, 0.07126170827662595, 0.030844620000330635, 0.114337815518467, 0.17602705551912826, 0.05264857551780574, 0.08455680310435466, 0.18879034655374785, 0.12391028379443168, 0.05530759448335148, 0.9733529806156904, 0.01013909354808011, 0.0315103052684411, 0.01575515263422055, 0.0315103052684411, 0.01575515263422055, 0.8822885475163507, 0.7985121131429288, 0.0019103160601505475, 0.005730948180451642, 0.011461896360903284, 0.011461896360903284, 0.022923792721806568, 0.1490046526917427, 0.9945258723771058, 0.03759775772913432, 0.11279327318740295, 0.827150670040955, 0.038150159467253676, 0.019904431026393225, 0.02488053878299153, 0.444532292922782, 0.03317405171065537, 0.028197943954057066, 0.22060744387585823, 0.058054590493646904, 0.08956993961876951, 0.04312626722385198, 0.2645753584790016, 0.061183051648269114, 0.6151377084636787, 0.026457535847900157, 0.0033071919809875196, 0.01157517193345632, 0.013228767923950079, 0.0016535959904937598, 0.0016535959904937598, 0.0016535959904937598, 0.18047889582950885, 0.015039907985792404, 0.015039907985792404, 0.6767958593606581, 0.048879700953825315, 0.003759976996448101, 0.03383979296803291, 0.022559861978688606, 0.003759976996448101, 0.9630863583653911, 0.003999227041039263, 0.06798685969766748, 0.06398763265662821, 0.22595632781871838, 0.0019996135205196316, 0.0019996135205196316, 0.5638910127865362, 0.0019996135205196316, 0.07198608673870674, 0.06641386988798355, 0.06641386988798355, 0.06641386988798355, 0.7637595037118108, 0.010398309359784625, 0.9670427704599701, 0.010398309359784625, 0.8442480786596868, 0.020798082229755058, 0.05083975656162347, 0.004621796051056679, 0.006162394734742239, 0.013095088811327258, 0.031582273015553976, 0.00847329276027058, 0.013095088811327258, 0.006932694076585019, 0.9839796659381432, 0.9741489721985531, 0.00325802331838981, 0.00325802331838981, 0.00325802331838981, 0.01303209327355924, 0.00651604663677962, 0.9641637380317494, 0.015805962918553268, 0.02620805549020031, 0.8281745534903298, 0.02620805549020031, 0.08386577756864098, 0.03144966658824037, 0.043761024106852106, 0.9189815062438943, 0.015256167087392533, 0.9611385265057296, 0.015256167087392533, 0.1442700744918266, 0.023115094808082715, 0.06376577878091784, 0.17535589164752405, 0.25506311512367136, 0.14785689954825323, 0.04065068397283512, 0.03467264221212407, 0.061374562076633415, 0.05340383972901869, 0.12330873708100333, 0.11216492194205215, 0.17975458332829955, 0.12476227818608392, 0.150441504375841, 0.09884079514548007, 0.04845137016935298, 0.06201775381677181, 0.047724599616812684, 0.05256973663374798, 0.10474509032081641, 0.2379808452088949, 0.0938516009274515, 0.02597678239956247, 0.07960626864382048, 0.03687027179292738, 0.13407371561064502, 0.0427359968508931, 0.053629486244258, 0.19105504474516913, 0.019822563014263373, 0.9646980666941508, 0.006607521004754457, 0.006607521004754457, 0.04434932691792137, 0.18478886215800572, 0.0517408814042416, 0.2513128525348878, 0.08426372114405062, 0.019218041664432594, 0.09904683011669108, 0.007391554486320229, 0.013304798075376413, 0.24392129804856755, 0.11969161636733978, 0.150677770858377, 0.10328718163679068, 0.11452725728550026, 0.05194737664673884, 0.047390589221586316, 0.2527498091817937, 0.08961681936133309, 0.030986154491037206, 0.03918837185631176, 0.20104637697141173, 0.21066163847874012, 0.03613007354268848, 0.22085964310772477, 0.11552882386835471, 0.03918947493138388, 0.0734256333286895, 0.07604797737614269, 0.01733660786927391, 0.009615261507328386, 0.005917834368652964, 0.03550700621191779, 0.08876751552979446, 0.8699216521919858, 0.001993523339025206, 0.003987046678050412, 0.9529041560540484, 0.031896373424403296, 0.001993523339025206, 0.003987046678050412, 0.0036354674178518333, 0.8325220386880698, 0.0018177337089259166, 0.011815269108018459, 0.0917955523007588, 0.037263541032981295, 0.012724135962481417, 0.0009088668544629583, 0.006362067981240708, 0.03855728269585374, 0.9253747847004898, 0.01745203088677232, 0.005817343628924106, 0.01745203088677232, 0.8784188879675401, 0.005817343628924106, 0.005817343628924106, 0.005817343628924106, 0.052356092660316954, 0.11629218480204012, 0.11629218480204012, 0.014536523100255015, 0.014536523100255015, 0.014536523100255015, 0.7122896319124957, 0.040235855223429755, 0.013411951741143251, 0.9120127183977411, 0.013411951741143251, 0.05120112520913496, 0.010240225041826992, 0.010240225041826992, 0.010240225041826992, 0.9113800287226023, 0.12821454760127987, 0.02391417404698029, 0.06165823188016606, 0.09565669618792116, 0.37571184285858195, 0.202262050373255, 0.014118006365084751, 0.010948657997412663, 0.04926896098835699, 0.03832030299094433, 0.9360947576453938, 0.15737815129108265, 0.7868907564554133, 0.966834085388115, 0.041442816344006865, 0.041442816344006865, 0.8979276874534821, 0.06044406029788411, 0.050849765012505675, 0.09258494950390185, 0.22930365732054447, 0.04749176166262323, 0.10745610719623841, 0.26288369081936896, 0.06763978176191793, 0.04749176166262323, 0.033580033498824505, 0.984132840387766, 0.8797642517971189, 0.08219078473507287, 0.01565538756858531, 0.0430523158136096, 0.023483081352877962, 0.8258216942428751, 0.003913846892146328, 0.007827693784292655, 0.9870018817559731, 0.14888690650459724, 0.24182842995898218, 0.12497476697507102, 0.06000593504579222, 0.13309587096623088, 0.037447312848125976, 0.0974532478939182, 0.0794063501357852, 0.0523360034985857, 0.0252656568613862, 0.8880460014988606, 0.05622517188938734, 0.9277153361748911, 0.9767815887873889, 0.7280854969968965, 0.004853903313312643, 0.26211077891888274, 0.029730660481760138, 0.8919198144528041, 0.029730660481760138, 0.05066138738997957, 0.012665346847494893, 0.05066138738997957, 0.025330693694989786, 0.8612435856296526, 0.07256976010208063, 0.08708371212249676, 0.8272952651637192, 0.09727539777916011, 0.09480419829747243, 0.0709908214739367, 0.08986179933409709, 0.1666936377647501, 0.11794361162600243, 0.07346202095562437, 0.12490790107439496, 0.09839867027083632, 0.06559911351389087, 0.13517102346740875, 0.07474162474080248, 0.05512857427690396, 0.09011401564493916, 0.059899316281636035, 0.04770742004732074, 0.06573022317630857, 0.23323627578690137, 0.1971906695289257, 0.041876513152648204], \"Term\": [\"abgeordnet\", \"abgeordnet\", \"abgeordnet\", \"abgeordnet\", \"abgeordnet\", \"abgeordnet\", \"abgeordnet\", \"abgeordnet\", \"abgeordnet\", \"achtelfinal\", \"achtelfinal\", \"achtelfinal\", \"aden\", \"admira\", \"admira\", \"admira\", \"agypt\", \"agypt\", \"agypt\", \"agypt\", \"agypt\", \"agypt\", \"agypt\", \"agypt\", \"agypt\", \"agypt\", \"akti\", \"akti\", \"akti\", \"akti\", \"akti\", \"akti\", \"akti\", \"akti\", \"akti\", \"aktionar\", \"aktionar\", \"aktionar\", \"alaba\", \"alaba\", \"alaba\", \"alaba\", \"alaba\", \"alexis\", \"alexis\", \"alexis\", \"allerding\", \"allerding\", \"allerding\", \"allerding\", \"allerding\", \"allerding\", \"allerding\", \"allerding\", \"allerding\", \"allerding\", \"alt\", \"alt\", \"alt\", \"alt\", \"alt\", \"alt\", \"alt\", \"alt\", \"alt\", \"alt\", \"altach\", \"altach\", \"altach\", \"altach\", \"analyst\", \"analyst\", \"analyst\", \"analyst\", \"analyst\", \"analyst\", \"analyt\", \"analyt\", \"analyt\", \"analyt\", \"android\", \"android\", \"android\", \"android\", \"android\", \"angab\", \"angab\", \"angab\", \"angab\", \"angab\", \"angab\", \"angab\", \"angab\", \"angab\", \"angab\", \"angeklagt\", \"angeklagt\", \"angeklagt\", \"angeklagt\", \"angeklagt\", \"angeklagt\", \"ankara\", \"ankara\", \"ankara\", \"anleih\", \"anleih\", \"anleih\", \"anleih\", \"anleih\", \"anleih\", \"anleih\", \"anschlag\", \"anschlag\", \"anschlag\", \"anschlag\", \"anschlag\", \"anschlag\", \"anschlag\", \"anschlag\", \"anschlag\", \"anteil\", \"anteil\", \"anteil\", \"anteil\", \"anteil\", \"anteil\", \"anteil\", \"anteil\", \"anteil\", \"anteil\", \"antik\", \"antik\", \"antik\", \"antik\", \"antik\", \"appl\", \"appl\", \"appl\", \"appl\", \"appl\", \"appl\", \"appl\", \"appl\", \"apps\", \"apps\", \"apps\", \"apps\", \"apps\", \"arbeit\", \"arbeit\", \"arbeit\", \"arbeit\", \"arbeit\", \"arbeit\", \"arbeit\", \"arbeit\", \"arbeit\", \"arbeit\", \"arbeitnehm\", \"arbeitnehm\", \"arbeitnehm\", \"arbeitnehm\", \"arbeitnehm\", \"arbeitnehm\", \"arbeitnehm\", \"arbeitskraft\", \"arbeitskraft\", \"arbeitskraft\", \"arbeitskraft\", \"arbeitskraft\", \"arbeitslos\", \"arbeitslos\", \"arbeitslos\", \"arbeitslos\", \"arbeitslos\", \"arbeitslos\", \"arbeitslos\", \"arbeitsmarkt\", \"arbeitsmarkt\", \"arbeitsmarkt\", \"arbeitsmarkt\", \"arbeitsmarkt\", \"arbeitsmarkt\", \"arbeitszeit\", \"arbeitszeit\", \"arbeitszeit\", \"arbeitszeit\", \"archaolog\", \"archaolog\", \"archaolog\", \"archaolog\", \"arena\", \"arena\", \"arena\", \"arena\", \"arena\", \"arena\", \"arena\", \"armut\", \"armut\", \"armut\", \"armut\", \"armut\", \"armut\", \"art\", \"art\", \"art\", \"art\", \"art\", \"art\", \"art\", \"art\", \"artikel\", \"artikel\", \"artikel\", \"artikel\", \"artikel\", \"artikel\", \"artikel\", \"artikel\", \"artikel\", \"artikel\", \"ath\", \"ath\", \"ath\", \"ath\", \"ath\", \"atletico\", \"attentat\", \"attentat\", \"attentat\", \"attentat\", \"attentat\", \"attentat\", \"attentat\", \"attentat\", \"aufsichtsrat\", \"aufsichtsrat\", \"aufsichtsrat\", \"aufsichtsrat\", \"aufsichtsrat\", \"ausgrab\", \"austria\", \"austria\", \"austria\", \"austria\", \"austria\", \"austria\", \"austria\", \"austria\", \"austria\", \"austria\", \"autos\", \"autos\", \"autos\", \"autos\", \"autos\", \"autos\", \"autos\", \"autos\", \"autos\", \"autos\", \"avdijaj\", \"bahn\", \"bahn\", \"bahn\", \"bahn\", \"bahn\", \"bahn\", \"bahn\", \"bahn\", \"bahn\", \"bahn\", \"balkanstaat\", \"balkanstaat\", \"balkanstaat\", \"ball\", \"ball\", \"ball\", \"ball\", \"ball\", \"ball\", \"ball\", \"ball\", \"bank\", \"bank\", \"bank\", \"bank\", \"bank\", \"bank\", \"bank\", \"bank\", \"bank\", \"bank\", \"barca\", \"barcelona\", \"barcelona\", \"barcelona\", \"barcelona\", \"barcelona\", \"barcelona\", \"barcelona\", \"barcelona\", \"barcelona\", \"barcelona\", \"barisic\", \"barisic\", \"barisic\", \"basier\", \"basier\", \"basier\", \"basier\", \"basier\", \"basier\", \"basier\", \"bauarbeit\", \"bauarbeit\", \"bauarbeit\", \"bauarbeit\", \"bauarbeit\", \"bawag\", \"bawag\", \"bay\", \"bay\", \"bay\", \"bay\", \"bay\", \"bay\", \"bay\", \"bay\", \"bay\", \"bay\", \"befragt\", \"befragt\", \"befragt\", \"befragt\", \"befragt\", \"befragt\", \"befragt\", \"befragt\", \"beid\", \"beid\", \"beid\", \"beid\", \"beid\", \"beid\", \"beid\", \"beid\", \"beid\", \"beid\", \"beim\", \"beim\", \"beim\", \"beim\", \"beim\", \"beim\", \"beim\", \"beim\", \"beim\", \"beim\", \"bekannt\", \"bekannt\", \"bekannt\", \"bekannt\", \"bekannt\", \"bekannt\", \"bekannt\", \"bekannt\", \"bekannt\", \"bekannt\", \"belagert\", \"belagert\", \"belgrad\", \"belgrad\", \"bell\", \"bell\", \"bell\", \"bell\", \"bell\", \"bell\", \"bell\", \"bell\", \"bereit\", \"bereit\", \"bereit\", \"bereit\", \"bereit\", \"bereit\", \"bereit\", \"bereit\", \"bereit\", \"bereit\", \"berichtet\", \"berichtet\", \"berichtet\", \"berichtet\", \"berichtet\", \"berichtet\", \"berichtet\", \"berichtet\", \"berichtet\", \"berichtet\", \"berufsbild\", \"berufsbild\", \"besiedelt\", \"besiedelt\", \"besiedelt\", \"besiedelt\", \"best\", \"best\", \"best\", \"best\", \"best\", \"best\", \"best\", \"best\", \"best\", \"best\", \"betriebssyst\", \"betriebssyst\", \"betriebssystem\", \"betriebssystem\", \"betrug\", \"betrug\", \"betrug\", \"betrug\", \"betrug\", \"betrug\", \"betrug\", \"betrug\", \"betrug\", \"betrug\", \"biolog\", \"biolog\", \"biolog\", \"biolog\", \"biolog\", \"biolog\", \"biolog\", \"biologi\", \"biologi\", \"biology\", \"biology\", \"blau\", \"blau\", \"blau\", \"blau\", \"blau\", \"blau\", \"blau\", \"blau\", \"blau\", \"blau\", \"blockbust\", \"blockbust\", \"blockbust\", \"bohmermann\", \"bohmermann\", \"bohmermann\", \"bohmermann\", \"bors\", \"bors\", \"bors\", \"bors\", \"bors\", \"bors\", \"borsennotiert\", \"borsennotiert\", \"borsennotiert\", \"borussia\", \"borussia\", \"boz\", \"boz\", \"brows\", \"brows\", \"brussel\", \"brussel\", \"brussel\", \"brussel\", \"brussel\", \"brussel\", \"brussel\", \"brussel\", \"brussel\", \"buch\", \"buch\", \"buch\", \"buch\", \"buch\", \"buch\", \"buch\", \"buch\", \"buch\", \"buch\", \"bull\", \"bull\", \"bull\", \"bull\", \"bull\", \"bull\", \"bull\", \"bull\", \"bull\", \"bundesliga\", \"bundesliga\", \"bundesliga\", \"bundesliga\", \"bundesliga\", \"bundesliga\", \"bundesliga\", \"burgermeist\", \"burgermeist\", \"burgermeist\", \"burgermeist\", \"burgermeist\", \"burgermeist\", \"burgermeist\", \"burgermeist\", \"burgermeist\", \"burgermeist\", \"cambridg\", \"cambridg\", \"cambridg\", \"cambridg\", \"cavali\", \"celsius\", \"celsius\", \"celsius\", \"celsius\", \"champion\", \"champion\", \"champion\", \"champion\", \"champion\", \"champion\", \"champion\", \"champion\", \"champion\", \"champion\", \"chef\", \"chef\", \"chef\", \"chef\", \"chef\", \"chef\", \"chef\", \"chef\", \"chef\", \"chef\", \"chelsea\", \"chelsea\", \"china\", \"china\", \"china\", \"china\", \"china\", \"china\", \"china\", \"china\", \"china\", \"china\", \"chinas\", \"chinas\", \"chinas\", \"chinas\", \"chinas\", \"chinas\", \"chinas\", \"chines\", \"chines\", \"chines\", \"chines\", \"chines\", \"chines\", \"chines\", \"chines\", \"chines\", \"chines\", \"christi\", \"christi\", \"christi\", \"city\", \"city\", \"city\", \"city\", \"city\", \"city\", \"city\", \"city\", \"city\", \"claud\", \"claud\", \"claud\", \"claud\", \"claud\", \"clinton\", \"clinton\", \"clinton\", \"clinton\", \"clinton\", \"clinton\", \"clip\", \"dabei\", \"dabei\", \"dabei\", \"dabei\", \"dabei\", \"dabei\", \"dabei\", \"dabei\", \"dabei\", \"dabei\", \"dafur\", \"dafur\", \"dafur\", \"dafur\", \"dafur\", \"dafur\", \"dafur\", \"dafur\", \"dafur\", \"dafur\", \"dallas\", \"delhi\", \"delhi\", \"demograf\", \"demograf\", \"demokrat\", \"demokrat\", \"demokrat\", \"demokrat\", \"demokrat\", \"demokrat\", \"demokrat\", \"demokrat\", \"deutlich\", \"deutlich\", \"deutlich\", \"deutlich\", \"deutlich\", \"deutlich\", \"deutlich\", \"deutlich\", \"deutlich\", \"deutlich\", \"deutsch\", \"deutsch\", \"deutsch\", \"deutsch\", \"deutsch\", \"deutsch\", \"deutsch\", \"deutsch\", \"deutsch\", \"deutsch\", \"deutschland\", \"deutschland\", \"deutschland\", \"deutschland\", \"deutschland\", \"deutschland\", \"deutschland\", \"deutschland\", \"deutschland\", \"deutschland\", \"dibon\", \"dibon\", \"dijsselblo\", \"dilma\", \"diskont\", \"diskont\", \"diskrepanz\", \"diskrepanz\", \"diskrepanz\", \"dissertation\", \"dissertation\", \"divid\", \"divid\", \"divid\", \"divid\", \"diyarbakir\", \"dmitri\", \"dmitri\", \"dmitri\", \"dmitri\", \"dollar\", \"dollar\", \"dollar\", \"dollar\", \"dollar\", \"dollar\", \"dollar\", \"dollar\", \"dollar\", \"dollar\", \"dortmund\", \"dortmund\", \"dortmund\", \"dortmund\", \"draghi\", \"draghi\", \"drei\", \"drei\", \"drei\", \"drei\", \"drei\", \"drei\", \"drei\", \"drei\", \"drei\", \"drei\", \"durchmess\", \"durchmess\", \"durchschnitt\", \"durchschnitt\", \"durchschnitt\", \"durchschnitt\", \"durchschnitt\", \"durchschnitt\", \"durchschnitt\", \"ebit\", \"ebitda\", \"edomwonyi\", \"eigenkapital\", \"eigenkapital\", \"eigenschaft\", \"eigenschaft\", \"eigenschaft\", \"eigenschaft\", \"eigenschaft\", \"eigenschaft\", \"eigentum\", \"eigentum\", \"eigentum\", \"eigentum\", \"eigentum\", \"eigentum\", \"eigentum\", \"eigentum\", \"eigentum\", \"einig\", \"einig\", \"einig\", \"einig\", \"einig\", \"einig\", \"einig\", \"einig\", \"einig\", \"einig\", \"einkomm\", \"einkomm\", \"einkomm\", \"einkomm\", \"einkomm\", \"einkomm\", \"einkunft\", \"einreis\", \"einreis\", \"einreis\", \"einreis\", \"entdeckt\", \"entdeckt\", \"entdeckt\", \"entdeckt\", \"entdeckt\", \"entdeckt\", \"entdeckt\", \"entdeckt\", \"entdeckt\", \"entdeckt\", \"entfiel\", \"entscheid\", \"entscheid\", \"entscheid\", \"entscheid\", \"entscheid\", \"entscheid\", \"entscheid\", \"entscheid\", \"entscheid\", \"entscheid\", \"entwickelt\", \"entwickelt\", \"entwickelt\", \"entwickelt\", \"entwickelt\", \"entwickelt\", \"entwickelt\", \"entwickelt\", \"entwickelt\", \"entwickelt\", \"epoch\", \"epoch\", \"erdbeb\", \"erdbeb\", \"erdbeb\", \"erdbeb\", \"erdbeb\", \"erdbeb\", \"erdogan\", \"erdogan\", \"erdogan\", \"erdogan\", \"erklart\", \"erklart\", \"erklart\", \"erklart\", \"erklart\", \"erklart\", \"erklart\", \"erklart\", \"erklart\", \"erklart\", \"ermittl\", \"ermittl\", \"ermittl\", \"ermittl\", \"ermittl\", \"ermittl\", \"ermittl\", \"ermittl\", \"ermittl\", \"ermittl\", \"ersparnis\", \"ersparnis\", \"erst\", \"erst\", \"erst\", \"erst\", \"erst\", \"erst\", \"erst\", \"erst\", \"erst\", \"erst\", \"erwirtschaftet\", \"erwirtschaftet\", \"etwa\", \"etwa\", \"etwa\", \"etwa\", \"etwa\", \"etwa\", \"etwa\", \"etwa\", \"etwa\", \"etwa\", \"euro\", \"euro\", \"euro\", \"euro\", \"euro\", \"euro\", \"euro\", \"euro\", \"euro\", \"euro\", \"eurogrupp\", \"europa\", \"europa\", \"europa\", \"europa\", \"europa\", \"europa\", \"europa\", \"europa\", \"europa\", \"europa\", \"eurozon\", \"eurozon\", \"eurozon\", \"evolution\", \"evolution\", \"evolution\", \"evolution\", \"evolutionar\", \"experiment\", \"experiment\", \"experiment\", \"experiment\", \"experiment\", \"experiment\", \"experiment\", \"experiment\", \"experiment\", \"facebook\", \"facebook\", \"facebook\", \"facebook\", \"facebook\", \"facebook\", \"facebook\", \"facebook\", \"facebook\", \"facebook\", \"fachblatt\", \"fachjournal\", \"fachjournal\", \"fachjournal\", \"fahrzeug\", \"fahrzeug\", \"fahrzeug\", \"fahrzeug\", \"fahrzeug\", \"fahrzeug\", \"fahrzeug\", \"fahrzeug\", \"fahrzeug\", \"fahrzeug\", \"fallout\", \"faymann\", \"faymann\", \"faymann\", \"faymann\", \"faymann\", \"faymann\", \"faymann\", \"faymann\", \"ferrari\", \"ferrari\", \"ferrari\", \"ferrari\", \"festgenomm\", \"festgenomm\", \"festgenomm\", \"festgenomm\", \"festgenomm\", \"filial\", \"filial\", \"filial\", \"filial\", \"filial\", \"filial\", \"filial\", \"film\", \"film\", \"film\", \"film\", \"film\", \"film\", \"film\", \"film\", \"film\", \"film\", \"finanzhilf\", \"finanzhilf\", \"finanzminist\", \"finanzminist\", \"finanzminist\", \"finanzminist\", \"finanzminist\", \"finanzminist\", \"finanzminist\", \"fink\", \"fink\", \"fink\", \"fink\", \"firefox\", \"firm\", \"firm\", \"firm\", \"firm\", \"firm\", \"firm\", \"firm\", \"firm\", \"firm\", \"firm\", \"fiskus\", \"fiskus\", \"flamm\", \"flamm\", \"flamm\", \"flamm\", \"fluchtling\", \"fluchtling\", \"fluchtling\", \"fluchtling\", \"fluchtling\", \"fluchtling\", \"fluchtling\", \"fluchtling\", \"fluchtling\", \"fluchtling\", \"flughaf\", \"flughaf\", \"flughaf\", \"flughaf\", \"flughaf\", \"flughaf\", \"flughaf\", \"flughaf\", \"foda\", \"foglar\", \"foglar\", \"fordert\", \"fordert\", \"fordert\", \"fordert\", \"fordert\", \"fordert\", \"fordert\", \"fordert\", \"fordert\", \"fordert\", \"form\", \"form\", \"form\", \"form\", \"form\", \"form\", \"form\", \"form\", \"form\", \"form\", \"formel\", \"formel\", \"formel\", \"formel\", \"formel\", \"formel\", \"formel\", \"forsch\", \"forsch\", \"forsch\", \"forsch\", \"forsch\", \"forsch\", \"forsch\", \"forsch\", \"forsch\", \"forsch\", \"forschung\", \"forschung\", \"forschung\", \"forschung\", \"forschung\", \"forschung\", \"forschung\", \"forschung\", \"fossil\", \"fossil\", \"fossil\", \"fossil\", \"fossil\", \"fossil\", \"franziskus\", \"franziskus\", \"franziskus\", \"franzos\", \"franzos\", \"franzos\", \"franzos\", \"franzos\", \"franzos\", \"franzos\", \"franzos\", \"franzos\", \"franzos\", \"frau\", \"frau\", \"frau\", \"frau\", \"frau\", \"frau\", \"frau\", \"frau\", \"frau\", \"frau\", \"freiheit\", \"freiheit\", \"freiheit\", \"freiheit\", \"freiheit\", \"freiheit\", \"freiheit\", \"freiheit\", \"freiheit\", \"freiheit\", \"friedhof\", \"friedhof\", \"friedhof\", \"friedhof\", \"friedhof\", \"friedhof\", \"fund\", \"fund\", \"fund\", \"fund\", \"fussball\", \"fussball\", \"fussball\", \"fussball\", \"fussball\", \"fussball\", \"fussball\", \"fussball\", \"fussball\", \"fussball\", \"galaxi\", \"galaxi\", \"ganz\", \"ganz\", \"ganz\", \"ganz\", \"ganz\", \"ganz\", \"ganz\", \"ganz\", \"ganz\", \"ganz\", \"geb\", \"geb\", \"geb\", \"geb\", \"geb\", \"geb\", \"geb\", \"geb\", \"geb\", \"geb\", \"geborg\", \"geborg\", \"geborg\", \"gefund\", \"gefund\", \"gefund\", \"gefund\", \"gefund\", \"gefund\", \"gefund\", \"gefund\", \"gefund\", \"gefund\", \"gehirn\", \"gehirn\", \"gehirn\", \"geht\", \"geht\", \"geht\", \"geht\", \"geht\", \"geht\", \"geht\", \"geht\", \"geht\", \"geht\", \"gemeinderat\", \"gemeinderat\", \"gemeinderat\", \"gemeinderat\", \"gemeinderat\", \"gen\", \"gen\", \"gen\", \"gen\", \"geodynam\", \"gerat\", \"gerat\", \"gerat\", \"gerat\", \"gerat\", \"gerat\", \"gerat\", \"gerat\", \"gerat\", \"gerat\", \"gesamtjahr\", \"gesang\", \"geschaft\", \"geschaft\", \"geschaft\", \"geschaft\", \"geschaft\", \"geschaft\", \"geschaft\", \"geschaft\", \"geschaft\", \"geschaft\", \"geschaftsjahr\", \"geschicht\", \"geschicht\", \"geschicht\", \"geschicht\", \"geschicht\", \"geschicht\", \"geschicht\", \"geschicht\", \"geschicht\", \"geschicht\", \"gewinn\", \"gewinn\", \"gewinn\", \"gewinn\", \"gewinn\", \"gewinn\", \"gewinn\", \"gewinn\", \"gewinn\", \"gewinn\", \"gibt\", \"gibt\", \"gibt\", \"gibt\", \"gibt\", \"gibt\", \"gibt\", \"gibt\", \"gibt\", \"gibt\", \"glawischn\", \"glawischn\", \"glawischn\", \"glawischn\", \"gmbh\", \"gmbh\", \"gmbh\", \"gmbh\", \"gmbh\", \"gmbh\", \"googl\", \"googl\", \"googl\", \"googl\", \"googl\", \"googl\", \"googl\", \"googl\", \"googl\", \"googl\", \"gorgon\", \"grab\", \"grab\", \"grab\", \"grab\", \"grab\", \"grab\", \"grab\", \"grab\", \"grab\", \"grabn\", \"grabn\", \"grad\", \"grad\", \"grad\", \"grad\", \"grad\", \"grad\", \"grad\", \"grad\", \"grad\", \"grenz\", \"grenz\", \"grenz\", \"grenz\", \"grenz\", \"grenz\", \"grenz\", \"grenz\", \"grenz\", \"grenz\", \"grenzstadt\", \"grenzubergang\", \"grenzubergang\", \"grenzubergang\", \"grenzubertritt\", \"grenzubertritt\", \"grenzubertritt\", \"grexit\", \"grexit\", \"grexit\", \"griech\", \"griech\", \"griech\", \"griech\", \"griech\", \"griech\", \"griech\", \"griechenland\", \"griechenland\", \"griechenland\", \"griechenland\", \"griechenland\", \"griechenland\", \"griechenland\", \"griechenland\", \"griechenland\", \"griechenland\", \"griechisch\", \"griechisch\", \"griechisch\", \"griechisch\", \"griechisch\", \"griechisch\", \"griechisch\", \"griechisch\", \"griechisch\", \"griss\", \"griss\", \"griss\", \"griss\", \"grodig\", \"grodig\", \"grodig\", \"gross\", \"gross\", \"gross\", \"gross\", \"gross\", \"gross\", \"gross\", \"gross\", \"gross\", \"gross\", \"grozurek\", \"grun\", \"grun\", \"grun\", \"grun\", \"grun\", \"grun\", \"grun\", \"grun\", \"grun\", \"grun\", \"grund\", \"grund\", \"grund\", \"grund\", \"grund\", \"grund\", \"grund\", \"grund\", \"grund\", \"grund\", \"guardiola\", \"guardiola\", \"guardiola\", \"gustav\", \"hadi\", \"haimbuchn\", \"hakenkreuz\", \"halbfinal\", \"halbfinal\", \"halbfinal\", \"hamilton\", \"hamilton\", \"happel\", \"happel\", \"happel\", \"happel\", \"hasenhuttl\", \"hasenhuttl\", \"hassposting\", \"hassposting\", \"hassposting\", \"hassposting\", \"hatt\", \"hatt\", \"hatt\", \"hatt\", \"hatt\", \"hatt\", \"hatt\", \"hatt\", \"hatt\", \"hatt\", \"haupl\", \"haupl\", \"haupl\", \"haupl\", \"haupl\", \"heinz\", \"heinz\", \"heinz\", \"heinz\", \"heinz\", \"heinz\", \"heinz\", \"heinz\", \"heinz\", \"heinz\", \"hektar\", \"hektar\", \"hektar\", \"hektar\", \"hektar\", \"heta\", \"heta\", \"heut\", \"heut\", \"heut\", \"heut\", \"heut\", \"heut\", \"heut\", \"heut\", \"heut\", \"heut\", \"hilfspaket\", \"hilfsprogramm\", \"hillary\", \"hillary\", \"hinspiel\", \"hinspiel\", \"hinspiel\", \"hinspiel\", \"hinterblieb\", \"hinterblieb\", \"hirsch\", \"hirsch\", \"hirsch\", \"hirsch\", \"hofmann\", \"hofmann\", \"hofmann\", \"hofmann\", \"hofmann\", \"hofmann\", \"hofmann\", \"hoh\", \"hoh\", \"hoh\", \"hoh\", \"hoh\", \"hoh\", \"hoh\", \"hoh\", \"hoh\", \"hoh\", \"holding\", \"holding\", \"holding\", \"holding\", \"holding\", \"holding\", \"holz\", \"holz\", \"holz\", \"holz\", \"hongkong\", \"hongkong\", \"hongkong\", \"hongkong\", \"houthi\", \"hund\", \"hund\", \"hund\", \"hund\", \"hund\", \"hund\", \"hund\", \"hund\", \"hypo\", \"hypo\", \"hypo\", \"hypo\", \"hypo\", \"hypo\", \"idomeni\", \"idomeni\", \"ikea\", \"ikea\", \"ikea\", \"ikea\", \"imm\", \"imm\", \"imm\", \"imm\", \"imm\", \"imm\", \"imm\", \"imm\", \"imm\", \"imm\", \"indi\", \"indi\", \"indi\", \"indi\", \"indi\", \"indi\", \"indi\", \"indi\", \"indi\", \"indisch\", \"indisch\", \"indisch\", \"indisch\", \"ingolstadt\", \"ingolstadt\", \"ingolstadt\", \"ingolstadt\", \"institut\", \"institut\", \"institut\", \"institut\", \"institut\", \"institut\", \"institut\", \"institut\", \"institut\", \"institut\", \"integration\", \"integration\", \"integration\", \"integration\", \"integration\", \"integration\", \"integration\", \"integration\", \"interfax\", \"interfax\", \"interfax\", \"investor\", \"investor\", \"investor\", \"investor\", \"investor\", \"investor\", \"investor\", \"investor\", \"iphon\", \"iphon\", \"iphon\", \"iphon\", \"iphon\", \"iphon\", \"iphon\", \"iphon\", \"irak\", \"irak\", \"irak\", \"irak\", \"irak\", \"irak\", \"irak\", \"irak\", \"irak\", \"irmgard\", \"islam\", \"islam\", \"islam\", \"islam\", \"islam\", \"islam\", \"islam\", \"islam\", \"islam\", \"islam\", \"israel\", \"israel\", \"israel\", \"israel\", \"israel\", \"israel\", \"israel\", \"israel\", \"israel\", \"israel\", \"jahr\", \"jahr\", \"jahr\", \"jahr\", \"jahr\", \"jahr\", \"jahr\", \"jahr\", \"jahr\", \"jahr\", \"jahresumsatz\", \"jahresumsatz\", \"jahrig\", \"jahrig\", \"jahrig\", \"jahrig\", \"jahrig\", \"jahrig\", \"jahrig\", \"jahrig\", \"jahrig\", \"jahrig\", \"jakarta\", \"jakarta\", \"japan\", \"japan\", \"japan\", \"japan\", \"japan\", \"japan\", \"japan\", \"japan\", \"japan\", \"japan\", \"jelic\", \"jelic\", \"jero\", \"jerusal\", \"jerusal\", \"jerusal\", \"jerusal\", \"jinping\", \"jinping\", \"jinping\", \"job\", \"job\", \"job\", \"job\", \"job\", \"job\", \"job\", \"job\", \"job\", \"job\", \"jobsuch\", \"jobsuch\", \"junck\", \"juraczka\", \"juventus\", \"juventus\", \"kainz\", \"kainz\", \"kampf\", \"kampf\", \"kampf\", \"kampf\", \"kampf\", \"kampf\", \"kampf\", \"kampf\", \"kampf\", \"kampf\", \"kampfjet\", \"kampfjet\", \"kandidat\", \"kandidat\", \"kandidat\", \"kandidat\", \"kandidat\", \"kandidat\", \"kandidat\", \"kandidat\", \"kandidat\", \"kandidat\", \"kandidatur\", \"kapitalerhoh\", \"kayod\", \"keita\", \"keita\", \"keita\", \"khol\", \"khol\", \"kiew\", \"kiew\", \"kiew\", \"kiew\", \"kiew\", \"kilomet\", \"kilomet\", \"kilomet\", \"kilomet\", \"kilomet\", \"kilomet\", \"kilomet\", \"kilomet\", \"kilomet\", \"kilomet\", \"kind\", \"kind\", \"kind\", \"kind\", \"kind\", \"kind\", \"kind\", \"kind\", \"kind\", \"kind\", \"kinderbetreu\", \"kinderbetreu\", \"kinderbetreu\", \"kinderbetreu\", \"kindergart\", \"kindergart\", \"kindergart\", \"kindergart\", \"kindergart\", \"kindergart\", \"kinofilm\", \"kinofilm\", \"kinostart\", \"kinostart\", \"klein\", \"klein\", \"klein\", \"klein\", \"klein\", \"klein\", \"klein\", \"klein\", \"klein\", \"klein\", \"knoch\", \"knoch\", \"knoch\", \"knoch\", \"koalition\", \"koalition\", \"koalition\", \"koalition\", \"koalition\", \"koalition\", \"koalition\", \"koalition\", \"kognitiv\", \"kognitiv\", \"kohlendioxid\", \"kohlendioxid\", \"koln\", \"koln\", \"koln\", \"koln\", \"koln\", \"koln\", \"koln\", \"koln\", \"koln\", \"koln\", \"kommission\", \"kommission\", \"kommission\", \"kommission\", \"kommission\", \"kommission\", \"kommission\", \"kommission\", \"kommission\", \"kommissionschef\", \"konnt\", \"konnt\", \"konnt\", \"konnt\", \"konnt\", \"konnt\", \"konnt\", \"konnt\", \"konnt\", \"konnt\", \"konz\", \"konz\", \"konz\", \"konz\", \"konz\", \"konz\", \"konz\", \"konz\", \"konz\", \"konz\", \"kosovar\", \"kosovo\", \"kosovo\", \"kost\", \"kost\", \"kost\", \"kost\", \"kost\", \"kost\", \"kost\", \"kost\", \"kost\", \"kost\", \"kreml\", \"kreml\", \"kreml\", \"kreml\", \"kriminalist\", \"kroati\", \"kroati\", \"kroati\", \"kroati\", \"kroati\", \"kroati\", \"kroati\", \"kroati\", \"kroati\", \"kroatisch\", \"kroatisch\", \"kroatisch\", \"kroatisch\", \"kroatisch\", \"kroatisch\", \"kroatisch\", \"kroatisch\", \"kund\", \"kund\", \"kund\", \"kund\", \"kund\", \"kund\", \"kund\", \"kund\", \"kund\", \"kund\", \"kunst\", \"kunst\", \"kunst\", \"kunst\", \"kunst\", \"kunst\", \"kunst\", \"kunst\", \"kunst\", \"kurd\", \"kurd\", \"kurd\", \"kurdisch\", \"kurdisch\", \"kurdisch\", \"kurdisch\", \"labour\", \"lagard\", \"lagard\", \"laim\", \"land\", \"land\", \"land\", \"land\", \"land\", \"land\", \"land\", \"land\", \"land\", \"land\", \"landeshauptmann\", \"landeshauptmann\", \"landeshauptmann\", \"landeshauptmann\", \"landeshauptmann\", \"landeshauptmann\", \"landeshauptmann\", \"landeshauptmann\", \"landtag\", \"landtag\", \"landtag\", \"landtag\", \"landtagswahl\", \"landtagswahl\", \"lang\", \"lang\", \"lang\", \"lang\", \"lang\", \"lang\", \"lang\", \"lang\", \"lang\", \"lang\", \"lask\", \"laut\", \"laut\", \"laut\", \"laut\", \"laut\", \"laut\", \"laut\", \"laut\", \"laut\", \"laut\", \"leagu\", \"leagu\", \"leagu\", \"leagu\", \"leagu\", \"leagu\", \"leagu\", \"leb\", \"leb\", \"leb\", \"leb\", \"leb\", \"leb\", \"leb\", \"leb\", \"leb\", \"leb\", \"leic\", \"leic\", \"leverkus\", \"leverkus\", \"lewandowski\", \"libysch\", \"libysch\", \"liegenschaft\", \"liegt\", \"liegt\", \"liegt\", \"liegt\", \"liegt\", \"liegt\", \"liegt\", \"liegt\", \"liegt\", \"liegt\", \"liverpool\", \"liverpool\", \"liverpool\", \"lumia\", \"madrid\", \"madrid\", \"madrid\", \"madrid\", \"madrid\", \"madrid\", \"madrid\", \"madrid\", \"madrid\", \"madrid\", \"manch\", \"manch\", \"manch\", \"manch\", \"manch\", \"manch\", \"manch\", \"manch\", \"manch\", \"manch\", \"mandat\", \"mandat\", \"mandat\", \"mandat\", \"mandat\", \"mann\", \"mann\", \"mann\", \"mann\", \"mann\", \"mann\", \"mann\", \"mann\", \"mann\", \"mann\", \"mannch\", \"mannch\", \"mannch\", \"mannschaft\", \"mannschaft\", \"mannschaft\", \"mannschaft\", \"mannschaft\", \"mannschaft\", \"mannschaft\", \"mannschaft\", \"mannschaft\", \"mannschaft\", \"market\", \"market\", \"market\", \"markt\", \"markt\", \"markt\", \"markt\", \"markt\", \"markt\", \"markt\", \"markt\", \"markt\", \"markt\", \"marktanteil\", \"marktanteil\", \"marktanteil\", \"marktanteil\", \"marktanteil\", \"marktanteil\", \"marktanteil\", \"mathemat\", \"mathemat\", \"mathemat\", \"mathemat\", \"mathemat\", \"mathemat\", \"mathemat\", \"mattersburg\", \"mattersburg\", \"mattersburg\", \"mattersburg\", \"mattersburg\", \"mattersburg\", \"mattersburg\", \"mazedon\", \"mazedon\", \"mazedon\", \"mazedoni\", \"mazedoni\", \"mazedoni\", \"mazedoni\", \"mazedoni\", \"mehrheit\", \"mehrheit\", \"mehrheit\", \"mehrheit\", \"mehrheit\", \"mehrheit\", \"mehrheit\", \"mehrheit\", \"mehrheit\", \"mehrheit\", \"mensch\", \"mensch\", \"mensch\", \"mensch\", \"mensch\", \"mensch\", \"mensch\", \"mensch\", \"mensch\", \"mensch\", \"messeng\", \"met\", \"met\", \"met\", \"met\", \"met\", \"met\", \"met\", \"met\", \"met\", \"met\", \"meteorologi\", \"microsoft\", \"microsoft\", \"microsoft\", \"microsoft\", \"microsoft\", \"microsoft\", \"microsoft\", \"microsoft\", \"milliard\", \"milliard\", \"milliard\", \"milliard\", \"milliard\", \"milliard\", \"milliard\", \"milliard\", \"milliard\", \"milliard\", \"million\", \"million\", \"million\", \"million\", \"million\", \"million\", \"million\", \"million\", \"million\", \"million\", \"mindestlohn\", \"mindestlohn\", \"mindestlohn\", \"minnesota\", \"minnesota\", \"minut\", \"minut\", \"minut\", \"minut\", \"minut\", \"minut\", \"minut\", \"minut\", \"minut\", \"minut\", \"mitarbeit\", \"mitarbeit\", \"mitarbeit\", \"mitarbeit\", \"mitarbeit\", \"mitarbeit\", \"mitarbeit\", \"mitarbeit\", \"mitarbeit\", \"mitarbeit\", \"mittelschicht\", \"mittelschicht\", \"moglich\", \"moglich\", \"moglich\", \"moglich\", \"moglich\", \"moglich\", \"moglich\", \"moglich\", \"moglich\", \"moglich\", \"molekul\", \"molekul\", \"molenbeek\", \"molenbeek\", \"monchengladbach\", \"montag\", \"montag\", \"montag\", \"montag\", \"montag\", \"montag\", \"montag\", \"montag\", \"montag\", \"montag\", \"moskau\", \"moskau\", \"moskau\", \"moskau\", \"moskau\", \"moskau\", \"moskau\", \"moskau\", \"moskau\", \"moskaus\", \"moskaus\", \"mozart\", \"mozart\", \"muss\", \"muss\", \"muss\", \"muss\", \"muss\", \"muss\", \"muss\", \"muss\", \"muss\", \"muss\", \"nachbors\", \"nadal\", \"nadal\", \"nadal\", \"natur\", \"natur\", \"natur\", \"natur\", \"natur\", \"natur\", \"natur\", \"natur\", \"natur\", \"natur\", \"negativzins\", \"neos\", \"neos\", \"neos\", \"neos\", \"neos\", \"netanjahu\", \"netanjahu\", \"netanjahu\", \"neu\", \"neu\", \"neu\", \"neu\", \"neu\", \"neu\", \"neu\", \"neu\", \"neu\", \"neu\", \"neymar\", \"nico\", \"niederlag\", \"niederlag\", \"niederlag\", \"niederlag\", \"niederlag\", \"niederlag\", \"niederlag\", \"niederlag\", \"niederlag\", \"niederlag\", \"niessl\", \"niessl\", \"niessl\", \"notenbank\", \"notenbank\", \"notenbank\", \"notenbank\", \"notenbank\", \"nothilf\", \"notquarti\", \"notquarti\", \"notquarti\", \"nutz\", \"nutz\", \"nutz\", \"nutz\", \"nutz\", \"nutz\", \"nutz\", \"nutz\", \"nutz\", \"nutz\", \"obama\", \"obama\", \"obama\", \"obama\", \"obama\", \"obama\", \"obama\", \"obamas\", \"obamas\", \"obduktion\", \"obduktion\", \"oecd\", \"oecd\", \"oecd\", \"oecd\", \"oecd\", \"oecd\", \"oecd\", \"offshor\", \"offshor\", \"okonom\", \"okonom\", \"okonom\", \"okonom\", \"okonom\", \"okonom\", \"okonom\", \"olpreis\", \"olpreis\", \"olpreis\", \"olpreis\", \"operativ\", \"operativ\", \"operativ\", \"operativ\", \"operativ\", \"opf\", \"opf\", \"opf\", \"opf\", \"opf\", \"opf\", \"opf\", \"opf\", \"opf\", \"opf\", \"orch\", \"osterreich\", \"osterreich\", \"osterreich\", \"osterreich\", \"osterreich\", \"osterreich\", \"osterreich\", \"osterreich\", \"osterreich\", \"osterreich\", \"ostukrain\", \"ostukrain\", \"ostukrain\", \"ostukrain\", \"padagog\", \"padagog\", \"padagog\", \"padagog\", \"palastinens\", \"palastinens\", \"papst\", \"papst\", \"papst\", \"papst\", \"papst\", \"papst\", \"parlament\", \"parlament\", \"parlament\", \"parlament\", \"parlament\", \"parlament\", \"parlament\", \"parlament\", \"parlament\", \"partei\", \"partei\", \"partei\", \"partei\", \"partei\", \"partei\", \"partei\", \"partei\", \"partei\", \"partei\", \"parteichef\", \"parteichef\", \"parteichef\", \"parteichef\", \"parteichef\", \"parteitag\", \"parteitag\", \"parti\", \"parti\", \"parti\", \"parti\", \"parti\", \"parti\", \"parti\", \"parti\", \"parti\", \"pavelic\", \"pavelic\", \"peking\", \"peking\", \"peking\", \"peking\", \"person\", \"person\", \"person\", \"person\", \"person\", \"person\", \"person\", \"person\", \"person\", \"person\", \"peskow\", \"peskow\", \"pfeifenberg\", \"pfeifenberg\", \"pfeiff\", \"pfeiff\", \"pflichtschul\", \"pflichtschul\", \"pflichtschul\", \"philosoph\", \"philosoph\", \"philosoph\", \"philosoph\", \"philosoph\", \"phon\", \"physik\", \"physik\", \"physik\", \"physik\", \"physik\", \"physik\", \"planck\", \"planck\", \"planck\", \"planet\", \"planet\", \"planet\", \"planet\", \"planet\", \"platz\", \"platz\", \"platz\", \"platz\", \"platz\", \"platz\", \"platz\", \"platz\", \"platz\", \"platz\", \"podemos\", \"polit\", \"polit\", \"polit\", \"polit\", \"polit\", \"polit\", \"polit\", \"polit\", \"polit\", \"polit\", \"polizei\", \"polizei\", \"polizei\", \"polizei\", \"polizei\", \"polizei\", \"polizei\", \"polizei\", \"polizei\", \"polizei\", \"prasident\", \"prasident\", \"prasident\", \"prasident\", \"prasident\", \"prasident\", \"prasident\", \"prasident\", \"prasident\", \"prasident\", \"princ\", \"princ\", \"princ\", \"princ\", \"princ\", \"prix\", \"prix\", \"prix\", \"prix\", \"produktivitat\", \"produktivitat\", \"projekt\", \"projekt\", \"projekt\", \"projekt\", \"projekt\", \"projekt\", \"projekt\", \"projekt\", \"projekt\", \"projekt\", \"proll\", \"proll\", \"proll\", \"proll\", \"proll\", \"proll\", \"promoviert\", \"promoviert\", \"prozent\", \"prozent\", \"prozent\", \"prozent\", \"prozent\", \"prozent\", \"prozent\", \"prozent\", \"prozent\", \"prozent\", \"prozentpunkt\", \"prozentpunkt\", \"prozentpunkt\", \"prozentpunkt\", \"psychologi\", \"psychologi\", \"psychologi\", \"publikation\", \"publikation\", \"publikation\", \"publikation\", \"publikation\", \"puhring\", \"punkt\", \"punkt\", \"punkt\", \"punkt\", \"punkt\", \"punkt\", \"punkt\", \"punkt\", \"punkt\", \"punkt\", \"putin\", \"putin\", \"putin\", \"putin\", \"putin\", \"putin\", \"putin\", \"quartal\", \"quartal\", \"quartal\", \"quartal\", \"quartal\", \"quartal\", \"quartal\", \"quartal\", \"radkersburg\", \"rapid\", \"rapid\", \"rapid\", \"rapid\", \"rapid\", \"rapid\", \"rapid\", \"rapid\", \"rapid\", \"razzi\", \"razzi\", \"real\", \"real\", \"real\", \"real\", \"real\", \"real\", \"real\", \"real\", \"real\", \"real\", \"recht\", \"recht\", \"recht\", \"recht\", \"recht\", \"recht\", \"recht\", \"recht\", \"recht\", \"recht\", \"rechtlich\", \"rechtlich\", \"rechtlich\", \"rechtlich\", \"rechtlich\", \"rechtlich\", \"rechtlich\", \"rechtlich\", \"rechtlich\", \"rechtlich\", \"reflektiert\", \"reflektiert\", \"reflektiert\", \"regier\", \"regier\", \"regier\", \"regier\", \"regier\", \"regier\", \"regier\", \"regier\", \"regier\", \"regier\", \"renault\", \"renault\", \"republikan\", \"republikan\", \"republikan\", \"review\", \"review\", \"review\", \"ried\", \"ried\", \"ried\", \"ried\", \"ried\", \"ried\", \"riesentorlauf\", \"riesentorlauf\", \"ronaldo\", \"ronaldo\", \"rousseff\", \"rousseff\", \"rousseff\", \"ruckstell\", \"rund\", \"rund\", \"rund\", \"rund\", \"rund\", \"rund\", \"rund\", \"rund\", \"rund\", \"rund\", \"russisch\", \"russisch\", \"russisch\", \"russisch\", \"russisch\", \"russisch\", \"russisch\", \"russisch\", \"russisch\", \"russisch\", \"russland\", \"russland\", \"russland\", \"russland\", \"russland\", \"russland\", \"russland\", \"russland\", \"russland\", \"russland\", \"sagt\", \"sagt\", \"sagt\", \"sagt\", \"sagt\", \"sagt\", \"sagt\", \"sagt\", \"sagt\", \"sagt\", \"saison\", \"saison\", \"saison\", \"saison\", \"saison\", \"saison\", \"saison\", \"saison\", \"saison\", \"saison\", \"salzburg\", \"salzburg\", \"salzburg\", \"salzburg\", \"salzburg\", \"salzburg\", \"salzburg\", \"salzburg\", \"salzburg\", \"salzburg\", \"sanaa\", \"satellit\", \"satellit\", \"satellit\", \"satellit\", \"satellit\", \"saugeti\", \"saugeti\", \"saugeti\", \"saugeti\", \"saugeti\", \"schadel\", \"schalk\", \"schalk\", \"schalk\", \"scharia\", \"schaub\", \"schaub\", \"schaubl\", \"schaubl\", \"schnitt\", \"schnitt\", \"schnitt\", \"schnitt\", \"schnitt\", \"schnitt\", \"schnitt\", \"schnitt\", \"schnitt\", \"schnitt\", \"schobesberg\", \"schobesberg\", \"schobesberg\", \"schon\", \"schon\", \"schon\", \"schon\", \"schon\", \"schon\", \"schon\", \"schon\", \"schon\", \"schon\", \"schottel\", \"schulsyst\", \"schulsyst\", \"schulsyst\", \"schwegl\", \"scienc\", \"scienc\", \"scienc\", \"scienc\", \"scienc\", \"scienc\", \"scienc\", \"seien\", \"seien\", \"seien\", \"seien\", \"seien\", \"seien\", \"seien\", \"seien\", \"seien\", \"seien\", \"seit\", \"seit\", \"seit\", \"seit\", \"seit\", \"seit\", \"seit\", \"seit\", \"seit\", \"seit\", \"separatist\", \"separatist\", \"separatist\", \"serbi\", \"serbi\", \"serbi\", \"serbi\", \"serbi\", \"serbi\", \"serbi\", \"serbisch\", \"serbisch\", \"serbisch\", \"serbisch\", \"siebenhandl\", \"siedlung\", \"siedlung\", \"siedlung\", \"siedlung\", \"siedlung\", \"siedlung\", \"sieg\", \"sieg\", \"sieg\", \"sieg\", \"sieg\", \"sieg\", \"sieg\", \"sieg\", \"sieg\", \"sieg\", \"skandinav\", \"skandinav\", \"skandinav\", \"slalom\", \"slowen\", \"slowen\", \"slowen\", \"slowen\", \"slowen\", \"slowen\", \"sloweni\", \"sloweni\", \"sloweni\", \"sloweni\", \"sloweni\", \"sloweni\", \"sloweni\", \"sloweni\", \"sloweni\", \"sloweni\", \"smartphon\", \"smartphon\", \"smartphon\", \"smartphon\", \"smartphon\", \"smartphon\", \"smartphon\", \"smartphon\", \"smartphon\", \"smartphon\", \"soldat\", \"soldat\", \"soldat\", \"soldat\", \"soldat\", \"soldat\", \"soldat\", \"soldat\", \"soldat\", \"soll\", \"soll\", \"soll\", \"soll\", \"soll\", \"soll\", \"soll\", \"soll\", \"soll\", \"soll\", \"soriano\", \"soriano\", \"soriano\", \"sozial\", \"sozial\", \"sozial\", \"sozial\", \"sozial\", \"sozial\", \"sozial\", \"sozial\", \"sozial\", \"sozial\", \"sozialhilf\", \"sozialhilf\", \"sozialhilf\", \"sozialhilf\", \"sozialstaat\", \"sozialstaat\", \"sozialstaat\", \"sozialsyst\", \"sozialsyst\", \"sozialsyst\", \"spezi\", \"spezi\", \"spiel\", \"spiel\", \"spiel\", \"spiel\", \"spiel\", \"spiel\", \"spiel\", \"spiel\", \"spiel\", \"spiel\", \"spielfeld\", \"spielfeld\", \"spielfeld\", \"spielfeld\", \"spielfeld\", \"spielfeld\", \"spielfeld\", \"spielfeld\", \"spielfeld\", \"spitzenkandidat\", \"spotify\", \"staat\", \"staat\", \"staat\", \"staat\", \"staat\", \"staat\", \"staat\", \"staat\", \"staat\", \"staat\", \"stadion\", \"stadion\", \"stadion\", \"stadion\", \"stadion\", \"stadion\", \"stadion\", \"stadt\", \"stadt\", \"stadt\", \"stadt\", \"stadt\", \"stadt\", \"stadt\", \"stadt\", \"stadt\", \"stadt\", \"stadtrat\", \"stadtrat\", \"standard\", \"standard\", \"standard\", \"standard\", \"standard\", \"standard\", \"standard\", \"standard\", \"standard\", \"standard\", \"standort\", \"standort\", \"standort\", \"standort\", \"standort\", \"standort\", \"standort\", \"standort\", \"standort\", \"stark\", \"stark\", \"stark\", \"stark\", \"stark\", \"stark\", \"stark\", \"stark\", \"stark\", \"stark\", \"statist\", \"statist\", \"statist\", \"statist\", \"statist\", \"statist\", \"statist\", \"statist\", \"statist\", \"steht\", \"steht\", \"steht\", \"steht\", \"steht\", \"steht\", \"steht\", \"steht\", \"steht\", \"steht\", \"stenzel\", \"stichwahl\", \"stichwahl\", \"stimm\", \"stimm\", \"stimm\", \"stimm\", \"stimm\", \"stimm\", \"stimm\", \"stimm\", \"stimm\", \"stimm\", \"stok\", \"strach\", \"strach\", \"strach\", \"strach\", \"strach\", \"strach\", \"strebing\", \"strebing\", \"strolz\", \"stronach\", \"stronach\", \"stronach\", \"stronach\", \"studi\", \"studi\", \"studi\", \"studi\", \"studi\", \"studi\", \"studi\", \"studi\", \"studi\", \"studi\", \"studier\", \"studier\", \"studier\", \"studier\", \"studier\", \"studier\", \"sturm\", \"sturm\", \"sturm\", \"sturm\", \"sturm\", \"sturm\", \"sturm\", \"sturm\", \"sturm\", \"sturm\", \"suarez\", \"syr\", \"syr\", \"syr\", \"syr\", \"syr\", \"syr\", \"syri\", \"syri\", \"syri\", \"syri\", \"syri\", \"syri\", \"syri\", \"syri\", \"syri\", \"syri\", \"syrisch\", \"syrisch\", \"syrisch\", \"syrisch\", \"syrisch\", \"syrisch\", \"syriza\", \"syriza\", \"taiwan\", \"taiwan\", \"taliban\", \"taliban\", \"taliban\", \"taliban\", \"taliban\", \"tampa\", \"tat\", \"tat\", \"tat\", \"tat\", \"tat\", \"tat\", \"tat\", \"tat\", \"tat\", \"team\", \"team\", \"team\", \"team\", \"team\", \"team\", \"team\", \"team\", \"team\", \"team\", \"teilch\", \"teilch\", \"teilch\", \"telekom\", \"telekom\", \"telekom\", \"telekom\", \"telekom\", \"tempelberg\", \"temperatur\", \"temperatur\", \"temperatur\", \"temperatur\", \"temperatur\", \"temperatur\", \"temperatur\", \"temperatur\", \"temperatur\", \"temperatur\", \"thiem\", \"thiem\", \"thiem\", \"thiem\", \"tier\", \"tier\", \"tier\", \"tier\", \"tier\", \"tier\", \"tier\", \"tier\", \"tier\", \"tier\", \"tokio\", \"tokio\", \"tokio\", \"tokio\", \"tokio\", \"tokio\", \"tokio\", \"tor\", \"tor\", \"tor\", \"tor\", \"tor\", \"tor\", \"tor\", \"tor\", \"tor\", \"tot\", \"tot\", \"tot\", \"tot\", \"tot\", \"tot\", \"tot\", \"tot\", \"tot\", \"tot\", \"tottenham\", \"toyota\", \"toyota\", \"tragfah\", \"train\", \"train\", \"train\", \"train\", \"train\", \"train\", \"train\", \"train\", \"train\", \"train\", \"tranengas\", \"tranengas\", \"tranengas\", \"transaktion\", \"transaktion\", \"transaktion\", \"transitland\", \"transitland\", \"trump\", \"trump\", \"trump\", \"trump\", \"tsipras\", \"tsipras\", \"tsipras\", \"tunnel\", \"tunnel\", \"tunnel\", \"tunnel\", \"turkei\", \"turkei\", \"turkei\", \"turkei\", \"turkei\", \"turkei\", \"turkei\", \"turkei\", \"turkei\", \"turkisch\", \"turkisch\", \"turkisch\", \"turkisch\", \"turkisch\", \"turkisch\", \"turkisch\", \"turkisch\", \"turkisch\", \"twitt\", \"twitt\", \"twitt\", \"twitt\", \"twitt\", \"twitt\", \"twitt\", \"twitt\", \"twitt\", \"twitt\", \"uberfahrt\", \"uberr\", \"uberr\", \"uberr\", \"uberstund\", \"uberstund\", \"uberstund\", \"uberstund\", \"uberstund\", \"ukrain\", \"ukrain\", \"ukrain\", \"ukrain\", \"ukrain\", \"ukrain\", \"ukrain\", \"ukrain\", \"ukrain\", \"ukrain\", \"umsatz\", \"umsatz\", \"umsatz\", \"umsatz\", \"umsatz\", \"umsatz\", \"ungar\", \"ungar\", \"ungar\", \"ungar\", \"ungar\", \"ungar\", \"ungar\", \"ungar\", \"ungar\", \"ungar\", \"ungarn\", \"ungarn\", \"ungarn\", \"ungarn\", \"ungarn\", \"ungarn\", \"ungarn\", \"ungarn\", \"ungarn\", \"ungarn\", \"ungleich\", \"ungleich\", \"ungleich\", \"ungleich\", \"unicredit\", \"unis\", \"unis\", \"unis\", \"united\", \"united\", \"united\", \"united\", \"united\", \"united\", \"united\", \"universitat\", \"universitat\", \"universitat\", \"universitat\", \"universitat\", \"universitat\", \"universitat\", \"universitat\", \"universitat\", \"universitat\", \"university\", \"university\", \"university\", \"university\", \"university\", \"university\", \"university\", \"university\", \"universum\", \"universum\", \"universum\", \"universum\", \"universum\", \"unternehm\", \"unternehm\", \"unternehm\", \"unternehm\", \"unternehm\", \"unternehm\", \"unternehm\", \"unternehm\", \"unternehm\", \"unternehm\", \"untersuch\", \"untersuch\", \"untersuch\", \"untersuch\", \"untersuch\", \"untersuch\", \"untersuch\", \"untersuch\", \"untersuch\", \"untersuch\", \"updat\", \"updat\", \"updat\", \"updat\", \"updat\", \"updat\", \"varoufakis\", \"vassilakou\", \"vassilakou\", \"vassilakou\", \"vastic\", \"vastic\", \"vatikan\", \"vatikan\", \"vatikan\", \"venuto\", \"verbuss\", \"verbuss\", \"verdacht\", \"verdacht\", \"verdacht\", \"verdacht\", \"verdacht\", \"verdacht\", \"verdacht\", \"verdacht\", \"verdacht\", \"verdacht\", \"verfug\", \"verfug\", \"verfug\", \"verfug\", \"verfug\", \"verfug\", \"verfug\", \"verfug\", \"verfug\", \"verfug\", \"verhandl\", \"verhandl\", \"verhandl\", \"verhandl\", \"verhandl\", \"verhandl\", \"verhandl\", \"verhandl\", \"verhandl\", \"verhandl\", \"verkauf\", \"verkauf\", \"verkauf\", \"verkauf\", \"verkauf\", \"verkauf\", \"verkauf\", \"verkauf\", \"verkauf\", \"verkauf\", \"verletzt\", \"verletzt\", \"verletzt\", \"verletzt\", \"verletzt\", \"verletzt\", \"verletzt\", \"verletzt\", \"verletzt\", \"verletzt\", \"verschied\", \"verschied\", \"verschied\", \"verschied\", \"verschied\", \"verschied\", \"verschied\", \"verschied\", \"verschied\", \"verschied\", \"verschuttet\", \"verschuttet\", \"verschuttet\", \"verschuttet\", \"version\", \"version\", \"version\", \"version\", \"version\", \"version\", \"version\", \"version\", \"version\", \"version\", \"vettel\", \"vidal\", \"vidal\", \"viel\", \"viel\", \"viel\", \"viel\", \"viel\", \"viel\", \"viel\", \"viel\", \"viel\", \"viel\", \"vier\", \"vier\", \"vier\", \"vier\", \"vier\", \"vier\", \"vier\", \"vier\", \"vier\", \"vier\", \"volkspartei\", \"volkspartei\", \"volksrepubl\", \"volksrepubl\", \"volksrepubl\", \"volksrepubl\", \"volksrepubl\", \"volkswag\", \"volkswag\", \"volkswag\", \"volkswag\", \"volkswag\", \"volkswag\", \"volkswag\", \"volltext\", \"vollzug\", \"vollzug\", \"vollzug\", \"vorjahr\", \"vorjahr\", \"vorjahr\", \"vorjahr\", \"vorjahr\", \"vorjahr\", \"vorjahr\", \"vorjahr\", \"vorjahr\", \"vorjahr\", \"vorschlag\", \"vorschlag\", \"vorschlag\", \"vorschlag\", \"vorschlag\", \"vorschlag\", \"vorschlag\", \"vorschlag\", \"vorschlag\", \"vorschlag\", \"vorstand\", \"vorstand\", \"vorstand\", \"vorstand\", \"vorstand\", \"vorstand\", \"vorstand\", \"vorstand\", \"vorstand\", \"vov\", \"wachstum\", \"wachstum\", \"wachstum\", \"wachstum\", \"wachstum\", \"wachstum\", \"wachstum\", \"wachstum\", \"wachstum\", \"wachstumsrat\", \"wachstumsrat\", \"wachstumsrat\", \"wachstumsrat\", \"wack\", \"wack\", \"wack\", \"wahl\", \"wahl\", \"wahl\", \"wahl\", \"wahl\", \"wahl\", \"wahl\", \"wahl\", \"wahl\", \"wahl\", \"wahlergebnis\", \"wahlkampf\", \"wahlkampf\", \"wahlkampf\", \"wahlkampf\", \"wahlkampf\", \"wahlkampf\", \"wahlkart\", \"wahlkart\", \"wahrungsfond\", \"wahrungsfond\", \"wahrungsfond\", \"wahrungsfond\", \"wahrungsfond\", \"wang\", \"wang\", \"warrior\", \"warrior\", \"warrior\", \"weg\", \"weg\", \"weg\", \"weg\", \"weg\", \"weg\", \"weg\", \"weg\", \"weg\", \"weg\", \"weit\", \"weit\", \"weit\", \"weit\", \"weit\", \"weit\", \"weit\", \"weit\", \"weit\", \"weit\", \"welt\", \"welt\", \"welt\", \"welt\", \"welt\", \"welt\", \"welt\", \"welt\", \"welt\", \"welt\", \"weltcup\", \"weltcup\", \"weltcup\", \"weltcup\", \"weltweit\", \"weltweit\", \"weltweit\", \"weltweit\", \"weltweit\", \"weltweit\", \"weltweit\", \"weltweit\", \"weltweit\", \"weltweit\", \"wenig\", \"wenig\", \"wenig\", \"wenig\", \"wenig\", \"wenig\", \"wenig\", \"wenig\", \"wenig\", \"wenig\", \"wien\", \"wien\", \"wien\", \"wien\", \"wien\", \"wien\", \"wien\", \"wien\", \"wien\", \"wien\", \"wifo\", \"wifo\", \"wifo\", \"wifo\", \"windows\", \"windows\", \"windows\", \"windows\", \"windows\", \"windows\", \"wissenschaft\", \"wissenschaft\", \"wissenschaft\", \"wissenschaft\", \"wissenschaft\", \"wissenschaft\", \"wissenschaft\", \"wissenschaft\", \"wissenschaft\", \"witw\", \"witw\", \"wladimir\", \"wladimir\", \"wladimir\", \"wladimir\", \"wladimir\", \"wladimir\", \"wladimir\", \"wladimir\", \"wohlstand\", \"wohlstand\", \"wohlstand\", \"wohlstand\", \"wohlstand\", \"wohlstand\", \"wolfsberg\", \"wolfsberg\", \"wolfsberg\", \"wolfsberg\", \"wolk\", \"wolk\", \"wolk\", \"wolk\", \"wolk\", \"word\", \"word\", \"word\", \"word\", \"word\", \"word\", \"word\", \"word\", \"word\", \"word\", \"workshops\", \"xinhua\", \"xinhua\", \"yanis\", \"yuan\", \"yuan\", \"yuan\", \"zahl\", \"zahl\", \"zahl\", \"zahl\", \"zahl\", \"zahl\", \"zahl\", \"zahl\", \"zahl\", \"zahl\", \"zamg\", \"zart\", \"zaun\", \"zaun\", \"zaun\", \"zaun\", \"zaun\", \"zaun\", \"zaun\", \"zeidl\", \"zeit\", \"zeit\", \"zeit\", \"zeit\", \"zeit\", \"zeit\", \"zeit\", \"zeit\", \"zeit\", \"zeit\", \"zeitgeschicht\", \"zeitrechn\", \"zeitrechn\", \"zentralanstalt\", \"zielpunkt\", \"zielpunkt\", \"zielpunkt\", \"zukauf\", \"zukauf\", \"zukauf\", \"zuwand\", \"zuwand\", \"zuwand\", \"zuwand\", \"zuwand\", \"zuwander\", \"zuwander\", \"zuwander\", \"zwei\", \"zwei\", \"zwei\", \"zwei\", \"zwei\", \"zwei\", \"zwei\", \"zwei\", \"zwei\", \"zwei\", \"zweit\", \"zweit\", \"zweit\", \"zweit\", \"zweit\", \"zweit\", \"zweit\", \"zweit\", \"zweit\", \"zweit\"]}, \"R\": 30, \"lambda.step\": 0.01, \"plot.opts\": {\"xlab\": \"PC1\", \"ylab\": \"PC2\"}, \"topic.order\": [1, 4, 6, 3, 9, 7, 2, 5, 8, 10]};\n",
              "\n",
              "function LDAvis_load_lib(url, callback){\n",
              "  var s = document.createElement('script');\n",
              "  s.src = url;\n",
              "  s.async = true;\n",
              "  s.onreadystatechange = s.onload = callback;\n",
              "  s.onerror = function(){console.warn(\"failed to load library \" + url);};\n",
              "  document.getElementsByTagName(\"head\")[0].appendChild(s);\n",
              "}\n",
              "\n",
              "if(typeof(LDAvis) !== \"undefined\"){\n",
              "   // already loaded: just create the visualization\n",
              "   !function(LDAvis){\n",
              "       new LDAvis(\"#\" + \"ldavis_el19501362012300736641211962455\", ldavis_el19501362012300736641211962455_data);\n",
              "   }(LDAvis);\n",
              "}else if(typeof define === \"function\" && define.amd){\n",
              "   // require.js is available: use it to load d3/LDAvis\n",
              "   require.config({paths: {d3: \"https://d3js.org/d3.v5\"}});\n",
              "   require([\"d3\"], function(d3){\n",
              "      window.d3 = d3;\n",
              "      LDAvis_load_lib(\"https://cdn.jsdelivr.net/gh/bmabey/pyLDAvis@3.4.0/pyLDAvis/js/ldavis.v3.0.0.js\", function(){\n",
              "        new LDAvis(\"#\" + \"ldavis_el19501362012300736641211962455\", ldavis_el19501362012300736641211962455_data);\n",
              "      });\n",
              "    });\n",
              "}else{\n",
              "    // require.js not available: dynamically load d3 & LDAvis\n",
              "    LDAvis_load_lib(\"https://d3js.org/d3.v5.js\", function(){\n",
              "         LDAvis_load_lib(\"https://cdn.jsdelivr.net/gh/bmabey/pyLDAvis@3.4.0/pyLDAvis/js/ldavis.v3.0.0.js\", function(){\n",
              "                 new LDAvis(\"#\" + \"ldavis_el19501362012300736641211962455\", ldavis_el19501362012300736641211962455_data);\n",
              "            })\n",
              "         });\n",
              "}\n",
              "</script>"
            ]
          },
          "metadata": {},
          "execution_count": 30
        }
      ]
    },
    {
      "cell_type": "markdown",
      "metadata": {
        "id": "syy0tnTQmxZP"
      },
      "source": [
        "# Your turn - Do it yourself:\n",
        "\n",
        "Replace the given corpus with one in another language - maybe your own native language? You can find corpus online, for example:\n",
        "- https://www.corpusdata.org/intro.asp\n",
        "- or here: https://www.clarin.eu/resource-families/newspaper-corpora\n",
        "- or even in nltk: https://www.nltk.org/nltk_data/\n",
        "- In this github, there are many datasets that can be loaded through their `raw` url: https://github.com/selva86/datasets\n",
        "\n",
        "Careful: You will need to change the [Stemming](https://snowballstem.org/algorithms/) and the [Stopwords](https://www.kaggle.com/rtatman/stopword-lists-for-19-languages) to support your language. Make a web-search after the appropriate ones (if they exist..)\n",
        "\n",
        "Use the notebook to reproduce the result.  \n",
        "Try changing the parameters to get a *satisfying level of clustering*.  \n",
        "Which parameters worked best for the language you chose?"
      ]
    },
    {
      "cell_type": "markdown",
      "source": [
        "##### Help note\n",
        "\n",
        "If your corpus is a csv, [pandas' read_csv method](https://pandas.pydata.org/docs/reference/api/pandas.read_csv.html) would be the best way to tackle it.\n",
        "\n",
        "If it is, however a text file or a zip of text files, you will need another way to load them. Luckily, python is working well with both - text and zip files, with a built-in support."
      ],
      "metadata": {
        "id": "vB0wRwUpX3yB"
      }
    },
    {
      "cell_type": "markdown",
      "source": [
        "###### Example with text\n",
        "For the sake of this example, let's download two files: one text file, and one gzip file, from this website:\n",
        "\n",
        "https://lindat.mff.cuni.cz/repository/xmlui/handle/11858/00-097C-0000-0023-6260-A"
      ],
      "metadata": {
        "id": "hHe2aaI-bFHU"
      }
    },
    {
      "cell_type": "code",
      "source": [
        "!curl --remote-name-all https://lindat.mff.cuni.cz/repository/xmlui/bitstream/handle/11858/00-097C-0000-0023-6260-A{/README.txt,/hindmonocorp05.plaintext.gz}\n"
      ],
      "metadata": {
        "colab": {
          "base_uri": "https://localhost:8080/"
        },
        "id": "JeiBbArnXZ_u",
        "outputId": "3673529f-07dc-4a83-ac55-9bb909d3a41c"
      },
      "execution_count": 31,
      "outputs": [
        {
          "output_type": "stream",
          "name": "stderr",
          "text": [
            "/usr/local/lib/python3.10/dist-packages/ipykernel/ipkernel.py:283: DeprecationWarning: `should_run_async` will not call `transform_cell` automatically in the future. Please pass the result to `transformed_cell` argument and any exception that happen during thetransform in `preprocessing_exc_tuple` in IPython 7.17 and above.\n",
            "  and should_run_async(code)\n"
          ]
        },
        {
          "output_type": "stream",
          "name": "stdout",
          "text": [
            "  % Total    % Received % Xferd  Average Speed   Time    Time     Time  Current\n",
            "                                 Dload  Upload   Total   Spent    Left  Speed\n",
            "100  4472  100  4472    0     0   3639      0  0:00:01  0:00:01 --:--:--  3641\n",
            "  % Total    % Received % Xferd  Average Speed   Time    Time     Time  Current\n",
            "                                 Dload  Upload   Total   Spent    Left  Speed\n",
            "  0 2353M    0 5663k    0     0  4632k      0  0:08:40  0:00:01  0:08:39 4630k^C\n"
          ]
        }
      ]
    },
    {
      "cell_type": "markdown",
      "source": [
        "Files are accessed using the `Path` package of python's pathlib:"
      ],
      "metadata": {
        "id": "2xk8Q5phbKR4"
      }
    },
    {
      "cell_type": "code",
      "source": [
        "from pathlib import Path"
      ],
      "metadata": {
        "id": "ZA1ibqJoZjgx",
        "colab": {
          "base_uri": "https://localhost:8080/"
        },
        "outputId": "b6bf1c87-66bf-4bfd-ae3d-d9849d073d25"
      },
      "execution_count": null,
      "outputs": [
        {
          "output_type": "stream",
          "name": "stderr",
          "text": [
            "/usr/local/lib/python3.10/dist-packages/ipykernel/ipkernel.py:283: DeprecationWarning: `should_run_async` will not call `transform_cell` automatically in the future. Please pass the result to `transformed_cell` argument and any exception that happen during thetransform in `preprocessing_exc_tuple` in IPython 7.17 and above.\n",
            "  and should_run_async(code)\n"
          ]
        }
      ]
    },
    {
      "cell_type": "markdown",
      "source": [
        "To access a file, we use its path in Path, like so:\n",
        "\n",
        "`Path('Folder/filename.extension')`\n",
        "\n",
        "Path has many methods for files and folder. Including looping over files in folder, checking if a file exists, etc.\n",
        "\n",
        "Read more about it here: https://docs.python.org/3/library/pathlib.html"
      ],
      "metadata": {
        "id": "icYkPSu5bQhG"
      }
    },
    {
      "cell_type": "code",
      "source": [
        "readme_file = Path('README.txt')\n",
        "\n",
        "if readme_file.exists():\n",
        "  # read the text content into a variable\n",
        "  file_content = readme_file.read_text()\n",
        "  print(file_content)\n",
        "else:\n",
        "  print(\"README.txt was not found...\")"
      ],
      "metadata": {
        "colab": {
          "base_uri": "https://localhost:8080/"
        },
        "id": "kteZ2w0QapcU",
        "outputId": "2f800598-e0d0-4e86-a689-2aa366df5422"
      },
      "execution_count": null,
      "outputs": [
        {
          "output_type": "stream",
          "name": "stdout",
          "text": [
            "HindEnCorp 0.5 and HindMonoCorp 0.5 File Formats\n",
            "================================================\n",
            "\n",
            "This file describes the file formats of the Hindi-English and Hindi-only\n",
            "corpora released in 2014 under the names HindEnCorp 0.5 and HindMonoCorp 0.5.\n",
            "\n",
            "More details about the preparation of the corpora can be found in the paper:\n",
            "\n",
            "  Ondřej Bojar, Vojtěch Diatka, Pavel Rychlý, Pavel Straňák, Aleš Tamchyna\n",
            "  and Dan Zeman. HindEnCorp - Hindi-English and Hindi-only Corpus for\n",
            "  Machine Translation. In Proc. of LREC 2014. Reykjavik, Iceland. ISBN\n",
            "  978-2-9517408-8-4. ELRA. 2014.\n",
            "\n",
            "or on the corpora web page:\n",
            "  http://ufal.mff.cuni.cz/hindencorp\n",
            "\n",
            "Please cite this paper if you make any use of the corpora. BibTeX citation\n",
            "format below.\n",
            "\n",
            "\n",
            "Common Properties\n",
            "-----------------\n",
            "\n",
            "All the files are plain text:\n",
            "\n",
            "- compressed with gzip\n",
            "- encoded in UTF-8\n",
            "- with unix line breaks (LF)\n",
            "- with tab-delimited columns\n",
            "\n",
            "The monolingual and parallel corpora have different columns.\n",
            "\n",
            "The actual corpus text is stored in one (monolingual corpus) or two (parallel\n",
            "corpus) of the columns.\n",
            "\n",
            "\n",
            "Plaintext vs. Export File Format\n",
            "--------------------------------\n",
            "\n",
            "Both the monolingual and the parallel corpus come in a simple plain text format\n",
            "and in a tokenized, tagged and lemmatized format.\n",
            "\n",
            "The plaintext format preserves the original tokenization (as much as possible\n",
            "given the diverse sources included in our corpus).\n",
            "\n",
            "The 'export' format is tokenized and represents each token as a '|'-delimited\n",
            "triple of: the word form, the lemma, and part-of-speech tag. If there was the\n",
            "character '|' (this character is also used instead of the proper Devanagari\n",
            "Danda in some sources), we escape it as '&pipe;'.\n",
            "\n",
            "There is exactly the same number of lines in the plaintext and export file\n",
            "formats.\n",
            "\n",
            "\n",
            "HindEnCorp Columns\n",
            "------------------\n",
            "\n",
            "The files hindencorp05.plaintext.gz and hindencorp05.export.gz each contain the\n",
            "parallel corpus and differ only in the processing of the corpus texts. The\n",
            "files have these columns:\n",
            "\n",
            "- source identifier (where do the segments come from)\n",
            "- alignment type (number of English segments - number of Hindi segments)\n",
            "- alignment quality, which is one of the following:\n",
            "    \"manual\"  ... for sources that were sentence-aligned manually\n",
            "    \"implied\" ... for sources where one side was constructed by translating\n",
            "                  segment by segment\n",
            "    float     ... a value somehow reflecting the goodness of the automatic\n",
            "                  alignment; not really reliable\n",
            "- English segment or segments\n",
            "- Hindi segment or segments\n",
            "\n",
            "Each of the segments field is in the plaintext or export format as described\n",
            "above.\n",
            "\n",
            "If there are more than one segments on a line (e.g. for lines with alignment\n",
            "type 2-1 where there are two English segments), then the segments are delimited\n",
            "with '<s>' in the text field.\n",
            "\n",
            "HindMonoCorp Columns\n",
            "--------------------\n",
            "\n",
            "The files hindmonocorp05.plaintext.gz and hindmonocorp05.export.gz each contain\n",
            "the monolingual corpus and differ only in the processing of the corpus text.\n",
            "Each input segment (usually one Hindi sentence) is stored on a separate line.\n",
            "The files have these columns:\n",
            "\n",
            "- source identifier (where does the segment come from)\n",
            "- segment type, which is one of the following:\n",
            "    <s>  ... this segment is a sentence from a 'text body'\n",
            "    <h>  ... this segment comes from a 'headline' (e.g. of an article)\n",
            "    <a>  ... anything, the source here does not allow to distinguish between\n",
            "             body and headlines\n",
            "- Hindi segment\n",
            "\n",
            "\n",
            "BibTeX Citation for HindEnCorp and HindMonoCorp 0.5\n",
            "---------------------------------------------------\n",
            "\n",
            "@InProceedings{hindencorp05:lrec:2014,\n",
            "  author = {Ond{\\v{r}}ej Bojar and Vojt{\\v{e}}ch Diatka\n",
            "            and Pavel Rychl{\\'{y}} and Pavel Stra{\\v{n}}{\\'{a}}k\n",
            "            and V{\\'{\\i}}t Suchomel and Ale{\\v{s}} Tamchyna and Daniel Zeman},\n",
            "  title = \"{HindEnCorp - Hindi-English and Hindi-only Corpus for Machine\n",
            "            Translation}\",\n",
            "  booktitle = {Proceedings of the Ninth International Conference on Language\n",
            "               Resources and Evaluation (LREC'14)},\n",
            "  year = {2014},\n",
            "  month = {may},\n",
            "  date = {26-31},\n",
            "  address = {Reykjavik, Iceland},\n",
            "  editor = {Nicoletta Calzolari (Conference Chair) and Khalid Choukri and\n",
            "     Thierry Declerck and Hrafn Loftsson and Bente Maegaard and Joseph Mariani\n",
            "     and Asuncion Moreno and Jan Odijk and Stelios Piperidis},\n",
            "  publisher = {European Language Resources Association (ELRA)},\n",
            "  isbn = {978-2-9517408-8-4},\n",
            "  language = {english}\n",
            "}\n",
            "\n",
            "\n"
          ]
        },
        {
          "output_type": "stream",
          "name": "stderr",
          "text": [
            "/usr/local/lib/python3.10/dist-packages/ipykernel/ipkernel.py:283: DeprecationWarning: `should_run_async` will not call `transform_cell` automatically in the future. Please pass the result to `transformed_cell` argument and any exception that happen during thetransform in `preprocessing_exc_tuple` in IPython 7.17 and above.\n",
            "  and should_run_async(code)\n"
          ]
        }
      ]
    },
    {
      "cell_type": "markdown",
      "source": [
        "If the file is a `.zip` file, you can open it and read its data without actually extracting all the files from it.\n",
        "\n",
        "https://docs.python.org/3/library/gzip.html\n",
        "\n",
        "Also, [requests](https://requests.readthedocs.io/en/latest/) is a great package of retrieving content from a URL."
      ],
      "metadata": {
        "id": "z4pDENv4cEqR"
      }
    },
    {
      "cell_type": "markdown",
      "source": [
        "###### Example with zipped files"
      ],
      "metadata": {
        "id": "79u_AizrnqqK"
      }
    },
    {
      "cell_type": "code",
      "source": [
        "import gzip\n"
      ],
      "metadata": {
        "id": "GjCxwaYDaWqX",
        "colab": {
          "base_uri": "https://localhost:8080/"
        },
        "outputId": "24fcc914-dc15-4d57-8a46-b04580198e36"
      },
      "execution_count": null,
      "outputs": [
        {
          "output_type": "stream",
          "name": "stderr",
          "text": [
            "/usr/local/lib/python3.10/dist-packages/ipykernel/ipkernel.py:283: DeprecationWarning: `should_run_async` will not call `transform_cell` automatically in the future. Please pass the result to `transformed_cell` argument and any exception that happen during thetransform in `preprocessing_exc_tuple` in IPython 7.17 and above.\n",
            "  and should_run_async(code)\n"
          ]
        }
      ]
    },
    {
      "cell_type": "code",
      "source": [
        "\n",
        "# this would download the file (but it's 2 GB, so go easy on your internet provider...):\n",
        "# file = requests.get('https://lindat.mff.cuni.cz/repository/xmlui/bitstream/handle/11858/00-097C-0000-0023-6260-A/hindmonocorp05.plaintext.gz')\n",
        "# with gzip.open(file.content, 'rb') as gz:\n",
        "#  ..."
      ],
      "metadata": {
        "id": "tBOjd-J6e5Kt",
        "colab": {
          "base_uri": "https://localhost:8080/"
        },
        "outputId": "788c6ef9-0269-4cd2-cf44-fc62f3db2566"
      },
      "execution_count": null,
      "outputs": [
        {
          "output_type": "stream",
          "name": "stderr",
          "text": [
            "/usr/local/lib/python3.10/dist-packages/ipykernel/ipkernel.py:283: DeprecationWarning: `should_run_async` will not call `transform_cell` automatically in the future. Please pass the result to `transformed_cell` argument and any exception that happen during thetransform in `preprocessing_exc_tuple` in IPython 7.17 and above.\n",
            "  and should_run_async(code)\n"
          ]
        }
      ]
    },
    {
      "cell_type": "markdown",
      "source": [
        "In this example, we will open the zip and read the text lines.\n",
        "The text is in hindi, so we have to decode it into `UTF-8` format:"
      ],
      "metadata": {
        "id": "_8CXmJU4i3Ng"
      }
    },
    {
      "cell_type": "code",
      "source": [
        "with gzip.open('hindmonocorp05.plaintext.gz', 'rb') as gz:\n",
        "  for i in range(10):\n",
        "    line = gz.readline()\n",
        "    words = line.decode('utf8').split()\n",
        "    print(words)\n"
      ],
      "metadata": {
        "colab": {
          "base_uri": "https://localhost:8080/"
        },
        "id": "FaShXt80f691",
        "outputId": "6bca3e9d-e1bc-4090-fb75-eb8f4227438d"
      },
      "execution_count": null,
      "outputs": [
        {
          "output_type": "stream",
          "name": "stdout",
          "text": [
            "['hwt2013', '<s>', 'लेकिन', 'गांव', 'के', 'जगदीश', 'मेघवाल,', 'मोहन...']\n",
            "['spiderling', '<s>', 'विटामिन', 'सी', 'शरीर', 'में', 'रोग', 'पैदा', 'करने', 'वाले', 'विषाणुओं', 'से', 'लड़ने', 'की', 'ताकत', 'पैदा', 'करता', 'है', 'और', 'शरीर', 'में', 'इसकी', 'संतुलित', 'मात्रा', 'बने', 'रहने', 'से', 'रोग', 'प्रतिरोधक', 'क्षमता', 'मजबूत', 'रहती', 'है।']\n",
            "['spiderling', '<s>', 'इन', 'बोतलों', 'के', 'बहुत', 'कम', 'पैसे', 'मिलते', 'हैं।']\n",
            "['commoncrawl', '<a>', 'कार्टून', ':-', 'रे', 'लोकपाल', 'आ', 'गया', 'तू', '?', 'शाबाश....', '19', '0']\n",
            "['spiderling', '<s>', 'प्रखर', 'बुद्धि', 'तेजस्वी', 'बालक', 'राजेन्द्र', 'बाल्यावस्था', 'में', 'ही', 'फारसी', 'में', 'शिक्षा', 'ग्रहण', 'करने', 'लगा', 'और', 'उसके', 'पश्चात', 'प्राथमिक', 'शिक्षा', 'के', 'लिए', 'छपरा', 'के', 'जिला', 'स्कूल', 'में', 'नामांकित', 'हो', 'गया।']\n",
            "['commoncrawl', '<a>', 'निदेशक', 'स्तर', 'का', 'एक', 'वैज्ञानिक', 'संस्थान', 'या', 'सहोदर', 'संस्थान', 'से', '(']\n",
            "['commoncrawl', '<a>', 'गज़ब', 'का', 'बतंगड़', 'है!', ':)', 'हिट', 'तो', 'वैसे', 'भी', 'है', 'जैसे', 'आपने', 'लिख', 'दिया', 'है,', 'जबर-रोचक', '(इस', 'शब्द', 'की']\n",
            "['w2cweb', '<a>', '2005', 'में', 'वर्ल्ड', 'वाइल्ड', 'लाइफ', 'फंड', 'की', 'संस्तुति', 'पर', 'गंगा', 'नदी', 'में', '165', 'किलोमीटर', 'के', 'हिस्से', 'में', \"'रामसर\", \"साइट'\", 'की', 'घोषणा', 'की', 'थी,', 'जिसमें', 'राष्ट्रीय', 'जल', 'जीव', 'डोलफिन', 'से', 'लेकर', 'सभी', 'प्रकार', 'के', 'जल', 'जीवों', 'की', 'रक्षा', 'के', 'लिए', 'सुरक्षा', 'के', 'व्यापक', 'प्रबंध', 'किए', 'गये', 'थे', 'और', 'उस', 'क्षेत्र', 'में', 'इन', 'जल', 'जीवों', 'को', 'किसी', 'भी', 'प्रकार', 'से', 'मारने', 'पर', 'वाइल्ड', 'लाइफ', 'प्रोटेक्शन', 'एक्ट', '1972', 'के', 'अंतर्गत', 'कार्रवाई', 'तक', 'करने', 'की', 'संस्तुति', 'की', 'गई', 'थी।']\n",
            "['spiderling', '<s>', 'पुराना', 'कैदीः', '”', 'अरे', '!', 'इतना', 'छोटा', 'काम', 'को', 'हमारे', 'बच्चे', 'ही', 'कर', 'लेते', 'हैं।']\n",
            "['spiderling', '<s>', 'इन', 'महाशय', 'का', 'सधवा', 'रूप', 'भी', 'विधवा', 'की', 'तरह', 'ही', 'बीता', 'था', '.....']\n"
          ]
        },
        {
          "output_type": "stream",
          "name": "stderr",
          "text": [
            "/usr/local/lib/python3.10/dist-packages/ipykernel/ipkernel.py:283: DeprecationWarning: `should_run_async` will not call `transform_cell` automatically in the future. Please pass the result to `transformed_cell` argument and any exception that happen during thetransform in `preprocessing_exc_tuple` in IPython 7.17 and above.\n",
            "  and should_run_async(code)\n"
          ]
        }
      ]
    },
    {
      "cell_type": "markdown",
      "source": [
        "**IMPORTANT NOTE**: If your corpus, like that file example is very large (2.3GB zipped), then please don't load all the text: it will not fit in the memory and will only cause you trouble.  \n",
        "Instead, you can use only the first 10 to 20k sentences, or so. For this exercise we just want you to get a hold of the steps and the proces involved in using LDA."
      ],
      "metadata": {
        "id": "SZLMI43toL76"
      }
    },
    {
      "cell_type": "markdown",
      "source": [
        "# Afterword\n",
        "\n",
        "Gensim is not the only library that implements the LDA algorithm.\n",
        "Another package that does LDA is [tomotopy](https://bab2min.github.io/tomotopy/v0.12.3/en/) - sometimes even faster than gensim. Additionaly, it is implemented as part of [Scikit-Learn](https://scikit-learn.org/stable/modules/generated/sklearn.decomposition.LatentDirichletAllocation.html) - which we use often in the course.\n",
        "\n",
        "Here's a jupyter example using Scikit-learn and spaCy: https://nbviewer.org/github/bmabey/pyLDAvis/blob/master/notebooks/sklearn.ipynb\n",
        "\n",
        "Since we won't dive deeper into the LDA topic in this course, if you wish to know more about the statistics behind it, [this video](https://www.youtube.com/watch?v=0jQo8lVRHRY) of a lesson by the researcher [Nando de Freitas](https://linkedin.com/in/nandodefreitas) gives a good overview."
      ],
      "metadata": {
        "id": "gvufRXnxoiwI"
      }
    },
    {
      "cell_type": "code",
      "source": [
        "'''\n",
        "For the task, since my mother tongue is German and I wanted to try out another language,\n",
        "I decided to use Dutch which is another language that I speak.\n",
        "I used the following dataset of news articles in Dutch:\n",
        "https://www.kaggle.com/datasets/maxscheijen/dutch-news-articles?resource=download\n",
        "/Users/Lara/Desktop/MLT/Machine Learning/Assignments/dutch-news-articles.csv\n",
        "'''\n",
        "\n",
        "my_df_articles = pd.read_csv('/Users/Lara/Desktop/MLT/Machine Learning/Assignments/dutch-news-articles.csv',\n",
        "                 sep=',',       # this file is actually separated by \",\"\n",
        "                 on_bad_lines='skip',\n",
        "                 header=0,   # first line is header line for this CSV\n",
        "                 # .. so we define the column names here:\n",
        "                 columns=['datetime', 'title', 'content', 'category', 'url'],  # Reads only the specified columns\n",
        "                 # And by specifiying the column as a Categorical type,\n",
        "                 # we can save computer memory! Yay!\n",
        "                 dtype={'category': 'category'})\n",
        "\n",
        "print(my_df_articles.head())"
      ],
      "metadata": {
        "id": "c6YoKZ45q6AK",
        "colab": {
          "base_uri": "https://localhost:8080/"
        },
        "outputId": "abd26d7d-7821-4288-eaac-c5c054cd2294"
      },
      "execution_count": null,
      "outputs": [
        {
          "output_type": "stream",
          "name": "stderr",
          "text": [
            "/usr/local/lib/python3.10/dist-packages/ipykernel/ipkernel.py:283: DeprecationWarning: `should_run_async` will not call `transform_cell` automatically in the future. Please pass the result to `transformed_cell` argument and any exception that happen during thetransform in `preprocessing_exc_tuple` in IPython 7.17 and above.\n",
            "  and should_run_async(code)\n"
          ]
        }
      ]
    }
  ]
}