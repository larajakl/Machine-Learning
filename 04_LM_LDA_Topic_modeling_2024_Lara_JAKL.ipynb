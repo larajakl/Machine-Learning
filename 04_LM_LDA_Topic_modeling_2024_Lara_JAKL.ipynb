{
  "nbformat": 4,
  "nbformat_minor": 0,
  "metadata": {
    "colab": {
      "provenance": [],
      "toc_visible": true,
      "gpuType": "T4",
      "include_colab_link": true
    },
    "kernelspec": {
      "name": "python3",
      "display_name": "Python 3"
    },
    "accelerator": "GPU"
  },
  "cells": [
    {
      "cell_type": "markdown",
      "metadata": {
        "id": "view-in-github",
        "colab_type": "text"
      },
      "source": [
        "<a href=\"https://colab.research.google.com/github/larajakl/Machine-Learning/blob/main/04_LM_LDA_Topic_modeling_2024_Lara_JAKL.ipynb\" target=\"_parent\"><img src=\"https://colab.research.google.com/assets/colab-badge.svg\" alt=\"Open In Colab\"/></a>"
      ]
    },
    {
      "cell_type": "markdown",
      "source": [
        "# Clustering Documents"
      ],
      "metadata": {
        "id": "0QCMG-L_oPQ6"
      }
    },
    {
      "cell_type": "markdown",
      "metadata": {
        "id": "LuFLTklaSGqw"
      },
      "source": [
        "# Setup"
      ]
    },
    {
      "cell_type": "markdown",
      "metadata": {
        "id": "ncCmcyBB_KyW"
      },
      "source": [
        "We start by importing [pandas](https://pandas.pydata.org/) - an essential tool for data scientists!\n",
        "\n",
        "We load a .CSV (Comma Seperated Values) file of German news articles from https://github.com/tblock/10kGNAD\n"
      ]
    },
    {
      "cell_type": "code",
      "source": [
        "from IPython.display import YouTubeVideo"
      ],
      "metadata": {
        "id": "9e5gBKX3pFlC"
      },
      "execution_count": 1,
      "outputs": []
    },
    {
      "cell_type": "code",
      "metadata": {
        "id": "KfprTyMF4BG1",
        "outputId": "a84c5ded-c878-4867-bc63-ca15b01637da",
        "colab": {
          "base_uri": "https://localhost:8080/"
        }
      },
      "source": [
        "import pandas as pd\n",
        "\n",
        "import nltk\n",
        "nltk.download('punkt')\n",
        "nltk.download('stopwords')\n",
        "nltk.download('averaged_perceptron_tagger')\n",
        "nltk.download('universal_tagset')\n",
        "\n"
      ],
      "execution_count": 2,
      "outputs": [
        {
          "output_type": "stream",
          "name": "stderr",
          "text": [
            "[nltk_data] Downloading package punkt to /root/nltk_data...\n",
            "[nltk_data]   Unzipping tokenizers/punkt.zip.\n",
            "[nltk_data] Downloading package stopwords to /root/nltk_data...\n",
            "[nltk_data]   Unzipping corpora/stopwords.zip.\n",
            "[nltk_data] Downloading package averaged_perceptron_tagger to\n",
            "[nltk_data]     /root/nltk_data...\n",
            "[nltk_data]   Unzipping taggers/averaged_perceptron_tagger.zip.\n",
            "[nltk_data] Downloading package universal_tagset to /root/nltk_data...\n",
            "[nltk_data]   Unzipping taggers/universal_tagset.zip.\n"
          ]
        },
        {
          "output_type": "execute_result",
          "data": {
            "text/plain": [
              "True"
            ]
          },
          "metadata": {},
          "execution_count": 2
        }
      ]
    },
    {
      "cell_type": "markdown",
      "source": [
        "Pandas is a useful package to load CSV files and to parse them. It can also parse TSV - separated by tabs, or as in our case, separated by a `;`.  \n",
        "Pandas is often used as the first-step for data scientists to load and analyze data."
      ],
      "metadata": {
        "id": "v62qoMC7U7W-"
      }
    },
    {
      "cell_type": "code",
      "source": [
        "'''\n",
        "Since my mother tongue is German and I wanted to try out another language,\n",
        "I decided to use Dutch which is another language that I speak.\n",
        "I used the following dataset of news articles in Dutch:\n",
        "https://www.kaggle.com/datasets/maxscheijen/dutch-news-articles?resource=download\n",
        "'''"
      ],
      "metadata": {
        "colab": {
          "base_uri": "https://localhost:8080/",
          "height": 89
        },
        "id": "x7KaxRVJPKhx",
        "outputId": "ebdc042b-8c7a-42cd-e3aa-7d855ceacd9a"
      },
      "execution_count": 3,
      "outputs": [
        {
          "output_type": "execute_result",
          "data": {
            "text/plain": [
              "'\\nSince my mother tongue is German and I wanted to try out another language,\\nI decided to use Dutch which is another language that I speak.\\nI used the following dataset of news articles in Dutch:\\nhttps://www.kaggle.com/datasets/maxscheijen/dutch-news-articles?resource=download\\n/Users/Lara/Desktop/MLT/Machine Learning/Assignments/dutch-news-articles.csv\\n'"
            ],
            "application/vnd.google.colaboratory.intrinsic+json": {
              "type": "string"
            }
          },
          "metadata": {},
          "execution_count": 3
        }
      ]
    },
    {
      "cell_type": "code",
      "source": [
        "# in the following lines I download the dataset"
      ],
      "metadata": {
        "id": "i285XgnMsI8F"
      },
      "execution_count": null,
      "outputs": []
    },
    {
      "cell_type": "code",
      "metadata": {
        "id": "ieItNWA44BEA",
        "colab": {
          "base_uri": "https://localhost:8080/"
        },
        "outputId": "23c1717d-b862-4325-8c43-1459e01eaa03"
      },
      "source": [
        "import kagglehub\n",
        "\n",
        "# Download latest version\n",
        "path = kagglehub.dataset_download(\"maxscheijen/dutch-news-articles\")\n",
        "\n",
        "print(\"Path to dataset files:\", path)\n"
      ],
      "execution_count": 4,
      "outputs": [
        {
          "output_type": "stream",
          "name": "stdout",
          "text": [
            "Downloading from https://www.kaggle.com/api/v1/datasets/download/maxscheijen/dutch-news-articles?dataset_version_number=157...\n"
          ]
        },
        {
          "output_type": "stream",
          "name": "stderr",
          "text": [
            "100%|██████████| 161M/161M [00:09<00:00, 18.3MB/s]"
          ]
        },
        {
          "output_type": "stream",
          "name": "stdout",
          "text": [
            "Extracting files...\n"
          ]
        },
        {
          "output_type": "stream",
          "name": "stderr",
          "text": [
            "\n"
          ]
        },
        {
          "output_type": "stream",
          "name": "stdout",
          "text": [
            "Path to dataset files: /root/.cache/kagglehub/datasets/maxscheijen/dutch-news-articles/versions/157\n"
          ]
        }
      ]
    },
    {
      "cell_type": "code",
      "source": [
        "import os\n",
        "\n",
        "directory_path = '/root/.cache/kagglehub/datasets/maxscheijen/dutch-news-articles/versions/157'\n",
        "files = os.listdir(directory_path)\n",
        "print(files)"
      ],
      "metadata": {
        "colab": {
          "base_uri": "https://localhost:8080/"
        },
        "id": "nDT5MYjUQ1KL",
        "outputId": "275d2cf5-ac83-4554-805c-061776ecf0cc"
      },
      "execution_count": 5,
      "outputs": [
        {
          "output_type": "stream",
          "name": "stdout",
          "text": [
            "['dutch-news-articles.csv']\n"
          ]
        }
      ]
    },
    {
      "cell_type": "code",
      "source": [
        "csv_filename = 'dutch-news-articles.csv'\n",
        "csv_file_path = os.path.join(directory_path, csv_filename)"
      ],
      "metadata": {
        "id": "IuqeK5BXQ4JF"
      },
      "execution_count": 6,
      "outputs": []
    },
    {
      "cell_type": "code",
      "source": [
        "df_articles = pd.read_csv(csv_file_path,\n",
        "                 sep=',',       # this file is separated by \",\"\n",
        "                 on_bad_lines='skip',\n",
        "                 header=0,   # first line is header line for this CSV\n",
        "                 # .. so we define the column names here:\n",
        "                 usecols=['datetime', 'title', 'content', 'category', 'url'],  # Reads only the specified columns\n",
        "                 # And by specifiying the column as a Categorical type,\n",
        "                 # we can save computer memory! Yay!\n",
        "                 dtype={'category': 'category'})\n",
        "\n",
        "print(df_articles.head())"
      ],
      "metadata": {
        "colab": {
          "base_uri": "https://localhost:8080/"
        },
        "id": "Kikr2v2gQJ8t",
        "outputId": "a65aa13c-39d3-44a3-9e2c-427b68d37f31"
      },
      "execution_count": 7,
      "outputs": [
        {
          "output_type": "stream",
          "name": "stdout",
          "text": [
            "              datetime                                            title  \\\n",
            "0  2010-01-01 00:49:00                Enige Litouwse kerncentrale dicht   \n",
            "1  2010-01-01 02:08:00  Spanje eerste EU-voorzitter onder nieuw verdrag   \n",
            "2  2010-01-01 02:09:00                 Fout justitie in Blackwater-zaak   \n",
            "3  2010-01-01 05:14:00        Museumplein vol, minder druk in Rotterdam   \n",
            "4  2010-01-01 05:30:00              Obama krijgt rapporten over aanslag   \n",
            "\n",
            "                                             content    category  \\\n",
            "0  De enige kerncentrale van Litouwen is oudjaars...  Buitenland   \n",
            "1  Spanje is met ingang van vandaag voorzitter va...  Buitenland   \n",
            "2  Vijf werknemers van het omstreden Amerikaanse ...  Buitenland   \n",
            "3  Het Oud en Nieuwfeest op het Museumplein in Am...  Binnenland   \n",
            "4  President Obama heeft de eerste rapporten gekr...  Buitenland   \n",
            "\n",
            "                                                 url  \n",
            "0  https://nos.nl/artikel/126231-enige-litouwse-k...  \n",
            "1  https://nos.nl/artikel/126230-spanje-eerste-eu...  \n",
            "2  https://nos.nl/artikel/126233-fout-justitie-in...  \n",
            "3  https://nos.nl/artikel/126232-museumplein-vol-...  \n",
            "4  https://nos.nl/artikel/126236-obama-krijgt-rap...  \n"
          ]
        }
      ]
    },
    {
      "cell_type": "markdown",
      "source": [
        "**Note:** Specifying a column with repeated strings as a category is a good Pandas' trick to be aware of. Often the dataset can't fit into the memory, and by specifiying columns as a categorical column when loading the data (`pd.read_csv`), we get to spare memory and allow the dataset to fit the working memory better."
      ],
      "metadata": {
        "id": "SVusBTWghIkz"
      }
    },
    {
      "cell_type": "code",
      "source": [
        "df_articles"
      ],
      "metadata": {
        "id": "XyYuGSLJSNCA",
        "outputId": "6a4f80b2-0f2f-42da-9082-f80d1f3184e9",
        "colab": {
          "base_uri": "https://localhost:8080/",
          "height": 597
        }
      },
      "execution_count": 8,
      "outputs": [
        {
          "output_type": "execute_result",
          "data": {
            "text/plain": [
              "                   datetime  \\\n",
              "0       2010-01-01 00:49:00   \n",
              "1       2010-01-01 02:08:00   \n",
              "2       2010-01-01 02:09:00   \n",
              "3       2010-01-01 05:14:00   \n",
              "4       2010-01-01 05:30:00   \n",
              "...                     ...   \n",
              "255519  2023-08-09 09:51:42   \n",
              "255520  2023-08-09 10:06:31   \n",
              "255521  2023-08-09 10:09:40   \n",
              "255522  2023-08-09 10:17:16   \n",
              "255523  2023-08-09 11:18:09   \n",
              "\n",
              "                                                    title  \\\n",
              "0                       Enige Litouwse kerncentrale dicht   \n",
              "1         Spanje eerste EU-voorzitter onder nieuw verdrag   \n",
              "2                        Fout justitie in Blackwater-zaak   \n",
              "3               Museumplein vol, minder druk in Rotterdam   \n",
              "4                     Obama krijgt rapporten over aanslag   \n",
              "...                                                   ...   \n",
              "255519  Amazone-landen willen ontbossing tegengaan, ma...   \n",
              "255520  Topman moederbedrijf Albert Heijn: 'Prijsverla...   \n",
              "255521  Bijzondere mijlpaal voor Duncan Laurence: een ...   \n",
              "255522  Brand in Frans vakantiehuis voor gehandicapten...   \n",
              "255523  Tientallen bootmigranten omgekomen voor de kus...   \n",
              "\n",
              "                                                  content    category  \\\n",
              "0       De enige kerncentrale van Litouwen is oudjaars...  Buitenland   \n",
              "1       Spanje is met ingang van vandaag voorzitter va...  Buitenland   \n",
              "2       Vijf werknemers van het omstreden Amerikaanse ...  Buitenland   \n",
              "3       Het Oud en Nieuwfeest op het Museumplein in Am...  Binnenland   \n",
              "4       President Obama heeft de eerste rapporten gekr...  Buitenland   \n",
              "...                                                   ...         ...   \n",
              "255519  Acht Zuid-Amerikaanse landen zijn het op de Am...  Buitenland   \n",
              "255520  De topman van Ahold Delhaize, het moederbedrij...    Economie   \n",
              "255521  Duncan Laurence heeft met zijn nummer Arcade e...  Binnenland   \n",
              "255522  In een Frans vakantiehuis voor gehandicapten i...  Buitenland   \n",
              "255523  Voor de kust van het Italiaanse eiland Lampedu...  Buitenland   \n",
              "\n",
              "                                                      url  \n",
              "0       https://nos.nl/artikel/126231-enige-litouwse-k...  \n",
              "1       https://nos.nl/artikel/126230-spanje-eerste-eu...  \n",
              "2       https://nos.nl/artikel/126233-fout-justitie-in...  \n",
              "3       https://nos.nl/artikel/126232-museumplein-vol-...  \n",
              "4       https://nos.nl/artikel/126236-obama-krijgt-rap...  \n",
              "...                                                   ...  \n",
              "255519  https://nos.nl//artikel/2485984-amazone-landen...  \n",
              "255520  https://nos.nl//artikel/2485988-topman-moederb...  \n",
              "255521  https://nos.nl//artikel/2485989-bijzondere-mij...  \n",
              "255522  https://nos.nl//artikel/2485990-brand-in-frans...  \n",
              "255523  https://nos.nl//artikel/2485996-tientallen-boo...  \n",
              "\n",
              "[255524 rows x 5 columns]"
            ],
            "text/html": [
              "\n",
              "  <div id=\"df-ce97ac57-43a3-4761-8c68-8963c7b7d802\" class=\"colab-df-container\">\n",
              "    <div>\n",
              "<style scoped>\n",
              "    .dataframe tbody tr th:only-of-type {\n",
              "        vertical-align: middle;\n",
              "    }\n",
              "\n",
              "    .dataframe tbody tr th {\n",
              "        vertical-align: top;\n",
              "    }\n",
              "\n",
              "    .dataframe thead th {\n",
              "        text-align: right;\n",
              "    }\n",
              "</style>\n",
              "<table border=\"1\" class=\"dataframe\">\n",
              "  <thead>\n",
              "    <tr style=\"text-align: right;\">\n",
              "      <th></th>\n",
              "      <th>datetime</th>\n",
              "      <th>title</th>\n",
              "      <th>content</th>\n",
              "      <th>category</th>\n",
              "      <th>url</th>\n",
              "    </tr>\n",
              "  </thead>\n",
              "  <tbody>\n",
              "    <tr>\n",
              "      <th>0</th>\n",
              "      <td>2010-01-01 00:49:00</td>\n",
              "      <td>Enige Litouwse kerncentrale dicht</td>\n",
              "      <td>De enige kerncentrale van Litouwen is oudjaars...</td>\n",
              "      <td>Buitenland</td>\n",
              "      <td>https://nos.nl/artikel/126231-enige-litouwse-k...</td>\n",
              "    </tr>\n",
              "    <tr>\n",
              "      <th>1</th>\n",
              "      <td>2010-01-01 02:08:00</td>\n",
              "      <td>Spanje eerste EU-voorzitter onder nieuw verdrag</td>\n",
              "      <td>Spanje is met ingang van vandaag voorzitter va...</td>\n",
              "      <td>Buitenland</td>\n",
              "      <td>https://nos.nl/artikel/126230-spanje-eerste-eu...</td>\n",
              "    </tr>\n",
              "    <tr>\n",
              "      <th>2</th>\n",
              "      <td>2010-01-01 02:09:00</td>\n",
              "      <td>Fout justitie in Blackwater-zaak</td>\n",
              "      <td>Vijf werknemers van het omstreden Amerikaanse ...</td>\n",
              "      <td>Buitenland</td>\n",
              "      <td>https://nos.nl/artikel/126233-fout-justitie-in...</td>\n",
              "    </tr>\n",
              "    <tr>\n",
              "      <th>3</th>\n",
              "      <td>2010-01-01 05:14:00</td>\n",
              "      <td>Museumplein vol, minder druk in Rotterdam</td>\n",
              "      <td>Het Oud en Nieuwfeest op het Museumplein in Am...</td>\n",
              "      <td>Binnenland</td>\n",
              "      <td>https://nos.nl/artikel/126232-museumplein-vol-...</td>\n",
              "    </tr>\n",
              "    <tr>\n",
              "      <th>4</th>\n",
              "      <td>2010-01-01 05:30:00</td>\n",
              "      <td>Obama krijgt rapporten over aanslag</td>\n",
              "      <td>President Obama heeft de eerste rapporten gekr...</td>\n",
              "      <td>Buitenland</td>\n",
              "      <td>https://nos.nl/artikel/126236-obama-krijgt-rap...</td>\n",
              "    </tr>\n",
              "    <tr>\n",
              "      <th>...</th>\n",
              "      <td>...</td>\n",
              "      <td>...</td>\n",
              "      <td>...</td>\n",
              "      <td>...</td>\n",
              "      <td>...</td>\n",
              "    </tr>\n",
              "    <tr>\n",
              "      <th>255519</th>\n",
              "      <td>2023-08-09 09:51:42</td>\n",
              "      <td>Amazone-landen willen ontbossing tegengaan, ma...</td>\n",
              "      <td>Acht Zuid-Amerikaanse landen zijn het op de Am...</td>\n",
              "      <td>Buitenland</td>\n",
              "      <td>https://nos.nl//artikel/2485984-amazone-landen...</td>\n",
              "    </tr>\n",
              "    <tr>\n",
              "      <th>255520</th>\n",
              "      <td>2023-08-09 10:06:31</td>\n",
              "      <td>Topman moederbedrijf Albert Heijn: 'Prijsverla...</td>\n",
              "      <td>De topman van Ahold Delhaize, het moederbedrij...</td>\n",
              "      <td>Economie</td>\n",
              "      <td>https://nos.nl//artikel/2485988-topman-moederb...</td>\n",
              "    </tr>\n",
              "    <tr>\n",
              "      <th>255521</th>\n",
              "      <td>2023-08-09 10:09:40</td>\n",
              "      <td>Bijzondere mijlpaal voor Duncan Laurence: een ...</td>\n",
              "      <td>Duncan Laurence heeft met zijn nummer Arcade e...</td>\n",
              "      <td>Binnenland</td>\n",
              "      <td>https://nos.nl//artikel/2485989-bijzondere-mij...</td>\n",
              "    </tr>\n",
              "    <tr>\n",
              "      <th>255522</th>\n",
              "      <td>2023-08-09 10:17:16</td>\n",
              "      <td>Brand in Frans vakantiehuis voor gehandicapten...</td>\n",
              "      <td>In een Frans vakantiehuis voor gehandicapten i...</td>\n",
              "      <td>Buitenland</td>\n",
              "      <td>https://nos.nl//artikel/2485990-brand-in-frans...</td>\n",
              "    </tr>\n",
              "    <tr>\n",
              "      <th>255523</th>\n",
              "      <td>2023-08-09 11:18:09</td>\n",
              "      <td>Tientallen bootmigranten omgekomen voor de kus...</td>\n",
              "      <td>Voor de kust van het Italiaanse eiland Lampedu...</td>\n",
              "      <td>Buitenland</td>\n",
              "      <td>https://nos.nl//artikel/2485996-tientallen-boo...</td>\n",
              "    </tr>\n",
              "  </tbody>\n",
              "</table>\n",
              "<p>255524 rows × 5 columns</p>\n",
              "</div>\n",
              "    <div class=\"colab-df-buttons\">\n",
              "\n",
              "  <div class=\"colab-df-container\">\n",
              "    <button class=\"colab-df-convert\" onclick=\"convertToInteractive('df-ce97ac57-43a3-4761-8c68-8963c7b7d802')\"\n",
              "            title=\"Convert this dataframe to an interactive table.\"\n",
              "            style=\"display:none;\">\n",
              "\n",
              "  <svg xmlns=\"http://www.w3.org/2000/svg\" height=\"24px\" viewBox=\"0 -960 960 960\">\n",
              "    <path d=\"M120-120v-720h720v720H120Zm60-500h600v-160H180v160Zm220 220h160v-160H400v160Zm0 220h160v-160H400v160ZM180-400h160v-160H180v160Zm440 0h160v-160H620v160ZM180-180h160v-160H180v160Zm440 0h160v-160H620v160Z\"/>\n",
              "  </svg>\n",
              "    </button>\n",
              "\n",
              "  <style>\n",
              "    .colab-df-container {\n",
              "      display:flex;\n",
              "      gap: 12px;\n",
              "    }\n",
              "\n",
              "    .colab-df-convert {\n",
              "      background-color: #E8F0FE;\n",
              "      border: none;\n",
              "      border-radius: 50%;\n",
              "      cursor: pointer;\n",
              "      display: none;\n",
              "      fill: #1967D2;\n",
              "      height: 32px;\n",
              "      padding: 0 0 0 0;\n",
              "      width: 32px;\n",
              "    }\n",
              "\n",
              "    .colab-df-convert:hover {\n",
              "      background-color: #E2EBFA;\n",
              "      box-shadow: 0px 1px 2px rgba(60, 64, 67, 0.3), 0px 1px 3px 1px rgba(60, 64, 67, 0.15);\n",
              "      fill: #174EA6;\n",
              "    }\n",
              "\n",
              "    .colab-df-buttons div {\n",
              "      margin-bottom: 4px;\n",
              "    }\n",
              "\n",
              "    [theme=dark] .colab-df-convert {\n",
              "      background-color: #3B4455;\n",
              "      fill: #D2E3FC;\n",
              "    }\n",
              "\n",
              "    [theme=dark] .colab-df-convert:hover {\n",
              "      background-color: #434B5C;\n",
              "      box-shadow: 0px 1px 3px 1px rgba(0, 0, 0, 0.15);\n",
              "      filter: drop-shadow(0px 1px 2px rgba(0, 0, 0, 0.3));\n",
              "      fill: #FFFFFF;\n",
              "    }\n",
              "  </style>\n",
              "\n",
              "    <script>\n",
              "      const buttonEl =\n",
              "        document.querySelector('#df-ce97ac57-43a3-4761-8c68-8963c7b7d802 button.colab-df-convert');\n",
              "      buttonEl.style.display =\n",
              "        google.colab.kernel.accessAllowed ? 'block' : 'none';\n",
              "\n",
              "      async function convertToInteractive(key) {\n",
              "        const element = document.querySelector('#df-ce97ac57-43a3-4761-8c68-8963c7b7d802');\n",
              "        const dataTable =\n",
              "          await google.colab.kernel.invokeFunction('convertToInteractive',\n",
              "                                                    [key], {});\n",
              "        if (!dataTable) return;\n",
              "\n",
              "        const docLinkHtml = 'Like what you see? Visit the ' +\n",
              "          '<a target=\"_blank\" href=https://colab.research.google.com/notebooks/data_table.ipynb>data table notebook</a>'\n",
              "          + ' to learn more about interactive tables.';\n",
              "        element.innerHTML = '';\n",
              "        dataTable['output_type'] = 'display_data';\n",
              "        await google.colab.output.renderOutput(dataTable, element);\n",
              "        const docLink = document.createElement('div');\n",
              "        docLink.innerHTML = docLinkHtml;\n",
              "        element.appendChild(docLink);\n",
              "      }\n",
              "    </script>\n",
              "  </div>\n",
              "\n",
              "\n",
              "<div id=\"df-bfd79687-f573-4722-aff0-26233f6f407d\">\n",
              "  <button class=\"colab-df-quickchart\" onclick=\"quickchart('df-bfd79687-f573-4722-aff0-26233f6f407d')\"\n",
              "            title=\"Suggest charts\"\n",
              "            style=\"display:none;\">\n",
              "\n",
              "<svg xmlns=\"http://www.w3.org/2000/svg\" height=\"24px\"viewBox=\"0 0 24 24\"\n",
              "     width=\"24px\">\n",
              "    <g>\n",
              "        <path d=\"M19 3H5c-1.1 0-2 .9-2 2v14c0 1.1.9 2 2 2h14c1.1 0 2-.9 2-2V5c0-1.1-.9-2-2-2zM9 17H7v-7h2v7zm4 0h-2V7h2v10zm4 0h-2v-4h2v4z\"/>\n",
              "    </g>\n",
              "</svg>\n",
              "  </button>\n",
              "\n",
              "<style>\n",
              "  .colab-df-quickchart {\n",
              "      --bg-color: #E8F0FE;\n",
              "      --fill-color: #1967D2;\n",
              "      --hover-bg-color: #E2EBFA;\n",
              "      --hover-fill-color: #174EA6;\n",
              "      --disabled-fill-color: #AAA;\n",
              "      --disabled-bg-color: #DDD;\n",
              "  }\n",
              "\n",
              "  [theme=dark] .colab-df-quickchart {\n",
              "      --bg-color: #3B4455;\n",
              "      --fill-color: #D2E3FC;\n",
              "      --hover-bg-color: #434B5C;\n",
              "      --hover-fill-color: #FFFFFF;\n",
              "      --disabled-bg-color: #3B4455;\n",
              "      --disabled-fill-color: #666;\n",
              "  }\n",
              "\n",
              "  .colab-df-quickchart {\n",
              "    background-color: var(--bg-color);\n",
              "    border: none;\n",
              "    border-radius: 50%;\n",
              "    cursor: pointer;\n",
              "    display: none;\n",
              "    fill: var(--fill-color);\n",
              "    height: 32px;\n",
              "    padding: 0;\n",
              "    width: 32px;\n",
              "  }\n",
              "\n",
              "  .colab-df-quickchart:hover {\n",
              "    background-color: var(--hover-bg-color);\n",
              "    box-shadow: 0 1px 2px rgba(60, 64, 67, 0.3), 0 1px 3px 1px rgba(60, 64, 67, 0.15);\n",
              "    fill: var(--button-hover-fill-color);\n",
              "  }\n",
              "\n",
              "  .colab-df-quickchart-complete:disabled,\n",
              "  .colab-df-quickchart-complete:disabled:hover {\n",
              "    background-color: var(--disabled-bg-color);\n",
              "    fill: var(--disabled-fill-color);\n",
              "    box-shadow: none;\n",
              "  }\n",
              "\n",
              "  .colab-df-spinner {\n",
              "    border: 2px solid var(--fill-color);\n",
              "    border-color: transparent;\n",
              "    border-bottom-color: var(--fill-color);\n",
              "    animation:\n",
              "      spin 1s steps(1) infinite;\n",
              "  }\n",
              "\n",
              "  @keyframes spin {\n",
              "    0% {\n",
              "      border-color: transparent;\n",
              "      border-bottom-color: var(--fill-color);\n",
              "      border-left-color: var(--fill-color);\n",
              "    }\n",
              "    20% {\n",
              "      border-color: transparent;\n",
              "      border-left-color: var(--fill-color);\n",
              "      border-top-color: var(--fill-color);\n",
              "    }\n",
              "    30% {\n",
              "      border-color: transparent;\n",
              "      border-left-color: var(--fill-color);\n",
              "      border-top-color: var(--fill-color);\n",
              "      border-right-color: var(--fill-color);\n",
              "    }\n",
              "    40% {\n",
              "      border-color: transparent;\n",
              "      border-right-color: var(--fill-color);\n",
              "      border-top-color: var(--fill-color);\n",
              "    }\n",
              "    60% {\n",
              "      border-color: transparent;\n",
              "      border-right-color: var(--fill-color);\n",
              "    }\n",
              "    80% {\n",
              "      border-color: transparent;\n",
              "      border-right-color: var(--fill-color);\n",
              "      border-bottom-color: var(--fill-color);\n",
              "    }\n",
              "    90% {\n",
              "      border-color: transparent;\n",
              "      border-bottom-color: var(--fill-color);\n",
              "    }\n",
              "  }\n",
              "</style>\n",
              "\n",
              "  <script>\n",
              "    async function quickchart(key) {\n",
              "      const quickchartButtonEl =\n",
              "        document.querySelector('#' + key + ' button');\n",
              "      quickchartButtonEl.disabled = true;  // To prevent multiple clicks.\n",
              "      quickchartButtonEl.classList.add('colab-df-spinner');\n",
              "      try {\n",
              "        const charts = await google.colab.kernel.invokeFunction(\n",
              "            'suggestCharts', [key], {});\n",
              "      } catch (error) {\n",
              "        console.error('Error during call to suggestCharts:', error);\n",
              "      }\n",
              "      quickchartButtonEl.classList.remove('colab-df-spinner');\n",
              "      quickchartButtonEl.classList.add('colab-df-quickchart-complete');\n",
              "    }\n",
              "    (() => {\n",
              "      let quickchartButtonEl =\n",
              "        document.querySelector('#df-bfd79687-f573-4722-aff0-26233f6f407d button');\n",
              "      quickchartButtonEl.style.display =\n",
              "        google.colab.kernel.accessAllowed ? 'block' : 'none';\n",
              "    })();\n",
              "  </script>\n",
              "</div>\n",
              "\n",
              "  <div id=\"id_b95a4fc1-675d-445b-ac41-3cd154dee048\">\n",
              "    <style>\n",
              "      .colab-df-generate {\n",
              "        background-color: #E8F0FE;\n",
              "        border: none;\n",
              "        border-radius: 50%;\n",
              "        cursor: pointer;\n",
              "        display: none;\n",
              "        fill: #1967D2;\n",
              "        height: 32px;\n",
              "        padding: 0 0 0 0;\n",
              "        width: 32px;\n",
              "      }\n",
              "\n",
              "      .colab-df-generate:hover {\n",
              "        background-color: #E2EBFA;\n",
              "        box-shadow: 0px 1px 2px rgba(60, 64, 67, 0.3), 0px 1px 3px 1px rgba(60, 64, 67, 0.15);\n",
              "        fill: #174EA6;\n",
              "      }\n",
              "\n",
              "      [theme=dark] .colab-df-generate {\n",
              "        background-color: #3B4455;\n",
              "        fill: #D2E3FC;\n",
              "      }\n",
              "\n",
              "      [theme=dark] .colab-df-generate:hover {\n",
              "        background-color: #434B5C;\n",
              "        box-shadow: 0px 1px 3px 1px rgba(0, 0, 0, 0.15);\n",
              "        filter: drop-shadow(0px 1px 2px rgba(0, 0, 0, 0.3));\n",
              "        fill: #FFFFFF;\n",
              "      }\n",
              "    </style>\n",
              "    <button class=\"colab-df-generate\" onclick=\"generateWithVariable('df_articles')\"\n",
              "            title=\"Generate code using this dataframe.\"\n",
              "            style=\"display:none;\">\n",
              "\n",
              "  <svg xmlns=\"http://www.w3.org/2000/svg\" height=\"24px\"viewBox=\"0 0 24 24\"\n",
              "       width=\"24px\">\n",
              "    <path d=\"M7,19H8.4L18.45,9,17,7.55,7,17.6ZM5,21V16.75L18.45,3.32a2,2,0,0,1,2.83,0l1.4,1.43a1.91,1.91,0,0,1,.58,1.4,1.91,1.91,0,0,1-.58,1.4L9.25,21ZM18.45,9,17,7.55Zm-12,3A5.31,5.31,0,0,0,4.9,8.1,5.31,5.31,0,0,0,1,6.5,5.31,5.31,0,0,0,4.9,4.9,5.31,5.31,0,0,0,6.5,1,5.31,5.31,0,0,0,8.1,4.9,5.31,5.31,0,0,0,12,6.5,5.46,5.46,0,0,0,6.5,12Z\"/>\n",
              "  </svg>\n",
              "    </button>\n",
              "    <script>\n",
              "      (() => {\n",
              "      const buttonEl =\n",
              "        document.querySelector('#id_b95a4fc1-675d-445b-ac41-3cd154dee048 button.colab-df-generate');\n",
              "      buttonEl.style.display =\n",
              "        google.colab.kernel.accessAllowed ? 'block' : 'none';\n",
              "\n",
              "      buttonEl.onclick = () => {\n",
              "        google.colab.notebook.generateWithVariable('df_articles');\n",
              "      }\n",
              "      })();\n",
              "    </script>\n",
              "  </div>\n",
              "\n",
              "    </div>\n",
              "  </div>\n"
            ],
            "application/vnd.google.colaboratory.intrinsic+json": {
              "type": "dataframe",
              "variable_name": "df_articles"
            }
          },
          "metadata": {},
          "execution_count": 8
        }
      ]
    },
    {
      "cell_type": "code",
      "source": [
        "df_articles['category'].cat.categories"
      ],
      "metadata": {
        "colab": {
          "base_uri": "https://localhost:8080/"
        },
        "id": "KGgnGvdLVLkh",
        "outputId": "f71a59ec-6227-4745-f4c0-eff7a276770d"
      },
      "execution_count": 9,
      "outputs": [
        {
          "output_type": "execute_result",
          "data": {
            "text/plain": [
              "Index(['Binnenland', 'Buitenland', 'Cultuur & Media', 'Economie',\n",
              "       'Koningshuis', 'Opmerkelijk', 'Politiek', 'Regionaal nieuws', 'Tech',\n",
              "       '1 Jaar Oorlog', '4 En 5 Mei ', 'Aardbevingen', 'Crisis Asielbeleid',\n",
              "       'Cultuur-En-Media', 'Einde Rutte Iv', 'Grensoverschrijdend ',\n",
              "       'Gronings Gas', 'Jaarwisseling', 'Keti Koti', 'Klimaat',\n",
              "       'Kroning Charles', 'L1Mburg', 'Midterm-Verkiezingen', 'Nh Nieuws',\n",
              "       'Oekraïens Offensief', 'Omroep Brabant', 'Omroep Flevoland',\n",
              "       'Omroep Gelderland', 'Omroep West', 'Omroep Zeeland', 'Omrop Fryslân',\n",
              "       'Op Weg Naar Tk2023', 'Opstand Wagner', 'Pelé Overleden',\n",
              "       'Pentagon-Lek', 'Proces-Taghi', 'Regio', 'Regionaal Nieuws', 'Rijnmond',\n",
              "       'Rtv Drenthe', 'Rtv Noord', 'Rtv Oost', 'Rtv Utrecht',\n",
              "       'Schipholonderzoek', 'Slavernijverleden', 'Songfestival ',\n",
              "       'Stikstofcrisis', 'Strijd In Sudan', 'Treinongeluk', 'Turkije Kiest',\n",
              "       'Verkiezingen', 'Wangedrag Supporters', 'Watersnoodramp', 'Wk Voetbal',\n",
              "       'Woningcorporaties'],\n",
              "      dtype='object')"
            ]
          },
          "metadata": {},
          "execution_count": 9
        }
      ]
    },
    {
      "cell_type": "markdown",
      "metadata": {
        "id": "lMnZgp90-Y7R"
      },
      "source": [
        "# Clustering with Latent Dirichlet Allocation (LDA)"
      ]
    },
    {
      "cell_type": "code",
      "source": [
        "%pip install -U gensim --quiet"
      ],
      "metadata": {
        "id": "wXiy7e3wvTfP"
      },
      "execution_count": 10,
      "outputs": []
    },
    {
      "cell_type": "code",
      "metadata": {
        "id": "dA1Ek-yR4BBG"
      },
      "source": [
        "from pprint import pprint # for printing objects nicely\n",
        "\n",
        "from gensim import corpora, models\n",
        "from gensim.utils import simple_preprocess\n",
        "\n",
        "## Instead of the gensim English stopwords...\n",
        "# from gensim.parsing.preprocessing import STOPWORDS\n",
        "## ...I will use nltk's Dutch stopwords:\n",
        "from nltk.corpus import stopwords\n",
        "\n",
        "from nltk.stem.snowball import SnowballStemmer\n",
        "from nltk.stem.porter import *\n",
        "\n",
        "import numpy as np\n",
        "\n",
        "from random import choice\n",
        "import random # I import this to get random number of articles from the file that I will work with\n",
        "\n",
        "np.random.seed(1234)"
      ],
      "execution_count": 11,
      "outputs": []
    },
    {
      "cell_type": "code",
      "source": [
        "# Initialize the Stemmers\n",
        "stemmer = SnowballStemmer('dutch')\n",
        "dutch_stop_words = set(stopwords.words('dutch'))\n",
        "\n",
        "\n",
        "def lemmatize_stemming(text):\n",
        "  \"\"\"lemmatize and stem a word\"\"\"\n",
        "  return stemmer.stem(text)\n",
        "\n",
        "\n",
        "def preprocess(text):\n",
        "  \"\"\"lemmatize and remove stopwords\"\"\"\n",
        "  result = [lemmatize_stemming(token)\n",
        "            for token in simple_preprocess(text)\n",
        "            if token not in dutch_stop_words and len(token) > 3]\n",
        "  return result\n"
      ],
      "metadata": {
        "id": "2zkoH-LZjmg6"
      },
      "execution_count": 12,
      "outputs": []
    },
    {
      "cell_type": "markdown",
      "metadata": {
        "id": "H9FeFqUmk7hJ"
      },
      "source": [
        "In our DataFrame, we have a table contains the articles and their topics.\n",
        "\n",
        "We only need the articles for this tasks - we will create our own topics. So, let's start by converting the articles column into a ist of all the articles:"
      ]
    },
    {
      "cell_type": "code",
      "metadata": {
        "id": "5Yk3kIqSjY6C",
        "outputId": "a8ddfe3e-73d6-41c2-d6d6-57b9c470b7c9",
        "colab": {
          "base_uri": "https://localhost:8080/"
        }
      },
      "source": [
        "all_articles = df_articles['content'].to_list()\n",
        "all_articles[:5]"
      ],
      "execution_count": 13,
      "outputs": [
        {
          "output_type": "execute_result",
          "data": {
            "text/plain": [
              "['De enige kerncentrale van Litouwen is oudjaarsavond om 23.00 uur buiten gebruik gesteld. Dat verliep zonder problemen, aldus de directeur. Litouwen beloofde al in 2004 om de centrale te sluiten in ruil voor toetreding tot de Europese Unie. De EU wilde sluiting omdat de kerncentrale bij de stad Visiginas mogelijk niet veilig was. Nucleaire ramp De centrale is een grotere versie van die bij Tsjernobyl. Die ontplofte in 1986 en veroorzaakte een nucleaire wolk die over een groot deel van Europa trok. Dat was de grootste nucleaire ramp in de geschiedenis. Voor Litouwen betekent de sluiting dat het land een goedkope bron van energie kwijt is. Het wordt nu veel afhankelijker van bijvoorbeeld gas uit Rusland. De kerncentrale leverde bijna driekwart van de Litouwse energiebehoefte.',\n",
              " 'Spanje is met ingang van vandaag voorzitter van de EU. De Zweedse premier Fredrik Reinfeldt heeft het stokje, formeel om middernacht, overgedragen aan zijn Spaanse collega José Luis Rodriguez Zapatero. Spanje is het eerste land dat het roulerend voorzitterschap overneemt onder het Verdrag van Lissabon, dat op 1 december in werking is getreden. Nieuwe functies De rol van het voorzitterschap is met het in werking treden van het Verdrag van Lissabon veranderd. Voortaan zal de Belg Herman van Rompuy de vergaderingen van de Europese Raad voorzitten. Van Rompuy vertegenwoordigt de EU ook internationaal, samen met de Britse Catherine Ashton. Zij is de buitenlandminister van de EU, ook een nieuwe functie. Spanje heeft het economisch herstel hoog op de agenda van de Europese Unie gezet. Van Rompuy organiseert volgende maand een extra EU-top over de aanpak van de economische crisis. Geslaagd De Zweden mogen terugzien op een geslaagd voorzitterschap. In het afgelopen half jaar kwam het nieuwe Verdrag er, werden er topbenoemingen geregeld en de kredietcrisis bestreden. Alleen de klimaattop in Kopenhagen was een project dat minder succesvol werd afgesloten. ',\n",
              " \"Vijf werknemers van het omstreden Amerikaanse beveilingingsbedrijf Blackwater gaan vrijuit voor hun aandeel in een dodelijke schietpartij in Bagdad. De mannen werden verdacht van het doodschieten van zeventien Irakese burgers in 2007. Een rechter in Washington bepaalde dat het bewijs tegen hen niet rechtmatig is verkregen en heeft de zaak daarom niet-ontvankelijk verklaard. Beloofd De verdachten was door rechercheurs beloofd dat hun verklaringen alleen gebruikt zouden worden voor het onderzoek naar de schietpartij en dat die geen rol zouden spelen in een strafzaak. Justitie had dus aanvullend bewijs moeten vergaren, maar is daar volgens de rechter niet in geslaagd. De schietpartij op een plein in Bagdad veroorzaakte wereldwijd verontwaardiging, omdat de slachtoffers ongewapende burgers waren. Blackwater verzorgde destijds de beveiliging van Amerikaanse diplomaten in Irak. Volgens het bedrijf schoten de beveiligers uit zelfverdediging, maar uit officieel onderzoek kwam een ander beeld naar voren. Geweldsincidenten Er bleken meer geweldsincidenten te zijn geweest en het werd duidelijk dat de bewakers van het bedrijf eigenlijk aan niemand verantwoording verschuldigd waren. Blackwater werd in 1997 opgericht door een aantal voormalige commando's. Na de schietpartij werd de leiding vervangen en kreeg het bedrijf een andere naam, Xe. Het bedrijf is niet meer werkzaam in Irak. Eerder dit jaar besloten de regeringen van Irak en de Verenigde Staten hun contracten met Blackwater niet te verlengen.\",\n",
              " 'Het Oud en Nieuwfeest op het Museumplein in Amsterdam heeft tussen de 40.000 en 45.000 bezoekers getrokken. Daarmee was het plein zo goed als vol. Het was de eerste keer dat het feest op het Museumplein werd gehouden. Tot nu toe werd het georganiseerd op de Dam, maar daar is maar plaats voor 30.000 mensen. De afgelopen jaren was het er dan ook veel te druk. Op het Museumplein waren optredens van onder anderen de sopraan Barbara Hannigan en de finalisten van de tv-talentenjacht Popstars. Hoofdact was Marco Borsato. De veiligheidsmaatregelen rond het feest waren streng. Er stonden hekken zodat het plein afgesloten kon worden als het te vol zou worden en alle bezoekers werden gefouilleerd. Ze mochten geen vuurwerk of glaswerk bij zich hebben. Er deden zich geen incidenten voor. Rotterdam In Rotterdam was er opnieuw een groot feest bij de Erasmusbrug. Daar zijn minder mensen naartoe gekomen dan verwacht. Er was op 20.000 bezoekers gerekend. Op het podium waren optredens van Di-RECT, Esmee Denters en Fedde LeGrand. Ook hier was de beveiliging streng. Zo liepen er veel particuliere bewakers rond. Vanaf het varende podium op de Maas wenste burgemeester Aboutaleb de Rotterdammers een goed 2010.',\n",
              " 'President Obama heeft de eerste rapporten gekregen over de mislukte aanslag op een vliegtuig bij Detroit. De rapporten gaan over de gaten in de beveiliging die het mogelijk maakten dat de Nigeriaanse dader met springstof aan boord kon komen van een vlucht naar de Verenigde Staten. Van de Nigeriaan bleken allerlei gegevens beschikbaar te zijn bij de verschillende Amerikaanse veiligheidsdiensten, maar die waren niet doorgegeven. Vakantie Obama spraak gisteren al met de minister van Binnenlandse Veiligheid, Janet Napolitano, en antiterrorisme-adviseur John Brennan. In de VS is bezorgd gereageerd op de activiteiten van de 23-jarige Nigeriaan. Obama is op vakantie in Hawaï, waar hij de voorlopige rapporten zal bestuderen. Dinsdag praat hij erover met de hoofden van de veiligheidsdiensten.']"
            ]
          },
          "metadata": {},
          "execution_count": 13
        }
      ]
    },
    {
      "cell_type": "code",
      "source": [
        "'''\n",
        "I will work with randomly selected 200 articles from the dataset:\n",
        "'''\n",
        "random.seed(42)\n",
        "\n",
        "random_articles = random.sample(all_articles, 200)"
      ],
      "metadata": {
        "id": "jDoPkxZKWgHV"
      },
      "execution_count": 14,
      "outputs": []
    },
    {
      "cell_type": "markdown",
      "metadata": {
        "id": "LNnJfuDllNhz"
      },
      "source": [
        "## Preprocessing\n",
        "\n",
        "Let's see an example, what happens when we pre-process a document.\n",
        "\n",
        "Look at the output of this cell, and compare the tokenized original document, to the lemmatized document:\n",
        "\n",
        "My observations: The lemmatized (preprocessed) document has fewer unique tokens/words because of the lemmatization, the removal of words of length 3 or shorter, and the removal of stopwords. Every token is in lowercase now."
      ]
    },
    {
      "cell_type": "code",
      "metadata": {
        "id": "oVI6_TKjjm2B",
        "outputId": "eac3c2ca-4023-4b94-ef60-9bbe07d2193a",
        "colab": {
          "base_uri": "https://localhost:8080/"
        }
      },
      "source": [
        "print('original document: ')\n",
        "article = choice(random_articles)\n",
        "print(article, \"\\n\")\n",
        "\n",
        "# This time, we don't care about punctuations as tokens (Can you think why?):\n",
        "print('original document, broken into words: ')\n",
        "words = [word for word in article.split(' ')]\n",
        "print(words, \"\\n\")\n",
        "print(\"Vocabulary size of the original article:\", len(set(words)))\n",
        "\n",
        "# now let's see what happens when we pass the article into our preprocessing\n",
        "# method:\n",
        "print('\\n\\n tokenized and lemmatized document: ')\n",
        "preprocessed_article = preprocess(article)\n",
        "print(preprocessed_article, '\\n')\n",
        "print(\"Vocabulary size after preprocessing:\", len(set(preprocessed_article)))\n"
      ],
      "execution_count": 15,
      "outputs": [
        {
          "output_type": "stream",
          "name": "stdout",
          "text": [
            "original document: \n",
            "Het fregat Hr. Ms.Tromp heeft gisteren twee Somalische piraten doodgeschoten. Zestien Somaliërs zijn opgepakt. De Somaliërs schoten vanaf een gekaapt Iraans vissersschip, dat door de Nederlanders werd bevrijd. Aan Nederlandse kant is volgens het ministerie van Defensie niemand gewond geraakt. De Somaliërs werden gedood toen vanaf de Tromp werd teruggeschoten. De piraten sloegen op de vlucht maar ze staakten de vluchtpoging toen er waarschuwingsschoten werden gelost. Later werd de Tromp nog genaderd door een ander gekaapt schip, maar dat maakte rechtsomkeert na schoten voor de boeg. \n",
            "\n",
            "original document, broken into words: \n",
            "['Het', 'fregat', 'Hr.', 'Ms.Tromp', 'heeft', 'gisteren', 'twee', 'Somalische', 'piraten', 'doodgeschoten.', 'Zestien', 'Somaliërs', 'zijn', 'opgepakt.', 'De', 'Somaliërs', 'schoten', 'vanaf', 'een', 'gekaapt', 'Iraans', 'vissersschip,', 'dat', 'door', 'de', 'Nederlanders', 'werd', 'bevrijd.', 'Aan', 'Nederlandse', 'kant', 'is', 'volgens', 'het', 'ministerie', 'van', 'Defensie', 'niemand', 'gewond', 'geraakt.', 'De', 'Somaliërs', 'werden', 'gedood', 'toen', 'vanaf', 'de', 'Tromp', 'werd', 'teruggeschoten.', 'De', 'piraten', 'sloegen', 'op', 'de', 'vlucht', 'maar', 'ze', 'staakten', 'de', 'vluchtpoging', 'toen', 'er', 'waarschuwingsschoten', 'werden', 'gelost.', 'Later', 'werd', 'de', 'Tromp', 'nog', 'genaderd', 'door', 'een', 'ander', 'gekaapt', 'schip,', 'maar', 'dat', 'maakte', 'rechtsomkeert', 'na', 'schoten', 'voor', 'de', 'boeg.'] \n",
            "\n",
            "Vocabulary size of the original article: 64\n",
            "\n",
            "\n",
            " tokenized and lemmatized document: \n",
            "['fregat', 'tromp', 'gister', 'twee', 'somalisch', 'pirat', 'doodgeschot', 'zestien', 'somalie', 'opgepakt', 'somalie', 'schot', 'vanaf', 'gekaapt', 'iran', 'vissersschip', 'nederlander', 'bevrijd', 'nederland', 'kant', 'volgen', 'ministerie', 'defensie', 'niemand', 'gewond', 'geraakt', 'somalie', 'werd', 'gedod', 'vanaf', 'tromp', 'teruggeschot', 'pirat', 'sloeg', 'vlucht', 'staakt', 'vluchtpog', 'werd', 'gelost', 'later', 'tromp', 'genaderd', 'ander', 'gekaapt', 'schip', 'maakt', 'rechtsomkeert', 'schot', 'boeg'] \n",
            "\n",
            "Vocabulary size after preprocessing: 40\n"
          ]
        }
      ]
    },
    {
      "cell_type": "markdown",
      "metadata": {
        "id": "DDVOwyaIlL52"
      },
      "source": [
        "Now let's pre-process all the documents.  \n",
        "This is a heavy procedure, and may take a bit ;)"
      ]
    },
    {
      "cell_type": "code",
      "metadata": {
        "id": "2pQYw_aYkq-_",
        "outputId": "d730ca9e-6a3a-475f-be5f-cbfacc514520",
        "colab": {
          "base_uri": "https://localhost:8080/"
        }
      },
      "source": [
        "processed_docs = list(map(preprocess, random_articles))\n",
        "processed_docs[:10]"
      ],
      "execution_count": 16,
      "outputs": [
        {
          "output_type": "execute_result",
          "data": {
            "text/plain": [
              "[['kliniek',\n",
              "  'bangkok',\n",
              "  'operaties',\n",
              "  'maand',\n",
              "  'uitvoert',\n",
              "  'waarbij',\n",
              "  'peniss',\n",
              "  'gebleekt',\n",
              "  'opsprak',\n",
              "  'gekom',\n",
              "  'social',\n",
              "  'media',\n",
              "  'medewerker',\n",
              "  'deeld',\n",
              "  'foto',\n",
              "  'facebok',\n",
              "  'geslachtsdel',\n",
              "  'witter',\n",
              "  'liet',\n",
              "  'mak',\n",
              "  'post',\n",
              "  'ker',\n",
              "  'gedeeld',\n",
              "  'riep',\n",
              "  'vrag',\n",
              "  'grenz',\n",
              "  'thais',\n",
              "  'maand',\n",
              "  'geled',\n",
              "  'begon',\n",
              "  'lelux',\n",
              "  'ziekenhuis',\n",
              "  'laser',\n",
              "  'peniss',\n",
              "  'behandel',\n",
              "  'melanin',\n",
              "  'afgebrok',\n",
              "  'waardor',\n",
              "  'penis',\n",
              "  'witter',\n",
              "  'kliniek',\n",
              "  'stat',\n",
              "  'bekend',\n",
              "  'operaties',\n",
              "  'lichaamsdel',\n",
              "  'witter',\n",
              "  'mak',\n",
              "  'vrag',\n",
              "  'soort',\n",
              "  'operaties',\n",
              "  'vertelt',\n",
              "  'bunthita',\n",
              "  'wattanasiri',\n",
              "  'ziekenhuis',\n",
              "  'werkt',\n",
              "  'persbureau',\n",
              "  'krijg',\n",
              "  'klant',\n",
              "  'maand',\n",
              "  'drie',\n",
              "  'vier',\n",
              "  'operatie',\n",
              "  'kost',\n",
              "  'ongever',\n",
              "  'euro',\n",
              "  'vijf',\n",
              "  'sessies',\n",
              "  'doelgroep',\n",
              "  'operaties',\n",
              "  'mann',\n",
              "  'leeftijd',\n",
              "  'vertelt',\n",
              "  'wattanasiri',\n",
              "  'daarvan',\n",
              "  'mak',\n",
              "  'del',\n",
              "  'thais',\n",
              "  'lgbt',\n",
              "  'gemeenschap',\n",
              "  'gemeenschap',\n",
              "  'thailand',\n",
              "  'alom',\n",
              "  'behandel',\n",
              "  'populair',\n",
              "  'homoseksuel',\n",
              "  'mann',\n",
              "  'travestiet',\n",
              "  'zorg',\n",
              "  'edel',\n",
              "  'del',\n",
              "  'zegt',\n",
              "  'medewerker',\n",
              "  'ziekenhuis',\n",
              "  'will',\n",
              "  'ieder',\n",
              "  'gebied',\n",
              "  'goed',\n",
              "  'uitzien',\n",
              "  'penis',\n",
              "  'blek',\n",
              "  'nooit',\n",
              "  'gehoord',\n",
              "  'vertelt',\n",
              "  'zuidoost',\n",
              "  'azie',\n",
              "  'correspondent',\n",
              "  'michel',\n",
              "  'mas',\n",
              "  'verbaast',\n",
              "  'ontwikkel',\n",
              "  'land',\n",
              "  'war',\n",
              "  'mens',\n",
              "  'donker',\n",
              "  'huidskleur',\n",
              "  'mogelijk',\n",
              "  'huid',\n",
              "  'vaker',\n",
              "  'thailand',\n",
              "  'vietnam',\n",
              "  'indonesie',\n",
              "  'bijvoorbeeld',\n",
              "  'sommig',\n",
              "  'afrikan',\n",
              "  'land',\n",
              "  'komt',\n",
              "  'donker',\n",
              "  'huidskleur',\n",
              "  'land',\n",
              "  'thailand',\n",
              "  'som',\n",
              "  'tek',\n",
              "  'armoed',\n",
              "  'vertelt',\n",
              "  'mas',\n",
              "  'krijg',\n",
              "  'mens',\n",
              "  'buit',\n",
              "  'werk',\n",
              "  'boer',\n",
              "  'bouwvakker',\n",
              "  'bijvoorbeeld',\n",
              "  'bent',\n",
              "  'bewijs',\n",
              "  'veroorlov',\n",
              "  'kunt',\n",
              "  'bijna',\n",
              "  'zeepjes',\n",
              "  'mak',\n",
              "  'kop',\n",
              "  'whiten',\n",
              "  'stat',\n",
              "  'zeld',\n",
              "  'krijg',\n",
              "  'fabrikant',\n",
              "  'zulk',\n",
              "  'product',\n",
              "  'kritiek',\n",
              "  'reclames',\n",
              "  'racistisch',\n",
              "  'zoud',\n",
              "  'moest',\n",
              "  'thais',\n",
              "  'bedrijf',\n",
              "  'video',\n",
              "  'verwijder',\n",
              "  'huid',\n",
              "  'witter',\n",
              "  'maakt',\n",
              "  'reclam',\n",
              "  'schrijft',\n",
              "  'populair',\n",
              "  'actric',\n",
              "  'succes',\n",
              "  'wit',\n",
              "  'huid',\n",
              "  'bangkok',\n",
              "  'open',\n",
              "  'vervoer',\n",
              "  'geadverteerd',\n",
              "  'poster',\n",
              "  'waarop',\n",
              "  'stond',\n",
              "  'allen',\n",
              "  'wit',\n",
              "  'mens',\n",
              "  'mog',\n",
              "  'zit',\n",
              "  'penisblek',\n",
              "  'operaties',\n",
              "  'enig',\n",
              "  'opmerk',\n",
              "  'vorm',\n",
              "  'cosmetisch',\n",
              "  'chirurgie',\n",
              "  'land',\n",
              "  'thailand',\n",
              "  'vertelt',\n",
              "  'mas',\n",
              "  'vooral',\n",
              "  'bangkok',\n",
              "  'stat',\n",
              "  'bekend',\n",
              "  'gezicht',\n",
              "  'goedkoper',\n",
              "  'land',\n",
              "  'gat',\n",
              "  'overigen',\n",
              "  'goed',\n",
              "  'vooral',\n",
              "  'operaties',\n",
              "  'silicon',\n",
              "  'gevar',\n",
              "  'som',\n",
              "  'achterkamertjes',\n",
              "  'winkelcentrum',\n",
              "  'gedan',\n",
              "  'internet',\n",
              "  'vel',\n",
              "  'voorbeeld',\n",
              "  'vind',\n",
              "  'operatie',\n",
              "  'mislukt',\n",
              "  'vertelt',\n",
              "  'mas',\n",
              "  'controler',\n",
              "  'daarvan',\n",
              "  'lelux',\n",
              "  'hospital',\n",
              "  'politie',\n",
              "  'inmiddel',\n",
              "  'bezoek',\n",
              "  'controler',\n",
              "  'kliniek',\n",
              "  'vergunn',\n",
              "  'behandel',\n",
              "  'inmiddel',\n",
              "  'facebookpost',\n",
              "  'waarin',\n",
              "  'behandel',\n",
              "  'getoond',\n",
              "  'offlin',\n",
              "  'gehaald',\n",
              "  'waarschuwd',\n",
              "  'thais',\n",
              "  'ministerie',\n",
              "  'gezond',\n",
              "  'bijwerk',\n",
              "  'operaties',\n",
              "  'zoal',\n",
              "  'litteken',\n",
              "  'brander',\n",
              "  'gevoel',\n",
              "  'hoeft',\n",
              "  'zorg',\n",
              "  'mak',\n",
              "  'vindt',\n",
              "  'woordvoerder',\n",
              "  'ziekenhuis',\n",
              "  'onz',\n",
              "  'behandel',\n",
              "  'volled',\n",
              "  'veilig',\n",
              "  'genitalie',\n",
              "  'blek',\n",
              "  'namelijk',\n",
              "  'vooral',\n",
              "  'gericht',\n",
              "  'kruis'],\n",
              " ['medewerker',\n",
              "  'verslavingszorg',\n",
              "  'roep',\n",
              "  'politiek',\n",
              "  'bezuin',\n",
              "  'geestelijk',\n",
              "  'gezondheidszorg',\n",
              "  'terug',\n",
              "  'draai',\n",
              "  'volgen',\n",
              "  'gat',\n",
              "  'zorg',\n",
              "  'terug',\n",
              "  'bezuin',\n",
              "  'doorgat',\n",
              "  'goed',\n",
              "  'opgeleid',\n",
              "  'personel',\n",
              "  'komt',\n",
              "  'strat',\n",
              "  'stan',\n",
              "  'schrijv',\n",
              "  'tien',\n",
              "  'brandbrief',\n",
              "  'politiek',\n",
              "  'waarschuw',\n",
              "  'maatschappij',\n",
              "  'uiteind',\n",
              "  'duurder',\n",
              "  'vrez',\n",
              "  'verslaafd',\n",
              "  'goed',\n",
              "  'geholp',\n",
              "  'beroep',\n",
              "  'gan',\n",
              "  'ziekenhuiz',\n",
              "  'dur',\n",
              "  'crisisopvang',\n",
              "  'bang',\n",
              "  'problem',\n",
              "  'terechtkom',\n",
              "  'gemeent',\n",
              "  'politie',\n",
              "  'justitie',\n",
              "  'schuldsaner',\n",
              "  'samenlev',\n",
              "  'uiteind',\n",
              "  'kost',\n",
              "  'zegg',\n",
              "  'verslavingszorg',\n",
              "  'valt',\n",
              "  'war',\n",
              "  'miljoen',\n",
              "  'euro',\n",
              "  'bezuinigd',\n",
              "  'zeker',\n",
              "  'arbeidsplaats',\n",
              "  'zull',\n",
              "  'verdwijn',\n",
              "  'liet',\n",
              "  'eerder',\n",
              "  'wet',\n",
              "  'betekent',\n",
              "  'neg',\n",
              "  'medewerker',\n",
              "  'ban',\n",
              "  'verliest'],\n",
              " ['twee',\n",
              "  'kamerled',\n",
              "  'kandidat',\n",
              "  'gesteld',\n",
              "  'voorzitterschap',\n",
              "  'twed',\n",
              "  'kamer',\n",
              "  'kamerlid',\n",
              "  'charlie',\n",
              "  'aptrot',\n",
              "  'pvda',\n",
              "  'kamerlid',\n",
              "  'gerdi',\n",
              "  'verbet',\n",
              "  'huidig',\n",
              "  'kamervoorzitter',\n",
              "  'verbet',\n",
              "  'voorzitter',\n",
              "  'sind',\n",
              "  'komend',\n",
              "  'period',\n",
              "  'extra',\n",
              "  'aandacht',\n",
              "  'gev',\n",
              "  'kamer',\n",
              "  'aptrot',\n",
              "  'bekend',\n",
              "  'tegenstander',\n",
              "  'vindt',\n",
              "  'kamer',\n",
              "  'efficie',\n",
              "  'gebruikt',\n",
              "  'beter',\n",
              "  'functioner',\n",
              "  'vanmiddag',\n",
              "  'nieuw',\n",
              "  'voorzitter',\n",
              "  'gekoz',\n",
              "  'tijden',\n",
              "  'kort',\n",
              "  'debat',\n",
              "  'led',\n",
              "  'twed',\n",
              "  'kamer',\n",
              "  'had',\n",
              "  'tijd',\n",
              "  'kandidat',\n",
              "  'stell'],\n",
              " ['oplucht',\n",
              "  'mens',\n",
              "  'gat',\n",
              "  'gemeent',\n",
              "  'amsterdam',\n",
              "  'vanaf',\n",
              "  'komend',\n",
              "  'schooljar',\n",
              "  'bijspring',\n",
              "  'minima',\n",
              "  'vrijwill',\n",
              "  'ouderbijdrag',\n",
              "  'basisschol',\n",
              "  'betal',\n",
              "  'kinder',\n",
              "  'arm',\n",
              "  'gezinn',\n",
              "  'schoolreisj',\n",
              "  'ouder',\n",
              "  'eigen',\n",
              "  'geld',\n",
              "  'besluit',\n",
              "  'gemeent',\n",
              "  'volgt',\n",
              "  'proef',\n",
              "  'stadspas',\n",
              "  'regel',\n",
              "  'vrijwill',\n",
              "  'ouderbijdrag',\n",
              "  'proef',\n",
              "  'liep',\n",
              "  'drie',\n",
              "  'jar',\n",
              "  'basisschol',\n",
              "  'leerling',\n",
              "  'arm',\n",
              "  'gezinn',\n",
              "  'kinder',\n",
              "  'vroeger',\n",
              "  'noodgedwong',\n",
              "  'schoolplein',\n",
              "  'blev',\n",
              "  'stan',\n",
              "  'vertrok',\n",
              "  'blij',\n",
              "  'stap',\n",
              "  'herinner',\n",
              "  'moeder',\n",
              "  'ker',\n",
              "  'vrijwilliger',\n",
              "  'schoolreisj',\n",
              "  'bek',\n",
              "  'berg',\n",
              "  'zodat',\n",
              "  'zegt',\n",
              "  'schrijver',\n",
              "  'presentator',\n",
              "  'cesar',\n",
              "  'majorana',\n",
              "  'middel',\n",
              "  'schol',\n",
              "  'ander',\n",
              "  'kreg',\n",
              "  'lijst',\n",
              "  'activiteit',\n",
              "  'jar',\n",
              "  'plaatsvond',\n",
              "  'bijbehor',\n",
              "  'kost',\n",
              "  'schoolreis',\n",
              "  'prag',\n",
              "  'barcelona',\n",
              "  'rom',\n",
              "  'kost',\n",
              "  'euro',\n",
              "  'moest',\n",
              "  'natur',\n",
              "  'geld',\n",
              "  'plek',\n",
              "  'gev',\n",
              "  'durfd',\n",
              "  'moeder',\n",
              "  'vrag',\n",
              "  'wild',\n",
              "  'bezwar',\n",
              "  'wist',\n",
              "  'opoffer',\n",
              "  'zodat',\n",
              "  'manier',\n",
              "  'wild',\n",
              "  'majorana',\n",
              "  'blef',\n",
              "  'schol',\n",
              "  'achter',\n",
              "  'maakt',\n",
              "  'wek',\n",
              "  'allerlei',\n",
              "  'vak',\n",
              "  'extra',\n",
              "  'opdracht',\n",
              "  'voelt',\n",
              "  'bijna',\n",
              "  'bestraft',\n",
              "  'bent',\n",
              "  'bestan',\n",
              "  'natur',\n",
              "  'allerlei',\n",
              "  'regel',\n",
              "  'potjes',\n",
              "  'mens',\n",
              "  'migratie',\n",
              "  'achtergrond',\n",
              "  'makkelijk',\n",
              "  'vind',\n",
              "  'moeder',\n",
              "  'cuban',\n",
              "  'bovendien',\n",
              "  'scham',\n",
              "  'regel',\n",
              "  'anderman',\n",
              "  'geld',\n",
              "  'afhank',\n",
              "  'inderdad',\n",
              "  'schol',\n",
              "  'gemeentes',\n",
              "  'special',\n",
              "  'potjes',\n",
              "  'regel',\n",
              "  'treff',\n",
              "  'ouder',\n",
              "  'krap',\n",
              "  'zit',\n",
              "  'all',\n",
              "  'ouder',\n",
              "  'will',\n",
              "  'durv',\n",
              "  'geldgebrek',\n",
              "  'gev',\n",
              "  'voormal',\n",
              "  'groenlink',\n",
              "  'politicus',\n",
              "  'tofik',\n",
              "  'dibi',\n",
              "  'schrijft',\n",
              "  'daarover',\n",
              "  'twitter',\n",
              "  'reacties',\n",
              "  'blijkt',\n",
              "  'sommig',\n",
              "  'ouder',\n",
              "  'zet',\n",
              "  'ervor',\n",
              "  'zorg',\n",
              "  'kind',\n",
              "  'schoolreisj',\n",
              "  'geld',\n",
              "  'eigen',\n",
              "  'hand',\n",
              "  'amsterdam',\n",
              "  'werkt',\n",
              "  'nieuw',\n",
              "  'regel',\n",
              "  'stadspas',\n",
              "  'ouder',\n",
              "  'procent',\n",
              "  'wettelijk',\n",
              "  'minimumlon',\n",
              "  'verdien',\n",
              "  'weinig',\n",
              "  'vermog',\n",
              "  'aanvrag',\n",
              "  'daarmee',\n",
              "  'krijg',\n",
              "  'minimagezinn',\n",
              "  'korting',\n",
              "  'bijvoorbeeld',\n",
              "  'zwembad',\n",
              "  'museum',\n",
              "  'reken',\n",
              "  'dierenart',\n",
              "  'strak',\n",
              "  'gemeent',\n",
              "  'vrag',\n",
              "  'euro',\n",
              "  'kind',\n",
              "  'lat',\n",
              "  'overmak',\n",
              "  'schol',\n",
              "  'ouderbijdrag',\n",
              "  'overigen',\n",
              "  'gekort',\n",
              "  'vrij',\n",
              "  'bested',\n",
              "  'euro',\n",
              "  'gezinn',\n",
              "  'ontvang',\n",
              "  'goed',\n",
              "  'oploss',\n",
              "  'zegt',\n",
              "  'majorana',\n",
              "  'hoewel',\n",
              "  'besluit',\n",
              "  'gemeent',\n",
              "  'mens',\n",
              "  'aangemoedigd',\n",
              "  'vrag',\n",
              "  'mens',\n",
              "  'regel',\n",
              "  'eerlijk',\n",
              "  'opzicht',\n",
              "  'ouder',\n",
              "  'bov',\n",
              "  'inkomensgren',\n",
              "  'stadspas',\n",
              "  'zit',\n",
              "  'kritiek',\n",
              "  'jar',\n",
              "  'gebezigd',\n",
              "  'term',\n",
              "  'vrijwill',\n",
              "  'ouderbijdrag',\n",
              "  'kinder',\n",
              "  'ouder',\n",
              "  'betal',\n",
              "  'simpelweg',\n",
              "  'mog',\n",
              "  'meedoen',\n",
              "  'allerlei',\n",
              "  'extra',\n",
              "  'activiteit',\n",
              "  'schol',\n",
              "  'volgen',\n",
              "  'basisonderwijs',\n",
              "  'rad',\n",
              "  'stat',\n",
              "  'term',\n",
              "  'vrijwill',\n",
              "  'inderdad',\n",
              "  'hak',\n",
              "  'kinder',\n",
              "  'schoolreisj',\n",
              "  'mog',\n",
              "  'vind',\n",
              "  'besluit',\n",
              "  'gemeent',\n",
              "  'amsterdam',\n",
              "  'mooi',\n",
              "  'gebar',\n",
              "  'wet',\n",
              "  'gemeentes',\n",
              "  'zull',\n",
              "  'volg',\n",
              "  'ieder',\n",
              "  'gemeent',\n",
              "  'geld'],\n",
              " ['jaarlijk',\n",
              "  'gan',\n",
              "  'mens',\n",
              "  'bedrijfsart',\n",
              "  'vanweg',\n",
              "  'gehoorschad',\n",
              "  'opgelop',\n",
              "  'tijden',\n",
              "  'werk',\n",
              "  'meest',\n",
              "  'werknemer',\n",
              "  'drag',\n",
              "  'werk',\n",
              "  'goed',\n",
              "  'filter',\n",
              "  'gevall',\n",
              "  'all',\n",
              "  'geluid',\n",
              "  'volgen',\n",
              "  'nederland',\n",
              "  'centrum',\n",
              "  'beroepsziekt',\n",
              "  'vooral',\n",
              "  'bouwvakker',\n",
              "  'gehoorklacht',\n",
              "  'bedrijfsart',\n",
              "  'kom',\n",
              "  'betekent',\n",
              "  'problem',\n",
              "  'sector',\n",
              "  'echt',\n",
              "  'groter',\n",
              "  'bouw',\n",
              "  'enig',\n",
              "  'branch',\n",
              "  'waarin',\n",
              "  'actief',\n",
              "  'gehoorschad',\n",
              "  'opgespoord',\n",
              "  'systematisch',\n",
              "  'preventief',\n",
              "  'medisch',\n",
              "  'onderzoek',\n",
              "  'zegt',\n",
              "  'ncvb',\n",
              "  'volgen',\n",
              "  'onderzoeker',\n",
              "  'industrie',\n",
              "  'weinig',\n",
              "  'onderzoek',\n",
              "  'gedan',\n",
              "  'naast',\n",
              "  'lawaai',\n",
              "  'chemicalie',\n",
              "  'gehoorschad',\n",
              "  'veroorzak'],\n",
              " ['komend',\n",
              "  'olympisch',\n",
              "  'spel',\n",
              "  'rusland',\n",
              "  'brazilie',\n",
              "  'holland',\n",
              "  'heinek',\n",
              "  'hous',\n",
              "  'gebouwd',\n",
              "  'war',\n",
              "  'nederland',\n",
              "  'sporter',\n",
              "  'fan',\n",
              "  'feest',\n",
              "  'bierfabrikant',\n",
              "  'sportkoepel',\n",
              "  'bekendgemaakt',\n",
              "  'lang',\n",
              "  'tijd',\n",
              "  'onzeker',\n",
              "  'winterspel',\n",
              "  'russisch',\n",
              "  'sotsji',\n",
              "  'februari',\n",
              "  'holland',\n",
              "  'heinek',\n",
              "  'hous',\n",
              "  'kom',\n",
              "  'gesprek',\n",
              "  'russisch',\n",
              "  'organisator',\n",
              "  'zoud',\n",
              "  'moeizam',\n",
              "  'verlop',\n",
              "  'hoevel',\n",
              "  'heinek',\n",
              "  'gat',\n",
              "  'betal',\n",
              "  'sponsor',\n",
              "  'zegg',\n",
              "  'holland',\n",
              "  'heinek',\n",
              "  'hous',\n",
              "  'plek',\n",
              "  'war',\n",
              "  'nederland',\n",
              "  'gehuldigd',\n",
              "  'eerst',\n",
              "  'spel',\n",
              "  'barcelona',\n",
              "  'neergezet',\n",
              "  'heinek',\n",
              "  'lat',\n",
              "  'wet',\n",
              "  'spel',\n",
              "  'janeiro',\n",
              "  'feestzal',\n",
              "  'ingericht'],\n",
              " ['groenlink',\n",
              "  'plus',\n",
              "  'kritiek',\n",
              "  'zorgakkoord',\n",
              "  'kabinet',\n",
              "  'vandag',\n",
              "  'werkgever',\n",
              "  'werknemer',\n",
              "  'geslot',\n",
              "  'twed',\n",
              "  'kamerlid',\n",
              "  'leijt',\n",
              "  'goed',\n",
              "  'woord',\n",
              "  'akkoord',\n",
              "  'rijn',\n",
              "  'winst',\n",
              "  'geboekt',\n",
              "  'bezuin',\n",
              "  'stan',\n",
              "  'recht',\n",
              "  'overeind',\n",
              "  'allen',\n",
              "  'reken',\n",
              "  'verplaatst',\n",
              "  'abvakabo',\n",
              "  'akkoord',\n",
              "  'gesteund',\n",
              "  'vindt',\n",
              "  'leijt',\n",
              "  'goed',\n",
              "  'tek',\n",
              "  'spreekt',\n",
              "  'gedrocht',\n",
              "  'akkoord',\n",
              "  'twed',\n",
              "  'kamerlid',\n",
              "  'fleur',\n",
              "  'agema',\n",
              "  'hoopt',\n",
              "  'protestgolf',\n",
              "  'land',\n",
              "  'vanweg',\n",
              "  'koningslied',\n",
              "  'vervolg',\n",
              "  'krijgt',\n",
              "  'zorgakkoord',\n",
              "  'tienduiz',\n",
              "  'verliez',\n",
              "  'ban',\n",
              "  'duizend',\n",
              "  'ouder',\n",
              "  'mog',\n",
              "  'vervuil',\n",
              "  'verkommer',\n",
              "  'hand',\n",
              "  'hart',\n",
              "  'aldus',\n",
              "  'agema',\n",
              "  'plus',\n",
              "  'vreest',\n",
              "  'mens',\n",
              "  'grag',\n",
              "  'thuis',\n",
              "  'will',\n",
              "  'blijv',\n",
              "  'won',\n",
              "  'plann',\n",
              "  'minder',\n",
              "  'goed',\n",
              "  'trek',\n",
              "  'akkoord',\n",
              "  'vandag',\n",
              "  'terug',\n",
              "  'adviseerd',\n",
              "  'henk',\n",
              "  'krol',\n",
              "  'vindt',\n",
              "  'bezuin',\n",
              "  'thuiszorg',\n",
              "  'sted',\n",
              "  'extrem',\n",
              "  'volgen',\n",
              "  'mona',\n",
              "  'keijzer',\n",
              "  'gat',\n",
              "  'vestzak',\n",
              "  'broekzakakkoord',\n",
              "  'vindt',\n",
              "  'jammer',\n",
              "  'akkoord',\n",
              "  'ban',\n",
              "  'terwijl',\n",
              "  'kwetsbar',\n",
              "  'mens',\n",
              "  'moet',\n",
              "  'gan',\n",
              "  'groenlink',\n",
              "  'vraagt',\n",
              "  'nullijn',\n",
              "  'echt',\n",
              "  'tafel',\n",
              "  'minister',\n",
              "  'schipper',\n",
              "  'verzekerd',\n",
              "  'kamer',\n",
              "  'nullijn',\n",
              "  'echt',\n",
              "  'tafel',\n",
              "  'augustus',\n",
              "  'opnieuw',\n",
              "  'bezuin',\n",
              "  'komt',\n",
              "  'christenunie',\n",
              "  'vrag',\n",
              "  'akkoord',\n",
              "  'vraagt',\n",
              "  'war',\n",
              "  'financie',\n",
              "  'bijsluiter',\n",
              "  'akkoord',\n",
              "  'christenunie',\n",
              "  'will',\n",
              "  'uitwerk',\n",
              "  'wet',\n",
              "  'partij',\n",
              "  'positief',\n",
              "  'akkoord',\n",
              "  'veren',\n",
              "  'nederland',\n",
              "  'gemeent',\n",
              "  'gematigd',\n",
              "  'positief',\n",
              "  'zorgakkoord',\n",
              "  'vind',\n",
              "  'gemeent',\n",
              "  'weinig',\n",
              "  'betrok',\n",
              "  'overleg',\n",
              "  'zorgbeleid',\n",
              "  'wijz',\n",
              "  'erop',\n",
              "  'uitvoer',\n",
              "  'zorgtak',\n",
              "  'tevred',\n",
              "  'afsprak',\n",
              "  'mens',\n",
              "  'gebruik',\n",
              "  'mak',\n",
              "  'huishoud',\n",
              "  'hulp',\n",
              "  'dagbested',\n",
              "  'regeerakkoord',\n",
              "  'afgesprok',\n",
              "  'uitvoer',\n",
              "  'voldoend',\n",
              "  'geld',\n",
              "  'beschik',\n",
              "  'gesteld',\n",
              "  'benadrukt',\n",
              "  'zorgakkoord',\n",
              "  'krijgt',\n",
              "  'automatisch',\n",
              "  'meerder',\n",
              "  'eerst',\n",
              "  'kamer',\n",
              "  'plann',\n",
              "  'krijg',\n",
              "  'coalitie',\n",
              "  'steun',\n",
              "  'partij',\n",
              "  'nodig',\n",
              "  'pvda',\n",
              "  'meerder',\n",
              "  'eerst',\n",
              "  'kamer'],\n",
              " ['politie',\n",
              "  'lond',\n",
              "  'verward',\n",
              "  'opgepakt',\n",
              "  'onrust',\n",
              "  'zorgd',\n",
              "  'kantoorgebouw',\n",
              "  'brit',\n",
              "  'media',\n",
              "  'bericht',\n",
              "  'mens',\n",
              "  'gijzel',\n",
              "  'houd',\n",
              "  'politie',\n",
              "  'ontkend',\n",
              "  'drong',\n",
              "  'begin',\n",
              "  'middag',\n",
              "  'kantor',\n",
              "  'binn',\n",
              "  'tottenham',\n",
              "  'court',\n",
              "  'road',\n",
              "  'volgen',\n",
              "  'ooggetu',\n",
              "  'dreigd',\n",
              "  'zichzelf',\n",
              "  'blaz',\n",
              "  'voormal',\n",
              "  'klant',\n",
              "  'rijschol',\n",
              "  'hetzelfd',\n",
              "  'gebouw',\n",
              "  'schreeuwd',\n",
              "  'lev',\n",
              "  'grot',\n",
              "  'rijbewijs',\n",
              "  'hal',\n",
              "  'gooid',\n",
              "  'vanaf',\n",
              "  'vijfd',\n",
              "  'verdiep',\n",
              "  'computer',\n",
              "  'meubel',\n",
              "  'strat',\n",
              "  'politie',\n",
              "  'arriveerd',\n",
              "  'omgev',\n",
              "  'afgezet',\n",
              "  'contact',\n",
              "  'gelegd',\n",
              "  'uiteind',\n",
              "  'wist',\n",
              "  'onderhandelar',\n",
              "  'kalmt',\n",
              "  'breng',\n",
              "  'even',\n",
              "  'plaatselijk',\n",
              "  'tijd'],\n",
              " ['meest',\n",
              "  'prestigieuz',\n",
              "  'paardenrac',\n",
              "  'chaotisch',\n",
              "  'indigd',\n",
              "  'paard',\n",
              "  'eerst',\n",
              "  'finish',\n",
              "  'kwam',\n",
              "  'wegen',\n",
              "  'illegal',\n",
              "  'manoeuvr',\n",
              "  'daardor',\n",
              "  'uiteind',\n",
              "  'winnar',\n",
              "  'paard',\n",
              "  'waarvor',\n",
              "  'wedkantor',\n",
              "  'ker',\n",
              "  'inzet',\n",
              "  'terugbetaald',\n",
              "  'rac',\n",
              "  'ded',\n",
              "  'bijnam',\n",
              "  'spannendst',\n",
              "  'twee',\n",
              "  'minut',\n",
              "  'sport',\n",
              "  'jar',\n",
              "  'allen',\n",
              "  'had',\n",
              "  'scheidsrechter',\n",
              "  'ker',\n",
              "  'minut',\n",
              "  'nodig',\n",
              "  'uitslag',\n",
              "  'kom',\n",
              "  'jockey',\n",
              "  'aanwez',\n",
              "  'miljoen',\n",
              "  'kijker',\n",
              "  'moest',\n",
              "  'spanning',\n",
              "  'afwacht',\n",
              "  'laatst',\n",
              "  'meter',\n",
              "  'rac',\n",
              "  'hinderd',\n",
              "  'voorst',\n",
              "  'paard',\n",
              "  'maximum',\n",
              "  'security',\n",
              "  'twee',\n",
              "  'achterligger',\n",
              "  'kort',\n",
              "  'ban',\n",
              "  'stapp',\n",
              "  'twee',\n",
              "  'achteropkom',\n",
              "  'paard',\n",
              "  'moest',\n",
              "  'inhoud',\n",
              "  'evenal',\n",
              "  'twee',\n",
              "  'dier',\n",
              "  'direct',\n",
              "  'nadat',\n",
              "  'maximum',\n",
              "  'security',\n",
              "  'finishlijn',\n",
              "  'gepasseerd',\n",
              "  'tekend',\n",
              "  'jockey',\n",
              "  'protest',\n",
              "  'bestuder',\n",
              "  'beeld',\n",
              "  'gesprek',\n",
              "  'jockey',\n",
              "  'toegek',\n",
              "  'eerst',\n",
              "  'ker',\n",
              "  'geschiedenis',\n",
              "  'jar',\n",
              "  'oud',\n",
              "  'rac',\n",
              "  'winnar',\n",
              "  'meten',\n",
              "  'enig',\n",
              "  'diskwalificatie',\n",
              "  'stamt',\n",
              "  'later',\n",
              "  'blek',\n",
              "  'paard',\n",
              "  'doping',\n",
              "  'toegedi',\n",
              "  'besliss',\n",
              "  'nummer',\n",
              "  'country',\n",
              "  'hous',\n",
              "  'winnar',\n",
              "  'uitgeroep',\n",
              "  'doordat',\n",
              "  'paard',\n",
              "  'buitenban',\n",
              "  'liep',\n",
              "  'all',\n",
              "  'paard',\n",
              "  'minst',\n",
              "  'last',\n",
              "  'gehad',\n",
              "  'misstapp',\n",
              "  'maximum',\n",
              "  'security',\n",
              "  'uiteind',\n",
              "  'winnar',\n",
              "  'gold',\n",
              "  'vooraf',\n",
              "  'echt',\n",
              "  'dark',\n",
              "  'hor',\n",
              "  'kan',\n",
              "  'winst',\n",
              "  'slecht',\n",
              "  'paard',\n",
              "  'rac',\n",
              "  'lager',\n",
              "  'winkans',\n",
              "  'laatst',\n",
              "  'ker',\n",
              "  'paard',\n",
              "  'zulk',\n",
              "  'lag',\n",
              "  'odd',\n",
              "  'derby',\n",
              "  'underdog',\n",
              "  'donerail',\n",
              "  'stond',\n",
              "  'maximum',\n",
              "  'security',\n",
              "  'stond',\n",
              "  'vooraf',\n",
              "  'persbureau',\n",
              "  'gokker',\n",
              "  'verwoed',\n",
              "  'zoek',\n",
              "  'ging',\n",
              "  'weggegooid',\n",
              "  'wedformulier',\n",
              "  'sommig',\n",
              "  'speler',\n",
              "  'had',\n",
              "  'ticket',\n",
              "  'vloer',\n",
              "  'gegooid',\n",
              "  'zodra',\n",
              "  'hoord',\n",
              "  'maximum',\n",
              "  'security',\n",
              "  'eerst',\n",
              "  'finish',\n",
              "  'kwam',\n",
              "  'jockey',\n",
              "  'maximum',\n",
              "  'security',\n",
              "  'luis',\n",
              "  'saez',\n",
              "  'besliss',\n",
              "  'paard',\n",
              "  'reageerd',\n",
              "  'lawaai',\n",
              "  'publiek',\n",
              "  'wek',\n",
              "  'daarom',\n",
              "  'misschien',\n",
              "  'nooit',\n",
              "  'gevar',\n",
              "  'gebracht',\n",
              "  'eigenar',\n",
              "  'paard',\n",
              "  'woest',\n",
              "  'meest',\n",
              "  'flagrant',\n",
              "  'diskwalificatie',\n",
              "  'geschiedenis',\n",
              "  'paardensport',\n",
              "  'denkt',\n",
              "  'hoger',\n",
              "  'beroep',\n",
              "  'bitterzoet',\n",
              "  'zegt',\n",
              "  'eigenar',\n",
              "  'country',\n",
              "  'hous',\n",
              "  'wilt',\n",
              "  'liever',\n",
              "  'winn',\n",
              "  'duidelijk',\n",
              "  'rac',\n",
              "  'zodat',\n",
              "  'iederen',\n",
              "  'doorheeft',\n",
              "  'goed',\n",
              "  'paard',\n",
              "  'jockey',\n",
              "  'flavien',\n",
              "  'prat',\n",
              "  'country',\n",
              "  'hous',\n",
              "  'direct',\n",
              "  'rac',\n",
              "  'woord',\n",
              "  'gevoel',\n",
              "  'beschrijv'],\n",
              " ['rijk',\n",
              "  'betaalt',\n",
              "  'ruim',\n",
              "  'helft',\n",
              "  'bodemsaner',\n",
              "  'failliet',\n",
              "  'bedrijf',\n",
              "  'chemie',\n",
              "  'pack',\n",
              "  'moerdijk',\n",
              "  'chemie',\n",
              "  'pack',\n",
              "  'woed',\n",
              "  'januari',\n",
              "  'hevig',\n",
              "  'brand',\n",
              "  'waarbij',\n",
              "  'giftig',\n",
              "  'stoff',\n",
              "  'vrijkwam',\n",
              "  'grond',\n",
              "  'ernstig',\n",
              "  'vervuild',\n",
              "  'raakt',\n",
              "  'aanvank',\n",
              "  'dreigd',\n",
              "  'provincie',\n",
              "  'all',\n",
              "  'saneringskost',\n",
              "  'draai',\n",
              "  'faillissement',\n",
              "  'chemie',\n",
              "  'pack',\n",
              "  'provincie',\n",
              "  'gemeent',\n",
              "  'ministerie',\n",
              "  'infrastructur',\n",
              "  'milieu',\n",
              "  'geword',\n",
              "  'verdel',\n",
              "  'provincie',\n",
              "  'rijk',\n",
              "  'betal',\n",
              "  'ieder',\n",
              "  'miljoen',\n",
              "  'euro',\n",
              "  'kost',\n",
              "  'hoger',\n",
              "  'geraamd',\n",
              "  'betaald',\n",
              "  'rijkssubsidie',\n",
              "  'provincie']]"
            ]
          },
          "metadata": {},
          "execution_count": 16
        }
      ]
    },
    {
      "cell_type": "markdown",
      "metadata": {
        "id": "T8LndhI5mAGP"
      },
      "source": [
        "## Setting Up The Dictionary\n",
        "\n",
        "Our preprocessing is complete.\n",
        "\n",
        "We now need to calculate the occurance frequencies of each of our stemmed words. But first, we will create a vocabulary dictionary where every word appears once. Every article would be represented as a [bag-of-words](https://en.wikipedia.org/wiki/Bag-of-words_model), an unordered set of words that the article contain.\n",
        "\n",
        "---\n",
        "\n",
        "Q: Why is it called bag-of-words?\n",
        "\n",
        "Hint: Think about your probability lessons - where you had randomly picked out white or black balls out of a bag...\n",
        "\n",
        "My guess: Well, the order is lost in the bag-of-words approach, so we can image it like a bag per article in which we throw all the words of that article, with their respective frequency (meaning that if the word \"dairy\" appears 3 times in the article, it is also 3 times in our bag). Then we could imagine to randomly pick a word out of our article-bag and the probability of picking that word would be its frequency divided by all the words (again, including duplicates)."
      ]
    },
    {
      "cell_type": "code",
      "metadata": {
        "id": "pj6CI60KlF0N"
      },
      "source": [
        "dictionary = corpora.Dictionary(processed_docs)\n"
      ],
      "execution_count": 18,
      "outputs": []
    },
    {
      "cell_type": "markdown",
      "metadata": {
        "id": "KiaCJuuXmkDV"
      },
      "source": [
        "Let's take a look:"
      ]
    },
    {
      "cell_type": "code",
      "metadata": {
        "id": "F0DJqlhimfns",
        "outputId": "a887c3fd-c2f6-4627-d287-e620c8d68093",
        "colab": {
          "base_uri": "https://localhost:8080/"
        }
      },
      "source": [
        "for idx, (k, v) in enumerate(dictionary.iteritems()):\n",
        "    print(k, v)\n",
        "    if idx >= 10:\n",
        "        break\n",
        "\n",
        "\n",
        "### BTW: `enumerate` is a great python function!\n",
        "### It automatically creates an index, an auto-incremented counter variable,\n",
        "### that represents the position of every object in the collection.\n",
        "\n",
        "### Read more about it here: https://realpython.com/python-enumerate/"
      ],
      "execution_count": 19,
      "outputs": [
        {
          "output_type": "stream",
          "name": "stdout",
          "text": [
            "0 achterkamertjes\n",
            "1 actric\n",
            "2 afgebrok\n",
            "3 afrikan\n",
            "4 allen\n",
            "5 alom\n",
            "6 armoed\n",
            "7 azie\n",
            "8 bangkok\n",
            "9 bedrijf\n",
            "10 begon\n"
          ]
        }
      ]
    },
    {
      "cell_type": "markdown",
      "metadata": {
        "id": "XLT9Y9LImtv_"
      },
      "source": [
        "Second, we filter the tokens that may appear to often.\n",
        "\n",
        "We have full control on the process."
      ]
    },
    {
      "cell_type": "markdown",
      "metadata": {
        "id": "8LtlVAJEa6vp"
      },
      "source": [
        "### Model Hyperparameter tuning"
      ]
    },
    {
      "cell_type": "markdown",
      "source": [
        "### Your Turn:\n",
        "#### Exercise 1 - Hyperparameter effect on the model output:\n",
        "**Q:** How would changing these parameters influence the result?  \n",
        "After running this example, please return here to change them and try them out.\n",
        "\n",
        "ANSWER: I will answer this question at the bottom of this Colab file!\n"
      ],
      "metadata": {
        "id": "yHsgesK9dW7j"
      }
    },
    {
      "cell_type": "code",
      "metadata": {
        "id": "KSwEk-wcBKEg"
      },
      "source": [
        "## Model hyper parameters:\n",
        "\n",
        "## These are the dictionary preparation parameters:\n",
        "filter_tokens_if_container_documents_are_less_than = 5\n",
        "filter_tokens_if_appeared_percentage_more_than = 0.8\n",
        "keep_the_first_n_tokens=100000\n",
        "\n",
        "## and the LDA Parameters:\n",
        "num_of_topics = 20"
      ],
      "execution_count": 20,
      "outputs": []
    },
    {
      "cell_type": "code",
      "metadata": {
        "id": "zelcg-UUmiVx"
      },
      "source": [
        "dictionary.filter_extremes(\n",
        "    no_below=filter_tokens_if_container_documents_are_less_than,\n",
        "    no_above=filter_tokens_if_appeared_percentage_more_than,\n",
        "    keep_n=keep_the_first_n_tokens)\n"
      ],
      "execution_count": 21,
      "outputs": []
    },
    {
      "cell_type": "markdown",
      "metadata": {
        "id": "EsknGryxnx0X"
      },
      "source": [
        "We now create a [bag-of-words](https://en.wikipedia.org/wiki/Bag-of-words_model) (BOW) dictionary for each document, using [gensim's dictionary](https://radimrehurek.com/gensim/corpora/dictionary.html) tool.\n",
        "\n",
        "It will be in the format of:\n",
        "\n",
        "```{ 'word_id': count }```\n"
      ]
    },
    {
      "cell_type": "code",
      "metadata": {
        "id": "u1CsbhJcntUW",
        "colab": {
          "base_uri": "https://localhost:8080/"
        },
        "outputId": "69c64919-e9f5-4374-cec1-3be5f7aeab2e"
      },
      "source": [
        "bow_corpus = [dictionary.doc2bow(doc) for doc in processed_docs]\n",
        "print(len(bow_corpus))"
      ],
      "execution_count": 22,
      "outputs": [
        {
          "output_type": "stream",
          "name": "stdout",
          "text": [
            "200\n"
          ]
        }
      ]
    },
    {
      "cell_type": "markdown",
      "metadata": {
        "id": "RmHQyMKXokyq"
      },
      "source": [
        "Let's take a look at the result.\n",
        "\n",
        "Our corpus contains now only word_ids, not the words themselves, so we have to peek into the dictionary to know which word that id represents:"
      ]
    },
    {
      "cell_type": "code",
      "metadata": {
        "id": "dD6n6MNnoSBH",
        "outputId": "fcf99eed-e50a-4b07-9bef-706baa9f3b2c",
        "colab": {
          "base_uri": "https://localhost:8080/"
        }
      },
      "source": [
        "# randomly choose an article from the corpus:\n",
        "sample_bow_doc = choice(bow_corpus)\n",
        "\n",
        "print('The processed bag-of-word document is just pairs of (word_id, # of occurnces) and looks like this:')\n",
        "print(sample_bow_doc, '\\n\\n')\n",
        "\n",
        "print ('We peek in the dictionary: for each word_id, we get its assigned word:')\n",
        "for word_id, word_freq in sample_bow_doc:\n",
        "  real_word = dictionary[word_id]\n",
        "  print(f'Word #{word_id} (\"{real_word}\") appears {word_freq} time.')\n"
      ],
      "execution_count": 23,
      "outputs": [
        {
          "output_type": "stream",
          "name": "stdout",
          "text": [
            "The processed bag-of-word document is just pairs of (word_id, # of occurnces) and looks like this:\n",
            "[(12, 1), (50, 1), (84, 1), (88, 1), (199, 1), (349, 1), (385, 1), (408, 1), (605, 1), (642, 1), (648, 1), (654, 1), (749, 1), (813, 1)] \n",
            "\n",
            "\n",
            "We peek in the dictionary: for each word_id, we get its assigned word:\n",
            "Word #12 (\"del\") appears 1 time.\n",
            "Word #50 (\"mens\") appears 1 time.\n",
            "Word #84 (\"vooral\") appears 1 time.\n",
            "Word #88 (\"waarbij\") appears 1 time.\n",
            "Word #199 (\"twitter\") appears 1 time.\n",
            "Word #349 (\"raakt\") appears 1 time.\n",
            "Word #385 (\"gewond\") appears 1 time.\n",
            "Word #408 (\"tientall\") appears 1 time.\n",
            "Word #605 (\"dod\") appears 1 time.\n",
            "Word #642 (\"aanslag\") appears 1 time.\n",
            "Word #648 (\"gisteravond\") appears 1 time.\n",
            "Word #654 (\"duit\") appears 1 time.\n",
            "Word #749 (\"viel\") appears 1 time.\n",
            "Word #813 (\"twaalf\") appears 1 time.\n"
          ]
        }
      ]
    },
    {
      "cell_type": "markdown",
      "metadata": {
        "id": "jdEpXnWNrR4H"
      },
      "source": [
        "## LDA model using Bag-of-words\n",
        "\n",
        "Let's start by applying the LDA model using the bag-of-words (Warning: this could take a while):"
      ]
    },
    {
      "cell_type": "code",
      "metadata": {
        "id": "84CchtGap73H",
        "colab": {
          "base_uri": "https://localhost:8080/"
        },
        "outputId": "4624297d-ce0d-47f3-b608-91c4af47c807"
      },
      "source": [
        "lda_model = models.LdaMulticore(bow_corpus,\n",
        "                                num_topics=num_of_topics,\n",
        "                                id2word=dictionary,\n",
        "                                passes=5,\n",
        "                                workers=2)"
      ],
      "execution_count": 24,
      "outputs": [
        {
          "output_type": "stream",
          "name": "stderr",
          "text": [
            "WARNING:gensim.models.ldamulticore:too few updates, training might not converge; consider increasing the number of passes or iterations to improve accuracy\n"
          ]
        }
      ]
    },
    {
      "cell_type": "markdown",
      "metadata": {
        "id": "oqm3NWaGrYzC"
      },
      "source": [
        "It is done!\n",
        "\n",
        "Now we can observe which topics the model had extracted from the documents.\n",
        "\n",
        "- *Topics* are made of sets of words and their distribution for that topic, representing their weight in that topic.\n",
        "- Every document may be composed of multiple topics, with different weights representing the relation to each topics.\n",
        "\n",
        "We will loop over the extracted topics and examine the words that construct them."
      ]
    },
    {
      "cell_type": "code",
      "metadata": {
        "id": "N83rLkRRrYYz",
        "outputId": "740250ed-ede2-44c3-ddba-846d7cb27dfd",
        "colab": {
          "base_uri": "https://localhost:8080/"
        }
      },
      "source": [
        "for idx, topic in lda_model.print_topics(num_of_topics):\n",
        "    print(f'Topic: {idx} \\t Words: {topic}')\n"
      ],
      "execution_count": 25,
      "outputs": [
        {
          "output_type": "stream",
          "name": "stdout",
          "text": [
            "Topic: 0 \t Words: 0.023*\"jar\" + 0.019*\"volgen\" + 0.017*\"land\" + 0.014*\"twee\" + 0.010*\"zegt\" + 0.009*\"werd\" + 0.009*\"gister\" + 0.009*\"grot\" + 0.008*\"nederland\" + 0.008*\"vandag\"\n",
            "Topic: 1 \t Words: 0.031*\"gemeent\" + 0.021*\"koning\" + 0.019*\"besluit\" + 0.017*\"auto\" + 0.013*\"jar\" + 0.013*\"regel\" + 0.012*\"nederland\" + 0.011*\"rechtbank\" + 0.010*\"volgen\" + 0.010*\"drie\"\n",
            "Topic: 2 \t Words: 0.018*\"twee\" + 0.017*\"jar\" + 0.017*\"stat\" + 0.014*\"vrouw\" + 0.012*\"kwam\" + 0.012*\"geled\" + 0.012*\"mens\" + 0.012*\"agent\" + 0.012*\"procent\" + 0.011*\"jarig\"\n",
            "Topic: 3 \t Words: 0.032*\"kamer\" + 0.030*\"pakistan\" + 0.019*\"twed\" + 0.019*\"geheim\" + 0.017*\"veroordeeld\" + 0.013*\"minister\" + 0.013*\"belgisch\" + 0.013*\"voorzitter\" + 0.013*\"tijden\" + 0.013*\"krant\"\n",
            "Topic: 4 \t Words: 0.022*\"mens\" + 0.019*\"ler\" + 0.017*\"video\" + 0.016*\"volgen\" + 0.014*\"zegt\" + 0.013*\"eerst\" + 0.013*\"had\" + 0.012*\"media\" + 0.010*\"rond\" + 0.010*\"bekend\"\n",
            "Topic: 5 \t Words: 0.031*\"ziekenhuis\" + 0.020*\"wegen\" + 0.020*\"komt\" + 0.018*\"provincie\" + 0.014*\"war\" + 0.014*\"zegt\" + 0.012*\"mens\" + 0.011*\"ministerie\" + 0.009*\"onderzoek\" + 0.009*\"all\"\n",
            "Topic: 6 \t Words: 0.028*\"mens\" + 0.028*\"gemeent\" + 0.025*\"pol\" + 0.019*\"nederland\" + 0.013*\"war\" + 0.012*\"limburg\" + 0.012*\"kwam\" + 0.010*\"werk\" + 0.010*\"land\" + 0.010*\"zegt\"\n",
            "Topic: 7 \t Words: 0.015*\"europes\" + 0.014*\"nederland\" + 0.012*\"nieuw\" + 0.012*\"maatregel\" + 0.011*\"gat\" + 0.011*\"jar\" + 0.011*\"land\" + 0.010*\"zegt\" + 0.010*\"moet\" + 0.010*\"mens\"\n",
            "Topic: 8 \t Words: 0.028*\"jar\" + 0.022*\"auto\" + 0.022*\"politie\" + 0.017*\"woning\" + 0.015*\"zegt\" + 0.011*\"jarig\" + 0.011*\"volgen\" + 0.011*\"minder\" + 0.011*\"nieuw\" + 0.011*\"agent\"\n",
            "Topic: 9 \t Words: 0.017*\"mens\" + 0.016*\"onderzoek\" + 0.015*\"volgen\" + 0.015*\"nederland\" + 0.015*\"huis\" + 0.013*\"jar\" + 0.013*\"zegt\" + 0.012*\"verdacht\" + 0.010*\"gan\" + 0.010*\"land\"\n",
            "Topic: 10 \t Words: 0.020*\"partij\" + 0.019*\"gat\" + 0.018*\"volgen\" + 0.016*\"land\" + 0.016*\"zegt\" + 0.014*\"nieuw\" + 0.014*\"euro\" + 0.014*\"reger\" + 0.014*\"fran\" + 0.014*\"minister\"\n",
            "Topic: 11 \t Words: 0.016*\"israe\" + 0.015*\"geld\" + 0.015*\"volgen\" + 0.015*\"kwam\" + 0.015*\"euro\" + 0.014*\"miljoen\" + 0.014*\"pakistan\" + 0.013*\"binn\" + 0.012*\"mens\" + 0.012*\"nederland\"\n",
            "Topic: 12 \t Words: 0.015*\"land\" + 0.015*\"euro\" + 0.015*\"minister\" + 0.013*\"gemeent\" + 0.012*\"eerst\" + 0.012*\"mens\" + 0.012*\"nten\" + 0.011*\"geld\" + 0.011*\"gebruik\" + 0.011*\"bijna\"\n",
            "Topic: 13 \t Words: 0.017*\"zegt\" + 0.017*\"elkar\" + 0.016*\"aanslag\" + 0.015*\"mens\" + 0.011*\"politie\" + 0.011*\"volgen\" + 0.011*\"israe\" + 0.010*\"gan\" + 0.009*\"hel\" + 0.009*\"goed\"\n",
            "Topic: 14 \t Words: 0.019*\"twee\" + 0.015*\"mens\" + 0.014*\"had\" + 0.012*\"tijd\" + 0.012*\"wer\" + 0.011*\"stat\" + 0.011*\"eerst\" + 0.010*\"grot\" + 0.010*\"volgen\" + 0.010*\"zegg\"\n",
            "Topic: 15 \t Words: 0.039*\"brit\" + 0.019*\"zegt\" + 0.017*\"amerikan\" + 0.016*\"media\" + 0.015*\"politie\" + 0.014*\"zull\" + 0.014*\"miljoen\" + 0.013*\"volgen\" + 0.011*\"wereldwijd\" + 0.010*\"stat\"\n",
            "Topic: 16 \t Words: 0.016*\"volgen\" + 0.015*\"zegt\" + 0.014*\"nederland\" + 0.013*\"mens\" + 0.012*\"onderzoek\" + 0.012*\"pakistan\" + 0.011*\"goed\" + 0.011*\"besmet\" + 0.011*\"buitenland\" + 0.010*\"moet\"\n",
            "Topic: 17 \t Words: 0.029*\"rotterdam\" + 0.021*\"miljoen\" + 0.018*\"vak\" + 0.017*\"jar\" + 0.016*\"werk\" + 0.014*\"volgen\" + 0.014*\"zegt\" + 0.014*\"slachtoffer\" + 0.013*\"stichting\" + 0.013*\"holland\"\n",
            "Topic: 18 \t Words: 0.029*\"jar\" + 0.016*\"procent\" + 0.014*\"zegt\" + 0.013*\"volgen\" + 0.010*\"miljoen\" + 0.010*\"nederland\" + 0.010*\"noord\" + 0.008*\"vijf\" + 0.008*\"allen\" + 0.008*\"politie\"\n",
            "Topic: 19 \t Words: 0.023*\"grot\" + 0.019*\"sted\" + 0.017*\"zoal\" + 0.017*\"zegt\" + 0.016*\"telefon\" + 0.015*\"ongeluk\" + 0.014*\"mens\" + 0.013*\"moet\" + 0.012*\"duitsland\" + 0.012*\"euro\"\n"
          ]
        }
      ]
    },
    {
      "cell_type": "markdown",
      "metadata": {
        "id": "CgCkLEelplF8"
      },
      "source": [
        "## TF / IDF\n",
        "\n",
        "Let's take it one step further. We will cluster our document by running the LDA using [TF/IDF](https://en.wikipedia.org/wiki/Tf%E2%80%93idf).\n",
        "\n",
        "We start with TF/IDF calculation on our bag-of-words.\n",
        "TF/IDF accepts a dictionary of word frequencies as an input, and it calculates the term frequency and the inversed document frequency accordingly.\n",
        "\n",
        "Its output is a re-weighted dictionary of the documents term frequencies:"
      ]
    },
    {
      "cell_type": "code",
      "metadata": {
        "id": "Xhj6Df56os0j",
        "outputId": "fca5099a-7d13-4356-a599-c89362de2b15",
        "colab": {
          "base_uri": "https://localhost:8080/"
        }
      },
      "source": [
        "# initialize a tfidf from our corpus\n",
        "tfidf = models.TfidfModel(bow_corpus)\n",
        "\n",
        "# apply it on our corpus\n",
        "tfidf_corpus = tfidf[bow_corpus]\n",
        "\n",
        "pprint(tfidf_corpus[0][:10])"
      ],
      "execution_count": 26,
      "outputs": [
        {
          "output_type": "stream",
          "name": "stdout",
          "text": [
            "[(0, 0.03420235371515244),\n",
            " (1, 0.058511070037302916),\n",
            " (2, 0.07920899336444842),\n",
            " (3, 0.4166371078978617),\n",
            " (4, 0.07050637163642252),\n",
            " (5, 0.04789424423823499),\n",
            " (6, 0.0997194565565183),\n",
            " (7, 0.11702214007460583),\n",
            " (8, 0.08332742157957235),\n",
            " (9, 0.055683782751587606)]\n"
          ]
        }
      ]
    },
    {
      "cell_type": "code",
      "source": [
        "# the new tfidf corpus is just our corpus - but transformed. It has the same size of documents:\n",
        "assert len(bow_corpus) == len(tfidf_corpus)"
      ],
      "metadata": {
        "id": "OdllL8StNLm2"
      },
      "execution_count": 27,
      "outputs": []
    },
    {
      "cell_type": "markdown",
      "metadata": {
        "id": "UZ-9a3gcsYts"
      },
      "source": [
        "Now let's apply LDA on the tfidf corpus, with the same amount of topics.\n",
        "\n",
        "You can play with the # of passes, if the model doesn't converge properly"
      ]
    },
    {
      "cell_type": "code",
      "metadata": {
        "id": "ihxND83irVSf",
        "outputId": "2789fedc-ee7b-4703-948f-5edce93f716c",
        "colab": {
          "base_uri": "https://localhost:8080/"
        }
      },
      "source": [
        "lda_model_tfidf = models.LdaMulticore(tfidf_corpus,\n",
        "                                      num_topics=num_of_topics,\n",
        "                                      id2word=dictionary,\n",
        "                                      passes=5,\n",
        "                                      workers=4)"
      ],
      "execution_count": 28,
      "outputs": [
        {
          "output_type": "stream",
          "name": "stderr",
          "text": [
            "WARNING:gensim.models.ldamulticore:too few updates, training might not converge; consider increasing the number of passes or iterations to improve accuracy\n"
          ]
        }
      ]
    },
    {
      "cell_type": "code",
      "source": [
        "for idx, topic in lda_model_tfidf.print_topics(num_of_topics):\n",
        "    print(f'Topic: {idx} \\t Word: {topic}')"
      ],
      "metadata": {
        "id": "adACX8kGihtG",
        "outputId": "08190876-4953-43a6-dcf3-110cd4ef85b0",
        "colab": {
          "base_uri": "https://localhost:8080/"
        }
      },
      "execution_count": 29,
      "outputs": [
        {
          "output_type": "stream",
          "name": "stdout",
          "text": [
            "Topic: 0 \t Word: 0.010*\"bank\" + 0.010*\"waard\" + 0.009*\"central\" + 0.009*\"provincie\" + 0.007*\"consument\" + 0.006*\"voorzitter\" + 0.006*\"familie\" + 0.006*\"verkop\" + 0.006*\"del\" + 0.006*\"vind\"\n",
            "Topic: 1 \t Word: 0.012*\"vrouw\" + 0.010*\"werk\" + 0.009*\"social\" + 0.008*\"noord\" + 0.008*\"moord\" + 0.008*\"brand\" + 0.008*\"agent\" + 0.007*\"terrein\" + 0.007*\"media\" + 0.006*\"problem\"\n",
            "Topic: 2 \t Word: 0.013*\"israe\" + 0.012*\"groenlink\" + 0.011*\"utrecht\" + 0.011*\"wegen\" + 0.011*\"liep\" + 0.010*\"verdwijn\" + 0.010*\"ziekenhuis\" + 0.009*\"rond\" + 0.008*\"augustus\" + 0.007*\"automobilist\"\n",
            "Topic: 3 \t Word: 0.010*\"lop\" + 0.009*\"journalist\" + 0.008*\"plaats\" + 0.008*\"pol\" + 0.008*\"brandwer\" + 0.008*\"kamer\" + 0.008*\"gemeent\" + 0.007*\"verdacht\" + 0.006*\"vrijgelat\" + 0.006*\"geplaatst\"\n",
            "Topic: 4 \t Word: 0.011*\"stichting\" + 0.008*\"dorp\" + 0.007*\"slachtoffer\" + 0.007*\"besmet\" + 0.007*\"mens\" + 0.007*\"vak\" + 0.006*\"reger\" + 0.006*\"radio\" + 0.006*\"geslot\" + 0.006*\"voormal\"\n",
            "Topic: 5 \t Word: 0.013*\"gemeent\" + 0.011*\"prijs\" + 0.010*\"veroordeeld\" + 0.009*\"miljoen\" + 0.009*\"huis\" + 0.009*\"europes\" + 0.008*\"slecht\" + 0.007*\"oekrai\" + 0.007*\"jar\" + 0.006*\"gebruik\"\n",
            "Topic: 6 \t Word: 0.013*\"procent\" + 0.009*\"groei\" + 0.009*\"komt\" + 0.008*\"supermarkt\" + 0.008*\"energie\" + 0.008*\"gewond\" + 0.007*\"economie\" + 0.007*\"miljoen\" + 0.007*\"pol\" + 0.006*\"veren\"\n",
            "Topic: 7 \t Word: 0.013*\"israe\" + 0.012*\"vrijdag\" + 0.011*\"pakistan\" + 0.010*\"kamer\" + 0.010*\"voer\" + 0.007*\"voorzitter\" + 0.007*\"bank\" + 0.007*\"nacht\" + 0.007*\"vrouw\" + 0.006*\"aanslag\"\n",
            "Topic: 8 \t Word: 0.011*\"twitter\" + 0.010*\"auto\" + 0.009*\"politie\" + 0.008*\"meisj\" + 0.008*\"agent\" + 0.007*\"normal\" + 0.007*\"ongeluk\" + 0.007*\"kritiek\" + 0.006*\"central\" + 0.006*\"veilig\"\n",
            "Topic: 9 \t Word: 0.019*\"agent\" + 0.011*\"politie\" + 0.011*\"aanslag\" + 0.009*\"stad\" + 0.008*\"holland\" + 0.008*\"provincie\" + 0.008*\"telefon\" + 0.008*\"aangehoud\" + 0.008*\"premier\" + 0.007*\"gehoud\"\n",
            "Topic: 10 \t Word: 0.012*\"ler\" + 0.011*\"koning\" + 0.011*\"partij\" + 0.009*\"akkoord\" + 0.009*\"zuid\" + 0.008*\"geslag\" + 0.008*\"rechter\" + 0.007*\"gemeent\" + 0.007*\"elkar\" + 0.006*\"burgemeester\"\n",
            "Topic: 11 \t Word: 0.010*\"procent\" + 0.008*\"nederland\" + 0.008*\"amerikan\" + 0.008*\"verdacht\" + 0.007*\"jar\" + 0.007*\"minder\" + 0.007*\"auto\" + 0.007*\"onderzoek\" + 0.007*\"belgisch\" + 0.006*\"vanweg\"\n",
            "Topic: 12 \t Word: 0.015*\"besmet\" + 0.009*\"maatregel\" + 0.008*\"onderzoek\" + 0.008*\"bedrijf\" + 0.008*\"winkel\" + 0.007*\"schuld\" + 0.006*\"ded\" + 0.006*\"bedrag\" + 0.006*\"basis\" + 0.006*\"italiaan\"\n",
            "Topic: 13 \t Word: 0.010*\"jongen\" + 0.010*\"buitenland\" + 0.008*\"bezuin\" + 0.007*\"geslot\" + 0.007*\"plek\" + 0.007*\"gevond\" + 0.007*\"dur\" + 0.007*\"medewerker\" + 0.006*\"waarschijn\" + 0.005*\"kinder\"\n",
            "Topic: 14 \t Word: 0.009*\"mens\" + 0.009*\"nieuw\" + 0.008*\"zegt\" + 0.007*\"dod\" + 0.007*\"land\" + 0.007*\"minister\" + 0.007*\"jarig\" + 0.007*\"aantal\" + 0.007*\"war\" + 0.006*\"vorig\"\n",
            "Topic: 15 \t Word: 0.012*\"schot\" + 0.011*\"woning\" + 0.010*\"groep\" + 0.009*\"bank\" + 0.008*\"pakistan\" + 0.008*\"virus\" + 0.008*\"kinder\" + 0.007*\"gewond\" + 0.007*\"aanslag\" + 0.007*\"deur\"\n",
            "Topic: 16 \t Word: 0.018*\"euro\" + 0.014*\"kost\" + 0.014*\"miljoen\" + 0.010*\"politie\" + 0.008*\"rotterdam\" + 0.008*\"goed\" + 0.008*\"hag\" + 0.008*\"kilometer\" + 0.008*\"extra\" + 0.007*\"grot\"\n",
            "Topic: 17 \t Word: 0.016*\"gemeent\" + 0.012*\"ouder\" + 0.010*\"sted\" + 0.009*\"echt\" + 0.008*\"ziekenhuis\" + 0.008*\"gesprek\" + 0.007*\"kinder\" + 0.007*\"maatregel\" + 0.007*\"hel\" + 0.007*\"gebeurt\"\n",
            "Topic: 18 \t Word: 0.011*\"universiteit\" + 0.011*\"vrijdag\" + 0.009*\"par\" + 0.007*\"wek\" + 0.007*\"veilig\" + 0.007*\"fout\" + 0.007*\"belangrijkst\" + 0.007*\"plann\" + 0.007*\"ded\" + 0.006*\"toesprak\"\n",
            "Topic: 19 \t Word: 0.009*\"klant\" + 0.008*\"rond\" + 0.008*\"brit\" + 0.008*\"grootst\" + 0.007*\"bell\" + 0.007*\"ontstan\" + 0.007*\"zull\" + 0.006*\"onz\" + 0.006*\"onzeker\" + 0.005*\"internet\"\n"
          ]
        }
      ]
    },
    {
      "cell_type": "markdown",
      "metadata": {
        "id": "f9HswwLLsw0X"
      },
      "source": [
        "## Inference\n",
        "\n",
        "Now that we have a topic-modeler, let's use it on one of the articles."
      ]
    },
    {
      "cell_type": "code",
      "metadata": {
        "id": "tQlSUn_CsbcX",
        "outputId": "50025710-cc9a-4acb-997b-7a350c840d38",
        "colab": {
          "base_uri": "https://localhost:8080/"
        }
      },
      "source": [
        "# randomly pick an article:\n",
        "test_doc = choice(range(len(processed_docs)))\n",
        "processed_docs[test_doc][:50]"
      ],
      "execution_count": 30,
      "outputs": [
        {
          "output_type": "execute_result",
          "data": {
            "text/plain": [
              "['christelijk',\n",
              " 'begraafplat',\n",
              " 'fran',\n",
              " 'dorpj',\n",
              " 'tracy',\n",
              " 'tientall',\n",
              " 'grav',\n",
              " 'beschadigd',\n",
              " 'eerder',\n",
              " 'wek',\n",
              " 'soortgelijk',\n",
              " 'incident',\n",
              " 'jod',\n",
              " 'begraafplat',\n",
              " 'oost',\n",
              " 'frankrijk',\n",
              " 'fran',\n",
              " 'minister',\n",
              " 'binnenland',\n",
              " 'zak',\n",
              " 'bernard',\n",
              " 'cazeneuv',\n",
              " 'bekend',\n",
              " 'dader',\n",
              " 'politie',\n",
              " 'spor',\n",
              " 'premier',\n",
              " 'vall',\n",
              " 'twitterd',\n",
              " 'walgt',\n",
              " 'gebeurteniss',\n",
              " 'tracy',\n",
              " 'noordwestkust',\n",
              " 'frankrijk',\n",
              " 'ligt']"
            ]
          },
          "metadata": {},
          "execution_count": 30
        }
      ]
    },
    {
      "cell_type": "markdown",
      "metadata": {
        "id": "Jt6oJJL8tiO_"
      },
      "source": [
        "Using the original BOW model:"
      ]
    },
    {
      "cell_type": "code",
      "metadata": {
        "id": "ZBbrSNDVszGW",
        "outputId": "7d80b550-147e-44e2-b4b3-bc8e0537cc8c",
        "colab": {
          "base_uri": "https://localhost:8080/"
        }
      },
      "source": [
        "for index, score in sorted(lda_model[bow_corpus[test_doc]], key=lambda tup: -1*tup[1]):\n",
        "    print(f\"Topic match score: {score} \\nTopic: {lda_model.print_topic(index, num_of_topics)}\")\n"
      ],
      "execution_count": 31,
      "outputs": [
        {
          "output_type": "stream",
          "name": "stdout",
          "text": [
            "Topic match score: 0.9472202062606812 \n",
            "Topic: 0.020*\"partij\" + 0.019*\"gat\" + 0.018*\"volgen\" + 0.016*\"land\" + 0.016*\"zegt\" + 0.014*\"nieuw\" + 0.014*\"euro\" + 0.014*\"reger\" + 0.014*\"fran\" + 0.014*\"minister\" + 0.013*\"maand\" + 0.013*\"frankrijk\" + 0.011*\"oekrai\" + 0.010*\"kort\" + 0.009*\"bekend\" + 0.009*\"jar\" + 0.009*\"miljoen\" + 0.009*\"nederland\" + 0.009*\"dinsdag\" + 0.009*\"krijg\"\n"
          ]
        }
      ]
    },
    {
      "cell_type": "markdown",
      "metadata": {
        "id": "hdz9qz-Atj3A"
      },
      "source": [
        "And with the TF/IDF model:"
      ]
    },
    {
      "cell_type": "code",
      "metadata": {
        "id": "XWHTDQjVtTyO",
        "outputId": "72163bb3-1b68-42c6-ee49-1259937558e5",
        "colab": {
          "base_uri": "https://localhost:8080/"
        }
      },
      "source": [
        "for index, score in sorted(lda_model_tfidf[bow_corpus[test_doc]], key=lambda tup: -1*tup[1]):\n",
        "    print(\"Topic match score: {}\\t \\nTopic: {}\".format(score, lda_model_tfidf.print_topic(index, num_of_topics)))"
      ],
      "execution_count": 32,
      "outputs": [
        {
          "output_type": "stream",
          "name": "stdout",
          "text": [
            "Topic match score: 0.9472188353538513\t \n",
            "Topic: 0.009*\"mens\" + 0.009*\"nieuw\" + 0.008*\"zegt\" + 0.007*\"dod\" + 0.007*\"land\" + 0.007*\"minister\" + 0.007*\"jarig\" + 0.007*\"aantal\" + 0.007*\"war\" + 0.006*\"vorig\" + 0.006*\"wek\" + 0.006*\"volgen\" + 0.006*\"zak\" + 0.006*\"had\" + 0.006*\"bekend\" + 0.006*\"tijd\" + 0.006*\"europes\" + 0.006*\"gat\" + 0.006*\"vandag\" + 0.006*\"eerder\"\n"
          ]
        }
      ]
    },
    {
      "cell_type": "markdown",
      "source": [
        "Calculating the [perplexity score](https://towardsdatascience.com/perplexity-in-language-models-87a196019a94) (lower is better):"
      ],
      "metadata": {
        "id": "Y6hgkxQ4RIzf"
      }
    },
    {
      "cell_type": "code",
      "source": [
        "print('Perplexity: ', lda_model.log_perplexity(bow_corpus))\n",
        "print('Perplexity TFIDF: ', lda_model_tfidf.log_perplexity(bow_corpus))"
      ],
      "metadata": {
        "colab": {
          "base_uri": "https://localhost:8080/"
        },
        "id": "hHtIgzTlw-gN",
        "outputId": "06d50a32-70d1-4262-e4fa-f6a66c6e8a43"
      },
      "execution_count": 33,
      "outputs": [
        {
          "output_type": "stream",
          "name": "stdout",
          "text": [
            "Perplexity:  -7.020839772642903\n",
            "Perplexity TFIDF:  -7.93722257790332\n"
          ]
        }
      ]
    },
    {
      "cell_type": "markdown",
      "metadata": {
        "id": "NZGXqV-TtyTm"
      },
      "source": [
        "### Exercise - inference\n",
        "\n",
        "Now please try it on a new document!\n",
        "\n",
        "Go to a news website, such as [orf.at](https://orf.at/) and copy an article of your choice here:"
      ]
    },
    {
      "cell_type": "code",
      "metadata": {
        "id": "Srd1NWjFtlqM",
        "outputId": "53d9bfff-ec5d-4799-bd0a-3438f760ad95",
        "colab": {
          "base_uri": "https://localhost:8080/"
        }
      },
      "source": [
        "unseen_document = \"\"\"FC Twente heeft woensdag in de KNVB-beker ternauwernood gewonnen van VV Katwijk. De tukkers hadden grote moeite met de amateurclub, maar wonnen met 2-3.\n",
        "FC Twente had in het winderige Katwijk nog een vliegende start en vond in de derde minuut al het net. De bal belandde vanuit een hoekschop voor de voeten van Alec Van Hoorenbeeck, die met een gelukje kon binnenwerken.\n",
        "\n",
        "Het leek een makkelijke avond te worden voor de tukkers, maar de thuisploeg besloot anders. Na een kwartier stond het plots 1-1 door een fraaie treffer van Robin Schulte. Katwijk, de nummer vier van de Tweede Divisie, kreeg vleugels en was voor rust dicht bij een voorsprong. Twente ontsnapte, omdat het bij Katwijk ontbrak aan nauwkeurigheid in de afronding.\n",
        "\n",
        "Twente-trainer Joseph Oosting moet in de rust een geweldige speech hebben gegeven, want de bezoekers kwamen na rust binnen vijf minuten met 3-1 voor. De net ingevallen Ricky van Wolfswinkel zorgde op aangeven van Sem Steijn voor de 2-1. Een paar minuten later maakte Bas Kuipers de 3-1.\n",
        "\n",
        "Katwijk, dat met een vuurwerkshow voor de aftrap enorm had uitgepakt voor de bekeravond, liet het hoofd niet hangen en maakte het Twente lastig. Mohammed Tahiri liet de thuisploeg geloven in een stunt toen hij in de 85e minuut de aansluitingstreffer binnenschoot. Het slotoffensief was niet genoeg om een verlenging af te dwingen.\n",
        "\n",
        "De volle bekeravond is nog lang niet voorbij. Volg alle duels in ons liveblog.\"\"\"\n",
        "\n",
        "bow_vector = dictionary.doc2bow(preprocess(unseen_document))\n",
        "\n",
        "print(\"Simply printing the lda_model output would look like this:\")\n",
        "pprint(lda_model[bow_vector])\n",
        "\n",
        "print(\"\\n\\nSo let's make it nicer, by printing the topic contents:\")\n",
        "for index, score in sorted(lda_model[bow_vector], key=lambda tup: -1*tup[1]):\n",
        "    print(\"Score: {}\\t Topic: {}\".format(score, lda_model.print_topic(index, 5)))\n"
      ],
      "execution_count": 34,
      "outputs": [
        {
          "output_type": "stream",
          "name": "stdout",
          "text": [
            "Simply printing the lda_model output would look like this:\n",
            "[(0, 0.30323246),\n",
            " (2, 0.20538136),\n",
            " (11, 0.25353816),\n",
            " (13, 0.11433935),\n",
            " (14, 0.10427464)]\n",
            "\n",
            "\n",
            "So let's make it nicer, by printing the topic contents:\n",
            "Score: 0.3029906749725342\t Topic: 0.023*\"jar\" + 0.019*\"volgen\" + 0.017*\"land\" + 0.014*\"twee\" + 0.010*\"zegt\"\n",
            "Score: 0.25352591276168823\t Topic: 0.016*\"israe\" + 0.015*\"geld\" + 0.015*\"volgen\" + 0.015*\"kwam\" + 0.015*\"euro\"\n",
            "Score: 0.205551415681839\t Topic: 0.018*\"twee\" + 0.017*\"jar\" + 0.017*\"stat\" + 0.014*\"vrouw\" + 0.012*\"kwam\"\n",
            "Score: 0.11434706300497055\t Topic: 0.017*\"zegt\" + 0.017*\"elkar\" + 0.016*\"aanslag\" + 0.015*\"mens\" + 0.011*\"politie\"\n",
            "Score: 0.10435087978839874\t Topic: 0.019*\"twee\" + 0.015*\"mens\" + 0.014*\"had\" + 0.012*\"tijd\" + 0.012*\"wer\"\n"
          ]
        }
      ]
    },
    {
      "cell_type": "code",
      "source": [],
      "metadata": {
        "id": "dig8d3oWR6xM"
      },
      "execution_count": 34,
      "outputs": []
    },
    {
      "cell_type": "markdown",
      "source": [
        "## Visualization"
      ],
      "metadata": {
        "id": "NOl16tMOsmYd"
      }
    },
    {
      "cell_type": "markdown",
      "source": [
        "Finally, there are packages that can visulaize the results, such as [pyLDAvis](https://pypi.org/project/pyLDAvis/) and [tmplot](https://pypi.org/project/tmplot/).\n",
        "\n",
        "Let's take a look at pyLDAvis visualization result.\n",
        "\n",
        "**Please note:** this is an old and unmaintained package. It is easier to run it in Google-Colab than on your laptop. But, if you still try running it locally, please try **lowering your python version** (3.6 / 3.6 / 3.8) when you create the poetry environment for this exercise."
      ],
      "metadata": {
        "id": "Am2p_6seTOOE"
      }
    },
    {
      "cell_type": "code",
      "source": [
        "%pip install pyLDAvis"
      ],
      "metadata": {
        "id": "ERQDi99Rs6dO",
        "colab": {
          "base_uri": "https://localhost:8080/"
        },
        "outputId": "63ee3ebc-3195-48c9-f5b7-499905b98b06"
      },
      "execution_count": 35,
      "outputs": [
        {
          "output_type": "stream",
          "name": "stdout",
          "text": [
            "Collecting pyLDAvis\n",
            "  Downloading pyLDAvis-3.4.1-py3-none-any.whl.metadata (4.2 kB)\n",
            "Requirement already satisfied: numpy>=1.24.2 in /usr/local/lib/python3.10/dist-packages (from pyLDAvis) (1.26.4)\n",
            "Requirement already satisfied: scipy in /usr/local/lib/python3.10/dist-packages (from pyLDAvis) (1.13.1)\n",
            "Requirement already satisfied: pandas>=2.0.0 in /usr/local/lib/python3.10/dist-packages (from pyLDAvis) (2.2.2)\n",
            "Requirement already satisfied: joblib>=1.2.0 in /usr/local/lib/python3.10/dist-packages (from pyLDAvis) (1.4.2)\n",
            "Requirement already satisfied: jinja2 in /usr/local/lib/python3.10/dist-packages (from pyLDAvis) (3.1.4)\n",
            "Requirement already satisfied: numexpr in /usr/local/lib/python3.10/dist-packages (from pyLDAvis) (2.10.2)\n",
            "Collecting funcy (from pyLDAvis)\n",
            "  Downloading funcy-2.0-py2.py3-none-any.whl.metadata (5.9 kB)\n",
            "Requirement already satisfied: scikit-learn>=1.0.0 in /usr/local/lib/python3.10/dist-packages (from pyLDAvis) (1.6.0)\n",
            "Requirement already satisfied: gensim in /usr/local/lib/python3.10/dist-packages (from pyLDAvis) (4.3.3)\n",
            "Requirement already satisfied: setuptools in /usr/local/lib/python3.10/dist-packages (from pyLDAvis) (75.1.0)\n",
            "Requirement already satisfied: python-dateutil>=2.8.2 in /usr/local/lib/python3.10/dist-packages (from pandas>=2.0.0->pyLDAvis) (2.8.2)\n",
            "Requirement already satisfied: pytz>=2020.1 in /usr/local/lib/python3.10/dist-packages (from pandas>=2.0.0->pyLDAvis) (2024.2)\n",
            "Requirement already satisfied: tzdata>=2022.7 in /usr/local/lib/python3.10/dist-packages (from pandas>=2.0.0->pyLDAvis) (2024.2)\n",
            "Requirement already satisfied: threadpoolctl>=3.1.0 in /usr/local/lib/python3.10/dist-packages (from scikit-learn>=1.0.0->pyLDAvis) (3.5.0)\n",
            "Requirement already satisfied: smart-open>=1.8.1 in /usr/local/lib/python3.10/dist-packages (from gensim->pyLDAvis) (7.0.5)\n",
            "Requirement already satisfied: MarkupSafe>=2.0 in /usr/local/lib/python3.10/dist-packages (from jinja2->pyLDAvis) (3.0.2)\n",
            "Requirement already satisfied: six>=1.5 in /usr/local/lib/python3.10/dist-packages (from python-dateutil>=2.8.2->pandas>=2.0.0->pyLDAvis) (1.17.0)\n",
            "Requirement already satisfied: wrapt in /usr/local/lib/python3.10/dist-packages (from smart-open>=1.8.1->gensim->pyLDAvis) (1.17.0)\n",
            "Downloading pyLDAvis-3.4.1-py3-none-any.whl (2.6 MB)\n",
            "\u001b[2K   \u001b[90m━━━━━━━━━━━━━━━━━━━━━━━━━━━━━━━━━━━━━━━━\u001b[0m \u001b[32m2.6/2.6 MB\u001b[0m \u001b[31m43.5 MB/s\u001b[0m eta \u001b[36m0:00:00\u001b[0m\n",
            "\u001b[?25hDownloading funcy-2.0-py2.py3-none-any.whl (30 kB)\n",
            "Installing collected packages: funcy, pyLDAvis\n",
            "Successfully installed funcy-2.0 pyLDAvis-3.4.1\n"
          ]
        }
      ]
    },
    {
      "cell_type": "code",
      "source": [
        "import pyLDAvis.gensim_models as gensimvis\n",
        "import pyLDAvis\n",
        "\n",
        "bow_lda_data = gensimvis.prepare(lda_model, bow_corpus, dictionary)\n",
        "\n",
        "pyLDAvis.display(bow_lda_data)"
      ],
      "metadata": {
        "colab": {
          "base_uri": "https://localhost:8080/",
          "height": 881
        },
        "id": "xwDURjMYslxZ",
        "outputId": "4092ad7a-e387-4183-eb67-d6d2de7940ae"
      },
      "execution_count": 36,
      "outputs": [
        {
          "output_type": "execute_result",
          "data": {
            "text/plain": [
              "<IPython.core.display.HTML object>"
            ],
            "text/html": [
              "\n",
              "<link rel=\"stylesheet\" type=\"text/css\" href=\"https://cdn.jsdelivr.net/gh/bmabey/pyLDAvis@3.4.0/pyLDAvis/js/ldavis.v1.0.0.css\">\n",
              "\n",
              "\n",
              "<div id=\"ldavis_el2971335217862187367685987326\" style=\"background-color:white;\"></div>\n",
              "<script type=\"text/javascript\">\n",
              "\n",
              "var ldavis_el2971335217862187367685987326_data = {\"mdsDat\": {\"x\": [-0.05044526724838954, -0.012629623386510936, 0.021562813472541867, -0.013812030927768013, 0.017887769372891514, 0.10866204736562798, 0.06159388052230223, -0.08193383192309273, 0.04571427373906476, -0.11276168200132268, -0.03575425368637035, -0.028687533275439627, 0.004873436838629597, 0.12496201043792134, -0.1444453087146872, -0.004704204008100076, 0.06834842798859064, 0.04874127042409555, 0.05778159651385212, -0.0749537915038368], \"y\": [0.03571971445285437, 0.05452092318497709, -0.00960944814834499, 0.02711648616040203, 0.0260816407770672, -0.0349104202070215, -0.01026421620062171, -0.008257214412271952, -0.006681476137526372, 0.10504016676453658, -0.06299853745852502, 0.056901477702520006, 0.08590837385720095, -0.018163126770889337, -0.048346915397430724, -0.028987640595387845, 0.06525415869272859, 0.06037414783832379, -0.1237495973580332, -0.1649484967445591], \"topics\": [1, 2, 3, 4, 5, 6, 7, 8, 9, 10, 11, 12, 13, 14, 15, 16, 17, 18, 19, 20], \"cluster\": [1, 1, 1, 1, 1, 1, 1, 1, 1, 1, 1, 1, 1, 1, 1, 1, 1, 1, 1, 1], \"Freq\": [14.55535083643629, 8.650762104519542, 8.586055034145875, 7.291783090748599, 6.675219751502073, 6.390294653681981, 5.087291913696348, 5.002421947498543, 4.781856147300722, 4.710775646028612, 3.9172541682972253, 3.856560488921822, 3.4518622856355297, 3.3725976752750806, 3.146102787569014, 2.8751879235324083, 2.8515237394199358, 1.9977593848043385, 1.9020255454133648, 0.897314875572698]}, \"tinfo\": {\"Term\": [\"gemeent\", \"brit\", \"miljoen\", \"kamer\", \"pakistan\", \"rotterdam\", \"auto\", \"minister\", \"mens\", \"zegt\", \"ziekenhuis\", \"politie\", \"euro\", \"pol\", \"koning\", \"grot\", \"maatregel\", \"eerst\", \"geld\", \"twed\", \"premier\", \"werk\", \"twee\", \"amerikan\", \"had\", \"onderzoek\", \"israe\", \"komt\", \"jar\", \"moet\", \"maatregel\", \"strak\", \"brussel\", \"onzeker\", \"dorp\", \"verander\", \"europes\", \"belang\", \"geldt\", \"nem\", \"commissie\", \"oekrai\", \"aanpass\", \"zorg\", \"voldoend\", \"central\", \"rut\", \"bank\", \"twintig\", \"gezegd\", \"spanj\", \"voorzitter\", \"ervan\", \"europa\", \"gezien\", \"daarvan\", \"augustus\", \"beter\", \"beperkt\", \"neemt\", \"april\", \"vlucht\", \"nodig\", \"politiek\", \"maart\", \"extra\", \"moet\", \"brit\", \"nieuw\", \"gat\", \"nederland\", \"ander\", \"land\", \"euro\", \"komt\", \"procent\", \"jar\", \"zegt\", \"mens\", \"wek\", \"gemeent\", \"kom\", \"volgen\", \"hel\", \"mak\", \"eerst\", \"minister\", \"goed\", \"boer\", \"onderzoekt\", \"jonger\", \"zon\", \"macht\", \"gooid\", \"oorzak\", \"ervor\", \"oorlog\", \"ben\", \"bang\", \"weigerd\", \"geslag\", \"geweld\", \"cijfer\", \"gehaald\", \"winkel\", \"bekek\", \"gezorgd\", \"vijf\", \"riep\", \"noord\", \"gemiddeld\", \"geslaagd\", \"actie\", \"supermarkt\", \"vind\", \"regelmat\", \"diend\", \"correspondent\", \"terug\", \"par\", \"procent\", \"jar\", \"groning\", \"rotterdam\", \"vertelt\", \"miljoen\", \"krijg\", \"allen\", \"zegt\", \"werd\", \"bedrijf\", \"volgen\", \"nederland\", \"minder\", \"politie\", \"vorig\", \"wek\", \"eerder\", \"ging\", \"zoal\", \"gat\", \"goed\", \"kwam\", \"afgelop\", \"war\", \"euro\", \"sluit\", \"strom\", \"jarenlang\", \"vlak\", \"brief\", \"onderdel\", \"gezet\", \"vervolgen\", \"demonstrant\", \"voordat\", \"breng\", \"gesprek\", \"reactie\", \"wijst\", \"viel\", \"unie\", \"gister\", \"denkt\", \"zuid\", \"licham\", \"begon\", \"mann\", \"voel\", \"oktober\", \"anti\", \"bevolk\", \"water\", \"begonn\", \"verzoek\", \"vakbond\", \"gevond\", \"president\", \"terrein\", \"later\", \"land\", \"twee\", \"jar\", \"volgen\", \"werd\", \"dod\", \"grot\", \"vandag\", \"vrag\", \"zegt\", \"zoud\", \"komt\", \"politie\", \"nederland\", \"sind\", \"gat\", \"war\", \"lat\", \"mens\", \"vorig\", \"stat\", \"rapport\", \"deur\", \"universiteit\", \"schuld\", \"situatie\", \"huis\", \"consument\", \"verdacht\", \"genoemd\", \"bell\", \"wedstrijd\", \"loopt\", \"verlat\", \"buitenlander\", \"degelijk\", \"organisaties\", \"uitkomst\", \"gesprok\", \"vanmiddag\", \"onderzoek\", \"advocat\", \"woordvoerder\", \"laatst\", \"niemand\", \"vanuit\", \"vertrouw\", \"woensdag\", \"actief\", \"groep\", \"kop\", \"zull\", \"verkocht\", \"hag\", \"gevar\", \"kinder\", \"lev\", \"zien\", \"buitenland\", \"gan\", \"kost\", \"nederland\", \"mens\", \"volgen\", \"kom\", \"vorig\", \"mogelijk\", \"wek\", \"zegt\", \"jar\", \"lat\", \"land\", \"euro\", \"will\", \"jarig\", \"amsterdam\", \"nieuw\", \"all\", \"aanslag\", \"automatisch\", \"israe\", \"elkar\", \"jaarlijk\", \"akkoord\", \"bericht\", \"hoofd\", \"lop\", \"grag\", \"plann\", \"facebok\", \"dergelijk\", \"erbij\", \"bezuin\", \"duurt\", \"partner\", \"blij\", \"vroeger\", \"contact\", \"beperkt\", \"economisch\", \"normal\", \"wedstrijd\", \"gezorgd\", \"wereld\", \"wijz\", \"sneller\", \"zelf\", \"merk\", \"verschill\", \"burgemeester\", \"vindt\", \"meerder\", \"denk\", \"bank\", \"gan\", \"sted\", \"zegt\", \"zoud\", \"hel\", \"politie\", \"mens\", \"goed\", \"manier\", \"lang\", \"aldus\", \"will\", \"echt\", \"volgen\", \"gat\", \"maand\", \"nieuw\", \"lat\", \"eerder\", \"allen\", \"nederland\", \"werd\", \"all\", \"onrust\", \"bezoeker\", \"trek\", \"twitter\", \"gekom\", \"mooi\", \"organisatie\", \"york\", \"automobilist\", \"voeld\", \"aanvank\", \"interview\", \"opmerk\", \"gemeld\", \"mocht\", \"som\", \"oost\", \"verplicht\", \"probeerd\", \"enkel\", \"netwerk\", \"klar\", \"sloeg\", \"bov\", \"had\", \"meter\", \"beginn\", \"juni\", \"liep\", \"bot\", \"oorlog\", \"wer\", \"tijd\", \"zegg\", \"vrouw\", \"twee\", \"huis\", \"open\", \"afgelop\", \"gewond\", \"stat\", \"eerst\", \"grot\", \"mens\", \"tijden\", \"aantal\", \"volgen\", \"tuss\", \"lang\", \"werd\", \"nieuw\", \"zegt\", \"allen\", \"goed\", \"lag\", \"besliss\", \"moord\", \"meter\", \"behandel\", \"gemeenschap\", \"duizend\", \"reageerd\", \"for\", \"geled\", \"verlor\", \"agent\", \"avond\", \"oud\", \"blek\", \"kwijt\", \"vrouw\", \"geslag\", \"gemiddeld\", \"stond\", \"gevoel\", \"nooit\", \"hor\", \"samenlev\", \"sterk\", \"dodelijk\", \"tegenover\", \"gehoud\", \"gehad\", \"persbureau\", \"direct\", \"stad\", \"veilig\", \"moest\", \"buit\", \"stat\", \"twee\", \"jarig\", \"kwam\", \"slachtoffer\", \"ker\", \"burgemeester\", \"vertelt\", \"procent\", \"jar\", \"mens\", \"land\", \"politie\", \"ging\", \"euro\", \"nederland\", \"zegt\", \"maand\", \"rechtbank\", \"koning\", \"besluit\", \"gebouw\", \"journalist\", \"vrijgelat\", \"stuk\", \"bedrag\", \"verlop\", \"vroeger\", \"rijd\", \"gemeent\", \"ouder\", \"rut\", \"moeder\", \"allerlei\", \"hoogst\", \"voormal\", \"regel\", \"band\", \"bevestigd\", \"lokal\", \"inhoud\", \"med\", \"onduid\", \"bestur\", \"teken\", \"inderdad\", \"daarmee\", \"gesprok\", \"auto\", \"wild\", \"kabinet\", \"drie\", \"geld\", \"kost\", \"premier\", \"kinder\", \"zet\", \"achter\", \"amsterdam\", \"natur\", \"nederland\", \"jar\", \"betal\", \"miljoen\", \"volgen\", \"gat\", \"minister\", \"zegt\", \"nieuw\", \"politie\", \"stat\", \"wet\", \"moet\", \"mens\", \"wek\", \"verband\", \"woning\", \"bekendgemaakt\", \"verkop\", \"vrijdag\", \"verkocht\", \"groenlink\", \"huiz\", \"verdwijn\", \"december\", \"informatie\", \"militair\", \"wijst\", \"auto\", \"agent\", \"russisch\", \"tekort\", \"vervolgd\", \"prober\", \"period\", \"sneller\", \"gebracht\", \"personel\", \"meisj\", \"bouw\", \"hoevel\", \"gekek\", \"par\", \"wereldwijd\", \"erbij\", \"waardor\", \"geval\", \"minder\", \"politie\", \"onzeker\", \"jarig\", \"zoud\", \"amerikan\", \"jar\", \"verwacht\", \"zak\", \"verdacht\", \"vorig\", \"onderzoek\", \"maand\", \"later\", \"zegt\", \"eerst\", \"nieuw\", \"eerder\", \"volgen\", \"war\", \"nederland\", \"komt\", \"procent\", \"mens\", \"virus\", \"miljard\", \"vervoer\", \"nten\", \"patie\", \"aanhanger\", \"prober\", \"gren\", \"benadrukt\", \"tijdelijk\", \"gevall\", \"gebruik\", \"trok\", \"rijd\", \"onderzoeker\", \"hoger\", \"ernstig\", \"bedrijv\", \"special\", \"bestat\", \"control\", \"personel\", \"bevestigd\", \"reken\", \"welk\", \"kabinet\", \"aandacht\", \"trek\", \"sector\", \"verbod\", \"kamer\", \"activiteit\", \"bijna\", \"minister\", \"geld\", \"betal\", \"total\", \"euro\", \"gemeent\", \"eerst\", \"land\", \"europes\", \"miljoen\", \"twed\", \"regel\", \"mens\", \"nederland\", \"ruim\", \"war\", \"jar\", \"krijg\", \"mogelijk\", \"tuss\", \"israe\", \"vrij\", \"vrijlat\", \"start\", \"prijs\", \"pakistan\", \"geregeld\", \"echter\", \"bronn\", \"journalist\", \"organisaties\", \"russisch\", \"bov\", \"led\", \"belgie\", \"bedrag\", \"italiaan\", \"verbod\", \"plan\", \"betaald\", \"zer\", \"binn\", \"incident\", \"betal\", \"over\", \"geld\", \"reger\", \"aangehoud\", \"actie\", \"ontkend\", \"algemen\", \"begin\", \"kwam\", \"miljoen\", \"belgisch\", \"allemal\", \"euro\", \"goed\", \"volgen\", \"grot\", \"nederland\", \"politie\", \"mens\", \"tijd\", \"premier\", \"bekend\", \"amerikan\", \"hel\", \"jar\", \"drie\", \"land\", \"vervolg\", \"bronn\", \"rechter\", \"besmet\", \"aangift\", \"degelijk\", \"meten\", \"pakistan\", \"recht\", \"vanavond\", \"advocat\", \"gepland\", \"stichting\", \"meld\", \"holland\", \"gezond\", \"aanwez\", \"toesprak\", \"hoewel\", \"naast\", \"buitenland\", \"groter\", \"verbod\", \"geslot\", \"afstand\", \"partner\", \"verkiez\", \"regio\", \"richt\", \"kan\", \"national\", \"international\", \"moord\", \"denkt\", \"onderzoek\", \"gevar\", \"zak\", \"goed\", \"moet\", \"volgen\", \"nederland\", \"aantal\", \"later\", \"zegt\", \"mens\", \"terug\", \"war\", \"tuss\", \"maatregel\", \"land\", \"vandag\", \"mogelijk\", \"gan\", \"gat\", \"jar\", \"wegen\", \"ziekenhuis\", \"provincie\", \"ziekenhuiz\", \"moeilijk\", \"aangift\", \"omgev\", \"uitdag\", \"jongen\", \"rijk\", \"vanmiddag\", \"onvoldo\", \"ministerie\", \"ogen\", \"geleid\", \"waarschijn\", \"waarbij\", \"voer\", \"dergelijk\", \"gang\", \"genom\", \"opnieuw\", \"centrum\", \"aangebod\", \"aanleid\", \"doordat\", \"februari\", \"geword\", \"radio\", \"ieder\", \"gevond\", \"patie\", \"komt\", \"bank\", \"justitie\", \"war\", \"ligt\", \"duidelijk\", \"del\", \"onderzoek\", \"all\", \"zegt\", \"mens\", \"plek\", \"zak\", \"kom\", \"mak\", \"bekend\", \"eerder\", \"vandag\", \"eerst\", \"euro\", \"volgen\", \"nederland\", \"kwam\", \"video\", \"ler\", \"voeld\", \"klant\", \"hetzelfd\", \"optred\", \"foto\", \"gezond\", \"reacties\", \"idee\", \"trot\", \"prijs\", \"bereik\", \"vriend\", \"zondag\", \"bied\", \"schuldig\", \"populair\", \"social\", \"internet\", \"invloed\", \"liet\", \"bell\", \"oproep\", \"vergelijk\", \"person\", \"initiatief\", \"omroep\", \"verklar\", \"media\", \"helemal\", \"telefon\", \"onz\", \"had\", \"rond\", \"moment\", \"vertelt\", \"ieder\", \"mens\", \"eerst\", \"bekend\", \"binn\", \"wet\", \"volgen\", \"ging\", \"zegt\", \"lat\", \"goed\", \"twee\", \"mak\", \"gemaakt\", \"gan\", \"gat\", \"frankrijk\", \"dinsdag\", \"reger\", \"verkiez\", \"fran\", \"partij\", \"geplaatst\", \"protest\", \"opmerk\", \"oekrai\", \"plaats\", \"veren\", \"morg\", \"financie\", \"welk\", \"dader\", \"tientall\", \"bezuin\", \"waarschuw\", \"kort\", \"volgend\", \"akkoord\", \"februari\", \"begonn\", \"risico\", \"pol\", \"incident\", \"patie\", \"strat\", \"bepaald\", \"noem\", \"minister\", \"maand\", \"gat\", \"verder\", \"politiek\", \"nieuw\", \"land\", \"euro\", \"volgen\", \"zegt\", \"bekend\", \"krijg\", \"miljoen\", \"jar\", \"nederland\", \"lat\", \"telefon\", \"duitsland\", \"collega\", \"ongeluk\", \"brand\", \"lond\", \"criminel\", \"veren\", \"geleid\", \"vakbond\", \"januari\", \"zon\", \"brabant\", \"gren\", \"facebok\", \"bewoner\", \"sted\", \"agent\", \"belgie\", \"erop\", \"gestok\", \"zoal\", \"aangekondigd\", \"stak\", \"klein\", \"buitenlander\", \"vervoer\", \"behalv\", \"netwerk\", \"juli\", \"water\", \"grot\", \"plat\", \"kinder\", \"nederlander\", \"aangehoud\", \"merk\", \"vaker\", \"slachtoffer\", \"werkt\", \"veilig\", \"moet\", \"will\", \"problem\", \"zegt\", \"miljoen\", \"euro\", \"del\", \"politie\", \"mens\", \"volgen\", \"onderzoek\", \"komt\", \"stan\", \"nieuw\", \"land\", \"limburg\", \"pol\", \"samenlev\", \"inmiddel\", \"gezocht\", \"won\", \"brandwer\", \"onderzoeker\", \"klar\", \"mid\", \"bezig\", \"inwoner\", \"vel\", \"zwar\", \"lastig\", \"licham\", \"nauwelijk\", \"bewoner\", \"gericht\", \"tien\", \"eigen\", \"soort\", \"avond\", \"omstander\", \"project\", \"kracht\", \"schat\", \"oost\", \"legt\", \"blij\", \"gemeent\", \"journalist\", \"doordat\", \"wild\", \"dag\", \"werk\", \"plek\", \"mens\", \"vooral\", \"nederland\", \"kwam\", \"war\", \"lang\", \"zien\", \"land\", \"vertelt\", \"zegt\", \"gebied\", \"volgen\", \"jar\", \"stat\", \"allen\", \"ging\", \"rotterdam\", \"behandeld\", \"stichting\", \"morg\", \"meisj\", \"holland\", \"lijn\", \"ruil\", \"gebeur\", \"bot\", \"vak\", \"stelt\", \"duurt\", \"aanvank\", \"project\", \"debat\", \"gestok\", \"stell\", \"oorzak\", \"stak\", \"december\", \"verlor\", \"journal\", \"gemeld\", \"lag\", \"gehoud\", \"bedoel\", \"grond\", \"ingezet\", \"gezicht\", \"meter\", \"slachtoffer\", \"ongeluk\", \"werk\", \"snel\", \"jong\", \"zelf\", \"langer\", \"reken\", \"miljoen\", \"kost\", \"moest\", \"extra\", \"bedrijf\", \"jar\", \"raakt\", \"zegt\", \"volgen\", \"hand\", \"lev\", \"lang\", \"wet\", \"allen\", \"euro\", \"gat\", \"kwam\", \"twee\", \"wereldwijd\", \"fout\", \"brit\", \"project\", \"dienst\", \"onderzocht\", \"ruil\", \"geheim\", \"eis\", \"grootst\", \"partner\", \"social\", \"wedstrijd\", \"york\", \"lever\", \"daarvor\", \"schuldig\", \"gooid\", \"gang\", \"verlor\", \"activiteit\", \"derd\", \"media\", \"zomer\", \"tijdelijk\", \"spreekt\", \"rapport\", \"valt\", \"thuis\", \"band\", \"zull\", \"steun\", \"amerikan\", \"woordvoerder\", \"stad\", \"bericht\", \"iederen\", \"leid\", \"maakt\", \"europa\", \"miljoen\", \"politie\", \"zegt\", \"ging\", \"werk\", \"open\", \"stat\", \"volgen\", \"twee\", \"grot\", \"jar\", \"blijkt\", \"buitenland\", \"tuss\", \"geheim\", \"krant\", \"pakistan\", \"kamer\", \"veroordeeld\", \"lever\", \"gestok\", \"stell\", \"debat\", \"dienst\", \"vrijlat\", \"belgisch\", \"eis\", \"islamitisch\", \"hoogst\", \"informatie\", \"verlat\", \"hoofdstad\", \"vanmiddag\", \"aandacht\", \"gebeurt\", \"aanleid\", \"huidig\", \"demonstrant\", \"jarenlang\", \"brand\", \"riep\", \"led\", \"duit\", \"sterk\", \"twed\", \"voorzitter\", \"tijden\", \"gister\", \"nadat\", \"premier\", \"minister\", \"lat\", \"moet\", \"eerst\", \"dod\", \"had\", \"zegt\", \"nieuw\", \"tijd\", \"twee\", \"woordvoerder\", \"gev\", \"vindt\", \"iederen\"], \"Freq\": [64.0, 29.0, 66.0, 23.0, 20.0, 24.0, 48.0, 47.0, 145.0, 152.0, 27.0, 84.0, 83.0, 19.0, 23.0, 64.0, 34.0, 66.0, 34.0, 30.0, 31.0, 33.0, 87.0, 41.0, 39.0, 50.0, 19.0, 56.0, 177.0, 58.0, 23.025202632377383, 5.100973967983668, 4.983816468396438, 7.078394015727448, 10.969055313479295, 3.9632756251740306, 30.219760417942002, 9.540981293668056, 4.9048042361263615, 10.26249841158673, 4.843216250097888, 8.490965121760137, 3.710003828667986, 13.729391205029666, 4.605091421491587, 8.234641220457277, 8.202499832056834, 8.042339236195307, 3.966156939795813, 5.884889926219756, 4.280814008758095, 11.56528769093154, 5.6421229796116945, 12.224536854461329, 8.983117191264851, 7.129426302446681, 3.991807389447945, 8.294297840955004, 3.99024086274237, 8.212084147994059, 5.6872093055777135, 8.245171381048756, 14.28425633228997, 9.256853025498964, 9.157540248899348, 9.452056390518102, 19.076661479206386, 11.023245736278907, 23.398872381310966, 22.305030857626523, 27.316030098740807, 11.02798499261787, 20.591713074938234, 17.8972159977781, 14.33977020792789, 15.908849873182149, 21.95423650303112, 19.931289130391395, 18.969165367758198, 12.227618830436956, 12.743001100037327, 11.548282553290349, 15.63194815004262, 11.426769334179118, 11.238852712595696, 11.001746696408683, 10.313005786446249, 10.426257230361498, 8.136205360287713, 4.606207826091707, 6.7678710731673135, 4.5657005667809285, 4.510579870784877, 2.7484604236888712, 2.7261885866782274, 5.887857857623425, 7.830471611138487, 3.3196358730767686, 5.015224678323005, 2.401240939731624, 2.8035938588395957, 5.8917045402430555, 4.652453125922327, 4.137795613856875, 7.284504509436338, 2.675379687970302, 2.2637181059150864, 9.650199141941956, 3.1623086680914563, 11.155969392685856, 6.002621920570372, 2.1044686438033353, 5.851507899469628, 5.611085899009203, 6.879384212259987, 3.7484566899080742, 2.341394830489332, 2.66128313570975, 8.523127097398728, 5.950190270393751, 18.092936752435648, 33.509727299253846, 4.676338227797122, 6.332381173341643, 6.413780577061839, 11.832359959932651, 8.613449872398762, 9.395095130197697, 16.154157755523073, 8.997317464938329, 5.52715384292163, 14.572448048542762, 11.401720154441513, 6.853783932283654, 9.002525339787088, 7.55724005334005, 7.514683687447788, 7.129547058266092, 6.872794545697948, 6.597016783239927, 7.367282994411372, 6.909043674797735, 6.764455895531508, 6.500567830071284, 6.688628652274557, 6.665736662372586, 3.8086342270237328, 6.192482226392768, 4.302474338263827, 3.65718464630817, 5.84718253044789, 4.180051309289024, 6.677905019634227, 3.709353240412526, 3.8022627942684624, 4.3278435842999805, 6.348547356499572, 8.410982076313411, 3.2430485116950516, 2.4013581406715088, 4.8289407370029265, 5.583885573707836, 10.34902105492502, 5.196844438429515, 7.635960393360999, 4.963364409609711, 3.6584630219395264, 6.2926776066847365, 2.419718111228919, 2.34996270556642, 2.636808998589655, 2.6324299164080007, 5.880513377243723, 3.2328247348654915, 2.8309695610998165, 2.8564278522399222, 6.8347137167117955, 6.867407527839478, 3.356586399602421, 8.462968275914807, 19.38673646917479, 16.296038480954017, 27.143011593988927, 22.139404177761822, 10.509676715708059, 7.122361146652155, 10.139493352012927, 8.90182236291856, 7.255497297000591, 11.893809952641366, 6.181065083759188, 7.3836878123307494, 8.220064531108806, 9.159168631744976, 5.846563788033723, 7.67453978993961, 7.007899718437032, 6.454580436959983, 7.871919696132525, 6.4846809103169845, 6.139885892967314, 3.756078296951957, 4.976880365342546, 3.7794967768295797, 4.098767904298076, 3.6765747704634237, 14.912270578774486, 6.316314238967081, 12.101942415776573, 4.511317704599518, 3.2251333824905193, 2.35807069344571, 4.537880109060772, 2.805500670340974, 1.8695137004879843, 1.87107092670425, 3.6787685037569364, 2.7800566083575107, 1.8576382513249456, 2.9502621648874645, 16.138979186098336, 3.830881358039456, 5.851115296553909, 6.636699368053904, 3.8379571874326435, 3.8644423702886894, 3.4448706586379325, 1.8870649376338116, 1.86660875164118, 5.896936495194495, 2.9163694195886394, 7.238928277374973, 3.6601418757953867, 5.556603517604946, 5.463897381288719, 4.749110442989487, 6.804554463417053, 6.749338274097876, 5.5257587410489615, 10.14592006972288, 5.822733843510803, 14.973616518589909, 16.328679314016423, 15.116861225453038, 7.8650817194006954, 7.824435739106772, 6.831010402588286, 7.94737162073277, 12.597122075246036, 12.83472975594305, 7.095500797481766, 9.756918746616703, 8.650040707137823, 6.40487188443311, 6.465547047228145, 6.15462864723422, 6.6414948754305785, 5.839565411850697, 14.090534268375906, 2.823708676739977, 9.706286186384684, 15.035865335148824, 3.8925923182195614, 7.42587821701665, 7.385654851879947, 4.51937240350677, 4.46050683044528, 2.7404095844983174, 2.38461643508191, 2.971802481905129, 1.9663712407583167, 2.63185773991696, 2.908776534575236, 1.9741657726422324, 2.8647989608060254, 1.9284156686133838, 2.9027058014405753, 5.381027493137983, 2.9214804001210375, 4.787291136556464, 3.4843544428178745, 2.1081991775991633, 1.779762392245337, 2.83796400298973, 1.9748448765658955, 1.9350674152066019, 3.8638026621370036, 2.9172687845648926, 5.163079682190266, 5.30892200791648, 5.703334774737331, 3.711300642189269, 4.287472321925372, 3.8396632052040376, 9.12824346762761, 6.771346686880966, 15.549733883434362, 5.740359010334044, 8.160846438316307, 10.289803566153708, 13.289967996249835, 7.97651918657057, 4.559407953637791, 6.077122191223733, 4.55188489600485, 5.805017149539596, 5.024152629679942, 9.815795301880302, 7.595335874504072, 5.5917647137339275, 6.135814171351241, 5.229489227696019, 5.322673078065232, 5.057843462647969, 5.46282364703796, 4.954419302358711, 4.895650355725534, 5.455697790068508, 6.39702483159303, 2.884825232897236, 7.010320869627233, 6.453970840487795, 2.6023478730335436, 5.951922703901339, 3.379838210018207, 3.152288032373966, 2.132423567592641, 2.497519051543204, 3.183628399393714, 3.452566025538138, 2.0269440283898383, 2.6909141576748326, 6.715391575838676, 1.9286730398952876, 2.8566637720684978, 2.5363737064856444, 5.064981247238665, 1.868521495438511, 2.4720785918567354, 2.208786592585644, 3.8617933849688018, 12.335897141494872, 4.073382758561741, 1.766474542224161, 3.799531512915298, 4.578613205093395, 1.9465950070215368, 4.764610752048905, 10.404718337854513, 10.515166557288852, 8.589969551303128, 7.6120629641797715, 16.51277444990515, 7.862554445052953, 6.953584692167134, 7.3944525496486175, 4.578171918373927, 9.71925590352061, 9.447603483079789, 8.753026195471367, 12.714406620480572, 5.206610257687571, 6.286810470093509, 8.603064794769574, 5.720652022708483, 5.524526505055358, 5.659464135211796, 5.71111029861459, 5.48366543712935, 4.993401097542685, 5.0340431238756365, 2.7096298236224285, 3.4031835277861258, 5.962521598172291, 5.2634368830748475, 3.716953474389113, 2.572929214746043, 4.857056773284079, 2.7179199642179372, 2.988924835619759, 8.212064398861633, 1.9295617041423982, 8.056346197895444, 1.8956051224922617, 2.545774182593137, 5.174820842998818, 2.3447013731799697, 9.742781716669018, 1.9652236542645856, 4.67637665772802, 6.271913916986102, 3.4994186549697366, 5.390980401255764, 2.4209212541690404, 2.3253653096248734, 2.8418700786383235, 2.299435707214291, 2.8326528959796833, 3.0586984588514072, 3.1643844419509746, 1.6568828651086973, 2.6248813469266996, 3.517827835856829, 6.136766613629871, 4.451330183517181, 5.477637794001709, 11.607526826658402, 12.602665038697046, 7.417458009172494, 8.453935028808983, 5.436189960136466, 6.103466421115906, 4.195995765917044, 4.7401146250513895, 7.945703663902625, 11.685210911291202, 8.13862405011068, 6.476855246150336, 5.7401367038050175, 4.697287704540647, 5.239318806291413, 5.449328581728595, 5.158933293033105, 4.375959878559144, 7.374464238950517, 14.180548642030157, 12.60016721312504, 3.8463834012983265, 4.811422819479532, 3.4640974488034093, 3.7869788973799476, 3.7923787653755046, 1.962900918010777, 2.868795700529049, 3.7363161860304817, 21.071339438338597, 6.620687054400425, 4.850751325144837, 3.7981366183502163, 2.859602821808644, 1.9550628651046524, 2.5518537619284665, 8.54237048471053, 1.9661314033020931, 1.947361172501446, 2.206824422174402, 1.9115843041512255, 1.8451334207635488, 2.241840337339947, 1.9361537662254011, 1.9424442080613955, 1.9133234465893625, 4.2467027687501915, 1.3980220937333272, 11.696194327198013, 6.479994568985017, 3.8019032974303633, 6.7428539738805355, 6.474790934436878, 5.248517776948507, 5.577489985722053, 3.7784787916927587, 3.552550145434912, 3.3122795300296883, 4.960181251916515, 3.1254123113266044, 8.1595992776204, 8.80123562988241, 3.9445292778995613, 5.283656416386679, 6.856024248087659, 5.597290128649683, 4.6536401562370155, 5.969009568292271, 5.179009131319877, 4.46966973192305, 4.243489994624657, 4.076145496163956, 4.12103342705283, 4.157111228485353, 4.017112456519043, 3.679557894487398, 10.6684765688246, 3.7501405502047476, 6.505181619506232, 4.462680774970464, 5.578432998014725, 4.694404637519419, 3.5942743893134863, 2.5618570447815787, 1.8908510646616967, 2.759607142355278, 2.8215901307559976, 1.8692691928550378, 14.453238728206093, 6.9421174743122815, 1.9220359832062108, 3.3865084765525557, 1.8889051348538917, 1.906447868865, 3.442956622101417, 1.8778285571905853, 3.678156429487228, 1.8810222313346545, 2.7356440985101647, 2.564437634172527, 1.8446957611105559, 1.8605180522526292, 4.499146732463662, 1.7058275697723508, 1.7515636623901503, 2.7927631613426227, 2.755696704413816, 7.25414884721094, 13.850831118742384, 2.657479088641799, 7.389470376213886, 5.465018910996477, 6.738678813222819, 17.969439800678806, 4.2964206400657545, 5.441704310653687, 4.603971040629039, 6.12054734777901, 6.166311158060379, 5.881761324202899, 4.736352100090255, 9.833583385451997, 6.576558948129388, 7.013128030825065, 5.301995899546298, 7.343690984110834, 5.456285899244295, 5.906148073737609, 4.730841528922172, 4.787188392630097, 4.362764740635059, 6.635084828273068, 4.5321411590554845, 2.603667315121086, 7.294239107731862, 6.607873640186838, 4.82514319122281, 2.798402951691922, 3.4157837180538366, 4.5027588027291365, 2.3952834286525198, 3.780556513382549, 7.199234335233276, 2.9911409954033576, 3.8524258720833253, 3.797032005132046, 3.752179005008528, 3.7289405677279452, 6.826056122573611, 3.2512563968488943, 2.838683067082919, 1.9197153719174929, 2.175102025023332, 1.8773922034483357, 4.048255505866654, 3.151596970263266, 4.715764133709353, 2.508724238633675, 1.5408795759939233, 2.272577589931135, 1.9396803782511436, 6.171518121692517, 2.9101438742073085, 6.880301381010641, 9.45378606283747, 7.239357996624646, 4.996399215196655, 3.877750756287248, 9.520209936762518, 8.03033923538502, 7.755247053427931, 9.652610167134432, 6.660402037375122, 6.821072619891123, 4.989609702005255, 4.590568462422191, 7.633941478003217, 6.498654579027719, 4.441690673927201, 5.233687387704027, 4.9553462760867415, 4.255434253743746, 4.210269526405876, 4.16988461635475, 8.280238387669613, 5.577723830268423, 4.658507724230036, 2.7795963680740097, 4.325926968272818, 7.137621610725201, 2.5643539247032416, 1.8737449287471335, 2.1464641531966686, 3.696210236408131, 3.609402375144009, 1.8842848383242385, 3.5510787192345927, 2.8224791638465145, 3.119817407829478, 2.790515653028149, 1.8897216520015254, 1.8885872079349033, 1.8710665950435925, 5.212602461253171, 2.4766368389832567, 6.704753691851507, 1.7336966243252152, 6.122242744931083, 5.157067110039797, 8.00565603859265, 3.243732623992041, 2.8163973752076243, 3.305636719402864, 1.1692231294137643, 1.6958074444019575, 3.7119856734708905, 7.755823054131744, 7.590676570851925, 2.819968486812346, 2.8658956134978113, 7.666235479655368, 5.414918649056643, 7.795572658501811, 5.06476168103445, 6.345343941259313, 5.408438706511864, 6.378066202831747, 4.082204983495687, 3.7611279788612393, 4.035704436635034, 3.734132063969788, 3.6984928709154383, 4.039348944058411, 3.4854793039105534, 3.672253497539367, 3.5998576958274104, 2.319273120455811, 4.924371892404522, 5.528603861879713, 4.428564116055263, 1.8445028759195516, 1.7495488753458306, 6.374651869648701, 4.321146710377369, 1.874158638788297, 3.4739357978556287, 1.8493414248612006, 3.6286702802501143, 2.7781287041160674, 3.6721866497666804, 1.8188603669528363, 1.8622743902177834, 1.8549760270562918, 2.6961637357947392, 2.7156706655188874, 5.486920541521422, 2.6955066414425506, 1.740303637560863, 2.7659887711672475, 1.7099619010552338, 1.8729777297952959, 1.8607460839716485, 1.8785093815696323, 1.3544084854207037, 4.132842174116566, 3.0106255543226648, 2.75746732800707, 2.7507811090140573, 2.5796591429778255, 6.438528497376939, 3.436495678172486, 4.882859672745513, 5.934243986383558, 5.446460059494163, 8.542122178024995, 7.509234139980589, 4.614743910298985, 3.915563377772296, 7.703739868252116, 6.823866605573812, 3.56667044352559, 4.813633973155803, 4.022832641178071, 3.7254562424776663, 4.579741733912965, 3.709557169165369, 3.470907943814227, 3.7255043343408825, 3.8526526956585108, 3.5197325433586792, 9.37237861845406, 14.552637484638613, 8.33355603099189, 2.6729441073230387, 3.4999671314895613, 3.748488376005981, 1.8523934400800928, 1.8786529701303998, 2.7092269003612706, 1.9008325056518482, 2.522132264174623, 2.583812168739858, 5.240083500201913, 1.6684231513102004, 1.8504174698743288, 2.779678728271262, 2.219038334912431, 3.765071816815517, 1.2794799680672004, 1.2485359718142521, 2.7770676788619815, 1.869725305291593, 1.1840958737284202, 1.159866066330088, 1.9053388425206697, 2.5196386698087725, 1.8963077826344237, 1.9022759264710123, 1.8640930872053658, 2.1967432911162286, 4.030709700450965, 2.870848717350196, 9.309273030295373, 2.806544135994951, 2.8589204330593523, 6.713430480063015, 2.8041260329921887, 3.182063051373701, 3.4201539419413587, 4.377346572065703, 4.051804885820087, 6.387023130679635, 5.37353319507054, 2.7191779166005667, 3.177138159239619, 3.1856976684911014, 3.3029214790636177, 3.062706663870848, 3.0863387051319466, 2.9828791980190243, 2.9789216336090996, 2.9675693765386115, 2.9836981387085726, 2.9066084785375756, 2.8525761302531056, 7.5256270708255215, 8.764583382992145, 2.419170930012096, 4.445768683077715, 2.7196509654633974, 2.3586336860379453, 2.220571007440252, 2.132395275122105, 1.8128047668162053, 2.550741859705452, 1.537435269241106, 3.2055635593645313, 2.6735254590054285, 3.367991060566461, 1.596671500542955, 1.811333624968919, 1.3361384293997285, 1.5827203798427705, 3.087832268210112, 2.4106562289798714, 1.5312271394086057, 4.039389048064938, 1.8286711616136504, 1.6220101805861078, 1.4198239138715363, 1.805547753635324, 1.5601132769259178, 2.7287451623935186, 3.0936194075872474, 5.507152827359959, 3.9337711655099885, 2.4367703176478903, 3.3289496906867186, 5.731174275486253, 4.707967540751658, 4.276604489227589, 3.706541144545669, 2.1751860384097923, 10.17164422729042, 6.030238963006038, 4.627813663209756, 3.437675125277654, 4.127687146584719, 7.169864775171478, 4.159808802865288, 6.510868464837288, 4.073526048212153, 4.214421324738186, 4.474695292318021, 3.51303326215031, 3.0177240429347036, 3.14790794433561, 3.23381366737611, 5.480850885265547, 3.6513665875702466, 6.011368514423383, 3.3065242536219825, 6.009074111751876, 8.351723509447025, 2.7251236418292284, 3.2557187499568103, 2.884043063300742, 4.486853664793071, 3.1856751983889944, 1.8340778345784514, 1.8170367984794917, 2.7338403216468943, 2.688585308857611, 1.9305247601441078, 3.0954114100450654, 1.8324217955304485, 1.8357671915549199, 4.119560370041533, 3.604391462793603, 3.5602627537044675, 1.8528673719055937, 1.8254670229713543, 1.8362411341586578, 3.596905772001619, 1.3753138144529995, 2.7342200277429005, 2.0094042657705464, 1.8625691978093155, 1.834527725186492, 5.8406285228042325, 5.511097649887295, 8.173645687665177, 3.5914124539023873, 3.093976373350969, 6.084433745811287, 6.839043818879773, 6.043180630240505, 7.722128218407277, 6.6605188665549635, 3.9757858199590164, 3.6453275651751964, 3.790996702787631, 3.8339023087513135, 3.6675456947742218, 3.016347177205772, 6.193648075850501, 4.805429955644828, 2.6549333188009046, 5.884196651134196, 2.7647973813281146, 2.513538630489987, 2.7385394565315857, 1.8762862771435125, 1.8616536986137429, 1.8783704939560764, 1.8686100965332701, 1.8319285652815136, 2.0729040627848314, 1.8385871407260093, 1.7802411414236017, 2.766707553064526, 7.456426900922142, 4.371172356288902, 2.1267976791453234, 1.7820316796915183, 0.9486628661948177, 6.753916832733532, 0.9565447118717563, 0.9589217063745359, 1.751610005712905, 0.9602978516039933, 0.9626298033852013, 0.967942772565465, 0.9478528178900729, 0.9598258038819223, 2.783468129932227, 9.046254801515477, 2.782601507969188, 2.7509669235840932, 1.8670944990378269, 1.864053574819081, 1.556373229914973, 2.1652886666080566, 3.2995202487572217, 2.248307086907671, 2.9526844461617556, 4.89980598827418, 3.6791831868341145, 3.437867706868374, 6.697887290516112, 4.2216027743545, 4.500217951882847, 2.9287768505768357, 4.4265849933916765, 5.319209218739317, 3.6686619277585195, 2.822396572306864, 2.8582154453550803, 2.5980068859115497, 3.019644055195755, 2.8114674063447165, 4.426701262177681, 9.608753837640796, 3.5174752853986675, 2.8517849610857384, 2.3119585278681534, 3.4145477850778767, 1.8183988832241216, 2.7638252604940723, 1.8200224423280291, 1.8034015999761606, 2.653081589985836, 3.0685056212023825, 2.3645701696952344, 2.694159636620222, 1.867646902271986, 2.701990637911082, 1.8074935550146247, 2.7163505410882043, 1.4086885792700177, 1.784429402325115, 2.6602228556239247, 1.6139506931510041, 0.9338173757442328, 0.9313346847702406, 0.9165232370349435, 0.9289431246726508, 0.9275935836059258, 0.9154197493345052, 0.9149573048087609, 0.9273198336007326, 10.588639479598418, 1.8220786050628592, 1.8164049039108365, 3.5260247911091636, 2.681947205742325, 3.8821674724739252, 2.7332408449334356, 10.619054320253749, 3.6118843717197344, 7.170965726771943, 4.418855429783406, 4.812673402332882, 3.5714522821798487, 2.7157035118657467, 3.756118460617889, 2.4656446755291745, 3.73898263947035, 2.282098692118913, 3.6401535269557694, 3.591087590972717, 2.9437840824459425, 2.813268585518227, 2.712379557820965, 7.812708146516248, 2.4240489276561767, 3.616913418484915, 1.8490433032067002, 2.734445497752478, 3.593539878865427, 1.862677867984735, 1.585155329836708, 1.8319339042532785, 1.378069259040301, 4.965167856685633, 2.247535313482379, 1.1059209024073942, 1.1391915288964194, 0.9594672891262289, 0.9522229289986471, 0.9386338073450734, 0.937380616167615, 0.951994273718129, 0.9479931505751545, 0.9520069176728688, 0.9395243298405381, 0.9386308654348121, 0.9378263468691125, 0.9380630767543904, 1.8609048350047297, 0.9519659187107172, 2.150245965579739, 1.0979941442868724, 0.9403050627488063, 1.8564967267443369, 3.784816875043886, 2.7183583813179237, 4.3318143871172, 2.2613667984664114, 2.7337259190213423, 1.8271208138781982, 2.2758470059599683, 1.884386411584025, 5.541016119346534, 2.7789825138530646, 2.078814631809133, 1.9806249341788793, 1.8742524696415395, 4.592203239903691, 1.8423679210424118, 3.8263070736151805, 3.840443515765018, 1.964963706200018, 1.9416801765157572, 1.9891380713489206, 1.9653643067462312, 1.9762265905568004, 2.013220298372194, 1.981920376195196, 1.9508322715570083, 1.9383692130013055, 2.823193948815871, 2.625090812292239, 9.950394621583115, 1.7712414287492968, 1.7723627551141767, 1.7628020414280745, 1.9369946333742252, 1.822805278375131, 1.765363404478805, 2.4702979531032834, 1.7532851891474013, 2.570374424151197, 1.2437279337254654, 1.2997065291586078, 0.9076358622134493, 2.463101345332083, 0.9081919366347234, 0.9094873379523997, 0.9116717670502248, 0.8881785613616283, 1.7721461894248711, 1.6933596631686592, 3.988701621331845, 0.9203725349749953, 0.909441748312246, 0.9078786493951309, 0.9088947322247016, 0.9075476626481844, 1.5445942907567392, 0.9078890783977804, 3.564097710418554, 1.7420459423834287, 4.277324686818347, 2.0992478647099637, 1.575898938618453, 1.861191874573201, 1.626595214412446, 1.7878426131383605, 2.559128741202732, 2.188033837895169, 3.491437478290194, 3.725877167062498, 4.765477338013738, 2.5922019095366067, 2.233839924549636, 2.124741591483948, 2.675590784459217, 3.234315483481022, 2.606391312570085, 2.275363564744692, 2.393591744701304, 1.7899182826371258, 1.7846708852582773, 1.7820757918332633, 2.291568524843536, 1.5512819415261923, 3.6444000250659587, 3.866071735772852, 2.010081355825521, 0.8076475737533546, 0.7971148561469559, 0.8008627688261943, 0.8008451690322044, 0.8060028083412203, 1.448383312115314, 1.572890777407099, 0.7579665041648478, 0.7411491419109693, 0.6409533460384477, 0.8044264740769635, 0.7904305893400956, 0.7556692530994911, 0.8093963635069626, 0.8107323171983545, 0.8068690780735146, 0.7961669413639482, 0.8043612480033908, 0.7061975816989022, 0.6199307576084626, 0.8292485937513074, 0.6625509360446005, 0.8070440076553118, 0.7973001319335267, 0.7950574233607265, 2.3034833042278176, 1.5715229416607799, 1.5679236994457884, 1.420685622266393, 1.229454582719649, 1.5206913628555736, 1.5745416718209744, 1.519953745930464, 1.516245306271612, 1.3845732066328529, 1.0940434546427074, 0.8381318226781751, 0.8509649401948616, 0.8386201185599903, 0.8207692604162267, 0.8243054695032226, 0.8097075368614036, 0.8084636306548727, 0.8083153537962423, 0.8080566424475284], \"Total\": [64.0, 29.0, 66.0, 23.0, 20.0, 24.0, 48.0, 47.0, 145.0, 152.0, 27.0, 84.0, 83.0, 19.0, 23.0, 64.0, 34.0, 66.0, 34.0, 30.0, 31.0, 33.0, 87.0, 41.0, 39.0, 50.0, 19.0, 56.0, 177.0, 58.0, 34.9663950431402, 7.789595608616687, 7.777012105409708, 11.692358223082104, 18.479726189702426, 6.763997806380808, 51.64008060682654, 16.585990508496206, 8.652239902419515, 18.428523951256818, 8.72122403189235, 15.390554593126229, 6.750644773088098, 25.054688130334963, 8.662028866878584, 15.526966620480142, 15.581586609295046, 15.583413237894499, 7.703671252813189, 11.612245059849846, 8.665633176826264, 23.7180388914722, 11.590768235202644, 25.90368586523556, 19.26029602266204, 15.360487471257702, 8.707721569635373, 18.127290911693567, 8.7389754768534, 18.095718462627733, 12.541073352416255, 19.257136034311834, 36.451811452595344, 22.04895378931235, 22.023665974361773, 22.98676654529339, 58.86988684117993, 29.013965958619654, 83.80090331477946, 86.55804078340128, 124.21350647576666, 33.525974061476084, 104.44003294709849, 83.33396618061732, 56.13920266765419, 72.29120707715471, 177.07159940816854, 152.13391479395608, 145.8483532952978, 54.125893951626075, 64.67281142630662, 47.67390368033713, 153.93656372869202, 55.16578493362257, 56.691893463836585, 66.77442495363425, 47.19901411704828, 61.42335939921859, 12.058293636460997, 7.354705280473856, 12.143800992136226, 8.319789400997557, 8.394226927237902, 5.500030170936267, 5.563587579610985, 12.249575458956064, 16.856115399945505, 7.395108658532887, 11.178653324437843, 5.573817176672001, 6.520391611189554, 14.014935870190438, 11.245318810112757, 10.157993025990564, 18.065503891812366, 6.654360852689805, 5.675650465222751, 24.99311017962521, 8.242997006074585, 29.179732938472224, 15.983127566600244, 5.611092187379216, 15.825072127490733, 15.2664905316285, 18.83901959083222, 10.275783457432098, 6.53340200091456, 7.483134237187032, 28.053151128234912, 18.700229753056, 72.29120707715471, 177.07159940816854, 15.258059599186907, 24.08132069486321, 24.89838487214081, 66.38873535033169, 41.729708672018205, 51.68577752865399, 152.13391479395608, 51.98919027749614, 20.771514467367513, 153.93656372869202, 124.21350647576666, 35.937426766361895, 84.1466227776913, 49.221052497443054, 54.125893951626075, 48.24479051581172, 44.60883166591174, 38.77082677980221, 86.55804078340128, 61.42335939921859, 54.96323391971189, 35.50439468195973, 66.67113568667688, 83.33396618061732, 5.656433233281769, 10.446718694115221, 7.410772908103193, 6.625516159922313, 10.612438840057198, 7.7100171714425, 12.327657204733683, 7.586458947228243, 8.320269633933137, 9.593503744170071, 14.091135258619307, 18.82768865190314, 7.501995547154295, 5.63894397757769, 11.412607544030154, 13.415134863864225, 25.9907019844978, 13.300488387575102, 19.891254824332027, 12.98426725003552, 9.573712118498266, 17.00421486585709, 6.682726430227721, 6.655747724384104, 7.514571510207904, 7.506114523204028, 16.82572667139688, 9.386651227904578, 8.381645702512424, 8.461195916235914, 20.472096997595365, 22.68765149190729, 10.30538200364689, 32.81345754025291, 104.44003294709849, 87.40198846972275, 177.07159940816854, 153.93656372869202, 51.98919027749614, 32.56409127589357, 64.97486128641656, 51.04873734180067, 36.156525220359185, 152.13391479395608, 30.277648522696953, 56.13920266765419, 84.1466227776913, 124.21350647576666, 26.146098930329032, 86.55804078340128, 66.67113568667688, 44.017035485165735, 145.8483532952978, 49.221052497443054, 69.63929455580198, 6.527671711110145, 9.365716090362765, 8.600578003766042, 9.349641684618755, 8.49144854008422, 35.606780350245295, 15.127611187646478, 29.068113141085938, 11.341763286927051, 8.350639356498313, 6.541507206902379, 13.262930200604336, 8.312886020885639, 5.598134313863986, 5.618301294548338, 11.151274078989307, 8.539680669000958, 5.722463811139824, 9.163707033831999, 50.58195644174665, 12.088047246160667, 18.491191505284434, 21.814389248781982, 13.004455657065053, 13.332056876860712, 11.942133097935942, 6.618559458685646, 6.576076908291496, 20.80720666950699, 10.304940994153537, 26.36236072041113, 13.09916350613693, 21.45073882982726, 21.317655764815793, 18.65965859088028, 29.922657565325917, 30.103724783848367, 23.261748267370173, 57.080920462394786, 27.350880351168843, 124.21350647576666, 145.8483532952978, 153.93656372869202, 47.67390368033713, 49.221052497443054, 37.96869931501756, 54.125893951626075, 152.13391479395608, 177.07159940816854, 44.017035485165735, 104.44003294709849, 83.33396618061732, 37.57917040874019, 43.039575985103944, 36.95929950995963, 83.80090331477946, 46.6467081798339, 21.103949569904394, 5.697943396332673, 19.986314633513924, 32.600563629681986, 8.513069966417572, 16.94875071783393, 17.88291160236517, 11.28047222216858, 11.520970062876366, 7.478647469386988, 6.6729061893068025, 8.450100875464512, 5.629423922481803, 7.582960944032925, 8.440149134103867, 5.754070945665843, 8.367041856048134, 5.635658369281943, 8.590147529200003, 16.081037819862463, 8.7389754768534, 14.39598977203803, 10.526385459986628, 6.541507206902379, 5.675650465222751, 9.370816347615468, 6.7034048140407565, 6.615254516154106, 13.329082870149287, 10.385468444517404, 18.967450737325667, 19.809555905129745, 23.497121284287616, 14.043915012945591, 17.17600019603574, 15.583413237894499, 57.080920462394786, 38.8100431120731, 152.13391479395608, 30.277648522696953, 55.16578493362257, 84.1466227776913, 145.8483532952978, 61.42335939921859, 20.99011369693636, 40.430078114813, 22.10708017789708, 37.57917040874019, 27.69342989187469, 153.93656372869202, 86.55804078340128, 47.40591376654812, 83.80090331477946, 44.017035485165735, 48.24479051581172, 51.68577752865399, 124.21350647576666, 51.98919027749614, 46.6467081798339, 7.5477337045934725, 10.31345542310547, 5.691822042747722, 14.058301565147264, 14.103818783206979, 5.708525844173637, 13.088437619845056, 7.50409010259363, 7.556503897345486, 5.515547205714308, 6.484318505678661, 8.561744669835655, 9.306546234770952, 5.626427322858835, 7.488852834738929, 18.766872861543746, 5.547025689815324, 8.439156215654442, 7.509445202672844, 15.012268532980832, 5.577094240676329, 7.423049996905902, 6.695426019687197, 12.269822200553433, 39.43578858045933, 13.10431819626012, 5.721779350386681, 12.401868141218637, 15.2053462241218, 6.496088334817036, 16.856115399945505, 40.52474276932545, 41.61666172448229, 33.15235872446908, 31.871334509348664, 87.40198846972275, 35.606780350245295, 31.869850543961103, 35.50439468195973, 18.7715246702315, 69.63929455580198, 66.77442495363425, 64.97486128641656, 145.8483532952978, 25.035119709963, 45.32199374175368, 153.93656372869202, 44.24581988587319, 40.430078114813, 51.98919027749614, 83.80090331477946, 152.13391479395608, 51.68577752865399, 61.42335939921859, 5.649090927179655, 7.576531007494553, 13.990353777185724, 13.10431819626012, 9.298204300009182, 6.587384162882109, 13.089450552852801, 7.50827623059825, 8.453113981524082, 23.519520004051945, 5.579260961362785, 23.31997596315535, 5.524604440174929, 7.60527393692906, 15.955682522472236, 7.396113867326985, 31.871334509348664, 6.520391611189554, 15.983127566600244, 21.50590574985598, 12.201932877536374, 18.888238534293652, 8.508144484329536, 8.223897967566204, 10.202721123386462, 8.404495128306126, 10.385803157135426, 11.26114678628595, 12.351052498089071, 6.501261013609899, 10.362730617385266, 13.978802470803032, 25.664567863172874, 18.649760433260617, 24.47867424363493, 69.63929455580198, 87.40198846972275, 43.039575985103944, 54.96323391971189, 28.10927126866972, 36.8610586407557, 19.809555905129745, 24.89838487214081, 72.29120707715471, 177.07159940816854, 145.8483532952978, 104.44003294709849, 84.1466227776913, 44.60883166591174, 83.33396618061732, 124.21350647576666, 152.13391479395608, 47.40591376654812, 11.282989868216134, 23.160158234290204, 23.771561704364363, 8.442734402348508, 11.206070593698977, 8.480335194891014, 10.360436741531897, 10.386271874122455, 5.7242487271119975, 8.590147529200003, 11.3377466327346, 64.67281142630662, 20.870478119476616, 15.581586609295046, 12.216497034280852, 9.374240031112127, 6.411748646931004, 8.466293818396808, 28.522275518690318, 6.576281704859379, 6.576948827068268, 7.4951950743350055, 6.574149306087768, 6.671458589322779, 8.560462753654317, 7.4947693453144035, 7.612693035549678, 7.5512949260912965, 17.161019253621124, 5.722463811139824, 48.163693656071196, 28.32569985494115, 17.00974361472628, 36.62324145445948, 34.939248047368494, 27.350880351168843, 31.11847424842576, 18.65965859088028, 17.12131172509651, 16.845496794932554, 36.95929950995963, 15.271636743228402, 124.21350647576666, 177.07159940816854, 26.428724800493907, 66.38873535033169, 153.93656372869202, 86.55804078340128, 47.19901411704828, 152.13391479395608, 83.80090331477946, 84.1466227776913, 69.63929455580198, 42.29845903144956, 58.86988684117993, 145.8483532952978, 54.125893951626075, 6.47373974605884, 19.774875421130844, 7.535341489085809, 14.145797847100521, 10.321883927420853, 13.09916350613693, 11.34345367090003, 10.26135275535682, 7.480156550355216, 5.593709810338659, 8.219069423483926, 8.407673756579287, 5.63894397757769, 48.163693656071196, 23.31997596315535, 6.480026180536307, 11.497152037261616, 6.511080946539024, 6.650226087000949, 12.078339519273037, 6.615254516154106, 13.038548985997723, 7.585134490122608, 11.07515423026174, 10.392437093120327, 7.486888779900565, 7.56990753176373, 18.700229753056, 7.31977525233498, 7.582960944032925, 12.09352708670206, 12.046350256756226, 35.937426766361895, 84.1466227776913, 11.692358223082104, 43.039575985103944, 30.277648522696953, 41.816963105788986, 177.07159940816854, 23.679873964958244, 38.48898365531116, 29.068113141085938, 49.221052497443054, 50.58195644174665, 47.40591376654812, 32.81345754025291, 152.13391479395608, 66.77442495363425, 83.80090331477946, 48.24479051581172, 153.93656372869202, 66.67113568667688, 124.21350647576666, 56.13920266765419, 72.29120707715471, 145.8483532952978, 13.44467233022242, 9.5023275446247, 5.644355917336323, 15.957021666390347, 14.992909591427411, 11.1241731793917, 6.650226087000949, 8.44983602216214, 11.315399513014457, 6.462050949919309, 10.355331833026295, 19.867321571567803, 8.410546505665579, 11.3377466327346, 11.212030880779462, 11.202503548022518, 11.251970906239748, 21.756590729614906, 10.484070106446515, 9.246086445218022, 6.5714992019431655, 7.585134490122608, 6.576948827068268, 14.20078023508793, 11.244761765730882, 17.00974361472628, 9.189577892325369, 5.691822042747722, 8.508639624422159, 7.45708208848349, 23.776659088714077, 11.218568700989985, 30.237005597684124, 47.19901411704828, 34.939248047368494, 26.428724800493907, 18.02388674126188, 83.33396618061732, 64.67281142630662, 66.77442495363425, 104.44003294709849, 51.64008060682654, 66.38873535033169, 30.692995063393745, 28.522275518690318, 145.8483532952978, 124.21350647576666, 27.291388483919658, 66.67113568667688, 177.07159940816854, 41.729708672018205, 37.96869931501756, 44.24581988587319, 19.986314633513924, 14.09491922139564, 11.847640991093812, 7.549946594214474, 11.95419066013733, 20.482947680599395, 7.474898153213506, 5.6204428861165665, 6.4767942152279, 11.206070593698977, 11.151274078989307, 6.480026180536307, 12.269822200553433, 10.106056306996011, 11.363399488232265, 10.386271874122455, 7.455729403558747, 7.45708208848349, 7.512309856488414, 21.520463052695455, 10.271858071349342, 27.974419496855695, 7.46166328126361, 26.428724800493907, 22.39803033196468, 34.939248047368494, 14.741506308270834, 12.998429173137604, 15.825072127490733, 5.6840898843643135, 8.422219631036898, 19.687850676949235, 54.96323391971189, 66.38873535033169, 14.685631340903976, 15.251653571225699, 83.33396618061732, 61.42335939921859, 153.93656372869202, 64.97486128641656, 124.21350647576666, 84.1466227776913, 145.8483532952978, 41.61666172448229, 31.11847424842576, 44.980840528504906, 41.816963105788986, 55.16578493362257, 177.07159940816854, 36.62324145445948, 104.44003294709849, 8.341349334622356, 6.4767942152279, 13.926784226655366, 16.047300898196557, 12.963800969844913, 5.618301294548338, 5.61554143489218, 20.482947680599395, 14.019961349479305, 6.503272723058999, 12.088047246160667, 6.562577507743765, 13.889114833488078, 11.1709847987731, 14.767374134796079, 7.340161847119408, 7.536888234102588, 7.657513012253077, 11.250107777462624, 11.378440239203757, 23.261748267370173, 11.469394587202844, 7.45708208848349, 12.216458586257563, 7.570248502791692, 8.367041856048134, 8.314935074916443, 8.492949526035703, 6.594088615107664, 20.178294093019733, 15.164338105664577, 14.014764039489407, 13.990353777185724, 13.300488387575102, 50.58195644174665, 21.317655764815793, 38.48898365531116, 61.42335939921859, 58.86988684117993, 153.93656372869202, 124.21350647576666, 45.32199374175368, 32.81345754025291, 152.13391479395608, 145.8483532952978, 28.053151128234912, 66.67113568667688, 44.24581988587319, 34.9663950431402, 104.44003294709849, 51.04873734180067, 37.96869931501756, 57.080920462394786, 86.55804078340128, 177.07159940816854, 14.856846393380811, 27.90367184938236, 20.464151100071394, 7.548931638112175, 11.436448886381555, 12.963800969844913, 6.472783402180438, 6.565321837103256, 9.497082080608301, 6.695456703986312, 9.163707033831999, 9.412852033863295, 20.544152050258777, 6.656994278583916, 7.412471080881394, 11.435625636442458, 9.380360654002516, 15.91907137196141, 5.629423922481803, 5.530076760981878, 12.373582709026703, 8.447686000836802, 5.642171039832303, 5.532077943585834, 9.228586124105366, 12.344582847965178, 9.301287351834183, 9.333605404318039, 9.398669641230077, 11.093447378830612, 20.472096997595365, 14.992909591427411, 56.13920266765419, 15.583413237894499, 16.073687120295165, 66.67113568667688, 17.057810006623033, 22.729918182223813, 28.26185467600438, 50.58195644174665, 46.6467081798339, 152.13391479395608, 145.8483532952978, 21.548649124293, 38.48898365531116, 47.67390368033713, 56.691893463836585, 44.980840528504906, 48.24479051581172, 51.04873734180067, 66.77442495363425, 83.33396618061732, 153.93656372869202, 124.21350647576666, 54.96323391971189, 10.840062717353637, 13.593648853455043, 5.515547205714308, 11.160435445269954, 7.380692011786922, 6.510930610554482, 7.467668394496834, 7.340161847119408, 6.408342757927879, 9.157442006397206, 5.620895510883229, 11.95419066013733, 10.186313891868014, 13.086193536239273, 6.4546201086448844, 7.381012007567423, 5.471193738986734, 6.531644139493601, 12.81819987245022, 10.18939608641677, 6.545181420699082, 17.845911851716373, 8.350639356498313, 7.474673807377539, 6.552315386532419, 8.420226312625948, 7.442119563565011, 13.02975124483696, 14.871129314068895, 26.73420017776156, 20.63760796584958, 12.654491454707633, 18.790183760843906, 39.43578858045933, 30.76732148584292, 27.033346239366253, 24.89838487214081, 11.093447378830612, 145.8483532952978, 66.77442495363425, 44.980840528504906, 27.974419496855695, 42.29845903144956, 153.93656372869202, 44.60883166591174, 152.13391479395608, 44.017035485165735, 61.42335939921859, 87.40198846972275, 56.691893463836585, 25.350357757054294, 57.080920462394786, 86.55804078340128, 11.0819190241379, 8.339176048531057, 14.741506308270834, 8.314935074916443, 15.793838284022442, 22.120818286286305, 8.4182633536495, 10.113405295668858, 9.306546234770952, 15.390554593126229, 12.40083339467343, 7.424151764115185, 7.372886670274062, 11.33246762580339, 11.244761765730882, 8.323845675544757, 13.977484538523534, 8.440149134103867, 8.508175457944018, 19.441694129531395, 17.088849077469288, 16.94875071783393, 9.301287351834183, 9.386651227904578, 9.538626173339008, 19.199034220198655, 7.46166328126361, 14.992909591427411, 11.057878875548097, 10.357856440205241, 10.521093288339229, 47.19901411704828, 47.40591376654812, 86.55804078340128, 27.31955346678676, 22.04895378931235, 83.80090331477946, 104.44003294709849, 83.33396618061732, 153.93656372869202, 152.13391479395608, 44.980840528504906, 41.729708672018205, 66.38873535033169, 177.07159940816854, 124.21350647576666, 44.017035485165735, 12.654491454707633, 12.183467245459642, 8.372285417830435, 19.69495745681176, 9.986455112209836, 9.362765970429194, 10.284405064728631, 7.424151764115185, 7.412471080881394, 8.461195916235914, 8.47704469120303, 8.319789400997557, 9.430165903970028, 8.44983602216214, 8.450100875464512, 14.094019098467163, 38.8100431120731, 23.31997596315535, 11.363399488232265, 9.569880434581746, 5.38992104360853, 38.77082677980221, 5.529163973919203, 5.552579404244149, 10.206642175048586, 5.598134313863986, 5.644355917336323, 5.6855007198771865, 5.577094240676329, 5.64836353910782, 16.82572667139688, 64.97486128641656, 18.73705952096638, 18.65965859088028, 12.170258814175725, 12.998429173137604, 10.385468444517404, 15.964714213761427, 28.10927126866972, 16.912717939930364, 25.664567863172874, 58.86988684117993, 37.57917040874019, 36.62753424045854, 152.13391479395608, 66.38873535033169, 83.33396618061732, 28.26185467600438, 84.1466227776913, 145.8483532952978, 153.93656372869202, 50.58195644174665, 56.13920266765419, 34.247201196541, 83.80090331477946, 104.44003294709849, 8.169015235943885, 19.199034220198655, 8.223897967566204, 7.340724640880575, 7.308257784649485, 13.161045635181585, 7.36514664264329, 11.212030880779462, 7.423049996905902, 7.437500205061261, 11.250292160128229, 13.061867086090544, 10.12261425649045, 12.087223927263498, 8.598990984411486, 12.98426725003552, 9.329583550443113, 14.094019098467163, 7.466710646517068, 9.481684211311284, 14.772943357621434, 9.490051745082297, 5.524604440174929, 5.548867488606201, 5.4616926018245575, 5.5848988722343496, 5.599972437795738, 5.547025689815324, 5.556017971712948, 5.635658369281943, 64.67281142630662, 11.206070593698977, 12.344582847965178, 28.32569985494115, 20.580243611041023, 33.58321474529765, 21.548649124293, 145.8483532952978, 37.66717894668962, 124.21350647576666, 54.96323391971189, 66.67113568667688, 40.430078114813, 30.103724783848367, 104.44003294709849, 24.89838487214081, 152.13391479395608, 19.609239270765414, 153.93656372869202, 177.07159940816854, 69.63929455580198, 51.68577752865399, 44.60883166591174, 24.08132069486321, 9.279190262229374, 13.889114833488078, 7.372886670274062, 11.07515423026174, 14.767374134796079, 8.316185892565896, 7.1879220401793935, 8.46673989857032, 6.496088334817036, 23.526146479948686, 10.957974801650119, 5.754070945665843, 6.484318505678661, 5.4616926018245575, 5.455940821899864, 5.38992104360853, 5.454243655707991, 5.563587579610985, 5.552579404244149, 5.593709810338659, 5.579260961362785, 5.628393140704536, 5.626427322858835, 5.649090927179655, 11.26114678628595, 5.765245317272908, 13.176820863502613, 7.472156169844416, 6.5258359303974, 13.10431819626012, 28.10927126866972, 19.69495745681176, 33.58321474529765, 16.992081560577034, 21.906339681808024, 13.329082870149287, 18.2021196923015, 14.20078023508793, 66.38873535033169, 27.350880351168843, 18.649760433260617, 22.98676654529339, 20.771514467367513, 177.07159940816854, 21.473092470830462, 152.13391479395608, 153.93656372869202, 31.15576352011642, 29.922657565325917, 40.430078114813, 42.29845903144956, 51.68577752865399, 83.33396618061732, 86.55804078340128, 54.96323391971189, 87.40198846972275, 7.31977525233498, 7.283458757972669, 29.013965958619654, 5.4616926018245575, 6.289392181575871, 6.446595038020256, 7.1879220401793935, 6.865836104799042, 7.18514933430178, 11.234462100286855, 8.367041856048134, 12.81819987245022, 6.541507206902379, 7.50409010259363, 5.318057251411418, 14.736381699131046, 5.471193738986734, 5.500030170936267, 5.530076760981878, 5.579260961362785, 11.218568700989985, 11.237665312062898, 26.73420017776156, 6.405760822846223, 6.462050949919309, 6.454599108845062, 6.527671711110145, 6.531238739525617, 11.160233771476125, 6.576281704859379, 26.36236072041113, 14.100903284938187, 41.816963105788986, 18.491191505284434, 13.978802470803032, 17.88291160236517, 14.778532481727737, 17.773959106575997, 33.600418158999844, 25.90368586523556, 66.38873535033169, 84.1466227776913, 152.13391479395608, 44.60883166591174, 33.58321474529765, 31.869850543961103, 69.63929455580198, 153.93656372869202, 87.40198846972275, 64.97486128641656, 177.07159940816854, 28.33845652804949, 23.261748267370173, 44.24581988587319, 6.865836104799042, 7.08368776503031, 20.482947680599395, 23.776659088714077, 12.771912185282979, 5.318057251411418, 5.38992104360853, 5.454243655707991, 5.455940821899864, 6.289392181575871, 11.847640991093812, 14.685631340903976, 7.18514933430178, 7.241837089559644, 6.411748646931004, 8.219069423483926, 8.312886020885639, 8.15823789559768, 9.163707033831999, 9.189577892325369, 9.222825381101668, 9.228586124105366, 9.349250661121763, 8.320269633933137, 7.410772908103193, 9.986455112209836, 8.242997006074585, 10.106056306996011, 10.04303655968065, 10.202721123386462, 30.692995063393745, 23.7180388914722, 25.035119709963, 25.9907019844978, 21.337590386016537, 31.11847424842576, 47.19901411704828, 44.017035485165735, 58.86988684117993, 66.77442495363425, 32.56409127589357, 39.43578858045933, 152.13391479395608, 83.80090331477946, 41.61666172448229, 87.40198846972275, 18.491191505284434, 19.831563372421595, 23.497121284287616, 14.778532481727737], \"Category\": [\"Default\", \"Default\", \"Default\", \"Default\", \"Default\", \"Default\", \"Default\", \"Default\", \"Default\", \"Default\", \"Default\", \"Default\", \"Default\", \"Default\", \"Default\", \"Default\", \"Default\", \"Default\", \"Default\", \"Default\", \"Default\", \"Default\", \"Default\", \"Default\", \"Default\", \"Default\", \"Default\", \"Default\", \"Default\", \"Default\", \"Topic1\", \"Topic1\", \"Topic1\", \"Topic1\", \"Topic1\", \"Topic1\", \"Topic1\", \"Topic1\", \"Topic1\", \"Topic1\", \"Topic1\", \"Topic1\", \"Topic1\", \"Topic1\", \"Topic1\", \"Topic1\", \"Topic1\", \"Topic1\", \"Topic1\", \"Topic1\", \"Topic1\", \"Topic1\", \"Topic1\", \"Topic1\", \"Topic1\", \"Topic1\", \"Topic1\", \"Topic1\", \"Topic1\", \"Topic1\", \"Topic1\", \"Topic1\", \"Topic1\", \"Topic1\", \"Topic1\", \"Topic1\", \"Topic1\", \"Topic1\", \"Topic1\", \"Topic1\", \"Topic1\", \"Topic1\", \"Topic1\", \"Topic1\", \"Topic1\", \"Topic1\", \"Topic1\", \"Topic1\", \"Topic1\", \"Topic1\", \"Topic1\", \"Topic1\", \"Topic1\", \"Topic1\", \"Topic1\", \"Topic1\", \"Topic1\", \"Topic1\", \"Topic2\", \"Topic2\", \"Topic2\", \"Topic2\", \"Topic2\", \"Topic2\", \"Topic2\", \"Topic2\", \"Topic2\", \"Topic2\", \"Topic2\", \"Topic2\", \"Topic2\", \"Topic2\", \"Topic2\", \"Topic2\", \"Topic2\", \"Topic2\", \"Topic2\", \"Topic2\", \"Topic2\", \"Topic2\", \"Topic2\", \"Topic2\", \"Topic2\", \"Topic2\", \"Topic2\", \"Topic2\", \"Topic2\", \"Topic2\", \"Topic2\", \"Topic2\", \"Topic2\", \"Topic2\", \"Topic2\", \"Topic2\", \"Topic2\", \"Topic2\", \"Topic2\", \"Topic2\", \"Topic2\", \"Topic2\", \"Topic2\", \"Topic2\", \"Topic2\", \"Topic2\", \"Topic2\", \"Topic2\", \"Topic2\", \"Topic2\", \"Topic2\", \"Topic2\", \"Topic2\", \"Topic2\", \"Topic2\", \"Topic2\", \"Topic2\", \"Topic2\", \"Topic3\", \"Topic3\", \"Topic3\", \"Topic3\", \"Topic3\", \"Topic3\", \"Topic3\", \"Topic3\", \"Topic3\", \"Topic3\", \"Topic3\", \"Topic3\", \"Topic3\", \"Topic3\", \"Topic3\", \"Topic3\", \"Topic3\", \"Topic3\", \"Topic3\", \"Topic3\", \"Topic3\", \"Topic3\", \"Topic3\", \"Topic3\", \"Topic3\", \"Topic3\", \"Topic3\", \"Topic3\", \"Topic3\", \"Topic3\", \"Topic3\", \"Topic3\", \"Topic3\", \"Topic3\", \"Topic3\", \"Topic3\", \"Topic3\", \"Topic3\", \"Topic3\", \"Topic3\", \"Topic3\", \"Topic3\", \"Topic3\", \"Topic3\", \"Topic3\", \"Topic3\", \"Topic3\", \"Topic3\", \"Topic3\", \"Topic3\", \"Topic3\", \"Topic3\", \"Topic3\", \"Topic3\", \"Topic3\", \"Topic4\", \"Topic4\", \"Topic4\", \"Topic4\", \"Topic4\", \"Topic4\", \"Topic4\", \"Topic4\", \"Topic4\", \"Topic4\", \"Topic4\", \"Topic4\", \"Topic4\", \"Topic4\", \"Topic4\", \"Topic4\", \"Topic4\", \"Topic4\", \"Topic4\", \"Topic4\", \"Topic4\", \"Topic4\", \"Topic4\", \"Topic4\", \"Topic4\", \"Topic4\", \"Topic4\", \"Topic4\", \"Topic4\", \"Topic4\", \"Topic4\", \"Topic4\", \"Topic4\", \"Topic4\", \"Topic4\", \"Topic4\", \"Topic4\", \"Topic4\", \"Topic4\", \"Topic4\", \"Topic4\", \"Topic4\", \"Topic4\", \"Topic4\", \"Topic4\", \"Topic4\", \"Topic4\", \"Topic4\", \"Topic4\", \"Topic4\", \"Topic4\", \"Topic4\", \"Topic4\", \"Topic4\", \"Topic4\", \"Topic4\", \"Topic4\", \"Topic5\", \"Topic5\", \"Topic5\", \"Topic5\", \"Topic5\", \"Topic5\", \"Topic5\", \"Topic5\", \"Topic5\", \"Topic5\", \"Topic5\", \"Topic5\", \"Topic5\", \"Topic5\", \"Topic5\", \"Topic5\", \"Topic5\", \"Topic5\", \"Topic5\", \"Topic5\", \"Topic5\", \"Topic5\", \"Topic5\", \"Topic5\", \"Topic5\", \"Topic5\", \"Topic5\", \"Topic5\", \"Topic5\", \"Topic5\", \"Topic5\", \"Topic5\", \"Topic5\", \"Topic5\", \"Topic5\", \"Topic5\", \"Topic5\", \"Topic5\", \"Topic5\", \"Topic5\", \"Topic5\", \"Topic5\", \"Topic5\", \"Topic5\", \"Topic5\", \"Topic5\", \"Topic5\", \"Topic5\", \"Topic5\", \"Topic5\", \"Topic5\", \"Topic5\", \"Topic5\", \"Topic5\", \"Topic5\", \"Topic5\", \"Topic5\", \"Topic5\", \"Topic5\", \"Topic6\", \"Topic6\", \"Topic6\", \"Topic6\", \"Topic6\", \"Topic6\", \"Topic6\", \"Topic6\", \"Topic6\", \"Topic6\", \"Topic6\", \"Topic6\", \"Topic6\", \"Topic6\", \"Topic6\", \"Topic6\", \"Topic6\", \"Topic6\", \"Topic6\", \"Topic6\", \"Topic6\", \"Topic6\", \"Topic6\", \"Topic6\", \"Topic6\", \"Topic6\", \"Topic6\", \"Topic6\", \"Topic6\", \"Topic6\", \"Topic6\", \"Topic6\", \"Topic6\", \"Topic6\", \"Topic6\", \"Topic6\", \"Topic6\", \"Topic6\", \"Topic6\", \"Topic6\", \"Topic6\", \"Topic6\", \"Topic6\", \"Topic6\", \"Topic6\", \"Topic6\", \"Topic6\", \"Topic6\", \"Topic6\", \"Topic6\", \"Topic6\", \"Topic6\", \"Topic6\", \"Topic6\", \"Topic7\", \"Topic7\", \"Topic7\", \"Topic7\", \"Topic7\", \"Topic7\", \"Topic7\", \"Topic7\", \"Topic7\", \"Topic7\", \"Topic7\", \"Topic7\", \"Topic7\", \"Topic7\", \"Topic7\", \"Topic7\", \"Topic7\", \"Topic7\", \"Topic7\", \"Topic7\", \"Topic7\", \"Topic7\", \"Topic7\", \"Topic7\", \"Topic7\", \"Topic7\", \"Topic7\", \"Topic7\", \"Topic7\", \"Topic7\", \"Topic7\", \"Topic7\", \"Topic7\", \"Topic7\", \"Topic7\", \"Topic7\", \"Topic7\", \"Topic7\", \"Topic7\", \"Topic7\", \"Topic7\", \"Topic7\", \"Topic7\", \"Topic7\", \"Topic7\", \"Topic7\", \"Topic7\", \"Topic7\", \"Topic7\", \"Topic7\", \"Topic7\", \"Topic7\", \"Topic7\", \"Topic8\", \"Topic8\", \"Topic8\", \"Topic8\", \"Topic8\", \"Topic8\", \"Topic8\", \"Topic8\", \"Topic8\", \"Topic8\", \"Topic8\", \"Topic8\", \"Topic8\", \"Topic8\", \"Topic8\", \"Topic8\", \"Topic8\", \"Topic8\", \"Topic8\", \"Topic8\", \"Topic8\", \"Topic8\", \"Topic8\", \"Topic8\", \"Topic8\", \"Topic8\", \"Topic8\", \"Topic8\", \"Topic8\", \"Topic8\", \"Topic8\", \"Topic8\", \"Topic8\", \"Topic8\", \"Topic8\", \"Topic8\", \"Topic8\", \"Topic8\", \"Topic8\", \"Topic8\", \"Topic8\", \"Topic8\", \"Topic8\", \"Topic8\", \"Topic8\", \"Topic8\", \"Topic8\", \"Topic8\", \"Topic8\", \"Topic8\", \"Topic8\", \"Topic8\", \"Topic8\", \"Topic8\", \"Topic8\", \"Topic8\", \"Topic8\", \"Topic9\", \"Topic9\", \"Topic9\", \"Topic9\", \"Topic9\", \"Topic9\", \"Topic9\", \"Topic9\", \"Topic9\", \"Topic9\", \"Topic9\", \"Topic9\", \"Topic9\", \"Topic9\", \"Topic9\", \"Topic9\", \"Topic9\", \"Topic9\", \"Topic9\", \"Topic9\", \"Topic9\", \"Topic9\", \"Topic9\", \"Topic9\", \"Topic9\", \"Topic9\", \"Topic9\", \"Topic9\", \"Topic9\", \"Topic9\", \"Topic9\", \"Topic9\", \"Topic9\", \"Topic9\", \"Topic9\", \"Topic9\", \"Topic9\", \"Topic9\", \"Topic9\", \"Topic9\", \"Topic9\", \"Topic9\", \"Topic9\", \"Topic9\", \"Topic9\", \"Topic9\", \"Topic9\", \"Topic9\", \"Topic9\", \"Topic9\", \"Topic9\", \"Topic9\", \"Topic9\", \"Topic9\", \"Topic9\", \"Topic9\", \"Topic10\", \"Topic10\", \"Topic10\", \"Topic10\", \"Topic10\", \"Topic10\", \"Topic10\", \"Topic10\", \"Topic10\", \"Topic10\", \"Topic10\", \"Topic10\", \"Topic10\", \"Topic10\", \"Topic10\", \"Topic10\", \"Topic10\", \"Topic10\", \"Topic10\", \"Topic10\", \"Topic10\", \"Topic10\", \"Topic10\", \"Topic10\", \"Topic10\", \"Topic10\", \"Topic10\", \"Topic10\", \"Topic10\", \"Topic10\", \"Topic10\", \"Topic10\", \"Topic10\", \"Topic10\", \"Topic10\", \"Topic10\", \"Topic10\", \"Topic10\", \"Topic10\", \"Topic10\", \"Topic10\", \"Topic10\", \"Topic10\", \"Topic10\", \"Topic10\", \"Topic10\", \"Topic10\", \"Topic10\", \"Topic10\", \"Topic10\", \"Topic10\", \"Topic10\", \"Topic10\", \"Topic11\", \"Topic11\", \"Topic11\", \"Topic11\", \"Topic11\", \"Topic11\", \"Topic11\", \"Topic11\", \"Topic11\", \"Topic11\", \"Topic11\", \"Topic11\", \"Topic11\", \"Topic11\", \"Topic11\", \"Topic11\", \"Topic11\", \"Topic11\", \"Topic11\", \"Topic11\", \"Topic11\", \"Topic11\", \"Topic11\", \"Topic11\", \"Topic11\", \"Topic11\", \"Topic11\", \"Topic11\", \"Topic11\", \"Topic11\", \"Topic11\", \"Topic11\", \"Topic11\", \"Topic11\", \"Topic11\", \"Topic11\", \"Topic11\", \"Topic11\", \"Topic11\", \"Topic11\", \"Topic11\", \"Topic11\", \"Topic11\", \"Topic11\", \"Topic11\", \"Topic11\", \"Topic11\", \"Topic11\", \"Topic11\", \"Topic11\", \"Topic11\", \"Topic12\", \"Topic12\", \"Topic12\", \"Topic12\", \"Topic12\", \"Topic12\", \"Topic12\", \"Topic12\", \"Topic12\", \"Topic12\", \"Topic12\", \"Topic12\", \"Topic12\", \"Topic12\", \"Topic12\", \"Topic12\", \"Topic12\", \"Topic12\", \"Topic12\", \"Topic12\", \"Topic12\", \"Topic12\", \"Topic12\", \"Topic12\", \"Topic12\", \"Topic12\", \"Topic12\", \"Topic12\", \"Topic12\", \"Topic12\", \"Topic12\", \"Topic12\", \"Topic12\", \"Topic12\", \"Topic12\", \"Topic12\", \"Topic12\", \"Topic12\", \"Topic12\", \"Topic12\", \"Topic12\", \"Topic12\", \"Topic12\", \"Topic12\", \"Topic12\", \"Topic12\", \"Topic12\", \"Topic12\", \"Topic12\", \"Topic12\", \"Topic12\", \"Topic12\", \"Topic12\", \"Topic12\", \"Topic12\", \"Topic13\", \"Topic13\", \"Topic13\", \"Topic13\", \"Topic13\", \"Topic13\", \"Topic13\", \"Topic13\", \"Topic13\", \"Topic13\", \"Topic13\", \"Topic13\", \"Topic13\", \"Topic13\", \"Topic13\", \"Topic13\", \"Topic13\", \"Topic13\", \"Topic13\", \"Topic13\", \"Topic13\", \"Topic13\", \"Topic13\", \"Topic13\", \"Topic13\", \"Topic13\", \"Topic13\", \"Topic13\", \"Topic13\", \"Topic13\", \"Topic13\", \"Topic13\", \"Topic13\", \"Topic13\", \"Topic13\", \"Topic13\", \"Topic13\", \"Topic13\", \"Topic13\", \"Topic13\", \"Topic13\", \"Topic13\", \"Topic13\", \"Topic13\", \"Topic13\", \"Topic13\", \"Topic13\", \"Topic13\", \"Topic13\", \"Topic13\", \"Topic13\", \"Topic13\", \"Topic13\", \"Topic13\", \"Topic13\", \"Topic14\", \"Topic14\", \"Topic14\", \"Topic14\", \"Topic14\", \"Topic14\", \"Topic14\", \"Topic14\", \"Topic14\", \"Topic14\", \"Topic14\", \"Topic14\", \"Topic14\", \"Topic14\", \"Topic14\", \"Topic14\", \"Topic14\", \"Topic14\", \"Topic14\", \"Topic14\", \"Topic14\", \"Topic14\", \"Topic14\", \"Topic14\", \"Topic14\", \"Topic14\", \"Topic14\", \"Topic14\", \"Topic14\", \"Topic14\", \"Topic14\", \"Topic14\", \"Topic14\", \"Topic14\", \"Topic14\", \"Topic14\", \"Topic14\", \"Topic14\", \"Topic14\", \"Topic14\", \"Topic14\", \"Topic14\", \"Topic14\", \"Topic14\", \"Topic14\", \"Topic14\", \"Topic14\", \"Topic14\", \"Topic14\", \"Topic14\", \"Topic14\", \"Topic14\", \"Topic14\", \"Topic15\", \"Topic15\", \"Topic15\", \"Topic15\", \"Topic15\", \"Topic15\", \"Topic15\", \"Topic15\", \"Topic15\", \"Topic15\", \"Topic15\", \"Topic15\", \"Topic15\", \"Topic15\", \"Topic15\", \"Topic15\", \"Topic15\", \"Topic15\", \"Topic15\", \"Topic15\", \"Topic15\", \"Topic15\", \"Topic15\", \"Topic15\", \"Topic15\", \"Topic15\", \"Topic15\", \"Topic15\", \"Topic15\", \"Topic15\", \"Topic15\", \"Topic15\", \"Topic15\", \"Topic15\", \"Topic15\", \"Topic15\", \"Topic15\", \"Topic15\", \"Topic15\", \"Topic15\", \"Topic15\", \"Topic15\", \"Topic15\", \"Topic15\", \"Topic15\", \"Topic15\", \"Topic15\", \"Topic16\", \"Topic16\", \"Topic16\", \"Topic16\", \"Topic16\", \"Topic16\", \"Topic16\", \"Topic16\", \"Topic16\", \"Topic16\", \"Topic16\", \"Topic16\", \"Topic16\", \"Topic16\", \"Topic16\", \"Topic16\", \"Topic16\", \"Topic16\", \"Topic16\", \"Topic16\", \"Topic16\", \"Topic16\", \"Topic16\", \"Topic16\", \"Topic16\", \"Topic16\", \"Topic16\", \"Topic16\", \"Topic16\", \"Topic16\", \"Topic16\", \"Topic16\", \"Topic16\", \"Topic16\", \"Topic16\", \"Topic16\", \"Topic16\", \"Topic16\", \"Topic16\", \"Topic16\", \"Topic16\", \"Topic16\", \"Topic16\", \"Topic16\", \"Topic16\", \"Topic16\", \"Topic16\", \"Topic16\", \"Topic16\", \"Topic16\", \"Topic16\", \"Topic16\", \"Topic16\", \"Topic16\", \"Topic16\", \"Topic16\", \"Topic17\", \"Topic17\", \"Topic17\", \"Topic17\", \"Topic17\", \"Topic17\", \"Topic17\", \"Topic17\", \"Topic17\", \"Topic17\", \"Topic17\", \"Topic17\", \"Topic17\", \"Topic17\", \"Topic17\", \"Topic17\", \"Topic17\", \"Topic17\", \"Topic17\", \"Topic17\", \"Topic17\", \"Topic17\", \"Topic17\", \"Topic17\", \"Topic17\", \"Topic17\", \"Topic17\", \"Topic17\", \"Topic17\", \"Topic17\", \"Topic17\", \"Topic17\", \"Topic17\", \"Topic17\", \"Topic17\", \"Topic17\", \"Topic17\", \"Topic17\", \"Topic17\", \"Topic17\", \"Topic17\", \"Topic17\", \"Topic17\", \"Topic17\", \"Topic17\", \"Topic17\", \"Topic17\", \"Topic17\", \"Topic17\", \"Topic17\", \"Topic17\", \"Topic17\", \"Topic17\", \"Topic18\", \"Topic18\", \"Topic18\", \"Topic18\", \"Topic18\", \"Topic18\", \"Topic18\", \"Topic18\", \"Topic18\", \"Topic18\", \"Topic18\", \"Topic18\", \"Topic18\", \"Topic18\", \"Topic18\", \"Topic18\", \"Topic18\", \"Topic18\", \"Topic18\", \"Topic18\", \"Topic18\", \"Topic18\", \"Topic18\", \"Topic18\", \"Topic18\", \"Topic18\", \"Topic18\", \"Topic18\", \"Topic18\", \"Topic18\", \"Topic18\", \"Topic18\", \"Topic18\", \"Topic18\", \"Topic18\", \"Topic18\", \"Topic18\", \"Topic18\", \"Topic18\", \"Topic18\", \"Topic18\", \"Topic18\", \"Topic18\", \"Topic18\", \"Topic18\", \"Topic18\", \"Topic18\", \"Topic18\", \"Topic18\", \"Topic18\", \"Topic18\", \"Topic18\", \"Topic18\", \"Topic18\", \"Topic18\", \"Topic18\", \"Topic18\", \"Topic19\", \"Topic19\", \"Topic19\", \"Topic19\", \"Topic19\", \"Topic19\", \"Topic19\", \"Topic19\", \"Topic19\", \"Topic19\", \"Topic19\", \"Topic19\", \"Topic19\", \"Topic19\", \"Topic19\", \"Topic19\", \"Topic19\", \"Topic19\", \"Topic19\", \"Topic19\", \"Topic19\", \"Topic19\", \"Topic19\", \"Topic19\", \"Topic19\", \"Topic19\", \"Topic19\", \"Topic19\", \"Topic19\", \"Topic19\", \"Topic19\", \"Topic19\", \"Topic19\", \"Topic19\", \"Topic19\", \"Topic19\", \"Topic19\", \"Topic19\", \"Topic19\", \"Topic19\", \"Topic19\", \"Topic19\", \"Topic19\", \"Topic19\", \"Topic19\", \"Topic19\", \"Topic19\", \"Topic19\", \"Topic19\", \"Topic19\", \"Topic19\", \"Topic19\", \"Topic19\", \"Topic19\", \"Topic20\", \"Topic20\", \"Topic20\", \"Topic20\", \"Topic20\", \"Topic20\", \"Topic20\", \"Topic20\", \"Topic20\", \"Topic20\", \"Topic20\", \"Topic20\", \"Topic20\", \"Topic20\", \"Topic20\", \"Topic20\", \"Topic20\", \"Topic20\", \"Topic20\", \"Topic20\", \"Topic20\", \"Topic20\", \"Topic20\", \"Topic20\", \"Topic20\", \"Topic20\", \"Topic20\", \"Topic20\", \"Topic20\", \"Topic20\", \"Topic20\", \"Topic20\", \"Topic20\", \"Topic20\", \"Topic20\", \"Topic20\", \"Topic20\", \"Topic20\", \"Topic20\", \"Topic20\", \"Topic20\", \"Topic20\", \"Topic20\", \"Topic20\", \"Topic20\", \"Topic20\", \"Topic20\", \"Topic20\", \"Topic20\", \"Topic20\"], \"logprob\": [30.0, 29.0, 28.0, 27.0, 26.0, 25.0, 24.0, 23.0, 22.0, 21.0, 20.0, 19.0, 18.0, 17.0, 16.0, 15.0, 14.0, 13.0, 12.0, 11.0, 10.0, 9.0, 8.0, 7.0, 6.0, 5.0, 4.0, 3.0, 2.0, 1.0, -4.4435, -5.9506, -5.9738, -5.623, -5.185, -6.203, -4.1715, -5.3244, -5.9898, -5.2515, -6.0025, -5.441, -6.269, -4.9605, -6.0529, -5.4717, -5.4756, -5.4953, -6.2022, -5.8077, -6.1259, -5.132, -5.8498, -5.0766, -5.3847, -5.6158, -6.1958, -5.4645, -6.1962, -5.4744, -5.8418, -5.4704, -4.9209, -5.3547, -5.3655, -5.3338, -4.6316, -5.18, -4.4274, -4.4752, -4.2726, -5.1796, -4.5552, -4.6954, -4.917, -4.8132, -4.4911, -4.5878, -4.6372, -5.0763, -5.0351, -5.1335, -4.8307, -5.1441, -5.1607, -5.182, -5.2466, -5.2357, -4.9634, -5.5323, -5.1475, -5.5412, -5.5533, -6.0487, -6.0568, -5.2868, -5.0017, -5.8599, -5.4473, -6.1837, -6.0288, -5.2862, -5.5223, -5.6396, -5.074, -6.0756, -6.2427, -4.7928, -5.9084, -4.6478, -5.2675, -6.3157, -5.293, -5.335, -5.1312, -5.7384, -6.209, -6.0809, -4.9169, -5.2763, -4.1642, -3.5479, -5.5172, -5.2141, -5.2013, -4.5889, -4.9064, -4.8195, -4.2776, -4.8628, -5.3501, -4.3806, -4.626, -5.1349, -4.8622, -5.0372, -5.0429, -5.0955, -5.1322, -5.1731, -5.0627, -5.1269, -5.1481, -5.1878, -5.1593, -5.1628, -5.715, -5.2289, -5.593, -5.7555, -5.2863, -5.6219, -5.1534, -5.7414, -5.7166, -5.5872, -5.204, -4.9227, -5.8757, -6.1762, -5.4776, -5.3323, -4.7153, -5.4042, -5.0194, -5.4501, -5.7552, -5.2128, -6.1686, -6.1978, -6.0827, -6.0843, -5.2806, -5.8789, -6.0116, -6.0027, -5.1302, -5.1254, -5.8413, -4.9165, -4.0876, -4.2613, -3.7511, -3.9549, -4.6999, -5.089, -4.7358, -4.866, -5.0705, -4.5762, -5.2307, -5.053, -4.9456, -4.8375, -5.2864, -5.0143, -5.1052, -5.1874, -4.9889, -5.1828, -5.2374, -5.5655, -5.284, -5.5592, -5.4781, -5.5869, -4.1866, -5.0457, -4.3955, -5.3822, -5.7179, -6.031, -5.3764, -5.8573, -6.2632, -6.2623, -5.5863, -5.8664, -6.2695, -5.8069, -4.1076, -5.5457, -5.1222, -4.9962, -5.5439, -5.537, -5.6519, -6.2538, -6.2647, -5.1144, -5.8185, -4.9094, -5.5913, -5.1738, -5.1907, -5.3309, -4.9712, -4.9794, -5.1794, -4.5718, -5.1271, -4.1825, -4.0959, -4.173, -4.8264, -4.8316, -4.9674, -4.816, -4.3554, -4.3367, -4.9294, -4.6109, -4.7313, -5.0318, -5.0223, -5.0716, -4.9955, -5.1242, -4.155, -5.7624, -4.5277, -4.09, -5.4414, -4.7955, -4.8009, -5.2921, -5.3052, -5.7924, -5.9314, -5.7113, -6.1243, -5.8328, -5.7328, -6.1203, -5.748, -6.1438, -5.7348, -5.1176, -5.7284, -5.2345, -5.5522, -6.0547, -6.224, -5.7574, -6.12, -6.1403, -5.4488, -5.7298, -5.159, -5.1311, -5.0594, -5.4891, -5.3448, -5.4551, -4.5891, -4.8878, -4.0564, -5.053, -4.7011, -4.4693, -4.2135, -4.724, -5.2833, -4.996, -5.2849, -5.0418, -5.1862, -4.5165, -4.773, -5.0792, -4.9863, -5.1462, -5.1285, -5.1795, -5.1025, -5.2002, -5.2121, -5.0602, -4.901, -5.6974, -4.8095, -4.8922, -5.8005, -4.9732, -5.539, -5.6087, -5.9996, -5.8416, -5.5988, -5.5177, -6.0503, -5.767, -4.8525, -6.1, -5.7072, -5.8261, -5.1345, -6.1317, -5.8518, -5.9644, -5.4057, -4.2444, -5.3524, -6.1879, -5.422, -5.2355, -6.0908, -5.1956, -4.4146, -4.404, -4.6063, -4.7271, -3.9527, -4.6948, -4.8176, -4.7561, -5.2356, -4.4828, -4.5111, -4.5875, -4.2141, -5.1069, -4.9184, -4.6047, -5.0128, -5.0477, -5.0235, -5.0145, -5.0551, -5.1487, -5.1406, -5.532, -5.3041, -4.7433, -4.868, -5.2159, -5.5838, -4.9484, -5.529, -5.4339, -4.4232, -5.8715, -4.4424, -5.8893, -5.5944, -4.885, -5.6767, -4.2523, -5.8532, -4.9863, -4.6927, -5.2762, -4.8441, -5.6447, -5.685, -5.4844, -5.6962, -5.4876, -5.4108, -5.3769, -6.0239, -5.5638, -5.271, -4.7145, -5.0356, -4.8282, -4.0772, -3.9949, -4.525, -4.3942, -4.8358, -4.72, -5.0947, -4.9728, -4.4562, -4.0705, -4.4322, -4.6606, -4.7813, -4.9818, -4.8726, -4.8333, -4.8881, -5.0527, -4.514, -3.8601, -3.9783, -5.1649, -4.941, -5.2696, -5.1804, -5.179, -5.8376, -5.4581, -5.1939, -3.4641, -4.6218, -4.9329, -5.1775, -5.4613, -5.8416, -5.5752, -4.367, -5.8359, -5.8455, -5.7205, -5.8641, -5.8995, -5.7047, -5.8513, -5.8481, -5.8632, -5.0659, -6.1769, -4.0527, -4.6433, -5.1765, -4.6035, -4.6441, -4.8541, -4.7933, -5.1827, -5.2443, -5.3144, -4.9106, -5.3724, -4.4128, -4.3371, -5.1397, -4.8474, -4.5869, -4.7897, -4.9744, -4.7254, -4.8674, -5.0147, -5.0666, -5.1069, -5.0959, -5.0872, -5.1214, -5.1641, -4.0996, -5.1451, -4.5943, -4.9712, -4.748, -4.9205, -5.1876, -5.5262, -5.8299, -5.4518, -5.4296, -5.8414, -3.796, -4.5293, -5.8135, -5.2471, -5.8309, -5.8217, -5.2306, -5.8368, -5.1645, -5.8351, -5.4605, -5.5252, -5.8546, -5.8461, -4.963, -5.9329, -5.9064, -5.4399, -5.4532, -4.4853, -3.8386, -5.4895, -4.4669, -4.7685, -4.559, -3.5782, -5.0091, -4.7728, -4.94, -4.6553, -4.6478, -4.6951, -4.9116, -4.1811, -4.5834, -4.5191, -4.7988, -4.4731, -4.7701, -4.6909, -4.9128, -4.901, -4.9938, -4.5596, -4.9407, -5.495, -4.4649, -4.5637, -4.8781, -5.4229, -5.2235, -4.9472, -5.5784, -5.1221, -4.478, -5.3563, -5.1032, -5.1177, -5.1296, -5.1358, -4.5312, -5.2729, -5.4086, -5.7998, -5.6749, -5.8221, -5.0537, -5.304, -4.901, -5.5322, -6.0196, -5.631, -5.7894, -4.632, -5.3837, -4.5233, -4.2055, -4.4724, -4.8432, -5.0967, -4.1985, -4.3687, -4.4036, -4.1847, -4.5558, -4.5319, -4.8446, -4.9279, -4.4193, -4.5803, -4.9609, -4.7968, -4.8515, -5.0037, -5.0144, -5.024, -4.1536, -4.5487, -4.7288, -5.2452, -4.8028, -4.3021, -5.3258, -5.6395, -5.5037, -4.9602, -4.9839, -5.6339, -5.0002, -5.2299, -5.1297, -5.2412, -5.631, -5.6316, -5.641, -4.6164, -5.3606, -4.3647, -5.7172, -4.4555, -4.6271, -4.1873, -5.0908, -5.232, -5.0718, -6.1111, -5.7393, -4.9559, -4.219, -4.2406, -5.2307, -5.2146, -4.2306, -4.5783, -4.2139, -4.6452, -4.4198, -4.5795, -4.4146, -4.8608, -4.9428, -4.8723, -4.95, -4.9596, -4.8714, -5.0189, -4.9667, -4.971, -5.4106, -4.6577, -4.5419, -4.7638, -5.6397, -5.6925, -4.3995, -4.7883, -5.6237, -5.0066, -5.637, -4.963, -5.2301, -4.9511, -5.6537, -5.6301, -5.634, -5.26, -5.2528, -4.5495, -5.2603, -5.6978, -5.2345, -5.7154, -5.6243, -5.6309, -5.6214, -5.9485, -4.8329, -5.1497, -5.2375, -5.24, -5.3042, -4.3896, -5.0174, -4.6661, -4.4711, -4.5569, -4.1069, -4.2357, -4.7226, -4.8869, -4.2102, -4.3314, -4.9802, -4.6804, -4.8599, -4.9367, -4.7302, -4.9409, -5.0074, -4.9367, -4.9031, -4.9935, -3.9032, -3.4632, -4.0207, -5.1578, -4.8882, -4.8196, -5.5245, -5.5104, -5.1443, -5.4987, -5.2159, -5.1917, -4.4847, -5.6291, -5.5256, -5.1187, -5.3439, -4.8152, -5.8945, -5.919, -5.1196, -5.5152, -5.972, -5.9927, -5.4963, -5.2169, -5.5011, -5.4979, -5.5182, -5.354, -4.7471, -5.0864, -3.91, -5.109, -5.0906, -4.2369, -5.1099, -4.9835, -4.9113, -4.6646, -4.7418, -4.2867, -4.4595, -5.1407, -4.985, -4.9823, -4.9462, -5.0217, -5.014, -5.0481, -5.0494, -5.0533, -5.0478, -5.074, -5.0928, -4.0995, -3.947, -5.2343, -4.6258, -5.1173, -5.2597, -5.32, -5.3605, -5.5229, -5.1814, -5.6877, -4.9529, -5.1344, -4.9035, -5.6498, -5.5237, -5.828, -5.6586, -4.9903, -5.2379, -5.6917, -4.7217, -5.5142, -5.6341, -5.7672, -5.5269, -5.673, -5.1139, -4.9884, -4.4117, -4.7482, -5.2271, -4.9151, -4.3718, -4.5685, -4.6646, -4.8077, -5.3407, -3.7982, -4.321, -4.5857, -4.883, -4.7001, -4.1479, -4.6923, -4.2443, -4.7133, -4.6793, -4.6193, -4.8613, -5.0133, -4.971, -4.9441, -4.347, -4.7531, -4.2546, -4.8524, -4.255, -3.9258, -5.0457, -4.8678, -4.9891, -4.5471, -4.8896, -5.4417, -5.451, -5.0425, -5.0592, -5.3905, -4.9183, -5.4426, -5.4408, -4.6325, -4.7661, -4.7784, -5.4315, -5.4464, -5.4405, -4.7682, -5.7296, -5.0424, -5.3504, -5.4263, -5.4415, -4.2834, -4.3415, -3.9473, -4.7697, -4.9188, -4.2425, -4.1256, -4.2493, -4.0042, -4.1521, -4.668, -4.7548, -4.7156, -4.7044, -4.7487, -4.9442, -4.1347, -4.3885, -4.9818, -4.1859, -4.9412, -5.0365, -4.9508, -5.3289, -5.3367, -5.3278, -5.333, -5.3528, -5.2293, -5.3492, -5.3815, -4.9405, -3.9491, -4.4832, -5.2036, -5.3804, -6.0109, -4.0481, -6.0026, -6.0001, -5.3977, -5.9987, -5.9963, -5.9908, -6.0118, -5.9992, -4.9345, -3.7559, -4.9348, -4.9463, -5.3338, -5.3354, -5.5158, -5.1856, -4.7644, -5.148, -4.8755, -4.369, -4.6555, -4.7234, -4.0564, -4.518, -4.4541, -4.8836, -4.4706, -4.2869, -4.6584, -4.9206, -4.908, -5.0035, -4.8531, -4.9245, -4.4623, -3.6873, -4.6922, -4.902, -5.1118, -4.7219, -5.352, -4.9333, -5.3511, -5.3603, -4.9742, -4.8287, -5.0893, -4.9589, -5.3253, -4.9559, -5.358, -4.9506, -5.6073, -5.3708, -4.9715, -5.4713, -6.0184, -6.0211, -6.0371, -6.0236, -6.0251, -6.0383, -6.0388, -6.0254, -3.5902, -5.35, -5.3531, -4.6898, -4.9634, -4.5935, -4.9444, -3.5873, -4.6657, -3.9799, -4.4641, -4.3787, -4.677, -4.9509, -4.6266, -5.0475, -4.6311, -5.1248, -4.6579, -4.6715, -4.8702, -4.9156, -4.9521, -3.5384, -4.7087, -4.3085, -4.9794, -4.5882, -4.315, -4.9721, -5.1334, -4.9887, -5.2734, -3.9917, -4.7843, -5.4934, -5.4638, -5.6355, -5.6431, -5.6574, -5.6588, -5.6433, -5.6475, -5.6433, -5.6565, -5.6574, -5.6583, -5.658, -4.973, -5.6433, -4.8285, -5.5006, -5.6557, -4.9754, -4.2631, -4.5941, -4.1281, -4.7781, -4.5884, -4.9914, -4.7718, -4.9605, -3.8819, -4.572, -4.8623, -4.9107, -4.9659, -4.0698, -4.9831, -4.2522, -4.2485, -4.9186, -4.9306, -4.9064, -4.9184, -4.9129, -4.8944, -4.91, -4.9259, -4.9323, -4.5071, -4.5799, -3.2474, -4.9733, -4.9727, -4.9781, -4.8839, -4.9446, -4.9766, -4.6407, -4.9835, -4.601, -5.3269, -5.2829, -5.6419, -4.6436, -5.6413, -5.6399, -5.6375, -5.6636, -4.9728, -5.0183, -4.1615, -5.628, -5.6399, -5.6416, -5.6405, -5.642, -5.1102, -5.6416, -4.2741, -4.9899, -4.0917, -4.8034, -5.0902, -4.9238, -5.0585, -4.964, -4.6053, -4.762, -4.2947, -4.2297, -3.9836, -4.5925, -4.7413, -4.7914, -4.5608, -4.3712, -4.587, -4.7229, -4.6722, -4.9628, -4.9658, -4.9672, -3.9645, -4.3547, -3.5005, -3.4415, -4.0956, -5.0074, -5.0205, -5.0158, -5.0158, -5.0094, -4.4233, -4.3408, -5.0709, -5.0933, -5.2385, -5.0114, -5.0289, -5.0739, -5.0052, -5.0036, -5.0083, -5.0217, -5.0114, -5.1416, -5.2719, -4.981, -5.2054, -5.0081, -5.0203, -5.0231, -3.9593, -4.3417, -4.344, -4.4426, -4.5872, -4.3746, -4.3398, -4.3751, -4.3775, -4.4683, -4.7039, -4.9703, -4.9551, -4.9697, -4.9912, -4.987, -5.0048, -5.0064, -5.0065, -5.0069], \"loglift\": [30.0, 29.0, 28.0, 27.0, 26.0, 25.0, 24.0, 23.0, 22.0, 21.0, 20.0, 19.0, 18.0, 17.0, 16.0, 15.0, 14.0, 13.0, 12.0, 11.0, 10.0, 9.0, 8.0, 7.0, 6.0, 5.0, 4.0, 3.0, 2.0, 1.0, 1.5094, 1.5039, 1.4822, 1.4253, 1.4056, 1.3927, 1.3914, 1.3742, 1.3596, 1.3418, 1.339, 1.3325, 1.3286, 1.3257, 1.2954, 1.293, 1.2856, 1.2657, 1.2633, 1.2475, 1.222, 1.209, 1.2073, 1.1763, 1.1645, 1.1596, 1.1472, 1.1454, 1.1433, 1.1371, 1.1364, 1.079, 0.9904, 1.0593, 1.0497, 1.0385, 0.8003, 0.9594, 0.6515, 0.5712, 0.4127, 0.8153, 0.3035, 0.389, 0.5624, 0.4134, -0.1604, -0.1053, -0.1125, 0.4396, 0.3029, 0.5094, -0.36, 0.3528, 0.309, 0.1239, 0.4062, 0.1537, 2.0541, 1.9796, 1.8629, 1.8475, 1.8264, 1.7538, 1.7342, 1.7149, 1.6808, 1.6466, 1.646, 1.6054, 1.6035, 1.5809, 1.565, 1.5494, 1.5393, 1.5363, 1.5283, 1.4959, 1.4895, 1.486, 1.4682, 1.4668, 1.4526, 1.4466, 1.4401, 1.4391, 1.4213, 1.4137, 1.2562, 1.3024, 1.0623, 0.7828, 1.2649, 1.1118, 1.0912, 0.7228, 0.8696, 0.7425, 0.2049, 0.6934, 1.1236, 0.0901, 0.0593, 0.7905, 0.2125, 0.5737, 0.4731, 0.5355, 0.5772, 0.6765, -0.0162, 0.2626, 0.3525, 0.7498, 0.1482, -0.0784, 2.0595, 1.9321, 1.9113, 1.8608, 1.859, 1.8428, 1.842, 1.7395, 1.6719, 1.659, 1.6577, 1.6492, 1.6164, 1.6014, 1.5949, 1.5785, 1.5342, 1.5153, 1.4976, 1.4934, 1.4931, 1.461, 1.4392, 1.4139, 1.4078, 1.4072, 1.4038, 1.3891, 1.3696, 1.3691, 1.358, 1.26, 1.3333, 1.0999, 0.771, 0.7754, 0.5796, 0.5158, 0.8563, 0.9351, 0.5975, 0.7085, 0.8489, -0.0937, 0.8661, 0.4265, 0.129, -0.1522, 0.9572, 0.0321, 0.2023, 0.5352, -0.4642, 0.4282, 0.0265, 2.0657, 1.9862, 1.7962, 1.7938, 1.7813, 1.7481, 1.745, 1.7421, 1.6965, 1.6671, 1.5981, 1.5459, 1.5322, 1.5217, 1.5189, 1.5094, 1.4962, 1.4933, 1.4851, 1.4761, 1.4693, 1.4678, 1.4285, 1.3981, 1.3801, 1.3752, 1.3636, 1.3591, 1.3576, 1.3561, 1.326, 1.3434, 1.2677, 1.257, 1.25, 1.1374, 1.1232, 1.181, 0.891, 1.0714, 0.5027, 0.4288, 0.2977, 0.8165, 0.7794, 0.9031, 0.7, 0.1271, -0.006, 0.7933, 0.2478, 0.3531, 0.849, 0.7228, 0.8258, 0.0833, 0.5405, 2.3028, 2.0047, 1.9845, 1.9329, 1.9242, 1.8815, 1.8225, 1.7921, 1.7579, 1.7028, 1.6778, 1.6618, 1.655, 1.6486, 1.6415, 1.637, 1.635, 1.6344, 1.6218, 1.612, 1.6111, 1.6058, 1.6012, 1.5744, 1.5471, 1.5123, 1.4846, 1.4775, 1.4685, 1.437, 1.4056, 1.39, 1.2909, 1.376, 1.319, 1.3059, 0.8737, 0.9608, 0.4261, 1.0439, 0.7958, 0.6054, 0.3112, 0.6655, 1.1799, 0.8117, 1.1264, 0.839, 0.9998, -0.0458, 0.2735, 0.5693, 0.0925, 0.5765, 0.5025, 0.3825, -0.4173, 0.356, 0.4525, 2.4258, 2.2728, 2.0708, 2.0546, 1.9686, 1.9648, 1.9624, 1.9528, 1.8761, 1.8001, 1.7963, 1.7611, 1.7588, 1.7294, 1.7269, 1.7227, 1.694, 1.6672, 1.665, 1.6639, 1.6569, 1.6509, 1.6414, 1.5944, 1.5882, 1.5819, 1.5751, 1.5674, 1.5501, 1.5453, 1.4869, 1.3907, 1.3747, 1.3999, 1.3184, 1.084, 1.24, 1.228, 1.1815, 1.3393, 0.7812, 0.7948, 0.7458, 0.3106, 1.18, 0.7751, -0.134, 0.7047, 0.76, 0.5327, 0.0644, -0.5726, 0.4133, 0.2488, 2.2437, 2.1781, 2.1255, 2.0663, 2.0615, 2.0383, 1.9871, 1.9623, 1.9388, 1.9262, 1.9167, 1.9156, 1.9088, 1.884, 1.8524, 1.8296, 1.7932, 1.7791, 1.7494, 1.7462, 1.7294, 1.7246, 1.7215, 1.7153, 1.7002, 1.6823, 1.6792, 1.6751, 1.6166, 1.6114, 1.6052, 1.5987, 1.5476, 1.5458, 1.4813, 1.1867, 1.0418, 1.2201, 1.1064, 1.3354, 1.1801, 1.4264, 1.3197, 0.7704, 0.2602, 0.0925, 0.198, 0.2933, 0.7275, 0.2118, -0.1481, -0.4056, 0.5958, 2.57, 2.5047, 2.3605, 2.2091, 2.1498, 2.1, 1.9888, 1.9878, 1.925, 1.8985, 1.8852, 1.8738, 1.8471, 1.8283, 1.827, 1.808, 1.8075, 1.796, 1.7896, 1.7878, 1.7782, 1.7725, 1.76, 1.71, 1.6554, 1.6417, 1.6294, 1.6224, 1.5988, 1.5859, 1.5799, 1.5202, 1.497, 1.303, 1.3096, 1.3444, 1.2762, 1.3982, 1.4226, 1.3688, 0.9869, 1.4088, 0.2724, -0.0064, 1.0931, 0.4643, -0.1162, 0.2567, 0.6785, -0.2429, 0.2114, 0.06, 0.1973, 0.6556, 0.336, -0.5625, 0.3945, 2.4754, 2.4232, 2.3425, 2.2635, 2.2018, 2.1867, 2.1581, 1.9913, 1.9688, 1.9557, 1.949, 1.9485, 1.9362, 1.8367, 1.8286, 1.825, 1.818, 1.8028, 1.7909, 1.7853, 1.7811, 1.7748, 1.646, 1.642, 1.641, 1.6395, 1.637, 1.6157, 1.5838, 1.5749, 1.5747, 1.5652, 1.4401, 1.2361, 1.5588, 1.2783, 1.3283, 1.2149, 0.7525, 1.3335, 1.0841, 1.1976, 0.9557, 0.9358, 0.9535, 1.1048, 0.3014, 0.7225, 0.5597, 0.8321, -0.0024, 0.5373, -0.0057, 0.5666, 0.3256, -0.4691, 2.3491, 2.315, 2.2816, 2.2725, 2.236, 2.22, 2.1897, 2.1496, 2.1338, 2.0629, 2.0477, 2.0402, 2.0215, 1.9759, 1.9725, 1.9615, 1.9509, 1.8961, 1.8845, 1.8745, 1.8248, 1.8062, 1.8016, 1.8003, 1.7833, 1.7724, 1.757, 1.7486, 1.7352, 1.7087, 1.7066, 1.7059, 1.5749, 1.4474, 1.4812, 1.3896, 1.5189, 0.8859, 0.9692, 0.9024, 0.6739, 1.0072, 0.7798, 1.2386, 1.2286, 0.1054, 0.1049, 1.2398, 0.5107, -0.5208, 0.7723, 0.8561, 0.6934, 2.3586, 2.3127, 2.3063, 2.2405, 2.2233, 2.1856, 2.1699, 2.1413, 2.1354, 2.1306, 2.1118, 2.0046, 1.9999, 1.9643, 1.9472, 1.9255, 1.8672, 1.8664, 1.8497, 1.8219, 1.8173, 1.8113, 1.7803, 1.7773, 1.7712, 1.7663, 1.7258, 1.7104, 1.6738, 1.6584, 1.6371, 1.5713, 1.2816, 1.0712, 1.5896, 1.568, 0.8537, 0.8111, 0.2568, 0.6881, 0.2655, 0.4952, 0.1101, 0.9179, 1.1267, 0.8287, 0.824, 0.5374, -0.5407, 0.8877, -0.108, 2.4151, 2.2284, 2.2158, 2.1898, 2.1813, 2.1416, 2.0892, 2.0881, 2.0784, 2.0112, 2.0085, 1.9888, 1.9132, 1.8639, 1.8638, 1.8602, 1.8574, 1.8376, 1.8268, 1.8227, 1.811, 1.8073, 1.8003, 1.77, 1.7676, 1.7586, 1.7583, 1.7466, 1.6726, 1.6698, 1.6386, 1.6296, 1.6289, 1.6153, 1.1941, 1.4303, 1.1908, 0.9183, 0.875, 0.3639, 0.4495, 0.9709, 1.1295, 0.2723, 0.1933, 1.1929, 0.6271, 0.8576, 1.0162, 0.1284, 0.6335, 0.863, 0.5261, 0.1433, -0.6628, 2.9056, 2.7153, 2.4679, 2.328, 2.1822, 2.1254, 2.1151, 2.115, 2.1119, 2.1071, 2.0761, 2.0734, 2.0, 1.9825, 1.9785, 1.9519, 1.9247, 1.9245, 1.8847, 1.878, 1.8721, 1.8582, 1.805, 1.804, 1.7886, 1.7772, 1.776, 1.7757, 1.7485, 1.7469, 1.7411, 1.7133, 1.5694, 1.652, 1.6395, 1.0706, 1.5607, 1.4001, 1.2544, 0.9191, 0.9228, 0.1958, 0.0652, 1.2963, 0.8719, 0.6605, 0.5234, 0.6793, 0.617, 0.5264, 0.2565, 0.0311, -0.5771, -0.3888, 0.4078, 3.0246, 2.9506, 2.5653, 2.4691, 2.3911, 2.3741, 2.1767, 2.1534, 2.1268, 2.1113, 2.0931, 2.0733, 2.0518, 2.0322, 1.9926, 1.9846, 1.9798, 1.972, 1.9661, 1.948, 1.9368, 1.9038, 1.8707, 1.8616, 1.8602, 1.8497, 1.8271, 1.8261, 1.8194, 1.8096, 1.732, 1.7421, 1.6588, 1.4607, 1.5123, 1.5456, 1.4848, 1.7602, 0.7265, 0.985, 1.1153, 1.293, 1.0625, 0.3228, 1.017, 0.2382, 1.0094, 0.7102, 0.4174, 0.6083, 1.2612, 0.4918, 0.1023, 2.755, 2.6331, 2.562, 2.5368, 2.4927, 2.485, 2.3311, 2.3256, 2.2875, 2.2264, 2.0999, 2.0608, 2.0584, 2.037, 2.0281, 1.9977, 1.9515, 1.9316, 1.9254, 1.9073, 1.9027, 1.8986, 1.8456, 1.8216, 1.8114, 1.7842, 1.7679, 1.7573, 1.7537, 1.7432, 1.7124, 1.3695, 1.307, 1.0991, 1.4299, 1.4952, 0.8363, 0.733, 0.8351, 0.4666, 0.3304, 1.033, 1.0212, 0.5961, -0.3737, -0.0635, 0.7785, 2.8346, 2.6187, 2.4005, 2.341, 2.2648, 2.234, 2.2258, 2.1736, 2.1674, 2.044, 2.0369, 2.0358, 2.0341, 2.0239, 1.9916, 1.921, 1.8994, 1.8748, 1.8733, 1.8682, 1.8118, 1.8015, 1.7946, 1.7928, 1.7865, 1.7861, 1.7803, 1.7786, 1.7768, 1.7767, 1.7498, 1.5774, 1.6419, 1.6346, 1.6744, 1.607, 1.651, 1.5512, 1.4067, 1.5312, 1.3867, 1.0629, 1.2253, 1.1831, 0.4261, 0.7937, 0.6303, 1.2821, 0.6041, 0.2378, -0.1877, 0.663, 0.5714, 0.9702, 0.2257, -0.0659, 2.9446, 2.8651, 2.708, 2.6118, 2.4064, 2.2081, 2.1585, 2.1569, 2.1516, 2.1405, 2.1126, 2.1088, 2.1031, 2.0563, 2.0304, 1.9876, 1.9161, 1.9109, 1.8895, 1.8871, 1.8429, 1.7858, 1.7796, 1.7726, 1.7724, 1.7635, 1.7594, 1.7557, 1.7536, 1.7527, 1.7478, 1.7408, 1.641, 1.4737, 1.5195, 1.3997, 1.4925, 0.9374, 1.2128, 0.7054, 1.0365, 0.9288, 1.1307, 1.1517, 0.2321, 1.245, -0.1486, 1.4064, -0.1872, -0.3408, 0.3937, 0.6465, 0.7572, 2.7875, 2.5708, 2.5677, 2.53, 2.5144, 2.4999, 2.417, 2.4014, 2.3824, 2.3626, 2.3575, 2.3289, 2.2639, 2.1741, 2.174, 2.1675, 2.1653, 2.1521, 2.1477, 2.1455, 2.1423, 2.1317, 2.122, 2.1215, 2.1177, 2.1128, 2.1121, 2.1003, 1.9954, 1.9758, 1.9589, 1.908, 1.9328, 1.8651, 1.8964, 1.832, 1.9259, 1.834, 1.8934, 1.4298, 1.6265, 1.7191, 1.4616, 1.5078, 0.2609, 1.4574, 0.2303, 0.2222, 1.1496, 1.1781, 0.9013, 0.8441, 0.6492, 0.19, 0.1364, 0.5747, 0.1045, 3.0095, 2.9418, 2.8921, 2.8362, 2.6957, 2.6656, 2.651, 2.6361, 2.5586, 2.4476, 2.3994, 2.3554, 2.3022, 2.2089, 2.1942, 2.1734, 2.1665, 2.1626, 2.1596, 2.1246, 2.1169, 2.0697, 2.0598, 2.0221, 2.0014, 2.0008, 1.9907, 1.9886, 1.9847, 1.9821, 1.9612, 1.8711, 1.6823, 1.7865, 1.7795, 1.6996, 1.7556, 1.6655, 1.3874, 1.4909, 1.017, 0.845, 0.4989, 1.1168, 1.2519, 1.2542, 0.7031, 0.0995, 0.4497, 0.6104, -0.3415, 1.2002, 1.3947, 0.7503, 3.6162, 3.1948, 2.9871, 2.8971, 2.8644, 2.8288, 2.8022, 2.7951, 2.7947, 2.659, 2.6118, 2.4796, 2.4644, 2.4341, 2.4106, 2.3894, 2.3605, 2.3343, 2.2868, 2.2856, 2.2772, 2.2633, 2.2605, 2.247, 2.2324, 2.2251, 2.1925, 2.186, 2.1801, 2.1615, 2.1239, 1.9993, 1.943, 1.8069, 1.8596, 1.6949, 1.3131, 1.3476, 1.0544, 0.8376, 1.3202, 0.8623, -0.4726, 0.1091, 0.7875, 0.0498, 1.5851, 1.5136, 1.3438, 1.8072]}, \"token.table\": {\"Topic\": [1, 7, 10, 12, 14, 17, 20, 2, 4, 12, 13, 14, 4, 8, 9, 11, 15, 16, 18, 3, 9, 14, 15, 16, 2, 4, 12, 13, 18, 3, 4, 10, 12, 15, 20, 1, 2, 4, 8, 13, 14, 20, 1, 10, 14, 3, 5, 11, 12, 13, 1, 2, 3, 5, 6, 9, 10, 12, 14, 15, 17, 18, 19, 6, 13, 17, 18, 1, 2, 5, 7, 12, 2, 3, 8, 10, 11, 13, 20, 1, 2, 3, 11, 13, 15, 2, 4, 5, 10, 12, 2, 3, 5, 8, 9, 10, 19, 2, 4, 12, 13, 15, 1, 2, 3, 6, 9, 10, 11, 12, 13, 15, 16, 17, 18, 19, 1, 2, 7, 8, 12, 7, 8, 9, 16, 19, 2, 3, 5, 13, 15, 18, 1, 3, 4, 5, 6, 7, 8, 10, 14, 4, 8, 10, 11, 17, 1, 2, 3, 4, 5, 6, 7, 8, 10, 12, 13, 15, 19, 1, 2, 3, 4, 5, 6, 10, 11, 1, 2, 4, 5, 6, 7, 8, 9, 11, 12, 13, 15, 16, 17, 18, 19, 2, 8, 10, 11, 13, 18, 1, 2, 3, 4, 5, 6, 7, 8, 9, 11, 15, 17, 19, 20, 1, 2, 3, 4, 5, 6, 7, 8, 10, 11, 12, 13, 17, 1, 2, 3, 4, 5, 6, 7, 8, 10, 12, 16, 19, 2, 3, 5, 15, 1, 2, 3, 6, 8, 14, 1, 2, 10, 1, 2, 3, 4, 6, 7, 8, 9, 13, 15, 16, 5, 7, 12, 3, 4, 6, 7, 4, 7, 14, 17, 1, 3, 8, 15, 19, 2, 3, 4, 5, 15, 1, 5, 13, 1, 3, 18, 3, 4, 8, 10, 11, 1, 2, 3, 9, 10, 13, 14, 18, 1, 2, 5, 6, 9, 10, 13, 18, 2, 3, 4, 5, 6, 11, 12, 13, 17, 1, 5, 6, 11, 1, 3, 7, 18, 3, 6, 8, 11, 15, 1, 2, 11, 16, 2, 7, 10, 12, 15, 17, 2, 4, 8, 9, 16, 18, 1, 2, 3, 1, 2, 3, 4, 5, 6, 7, 8, 9, 11, 12, 13, 14, 15, 20, 1, 3, 9, 13, 1, 5, 11, 1, 2, 8, 11, 16, 4, 6, 8, 11, 14, 20, 2, 4, 6, 14, 2, 4, 6, 19, 4, 7, 8, 10, 13, 15, 1, 3, 4, 6, 8, 12, 15, 1, 5, 15, 3, 6, 9, 13, 14, 16, 2, 4, 5, 6, 11, 14, 19, 5, 7, 8, 1, 4, 6, 7, 8, 9, 11, 13, 1, 2, 6, 12, 13, 1, 5, 10, 13, 14, 17, 20, 2, 4, 8, 13, 1, 2, 3, 4, 9, 10, 11, 13, 14, 16, 18, 19, 1, 3, 4, 6, 8, 9, 10, 11, 13, 15, 16, 1, 3, 5, 15, 17, 18, 20, 8, 9, 10, 14, 2, 3, 7, 9, 11, 1, 3, 6, 15, 16, 17, 1, 3, 5, 6, 11, 16, 17, 6, 11, 12, 14, 2, 5, 15, 2, 3, 8, 13, 14, 15, 1, 2, 4, 5, 6, 7, 8, 9, 10, 11, 12, 13, 14, 1, 2, 3, 4, 9, 11, 12, 14, 15, 18, 1, 2, 6, 7, 9, 13, 16, 17, 2, 5, 8, 17, 1, 2, 3, 4, 5, 6, 7, 8, 9, 10, 13, 16, 17, 19, 2, 3, 13, 1, 6, 11, 17, 18, 1, 2, 6, 9, 12, 1, 2, 6, 8, 11, 1, 2, 3, 5, 6, 9, 16, 2, 3, 13, 16, 17, 20, 2, 4, 6, 11, 17, 2, 3, 7, 9, 11, 12, 16, 1, 3, 1, 3, 10, 11, 16, 19, 2, 11, 12, 1, 11, 2, 4, 5, 6, 7, 8, 9, 13, 18, 2, 4, 7, 8, 9, 10, 12, 19, 3, 4, 12, 16, 5, 6, 7, 8, 9, 14, 1, 3, 4, 5, 10, 11, 17, 1, 2, 7, 12, 13, 2, 3, 5, 6, 9, 10, 2, 4, 8, 13, 16, 1, 2, 4, 1, 2, 4, 5, 9, 3, 5, 7, 10, 11, 14, 17, 2, 8, 10, 11, 13, 1, 2, 10, 12, 15, 1, 2, 4, 7, 16, 1, 2, 4, 5, 8, 11, 14, 17, 1, 6, 7, 12, 14, 3, 4, 6, 13, 15, 17, 18, 19, 2, 5, 6, 14, 15, 1, 3, 4, 5, 6, 8, 9, 11, 13, 14, 16, 17, 1, 10, 15, 18, 20, 2, 5, 9, 18, 4, 5, 12, 1, 2, 4, 5, 10, 12, 13, 16, 17, 19, 2, 3, 7, 20, 1, 2, 3, 4, 5, 11, 12, 17, 1, 3, 7, 8, 12, 1, 2, 3, 6, 7, 19, 5, 13, 15, 2, 4, 5, 9, 12, 2, 3, 8, 15, 1, 2, 9, 19, 20, 4, 6, 15, 2, 3, 4, 7, 10, 12, 1, 2, 3, 5, 7, 8, 9, 11, 12, 13, 14, 16, 18, 20, 6, 7, 9, 11, 12, 1, 2, 7, 13, 17, 1, 2, 5, 1, 2, 3, 4, 5, 6, 7, 8, 9, 10, 11, 13, 14, 16, 17, 18, 19, 1, 2, 6, 7, 8, 9, 12, 13, 15, 18, 2, 6, 9, 13, 16, 19, 20, 1, 6, 8, 10, 11, 13, 16, 1, 3, 7, 10, 14, 15, 17, 1, 5, 18, 1, 2, 3, 4, 5, 7, 8, 11, 12, 16, 6, 8, 9, 11, 1, 3, 5, 10, 13, 15, 1, 2, 4, 5, 6, 8, 9, 11, 12, 13, 14, 15, 16, 17, 1, 2, 3, 4, 5, 6, 7, 8, 9, 10, 11, 13, 14, 18, 19, 20, 1, 5, 6, 8, 10, 14, 15, 17, 18, 20, 3, 4, 13, 16, 19, 20, 1, 3, 4, 5, 6, 7, 8, 9, 11, 13, 14, 4, 6, 7, 9, 15, 1, 5, 9, 17, 2, 6, 10, 13, 16, 18, 1, 3, 5, 16, 1, 4, 8, 12, 1, 2, 4, 5, 8, 10, 1, 2, 3, 4, 5, 7, 8, 9, 10, 11, 13, 15, 16, 18, 19, 1, 2, 3, 4, 5, 6, 10, 13, 17, 19, 1, 2, 3, 4, 5, 10, 15, 1, 4, 5, 8, 10, 11, 16, 18, 20, 5, 7, 12, 15, 16, 2, 5, 6, 9, 11, 13, 15, 1, 3, 4, 5, 13, 15, 6, 7, 9, 10, 16, 1, 6, 8, 14, 16, 4, 6, 8, 14, 19, 1, 2, 3, 12, 14, 15, 1, 2, 11, 15, 1, 2, 3, 4, 5, 6, 7, 8, 10, 11, 12, 14, 15, 16, 10, 11, 12, 13, 19, 1, 2, 3, 4, 5, 6, 8, 9, 10, 11, 12, 13, 14, 15, 16, 17, 18, 1, 6, 8, 11, 18, 1, 4, 6, 12, 13, 16, 20, 2, 4, 5, 6, 10, 11, 13, 17, 2, 4, 8, 11, 17, 2, 5, 7, 9, 11, 13, 14, 17, 1, 2, 5, 6, 8, 9, 10, 13, 17, 2, 3, 7, 9, 11, 12, 19, 1, 3, 6, 7, 11, 12, 14, 3, 19, 20, 1, 2, 5, 7, 8, 9, 18, 1, 6, 9, 10, 14, 3, 5, 6, 8, 12, 14, 1, 2, 4, 8, 10, 11, 16, 1, 9, 16, 17, 1, 3, 4, 6, 7, 9, 14, 17, 18, 20, 3, 9, 13, 15, 16, 1, 2, 3, 4, 5, 6, 9, 10, 12, 13, 14, 19, 1, 5, 7, 19, 1, 2, 3, 5, 7, 8, 10, 13, 14, 17, 3, 6, 18, 1, 2, 7, 10, 15, 1, 2, 4, 5, 6, 11, 1, 2, 3, 7, 11, 13, 15, 1, 2, 4, 6, 15, 1, 7, 9, 12, 14, 1, 6, 11, 13, 14, 1, 14, 17, 19, 2, 3, 4, 6, 2, 4, 7, 1, 3, 4, 5, 12, 13, 15, 18, 2, 3, 4, 7, 8, 9, 13, 15, 1, 4, 8, 3, 12, 16, 18, 20, 1, 2, 3, 4, 5, 8, 9, 12, 13, 14, 20, 4, 8, 9, 13, 14, 16, 17, 18, 3, 10, 11, 12, 16, 2, 4, 6, 7, 9, 11, 12, 13, 17, 19, 1, 7, 14, 16, 20, 2, 3, 4, 9, 10, 13, 14, 17, 18, 2, 3, 7, 9, 2, 3, 5, 6, 9, 13, 14, 18, 1, 5, 6, 12, 13, 15, 19, 1, 3, 5, 7, 15, 3, 4, 8, 9, 10, 4, 6, 7, 13, 18, 1, 3, 4, 5, 9, 11, 14, 3, 6, 13, 17, 19, 2, 6, 12, 14, 1, 2, 5, 2, 3, 4, 5, 6, 7, 8, 9, 10, 12, 13, 14, 15, 17, 19, 1, 2, 3, 4, 6, 7, 10, 11, 12, 13, 14, 20, 1, 2, 3, 4, 5, 6, 7, 8, 10, 11, 12, 13, 14, 17, 2, 11, 19, 4, 5, 17, 19, 2, 10, 16, 5, 8, 9, 12, 1, 2, 3, 4, 6, 10, 11, 16, 17, 1, 2, 3, 13, 18, 1, 2, 5, 6, 7, 12, 1, 5, 10, 12, 15, 19, 1, 2, 3, 4, 5, 6, 7, 8, 9, 11, 12, 13, 15, 16, 17, 18, 19, 1, 2, 4, 11, 12, 1, 4, 5, 6, 7, 11, 12, 13, 14, 17, 20, 2, 4, 7, 9, 10, 12, 13, 14, 18, 1, 2, 3, 4, 5, 6, 8, 11, 12, 13, 14, 16, 17, 18, 1, 2, 3, 4, 5, 6, 7, 8, 10, 11, 12, 13, 14, 16, 17, 18, 1, 3, 4, 5, 8, 10, 11, 14, 17, 2, 5, 8, 11, 14, 1, 2, 6, 9, 17, 2, 3, 5, 6, 8, 11, 12, 13, 4, 7, 9, 10, 13, 15, 19, 6, 7, 9, 12, 14, 18, 1, 2, 5, 12, 14, 15, 19, 2, 3, 11, 15, 16, 17, 20, 7, 8, 15, 16, 20, 1, 4, 5, 7, 14, 1, 3, 4, 5, 6, 12, 15, 20, 1, 2, 4, 6, 9, 11, 14, 16, 17, 19, 4, 7, 8, 9, 17, 5, 8, 9, 11, 14, 17, 19, 1, 4, 8, 9, 13, 14, 17, 18, 1, 2, 4, 5, 6, 7, 14, 16, 19, 20, 2, 3, 5, 11, 15, 3, 5, 8, 11, 12, 16, 2, 4, 9, 20, 3, 5, 10, 16, 17, 18, 3, 7, 8, 9, 15, 1, 2, 3, 12, 14, 17, 3, 7, 10, 16, 17, 1, 2, 4, 5, 11, 12, 14, 18, 2, 4, 5, 11, 14, 16, 1, 3, 6, 8, 11, 4, 5, 6, 8, 14, 1, 2, 4, 6, 7, 11, 16, 17, 2, 4, 14, 20, 1, 5, 11, 1, 2, 10, 11, 19, 2, 5, 9, 12, 1, 2, 5, 9, 13, 16, 1, 2, 3, 4, 5, 6, 7, 8, 9, 10, 11, 12, 13, 14, 15, 16, 17, 18, 19, 20, 2, 3, 7, 20, 2, 3, 4, 5, 6, 7, 8, 9, 15, 16, 17, 18, 19, 1, 2, 3, 4, 5, 9, 10, 12, 18, 1, 10, 13, 14, 2, 3, 5, 9, 3, 6, 7, 10, 18, 8, 11, 17, 3, 5, 10, 13, 16, 1, 6, 10, 16, 19, 1, 2, 5, 7, 8, 13, 1, 2, 8, 10, 12, 13, 1, 2, 3, 5, 8, 9, 10, 15, 17, 20, 1, 4, 5, 7, 10, 12, 1, 2, 3, 4, 5, 6, 7, 8, 9, 10, 11, 13, 14, 15, 19, 2, 4, 5, 8, 11, 12, 16, 20, 1, 8, 11, 14, 16, 1, 6, 14, 17, 2, 4, 7, 9, 16, 18, 1, 2, 3, 4, 5, 6, 7, 8, 9, 10, 11, 12, 13, 16, 1, 2, 3, 5, 6, 8, 9, 13, 15, 16, 17, 18, 1, 2, 8, 9, 2, 4, 5, 6, 9, 11, 13, 1, 2, 3, 6, 7, 10, 12, 15, 19, 20, 1, 4, 8, 10, 13, 15, 16, 18, 19, 1, 11, 12, 13, 17, 3, 7, 12, 19, 20, 1, 2, 3, 4, 5, 7, 8, 10, 11, 13, 15, 19, 1, 2, 3, 4, 6, 7, 8, 9, 10, 11, 12, 13, 14, 16, 17, 18, 7, 9, 12, 14, 15, 1, 2, 3, 4, 7, 10, 11, 18, 1, 7, 18, 1, 2, 3, 4, 5, 6, 7, 8, 10, 11, 12, 14, 15, 16, 17, 1, 2, 3, 4, 5, 6, 7, 8, 9, 10, 13, 15, 16, 17, 18, 19, 1, 2, 3, 5, 6, 9, 13, 18, 1, 5, 17, 1, 2, 3, 4, 5, 7, 8, 9, 10, 11, 12, 14, 15, 20, 1, 3, 4, 6, 7, 8, 9, 11, 12, 14, 18, 19, 1, 4, 11, 13, 15, 19, 20, 5, 8, 12, 14, 17, 1, 3, 5, 6, 7, 8, 9, 12, 14, 19, 20, 1, 13, 14, 17, 2, 3, 4, 5, 6, 7, 9, 11, 13, 14, 16, 17, 18, 10, 14, 15, 19, 20, 3, 4, 9, 16, 17, 1, 3, 4, 6, 7, 8, 10, 1, 2, 3, 5, 11, 14, 17, 19, 1, 2, 3, 4, 5, 6, 13, 15, 2, 6, 12, 15, 18, 3, 16, 17, 2, 6, 7, 8, 17, 1, 5, 9, 11, 13, 16, 1, 2, 4, 5, 7, 8, 11, 12, 1, 4, 5, 9, 11, 1, 2, 3, 4, 5, 6, 7, 8, 9, 10, 11, 12, 13, 14, 15, 17, 19, 1, 2, 3, 4, 5, 6, 7, 8, 9, 10, 11, 12, 15, 16, 1, 2, 3, 8, 9, 10, 15, 19, 1, 2, 5, 8, 12, 16, 20, 2, 3, 4, 8, 1, 2, 3, 4, 5, 6, 7, 8, 9, 10, 11, 12, 13, 14, 15, 16, 17, 19, 1, 2, 3, 4, 5, 8, 10, 11, 13, 3, 5, 6, 7, 8, 12, 14, 1, 5, 8, 9, 11, 1, 4, 5, 6, 7, 8, 11, 14, 16, 18, 19, 2, 3, 5, 9, 10, 13, 17, 18, 7, 9, 13, 15, 18, 2, 5, 8, 11, 12, 15, 17, 1, 2, 3, 4, 5, 6, 7, 8, 9, 10, 11, 12, 13, 14, 16, 17, 18, 19, 3, 5, 6, 9, 13, 16, 6, 7, 10, 12, 6, 7, 12, 18, 3, 4, 5, 12, 17, 3, 4, 9, 11, 15, 1, 5, 10, 15, 1, 2, 5, 6, 7, 8, 9, 10, 11, 13, 15, 16, 17, 18, 19, 1, 2, 5, 6, 8, 9, 10, 12, 13, 15, 1, 2, 3, 6, 7, 8, 10, 11, 12, 13, 15, 20, 2, 3, 4, 9, 10, 12, 13, 4, 5, 6, 14, 18, 3, 4, 5, 7, 8, 13, 20, 1, 5, 6, 13, 5, 6, 7, 8, 9, 13, 14, 18, 19, 1, 2, 3, 4, 5, 6, 7, 8, 9, 10, 11, 12, 13, 15, 16, 17, 18, 20, 1, 2, 3, 4, 5, 6, 7, 8, 9, 10, 12, 13, 14, 1, 2, 4, 6, 8, 9, 11, 12, 13, 14, 16, 5, 6, 8, 2, 7, 9, 11, 12, 3, 4, 13, 15, 18, 1, 2, 3, 6, 9, 12, 16, 2, 3, 6, 7, 8, 9, 11, 13, 15, 16, 20, 1, 4, 6, 11, 12, 15, 1, 2, 3, 4, 8, 10, 11, 16, 2, 4, 5, 6, 17, 1, 2, 3, 4, 5, 7, 8, 9, 10, 11, 12, 13, 14, 15, 17, 2, 3, 4, 10, 11, 13, 16, 1, 2, 3, 6, 9, 12, 17, 18, 19, 1, 2, 3, 5, 8, 12, 19, 6, 7, 14, 16, 2, 3, 4, 13, 14, 19, 1, 2, 3, 4, 5, 6, 8, 9, 10, 11, 13, 15, 16, 17, 19, 20, 1, 3, 4, 5, 6, 7, 8, 9, 10, 11, 12, 14, 15, 17, 1, 4, 5, 15, 1, 2, 3, 4, 6, 7, 11, 1, 2, 3, 6, 7, 10, 14, 17, 1, 2, 3, 5, 6, 10, 2, 3, 10, 12, 13, 15, 16, 1, 8, 15, 1, 5, 7, 13, 1, 3, 9, 16, 2, 3, 11, 13, 14, 1, 2, 3, 5, 6, 10, 11, 14, 19, 3, 11, 16, 17, 1, 3, 8, 9, 10, 11, 19, 1, 2, 3, 4, 5, 9, 10, 11, 12, 13, 16, 17, 18, 1, 3, 9, 10, 12, 17, 2, 11, 19, 1, 2, 8, 9, 1, 3, 6, 7, 11, 16, 18, 6, 11, 1, 4, 11, 15, 1, 13, 15, 17, 18, 1, 2, 3, 4, 5, 8, 10, 12, 14, 1, 5, 9, 2, 3, 5, 6, 11, 2, 10, 18, 6, 13, 15, 17, 1, 2, 5, 6, 9, 10, 12, 14, 16, 19, 2, 6, 7, 15, 3, 5, 6, 9, 10, 13, 14, 1, 4, 7, 8, 11, 14, 1, 2, 6, 14, 3, 4, 6, 12, 13, 19, 4, 7, 11, 16, 17, 1, 2, 5, 7, 2, 3, 4, 5, 8, 9, 10, 13, 1, 3, 4, 7, 9, 10, 11, 12, 17, 18, 11, 12, 15, 20, 1, 2, 3, 4, 6, 9, 12, 13, 2, 3, 4, 5, 7, 9, 10, 11, 12, 13, 15, 19, 4, 5, 12, 19, 3, 10, 13, 15, 16, 2, 5, 6, 9, 10, 11, 20, 4, 6, 7, 11, 14, 1, 5, 8, 10, 12, 14, 18, 1, 9, 10, 18, 1, 4, 5, 8, 10, 15, 2, 4, 6, 8, 10, 11, 1, 3, 5, 19, 1, 4, 6, 8, 9, 10, 11, 14, 16, 17, 1, 6, 7, 8, 9, 10, 13, 14, 17, 18, 1, 6, 15, 16, 17, 2, 3, 4, 5, 6, 7, 8, 9, 11, 13, 14, 15, 16, 17, 18, 19, 1, 2, 3, 6, 8, 13, 15, 19, 3, 5, 6, 7, 14, 1, 2, 3, 4, 8, 11, 12, 15, 16, 20, 1, 2, 3, 5, 6, 8, 9, 10, 12, 14, 19, 2, 11, 14, 2, 6, 8, 11, 12, 1, 9, 10, 1, 3, 4, 6, 7, 8, 9, 10, 12, 13, 14, 15, 16, 17, 19, 1, 2, 3, 4, 5, 6, 7, 8, 9, 10, 12, 16, 1, 17, 18, 19, 3, 4, 7, 8, 15, 20, 2, 3, 5, 7, 13, 14, 18, 19, 2, 3, 6, 8, 9, 12, 13, 14, 17, 18, 3, 4, 5, 6, 7, 10, 13, 18, 4, 5, 19, 3, 5, 12, 14, 2, 8, 11, 14, 17, 4, 5, 7, 10, 14, 1, 2, 5, 12, 15, 16, 17, 1, 8, 12, 20, 1, 7, 8, 9, 12, 13, 15, 1, 3, 4, 8, 9, 10, 12, 14, 18, 2, 3, 4, 10, 18, 3, 4, 11, 15, 19, 1, 2, 4, 5, 6, 12, 1, 4, 8, 10, 18, 19, 1, 4, 5, 12, 15, 2, 3, 7, 10, 18, 20, 5, 8, 10, 18, 19, 1, 12, 13, 1, 4, 5, 8, 13, 15, 1, 2, 3, 4, 5, 6, 9, 10, 12, 13, 14, 17, 19, 1, 2, 4, 5, 7, 10, 12, 13, 18, 11, 14, 17, 18, 19, 1, 2, 3, 6, 7, 8, 9, 10, 11, 13, 15, 16, 19, 2, 9, 11, 15, 1, 2, 8, 12, 2, 7, 17, 2, 3, 5, 17, 2, 3, 4, 6, 7, 17, 2, 4, 9, 14, 19, 1, 7, 10, 12, 19, 1, 2, 3, 4, 5, 6, 7, 9, 11, 15, 16, 17, 20, 1, 4, 10, 14, 1, 2, 3, 4, 5, 6, 7, 9, 13, 16, 18, 1, 3, 6, 8, 3, 12, 1, 3, 4, 5, 6, 9, 10, 12, 14, 18, 2, 3, 5, 9, 4, 5, 6, 14, 16, 19, 2, 4, 5, 6, 7, 11, 17, 1, 2, 4, 16, 17, 1, 2, 4, 1, 2, 5, 6, 8, 10, 13, 4, 5, 9, 12, 14, 19, 1, 2, 4, 5, 7, 9, 10, 14, 16, 19, 6, 12, 16, 18, 1, 3, 4, 5, 6, 7, 8, 9, 13, 14, 15, 16, 17, 1, 5, 10, 11, 16, 1, 2, 3, 4, 5, 6, 7, 8, 9, 10, 11, 12, 13, 14, 15, 17, 19, 1, 2, 3, 4, 5, 10, 11, 12, 13, 16, 17, 3, 5, 18, 20, 1, 3, 12, 13, 15, 16, 18, 20, 3, 5, 7, 9, 10, 12, 20, 1, 3, 7, 8, 10, 15, 16, 19, 3, 4, 12, 14, 18, 2, 3, 5, 6, 7, 14, 17, 1, 8, 15, 2, 4, 7, 9, 11, 15, 1, 3, 6, 17, 2, 3, 8, 9, 18, 1, 2, 5, 9, 14, 3, 4, 6, 7, 8, 1, 2, 5, 8, 17, 1, 7, 8, 9, 6, 14, 16, 19, 20, 1, 2, 3, 14, 17, 2, 3, 5, 6, 10, 12, 13, 14, 17, 1, 2, 5, 6, 12, 14, 18, 19, 1, 2, 5, 14, 17, 1, 2, 3, 6, 13, 15, 1, 2, 3, 5, 6, 7, 8, 9, 10, 11, 13, 17, 20, 1, 10, 14, 17, 19, 1, 2, 4, 5, 6, 7, 8, 10, 11, 12, 13, 15, 16, 18, 20, 1, 7, 10, 12, 1, 4, 8, 9, 10, 12, 15, 17, 18, 6, 10, 2, 3, 10, 17, 1, 8, 13, 14, 1, 2, 3, 4, 5, 6, 7, 9, 10, 12, 13, 14, 16, 17, 18, 19, 1, 2, 3, 5, 6, 8, 9, 10, 12, 14, 15, 16, 20, 1, 2, 3, 4, 5, 6, 7, 8, 9, 10, 11, 13, 14, 15, 16, 17, 18, 19, 20, 1, 6, 17, 1, 6, 8, 11, 13, 14, 19, 1, 3, 10, 13, 19, 1, 4, 5, 6, 10, 13, 1, 3, 4, 15, 1, 3, 4, 5, 1, 3, 4, 6, 8, 10, 11, 15, 17, 18, 1, 3, 9, 16, 18, 1, 2, 5, 6, 9, 13, 15, 16, 18, 1, 4, 15, 16, 19, 1, 2, 12, 13, 17, 1, 2, 3, 4, 5, 6, 7, 8, 9, 10, 12, 13, 14, 15, 18, 4, 6, 11, 13, 20, 1, 2, 3, 4, 5, 10, 1, 3, 4, 7, 11, 13, 14, 16, 17, 2, 5, 11, 12, 17, 1, 2, 2, 9, 14, 10, 11, 12, 13, 3, 4, 6, 8, 9, 11, 12, 14, 16, 1, 3, 4, 5, 6, 7, 9, 12, 14, 15, 16, 17, 1, 2, 9, 12, 17, 2, 4, 5, 15, 16, 1, 4, 5, 14, 15, 3, 10, 12, 15, 2, 3, 4, 6, 7, 8, 9, 10, 11, 14, 16, 2, 4, 8, 9, 1, 2, 4, 9, 12, 1, 4, 8, 13, 16, 20, 1, 6, 8, 9, 1, 7, 18, 19, 1, 3, 4, 7, 8, 9, 20, 4, 5, 6, 11, 12, 15, 1, 2, 4, 5, 9, 10, 11, 15, 17, 18, 2, 5, 7, 14, 15, 16, 17, 18, 4, 5, 10, 11, 14, 15, 17, 20, 7, 10, 16, 2, 3, 5, 12, 17, 2, 3, 9, 11, 3, 4, 6, 8, 1, 3, 4, 5, 6, 9, 10, 11, 17, 18, 19, 2, 3, 9, 12, 19, 4, 14, 16, 1, 3, 5, 6, 9, 13, 2, 3, 4, 5, 9, 11, 17, 20, 1, 2, 4, 5, 7, 8, 10, 11, 17, 1, 2, 4, 5, 7, 9, 12, 13, 15, 17, 19, 20, 1, 10, 12, 3, 6, 10, 1, 2, 3, 5, 6, 8, 11, 15, 1, 3, 5, 16, 6, 14, 2, 4, 6, 10, 13, 15, 1, 2, 5, 19, 1, 2, 3, 4, 5, 6, 7, 8, 9, 10, 11, 12, 13, 14, 15, 16, 17, 18, 19, 20, 1, 3, 5, 7, 12, 15, 16, 18, 1, 2, 3, 4, 5, 6, 7, 8, 9, 10, 12, 13, 15, 17, 18, 19, 1, 3, 5, 16, 2, 3, 8, 10, 11, 13, 1, 2, 7, 9, 11, 13, 16, 20, 1, 2, 3, 4, 5, 6, 7, 8, 9, 13, 14, 15, 17, 1, 3, 4, 5, 6, 7, 8, 10, 11, 12, 13, 16, 17, 1, 4, 5, 9, 12, 14, 18, 1, 2, 6, 7, 8, 11, 3, 6, 9, 11, 2, 4, 8, 11, 3, 8, 11, 15, 20, 3, 5, 8, 12, 3, 4, 6, 7, 8, 9, 11, 13, 15, 20, 1, 5, 7, 8, 13, 14, 15, 2, 6, 8, 9, 13, 16, 19, 1, 3, 11, 12, 13, 1, 4, 9, 10, 15, 1, 2, 3, 4, 5, 6, 7, 9, 10, 12, 13, 14, 15, 17, 18, 3, 6, 11, 16, 17, 4, 5, 19, 3, 4, 7, 13, 17, 2, 3, 15, 1, 2, 3, 4, 5, 6, 7, 8, 10, 11, 12, 13, 14, 15, 18, 3, 5, 10, 15, 18, 1, 2, 3, 4, 5, 6, 7, 8, 9, 12, 14, 15, 17, 1, 2, 3, 4, 5, 6, 8, 9, 10, 11, 13, 15, 16, 17, 19, 1, 4, 5, 11, 14, 15, 16, 3, 5, 9, 19, 1, 2, 3, 4, 7, 10, 11, 12, 14, 17, 18, 19, 2, 4, 5, 7, 8, 9, 13, 16, 19, 1, 2, 3, 4, 5, 7, 8, 9, 11, 12, 14, 15, 16, 18, 19, 20, 3, 9, 1, 5, 6, 12, 1, 2, 3, 5, 6, 7, 8, 12, 15, 17, 1, 3, 4, 5, 6, 7, 8, 9, 10, 11, 13, 15, 16, 17, 19, 1, 2, 4, 9, 1, 4, 11, 14, 1, 3, 4, 7, 10, 17, 1, 6, 8, 9, 14, 1, 4, 11, 13, 17, 19, 20, 5, 6, 19, 1, 2, 3, 4, 5, 9, 10, 11, 12, 13, 15, 16, 18, 19, 1, 2, 3, 4, 5, 6, 8, 9, 11, 14, 15, 17, 1, 2, 3, 4, 5, 6, 7, 8, 9, 10, 11, 12, 13, 14, 15, 16, 17, 18, 19, 20, 1, 2, 4, 5, 6, 8, 11, 18, 3, 5, 8, 10, 11, 14, 19, 1, 2, 3, 4, 6, 8, 11, 3, 5, 6, 7, 9, 11, 13, 14, 15, 16, 18, 1, 3, 13, 14, 1, 2, 3, 4, 6, 7, 12, 14, 17, 1, 2, 4, 5, 6, 7, 8, 10, 12, 16, 17, 20, 2, 4, 13, 17, 19, 2, 11, 16, 3, 4, 12, 14, 16, 1, 2, 6, 8, 13, 14, 17, 1, 2, 3, 4, 5, 6, 7, 9, 11, 18, 19, 1, 2, 3, 5, 7, 12, 18, 19, 1, 4, 7, 8, 9, 10, 15, 16, 19, 1, 2, 4, 6, 9, 11, 15, 17], \"Freq\": [0.10881892636604616, 0.10881892636604616, 0.32645677909813847, 0.10881892636604616, 0.10881892636604616, 0.10881892636604616, 0.10881892636604616, 0.1807639028585, 0.1807639028585, 0.1807639028585, 0.1807639028585, 0.1807639028585, 0.1538647457596781, 0.07693237287983905, 0.23079711863951713, 0.23079711863951713, 0.07693237287983905, 0.1538647457596781, 0.07693237287983905, 0.1808591687128382, 0.1808591687128382, 0.1808591687128382, 0.1808591687128382, 0.1808591687128382, 0.07713787046917021, 0.15427574093834043, 0.30855148187668086, 0.30855148187668086, 0.07713787046917021, 0.08989432148112986, 0.08989432148112986, 0.4494716074056493, 0.08989432148112986, 0.17978864296225971, 0.08989432148112986, 0.10835896057663347, 0.10835896057663347, 0.10835896057663347, 0.21671792115326693, 0.21671792115326693, 0.10835896057663347, 0.10835896057663347, 0.5925359924056841, 0.14813399810142103, 0.14813399810142103, 0.1421534860127886, 0.6633829347263468, 0.04738449533759619, 0.04738449533759619, 0.04738449533759619, 0.2206434266104963, 0.13238605596629777, 0.04412868532209926, 0.06619302798314888, 0.13238605596629777, 0.06619302798314888, 0.04412868532209926, 0.11032171330524815, 0.02206434266104963, 0.06619302798314888, 0.02206434266104963, 0.02206434266104963, 0.04412868532209926, 0.30843642215423167, 0.15421821107711584, 0.15421821107711584, 0.15421821107711584, 0.13268075218035513, 0.26536150436071027, 0.13268075218035513, 0.13268075218035513, 0.26536150436071027, 0.05936304593289401, 0.23745218373157603, 0.17808913779868202, 0.17808913779868202, 0.05936304593289401, 0.11872609186578802, 0.05936304593289401, 0.06319086522600026, 0.3791451913560015, 0.12638173045200052, 0.18957259567800075, 0.12638173045200052, 0.06319086522600026, 0.15206634805915098, 0.30413269611830196, 0.15206634805915098, 0.15206634805915098, 0.15206634805915098, 0.08913793075151866, 0.08913793075151866, 0.08913793075151866, 0.17827586150303731, 0.08913793075151866, 0.26741379225455597, 0.17827586150303731, 0.16545269548274044, 0.3309053909654809, 0.24817904322411066, 0.08272634774137022, 0.08272634774137022, 0.05633105473042264, 0.19715869155647922, 0.08449658209563396, 0.19715869155647922, 0.05633105473042264, 0.08449658209563396, 0.05633105473042264, 0.05633105473042264, 0.02816552736521132, 0.02816552736521132, 0.05633105473042264, 0.05633105473042264, 0.02816552736521132, 0.02816552736521132, 0.1320960599419198, 0.1320960599419198, 0.1320960599419198, 0.2641921198838396, 0.2641921198838396, 0.343053526840666, 0.0857633817101665, 0.3001718359855827, 0.171526763420333, 0.04288169085508325, 0.11800279756876395, 0.05900139878438197, 0.4130097914906738, 0.05900139878438197, 0.2360055951375279, 0.05900139878438197, 0.22617188519536197, 0.22617188519536197, 0.04523437703907239, 0.22617188519536197, 0.04523437703907239, 0.04523437703907239, 0.09046875407814478, 0.04523437703907239, 0.04523437703907239, 0.23746709152890744, 0.23746709152890744, 0.11873354576445372, 0.23746709152890744, 0.11873354576445372, 0.1929396596497851, 0.04287547992217447, 0.1286264397665234, 0.1286264397665234, 0.10718869980543617, 0.0643132198832617, 0.0643132198832617, 0.0643132198832617, 0.04287547992217447, 0.021437739961087235, 0.08575095984434894, 0.04287547992217447, 0.021437739961087235, 0.26226664415893497, 0.06556666103973374, 0.06556666103973374, 0.13113332207946748, 0.06556666103973374, 0.13113332207946748, 0.06556666103973374, 0.19669998311920123, 0.1354337756865374, 0.17412914016840522, 0.038695364481867826, 0.09673841120466957, 0.09673841120466957, 0.07739072896373565, 0.019347682240933913, 0.05804304672280174, 0.019347682240933913, 0.038695364481867826, 0.019347682240933913, 0.038695364481867826, 0.038695364481867826, 0.05804304672280174, 0.038695364481867826, 0.019347682240933913, 0.21335062824956563, 0.32002594237434845, 0.10667531412478282, 0.10667531412478282, 0.10667531412478282, 0.10667531412478282, 0.07174122119797578, 0.11956870199662631, 0.07174122119797578, 0.02391374039932526, 0.07174122119797578, 0.09565496159730104, 0.09565496159730104, 0.02391374039932526, 0.16739618279527682, 0.09565496159730104, 0.02391374039932526, 0.04782748079865052, 0.09565496159730104, 0.02391374039932526, 0.10822715941686335, 0.054113579708431676, 0.13528394927107917, 0.162340739125295, 0.054113579708431676, 0.0811703695626475, 0.0811703695626475, 0.13528394927107917, 0.027056789854215838, 0.027056789854215838, 0.054113579708431676, 0.027056789854215838, 0.054113579708431676, 0.32810381526363597, 0.0596552391388429, 0.0596552391388429, 0.14913809784710724, 0.08948285870826435, 0.08948285870826435, 0.02982761956942145, 0.02982761956942145, 0.02982761956942145, 0.0596552391388429, 0.02982761956942145, 0.0596552391388429, 0.26614957317036253, 0.39922435975554377, 0.13307478658518127, 0.13307478658518127, 0.4784279488201858, 0.07973799147003097, 0.07973799147003097, 0.15947598294006193, 0.07973799147003097, 0.07973799147003097, 0.4593624139233354, 0.11484060348083384, 0.2296812069616677, 0.02076252720858228, 0.02076252720858228, 0.12457516325149369, 0.04152505441716456, 0.10381263604291141, 0.04152505441716456, 0.24915032650298738, 0.29067538092015194, 0.02076252720858228, 0.02076252720858228, 0.04152505441716456, 0.5265057567842581, 0.17550191892808603, 0.17550191892808603, 0.13233633087270538, 0.13233633087270538, 0.3970089926181162, 0.13233633087270538, 0.1810084343284379, 0.3620168686568758, 0.1810084343284379, 0.1810084343284379, 0.15206161245511654, 0.15206161245511654, 0.3041232249102331, 0.15206161245511654, 0.15206161245511654, 0.4472810682007121, 0.08945621364014243, 0.17891242728028486, 0.08945621364014243, 0.08945621364014243, 0.5133663516376655, 0.25668317581883277, 0.1925123818641246, 0.5203594703961476, 0.17345315679871587, 0.17345315679871587, 0.09628093815756107, 0.09628093815756107, 0.3851237526302443, 0.09628093815756107, 0.28884281447268323, 0.28885712736190355, 0.28885712736190355, 0.04814285456031726, 0.04814285456031726, 0.09628570912063451, 0.04814285456031726, 0.09628570912063451, 0.09628570912063451, 0.09192616733271611, 0.22981541833179028, 0.09192616733271611, 0.13788925099907418, 0.045963083666358054, 0.3217415856645064, 0.045963083666358054, 0.045963083666358054, 0.15237823819501206, 0.15237823819501206, 0.05079274606500402, 0.10158549213000805, 0.15237823819501206, 0.2031709842600161, 0.05079274606500402, 0.05079274606500402, 0.05079274606500402, 0.1747708079537215, 0.1747708079537215, 0.349541615907443, 0.1747708079537215, 0.3133580749940683, 0.4178107666587577, 0.10445269166468943, 0.10445269166468943, 0.31960279839540845, 0.10653426613180282, 0.10653426613180282, 0.10653426613180282, 0.21306853226360564, 0.35177200717040846, 0.17588600358520423, 0.17588600358520423, 0.17588600358520423, 0.10754764766773435, 0.4301905906709374, 0.10754764766773435, 0.10754764766773435, 0.10754764766773435, 0.10754764766773435, 0.10776802412064615, 0.2155360482412923, 0.10776802412064615, 0.10776802412064615, 0.10776802412064615, 0.2155360482412923, 0.3005547856923879, 0.4508321785385819, 0.15027739284619396, 0.17785350175771622, 0.044463375439429055, 0.044463375439429055, 0.06669506315914359, 0.044463375439429055, 0.06669506315914359, 0.044463375439429055, 0.022231687719714528, 0.044463375439429055, 0.08892675087885811, 0.044463375439429055, 0.06669506315914359, 0.11115843859857263, 0.08892675087885811, 0.022231687719714528, 0.13270798695034597, 0.13270798695034597, 0.5308319478013839, 0.13270798695034597, 0.6029184687449013, 0.18087554062347042, 0.12058369374898027, 0.2640055032041025, 0.08800183440136751, 0.08800183440136751, 0.2640055032041025, 0.17600366880273502, 0.20428130942141262, 0.2723750792285502, 0.1361875396142751, 0.20428130942141262, 0.06809376980713755, 0.1361875396142751, 0.11975130972717898, 0.3592539291815369, 0.23950261945435797, 0.23950261945435797, 0.40567355241473474, 0.13522451747157824, 0.13522451747157824, 0.13522451747157824, 0.08837513857551786, 0.17675027715103572, 0.08837513857551786, 0.4418756928775893, 0.08837513857551786, 0.08837513857551786, 0.09654507240691057, 0.19309014481382114, 0.09654507240691057, 0.09654507240691057, 0.09654507240691057, 0.09654507240691057, 0.19309014481382114, 0.45771955884241255, 0.3432896691318094, 0.11442988971060314, 0.09817093902813309, 0.2945128170843993, 0.09817093902813309, 0.09817093902813309, 0.2945128170843993, 0.09817093902813309, 0.05591930566092724, 0.05591930566092724, 0.3914351396264907, 0.16775791698278172, 0.11183861132185448, 0.05591930566092724, 0.11183861132185448, 0.13198652510110762, 0.3959595753033229, 0.26397305020221523, 0.04206707209381216, 0.04206707209381216, 0.04206707209381216, 0.08413414418762433, 0.5468719372195582, 0.04206707209381216, 0.08413414418762433, 0.04206707209381216, 0.24926310196187146, 0.1869473264714036, 0.12463155098093573, 0.3738946529428072, 0.062315775490467865, 0.10815386660344165, 0.10815386660344165, 0.32446159981032496, 0.10815386660344165, 0.10815386660344165, 0.10815386660344165, 0.10815386660344165, 0.2668527752959288, 0.1334263876479644, 0.2668527752959288, 0.1334263876479644, 0.13940220489931548, 0.09293480326621031, 0.04646740163310516, 0.04646740163310516, 0.13940220489931548, 0.04646740163310516, 0.2323370081655258, 0.04646740163310516, 0.04646740163310516, 0.04646740163310516, 0.04646740163310516, 0.04646740163310516, 0.07567523651245646, 0.07567523651245646, 0.03783761825622823, 0.03783761825622823, 0.15135047302491292, 0.07567523651245646, 0.18918809128114114, 0.22702570953736936, 0.03783761825622823, 0.03783761825622823, 0.03783761825622823, 0.44132352920089973, 0.22066176460044987, 0.05516544115011247, 0.05516544115011247, 0.05516544115011247, 0.05516544115011247, 0.05516544115011247, 0.30409237666085315, 0.15204618833042657, 0.30409237666085315, 0.15204618833042657, 0.1332247192483741, 0.39967415774512227, 0.1332247192483741, 0.1332247192483741, 0.1332247192483741, 0.2838083283451086, 0.07095208208627715, 0.1419041641725543, 0.07095208208627715, 0.21285624625883146, 0.21285624625883146, 0.08888658052313214, 0.17777316104626428, 0.17777316104626428, 0.17777316104626428, 0.08888658052313214, 0.08888658052313214, 0.2666597415693964, 0.5817642830508641, 0.09696071384181068, 0.09696071384181068, 0.09696071384181068, 0.3554439563014339, 0.3554439563014339, 0.23696263753428926, 0.13548277647763537, 0.13548277647763537, 0.13548277647763537, 0.13548277647763537, 0.27096555295527075, 0.13548277647763537, 0.09921617371495847, 0.06614411580997231, 0.03307205790498616, 0.03307205790498616, 0.13228823161994463, 0.03307205790498616, 0.06614411580997231, 0.09921617371495847, 0.23150440533490313, 0.03307205790498616, 0.03307205790498616, 0.03307205790498616, 0.06614411580997231, 0.10724083122930211, 0.1787347187155035, 0.1429877749724028, 0.0357469437431007, 0.0357469437431007, 0.2502286062017049, 0.0357469437431007, 0.10724083122930211, 0.0357469437431007, 0.0357469437431007, 0.125347191960179, 0.0626735959800895, 0.125347191960179, 0.31336797990044746, 0.0626735959800895, 0.0626735959800895, 0.125347191960179, 0.0626735959800895, 0.1774415577513818, 0.3548831155027636, 0.1774415577513818, 0.1774415577513818, 0.10586321089966882, 0.10586321089966882, 0.03528773696655627, 0.03528773696655627, 0.17643868483278138, 0.03528773696655627, 0.03528773696655627, 0.07057547393311255, 0.10586321089966882, 0.10586321089966882, 0.03528773696655627, 0.03528773696655627, 0.03528773696655627, 0.07057547393311255, 0.6634437874203177, 0.08293047342753972, 0.16586094685507943, 0.15393879338744634, 0.3078775867748927, 0.15393879338744634, 0.15393879338744634, 0.15393879338744634, 0.19244764072942783, 0.19244764072942783, 0.19244764072942783, 0.28867146109414177, 0.09622382036471391, 0.08150077349571494, 0.16300154699142988, 0.32600309398285976, 0.08150077349571494, 0.32600309398285976, 0.10604267307524332, 0.10604267307524332, 0.10604267307524332, 0.10604267307524332, 0.21208534615048663, 0.10604267307524332, 0.21208534615048663, 0.30040689777217155, 0.10013563259072385, 0.10013563259072385, 0.30040689777217155, 0.10013563259072385, 0.10013563259072385, 0.2715492436254082, 0.1357746218127041, 0.1357746218127041, 0.1357746218127041, 0.2715492436254082, 0.07096660287809792, 0.4257996172685875, 0.07096660287809792, 0.07096660287809792, 0.07096660287809792, 0.07096660287809792, 0.14193320575619583, 0.3769161886617234, 0.5653742829925851, 0.37912776266741466, 0.10339848072747672, 0.034466160242492244, 0.034466160242492244, 0.034466160242492244, 0.34466160242492244, 0.1543973711020264, 0.3087947422040528, 0.3087947422040528, 0.642920434252891, 0.2571681737011564, 0.12255565681953039, 0.12255565681953039, 0.08170377121302025, 0.1634075424260405, 0.20425942803255065, 0.08170377121302025, 0.040851885606510124, 0.040851885606510124, 0.040851885606510124, 0.1289670907585297, 0.2579341815170594, 0.04298903025284323, 0.04298903025284323, 0.04298903025284323, 0.1289670907585297, 0.21494515126421615, 0.08597806050568646, 0.1786309409410673, 0.3572618818821346, 0.1786309409410673, 0.1786309409410673, 0.25240343720705194, 0.20192274976564153, 0.20192274976564153, 0.050480687441410384, 0.050480687441410384, 0.15144206232423116, 0.5152326398028036, 0.06440407997535046, 0.06440407997535046, 0.1288081599507009, 0.06440407997535046, 0.06440407997535046, 0.06440407997535046, 0.17723673971247106, 0.17723673971247106, 0.17723673971247106, 0.17723673971247106, 0.17723673971247106, 0.4446294573261516, 0.08892589146523032, 0.08892589146523032, 0.08892589146523032, 0.17785178293046064, 0.08892589146523032, 0.23888339923775234, 0.11944169961887617, 0.11944169961887617, 0.11944169961887617, 0.3583250988566285, 0.5733140189628966, 0.11466280379257932, 0.22932560758515863, 0.13220858040251865, 0.19831287060377797, 0.39662574120755595, 0.06610429020125932, 0.13220858040251865, 0.062185041239369014, 0.31092520619684505, 0.062185041239369014, 0.18655512371810704, 0.12437008247873803, 0.062185041239369014, 0.062185041239369014, 0.15217227747730747, 0.15217227747730747, 0.30434455495461493, 0.15217227747730747, 0.15217227747730747, 0.133633844897577, 0.400901534692731, 0.133633844897577, 0.133633844897577, 0.133633844897577, 0.09723459876445333, 0.29170379629335996, 0.09723459876445333, 0.09723459876445333, 0.29170379629335996, 0.23308638845306145, 0.058271597113265364, 0.058271597113265364, 0.11654319422653073, 0.23308638845306145, 0.11654319422653073, 0.058271597113265364, 0.058271597113265364, 0.4557147039179771, 0.06510210055971101, 0.19530630167913302, 0.13020420111942202, 0.06510210055971101, 0.20357778871708376, 0.06785926290569459, 0.20357778871708376, 0.06785926290569459, 0.13571852581138918, 0.06785926290569459, 0.06785926290569459, 0.13571852581138918, 0.24027355599298872, 0.12013677799649436, 0.12013677799649436, 0.12013677799649436, 0.24027355599298872, 0.048590289740958824, 0.1943611589638353, 0.09718057948191765, 0.09718057948191765, 0.09718057948191765, 0.048590289740958824, 0.048590289740958824, 0.048590289740958824, 0.048590289740958824, 0.048590289740958824, 0.09718057948191765, 0.14577086922287646, 0.18328644548086956, 0.18328644548086956, 0.18328644548086956, 0.18328644548086956, 0.18328644548086956, 0.17877223415339402, 0.17877223415339402, 0.35754446830678804, 0.17877223415339402, 0.3559794847493636, 0.1779897423746818, 0.3559794847493636, 0.17691690999477225, 0.2123002919937267, 0.03538338199895445, 0.0707667639979089, 0.1415335279958178, 0.03538338199895445, 0.10615014599686334, 0.10615014599686334, 0.03538338199895445, 0.03538338199895445, 0.240376825270573, 0.480753650541146, 0.1201884126352865, 0.1201884126352865, 0.23288309002949412, 0.05822077250737353, 0.11644154501474706, 0.17466231752212058, 0.23288309002949412, 0.05822077250737353, 0.05822077250737353, 0.05822077250737353, 0.15037041811700216, 0.3759260452925054, 0.07518520905850108, 0.07518520905850108, 0.22555562717550323, 0.1779729102497056, 0.1779729102497056, 0.1779729102497056, 0.0889864551248528, 0.0889864551248528, 0.1779729102497056, 0.3552761397152472, 0.1776380698576236, 0.1776380698576236, 0.10677240163504323, 0.5338620081752161, 0.10677240163504323, 0.10677240163504323, 0.10677240163504323, 0.3061192315611431, 0.15305961578057156, 0.15305961578057156, 0.15305961578057156, 0.15899787628594658, 0.15899787628594658, 0.15899787628594658, 0.31799575257189316, 0.15899787628594658, 0.23983184769822666, 0.23983184769822666, 0.4796636953964533, 0.09649966180943928, 0.19299932361887856, 0.09649966180943928, 0.2894989854283178, 0.19299932361887856, 0.09649966180943928, 0.030708672062354662, 0.092126016187064, 0.21496070443648263, 0.061417344124709325, 0.12283468824941865, 0.030708672062354662, 0.092126016187064, 0.061417344124709325, 0.030708672062354662, 0.092126016187064, 0.030708672062354662, 0.030708672062354662, 0.061417344124709325, 0.030708672062354662, 0.11898394665397871, 0.23796789330795742, 0.23796789330795742, 0.11898394665397871, 0.11898394665397871, 0.40503596286562055, 0.08100719257312411, 0.08100719257312411, 0.24302157771937233, 0.16201438514624822, 0.5952469147583799, 0.21645342354850178, 0.10822671177425089, 0.08191519594819209, 0.05461013063212806, 0.02730506531606403, 0.10922026126425612, 0.05461013063212806, 0.05461013063212806, 0.02730506531606403, 0.1911354572124482, 0.05461013063212806, 0.05461013063212806, 0.08191519594819209, 0.02730506531606403, 0.05461013063212806, 0.02730506531606403, 0.05461013063212806, 0.02730506531606403, 0.02730506531606403, 0.21997439497649868, 0.08798975799059948, 0.04399487899529974, 0.1319846369858992, 0.08798975799059948, 0.04399487899529974, 0.08798975799059948, 0.1319846369858992, 0.04399487899529974, 0.04399487899529974, 0.09957147861182318, 0.2987144358354695, 0.19914295722364636, 0.09957147861182318, 0.09957147861182318, 0.09957147861182318, 0.09957147861182318, 0.0820784412066824, 0.0820784412066824, 0.0820784412066824, 0.0820784412066824, 0.0820784412066824, 0.0820784412066824, 0.410392206033412, 0.07639740078945127, 0.07639740078945127, 0.3819870039472564, 0.15279480157890254, 0.07639740078945127, 0.07639740078945127, 0.07639740078945127, 0.347580003598403, 0.347580003598403, 0.1737900017992015, 0.18054823904160064, 0.03610964780832013, 0.1444385912332805, 0.18054823904160064, 0.18054823904160064, 0.03610964780832013, 0.03610964780832013, 0.03610964780832013, 0.07221929561664026, 0.07221929561664026, 0.1779219218596042, 0.1779219218596042, 0.1779219218596042, 0.3558438437192084, 0.20839136783960718, 0.06946378927986907, 0.3473189463993453, 0.13892757855973814, 0.13892757855973814, 0.06946378927986907, 0.2072762653352719, 0.14509338573469033, 0.08291050613410876, 0.10363813266763595, 0.062182879600581574, 0.04145525306705438, 0.10363813266763595, 0.02072762653352719, 0.02072762653352719, 0.062182879600581574, 0.04145525306705438, 0.02072762653352719, 0.02072762653352719, 0.04145525306705438, 0.16473372863394933, 0.07487896756088606, 0.05990317404870885, 0.014975793512177213, 0.029951587024354426, 0.13478214160959492, 0.05990317404870885, 0.014975793512177213, 0.10483055458524049, 0.1198063480974177, 0.029951587024354426, 0.044927380536531634, 0.08985476107306327, 0.014975793512177213, 0.014975793512177213, 0.014975793512177213, 0.13538263510420828, 0.06769131755210414, 0.06769131755210414, 0.13538263510420828, 0.06769131755210414, 0.06769131755210414, 0.06769131755210414, 0.2030739526563124, 0.06769131755210414, 0.06769131755210414, 0.13917595215815726, 0.13917595215815726, 0.13917595215815726, 0.13917595215815726, 0.2783519043163145, 0.13917595215815726, 0.12269726515887908, 0.12269726515887908, 0.06134863257943954, 0.4601147443457965, 0.03067431628971977, 0.03067431628971977, 0.03067431628971977, 0.03067431628971977, 0.03067431628971977, 0.03067431628971977, 0.06134863257943954, 0.1998365532437169, 0.33306092207286153, 0.1998365532437169, 0.06661218441457231, 0.13322436882914462, 0.13187460773972542, 0.3956238232191763, 0.26374921547945085, 0.13187460773972542, 0.08887331902408785, 0.1777466380481757, 0.3554932760963514, 0.1777466380481757, 0.08887331902408785, 0.08887331902408785, 0.20898902694466218, 0.20898902694466218, 0.20898902694466218, 0.20898902694466218, 0.5176533494800831, 0.08627555824668051, 0.17255111649336102, 0.17255111649336102, 0.08163548225411088, 0.48981289352466534, 0.08163548225411088, 0.08163548225411088, 0.08163548225411088, 0.08163548225411088, 0.21599835967229683, 0.08399936209478209, 0.03599972661204947, 0.10799917983614842, 0.023999817741366312, 0.059999544353415785, 0.047999635482732624, 0.011999908870683156, 0.11999908870683157, 0.09599927096546525, 0.03599972661204947, 0.07199945322409894, 0.059999544353415785, 0.023999817741366312, 0.023999817741366312, 0.46325453691919516, 0.07720908948653253, 0.038604544743266266, 0.07720908948653253, 0.038604544743266266, 0.07720908948653253, 0.038604544743266266, 0.038604544743266266, 0.038604544743266266, 0.07720908948653253, 0.5809440970553823, 0.07745921294071764, 0.01936480323517941, 0.09682401617589705, 0.03872960647035882, 0.13555362264625587, 0.03872960647035882, 0.3915296212830237, 0.0435032912536693, 0.13050987376100792, 0.13050987376100792, 0.0435032912536693, 0.0435032912536693, 0.0435032912536693, 0.0870065825073386, 0.0435032912536693, 0.35502534753291765, 0.11834178251097255, 0.11834178251097255, 0.11834178251097255, 0.2366835650219451, 0.10751199937961312, 0.10751199937961312, 0.10751199937961312, 0.10751199937961312, 0.10751199937961312, 0.21502399875922623, 0.21502399875922623, 0.17648406914007966, 0.08824203457003983, 0.17648406914007966, 0.08824203457003983, 0.08824203457003983, 0.2647261037101195, 0.11829959967246316, 0.35489879901738947, 0.11829959967246316, 0.23659919934492632, 0.11829959967246316, 0.13391060598471838, 0.13391060598471838, 0.13391060598471838, 0.26782121196943676, 0.13391060598471838, 0.1372974067993964, 0.1372974067993964, 0.1372974067993964, 0.1372974067993964, 0.4118922203981892, 0.12663166255306443, 0.06331583127653222, 0.12663166255306443, 0.12663166255306443, 0.12663166255306443, 0.3798949876591933, 0.0902370787786724, 0.0902370787786724, 0.0902370787786724, 0.451185393893362, 0.17518988690079118, 0.052556966070237354, 0.07007595476031647, 0.17518988690079118, 0.15767089821071206, 0.052556966070237354, 0.017518988690079118, 0.052556966070237354, 0.052556966070237354, 0.017518988690079118, 0.07007595476031647, 0.052556966070237354, 0.017518988690079118, 0.035037977380158236, 0.18082931634070984, 0.18082931634070984, 0.18082931634070984, 0.18082931634070984, 0.18082931634070984, 0.2541647176956298, 0.08087059199406403, 0.09242353370750175, 0.04621176685375088, 0.09242353370750175, 0.03465882514031316, 0.06931765028062632, 0.03465882514031316, 0.03465882514031316, 0.01155294171343772, 0.04621176685375088, 0.01155294171343772, 0.03465882514031316, 0.09242353370750175, 0.01155294171343772, 0.01155294171343772, 0.02310588342687544, 0.11810921464220937, 0.23621842928441875, 0.11810921464220937, 0.11810921464220937, 0.23621842928441875, 0.10842664353692337, 0.3252799306107701, 0.10842664353692337, 0.10842664353692337, 0.10842664353692337, 0.10842664353692337, 0.10842664353692337, 0.15298910674584776, 0.20398547566113034, 0.10199273783056517, 0.10199273783056517, 0.10199273783056517, 0.10199273783056517, 0.10199273783056517, 0.10199273783056517, 0.11844503834229712, 0.11844503834229712, 0.4737801533691885, 0.11844503834229712, 0.11844503834229712, 0.1533913016047896, 0.1533913016047896, 0.0766956508023948, 0.3067826032095792, 0.0766956508023948, 0.0766956508023948, 0.0766956508023948, 0.0766956508023948, 0.05033391121182151, 0.15100173363546454, 0.05033391121182151, 0.10066782242364301, 0.05033391121182151, 0.05033391121182151, 0.3523373784827506, 0.05033391121182151, 0.05033391121182151, 0.3937785731655331, 0.09844464329138328, 0.09844464329138328, 0.09844464329138328, 0.09844464329138328, 0.09844464329138328, 0.09844464329138328, 0.24289427969512345, 0.08096475989837448, 0.08096475989837448, 0.24289427969512345, 0.08096475989837448, 0.08096475989837448, 0.08096475989837448, 0.2912973699739281, 0.2912973699739281, 0.2912973699739281, 0.08880090269472556, 0.08880090269472556, 0.08880090269472556, 0.26640270808417665, 0.08880090269472556, 0.1776018053894511, 0.1776018053894511, 0.26420401987843245, 0.13210200993921623, 0.26420401987843245, 0.13210200993921623, 0.13210200993921623, 0.07090278281160788, 0.07090278281160788, 0.4254166968696472, 0.07090278281160788, 0.14180556562321575, 0.07090278281160788, 0.05724221646924176, 0.11448443293848352, 0.11448443293848352, 0.1717266494077253, 0.2003477576423462, 0.22896886587696705, 0.05724221646924176, 0.5778850397573695, 0.1155770079514739, 0.1155770079514739, 0.1155770079514739, 0.21258937253560445, 0.08503574901424178, 0.04251787450712089, 0.04251787450712089, 0.34014299605696713, 0.08503574901424178, 0.04251787450712089, 0.04251787450712089, 0.04251787450712089, 0.04251787450712089, 0.1349077775937971, 0.1349077775937971, 0.2698155551875942, 0.1349077775937971, 0.2698155551875942, 0.07889435009821336, 0.11834152514732002, 0.11834152514732002, 0.07889435009821336, 0.11834152514732002, 0.07889435009821336, 0.03944717504910668, 0.07889435009821336, 0.03944717504910668, 0.07889435009821336, 0.11834152514732002, 0.03944717504910668, 0.15180532594936447, 0.15180532594936447, 0.45541597784809346, 0.15180532594936447, 0.20101182727788539, 0.01546244825214503, 0.03092489650429006, 0.07731224126072515, 0.01546244825214503, 0.32471141329504566, 0.12369958601716025, 0.03092489650429006, 0.01546244825214503, 0.17008693077359532, 0.1777326787706362, 0.3554653575412724, 0.1777326787706362, 0.12513195503609548, 0.3753958651082865, 0.3128298875902387, 0.06256597751804774, 0.06256597751804774, 0.08816971177247529, 0.08816971177247529, 0.4408485588623764, 0.08816971177247529, 0.17633942354495058, 0.08816971177247529, 0.32326934680623615, 0.08081733670155904, 0.08081733670155904, 0.08081733670155904, 0.08081733670155904, 0.2424520101046771, 0.08081733670155904, 0.11878934620956925, 0.11878934620956925, 0.11878934620956925, 0.2375786924191385, 0.35636803862870775, 0.152379152675913, 0.152379152675913, 0.152379152675913, 0.304758305351826, 0.152379152675913, 0.13378108697977292, 0.13378108697977292, 0.4013432609393187, 0.13378108697977292, 0.13378108697977292, 0.40178334771809915, 0.13392778257269972, 0.13392778257269972, 0.13392778257269972, 0.3564368456641137, 0.17821842283205686, 0.17821842283205686, 0.17821842283205686, 0.4600950646663218, 0.1533650215554406, 0.3067300431108812, 0.08185678303898249, 0.24557034911694745, 0.08185678303898249, 0.08185678303898249, 0.24557034911694745, 0.08185678303898249, 0.08185678303898249, 0.08185678303898249, 0.05311326411268852, 0.42490611290150815, 0.10622652822537704, 0.05311326411268852, 0.05311326411268852, 0.05311326411268852, 0.05311326411268852, 0.10622652822537704, 0.17474990371338248, 0.34949980742676495, 0.17474990371338248, 0.18553147474874773, 0.18553147474874773, 0.18553147474874773, 0.18553147474874773, 0.18553147474874773, 0.25212334025834593, 0.10084933610333836, 0.05042466805166918, 0.10084933610333836, 0.10084933610333836, 0.10084933610333836, 0.05042466805166918, 0.05042466805166918, 0.05042466805166918, 0.10084933610333836, 0.05042466805166918, 0.16602539004527908, 0.08301269502263954, 0.2490380850679186, 0.16602539004527908, 0.08301269502263954, 0.08301269502263954, 0.08301269502263954, 0.08301269502263954, 0.19313721976744322, 0.38627443953488644, 0.09656860988372161, 0.09656860988372161, 0.09656860988372161, 0.14072841934859545, 0.2345473655809924, 0.04690947311619848, 0.09381894623239696, 0.04690947311619848, 0.04690947311619848, 0.14072841934859545, 0.09381894623239696, 0.04690947311619848, 0.04690947311619848, 0.32781691557769155, 0.24586268668326863, 0.08195422889442289, 0.08195422889442289, 0.08195422889442289, 0.09769394899970034, 0.3419288214989512, 0.04884697449985017, 0.04884697449985017, 0.04884697449985017, 0.19538789799940068, 0.04884697449985017, 0.09769394899970034, 0.04884697449985017, 0.4281146953202912, 0.28540979688019413, 0.07135244922004853, 0.14270489844009707, 0.10654435562027978, 0.21308871124055956, 0.05327217781013989, 0.26636088905069943, 0.15981653343041965, 0.05327217781013989, 0.05327217781013989, 0.05327217781013989, 0.10713973397004403, 0.10713973397004403, 0.10713973397004403, 0.21427946794008806, 0.21427946794008806, 0.10713973397004403, 0.10713973397004403, 0.5166959506172861, 0.08611599176954768, 0.08611599176954768, 0.17223198353909536, 0.08611599176954768, 0.5678288975550098, 0.08111841393642996, 0.08111841393642996, 0.08111841393642996, 0.08111841393642996, 0.15323707348233984, 0.15323707348233984, 0.15323707348233984, 0.15323707348233984, 0.15323707348233984, 0.46728253757940297, 0.103840563906534, 0.051920281953267, 0.051920281953267, 0.103840563906534, 0.103840563906534, 0.051920281953267, 0.13683151709569336, 0.13683151709569336, 0.13683151709569336, 0.2736630341913867, 0.13683151709569336, 0.1362367779931777, 0.1362367779931777, 0.2724735559863554, 0.2724735559863554, 0.17619125880415773, 0.35238251760831546, 0.35238251760831546, 0.1569195995184316, 0.11208542822745114, 0.06725125693647069, 0.06725125693647069, 0.04483417129098046, 0.11208542822745114, 0.06725125693647069, 0.06725125693647069, 0.02241708564549023, 0.02241708564549023, 0.02241708564549023, 0.08966834258196092, 0.02241708564549023, 0.06725125693647069, 0.06725125693647069, 0.0384752978429152, 0.0769505956858304, 0.384752978429152, 0.0384752978429152, 0.0384752978429152, 0.0384752978429152, 0.0384752978429152, 0.0384752978429152, 0.0769505956858304, 0.0769505956858304, 0.0769505956858304, 0.0384752978429152, 0.1628045111470607, 0.1139631578029425, 0.016280451114706072, 0.032560902229412145, 0.13024360891764858, 0.08140225557353035, 0.04884135334411822, 0.032560902229412145, 0.032560902229412145, 0.08140225557353035, 0.09768270668823643, 0.032560902229412145, 0.06512180445882429, 0.032560902229412145, 0.5454515533119906, 0.18181718443733022, 0.18181718443733022, 0.26742803537494947, 0.40114205306242423, 0.13371401768747473, 0.13371401768747473, 0.23669098367760288, 0.3550364755164043, 0.23669098367760288, 0.2644697185739878, 0.17631314571599185, 0.44078286428997965, 0.08815657285799593, 0.09612054283725671, 0.048060271418628356, 0.19224108567451342, 0.2883616285117701, 0.048060271418628356, 0.14418081425588505, 0.048060271418628356, 0.048060271418628356, 0.048060271418628356, 0.1517816794140106, 0.2276725191210159, 0.3035633588280212, 0.0758908397070053, 0.1517816794140106, 0.26215653268343225, 0.32769566585429033, 0.13107826634171613, 0.06553913317085806, 0.13107826634171613, 0.06553913317085806, 0.2670354818254627, 0.17802365455030847, 0.08901182727515423, 0.08901182727515423, 0.17802365455030847, 0.17802365455030847, 0.1539056767804223, 0.061562270712168916, 0.1539056767804223, 0.015390567678042229, 0.015390567678042229, 0.13851510910238007, 0.04617170303412669, 0.030781135356084458, 0.015390567678042229, 0.07695283839021115, 0.04617170303412669, 0.015390567678042229, 0.015390567678042229, 0.13851510910238007, 0.030781135356084458, 0.015390567678042229, 0.030781135356084458, 0.43594280081520853, 0.0871885601630417, 0.0871885601630417, 0.0871885601630417, 0.2615656804891251, 0.17750374094125612, 0.025357677277322306, 0.05071535455464461, 0.30429212732786765, 0.05071535455464461, 0.025357677277322306, 0.05071535455464461, 0.025357677277322306, 0.15214606366393382, 0.05071535455464461, 0.025357677277322306, 0.09323688176273907, 0.2797106452882172, 0.18647376352547815, 0.04661844088136954, 0.09323688176273907, 0.04661844088136954, 0.09323688176273907, 0.04661844088136954, 0.04661844088136954, 0.16048395016131245, 0.09629037009678747, 0.16048395016131245, 0.03209679003226249, 0.06419358006452498, 0.09629037009678747, 0.06419358006452498, 0.03209679003226249, 0.03209679003226249, 0.03209679003226249, 0.03209679003226249, 0.03209679003226249, 0.06419358006452498, 0.06419358006452498, 0.19939895740150512, 0.0725087117823655, 0.0725087117823655, 0.09063588972795687, 0.145017423564731, 0.09063588972795687, 0.054381533836774125, 0.018127177945591374, 0.018127177945591374, 0.0725087117823655, 0.018127177945591374, 0.03625435589118275, 0.054381533836774125, 0.03625435589118275, 0.018127177945591374, 0.018127177945591374, 0.14536568409305475, 0.048455228031018246, 0.09691045606203649, 0.048455228031018246, 0.14536568409305475, 0.048455228031018246, 0.048455228031018246, 0.19382091212407299, 0.09691045606203649, 0.13548865044131442, 0.13548865044131442, 0.13548865044131442, 0.13548865044131442, 0.40646595132394325, 0.13356682988060645, 0.2671336597612129, 0.13356682988060645, 0.2671336597612129, 0.13356682988060645, 0.08888803732203376, 0.08888803732203376, 0.08888803732203376, 0.17777607464406753, 0.08888803732203376, 0.08888803732203376, 0.2666641119661013, 0.08888803732203376, 0.17853152122884558, 0.08926576061442279, 0.08926576061442279, 0.35706304245769116, 0.08926576061442279, 0.08926576061442279, 0.08926576061442279, 0.06771684599252614, 0.13543369198505228, 0.20315053797757843, 0.27086738397010457, 0.06771684599252614, 0.27086738397010457, 0.08864877110683209, 0.08864877110683209, 0.44324385553416046, 0.08864877110683209, 0.08864877110683209, 0.08864877110683209, 0.08864877110683209, 0.12257548906971892, 0.24515097813943784, 0.12257548906971892, 0.12257548906971892, 0.12257548906971892, 0.12257548906971892, 0.12257548906971892, 0.15596369338006597, 0.31192738676013193, 0.15596369338006597, 0.15596369338006597, 0.15596369338006597, 0.11753444030502999, 0.11753444030502999, 0.23506888061005998, 0.23506888061005998, 0.11753444030502999, 0.21392088761903313, 0.10696044380951657, 0.10696044380951657, 0.10696044380951657, 0.10696044380951657, 0.10696044380951657, 0.10696044380951657, 0.10696044380951657, 0.05616907735906041, 0.05616907735906041, 0.42126808019295303, 0.22467630943624164, 0.0842536160385906, 0.028084538679530206, 0.028084538679530206, 0.028084538679530206, 0.05616907735906041, 0.028084538679530206, 0.19490607600015733, 0.19490607600015733, 0.09745303800007867, 0.38981215200031466, 0.09745303800007867, 0.1092008007587075, 0.1092008007587075, 0.1092008007587075, 0.1092008007587075, 0.32760240227612253, 0.1092008007587075, 0.1092008007587075, 0.09014330404706102, 0.09014330404706102, 0.09014330404706102, 0.09014330404706102, 0.18028660809412203, 0.18028660809412203, 0.09014330404706102, 0.09014330404706102, 0.13533143446230617, 0.06766571723115308, 0.06766571723115308, 0.06766571723115308, 0.06766571723115308, 0.20299715169345922, 0.13533143446230617, 0.06766571723115308, 0.13533143446230617, 0.06766571723115308, 0.2680367532828828, 0.1340183766414414, 0.1340183766414414, 0.2680367532828828, 0.1340183766414414, 0.13242761801618844, 0.13242761801618844, 0.2648552360323769, 0.13242761801618844, 0.13242761801618844, 0.13242761801618844, 0.24333655027727377, 0.24333655027727377, 0.36500482541591067, 0.12166827513863689, 0.1338301793042987, 0.2676603586085974, 0.1338301793042987, 0.1338301793042987, 0.1338301793042987, 0.1338301793042987, 0.15211093533789746, 0.15211093533789746, 0.3042218706757949, 0.15211093533789746, 0.15211093533789746, 0.26874064343061116, 0.13437032171530558, 0.13437032171530558, 0.13437032171530558, 0.26874064343061116, 0.13437032171530558, 0.13622633308311133, 0.13622633308311133, 0.13622633308311133, 0.13622633308311133, 0.408678999249334, 0.07135332405042993, 0.14270664810085987, 0.14270664810085987, 0.14270664810085987, 0.14270664810085987, 0.2140599721512898, 0.07135332405042993, 0.07135332405042993, 0.19628248652205701, 0.09814124326102851, 0.19628248652205701, 0.09814124326102851, 0.19628248652205701, 0.09814124326102851, 0.11679862441158215, 0.11679862441158215, 0.3503958732347464, 0.11679862441158215, 0.11679862441158215, 0.1527841530622067, 0.1527841530622067, 0.1527841530622067, 0.1527841530622067, 0.3055683061244134, 0.153117466807619, 0.0765587334038095, 0.0765587334038095, 0.153117466807619, 0.0765587334038095, 0.0765587334038095, 0.0765587334038095, 0.2296762002114285, 0.27617301732502997, 0.27617301732502997, 0.13808650866251498, 0.13808650866251498, 0.050034236843402656, 0.5003423684340266, 0.40027389474722125, 0.13412503939891957, 0.26825007879783913, 0.13412503939891957, 0.26825007879783913, 0.13412503939891957, 0.23493287473139732, 0.46986574946279464, 0.11746643736569866, 0.11746643736569866, 0.23593127945585568, 0.11796563972792784, 0.11796563972792784, 0.11796563972792784, 0.11796563972792784, 0.23593127945585568, 0.12424352676279668, 0.19201272317886758, 0.15248069193615957, 0.0734166294507435, 0.02823716517336288, 0.022589732138690304, 0.06776919641607092, 0.050826897312053185, 0.10165379462410637, 0.02823716517336288, 0.022589732138690304, 0.022589732138690304, 0.011294866069345152, 0.01694229910401773, 0.022589732138690304, 0.011294866069345152, 0.022589732138690304, 0.02823716517336288, 0.011294866069345152, 0.005647433034672576, 0.1349386916048346, 0.5397547664193384, 0.1349386916048346, 0.1349386916048346, 0.06970328892269534, 0.11617214820449223, 0.13940657784539068, 0.09293771856359379, 0.023234429640898446, 0.16264100748628912, 0.023234429640898446, 0.16264100748628912, 0.04646885928179689, 0.023234429640898446, 0.023234429640898446, 0.023234429640898446, 0.04646885928179689, 0.3195422011014055, 0.13694665761488808, 0.09129777174325873, 0.045648885871629366, 0.09129777174325873, 0.045648885871629366, 0.045648885871629366, 0.09129777174325873, 0.13694665761488808, 0.3158864980355994, 0.10529549934519979, 0.3158864980355994, 0.10529549934519979, 0.5764257833715228, 0.16469308096329222, 0.08234654048164611, 0.16469308096329222, 0.17767060242611707, 0.17767060242611707, 0.17767060242611707, 0.17767060242611707, 0.17767060242611707, 0.44618673050403884, 0.3569493844032311, 0.17847469220161555, 0.17704242885151716, 0.17704242885151716, 0.17704242885151716, 0.17704242885151716, 0.17704242885151716, 0.32253205359486675, 0.32253205359486675, 0.16126602679743338, 0.08063301339871669, 0.08063301339871669, 0.12442695848388975, 0.2488539169677795, 0.12442695848388975, 0.18664043772583463, 0.12442695848388975, 0.18664043772583463, 0.05878983379468721, 0.23515933517874885, 0.23515933517874885, 0.29394916897343604, 0.11757966758937442, 0.05878983379468721, 0.1261741604994451, 0.08411610699963007, 0.042058053499815035, 0.1261741604994451, 0.042058053499815035, 0.08411610699963007, 0.2523483209988902, 0.042058053499815035, 0.042058053499815035, 0.16823221399926014, 0.3964656260395885, 0.09911640650989713, 0.049558203254948564, 0.049558203254948564, 0.09911640650989713, 0.19823281301979426, 0.13564450355942065, 0.0813867021356524, 0.05425780142376826, 0.05425780142376826, 0.0813867021356524, 0.02712890071188413, 0.1627734042713048, 0.05425780142376826, 0.05425780142376826, 0.05425780142376826, 0.02712890071188413, 0.05425780142376826, 0.02712890071188413, 0.02712890071188413, 0.05425780142376826, 0.05359154858753632, 0.2679577429376816, 0.10718309717507264, 0.21436619435014528, 0.05359154858753632, 0.10718309717507264, 0.16077464576260894, 0.05359154858753632, 0.2688067158948953, 0.08960223863163178, 0.08960223863163178, 0.3584089545265271, 0.08960223863163178, 0.13471551456838132, 0.26943102913676265, 0.13471551456838132, 0.26943102913676265, 0.2939262441602857, 0.09797541472009523, 0.19595082944019046, 0.09797541472009523, 0.19595082944019046, 0.09797541472009523, 0.2517100357558792, 0.04195167262597986, 0.10487918156494966, 0.16780669050391944, 0.02097583631298993, 0.04195167262597986, 0.0629275089389698, 0.04195167262597986, 0.0629275089389698, 0.04195167262597986, 0.02097583631298993, 0.04195167262597986, 0.0629275089389698, 0.04195167262597986, 0.24938010044211764, 0.08906432158647058, 0.12469005022105882, 0.07125145726917646, 0.05343859295188235, 0.017812864317294116, 0.08906432158647058, 0.16031577885564705, 0.017812864317294116, 0.05343859295188235, 0.017812864317294116, 0.017812864317294116, 0.25906558751902603, 0.04317759791983767, 0.6044863708777274, 0.04317759791983767, 0.09704082736304319, 0.29112248208912955, 0.09704082736304319, 0.09704082736304319, 0.09704082736304319, 0.09704082736304319, 0.09704082736304319, 0.10287169351985923, 0.05143584675992961, 0.20574338703971845, 0.05143584675992961, 0.15430754027978885, 0.05143584675992961, 0.05143584675992961, 0.20574338703971845, 0.10287169351985923, 0.05143584675992961, 0.18280947215603333, 0.21937136658724002, 0.18280947215603333, 0.036561894431206665, 0.10968568329362001, 0.036561894431206665, 0.036561894431206665, 0.10968568329362001, 0.07312378886241333, 0.1790542716845883, 0.1790542716845883, 0.1790542716845883, 0.1790542716845883, 0.1790542716845883, 0.1411694068358928, 0.2823388136717856, 0.1411694068358928, 0.1411694068358928, 0.2823388136717856, 0.2396374266256377, 0.21567368396307393, 0.02396374266256377, 0.04792748532512754, 0.0718912279876913, 0.04792748532512754, 0.02396374266256377, 0.09585497065025508, 0.0718912279876913, 0.02396374266256377, 0.09585497065025508, 0.02396374266256377, 0.036387960776134834, 0.12735786271647193, 0.09096990194033709, 0.036387960776134834, 0.07277592155226967, 0.14555184310453934, 0.036387960776134834, 0.018193980388067417, 0.05458194116420225, 0.14555184310453934, 0.018193980388067417, 0.05458194116420225, 0.036387960776134834, 0.018193980388067417, 0.07277592155226967, 0.036387960776134834, 0.2704122781066398, 0.1352061390533199, 0.1352061390533199, 0.1352061390533199, 0.1352061390533199, 0.1833652069916806, 0.0916826034958403, 0.0916826034958403, 0.32088911223544103, 0.13752390524376046, 0.04584130174792015, 0.04584130174792015, 0.04584130174792015, 0.17701963251975064, 0.531058897559252, 0.17701963251975064, 0.20107232262782826, 0.0478743625304353, 0.18192257761565414, 0.0957487250608706, 0.02872461751826118, 0.01914974501217412, 0.05744923503652236, 0.03829949002434824, 0.0957487250608706, 0.03829949002434824, 0.0478743625304353, 0.01914974501217412, 0.06702410754260942, 0.02872461751826118, 0.03829949002434824, 0.04946812109342002, 0.04946812109342002, 0.09893624218684004, 0.07420218164013002, 0.14840436328026005, 0.14840436328026005, 0.09893624218684004, 0.02473406054671001, 0.02473406054671001, 0.02473406054671001, 0.02473406054671001, 0.02473406054671001, 0.02473406054671001, 0.09893624218684004, 0.04946812109342002, 0.02473406054671001, 0.38457059498189194, 0.05493865642598456, 0.05493865642598456, 0.05493865642598456, 0.10987731285196913, 0.10987731285196913, 0.10987731285196913, 0.10987731285196913, 0.46517085635411437, 0.23258542817705719, 0.23258542817705719, 0.13631086087162939, 0.06815543043581469, 0.13631086087162939, 0.1590293376835676, 0.11359238405969115, 0.02271847681193823, 0.02271847681193823, 0.02271847681193823, 0.02271847681193823, 0.04543695362387646, 0.02271847681193823, 0.09087390724775292, 0.06815543043581469, 0.04543695362387646, 0.03047530114049336, 0.24380240912394688, 0.03047530114049336, 0.12190120456197344, 0.09142590342148008, 0.03047530114049336, 0.1523765057024668, 0.06095060228098672, 0.12190120456197344, 0.03047530114049336, 0.03047530114049336, 0.03047530114049336, 0.19790113366135526, 0.09895056683067763, 0.2968517004920329, 0.09895056683067763, 0.09895056683067763, 0.09895056683067763, 0.09895056683067763, 0.17998501896344568, 0.17998501896344568, 0.17998501896344568, 0.17998501896344568, 0.17998501896344568, 0.16878625533070243, 0.11252417022046829, 0.056262085110234145, 0.11252417022046829, 0.056262085110234145, 0.056262085110234145, 0.16878625533070243, 0.056262085110234145, 0.056262085110234145, 0.11252417022046829, 0.056262085110234145, 0.07356376575416938, 0.14712753150833877, 0.6620738917875244, 0.07356376575416938, 0.10025847448377616, 0.0668389829891841, 0.23393644046214437, 0.10025847448377616, 0.03341949149459205, 0.10025847448377616, 0.0668389829891841, 0.03341949149459205, 0.03341949149459205, 0.03341949149459205, 0.03341949149459205, 0.03341949149459205, 0.0668389829891841, 0.18803859242669846, 0.18803859242669846, 0.18803859242669846, 0.18803859242669846, 0.18803859242669846, 0.38508141458551093, 0.07701628291710219, 0.15403256583420438, 0.15403256583420438, 0.23104884875130655, 0.06576634199973674, 0.06576634199973674, 0.1972990259992102, 0.32883170999868366, 0.06576634199973674, 0.1315326839994735, 0.1315326839994735, 0.33621145559020205, 0.05603524259836701, 0.05603524259836701, 0.05603524259836701, 0.11207048519673402, 0.22414097039346803, 0.05603524259836701, 0.05603524259836701, 0.23449669086752173, 0.23449669086752173, 0.11724834543376086, 0.05862417271688043, 0.05862417271688043, 0.11724834543376086, 0.17587251815064128, 0.05862417271688043, 0.24049486457341748, 0.24049486457341748, 0.12024743228670874, 0.12024743228670874, 0.24049486457341748, 0.12241377584901217, 0.12241377584901217, 0.4896551033960487, 0.13341880899460415, 0.13341880899460415, 0.13341880899460415, 0.2668376179892083, 0.13341880899460415, 0.10680604461954307, 0.10680604461954307, 0.10680604461954307, 0.21361208923908614, 0.10680604461954307, 0.3204181338586292, 0.1507962395752387, 0.07539811978761934, 0.3769905989380967, 0.07539811978761934, 0.07539811978761934, 0.07539811978761934, 0.07539811978761934, 0.07539811978761934, 0.1735964930977933, 0.1735964930977933, 0.3471929861955866, 0.08679824654889665, 0.08679824654889665, 0.059523068746818605, 0.029761534373409303, 0.14880767186704652, 0.08928460312022792, 0.059523068746818605, 0.059523068746818605, 0.059523068746818605, 0.029761534373409303, 0.029761534373409303, 0.029761534373409303, 0.059523068746818605, 0.08928460312022792, 0.059523068746818605, 0.059523068746818605, 0.029761534373409303, 0.029761534373409303, 0.08928460312022792, 0.1687553168871767, 0.02109441461089709, 0.04218882922179418, 0.06328324383269127, 0.12656648766538253, 0.08437765844358835, 0.08437765844358835, 0.02109441461089709, 0.12656648766538253, 0.04218882922179418, 0.02109441461089709, 0.04218882922179418, 0.12656648766538253, 0.02109441461089709, 0.4086513122055654, 0.22702850678086967, 0.04540570135617393, 0.09081140271234786, 0.04540570135617393, 0.04540570135617393, 0.04540570135617393, 0.04540570135617393, 0.6577744137370604, 0.028598887553785233, 0.028598887553785233, 0.0857966626613557, 0.11439555021514093, 0.057197775107570466, 0.028598887553785233, 0.5956474662098796, 0.11912949324197593, 0.11912949324197593, 0.11912949324197593, 0.1940312684566945, 0.08819603111667931, 0.03527841244667172, 0.07055682489334344, 0.03527841244667172, 0.03527841244667172, 0.07055682489334344, 0.07055682489334344, 0.05291761867000759, 0.05291761867000759, 0.01763920622333586, 0.03527841244667172, 0.05291761867000759, 0.07055682489334344, 0.01763920622333586, 0.03527841244667172, 0.01763920622333586, 0.01763920622333586, 0.1905659043944972, 0.1429244282958729, 0.0476414760986243, 0.0476414760986243, 0.23820738049312148, 0.0952829521972486, 0.0476414760986243, 0.0952829521972486, 0.0952829521972486, 0.35285369229528213, 0.11761789743176071, 0.058808948715880355, 0.11761789743176071, 0.11761789743176071, 0.058808948715880355, 0.11761789743176071, 0.14989225918308668, 0.14989225918308668, 0.29978451836617337, 0.14989225918308668, 0.14989225918308668, 0.07481054180418943, 0.07481054180418943, 0.07481054180418943, 0.11221581270628415, 0.07481054180418943, 0.037405270902094716, 0.07481054180418943, 0.2244316254125683, 0.07481054180418943, 0.037405270902094716, 0.14962108360837886, 0.14241043171768078, 0.14241043171768078, 0.28482086343536156, 0.07120521585884039, 0.07120521585884039, 0.07120521585884039, 0.14241043171768078, 0.07120521585884039, 0.1805843926340278, 0.2708765889510417, 0.0902921963170139, 0.1805843926340278, 0.2708765889510417, 0.08951762248479912, 0.08951762248479912, 0.17903524496959825, 0.08951762248479912, 0.2685528674543974, 0.08951762248479912, 0.08951762248479912, 0.13027229701751158, 0.034282183425660945, 0.05485149348105751, 0.10970298696211501, 0.08913367690671845, 0.08913367690671845, 0.05485149348105751, 0.027425746740528754, 0.027425746740528754, 0.05485149348105751, 0.04113862011079313, 0.04799505679592532, 0.034282183425660945, 0.06856436685132189, 0.034282183425660945, 0.07542080353645407, 0.0068564366851321884, 0.0068564366851321884, 0.09628838654147664, 0.28886515962442993, 0.09628838654147664, 0.1925767730829533, 0.09628838654147664, 0.1925767730829533, 0.1780772186607862, 0.1780772186607862, 0.1780772186607862, 0.3561544373215724, 0.3052428932274837, 0.38155361653435466, 0.07631072330687093, 0.15262144661374186, 0.1344537778055447, 0.1344537778055447, 0.1344537778055447, 0.1344537778055447, 0.2689075556110894, 0.23787792651147208, 0.11893896325573604, 0.3568168897672081, 0.11893896325573604, 0.11893896325573604, 0.10523737424371174, 0.10523737424371174, 0.5261868712185587, 0.21047474848742348, 0.09037677805335725, 0.1807535561067145, 0.06025118536890484, 0.01506279634222621, 0.03012559268445242, 0.07531398171113105, 0.01506279634222621, 0.10543957439558346, 0.12050237073780969, 0.03012559268445242, 0.06025118536890484, 0.06025118536890484, 0.01506279634222621, 0.09037677805335725, 0.04518838902667863, 0.1391307183039631, 0.19478300562554832, 0.1391307183039631, 0.11130457464317048, 0.02782614366079262, 0.19478300562554832, 0.05565228732158524, 0.05565228732158524, 0.02782614366079262, 0.05565228732158524, 0.21186883215825478, 0.06356064964747643, 0.08474753286330192, 0.02118688321582548, 0.04237376643165096, 0.10593441607912739, 0.19068194894242932, 0.02118688321582548, 0.06356064964747643, 0.02118688321582548, 0.12712129929495286, 0.04237376643165096, 0.24337826101403973, 0.14602695660842382, 0.09735130440561589, 0.09735130440561589, 0.048675652202807944, 0.048675652202807944, 0.24337826101403973, 0.13353180013916793, 0.13353180013916793, 0.40059540041750386, 0.13353180013916793, 0.13353180013916793, 0.08185652541754715, 0.1637130508350943, 0.1637130508350943, 0.08185652541754715, 0.3274261016701886, 0.08185652541754715, 0.08185652541754715, 0.1748794595131349, 0.1748794595131349, 0.1748794595131349, 0.2623191892697024, 0.05361999171938777, 0.1608599751581633, 0.21447996687755108, 0.10723998343877554, 0.05361999171938777, 0.05361999171938777, 0.10723998343877554, 0.10723998343877554, 0.05361999171938777, 0.3227456518008687, 0.0339732265053546, 0.0339732265053546, 0.0339732265053546, 0.0339732265053546, 0.0679464530107092, 0.0169866132526773, 0.0679464530107092, 0.0339732265053546, 0.0339732265053546, 0.0339732265053546, 0.08493306626338651, 0.0169866132526773, 0.0169866132526773, 0.08493306626338651, 0.0169866132526773, 0.0169866132526773, 0.0339732265053546, 0.13168741858961644, 0.026337483717923285, 0.1580249023075397, 0.184362386025463, 0.026337483717923285, 0.05267496743584657, 0.07901245115376986, 0.05267496743584657, 0.026337483717923285, 0.10534993487169314, 0.07901245115376986, 0.026337483717923285, 0.026337483717923285, 0.0739827020410658, 0.0739827020410658, 0.11097405306159869, 0.11097405306159869, 0.0739827020410658, 0.11097405306159869, 0.0739827020410658, 0.0739827020410658, 0.0369913510205329, 0.1479654040821316, 0.0739827020410658, 0.17517657400476558, 0.5255297220142967, 0.17517657400476558, 0.07147782078468343, 0.4288669247081005, 0.21443346235405025, 0.07147782078468343, 0.21443346235405025, 0.13563208614500896, 0.13563208614500896, 0.13563208614500896, 0.2712641722900179, 0.2712641722900179, 0.2636565238233333, 0.08788550794111111, 0.17577101588222221, 0.08788550794111111, 0.08788550794111111, 0.2636565238233333, 0.08788550794111111, 0.046865647990662715, 0.18746259196265086, 0.18746259196265086, 0.14059694397198816, 0.09373129598132543, 0.046865647990662715, 0.09373129598132543, 0.046865647990662715, 0.046865647990662715, 0.046865647990662715, 0.046865647990662715, 0.26377676177675147, 0.19783257133256363, 0.06594419044418787, 0.13188838088837573, 0.19783257133256363, 0.06594419044418787, 0.19644259816029414, 0.06548086605343138, 0.19644259816029414, 0.06548086605343138, 0.19644259816029414, 0.06548086605343138, 0.06548086605343138, 0.06548086605343138, 0.21437184084224306, 0.21437184084224306, 0.21437184084224306, 0.10718592042112153, 0.21437184084224306, 0.2173676660940857, 0.08855719729759047, 0.07245588869802856, 0.12075981449671427, 0.04025327149890476, 0.04025327149890476, 0.06440523439824762, 0.04830392579868571, 0.04830392579868571, 0.04830392579868571, 0.06440523439824762, 0.024151962899342856, 0.008050654299780953, 0.03220261719912381, 0.05635458009846666, 0.16433504254407735, 0.08216752127203868, 0.16433504254407735, 0.24650256381611602, 0.08216752127203868, 0.08216752127203868, 0.16433504254407735, 0.442093527069513, 0.055261690883689124, 0.055261690883689124, 0.055261690883689124, 0.11052338176737825, 0.055261690883689124, 0.055261690883689124, 0.055261690883689124, 0.11052338176737825, 0.5426370569042782, 0.05426370569042782, 0.10852741138085564, 0.05426370569042782, 0.05426370569042782, 0.05426370569042782, 0.05426370569042782, 0.35860968341059657, 0.17930484170529828, 0.17930484170529828, 0.17930484170529828, 0.230690163364905, 0.15379344224327, 0.30758688448654, 0.076896721121635, 0.076896721121635, 0.076896721121635, 0.2744600486417863, 0.04773218237248457, 0.059665227965605715, 0.083531319151848, 0.07159827355872686, 0.07159827355872686, 0.059665227965605715, 0.083531319151848, 0.04773218237248457, 0.011933045593121142, 0.023866091186242284, 0.07159827355872686, 0.03579913677936343, 0.011933045593121142, 0.011933045593121142, 0.011933045593121142, 0.3840687044649796, 0.05486695778071137, 0.08230043667106705, 0.05486695778071137, 0.027433478890355686, 0.05486695778071137, 0.05486695778071137, 0.027433478890355686, 0.05486695778071137, 0.027433478890355686, 0.027433478890355686, 0.027433478890355686, 0.05486695778071137, 0.05486695778071137, 0.2851414694065083, 0.1900943129376722, 0.1900943129376722, 0.1900943129376722, 0.10588599865301268, 0.15882899797951902, 0.15882899797951902, 0.10588599865301268, 0.10588599865301268, 0.26471499663253173, 0.05294299932650634, 0.17135180813830256, 0.3769739779042656, 0.17135180813830256, 0.06854072325532103, 0.06854072325532103, 0.03427036162766051, 0.03427036162766051, 0.06854072325532103, 0.09499937122778233, 0.09499937122778233, 0.18999874245556467, 0.284998113683347, 0.09499937122778233, 0.09499937122778233, 0.06266833629149361, 0.06266833629149361, 0.4386783540404553, 0.06266833629149361, 0.12533667258298722, 0.12533667258298722, 0.06266833629149361, 0.5197993322198396, 0.06497491652747996, 0.2598996661099198, 0.1502179449390666, 0.1502179449390666, 0.1502179449390666, 0.3004358898781332, 0.30049215848022126, 0.30049215848022126, 0.15024607924011063, 0.15024607924011063, 0.1544930423074465, 0.1544930423074465, 0.1544930423074465, 0.308986084614893, 0.1544930423074465, 0.07674743601849268, 0.07674743601849268, 0.15349487203698536, 0.07674743601849268, 0.07674743601849268, 0.15349487203698536, 0.07674743601849268, 0.23024230805547805, 0.07674743601849268, 0.3604339091006789, 0.18021695455033945, 0.18021695455033945, 0.18021695455033945, 0.38910419176650385, 0.5188055890220051, 0.1551206480478878, 0.1551206480478878, 0.1551206480478878, 0.1551206480478878, 0.3102412960957756, 0.05930968691286167, 0.03953979127524111, 0.05930968691286167, 0.3163183302019289, 0.019769895637620556, 0.11861937382572334, 0.03953979127524111, 0.019769895637620556, 0.11861937382572334, 0.07907958255048222, 0.05930968691286167, 0.019769895637620556, 0.019769895637620556, 0.08918990775473853, 0.08918990775473853, 0.08918990775473853, 0.35675963101895414, 0.08918990775473853, 0.2675697232642156, 0.6798368947936763, 0.13596737895873526, 0.13596737895873526, 0.23363222965326655, 0.23363222965326655, 0.23363222965326655, 0.11681611482663327, 0.15232325363375743, 0.15232325363375743, 0.10154883575583828, 0.10154883575583828, 0.05077441787791914, 0.30464650726751485, 0.15232325363375743, 0.6624505044417573, 0.13249010088835148, 0.35185931973059786, 0.17592965986529893, 0.17592965986529893, 0.17592965986529893, 0.31871317951321465, 0.31871317951321465, 0.10623772650440488, 0.10623772650440488, 0.10623772650440488, 0.10643855459081343, 0.15965783188622013, 0.053219277295406715, 0.053219277295406715, 0.053219277295406715, 0.15965783188622013, 0.053219277295406715, 0.053219277295406715, 0.15965783188622013, 0.5986816231973776, 0.08552594617105394, 0.25657783851316185, 0.4746051987770482, 0.059325649847131026, 0.059325649847131026, 0.2966282492356551, 0.059325649847131026, 0.5392204143589243, 0.17974013811964143, 0.17974013811964143, 0.360553585261399, 0.1802767926306995, 0.1802767926306995, 0.1802767926306995, 0.0941328543684827, 0.1882657087369654, 0.12551047249131028, 0.219643326859793, 0.06275523624565514, 0.03137761812282757, 0.06275523624565514, 0.0941328543684827, 0.06275523624565514, 0.06275523624565514, 0.10745124719456267, 0.322353741583688, 0.10745124719456267, 0.322353741583688, 0.11837561196059407, 0.11837561196059407, 0.11837561196059407, 0.11837561196059407, 0.11837561196059407, 0.23675122392118814, 0.11837561196059407, 0.13378510230279148, 0.13378510230279148, 0.13378510230279148, 0.13378510230279148, 0.13378510230279148, 0.26757020460558295, 0.1535878754995422, 0.1535878754995422, 0.1535878754995422, 0.3071757509990844, 0.076403313294153, 0.076403313294153, 0.458419879764918, 0.076403313294153, 0.152806626588306, 0.076403313294153, 0.3587034065942839, 0.08967585164857098, 0.3587034065942839, 0.08967585164857098, 0.08967585164857098, 0.1314877029141952, 0.1314877029141952, 0.2629754058283904, 0.3944631087425856, 0.14374371218646684, 0.04791457072882228, 0.04791457072882228, 0.14374371218646684, 0.33540199510175595, 0.09582914145764455, 0.09582914145764455, 0.09582914145764455, 0.044646783006311044, 0.08929356601262209, 0.08929356601262209, 0.08929356601262209, 0.08929356601262209, 0.17858713202524418, 0.22323391503155524, 0.08929356601262209, 0.08929356601262209, 0.044646783006311044, 0.3417476873521535, 0.2929265891589887, 0.09764219638632958, 0.19528439277265916, 0.053475278817715036, 0.32085167290629024, 0.053475278817715036, 0.053475278817715036, 0.10695055763543007, 0.21390111527086014, 0.053475278817715036, 0.10695055763543007, 0.04520628428198541, 0.04520628428198541, 0.04520628428198541, 0.04520628428198541, 0.04520628428198541, 0.09041256856397081, 0.04520628428198541, 0.04520628428198541, 0.04520628428198541, 0.04520628428198541, 0.36165027425588325, 0.04520628428198541, 0.11951655282770551, 0.35854965848311654, 0.23903310565541103, 0.23903310565541103, 0.06669819449666903, 0.4668873614766832, 0.20009458349000708, 0.20009458349000708, 0.06669819449666903, 0.08279283740983855, 0.08279283740983855, 0.1655856748196771, 0.24837851222951565, 0.1655856748196771, 0.08279283740983855, 0.08279283740983855, 0.1538163131593356, 0.1538163131593356, 0.3076326263186712, 0.1538163131593356, 0.1538163131593356, 0.11876165353186785, 0.11876165353186785, 0.11876165353186785, 0.11876165353186785, 0.11876165353186785, 0.2375233070637357, 0.11876165353186785, 0.2636736372445878, 0.2636736372445878, 0.2636736372445878, 0.1318368186222939, 0.32255896621578134, 0.08063974155394533, 0.08063974155394533, 0.16127948310789067, 0.08063974155394533, 0.241919224661836, 0.13311485003993756, 0.13311485003993756, 0.13311485003993756, 0.13311485003993756, 0.13311485003993756, 0.2662297000798751, 0.2997194840240613, 0.14985974201203064, 0.2997194840240613, 0.14985974201203064, 0.16011050168480612, 0.053370167228268706, 0.053370167228268706, 0.10674033445653741, 0.16011050168480612, 0.053370167228268706, 0.053370167228268706, 0.10674033445653741, 0.16011050168480612, 0.10674033445653741, 0.18562648530438855, 0.04640662132609714, 0.13921986397829142, 0.04640662132609714, 0.09281324265219427, 0.04640662132609714, 0.13921986397829142, 0.09281324265219427, 0.13921986397829142, 0.04640662132609714, 0.15625785993150643, 0.05208595331050214, 0.20834381324200857, 0.05208595331050214, 0.5208595331050214, 0.10695616416807702, 0.09507214592717957, 0.05942009120448723, 0.11884018240897445, 0.04753607296358978, 0.07130410944538468, 0.04753607296358978, 0.16637625537256426, 0.05942009120448723, 0.011884018240897446, 0.011884018240897446, 0.03565205472269234, 0.04753607296358978, 0.02376803648179489, 0.02376803648179489, 0.04753607296358978, 0.40818263242778047, 0.04535362582530894, 0.09070725165061788, 0.04535362582530894, 0.13606087747592682, 0.04535362582530894, 0.13606087747592682, 0.04535362582530894, 0.15310080871575624, 0.15310080871575624, 0.15310080871575624, 0.15310080871575624, 0.3062016174315125, 0.28921726457894376, 0.0964057548596479, 0.032135251619882635, 0.032135251619882635, 0.1928115097192958, 0.12854100647953054, 0.032135251619882635, 0.0964057548596479, 0.032135251619882635, 0.06427050323976527, 0.1322305220119457, 0.08815368134129715, 0.30853788469454, 0.04407684067064858, 0.04407684067064858, 0.04407684067064858, 0.04407684067064858, 0.04407684067064858, 0.1322305220119457, 0.04407684067064858, 0.04407684067064858, 0.2509580184297927, 0.3346106912397236, 0.2509580184297927, 0.13316562981830787, 0.3994968894549237, 0.13316562981830787, 0.13316562981830787, 0.13316562981830787, 0.1503708275354244, 0.3007416550708488, 0.45111248260627324, 0.10920746053338272, 0.16381119080007409, 0.08190559540003704, 0.02730186513334568, 0.08190559540003704, 0.10920746053338272, 0.02730186513334568, 0.02730186513334568, 0.02730186513334568, 0.02730186513334568, 0.05460373026669136, 0.02730186513334568, 0.08190559540003704, 0.05460373026669136, 0.05460373026669136, 0.22132705548717116, 0.24899293742306755, 0.04149882290384459, 0.06916470483974098, 0.05533176387179279, 0.06916470483974098, 0.11066352774358558, 0.027665881935896395, 0.06916470483974098, 0.05533176387179279, 0.013832940967948197, 0.013832940967948197, 0.18309342412751964, 0.18309342412751964, 0.18309342412751964, 0.3661868482550393, 0.09887866359200076, 0.09887866359200076, 0.09887866359200076, 0.09887866359200076, 0.2966359907760023, 0.09887866359200076, 0.1465978229602465, 0.09773188197349766, 0.09773188197349766, 0.04886594098674883, 0.39092752789399066, 0.04886594098674883, 0.04886594098674883, 0.04886594098674883, 0.0931398215099593, 0.1862796430199186, 0.1862796430199186, 0.04656991075497965, 0.13970973226493894, 0.04656991075497965, 0.0931398215099593, 0.04656991075497965, 0.04656991075497965, 0.0931398215099593, 0.10639803697463743, 0.10639803697463743, 0.10639803697463743, 0.10639803697463743, 0.10639803697463743, 0.10639803697463743, 0.21279607394927486, 0.10639803697463743, 0.612775914142859, 0.15319397853571476, 0.15319397853571476, 0.39989359912883166, 0.13329786637627722, 0.13329786637627722, 0.13329786637627722, 0.1560465845499418, 0.1560465845499418, 0.1560465845499418, 0.3120931690998836, 0.1560465845499418, 0.13318636252682478, 0.13318636252682478, 0.3995590875804743, 0.13318636252682478, 0.13318636252682478, 0.14265374562350552, 0.14265374562350552, 0.07132687281175276, 0.28530749124701105, 0.07132687281175276, 0.07132687281175276, 0.07132687281175276, 0.08862899033676987, 0.620402932357389, 0.08862899033676987, 0.08862899033676987, 0.07180408511578974, 0.07180408511578974, 0.14360817023157949, 0.14360817023157949, 0.35902042557894875, 0.07180408511578974, 0.07180408511578974, 0.14024126502034687, 0.03506031625508672, 0.10518094876526014, 0.31554284629578044, 0.10518094876526014, 0.17530158127543358, 0.10518094876526014, 0.03506031625508672, 0.03506031625508672, 0.38926472288659864, 0.09731618072164966, 0.19463236144329932, 0.19463236144329932, 0.09731618072164966, 0.20350701870383675, 0.06783567290127891, 0.20350701870383675, 0.4070140374076735, 0.06783567290127891, 0.11774472424855856, 0.11774472424855856, 0.23548944849711712, 0.11774472424855856, 0.11774472424855856, 0.23548944849711712, 0.2112559979336533, 0.14083733195576886, 0.07041866597788443, 0.2816746639115377, 0.14083733195576886, 0.07041866597788443, 0.15165097989567625, 0.15165097989567625, 0.15165097989567625, 0.15165097989567625, 0.15165097989567625, 0.3639452977829767, 0.12131509926099222, 0.12131509926099222, 0.12131509926099222, 0.12131509926099222, 0.12131509926099222, 0.08820094789495271, 0.35280379157981084, 0.35280379157981084, 0.08820094789495271, 0.08820094789495271, 0.448065028665464, 0.14935500955515466, 0.2987100191103093, 0.31451070054356123, 0.10483690018118708, 0.10483690018118708, 0.10483690018118708, 0.10483690018118708, 0.20967380036237415, 0.06500403361144932, 0.1625100840286233, 0.1625100840286233, 0.06500403361144932, 0.06500403361144932, 0.06500403361144932, 0.03250201680572466, 0.09750605041717397, 0.03250201680572466, 0.03250201680572466, 0.1625100840286233, 0.06500403361144932, 0.03250201680572466, 0.04152596166427493, 0.24915576998564956, 0.1661038466570997, 0.04152596166427493, 0.04152596166427493, 0.04152596166427493, 0.04152596166427493, 0.04152596166427493, 0.3322076933141994, 0.13912226571325506, 0.13912226571325506, 0.13912226571325506, 0.2782445314265101, 0.2782445314265101, 0.10992478458058769, 0.14656637944078357, 0.03664159486019589, 0.07328318972039179, 0.03664159486019589, 0.03664159486019589, 0.10992478458058769, 0.14656637944078357, 0.03664159486019589, 0.07328318972039179, 0.03664159486019589, 0.07328318972039179, 0.03664159486019589, 0.15432036416822575, 0.3086407283364515, 0.3086407283364515, 0.15432036416822575, 0.5134265335487515, 0.06417831669359393, 0.3208915834679697, 0.06417831669359393, 0.12159683935085856, 0.24319367870171713, 0.48638735740343425, 0.17857230747257397, 0.35714461494514793, 0.17857230747257397, 0.17857230747257397, 0.10695597047800409, 0.10695597047800409, 0.42782388191201637, 0.10695597047800409, 0.10695597047800409, 0.10695597047800409, 0.18277546870149772, 0.18277546870149772, 0.18277546870149772, 0.18277546870149772, 0.18277546870149772, 0.2350552013343525, 0.2350552013343525, 0.2350552013343525, 0.11752760066717625, 0.11752760066717625, 0.07649324686368542, 0.19123311715921357, 0.22947974059105627, 0.03824662343184271, 0.03824662343184271, 0.11473987029552814, 0.03824662343184271, 0.07649324686368542, 0.03824662343184271, 0.03824662343184271, 0.03824662343184271, 0.03824662343184271, 0.03824662343184271, 0.11776553732610642, 0.4710621493044257, 0.11776553732610642, 0.11776553732610642, 0.035575450905217486, 0.035575450905217486, 0.10672635271565245, 0.07115090181043497, 0.07115090181043497, 0.14230180362086994, 0.17787725452608744, 0.035575450905217486, 0.07115090181043497, 0.10672635271565245, 0.14230180362086994, 0.14935569403046273, 0.14935569403046273, 0.29871138806092545, 0.14935569403046273, 0.7071594121299769, 0.17678985303249423, 0.17655282487345375, 0.058850941624484586, 0.058850941624484586, 0.11770188324896917, 0.058850941624484586, 0.058850941624484586, 0.11770188324896917, 0.058850941624484586, 0.11770188324896917, 0.11770188324896917, 0.15116576354818279, 0.15116576354818279, 0.30233152709636557, 0.30233152709636557, 0.07801407451519543, 0.15602814903039086, 0.07801407451519543, 0.23404222354558626, 0.15602814903039086, 0.23404222354558626, 0.10657076513254973, 0.21314153026509947, 0.053285382566274866, 0.3729976779639241, 0.10657076513254973, 0.10657076513254973, 0.053285382566274866, 0.4214940136730848, 0.1053735034182712, 0.2107470068365424, 0.1053735034182712, 0.2107470068365424, 0.46159350602294663, 0.23079675301147332, 0.23079675301147332, 0.0953828036103186, 0.0953828036103186, 0.1907656072206372, 0.0953828036103186, 0.0953828036103186, 0.2861484108309558, 0.0953828036103186, 0.15492828960200639, 0.15492828960200639, 0.15492828960200639, 0.15492828960200639, 0.15492828960200639, 0.15492828960200639, 0.07153688608796499, 0.07153688608796499, 0.07153688608796499, 0.07153688608796499, 0.28614754435185996, 0.07153688608796499, 0.07153688608796499, 0.07153688608796499, 0.14307377217592998, 0.14307377217592998, 0.36019295797396206, 0.18009647898698103, 0.18009647898698103, 0.18009647898698103, 0.23359573105226503, 0.11679786552613251, 0.05839893276306626, 0.11679786552613251, 0.02919946638153313, 0.02919946638153313, 0.08759839914459938, 0.05839893276306626, 0.05839893276306626, 0.02919946638153313, 0.05839893276306626, 0.08759839914459938, 0.05839893276306626, 0.13245126803496865, 0.13245126803496865, 0.13245126803496865, 0.39735380410490595, 0.13245126803496865, 0.11487767145012645, 0.04307912679379742, 0.08615825358759484, 0.028719417862531613, 0.028719417862531613, 0.14359708931265808, 0.17231650717518968, 0.057438835725063225, 0.057438835725063225, 0.014359708931265806, 0.04307912679379742, 0.04307912679379742, 0.014359708931265806, 0.028719417862531613, 0.04307912679379742, 0.04307912679379742, 0.04307912679379742, 0.18036568472201533, 0.12883263194429667, 0.02576652638885933, 0.10306610555543733, 0.18036568472201533, 0.05153305277771866, 0.02576652638885933, 0.05153305277771866, 0.02576652638885933, 0.18036568472201533, 0.02576652638885933, 0.18334347768887754, 0.18334347768887754, 0.18334347768887754, 0.18334347768887754, 0.09125773859686316, 0.09125773859686316, 0.09125773859686316, 0.09125773859686316, 0.18251547719372632, 0.09125773859686316, 0.18251547719372632, 0.09125773859686316, 0.09801306807336144, 0.19602613614672287, 0.2940392042200843, 0.09801306807336144, 0.09801306807336144, 0.09801306807336144, 0.09801306807336144, 0.14183488529676608, 0.07091744264838304, 0.14183488529676608, 0.07091744264838304, 0.21275232794514914, 0.07091744264838304, 0.07091744264838304, 0.14183488529676608, 0.21599648616675649, 0.14399765744450432, 0.28799531488900865, 0.07199882872225216, 0.28799531488900865, 0.0929977106411058, 0.1859954212822116, 0.0464988553205529, 0.1859954212822116, 0.27899313192331743, 0.0929977106411058, 0.0929977106411058, 0.6418818448635646, 0.1283763689727129, 0.1283763689727129, 0.2712997703957308, 0.18086651359715383, 0.18086651359715383, 0.09043325679857692, 0.09043325679857692, 0.18086651359715383, 0.09572383724310617, 0.574343023458637, 0.09572383724310617, 0.09572383724310617, 0.19304205506922284, 0.19304205506922284, 0.3860841101384457, 0.09652102753461142, 0.09652102753461142, 0.3930176347713603, 0.3930176347713603, 0.06550293912856005, 0.06550293912856005, 0.06550293912856005, 0.28885585010716197, 0.19257056673810796, 0.09628528336905398, 0.28885585010716197, 0.09628528336905398, 0.26271911801256403, 0.13135955900628202, 0.13135955900628202, 0.26271911801256403, 0.13135955900628202, 0.34791224705355095, 0.08697806176338774, 0.17395612352677547, 0.2609341852901632, 0.0790233257163398, 0.1580466514326796, 0.4741399542980388, 0.0790233257163398, 0.0790233257163398, 0.19407334917737507, 0.19407334917737507, 0.2911100237660626, 0.09703667458868753, 0.09703667458868753, 0.3208195742025461, 0.21387971613503073, 0.0712932387116769, 0.10693985806751537, 0.03564661935583845, 0.1425864774233538, 0.03564661935583845, 0.03564661935583845, 0.03564661935583845, 0.17920771562256146, 0.08960385781128073, 0.08960385781128073, 0.08960385781128073, 0.08960385781128073, 0.17920771562256146, 0.08960385781128073, 0.17920771562256146, 0.42186597980432144, 0.10546649495108036, 0.10546649495108036, 0.10546649495108036, 0.21093298990216072, 0.07154363127670695, 0.21463089383012082, 0.1430872625534139, 0.21463089383012082, 0.1430872625534139, 0.21463089383012082, 0.12014418727532379, 0.024028837455064758, 0.07208651236519427, 0.12014418727532379, 0.26431721200571234, 0.048057674910129515, 0.048057674910129515, 0.07208651236519427, 0.024028837455064758, 0.09611534982025903, 0.024028837455064758, 0.048057674910129515, 0.024028837455064758, 0.15474963099950287, 0.30949926199900574, 0.15474963099950287, 0.15474963099950287, 0.15474963099950287, 0.039943887290542456, 0.11983166187162737, 0.07988777458108491, 0.07988777458108491, 0.19971943645271228, 0.039943887290542456, 0.039943887290542456, 0.039943887290542456, 0.039943887290542456, 0.039943887290542456, 0.039943887290542456, 0.039943887290542456, 0.039943887290542456, 0.039943887290542456, 0.07988777458108491, 0.3917721060610131, 0.13059070202033768, 0.13059070202033768, 0.26118140404067536, 0.27740964375644667, 0.05548192875128933, 0.05548192875128933, 0.05548192875128933, 0.22192771500515732, 0.05548192875128933, 0.05548192875128933, 0.11096385750257866, 0.05548192875128933, 0.5270719951307109, 0.35138133008714056, 0.35669501357362643, 0.11889833785787547, 0.35669501357362643, 0.11889833785787547, 0.17790759462861228, 0.17790759462861228, 0.17790759462861228, 0.35581518925722455, 0.09040402031915157, 0.09040402031915157, 0.09040402031915157, 0.045202010159575784, 0.06780301523936368, 0.13560603047872735, 0.06780301523936368, 0.022601005079787892, 0.09040402031915157, 0.09040402031915157, 0.045202010159575784, 0.022601005079787892, 0.022601005079787892, 0.022601005079787892, 0.022601005079787892, 0.045202010159575784, 0.13032289588351817, 0.03258072397087954, 0.09774217191263862, 0.03258072397087954, 0.03258072397087954, 0.06516144794175908, 0.13032289588351817, 0.1629036198543977, 0.06516144794175908, 0.06516144794175908, 0.03258072397087954, 0.03258072397087954, 0.06516144794175908, 0.05720693645010226, 0.034324161870061355, 0.18306219664032725, 0.05720693645010226, 0.04576554916008181, 0.1945035839303477, 0.14873803477026587, 0.011441387290020453, 0.034324161870061355, 0.034324161870061355, 0.022882774580040906, 0.034324161870061355, 0.04576554916008181, 0.011441387290020453, 0.011441387290020453, 0.011441387290020453, 0.022882774580040906, 0.034324161870061355, 0.011441387290020453, 0.5192329564348037, 0.25961647821740186, 0.12980823910870093, 0.0711323480554121, 0.49792643638788475, 0.0711323480554121, 0.0711323480554121, 0.0711323480554121, 0.0711323480554121, 0.0711323480554121, 0.15231545761376092, 0.15231545761376092, 0.15231545761376092, 0.30463091522752184, 0.15231545761376092, 0.1171003973989332, 0.3513011921967996, 0.1171003973989332, 0.1171003973989332, 0.1171003973989332, 0.1171003973989332, 0.29817068859848955, 0.4472560328977343, 0.07454267214962239, 0.14908534429924478, 0.23254251041316468, 0.11627125520658234, 0.46508502082632935, 0.11627125520658234, 0.21252949369593935, 0.08501179747837574, 0.04250589873918787, 0.12751769621756362, 0.04250589873918787, 0.04250589873918787, 0.04250589873918787, 0.08501179747837574, 0.08501179747837574, 0.21252949369593935, 0.1181866026859315, 0.35455980805779447, 0.1181866026859315, 0.236373205371863, 0.1181866026859315, 0.1252762795012027, 0.2505525590024054, 0.1252762795012027, 0.06263813975060135, 0.06263813975060135, 0.06263813975060135, 0.06263813975060135, 0.1252762795012027, 0.06263813975060135, 0.3062206236462374, 0.1531103118231187, 0.1531103118231187, 0.1531103118231187, 0.1531103118231187, 0.15376873192696455, 0.15376873192696455, 0.3075374638539291, 0.15376873192696455, 0.15376873192696455, 0.11753473861315213, 0.09794561551096011, 0.1763021079197282, 0.11753473861315213, 0.07835649240876809, 0.039178246204384044, 0.07835649240876809, 0.019589123102192022, 0.05876736930657606, 0.019589123102192022, 0.07835649240876809, 0.05876736930657606, 0.019589123102192022, 0.019589123102192022, 0.019589123102192022, 0.3273784276302301, 0.10912614254341005, 0.10912614254341005, 0.3273784276302301, 0.10912614254341005, 0.1500143615102052, 0.1500143615102052, 0.1500143615102052, 0.3000287230204104, 0.0750071807551026, 0.1500143615102052, 0.3506780261402517, 0.03896422512669463, 0.03896422512669463, 0.2337853507601678, 0.03896422512669463, 0.03896422512669463, 0.07792845025338926, 0.1168926753800839, 0.03896422512669463, 0.1975774191649784, 0.0987887095824892, 0.1975774191649784, 0.1975774191649784, 0.1975774191649784, 0.5913662473732036, 0.2956831236866018, 0.15447021956803128, 0.6178808782721251, 0.15447021956803128, 0.2682014193043073, 0.2682014193043073, 0.2682014193043073, 0.13410070965215365, 0.10320587323432734, 0.41282349293730936, 0.06880391548955156, 0.03440195774477578, 0.1720097887238789, 0.06880391548955156, 0.03440195774477578, 0.03440195774477578, 0.03440195774477578, 0.10981145806966407, 0.03660381935655469, 0.10981145806966407, 0.14641527742621877, 0.14641527742621877, 0.07320763871310938, 0.03660381935655469, 0.07320763871310938, 0.03660381935655469, 0.14641527742621877, 0.03660381935655469, 0.03660381935655469, 0.13368704161044762, 0.13368704161044762, 0.4010611248313428, 0.13368704161044762, 0.13368704161044762, 0.1346955223670836, 0.1346955223670836, 0.1346955223670836, 0.2693910447341672, 0.2693910447341672, 0.15261780622700072, 0.15261780622700072, 0.15261780622700072, 0.15261780622700072, 0.15261780622700072, 0.1202655211363811, 0.1202655211363811, 0.2405310422727622, 0.3607965634091433, 0.06724438869978393, 0.06724438869978393, 0.06724438869978393, 0.06724438869978393, 0.06724438869978393, 0.06724438869978393, 0.06724438869978393, 0.06724438869978393, 0.06724438869978393, 0.2017331660993518, 0.06724438869978393, 0.15268150512534667, 0.30536301025069335, 0.07634075256267334, 0.4580445153760401, 0.2120771152271848, 0.14138474348478988, 0.14138474348478988, 0.4948466021967646, 0.07069237174239494, 0.12029516554028993, 0.36088549662086983, 0.12029516554028993, 0.12029516554028993, 0.12029516554028993, 0.12029516554028993, 0.17469541378655654, 0.17469541378655654, 0.34939082757311307, 0.17469541378655654, 0.17923520819785083, 0.35847041639570165, 0.17923520819785083, 0.17923520819785083, 0.07829681143222202, 0.15659362286444403, 0.07829681143222202, 0.15659362286444403, 0.07829681143222202, 0.15659362286444403, 0.15659362286444403, 0.11849525882042837, 0.11849525882042837, 0.3554857764612851, 0.11849525882042837, 0.11849525882042837, 0.11849525882042837, 0.1581656935107447, 0.1054437956738298, 0.1054437956738298, 0.2636094891845745, 0.0527218978369149, 0.1054437956738298, 0.0527218978369149, 0.0527218978369149, 0.0527218978369149, 0.0527218978369149, 0.24097948645309494, 0.12048974322654747, 0.20081623871091245, 0.16065299096872995, 0.04016324774218249, 0.04016324774218249, 0.08032649548436498, 0.08032649548436498, 0.25121140213372056, 0.08373713404457352, 0.16747426808914703, 0.08373713404457352, 0.08373713404457352, 0.08373713404457352, 0.08373713404457352, 0.08373713404457352, 0.17716813302445297, 0.5315043990733589, 0.17716813302445297, 0.11988468050958014, 0.11988468050958014, 0.11988468050958014, 0.47953872203832054, 0.11988468050958014, 0.3071686585409606, 0.1535843292704803, 0.3071686585409606, 0.1535843292704803, 0.5272552092912101, 0.13181380232280251, 0.13181380232280251, 0.13181380232280251, 0.21114977247763475, 0.12668986348658084, 0.12668986348658084, 0.0844599089910539, 0.04222995449552695, 0.1689198179821078, 0.04222995449552695, 0.04222995449552695, 0.04222995449552695, 0.04222995449552695, 0.04222995449552695, 0.11930831193452222, 0.3579249358035667, 0.23861662386904445, 0.11930831193452222, 0.11930831193452222, 0.09225038877303912, 0.738003110184313, 0.09225038877303912, 0.08762239445647917, 0.4381119722823958, 0.08762239445647917, 0.08762239445647917, 0.08762239445647917, 0.08762239445647917, 0.4001102675149315, 0.20005513375746575, 0.0800220535029863, 0.04001102675149315, 0.0800220535029863, 0.0800220535029863, 0.0800220535029863, 0.04001102675149315, 0.10616263709249901, 0.3715692298237465, 0.053081318546249506, 0.10616263709249901, 0.053081318546249506, 0.10616263709249901, 0.053081318546249506, 0.053081318546249506, 0.053081318546249506, 0.1702336193274355, 0.042558404831858875, 0.08511680966371775, 0.25535042899115323, 0.042558404831858875, 0.042558404831858875, 0.12767521449557662, 0.042558404831858875, 0.042558404831858875, 0.042558404831858875, 0.042558404831858875, 0.042558404831858875, 0.29751561821319794, 0.5206523318730963, 0.14875780910659897, 0.6037265480078312, 0.1509316370019578, 0.1509316370019578, 0.4154304142498563, 0.10385760356246407, 0.10385760356246407, 0.051928801781232034, 0.051928801781232034, 0.051928801781232034, 0.10385760356246407, 0.051928801781232034, 0.1496395236945116, 0.2992790473890232, 0.1496395236945116, 0.1496395236945116, 0.36261134669066514, 0.36261134669066514, 0.12563546913437687, 0.1884532037015653, 0.25127093826875374, 0.06281773456718844, 0.25127093826875374, 0.06281773456718844, 0.5772319714978947, 0.11544639429957894, 0.11544639429957894, 0.11544639429957894, 0.10393891881463235, 0.09744273638871784, 0.1429160133701195, 0.09744273638871784, 0.06496182425914522, 0.0584656418332307, 0.012992364851829044, 0.045473276981401654, 0.045473276981401654, 0.012992364851829044, 0.051969459407316176, 0.0584656418332307, 0.019488547277743566, 0.045473276981401654, 0.051969459407316176, 0.025984729703658088, 0.025984729703658088, 0.025984729703658088, 0.019488547277743566, 0.006496182425914522, 0.3511061495598713, 0.11703538318662376, 0.05851769159331188, 0.05851769159331188, 0.05851769159331188, 0.23407076637324753, 0.05851769159331188, 0.05851769159331188, 0.1858381804994503, 0.1061932459996859, 0.07964493449976442, 0.07964493449976442, 0.05309662299984295, 0.026548311499921474, 0.07964493449976442, 0.026548311499921474, 0.05309662299984295, 0.05309662299984295, 0.07964493449976442, 0.026548311499921474, 0.026548311499921474, 0.1061932459996859, 0.026548311499921474, 0.026548311499921474, 0.2084744065707371, 0.4169488131414742, 0.2084744065707371, 0.10423720328536855, 0.23623087538659548, 0.11811543769329774, 0.3543463130798932, 0.11811543769329774, 0.11811543769329774, 0.11811543769329774, 0.5059440223919436, 0.0421620018659953, 0.0843240037319906, 0.1264860055979859, 0.0421620018659953, 0.0843240037319906, 0.0421620018659953, 0.0843240037319906, 0.1422155692498375, 0.16253207914267143, 0.12189905935700358, 0.16253207914267143, 0.06094952967850179, 0.06094952967850179, 0.02031650989283393, 0.06094952967850179, 0.12189905935700358, 0.02031650989283393, 0.02031650989283393, 0.02031650989283393, 0.02031650989283393, 0.22126019995680676, 0.19360267496220593, 0.027657524994600845, 0.027657524994600845, 0.027657524994600845, 0.11063009997840338, 0.11063009997840338, 0.027657524994600845, 0.08297257498380253, 0.027657524994600845, 0.027657524994600845, 0.05531504998920169, 0.027657524994600845, 0.15283283060589387, 0.07641641530294693, 0.15283283060589387, 0.15283283060589387, 0.07641641530294693, 0.2292492459088408, 0.07641641530294693, 0.07094755097865561, 0.07094755097865561, 0.07094755097865561, 0.21284265293596683, 0.07094755097865561, 0.42568530587193365, 0.09688153897404578, 0.29064461692213733, 0.3875261558961831, 0.09688153897404578, 0.11791986720082137, 0.23583973440164274, 0.3537596016024641, 0.11791986720082137, 0.16880997672899217, 0.16880997672899217, 0.4220249418224804, 0.08440498836449609, 0.08440498836449609, 0.11641243606128493, 0.3492373081838548, 0.3492373081838548, 0.11641243606128493, 0.12550462858173383, 0.06275231429086692, 0.25100925716346767, 0.3137615714543346, 0.03137615714543346, 0.03137615714543346, 0.09412847143630038, 0.03137615714543346, 0.06275231429086692, 0.03137615714543346, 0.10660570919235487, 0.10660570919235487, 0.10660570919235487, 0.10660570919235487, 0.21321141838470975, 0.10660570919235487, 0.10660570919235487, 0.1653777252625649, 0.1653777252625649, 0.08268886263128244, 0.2480665878938473, 0.08268886263128244, 0.08268886263128244, 0.08268886263128244, 0.34978409814789735, 0.08744602453697434, 0.17489204907394867, 0.08744602453697434, 0.26233807361092304, 0.23506802485280381, 0.23506802485280381, 0.11753401242640191, 0.11753401242640191, 0.23506802485280381, 0.11999195630319325, 0.1049929617652941, 0.1049929617652941, 0.07499497268949579, 0.02999798907579831, 0.07499497268949579, 0.04499698361369747, 0.07499497268949579, 0.07499497268949579, 0.07499497268949579, 0.1049929617652941, 0.02999798907579831, 0.014998994537899156, 0.07499497268949579, 0.014998994537899156, 0.3565967828420618, 0.1782983914210309, 0.11886559428068727, 0.1782983914210309, 0.11886559428068727, 0.30573993679769507, 0.30573993679769507, 0.15286996839884753, 0.13461807082363472, 0.06730903541181736, 0.06730903541181736, 0.6057813187063562, 0.06730903541181736, 0.35882052399755143, 0.17941026199877572, 0.17941026199877572, 0.2217053451481976, 0.14780356343213175, 0.07390178171606587, 0.14780356343213175, 0.018475445429016468, 0.018475445429016468, 0.0554263362870494, 0.07390178171606587, 0.0554263362870494, 0.018475445429016468, 0.036950890858032936, 0.018475445429016468, 0.036950890858032936, 0.036950890858032936, 0.018475445429016468, 0.1778605933738077, 0.08893029668690385, 0.2667908900607115, 0.2667908900607115, 0.08893029668690385, 0.09870512991948552, 0.1233814123993569, 0.09870512991948552, 0.07402884743961415, 0.02467628247987138, 0.2467628247987138, 0.07402884743961415, 0.04935256495974276, 0.02467628247987138, 0.04935256495974276, 0.04935256495974276, 0.02467628247987138, 0.04935256495974276, 0.11540860644250385, 0.17311290966375578, 0.2115824451445904, 0.057704303221251925, 0.09617383870208654, 0.11540860644250385, 0.01923476774041731, 0.057704303221251925, 0.01923476774041731, 0.03846953548083462, 0.01923476774041731, 0.03846953548083462, 0.01923476774041731, 0.01923476774041731, 0.01923476774041731, 0.1067142885853764, 0.1067142885853764, 0.3201428657561292, 0.1067142885853764, 0.1067142885853764, 0.2134285771707528, 0.1067142885853764, 0.13661621641743765, 0.13661621641743765, 0.2732324328348753, 0.40984864925231296, 0.20843746059123613, 0.05955356016892461, 0.08933034025338692, 0.05955356016892461, 0.029776780084462304, 0.05955356016892461, 0.029776780084462304, 0.08933034025338692, 0.029776780084462304, 0.11910712033784922, 0.11910712033784922, 0.05955356016892461, 0.05912710207500317, 0.17738130622500953, 0.23650840830001268, 0.05912710207500317, 0.05912710207500317, 0.05912710207500317, 0.05912710207500317, 0.11825420415000634, 0.05912710207500317, 0.16549066231456308, 0.0945660927511789, 0.07092456956338418, 0.0945660927511789, 0.11820761593897362, 0.023641523187794725, 0.0945660927511789, 0.04728304637558945, 0.023641523187794725, 0.023641523187794725, 0.0945660927511789, 0.023641523187794725, 0.023641523187794725, 0.04728304637558945, 0.023641523187794725, 0.023641523187794725, 0.35467633797261733, 0.35467633797261733, 0.14917792192788792, 0.29835584385577585, 0.29835584385577585, 0.14917792192788792, 0.07060725808160814, 0.03530362904080407, 0.07060725808160814, 0.07060725808160814, 0.14121451616321629, 0.14121451616321629, 0.21182177424482443, 0.03530362904080407, 0.03530362904080407, 0.14121451616321629, 0.026610486317904965, 0.13305243158952484, 0.15966291790742979, 0.15966291790742979, 0.026610486317904965, 0.026610486317904965, 0.07983145895371489, 0.05322097263580993, 0.026610486317904965, 0.026610486317904965, 0.026610486317904965, 0.07983145895371489, 0.10644194527161986, 0.05322097263580993, 0.026610486317904965, 0.33212469665566957, 0.38747881276494783, 0.05535411610927826, 0.16606234832783479, 0.30218055945321554, 0.30218055945321554, 0.15109027972660777, 0.15109027972660777, 0.2279454143051156, 0.07598180476837188, 0.07598180476837188, 0.07598180476837188, 0.2279454143051156, 0.2279454143051156, 0.15170765610964554, 0.10113843740643036, 0.05056921870321518, 0.556261405735367, 0.10113843740643036, 0.1622394099992235, 0.324478819998447, 0.1622394099992235, 0.0540798033330745, 0.0540798033330745, 0.108159606666149, 0.0540798033330745, 0.2665213200610081, 0.39978198009151217, 0.13326066003050405, 0.15588876167095284, 0.07794438083547642, 0.025981460278492137, 0.12990730139246068, 0.025981460278492137, 0.12990730139246068, 0.051962920556984274, 0.051962920556984274, 0.12990730139246068, 0.07794438083547642, 0.051962920556984274, 0.025981460278492137, 0.025981460278492137, 0.025981460278492137, 0.18098259764459904, 0.060327532548199676, 0.060327532548199676, 0.09049129882229952, 0.030163766274099838, 0.27147389646689857, 0.030163766274099838, 0.060327532548199676, 0.030163766274099838, 0.060327532548199676, 0.060327532548199676, 0.030163766274099838, 0.13146312593800782, 0.10517050075040627, 0.07887787556280469, 0.08545103185970508, 0.10517050075040627, 0.032865781484501956, 0.032865781484501956, 0.039438937781402346, 0.06573156296900391, 0.0065731562969003916, 0.0065731562969003916, 0.05258525037520313, 0.039438937781402346, 0.046012094078302736, 0.046012094078302736, 0.046012094078302736, 0.026292625187601566, 0.026292625187601566, 0.032865781484501956, 0.0065731562969003916, 0.15004783295923793, 0.07502391647961897, 0.07502391647961897, 0.30009566591847586, 0.07502391647961897, 0.07502391647961897, 0.07502391647961897, 0.15004783295923793, 0.09735337005767614, 0.09735337005767614, 0.09735337005767614, 0.19470674011535227, 0.19470674011535227, 0.09735337005767614, 0.09735337005767614, 0.11681347972120554, 0.11681347972120554, 0.05840673986060277, 0.11681347972120554, 0.23362695944241108, 0.23362695944241108, 0.05840673986060277, 0.07167515482534137, 0.07167515482534137, 0.035837577412670685, 0.035837577412670685, 0.07167515482534137, 0.035837577412670685, 0.5375636611900603, 0.035837577412670685, 0.035837577412670685, 0.035837577412670685, 0.035837577412670685, 0.26493815229464135, 0.13246907614732067, 0.3974072284419621, 0.13246907614732067, 0.16609240337868966, 0.0996554420272138, 0.16609240337868966, 0.23252936473016553, 0.06643696135147587, 0.03321848067573793, 0.03321848067573793, 0.06643696135147587, 0.0996554420272138, 0.23213330092533851, 0.18054812294192996, 0.10317035596681712, 0.05158517798340856, 0.05158517798340856, 0.02579258899170428, 0.02579258899170428, 0.05158517798340856, 0.02579258899170428, 0.18054812294192996, 0.02579258899170428, 0.02579258899170428, 0.31221896279158223, 0.15610948139579112, 0.15610948139579112, 0.15610948139579112, 0.15610948139579112, 0.600976750613482, 0.12019535012269641, 0.24039070024539283, 0.1549277855501778, 0.1549277855501778, 0.1549277855501778, 0.3098555711003556, 0.1549277855501778, 0.5587776597805463, 0.07982537996864947, 0.07982537996864947, 0.039912689984324734, 0.039912689984324734, 0.07982537996864947, 0.039912689984324734, 0.09908299179016884, 0.06605532786011256, 0.19816598358033768, 0.03302766393005628, 0.19816598358033768, 0.03302766393005628, 0.06605532786011256, 0.1651383196502814, 0.03302766393005628, 0.03302766393005628, 0.03302766393005628, 0.15082004762868165, 0.05027334920956055, 0.4021867936764844, 0.1005466984191211, 0.1005466984191211, 0.1005466984191211, 0.05027334920956055, 0.05027334920956055, 0.22759721952194076, 0.2655300894422642, 0.03793286992032346, 0.07586573984064691, 0.07586573984064691, 0.03793286992032346, 0.03793286992032346, 0.03793286992032346, 0.15173147968129383, 0.1654639652607803, 0.1654639652607803, 0.08273198263039015, 0.08273198263039015, 0.08273198263039015, 0.08273198263039015, 0.08273198263039015, 0.24819594789117047], \"Term\": [\"aandacht\", \"aandacht\", \"aandacht\", \"aandacht\", \"aandacht\", \"aandacht\", \"aandacht\", \"aangebod\", \"aangebod\", \"aangebod\", \"aangebod\", \"aangebod\", \"aangehoud\", \"aangehoud\", \"aangehoud\", \"aangehoud\", \"aangehoud\", \"aangehoud\", \"aangehoud\", \"aangekondigd\", \"aangekondigd\", \"aangekondigd\", \"aangekondigd\", \"aangekondigd\", \"aangift\", \"aangift\", \"aangift\", \"aangift\", \"aangift\", \"aanhanger\", \"aanhanger\", \"aanhanger\", \"aanhanger\", \"aanhanger\", \"aanhanger\", \"aanleid\", \"aanleid\", \"aanleid\", \"aanleid\", \"aanleid\", \"aanleid\", \"aanleid\", \"aanpass\", \"aanpass\", \"aanpass\", \"aanslag\", \"aanslag\", \"aanslag\", \"aanslag\", \"aanslag\", \"aantal\", \"aantal\", \"aantal\", \"aantal\", \"aantal\", \"aantal\", \"aantal\", \"aantal\", \"aantal\", \"aantal\", \"aantal\", \"aantal\", \"aantal\", \"aanvank\", \"aanvank\", \"aanvank\", \"aanvank\", \"aanwez\", \"aanwez\", \"aanwez\", \"aanwez\", \"aanwez\", \"achter\", \"achter\", \"achter\", \"achter\", \"achter\", \"achter\", \"achter\", \"actie\", \"actie\", \"actie\", \"actie\", \"actie\", \"actie\", \"actief\", \"actief\", \"actief\", \"actief\", \"actief\", \"activiteit\", \"activiteit\", \"activiteit\", \"activiteit\", \"activiteit\", \"activiteit\", \"activiteit\", \"advocat\", \"advocat\", \"advocat\", \"advocat\", \"advocat\", \"afgelop\", \"afgelop\", \"afgelop\", \"afgelop\", \"afgelop\", \"afgelop\", \"afgelop\", \"afgelop\", \"afgelop\", \"afgelop\", \"afgelop\", \"afgelop\", \"afgelop\", \"afgelop\", \"afstand\", \"afstand\", \"afstand\", \"afstand\", \"afstand\", \"agent\", \"agent\", \"agent\", \"agent\", \"agent\", \"akkoord\", \"akkoord\", \"akkoord\", \"akkoord\", \"akkoord\", \"akkoord\", \"aldus\", \"aldus\", \"aldus\", \"aldus\", \"aldus\", \"aldus\", \"aldus\", \"aldus\", \"aldus\", \"algemen\", \"algemen\", \"algemen\", \"algemen\", \"algemen\", \"all\", \"all\", \"all\", \"all\", \"all\", \"all\", \"all\", \"all\", \"all\", \"all\", \"all\", \"all\", \"all\", \"allemal\", \"allemal\", \"allemal\", \"allemal\", \"allemal\", \"allemal\", \"allemal\", \"allemal\", \"allen\", \"allen\", \"allen\", \"allen\", \"allen\", \"allen\", \"allen\", \"allen\", \"allen\", \"allen\", \"allen\", \"allen\", \"allen\", \"allen\", \"allen\", \"allen\", \"allerlei\", \"allerlei\", \"allerlei\", \"allerlei\", \"allerlei\", \"allerlei\", \"amerikan\", \"amerikan\", \"amerikan\", \"amerikan\", \"amerikan\", \"amerikan\", \"amerikan\", \"amerikan\", \"amerikan\", \"amerikan\", \"amerikan\", \"amerikan\", \"amerikan\", \"amerikan\", \"amsterdam\", \"amsterdam\", \"amsterdam\", \"amsterdam\", \"amsterdam\", \"amsterdam\", \"amsterdam\", \"amsterdam\", \"amsterdam\", \"amsterdam\", \"amsterdam\", \"amsterdam\", \"amsterdam\", \"ander\", \"ander\", \"ander\", \"ander\", \"ander\", \"ander\", \"ander\", \"ander\", \"ander\", \"ander\", \"ander\", \"ander\", \"anti\", \"anti\", \"anti\", \"anti\", \"april\", \"april\", \"april\", \"april\", \"april\", \"april\", \"augustus\", \"augustus\", \"augustus\", \"auto\", \"auto\", \"auto\", \"auto\", \"auto\", \"auto\", \"auto\", \"auto\", \"auto\", \"auto\", \"auto\", \"automatisch\", \"automatisch\", \"automatisch\", \"automobilist\", \"automobilist\", \"automobilist\", \"automobilist\", \"avond\", \"avond\", \"avond\", \"avond\", \"band\", \"band\", \"band\", \"band\", \"band\", \"bang\", \"bang\", \"bang\", \"bang\", \"bang\", \"bank\", \"bank\", \"bank\", \"bedoel\", \"bedoel\", \"bedoel\", \"bedrag\", \"bedrag\", \"bedrag\", \"bedrag\", \"bedrag\", \"bedrijf\", \"bedrijf\", \"bedrijf\", \"bedrijf\", \"bedrijf\", \"bedrijf\", \"bedrijf\", \"bedrijf\", \"bedrijv\", \"bedrijv\", \"bedrijv\", \"bedrijv\", \"bedrijv\", \"bedrijv\", \"bedrijv\", \"bedrijv\", \"begin\", \"begin\", \"begin\", \"begin\", \"begin\", \"begin\", \"begin\", \"begin\", \"begin\", \"beginn\", \"beginn\", \"beginn\", \"beginn\", \"begon\", \"begon\", \"begon\", \"begon\", \"begonn\", \"begonn\", \"begonn\", \"begonn\", \"begonn\", \"behalv\", \"behalv\", \"behalv\", \"behalv\", \"behandel\", \"behandel\", \"behandel\", \"behandel\", \"behandel\", \"behandel\", \"behandeld\", \"behandeld\", \"behandeld\", \"behandeld\", \"behandeld\", \"behandeld\", \"bekek\", \"bekek\", \"bekek\", \"bekend\", \"bekend\", \"bekend\", \"bekend\", \"bekend\", \"bekend\", \"bekend\", \"bekend\", \"bekend\", \"bekend\", \"bekend\", \"bekend\", \"bekend\", \"bekend\", \"bekend\", \"bekendgemaakt\", \"bekendgemaakt\", \"bekendgemaakt\", \"bekendgemaakt\", \"belang\", \"belang\", \"belang\", \"belgie\", \"belgie\", \"belgie\", \"belgie\", \"belgie\", \"belgisch\", \"belgisch\", \"belgisch\", \"belgisch\", \"belgisch\", \"belgisch\", \"bell\", \"bell\", \"bell\", \"bell\", \"ben\", \"ben\", \"ben\", \"ben\", \"benadrukt\", \"benadrukt\", \"benadrukt\", \"benadrukt\", \"benadrukt\", \"benadrukt\", \"bepaald\", \"bepaald\", \"bepaald\", \"bepaald\", \"bepaald\", \"bepaald\", \"bepaald\", \"beperkt\", \"beperkt\", \"beperkt\", \"bereik\", \"bereik\", \"bereik\", \"bereik\", \"bereik\", \"bereik\", \"bericht\", \"bericht\", \"bericht\", \"bericht\", \"bericht\", \"bericht\", \"bericht\", \"besliss\", \"besliss\", \"besliss\", \"besluit\", \"besluit\", \"besluit\", \"besluit\", \"besluit\", \"besluit\", \"besluit\", \"besluit\", \"besmet\", \"besmet\", \"besmet\", \"besmet\", \"besmet\", \"bestat\", \"bestat\", \"bestat\", \"bestat\", \"bestat\", \"bestat\", \"bestat\", \"bestur\", \"bestur\", \"bestur\", \"bestur\", \"betaald\", \"betaald\", \"betaald\", \"betaald\", \"betaald\", \"betaald\", \"betaald\", \"betaald\", \"betaald\", \"betaald\", \"betaald\", \"betaald\", \"betal\", \"betal\", \"betal\", \"betal\", \"betal\", \"betal\", \"betal\", \"betal\", \"betal\", \"betal\", \"betal\", \"beter\", \"beter\", \"beter\", \"beter\", \"beter\", \"beter\", \"beter\", \"bevestigd\", \"bevestigd\", \"bevestigd\", \"bevestigd\", \"bevolk\", \"bevolk\", \"bevolk\", \"bevolk\", \"bevolk\", \"bewoner\", \"bewoner\", \"bewoner\", \"bewoner\", \"bewoner\", \"bewoner\", \"bezig\", \"bezig\", \"bezig\", \"bezig\", \"bezig\", \"bezig\", \"bezig\", \"bezoeker\", \"bezoeker\", \"bezoeker\", \"bezoeker\", \"bezuin\", \"bezuin\", \"bezuin\", \"bied\", \"bied\", \"bied\", \"bied\", \"bied\", \"bied\", \"bijna\", \"bijna\", \"bijna\", \"bijna\", \"bijna\", \"bijna\", \"bijna\", \"bijna\", \"bijna\", \"bijna\", \"bijna\", \"bijna\", \"bijna\", \"binn\", \"binn\", \"binn\", \"binn\", \"binn\", \"binn\", \"binn\", \"binn\", \"binn\", \"binn\", \"blek\", \"blek\", \"blek\", \"blek\", \"blek\", \"blek\", \"blek\", \"blek\", \"blij\", \"blij\", \"blij\", \"blij\", \"blijkt\", \"blijkt\", \"blijkt\", \"blijkt\", \"blijkt\", \"blijkt\", \"blijkt\", \"blijkt\", \"blijkt\", \"blijkt\", \"blijkt\", \"blijkt\", \"blijkt\", \"blijkt\", \"boer\", \"boer\", \"boer\", \"bot\", \"bot\", \"bot\", \"bot\", \"bot\", \"bouw\", \"bouw\", \"bouw\", \"bouw\", \"bouw\", \"bov\", \"bov\", \"bov\", \"bov\", \"bov\", \"brabant\", \"brabant\", \"brabant\", \"brabant\", \"brabant\", \"brabant\", \"brabant\", \"brand\", \"brand\", \"brand\", \"brand\", \"brand\", \"brand\", \"brandwer\", \"brandwer\", \"brandwer\", \"brandwer\", \"brandwer\", \"breng\", \"breng\", \"breng\", \"breng\", \"breng\", \"breng\", \"breng\", \"brief\", \"brief\", \"brit\", \"brit\", \"brit\", \"brit\", \"brit\", \"brit\", \"bronn\", \"bronn\", \"bronn\", \"brussel\", \"brussel\", \"buit\", \"buit\", \"buit\", \"buit\", \"buit\", \"buit\", \"buit\", \"buit\", \"buit\", \"buitenland\", \"buitenland\", \"buitenland\", \"buitenland\", \"buitenland\", \"buitenland\", \"buitenland\", \"buitenland\", \"buitenlander\", \"buitenlander\", \"buitenlander\", \"buitenlander\", \"burgemeester\", \"burgemeester\", \"burgemeester\", \"burgemeester\", \"burgemeester\", \"burgemeester\", \"central\", \"central\", \"central\", \"central\", \"central\", \"central\", \"central\", \"centrum\", \"centrum\", \"centrum\", \"centrum\", \"centrum\", \"cijfer\", \"cijfer\", \"cijfer\", \"cijfer\", \"cijfer\", \"cijfer\", \"collega\", \"collega\", \"collega\", \"collega\", \"collega\", \"commissie\", \"commissie\", \"commissie\", \"consument\", \"consument\", \"consument\", \"consument\", \"consument\", \"contact\", \"contact\", \"contact\", \"contact\", \"contact\", \"contact\", \"contact\", \"control\", \"control\", \"control\", \"control\", \"control\", \"correspondent\", \"correspondent\", \"correspondent\", \"correspondent\", \"correspondent\", \"criminel\", \"criminel\", \"criminel\", \"criminel\", \"criminel\", \"daarmee\", \"daarmee\", \"daarmee\", \"daarmee\", \"daarmee\", \"daarmee\", \"daarmee\", \"daarmee\", \"daarvan\", \"daarvan\", \"daarvan\", \"daarvan\", \"daarvan\", \"daarvor\", \"daarvor\", \"daarvor\", \"daarvor\", \"daarvor\", \"daarvor\", \"daarvor\", \"daarvor\", \"dader\", \"dader\", \"dader\", \"dader\", \"dader\", \"dag\", \"dag\", \"dag\", \"dag\", \"dag\", \"dag\", \"dag\", \"dag\", \"dag\", \"dag\", \"dag\", \"dag\", \"debat\", \"debat\", \"debat\", \"debat\", \"debat\", \"december\", \"december\", \"december\", \"december\", \"degelijk\", \"degelijk\", \"degelijk\", \"del\", \"del\", \"del\", \"del\", \"del\", \"del\", \"del\", \"del\", \"del\", \"del\", \"demonstrant\", \"demonstrant\", \"demonstrant\", \"demonstrant\", \"denk\", \"denk\", \"denk\", \"denk\", \"denk\", \"denk\", \"denk\", \"denk\", \"denkt\", \"denkt\", \"denkt\", \"denkt\", \"denkt\", \"derd\", \"derd\", \"derd\", \"derd\", \"derd\", \"derd\", \"dergelijk\", \"dergelijk\", \"dergelijk\", \"deur\", \"deur\", \"deur\", \"deur\", \"deur\", \"diend\", \"diend\", \"diend\", \"diend\", \"dienst\", \"dienst\", \"dienst\", \"dienst\", \"dienst\", \"dinsdag\", \"dinsdag\", \"dinsdag\", \"direct\", \"direct\", \"direct\", \"direct\", \"direct\", \"direct\", \"dod\", \"dod\", \"dod\", \"dod\", \"dod\", \"dod\", \"dod\", \"dod\", \"dod\", \"dod\", \"dod\", \"dod\", \"dod\", \"dod\", \"dodelijk\", \"dodelijk\", \"dodelijk\", \"dodelijk\", \"dodelijk\", \"doordat\", \"doordat\", \"doordat\", \"doordat\", \"doordat\", \"dorp\", \"dorp\", \"dorp\", \"drie\", \"drie\", \"drie\", \"drie\", \"drie\", \"drie\", \"drie\", \"drie\", \"drie\", \"drie\", \"drie\", \"drie\", \"drie\", \"drie\", \"drie\", \"drie\", \"drie\", \"duidelijk\", \"duidelijk\", \"duidelijk\", \"duidelijk\", \"duidelijk\", \"duidelijk\", \"duidelijk\", \"duidelijk\", \"duidelijk\", \"duidelijk\", \"duit\", \"duit\", \"duit\", \"duit\", \"duit\", \"duit\", \"duit\", \"duitsland\", \"duitsland\", \"duitsland\", \"duitsland\", \"duitsland\", \"duitsland\", \"duitsland\", \"duizend\", \"duizend\", \"duizend\", \"duizend\", \"duizend\", \"duizend\", \"duizend\", \"duurt\", \"duurt\", \"duurt\", \"echt\", \"echt\", \"echt\", \"echt\", \"echt\", \"echt\", \"echt\", \"echt\", \"echt\", \"echt\", \"echter\", \"echter\", \"echter\", \"echter\", \"economisch\", \"economisch\", \"economisch\", \"economisch\", \"economisch\", \"economisch\", \"eerder\", \"eerder\", \"eerder\", \"eerder\", \"eerder\", \"eerder\", \"eerder\", \"eerder\", \"eerder\", \"eerder\", \"eerder\", \"eerder\", \"eerder\", \"eerder\", \"eerst\", \"eerst\", \"eerst\", \"eerst\", \"eerst\", \"eerst\", \"eerst\", \"eerst\", \"eerst\", \"eerst\", \"eerst\", \"eerst\", \"eerst\", \"eerst\", \"eerst\", \"eerst\", \"eigen\", \"eigen\", \"eigen\", \"eigen\", \"eigen\", \"eigen\", \"eigen\", \"eigen\", \"eigen\", \"eigen\", \"eis\", \"eis\", \"eis\", \"eis\", \"eis\", \"eis\", \"elkar\", \"elkar\", \"elkar\", \"elkar\", \"elkar\", \"elkar\", \"elkar\", \"elkar\", \"elkar\", \"elkar\", \"elkar\", \"enkel\", \"enkel\", \"enkel\", \"enkel\", \"enkel\", \"erbij\", \"erbij\", \"erbij\", \"erbij\", \"ernstig\", \"ernstig\", \"ernstig\", \"ernstig\", \"ernstig\", \"ernstig\", \"erop\", \"erop\", \"erop\", \"erop\", \"ervan\", \"ervan\", \"ervan\", \"ervan\", \"ervor\", \"ervor\", \"ervor\", \"ervor\", \"ervor\", \"ervor\", \"euro\", \"euro\", \"euro\", \"euro\", \"euro\", \"euro\", \"euro\", \"euro\", \"euro\", \"euro\", \"euro\", \"euro\", \"euro\", \"euro\", \"euro\", \"europa\", \"europa\", \"europa\", \"europa\", \"europa\", \"europa\", \"europa\", \"europa\", \"europa\", \"europa\", \"europes\", \"europes\", \"europes\", \"europes\", \"europes\", \"europes\", \"europes\", \"extra\", \"extra\", \"extra\", \"extra\", \"extra\", \"extra\", \"extra\", \"extra\", \"extra\", \"facebok\", \"facebok\", \"facebok\", \"facebok\", \"facebok\", \"februari\", \"februari\", \"februari\", \"februari\", \"februari\", \"februari\", \"februari\", \"financie\", \"financie\", \"financie\", \"financie\", \"financie\", \"financie\", \"for\", \"for\", \"for\", \"for\", \"for\", \"foto\", \"foto\", \"foto\", \"foto\", \"foto\", \"fout\", \"fout\", \"fout\", \"fout\", \"fout\", \"fran\", \"fran\", \"fran\", \"fran\", \"fran\", \"fran\", \"frankrijk\", \"frankrijk\", \"frankrijk\", \"frankrijk\", \"gan\", \"gan\", \"gan\", \"gan\", \"gan\", \"gan\", \"gan\", \"gan\", \"gan\", \"gan\", \"gan\", \"gan\", \"gan\", \"gan\", \"gang\", \"gang\", \"gang\", \"gang\", \"gang\", \"gat\", \"gat\", \"gat\", \"gat\", \"gat\", \"gat\", \"gat\", \"gat\", \"gat\", \"gat\", \"gat\", \"gat\", \"gat\", \"gat\", \"gat\", \"gat\", \"gat\", \"gebeur\", \"gebeur\", \"gebeur\", \"gebeur\", \"gebeur\", \"gebeurt\", \"gebeurt\", \"gebeurt\", \"gebeurt\", \"gebeurt\", \"gebeurt\", \"gebeurt\", \"gebied\", \"gebied\", \"gebied\", \"gebied\", \"gebied\", \"gebied\", \"gebied\", \"gebied\", \"gebouw\", \"gebouw\", \"gebouw\", \"gebouw\", \"gebouw\", \"gebracht\", \"gebracht\", \"gebracht\", \"gebracht\", \"gebracht\", \"gebracht\", \"gebracht\", \"gebracht\", \"gebruik\", \"gebruik\", \"gebruik\", \"gebruik\", \"gebruik\", \"gebruik\", \"gebruik\", \"gebruik\", \"gebruik\", \"gehaald\", \"gehaald\", \"gehaald\", \"gehaald\", \"gehaald\", \"gehaald\", \"gehaald\", \"gehad\", \"gehad\", \"gehad\", \"gehad\", \"gehad\", \"gehad\", \"gehad\", \"geheim\", \"geheim\", \"geheim\", \"gehoud\", \"gehoud\", \"gehoud\", \"gehoud\", \"gehoud\", \"gehoud\", \"gehoud\", \"gekek\", \"gekek\", \"gekek\", \"gekek\", \"gekek\", \"gekom\", \"gekom\", \"gekom\", \"gekom\", \"gekom\", \"gekom\", \"geld\", \"geld\", \"geld\", \"geld\", \"geld\", \"geld\", \"geld\", \"geldt\", \"geldt\", \"geldt\", \"geldt\", \"geled\", \"geled\", \"geled\", \"geled\", \"geled\", \"geled\", \"geled\", \"geled\", \"geled\", \"geled\", \"geleid\", \"geleid\", \"geleid\", \"geleid\", \"geleid\", \"gemaakt\", \"gemaakt\", \"gemaakt\", \"gemaakt\", \"gemaakt\", \"gemaakt\", \"gemaakt\", \"gemaakt\", \"gemaakt\", \"gemaakt\", \"gemaakt\", \"gemaakt\", \"gemeenschap\", \"gemeenschap\", \"gemeenschap\", \"gemeenschap\", \"gemeent\", \"gemeent\", \"gemeent\", \"gemeent\", \"gemeent\", \"gemeent\", \"gemeent\", \"gemeent\", \"gemeent\", \"gemeent\", \"gemeld\", \"gemeld\", \"gemeld\", \"gemiddeld\", \"gemiddeld\", \"gemiddeld\", \"gemiddeld\", \"gemiddeld\", \"genoemd\", \"genoemd\", \"genoemd\", \"genoemd\", \"genoemd\", \"genoemd\", \"genom\", \"genom\", \"genom\", \"genom\", \"genom\", \"genom\", \"genom\", \"geplaatst\", \"geplaatst\", \"geplaatst\", \"geplaatst\", \"geplaatst\", \"gepland\", \"gepland\", \"gepland\", \"gepland\", \"gepland\", \"geregeld\", \"geregeld\", \"geregeld\", \"geregeld\", \"geregeld\", \"gericht\", \"gericht\", \"gericht\", \"gericht\", \"geslaagd\", \"geslaagd\", \"geslaagd\", \"geslaagd\", \"geslag\", \"geslag\", \"geslag\", \"geslot\", \"geslot\", \"geslot\", \"geslot\", \"geslot\", \"geslot\", \"geslot\", \"geslot\", \"gesprek\", \"gesprek\", \"gesprek\", \"gesprek\", \"gesprek\", \"gesprek\", \"gesprek\", \"gesprek\", \"gesprok\", \"gesprok\", \"gesprok\", \"gestok\", \"gestok\", \"gestok\", \"gestok\", \"gestok\", \"gev\", \"gev\", \"gev\", \"gev\", \"gev\", \"gev\", \"gev\", \"gev\", \"gev\", \"gev\", \"gev\", \"geval\", \"geval\", \"geval\", \"geval\", \"geval\", \"geval\", \"geval\", \"geval\", \"gevall\", \"gevall\", \"gevall\", \"gevall\", \"gevall\", \"gevar\", \"gevar\", \"gevar\", \"gevar\", \"gevar\", \"gevar\", \"gevar\", \"gevar\", \"gevar\", \"gevar\", \"gevoel\", \"gevoel\", \"gevoel\", \"gevoel\", \"gevoel\", \"gevond\", \"gevond\", \"gevond\", \"gevond\", \"gevond\", \"gevond\", \"gevond\", \"gevond\", \"gevond\", \"geweld\", \"geweld\", \"geweld\", \"geweld\", \"gewond\", \"gewond\", \"gewond\", \"gewond\", \"gewond\", \"gewond\", \"gewond\", \"gewond\", \"geword\", \"geword\", \"geword\", \"geword\", \"geword\", \"geword\", \"geword\", \"gezegd\", \"gezegd\", \"gezegd\", \"gezegd\", \"gezegd\", \"gezet\", \"gezet\", \"gezet\", \"gezet\", \"gezet\", \"gezicht\", \"gezicht\", \"gezicht\", \"gezicht\", \"gezicht\", \"gezien\", \"gezien\", \"gezien\", \"gezien\", \"gezien\", \"gezien\", \"gezien\", \"gezocht\", \"gezocht\", \"gezocht\", \"gezocht\", \"gezocht\", \"gezond\", \"gezond\", \"gezond\", \"gezond\", \"gezorgd\", \"gezorgd\", \"gezorgd\", \"ging\", \"ging\", \"ging\", \"ging\", \"ging\", \"ging\", \"ging\", \"ging\", \"ging\", \"ging\", \"ging\", \"ging\", \"ging\", \"ging\", \"ging\", \"gister\", \"gister\", \"gister\", \"gister\", \"gister\", \"gister\", \"gister\", \"gister\", \"gister\", \"gister\", \"gister\", \"gister\", \"goed\", \"goed\", \"goed\", \"goed\", \"goed\", \"goed\", \"goed\", \"goed\", \"goed\", \"goed\", \"goed\", \"goed\", \"goed\", \"goed\", \"gooid\", \"gooid\", \"gooid\", \"grag\", \"grag\", \"grag\", \"grag\", \"gren\", \"gren\", \"gren\", \"groenlink\", \"groenlink\", \"groenlink\", \"groenlink\", \"groep\", \"groep\", \"groep\", \"groep\", \"groep\", \"groep\", \"groep\", \"groep\", \"groep\", \"grond\", \"grond\", \"grond\", \"grond\", \"grond\", \"groning\", \"groning\", \"groning\", \"groning\", \"groning\", \"groning\", \"grootst\", \"grootst\", \"grootst\", \"grootst\", \"grootst\", \"grootst\", \"grot\", \"grot\", \"grot\", \"grot\", \"grot\", \"grot\", \"grot\", \"grot\", \"grot\", \"grot\", \"grot\", \"grot\", \"grot\", \"grot\", \"grot\", \"grot\", \"grot\", \"groter\", \"groter\", \"groter\", \"groter\", \"groter\", \"had\", \"had\", \"had\", \"had\", \"had\", \"had\", \"had\", \"had\", \"had\", \"had\", \"had\", \"hag\", \"hag\", \"hag\", \"hag\", \"hag\", \"hag\", \"hag\", \"hag\", \"hag\", \"hand\", \"hand\", \"hand\", \"hand\", \"hand\", \"hand\", \"hand\", \"hand\", \"hand\", \"hand\", \"hand\", \"hand\", \"hand\", \"hand\", \"hel\", \"hel\", \"hel\", \"hel\", \"hel\", \"hel\", \"hel\", \"hel\", \"hel\", \"hel\", \"hel\", \"hel\", \"hel\", \"hel\", \"hel\", \"hel\", \"helemal\", \"helemal\", \"helemal\", \"helemal\", \"helemal\", \"helemal\", \"helemal\", \"helemal\", \"helemal\", \"hetzelfd\", \"hetzelfd\", \"hetzelfd\", \"hetzelfd\", \"hetzelfd\", \"hoevel\", \"hoevel\", \"hoevel\", \"hoevel\", \"hoevel\", \"hoewel\", \"hoewel\", \"hoewel\", \"hoewel\", \"hoewel\", \"hoewel\", \"hoewel\", \"hoewel\", \"hoger\", \"hoger\", \"hoger\", \"hoger\", \"hoger\", \"hoger\", \"hoger\", \"holland\", \"holland\", \"holland\", \"holland\", \"holland\", \"holland\", \"hoofd\", \"hoofd\", \"hoofd\", \"hoofd\", \"hoofd\", \"hoofd\", \"hoofd\", \"hoofdstad\", \"hoofdstad\", \"hoofdstad\", \"hoofdstad\", \"hoofdstad\", \"hoofdstad\", \"hoofdstad\", \"hoogst\", \"hoogst\", \"hoogst\", \"hoogst\", \"hoogst\", \"hor\", \"hor\", \"hor\", \"hor\", \"hor\", \"huidig\", \"huidig\", \"huidig\", \"huidig\", \"huidig\", \"huidig\", \"huidig\", \"huidig\", \"huis\", \"huis\", \"huis\", \"huis\", \"huis\", \"huis\", \"huis\", \"huis\", \"huis\", \"huis\", \"huiz\", \"huiz\", \"huiz\", \"huiz\", \"huiz\", \"idee\", \"idee\", \"idee\", \"idee\", \"idee\", \"idee\", \"idee\", \"ieder\", \"ieder\", \"ieder\", \"ieder\", \"ieder\", \"ieder\", \"ieder\", \"ieder\", \"iederen\", \"iederen\", \"iederen\", \"iederen\", \"iederen\", \"iederen\", \"iederen\", \"iederen\", \"iederen\", \"iederen\", \"incident\", \"incident\", \"incident\", \"incident\", \"incident\", \"inderdad\", \"inderdad\", \"inderdad\", \"inderdad\", \"inderdad\", \"inderdad\", \"informatie\", \"informatie\", \"informatie\", \"informatie\", \"ingezet\", \"ingezet\", \"ingezet\", \"ingezet\", \"ingezet\", \"ingezet\", \"inhoud\", \"inhoud\", \"inhoud\", \"inhoud\", \"inhoud\", \"initiatief\", \"initiatief\", \"initiatief\", \"initiatief\", \"initiatief\", \"initiatief\", \"inmiddel\", \"inmiddel\", \"inmiddel\", \"inmiddel\", \"inmiddel\", \"international\", \"international\", \"international\", \"international\", \"international\", \"international\", \"international\", \"international\", \"internet\", \"internet\", \"internet\", \"internet\", \"internet\", \"internet\", \"interview\", \"interview\", \"interview\", \"interview\", \"interview\", \"invloed\", \"invloed\", \"invloed\", \"invloed\", \"invloed\", \"inwoner\", \"inwoner\", \"inwoner\", \"inwoner\", \"inwoner\", \"inwoner\", \"inwoner\", \"inwoner\", \"islamitisch\", \"islamitisch\", \"islamitisch\", \"islamitisch\", \"israe\", \"israe\", \"israe\", \"italiaan\", \"italiaan\", \"italiaan\", \"italiaan\", \"italiaan\", \"jaarlijk\", \"jaarlijk\", \"jaarlijk\", \"jaarlijk\", \"januari\", \"januari\", \"januari\", \"januari\", \"januari\", \"januari\", \"jar\", \"jar\", \"jar\", \"jar\", \"jar\", \"jar\", \"jar\", \"jar\", \"jar\", \"jar\", \"jar\", \"jar\", \"jar\", \"jar\", \"jar\", \"jar\", \"jar\", \"jar\", \"jar\", \"jar\", \"jarenlang\", \"jarenlang\", \"jarenlang\", \"jarenlang\", \"jarig\", \"jarig\", \"jarig\", \"jarig\", \"jarig\", \"jarig\", \"jarig\", \"jarig\", \"jarig\", \"jarig\", \"jarig\", \"jarig\", \"jarig\", \"jong\", \"jong\", \"jong\", \"jong\", \"jong\", \"jong\", \"jong\", \"jong\", \"jong\", \"jongen\", \"jongen\", \"jongen\", \"jongen\", \"jonger\", \"jonger\", \"jonger\", \"jonger\", \"journal\", \"journal\", \"journal\", \"journal\", \"journal\", \"journalist\", \"journalist\", \"journalist\", \"juli\", \"juli\", \"juli\", \"juli\", \"juli\", \"juni\", \"juni\", \"juni\", \"juni\", \"juni\", \"justitie\", \"justitie\", \"justitie\", \"justitie\", \"justitie\", \"justitie\", \"kabinet\", \"kabinet\", \"kabinet\", \"kabinet\", \"kabinet\", \"kabinet\", \"kamer\", \"kamer\", \"kamer\", \"kamer\", \"kamer\", \"kamer\", \"kamer\", \"kamer\", \"kamer\", \"kamer\", \"kan\", \"kan\", \"kan\", \"kan\", \"kan\", \"kan\", \"ker\", \"ker\", \"ker\", \"ker\", \"ker\", \"ker\", \"ker\", \"ker\", \"ker\", \"ker\", \"ker\", \"ker\", \"ker\", \"ker\", \"ker\", \"kinder\", \"kinder\", \"kinder\", \"kinder\", \"kinder\", \"kinder\", \"kinder\", \"kinder\", \"klant\", \"klant\", \"klant\", \"klant\", \"klant\", \"klar\", \"klar\", \"klar\", \"klar\", \"klein\", \"klein\", \"klein\", \"klein\", \"klein\", \"klein\", \"kom\", \"kom\", \"kom\", \"kom\", \"kom\", \"kom\", \"kom\", \"kom\", \"kom\", \"kom\", \"kom\", \"kom\", \"kom\", \"kom\", \"komt\", \"komt\", \"komt\", \"komt\", \"komt\", \"komt\", \"komt\", \"komt\", \"komt\", \"komt\", \"komt\", \"komt\", \"koning\", \"koning\", \"koning\", \"koning\", \"kop\", \"kop\", \"kop\", \"kop\", \"kop\", \"kop\", \"kop\", \"kort\", \"kort\", \"kort\", \"kort\", \"kort\", \"kort\", \"kort\", \"kort\", \"kort\", \"kort\", \"kost\", \"kost\", \"kost\", \"kost\", \"kost\", \"kost\", \"kost\", \"kost\", \"kost\", \"kracht\", \"kracht\", \"kracht\", \"kracht\", \"kracht\", \"krant\", \"krant\", \"krant\", \"krant\", \"krant\", \"krijg\", \"krijg\", \"krijg\", \"krijg\", \"krijg\", \"krijg\", \"krijg\", \"krijg\", \"krijg\", \"krijg\", \"krijg\", \"krijg\", \"kwam\", \"kwam\", \"kwam\", \"kwam\", \"kwam\", \"kwam\", \"kwam\", \"kwam\", \"kwam\", \"kwam\", \"kwam\", \"kwam\", \"kwam\", \"kwam\", \"kwam\", \"kwam\", \"kwijt\", \"kwijt\", \"kwijt\", \"kwijt\", \"kwijt\", \"laatst\", \"laatst\", \"laatst\", \"laatst\", \"laatst\", \"laatst\", \"laatst\", \"laatst\", \"lag\", \"lag\", \"lag\", \"land\", \"land\", \"land\", \"land\", \"land\", \"land\", \"land\", \"land\", \"land\", \"land\", \"land\", \"land\", \"land\", \"land\", \"land\", \"lang\", \"lang\", \"lang\", \"lang\", \"lang\", \"lang\", \"lang\", \"lang\", \"lang\", \"lang\", \"lang\", \"lang\", \"lang\", \"lang\", \"lang\", \"lang\", \"langer\", \"langer\", \"langer\", \"langer\", \"langer\", \"langer\", \"langer\", \"langer\", \"lastig\", \"lastig\", \"lastig\", \"lat\", \"lat\", \"lat\", \"lat\", \"lat\", \"lat\", \"lat\", \"lat\", \"lat\", \"lat\", \"lat\", \"lat\", \"lat\", \"lat\", \"later\", \"later\", \"later\", \"later\", \"later\", \"later\", \"later\", \"later\", \"later\", \"later\", \"later\", \"later\", \"led\", \"led\", \"led\", \"led\", \"led\", \"led\", \"led\", \"legt\", \"legt\", \"legt\", \"legt\", \"legt\", \"leid\", \"leid\", \"leid\", \"leid\", \"leid\", \"leid\", \"leid\", \"leid\", \"leid\", \"leid\", \"leid\", \"ler\", \"ler\", \"ler\", \"ler\", \"lev\", \"lev\", \"lev\", \"lev\", \"lev\", \"lev\", \"lev\", \"lev\", \"lev\", \"lev\", \"lev\", \"lev\", \"lev\", \"lever\", \"lever\", \"lever\", \"lever\", \"lever\", \"licham\", \"licham\", \"licham\", \"licham\", \"licham\", \"liep\", \"liep\", \"liep\", \"liep\", \"liep\", \"liep\", \"liep\", \"liet\", \"liet\", \"liet\", \"liet\", \"liet\", \"liet\", \"liet\", \"liet\", \"ligt\", \"ligt\", \"ligt\", \"ligt\", \"ligt\", \"ligt\", \"ligt\", \"ligt\", \"lijn\", \"lijn\", \"lijn\", \"lijn\", \"lijn\", \"limburg\", \"limburg\", \"limburg\", \"lokal\", \"lokal\", \"lokal\", \"lokal\", \"lokal\", \"lond\", \"lond\", \"lond\", \"lond\", \"lond\", \"lond\", \"loopt\", \"loopt\", \"loopt\", \"loopt\", \"loopt\", \"loopt\", \"loopt\", \"loopt\", \"lop\", \"lop\", \"lop\", \"lop\", \"lop\", \"maakt\", \"maakt\", \"maakt\", \"maakt\", \"maakt\", \"maakt\", \"maakt\", \"maakt\", \"maakt\", \"maakt\", \"maakt\", \"maakt\", \"maakt\", \"maakt\", \"maakt\", \"maakt\", \"maakt\", \"maand\", \"maand\", \"maand\", \"maand\", \"maand\", \"maand\", \"maand\", \"maand\", \"maand\", \"maand\", \"maand\", \"maand\", \"maand\", \"maand\", \"maart\", \"maart\", \"maart\", \"maart\", \"maart\", \"maart\", \"maart\", \"maart\", \"maatregel\", \"maatregel\", \"maatregel\", \"maatregel\", \"maatregel\", \"maatregel\", \"maatregel\", \"macht\", \"macht\", \"macht\", \"macht\", \"mak\", \"mak\", \"mak\", \"mak\", \"mak\", \"mak\", \"mak\", \"mak\", \"mak\", \"mak\", \"mak\", \"mak\", \"mak\", \"mak\", \"mak\", \"mak\", \"mak\", \"mak\", \"manier\", \"manier\", \"manier\", \"manier\", \"manier\", \"manier\", \"manier\", \"manier\", \"manier\", \"mann\", \"mann\", \"mann\", \"mann\", \"mann\", \"mann\", \"mann\", \"med\", \"med\", \"med\", \"med\", \"med\", \"media\", \"media\", \"media\", \"media\", \"media\", \"media\", \"media\", \"media\", \"media\", \"media\", \"media\", \"meerder\", \"meerder\", \"meerder\", \"meerder\", \"meerder\", \"meerder\", \"meerder\", \"meerder\", \"meisj\", \"meisj\", \"meisj\", \"meisj\", \"meisj\", \"meld\", \"meld\", \"meld\", \"meld\", \"meld\", \"meld\", \"meld\", \"mens\", \"mens\", \"mens\", \"mens\", \"mens\", \"mens\", \"mens\", \"mens\", \"mens\", \"mens\", \"mens\", \"mens\", \"mens\", \"mens\", \"mens\", \"mens\", \"mens\", \"mens\", \"merk\", \"merk\", \"merk\", \"merk\", \"merk\", \"merk\", \"meten\", \"meten\", \"meten\", \"meten\", \"meter\", \"meter\", \"meter\", \"meter\", \"mid\", \"mid\", \"mid\", \"mid\", \"mid\", \"militair\", \"militair\", \"militair\", \"militair\", \"militair\", \"miljard\", \"miljard\", \"miljard\", \"miljard\", \"miljoen\", \"miljoen\", \"miljoen\", \"miljoen\", \"miljoen\", \"miljoen\", \"miljoen\", \"miljoen\", \"miljoen\", \"miljoen\", \"miljoen\", \"miljoen\", \"miljoen\", \"miljoen\", \"miljoen\", \"minder\", \"minder\", \"minder\", \"minder\", \"minder\", \"minder\", \"minder\", \"minder\", \"minder\", \"minder\", \"minister\", \"minister\", \"minister\", \"minister\", \"minister\", \"minister\", \"minister\", \"minister\", \"minister\", \"minister\", \"minister\", \"minister\", \"ministerie\", \"ministerie\", \"ministerie\", \"ministerie\", \"ministerie\", \"ministerie\", \"ministerie\", \"mocht\", \"mocht\", \"mocht\", \"mocht\", \"mocht\", \"moeder\", \"moeder\", \"moeder\", \"moeder\", \"moeder\", \"moeder\", \"moeder\", \"moeilijk\", \"moeilijk\", \"moeilijk\", \"moeilijk\", \"moest\", \"moest\", \"moest\", \"moest\", \"moest\", \"moest\", \"moest\", \"moest\", \"moest\", \"moet\", \"moet\", \"moet\", \"moet\", \"moet\", \"moet\", \"moet\", \"moet\", \"moet\", \"moet\", \"moet\", \"moet\", \"moet\", \"moet\", \"moet\", \"moet\", \"moet\", \"moet\", \"mogelijk\", \"mogelijk\", \"mogelijk\", \"mogelijk\", \"mogelijk\", \"mogelijk\", \"mogelijk\", \"mogelijk\", \"mogelijk\", \"mogelijk\", \"mogelijk\", \"mogelijk\", \"mogelijk\", \"moment\", \"moment\", \"moment\", \"moment\", \"moment\", \"moment\", \"moment\", \"moment\", \"moment\", \"moment\", \"moment\", \"mooi\", \"mooi\", \"mooi\", \"moord\", \"moord\", \"moord\", \"moord\", \"moord\", \"morg\", \"morg\", \"morg\", \"morg\", \"morg\", \"naast\", \"naast\", \"naast\", \"naast\", \"naast\", \"naast\", \"naast\", \"nadat\", \"nadat\", \"nadat\", \"nadat\", \"nadat\", \"nadat\", \"nadat\", \"nadat\", \"nadat\", \"nadat\", \"nadat\", \"national\", \"national\", \"national\", \"national\", \"national\", \"national\", \"natur\", \"natur\", \"natur\", \"natur\", \"natur\", \"natur\", \"natur\", \"natur\", \"nauwelijk\", \"nauwelijk\", \"nauwelijk\", \"nauwelijk\", \"nauwelijk\", \"nederland\", \"nederland\", \"nederland\", \"nederland\", \"nederland\", \"nederland\", \"nederland\", \"nederland\", \"nederland\", \"nederland\", \"nederland\", \"nederland\", \"nederland\", \"nederland\", \"nederland\", \"nederlander\", \"nederlander\", \"nederlander\", \"nederlander\", \"nederlander\", \"nederlander\", \"nederlander\", \"neemt\", \"neemt\", \"neemt\", \"neemt\", \"neemt\", \"neemt\", \"neemt\", \"neemt\", \"neemt\", \"nem\", \"nem\", \"nem\", \"nem\", \"nem\", \"nem\", \"nem\", \"netwerk\", \"netwerk\", \"netwerk\", \"netwerk\", \"niemand\", \"niemand\", \"niemand\", \"niemand\", \"niemand\", \"niemand\", \"nieuw\", \"nieuw\", \"nieuw\", \"nieuw\", \"nieuw\", \"nieuw\", \"nieuw\", \"nieuw\", \"nieuw\", \"nieuw\", \"nieuw\", \"nieuw\", \"nieuw\", \"nieuw\", \"nieuw\", \"nieuw\", \"nodig\", \"nodig\", \"nodig\", \"nodig\", \"nodig\", \"nodig\", \"nodig\", \"nodig\", \"nodig\", \"nodig\", \"nodig\", \"nodig\", \"nodig\", \"nodig\", \"noem\", \"noem\", \"noem\", \"noem\", \"nooit\", \"nooit\", \"nooit\", \"nooit\", \"nooit\", \"nooit\", \"nooit\", \"noord\", \"noord\", \"noord\", \"noord\", \"noord\", \"noord\", \"noord\", \"noord\", \"normal\", \"normal\", \"normal\", \"normal\", \"normal\", \"normal\", \"nten\", \"nten\", \"nten\", \"nten\", \"nten\", \"nten\", \"nten\", \"oekrai\", \"oekrai\", \"oekrai\", \"ogen\", \"ogen\", \"ogen\", \"ogen\", \"oktober\", \"oktober\", \"oktober\", \"oktober\", \"omgev\", \"omgev\", \"omgev\", \"omgev\", \"omgev\", \"omroep\", \"omroep\", \"omroep\", \"omroep\", \"omroep\", \"omroep\", \"omroep\", \"omroep\", \"omroep\", \"omstander\", \"omstander\", \"omstander\", \"omstander\", \"onderdel\", \"onderdel\", \"onderzocht\", \"onderzocht\", \"onderzocht\", \"onderzocht\", \"onderzocht\", \"onderzoek\", \"onderzoek\", \"onderzoek\", \"onderzoek\", \"onderzoek\", \"onderzoek\", \"onderzoek\", \"onderzoek\", \"onderzoek\", \"onderzoek\", \"onderzoek\", \"onderzoek\", \"onderzoek\", \"onderzoeker\", \"onderzoeker\", \"onderzoeker\", \"onderzoeker\", \"onderzoeker\", \"onderzoeker\", \"onderzoekt\", \"onderzoekt\", \"onderzoekt\", \"onduid\", \"onduid\", \"onduid\", \"onduid\", \"ongeluk\", \"ongeluk\", \"ongeluk\", \"ongeluk\", \"ongeluk\", \"ongeluk\", \"ongeluk\", \"onrust\", \"onrust\", \"ontkend\", \"ontkend\", \"ontkend\", \"ontkend\", \"onvoldo\", \"onvoldo\", \"onvoldo\", \"onvoldo\", \"onvoldo\", \"onz\", \"onz\", \"onz\", \"onz\", \"onz\", \"onz\", \"onz\", \"onz\", \"onz\", \"onzeker\", \"onzeker\", \"onzeker\", \"oorlog\", \"oorlog\", \"oorlog\", \"oorlog\", \"oorlog\", \"oorzak\", \"oorzak\", \"oorzak\", \"oost\", \"oost\", \"oost\", \"oost\", \"open\", \"open\", \"open\", \"open\", \"open\", \"open\", \"open\", \"open\", \"open\", \"open\", \"opmerk\", \"opmerk\", \"opmerk\", \"opmerk\", \"opnieuw\", \"opnieuw\", \"opnieuw\", \"opnieuw\", \"opnieuw\", \"opnieuw\", \"opnieuw\", \"oproep\", \"oproep\", \"oproep\", \"oproep\", \"oproep\", \"oproep\", \"optred\", \"optred\", \"optred\", \"optred\", \"organisatie\", \"organisatie\", \"organisatie\", \"organisatie\", \"organisatie\", \"organisatie\", \"organisaties\", \"organisaties\", \"organisaties\", \"organisaties\", \"organisaties\", \"oud\", \"oud\", \"oud\", \"oud\", \"ouder\", \"ouder\", \"ouder\", \"ouder\", \"ouder\", \"ouder\", \"ouder\", \"ouder\", \"over\", \"over\", \"over\", \"over\", \"over\", \"over\", \"over\", \"over\", \"over\", \"over\", \"pakistan\", \"pakistan\", \"pakistan\", \"pakistan\", \"par\", \"par\", \"par\", \"par\", \"par\", \"par\", \"par\", \"par\", \"partij\", \"partij\", \"partij\", \"partij\", \"partij\", \"partij\", \"partij\", \"partij\", \"partij\", \"partij\", \"partij\", \"partij\", \"partner\", \"partner\", \"partner\", \"partner\", \"patie\", \"patie\", \"patie\", \"patie\", \"patie\", \"period\", \"period\", \"period\", \"period\", \"period\", \"period\", \"period\", \"persbureau\", \"persbureau\", \"persbureau\", \"persbureau\", \"persbureau\", \"person\", \"person\", \"person\", \"person\", \"person\", \"person\", \"person\", \"personel\", \"personel\", \"personel\", \"personel\", \"plaats\", \"plaats\", \"plaats\", \"plaats\", \"plaats\", \"plaats\", \"plan\", \"plan\", \"plan\", \"plan\", \"plan\", \"plan\", \"plann\", \"plann\", \"plann\", \"plann\", \"plat\", \"plat\", \"plat\", \"plat\", \"plat\", \"plat\", \"plat\", \"plat\", \"plat\", \"plat\", \"plek\", \"plek\", \"plek\", \"plek\", \"plek\", \"plek\", \"plek\", \"plek\", \"plek\", \"plek\", \"pol\", \"pol\", \"pol\", \"pol\", \"pol\", \"politie\", \"politie\", \"politie\", \"politie\", \"politie\", \"politie\", \"politie\", \"politie\", \"politie\", \"politie\", \"politie\", \"politie\", \"politie\", \"politie\", \"politie\", \"politie\", \"politiek\", \"politiek\", \"politiek\", \"politiek\", \"politiek\", \"politiek\", \"politiek\", \"politiek\", \"populair\", \"populair\", \"populair\", \"populair\", \"populair\", \"premier\", \"premier\", \"premier\", \"premier\", \"premier\", \"premier\", \"premier\", \"premier\", \"premier\", \"premier\", \"president\", \"president\", \"president\", \"president\", \"president\", \"president\", \"president\", \"president\", \"president\", \"president\", \"president\", \"prijs\", \"prijs\", \"prijs\", \"probeerd\", \"probeerd\", \"probeerd\", \"probeerd\", \"probeerd\", \"prober\", \"prober\", \"prober\", \"problem\", \"problem\", \"problem\", \"problem\", \"problem\", \"problem\", \"problem\", \"problem\", \"problem\", \"problem\", \"problem\", \"problem\", \"problem\", \"problem\", \"problem\", \"procent\", \"procent\", \"procent\", \"procent\", \"procent\", \"procent\", \"procent\", \"procent\", \"procent\", \"procent\", \"procent\", \"procent\", \"project\", \"project\", \"project\", \"project\", \"protest\", \"protest\", \"protest\", \"protest\", \"protest\", \"protest\", \"provincie\", \"provincie\", \"provincie\", \"provincie\", \"provincie\", \"provincie\", \"provincie\", \"provincie\", \"raakt\", \"raakt\", \"raakt\", \"raakt\", \"raakt\", \"raakt\", \"raakt\", \"raakt\", \"raakt\", \"raakt\", \"radio\", \"radio\", \"radio\", \"radio\", \"radio\", \"radio\", \"radio\", \"radio\", \"rapport\", \"rapport\", \"rapport\", \"reactie\", \"reactie\", \"reactie\", \"reactie\", \"reacties\", \"reacties\", \"reacties\", \"reacties\", \"reacties\", \"reageerd\", \"reageerd\", \"reageerd\", \"reageerd\", \"reageerd\", \"recht\", \"recht\", \"recht\", \"recht\", \"recht\", \"recht\", \"recht\", \"rechtbank\", \"rechtbank\", \"rechtbank\", \"rechtbank\", \"rechter\", \"rechter\", \"rechter\", \"rechter\", \"rechter\", \"rechter\", \"rechter\", \"regel\", \"regel\", \"regel\", \"regel\", \"regel\", \"regel\", \"regel\", \"regel\", \"regel\", \"regelmat\", \"regelmat\", \"regelmat\", \"regelmat\", \"regelmat\", \"reger\", \"reger\", \"reger\", \"reger\", \"reger\", \"regio\", \"regio\", \"regio\", \"regio\", \"regio\", \"regio\", \"reken\", \"reken\", \"reken\", \"reken\", \"reken\", \"reken\", \"richt\", \"richt\", \"richt\", \"richt\", \"richt\", \"riep\", \"riep\", \"riep\", \"riep\", \"riep\", \"riep\", \"rijd\", \"rijd\", \"rijd\", \"rijd\", \"rijd\", \"rijk\", \"rijk\", \"rijk\", \"risico\", \"risico\", \"risico\", \"risico\", \"risico\", \"risico\", \"rond\", \"rond\", \"rond\", \"rond\", \"rond\", \"rond\", \"rond\", \"rond\", \"rond\", \"rond\", \"rond\", \"rond\", \"rond\", \"rotterdam\", \"rotterdam\", \"rotterdam\", \"rotterdam\", \"rotterdam\", \"rotterdam\", \"rotterdam\", \"rotterdam\", \"rotterdam\", \"ruil\", \"ruil\", \"ruil\", \"ruil\", \"ruil\", \"ruim\", \"ruim\", \"ruim\", \"ruim\", \"ruim\", \"ruim\", \"ruim\", \"ruim\", \"ruim\", \"ruim\", \"ruim\", \"ruim\", \"ruim\", \"russisch\", \"russisch\", \"russisch\", \"russisch\", \"rut\", \"rut\", \"rut\", \"rut\", \"samenlev\", \"samenlev\", \"samenlev\", \"schat\", \"schat\", \"schat\", \"schat\", \"schuld\", \"schuld\", \"schuld\", \"schuld\", \"schuld\", \"schuld\", \"schuldig\", \"schuldig\", \"schuldig\", \"schuldig\", \"schuldig\", \"sector\", \"sector\", \"sector\", \"sector\", \"sector\", \"sind\", \"sind\", \"sind\", \"sind\", \"sind\", \"sind\", \"sind\", \"sind\", \"sind\", \"sind\", \"sind\", \"sind\", \"sind\", \"situatie\", \"situatie\", \"situatie\", \"situatie\", \"slachtoffer\", \"slachtoffer\", \"slachtoffer\", \"slachtoffer\", \"slachtoffer\", \"slachtoffer\", \"slachtoffer\", \"slachtoffer\", \"slachtoffer\", \"slachtoffer\", \"slachtoffer\", \"sloeg\", \"sloeg\", \"sloeg\", \"sloeg\", \"sluit\", \"sluit\", \"snel\", \"snel\", \"snel\", \"snel\", \"snel\", \"snel\", \"snel\", \"snel\", \"snel\", \"snel\", \"sneller\", \"sneller\", \"sneller\", \"sneller\", \"social\", \"social\", \"social\", \"social\", \"social\", \"social\", \"som\", \"som\", \"som\", \"som\", \"som\", \"som\", \"som\", \"soort\", \"soort\", \"soort\", \"soort\", \"soort\", \"spanj\", \"spanj\", \"spanj\", \"special\", \"special\", \"special\", \"special\", \"special\", \"special\", \"special\", \"spreekt\", \"spreekt\", \"spreekt\", \"spreekt\", \"spreekt\", \"spreekt\", \"stad\", \"stad\", \"stad\", \"stad\", \"stad\", \"stad\", \"stad\", \"stad\", \"stad\", \"stad\", \"stak\", \"stak\", \"stak\", \"stak\", \"stan\", \"stan\", \"stan\", \"stan\", \"stan\", \"stan\", \"stan\", \"stan\", \"stan\", \"stan\", \"stan\", \"stan\", \"stan\", \"start\", \"start\", \"start\", \"start\", \"start\", \"stat\", \"stat\", \"stat\", \"stat\", \"stat\", \"stat\", \"stat\", \"stat\", \"stat\", \"stat\", \"stat\", \"stat\", \"stat\", \"stat\", \"stat\", \"stat\", \"stat\", \"sted\", \"sted\", \"sted\", \"sted\", \"sted\", \"sted\", \"sted\", \"sted\", \"sted\", \"sted\", \"sted\", \"stell\", \"stell\", \"stell\", \"stell\", \"stelt\", \"stelt\", \"stelt\", \"stelt\", \"stelt\", \"stelt\", \"stelt\", \"stelt\", \"sterk\", \"sterk\", \"sterk\", \"sterk\", \"sterk\", \"sterk\", \"sterk\", \"steun\", \"steun\", \"steun\", \"steun\", \"steun\", \"steun\", \"steun\", \"steun\", \"stichting\", \"stichting\", \"stichting\", \"stichting\", \"stichting\", \"stond\", \"stond\", \"stond\", \"stond\", \"stond\", \"stond\", \"stond\", \"strak\", \"strak\", \"strak\", \"strat\", \"strat\", \"strat\", \"strat\", \"strat\", \"strat\", \"strom\", \"strom\", \"strom\", \"strom\", \"stuk\", \"stuk\", \"stuk\", \"stuk\", \"stuk\", \"supermarkt\", \"supermarkt\", \"supermarkt\", \"supermarkt\", \"supermarkt\", \"tegenover\", \"tegenover\", \"tegenover\", \"tegenover\", \"tegenover\", \"teken\", \"teken\", \"teken\", \"teken\", \"teken\", \"tekort\", \"tekort\", \"tekort\", \"tekort\", \"telefon\", \"telefon\", \"telefon\", \"telefon\", \"telefon\", \"terrein\", \"terrein\", \"terrein\", \"terrein\", \"terrein\", \"terug\", \"terug\", \"terug\", \"terug\", \"terug\", \"terug\", \"terug\", \"terug\", \"terug\", \"thuis\", \"thuis\", \"thuis\", \"thuis\", \"thuis\", \"thuis\", \"thuis\", \"thuis\", \"tien\", \"tien\", \"tien\", \"tien\", \"tien\", \"tientall\", \"tientall\", \"tientall\", \"tientall\", \"tientall\", \"tientall\", \"tijd\", \"tijd\", \"tijd\", \"tijd\", \"tijd\", \"tijd\", \"tijd\", \"tijd\", \"tijd\", \"tijd\", \"tijd\", \"tijd\", \"tijd\", \"tijdelijk\", \"tijdelijk\", \"tijdelijk\", \"tijdelijk\", \"tijdelijk\", \"tijden\", \"tijden\", \"tijden\", \"tijden\", \"tijden\", \"tijden\", \"tijden\", \"tijden\", \"tijden\", \"tijden\", \"tijden\", \"tijden\", \"tijden\", \"tijden\", \"tijden\", \"toesprak\", \"toesprak\", \"toesprak\", \"toesprak\", \"total\", \"total\", \"total\", \"total\", \"total\", \"total\", \"total\", \"total\", \"total\", \"trek\", \"trek\", \"trok\", \"trok\", \"trok\", \"trok\", \"trot\", \"trot\", \"trot\", \"trot\", \"tuss\", \"tuss\", \"tuss\", \"tuss\", \"tuss\", \"tuss\", \"tuss\", \"tuss\", \"tuss\", \"tuss\", \"tuss\", \"tuss\", \"tuss\", \"tuss\", \"tuss\", \"tuss\", \"twed\", \"twed\", \"twed\", \"twed\", \"twed\", \"twed\", \"twed\", \"twed\", \"twed\", \"twed\", \"twed\", \"twed\", \"twed\", \"twee\", \"twee\", \"twee\", \"twee\", \"twee\", \"twee\", \"twee\", \"twee\", \"twee\", \"twee\", \"twee\", \"twee\", \"twee\", \"twee\", \"twee\", \"twee\", \"twee\", \"twee\", \"twee\", \"twintig\", \"twintig\", \"twintig\", \"twitter\", \"twitter\", \"twitter\", \"twitter\", \"twitter\", \"twitter\", \"twitter\", \"uitdag\", \"uitdag\", \"uitdag\", \"uitdag\", \"uitdag\", \"uitkomst\", \"uitkomst\", \"uitkomst\", \"uitkomst\", \"uitkomst\", \"uitkomst\", \"unie\", \"unie\", \"unie\", \"unie\", \"universiteit\", \"universiteit\", \"universiteit\", \"universiteit\", \"vak\", \"vak\", \"vak\", \"vak\", \"vak\", \"vak\", \"vak\", \"vak\", \"vak\", \"vak\", \"vakbond\", \"vakbond\", \"vakbond\", \"vakbond\", \"vakbond\", \"vaker\", \"vaker\", \"vaker\", \"vaker\", \"vaker\", \"vaker\", \"vaker\", \"vaker\", \"vaker\", \"valt\", \"valt\", \"valt\", \"valt\", \"valt\", \"vanavond\", \"vanavond\", \"vanavond\", \"vanavond\", \"vanavond\", \"vandag\", \"vandag\", \"vandag\", \"vandag\", \"vandag\", \"vandag\", \"vandag\", \"vandag\", \"vandag\", \"vandag\", \"vandag\", \"vandag\", \"vandag\", \"vandag\", \"vandag\", \"vanmiddag\", \"vanmiddag\", \"vanmiddag\", \"vanmiddag\", \"vanmiddag\", \"vanuit\", \"vanuit\", \"vanuit\", \"vanuit\", \"vanuit\", \"vanuit\", \"veilig\", \"veilig\", \"veilig\", \"veilig\", \"veilig\", \"veilig\", \"veilig\", \"veilig\", \"veilig\", \"vel\", \"vel\", \"vel\", \"vel\", \"vel\", \"verander\", \"verander\", \"verband\", \"verband\", \"verband\", \"verbod\", \"verbod\", \"verbod\", \"verbod\", \"verdacht\", \"verdacht\", \"verdacht\", \"verdacht\", \"verdacht\", \"verdacht\", \"verdacht\", \"verdacht\", \"verdacht\", \"verder\", \"verder\", \"verder\", \"verder\", \"verder\", \"verder\", \"verder\", \"verder\", \"verder\", \"verder\", \"verder\", \"verder\", \"verdwijn\", \"verdwijn\", \"verdwijn\", \"verdwijn\", \"verdwijn\", \"veren\", \"veren\", \"veren\", \"veren\", \"veren\", \"vergelijk\", \"vergelijk\", \"vergelijk\", \"vergelijk\", \"vergelijk\", \"verkiez\", \"verkiez\", \"verkiez\", \"verkiez\", \"verklar\", \"verklar\", \"verklar\", \"verklar\", \"verklar\", \"verklar\", \"verklar\", \"verklar\", \"verklar\", \"verklar\", \"verklar\", \"verkocht\", \"verkocht\", \"verkocht\", \"verkocht\", \"verkop\", \"verkop\", \"verkop\", \"verkop\", \"verkop\", \"verlat\", \"verlat\", \"verlat\", \"verlat\", \"verlat\", \"verlat\", \"verlop\", \"verlop\", \"verlop\", \"verlop\", \"verlor\", \"verlor\", \"verlor\", \"verlor\", \"veroordeeld\", \"veroordeeld\", \"veroordeeld\", \"veroordeeld\", \"veroordeeld\", \"veroordeeld\", \"veroordeeld\", \"verplicht\", \"verplicht\", \"verplicht\", \"verplicht\", \"verplicht\", \"verplicht\", \"verschill\", \"verschill\", \"verschill\", \"verschill\", \"verschill\", \"verschill\", \"verschill\", \"verschill\", \"verschill\", \"verschill\", \"vertelt\", \"vertelt\", \"vertelt\", \"vertelt\", \"vertelt\", \"vertelt\", \"vertelt\", \"vertelt\", \"vertrouw\", \"vertrouw\", \"vertrouw\", \"vertrouw\", \"vertrouw\", \"vertrouw\", \"vertrouw\", \"vertrouw\", \"vervoer\", \"vervoer\", \"vervoer\", \"vervolg\", \"vervolg\", \"vervolg\", \"vervolg\", \"vervolg\", \"vervolgd\", \"vervolgd\", \"vervolgd\", \"vervolgd\", \"vervolgen\", \"vervolgen\", \"vervolgen\", \"vervolgen\", \"verwacht\", \"verwacht\", \"verwacht\", \"verwacht\", \"verwacht\", \"verwacht\", \"verwacht\", \"verwacht\", \"verwacht\", \"verwacht\", \"verwacht\", \"verzoek\", \"verzoek\", \"verzoek\", \"verzoek\", \"verzoek\", \"video\", \"video\", \"video\", \"viel\", \"viel\", \"viel\", \"viel\", \"viel\", \"viel\", \"vijf\", \"vijf\", \"vijf\", \"vijf\", \"vijf\", \"vijf\", \"vijf\", \"vijf\", \"vind\", \"vind\", \"vind\", \"vind\", \"vind\", \"vind\", \"vind\", \"vind\", \"vind\", \"vindt\", \"vindt\", \"vindt\", \"vindt\", \"vindt\", \"vindt\", \"vindt\", \"vindt\", \"vindt\", \"vindt\", \"vindt\", \"vindt\", \"virus\", \"virus\", \"virus\", \"vlak\", \"vlak\", \"vlak\", \"vlucht\", \"vlucht\", \"vlucht\", \"vlucht\", \"vlucht\", \"vlucht\", \"vlucht\", \"vlucht\", \"voel\", \"voel\", \"voel\", \"voel\", \"voeld\", \"voeld\", \"voer\", \"voer\", \"voer\", \"voer\", \"voer\", \"voer\", \"voldoend\", \"voldoend\", \"voldoend\", \"voldoend\", \"volgen\", \"volgen\", \"volgen\", \"volgen\", \"volgen\", \"volgen\", \"volgen\", \"volgen\", \"volgen\", \"volgen\", \"volgen\", \"volgen\", \"volgen\", \"volgen\", \"volgen\", \"volgen\", \"volgen\", \"volgen\", \"volgen\", \"volgen\", \"volgend\", \"volgend\", \"volgend\", \"volgend\", \"volgend\", \"volgend\", \"volgend\", \"volgend\", \"vooral\", \"vooral\", \"vooral\", \"vooral\", \"vooral\", \"vooral\", \"vooral\", \"vooral\", \"vooral\", \"vooral\", \"vooral\", \"vooral\", \"vooral\", \"vooral\", \"vooral\", \"vooral\", \"voordat\", \"voordat\", \"voordat\", \"voordat\", \"voormal\", \"voormal\", \"voormal\", \"voormal\", \"voormal\", \"voormal\", \"voorzitter\", \"voorzitter\", \"voorzitter\", \"voorzitter\", \"voorzitter\", \"voorzitter\", \"voorzitter\", \"voorzitter\", \"vorig\", \"vorig\", \"vorig\", \"vorig\", \"vorig\", \"vorig\", \"vorig\", \"vorig\", \"vorig\", \"vorig\", \"vorig\", \"vorig\", \"vorig\", \"vrag\", \"vrag\", \"vrag\", \"vrag\", \"vrag\", \"vrag\", \"vrag\", \"vrag\", \"vrag\", \"vrag\", \"vrag\", \"vrag\", \"vrag\", \"vriend\", \"vriend\", \"vriend\", \"vriend\", \"vriend\", \"vriend\", \"vriend\", \"vrij\", \"vrij\", \"vrij\", \"vrij\", \"vrij\", \"vrij\", \"vrijdag\", \"vrijdag\", \"vrijdag\", \"vrijdag\", \"vrijgelat\", \"vrijgelat\", \"vrijgelat\", \"vrijgelat\", \"vrijlat\", \"vrijlat\", \"vrijlat\", \"vrijlat\", \"vrijlat\", \"vroeger\", \"vroeger\", \"vroeger\", \"vroeger\", \"vrouw\", \"vrouw\", \"vrouw\", \"vrouw\", \"vrouw\", \"vrouw\", \"vrouw\", \"vrouw\", \"vrouw\", \"vrouw\", \"waarbij\", \"waarbij\", \"waarbij\", \"waarbij\", \"waarbij\", \"waarbij\", \"waarbij\", \"waardor\", \"waardor\", \"waardor\", \"waardor\", \"waardor\", \"waardor\", \"waardor\", \"waarschijn\", \"waarschijn\", \"waarschijn\", \"waarschijn\", \"waarschijn\", \"waarschuw\", \"waarschuw\", \"waarschuw\", \"waarschuw\", \"waarschuw\", \"war\", \"war\", \"war\", \"war\", \"war\", \"war\", \"war\", \"war\", \"war\", \"war\", \"war\", \"war\", \"war\", \"war\", \"war\", \"water\", \"water\", \"water\", \"water\", \"water\", \"wedstrijd\", \"wedstrijd\", \"wedstrijd\", \"wegen\", \"wegen\", \"wegen\", \"wegen\", \"wegen\", \"weigerd\", \"weigerd\", \"weigerd\", \"wek\", \"wek\", \"wek\", \"wek\", \"wek\", \"wek\", \"wek\", \"wek\", \"wek\", \"wek\", \"wek\", \"wek\", \"wek\", \"wek\", \"wek\", \"welk\", \"welk\", \"welk\", \"welk\", \"welk\", \"wer\", \"wer\", \"wer\", \"wer\", \"wer\", \"wer\", \"wer\", \"wer\", \"wer\", \"wer\", \"wer\", \"wer\", \"wer\", \"werd\", \"werd\", \"werd\", \"werd\", \"werd\", \"werd\", \"werd\", \"werd\", \"werd\", \"werd\", \"werd\", \"werd\", \"werd\", \"werd\", \"werd\", \"wereld\", \"wereld\", \"wereld\", \"wereld\", \"wereld\", \"wereld\", \"wereld\", \"wereldwijd\", \"wereldwijd\", \"wereldwijd\", \"wereldwijd\", \"werk\", \"werk\", \"werk\", \"werk\", \"werk\", \"werk\", \"werk\", \"werk\", \"werk\", \"werk\", \"werk\", \"werk\", \"werkt\", \"werkt\", \"werkt\", \"werkt\", \"werkt\", \"werkt\", \"werkt\", \"werkt\", \"werkt\", \"wet\", \"wet\", \"wet\", \"wet\", \"wet\", \"wet\", \"wet\", \"wet\", \"wet\", \"wet\", \"wet\", \"wet\", \"wet\", \"wet\", \"wet\", \"wet\", \"wijst\", \"wijst\", \"wijz\", \"wijz\", \"wijz\", \"wijz\", \"wild\", \"wild\", \"wild\", \"wild\", \"wild\", \"wild\", \"wild\", \"wild\", \"wild\", \"wild\", \"will\", \"will\", \"will\", \"will\", \"will\", \"will\", \"will\", \"will\", \"will\", \"will\", \"will\", \"will\", \"will\", \"will\", \"will\", \"winkel\", \"winkel\", \"winkel\", \"winkel\", \"woensdag\", \"woensdag\", \"woensdag\", \"woensdag\", \"won\", \"won\", \"won\", \"won\", \"won\", \"won\", \"woning\", \"woning\", \"woning\", \"woning\", \"woning\", \"woordvoerder\", \"woordvoerder\", \"woordvoerder\", \"woordvoerder\", \"woordvoerder\", \"woordvoerder\", \"woordvoerder\", \"york\", \"york\", \"york\", \"zak\", \"zak\", \"zak\", \"zak\", \"zak\", \"zak\", \"zak\", \"zak\", \"zak\", \"zak\", \"zak\", \"zak\", \"zak\", \"zak\", \"zegg\", \"zegg\", \"zegg\", \"zegg\", \"zegg\", \"zegg\", \"zegg\", \"zegg\", \"zegg\", \"zegg\", \"zegg\", \"zegg\", \"zegt\", \"zegt\", \"zegt\", \"zegt\", \"zegt\", \"zegt\", \"zegt\", \"zegt\", \"zegt\", \"zegt\", \"zegt\", \"zegt\", \"zegt\", \"zegt\", \"zegt\", \"zegt\", \"zegt\", \"zegt\", \"zegt\", \"zegt\", \"zelf\", \"zelf\", \"zelf\", \"zelf\", \"zelf\", \"zelf\", \"zelf\", \"zelf\", \"zer\", \"zer\", \"zer\", \"zer\", \"zer\", \"zer\", \"zer\", \"zet\", \"zet\", \"zet\", \"zet\", \"zet\", \"zet\", \"zet\", \"ziekenhuis\", \"ziekenhuis\", \"ziekenhuis\", \"ziekenhuis\", \"ziekenhuis\", \"ziekenhuis\", \"ziekenhuis\", \"ziekenhuis\", \"ziekenhuis\", \"ziekenhuis\", \"ziekenhuis\", \"ziekenhuiz\", \"ziekenhuiz\", \"ziekenhuiz\", \"ziekenhuiz\", \"zien\", \"zien\", \"zien\", \"zien\", \"zien\", \"zien\", \"zien\", \"zien\", \"zien\", \"zoal\", \"zoal\", \"zoal\", \"zoal\", \"zoal\", \"zoal\", \"zoal\", \"zoal\", \"zoal\", \"zoal\", \"zoal\", \"zoal\", \"zomer\", \"zomer\", \"zomer\", \"zomer\", \"zomer\", \"zon\", \"zon\", \"zon\", \"zondag\", \"zondag\", \"zondag\", \"zondag\", \"zondag\", \"zorg\", \"zorg\", \"zorg\", \"zorg\", \"zorg\", \"zorg\", \"zorg\", \"zoud\", \"zoud\", \"zoud\", \"zoud\", \"zoud\", \"zoud\", \"zoud\", \"zoud\", \"zoud\", \"zoud\", \"zoud\", \"zuid\", \"zuid\", \"zuid\", \"zuid\", \"zuid\", \"zuid\", \"zuid\", \"zuid\", \"zull\", \"zull\", \"zull\", \"zull\", \"zull\", \"zull\", \"zull\", \"zull\", \"zull\", \"zwar\", \"zwar\", \"zwar\", \"zwar\", \"zwar\", \"zwar\", \"zwar\", \"zwar\"]}, \"R\": 30, \"lambda.step\": 0.01, \"plot.opts\": {\"xlab\": \"PC1\", \"ylab\": \"PC2\"}, \"topic.order\": [8, 19, 1, 10, 14, 15, 3, 2, 9, 13, 12, 17, 6, 5, 11, 20, 7, 18, 16, 4]};\n",
              "\n",
              "function LDAvis_load_lib(url, callback){\n",
              "  var s = document.createElement('script');\n",
              "  s.src = url;\n",
              "  s.async = true;\n",
              "  s.onreadystatechange = s.onload = callback;\n",
              "  s.onerror = function(){console.warn(\"failed to load library \" + url);};\n",
              "  document.getElementsByTagName(\"head\")[0].appendChild(s);\n",
              "}\n",
              "\n",
              "if(typeof(LDAvis) !== \"undefined\"){\n",
              "   // already loaded: just create the visualization\n",
              "   !function(LDAvis){\n",
              "       new LDAvis(\"#\" + \"ldavis_el2971335217862187367685987326\", ldavis_el2971335217862187367685987326_data);\n",
              "   }(LDAvis);\n",
              "}else if(typeof define === \"function\" && define.amd){\n",
              "   // require.js is available: use it to load d3/LDAvis\n",
              "   require.config({paths: {d3: \"https://d3js.org/d3.v5\"}});\n",
              "   require([\"d3\"], function(d3){\n",
              "      window.d3 = d3;\n",
              "      LDAvis_load_lib(\"https://cdn.jsdelivr.net/gh/bmabey/pyLDAvis@3.4.0/pyLDAvis/js/ldavis.v3.0.0.js\", function(){\n",
              "        new LDAvis(\"#\" + \"ldavis_el2971335217862187367685987326\", ldavis_el2971335217862187367685987326_data);\n",
              "      });\n",
              "    });\n",
              "}else{\n",
              "    // require.js not available: dynamically load d3 & LDAvis\n",
              "    LDAvis_load_lib(\"https://d3js.org/d3.v5.js\", function(){\n",
              "         LDAvis_load_lib(\"https://cdn.jsdelivr.net/gh/bmabey/pyLDAvis@3.4.0/pyLDAvis/js/ldavis.v3.0.0.js\", function(){\n",
              "                 new LDAvis(\"#\" + \"ldavis_el2971335217862187367685987326\", ldavis_el2971335217862187367685987326_data);\n",
              "            })\n",
              "         });\n",
              "}\n",
              "</script>"
            ]
          },
          "metadata": {},
          "execution_count": 36
        }
      ]
    },
    {
      "cell_type": "code",
      "source": [
        "# and here I wanted to try the visualisation for the TD/IDF model:\n",
        "\n",
        "bow_lda_data = gensimvis.prepare(lda_model_tfidf, bow_corpus, dictionary)\n",
        "\n",
        "pyLDAvis.display(bow_lda_data)"
      ],
      "metadata": {
        "colab": {
          "base_uri": "https://localhost:8080/",
          "height": 917
        },
        "id": "qnKK7CJ6tyyp",
        "outputId": "3e6fb92a-df84-4f07-9edc-f2606cf75775"
      },
      "execution_count": 39,
      "outputs": [
        {
          "output_type": "stream",
          "name": "stderr",
          "text": [
            "/usr/local/lib/python3.10/dist-packages/ipykernel/ipkernel.py:283: DeprecationWarning: `should_run_async` will not call `transform_cell` automatically in the future. Please pass the result to `transformed_cell` argument and any exception that happen during thetransform in `preprocessing_exc_tuple` in IPython 7.17 and above.\n",
            "  and should_run_async(code)\n"
          ]
        },
        {
          "output_type": "execute_result",
          "data": {
            "text/plain": [
              "<IPython.core.display.HTML object>"
            ],
            "text/html": [
              "\n",
              "<link rel=\"stylesheet\" type=\"text/css\" href=\"https://cdn.jsdelivr.net/gh/bmabey/pyLDAvis@3.4.0/pyLDAvis/js/ldavis.v1.0.0.css\">\n",
              "\n",
              "\n",
              "<div id=\"ldavis_el2971335217803278082935001286\" style=\"background-color:white;\"></div>\n",
              "<script type=\"text/javascript\">\n",
              "\n",
              "var ldavis_el2971335217803278082935001286_data = {\"mdsDat\": {\"x\": [-0.20526383083222965, 0.06181404657697704, 0.0521617115142444, 0.03719960903160222, 0.008319490391805424, 0.00909597814576854, 0.0036121366161782015, -0.01069188461836373, 3.33898003339882e-05, 0.015422984726222335, 0.01572505867601995, 0.014838193914642306, 0.009024384416520303, -0.00037990610802665344, 0.002240099941271616, 0.0013628000331016585, 0.0001521039699759913, -0.004272953450325372, -0.0022361910875218338, -0.008157221658197293], \"y\": [-0.01528196320224804, -0.15284371146514833, 0.08156190188797982, 0.04190267818571375, 0.02347401621968571, 0.028329281415270198, -0.0027640008156828966, 0.013872393469431667, -0.007649998406343412, -0.0038553307246458135, 0.01039104017109373, 0.005951118806544829, 0.0006977413023679821, -0.0018097373336363868, -0.009181324950185768, -0.004328441688009318, -0.004570842960366469, 0.007361655886803485, -0.004891399381345493, -0.00636507641727918], \"topics\": [1, 2, 3, 4, 5, 6, 7, 8, 9, 10, 11, 12, 13, 14, 15, 16, 17, 18, 19, 20], \"cluster\": [1, 1, 1, 1, 1, 1, 1, 1, 1, 1, 1, 1, 1, 1, 1, 1, 1, 1, 1, 1], \"Freq\": [43.07663894650471, 21.487327938874024, 9.75488494263871, 5.5774238402793515, 4.768898021648209, 3.6131978306187076, 1.6723228282372191, 1.4287155850904736, 1.3073251567265232, 1.133913529991588, 1.0652075385756234, 0.91563303749441, 0.8042957422254967, 0.8000332643036256, 0.6347128701962479, 0.5604773019056188, 0.48800722271324143, 0.3174666886288245, 0.29996999986272016, 0.2935477134846752]}, \"tinfo\": {\"Term\": [\"auto\", \"procent\", \"politie\", \"wek\", \"mens\", \"premier\", \"miljoen\", \"minister\", \"onderzoek\", \"binn\", \"nieuw\", \"euro\", \"nederland\", \"gemeent\", \"europes\", \"vorig\", \"jarig\", \"lang\", \"war\", \"zuid\", \"dod\", \"noord\", \"verdacht\", \"jar\", \"fran\", \"tijd\", \"groep\", \"stat\", \"vandag\", \"ziekenhuis\", \"vertelt\", \"stan\", \"jonger\", \"zien\", \"allemal\", \"hand\", \"zegg\", \"dod\", \"denk\", \"som\", \"sind\", \"nieuw\", \"besluit\", \"maakt\", \"premier\", \"kijk\", \"helemal\", \"minister\", \"vooral\", \"open\", \"incident\", \"doet\", \"york\", \"tientall\", \"idee\", \"meerder\", \"jarig\", \"tijd\", \"zuid\", \"juist\", \"lat\", \"bekend\", \"wek\", \"vorig\", \"war\", \"wet\", \"aantal\", \"had\", \"lev\", \"mens\", \"binn\", \"lang\", \"zegt\", \"vandag\", \"zak\", \"eerder\", \"europes\", \"land\", \"volgen\", \"all\", \"gat\", \"eerst\", \"jar\", \"nederland\", \"stat\", \"belgisch\", \"kabinet\", \"sprak\", \"verkocht\", \"rut\", \"daarom\", \"verkop\", \"bekek\", \"waardor\", \"boer\", \"prat\", \"blijv\", \"meisj\", \"gemiddeld\", \"aanhanger\", \"afsprak\", \"daardor\", \"international\", \"vanweg\", \"denkt\", \"kwijt\", \"amerikan\", \"procent\", \"last\", \"verdacht\", \"gezet\", \"afgesprok\", \"regio\", \"spreekt\", \"gevar\", \"iederen\", \"minder\", \"jong\", \"brit\", \"kreg\", \"kom\", \"europa\", \"advocat\", \"buit\", \"vrag\", \"unie\", \"ker\", \"onderzoek\", \"nederland\", \"huis\", \"auto\", \"jar\", \"maand\", \"politie\", \"kost\", \"start\", \"kilometer\", \"tekort\", \"allerlei\", \"reken\", \"maart\", \"onderzoekt\", \"actief\", \"euro\", \"oproep\", \"utrecht\", \"onz\", \"energie\", \"strom\", \"oorzak\", \"behor\", \"welk\", \"stad\", \"lukt\", \"ligg\", \"commissie\", \"miljoen\", \"goed\", \"jaarlijk\", \"patie\", \"ongever\", \"duurder\", \"bov\", \"juli\", \"ruim\", \"betaald\", \"extra\", \"hag\", \"total\", \"rotterdam\", \"geld\", \"criminel\", \"activiteit\", \"politie\", \"gevond\", \"grot\", \"groning\", \"terug\", \"gister\", \"krijg\", \"gan\", \"del\", \"ouder\", \"gebeurt\", \"inderdad\", \"wanner\", \"erop\", \"telefon\", \"wijst\", \"kinder\", \"hoopt\", \"gemeent\", \"echt\", \"bureau\", \"breng\", \"sector\", \"resultat\", \"gekreg\", \"moeder\", \"gekek\", \"sted\", \"best\", \"waarschijn\", \"geeft\", \"maatregel\", \"bescherm\", \"won\", \"interview\", \"central\", \"wacht\", \"verlat\", \"lijkt\", \"cijfer\", \"zeker\", \"hulp\", \"ziekenhuis\", \"gesprek\", \"duit\", \"geld\", \"zorg\", \"betal\", \"hel\", \"zoal\", \"kom\", \"bijna\", \"politie\", \"mak\", \"veroordeeld\", \"prijs\", \"macht\", \"regelmat\", \"bezoeker\", \"islamitisch\", \"slecht\", \"benadrukt\", \"protest\", \"leider\", \"lokal\", \"ingewikkeld\", \"informatie\", \"bepaald\", \"vertrouw\", \"vervolgen\", \"optred\", \"vorm\", \"relatief\", \"gebruik\", \"waarschuw\", \"schuldig\", \"pakistan\", \"komend\", \"persbureau\", \"nam\", \"groter\", \"won\", \"hoofdstad\", \"gemeent\", \"inwoner\", \"oekrai\", \"huis\", \"moment\", \"rechtbank\", \"miljoen\", \"europes\", \"zull\", \"oorlog\", \"euro\", \"wer\", \"jar\", \"goed\", \"amerikan\", \"land\", \"stichting\", \"gebeur\", \"voormal\", \"geslot\", \"besmet\", \"strak\", \"onrust\", \"dergelijk\", \"virus\", \"omgev\", \"stelt\", \"reger\", \"woensdag\", \"belangrijk\", \"slachtoffer\", \"persconferentie\", \"supermarkt\", \"zev\", \"bedoeld\", \"dorp\", \"algemen\", \"vak\", \"gesprok\", \"ding\", \"publiek\", \"geregeld\", \"houd\", \"radio\", \"elk\", \"februari\", \"ongeluk\", \"opnieuw\", \"gooid\", \"daarbij\", \"twaalf\", \"werk\", \"akkoord\", \"zodat\", \"hoofd\", \"mens\", \"elkar\", \"bericht\", \"europes\", \"huis\", \"had\", \"social\", \"zon\", \"terrein\", \"limburg\", \"foto\", \"verlor\", \"brand\", \"samenlev\", \"legg\", \"januari\", \"vrouw\", \"onderzocht\", \"stur\", \"medewerker\", \"jaarlijk\", \"ben\", \"gepland\", \"interview\", \"landelijk\", \"onderzoeker\", \"werk\", \"betekent\", \"verhal\", \"agent\", \"gren\", \"groter\", \"moord\", \"klein\", \"sector\", \"gedan\", \"drag\", \"bouw\", \"terwijl\", \"noord\", \"verenigd\", \"problem\", \"media\", \"rijd\", \"nooit\", \"ker\", \"provincie\", \"amerikan\", \"bewoner\", \"aangehoud\", \"vorig\", \"bank\", \"deur\", \"woning\", \"schot\", \"virus\", \"hield\", \"wacht\", \"aanslag\", \"pakistan\", \"jongen\", \"rapport\", \"gepland\", \"onderzoeker\", \"plann\", \"kinder\", \"aangekondigd\", \"supermarkt\", \"groei\", \"dagelijk\", \"reageerd\", \"economie\", \"prijs\", \"foto\", \"situatie\", \"huiz\", \"gezond\", \"geraakt\", \"jammer\", \"ingesteld\", \"buitenlander\", \"waarbij\", \"sloeg\", \"gewond\", \"groep\", \"patie\", \"viel\", \"product\", \"aangift\", \"gebruikt\", \"uitkomst\", \"duit\", \"procent\", \"vanaf\", \"twaalf\", \"ler\", \"geslag\", \"video\", \"avond\", \"basis\", \"partij\", \"aanslag\", \"vrijlat\", \"koning\", \"mooi\", \"verdwijn\", \"wedstrijd\", \"jarenlang\", \"verkiez\", \"plann\", \"akkoord\", \"automatisch\", \"februari\", \"dinsdag\", \"ingesteld\", \"enig\", \"gisteravond\", \"rechter\", \"bepaald\", \"bezuin\", \"burgemeester\", \"duurt\", \"genom\", \"wijz\", \"vorm\", \"hor\", \"zuid\", \"krant\", \"slachtoffer\", \"gemeent\", \"elkar\", \"mann\", \"terug\", \"vier\", \"wild\", \"kwijt\", \"gan\", \"goed\", \"zoud\", \"agent\", \"aanslag\", \"russisch\", \"italiaan\", \"telefon\", \"informatie\", \"rijk\", \"stad\", \"gehoud\", \"februari\", \"gehaald\", \"dodelijk\", \"komend\", \"provincie\", \"januari\", \"holland\", \"zon\", \"geheim\", \"krant\", \"bekendgemaakt\", \"for\", \"toesprak\", \"automobilist\", \"vrijdag\", \"ongeluk\", \"bevestigd\", \"onzeker\", \"verlop\", \"elk\", \"behalv\", \"aangehoud\", \"dienst\", \"plek\", \"led\", \"politie\", \"geweld\", \"rijd\", \"premier\", \"verdacht\", \"belgisch\", \"red\", \"vrouw\", \"verdwijn\", \"groenlink\", \"augustus\", \"israe\", \"automobilist\", \"wegen\", \"limburg\", \"utrecht\", \"gezocht\", \"med\", \"beperkt\", \"avond\", \"legg\", \"rond\", \"natur\", \"national\", \"recht\", \"liep\", \"brandwer\", \"sloeg\", \"prober\", \"onvoldo\", \"vorm\", \"vervolgen\", \"ziekenhuiz\", \"licham\", \"even\", \"strat\", \"landelijk\", \"onderdel\", \"ziekenhuis\", \"vanmiddag\", \"gevond\", \"gewond\", \"last\", \"aldus\", \"vlucht\", \"winkel\", \"politie\", \"wer\", \"vrijdag\", \"israe\", \"bank\", \"pakistan\", \"overigen\", \"aanslag\", \"voer\", \"debat\", \"aanleid\", \"kamer\", \"noemt\", \"mooi\", \"voorzitter\", \"sloeg\", \"reger\", \"led\", \"vanmiddag\", \"bronn\", \"directeur\", \"bezoeker\", \"stijging\", \"risico\", \"woning\", \"plan\", \"nacht\", \"stell\", \"verbod\", \"buitenlander\", \"ingesteld\", \"websit\", \"populair\", \"organisatie\", \"vrouw\", \"zeker\", \"bov\", \"nem\", \"boer\", \"dader\", \"slachtoffer\", \"maatregel\", \"eigenar\", \"water\", \"besmet\", \"basis\", \"italiaan\", \"jammer\", \"bedrag\", \"soort\", \"geplaatst\", \"personel\", \"maatregel\", \"plan\", \"bedrijf\", \"vijftig\", \"organisaties\", \"med\", \"wijst\", \"vervolgd\", \"wegen\", \"schuld\", \"natur\", \"bepaald\", \"stichting\", \"onz\", \"geraakt\", \"stur\", \"medewerker\", \"uitsprak\", \"vanavond\", \"kinder\", \"ded\", \"hoogst\", \"daling\", \"winkel\", \"bronn\", \"onderzoek\", \"aangift\", \"september\", \"rotterdam\", \"loopt\", \"betaald\", \"aangehoud\", \"auto\", \"opgepakt\", \"supermarkt\", \"economie\", \"energie\", \"groei\", \"daald\", \"central\", \"landelijk\", \"buitenlander\", \"person\", \"bevestigd\", \"veren\", \"behalv\", \"welk\", \"betekent\", \"basis\", \"islamitisch\", \"aanleid\", \"pol\", \"persbureau\", \"opmerk\", \"genom\", \"geraakt\", \"brandwer\", \"geldt\", \"gewond\", \"deur\", \"twintig\", \"klant\", \"hoogst\", \"bureau\", \"rond\", \"komt\", \"procent\", \"maatregel\", \"enkel\", \"morg\", \"slachtoffer\", \"minder\", \"miljoen\", \"fran\", \"toekomst\", \"tijden\", \"honderd\", \"daarom\", \"mens\", \"winkel\", \"nederland\", \"vrijlat\", \"central\", \"facebok\", \"bestur\", \"normal\", \"geraakt\", \"geregeld\", \"ongeluk\", \"automobilist\", \"valt\", \"klein\", \"strat\", \"twitter\", \"plann\", \"brand\", \"agent\", \"kritiek\", \"bureau\", \"genom\", \"meisj\", \"organisaties\", \"italiaan\", \"vrij\", \"band\", \"anti\", \"geslag\", \"wanner\", \"reageerd\", \"gebeurd\", \"lokal\", \"wegen\", \"veilig\", \"meld\", \"belang\", \"auto\", \"politie\", \"nadat\", \"riep\", \"stond\", \"kilometer\", \"ker\", \"hag\", \"problem\", \"binn\", \"brandwer\", \"geplaatst\", \"plaats\", \"lop\", \"lokal\", \"waarschuw\", \"vrijlat\", \"terrein\", \"vorm\", \"richting\", \"schuldig\", \"benadrukt\", \"pol\", \"journalist\", \"risico\", \"debat\", \"komend\", \"vanavond\", \"brand\", \"aanpass\", \"samenlev\", \"zer\", \"onvoldo\", \"kamer\", \"hoogst\", \"stur\", \"plan\", \"dergelijk\", \"aandacht\", \"gekek\", \"vrijgelat\", \"hoger\", \"wegen\", \"gemeent\", \"rechtbank\", \"patie\", \"verdacht\", \"daarmee\", \"behandel\", \"liet\", \"leid\", \"amsterdam\", \"verker\", \"lang\", \"vrijdag\", \"universiteit\", \"plann\", \"fout\", \"legg\", \"toesprak\", \"gren\", \"par\", \"belangrijkst\", \"rapport\", \"correspondent\", \"gedwong\", \"avond\", \"woensdag\", \"schuldig\", \"vakbond\", \"zer\", \"hoogst\", \"schrijv\", \"aangekondigd\", \"bestur\", \"onderzocht\", \"geprobeerd\", \"erop\", \"noemt\", \"ded\", \"project\", \"gang\", \"student\", \"valt\", \"veilig\", \"special\", \"vanuit\", \"wek\", \"jong\", \"buitenland\", \"president\", \"ingezet\", \"zit\", \"water\", \"gemeent\", \"problem\", \"jongen\", \"bezuin\", \"geslot\", \"medewerker\", \"samenlev\", \"verdwijn\", \"personel\", \"waarschijn\", \"waarschuw\", \"betekent\", \"ziekenhuiz\", \"gezocht\", \"buitenland\", \"dur\", \"omgev\", \"wanner\", \"sluit\", \"gevond\", \"groenlink\", \"ban\", \"gang\", \"gedan\", \"person\", \"plek\", \"valt\", \"kinder\", \"beroep\", \"schrijft\", \"bescherm\", \"strat\", \"lijn\", \"zeker\", \"schrijv\", \"partner\", \"bang\", \"politiek\", \"klant\", \"bell\", \"grootst\", \"onzeker\", \"ontstan\", \"situatie\", \"verspreid\", \"fout\", \"rond\", \"zer\", \"ziekenhuiz\", \"onz\", \"uitdag\", \"gezocht\", \"sector\", \"geraakt\", \"netwerk\", \"derd\", \"zull\", \"komend\", \"neemt\", \"brit\", \"iederen\", \"video\", \"internet\", \"ervan\", \"thuis\", \"verband\", \"maatregel\", \"bedrijf\", \"verklar\", \"duizend\", \"binn\", \"bank\", \"central\", \"ding\", \"ingesteld\", \"waard\", \"uitdag\", \"debat\", \"italiaan\", \"toesprak\", \"provincie\", \"persconferentie\", \"klein\", \"universiteit\", \"geslag\", \"voorzitter\", \"leidt\", \"familie\", \"vind\", \"maandag\", \"middag\", \"student\", \"spanj\", \"vijftig\", \"verkop\", \"consument\", \"recht\", \"steld\", \"overigen\", \"rad\", \"volled\", \"onduid\", \"daarbij\", \"del\", \"komt\", \"rut\", \"auto\", \"miljoen\"], \"Freq\": [51.0, 41.0, 52.0, 44.0, 66.0, 35.0, 37.0, 46.0, 40.0, 34.0, 58.0, 43.0, 62.0, 28.0, 46.0, 44.0, 45.0, 38.0, 46.0, 28.0, 49.0, 35.0, 30.0, 62.0, 29.0, 41.0, 26.0, 44.0, 42.0, 27.0, 27.693809652247918, 32.04894007907625, 24.468535235416756, 30.087498816399542, 25.00075649153493, 28.559169249168093, 30.795040555580815, 43.32306020839945, 20.68015757834937, 20.766501883754216, 27.01801774018928, 49.77721808124413, 23.976394019522772, 29.747906315025336, 30.105087821120772, 19.134319987081412, 18.516410369104626, 39.76097092767998, 30.452864770364034, 30.229312191481576, 17.52316472519621, 17.248528180714167, 18.143055670592485, 21.555043203148802, 17.274887393590596, 19.453039716968984, 38.22605223206847, 34.384077508819004, 23.31978103296204, 24.127107171855556, 30.627553604086316, 34.522090190431506, 36.64987117823585, 36.71210483444333, 37.701416166752416, 30.130175637247092, 37.84112674338788, 34.81441156677837, 27.65411022124191, 50.34943299818946, 28.135297449849407, 30.88644075506836, 46.75863066602437, 32.92577733837744, 35.79988711398788, 32.770537365768796, 34.09380224443941, 40.311715165749824, 36.318900420428186, 32.032962589980954, 34.069548529365704, 31.395458345658035, 31.665159117406382, 31.46197318073106, 30.477072596383064, 19.11278529313118, 17.570167141141198, 16.944428334237838, 15.72214515926922, 15.518290364913993, 17.644759592149075, 14.114168734924236, 11.32809800627702, 12.906644357303847, 16.71713262180622, 10.870940858546609, 12.974838322316032, 13.099829622401943, 14.159906060745305, 14.756793781910085, 9.529883094317437, 11.950629491286072, 11.736409472773682, 18.35696278840712, 12.491234233785027, 9.932459890810804, 23.105598092924982, 29.164002942168242, 10.211420819340438, 21.81355768647932, 9.643530277291877, 9.81523173698082, 8.95036971322956, 7.917699584641321, 12.998777439007412, 9.520188418566386, 19.635877681072053, 14.80150778084632, 16.050550953853328, 15.36038833361875, 16.561181644005874, 14.344174917117922, 15.419288874737358, 15.425953964316205, 15.085914558830835, 14.246863262784004, 14.051036198543745, 19.241907602273233, 23.780258657337082, 15.68318333461194, 19.39015939174795, 20.49068551817983, 14.413824429975506, 14.293719515764673, 18.504578914869594, 7.695349505001209, 10.056537131690991, 8.468795978194816, 6.502691765650708, 9.514589302135024, 9.478821447134326, 6.026807463197184, 5.196288787550445, 23.449122837848968, 4.383154011967578, 6.4593898786762, 5.36569111443128, 5.176930145880781, 8.529747366603795, 5.685976414628766, 5.094492554075172, 4.987985181904389, 5.800677696056583, 3.658165882277086, 5.151489263388445, 4.766844686079832, 18.161837614786517, 10.136103844700251, 4.7725531288861145, 6.04440561707094, 7.115260829602975, 5.407704422144061, 5.796884700649079, 4.054910451139906, 8.44318699356919, 9.46098611643251, 9.851741664746575, 10.056864166750302, 6.415391131949144, 10.598714802709203, 8.48961007869853, 6.262154728766435, 7.054456759790806, 13.044537268906815, 6.45037288024653, 9.656919238909884, 7.565494580357914, 7.680433649894275, 6.953867499632555, 7.436685556623923, 7.438369634359246, 6.438689476342639, 8.661323209830988, 4.9402027006084, 4.169619993106091, 3.75162730678927, 3.819027736222908, 4.34866245387036, 3.301679129233083, 5.465773037382596, 2.968532010101011, 11.774986365622802, 6.5269203571415115, 2.8293335183901775, 4.2131521020825655, 3.02604357613901, 3.6707164545302344, 4.182066526054612, 3.5966614708075966, 3.225911576391953, 7.321439887865724, 3.497475758534736, 3.492579558375356, 2.251535939820237, 5.086625263216107, 3.1656976461857527, 3.9408777280114604, 2.533789349293628, 2.9464867019952887, 2.66743195223056, 3.266015401596327, 2.756318134023245, 4.562457485599566, 4.654610480361752, 3.9406418128777907, 6.324769397402448, 6.213322389248983, 3.513205181632238, 4.4970478303902, 4.773711623963173, 4.158705335758865, 5.022780686478703, 4.560212272534832, 4.141721892661944, 3.8785709684416823, 3.964700263457496, 3.7542415959742343, 6.4771832516585235, 6.894242134955144, 3.4783930127645992, 3.67491154108713, 3.467952495276971, 3.38932063896612, 5.097569439734921, 3.5202100689823284, 3.9032533715608912, 3.4414792971581707, 2.7138546894033744, 2.2610820761307906, 2.7605511791597013, 2.8227639567768246, 3.2369551867027697, 3.072406092513364, 3.3260723862625663, 2.4491591665012424, 2.2339279746975795, 4.149121477032919, 1.9852244904030256, 2.1356809629110742, 3.6287538569818376, 2.399904769384943, 2.5139960441858835, 2.9209754067926847, 2.9115936737873724, 3.264286947570002, 2.706179622550618, 8.230774804191869, 3.31371213083692, 4.530721688935472, 5.709762034167776, 3.4966935780800203, 3.779208237621025, 5.7428619740013245, 5.619273166311668, 3.2966675833536114, 3.832288214627351, 4.014883263807896, 3.832467218834212, 4.260682038769086, 3.4214873064490416, 3.5215954838454433, 3.2516717829816644, 5.341383780899265, 2.7937921785394906, 2.8628758011032542, 3.011869202226818, 3.4779898410943364, 1.9803979348864575, 2.4977842658334146, 1.8587163792753438, 2.3263789217783954, 2.356473892032103, 2.522779633211483, 3.1568108609777146, 1.5287016799996864, 2.5227438592357982, 3.569508501181454, 1.3247010364916654, 1.8802313690126498, 1.8007457837657976, 2.09265395357487, 3.818725638614651, 1.5305547945819211, 3.271345319649147, 1.5666840194304286, 1.2168049144854585, 2.2284605691423294, 1.2759663531919336, 1.7647740323355738, 3.1205274457656538, 1.1968836780066718, 1.4742464436451008, 2.176101506628825, 2.352845776928465, 1.7691570236096772, 2.252866798009435, 2.3118949899773624, 2.720657266438195, 2.6194907273769674, 2.1134859547194322, 2.2286469108004856, 3.346033003429221, 2.4792741768448567, 2.2707838993883804, 2.6511835264054118, 2.294993144971652, 2.2601348019302288, 2.1252807047269213, 1.3328072852018238, 1.6071906248255696, 1.426832789735107, 1.2651500684511, 1.2456778876629213, 1.7376967721947016, 0.9728162690017836, 1.0970436537874382, 1.3404518345290293, 2.7889212306952946, 1.141449590421178, 0.960295526705008, 1.0665218359206572, 1.3674331701479125, 1.1962320690475874, 0.7442072202208032, 0.9046417865895052, 0.8492779080663565, 0.8579395404320991, 2.183070051997372, 0.7293505036813789, 0.8026550961414177, 1.705870577162327, 0.9597480802268958, 1.0163729509918369, 1.8001731583587282, 0.7866000544723585, 0.7889122927603188, 0.793799803536098, 0.8837475444100592, 1.3726203931992278, 1.105605050212079, 1.8407018032153493, 1.157482101272321, 1.442951651255845, 1.519934530733827, 1.187066532319287, 1.1397225770292778, 1.1706908194743046, 1.0535610615102535, 1.1927686107586126, 1.1134852823741381, 1.045774410838423, 1.0559194617763163, 1.7728276105205591, 1.3171091520947975, 2.1442239924263684, 2.211957582292456, 1.4709525353159163, 0.9685190520249546, 1.109563893957921, 1.3294083896575273, 1.632827752106174, 1.154609022268239, 0.8222312971523327, 0.7395629124222809, 0.8871467799061524, 0.6367768491423117, 1.4473716478080196, 0.7699155115815615, 0.8600252855434456, 1.2460294125536764, 0.9314482796090903, 0.8144115579933648, 0.896127442753044, 1.288239691812215, 0.5894719618788788, 0.6399855716668117, 1.1173039522283061, 0.8557645962314769, 0.6589686928453081, 0.5081780724768791, 0.5410694927574909, 0.519470734499906, 0.8999200739914054, 0.7523386237929178, 1.3975917736632102, 1.9073844584829491, 0.9758295497296993, 0.9595683814226418, 1.0082122209660735, 1.2339185441927196, 1.1708150406569067, 0.9729026647751525, 0.8735541156048218, 1.1187981031828649, 0.9905174233681451, 0.8735519669067027, 2.0317613585757477, 1.4613842446601617, 0.8949539820531623, 0.9535631428857846, 0.943474578708156, 1.9312640283774163, 1.1069696459481877, 0.806872955521068, 1.936991214540878, 0.5350532534684714, 0.6400923135668064, 0.9516493566468397, 0.8441743786973038, 0.6919086432979847, 0.5299707956000523, 1.634093273882412, 0.84508461708183, 0.644852898821347, 0.9784418724584248, 0.5350532944296084, 0.9647520870454991, 0.8985368526991216, 1.3227869948825726, 0.6255767925948101, 0.6960889730869868, 1.1332487548696797, 0.5350534173130191, 0.6924536721857764, 0.8112359719807112, 0.5758310892958244, 0.7117180225660187, 1.5576632331344338, 0.7570930496727581, 0.8689529992513236, 1.2985644627233115, 1.1457879419466617, 0.9866581849899404, 0.9913464328766891, 0.9743946663643966, 0.9492864725027583, 0.7706659320009284, 0.9412916777996793, 0.8208650341244268, 0.8216582875019236, 2.952891432905155, 1.7263954460617308, 0.983668302232936, 0.913859016481992, 1.2306167853673744, 0.8751791895257964, 0.8797879268617612, 1.3215626965231089, 1.0532609394564543, 0.7680186744460118, 0.79836979018749, 0.8734322875753995, 0.7142275238823741, 1.2330123538992306, 0.6771250602126078, 1.2568858989430443, 0.4229354073644404, 0.8375721600333833, 0.8030566176289454, 0.7167326601509604, 0.6312244209723676, 0.464954172539067, 0.46495371067766056, 0.44486163813525825, 0.7249216760541267, 0.46295949970800976, 0.5193117783538156, 0.589805045319912, 0.37589091505942546, 0.42293512314203646, 1.1977655072493794, 0.6568806799894783, 0.8980055171221848, 0.6443462588076249, 1.726987054995593, 0.7788152887943953, 0.8100426622073112, 1.1597112538043204, 0.7926429929699106, 0.7347174012069321, 0.7027879274006108, 0.6621154171701857, 1.4814018756896814, 1.7378050368969915, 1.112393853537393, 1.9107223803214728, 1.0185385914863752, 1.5610160480178605, 0.954912829026312, 1.5916232870251776, 0.9128634699386579, 0.5168244845716762, 0.7648383463749779, 0.5293082082432184, 0.5732896186715525, 1.2535436391217896, 0.9341251460892698, 0.8299296763603383, 0.7907222072977129, 1.5555829817419429, 0.670452353435199, 0.6747064775708451, 0.6864031161870703, 0.4520596965945939, 0.5189496776337282, 0.5526062329315533, 0.4845963169343465, 0.8183950404943362, 0.648299295032227, 0.5724877484455826, 0.40028383122397876, 0.573289284920522, 1.4253527956244734, 0.6239655741459276, 0.7345127932374347, 0.7966690499100402, 0.6979998297447525, 0.6957468100380044, 0.7052519726375128, 0.6531470955009936, 0.6256873957124717, 0.5971930009790767, 1.468879986846919, 1.6067093549221867, 0.8336716761221359, 1.318328702326818, 0.41778402603444514, 0.7521657236694034, 1.1990087805441105, 0.46272158348899656, 0.5101722364105497, 1.1990753381701502, 0.4777181354923654, 0.33182413478849043, 0.858268677974976, 0.5955712935912248, 0.7288357265563966, 0.6909857243047381, 0.7183294905315164, 0.5187045798052448, 0.526232821082963, 0.4742684709479116, 0.5340440470258772, 0.4441342188721588, 0.6062735877266028, 0.40305927012982595, 0.8035089075462609, 0.46271673511020317, 0.6256711766859451, 0.33013753011828845, 0.331824622495233, 0.6219773431952744, 0.6219768267999, 0.6446343623808514, 0.8016371464456884, 0.7109654629828718, 0.5910925391313974, 0.5287122074074662, 0.7005301452560821, 0.5955714657230163, 0.5628052611782438, 0.5504511903718071, 0.5215741315237732, 0.5271703081966365, 1.58346263200752, 0.6664201991420124, 0.6593281545433746, 0.504221267410955, 0.6681610800243806, 0.49727004158378685, 0.60569303635344, 0.5164805141954888, 1.0088853529057087, 0.4985716324117061, 0.8440558216907241, 0.4661109903719963, 0.4665145465291754, 0.2875164494460536, 0.4160077067633532, 0.4523515247071589, 0.5825168571510703, 0.7894564930795341, 0.546893689602347, 0.3984141804030087, 0.5012955230717213, 0.5305425839776864, 0.37223549702284114, 0.3316003101791867, 0.3926474652297711, 0.4342581773888095, 0.4464086600685359, 0.640318426801667, 0.6990130918819143, 0.2734926587822995, 0.45048519718120156, 0.8260307669404999, 0.39091588322476023, 0.8922081806696476, 0.60569303635344, 0.4549859546229512, 0.6153484462766846, 0.49551978622343257, 0.5431454608208747, 0.5288833517745527, 0.6149333484234903, 0.5014678925056607, 0.9025322260909877, 0.8052300287514753, 0.8734099838243878, 0.939326570115952, 0.6427597856496546, 0.542507543510495, 0.44454529094305534, 0.3849287578394535, 0.45292652844492814, 0.43418393789071585, 0.6973537125699133, 0.38492840690624713, 0.5627736353803295, 0.3563918721611325, 0.32611004631394946, 0.41630206115852014, 0.3765209496805246, 0.7123442255479039, 0.41630253742501455, 0.5410461072390909, 0.4484355359359691, 0.35682148960574156, 0.40238653179171224, 0.3563919473611053, 0.8351940093802883, 0.2835817544962648, 0.4275983754726878, 0.35931905616904825, 0.250340208119601, 0.30673973652011405, 0.5429491177507794, 0.9345083574586804, 1.4525448271535997, 0.5638334536636642, 0.6858530297963316, 0.5204531461541503, 0.5001803364200789, 0.6703381724746609, 0.7281623894265364, 0.6465622973409678, 0.5026141584731084, 0.5468031163568033, 0.5343888541803263, 0.49843399251839127, 0.5588886543855119, 0.4576375560743014, 0.445071039019561, 0.5247262945382034, 0.5493454813787462, 0.43545424869069094, 0.41762470602071944, 0.6007978962672749, 0.44453354381855903, 0.33303249004295843, 0.5996914722686284, 0.3553750518036778, 0.43545464642740767, 0.40923226242900157, 0.5107595708612778, 0.9007692177699019, 0.26800643467466506, 0.384903184749654, 0.6413883600634759, 0.5575936260896283, 0.2830936821168459, 0.35373733109880073, 0.6931767431566408, 0.2904144638989609, 0.24534709550589268, 0.4706808351248433, 0.4354532941225708, 0.41762522307845124, 0.23927349674648085, 0.2604938841345705, 0.2628297322115175, 0.34681862136364516, 0.23038153561220057, 0.34245914853239745, 0.5324156589357278, 0.3809971317754978, 0.36377839338143453, 0.8881491112948663, 0.733563008922464, 0.43545659533731973, 0.3705652533949885, 0.4341516211696732, 0.37647430847468216, 0.40734213800367697, 0.37281791483762794, 0.3607381336922929, 0.3619947430751831, 0.6032096765032023, 0.4694516070748929, 0.625194008681383, 0.7571348425474694, 0.3944937045077287, 0.3198515115416317, 0.36056635452951163, 0.33038091317375656, 0.3422935155199578, 0.3303808429302142, 0.30316428001341994, 0.37318964591538323, 0.6093049896466027, 0.66292343087608, 0.3199450408182634, 0.2516537772461584, 0.3016488107091088, 0.3445739018786292, 0.31837899616346427, 0.2516537596852728, 0.190504947303183, 0.21482162850048428, 0.226237398271683, 0.6023777822312166, 0.19557370375787547, 0.22671475582457054, 0.24075879309790169, 0.20068853997634592, 0.2736121368745571, 0.2806417066920247, 0.48159794480824547, 0.4109068457337123, 0.31837868006752373, 0.597332329071697, 0.42023065744857874, 0.34289329000626617, 0.5624761487330588, 0.4266629991081479, 0.3337665465494472, 0.41568280954302733, 0.372148636617838, 0.37504927345541117, 0.3183790312852354, 0.3344026018253765, 0.7242368375339292, 0.7397821917660722, 0.4336086020752037, 0.44429474490609855, 0.4026633344848335, 0.41837495491367116, 0.4023761223974036, 0.5623972298596663, 0.43729624381274584, 0.25934031332835833, 0.40237535788481993, 0.2281995598703459, 0.22550497410822481, 0.22550497410822481, 0.25934046623087503, 0.3854283462817923, 0.22060866855641742, 0.20417747359358607, 0.38620282810954454, 0.22819959045084925, 0.2255046988836947, 0.249168855659036, 0.2281981378769403, 0.2659092806717067, 0.20578781231930696, 0.4279973855161629, 0.25808379102635587, 0.2392504822354089, 0.3160257104539955, 0.2356467075282944, 0.47163236935568087, 0.37629024969130165, 0.36535411124554956, 0.4766230157603121, 0.34642640044077205, 0.32325974258412254, 0.30432512058558875, 0.26856660409050015, 0.2764948136465917, 0.26886173652829676, 0.27650010407367065, 0.2704273971386285, 0.44332295105071623, 0.3283064102387178, 0.3132191334622528, 0.28375940194635624, 0.18522536580643975, 0.18522544538141883, 0.18522532601895023, 0.2657455364832043, 0.17186944163720574, 0.17199109188646713, 0.17805727158508078, 0.16694697321909674, 0.4083611269691261, 0.2837995674170445, 0.16819069035455428, 0.1576424400126515, 0.1485647651246776, 0.3020773234045549, 0.15220797623229956, 0.17199091284276422, 0.15446699052577895, 0.1494303220658245, 0.13765064892273132, 0.3040933157119383, 0.14897347216408074, 0.22877565769839356, 0.1776818965150378, 0.20399598932059787, 0.13743144969599602, 0.1541529777114754, 0.1465750723478786, 0.21104378606733976, 0.16264140982626904, 0.18084108286556183, 0.16663573558218844, 0.1892623636448883, 0.36869770407442215, 0.30051438755602783, 0.3256561381149809, 0.23335866476377407, 0.27245940774961314, 0.19330423915961423, 0.15616574021999943, 0.16327044545917685, 0.3393144672230527, 0.14504341550900074, 0.18433388936126383, 0.250499387522582, 0.152784814565197, 0.15085319137213604, 0.15689455975915073, 0.14162850427867993, 0.16975650231966377, 0.15721565577740548, 0.2650526951824127, 0.12310904424092688, 0.1912993345693418, 0.3377644392599754, 0.18387702021691996, 0.0663671277386399, 0.2039409348089333, 0.09813933625936971, 0.16985496274254272, 0.14489582826000605, 0.14682641759982945, 0.1312698023662751, 0.13562480574417562, 0.13921803786064407, 0.16320766237165954, 0.41412180614620153, 0.36626118447932016, 0.20095742498181773, 0.21247632048378587, 0.3873257561487359, 0.21157147608120297, 0.16914994604224848, 0.1691498540678225, 0.16258856407388683, 0.34404277524136584, 0.12623164373380516, 0.17905739441676247, 0.16903449974278495, 0.14074280761758987, 0.24863856775388307, 0.14796742636898316, 0.2481620666478756, 0.2214822171401663, 0.2100818398834887, 0.16258880320739433, 0.1522199007429597, 0.15436840493847262, 0.09883351074912783, 0.24140165202173908, 0.26769883273280415, 0.11347987703907199, 0.1115853142336314, 0.057604341767024794, 0.14151738864068727, 0.10372107773179265, 0.143777099114627, 0.13169310354212524, 0.2283235508662614, 0.17564025017422913, 0.15703352948459623, 0.18786019314574062, 0.14352881415175114], \"Total\": [51.0, 41.0, 52.0, 44.0, 66.0, 35.0, 37.0, 46.0, 40.0, 34.0, 58.0, 43.0, 62.0, 28.0, 46.0, 44.0, 45.0, 38.0, 46.0, 28.0, 49.0, 35.0, 30.0, 62.0, 29.0, 41.0, 26.0, 44.0, 42.0, 27.0, 31.10642733358893, 36.01223015576198, 27.779319390297367, 34.160835879588134, 28.46885462566805, 32.55553410014191, 35.165771340161186, 49.56892682088168, 24.019210634028838, 24.257204774517415, 31.57321477611208, 58.310786355911425, 28.0899872235836, 34.888680418607024, 35.33391208183971, 22.530535096665446, 21.81137972044425, 46.87015344358531, 35.96148331854694, 35.787464097256255, 20.75160141702363, 20.469723349814654, 21.555972289502453, 25.629068969361256, 20.57632819959204, 23.25041658691561, 45.82019390703082, 41.29050101456354, 28.140293357625133, 29.16313861706621, 37.037269509219584, 41.862806347798106, 44.51529698703709, 44.675546164464485, 46.08622124955661, 36.5419510296734, 46.61310052464749, 43.053539613173974, 33.69552783128414, 66.24487686504948, 34.584343151547145, 38.66641429756721, 66.22993090794178, 42.26809485379229, 47.16182459532151, 43.111703856184576, 46.710895265333455, 62.073152951634476, 52.434597126389775, 42.24205861427456, 52.751271360585676, 46.931364290397404, 62.883307004865515, 62.59717528216964, 44.79150136992948, 23.073526885054694, 21.632380220937222, 20.880754589653, 19.543792855659472, 19.544896602398786, 22.59211495758552, 18.117975778268587, 14.695405029375967, 16.906982577649057, 21.907703440644607, 14.510246953109377, 17.4215051162321, 17.67790783259156, 19.24594725442307, 20.20754343866535, 13.144056194927606, 16.52166594031119, 16.227292676744433, 25.522563287918892, 17.42166577321728, 13.884258329495662, 32.30294300397844, 41.29051056350062, 14.459877057123677, 30.97427947692758, 13.705040508429347, 13.955971214708237, 12.767206534481792, 11.37838474814475, 18.68819228148835, 13.689100951863164, 28.44422825410583, 21.693312911203456, 23.737264865270816, 23.161843088182884, 25.891819656435768, 21.946141741924187, 24.032283766991533, 24.52727249054979, 23.733851481532316, 21.94551091485954, 21.74875188210042, 40.1735456601999, 62.59717528216964, 27.572627952903687, 51.32379697907639, 62.883307004865515, 39.84337010635802, 52.44674093367473, 22.549939064377888, 11.313367581352724, 14.955852193936487, 12.641396843609078, 10.308123019217748, 15.310758529976864, 16.3793939411901, 10.597196436667168, 9.389344547082203, 43.43286512869247, 8.306774717294163, 12.36861262809645, 10.300113137632925, 9.944533056572435, 16.41358052485007, 10.996633663446822, 9.914963083186352, 9.881860225802095, 11.64292651771512, 7.394637961792397, 10.590073691520566, 9.822621448923664, 37.52704758094839, 21.03620593801115, 10.016966445384623, 12.768030200454927, 15.073717293928217, 11.725166126549837, 12.704272158605361, 8.893849890128532, 18.703133275647616, 21.148314838281284, 22.938562067946187, 23.541497273663193, 14.244613244475389, 26.089053005632472, 20.218080203599843, 13.945016978433598, 16.874147898996757, 52.44674093367473, 15.241198822293267, 35.072076274482264, 21.288449793480428, 23.967347738708302, 19.7321116818314, 34.285752188384095, 39.99854302184561, 27.122972354050237, 13.447620084427372, 9.014327925592198, 8.38377271317346, 7.7034094920141785, 8.245130265921388, 9.47414123587135, 7.273775118544385, 12.69775014885151, 7.075803552354994, 28.082849871701235, 15.71295335563269, 6.900494694605502, 10.457572519191114, 7.7459901841186865, 9.399924817894444, 10.847601127931249, 9.365190743464483, 8.403880214209508, 19.505300400489624, 9.34436471096704, 9.383764580232807, 6.121282341688245, 13.885582821575976, 8.656322449689622, 10.77853243366187, 6.949707225094911, 8.141891965545684, 7.37544720743452, 9.03927945311062, 7.75472473871838, 14.396070526311094, 15.392279346875641, 12.568153266252914, 27.329307806963396, 28.747332367991433, 11.195367622095043, 20.218080203599843, 23.63057739725063, 17.441648329147238, 41.072890246465924, 29.870647492297206, 25.891819656435768, 31.063596212919595, 52.44674093367473, 31.94998454856334, 11.425606759481012, 12.509248271667722, 7.29365028633297, 7.85436937011028, 7.757803799361141, 7.597997038662438, 11.750920169009017, 8.291138311990782, 9.225290392841249, 8.595022340068654, 6.945909785079983, 6.021454581473792, 7.4117171799092585, 7.651602592189152, 8.798837304963177, 8.552248333228249, 10.000343701786083, 7.446752785333067, 6.815745075722187, 12.694030358391029, 6.176965684077285, 6.662189496783286, 11.367287574204196, 7.7278362458154595, 8.112294972588245, 9.477899685840274, 9.546397130841596, 10.77853243366187, 9.06825217908855, 28.082849871701235, 11.561486678568476, 17.157197644881496, 27.572627952903687, 14.300143851865062, 16.856150962957944, 37.52704758094839, 46.710895265333455, 14.45591529123305, 26.829351018236284, 43.43286512869247, 35.96836441051026, 62.883307004865515, 21.03620593801115, 32.30294300397844, 62.073152951634476, 9.640954165298982, 6.578414425152259, 6.8211743749959, 8.314111183380682, 10.035408923445525, 5.934105516227431, 7.601310209836318, 5.79470729706894, 7.711769898826407, 7.8832026186568624, 8.494445494532004, 11.300452722792874, 5.54212172016678, 9.719449471537786, 13.863837891485584, 5.395190226357555, 7.840286084394233, 7.556587318039508, 8.790984977893666, 16.173238070266805, 6.725389164829363, 14.618931945710374, 7.062009655374605, 5.490291431830328, 10.262578046128015, 5.971812684800089, 8.368550861497074, 14.897848256893987, 5.787239901703985, 7.367053867386677, 10.909332094068734, 12.133962698483478, 8.919954192476416, 13.107758291935909, 13.605411463042152, 18.883553593327964, 17.68361626784679, 13.32347549502948, 15.671677222515536, 66.24487686504948, 28.983034304822006, 20.262084257864252, 46.710895265333455, 27.572627952903687, 43.053539613173974, 7.207944699485651, 5.659033809688287, 7.118645767295412, 6.460802160786708, 5.90191387584457, 5.8173306498079835, 8.398283150589945, 5.130317076999193, 5.911078465181308, 7.682920909276984, 16.944043081248108, 7.393632531850949, 6.517926604796837, 7.718374443043759, 10.016966445384623, 8.859667262204983, 5.6420621257429, 6.949707225094911, 6.84870478310673, 7.030233883288932, 18.883553593327964, 6.309731423006431, 7.077102627032612, 15.043645553151052, 8.574591210920062, 9.546397130841596, 17.51761306015161, 7.695183640303334, 7.7459901841186865, 7.833735688482844, 8.754163629394041, 15.532439801076992, 11.851494528834923, 35.24133096501786, 15.079113861496397, 23.897177423824374, 29.426261402983286, 16.750057392012565, 15.265472621734824, 21.74875188210042, 13.96149444506163, 32.30294300397844, 20.283543171663094, 20.303123787469694, 44.675546164464485, 6.995397159880188, 6.297563124667227, 10.29769972220589, 11.483618827966831, 7.711769898826407, 6.0854034165249296, 7.37544720743452, 9.251638412558124, 11.367287574204196, 8.341584215980165, 6.031670651119029, 5.6420621257429, 7.030233883288932, 5.474144491653366, 12.69775014885151, 6.760793296618373, 7.840286084394233, 11.406478621040872, 8.894346521659772, 7.81963612265762, 8.616199477369653, 12.509248271667722, 5.90191387584457, 6.814050681070004, 11.94110763953195, 9.41556263750501, 7.31031129399334, 5.847204452186714, 6.255955113491762, 6.006554088269192, 10.444827712767966, 8.739215928890644, 18.11603043074867, 26.878978780353957, 12.768030200454927, 12.519546235457867, 13.797764924900306, 20.63252503202572, 20.10754092762135, 13.05377922846027, 11.195367622095043, 41.29051056350062, 24.164583661619933, 13.605411463042152, 6.989978609077826, 7.00855078322242, 5.035221527419278, 5.444624241431302, 5.834556144391992, 15.794451804593171, 9.251638412558124, 6.980984804022084, 16.76416827143607, 4.743674585387235, 6.014482879779233, 8.975897436091199, 8.406668081590084, 6.959857448019588, 5.474144491653366, 17.68361626784679, 9.605778656370703, 7.367053867386677, 11.356155817012263, 6.255955113491762, 11.332781268068489, 10.577054930617434, 16.09555678416532, 7.651602592189152, 8.54669672508253, 13.916756397473224, 6.844385316855685, 8.867209762536547, 10.479737299298817, 7.446752785333067, 9.922303412900963, 28.140293357625133, 10.796375336157933, 13.863837891485584, 28.082849871701235, 28.983034304822006, 21.169852028757344, 23.967347738708302, 26.366207623198964, 27.674125449477977, 13.884258329495662, 39.99854302184561, 21.03620593801115, 22.375160820472566, 15.043645553151052, 9.251638412558124, 6.207545797202412, 6.45020697676872, 9.47414123587135, 7.4117171799092585, 7.7370767350113185, 11.64292651771512, 9.330251605358049, 7.367053867386677, 8.40596014808404, 9.364844687340815, 7.7278362458154595, 13.96149444506163, 7.682920909276984, 14.318484148736578, 5.659033809688287, 11.216660221756516, 10.796375336157933, 9.72525833726231, 8.71110975954198, 6.555985108169753, 6.620333624619169, 6.362384888020368, 10.909332094068734, 6.982492966729515, 7.91924503088143, 8.995132173907205, 5.787239901703985, 6.5711763208447085, 20.303123787469694, 10.999692138205868, 16.565364205739016, 10.883275878325195, 52.44674093367473, 15.19089394800226, 16.750057392012565, 35.33391208183971, 30.97427947692758, 23.073526885054694, 25.082899584641208, 16.944043081248108, 6.014482879779233, 7.762529857462405, 5.7845338419912595, 10.356836664654637, 6.620333624619169, 10.363968058324902, 6.460802160786708, 12.36861262809645, 7.2475110638048585, 4.715112922119329, 7.386169923909985, 5.444624241431302, 5.911078465181308, 13.082466044680373, 10.03484540970102, 9.756901684630895, 9.445227707136045, 19.224286013142343, 8.363818212888262, 8.739215928890644, 9.368562349275019, 6.20928205783455, 7.446752785333067, 8.552248333228249, 7.563454425028678, 12.951571457131008, 10.402745941916063, 9.789878260246807, 6.84870478310673, 10.42488524234561, 27.329307806963396, 11.47016871458994, 15.241198822293267, 18.11603043074867, 14.459877057123677, 24.989637629100585, 27.358528818845663, 18.70978090584169, 52.44674093367473, 35.96836441051026, 6.362384888020368, 10.356836664654637, 6.995397159880188, 11.367287574204196, 5.05611294024738, 9.251638412558124, 15.049666657625524, 5.972324030825073, 7.04966063314094, 16.605167168075482, 6.652518052224084, 4.743674585387235, 12.393671190681935, 8.739215928890644, 11.300452722792874, 10.883275878325195, 11.47016871458994, 8.362396401702687, 8.496946116327, 7.757803799361141, 8.9125164906232, 7.510137276337789, 10.29769972220589, 6.941850021133386, 13.892509824798346, 8.076539893571717, 11.191016122735727, 6.006554088269192, 6.255955113491762, 12.088036893350411, 12.425100520615926, 12.954499218049454, 16.944043081248108, 15.392279346875641, 12.704272158605361, 10.536489152442542, 21.907703440644607, 15.125029636441136, 13.863837891485584, 13.885582821575976, 13.833150859877382, 21.676315795015245, 10.035408923445525, 5.834556144391992, 6.45020697676872, 5.847204452186714, 8.01757758879259, 6.055073029526307, 7.402229560856516, 6.527874671494827, 13.885582821575976, 6.941850021133386, 12.790903441564367, 7.380343260234824, 7.424617328268433, 4.715112922119329, 7.273775118544385, 7.987765379100494, 10.363968058324902, 14.428704182664909, 10.03484540970102, 7.651602592189152, 9.640954165298982, 10.300113137632925, 7.31031129399334, 6.517926604796837, 7.718374443043759, 8.540354052728263, 8.84069348918451, 12.69775014885151, 14.11609661984723, 5.6039277820247975, 9.349168637428258, 18.70978090584169, 8.362396401702687, 40.1735456601999, 20.63252503202572, 11.40809816633756, 26.089053005632472, 14.738476016565649, 21.148314838281284, 20.303123787469694, 51.32379697907639, 22.67890095156832, 7.840286084394233, 8.616199477369653, 9.944533056572435, 11.406478621040872, 7.982708196648642, 8.141891965545684, 6.84870478310673, 6.006554088269192, 7.261483621492026, 6.982492966729515, 11.58127349060758, 6.5711763208447085, 9.881860225802095, 6.309731423006431, 5.834556144391992, 7.597997038662438, 7.04966063314094, 13.640737422839019, 8.112294972588245, 10.608474018904342, 8.867209762536547, 7.31031129399334, 8.363818212888262, 7.629119315742255, 18.11603043074867, 6.297563124667227, 9.545751852718908, 8.034576494322776, 5.6039277820247975, 6.900494694605502, 13.082466044680373, 24.666756428865106, 41.29051056350062, 13.885582821575976, 22.240050294783508, 14.213561628391012, 13.863837891485584, 28.44422825410583, 37.52704758094839, 29.916106007331614, 15.22072414325036, 21.991884854838553, 22.966446016605246, 22.59211495758552, 66.24487686504948, 18.70978090584169, 62.59717528216964, 6.980984804022084, 8.141891965545684, 6.894726016468613, 6.689999173294845, 9.73859231314654, 7.31031129399334, 5.971812684800089, 10.909332094068734, 6.620333624619169, 8.13844201695801, 7.695183640303334, 9.789878260246807, 18.138450993577752, 5.474144491653366, 8.398283150589945, 15.043645553151052, 13.442046275257306, 6.900494694605502, 8.867209762536547, 17.67790783259156, 7.424617328268433, 6.45020697676872, 12.593256918425395, 11.678524351092019, 11.374680481971325, 7.00855078322242, 7.7034094920141785, 7.81963612265762, 10.411192453218336, 6.945909785079983, 10.363968058324902, 16.56846770613869, 12.113947613413023, 12.266034005667692, 51.32379697907639, 52.44674093367473, 17.980907278011152, 12.991499725242294, 20.596200478155712, 14.955852193936487, 21.74875188210042, 23.541497273663193, 23.897177423824374, 34.584343151547145, 8.363818212888262, 7.402229560856516, 10.259048125917541, 12.937553354866422, 6.945909785079983, 6.176965684077285, 6.980984804022084, 7.118645767295412, 7.446752785333067, 7.2512259765171105, 6.662189496783286, 8.291138311990782, 13.640737422839019, 14.9434660913851, 7.510137276337789, 5.972324030825073, 7.7278362458154595, 8.84069348918451, 8.398283150589945, 6.668663320719023, 5.130317076999193, 5.8530175221783285, 6.20928205783455, 16.605167168075482, 5.6039277820247975, 6.517926604796837, 6.941850021133386, 5.79470729706894, 8.132269701508832, 8.403880214209508, 15.01963456229894, 14.072651039492204, 10.363968058324902, 28.082849871701235, 16.856150962957944, 12.768030200454927, 30.97427947692758, 20.00214386131112, 13.152706772776092, 22.569261675541615, 22.118384983347337, 26.972125471288972, 13.731198549339327, 38.66641429756721, 6.362384888020368, 7.879614081355617, 5.474144491653366, 6.201480026687887, 5.911078465181308, 6.555985108169753, 8.574591210920062, 12.381671788173664, 9.811151081151918, 6.031670651119029, 9.529632593523527, 5.469228846540832, 5.444624241431302, 5.54212172016678, 6.662189496783286, 10.047184582087981, 5.8530175221783285, 5.6039277820247975, 11.142937204553844, 6.760793296618373, 6.689999173294845, 7.393632531850949, 6.8872656354300545, 8.245130265921388, 6.652518052224084, 14.11609661984723, 8.598378761306131, 8.051675237187382, 10.70636324503353, 8.13844201695801, 16.56846770613869, 18.0177074862979, 19.00797477394671, 44.51529698703709, 21.693312911203456, 18.182909528615568, 26.051790154335063, 14.594594867901293, 18.067890184191825, 21.676315795015245, 28.082849871701235, 23.897177423824374, 8.341584215980165, 8.54669672508253, 8.314111183380682, 7.718374443043759, 5.130317076999193, 6.014482879779233, 6.527874671494827, 9.383764580232807, 6.176965684077285, 6.309731423006431, 7.563454425028678, 7.2475110638048585, 18.182909528615568, 13.14999824411053, 7.8832026186568624, 7.7034094920141785, 7.473157187790726, 15.241198822293267, 7.762529857462405, 8.860127113411615, 8.051675237187382, 7.833735688482844, 7.261483621492026, 16.565364205739016, 8.13844201695801, 12.69775014885151, 10.404291544398856, 12.280112852679103, 8.656322449689622, 9.789878260246807, 9.336917945368414, 15.392279346875641, 11.142937204553844, 16.159678013590646, 13.810922636690496, 26.26067986097409, 8.034576494322776, 9.561864615483566, 10.708653622282693, 7.91924503088143, 9.445986546223718, 6.814050681070004, 5.689731621895201, 6.201480026687887, 13.082466044680373, 5.8530175221783285, 7.563454425028678, 10.300113137632925, 7.243581517541082, 7.2475110638048585, 7.7459901841186865, 7.31031129399334, 8.895851217713492, 8.444934404249365, 14.45591529123305, 7.7278362458154595, 12.482103784561144, 23.737264865270816, 13.689100951863164, 5.035221527419278, 16.42230555941351, 8.097312257765788, 14.39034223931638, 12.317664979012982, 13.885582821575976, 12.790903441564367, 13.48318092676909, 15.703106155403214, 34.584343151547145, 6.995397159880188, 8.141891965545684, 5.490291431830328, 6.255955113491762, 12.330893607759599, 7.243581517541082, 5.972324030825073, 6.45020697676872, 6.555985108169753, 13.96149444506163, 5.395190226357555, 7.695183640303334, 7.879614081355617, 7.00855078322242, 12.393671190681935, 9.188172006552913, 15.49001622073984, 14.329262861479785, 13.97300524853265, 10.987730675048137, 10.70636324503353, 10.982870555188429, 7.380343260234824, 18.117975778268587, 21.709898856350186, 9.445227707136045, 9.781886409055975, 5.05611294024738, 12.559034492546271, 9.584348347600496, 14.25391506323326, 13.107758291935909, 27.122972354050237, 24.666756428865106, 19.544896602398786, 51.32379697907639, 37.52704758094839], \"Category\": [\"Default\", \"Default\", \"Default\", \"Default\", \"Default\", \"Default\", \"Default\", \"Default\", \"Default\", \"Default\", \"Default\", \"Default\", \"Default\", \"Default\", \"Default\", \"Default\", \"Default\", \"Default\", \"Default\", \"Default\", \"Default\", \"Default\", \"Default\", \"Default\", \"Default\", \"Default\", \"Default\", \"Default\", \"Default\", \"Default\", \"Topic1\", \"Topic1\", \"Topic1\", \"Topic1\", \"Topic1\", \"Topic1\", \"Topic1\", \"Topic1\", \"Topic1\", \"Topic1\", \"Topic1\", \"Topic1\", \"Topic1\", \"Topic1\", \"Topic1\", \"Topic1\", \"Topic1\", \"Topic1\", \"Topic1\", \"Topic1\", \"Topic1\", \"Topic1\", \"Topic1\", \"Topic1\", \"Topic1\", \"Topic1\", \"Topic1\", \"Topic1\", \"Topic1\", \"Topic1\", \"Topic1\", \"Topic1\", \"Topic1\", \"Topic1\", \"Topic1\", \"Topic1\", \"Topic1\", \"Topic1\", \"Topic1\", \"Topic1\", \"Topic1\", \"Topic1\", \"Topic1\", \"Topic1\", \"Topic1\", \"Topic1\", \"Topic1\", \"Topic1\", \"Topic1\", \"Topic1\", \"Topic1\", \"Topic1\", \"Topic1\", \"Topic1\", \"Topic1\", \"Topic2\", \"Topic2\", \"Topic2\", \"Topic2\", \"Topic2\", \"Topic2\", \"Topic2\", \"Topic2\", \"Topic2\", \"Topic2\", \"Topic2\", \"Topic2\", \"Topic2\", \"Topic2\", \"Topic2\", \"Topic2\", \"Topic2\", \"Topic2\", \"Topic2\", \"Topic2\", \"Topic2\", \"Topic2\", \"Topic2\", \"Topic2\", \"Topic2\", \"Topic2\", \"Topic2\", \"Topic2\", \"Topic2\", \"Topic2\", \"Topic2\", \"Topic2\", \"Topic2\", \"Topic2\", \"Topic2\", \"Topic2\", \"Topic2\", \"Topic2\", \"Topic2\", \"Topic2\", \"Topic2\", \"Topic2\", \"Topic2\", \"Topic2\", \"Topic2\", \"Topic2\", \"Topic2\", \"Topic2\", \"Topic2\", \"Topic3\", \"Topic3\", \"Topic3\", \"Topic3\", \"Topic3\", \"Topic3\", \"Topic3\", \"Topic3\", \"Topic3\", \"Topic3\", \"Topic3\", \"Topic3\", \"Topic3\", \"Topic3\", \"Topic3\", \"Topic3\", \"Topic3\", \"Topic3\", \"Topic3\", \"Topic3\", \"Topic3\", \"Topic3\", \"Topic3\", \"Topic3\", \"Topic3\", \"Topic3\", \"Topic3\", \"Topic3\", \"Topic3\", \"Topic3\", \"Topic3\", \"Topic3\", \"Topic3\", \"Topic3\", \"Topic3\", \"Topic3\", \"Topic3\", \"Topic3\", \"Topic3\", \"Topic3\", \"Topic3\", \"Topic3\", \"Topic3\", \"Topic3\", \"Topic3\", \"Topic3\", \"Topic3\", \"Topic3\", \"Topic4\", \"Topic4\", \"Topic4\", \"Topic4\", \"Topic4\", \"Topic4\", \"Topic4\", \"Topic4\", \"Topic4\", \"Topic4\", \"Topic4\", \"Topic4\", \"Topic4\", \"Topic4\", \"Topic4\", \"Topic4\", \"Topic4\", \"Topic4\", \"Topic4\", \"Topic4\", \"Topic4\", \"Topic4\", \"Topic4\", \"Topic4\", \"Topic4\", \"Topic4\", \"Topic4\", \"Topic4\", \"Topic4\", \"Topic4\", \"Topic4\", \"Topic4\", \"Topic4\", \"Topic4\", \"Topic4\", \"Topic4\", \"Topic4\", \"Topic4\", \"Topic4\", \"Topic4\", \"Topic4\", \"Topic4\", \"Topic4\", \"Topic4\", \"Topic4\", \"Topic5\", \"Topic5\", \"Topic5\", \"Topic5\", \"Topic5\", \"Topic5\", \"Topic5\", \"Topic5\", \"Topic5\", \"Topic5\", \"Topic5\", \"Topic5\", \"Topic5\", \"Topic5\", \"Topic5\", \"Topic5\", \"Topic5\", \"Topic5\", \"Topic5\", \"Topic5\", \"Topic5\", \"Topic5\", \"Topic5\", \"Topic5\", \"Topic5\", \"Topic5\", \"Topic5\", \"Topic5\", \"Topic5\", \"Topic5\", \"Topic5\", \"Topic5\", \"Topic5\", \"Topic5\", \"Topic5\", \"Topic5\", \"Topic5\", \"Topic5\", \"Topic5\", \"Topic5\", \"Topic5\", \"Topic5\", \"Topic5\", \"Topic5\", \"Topic5\", \"Topic6\", \"Topic6\", \"Topic6\", \"Topic6\", \"Topic6\", \"Topic6\", \"Topic6\", \"Topic6\", \"Topic6\", \"Topic6\", \"Topic6\", \"Topic6\", \"Topic6\", \"Topic6\", \"Topic6\", \"Topic6\", \"Topic6\", \"Topic6\", \"Topic6\", \"Topic6\", \"Topic6\", \"Topic6\", \"Topic6\", \"Topic6\", \"Topic6\", \"Topic6\", \"Topic6\", \"Topic6\", \"Topic6\", \"Topic6\", \"Topic6\", \"Topic6\", \"Topic6\", \"Topic6\", \"Topic6\", \"Topic6\", \"Topic6\", \"Topic6\", \"Topic6\", \"Topic6\", \"Topic6\", \"Topic6\", \"Topic6\", \"Topic6\", \"Topic6\", \"Topic7\", \"Topic7\", \"Topic7\", \"Topic7\", \"Topic7\", \"Topic7\", \"Topic7\", \"Topic7\", \"Topic7\", \"Topic7\", \"Topic7\", \"Topic7\", \"Topic7\", \"Topic7\", \"Topic7\", \"Topic7\", \"Topic7\", \"Topic7\", \"Topic7\", \"Topic7\", \"Topic7\", \"Topic7\", \"Topic7\", \"Topic7\", \"Topic7\", \"Topic7\", \"Topic7\", \"Topic7\", \"Topic7\", \"Topic7\", \"Topic7\", \"Topic7\", \"Topic7\", \"Topic7\", \"Topic7\", \"Topic7\", \"Topic7\", \"Topic7\", \"Topic7\", \"Topic7\", \"Topic7\", \"Topic7\", \"Topic7\", \"Topic7\", \"Topic7\", \"Topic8\", \"Topic8\", \"Topic8\", \"Topic8\", \"Topic8\", \"Topic8\", \"Topic8\", \"Topic8\", \"Topic8\", \"Topic8\", \"Topic8\", \"Topic8\", \"Topic8\", \"Topic8\", \"Topic8\", \"Topic8\", \"Topic8\", \"Topic8\", \"Topic8\", \"Topic8\", \"Topic8\", \"Topic8\", \"Topic8\", \"Topic8\", \"Topic8\", \"Topic8\", \"Topic8\", \"Topic8\", \"Topic8\", \"Topic8\", \"Topic8\", \"Topic8\", \"Topic8\", \"Topic8\", \"Topic8\", \"Topic8\", \"Topic8\", \"Topic8\", \"Topic8\", \"Topic8\", \"Topic8\", \"Topic8\", \"Topic8\", \"Topic8\", \"Topic9\", \"Topic9\", \"Topic9\", \"Topic9\", \"Topic9\", \"Topic9\", \"Topic9\", \"Topic9\", \"Topic9\", \"Topic9\", \"Topic9\", \"Topic9\", \"Topic9\", \"Topic9\", \"Topic9\", \"Topic9\", \"Topic9\", \"Topic9\", \"Topic9\", \"Topic9\", \"Topic9\", \"Topic9\", \"Topic9\", \"Topic9\", \"Topic9\", \"Topic9\", \"Topic9\", \"Topic9\", \"Topic9\", \"Topic9\", \"Topic9\", \"Topic9\", \"Topic9\", \"Topic9\", \"Topic9\", \"Topic9\", \"Topic9\", \"Topic9\", \"Topic9\", \"Topic9\", \"Topic9\", \"Topic9\", \"Topic9\", \"Topic9\", \"Topic10\", \"Topic10\", \"Topic10\", \"Topic10\", \"Topic10\", \"Topic10\", \"Topic10\", \"Topic10\", \"Topic10\", \"Topic10\", \"Topic10\", \"Topic10\", \"Topic10\", \"Topic10\", \"Topic10\", \"Topic10\", \"Topic10\", \"Topic10\", \"Topic10\", \"Topic10\", \"Topic10\", \"Topic10\", \"Topic10\", \"Topic10\", \"Topic10\", \"Topic10\", \"Topic10\", \"Topic10\", \"Topic10\", \"Topic10\", \"Topic10\", \"Topic10\", \"Topic10\", \"Topic10\", \"Topic10\", \"Topic10\", \"Topic10\", \"Topic10\", \"Topic10\", \"Topic10\", \"Topic10\", \"Topic10\", \"Topic11\", \"Topic11\", \"Topic11\", \"Topic11\", \"Topic11\", \"Topic11\", \"Topic11\", \"Topic11\", \"Topic11\", \"Topic11\", \"Topic11\", \"Topic11\", \"Topic11\", \"Topic11\", \"Topic11\", \"Topic11\", \"Topic11\", \"Topic11\", \"Topic11\", \"Topic11\", \"Topic11\", \"Topic11\", \"Topic11\", \"Topic11\", \"Topic11\", \"Topic11\", \"Topic11\", \"Topic11\", \"Topic11\", \"Topic11\", \"Topic11\", \"Topic11\", \"Topic11\", \"Topic11\", \"Topic11\", \"Topic11\", \"Topic11\", \"Topic11\", \"Topic11\", \"Topic11\", \"Topic12\", \"Topic12\", \"Topic12\", \"Topic12\", \"Topic12\", \"Topic12\", \"Topic12\", \"Topic12\", \"Topic12\", \"Topic12\", \"Topic12\", \"Topic12\", \"Topic12\", \"Topic12\", \"Topic12\", \"Topic12\", \"Topic12\", \"Topic12\", \"Topic12\", \"Topic12\", \"Topic12\", \"Topic12\", \"Topic12\", \"Topic12\", \"Topic12\", \"Topic12\", \"Topic12\", \"Topic12\", \"Topic12\", \"Topic12\", \"Topic12\", \"Topic12\", \"Topic12\", \"Topic12\", \"Topic12\", \"Topic12\", \"Topic12\", \"Topic12\", \"Topic12\", \"Topic12\", \"Topic12\", \"Topic12\", \"Topic13\", \"Topic13\", \"Topic13\", \"Topic13\", \"Topic13\", \"Topic13\", \"Topic13\", \"Topic13\", \"Topic13\", \"Topic13\", \"Topic13\", \"Topic13\", \"Topic13\", \"Topic13\", \"Topic13\", \"Topic13\", \"Topic13\", \"Topic13\", \"Topic13\", \"Topic13\", \"Topic13\", \"Topic13\", \"Topic13\", \"Topic13\", \"Topic13\", \"Topic13\", \"Topic13\", \"Topic13\", \"Topic13\", \"Topic13\", \"Topic13\", \"Topic13\", \"Topic13\", \"Topic13\", \"Topic13\", \"Topic13\", \"Topic13\", \"Topic13\", \"Topic13\", \"Topic13\", \"Topic13\", \"Topic13\", \"Topic14\", \"Topic14\", \"Topic14\", \"Topic14\", \"Topic14\", \"Topic14\", \"Topic14\", \"Topic14\", \"Topic14\", \"Topic14\", \"Topic14\", \"Topic14\", \"Topic14\", \"Topic14\", \"Topic14\", \"Topic14\", \"Topic14\", \"Topic14\", \"Topic14\", \"Topic14\", \"Topic14\", \"Topic14\", \"Topic14\", \"Topic14\", \"Topic14\", \"Topic14\", \"Topic14\", \"Topic14\", \"Topic14\", \"Topic14\", \"Topic14\", \"Topic14\", \"Topic14\", \"Topic14\", \"Topic14\", \"Topic14\", \"Topic14\", \"Topic14\", \"Topic14\", \"Topic14\", \"Topic14\", \"Topic14\", \"Topic14\", \"Topic14\", \"Topic14\", \"Topic14\", \"Topic14\", \"Topic15\", \"Topic15\", \"Topic15\", \"Topic15\", \"Topic15\", \"Topic15\", \"Topic15\", \"Topic15\", \"Topic15\", \"Topic15\", \"Topic15\", \"Topic15\", \"Topic15\", \"Topic15\", \"Topic15\", \"Topic15\", \"Topic15\", \"Topic15\", \"Topic15\", \"Topic15\", \"Topic15\", \"Topic15\", \"Topic15\", \"Topic15\", \"Topic15\", \"Topic15\", \"Topic15\", \"Topic15\", \"Topic15\", \"Topic15\", \"Topic15\", \"Topic15\", \"Topic15\", \"Topic15\", \"Topic15\", \"Topic15\", \"Topic15\", \"Topic15\", \"Topic15\", \"Topic15\", \"Topic15\", \"Topic15\", \"Topic15\", \"Topic15\", \"Topic16\", \"Topic16\", \"Topic16\", \"Topic16\", \"Topic16\", \"Topic16\", \"Topic16\", \"Topic16\", \"Topic16\", \"Topic16\", \"Topic16\", \"Topic16\", \"Topic16\", \"Topic16\", \"Topic16\", \"Topic16\", \"Topic16\", \"Topic16\", \"Topic16\", \"Topic16\", \"Topic16\", \"Topic16\", \"Topic16\", \"Topic16\", \"Topic16\", \"Topic16\", \"Topic16\", \"Topic16\", \"Topic16\", \"Topic16\", \"Topic16\", \"Topic16\", \"Topic16\", \"Topic16\", \"Topic16\", \"Topic16\", \"Topic16\", \"Topic16\", \"Topic16\", \"Topic16\", \"Topic16\", \"Topic16\", \"Topic16\", \"Topic16\", \"Topic17\", \"Topic17\", \"Topic17\", \"Topic17\", \"Topic17\", \"Topic17\", \"Topic17\", \"Topic17\", \"Topic17\", \"Topic17\", \"Topic17\", \"Topic17\", \"Topic17\", \"Topic17\", \"Topic17\", \"Topic17\", \"Topic17\", \"Topic17\", \"Topic17\", \"Topic17\", \"Topic17\", \"Topic17\", \"Topic17\", \"Topic17\", \"Topic17\", \"Topic17\", \"Topic17\", \"Topic17\", \"Topic17\", \"Topic17\", \"Topic17\", \"Topic17\", \"Topic17\", \"Topic17\", \"Topic17\", \"Topic17\", \"Topic17\", \"Topic17\", \"Topic17\", \"Topic17\", \"Topic17\", \"Topic17\", \"Topic18\", \"Topic18\", \"Topic18\", \"Topic18\", \"Topic18\", \"Topic18\", \"Topic18\", \"Topic18\", \"Topic18\", \"Topic18\", \"Topic18\", \"Topic18\", \"Topic18\", \"Topic18\", \"Topic18\", \"Topic18\", \"Topic18\", \"Topic18\", \"Topic18\", \"Topic18\", \"Topic18\", \"Topic18\", \"Topic18\", \"Topic18\", \"Topic18\", \"Topic18\", \"Topic18\", \"Topic18\", \"Topic18\", \"Topic18\", \"Topic18\", \"Topic18\", \"Topic18\", \"Topic18\", \"Topic18\", \"Topic18\", \"Topic19\", \"Topic19\", \"Topic19\", \"Topic19\", \"Topic19\", \"Topic19\", \"Topic19\", \"Topic19\", \"Topic19\", \"Topic19\", \"Topic19\", \"Topic19\", \"Topic19\", \"Topic19\", \"Topic19\", \"Topic19\", \"Topic19\", \"Topic19\", \"Topic19\", \"Topic19\", \"Topic19\", \"Topic19\", \"Topic19\", \"Topic19\", \"Topic19\", \"Topic19\", \"Topic19\", \"Topic19\", \"Topic19\", \"Topic19\", \"Topic19\", \"Topic19\", \"Topic19\", \"Topic20\", \"Topic20\", \"Topic20\", \"Topic20\", \"Topic20\", \"Topic20\", \"Topic20\", \"Topic20\", \"Topic20\", \"Topic20\", \"Topic20\", \"Topic20\", \"Topic20\", \"Topic20\", \"Topic20\", \"Topic20\", \"Topic20\", \"Topic20\", \"Topic20\", \"Topic20\", \"Topic20\", \"Topic20\", \"Topic20\", \"Topic20\", \"Topic20\", \"Topic20\", \"Topic20\", \"Topic20\", \"Topic20\", \"Topic20\", \"Topic20\", \"Topic20\", \"Topic20\", \"Topic20\", \"Topic20\", \"Topic20\", \"Topic20\"], \"logprob\": [30.0, 29.0, 28.0, 27.0, 26.0, 25.0, 24.0, 23.0, 22.0, 21.0, 20.0, 19.0, 18.0, 17.0, 16.0, 15.0, 14.0, 13.0, 12.0, 11.0, 10.0, 9.0, 8.0, 7.0, 6.0, 5.0, 4.0, 3.0, 2.0, 1.0, -5.3439, -5.1978, -5.4677, -5.261, -5.4462, -5.3131, -5.2377, -4.8964, -5.6359, -5.6317, -5.3686, -4.7575, -5.488, -5.2723, -5.2604, -5.7136, -5.7464, -4.9822, -5.2489, -5.2563, -5.8015, -5.8173, -5.7668, -5.5945, -5.8158, -5.6971, -5.0215, -5.1275, -5.5158, -5.4817, -5.2432, -5.1235, -5.0637, -5.062, -5.0354, -5.2595, -5.0317, -5.115, -5.3453, -4.7461, -5.328, -5.2347, -4.8201, -5.1708, -5.0871, -5.1755, -5.1359, -4.9684, -5.0727, -5.1983, -5.1367, -5.2184, -5.2098, -5.2163, -5.2481, -5.0192, -5.1033, -5.1396, -5.2145, -5.2275, -5.0991, -5.3224, -5.5423, -5.4118, -5.1531, -5.5835, -5.4065, -5.3969, -5.3191, -5.2778, -5.7151, -5.4888, -5.5069, -5.0595, -5.4445, -5.6737, -4.8295, -4.5966, -5.646, -4.887, -5.7033, -5.6856, -5.7779, -5.9004, -5.4047, -5.7161, -4.9922, -5.2748, -5.1938, -5.2378, -5.1625, -5.3062, -5.2339, -5.2335, -5.2558, -5.313, -5.3269, -5.0125, -4.8007, -5.217, -5.0048, -4.9496, -5.3014, -5.3097, -4.2618, -5.1392, -4.8716, -5.0435, -5.3076, -4.927, -4.9308, -5.3836, -5.5319, -4.025, -5.7021, -5.3143, -5.4998, -5.5356, -5.0363, -5.4418, -5.5517, -5.5728, -5.4219, -5.8829, -5.5406, -5.6182, -4.2805, -4.8637, -5.617, -5.3807, -5.2176, -5.492, -5.4225, -5.7799, -5.0465, -4.9327, -4.8922, -4.8716, -5.3212, -4.8191, -5.041, -5.3453, -5.2262, -4.6115, -5.3157, -4.9122, -5.1563, -5.1412, -5.2406, -5.1734, -5.1732, -5.3175, -4.4619, -5.0234, -5.193, -5.2986, -5.2808, -5.1509, -5.4264, -4.9223, -5.5327, -4.1548, -4.7449, -5.5808, -5.1826, -5.5136, -5.3204, -5.19, -5.3408, -5.4496, -4.63, -5.3688, -5.3702, -5.8092, -4.9942, -5.4684, -5.2494, -5.6911, -5.5402, -5.6397, -5.4372, -5.6069, -5.103, -5.083, -5.2495, -4.7763, -4.7941, -5.3643, -5.1174, -5.0577, -5.1956, -5.0068, -5.1034, -5.1997, -5.2653, -5.2434, -5.2979, -4.5959, -4.5335, -5.2176, -5.1627, -5.2206, -5.2436, -4.8354, -5.2057, -5.1024, -5.2283, -5.4658, -5.6484, -5.4488, -5.4265, -5.2896, -5.3417, -5.2624, -5.5685, -5.6604, -5.0413, -5.7785, -5.7054, -5.1753, -5.5888, -5.5423, -5.3923, -5.3955, -5.2812, -5.4687, -4.3563, -5.2661, -4.9533, -4.722, -5.2124, -5.1347, -4.7162, -4.738, -5.2713, -5.1207, -5.0742, -5.1207, -5.0148, -5.2341, -5.2053, -5.285, -4.5112, -5.1593, -5.1349, -5.0841, -4.9402, -5.5034, -5.2713, -5.5668, -5.3424, -5.3295, -5.2613, -5.0371, -5.7623, -5.2613, -4.9142, -5.9055, -5.5553, -5.5985, -5.4482, -4.8468, -5.761, -5.0015, -5.7377, -5.9904, -5.3854, -5.943, -5.6187, -5.0487, -6.007, -5.7985, -5.4091, -5.3311, -5.6162, -5.3745, -5.3486, -5.1858, -5.2237, -5.4383, -5.3853, -4.9789, -5.2787, -5.3666, -5.2117, -5.3559, -5.3713, -4.6624, -5.129, -4.9418, -5.0608, -5.1811, -5.1966, -4.8637, -5.4439, -5.3237, -5.1233, -4.3906, -5.284, -5.4568, -5.3519, -5.1034, -5.2371, -5.7117, -5.5165, -5.5797, -5.5695, -4.6356, -5.7319, -5.6361, -4.8822, -5.4574, -5.4001, -4.8284, -5.6563, -5.6534, -5.6472, -5.5399, -5.0996, -5.3159, -4.8062, -5.2701, -5.0496, -4.9976, -5.2448, -5.2855, -5.2587, -5.3641, -5.24, -5.3088, -5.3715, -5.3619, -4.6863, -4.9834, -4.4961, -4.465, -4.873, -5.2908, -5.1549, -4.9741, -4.7685, -5.1151, -5.4546, -5.5606, -5.3786, -5.7102, -4.8891, -5.5203, -5.4097, -5.0389, -5.3299, -5.4641, -5.3685, -5.0056, -5.7874, -5.7052, -5.1479, -5.4146, -5.6759, -5.9358, -5.8731, -5.9138, -5.3643, -5.5434, -4.9241, -4.6131, -5.2833, -5.3001, -5.2507, -5.0487, -5.1012, -5.2863, -5.394, -5.1466, -5.2684, -5.394, -4.4612, -4.7907, -5.2811, -5.2176, -5.2283, -4.5119, -5.0684, -5.3847, -4.5089, -5.7955, -5.6162, -5.2196, -5.3395, -5.5384, -5.805, -4.679, -5.3384, -5.6088, -5.1919, -5.7955, -5.206, -5.2771, -4.8903, -5.6391, -5.5323, -5.045, -5.7955, -5.5376, -5.3793, -5.722, -5.5101, -4.7269, -5.4483, -5.3105, -4.9088, -5.034, -5.1835, -5.1788, -5.196, -5.2221, -5.4306, -5.2306, -5.3675, -5.3665, -3.945, -4.4817, -5.0442, -5.1178, -4.8202, -5.1611, -5.1558, -4.7489, -4.9759, -5.2917, -5.2529, -5.1631, -5.3643, -4.8183, -5.4177, -4.7991, -5.8883, -5.205, -5.2471, -5.3608, -5.4879, -5.7936, -5.7936, -5.8378, -5.3495, -5.7979, -5.683, -5.5557, -6.0062, -5.8883, -4.8473, -5.448, -5.1353, -5.4673, -4.4814, -5.2777, -5.2384, -4.8796, -5.2601, -5.336, -5.3805, -5.4401, -4.5723, -4.4126, -4.8587, -4.3178, -4.9469, -4.5199, -5.0114, -4.5005, -5.0564, -5.6253, -5.2333, -5.6014, -5.5216, -4.7393, -5.0334, -5.1517, -5.2001, -4.5234, -5.3651, -5.3587, -5.3415, -5.7592, -5.6212, -5.5584, -5.6897, -5.1657, -5.3987, -5.523, -5.8808, -5.5216, -4.6108, -5.4369, -5.2738, -5.1926, -5.3248, -5.328, -5.3145, -5.3912, -5.4342, -5.4808, -4.4294, -4.3398, -4.9959, -4.5376, -5.6867, -5.0987, -4.6324, -5.5846, -5.487, -4.6324, -5.5527, -5.9171, -4.9668, -5.3322, -5.1303, -5.1836, -5.1448, -5.4704, -5.456, -5.5599, -5.4412, -5.6256, -5.3144, -5.7226, -5.0327, -5.5846, -5.2829, -5.9222, -5.9171, -5.2888, -5.2888, -5.253, -5.035, -5.1551, -5.3397, -5.4513, -5.1699, -5.3322, -5.3888, -5.411, -5.4648, -5.4542, -4.2247, -5.0901, -5.1008, -5.369, -5.0875, -5.3829, -5.1857, -5.345, -4.6755, -5.3803, -4.8538, -5.4476, -5.4468, -5.9308, -5.5613, -5.4776, -5.2247, -4.9207, -5.2878, -5.6046, -5.3749, -5.3182, -5.6725, -5.7881, -5.6191, -5.5184, -5.4908, -5.1301, -5.0424, -5.9808, -5.4817, -4.8754, -5.6236, -4.7984, -5.1857, -5.4718, -5.1699, -5.3864, -5.2947, -5.3213, -5.1705, -5.3745, -4.7815, -4.8956, -4.8143, -4.7416, -5.121, -5.2905, -5.4897, -5.6337, -5.471, -5.5133, -5.0394, -5.6337, -5.2539, -5.7107, -5.7995, -5.5553, -5.6558, -5.0182, -5.5553, -5.2932, -5.481, -5.7095, -5.5893, -5.7107, -4.8591, -5.9392, -5.5286, -5.7025, -6.0639, -5.8607, -5.2897, -4.7467, -4.3057, -5.252, -5.0561, -5.332, -5.3718, -5.079, -4.9962, -5.1151, -5.3669, -5.2826, -5.3056, -5.3753, -5.2608, -5.4607, -5.4885, -5.0924, -5.0465, -5.2789, -5.3207, -4.957, -5.2582, -5.547, -4.9588, -5.4821, -5.2789, -5.341, -5.1194, -4.552, -5.7642, -5.4023, -4.8916, -5.0316, -5.7095, -5.4867, -4.814, -5.6839, -5.8526, -5.2011, -5.2789, -5.3207, -5.8776, -5.7927, -5.7838, -5.5065, -5.9155, -5.5191, -5.0778, -5.4125, -5.4587, -4.5661, -4.7573, -5.2789, -5.4402, -5.2819, -5.4244, -5.3456, -5.4342, -5.4671, -5.4636, -4.8286, -5.0793, -4.7928, -4.6013, -5.2533, -5.463, -5.3432, -5.4306, -5.3952, -5.4306, -5.5166, -5.3088, -4.8186, -4.7342, -5.4627, -5.7028, -5.5216, -5.3886, -5.4676, -5.7028, -5.9812, -5.8611, -5.8093, -4.83, -5.9549, -5.8072, -5.7471, -5.9291, -5.6192, -5.5938, -5.0538, -5.2125, -5.4676, -4.8384, -5.1901, -5.3935, -4.8985, -5.1749, -5.4204, -5.201, -5.3116, -5.3038, -5.4676, -5.4185, -4.5073, -4.4861, -5.0203, -4.9959, -5.0943, -5.056, -5.095, -4.7602, -5.0118, -5.5343, -5.095, -5.6622, -5.6741, -5.6741, -5.5343, -5.1381, -5.696, -5.7734, -5.1361, -5.6622, -5.6741, -5.5743, -5.6622, -5.5093, -5.7656, -5.0333, -5.5391, -5.6149, -5.3366, -5.6301, -4.9362, -5.1621, -5.1915, -4.9257, -5.2447, -5.314, -5.3743, -5.4993, -5.4702, -5.4982, -5.4702, -5.4924, -4.5682, -4.8685, -4.9156, -5.0143, -5.4409, -5.4409, -5.4409, -5.0799, -5.5157, -5.515, -5.4804, -5.5448, -4.6503, -5.0142, -5.5374, -5.6021, -5.6614, -4.9518, -5.6372, -5.515, -5.6225, -5.6556, -5.7377, -4.9451, -5.6587, -5.2297, -5.4825, -5.3444, -5.7393, -5.6245, -5.6749, -5.3104, -5.5709, -5.4648, -5.5466, -5.4193, -4.6958, -4.9003, -4.8199, -5.1532, -4.9983, -5.3415, -5.5548, -5.5104, -4.7788, -5.6287, -5.389, -5.0823, -5.5767, -5.5895, -5.5502, -5.6526, -5.4714, -5.5481, -5.0258, -5.7927, -5.3519, -4.7834, -5.3915, -6.4106, -5.2879, -6.0194, -5.4708, -5.6298, -5.6165, -5.7285, -5.6959, -5.6697, -5.5107, -4.558, -4.6808, -5.281, -5.2253, -4.6249, -5.2296, -5.4533, -5.4533, -5.4929, -4.7434, -5.746, -5.3964, -5.454, -5.6372, -5.0681, -5.5871, -5.07, -5.1838, -5.2366, -5.4929, -5.5588, -5.5448, -5.9907, -5.0977, -4.9943, -5.8525, -5.8693, -6.5305, -5.6317, -5.9424, -5.6159, -5.7037, -5.1534, -5.4157, -5.5277, -5.3484, -5.6176], \"loglift\": [30.0, 29.0, 28.0, 27.0, 26.0, 25.0, 24.0, 23.0, 22.0, 21.0, 20.0, 19.0, 18.0, 17.0, 16.0, 15.0, 14.0, 13.0, 12.0, 11.0, 10.0, 9.0, 8.0, 7.0, 6.0, 5.0, 4.0, 3.0, 2.0, 1.0, 0.726, 0.7256, 0.7153, 0.7152, 0.7123, 0.7112, 0.7095, 0.7075, 0.6925, 0.6868, 0.6864, 0.684, 0.6838, 0.6828, 0.682, 0.6788, 0.6784, 0.6777, 0.6759, 0.6734, 0.6731, 0.671, 0.6698, 0.6691, 0.6673, 0.6639, 0.661, 0.6592, 0.6543, 0.6526, 0.6522, 0.6494, 0.6478, 0.6459, 0.6414, 0.6493, 0.6337, 0.6298, 0.6446, 0.5678, 0.6358, 0.6175, 0.4941, 0.5924, 0.5665, 0.5679, 0.5273, 0.4105, 0.475, 0.5655, 0.405, 0.4402, 0.1561, 0.1542, 0.4571, 1.3494, 1.3297, 1.3288, 1.3201, 1.307, 1.2905, 1.288, 1.2775, 1.2677, 1.2673, 1.2489, 1.243, 1.238, 1.2308, 1.2234, 1.2162, 1.2138, 1.2137, 1.2082, 1.205, 1.2028, 1.2026, 1.19, 1.1898, 1.1871, 1.1862, 1.1857, 1.1825, 1.1751, 1.1747, 1.1745, 1.1671, 1.1554, 1.1464, 1.127, 1.0908, 1.1125, 1.0939, 1.074, 1.0846, 1.1057, 1.1008, 0.8016, 0.5698, 0.9735, 0.5643, 0.4164, 0.5209, 0.2377, 2.1297, 1.942, 1.9305, 1.9268, 1.8667, 1.8517, 1.7804, 1.763, 1.7358, 1.711, 1.6881, 1.6778, 1.6753, 1.6746, 1.6729, 1.6678, 1.6615, 1.6437, 1.6307, 1.6236, 1.6068, 1.6044, 1.6017, 1.5973, 1.586, 1.5796, 1.5767, 1.5535, 1.5428, 1.542, 1.5321, 1.523, 1.4822, 1.4769, 1.5297, 1.4266, 1.4597, 1.5268, 1.4553, 0.936, 1.4675, 1.0377, 1.2928, 1.1894, 1.2845, 0.7991, 0.6452, 0.8893, 2.4465, 2.285, 2.188, 2.167, 2.1168, 2.1077, 2.0966, 2.0435, 2.0178, 2.0173, 2.0079, 1.9949, 1.9773, 1.9465, 1.9461, 1.9333, 1.9294, 1.929, 1.9066, 1.9037, 1.8981, 1.8863, 1.8822, 1.8805, 1.8803, 1.8775, 1.87, 1.8694, 1.8684, 1.852, 1.7373, 1.6904, 1.7266, 1.423, 1.3546, 1.7275, 1.3833, 1.287, 1.4528, 0.7851, 1.0069, 1.0536, 0.8059, 0.3041, 0.7452, 2.4755, 2.4473, 2.3026, 2.2835, 2.2379, 2.2358, 2.2079, 2.1864, 2.1829, 2.1278, 2.1033, 2.0636, 2.0554, 2.0459, 2.0431, 2.0193, 1.9422, 1.931, 1.9276, 1.9248, 1.908, 1.9054, 1.9012, 1.8737, 1.8715, 1.866, 1.8556, 1.8485, 1.8338, 1.8158, 1.7934, 1.7115, 1.4684, 1.6346, 1.5479, 1.166, 0.9253, 1.5649, 1.097, 0.6618, 0.8039, 0.3512, 1.2269, 0.8268, 0.0939, 2.73, 2.4642, 2.4524, 2.3052, 2.2609, 2.2232, 2.2077, 2.1835, 2.1221, 2.113, 2.1065, 2.0453, 2.0326, 1.9718, 1.9637, 1.9163, 1.8927, 1.8864, 1.8853, 1.8771, 1.8403, 1.8235, 1.8148, 1.8138, 1.7934, 1.7772, 1.7641, 1.7574, 1.7446, 1.7117, 1.7085, 1.6802, 1.7028, 1.5596, 1.5482, 1.3832, 1.4109, 1.4794, 1.3701, 0.335, 0.8618, 1.132, 0.4516, 0.8345, 0.3736, 2.8697, 2.645, 2.6027, 2.5807, 2.5509, 2.5498, 2.5155, 2.4282, 2.4067, 2.345, 2.2867, 2.2226, 2.1759, 2.1118, 2.0996, 2.0886, 2.0653, 2.052, 2.0035, 1.9875, 1.9334, 1.9333, 1.9143, 1.9141, 1.9011, 1.851, 1.8156, 1.8103, 1.8067, 1.8016, 1.7978, 1.6647, 1.7189, 1.1389, 1.5239, 1.2839, 1.1277, 1.444, 1.4961, 1.169, 1.5068, 0.7921, 1.1886, 1.1249, 0.3459, 2.8757, 2.6837, 2.6793, 2.6014, 2.5916, 2.4105, 2.3542, 2.3083, 2.308, 2.2709, 2.2556, 2.2164, 2.1784, 2.097, 2.0767, 2.0758, 2.0383, 2.0342, 1.992, 1.9865, 1.9851, 1.9752, 1.9446, 1.8831, 1.8793, 1.8503, 1.842, 1.8055, 1.8007, 1.8006, 1.7968, 1.796, 1.6863, 1.6028, 1.677, 1.6798, 1.6321, 1.4317, 1.405, 1.6518, 1.6977, 0.64, 1.054, 1.5027, 3.1016, 2.7694, 2.6097, 2.595, 2.5152, 2.2357, 2.214, 2.1794, 2.1791, 2.155, 2.0969, 2.0931, 2.0388, 2.0287, 2.0022, 1.9556, 1.9065, 1.9014, 1.8856, 1.8783, 1.8736, 1.8715, 1.8384, 1.8332, 1.8294, 1.8292, 1.7884, 1.7873, 1.7785, 1.7775, 1.7023, 1.4432, 1.6797, 1.5674, 1.2633, 1.1066, 1.2712, 1.1518, 1.0392, 0.9646, 1.4459, 0.5878, 1.0935, 1.0328, 2.8513, 2.8007, 2.6373, 2.5253, 2.4384, 2.3431, 2.3054, 2.3036, 2.2981, 2.2185, 2.1254, 2.1072, 2.0981, 2.0527, 2.0506, 2.0466, 1.8857, 1.8848, 1.881, 1.8717, 1.8548, 1.8333, 1.8235, 1.8191, 1.7682, 1.766, 1.7549, 1.7548, 1.7454, 1.7363, 1.6492, 1.6614, 1.5646, 1.6527, 1.0661, 1.5088, 1.4504, 1.0628, 0.814, 1.0325, 0.9046, 1.2373, 3.1408, 3.0453, 2.8933, 2.8518, 2.6702, 2.649, 2.6301, 2.4916, 2.4702, 2.3312, 2.2743, 2.2112, 2.2088, 2.1967, 2.1678, 2.0776, 2.0617, 2.0277, 2.0183, 1.9807, 1.9284, 1.922, 1.8783, 1.8027, 1.7942, 1.7804, 1.7665, 1.7029, 1.7024, 1.6414, 1.5885, 1.6306, 1.5095, 1.4179, 1.5111, 0.9608, 0.8838, 1.187, 0.1133, 0.4438, 3.2274, 2.8299, 2.5661, 2.5389, 2.1999, 2.1837, 2.1634, 2.1355, 2.0673, 2.0651, 2.0596, 2.0333, 2.0233, 2.0073, 1.9522, 1.9364, 1.9227, 1.9131, 1.9116, 1.8986, 1.8786, 1.8654, 1.861, 1.8471, 1.8432, 1.8337, 1.8093, 1.7922, 1.7566, 1.7262, 1.6987, 1.6928, 1.6423, 1.6183, 1.6256, 1.7012, 1.2506, 1.4587, 1.4892, 1.4654, 1.4153, 0.9769, 2.9765, 2.6533, 2.5423, 2.3723, 2.3381, 2.3234, 2.3198, 2.2862, 2.201, 2.1894, 2.1047, 2.0608, 2.0557, 2.0257, 1.9616, 1.9518, 1.9442, 1.9173, 1.9134, 1.8678, 1.8664, 1.8569, 1.8454, 1.8446, 1.8445, 1.844, 1.8371, 1.8357, 1.8176, 1.803, 1.7902, 1.7028, 1.76, 1.0157, 1.2947, 1.6011, 1.0759, 1.4303, 1.161, 1.1752, 0.3986, 1.0113, 2.6664, 2.458, 2.3959, 2.3315, 2.309, 2.1197, 2.0935, 2.0807, 2.0537, 2.0506, 2.0184, 1.9909, 1.9627, 1.9545, 1.944, 1.924, 1.8985, 1.876, 1.8585, 1.8524, 1.8439, 1.8085, 1.794, 1.7646, 1.7514, 1.7279, 1.7226, 1.721, 1.7199, 1.7149, 1.6463, 1.5551, 1.481, 1.6244, 1.3493, 1.521, 1.5062, 1.0804, 0.886, 0.9938, 1.4177, 1.1339, 1.0676, 1.0144, 0.0531, 1.1175, -0.118, 2.4717, 2.3637, 2.2976, 2.286, 2.2742, 2.2597, 2.1732, 2.1588, 2.135, 2.1318, 2.1257, 2.1065, 2.0572, 2.043, 1.977, 1.9047, 1.8772, 1.8662, 1.8382, 1.821, 1.8185, 1.7906, 1.773, 1.7706, 1.7552, 1.6825, 1.6729, 1.6669, 1.6579, 1.6536, 1.6498, 1.6219, 1.6004, 1.5417, 1.003, 0.7901, 1.3391, 1.5027, 1.2003, 1.3777, 1.0821, 0.9143, 0.8664, 0.5002, 2.5547, 2.4262, 2.3863, 2.3458, 2.3158, 2.2234, 2.2209, 2.1139, 2.1043, 2.0955, 2.0942, 2.0833, 2.0756, 2.0688, 2.0283, 2.0173, 1.9408, 1.9393, 1.9116, 1.907, 1.8909, 1.8792, 1.8719, 1.8676, 1.8289, 1.8255, 1.8226, 1.8212, 1.7923, 1.7848, 1.7441, 1.6505, 1.7013, 1.3337, 1.4925, 1.5669, 1.1756, 1.3365, 1.5102, 1.1897, 1.0993, 0.9086, 1.42, 0.4338, 3.1496, 2.9569, 2.7869, 2.6865, 2.6361, 2.5708, 2.2634, 2.2308, 2.2119, 2.176, 2.1578, 2.1459, 2.1386, 2.1208, 2.0765, 2.0619, 2.0443, 2.0104, 1.9604, 1.9339, 1.9326, 1.9324, 1.9154, 1.8884, 1.8467, 1.8266, 1.8166, 1.8065, 1.7998, 1.7806, 1.7635, 1.4538, 1.3708, 0.7857, 1.1855, 1.2928, 0.8729, 1.3273, 1.1429, 0.9328, 0.7019, 0.8411, 2.8178, 2.4932, 2.4737, 2.4493, 2.4312, 2.2722, 2.1903, 2.1884, 2.1707, 2.1501, 2.0036, 1.9818, 1.9565, 1.9166, 1.9052, 1.8635, 1.8345, 1.8315, 1.8207, 1.8107, 1.7989, 1.7932, 1.7869, 1.7548, 1.752, 1.7361, 1.6826, 1.6549, 1.6096, 1.6014, 1.5984, 1.463, 1.5255, 1.2599, 1.3351, 0.8199, 2.7277, 2.3492, 2.3163, 2.2848, 2.2634, 2.2468, 2.2137, 2.1721, 2.1571, 2.1116, 2.0949, 2.0928, 1.9504, 1.9371, 1.9099, 1.8654, 1.8503, 1.8255, 1.8103, 1.6697, 1.631, 1.5568, 1.4992, 1.4802, 1.4207, 1.3963, 1.3699, 1.3665, 1.2599, 1.23, 1.2099, 1.0837, 0.4531, 3.004, 2.7295, 2.5232, 2.4484, 2.3703, 2.2976, 2.2668, 2.1898, 2.134, 2.1276, 2.0757, 2.0702, 1.989, 1.9229, 1.9219, 1.7022, 1.697, 1.6612, 1.6335, 1.6176, 1.5776, 1.5661, 1.5177, 1.5127, 1.4352, 1.4092, 1.3574, 1.3561, 1.3451, 1.3047, 1.2344, 1.2304, 1.0535, 0.8861, 1.0069, 0.2207, 0.2646]}, \"token.table\": {\"Topic\": [1, 2, 3, 6, 1, 2, 7, 10, 13, 1, 2, 3, 8, 1, 2, 8, 13, 1, 2, 5, 1, 2, 5, 7, 12, 1, 2, 3, 8, 1, 2, 6, 8, 9, 10, 12, 1, 2, 3, 4, 6, 1, 2, 3, 7, 1, 2, 3, 1, 2, 3, 5, 1, 2, 9, 1, 2, 1, 2, 3, 4, 5, 7, 10, 15, 1, 2, 3, 6, 9, 1, 2, 3, 6, 9, 11, 1, 2, 4, 5, 6, 1, 2, 3, 5, 1, 2, 3, 1, 2, 3, 1, 2, 5, 6, 7, 9, 1, 2, 3, 4, 5, 6, 7, 9, 12, 1, 2, 1, 2, 4, 11, 1, 2, 3, 4, 6, 13, 15, 1, 2, 9, 1, 2, 6, 11, 1, 2, 9, 11, 1, 2, 5, 6, 9, 1, 2, 1, 2, 3, 4, 1, 2, 8, 12, 1, 2, 9, 13, 1, 2, 3, 4, 6, 1, 2, 4, 5, 13, 1, 2, 3, 6, 11, 13, 1, 2, 4, 1, 2, 6, 1, 2, 3, 1, 2, 1, 2, 3, 4, 5, 6, 1, 2, 3, 4, 10, 1, 2, 4, 6, 1, 2, 3, 4, 6, 1, 2, 1, 2, 10, 1, 2, 3, 4, 1, 2, 7, 1, 2, 5, 7, 1, 2, 5, 9, 1, 2, 3, 11, 1, 2, 6, 7, 1, 2, 3, 4, 1, 2, 3, 4, 1, 2, 5, 9, 1, 2, 5, 6, 13, 1, 2, 4, 1, 2, 3, 1, 2, 3, 13, 1, 2, 3, 4, 10, 1, 2, 4, 7, 1, 2, 3, 1, 2, 6, 7, 1, 2, 5, 1, 2, 9, 1, 2, 3, 4, 5, 6, 1, 2, 3, 4, 6, 1, 2, 4, 1, 2, 4, 12, 1, 2, 6, 7, 1, 2, 3, 5, 12, 1, 2, 5, 7, 1, 2, 11, 16, 1, 2, 4, 5, 6, 9, 1, 2, 3, 5, 6, 7, 1, 2, 12, 1, 2, 4, 7, 1, 2, 3, 5, 1, 2, 3, 8, 1, 2, 4, 1, 2, 3, 4, 9, 10, 1, 2, 4, 14, 15, 1, 2, 4, 5, 1, 2, 3, 6, 1, 2, 3, 5, 1, 2, 5, 1, 2, 3, 4, 1, 2, 5, 14, 1, 2, 5, 6, 11, 1, 2, 3, 6, 1, 2, 3, 1, 2, 3, 1, 2, 9, 12, 1, 2, 3, 5, 8, 1, 2, 1, 2, 3, 1, 2, 3, 13, 1, 2, 3, 4, 8, 1, 2, 1, 2, 4, 1, 2, 3, 5, 7, 1, 2, 6, 1, 2, 6, 8, 1, 2, 10, 1, 2, 4, 6, 1, 2, 6, 9, 1, 2, 3, 4, 5, 12, 1, 2, 5, 1, 2, 10, 1, 2, 1, 2, 3, 6, 1, 2, 5, 6, 7, 1, 2, 4, 7, 8, 11, 1, 2, 3, 5, 1, 2, 3, 4, 1, 2, 3, 4, 1, 2, 3, 9, 1, 2, 4, 7, 1, 2, 3, 8, 14, 1, 2, 3, 4, 5, 1, 2, 3, 4, 5, 6, 1, 2, 3, 6, 12, 1, 2, 6, 1, 2, 3, 6, 9, 1, 2, 3, 6, 14, 1, 2, 5, 6, 7, 9, 1, 2, 14, 1, 2, 4, 6, 1, 2, 4, 5, 1, 2, 3, 4, 5, 6, 1, 2, 5, 6, 1, 2, 3, 5, 6, 1, 2, 6, 11, 1, 2, 3, 1, 2, 4, 6, 1, 2, 5, 1, 2, 5, 6, 9, 10, 1, 2, 3, 4, 10, 1, 2, 4, 7, 8, 1, 2, 5, 7, 1, 2, 4, 6, 14, 1, 2, 3, 4, 5, 9, 1, 2, 3, 1, 2, 3, 4, 5, 1, 2, 6, 1, 2, 5, 9, 1, 2, 4, 1, 2, 3, 4, 5, 1, 2, 4, 6, 8, 1, 2, 5, 6, 7, 1, 2, 5, 1, 2, 4, 1, 2, 3, 10, 1, 2, 5, 10, 1, 2, 3, 5, 6, 8, 10, 1, 2, 3, 4, 1, 2, 4, 5, 6, 1, 2, 3, 4, 5, 1, 2, 3, 4, 5, 1, 2, 3, 4, 5, 7, 9, 10, 16, 1, 2, 3, 1, 2, 3, 4, 6, 9, 1, 2, 4, 5, 13, 1, 2, 6, 7, 8, 1, 2, 3, 1, 2, 6, 8, 9, 1, 2, 6, 8, 1, 2, 5, 9, 1, 2, 3, 6, 1, 2, 4, 1, 2, 5, 6, 1, 2, 6, 8, 1, 2, 3, 4, 6, 11, 1, 2, 10, 1, 2, 3, 8, 9, 11, 14, 1, 2, 7, 1, 2, 3, 5, 11, 1, 2, 5, 8, 9, 1, 2, 3, 4, 5, 6, 8, 1, 2, 3, 4, 6, 8, 9, 1, 2, 3, 4, 5, 6, 9, 1, 2, 6, 7, 1, 2, 3, 7, 1, 2, 3, 4, 5, 8, 14, 1, 2, 4, 11, 1, 2, 3, 8, 1, 2, 3, 4, 7, 1, 2, 5, 1, 2, 3, 4, 6, 7, 1, 2, 3, 5, 6, 7, 1, 2, 5, 6, 1, 2, 3, 5, 8, 1, 2, 4, 6, 1, 2, 3, 4, 5, 1, 2, 1, 2, 5, 8, 1, 2, 1, 2, 3, 10, 11, 1, 2, 4, 14, 1, 2, 6, 1, 2, 3, 5, 6, 1, 2, 5, 1, 2, 4, 1, 2, 4, 9, 1, 2, 3, 5, 6, 9, 1, 2, 5, 6, 1, 2, 8, 1, 2, 3, 4, 6, 7, 1, 2, 1, 2, 3, 4, 1, 2, 1, 2, 4, 1, 2, 5, 10, 1, 2, 3, 8, 9, 1, 2, 5, 1, 2, 3, 1, 2, 10, 1, 2, 4, 1, 2, 4, 7, 1, 2, 3, 5, 1, 2, 5, 1, 2, 10, 11, 12, 1, 2, 5, 10, 13, 1, 2, 3, 7, 1, 2, 6, 8, 13, 1, 2, 3, 4, 7, 10, 1, 2, 3, 4, 5, 6, 1, 2, 3, 5, 9, 1, 2, 3, 5, 7, 8, 1, 2, 3, 6, 1, 2, 4, 6, 8, 1, 2, 1, 2, 16, 1, 2, 6, 1, 2, 3, 4, 1, 2, 9, 1, 2, 3, 9, 11, 12, 16, 1, 2, 5, 7, 1, 2, 3, 1, 2, 3, 5, 1, 2, 4, 5, 6, 8, 13, 1, 2, 3, 6, 1, 2, 3, 4, 6, 7, 1, 2, 4, 6, 1, 2, 5, 6, 10, 1, 2, 3, 4, 5, 8, 14, 1, 2, 7, 9, 1, 2, 3, 1, 2, 9, 10, 1, 2, 4, 5, 8, 1, 2, 3, 4, 5, 1, 2, 15, 1, 2, 9, 1, 2, 3, 4, 5, 9, 1, 2, 4, 7, 8, 1, 2, 3, 4, 1, 2, 3, 11, 1, 2, 3, 4, 5, 1, 2, 3, 10, 12, 1, 2, 7, 11, 1, 2, 3, 4, 5, 6, 1, 2, 5, 1, 2, 3, 4, 5, 1, 2, 6, 9, 1, 2, 6, 7, 8, 1, 2, 3, 4, 6, 7, 11, 1, 2, 11, 1, 2, 1, 2, 3, 4, 1, 2, 4, 5, 7, 1, 2, 3, 5, 1, 2, 3, 7, 11, 1, 2, 5, 1, 2, 4, 7, 1, 2, 5, 16, 1, 2, 3, 1, 2, 3, 4, 6, 1, 2, 3, 1, 2, 1, 2, 3, 4, 5, 6, 1, 2, 4, 9, 12, 13, 14, 1, 2, 5, 1, 2, 3, 4, 5, 6, 10, 1, 2, 5, 6, 9, 1, 2, 11, 1, 2, 4, 6, 7, 1, 2, 6, 7, 1, 2, 1, 2, 15, 1, 2, 1, 2, 3, 4, 5, 6, 14, 1, 2, 3, 4, 6, 11, 1, 2, 3, 5, 14, 1, 2, 14, 1, 2, 3, 4, 5, 10, 1, 2, 4, 5, 6, 1, 2, 4, 5, 6, 7, 8, 1, 2, 9, 1, 2, 7, 10, 1, 2, 3, 14, 1, 2, 3, 5, 7, 12, 1, 2, 4, 5, 7, 1, 2, 4, 5, 1, 2, 8, 11, 1, 2, 3, 4, 11, 13, 1, 2, 3, 5, 6, 10, 1, 2, 3, 5, 6, 1, 2, 3, 4, 6, 7, 12, 1, 2, 3, 4, 1, 2, 3, 4, 5, 6, 1, 2, 5, 6, 1, 2, 5, 7, 1, 2, 3, 4, 5, 7, 1, 2, 3, 4, 5, 6, 15, 1, 2, 5, 6, 1, 2, 4, 6, 1, 2, 3, 6, 7, 11, 1, 2, 7, 1, 2, 3, 4, 5, 7, 13, 1, 2, 5, 7, 8, 1, 2, 3, 7, 1, 2, 3, 1, 2, 4, 5, 6, 10, 15, 1, 2, 3, 5, 1, 2, 3, 4, 6, 1, 2, 1, 2, 3, 1, 2, 3, 13, 1, 2, 5, 6, 10, 1, 2, 5, 9, 1, 2, 3, 4, 1, 2, 3, 4, 5, 6, 1, 2, 6, 8, 9, 13, 1, 2, 5, 14, 1, 2, 5, 6, 1, 2, 3, 1, 2, 5, 1, 2, 4, 6, 12, 1, 2, 4, 1, 2, 4, 6, 1, 2, 6, 1, 2, 5, 6, 8, 12, 1, 2, 5, 6, 17, 1, 2, 5, 9, 11, 1, 2, 1, 2, 3, 8, 11, 1, 2, 5, 1, 2, 6, 1, 2, 3, 1, 2, 4, 6, 13, 1, 2, 6, 16, 1, 2, 1, 2, 8, 9, 1, 2, 10, 1, 2, 14, 16, 1, 2, 3, 4, 5, 6, 9, 10, 11, 15, 1, 2, 1, 2, 12, 1, 2, 3, 1, 2, 3, 10, 1, 2, 5, 1, 2, 5, 6, 8, 1, 2, 3, 11, 1, 2, 3, 4, 7, 1, 2, 3, 4, 7, 8, 14, 1, 2, 6, 8, 1, 2, 3, 1, 2, 5, 6, 1, 2, 3, 7, 9, 10, 1, 2, 3, 5, 6, 1, 2, 3, 1, 2, 3, 6, 1, 2, 5, 8, 1, 2, 8, 1, 2, 3, 4, 5, 11, 1, 2, 4, 5, 1, 2, 5, 6, 8, 9, 1, 2, 4, 6, 10, 1, 2, 5, 1, 2, 6, 12, 1, 2, 1, 2, 3, 4, 6, 1, 2, 4, 5, 7, 1, 2, 3, 4, 1, 2, 4, 6, 1, 2, 5, 1, 2, 3, 7, 9, 10, 1, 2, 3, 10, 1, 2, 5, 6, 7, 1, 2, 4, 5, 6, 11, 14, 1, 2, 3, 4, 5, 13, 1, 2, 3, 4, 6, 10, 1, 2, 5, 10, 1, 2, 4, 1, 2, 7, 1, 2, 3, 4, 7, 8, 1, 2, 3, 4, 5, 6, 11, 1, 2, 5, 1, 2, 4, 13, 1, 2, 5, 8, 1, 2, 4, 7, 1, 2, 3, 1, 2, 3, 1, 2, 3, 4, 8, 1, 2, 3, 4, 6, 7, 9, 10, 12, 14, 1, 2, 3, 5, 6, 1, 2, 8, 11, 12, 1, 2, 3, 1, 2, 5, 7, 1, 2, 5, 1, 2, 4, 5, 1, 2, 3, 1, 2, 4, 1, 2, 1, 2, 1, 2, 3, 6, 10, 1, 2, 4, 1, 2, 3, 1, 2, 4, 5, 7, 9, 1, 2, 3, 4, 5, 6, 1, 2, 1, 2, 6, 1, 2, 4, 6, 1, 2, 6, 13, 1, 2, 6, 12, 1, 2, 1, 2, 6, 1, 2, 4, 5, 6, 11, 15, 1, 2, 3, 1, 2, 4, 1, 2, 5, 7, 1, 2, 6, 8, 14, 1, 2, 3, 8, 1, 2, 4, 7, 10, 1, 2, 3, 7, 1, 2, 3, 4, 5, 9, 1, 2, 3, 5, 7, 1, 2, 3, 4, 5, 1, 2, 3, 8, 1, 2, 3, 6, 1, 2, 3, 5, 6, 9, 14, 1, 2, 3, 14, 1, 2, 3, 6, 8, 1, 2, 3, 5, 6, 11, 1, 2, 3, 5, 6, 8, 1, 2, 4, 11, 1, 2, 3, 6, 8, 15, 1, 2, 3, 1, 2, 3, 5, 8, 1, 2, 4, 5, 1, 2, 5, 1, 2, 17, 1, 2, 3, 7, 11, 1, 2, 6, 8, 1, 2, 3, 4, 7, 1, 2, 3, 5, 1, 2, 3, 6, 8, 1, 2, 4, 1, 2, 3, 7, 1, 2, 3, 4, 5, 6, 11, 12, 1, 2, 3, 1, 2, 3, 5, 7, 1, 2, 3, 5, 15, 1, 2, 1, 2, 12, 1, 2, 3, 5, 7, 10, 16, 1, 2, 9, 11, 1, 2, 14, 1, 2, 5, 7, 1, 2, 3, 4, 5, 7, 1, 2, 3, 1, 2, 5, 6, 8, 9, 1, 2, 3, 4, 5, 9, 1, 2, 1, 2, 1, 2, 4, 5, 7, 1, 2, 7, 10, 1, 2, 6, 7, 1, 2, 5, 7, 8, 1, 2, 3, 4, 1, 2, 1, 2, 3, 5, 10, 1, 2, 4, 5, 1, 2, 3, 5, 11, 1, 2, 4, 9, 1, 2, 3, 8, 1, 2, 3, 5, 9, 1, 2, 3, 1, 2, 3, 5, 1, 2, 3, 6, 8, 1, 2, 5, 11, 1, 2, 3, 4, 5, 12, 1, 2, 3, 4, 5, 1, 2, 3, 4, 5, 1, 2, 3, 5, 6, 1, 2, 6, 1, 2, 3, 4, 6, 11, 12, 1, 2, 3, 6, 7, 1, 2, 5, 9, 11, 1, 2, 4, 5, 6, 1, 2, 4, 1, 2, 12, 17, 1, 2, 3, 1, 2, 5, 9, 15, 1, 2, 3, 4, 5, 6, 7, 10, 12, 1, 2, 8, 10, 1, 2, 4, 6, 1, 2, 3, 1, 2, 3, 4, 6, 1, 2, 3, 5, 1, 2, 4, 8, 1, 2, 4, 1, 2, 3, 4, 6, 10, 1, 2, 3, 5, 12, 1, 2, 3, 12, 1, 2, 5, 6, 7, 9, 1, 2, 11, 13, 1, 2, 3, 4, 7, 1, 2, 3, 9, 14, 1, 2, 3, 4, 5, 11, 1, 2, 3, 4, 6, 7, 8, 1, 2, 4, 5, 6, 1, 2, 4, 1, 2, 5, 9, 1, 2, 7, 9, 1, 2, 3, 6, 11, 13, 1, 2, 6, 1, 2, 4, 5, 1, 2, 3, 4, 8, 12, 1, 2, 1, 2, 3, 4, 5, 1, 2, 3, 4, 5, 1, 2, 3, 4, 5, 6, 1, 2, 3, 4, 5, 6, 12, 1, 2, 6, 1, 2, 3, 5, 6, 1, 2, 3, 4, 9, 11, 1, 2, 1, 2, 3, 4, 6, 1, 2, 3, 5, 1, 2, 3, 4, 5, 1, 2, 3, 5, 6, 11, 1, 2, 7, 1, 2, 3, 4, 1, 2, 3, 4, 9, 1, 2, 3, 9, 1, 2, 3, 5, 6], \"Freq\": [0.12296690059534837, 0.12296690059534837, 0.3689007017860451, 0.12296690059534837, 0.3940280364609357, 0.34477453190331875, 0.04925350455761696, 0.04925350455761696, 0.04925350455761696, 0.1479116364199719, 0.1479116364199719, 0.2958232728399438, 0.1479116364199719, 0.6300731480912518, 0.1454014957133658, 0.0484671652377886, 0.0484671652377886, 0.04948647038840893, 0.7422970558261339, 0.09897294077681786, 0.14185079992346455, 0.14185079992346455, 0.14185079992346455, 0.14185079992346455, 0.14185079992346455, 0.14995508873466096, 0.14995508873466096, 0.44986526620398287, 0.14995508873466096, 0.10808896277686397, 0.10808896277686397, 0.10808896277686397, 0.10808896277686397, 0.10808896277686397, 0.21617792555372795, 0.10808896277686397, 0.8152214628998308, 0.04290639278420162, 0.02145319639210081, 0.06435958917630243, 0.04290639278420162, 0.10650370693987965, 0.10650370693987965, 0.5325185346993982, 0.10650370693987965, 0.05926225169920755, 0.4148357618944528, 0.4148357618944528, 0.12483208125731753, 0.6241604062865876, 0.04161069375243918, 0.12483208125731753, 0.07165391677980083, 0.7165391677980084, 0.07165391677980083, 0.07608001557281137, 0.7608001557281137, 0.06647324921787587, 0.33236624608937937, 0.06647324921787587, 0.06647324921787587, 0.06647324921787587, 0.13294649843575174, 0.1994197476536276, 0.06647324921787587, 0.622044712653075, 0.05654951933209773, 0.05654951933209773, 0.1696485579962932, 0.11309903866419546, 0.6802819733649678, 0.04001658666852752, 0.16006634667411007, 0.04001658666852752, 0.04001658666852752, 0.04001658666852752, 0.14869028029329986, 0.14869028029329986, 0.14869028029329986, 0.14869028029329986, 0.29738056058659973, 0.7575388380618947, 0.09469235475773684, 0.07101926606830263, 0.04734617737886842, 0.8781526453635241, 0.03512610581454097, 0.03512610581454097, 0.09701087173054392, 0.09701087173054392, 0.6790761021138074, 0.030956931691234438, 0.712009428898392, 0.12382772676493775, 0.030956931691234438, 0.030956931691234438, 0.030956931691234438, 0.03707531321788008, 0.44490375861456094, 0.22245187930728047, 0.11122593965364024, 0.07415062643576016, 0.03707531321788008, 0.03707531321788008, 0.03707531321788008, 0.03707531321788008, 0.08791455738778624, 0.7033164591022899, 0.1728747773486552, 0.1728747773486552, 0.1728747773486552, 0.1728747773486552, 0.5065876168631803, 0.37019864309232403, 0.01948413911012232, 0.01948413911012232, 0.01948413911012232, 0.01948413911012232, 0.01948413911012232, 0.10410400195269796, 0.6246240117161878, 0.10410400195269796, 0.15104978943678604, 0.15104978943678604, 0.15104978943678604, 0.15104978943678604, 0.1836674039670948, 0.1836674039670948, 0.1836674039670948, 0.1836674039670948, 0.11286519789160761, 0.45146079156643043, 0.11286519789160761, 0.11286519789160761, 0.11286519789160761, 0.08562725648694593, 0.6850180518955674, 0.0724064587360276, 0.6516581286242484, 0.0724064587360276, 0.1448129174720552, 0.14295114017759747, 0.14295114017759747, 0.28590228035519494, 0.14295114017759747, 0.17139264328807108, 0.17139264328807108, 0.17139264328807108, 0.17139264328807108, 0.11375289600820153, 0.11375289600820153, 0.22750579201640306, 0.22750579201640306, 0.22750579201640306, 0.12472595231231123, 0.12472595231231123, 0.37417785693693373, 0.12472595231231123, 0.12472595231231123, 0.07818056047162975, 0.07818056047162975, 0.46908336282977847, 0.1563611209432595, 0.07818056047162975, 0.07818056047162975, 0.15217975460921013, 0.15217975460921013, 0.30435950921842025, 0.07602997750013199, 0.6082398200010559, 0.07602997750013199, 0.10085766246530814, 0.20171532493061628, 0.5042883123265407, 0.06804848168533022, 0.7485332985386324, 0.8360643505172205, 0.023887552871920587, 0.047775105743841174, 0.023887552871920587, 0.023887552871920587, 0.023887552871920587, 0.10282503202701584, 0.2056500640540317, 0.2056500640540317, 0.2056500640540317, 0.10282503202701584, 0.0815259438819374, 0.6522075510554992, 0.0815259438819374, 0.0815259438819374, 0.10288648579617367, 0.10288648579617367, 0.20577297159234734, 0.20577297159234734, 0.30865945738852096, 0.6115490374545884, 0.10192483957576474, 0.04333971156562655, 0.8234545197469044, 0.04333971156562655, 0.10458211240312856, 0.10458211240312856, 0.41832844961251425, 0.20916422480625713, 0.564355280172859, 0.1128710560345718, 0.1128710560345718, 0.12061070052996022, 0.12061070052996022, 0.48244280211984086, 0.12061070052996022, 0.13069157577796997, 0.13069157577796997, 0.3920747273339099, 0.13069157577796997, 0.13538816603215031, 0.13538816603215031, 0.40616449809645094, 0.13538816603215031, 0.7402989647611451, 0.04935326431740967, 0.09870652863481934, 0.04935326431740967, 0.09611418477967867, 0.6727992934577507, 0.09611418477967867, 0.09611418477967867, 0.11552249882233254, 0.11552249882233254, 0.23104499764466507, 0.3465674964669976, 0.8543969710263963, 0.035599873792766516, 0.035599873792766516, 0.035599873792766516, 0.0996471601335268, 0.0996471601335268, 0.0996471601335268, 0.2989414804005804, 0.1992943202670536, 0.10701637092849631, 0.3210491127854889, 0.3210491127854889, 0.14947684956252347, 0.14947684956252347, 0.29895369912504693, 0.04728509139602301, 0.37828073116818406, 0.42556582256420705, 0.04728509139602301, 0.0573340306563154, 0.40133821459420777, 0.1146680613126308, 0.2293361226252616, 0.0573340306563154, 0.15848535111238138, 0.15848535111238138, 0.15848535111238138, 0.15848535111238138, 0.14321532506582438, 0.14321532506582438, 0.42964597519747316, 0.690214716507644, 0.04930105117911743, 0.09860210235823486, 0.04930105117911743, 0.12890246078179374, 0.12890246078179374, 0.38670738234538127, 0.4680170747443217, 0.11700426868608042, 0.11700426868608042, 0.6760324804655403, 0.06438404575862289, 0.032192022879311444, 0.12876809151724578, 0.032192022879311444, 0.032192022879311444, 0.8096149138153405, 0.05782963670109574, 0.02891481835054787, 0.02891481835054787, 0.02891481835054787, 0.05740032180504727, 0.7462041834656145, 0.05740032180504727, 0.0456460442195294, 0.7759827517319997, 0.0912920884390588, 0.0456460442195294, 0.6438138584838821, 0.0643813858483882, 0.0643813858483882, 0.0643813858483882, 0.23614103685333293, 0.07871367895111098, 0.47228207370666586, 0.07871367895111098, 0.07871367895111098, 0.23814391157548767, 0.11907195578774384, 0.11907195578774384, 0.23814391157548767, 0.3586878532793954, 0.11956261775979847, 0.11956261775979847, 0.11956261775979847, 0.09562448629114066, 0.09562448629114066, 0.38249794516456265, 0.09562448629114066, 0.09562448629114066, 0.09562448629114066, 0.04212785279499771, 0.6740456447199633, 0.08425570558999541, 0.04212785279499771, 0.08425570558999541, 0.04212785279499771, 0.1195829463186399, 0.4783317852745596, 0.1195829463186399, 0.24462565098959796, 0.6115641274739949, 0.040770941831599655, 0.040770941831599655, 0.05499669887408493, 0.43997359099267946, 0.1649900966222548, 0.1649900966222548, 0.16648480731289864, 0.16648480731289864, 0.33296961462579727, 0.16648480731289864, 0.14491714641585846, 0.14491714641585846, 0.43475143924757537, 0.07185582411872667, 0.07185582411872667, 0.43113494471235997, 0.21556747235617998, 0.07185582411872667, 0.07185582411872667, 0.12282157565240776, 0.12282157565240776, 0.36846472695722327, 0.12282157565240776, 0.12282157565240776, 0.06946339962508116, 0.416780397750487, 0.3473169981254058, 0.06946339962508116, 0.10180581682800952, 0.10180581682800952, 0.5090290841400475, 0.20361163365601903, 0.7369909968659283, 0.04606193730412052, 0.04606193730412052, 0.09212387460824104, 0.10493583988532929, 0.5246791994266464, 0.10493583988532929, 0.07171020311746705, 0.1434204062349341, 0.43026121870480233, 0.1434204062349341, 0.37581230906817836, 0.12527076968939277, 0.25054153937878554, 0.12527076968939277, 0.07629069576414262, 0.45774417458485567, 0.07629069576414262, 0.15258139152828523, 0.07629069576414262, 0.060526583917914795, 0.7263190070149775, 0.060526583917914795, 0.060526583917914795, 0.7499196138176744, 0.04999464092117829, 0.09998928184235659, 0.04426323086074066, 0.7967381554933318, 0.04426323086074066, 0.7272713022325198, 0.06611557293022907, 0.06611557293022907, 0.06611557293022907, 0.11243096921901692, 0.11243096921901692, 0.3372929076570508, 0.22486193843803384, 0.11243096921901692, 0.10696138221281214, 0.5348069110640606, 0.16743900612871648, 0.16743900612871648, 0.16743900612871648, 0.07084111329997558, 0.5667289063998047, 0.14168222659995117, 0.07084111329997558, 0.5899058477494168, 0.03686911548433855, 0.2212146929060313, 0.0737382309686771, 0.03686911548433855, 0.8743001724731362, 0.04163334154633982, 0.0573997924777849, 0.6887975097334188, 0.1147995849555698, 0.11841418205650182, 0.11841418205650182, 0.35524254616950546, 0.11841418205650182, 0.11841418205650182, 0.17257127042565493, 0.17257127042565493, 0.34514254085130985, 0.1587915802039446, 0.1587915802039446, 0.1587915802039446, 0.1587915802039446, 0.09091163529264988, 0.6363814470485492, 0.09091163529264988, 0.182139693751489, 0.182139693751489, 0.182139693751489, 0.182139693751489, 0.08805796751238079, 0.5283478050742847, 0.17611593502476158, 0.08805796751238079, 0.11768934230128705, 0.11768934230128705, 0.2353786846025741, 0.2353786846025741, 0.11768934230128705, 0.11768934230128705, 0.8674789380730669, 0.040347857584793805, 0.020173928792396902, 0.10678233685517255, 0.5339116842758628, 0.10678233685517255, 0.830494858649564, 0.048852638744092, 0.24732214925801888, 0.24732214925801888, 0.18549161194351416, 0.24732214925801888, 0.11423135805255899, 0.34269407415767694, 0.11423135805255899, 0.22846271610511798, 0.11423135805255899, 0.08932265859911666, 0.26796797579735, 0.35729063439646663, 0.08932265859911666, 0.08932265859911666, 0.08932265859911666, 0.1910450053837115, 0.5094533476898973, 0.06368166846123716, 0.06368166846123716, 0.07604563753062618, 0.6083651002450094, 0.07604563753062618, 0.15209127506125236, 0.08528663809169011, 0.17057327618338022, 0.4264331904584506, 0.08528663809169011, 0.14610515827291276, 0.14610515827291276, 0.4383154748187383, 0.14610515827291276, 0.12728351919170253, 0.3182087979792563, 0.44549231717095883, 0.06364175959585126, 0.11606045131922586, 0.11606045131922586, 0.34818135395767763, 0.11606045131922586, 0.11606045131922586, 0.7654533931222947, 0.06958667210202679, 0.046391114734684526, 0.023195557367342263, 0.046391114734684526, 0.6605390759190627, 0.23438483339063515, 0.021307712126421376, 0.021307712126421376, 0.021307712126421376, 0.021307712126421376, 0.07229011019466783, 0.36145055097333917, 0.2168703305840035, 0.14458022038933566, 0.07229011019466783, 0.1727939427058418, 0.1727939427058418, 0.1727939427058418, 0.6900588733965833, 0.034502943669829166, 0.06900588733965833, 0.06900588733965833, 0.034502943669829166, 0.10055776317612929, 0.10055776317612929, 0.5027888158806464, 0.10055776317612929, 0.10055776317612929, 0.08823959241299605, 0.44119796206498024, 0.08823959241299605, 0.08823959241299605, 0.08823959241299605, 0.08823959241299605, 0.4946031980233468, 0.3597114167442522, 0.04496392709303153, 0.12128371144518851, 0.12128371144518851, 0.48513484578075405, 0.12128371144518851, 0.24699553831357868, 0.12349776915678934, 0.24699553831357868, 0.12349776915678934, 0.06907211833967063, 0.184192315572455, 0.5295529072708082, 0.04604807889311375, 0.0920961577862275, 0.023024039446556874, 0.09113219186857602, 0.6379253430800321, 0.09113219186857602, 0.04556609593428801, 0.7278815746705061, 0.021408281607956058, 0.021408281607956058, 0.12844968964773637, 0.06422484482386819, 0.09612846507869362, 0.4806423253934681, 0.09612846507869362, 0.09612846507869362, 0.3051629818497489, 0.1307841350784638, 0.43594711692821264, 0.14503839566814097, 0.14503839566814097, 0.29007679133628195, 0.14503839566814097, 0.6455771160917724, 0.06455771160917724, 0.12911542321835448, 0.13573947170753228, 0.13573947170753228, 0.13573947170753228, 0.13573947170753228, 0.13573947170753228, 0.13573947170753228, 0.11479593617846676, 0.11479593617846676, 0.34438780853540024, 0.2295918723569335, 0.11479593617846676, 0.16943656261959583, 0.16943656261959583, 0.16943656261959583, 0.16943656261959583, 0.16943656261959583, 0.16125182951433037, 0.16125182951433037, 0.16125182951433037, 0.16125182951433037, 0.8022434468616424, 0.03342681028590177, 0.03342681028590177, 0.03342681028590177, 0.03342681028590177, 0.6500236767574218, 0.05000182128903244, 0.17500637451161355, 0.02500091064451622, 0.02500091064451622, 0.02500091064451622, 0.24839551286952324, 0.12419775643476162, 0.3725932693042849, 0.6445342287125212, 0.2085257798775804, 0.05687066723934011, 0.018956889079780038, 0.037913778159560076, 0.1520123141188167, 0.1520123141188167, 0.45603694235645004, 0.09605047687797542, 0.3842019075119017, 0.19210095375595085, 0.09605047687797542, 0.11093450429742435, 0.11093450429742435, 0.5546725214871218, 0.1575543734758722, 0.0787771867379361, 0.0787771867379361, 0.2363315602138083, 0.3151087469517444, 0.7459887837102339, 0.04973258558068226, 0.04973258558068226, 0.04973258558068226, 0.04973258558068226, 0.12765301763629833, 0.12765301763629833, 0.25530603527259665, 0.12765301763629833, 0.12765301763629833, 0.18284113319421222, 0.18284113319421222, 0.36568226638842444, 0.1633644625717756, 0.1633644625717756, 0.3267289251435512, 0.11896320972065622, 0.11896320972065622, 0.35688962916196865, 0.11896320972065622, 0.08915309728829435, 0.6240716810180604, 0.08915309728829435, 0.08915309728829435, 0.10717824580697628, 0.10717824580697628, 0.21435649161395257, 0.21435649161395257, 0.10717824580697628, 0.10717824580697628, 0.10717824580697628, 0.11899265274023932, 0.11899265274023932, 0.23798530548047864, 0.356977958220718, 0.09218628046943228, 0.09218628046943228, 0.3687451218777291, 0.09218628046943228, 0.18437256093886456, 0.09892136047832566, 0.09892136047832566, 0.3956854419133026, 0.1978427209566513, 0.09892136047832566, 0.131076728336986, 0.131076728336986, 0.131076728336986, 0.262153456673972, 0.131076728336986, 0.03560892162186461, 0.03560892162186461, 0.07121784324372922, 0.42730705946237535, 0.2848713729749169, 0.03560892162186461, 0.03560892162186461, 0.03560892162186461, 0.03560892162186461, 0.05195899099069711, 0.7274258738697595, 0.05195899099069711, 0.11277504725612139, 0.11277504725612139, 0.22555009451224278, 0.22555009451224278, 0.11277504725612139, 0.11277504725612139, 0.13509443226241816, 0.13509443226241816, 0.2701888645248363, 0.13509443226241816, 0.13509443226241816, 0.17724016108176552, 0.17724016108176552, 0.17724016108176552, 0.17724016108176552, 0.17724016108176552, 0.14519550325686806, 0.14519550325686806, 0.4355865097706042, 0.13679308031953025, 0.13679308031953025, 0.13679308031953025, 0.13679308031953025, 0.13679308031953025, 0.1674533433617695, 0.1674533433617695, 0.1674533433617695, 0.1674533433617695, 0.14268284998289132, 0.14268284998289132, 0.28536569996578265, 0.14268284998289132, 0.12027743891601174, 0.12027743891601174, 0.12027743891601174, 0.36083231674803523, 0.6609308911443711, 0.03478583637601953, 0.20871501825611716, 0.14160275173780612, 0.14160275173780612, 0.28320550347561224, 0.28320550347561224, 0.05350972340917924, 0.6956264043193301, 0.05350972340917924, 0.05350972340917924, 0.06561163669994924, 0.06561163669994924, 0.39366982019969543, 0.13122327339989848, 0.13122327339989848, 0.06561163669994924, 0.7241180168627666, 0.06582891062388788, 0.06582891062388788, 0.11039946127521201, 0.44159784510084804, 0.11039946127521201, 0.055199730637606005, 0.055199730637606005, 0.055199730637606005, 0.055199730637606005, 0.07296585510892474, 0.7296585510892474, 0.07296585510892474, 0.13797840268145956, 0.13797840268145956, 0.13797840268145956, 0.2759568053629191, 0.13797840268145956, 0.3186214266208692, 0.10620714220695639, 0.21241428441391277, 0.10620714220695639, 0.10620714220695639, 0.30407287860247506, 0.050678813100412515, 0.35475169170288756, 0.050678813100412515, 0.050678813100412515, 0.050678813100412515, 0.050678813100412515, 0.18908855188135534, 0.09454427594067767, 0.09454427594067767, 0.09454427594067767, 0.18908855188135534, 0.09454427594067767, 0.09454427594067767, 0.04753708929009202, 0.04753708929009202, 0.4753708929009202, 0.09507417858018404, 0.14261126787027606, 0.04753708929009202, 0.04753708929009202, 0.44843279614303644, 0.11210819903575911, 0.22421639807151822, 0.11210819903575911, 0.11662363550654901, 0.11662363550654901, 0.46649454202619606, 0.11662363550654901, 0.08766947567458355, 0.08766947567458355, 0.26300842702375066, 0.26300842702375066, 0.08766947567458355, 0.08766947567458355, 0.08766947567458355, 0.12882398114561366, 0.12882398114561366, 0.25764796229122733, 0.25764796229122733, 0.7440758878316518, 0.03720379439158259, 0.07440758878316518, 0.07440758878316518, 0.04697382898712753, 0.3757906318970202, 0.3757906318970202, 0.1409214869613826, 0.04697382898712753, 0.09338242091603263, 0.5602945254961958, 0.09338242091603263, 0.31363982884592945, 0.25661440541939684, 0.28512711713266314, 0.05702542342653263, 0.028512711713266314, 0.028512711713266314, 0.20950312171055502, 0.10475156085527751, 0.10475156085527751, 0.3142546825658325, 0.10475156085527751, 0.10475156085527751, 0.8129412892520997, 0.02322689397863142, 0.04645378795726284, 0.04645378795726284, 0.29734727229228436, 0.08495636351208126, 0.4247818175604063, 0.04247818175604063, 0.04247818175604063, 0.8907855699984841, 0.030716743793051178, 0.030716743793051178, 0.030716743793051178, 0.6573679095379266, 0.0973878384500632, 0.0243469596125158, 0.121734798062579, 0.0730408788375474, 0.8711049114509208, 0.04584762691846952, 0.1643276429767166, 0.1643276429767166, 0.1643276429767166, 0.1643276429767166, 0.3552990823099682, 0.4263588987719618, 0.06983979516352903, 0.27935918065411613, 0.34919897581764514, 0.06983979516352903, 0.06983979516352903, 0.7402103045333451, 0.08708356523921706, 0.04354178261960853, 0.04354178261960853, 0.6380937954511324, 0.06380937954511325, 0.1276187590902265, 0.11027483358987378, 0.11027483358987378, 0.22054966717974755, 0.33082450076962133, 0.11027483358987378, 0.178446268206312, 0.178446268206312, 0.178446268206312, 0.14132670481887197, 0.14132670481887197, 0.42398011445661593, 0.10078304990147768, 0.40313219960591073, 0.20156609980295537, 0.10078304990147768, 0.11949500176917216, 0.23899000353834432, 0.11949500176917216, 0.11949500176917216, 0.23899000353834432, 0.11949500176917216, 0.03626785236822845, 0.5802856378916552, 0.2176071142093707, 0.0725357047364569, 0.25123297524496563, 0.5024659504899313, 0.0837443250816552, 0.07956618437214057, 0.15913236874428113, 0.15913236874428113, 0.31826473748856227, 0.07956618437214057, 0.07956618437214057, 0.8261921094521156, 0.04859953585012445, 0.0730508163769436, 0.7305081637694361, 0.0730508163769436, 0.0730508163769436, 0.867402936201042, 0.048189052011169, 0.11927804273948117, 0.11927804273948117, 0.4771121709579247, 0.13492150006892775, 0.13492150006892775, 0.40476450020678323, 0.13492150006892775, 0.15984769421432915, 0.15984769421432915, 0.3196953884286583, 0.15984769421432915, 0.15984769421432915, 0.1660728294915152, 0.1660728294915152, 0.3321456589830304, 0.7537036895894188, 0.0685185172354017, 0.0685185172354017, 0.06162457409997383, 0.739494889199686, 0.06162457409997383, 0.7916062670352767, 0.060892789771944365, 0.060892789771944365, 0.14389095362018553, 0.14389095362018553, 0.43167286086055656, 0.14389095362018553, 0.3459762668251652, 0.0864940667062913, 0.1729881334125826, 0.2594822001188739, 0.13161363381842558, 0.13161363381842558, 0.3948409014552767, 0.28966373586234784, 0.09655457862078261, 0.09655457862078261, 0.19310915724156522, 0.19310915724156522, 0.15503378474545595, 0.15503378474545595, 0.15503378474545595, 0.15503378474545595, 0.15503378474545595, 0.09983062291885343, 0.09983062291885343, 0.49915311459426714, 0.09983062291885343, 0.1710218974173246, 0.1710218974173246, 0.1710218974173246, 0.1710218974173246, 0.1710218974173246, 0.1301588304511268, 0.1301588304511268, 0.1301588304511268, 0.2603176609022536, 0.1301588304511268, 0.1301588304511268, 0.5088790892871464, 0.3180494308044665, 0.015902471540223326, 0.015902471540223326, 0.0636098861608933, 0.015902471540223326, 0.11895319171574269, 0.11895319171574269, 0.35685957514722805, 0.11895319171574269, 0.11895319171574269, 0.8293286596975562, 0.04364887682618717, 0.021824438413093585, 0.021824438413093585, 0.021824438413093585, 0.021824438413093585, 0.04609715464361151, 0.6914573196541727, 0.09219430928722303, 0.09219430928722303, 0.11988130481069495, 0.11988130481069495, 0.2397626096213899, 0.11988130481069495, 0.11988130481069495, 0.8639520523451921, 0.03599800218104967, 0.7361076695815233, 0.06691887905286575, 0.06691887905286575, 0.8229566890977656, 0.034289862045740235, 0.034289862045740235, 0.11243724735110727, 0.11243724735110727, 0.4497489894044291, 0.22487449470221454, 0.046226998129042456, 0.8320859663227642, 0.046226998129042456, 0.12044443634660484, 0.5419999635597218, 0.06022221817330242, 0.06022221817330242, 0.06022221817330242, 0.06022221817330242, 0.06022221817330242, 0.045979650024101676, 0.6437151003374234, 0.09195930004820335, 0.045979650024101676, 0.8432999890363025, 0.04438420994927908, 0.04438420994927908, 0.06686345833274733, 0.06686345833274733, 0.6686345833274733, 0.06686345833274733, 0.0787541090569063, 0.0787541090569063, 0.3937705452845315, 0.0787541090569063, 0.0787541090569063, 0.0787541090569063, 0.0787541090569063, 0.12446206725477056, 0.12446206725477056, 0.24892413450954112, 0.12446206725477056, 0.2599028292872764, 0.1299514146436382, 0.1299514146436382, 0.1299514146436382, 0.1299514146436382, 0.1299514146436382, 0.03862223718800838, 0.6565780321961425, 0.15448894875203353, 0.03862223718800838, 0.12940232792089626, 0.12940232792089626, 0.2588046558417925, 0.12940232792089626, 0.12940232792089626, 0.040540393013724224, 0.44594432315096644, 0.1621615720548969, 0.12162117904117267, 0.040540393013724224, 0.040540393013724224, 0.040540393013724224, 0.41755724988319737, 0.29825517848799815, 0.05965103569759962, 0.11930207139519924, 0.04434601783823437, 0.04434601783823437, 0.8425743389264532, 0.09262367867583478, 0.5557420720550086, 0.09262367867583478, 0.09262367867583478, 0.12952337120056706, 0.6476168560028353, 0.04317445706685569, 0.04317445706685569, 0.04317445706685569, 0.5249994196160102, 0.14583317211555838, 0.20416644096178174, 0.029166634423111674, 0.029166634423111674, 0.6695409177817105, 0.1487868706181579, 0.07439343530907895, 0.07202401282577724, 0.7202401282577724, 0.07202401282577724, 0.6444009704351057, 0.1933202911305317, 0.048330072782632925, 0.016110024260877643, 0.048330072782632925, 0.016110024260877643, 0.14601301000250985, 0.14601301000250985, 0.14601301000250985, 0.14601301000250985, 0.14601301000250985, 0.8017293706479124, 0.07758671328850765, 0.025862237762835884, 0.025862237762835884, 0.06915688121340899, 0.6915688121340898, 0.06915688121340899, 0.06915688121340899, 0.8369947463941222, 0.026999830528842653, 0.026999830528842653, 0.026999830528842653, 0.053999661057685305, 0.09188409916094932, 0.551304594965696, 0.09188409916094932, 0.09188409916094932, 0.09188409916094932, 0.16917386664555592, 0.16917386664555592, 0.16917386664555592, 0.16917386664555592, 0.6329576056543201, 0.0904225150934743, 0.04521125754673715, 0.04521125754673715, 0.04521125754673715, 0.0904225150934743, 0.11634641079851019, 0.11634641079851019, 0.3490392323955306, 0.10883557679229448, 0.10883557679229448, 0.32650673037688344, 0.21767115358458897, 0.10883557679229448, 0.1430619542528082, 0.1430619542528082, 0.1430619542528082, 0.2861239085056164, 0.8309708083576537, 0.029677528869916207, 0.029677528869916207, 0.029677528869916207, 0.029677528869916207, 0.23163212355580445, 0.07721070785193482, 0.23163212355580445, 0.15442141570386964, 0.07721070785193482, 0.07721070785193482, 0.07721070785193482, 0.46815782879256523, 0.3121052191950435, 0.1040350730650145, 0.8418529712290218, 0.04430805111731694, 0.09442804924017634, 0.09442804924017634, 0.4721402462008817, 0.18885609848035267, 0.12895364228818126, 0.12895364228818126, 0.3868609268645438, 0.12895364228818126, 0.12895364228818126, 0.10710172305798733, 0.10710172305798733, 0.42840689223194933, 0.21420344611597467, 0.1547795420929951, 0.1547795420929951, 0.1547795420929951, 0.1547795420929951, 0.1547795420929951, 0.14396962110680292, 0.14396962110680292, 0.43190886332040873, 0.06784962019655404, 0.6106465817689863, 0.13569924039310807, 0.06784962019655404, 0.6183549377974796, 0.07729436722468495, 0.1545887344493699, 0.07729436722468495, 0.13523312502477247, 0.13523312502477247, 0.5409325000990899, 0.8598777494605452, 0.05732518329736968, 0.02866259164868484, 0.02866259164868484, 0.02866259164868484, 0.5521621273821248, 0.3513758992431703, 0.025098278517369305, 0.5725325266617292, 0.21469969749814843, 0.06105231998146457, 0.06105231998146457, 0.5494708798331811, 0.06105231998146457, 0.12210463996292914, 0.06105231998146457, 0.07201714273355238, 0.21605142820065712, 0.3600857136677619, 0.07201714273355238, 0.07201714273355238, 0.07201714273355238, 0.07201714273355238, 0.13710555904686378, 0.13710555904686378, 0.41131667714059134, 0.31298919674906883, 0.21909243772434817, 0.1877935180494413, 0.12519567869962753, 0.03129891967490688, 0.06259783934981376, 0.03129891967490688, 0.1889479432622561, 0.5668438297867683, 0.04723698581556403, 0.04723698581556403, 0.04723698581556403, 0.21208399809659792, 0.21208399809659792, 0.21208399809659792, 0.129560959678661, 0.129560959678661, 0.129560959678661, 0.129560959678661, 0.129560959678661, 0.7816147517016286, 0.0679665001479677, 0.03398325007398385, 0.0679665001479677, 0.8171896589023884, 0.04300998204749413, 0.05656777993583425, 0.7353811391658452, 0.05656777993583425, 0.0825494737068833, 0.6603957896550664, 0.7547753481655243, 0.0905730417798629, 0.03019101392662097, 0.03019101392662097, 0.015095506963310485, 0.04528652088993145, 0.015095506963310485, 0.09101060351532679, 0.45505301757663397, 0.09101060351532679, 0.18202120703065358, 0.09101060351532679, 0.09101060351532679, 0.02664744669409263, 0.2664744669409263, 0.47965404049366733, 0.1598846801645558, 0.02664744669409263, 0.17578258602527796, 0.7031303441011119, 0.03515651720505559, 0.8534215713235399, 0.021335539283088498, 0.021335539283088498, 0.021335539283088498, 0.042671078566176995, 0.021335539283088498, 0.1067783911072876, 0.1067783911072876, 0.4271135644291504, 0.1067783911072876, 0.1067783911072876, 0.0699293664706441, 0.2097880994119323, 0.2097880994119323, 0.2097880994119323, 0.0699293664706441, 0.0699293664706441, 0.0699293664706441, 0.21080704040712947, 0.21080704040712947, 0.21080704040712947, 0.6850248352212515, 0.05708540293510429, 0.11417080587020859, 0.05708540293510429, 0.4924873992186296, 0.2814213709820741, 0.07035534274551852, 0.07035534274551852, 0.43188740376414253, 0.07198123396069042, 0.21594370188207127, 0.07198123396069042, 0.07198123396069042, 0.07198123396069042, 0.3336872776902308, 0.2780727314085257, 0.11122909256341028, 0.05561454628170514, 0.05561454628170514, 0.10550860772392147, 0.21101721544784294, 0.21101721544784294, 0.3165258231717644, 0.10249155237212275, 0.409966209488491, 0.10249155237212275, 0.10249155237212275, 0.09965275588932009, 0.09965275588932009, 0.39861102355728034, 0.09965275588932009, 0.09965275588932009, 0.09965275588932009, 0.49523001413819595, 0.38340388191344205, 0.031950323492786835, 0.031950323492786835, 0.015975161746393417, 0.015975161746393417, 0.08011469999447364, 0.5608028999613155, 0.08011469999447364, 0.08011469999447364, 0.08011469999447364, 0.09490827404953789, 0.28472482214861367, 0.09490827404953789, 0.18981654809907578, 0.09490827404953789, 0.09490827404953789, 0.09490827404953789, 0.11241195199047302, 0.4496478079618921, 0.11241195199047302, 0.11241195199047302, 0.8574742877726791, 0.01714948575545358, 0.06859794302181432, 0.01714948575545358, 0.01714948575545358, 0.01714948575545358, 0.15031902088047364, 0.15031902088047364, 0.15031902088047364, 0.15031902088047364, 0.0655073068996377, 0.655073068996377, 0.0655073068996377, 0.0655073068996377, 0.7377700923330273, 0.08512731834611853, 0.02837577278203951, 0.02837577278203951, 0.02837577278203951, 0.05675154556407902, 0.10268424509875596, 0.10268424509875596, 0.2053684901975119, 0.2053684901975119, 0.10268424509875596, 0.2053684901975119, 0.10268424509875596, 0.058284576578176206, 0.46627661262540965, 0.29142288289088103, 0.11656915315635241, 0.1268519976428539, 0.1268519976428539, 0.2537039952857078, 0.2537039952857078, 0.0959243173189117, 0.0959243173189117, 0.3836972692756468, 0.1918486346378234, 0.0959243173189117, 0.0959243173189117, 0.1352515148260494, 0.4057545444781483, 0.1352515148260494, 0.3235960328211496, 0.47294804796937256, 0.02489200252470382, 0.02489200252470382, 0.04978400504940764, 0.02489200252470382, 0.02489200252470382, 0.14224277834867327, 0.14224277834867327, 0.28448555669734654, 0.14224277834867327, 0.14224277834867327, 0.09436458085649126, 0.09436458085649126, 0.5661874851389476, 0.09436458085649126, 0.6314054742205334, 0.07015616380228148, 0.21046849140684445, 0.09166464008769953, 0.09166464008769953, 0.2749939202630986, 0.09166464008769953, 0.18332928017539907, 0.09166464008769953, 0.09166464008769953, 0.06634063651988524, 0.1990219095596557, 0.46438445563919667, 0.13268127303977048, 0.13155626759002292, 0.13155626759002292, 0.13155626759002292, 0.26311253518004585, 0.26311253518004585, 0.10586506714852101, 0.5293253357426051, 0.16104921481836246, 0.16104921481836246, 0.3220984296367249, 0.09708631222179086, 0.09708631222179086, 0.48543156110895425, 0.09708631222179086, 0.12627466331707857, 0.3788239899512357, 0.12627466331707857, 0.12627466331707857, 0.12627466331707857, 0.7454522469218775, 0.03727261234609387, 0.1490904493843755, 0.03727261234609387, 0.09093692038901263, 0.09093692038901263, 0.5456215223340758, 0.18187384077802526, 0.8382823638599203, 0.02794274546199734, 0.02794274546199734, 0.02794274546199734, 0.02794274546199734, 0.02794274546199734, 0.6173138649839138, 0.17637538999540395, 0.04409384749885099, 0.04409384749885099, 0.04409384749885099, 0.04409384749885099, 0.37705705767596587, 0.09426426441899147, 0.2827927932569744, 0.09426426441899147, 0.4944798454630069, 0.08241330757716782, 0.16482661515433564, 0.16482661515433564, 0.12038366683016759, 0.12038366683016759, 0.48153466732067035, 0.3999862524010641, 0.09999656310026603, 0.2999896893007981, 0.07719325796914664, 0.6175460637531731, 0.07719325796914664, 0.15438651593829328, 0.07719325796914664, 0.13468707622042786, 0.13468707622042786, 0.4040612286612836, 0.07436260049895528, 0.07436260049895528, 0.6692634044905975, 0.07436260049895528, 0.19778039213480722, 0.19778039213480722, 0.19778039213480722, 0.08797173410737857, 0.08797173410737857, 0.3518869364295143, 0.17594346821475715, 0.17594346821475715, 0.08797173410737857, 0.08076453786758817, 0.484587227205529, 0.08076453786758817, 0.16152907573517633, 0.08076453786758817, 0.3798802309970103, 0.1266267436656701, 0.18994011549850515, 0.1266267436656701, 0.06331337183283504, 0.8044714745595001, 0.06188242111996154, 0.07832061675138972, 0.15664123350277945, 0.4699237005083383, 0.07832061675138972, 0.07832061675138972, 0.12326967934216375, 0.2465393586843275, 0.36980903802649123, 0.18535027645820898, 0.18535027645820898, 0.18535027645820898, 0.13771290443185338, 0.13771290443185338, 0.4131387132955602, 0.15318921552931847, 0.15318921552931847, 0.30637843105863694, 0.15318921552931847, 0.15318921552931847, 0.09747493020075512, 0.5848495812045308, 0.09747493020075512, 0.09747493020075512, 0.43216145420413365, 0.14405381806804454, 0.18267694642052976, 0.18267694642052976, 0.18267694642052976, 0.18267694642052976, 0.6036691904748784, 0.12073383809497569, 0.060366919047487845, 0.07330981962351066, 0.6597883766115958, 0.07330981962351066, 0.07330981962351066, 0.22880354024619864, 0.2669374636205651, 0.24787050193338186, 0.07626784674873288, 0.03813392337436644, 0.03813392337436644, 0.01906696168718322, 0.03813392337436644, 0.01906696168718322, 0.01906696168718322, 0.7615949056110285, 0.1523189811222057, 0.7243402164084753, 0.08048224626760837, 0.08048224626760837, 0.06891681466425433, 0.7580849613067976, 0.06891681466425433, 0.8490426967303986, 0.028301423224346617, 0.028301423224346617, 0.028301423224346617, 0.4606209373294518, 0.3838507811078765, 0.038385078110787646, 0.07994085482058154, 0.07994085482058154, 0.5595859837440708, 0.07994085482058154, 0.07994085482058154, 0.10673996315746188, 0.32021988947238567, 0.32021988947238567, 0.10673996315746188, 0.1255378384984136, 0.46030540782751656, 0.20922973083068935, 0.04184594616613787, 0.04184594616613787, 0.09687455895824794, 0.7023405524472975, 0.024218639739561985, 0.04843727947912397, 0.024218639739561985, 0.024218639739561985, 0.024218639739561985, 0.6522795575215258, 0.07247550639128064, 0.07247550639128064, 0.07247550639128064, 0.11630099438049128, 0.46520397752196513, 0.11630099438049128, 0.10839767177150239, 0.10839767177150239, 0.43359068708600956, 0.10839767177150239, 0.07162557016621623, 0.28650228066486494, 0.28650228066486494, 0.07162557016621623, 0.07162557016621623, 0.07162557016621623, 0.09744140268704624, 0.09744140268704624, 0.19488280537409247, 0.19488280537409247, 0.19488280537409247, 0.5573676865171815, 0.07962395521674022, 0.15924791043348044, 0.5369902996761963, 0.06712378745952453, 0.06712378745952453, 0.2013713623785736, 0.1657915456332939, 0.1657915456332939, 0.1657915456332939, 0.1657915456332939, 0.12788318846480226, 0.511532753859209, 0.12788318846480226, 0.10587357245442389, 0.10587357245442389, 0.10587357245442389, 0.21174714490884777, 0.21174714490884777, 0.10587357245442389, 0.5932552468220885, 0.05932552468220885, 0.05932552468220885, 0.2373020987288354, 0.5591605261430985, 0.06212894734923317, 0.12425789469846633, 0.06212894734923317, 0.06212894734923317, 0.06212894734923317, 0.7973559808151696, 0.03986779904075848, 0.03986779904075848, 0.03986779904075848, 0.03986779904075848, 0.12731766904234088, 0.12731766904234088, 0.5092706761693635, 0.0884920298797421, 0.3539681195189684, 0.2654760896392263, 0.0884920298797421, 0.07832566954244773, 0.7049310258820295, 0.06531355047120001, 0.06531355047120001, 0.6531355047120001, 0.13062710094240002, 0.06531355047120001, 0.14671910244442957, 0.14671910244442957, 0.14671910244442957, 0.29343820488885913, 0.14671910244442957, 0.10638382959152189, 0.10638382959152189, 0.21276765918304377, 0.42553531836608754, 0.13790771425941925, 0.13790771425941925, 0.2758154285188385, 0.13790771425941925, 0.4618404438974884, 0.3078936292649923, 0.07697340731624808, 0.17910386393246513, 0.5373115917973954, 0.059701287977488374, 0.059701287977488374, 0.059701287977488374, 0.059701287977488374, 0.129247781074067, 0.129247781074067, 0.387743343222201, 0.129247781074067, 0.13315335834814934, 0.13315335834814934, 0.13315335834814934, 0.13315335834814934, 0.13315335834814934, 0.1528763761487648, 0.0764381880743824, 0.2293145642231472, 0.1528763761487648, 0.0764381880743824, 0.0764381880743824, 0.0764381880743824, 0.26831177039997356, 0.03833025291428194, 0.4216327820571013, 0.11499075874284581, 0.07666050582856387, 0.03833025291428194, 0.05346697717767153, 0.21386790871068612, 0.42773581742137223, 0.05346697717767153, 0.10693395435534306, 0.05346697717767153, 0.16109426054507328, 0.16109426054507328, 0.16109426054507328, 0.16109426054507328, 0.0511642512284904, 0.8186280196558464, 0.0511642512284904, 0.19491972620626336, 0.19491972620626336, 0.19491972620626336, 0.2612416908765639, 0.0870805636255213, 0.1741611272510426, 0.0870805636255213, 0.0870805636255213, 0.1741611272510426, 0.08143247639469649, 0.08143247639469649, 0.4071623819734824, 0.08143247639469649, 0.08143247639469649, 0.08143247639469649, 0.08143247639469649, 0.6282006145685962, 0.08974294493837089, 0.08974294493837089, 0.06930629302120081, 0.5544503441696065, 0.20791887906360246, 0.06930629302120081, 0.15010080401988435, 0.15010080401988435, 0.3002016080397687, 0.15010080401988435, 0.12909905334637042, 0.12909905334637042, 0.3872971600391113, 0.12909905334637042, 0.35062811887462525, 0.08765702971865631, 0.35062811887462525, 0.8551552381174653, 0.03167241622657279, 0.03167241622657279, 0.14675558589226267, 0.14675558589226267, 0.29351117178452535, 0.14675558589226267, 0.14675558589226267, 0.1442601980529714, 0.1442601980529714, 0.0721300990264857, 0.0721300990264857, 0.2885203961059428, 0.0721300990264857, 0.0721300990264857, 0.0721300990264857, 0.0721300990264857, 0.0721300990264857, 0.08509971862776533, 0.08509971862776533, 0.17019943725553066, 0.42549859313882665, 0.08509971862776533, 0.11442674127024803, 0.4577069650809921, 0.11442674127024803, 0.11442674127024803, 0.11442674127024803, 0.13381225295698992, 0.26762450591397985, 0.26762450591397985, 0.1387358035739867, 0.1387358035739867, 0.1387358035739867, 0.2774716071479734, 0.8657221718332871, 0.04122486532539463, 0.04122486532539463, 0.16515077442067297, 0.16515077442067297, 0.33030154884134594, 0.16515077442067297, 0.09105087736171023, 0.6373561415319716, 0.09105087736171023, 0.7215124349136112, 0.05550095653181625, 0.1110019130636325, 0.04789098955722261, 0.8141468224727844, 0.08788593654851146, 0.7030874923880917, 0.08588905877559778, 0.08588905877559778, 0.5153343526535867, 0.08588905877559778, 0.08588905877559778, 0.8885870122897672, 0.027768344134055226, 0.027768344134055226, 0.08839101114757834, 0.08839101114757834, 0.7071280891806268, 0.6697699135430261, 0.15627964649337275, 0.022325663784767535, 0.0669769913543026, 0.022325663784767535, 0.022325663784767535, 0.05126811581814438, 0.15380434745443314, 0.15380434745443314, 0.35887681072701066, 0.15380434745443314, 0.05126811581814438, 0.10222977022859413, 0.6133786213715647, 0.12381539782845875, 0.3714461934853763, 0.12381539782845875, 0.11772398806298943, 0.11772398806298943, 0.23544797612597887, 0.3531719641889683, 0.10372417323581253, 0.10372417323581253, 0.5186208661790627, 0.10372417323581253, 0.11220175592966289, 0.44880702371865155, 0.11220175592966289, 0.11220175592966289, 0.24276322253237873, 0.6311843785841846, 0.16851739445235606, 0.16851739445235606, 0.3370347889047121, 0.10214631616622263, 0.10214631616622263, 0.10214631616622263, 0.30643894849866793, 0.20429263233244527, 0.10214631616622263, 0.10214631616622263, 0.18277547640857622, 0.18277547640857622, 0.5483264292257287, 0.09340239791171667, 0.5604143874703, 0.09340239791171667, 0.153423022478353, 0.153423022478353, 0.153423022478353, 0.153423022478353, 0.12754636619580234, 0.12754636619580234, 0.2550927323916047, 0.12754636619580234, 0.12754636619580234, 0.07910518215441951, 0.07910518215441951, 0.6328414572353561, 0.07910518215441951, 0.10555046363608792, 0.10555046363608792, 0.42220185454435166, 0.10555046363608792, 0.10555046363608792, 0.14047615693903676, 0.14047615693903676, 0.2809523138780735, 0.2809523138780735, 0.4589577503494275, 0.04172343184994795, 0.3337874547995836, 0.04172343184994795, 0.04172343184994795, 0.04172343184994795, 0.25313263172850814, 0.25313263172850814, 0.08437754390950272, 0.16875508781900544, 0.08437754390950272, 0.0694910505511025, 0.4864373538577174, 0.138982101102205, 0.20847315165330746, 0.0694910505511025, 0.8584002808022526, 0.03901819458192057, 0.03901819458192057, 0.03901819458192057, 0.8234339415743076, 0.07265593602126243, 0.02421864534042081, 0.02421864534042081, 0.6365984585864083, 0.04547131847045773, 0.09094263694091546, 0.09094263694091546, 0.04547131847045773, 0.04547131847045773, 0.04547131847045773, 0.5912990679875804, 0.06569989644306448, 0.19709968932919344, 0.06569989644306448, 0.15253237820108043, 0.15253237820108043, 0.15253237820108043, 0.15253237820108043, 0.15253237820108043, 0.07020197620232607, 0.14040395240465214, 0.42121185721395643, 0.14040395240465214, 0.07020197620232607, 0.07020197620232607, 0.0735001659241551, 0.4410009955449306, 0.0735001659241551, 0.0735001659241551, 0.1470003318483102, 0.0735001659241551, 0.41903456759780355, 0.10475864189945089, 0.20951728379890178, 0.10475864189945089, 0.7167094921502881, 0.05513149939617601, 0.05513149939617601, 0.05513149939617601, 0.05513149939617601, 0.05513149939617601, 0.13805325412275635, 0.2761065082455127, 0.2761065082455127, 0.6894555088213772, 0.07660616764681968, 0.07660616764681968, 0.07660616764681968, 0.07660616764681968, 0.35127349305168837, 0.11709116435056278, 0.23418232870112557, 0.11709116435056278, 0.22783702869339198, 0.6379436803414975, 0.045567405738678395, 0.1269097686352628, 0.38072930590578835, 0.1269097686352628, 0.0808498115405771, 0.0808498115405771, 0.48509886924346257, 0.0808498115405771, 0.1616996230811542, 0.47883115031902224, 0.0684044500455746, 0.20521335013672382, 0.0684044500455746, 0.09953037010813855, 0.09953037010813855, 0.3981214804325542, 0.09953037010813855, 0.09953037010813855, 0.12287364066934527, 0.12287364066934527, 0.3686209220080358, 0.24574728133869053, 0.6621260363534606, 0.12414863181627386, 0.041382877272091285, 0.041382877272091285, 0.041382877272091285, 0.33933989496074346, 0.11311329832024782, 0.22622659664049563, 0.7807307169662804, 0.04731701314947154, 0.0709755197242073, 0.02365850657473577, 0.08718267576378454, 0.08718267576378454, 0.34873070305513815, 0.17436535152756907, 0.17436535152756907, 0.08718267576378454, 0.08718267576378454, 0.08718267576378454, 0.2630474871448826, 0.5787044717187417, 0.05260949742897652, 0.03918101754588851, 0.7052583158259932, 0.11754305263766553, 0.03918101754588851, 0.03918101754588851, 0.663911726485392, 0.060355611498671996, 0.060355611498671996, 0.060355611498671996, 0.060355611498671996, 0.48710530853233047, 0.24355265426616524, 0.08935739069916938, 0.6255017348941857, 0.08935739069916938, 0.032284851072803475, 0.7102667236016764, 0.09685455321841042, 0.06456970214560695, 0.032284851072803475, 0.032284851072803475, 0.032284851072803475, 0.16626533319464798, 0.16626533319464798, 0.16626533319464798, 0.16626533319464798, 0.08634629005273044, 0.6044240303691131, 0.08634629005273044, 0.0663168942939969, 0.5968520486459721, 0.0663168942939969, 0.0663168942939969, 0.14130076285459975, 0.14130076285459975, 0.14130076285459975, 0.2826015257091995, 0.14130076285459975, 0.14130076285459975, 0.5826148366622314, 0.07282685458277892, 0.21848056374833674, 0.14368110373935142, 0.14368110373935142, 0.14368110373935142, 0.14368110373935142, 0.14368110373935142, 0.14368110373935142, 0.07416647491651106, 0.22249942474953316, 0.29666589966604423, 0.07416647491651106, 0.07416647491651106, 0.07416647491651106, 0.05116714075847468, 0.8186742521355949, 0.05519380378019047, 0.7727132529226665, 0.11062828682167554, 0.11062828682167554, 0.3318848604650266, 0.22125657364335108, 0.11062828682167554, 0.5558562012578139, 0.11117124025156278, 0.11117124025156278, 0.11117124025156278, 0.17190014805725504, 0.17190014805725504, 0.17190014805725504, 0.17190014805725504, 0.08752270413737076, 0.08752270413737076, 0.5251362248242245, 0.08752270413737076, 0.08752270413737076, 0.17575521420936696, 0.17575521420936696, 0.17575521420936696, 0.17575521420936696, 0.9001355153944475, 0.03214769697837312, 0.11365137976081545, 0.11365137976081545, 0.2273027595216309, 0.34095413928244633, 0.11365137976081545, 0.12519145875471502, 0.12519145875471502, 0.25038291750943004, 0.25038291750943004, 0.11692831651235813, 0.11692831651235813, 0.11692831651235813, 0.3507849495370744, 0.11692831651235813, 0.1986009939293642, 0.1986009939293642, 0.1986009939293642, 0.1986009939293642, 0.4792505963999555, 0.07987509939999259, 0.15975019879998517, 0.07987509939999259, 0.7585467081887993, 0.03792733540943997, 0.03792733540943997, 0.03792733540943997, 0.03792733540943997, 0.13549505283690322, 0.13549505283690322, 0.40648515851070965, 0.06978726049392396, 0.41872356296354374, 0.27914904197569584, 0.06978726049392396, 0.1296719187838037, 0.1296719187838037, 0.1296719187838037, 0.2593438375676074, 0.1296719187838037, 0.7675851336543488, 0.1096550190934784, 0.036551673031159464, 0.036551673031159464, 0.06644665445086848, 0.46512658115607936, 0.06644665445086848, 0.06644665445086848, 0.13289330890173695, 0.06644665445086848, 0.6865695928439123, 0.13349964305298295, 0.05721413273699269, 0.038142755157995124, 0.038142755157995124, 0.10433677530620603, 0.10433677530620603, 0.3130103259186181, 0.20867355061241205, 0.20867355061241205, 0.8342258781224318, 0.027807529270747724, 0.05561505854149545, 0.027807529270747724, 0.027807529270747724, 0.14660232168608078, 0.14660232168608078, 0.43980696505824235, 0.3227453704764543, 0.08068634261911357, 0.08068634261911357, 0.16137268523822715, 0.16137268523822715, 0.08068634261911357, 0.08068634261911357, 0.8281935684410342, 0.04476721991573158, 0.04476721991573158, 0.02238360995786579, 0.02238360995786579, 0.1342867191683299, 0.1342867191683299, 0.2685734383366598, 0.1342867191683299, 0.1342867191683299, 0.04213391158944918, 0.6320086738417376, 0.12640173476834754, 0.08426782317889836, 0.04213391158944918, 0.47644545321880194, 0.07940757553646699, 0.23822272660940097, 0.15717376700722457, 0.15717376700722457, 0.15717376700722457, 0.15717376700722457, 0.6657951602298756, 0.13315903204597512, 0.06657951602298756, 0.14324626511489488, 0.14324626511489488, 0.28649253022978977, 0.14324626511489488, 0.14324626511489488, 0.05901779139753813, 0.05901779139753813, 0.29508895698769066, 0.05901779139753813, 0.17705337419261438, 0.05901779139753813, 0.17705337419261438, 0.05901779139753813, 0.05901779139753813, 0.09574116754243635, 0.4787058377121817, 0.09574116754243635, 0.09574116754243635, 0.08109712335614662, 0.4865827401368797, 0.16219424671229324, 0.08109712335614662, 0.059147159784856865, 0.7689130772031393, 0.059147159784856865, 0.10656703836182455, 0.10656703836182455, 0.2131340767236491, 0.31970111508547366, 0.10656703836182455, 0.16189178492245096, 0.16189178492245096, 0.16189178492245096, 0.3237835698449019, 0.13558499869567103, 0.13558499869567103, 0.40675499608701315, 0.13558499869567103, 0.1298126499748794, 0.1298126499748794, 0.5192505998995176, 0.824541456636903, 0.04339691877036332, 0.06509537815554498, 0.02169845938518166, 0.02169845938518166, 0.02169845938518166, 0.046133300947293045, 0.5074663104202235, 0.23066650473646522, 0.09226660189458609, 0.046133300947293045, 0.5790849301469849, 0.08272641859242642, 0.16545283718485285, 0.08272641859242642, 0.1114094726594244, 0.33422841797827324, 0.1114094726594244, 0.1114094726594244, 0.1114094726594244, 0.1114094726594244, 0.09648813990667847, 0.3859525596267139, 0.19297627981335694, 0.09648813990667847, 0.8311749556736518, 0.04492837598235956, 0.02246418799117978, 0.04492837598235956, 0.02246418799117978, 0.101195521607252, 0.101195521607252, 0.50597760803626, 0.101195521607252, 0.101195521607252, 0.7228574450386346, 0.0834066282736886, 0.027802209424562865, 0.027802209424562865, 0.11120883769825146, 0.027802209424562865, 0.052956134292081826, 0.31773680575249097, 0.2118245371683273, 0.052956134292081826, 0.15886840287624548, 0.10591226858416365, 0.052956134292081826, 0.8209742270093598, 0.02736580756697866, 0.02736580756697866, 0.05473161513395732, 0.02736580756697866, 0.13748019201893036, 0.13748019201893036, 0.41244057605679113, 0.4771111963211656, 0.09542223926423313, 0.19084447852846625, 0.09542223926423313, 0.7588315677161219, 0.07226967311582114, 0.03613483655791057, 0.03613483655791057, 0.5879277825517192, 0.053447980231974467, 0.10689596046394893, 0.053447980231974467, 0.053447980231974467, 0.053447980231974467, 0.18043631130676552, 0.18043631130676552, 0.36087262261353104, 0.0927770089439034, 0.0927770089439034, 0.3711080357756136, 0.2783310268317102, 0.09710906580851322, 0.09710906580851322, 0.29132719742553964, 0.09710906580851322, 0.19421813161702645, 0.09710906580851322, 0.8350354026371533, 0.046390855702064075, 0.7633292458233524, 0.1696287212940783, 0.021203590161759787, 0.021203590161759787, 0.021203590161759787, 0.881539031239629, 0.028436742943213838, 0.028436742943213838, 0.028436742943213838, 0.028436742943213838, 0.7096489359973668, 0.18118696238230642, 0.030197827063717736, 0.030197827063717736, 0.015098913531858868, 0.015098913531858868, 0.0649676358818801, 0.2598705435275204, 0.0649676358818801, 0.3248381794094005, 0.1949029076456403, 0.0649676358818801, 0.0649676358818801, 0.17085204276440097, 0.17085204276440097, 0.17085204276440097, 0.13233486995018823, 0.13233486995018823, 0.13233486995018823, 0.26466973990037646, 0.26466973990037646, 0.1097722643101708, 0.5122705667807971, 0.03659075477005693, 0.2195445286203416, 0.03659075477005693, 0.03659075477005693, 0.13221471880505292, 0.5288588752202117, 0.8781986513955787, 0.029273288379852627, 0.029273288379852627, 0.029273288379852627, 0.029273288379852627, 0.05534680528858494, 0.6088148581744344, 0.11069361057716988, 0.05534680528858494, 0.4352098495137185, 0.267821445854596, 0.0334776807318245, 0.1673884036591225, 0.0334776807318245, 0.07505549136732866, 0.07505549136732866, 0.3002219654693146, 0.22516647410198595, 0.1501109827346573, 0.07505549136732866, 0.17670861027336437, 0.17670861027336437, 0.17670861027336437, 0.6770888299099102, 0.042318051869369384, 0.042318051869369384, 0.21159025934684694, 0.04469241620310642, 0.5810014106403835, 0.22346208101553208, 0.04469241620310642, 0.04469241620310642, 0.8173333414723527, 0.03553623223792838, 0.03553623223792838, 0.07107246447585676, 0.0691758342418111, 0.0691758342418111, 0.41505500545086665, 0.20752750272543333, 0.0691758342418111], \"Term\": [\"aandacht\", \"aandacht\", \"aandacht\", \"aandacht\", \"aangehoud\", \"aangehoud\", \"aangehoud\", \"aangehoud\", \"aangehoud\", \"aangekondigd\", \"aangekondigd\", \"aangekondigd\", \"aangekondigd\", \"aangift\", \"aangift\", \"aangift\", \"aangift\", \"aanhanger\", \"aanhanger\", \"aanhanger\", \"aanleid\", \"aanleid\", \"aanleid\", \"aanleid\", \"aanleid\", \"aanpass\", \"aanpass\", \"aanpass\", \"aanpass\", \"aanslag\", \"aanslag\", \"aanslag\", \"aanslag\", \"aanslag\", \"aanslag\", \"aanslag\", \"aantal\", \"aantal\", \"aantal\", \"aantal\", \"aantal\", \"actief\", \"actief\", \"actief\", \"actief\", \"activiteit\", \"activiteit\", \"activiteit\", \"advocat\", \"advocat\", \"advocat\", \"advocat\", \"afgesprok\", \"afgesprok\", \"afgesprok\", \"afsprak\", \"afsprak\", \"agent\", \"agent\", \"agent\", \"agent\", \"agent\", \"agent\", \"agent\", \"agent\", \"akkoord\", \"akkoord\", \"akkoord\", \"akkoord\", \"akkoord\", \"aldus\", \"aldus\", \"aldus\", \"aldus\", \"aldus\", \"aldus\", \"algemen\", \"algemen\", \"algemen\", \"algemen\", \"algemen\", \"all\", \"all\", \"all\", \"all\", \"allemal\", \"allemal\", \"allemal\", \"allerlei\", \"allerlei\", \"allerlei\", \"amerikan\", \"amerikan\", \"amerikan\", \"amerikan\", \"amerikan\", \"amerikan\", \"amsterdam\", \"amsterdam\", \"amsterdam\", \"amsterdam\", \"amsterdam\", \"amsterdam\", \"amsterdam\", \"amsterdam\", \"amsterdam\", \"anti\", \"anti\", \"augustus\", \"augustus\", \"augustus\", \"augustus\", \"auto\", \"auto\", \"auto\", \"auto\", \"auto\", \"auto\", \"auto\", \"automatisch\", \"automatisch\", \"automatisch\", \"automobilist\", \"automobilist\", \"automobilist\", \"automobilist\", \"avond\", \"avond\", \"avond\", \"avond\", \"ban\", \"ban\", \"ban\", \"ban\", \"ban\", \"band\", \"band\", \"bang\", \"bang\", \"bang\", \"bang\", \"bank\", \"bank\", \"bank\", \"bank\", \"basis\", \"basis\", \"basis\", \"basis\", \"bedoeld\", \"bedoeld\", \"bedoeld\", \"bedoeld\", \"bedoeld\", \"bedrag\", \"bedrag\", \"bedrag\", \"bedrag\", \"bedrag\", \"bedrijf\", \"bedrijf\", \"bedrijf\", \"bedrijf\", \"bedrijf\", \"bedrijf\", \"behalv\", \"behalv\", \"behalv\", \"behandel\", \"behandel\", \"behandel\", \"behor\", \"behor\", \"behor\", \"bekek\", \"bekek\", \"bekend\", \"bekend\", \"bekend\", \"bekend\", \"bekend\", \"bekend\", \"bekendgemaakt\", \"bekendgemaakt\", \"bekendgemaakt\", \"bekendgemaakt\", \"bekendgemaakt\", \"belang\", \"belang\", \"belang\", \"belang\", \"belangrijk\", \"belangrijk\", \"belangrijk\", \"belangrijk\", \"belangrijk\", \"belangrijkst\", \"belangrijkst\", \"belgisch\", \"belgisch\", \"belgisch\", \"bell\", \"bell\", \"bell\", \"bell\", \"ben\", \"ben\", \"ben\", \"benadrukt\", \"benadrukt\", \"benadrukt\", \"benadrukt\", \"bepaald\", \"bepaald\", \"bepaald\", \"bepaald\", \"beperkt\", \"beperkt\", \"beperkt\", \"beperkt\", \"bericht\", \"bericht\", \"bericht\", \"bericht\", \"beroep\", \"beroep\", \"beroep\", \"beroep\", \"bescherm\", \"bescherm\", \"bescherm\", \"bescherm\", \"besluit\", \"besluit\", \"besluit\", \"besluit\", \"besmet\", \"besmet\", \"besmet\", \"besmet\", \"besmet\", \"best\", \"best\", \"best\", \"bestur\", \"bestur\", \"bestur\", \"betaald\", \"betaald\", \"betaald\", \"betaald\", \"betal\", \"betal\", \"betal\", \"betal\", \"betal\", \"betekent\", \"betekent\", \"betekent\", \"betekent\", \"bevestigd\", \"bevestigd\", \"bevestigd\", \"bewoner\", \"bewoner\", \"bewoner\", \"bewoner\", \"bezoeker\", \"bezoeker\", \"bezoeker\", \"bezuin\", \"bezuin\", \"bezuin\", \"bijna\", \"bijna\", \"bijna\", \"bijna\", \"bijna\", \"bijna\", \"binn\", \"binn\", \"binn\", \"binn\", \"binn\", \"blijv\", \"blijv\", \"blijv\", \"boer\", \"boer\", \"boer\", \"boer\", \"bouw\", \"bouw\", \"bouw\", \"bouw\", \"bov\", \"bov\", \"bov\", \"bov\", \"bov\", \"brand\", \"brand\", \"brand\", \"brand\", \"brandwer\", \"brandwer\", \"brandwer\", \"brandwer\", \"breng\", \"breng\", \"breng\", \"breng\", \"breng\", \"breng\", \"brit\", \"brit\", \"brit\", \"brit\", \"brit\", \"brit\", \"bronn\", \"bronn\", \"bronn\", \"buit\", \"buit\", \"buit\", \"buit\", \"buitenland\", \"buitenland\", \"buitenland\", \"buitenland\", \"buitenlander\", \"buitenlander\", \"buitenlander\", \"buitenlander\", \"bureau\", \"bureau\", \"bureau\", \"burgemeester\", \"burgemeester\", \"burgemeester\", \"burgemeester\", \"burgemeester\", \"burgemeester\", \"central\", \"central\", \"central\", \"central\", \"central\", \"cijfer\", \"cijfer\", \"cijfer\", \"cijfer\", \"commissie\", \"commissie\", \"commissie\", \"commissie\", \"consument\", \"consument\", \"consument\", \"consument\", \"correspondent\", \"correspondent\", \"correspondent\", \"criminel\", \"criminel\", \"criminel\", \"criminel\", \"daald\", \"daald\", \"daald\", \"daald\", \"daarbij\", \"daarbij\", \"daarbij\", \"daarbij\", \"daarbij\", \"daardor\", \"daardor\", \"daardor\", \"daardor\", \"daarmee\", \"daarmee\", \"daarmee\", \"daarom\", \"daarom\", \"daarom\", \"dader\", \"dader\", \"dader\", \"dader\", \"dagelijk\", \"dagelijk\", \"dagelijk\", \"dagelijk\", \"dagelijk\", \"daling\", \"daling\", \"debat\", \"debat\", \"debat\", \"ded\", \"ded\", \"ded\", \"ded\", \"del\", \"del\", \"del\", \"del\", \"del\", \"denk\", \"denk\", \"denkt\", \"denkt\", \"denkt\", \"derd\", \"derd\", \"derd\", \"derd\", \"derd\", \"dergelijk\", \"dergelijk\", \"dergelijk\", \"deur\", \"deur\", \"deur\", \"deur\", \"dienst\", \"dienst\", \"dienst\", \"ding\", \"ding\", \"ding\", \"ding\", \"dinsdag\", \"dinsdag\", \"dinsdag\", \"dinsdag\", \"directeur\", \"directeur\", \"directeur\", \"directeur\", \"directeur\", \"directeur\", \"dod\", \"dod\", \"dod\", \"dodelijk\", \"dodelijk\", \"dodelijk\", \"doet\", \"doet\", \"dorp\", \"dorp\", \"dorp\", \"dorp\", \"drag\", \"drag\", \"drag\", \"drag\", \"drag\", \"duit\", \"duit\", \"duit\", \"duit\", \"duit\", \"duit\", \"duizend\", \"duizend\", \"duizend\", \"duizend\", \"dur\", \"dur\", \"dur\", \"dur\", \"duurder\", \"duurder\", \"duurder\", \"duurder\", \"duurt\", \"duurt\", \"duurt\", \"duurt\", \"echt\", \"echt\", \"echt\", \"echt\", \"economie\", \"economie\", \"economie\", \"economie\", \"economie\", \"eerder\", \"eerder\", \"eerder\", \"eerder\", \"eerder\", \"eerst\", \"eerst\", \"eerst\", \"eerst\", \"eerst\", \"eerst\", \"eigenar\", \"eigenar\", \"eigenar\", \"eigenar\", \"eigenar\", \"elk\", \"elk\", \"elk\", \"elkar\", \"elkar\", \"elkar\", \"elkar\", \"elkar\", \"energie\", \"energie\", \"energie\", \"energie\", \"energie\", \"enig\", \"enig\", \"enig\", \"enig\", \"enig\", \"enig\", \"enkel\", \"enkel\", \"enkel\", \"erop\", \"erop\", \"erop\", \"erop\", \"ervan\", \"ervan\", \"ervan\", \"ervan\", \"euro\", \"euro\", \"euro\", \"euro\", \"euro\", \"euro\", \"europa\", \"europa\", \"europa\", \"europa\", \"europes\", \"europes\", \"europes\", \"europes\", \"europes\", \"even\", \"even\", \"even\", \"even\", \"extra\", \"extra\", \"extra\", \"facebok\", \"facebok\", \"facebok\", \"facebok\", \"familie\", \"familie\", \"familie\", \"februari\", \"februari\", \"februari\", \"februari\", \"februari\", \"februari\", \"for\", \"for\", \"for\", \"for\", \"for\", \"foto\", \"foto\", \"foto\", \"foto\", \"foto\", \"fout\", \"fout\", \"fout\", \"fout\", \"fran\", \"fran\", \"fran\", \"fran\", \"fran\", \"gan\", \"gan\", \"gan\", \"gan\", \"gan\", \"gan\", \"gang\", \"gang\", \"gang\", \"gat\", \"gat\", \"gat\", \"gat\", \"gat\", \"gebeur\", \"gebeur\", \"gebeur\", \"gebeurd\", \"gebeurd\", \"gebeurd\", \"gebeurd\", \"gebeurt\", \"gebeurt\", \"gebeurt\", \"gebruik\", \"gebruik\", \"gebruik\", \"gebruik\", \"gebruik\", \"gebruikt\", \"gebruikt\", \"gebruikt\", \"gebruikt\", \"gebruikt\", \"gedan\", \"gedan\", \"gedan\", \"gedan\", \"gedan\", \"gedwong\", \"gedwong\", \"gedwong\", \"geeft\", \"geeft\", \"geeft\", \"gehaald\", \"gehaald\", \"gehaald\", \"gehaald\", \"geheim\", \"geheim\", \"geheim\", \"geheim\", \"gehoud\", \"gehoud\", \"gehoud\", \"gehoud\", \"gehoud\", \"gehoud\", \"gehoud\", \"gekek\", \"gekek\", \"gekek\", \"gekek\", \"gekreg\", \"gekreg\", \"gekreg\", \"gekreg\", \"gekreg\", \"geld\", \"geld\", \"geld\", \"geld\", \"geld\", \"geldt\", \"geldt\", \"geldt\", \"geldt\", \"geldt\", \"gemeent\", \"gemeent\", \"gemeent\", \"gemeent\", \"gemeent\", \"gemeent\", \"gemeent\", \"gemeent\", \"gemeent\", \"gemiddeld\", \"gemiddeld\", \"gemiddeld\", \"genom\", \"genom\", \"genom\", \"genom\", \"genom\", \"genom\", \"geplaatst\", \"geplaatst\", \"geplaatst\", \"geplaatst\", \"geplaatst\", \"gepland\", \"gepland\", \"gepland\", \"gepland\", \"gepland\", \"geprobeerd\", \"geprobeerd\", \"geprobeerd\", \"geraakt\", \"geraakt\", \"geraakt\", \"geraakt\", \"geraakt\", \"geregeld\", \"geregeld\", \"geregeld\", \"geregeld\", \"geslag\", \"geslag\", \"geslag\", \"geslag\", \"geslot\", \"geslot\", \"geslot\", \"geslot\", \"gesprek\", \"gesprek\", \"gesprek\", \"gesprok\", \"gesprok\", \"gesprok\", \"gesprok\", \"gevar\", \"gevar\", \"gevar\", \"gevar\", \"gevond\", \"gevond\", \"gevond\", \"gevond\", \"gevond\", \"gevond\", \"geweld\", \"geweld\", \"geweld\", \"gewond\", \"gewond\", \"gewond\", \"gewond\", \"gewond\", \"gewond\", \"gewond\", \"gezet\", \"gezet\", \"gezet\", \"gezocht\", \"gezocht\", \"gezocht\", \"gezocht\", \"gezocht\", \"gezond\", \"gezond\", \"gezond\", \"gezond\", \"gezond\", \"gister\", \"gister\", \"gister\", \"gister\", \"gister\", \"gister\", \"gister\", \"gisteravond\", \"gisteravond\", \"gisteravond\", \"gisteravond\", \"gisteravond\", \"gisteravond\", \"gisteravond\", \"goed\", \"goed\", \"goed\", \"goed\", \"goed\", \"goed\", \"goed\", \"gooid\", \"gooid\", \"gooid\", \"gooid\", \"gren\", \"gren\", \"gren\", \"gren\", \"groei\", \"groei\", \"groei\", \"groei\", \"groei\", \"groei\", \"groei\", \"groenlink\", \"groenlink\", \"groenlink\", \"groenlink\", \"groep\", \"groep\", \"groep\", \"groep\", \"groning\", \"groning\", \"groning\", \"groning\", \"groning\", \"grootst\", \"grootst\", \"grootst\", \"grot\", \"grot\", \"grot\", \"grot\", \"grot\", \"grot\", \"groter\", \"groter\", \"groter\", \"groter\", \"groter\", \"groter\", \"had\", \"had\", \"had\", \"had\", \"hag\", \"hag\", \"hag\", \"hag\", \"hag\", \"hand\", \"hand\", \"hand\", \"hand\", \"hel\", \"hel\", \"hel\", \"hel\", \"hel\", \"helemal\", \"helemal\", \"hield\", \"hield\", \"hield\", \"hield\", \"hoger\", \"hoger\", \"holland\", \"holland\", \"holland\", \"holland\", \"holland\", \"honderd\", \"honderd\", \"honderd\", \"honderd\", \"hoofd\", \"hoofd\", \"hoofd\", \"hoofdstad\", \"hoofdstad\", \"hoofdstad\", \"hoofdstad\", \"hoofdstad\", \"hoogst\", \"hoogst\", \"hoogst\", \"hoopt\", \"hoopt\", \"hoopt\", \"hor\", \"hor\", \"hor\", \"hor\", \"houd\", \"houd\", \"houd\", \"houd\", \"houd\", \"houd\", \"huis\", \"huis\", \"huis\", \"huis\", \"huiz\", \"huiz\", \"huiz\", \"hulp\", \"hulp\", \"hulp\", \"hulp\", \"hulp\", \"hulp\", \"idee\", \"idee\", \"iederen\", \"iederen\", \"iederen\", \"iederen\", \"incident\", \"incident\", \"inderdad\", \"inderdad\", \"inderdad\", \"informatie\", \"informatie\", \"informatie\", \"informatie\", \"ingesteld\", \"ingesteld\", \"ingesteld\", \"ingesteld\", \"ingesteld\", \"ingewikkeld\", \"ingewikkeld\", \"ingewikkeld\", \"ingezet\", \"ingezet\", \"ingezet\", \"international\", \"international\", \"international\", \"internet\", \"internet\", \"internet\", \"interview\", \"interview\", \"interview\", \"interview\", \"inwoner\", \"inwoner\", \"inwoner\", \"inwoner\", \"islamitisch\", \"islamitisch\", \"islamitisch\", \"israe\", \"israe\", \"israe\", \"israe\", \"israe\", \"italiaan\", \"italiaan\", \"italiaan\", \"italiaan\", \"italiaan\", \"jaarlijk\", \"jaarlijk\", \"jaarlijk\", \"jaarlijk\", \"jammer\", \"jammer\", \"jammer\", \"jammer\", \"jammer\", \"januari\", \"januari\", \"januari\", \"januari\", \"januari\", \"januari\", \"jar\", \"jar\", \"jar\", \"jar\", \"jar\", \"jar\", \"jarenlang\", \"jarenlang\", \"jarenlang\", \"jarenlang\", \"jarenlang\", \"jarig\", \"jarig\", \"jarig\", \"jarig\", \"jarig\", \"jarig\", \"jong\", \"jong\", \"jong\", \"jong\", \"jongen\", \"jongen\", \"jongen\", \"jongen\", \"jongen\", \"jonger\", \"jonger\", \"journalist\", \"journalist\", \"journalist\", \"juist\", \"juist\", \"juist\", \"juli\", \"juli\", \"juli\", \"juli\", \"kabinet\", \"kabinet\", \"kabinet\", \"kamer\", \"kamer\", \"kamer\", \"kamer\", \"kamer\", \"kamer\", \"kamer\", \"ker\", \"ker\", \"ker\", \"ker\", \"kijk\", \"kijk\", \"kijk\", \"kilometer\", \"kilometer\", \"kilometer\", \"kilometer\", \"kinder\", \"kinder\", \"kinder\", \"kinder\", \"kinder\", \"kinder\", \"kinder\", \"klant\", \"klant\", \"klant\", \"klant\", \"klein\", \"klein\", \"klein\", \"klein\", \"klein\", \"klein\", \"kom\", \"kom\", \"kom\", \"kom\", \"komend\", \"komend\", \"komend\", \"komend\", \"komend\", \"komt\", \"komt\", \"komt\", \"komt\", \"komt\", \"komt\", \"komt\", \"koning\", \"koning\", \"koning\", \"koning\", \"kost\", \"kost\", \"kost\", \"krant\", \"krant\", \"krant\", \"krant\", \"kreg\", \"kreg\", \"kreg\", \"kreg\", \"kreg\", \"krijg\", \"krijg\", \"krijg\", \"krijg\", \"krijg\", \"kritiek\", \"kritiek\", \"kritiek\", \"kwijt\", \"kwijt\", \"kwijt\", \"land\", \"land\", \"land\", \"land\", \"land\", \"land\", \"landelijk\", \"landelijk\", \"landelijk\", \"landelijk\", \"landelijk\", \"lang\", \"lang\", \"lang\", \"lang\", \"last\", \"last\", \"last\", \"last\", \"lat\", \"lat\", \"lat\", \"lat\", \"lat\", \"led\", \"led\", \"led\", \"led\", \"led\", \"legg\", \"legg\", \"legg\", \"legg\", \"leid\", \"leid\", \"leid\", \"leid\", \"leid\", \"leid\", \"leider\", \"leider\", \"leider\", \"leidt\", \"leidt\", \"leidt\", \"leidt\", \"leidt\", \"ler\", \"ler\", \"ler\", \"ler\", \"lev\", \"lev\", \"lev\", \"lev\", \"lev\", \"licham\", \"licham\", \"licham\", \"licham\", \"licham\", \"licham\", \"licham\", \"liep\", \"liep\", \"liep\", \"liet\", \"liet\", \"ligg\", \"ligg\", \"ligg\", \"ligg\", \"lijkt\", \"lijkt\", \"lijkt\", \"lijkt\", \"lijkt\", \"lijn\", \"lijn\", \"lijn\", \"lijn\", \"limburg\", \"limburg\", \"limburg\", \"limburg\", \"limburg\", \"lokal\", \"lokal\", \"lokal\", \"loopt\", \"loopt\", \"loopt\", \"loopt\", \"lop\", \"lop\", \"lop\", \"lop\", \"lukt\", \"lukt\", \"lukt\", \"maakt\", \"maakt\", \"maakt\", \"maakt\", \"maakt\", \"maand\", \"maand\", \"maand\", \"maandag\", \"maandag\", \"maart\", \"maart\", \"maart\", \"maart\", \"maart\", \"maart\", \"maatregel\", \"maatregel\", \"maatregel\", \"maatregel\", \"maatregel\", \"maatregel\", \"maatregel\", \"macht\", \"macht\", \"macht\", \"mak\", \"mak\", \"mak\", \"mak\", \"mak\", \"mak\", \"mak\", \"mann\", \"mann\", \"mann\", \"mann\", \"mann\", \"med\", \"med\", \"med\", \"medewerker\", \"medewerker\", \"medewerker\", \"medewerker\", \"medewerker\", \"media\", \"media\", \"media\", \"media\", \"meerder\", \"meerder\", \"meisj\", \"meisj\", \"meisj\", \"meld\", \"meld\", \"mens\", \"mens\", \"mens\", \"mens\", \"mens\", \"mens\", \"mens\", \"middag\", \"middag\", \"middag\", \"middag\", \"middag\", \"middag\", \"miljoen\", \"miljoen\", \"miljoen\", \"miljoen\", \"miljoen\", \"minder\", \"minder\", \"minder\", \"minister\", \"minister\", \"minister\", \"minister\", \"minister\", \"minister\", \"moeder\", \"moeder\", \"moeder\", \"moeder\", \"moeder\", \"moment\", \"moment\", \"moment\", \"moment\", \"moment\", \"moment\", \"moment\", \"mooi\", \"mooi\", \"mooi\", \"moord\", \"moord\", \"moord\", \"moord\", \"morg\", \"morg\", \"morg\", \"morg\", \"nacht\", \"nacht\", \"nacht\", \"nacht\", \"nacht\", \"nacht\", \"nadat\", \"nadat\", \"nadat\", \"nadat\", \"nadat\", \"nam\", \"nam\", \"nam\", \"nam\", \"national\", \"national\", \"national\", \"national\", \"natur\", \"natur\", \"natur\", \"natur\", \"natur\", \"natur\", \"nederland\", \"nederland\", \"nederland\", \"nederland\", \"nederland\", \"nederland\", \"neemt\", \"neemt\", \"neemt\", \"neemt\", \"neemt\", \"nem\", \"nem\", \"nem\", \"nem\", \"nem\", \"nem\", \"nem\", \"netwerk\", \"netwerk\", \"netwerk\", \"netwerk\", \"nieuw\", \"nieuw\", \"nieuw\", \"nieuw\", \"nieuw\", \"nieuw\", \"noemt\", \"noemt\", \"noemt\", \"noemt\", \"nooit\", \"nooit\", \"nooit\", \"nooit\", \"noord\", \"noord\", \"noord\", \"noord\", \"noord\", \"noord\", \"normal\", \"normal\", \"normal\", \"normal\", \"normal\", \"normal\", \"normal\", \"oekrai\", \"oekrai\", \"oekrai\", \"oekrai\", \"omgev\", \"omgev\", \"omgev\", \"omgev\", \"onderdel\", \"onderdel\", \"onderdel\", \"onderdel\", \"onderdel\", \"onderdel\", \"onderzocht\", \"onderzocht\", \"onderzocht\", \"onderzoek\", \"onderzoek\", \"onderzoek\", \"onderzoek\", \"onderzoek\", \"onderzoek\", \"onderzoek\", \"onderzoeker\", \"onderzoeker\", \"onderzoeker\", \"onderzoeker\", \"onderzoeker\", \"onderzoekt\", \"onderzoekt\", \"onderzoekt\", \"onderzoekt\", \"onduid\", \"onduid\", \"onduid\", \"ongeluk\", \"ongeluk\", \"ongeluk\", \"ongeluk\", \"ongeluk\", \"ongeluk\", \"ongeluk\", \"ongever\", \"ongever\", \"ongever\", \"ongever\", \"onrust\", \"onrust\", \"onrust\", \"onrust\", \"onrust\", \"ontstan\", \"ontstan\", \"onvoldo\", \"onvoldo\", \"onvoldo\", \"onz\", \"onz\", \"onz\", \"onz\", \"onzeker\", \"onzeker\", \"onzeker\", \"onzeker\", \"onzeker\", \"oorlog\", \"oorlog\", \"oorlog\", \"oorlog\", \"oorzak\", \"oorzak\", \"oorzak\", \"oorzak\", \"open\", \"open\", \"open\", \"open\", \"open\", \"open\", \"opgepakt\", \"opgepakt\", \"opgepakt\", \"opgepakt\", \"opgepakt\", \"opgepakt\", \"opmerk\", \"opmerk\", \"opmerk\", \"opmerk\", \"opnieuw\", \"opnieuw\", \"opnieuw\", \"opnieuw\", \"oproep\", \"oproep\", \"oproep\", \"optred\", \"optred\", \"optred\", \"organisatie\", \"organisatie\", \"organisatie\", \"organisatie\", \"organisatie\", \"organisaties\", \"organisaties\", \"organisaties\", \"ouder\", \"ouder\", \"ouder\", \"ouder\", \"overigen\", \"overigen\", \"overigen\", \"pakistan\", \"pakistan\", \"pakistan\", \"pakistan\", \"pakistan\", \"pakistan\", \"par\", \"par\", \"par\", \"par\", \"par\", \"partij\", \"partij\", \"partij\", \"partij\", \"partij\", \"partner\", \"partner\", \"patie\", \"patie\", \"patie\", \"patie\", \"patie\", \"persbureau\", \"persbureau\", \"persbureau\", \"persconferentie\", \"persconferentie\", \"persconferentie\", \"person\", \"person\", \"person\", \"personel\", \"personel\", \"personel\", \"personel\", \"personel\", \"plaats\", \"plaats\", \"plaats\", \"plaats\", \"plan\", \"plan\", \"plann\", \"plann\", \"plann\", \"plann\", \"plek\", \"plek\", \"plek\", \"pol\", \"pol\", \"pol\", \"pol\", \"politie\", \"politie\", \"politie\", \"politie\", \"politie\", \"politie\", \"politie\", \"politie\", \"politie\", \"politie\", \"politiek\", \"politiek\", \"populair\", \"populair\", \"populair\", \"prat\", \"prat\", \"prat\", \"premier\", \"premier\", \"premier\", \"premier\", \"president\", \"president\", \"president\", \"prijs\", \"prijs\", \"prijs\", \"prijs\", \"prijs\", \"prober\", \"prober\", \"prober\", \"prober\", \"problem\", \"problem\", \"problem\", \"problem\", \"problem\", \"procent\", \"procent\", \"procent\", \"procent\", \"procent\", \"procent\", \"procent\", \"product\", \"product\", \"product\", \"product\", \"project\", \"project\", \"project\", \"protest\", \"protest\", \"protest\", \"protest\", \"provincie\", \"provincie\", \"provincie\", \"provincie\", \"provincie\", \"provincie\", \"publiek\", \"publiek\", \"publiek\", \"publiek\", \"publiek\", \"rad\", \"rad\", \"rad\", \"radio\", \"radio\", \"radio\", \"radio\", \"rapport\", \"rapport\", \"rapport\", \"rapport\", \"reageerd\", \"reageerd\", \"reageerd\", \"recht\", \"recht\", \"recht\", \"recht\", \"recht\", \"recht\", \"rechtbank\", \"rechtbank\", \"rechtbank\", \"rechtbank\", \"rechter\", \"rechter\", \"rechter\", \"rechter\", \"rechter\", \"rechter\", \"red\", \"red\", \"red\", \"red\", \"red\", \"regelmat\", \"regelmat\", \"regelmat\", \"reger\", \"reger\", \"reger\", \"reger\", \"regio\", \"regio\", \"reken\", \"reken\", \"reken\", \"reken\", \"reken\", \"relatief\", \"relatief\", \"relatief\", \"relatief\", \"relatief\", \"resultat\", \"resultat\", \"resultat\", \"resultat\", \"richting\", \"richting\", \"richting\", \"richting\", \"riep\", \"riep\", \"riep\", \"rijd\", \"rijd\", \"rijd\", \"rijd\", \"rijd\", \"rijd\", \"rijk\", \"rijk\", \"rijk\", \"rijk\", \"risico\", \"risico\", \"risico\", \"risico\", \"risico\", \"rond\", \"rond\", \"rond\", \"rond\", \"rond\", \"rond\", \"rond\", \"rotterdam\", \"rotterdam\", \"rotterdam\", \"rotterdam\", \"rotterdam\", \"rotterdam\", \"ruim\", \"ruim\", \"ruim\", \"ruim\", \"ruim\", \"ruim\", \"russisch\", \"russisch\", \"russisch\", \"russisch\", \"rut\", \"rut\", \"rut\", \"samenlev\", \"samenlev\", \"samenlev\", \"schot\", \"schot\", \"schot\", \"schot\", \"schot\", \"schot\", \"schrijft\", \"schrijft\", \"schrijft\", \"schrijft\", \"schrijft\", \"schrijft\", \"schrijft\", \"schrijv\", \"schrijv\", \"schrijv\", \"schuld\", \"schuld\", \"schuld\", \"schuld\", \"schuldig\", \"schuldig\", \"schuldig\", \"schuldig\", \"sector\", \"sector\", \"sector\", \"sector\", \"september\", \"september\", \"september\", \"sind\", \"sind\", \"sind\", \"situatie\", \"situatie\", \"situatie\", \"situatie\", \"situatie\", \"slachtoffer\", \"slachtoffer\", \"slachtoffer\", \"slachtoffer\", \"slachtoffer\", \"slachtoffer\", \"slachtoffer\", \"slachtoffer\", \"slachtoffer\", \"slachtoffer\", \"slecht\", \"slecht\", \"slecht\", \"slecht\", \"slecht\", \"sloeg\", \"sloeg\", \"sloeg\", \"sloeg\", \"sloeg\", \"sluit\", \"sluit\", \"sluit\", \"social\", \"social\", \"social\", \"social\", \"som\", \"som\", \"som\", \"soort\", \"soort\", \"soort\", \"soort\", \"spanj\", \"spanj\", \"spanj\", \"special\", \"special\", \"special\", \"sprak\", \"sprak\", \"spreekt\", \"spreekt\", \"stad\", \"stad\", \"stad\", \"stad\", \"stad\", \"stan\", \"stan\", \"stan\", \"start\", \"start\", \"start\", \"stat\", \"stat\", \"stat\", \"stat\", \"stat\", \"stat\", \"sted\", \"sted\", \"sted\", \"sted\", \"sted\", \"sted\", \"steld\", \"steld\", \"stell\", \"stell\", \"stell\", \"stelt\", \"stelt\", \"stelt\", \"stelt\", \"stichting\", \"stichting\", \"stichting\", \"stichting\", \"stijging\", \"stijging\", \"stijging\", \"stijging\", \"stond\", \"stond\", \"strak\", \"strak\", \"strak\", \"strat\", \"strat\", \"strat\", \"strat\", \"strat\", \"strat\", \"strat\", \"strom\", \"strom\", \"strom\", \"student\", \"student\", \"student\", \"stur\", \"stur\", \"stur\", \"stur\", \"supermarkt\", \"supermarkt\", \"supermarkt\", \"supermarkt\", \"supermarkt\", \"tekort\", \"tekort\", \"tekort\", \"tekort\", \"telefon\", \"telefon\", \"telefon\", \"telefon\", \"telefon\", \"terrein\", \"terrein\", \"terrein\", \"terrein\", \"terug\", \"terug\", \"terug\", \"terug\", \"terug\", \"terug\", \"terwijl\", \"terwijl\", \"terwijl\", \"terwijl\", \"terwijl\", \"thuis\", \"thuis\", \"thuis\", \"thuis\", \"thuis\", \"tientall\", \"tientall\", \"tientall\", \"tientall\", \"tijd\", \"tijd\", \"tijd\", \"tijd\", \"tijden\", \"tijden\", \"tijden\", \"tijden\", \"tijden\", \"tijden\", \"tijden\", \"toekomst\", \"toekomst\", \"toekomst\", \"toekomst\", \"toesprak\", \"toesprak\", \"toesprak\", \"toesprak\", \"toesprak\", \"total\", \"total\", \"total\", \"total\", \"total\", \"total\", \"twaalf\", \"twaalf\", \"twaalf\", \"twaalf\", \"twaalf\", \"twaalf\", \"twintig\", \"twintig\", \"twintig\", \"twintig\", \"twitter\", \"twitter\", \"twitter\", \"twitter\", \"twitter\", \"twitter\", \"uitdag\", \"uitdag\", \"uitdag\", \"uitkomst\", \"uitkomst\", \"uitkomst\", \"uitkomst\", \"uitkomst\", \"uitsprak\", \"uitsprak\", \"uitsprak\", \"uitsprak\", \"unie\", \"unie\", \"unie\", \"universiteit\", \"universiteit\", \"universiteit\", \"utrecht\", \"utrecht\", \"utrecht\", \"utrecht\", \"utrecht\", \"vak\", \"vak\", \"vak\", \"vak\", \"vakbond\", \"vakbond\", \"vakbond\", \"vakbond\", \"vakbond\", \"valt\", \"valt\", \"valt\", \"valt\", \"vanaf\", \"vanaf\", \"vanaf\", \"vanaf\", \"vanaf\", \"vanavond\", \"vanavond\", \"vanavond\", \"vandag\", \"vandag\", \"vandag\", \"vandag\", \"vanmiddag\", \"vanmiddag\", \"vanmiddag\", \"vanmiddag\", \"vanmiddag\", \"vanmiddag\", \"vanmiddag\", \"vanmiddag\", \"vanuit\", \"vanuit\", \"vanuit\", \"vanweg\", \"vanweg\", \"vanweg\", \"vanweg\", \"vanweg\", \"veilig\", \"veilig\", \"veilig\", \"veilig\", \"veilig\", \"verband\", \"verband\", \"verbod\", \"verbod\", \"verbod\", \"verdacht\", \"verdacht\", \"verdacht\", \"verdacht\", \"verdacht\", \"verdacht\", \"verdacht\", \"verdwijn\", \"verdwijn\", \"verdwijn\", \"verdwijn\", \"veren\", \"veren\", \"veren\", \"verenigd\", \"verenigd\", \"verenigd\", \"verenigd\", \"verhal\", \"verhal\", \"verhal\", \"verhal\", \"verhal\", \"verhal\", \"verker\", \"verker\", \"verker\", \"verkiez\", \"verkiez\", \"verkiez\", \"verkiez\", \"verkiez\", \"verkiez\", \"verklar\", \"verklar\", \"verklar\", \"verklar\", \"verklar\", \"verklar\", \"verkocht\", \"verkocht\", \"verkop\", \"verkop\", \"verlat\", \"verlat\", \"verlat\", \"verlat\", \"verlat\", \"verlop\", \"verlop\", \"verlop\", \"verlop\", \"verlor\", \"verlor\", \"verlor\", \"verlor\", \"veroordeeld\", \"veroordeeld\", \"veroordeeld\", \"veroordeeld\", \"veroordeeld\", \"verspreid\", \"verspreid\", \"verspreid\", \"verspreid\", \"vertelt\", \"vertelt\", \"vertrouw\", \"vertrouw\", \"vertrouw\", \"vertrouw\", \"vertrouw\", \"vervolgd\", \"vervolgd\", \"vervolgd\", \"vervolgd\", \"vervolgen\", \"vervolgen\", \"vervolgen\", \"vervolgen\", \"vervolgen\", \"video\", \"video\", \"video\", \"video\", \"viel\", \"viel\", \"viel\", \"viel\", \"vier\", \"vier\", \"vier\", \"vier\", \"vier\", \"vijftig\", \"vijftig\", \"vijftig\", \"vind\", \"vind\", \"vind\", \"vind\", \"virus\", \"virus\", \"virus\", \"virus\", \"virus\", \"vlucht\", \"vlucht\", \"vlucht\", \"vlucht\", \"voer\", \"voer\", \"voer\", \"voer\", \"voer\", \"voer\", \"volgen\", \"volgen\", \"volgen\", \"volgen\", \"volgen\", \"volled\", \"volled\", \"volled\", \"volled\", \"volled\", \"vooral\", \"vooral\", \"vooral\", \"vooral\", \"vooral\", \"voormal\", \"voormal\", \"voormal\", \"voorzitter\", \"voorzitter\", \"voorzitter\", \"voorzitter\", \"voorzitter\", \"voorzitter\", \"voorzitter\", \"vorig\", \"vorig\", \"vorig\", \"vorig\", \"vorig\", \"vorm\", \"vorm\", \"vorm\", \"vorm\", \"vorm\", \"vrag\", \"vrag\", \"vrag\", \"vrag\", \"vrag\", \"vrij\", \"vrij\", \"vrij\", \"vrijdag\", \"vrijdag\", \"vrijdag\", \"vrijdag\", \"vrijgelat\", \"vrijgelat\", \"vrijgelat\", \"vrijlat\", \"vrijlat\", \"vrijlat\", \"vrijlat\", \"vrijlat\", \"vrouw\", \"vrouw\", \"vrouw\", \"vrouw\", \"vrouw\", \"vrouw\", \"vrouw\", \"vrouw\", \"vrouw\", \"waarbij\", \"waarbij\", \"waarbij\", \"waarbij\", \"waard\", \"waard\", \"waard\", \"waard\", \"waardor\", \"waardor\", \"waardor\", \"waarschijn\", \"waarschijn\", \"waarschijn\", \"waarschijn\", \"waarschijn\", \"waarschuw\", \"waarschuw\", \"waarschuw\", \"waarschuw\", \"wacht\", \"wacht\", \"wacht\", \"wacht\", \"wanner\", \"wanner\", \"wanner\", \"war\", \"war\", \"war\", \"war\", \"war\", \"war\", \"water\", \"water\", \"water\", \"water\", \"water\", \"websit\", \"websit\", \"websit\", \"websit\", \"wedstrijd\", \"wedstrijd\", \"wedstrijd\", \"wedstrijd\", \"wedstrijd\", \"wedstrijd\", \"wegen\", \"wegen\", \"wegen\", \"wegen\", \"wek\", \"wek\", \"wek\", \"wek\", \"wek\", \"welk\", \"welk\", \"welk\", \"welk\", \"welk\", \"wer\", \"wer\", \"wer\", \"wer\", \"wer\", \"wer\", \"werk\", \"werk\", \"werk\", \"werk\", \"werk\", \"werk\", \"werk\", \"wet\", \"wet\", \"wet\", \"wet\", \"wet\", \"wijst\", \"wijst\", \"wijst\", \"wijz\", \"wijz\", \"wijz\", \"wijz\", \"wild\", \"wild\", \"wild\", \"wild\", \"winkel\", \"winkel\", \"winkel\", \"winkel\", \"winkel\", \"winkel\", \"woensdag\", \"woensdag\", \"woensdag\", \"won\", \"won\", \"won\", \"won\", \"woning\", \"woning\", \"woning\", \"woning\", \"woning\", \"woning\", \"york\", \"york\", \"zak\", \"zak\", \"zak\", \"zak\", \"zak\", \"zegg\", \"zegg\", \"zegg\", \"zegg\", \"zegg\", \"zegt\", \"zegt\", \"zegt\", \"zegt\", \"zegt\", \"zegt\", \"zeker\", \"zeker\", \"zeker\", \"zeker\", \"zeker\", \"zeker\", \"zeker\", \"zer\", \"zer\", \"zer\", \"zev\", \"zev\", \"zev\", \"zev\", \"zev\", \"ziekenhuis\", \"ziekenhuis\", \"ziekenhuis\", \"ziekenhuis\", \"ziekenhuis\", \"ziekenhuis\", \"ziekenhuiz\", \"ziekenhuiz\", \"zien\", \"zien\", \"zien\", \"zien\", \"zien\", \"zit\", \"zit\", \"zit\", \"zit\", \"zoal\", \"zoal\", \"zoal\", \"zoal\", \"zoal\", \"zodat\", \"zodat\", \"zodat\", \"zodat\", \"zodat\", \"zodat\", \"zon\", \"zon\", \"zon\", \"zorg\", \"zorg\", \"zorg\", \"zorg\", \"zoud\", \"zoud\", \"zoud\", \"zoud\", \"zoud\", \"zuid\", \"zuid\", \"zuid\", \"zuid\", \"zull\", \"zull\", \"zull\", \"zull\", \"zull\"]}, \"R\": 30, \"lambda.step\": 0.01, \"plot.opts\": {\"xlab\": \"PC1\", \"ylab\": \"PC2\"}, \"topic.order\": [15, 12, 17, 18, 6, 5, 2, 16, 11, 10, 3, 8, 13, 7, 9, 4, 19, 14, 20, 1]};\n",
              "\n",
              "function LDAvis_load_lib(url, callback){\n",
              "  var s = document.createElement('script');\n",
              "  s.src = url;\n",
              "  s.async = true;\n",
              "  s.onreadystatechange = s.onload = callback;\n",
              "  s.onerror = function(){console.warn(\"failed to load library \" + url);};\n",
              "  document.getElementsByTagName(\"head\")[0].appendChild(s);\n",
              "}\n",
              "\n",
              "if(typeof(LDAvis) !== \"undefined\"){\n",
              "   // already loaded: just create the visualization\n",
              "   !function(LDAvis){\n",
              "       new LDAvis(\"#\" + \"ldavis_el2971335217803278082935001286\", ldavis_el2971335217803278082935001286_data);\n",
              "   }(LDAvis);\n",
              "}else if(typeof define === \"function\" && define.amd){\n",
              "   // require.js is available: use it to load d3/LDAvis\n",
              "   require.config({paths: {d3: \"https://d3js.org/d3.v5\"}});\n",
              "   require([\"d3\"], function(d3){\n",
              "      window.d3 = d3;\n",
              "      LDAvis_load_lib(\"https://cdn.jsdelivr.net/gh/bmabey/pyLDAvis@3.4.0/pyLDAvis/js/ldavis.v3.0.0.js\", function(){\n",
              "        new LDAvis(\"#\" + \"ldavis_el2971335217803278082935001286\", ldavis_el2971335217803278082935001286_data);\n",
              "      });\n",
              "    });\n",
              "}else{\n",
              "    // require.js not available: dynamically load d3 & LDAvis\n",
              "    LDAvis_load_lib(\"https://d3js.org/d3.v5.js\", function(){\n",
              "         LDAvis_load_lib(\"https://cdn.jsdelivr.net/gh/bmabey/pyLDAvis@3.4.0/pyLDAvis/js/ldavis.v3.0.0.js\", function(){\n",
              "                 new LDAvis(\"#\" + \"ldavis_el2971335217803278082935001286\", ldavis_el2971335217803278082935001286_data);\n",
              "            })\n",
              "         });\n",
              "}\n",
              "</script>"
            ]
          },
          "metadata": {},
          "execution_count": 39
        }
      ]
    },
    {
      "cell_type": "markdown",
      "metadata": {
        "id": "syy0tnTQmxZP"
      },
      "source": [
        "Try changing the parameters to get a *satisfying level of clustering*.  \n",
        "Which parameters worked best for the language you chose?"
      ]
    },
    {
      "cell_type": "code",
      "source": [
        "'''\n",
        "My observations about the hyperparameters:\n",
        "\n",
        "I had to change the hyperparameters because a lot of tokens were filtered out with the initial ones\n",
        "because I only used 50 articles when I tried this exercise out for the first time - and filtering out tokens if\n",
        "they appear in less than 15 of those 50 articles reduces the number of tokens drastically...\n",
        "I was left with only 2!\n",
        "So I lowered this hyperparameter and also I went back and chose 200 articles randomly instead,\n",
        "and I continued working with those 200 articles.\n",
        "\n",
        "The hyperparameters affect the model in the following way:\n",
        "- no_below=filter_tokens_if_container_documents_are_less_than: excludes (filters) tokens that occur in less\n",
        "than x documents. If x is 5, then a word must appear in 5 or more articles. This is helpful to remove\n",
        "rare words that might not be informative and might create noise in the model.\n",
        "\n",
        "- no_above=filter_tokens_if_appeared_percentage_more_than: filters tokens that occur in x percent of\n",
        "documents or more often. Hence, this will remove words that occur in most documents that might not be\n",
        "decisive for topic modeling. If x is 0.8, a word must occur in 80% or less of the articles. This is helpful to\n",
        "remove very common words which might be less useful for differentiating between topics.\n",
        "\n",
        "- keep_n=keep_the_first_n_token: keeps the most frequent x tokens (after filtering).\n",
        "\n",
        "My implementation:\n",
        "lower no_below: Since the corpus is still rather small (200 articles which are not super long), I set the no_below\n",
        "hyperparameter a little lower because a high value might exclude rare but important terms. In 200 short articles of\n",
        "(hopefully) differing topics, how big are the chances that a word appears in a high number of them? They are low!\n",
        "\n",
        "higher no_above: The Dutch language contains a lot of commonly used compound words. I read online that\n",
        "since that is the case, it is wise to set the no_above value a little higher so that you still include common compounds\n",
        "without letting overly frequent terms (that might not be informative) influence the LDA too much.\n",
        "\n",
        "I left the keep_n hyperparameter as is because I did not get extremely many tokens anyways due to the smaller\n",
        "dataset and rather short articles.\n",
        "\n",
        "About the visualisation: I read online that clusters that do not overlap extensively might demonstrate successful\n",
        "clustering.\n",
        "This explains why in my first trial with only 50 articles and not-so-ideal hyperparameters, the clusters were\n",
        "almost all at the right top corner and overlapping a lot. Now with 200 articles and better tuned hyperparameters,\n",
        "the clusters look more independent. Then I changed the number of topics from 10 to 20 (I know that there are maaany\n",
        "more topics in the dataset - I know, I am biased...), and now the clusters are even better!\n",
        "As a last step, I was curious how the clusters look for the IF/IDF based LDA model. And they surprised me! They\n",
        "vary in size a lot more and the smaller clusters are very close to each other and overlapping. I did some research\n",
        "and learned the following:\n",
        "- Size of clusters: While BOW only weighs words considering their frequency in an article, TD/IDF weighs words\n",
        "considering their frequency in an article AND in the whole corpus (inversed). For BOW, this might result in\n",
        "a more similar distribution of word weighs across topics. For TD/IDF, it means that words that are unique to specific\n",
        "articles or topics have higher weights and as a result, topics with more unique words will be bigger in size.\n",
        "- Distance between clusters/overlapping: The small and partly overlapping clusters in the TF/IDF based LDA might\n",
        "show topics that are only prevalent in a small proportion of the corpus (hence their small size), and that\n",
        "share unique words with one another (hence their proximity). In easy words: these are rare/niche topics that do\n",
        "not occur as often in the corpus but that are quite similar in terms of their words.\n",
        "\n",
        "As a next step, one could definitely increase the number of articles, and play around a little more with\n",
        "the number of topics, and maybe also refine the preprocessing pipeline for the Dutch language.\n",
        "'''"
      ],
      "metadata": {
        "colab": {
          "base_uri": "https://localhost:8080/",
          "height": 234
        },
        "id": "W7hEdml1fXwq",
        "outputId": "0ff82856-baae-4acb-a087-c6a04efe1d2e"
      },
      "execution_count": 37,
      "outputs": [
        {
          "output_type": "stream",
          "name": "stderr",
          "text": [
            "/usr/local/lib/python3.10/dist-packages/ipykernel/ipkernel.py:283: DeprecationWarning: `should_run_async` will not call `transform_cell` automatically in the future. Please pass the result to `transformed_cell` argument and any exception that happen during thetransform in `preprocessing_exc_tuple` in IPython 7.17 and above.\n",
            "  and should_run_async(code)\n"
          ]
        },
        {
          "output_type": "execute_result",
          "data": {
            "text/plain": [
              "'\\nMy observations about the hyperparameters:\\n\\nI had to change the hyperparameters because a lot of tokens were filtered our with the initial ones\\nbecause I only used 50 articles when I tried this LDA out for the first time - and filtering out tokens if\\nthey appear in less than 15 of thosr 50 articles reduces the number of tokens drastically...\\nI was left with only 2!).\\nSo I lowered this hyperparameter and\\nalso I went back and chose 200 articles randomly instead, and I will continue working with those 200 articles.\\n\\nThe hyperparameters affect the model in the following way: \\n- no_below=filter_tokens_if_container_documents_are_less_than: excludes (filters) tokens that occur in less\\nthan x documents. If x is 5, then a word must appear in 5 or more articles. This is helpful to remove\\nrare words that might not be informative and might create noise in the model.\\n\\n- no_above=filter_tokens_if_appeared_percentage_more_than: filters tokens that occur in x percent of\\ndocuments or more often. Hence, this will remove words that occur in most documents that might not be\\ndecisive for topic modeling. If x is 0.8, a word must occur in 80% or less of the articles. This is helpful to\\nremove very common words which might be less useful for differentiating between topics.\\n\\n- keep_n=keep_the_first_n_token: keeps the most frequent x tokens (after filtering).\\n\\nMy implementation:\\nlower no_below: Since the corpora is still rather small (200 articles which are not super long), I set the no_below \\nhyperparameter a little lower because a high value might exclude rare but important terms. In 200 short articles of\\n(hopefully) differing topics, what are the chances that a word appears in a high number of them? They are low!\\n\\nhigher no_above: The Dutch language contains a lot of commonly used/frequent compound words. I read online that\\nsince that is the case, it is wise to set the no_above a little higher so that you still include common compounds\\nwithout letting overly frequent terms (that might not be informative) influence the LDA too much.\\n\\nI left the keep_n hyperparameter as is because I did not get as many tokens anyways due to the smaller dataset and\\nrather short articles.\\n\\nAbout the visualisation: I read online that clusters that do not overlap extensively demonstrate successful clustering.\\nThis explains why in my first trial with only 50 articles and not-so-ideal hyperparameters, the clusters were \\nalmost all at the right top corner overlapping a lot. Now with 200 articles and better tuned hyperparameters,\\nthe clusters look more independent.\\n\\nAs a next step, one could also play around with the number of topics, and refine the preprocessing pipeline.\\n'"
            ],
            "application/vnd.google.colaboratory.intrinsic+json": {
              "type": "string"
            }
          },
          "metadata": {},
          "execution_count": 37
        }
      ]
    }
  ]
}