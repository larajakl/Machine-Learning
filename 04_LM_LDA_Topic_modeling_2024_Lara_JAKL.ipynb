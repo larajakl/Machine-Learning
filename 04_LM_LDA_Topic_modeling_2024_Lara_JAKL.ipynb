{
  "nbformat": 4,
  "nbformat_minor": 0,
  "metadata": {
    "colab": {
      "provenance": [],
      "toc_visible": true,
      "gpuType": "T4",
      "include_colab_link": true
    },
    "kernelspec": {
      "name": "python3",
      "display_name": "Python 3"
    },
    "accelerator": "GPU"
  },
  "cells": [
    {
      "cell_type": "markdown",
      "metadata": {
        "id": "view-in-github",
        "colab_type": "text"
      },
      "source": [
        "<a href=\"https://colab.research.google.com/github/larajakl/Machine-Learning/blob/main/04_LM_LDA_Topic_modeling_2024_Lara_JAKL.ipynb\" target=\"_parent\"><img src=\"https://colab.research.google.com/assets/colab-badge.svg\" alt=\"Open In Colab\"/></a>"
      ]
    },
    {
      "cell_type": "markdown",
      "source": [
        "# Clustering Documents"
      ],
      "metadata": {
        "id": "0QCMG-L_oPQ6"
      }
    },
    {
      "cell_type": "markdown",
      "metadata": {
        "id": "LuFLTklaSGqw"
      },
      "source": [
        "# Setup"
      ]
    },
    {
      "cell_type": "markdown",
      "metadata": {
        "id": "ncCmcyBB_KyW"
      },
      "source": [
        "We start by importing [pandas](https://pandas.pydata.org/) - an essential tool for data scientists!\n",
        "\n",
        "We load a .CSV (Comma Seperated Values) file of German news articles from https://github.com/tblock/10kGNAD\n"
      ]
    },
    {
      "cell_type": "code",
      "source": [
        "from IPython.display import YouTubeVideo"
      ],
      "metadata": {
        "id": "9e5gBKX3pFlC"
      },
      "execution_count": 1,
      "outputs": []
    },
    {
      "cell_type": "code",
      "metadata": {
        "id": "KfprTyMF4BG1",
        "outputId": "480be07d-0edf-4b17-c283-fad16d026680",
        "colab": {
          "base_uri": "https://localhost:8080/"
        }
      },
      "source": [
        "import pandas as pd\n",
        "\n",
        "import nltk\n",
        "nltk.download('punkt')\n",
        "nltk.download('stopwords')\n",
        "nltk.download('averaged_perceptron_tagger')\n",
        "nltk.download('universal_tagset')\n",
        "\n"
      ],
      "execution_count": 2,
      "outputs": [
        {
          "output_type": "stream",
          "name": "stderr",
          "text": [
            "[nltk_data] Downloading package punkt to /root/nltk_data...\n",
            "[nltk_data]   Unzipping tokenizers/punkt.zip.\n",
            "[nltk_data] Downloading package stopwords to /root/nltk_data...\n",
            "[nltk_data]   Unzipping corpora/stopwords.zip.\n",
            "[nltk_data] Downloading package averaged_perceptron_tagger to\n",
            "[nltk_data]     /root/nltk_data...\n",
            "[nltk_data]   Unzipping taggers/averaged_perceptron_tagger.zip.\n",
            "[nltk_data] Downloading package universal_tagset to /root/nltk_data...\n",
            "[nltk_data]   Unzipping taggers/universal_tagset.zip.\n"
          ]
        },
        {
          "output_type": "execute_result",
          "data": {
            "text/plain": [
              "True"
            ]
          },
          "metadata": {},
          "execution_count": 2
        }
      ]
    },
    {
      "cell_type": "markdown",
      "source": [
        "Pandas is a useful package to load CSV files and to parse them. It can also parse TSV - separated by tabs, or as in our case, separated by a `;`.  \n",
        "Pandas is often used as the first-step for data scientists to load and analyze data."
      ],
      "metadata": {
        "id": "v62qoMC7U7W-"
      }
    },
    {
      "cell_type": "code",
      "source": [
        "'''\n",
        "Since my mother tongue is German and I wanted to try out another language,\n",
        "I decided to use Dutch which is another language that I speak.\n",
        "I used the following dataset of news articles in Dutch:\n",
        "https://www.kaggle.com/datasets/maxscheijen/dutch-news-articles?resource=download\n",
        "/Users/Lara/Desktop/MLT/Machine Learning/Assignments/dutch-news-articles.csv\n",
        "'''"
      ],
      "metadata": {
        "colab": {
          "base_uri": "https://localhost:8080/",
          "height": 89
        },
        "id": "x7KaxRVJPKhx",
        "outputId": "c353b25a-beb5-4e65-abc5-f55817b4d68e"
      },
      "execution_count": 7,
      "outputs": [
        {
          "output_type": "execute_result",
          "data": {
            "text/plain": [
              "'\\nSince my mother tongue is German and I wanted to try out another language,\\nI decided to use Dutch which is another language that I speak.\\nI used the following dataset of news articles in Dutch:\\nhttps://www.kaggle.com/datasets/maxscheijen/dutch-news-articles?resource=download\\n/Users/Lara/Desktop/MLT/Machine Learning/Assignments/dutch-news-articles.csv\\n'"
            ],
            "application/vnd.google.colaboratory.intrinsic+json": {
              "type": "string"
            }
          },
          "metadata": {},
          "execution_count": 7
        }
      ]
    },
    {
      "cell_type": "code",
      "metadata": {
        "id": "ieItNWA44BEA",
        "colab": {
          "base_uri": "https://localhost:8080/"
        },
        "outputId": "f369bd81-6739-4f28-f846-f05cb17c5f36"
      },
      "source": [
        "import kagglehub\n",
        "\n",
        "# Download latest version\n",
        "path = kagglehub.dataset_download(\"maxscheijen/dutch-news-articles\")\n",
        "\n",
        "print(\"Path to dataset files:\", path)\n"
      ],
      "execution_count": 4,
      "outputs": [
        {
          "output_type": "stream",
          "name": "stdout",
          "text": [
            "Downloading from https://www.kaggle.com/api/v1/datasets/download/maxscheijen/dutch-news-articles?dataset_version_number=157...\n"
          ]
        },
        {
          "output_type": "stream",
          "name": "stderr",
          "text": [
            "100%|██████████| 161M/161M [00:01<00:00, 89.0MB/s]"
          ]
        },
        {
          "output_type": "stream",
          "name": "stdout",
          "text": [
            "Extracting files...\n"
          ]
        },
        {
          "output_type": "stream",
          "name": "stderr",
          "text": [
            "\n"
          ]
        },
        {
          "output_type": "stream",
          "name": "stdout",
          "text": [
            "Path to dataset files: /root/.cache/kagglehub/datasets/maxscheijen/dutch-news-articles/versions/157\n"
          ]
        }
      ]
    },
    {
      "cell_type": "code",
      "source": [
        "import os\n",
        "\n",
        "directory_path = '/root/.cache/kagglehub/datasets/maxscheijen/dutch-news-articles/versions/157'\n",
        "files = os.listdir(directory_path)\n",
        "print(files)"
      ],
      "metadata": {
        "colab": {
          "base_uri": "https://localhost:8080/"
        },
        "id": "nDT5MYjUQ1KL",
        "outputId": "c9105f5f-63cd-4396-892a-4b5f8c111bbd"
      },
      "execution_count": 5,
      "outputs": [
        {
          "output_type": "stream",
          "name": "stdout",
          "text": [
            "['dutch-news-articles.csv']\n"
          ]
        }
      ]
    },
    {
      "cell_type": "code",
      "source": [
        "csv_filename = 'dutch-news-articles.csv'\n",
        "csv_file_path = os.path.join(directory_path, csv_filename)"
      ],
      "metadata": {
        "id": "IuqeK5BXQ4JF"
      },
      "execution_count": 6,
      "outputs": []
    },
    {
      "cell_type": "code",
      "source": [
        "df_articles = pd.read_csv(csv_file_path,\n",
        "                 sep=',',       # this file is actually separated by \",\"\n",
        "                 on_bad_lines='skip',\n",
        "                 header=0,   # first line is header line for this CSV\n",
        "                 # .. so we define the column names here:\n",
        "                 usecols=['datetime', 'title', 'content', 'category', 'url'],  # Reads only the specified columns\n",
        "                 # And by specifiying the column as a Categorical type,\n",
        "                 # we can save computer memory! Yay!\n",
        "                 dtype={'category': 'category'})\n",
        "\n",
        "print(df_articles.head())"
      ],
      "metadata": {
        "colab": {
          "base_uri": "https://localhost:8080/"
        },
        "id": "Kikr2v2gQJ8t",
        "outputId": "5de2a7a2-54d5-41b5-e030-13b473a9dd5e"
      },
      "execution_count": 7,
      "outputs": [
        {
          "output_type": "stream",
          "name": "stdout",
          "text": [
            "              datetime                                            title  \\\n",
            "0  2010-01-01 00:49:00                Enige Litouwse kerncentrale dicht   \n",
            "1  2010-01-01 02:08:00  Spanje eerste EU-voorzitter onder nieuw verdrag   \n",
            "2  2010-01-01 02:09:00                 Fout justitie in Blackwater-zaak   \n",
            "3  2010-01-01 05:14:00        Museumplein vol, minder druk in Rotterdam   \n",
            "4  2010-01-01 05:30:00              Obama krijgt rapporten over aanslag   \n",
            "\n",
            "                                             content    category  \\\n",
            "0  De enige kerncentrale van Litouwen is oudjaars...  Buitenland   \n",
            "1  Spanje is met ingang van vandaag voorzitter va...  Buitenland   \n",
            "2  Vijf werknemers van het omstreden Amerikaanse ...  Buitenland   \n",
            "3  Het Oud en Nieuwfeest op het Museumplein in Am...  Binnenland   \n",
            "4  President Obama heeft de eerste rapporten gekr...  Buitenland   \n",
            "\n",
            "                                                 url  \n",
            "0  https://nos.nl/artikel/126231-enige-litouwse-k...  \n",
            "1  https://nos.nl/artikel/126230-spanje-eerste-eu...  \n",
            "2  https://nos.nl/artikel/126233-fout-justitie-in...  \n",
            "3  https://nos.nl/artikel/126232-museumplein-vol-...  \n",
            "4  https://nos.nl/artikel/126236-obama-krijgt-rap...  \n"
          ]
        }
      ]
    },
    {
      "cell_type": "markdown",
      "source": [
        "**Note:** Specifying a column with repeated strings as a category is a good Pandas' trick to be aware of. Often the dataset can't fit into the memory, and by specifiying columns as a categorical column when loading the data (`pd.read_csv`), we get to spare memory and allow the dataset to fit the working memory better."
      ],
      "metadata": {
        "id": "SVusBTWghIkz"
      }
    },
    {
      "cell_type": "code",
      "source": [
        "df_articles"
      ],
      "metadata": {
        "id": "XyYuGSLJSNCA",
        "outputId": "8a63256b-9edc-4176-f8e0-fb1e73fd8305",
        "colab": {
          "base_uri": "https://localhost:8080/",
          "height": 597
        }
      },
      "execution_count": 8,
      "outputs": [
        {
          "output_type": "execute_result",
          "data": {
            "text/plain": [
              "                   datetime  \\\n",
              "0       2010-01-01 00:49:00   \n",
              "1       2010-01-01 02:08:00   \n",
              "2       2010-01-01 02:09:00   \n",
              "3       2010-01-01 05:14:00   \n",
              "4       2010-01-01 05:30:00   \n",
              "...                     ...   \n",
              "255519  2023-08-09 09:51:42   \n",
              "255520  2023-08-09 10:06:31   \n",
              "255521  2023-08-09 10:09:40   \n",
              "255522  2023-08-09 10:17:16   \n",
              "255523  2023-08-09 11:18:09   \n",
              "\n",
              "                                                    title  \\\n",
              "0                       Enige Litouwse kerncentrale dicht   \n",
              "1         Spanje eerste EU-voorzitter onder nieuw verdrag   \n",
              "2                        Fout justitie in Blackwater-zaak   \n",
              "3               Museumplein vol, minder druk in Rotterdam   \n",
              "4                     Obama krijgt rapporten over aanslag   \n",
              "...                                                   ...   \n",
              "255519  Amazone-landen willen ontbossing tegengaan, ma...   \n",
              "255520  Topman moederbedrijf Albert Heijn: 'Prijsverla...   \n",
              "255521  Bijzondere mijlpaal voor Duncan Laurence: een ...   \n",
              "255522  Brand in Frans vakantiehuis voor gehandicapten...   \n",
              "255523  Tientallen bootmigranten omgekomen voor de kus...   \n",
              "\n",
              "                                                  content    category  \\\n",
              "0       De enige kerncentrale van Litouwen is oudjaars...  Buitenland   \n",
              "1       Spanje is met ingang van vandaag voorzitter va...  Buitenland   \n",
              "2       Vijf werknemers van het omstreden Amerikaanse ...  Buitenland   \n",
              "3       Het Oud en Nieuwfeest op het Museumplein in Am...  Binnenland   \n",
              "4       President Obama heeft de eerste rapporten gekr...  Buitenland   \n",
              "...                                                   ...         ...   \n",
              "255519  Acht Zuid-Amerikaanse landen zijn het op de Am...  Buitenland   \n",
              "255520  De topman van Ahold Delhaize, het moederbedrij...    Economie   \n",
              "255521  Duncan Laurence heeft met zijn nummer Arcade e...  Binnenland   \n",
              "255522  In een Frans vakantiehuis voor gehandicapten i...  Buitenland   \n",
              "255523  Voor de kust van het Italiaanse eiland Lampedu...  Buitenland   \n",
              "\n",
              "                                                      url  \n",
              "0       https://nos.nl/artikel/126231-enige-litouwse-k...  \n",
              "1       https://nos.nl/artikel/126230-spanje-eerste-eu...  \n",
              "2       https://nos.nl/artikel/126233-fout-justitie-in...  \n",
              "3       https://nos.nl/artikel/126232-museumplein-vol-...  \n",
              "4       https://nos.nl/artikel/126236-obama-krijgt-rap...  \n",
              "...                                                   ...  \n",
              "255519  https://nos.nl//artikel/2485984-amazone-landen...  \n",
              "255520  https://nos.nl//artikel/2485988-topman-moederb...  \n",
              "255521  https://nos.nl//artikel/2485989-bijzondere-mij...  \n",
              "255522  https://nos.nl//artikel/2485990-brand-in-frans...  \n",
              "255523  https://nos.nl//artikel/2485996-tientallen-boo...  \n",
              "\n",
              "[255524 rows x 5 columns]"
            ],
            "text/html": [
              "\n",
              "  <div id=\"df-01880f6c-2cda-4f1a-9fc6-a2ac53c7dd01\" class=\"colab-df-container\">\n",
              "    <div>\n",
              "<style scoped>\n",
              "    .dataframe tbody tr th:only-of-type {\n",
              "        vertical-align: middle;\n",
              "    }\n",
              "\n",
              "    .dataframe tbody tr th {\n",
              "        vertical-align: top;\n",
              "    }\n",
              "\n",
              "    .dataframe thead th {\n",
              "        text-align: right;\n",
              "    }\n",
              "</style>\n",
              "<table border=\"1\" class=\"dataframe\">\n",
              "  <thead>\n",
              "    <tr style=\"text-align: right;\">\n",
              "      <th></th>\n",
              "      <th>datetime</th>\n",
              "      <th>title</th>\n",
              "      <th>content</th>\n",
              "      <th>category</th>\n",
              "      <th>url</th>\n",
              "    </tr>\n",
              "  </thead>\n",
              "  <tbody>\n",
              "    <tr>\n",
              "      <th>0</th>\n",
              "      <td>2010-01-01 00:49:00</td>\n",
              "      <td>Enige Litouwse kerncentrale dicht</td>\n",
              "      <td>De enige kerncentrale van Litouwen is oudjaars...</td>\n",
              "      <td>Buitenland</td>\n",
              "      <td>https://nos.nl/artikel/126231-enige-litouwse-k...</td>\n",
              "    </tr>\n",
              "    <tr>\n",
              "      <th>1</th>\n",
              "      <td>2010-01-01 02:08:00</td>\n",
              "      <td>Spanje eerste EU-voorzitter onder nieuw verdrag</td>\n",
              "      <td>Spanje is met ingang van vandaag voorzitter va...</td>\n",
              "      <td>Buitenland</td>\n",
              "      <td>https://nos.nl/artikel/126230-spanje-eerste-eu...</td>\n",
              "    </tr>\n",
              "    <tr>\n",
              "      <th>2</th>\n",
              "      <td>2010-01-01 02:09:00</td>\n",
              "      <td>Fout justitie in Blackwater-zaak</td>\n",
              "      <td>Vijf werknemers van het omstreden Amerikaanse ...</td>\n",
              "      <td>Buitenland</td>\n",
              "      <td>https://nos.nl/artikel/126233-fout-justitie-in...</td>\n",
              "    </tr>\n",
              "    <tr>\n",
              "      <th>3</th>\n",
              "      <td>2010-01-01 05:14:00</td>\n",
              "      <td>Museumplein vol, minder druk in Rotterdam</td>\n",
              "      <td>Het Oud en Nieuwfeest op het Museumplein in Am...</td>\n",
              "      <td>Binnenland</td>\n",
              "      <td>https://nos.nl/artikel/126232-museumplein-vol-...</td>\n",
              "    </tr>\n",
              "    <tr>\n",
              "      <th>4</th>\n",
              "      <td>2010-01-01 05:30:00</td>\n",
              "      <td>Obama krijgt rapporten over aanslag</td>\n",
              "      <td>President Obama heeft de eerste rapporten gekr...</td>\n",
              "      <td>Buitenland</td>\n",
              "      <td>https://nos.nl/artikel/126236-obama-krijgt-rap...</td>\n",
              "    </tr>\n",
              "    <tr>\n",
              "      <th>...</th>\n",
              "      <td>...</td>\n",
              "      <td>...</td>\n",
              "      <td>...</td>\n",
              "      <td>...</td>\n",
              "      <td>...</td>\n",
              "    </tr>\n",
              "    <tr>\n",
              "      <th>255519</th>\n",
              "      <td>2023-08-09 09:51:42</td>\n",
              "      <td>Amazone-landen willen ontbossing tegengaan, ma...</td>\n",
              "      <td>Acht Zuid-Amerikaanse landen zijn het op de Am...</td>\n",
              "      <td>Buitenland</td>\n",
              "      <td>https://nos.nl//artikel/2485984-amazone-landen...</td>\n",
              "    </tr>\n",
              "    <tr>\n",
              "      <th>255520</th>\n",
              "      <td>2023-08-09 10:06:31</td>\n",
              "      <td>Topman moederbedrijf Albert Heijn: 'Prijsverla...</td>\n",
              "      <td>De topman van Ahold Delhaize, het moederbedrij...</td>\n",
              "      <td>Economie</td>\n",
              "      <td>https://nos.nl//artikel/2485988-topman-moederb...</td>\n",
              "    </tr>\n",
              "    <tr>\n",
              "      <th>255521</th>\n",
              "      <td>2023-08-09 10:09:40</td>\n",
              "      <td>Bijzondere mijlpaal voor Duncan Laurence: een ...</td>\n",
              "      <td>Duncan Laurence heeft met zijn nummer Arcade e...</td>\n",
              "      <td>Binnenland</td>\n",
              "      <td>https://nos.nl//artikel/2485989-bijzondere-mij...</td>\n",
              "    </tr>\n",
              "    <tr>\n",
              "      <th>255522</th>\n",
              "      <td>2023-08-09 10:17:16</td>\n",
              "      <td>Brand in Frans vakantiehuis voor gehandicapten...</td>\n",
              "      <td>In een Frans vakantiehuis voor gehandicapten i...</td>\n",
              "      <td>Buitenland</td>\n",
              "      <td>https://nos.nl//artikel/2485990-brand-in-frans...</td>\n",
              "    </tr>\n",
              "    <tr>\n",
              "      <th>255523</th>\n",
              "      <td>2023-08-09 11:18:09</td>\n",
              "      <td>Tientallen bootmigranten omgekomen voor de kus...</td>\n",
              "      <td>Voor de kust van het Italiaanse eiland Lampedu...</td>\n",
              "      <td>Buitenland</td>\n",
              "      <td>https://nos.nl//artikel/2485996-tientallen-boo...</td>\n",
              "    </tr>\n",
              "  </tbody>\n",
              "</table>\n",
              "<p>255524 rows × 5 columns</p>\n",
              "</div>\n",
              "    <div class=\"colab-df-buttons\">\n",
              "\n",
              "  <div class=\"colab-df-container\">\n",
              "    <button class=\"colab-df-convert\" onclick=\"convertToInteractive('df-01880f6c-2cda-4f1a-9fc6-a2ac53c7dd01')\"\n",
              "            title=\"Convert this dataframe to an interactive table.\"\n",
              "            style=\"display:none;\">\n",
              "\n",
              "  <svg xmlns=\"http://www.w3.org/2000/svg\" height=\"24px\" viewBox=\"0 -960 960 960\">\n",
              "    <path d=\"M120-120v-720h720v720H120Zm60-500h600v-160H180v160Zm220 220h160v-160H400v160Zm0 220h160v-160H400v160ZM180-400h160v-160H180v160Zm440 0h160v-160H620v160ZM180-180h160v-160H180v160Zm440 0h160v-160H620v160Z\"/>\n",
              "  </svg>\n",
              "    </button>\n",
              "\n",
              "  <style>\n",
              "    .colab-df-container {\n",
              "      display:flex;\n",
              "      gap: 12px;\n",
              "    }\n",
              "\n",
              "    .colab-df-convert {\n",
              "      background-color: #E8F0FE;\n",
              "      border: none;\n",
              "      border-radius: 50%;\n",
              "      cursor: pointer;\n",
              "      display: none;\n",
              "      fill: #1967D2;\n",
              "      height: 32px;\n",
              "      padding: 0 0 0 0;\n",
              "      width: 32px;\n",
              "    }\n",
              "\n",
              "    .colab-df-convert:hover {\n",
              "      background-color: #E2EBFA;\n",
              "      box-shadow: 0px 1px 2px rgba(60, 64, 67, 0.3), 0px 1px 3px 1px rgba(60, 64, 67, 0.15);\n",
              "      fill: #174EA6;\n",
              "    }\n",
              "\n",
              "    .colab-df-buttons div {\n",
              "      margin-bottom: 4px;\n",
              "    }\n",
              "\n",
              "    [theme=dark] .colab-df-convert {\n",
              "      background-color: #3B4455;\n",
              "      fill: #D2E3FC;\n",
              "    }\n",
              "\n",
              "    [theme=dark] .colab-df-convert:hover {\n",
              "      background-color: #434B5C;\n",
              "      box-shadow: 0px 1px 3px 1px rgba(0, 0, 0, 0.15);\n",
              "      filter: drop-shadow(0px 1px 2px rgba(0, 0, 0, 0.3));\n",
              "      fill: #FFFFFF;\n",
              "    }\n",
              "  </style>\n",
              "\n",
              "    <script>\n",
              "      const buttonEl =\n",
              "        document.querySelector('#df-01880f6c-2cda-4f1a-9fc6-a2ac53c7dd01 button.colab-df-convert');\n",
              "      buttonEl.style.display =\n",
              "        google.colab.kernel.accessAllowed ? 'block' : 'none';\n",
              "\n",
              "      async function convertToInteractive(key) {\n",
              "        const element = document.querySelector('#df-01880f6c-2cda-4f1a-9fc6-a2ac53c7dd01');\n",
              "        const dataTable =\n",
              "          await google.colab.kernel.invokeFunction('convertToInteractive',\n",
              "                                                    [key], {});\n",
              "        if (!dataTable) return;\n",
              "\n",
              "        const docLinkHtml = 'Like what you see? Visit the ' +\n",
              "          '<a target=\"_blank\" href=https://colab.research.google.com/notebooks/data_table.ipynb>data table notebook</a>'\n",
              "          + ' to learn more about interactive tables.';\n",
              "        element.innerHTML = '';\n",
              "        dataTable['output_type'] = 'display_data';\n",
              "        await google.colab.output.renderOutput(dataTable, element);\n",
              "        const docLink = document.createElement('div');\n",
              "        docLink.innerHTML = docLinkHtml;\n",
              "        element.appendChild(docLink);\n",
              "      }\n",
              "    </script>\n",
              "  </div>\n",
              "\n",
              "\n",
              "<div id=\"df-d07594d8-b46e-4a37-81d7-ecabe34d4a8e\">\n",
              "  <button class=\"colab-df-quickchart\" onclick=\"quickchart('df-d07594d8-b46e-4a37-81d7-ecabe34d4a8e')\"\n",
              "            title=\"Suggest charts\"\n",
              "            style=\"display:none;\">\n",
              "\n",
              "<svg xmlns=\"http://www.w3.org/2000/svg\" height=\"24px\"viewBox=\"0 0 24 24\"\n",
              "     width=\"24px\">\n",
              "    <g>\n",
              "        <path d=\"M19 3H5c-1.1 0-2 .9-2 2v14c0 1.1.9 2 2 2h14c1.1 0 2-.9 2-2V5c0-1.1-.9-2-2-2zM9 17H7v-7h2v7zm4 0h-2V7h2v10zm4 0h-2v-4h2v4z\"/>\n",
              "    </g>\n",
              "</svg>\n",
              "  </button>\n",
              "\n",
              "<style>\n",
              "  .colab-df-quickchart {\n",
              "      --bg-color: #E8F0FE;\n",
              "      --fill-color: #1967D2;\n",
              "      --hover-bg-color: #E2EBFA;\n",
              "      --hover-fill-color: #174EA6;\n",
              "      --disabled-fill-color: #AAA;\n",
              "      --disabled-bg-color: #DDD;\n",
              "  }\n",
              "\n",
              "  [theme=dark] .colab-df-quickchart {\n",
              "      --bg-color: #3B4455;\n",
              "      --fill-color: #D2E3FC;\n",
              "      --hover-bg-color: #434B5C;\n",
              "      --hover-fill-color: #FFFFFF;\n",
              "      --disabled-bg-color: #3B4455;\n",
              "      --disabled-fill-color: #666;\n",
              "  }\n",
              "\n",
              "  .colab-df-quickchart {\n",
              "    background-color: var(--bg-color);\n",
              "    border: none;\n",
              "    border-radius: 50%;\n",
              "    cursor: pointer;\n",
              "    display: none;\n",
              "    fill: var(--fill-color);\n",
              "    height: 32px;\n",
              "    padding: 0;\n",
              "    width: 32px;\n",
              "  }\n",
              "\n",
              "  .colab-df-quickchart:hover {\n",
              "    background-color: var(--hover-bg-color);\n",
              "    box-shadow: 0 1px 2px rgba(60, 64, 67, 0.3), 0 1px 3px 1px rgba(60, 64, 67, 0.15);\n",
              "    fill: var(--button-hover-fill-color);\n",
              "  }\n",
              "\n",
              "  .colab-df-quickchart-complete:disabled,\n",
              "  .colab-df-quickchart-complete:disabled:hover {\n",
              "    background-color: var(--disabled-bg-color);\n",
              "    fill: var(--disabled-fill-color);\n",
              "    box-shadow: none;\n",
              "  }\n",
              "\n",
              "  .colab-df-spinner {\n",
              "    border: 2px solid var(--fill-color);\n",
              "    border-color: transparent;\n",
              "    border-bottom-color: var(--fill-color);\n",
              "    animation:\n",
              "      spin 1s steps(1) infinite;\n",
              "  }\n",
              "\n",
              "  @keyframes spin {\n",
              "    0% {\n",
              "      border-color: transparent;\n",
              "      border-bottom-color: var(--fill-color);\n",
              "      border-left-color: var(--fill-color);\n",
              "    }\n",
              "    20% {\n",
              "      border-color: transparent;\n",
              "      border-left-color: var(--fill-color);\n",
              "      border-top-color: var(--fill-color);\n",
              "    }\n",
              "    30% {\n",
              "      border-color: transparent;\n",
              "      border-left-color: var(--fill-color);\n",
              "      border-top-color: var(--fill-color);\n",
              "      border-right-color: var(--fill-color);\n",
              "    }\n",
              "    40% {\n",
              "      border-color: transparent;\n",
              "      border-right-color: var(--fill-color);\n",
              "      border-top-color: var(--fill-color);\n",
              "    }\n",
              "    60% {\n",
              "      border-color: transparent;\n",
              "      border-right-color: var(--fill-color);\n",
              "    }\n",
              "    80% {\n",
              "      border-color: transparent;\n",
              "      border-right-color: var(--fill-color);\n",
              "      border-bottom-color: var(--fill-color);\n",
              "    }\n",
              "    90% {\n",
              "      border-color: transparent;\n",
              "      border-bottom-color: var(--fill-color);\n",
              "    }\n",
              "  }\n",
              "</style>\n",
              "\n",
              "  <script>\n",
              "    async function quickchart(key) {\n",
              "      const quickchartButtonEl =\n",
              "        document.querySelector('#' + key + ' button');\n",
              "      quickchartButtonEl.disabled = true;  // To prevent multiple clicks.\n",
              "      quickchartButtonEl.classList.add('colab-df-spinner');\n",
              "      try {\n",
              "        const charts = await google.colab.kernel.invokeFunction(\n",
              "            'suggestCharts', [key], {});\n",
              "      } catch (error) {\n",
              "        console.error('Error during call to suggestCharts:', error);\n",
              "      }\n",
              "      quickchartButtonEl.classList.remove('colab-df-spinner');\n",
              "      quickchartButtonEl.classList.add('colab-df-quickchart-complete');\n",
              "    }\n",
              "    (() => {\n",
              "      let quickchartButtonEl =\n",
              "        document.querySelector('#df-d07594d8-b46e-4a37-81d7-ecabe34d4a8e button');\n",
              "      quickchartButtonEl.style.display =\n",
              "        google.colab.kernel.accessAllowed ? 'block' : 'none';\n",
              "    })();\n",
              "  </script>\n",
              "</div>\n",
              "\n",
              "  <div id=\"id_8bc080af-fbb0-417f-8895-be8d34020439\">\n",
              "    <style>\n",
              "      .colab-df-generate {\n",
              "        background-color: #E8F0FE;\n",
              "        border: none;\n",
              "        border-radius: 50%;\n",
              "        cursor: pointer;\n",
              "        display: none;\n",
              "        fill: #1967D2;\n",
              "        height: 32px;\n",
              "        padding: 0 0 0 0;\n",
              "        width: 32px;\n",
              "      }\n",
              "\n",
              "      .colab-df-generate:hover {\n",
              "        background-color: #E2EBFA;\n",
              "        box-shadow: 0px 1px 2px rgba(60, 64, 67, 0.3), 0px 1px 3px 1px rgba(60, 64, 67, 0.15);\n",
              "        fill: #174EA6;\n",
              "      }\n",
              "\n",
              "      [theme=dark] .colab-df-generate {\n",
              "        background-color: #3B4455;\n",
              "        fill: #D2E3FC;\n",
              "      }\n",
              "\n",
              "      [theme=dark] .colab-df-generate:hover {\n",
              "        background-color: #434B5C;\n",
              "        box-shadow: 0px 1px 3px 1px rgba(0, 0, 0, 0.15);\n",
              "        filter: drop-shadow(0px 1px 2px rgba(0, 0, 0, 0.3));\n",
              "        fill: #FFFFFF;\n",
              "      }\n",
              "    </style>\n",
              "    <button class=\"colab-df-generate\" onclick=\"generateWithVariable('df_articles')\"\n",
              "            title=\"Generate code using this dataframe.\"\n",
              "            style=\"display:none;\">\n",
              "\n",
              "  <svg xmlns=\"http://www.w3.org/2000/svg\" height=\"24px\"viewBox=\"0 0 24 24\"\n",
              "       width=\"24px\">\n",
              "    <path d=\"M7,19H8.4L18.45,9,17,7.55,7,17.6ZM5,21V16.75L18.45,3.32a2,2,0,0,1,2.83,0l1.4,1.43a1.91,1.91,0,0,1,.58,1.4,1.91,1.91,0,0,1-.58,1.4L9.25,21ZM18.45,9,17,7.55Zm-12,3A5.31,5.31,0,0,0,4.9,8.1,5.31,5.31,0,0,0,1,6.5,5.31,5.31,0,0,0,4.9,4.9,5.31,5.31,0,0,0,6.5,1,5.31,5.31,0,0,0,8.1,4.9,5.31,5.31,0,0,0,12,6.5,5.46,5.46,0,0,0,6.5,12Z\"/>\n",
              "  </svg>\n",
              "    </button>\n",
              "    <script>\n",
              "      (() => {\n",
              "      const buttonEl =\n",
              "        document.querySelector('#id_8bc080af-fbb0-417f-8895-be8d34020439 button.colab-df-generate');\n",
              "      buttonEl.style.display =\n",
              "        google.colab.kernel.accessAllowed ? 'block' : 'none';\n",
              "\n",
              "      buttonEl.onclick = () => {\n",
              "        google.colab.notebook.generateWithVariable('df_articles');\n",
              "      }\n",
              "      })();\n",
              "    </script>\n",
              "  </div>\n",
              "\n",
              "    </div>\n",
              "  </div>\n"
            ],
            "application/vnd.google.colaboratory.intrinsic+json": {
              "type": "dataframe",
              "variable_name": "df_articles"
            }
          },
          "metadata": {},
          "execution_count": 8
        }
      ]
    },
    {
      "cell_type": "code",
      "source": [
        "df_articles['category'].cat.categories"
      ],
      "metadata": {
        "colab": {
          "base_uri": "https://localhost:8080/"
        },
        "id": "KGgnGvdLVLkh",
        "outputId": "4ee0650b-9915-4eac-fa2e-7bdaa6cf0d26"
      },
      "execution_count": 10,
      "outputs": [
        {
          "output_type": "execute_result",
          "data": {
            "text/plain": [
              "Index(['Binnenland', 'Buitenland', 'Cultuur & Media', 'Economie',\n",
              "       'Koningshuis', 'Opmerkelijk', 'Politiek', 'Regionaal nieuws', 'Tech',\n",
              "       '1 Jaar Oorlog', '4 En 5 Mei ', 'Aardbevingen', 'Crisis Asielbeleid',\n",
              "       'Cultuur-En-Media', 'Einde Rutte Iv', 'Grensoverschrijdend ',\n",
              "       'Gronings Gas', 'Jaarwisseling', 'Keti Koti', 'Klimaat',\n",
              "       'Kroning Charles', 'L1Mburg', 'Midterm-Verkiezingen', 'Nh Nieuws',\n",
              "       'Oekraïens Offensief', 'Omroep Brabant', 'Omroep Flevoland',\n",
              "       'Omroep Gelderland', 'Omroep West', 'Omroep Zeeland', 'Omrop Fryslân',\n",
              "       'Op Weg Naar Tk2023', 'Opstand Wagner', 'Pelé Overleden',\n",
              "       'Pentagon-Lek', 'Proces-Taghi', 'Regio', 'Regionaal Nieuws', 'Rijnmond',\n",
              "       'Rtv Drenthe', 'Rtv Noord', 'Rtv Oost', 'Rtv Utrecht',\n",
              "       'Schipholonderzoek', 'Slavernijverleden', 'Songfestival ',\n",
              "       'Stikstofcrisis', 'Strijd In Sudan', 'Treinongeluk', 'Turkije Kiest',\n",
              "       'Verkiezingen', 'Wangedrag Supporters', 'Watersnoodramp', 'Wk Voetbal',\n",
              "       'Woningcorporaties'],\n",
              "      dtype='object')"
            ]
          },
          "metadata": {},
          "execution_count": 10
        }
      ]
    },
    {
      "cell_type": "markdown",
      "metadata": {
        "id": "lMnZgp90-Y7R"
      },
      "source": [
        "# Clustering with Latent Dirichlet Allocation (LDA)"
      ]
    },
    {
      "cell_type": "markdown",
      "metadata": {
        "id": "ZjX33ZXRfsM4"
      },
      "source": [
        "In previous exercises, you got to know NLTK.\n",
        "\n",
        "### Stemming\n",
        "Here we will also use NLTK's methods of **stemming** the words. By returning to the root of the word, its stem, we reduce the dimensionality: the number of words in the vocabulary decreases. For example, instead of having different words for the singular and plural form - 'word' <--> 'words' or 'Kanzler', 'Kanzlers', 'Kanzlei', etc., we trim those words into 'Kanzl'. Hence we can reduce the size of the vocabulary by at least half.\n",
        "\n",
        "### Stop Words\n",
        "We will also remove `stopwords` from our text. In English, words such as: `a`, `an`, and `the` will be removed, as they don't add much to the meaning of the sentence. For each language, there is a different curated list of such words, and NLTK is a great source for those.\n",
        "\n",
        "### GenSim\n",
        "In this exercise, you'll be introduced to another package, specialized in topic modeling, called `gensim`:\n",
        "https://radimrehurek.com/gensim/\n",
        "\n"
      ]
    },
    {
      "cell_type": "code",
      "source": [
        "%pip install -U gensim --quiet"
      ],
      "metadata": {
        "id": "wXiy7e3wvTfP"
      },
      "execution_count": 11,
      "outputs": []
    },
    {
      "cell_type": "code",
      "metadata": {
        "id": "dA1Ek-yR4BBG"
      },
      "source": [
        "from pprint import pprint # for printing objects nicely\n",
        "\n",
        "from gensim import corpora, models\n",
        "from gensim.utils import simple_preprocess\n",
        "\n",
        "## Instead of the gensim English stopwords...\n",
        "# from gensim.parsing.preprocessing import STOPWORDS\n",
        "## ...I will use nltk's Dutch stopwords:\n",
        "from nltk.corpus import stopwords\n",
        "\n",
        "from nltk.stem.snowball import SnowballStemmer\n",
        "from nltk.stem.porter import *\n",
        "\n",
        "import numpy as np\n",
        "\n",
        "from random import choice\n",
        "import random # I import this to get random 50 articles from the file that I will work with\n",
        "\n",
        "np.random.seed(1234)"
      ],
      "execution_count": 17,
      "outputs": []
    },
    {
      "cell_type": "code",
      "source": [
        "# Initialize the Stemmers\n",
        "stemmer = SnowballStemmer('dutch')\n",
        "dutch_stop_words = set(stopwords.words('dutch'))\n",
        "\n",
        "\n",
        "def lemmatize_stemming(text):\n",
        "  \"\"\"lemmatize and stem a word\"\"\"\n",
        "  return stemmer.stem(text)\n",
        "\n",
        "\n",
        "def preprocess(text):\n",
        "  \"\"\"lemmatize and remove stopwords\"\"\"\n",
        "  result = [lemmatize_stemming(token)\n",
        "            for token in simple_preprocess(text)\n",
        "            if token not in dutch_stop_words and len(token) > 3]\n",
        "  return result\n"
      ],
      "metadata": {
        "id": "2zkoH-LZjmg6"
      },
      "execution_count": 13,
      "outputs": []
    },
    {
      "cell_type": "markdown",
      "metadata": {
        "id": "H9FeFqUmk7hJ"
      },
      "source": [
        "In our DataFrame, we have a table contains the articles and their topics.\n",
        "\n",
        "We only need the articles for this tasks - we will create our own topics. So, let's start by converting the articles column into a ist of all the articles:"
      ]
    },
    {
      "cell_type": "code",
      "metadata": {
        "id": "5Yk3kIqSjY6C",
        "outputId": "f830c090-d77a-4355-e963-d517bcdcb08f",
        "colab": {
          "base_uri": "https://localhost:8080/"
        }
      },
      "source": [
        "all_articles = df_articles['content'].to_list()\n",
        "all_articles[:5]"
      ],
      "execution_count": 14,
      "outputs": [
        {
          "output_type": "execute_result",
          "data": {
            "text/plain": [
              "['De enige kerncentrale van Litouwen is oudjaarsavond om 23.00 uur buiten gebruik gesteld. Dat verliep zonder problemen, aldus de directeur. Litouwen beloofde al in 2004 om de centrale te sluiten in ruil voor toetreding tot de Europese Unie. De EU wilde sluiting omdat de kerncentrale bij de stad Visiginas mogelijk niet veilig was. Nucleaire ramp De centrale is een grotere versie van die bij Tsjernobyl. Die ontplofte in 1986 en veroorzaakte een nucleaire wolk die over een groot deel van Europa trok. Dat was de grootste nucleaire ramp in de geschiedenis. Voor Litouwen betekent de sluiting dat het land een goedkope bron van energie kwijt is. Het wordt nu veel afhankelijker van bijvoorbeeld gas uit Rusland. De kerncentrale leverde bijna driekwart van de Litouwse energiebehoefte.',\n",
              " 'Spanje is met ingang van vandaag voorzitter van de EU. De Zweedse premier Fredrik Reinfeldt heeft het stokje, formeel om middernacht, overgedragen aan zijn Spaanse collega José Luis Rodriguez Zapatero. Spanje is het eerste land dat het roulerend voorzitterschap overneemt onder het Verdrag van Lissabon, dat op 1 december in werking is getreden. Nieuwe functies De rol van het voorzitterschap is met het in werking treden van het Verdrag van Lissabon veranderd. Voortaan zal de Belg Herman van Rompuy de vergaderingen van de Europese Raad voorzitten. Van Rompuy vertegenwoordigt de EU ook internationaal, samen met de Britse Catherine Ashton. Zij is de buitenlandminister van de EU, ook een nieuwe functie. Spanje heeft het economisch herstel hoog op de agenda van de Europese Unie gezet. Van Rompuy organiseert volgende maand een extra EU-top over de aanpak van de economische crisis. Geslaagd De Zweden mogen terugzien op een geslaagd voorzitterschap. In het afgelopen half jaar kwam het nieuwe Verdrag er, werden er topbenoemingen geregeld en de kredietcrisis bestreden. Alleen de klimaattop in Kopenhagen was een project dat minder succesvol werd afgesloten. ',\n",
              " \"Vijf werknemers van het omstreden Amerikaanse beveilingingsbedrijf Blackwater gaan vrijuit voor hun aandeel in een dodelijke schietpartij in Bagdad. De mannen werden verdacht van het doodschieten van zeventien Irakese burgers in 2007. Een rechter in Washington bepaalde dat het bewijs tegen hen niet rechtmatig is verkregen en heeft de zaak daarom niet-ontvankelijk verklaard. Beloofd De verdachten was door rechercheurs beloofd dat hun verklaringen alleen gebruikt zouden worden voor het onderzoek naar de schietpartij en dat die geen rol zouden spelen in een strafzaak. Justitie had dus aanvullend bewijs moeten vergaren, maar is daar volgens de rechter niet in geslaagd. De schietpartij op een plein in Bagdad veroorzaakte wereldwijd verontwaardiging, omdat de slachtoffers ongewapende burgers waren. Blackwater verzorgde destijds de beveiliging van Amerikaanse diplomaten in Irak. Volgens het bedrijf schoten de beveiligers uit zelfverdediging, maar uit officieel onderzoek kwam een ander beeld naar voren. Geweldsincidenten Er bleken meer geweldsincidenten te zijn geweest en het werd duidelijk dat de bewakers van het bedrijf eigenlijk aan niemand verantwoording verschuldigd waren. Blackwater werd in 1997 opgericht door een aantal voormalige commando's. Na de schietpartij werd de leiding vervangen en kreeg het bedrijf een andere naam, Xe. Het bedrijf is niet meer werkzaam in Irak. Eerder dit jaar besloten de regeringen van Irak en de Verenigde Staten hun contracten met Blackwater niet te verlengen.\",\n",
              " 'Het Oud en Nieuwfeest op het Museumplein in Amsterdam heeft tussen de 40.000 en 45.000 bezoekers getrokken. Daarmee was het plein zo goed als vol. Het was de eerste keer dat het feest op het Museumplein werd gehouden. Tot nu toe werd het georganiseerd op de Dam, maar daar is maar plaats voor 30.000 mensen. De afgelopen jaren was het er dan ook veel te druk. Op het Museumplein waren optredens van onder anderen de sopraan Barbara Hannigan en de finalisten van de tv-talentenjacht Popstars. Hoofdact was Marco Borsato. De veiligheidsmaatregelen rond het feest waren streng. Er stonden hekken zodat het plein afgesloten kon worden als het te vol zou worden en alle bezoekers werden gefouilleerd. Ze mochten geen vuurwerk of glaswerk bij zich hebben. Er deden zich geen incidenten voor. Rotterdam In Rotterdam was er opnieuw een groot feest bij de Erasmusbrug. Daar zijn minder mensen naartoe gekomen dan verwacht. Er was op 20.000 bezoekers gerekend. Op het podium waren optredens van Di-RECT, Esmee Denters en Fedde LeGrand. Ook hier was de beveiliging streng. Zo liepen er veel particuliere bewakers rond. Vanaf het varende podium op de Maas wenste burgemeester Aboutaleb de Rotterdammers een goed 2010.',\n",
              " 'President Obama heeft de eerste rapporten gekregen over de mislukte aanslag op een vliegtuig bij Detroit. De rapporten gaan over de gaten in de beveiliging die het mogelijk maakten dat de Nigeriaanse dader met springstof aan boord kon komen van een vlucht naar de Verenigde Staten. Van de Nigeriaan bleken allerlei gegevens beschikbaar te zijn bij de verschillende Amerikaanse veiligheidsdiensten, maar die waren niet doorgegeven. Vakantie Obama spraak gisteren al met de minister van Binnenlandse Veiligheid, Janet Napolitano, en antiterrorisme-adviseur John Brennan. In de VS is bezorgd gereageerd op de activiteiten van de 23-jarige Nigeriaan. Obama is op vakantie in Hawaï, waar hij de voorlopige rapporten zal bestuderen. Dinsdag praat hij erover met de hoofden van de veiligheidsdiensten.']"
            ]
          },
          "metadata": {},
          "execution_count": 14
        }
      ]
    },
    {
      "cell_type": "code",
      "source": [
        "'''\n",
        "I will work with randomly selected 200 articles from the dataset:\n",
        "'''\n",
        "random.seed(42)\n",
        "\n",
        "random_articles = random.sample(all_articles, 200)"
      ],
      "metadata": {
        "id": "jDoPkxZKWgHV"
      },
      "execution_count": 73,
      "outputs": []
    },
    {
      "cell_type": "markdown",
      "metadata": {
        "id": "LNnJfuDllNhz"
      },
      "source": [
        "## Preprocessing\n",
        "\n",
        "Let's see an example, what happens when we pre-process a document.\n",
        "\n",
        "Look at the output of this cell, and compare the tokenized original document, to the lemmatized document:\n",
        "\n",
        "My observations: The lemmatized (preprocessed) document has fewer unique tokens/words because of the lemmatization, the removal of words of length 3 or shorter, and the removal of stopwords. Every token is in lowercase now."
      ]
    },
    {
      "cell_type": "code",
      "metadata": {
        "id": "oVI6_TKjjm2B",
        "outputId": "c16320ea-b6ca-408c-d418-952c412976ca",
        "colab": {
          "base_uri": "https://localhost:8080/"
        }
      },
      "source": [
        "print('original document: ')\n",
        "article = choice(random_articles)\n",
        "print(article, \"\\n\")\n",
        "\n",
        "# This time, we don't care about punctuations as tokens (Can you think why?):\n",
        "print('original document, broken into words: ')\n",
        "words = [word for word in article.split(' ')]\n",
        "print(words, \"\\n\")\n",
        "print(\"Vocabulary size of the original article:\", len(set(words)))\n",
        "\n",
        "# now let's see what happens when we pass the article into our preprocessing\n",
        "# method:\n",
        "print('\\n\\n tokenized and lemmatized document: ')\n",
        "preprocessed_article = preprocess(article)\n",
        "print(preprocessed_article, '\\n')\n",
        "print(\"Vocabulary size after preprocessing:\", len(set(preprocessed_article)))\n"
      ],
      "execution_count": 74,
      "outputs": [
        {
          "output_type": "stream",
          "name": "stdout",
          "text": [
            "original document: \n",
            "Het fregat Hr. Ms.Tromp heeft gisteren twee Somalische piraten doodgeschoten. Zestien Somaliërs zijn opgepakt. De Somaliërs schoten vanaf een gekaapt Iraans vissersschip, dat door de Nederlanders werd bevrijd. Aan Nederlandse kant is volgens het ministerie van Defensie niemand gewond geraakt. De Somaliërs werden gedood toen vanaf de Tromp werd teruggeschoten. De piraten sloegen op de vlucht maar ze staakten de vluchtpoging toen er waarschuwingsschoten werden gelost. Later werd de Tromp nog genaderd door een ander gekaapt schip, maar dat maakte rechtsomkeert na schoten voor de boeg. \n",
            "\n",
            "original document, broken into words: \n",
            "['Het', 'fregat', 'Hr.', 'Ms.Tromp', 'heeft', 'gisteren', 'twee', 'Somalische', 'piraten', 'doodgeschoten.', 'Zestien', 'Somaliërs', 'zijn', 'opgepakt.', 'De', 'Somaliërs', 'schoten', 'vanaf', 'een', 'gekaapt', 'Iraans', 'vissersschip,', 'dat', 'door', 'de', 'Nederlanders', 'werd', 'bevrijd.', 'Aan', 'Nederlandse', 'kant', 'is', 'volgens', 'het', 'ministerie', 'van', 'Defensie', 'niemand', 'gewond', 'geraakt.', 'De', 'Somaliërs', 'werden', 'gedood', 'toen', 'vanaf', 'de', 'Tromp', 'werd', 'teruggeschoten.', 'De', 'piraten', 'sloegen', 'op', 'de', 'vlucht', 'maar', 'ze', 'staakten', 'de', 'vluchtpoging', 'toen', 'er', 'waarschuwingsschoten', 'werden', 'gelost.', 'Later', 'werd', 'de', 'Tromp', 'nog', 'genaderd', 'door', 'een', 'ander', 'gekaapt', 'schip,', 'maar', 'dat', 'maakte', 'rechtsomkeert', 'na', 'schoten', 'voor', 'de', 'boeg.'] \n",
            "\n",
            "Vocabulary size of the original article: 64\n",
            "\n",
            "\n",
            " tokenized and lemmatized document: \n",
            "['fregat', 'tromp', 'gister', 'twee', 'somalisch', 'pirat', 'doodgeschot', 'zestien', 'somalie', 'opgepakt', 'somalie', 'schot', 'vanaf', 'gekaapt', 'iran', 'vissersschip', 'nederlander', 'bevrijd', 'nederland', 'kant', 'volgen', 'ministerie', 'defensie', 'niemand', 'gewond', 'geraakt', 'somalie', 'werd', 'gedod', 'vanaf', 'tromp', 'teruggeschot', 'pirat', 'sloeg', 'vlucht', 'staakt', 'vluchtpog', 'werd', 'gelost', 'later', 'tromp', 'genaderd', 'ander', 'gekaapt', 'schip', 'maakt', 'rechtsomkeert', 'schot', 'boeg'] \n",
            "\n",
            "Vocabulary size after preprocessing: 40\n"
          ]
        }
      ]
    },
    {
      "cell_type": "markdown",
      "metadata": {
        "id": "DDVOwyaIlL52"
      },
      "source": [
        "Now let's pre-process all the documents.  \n",
        "This is a heavy procedure, and may take a bit ;)"
      ]
    },
    {
      "cell_type": "code",
      "metadata": {
        "id": "2pQYw_aYkq-_",
        "outputId": "85b47914-f9fb-41e0-b384-e6220e5dde95",
        "colab": {
          "base_uri": "https://localhost:8080/"
        }
      },
      "source": [
        "processed_docs = list(map(preprocess, random_articles))\n",
        "processed_docs[:10]"
      ],
      "execution_count": 75,
      "outputs": [
        {
          "output_type": "execute_result",
          "data": {
            "text/plain": [
              "[['kliniek',\n",
              "  'bangkok',\n",
              "  'operaties',\n",
              "  'maand',\n",
              "  'uitvoert',\n",
              "  'waarbij',\n",
              "  'peniss',\n",
              "  'gebleekt',\n",
              "  'opsprak',\n",
              "  'gekom',\n",
              "  'social',\n",
              "  'media',\n",
              "  'medewerker',\n",
              "  'deeld',\n",
              "  'foto',\n",
              "  'facebok',\n",
              "  'geslachtsdel',\n",
              "  'witter',\n",
              "  'liet',\n",
              "  'mak',\n",
              "  'post',\n",
              "  'ker',\n",
              "  'gedeeld',\n",
              "  'riep',\n",
              "  'vrag',\n",
              "  'grenz',\n",
              "  'thais',\n",
              "  'maand',\n",
              "  'geled',\n",
              "  'begon',\n",
              "  'lelux',\n",
              "  'ziekenhuis',\n",
              "  'laser',\n",
              "  'peniss',\n",
              "  'behandel',\n",
              "  'melanin',\n",
              "  'afgebrok',\n",
              "  'waardor',\n",
              "  'penis',\n",
              "  'witter',\n",
              "  'kliniek',\n",
              "  'stat',\n",
              "  'bekend',\n",
              "  'operaties',\n",
              "  'lichaamsdel',\n",
              "  'witter',\n",
              "  'mak',\n",
              "  'vrag',\n",
              "  'soort',\n",
              "  'operaties',\n",
              "  'vertelt',\n",
              "  'bunthita',\n",
              "  'wattanasiri',\n",
              "  'ziekenhuis',\n",
              "  'werkt',\n",
              "  'persbureau',\n",
              "  'krijg',\n",
              "  'klant',\n",
              "  'maand',\n",
              "  'drie',\n",
              "  'vier',\n",
              "  'operatie',\n",
              "  'kost',\n",
              "  'ongever',\n",
              "  'euro',\n",
              "  'vijf',\n",
              "  'sessies',\n",
              "  'doelgroep',\n",
              "  'operaties',\n",
              "  'mann',\n",
              "  'leeftijd',\n",
              "  'vertelt',\n",
              "  'wattanasiri',\n",
              "  'daarvan',\n",
              "  'mak',\n",
              "  'del',\n",
              "  'thais',\n",
              "  'lgbt',\n",
              "  'gemeenschap',\n",
              "  'gemeenschap',\n",
              "  'thailand',\n",
              "  'alom',\n",
              "  'behandel',\n",
              "  'populair',\n",
              "  'homoseksuel',\n",
              "  'mann',\n",
              "  'travestiet',\n",
              "  'zorg',\n",
              "  'edel',\n",
              "  'del',\n",
              "  'zegt',\n",
              "  'medewerker',\n",
              "  'ziekenhuis',\n",
              "  'will',\n",
              "  'ieder',\n",
              "  'gebied',\n",
              "  'goed',\n",
              "  'uitzien',\n",
              "  'penis',\n",
              "  'blek',\n",
              "  'nooit',\n",
              "  'gehoord',\n",
              "  'vertelt',\n",
              "  'zuidoost',\n",
              "  'azie',\n",
              "  'correspondent',\n",
              "  'michel',\n",
              "  'mas',\n",
              "  'verbaast',\n",
              "  'ontwikkel',\n",
              "  'land',\n",
              "  'war',\n",
              "  'mens',\n",
              "  'donker',\n",
              "  'huidskleur',\n",
              "  'mogelijk',\n",
              "  'huid',\n",
              "  'vaker',\n",
              "  'thailand',\n",
              "  'vietnam',\n",
              "  'indonesie',\n",
              "  'bijvoorbeeld',\n",
              "  'sommig',\n",
              "  'afrikan',\n",
              "  'land',\n",
              "  'komt',\n",
              "  'donker',\n",
              "  'huidskleur',\n",
              "  'land',\n",
              "  'thailand',\n",
              "  'som',\n",
              "  'tek',\n",
              "  'armoed',\n",
              "  'vertelt',\n",
              "  'mas',\n",
              "  'krijg',\n",
              "  'mens',\n",
              "  'buit',\n",
              "  'werk',\n",
              "  'boer',\n",
              "  'bouwvakker',\n",
              "  'bijvoorbeeld',\n",
              "  'bent',\n",
              "  'bewijs',\n",
              "  'veroorlov',\n",
              "  'kunt',\n",
              "  'bijna',\n",
              "  'zeepjes',\n",
              "  'mak',\n",
              "  'kop',\n",
              "  'whiten',\n",
              "  'stat',\n",
              "  'zeld',\n",
              "  'krijg',\n",
              "  'fabrikant',\n",
              "  'zulk',\n",
              "  'product',\n",
              "  'kritiek',\n",
              "  'reclames',\n",
              "  'racistisch',\n",
              "  'zoud',\n",
              "  'moest',\n",
              "  'thais',\n",
              "  'bedrijf',\n",
              "  'video',\n",
              "  'verwijder',\n",
              "  'huid',\n",
              "  'witter',\n",
              "  'maakt',\n",
              "  'reclam',\n",
              "  'schrijft',\n",
              "  'populair',\n",
              "  'actric',\n",
              "  'succes',\n",
              "  'wit',\n",
              "  'huid',\n",
              "  'bangkok',\n",
              "  'open',\n",
              "  'vervoer',\n",
              "  'geadverteerd',\n",
              "  'poster',\n",
              "  'waarop',\n",
              "  'stond',\n",
              "  'allen',\n",
              "  'wit',\n",
              "  'mens',\n",
              "  'mog',\n",
              "  'zit',\n",
              "  'penisblek',\n",
              "  'operaties',\n",
              "  'enig',\n",
              "  'opmerk',\n",
              "  'vorm',\n",
              "  'cosmetisch',\n",
              "  'chirurgie',\n",
              "  'land',\n",
              "  'thailand',\n",
              "  'vertelt',\n",
              "  'mas',\n",
              "  'vooral',\n",
              "  'bangkok',\n",
              "  'stat',\n",
              "  'bekend',\n",
              "  'gezicht',\n",
              "  'goedkoper',\n",
              "  'land',\n",
              "  'gat',\n",
              "  'overigen',\n",
              "  'goed',\n",
              "  'vooral',\n",
              "  'operaties',\n",
              "  'silicon',\n",
              "  'gevar',\n",
              "  'som',\n",
              "  'achterkamertjes',\n",
              "  'winkelcentrum',\n",
              "  'gedan',\n",
              "  'internet',\n",
              "  'vel',\n",
              "  'voorbeeld',\n",
              "  'vind',\n",
              "  'operatie',\n",
              "  'mislukt',\n",
              "  'vertelt',\n",
              "  'mas',\n",
              "  'controler',\n",
              "  'daarvan',\n",
              "  'lelux',\n",
              "  'hospital',\n",
              "  'politie',\n",
              "  'inmiddel',\n",
              "  'bezoek',\n",
              "  'controler',\n",
              "  'kliniek',\n",
              "  'vergunn',\n",
              "  'behandel',\n",
              "  'inmiddel',\n",
              "  'facebookpost',\n",
              "  'waarin',\n",
              "  'behandel',\n",
              "  'getoond',\n",
              "  'offlin',\n",
              "  'gehaald',\n",
              "  'waarschuwd',\n",
              "  'thais',\n",
              "  'ministerie',\n",
              "  'gezond',\n",
              "  'bijwerk',\n",
              "  'operaties',\n",
              "  'zoal',\n",
              "  'litteken',\n",
              "  'brander',\n",
              "  'gevoel',\n",
              "  'hoeft',\n",
              "  'zorg',\n",
              "  'mak',\n",
              "  'vindt',\n",
              "  'woordvoerder',\n",
              "  'ziekenhuis',\n",
              "  'onz',\n",
              "  'behandel',\n",
              "  'volled',\n",
              "  'veilig',\n",
              "  'genitalie',\n",
              "  'blek',\n",
              "  'namelijk',\n",
              "  'vooral',\n",
              "  'gericht',\n",
              "  'kruis'],\n",
              " ['medewerker',\n",
              "  'verslavingszorg',\n",
              "  'roep',\n",
              "  'politiek',\n",
              "  'bezuin',\n",
              "  'geestelijk',\n",
              "  'gezondheidszorg',\n",
              "  'terug',\n",
              "  'draai',\n",
              "  'volgen',\n",
              "  'gat',\n",
              "  'zorg',\n",
              "  'terug',\n",
              "  'bezuin',\n",
              "  'doorgat',\n",
              "  'goed',\n",
              "  'opgeleid',\n",
              "  'personel',\n",
              "  'komt',\n",
              "  'strat',\n",
              "  'stan',\n",
              "  'schrijv',\n",
              "  'tien',\n",
              "  'brandbrief',\n",
              "  'politiek',\n",
              "  'waarschuw',\n",
              "  'maatschappij',\n",
              "  'uiteind',\n",
              "  'duurder',\n",
              "  'vrez',\n",
              "  'verslaafd',\n",
              "  'goed',\n",
              "  'geholp',\n",
              "  'beroep',\n",
              "  'gan',\n",
              "  'ziekenhuiz',\n",
              "  'dur',\n",
              "  'crisisopvang',\n",
              "  'bang',\n",
              "  'problem',\n",
              "  'terechtkom',\n",
              "  'gemeent',\n",
              "  'politie',\n",
              "  'justitie',\n",
              "  'schuldsaner',\n",
              "  'samenlev',\n",
              "  'uiteind',\n",
              "  'kost',\n",
              "  'zegg',\n",
              "  'verslavingszorg',\n",
              "  'valt',\n",
              "  'war',\n",
              "  'miljoen',\n",
              "  'euro',\n",
              "  'bezuinigd',\n",
              "  'zeker',\n",
              "  'arbeidsplaats',\n",
              "  'zull',\n",
              "  'verdwijn',\n",
              "  'liet',\n",
              "  'eerder',\n",
              "  'wet',\n",
              "  'betekent',\n",
              "  'neg',\n",
              "  'medewerker',\n",
              "  'ban',\n",
              "  'verliest'],\n",
              " ['twee',\n",
              "  'kamerled',\n",
              "  'kandidat',\n",
              "  'gesteld',\n",
              "  'voorzitterschap',\n",
              "  'twed',\n",
              "  'kamer',\n",
              "  'kamerlid',\n",
              "  'charlie',\n",
              "  'aptrot',\n",
              "  'pvda',\n",
              "  'kamerlid',\n",
              "  'gerdi',\n",
              "  'verbet',\n",
              "  'huidig',\n",
              "  'kamervoorzitter',\n",
              "  'verbet',\n",
              "  'voorzitter',\n",
              "  'sind',\n",
              "  'komend',\n",
              "  'period',\n",
              "  'extra',\n",
              "  'aandacht',\n",
              "  'gev',\n",
              "  'kamer',\n",
              "  'aptrot',\n",
              "  'bekend',\n",
              "  'tegenstander',\n",
              "  'vindt',\n",
              "  'kamer',\n",
              "  'efficie',\n",
              "  'gebruikt',\n",
              "  'beter',\n",
              "  'functioner',\n",
              "  'vanmiddag',\n",
              "  'nieuw',\n",
              "  'voorzitter',\n",
              "  'gekoz',\n",
              "  'tijden',\n",
              "  'kort',\n",
              "  'debat',\n",
              "  'led',\n",
              "  'twed',\n",
              "  'kamer',\n",
              "  'had',\n",
              "  'tijd',\n",
              "  'kandidat',\n",
              "  'stell'],\n",
              " ['oplucht',\n",
              "  'mens',\n",
              "  'gat',\n",
              "  'gemeent',\n",
              "  'amsterdam',\n",
              "  'vanaf',\n",
              "  'komend',\n",
              "  'schooljar',\n",
              "  'bijspring',\n",
              "  'minima',\n",
              "  'vrijwill',\n",
              "  'ouderbijdrag',\n",
              "  'basisschol',\n",
              "  'betal',\n",
              "  'kinder',\n",
              "  'arm',\n",
              "  'gezinn',\n",
              "  'schoolreisj',\n",
              "  'ouder',\n",
              "  'eigen',\n",
              "  'geld',\n",
              "  'besluit',\n",
              "  'gemeent',\n",
              "  'volgt',\n",
              "  'proef',\n",
              "  'stadspas',\n",
              "  'regel',\n",
              "  'vrijwill',\n",
              "  'ouderbijdrag',\n",
              "  'proef',\n",
              "  'liep',\n",
              "  'drie',\n",
              "  'jar',\n",
              "  'basisschol',\n",
              "  'leerling',\n",
              "  'arm',\n",
              "  'gezinn',\n",
              "  'kinder',\n",
              "  'vroeger',\n",
              "  'noodgedwong',\n",
              "  'schoolplein',\n",
              "  'blev',\n",
              "  'stan',\n",
              "  'vertrok',\n",
              "  'blij',\n",
              "  'stap',\n",
              "  'herinner',\n",
              "  'moeder',\n",
              "  'ker',\n",
              "  'vrijwilliger',\n",
              "  'schoolreisj',\n",
              "  'bek',\n",
              "  'berg',\n",
              "  'zodat',\n",
              "  'zegt',\n",
              "  'schrijver',\n",
              "  'presentator',\n",
              "  'cesar',\n",
              "  'majorana',\n",
              "  'middel',\n",
              "  'schol',\n",
              "  'ander',\n",
              "  'kreg',\n",
              "  'lijst',\n",
              "  'activiteit',\n",
              "  'jar',\n",
              "  'plaatsvond',\n",
              "  'bijbehor',\n",
              "  'kost',\n",
              "  'schoolreis',\n",
              "  'prag',\n",
              "  'barcelona',\n",
              "  'rom',\n",
              "  'kost',\n",
              "  'euro',\n",
              "  'moest',\n",
              "  'natur',\n",
              "  'geld',\n",
              "  'plek',\n",
              "  'gev',\n",
              "  'durfd',\n",
              "  'moeder',\n",
              "  'vrag',\n",
              "  'wild',\n",
              "  'bezwar',\n",
              "  'wist',\n",
              "  'opoffer',\n",
              "  'zodat',\n",
              "  'manier',\n",
              "  'wild',\n",
              "  'majorana',\n",
              "  'blef',\n",
              "  'schol',\n",
              "  'achter',\n",
              "  'maakt',\n",
              "  'wek',\n",
              "  'allerlei',\n",
              "  'vak',\n",
              "  'extra',\n",
              "  'opdracht',\n",
              "  'voelt',\n",
              "  'bijna',\n",
              "  'bestraft',\n",
              "  'bent',\n",
              "  'bestan',\n",
              "  'natur',\n",
              "  'allerlei',\n",
              "  'regel',\n",
              "  'potjes',\n",
              "  'mens',\n",
              "  'migratie',\n",
              "  'achtergrond',\n",
              "  'makkelijk',\n",
              "  'vind',\n",
              "  'moeder',\n",
              "  'cuban',\n",
              "  'bovendien',\n",
              "  'scham',\n",
              "  'regel',\n",
              "  'anderman',\n",
              "  'geld',\n",
              "  'afhank',\n",
              "  'inderdad',\n",
              "  'schol',\n",
              "  'gemeentes',\n",
              "  'special',\n",
              "  'potjes',\n",
              "  'regel',\n",
              "  'treff',\n",
              "  'ouder',\n",
              "  'krap',\n",
              "  'zit',\n",
              "  'all',\n",
              "  'ouder',\n",
              "  'will',\n",
              "  'durv',\n",
              "  'geldgebrek',\n",
              "  'gev',\n",
              "  'voormal',\n",
              "  'groenlink',\n",
              "  'politicus',\n",
              "  'tofik',\n",
              "  'dibi',\n",
              "  'schrijft',\n",
              "  'daarover',\n",
              "  'twitter',\n",
              "  'reacties',\n",
              "  'blijkt',\n",
              "  'sommig',\n",
              "  'ouder',\n",
              "  'zet',\n",
              "  'ervor',\n",
              "  'zorg',\n",
              "  'kind',\n",
              "  'schoolreisj',\n",
              "  'geld',\n",
              "  'eigen',\n",
              "  'hand',\n",
              "  'amsterdam',\n",
              "  'werkt',\n",
              "  'nieuw',\n",
              "  'regel',\n",
              "  'stadspas',\n",
              "  'ouder',\n",
              "  'procent',\n",
              "  'wettelijk',\n",
              "  'minimumlon',\n",
              "  'verdien',\n",
              "  'weinig',\n",
              "  'vermog',\n",
              "  'aanvrag',\n",
              "  'daarmee',\n",
              "  'krijg',\n",
              "  'minimagezinn',\n",
              "  'korting',\n",
              "  'bijvoorbeeld',\n",
              "  'zwembad',\n",
              "  'museum',\n",
              "  'reken',\n",
              "  'dierenart',\n",
              "  'strak',\n",
              "  'gemeent',\n",
              "  'vrag',\n",
              "  'euro',\n",
              "  'kind',\n",
              "  'lat',\n",
              "  'overmak',\n",
              "  'schol',\n",
              "  'ouderbijdrag',\n",
              "  'overigen',\n",
              "  'gekort',\n",
              "  'vrij',\n",
              "  'bested',\n",
              "  'euro',\n",
              "  'gezinn',\n",
              "  'ontvang',\n",
              "  'goed',\n",
              "  'oploss',\n",
              "  'zegt',\n",
              "  'majorana',\n",
              "  'hoewel',\n",
              "  'besluit',\n",
              "  'gemeent',\n",
              "  'mens',\n",
              "  'aangemoedigd',\n",
              "  'vrag',\n",
              "  'mens',\n",
              "  'regel',\n",
              "  'eerlijk',\n",
              "  'opzicht',\n",
              "  'ouder',\n",
              "  'bov',\n",
              "  'inkomensgren',\n",
              "  'stadspas',\n",
              "  'zit',\n",
              "  'kritiek',\n",
              "  'jar',\n",
              "  'gebezigd',\n",
              "  'term',\n",
              "  'vrijwill',\n",
              "  'ouderbijdrag',\n",
              "  'kinder',\n",
              "  'ouder',\n",
              "  'betal',\n",
              "  'simpelweg',\n",
              "  'mog',\n",
              "  'meedoen',\n",
              "  'allerlei',\n",
              "  'extra',\n",
              "  'activiteit',\n",
              "  'schol',\n",
              "  'volgen',\n",
              "  'basisonderwijs',\n",
              "  'rad',\n",
              "  'stat',\n",
              "  'term',\n",
              "  'vrijwill',\n",
              "  'inderdad',\n",
              "  'hak',\n",
              "  'kinder',\n",
              "  'schoolreisj',\n",
              "  'mog',\n",
              "  'vind',\n",
              "  'besluit',\n",
              "  'gemeent',\n",
              "  'amsterdam',\n",
              "  'mooi',\n",
              "  'gebar',\n",
              "  'wet',\n",
              "  'gemeentes',\n",
              "  'zull',\n",
              "  'volg',\n",
              "  'ieder',\n",
              "  'gemeent',\n",
              "  'geld'],\n",
              " ['jaarlijk',\n",
              "  'gan',\n",
              "  'mens',\n",
              "  'bedrijfsart',\n",
              "  'vanweg',\n",
              "  'gehoorschad',\n",
              "  'opgelop',\n",
              "  'tijden',\n",
              "  'werk',\n",
              "  'meest',\n",
              "  'werknemer',\n",
              "  'drag',\n",
              "  'werk',\n",
              "  'goed',\n",
              "  'filter',\n",
              "  'gevall',\n",
              "  'all',\n",
              "  'geluid',\n",
              "  'volgen',\n",
              "  'nederland',\n",
              "  'centrum',\n",
              "  'beroepsziekt',\n",
              "  'vooral',\n",
              "  'bouwvakker',\n",
              "  'gehoorklacht',\n",
              "  'bedrijfsart',\n",
              "  'kom',\n",
              "  'betekent',\n",
              "  'problem',\n",
              "  'sector',\n",
              "  'echt',\n",
              "  'groter',\n",
              "  'bouw',\n",
              "  'enig',\n",
              "  'branch',\n",
              "  'waarin',\n",
              "  'actief',\n",
              "  'gehoorschad',\n",
              "  'opgespoord',\n",
              "  'systematisch',\n",
              "  'preventief',\n",
              "  'medisch',\n",
              "  'onderzoek',\n",
              "  'zegt',\n",
              "  'ncvb',\n",
              "  'volgen',\n",
              "  'onderzoeker',\n",
              "  'industrie',\n",
              "  'weinig',\n",
              "  'onderzoek',\n",
              "  'gedan',\n",
              "  'naast',\n",
              "  'lawaai',\n",
              "  'chemicalie',\n",
              "  'gehoorschad',\n",
              "  'veroorzak'],\n",
              " ['komend',\n",
              "  'olympisch',\n",
              "  'spel',\n",
              "  'rusland',\n",
              "  'brazilie',\n",
              "  'holland',\n",
              "  'heinek',\n",
              "  'hous',\n",
              "  'gebouwd',\n",
              "  'war',\n",
              "  'nederland',\n",
              "  'sporter',\n",
              "  'fan',\n",
              "  'feest',\n",
              "  'bierfabrikant',\n",
              "  'sportkoepel',\n",
              "  'bekendgemaakt',\n",
              "  'lang',\n",
              "  'tijd',\n",
              "  'onzeker',\n",
              "  'winterspel',\n",
              "  'russisch',\n",
              "  'sotsji',\n",
              "  'februari',\n",
              "  'holland',\n",
              "  'heinek',\n",
              "  'hous',\n",
              "  'kom',\n",
              "  'gesprek',\n",
              "  'russisch',\n",
              "  'organisator',\n",
              "  'zoud',\n",
              "  'moeizam',\n",
              "  'verlop',\n",
              "  'hoevel',\n",
              "  'heinek',\n",
              "  'gat',\n",
              "  'betal',\n",
              "  'sponsor',\n",
              "  'zegg',\n",
              "  'holland',\n",
              "  'heinek',\n",
              "  'hous',\n",
              "  'plek',\n",
              "  'war',\n",
              "  'nederland',\n",
              "  'gehuldigd',\n",
              "  'eerst',\n",
              "  'spel',\n",
              "  'barcelona',\n",
              "  'neergezet',\n",
              "  'heinek',\n",
              "  'lat',\n",
              "  'wet',\n",
              "  'spel',\n",
              "  'janeiro',\n",
              "  'feestzal',\n",
              "  'ingericht'],\n",
              " ['groenlink',\n",
              "  'plus',\n",
              "  'kritiek',\n",
              "  'zorgakkoord',\n",
              "  'kabinet',\n",
              "  'vandag',\n",
              "  'werkgever',\n",
              "  'werknemer',\n",
              "  'geslot',\n",
              "  'twed',\n",
              "  'kamerlid',\n",
              "  'leijt',\n",
              "  'goed',\n",
              "  'woord',\n",
              "  'akkoord',\n",
              "  'rijn',\n",
              "  'winst',\n",
              "  'geboekt',\n",
              "  'bezuin',\n",
              "  'stan',\n",
              "  'recht',\n",
              "  'overeind',\n",
              "  'allen',\n",
              "  'reken',\n",
              "  'verplaatst',\n",
              "  'abvakabo',\n",
              "  'akkoord',\n",
              "  'gesteund',\n",
              "  'vindt',\n",
              "  'leijt',\n",
              "  'goed',\n",
              "  'tek',\n",
              "  'spreekt',\n",
              "  'gedrocht',\n",
              "  'akkoord',\n",
              "  'twed',\n",
              "  'kamerlid',\n",
              "  'fleur',\n",
              "  'agema',\n",
              "  'hoopt',\n",
              "  'protestgolf',\n",
              "  'land',\n",
              "  'vanweg',\n",
              "  'koningslied',\n",
              "  'vervolg',\n",
              "  'krijgt',\n",
              "  'zorgakkoord',\n",
              "  'tienduiz',\n",
              "  'verliez',\n",
              "  'ban',\n",
              "  'duizend',\n",
              "  'ouder',\n",
              "  'mog',\n",
              "  'vervuil',\n",
              "  'verkommer',\n",
              "  'hand',\n",
              "  'hart',\n",
              "  'aldus',\n",
              "  'agema',\n",
              "  'plus',\n",
              "  'vreest',\n",
              "  'mens',\n",
              "  'grag',\n",
              "  'thuis',\n",
              "  'will',\n",
              "  'blijv',\n",
              "  'won',\n",
              "  'plann',\n",
              "  'minder',\n",
              "  'goed',\n",
              "  'trek',\n",
              "  'akkoord',\n",
              "  'vandag',\n",
              "  'terug',\n",
              "  'adviseerd',\n",
              "  'henk',\n",
              "  'krol',\n",
              "  'vindt',\n",
              "  'bezuin',\n",
              "  'thuiszorg',\n",
              "  'sted',\n",
              "  'extrem',\n",
              "  'volgen',\n",
              "  'mona',\n",
              "  'keijzer',\n",
              "  'gat',\n",
              "  'vestzak',\n",
              "  'broekzakakkoord',\n",
              "  'vindt',\n",
              "  'jammer',\n",
              "  'akkoord',\n",
              "  'ban',\n",
              "  'terwijl',\n",
              "  'kwetsbar',\n",
              "  'mens',\n",
              "  'moet',\n",
              "  'gan',\n",
              "  'groenlink',\n",
              "  'vraagt',\n",
              "  'nullijn',\n",
              "  'echt',\n",
              "  'tafel',\n",
              "  'minister',\n",
              "  'schipper',\n",
              "  'verzekerd',\n",
              "  'kamer',\n",
              "  'nullijn',\n",
              "  'echt',\n",
              "  'tafel',\n",
              "  'augustus',\n",
              "  'opnieuw',\n",
              "  'bezuin',\n",
              "  'komt',\n",
              "  'christenunie',\n",
              "  'vrag',\n",
              "  'akkoord',\n",
              "  'vraagt',\n",
              "  'war',\n",
              "  'financie',\n",
              "  'bijsluiter',\n",
              "  'akkoord',\n",
              "  'christenunie',\n",
              "  'will',\n",
              "  'uitwerk',\n",
              "  'wet',\n",
              "  'partij',\n",
              "  'positief',\n",
              "  'akkoord',\n",
              "  'veren',\n",
              "  'nederland',\n",
              "  'gemeent',\n",
              "  'gematigd',\n",
              "  'positief',\n",
              "  'zorgakkoord',\n",
              "  'vind',\n",
              "  'gemeent',\n",
              "  'weinig',\n",
              "  'betrok',\n",
              "  'overleg',\n",
              "  'zorgbeleid',\n",
              "  'wijz',\n",
              "  'erop',\n",
              "  'uitvoer',\n",
              "  'zorgtak',\n",
              "  'tevred',\n",
              "  'afsprak',\n",
              "  'mens',\n",
              "  'gebruik',\n",
              "  'mak',\n",
              "  'huishoud',\n",
              "  'hulp',\n",
              "  'dagbested',\n",
              "  'regeerakkoord',\n",
              "  'afgesprok',\n",
              "  'uitvoer',\n",
              "  'voldoend',\n",
              "  'geld',\n",
              "  'beschik',\n",
              "  'gesteld',\n",
              "  'benadrukt',\n",
              "  'zorgakkoord',\n",
              "  'krijgt',\n",
              "  'automatisch',\n",
              "  'meerder',\n",
              "  'eerst',\n",
              "  'kamer',\n",
              "  'plann',\n",
              "  'krijg',\n",
              "  'coalitie',\n",
              "  'steun',\n",
              "  'partij',\n",
              "  'nodig',\n",
              "  'pvda',\n",
              "  'meerder',\n",
              "  'eerst',\n",
              "  'kamer'],\n",
              " ['politie',\n",
              "  'lond',\n",
              "  'verward',\n",
              "  'opgepakt',\n",
              "  'onrust',\n",
              "  'zorgd',\n",
              "  'kantoorgebouw',\n",
              "  'brit',\n",
              "  'media',\n",
              "  'bericht',\n",
              "  'mens',\n",
              "  'gijzel',\n",
              "  'houd',\n",
              "  'politie',\n",
              "  'ontkend',\n",
              "  'drong',\n",
              "  'begin',\n",
              "  'middag',\n",
              "  'kantor',\n",
              "  'binn',\n",
              "  'tottenham',\n",
              "  'court',\n",
              "  'road',\n",
              "  'volgen',\n",
              "  'ooggetu',\n",
              "  'dreigd',\n",
              "  'zichzelf',\n",
              "  'blaz',\n",
              "  'voormal',\n",
              "  'klant',\n",
              "  'rijschol',\n",
              "  'hetzelfd',\n",
              "  'gebouw',\n",
              "  'schreeuwd',\n",
              "  'lev',\n",
              "  'grot',\n",
              "  'rijbewijs',\n",
              "  'hal',\n",
              "  'gooid',\n",
              "  'vanaf',\n",
              "  'vijfd',\n",
              "  'verdiep',\n",
              "  'computer',\n",
              "  'meubel',\n",
              "  'strat',\n",
              "  'politie',\n",
              "  'arriveerd',\n",
              "  'omgev',\n",
              "  'afgezet',\n",
              "  'contact',\n",
              "  'gelegd',\n",
              "  'uiteind',\n",
              "  'wist',\n",
              "  'onderhandelar',\n",
              "  'kalmt',\n",
              "  'breng',\n",
              "  'even',\n",
              "  'plaatselijk',\n",
              "  'tijd'],\n",
              " ['meest',\n",
              "  'prestigieuz',\n",
              "  'paardenrac',\n",
              "  'chaotisch',\n",
              "  'indigd',\n",
              "  'paard',\n",
              "  'eerst',\n",
              "  'finish',\n",
              "  'kwam',\n",
              "  'wegen',\n",
              "  'illegal',\n",
              "  'manoeuvr',\n",
              "  'daardor',\n",
              "  'uiteind',\n",
              "  'winnar',\n",
              "  'paard',\n",
              "  'waarvor',\n",
              "  'wedkantor',\n",
              "  'ker',\n",
              "  'inzet',\n",
              "  'terugbetaald',\n",
              "  'rac',\n",
              "  'ded',\n",
              "  'bijnam',\n",
              "  'spannendst',\n",
              "  'twee',\n",
              "  'minut',\n",
              "  'sport',\n",
              "  'jar',\n",
              "  'allen',\n",
              "  'had',\n",
              "  'scheidsrechter',\n",
              "  'ker',\n",
              "  'minut',\n",
              "  'nodig',\n",
              "  'uitslag',\n",
              "  'kom',\n",
              "  'jockey',\n",
              "  'aanwez',\n",
              "  'miljoen',\n",
              "  'kijker',\n",
              "  'moest',\n",
              "  'spanning',\n",
              "  'afwacht',\n",
              "  'laatst',\n",
              "  'meter',\n",
              "  'rac',\n",
              "  'hinderd',\n",
              "  'voorst',\n",
              "  'paard',\n",
              "  'maximum',\n",
              "  'security',\n",
              "  'twee',\n",
              "  'achterligger',\n",
              "  'kort',\n",
              "  'ban',\n",
              "  'stapp',\n",
              "  'twee',\n",
              "  'achteropkom',\n",
              "  'paard',\n",
              "  'moest',\n",
              "  'inhoud',\n",
              "  'evenal',\n",
              "  'twee',\n",
              "  'dier',\n",
              "  'direct',\n",
              "  'nadat',\n",
              "  'maximum',\n",
              "  'security',\n",
              "  'finishlijn',\n",
              "  'gepasseerd',\n",
              "  'tekend',\n",
              "  'jockey',\n",
              "  'protest',\n",
              "  'bestuder',\n",
              "  'beeld',\n",
              "  'gesprek',\n",
              "  'jockey',\n",
              "  'toegek',\n",
              "  'eerst',\n",
              "  'ker',\n",
              "  'geschiedenis',\n",
              "  'jar',\n",
              "  'oud',\n",
              "  'rac',\n",
              "  'winnar',\n",
              "  'meten',\n",
              "  'enig',\n",
              "  'diskwalificatie',\n",
              "  'stamt',\n",
              "  'later',\n",
              "  'blek',\n",
              "  'paard',\n",
              "  'doping',\n",
              "  'toegedi',\n",
              "  'besliss',\n",
              "  'nummer',\n",
              "  'country',\n",
              "  'hous',\n",
              "  'winnar',\n",
              "  'uitgeroep',\n",
              "  'doordat',\n",
              "  'paard',\n",
              "  'buitenban',\n",
              "  'liep',\n",
              "  'all',\n",
              "  'paard',\n",
              "  'minst',\n",
              "  'last',\n",
              "  'gehad',\n",
              "  'misstapp',\n",
              "  'maximum',\n",
              "  'security',\n",
              "  'uiteind',\n",
              "  'winnar',\n",
              "  'gold',\n",
              "  'vooraf',\n",
              "  'echt',\n",
              "  'dark',\n",
              "  'hor',\n",
              "  'kan',\n",
              "  'winst',\n",
              "  'slecht',\n",
              "  'paard',\n",
              "  'rac',\n",
              "  'lager',\n",
              "  'winkans',\n",
              "  'laatst',\n",
              "  'ker',\n",
              "  'paard',\n",
              "  'zulk',\n",
              "  'lag',\n",
              "  'odd',\n",
              "  'derby',\n",
              "  'underdog',\n",
              "  'donerail',\n",
              "  'stond',\n",
              "  'maximum',\n",
              "  'security',\n",
              "  'stond',\n",
              "  'vooraf',\n",
              "  'persbureau',\n",
              "  'gokker',\n",
              "  'verwoed',\n",
              "  'zoek',\n",
              "  'ging',\n",
              "  'weggegooid',\n",
              "  'wedformulier',\n",
              "  'sommig',\n",
              "  'speler',\n",
              "  'had',\n",
              "  'ticket',\n",
              "  'vloer',\n",
              "  'gegooid',\n",
              "  'zodra',\n",
              "  'hoord',\n",
              "  'maximum',\n",
              "  'security',\n",
              "  'eerst',\n",
              "  'finish',\n",
              "  'kwam',\n",
              "  'jockey',\n",
              "  'maximum',\n",
              "  'security',\n",
              "  'luis',\n",
              "  'saez',\n",
              "  'besliss',\n",
              "  'paard',\n",
              "  'reageerd',\n",
              "  'lawaai',\n",
              "  'publiek',\n",
              "  'wek',\n",
              "  'daarom',\n",
              "  'misschien',\n",
              "  'nooit',\n",
              "  'gevar',\n",
              "  'gebracht',\n",
              "  'eigenar',\n",
              "  'paard',\n",
              "  'woest',\n",
              "  'meest',\n",
              "  'flagrant',\n",
              "  'diskwalificatie',\n",
              "  'geschiedenis',\n",
              "  'paardensport',\n",
              "  'denkt',\n",
              "  'hoger',\n",
              "  'beroep',\n",
              "  'bitterzoet',\n",
              "  'zegt',\n",
              "  'eigenar',\n",
              "  'country',\n",
              "  'hous',\n",
              "  'wilt',\n",
              "  'liever',\n",
              "  'winn',\n",
              "  'duidelijk',\n",
              "  'rac',\n",
              "  'zodat',\n",
              "  'iederen',\n",
              "  'doorheeft',\n",
              "  'goed',\n",
              "  'paard',\n",
              "  'jockey',\n",
              "  'flavien',\n",
              "  'prat',\n",
              "  'country',\n",
              "  'hous',\n",
              "  'direct',\n",
              "  'rac',\n",
              "  'woord',\n",
              "  'gevoel',\n",
              "  'beschrijv'],\n",
              " ['rijk',\n",
              "  'betaalt',\n",
              "  'ruim',\n",
              "  'helft',\n",
              "  'bodemsaner',\n",
              "  'failliet',\n",
              "  'bedrijf',\n",
              "  'chemie',\n",
              "  'pack',\n",
              "  'moerdijk',\n",
              "  'chemie',\n",
              "  'pack',\n",
              "  'woed',\n",
              "  'januari',\n",
              "  'hevig',\n",
              "  'brand',\n",
              "  'waarbij',\n",
              "  'giftig',\n",
              "  'stoff',\n",
              "  'vrijkwam',\n",
              "  'grond',\n",
              "  'ernstig',\n",
              "  'vervuild',\n",
              "  'raakt',\n",
              "  'aanvank',\n",
              "  'dreigd',\n",
              "  'provincie',\n",
              "  'all',\n",
              "  'saneringskost',\n",
              "  'draai',\n",
              "  'faillissement',\n",
              "  'chemie',\n",
              "  'pack',\n",
              "  'provincie',\n",
              "  'gemeent',\n",
              "  'ministerie',\n",
              "  'infrastructur',\n",
              "  'milieu',\n",
              "  'geword',\n",
              "  'verdel',\n",
              "  'provincie',\n",
              "  'rijk',\n",
              "  'betal',\n",
              "  'ieder',\n",
              "  'miljoen',\n",
              "  'euro',\n",
              "  'kost',\n",
              "  'hoger',\n",
              "  'geraamd',\n",
              "  'betaald',\n",
              "  'rijkssubsidie',\n",
              "  'provincie']]"
            ]
          },
          "metadata": {},
          "execution_count": 75
        }
      ]
    },
    {
      "cell_type": "code",
      "source": [
        "for i, doc in enumerate(processed_docs[:5]):\n",
        "    print(f'Processed Document {i+1}: {doc}')"
      ],
      "metadata": {
        "colab": {
          "base_uri": "https://localhost:8080/"
        },
        "id": "nDs6x3wCc-Cp",
        "outputId": "bdca77b6-440e-41a8-ff2d-c91b7869deae"
      },
      "execution_count": 76,
      "outputs": [
        {
          "output_type": "stream",
          "name": "stdout",
          "text": [
            "Processed Document 1: ['kliniek', 'bangkok', 'operaties', 'maand', 'uitvoert', 'waarbij', 'peniss', 'gebleekt', 'opsprak', 'gekom', 'social', 'media', 'medewerker', 'deeld', 'foto', 'facebok', 'geslachtsdel', 'witter', 'liet', 'mak', 'post', 'ker', 'gedeeld', 'riep', 'vrag', 'grenz', 'thais', 'maand', 'geled', 'begon', 'lelux', 'ziekenhuis', 'laser', 'peniss', 'behandel', 'melanin', 'afgebrok', 'waardor', 'penis', 'witter', 'kliniek', 'stat', 'bekend', 'operaties', 'lichaamsdel', 'witter', 'mak', 'vrag', 'soort', 'operaties', 'vertelt', 'bunthita', 'wattanasiri', 'ziekenhuis', 'werkt', 'persbureau', 'krijg', 'klant', 'maand', 'drie', 'vier', 'operatie', 'kost', 'ongever', 'euro', 'vijf', 'sessies', 'doelgroep', 'operaties', 'mann', 'leeftijd', 'vertelt', 'wattanasiri', 'daarvan', 'mak', 'del', 'thais', 'lgbt', 'gemeenschap', 'gemeenschap', 'thailand', 'alom', 'behandel', 'populair', 'homoseksuel', 'mann', 'travestiet', 'zorg', 'edel', 'del', 'zegt', 'medewerker', 'ziekenhuis', 'will', 'ieder', 'gebied', 'goed', 'uitzien', 'penis', 'blek', 'nooit', 'gehoord', 'vertelt', 'zuidoost', 'azie', 'correspondent', 'michel', 'mas', 'verbaast', 'ontwikkel', 'land', 'war', 'mens', 'donker', 'huidskleur', 'mogelijk', 'huid', 'vaker', 'thailand', 'vietnam', 'indonesie', 'bijvoorbeeld', 'sommig', 'afrikan', 'land', 'komt', 'donker', 'huidskleur', 'land', 'thailand', 'som', 'tek', 'armoed', 'vertelt', 'mas', 'krijg', 'mens', 'buit', 'werk', 'boer', 'bouwvakker', 'bijvoorbeeld', 'bent', 'bewijs', 'veroorlov', 'kunt', 'bijna', 'zeepjes', 'mak', 'kop', 'whiten', 'stat', 'zeld', 'krijg', 'fabrikant', 'zulk', 'product', 'kritiek', 'reclames', 'racistisch', 'zoud', 'moest', 'thais', 'bedrijf', 'video', 'verwijder', 'huid', 'witter', 'maakt', 'reclam', 'schrijft', 'populair', 'actric', 'succes', 'wit', 'huid', 'bangkok', 'open', 'vervoer', 'geadverteerd', 'poster', 'waarop', 'stond', 'allen', 'wit', 'mens', 'mog', 'zit', 'penisblek', 'operaties', 'enig', 'opmerk', 'vorm', 'cosmetisch', 'chirurgie', 'land', 'thailand', 'vertelt', 'mas', 'vooral', 'bangkok', 'stat', 'bekend', 'gezicht', 'goedkoper', 'land', 'gat', 'overigen', 'goed', 'vooral', 'operaties', 'silicon', 'gevar', 'som', 'achterkamertjes', 'winkelcentrum', 'gedan', 'internet', 'vel', 'voorbeeld', 'vind', 'operatie', 'mislukt', 'vertelt', 'mas', 'controler', 'daarvan', 'lelux', 'hospital', 'politie', 'inmiddel', 'bezoek', 'controler', 'kliniek', 'vergunn', 'behandel', 'inmiddel', 'facebookpost', 'waarin', 'behandel', 'getoond', 'offlin', 'gehaald', 'waarschuwd', 'thais', 'ministerie', 'gezond', 'bijwerk', 'operaties', 'zoal', 'litteken', 'brander', 'gevoel', 'hoeft', 'zorg', 'mak', 'vindt', 'woordvoerder', 'ziekenhuis', 'onz', 'behandel', 'volled', 'veilig', 'genitalie', 'blek', 'namelijk', 'vooral', 'gericht', 'kruis']\n",
            "Processed Document 2: ['medewerker', 'verslavingszorg', 'roep', 'politiek', 'bezuin', 'geestelijk', 'gezondheidszorg', 'terug', 'draai', 'volgen', 'gat', 'zorg', 'terug', 'bezuin', 'doorgat', 'goed', 'opgeleid', 'personel', 'komt', 'strat', 'stan', 'schrijv', 'tien', 'brandbrief', 'politiek', 'waarschuw', 'maatschappij', 'uiteind', 'duurder', 'vrez', 'verslaafd', 'goed', 'geholp', 'beroep', 'gan', 'ziekenhuiz', 'dur', 'crisisopvang', 'bang', 'problem', 'terechtkom', 'gemeent', 'politie', 'justitie', 'schuldsaner', 'samenlev', 'uiteind', 'kost', 'zegg', 'verslavingszorg', 'valt', 'war', 'miljoen', 'euro', 'bezuinigd', 'zeker', 'arbeidsplaats', 'zull', 'verdwijn', 'liet', 'eerder', 'wet', 'betekent', 'neg', 'medewerker', 'ban', 'verliest']\n",
            "Processed Document 3: ['twee', 'kamerled', 'kandidat', 'gesteld', 'voorzitterschap', 'twed', 'kamer', 'kamerlid', 'charlie', 'aptrot', 'pvda', 'kamerlid', 'gerdi', 'verbet', 'huidig', 'kamervoorzitter', 'verbet', 'voorzitter', 'sind', 'komend', 'period', 'extra', 'aandacht', 'gev', 'kamer', 'aptrot', 'bekend', 'tegenstander', 'vindt', 'kamer', 'efficie', 'gebruikt', 'beter', 'functioner', 'vanmiddag', 'nieuw', 'voorzitter', 'gekoz', 'tijden', 'kort', 'debat', 'led', 'twed', 'kamer', 'had', 'tijd', 'kandidat', 'stell']\n",
            "Processed Document 4: ['oplucht', 'mens', 'gat', 'gemeent', 'amsterdam', 'vanaf', 'komend', 'schooljar', 'bijspring', 'minima', 'vrijwill', 'ouderbijdrag', 'basisschol', 'betal', 'kinder', 'arm', 'gezinn', 'schoolreisj', 'ouder', 'eigen', 'geld', 'besluit', 'gemeent', 'volgt', 'proef', 'stadspas', 'regel', 'vrijwill', 'ouderbijdrag', 'proef', 'liep', 'drie', 'jar', 'basisschol', 'leerling', 'arm', 'gezinn', 'kinder', 'vroeger', 'noodgedwong', 'schoolplein', 'blev', 'stan', 'vertrok', 'blij', 'stap', 'herinner', 'moeder', 'ker', 'vrijwilliger', 'schoolreisj', 'bek', 'berg', 'zodat', 'zegt', 'schrijver', 'presentator', 'cesar', 'majorana', 'middel', 'schol', 'ander', 'kreg', 'lijst', 'activiteit', 'jar', 'plaatsvond', 'bijbehor', 'kost', 'schoolreis', 'prag', 'barcelona', 'rom', 'kost', 'euro', 'moest', 'natur', 'geld', 'plek', 'gev', 'durfd', 'moeder', 'vrag', 'wild', 'bezwar', 'wist', 'opoffer', 'zodat', 'manier', 'wild', 'majorana', 'blef', 'schol', 'achter', 'maakt', 'wek', 'allerlei', 'vak', 'extra', 'opdracht', 'voelt', 'bijna', 'bestraft', 'bent', 'bestan', 'natur', 'allerlei', 'regel', 'potjes', 'mens', 'migratie', 'achtergrond', 'makkelijk', 'vind', 'moeder', 'cuban', 'bovendien', 'scham', 'regel', 'anderman', 'geld', 'afhank', 'inderdad', 'schol', 'gemeentes', 'special', 'potjes', 'regel', 'treff', 'ouder', 'krap', 'zit', 'all', 'ouder', 'will', 'durv', 'geldgebrek', 'gev', 'voormal', 'groenlink', 'politicus', 'tofik', 'dibi', 'schrijft', 'daarover', 'twitter', 'reacties', 'blijkt', 'sommig', 'ouder', 'zet', 'ervor', 'zorg', 'kind', 'schoolreisj', 'geld', 'eigen', 'hand', 'amsterdam', 'werkt', 'nieuw', 'regel', 'stadspas', 'ouder', 'procent', 'wettelijk', 'minimumlon', 'verdien', 'weinig', 'vermog', 'aanvrag', 'daarmee', 'krijg', 'minimagezinn', 'korting', 'bijvoorbeeld', 'zwembad', 'museum', 'reken', 'dierenart', 'strak', 'gemeent', 'vrag', 'euro', 'kind', 'lat', 'overmak', 'schol', 'ouderbijdrag', 'overigen', 'gekort', 'vrij', 'bested', 'euro', 'gezinn', 'ontvang', 'goed', 'oploss', 'zegt', 'majorana', 'hoewel', 'besluit', 'gemeent', 'mens', 'aangemoedigd', 'vrag', 'mens', 'regel', 'eerlijk', 'opzicht', 'ouder', 'bov', 'inkomensgren', 'stadspas', 'zit', 'kritiek', 'jar', 'gebezigd', 'term', 'vrijwill', 'ouderbijdrag', 'kinder', 'ouder', 'betal', 'simpelweg', 'mog', 'meedoen', 'allerlei', 'extra', 'activiteit', 'schol', 'volgen', 'basisonderwijs', 'rad', 'stat', 'term', 'vrijwill', 'inderdad', 'hak', 'kinder', 'schoolreisj', 'mog', 'vind', 'besluit', 'gemeent', 'amsterdam', 'mooi', 'gebar', 'wet', 'gemeentes', 'zull', 'volg', 'ieder', 'gemeent', 'geld']\n",
            "Processed Document 5: ['jaarlijk', 'gan', 'mens', 'bedrijfsart', 'vanweg', 'gehoorschad', 'opgelop', 'tijden', 'werk', 'meest', 'werknemer', 'drag', 'werk', 'goed', 'filter', 'gevall', 'all', 'geluid', 'volgen', 'nederland', 'centrum', 'beroepsziekt', 'vooral', 'bouwvakker', 'gehoorklacht', 'bedrijfsart', 'kom', 'betekent', 'problem', 'sector', 'echt', 'groter', 'bouw', 'enig', 'branch', 'waarin', 'actief', 'gehoorschad', 'opgespoord', 'systematisch', 'preventief', 'medisch', 'onderzoek', 'zegt', 'ncvb', 'volgen', 'onderzoeker', 'industrie', 'weinig', 'onderzoek', 'gedan', 'naast', 'lawaai', 'chemicalie', 'gehoorschad', 'veroorzak']\n"
          ]
        }
      ]
    },
    {
      "cell_type": "markdown",
      "metadata": {
        "id": "T8LndhI5mAGP"
      },
      "source": [
        "## Setting Up The Dictionary\n",
        "\n",
        "Our preprocessing is complete.\n",
        "\n",
        "We now need to calculate the occurance frequencies of each of our stemmed words. But first, we will create a vocabulary dictionary where every word appears once. Every article would be represented as a [bag-of-words](https://en.wikipedia.org/wiki/Bag-of-words_model), an unordered set of words that the article contain.\n",
        "\n",
        "---\n",
        "\n",
        "Q: Why is it called bag-of-words?\n",
        "\n",
        "Hint: Think about your probability lessons - where you had randomly picked out white or black balls out of a bag...\n",
        "\n",
        "My guess: Well, the order is lost in the bag-of-words approach, so we can image it like a bag per article in which we throw all the words of that article, with their respective frequency (meaning that if the word \"dairy\" appears 3 times in the article, it is also 3 times in our bag). Then we could imagine to randomly pick a word out of our article-bag and the probability of picking that word would be its frequency divided by all the words (again, including duplicates)."
      ]
    },
    {
      "cell_type": "code",
      "metadata": {
        "id": "pj6CI60KlF0N"
      },
      "source": [
        "dictionary = corpora.Dictionary(processed_docs)\n"
      ],
      "execution_count": 77,
      "outputs": []
    },
    {
      "cell_type": "markdown",
      "metadata": {
        "id": "KiaCJuuXmkDV"
      },
      "source": [
        "Let's take a look:"
      ]
    },
    {
      "cell_type": "code",
      "metadata": {
        "id": "F0DJqlhimfns",
        "outputId": "823d7ba2-7515-4508-fde8-e83a1dc5a5de",
        "colab": {
          "base_uri": "https://localhost:8080/"
        }
      },
      "source": [
        "for idx, (k, v) in enumerate(dictionary.iteritems()):\n",
        "    print(k, v)\n",
        "    if idx >= 10:\n",
        "        break\n",
        "\n",
        "\n",
        "### BTW: `enumerate` is a great python function!\n",
        "### It automatically creates an index, an auto-incremented counter variable,\n",
        "### that represents the position of every object in the collection.\n",
        "\n",
        "### Read more about it here: https://realpython.com/python-enumerate/"
      ],
      "execution_count": 78,
      "outputs": [
        {
          "output_type": "stream",
          "name": "stdout",
          "text": [
            "0 achterkamertjes\n",
            "1 actric\n",
            "2 afgebrok\n",
            "3 afrikan\n",
            "4 allen\n",
            "5 alom\n",
            "6 armoed\n",
            "7 azie\n",
            "8 bangkok\n",
            "9 bedrijf\n",
            "10 begon\n"
          ]
        }
      ]
    },
    {
      "cell_type": "markdown",
      "metadata": {
        "id": "XLT9Y9LImtv_"
      },
      "source": [
        "Second, we filter the tokens that may appear to often.\n",
        "\n",
        "We have full control on the process."
      ]
    },
    {
      "cell_type": "markdown",
      "metadata": {
        "id": "8LtlVAJEa6vp"
      },
      "source": [
        "### Model Hyperparameter tuning"
      ]
    },
    {
      "cell_type": "markdown",
      "source": [
        "### Your Turn:\n",
        "#### Exercise 1 - Hyperparameter effect on the model output:\n",
        "**Q:** How would changing these parameters influence the result?  \n",
        "After running this example, please return here to change them and try them out.\n",
        "\n",
        "ANSWER: I will answer this question at the bottom of this Colab file!\n"
      ],
      "metadata": {
        "id": "yHsgesK9dW7j"
      }
    },
    {
      "cell_type": "code",
      "metadata": {
        "id": "KSwEk-wcBKEg",
        "colab": {
          "base_uri": "https://localhost:8080/"
        },
        "outputId": "20686adb-db1d-437d-b0ab-27b5367829b2"
      },
      "source": [
        "## Model hyper parameters:\n",
        "\n",
        "## These are the dictionary preparation parameters:\n",
        "filter_tokens_if_container_documents_are_less_than = 5\n",
        "filter_tokens_if_appeared_percentage_more_than = 0.8\n",
        "keep_the_first_n_tokens=100000\n",
        "\n",
        "## and the LDA Parameters:\n",
        "num_of_topics = 10"
      ],
      "execution_count": 100,
      "outputs": [
        {
          "output_type": "stream",
          "name": "stderr",
          "text": [
            "/usr/local/lib/python3.10/dist-packages/ipykernel/ipkernel.py:283: DeprecationWarning: `should_run_async` will not call `transform_cell` automatically in the future. Please pass the result to `transformed_cell` argument and any exception that happen during thetransform in `preprocessing_exc_tuple` in IPython 7.17 and above.\n",
            "  and should_run_async(code)\n"
          ]
        }
      ]
    },
    {
      "cell_type": "code",
      "metadata": {
        "id": "zelcg-UUmiVx",
        "colab": {
          "base_uri": "https://localhost:8080/"
        },
        "outputId": "2d7c784c-93ec-4b9f-bfd8-32c4b241e5ad"
      },
      "source": [
        "dictionary.filter_extremes(\n",
        "    no_below=filter_tokens_if_container_documents_are_less_than,\n",
        "    no_above=filter_tokens_if_appeared_percentage_more_than,\n",
        "    keep_n=keep_the_first_n_tokens)\n"
      ],
      "execution_count": 101,
      "outputs": [
        {
          "output_type": "stream",
          "name": "stderr",
          "text": [
            "/usr/local/lib/python3.10/dist-packages/ipykernel/ipkernel.py:283: DeprecationWarning: `should_run_async` will not call `transform_cell` automatically in the future. Please pass the result to `transformed_cell` argument and any exception that happen during thetransform in `preprocessing_exc_tuple` in IPython 7.17 and above.\n",
            "  and should_run_async(code)\n"
          ]
        }
      ]
    },
    {
      "cell_type": "markdown",
      "metadata": {
        "id": "EsknGryxnx0X"
      },
      "source": [
        "We now create a [bag-of-words](https://en.wikipedia.org/wiki/Bag-of-words_model) (BOW) dictionary for each document, using [gensim's dictionary](https://radimrehurek.com/gensim/corpora/dictionary.html) tool.\n",
        "\n",
        "It will be in the format of:\n",
        "\n",
        "```{ 'word_id': count }```\n"
      ]
    },
    {
      "cell_type": "code",
      "metadata": {
        "id": "u1CsbhJcntUW",
        "colab": {
          "base_uri": "https://localhost:8080/"
        },
        "outputId": "24773d6c-289b-47de-be3c-7add08872980"
      },
      "source": [
        "bow_corpus = [dictionary.doc2bow(doc) for doc in processed_docs]\n",
        "print(len(bow_corpus))"
      ],
      "execution_count": 102,
      "outputs": [
        {
          "output_type": "stream",
          "name": "stdout",
          "text": [
            "200\n"
          ]
        },
        {
          "output_type": "stream",
          "name": "stderr",
          "text": [
            "/usr/local/lib/python3.10/dist-packages/ipykernel/ipkernel.py:283: DeprecationWarning: `should_run_async` will not call `transform_cell` automatically in the future. Please pass the result to `transformed_cell` argument and any exception that happen during thetransform in `preprocessing_exc_tuple` in IPython 7.17 and above.\n",
            "  and should_run_async(code)\n"
          ]
        }
      ]
    },
    {
      "cell_type": "markdown",
      "metadata": {
        "id": "RmHQyMKXokyq"
      },
      "source": [
        "Let's take a look at the result.\n",
        "\n",
        "Our corpus contains now only word_ids, not the words themselves, so we have to peek into the dictionary to know which word that id represents:"
      ]
    },
    {
      "cell_type": "code",
      "metadata": {
        "id": "dD6n6MNnoSBH",
        "outputId": "2794bf29-12e6-4d13-9ee9-b864ffa8075a",
        "colab": {
          "base_uri": "https://localhost:8080/"
        }
      },
      "source": [
        "# randomly choose an article from the corpus:\n",
        "sample_bow_doc = choice(bow_corpus)\n",
        "\n",
        "print('The processed bag-of-word document is just pairs of (word_id, # of occurnces) and looks like this:')\n",
        "print(sample_bow_doc, '\\n\\n')\n",
        "\n",
        "print ('We peek in the dictionary: for each word_id, we get its assigned word:')\n",
        "for word_id, word_freq in sample_bow_doc:\n",
        "  real_word = dictionary[word_id]\n",
        "  print(f'Word #{word_id} (\"{real_word}\") appears {word_freq} time.')\n"
      ],
      "execution_count": 103,
      "outputs": [
        {
          "output_type": "stream",
          "name": "stdout",
          "text": [
            "The processed bag-of-word document is just pairs of (word_id, # of occurnces) and looks like this:\n",
            "[(22, 1), (26, 1), (29, 1), (36, 2), (45, 1), (50, 3), (51, 2), (54, 2), (58, 1), (64, 1), (71, 1), (75, 2), (79, 1), (82, 1), (84, 1), (93, 1), (97, 4), (114, 1), (132, 1), (140, 2), (141, 1), (146, 1), (153, 1), (156, 1), (161, 1), (169, 1), (174, 2), (175, 1), (176, 1), (194, 2), (201, 1), (208, 1), (218, 1), (220, 1), (222, 1), (223, 1), (224, 4), (247, 1), (271, 1), (276, 4), (277, 1), (278, 1), (283, 1), (289, 1), (306, 1), (307, 3), (308, 1), (309, 1), (310, 1), (313, 1), (319, 3), (337, 1), (353, 1), (365, 1), (371, 1), (374, 1), (396, 1), (431, 1), (445, 6), (447, 1), (457, 1), (475, 1), (486, 1), (501, 1), (505, 1), (516, 2), (530, 1), (532, 3), (575, 1), (576, 1), (577, 1), (578, 1), (579, 1), (580, 1), (581, 1), (582, 1), (583, 1), (584, 1), (585, 1), (586, 1), (587, 1), (588, 1), (589, 1), (590, 2), (591, 2), (592, 1), (593, 1), (594, 1), (595, 1), (596, 1), (597, 1), (598, 1), (599, 1), (600, 1), (601, 1)] \n",
            "\n",
            "\n",
            "We peek in the dictionary: for each word_id, we get its assigned word:\n",
            "Word #22 (\"gekom\") appears 1 time.\n",
            "Word #26 (\"gevar\") appears 1 time.\n",
            "Word #29 (\"gezond\") appears 1 time.\n",
            "Word #36 (\"komt\") appears 2 time.\n",
            "Word #45 (\"maand\") appears 1 time.\n",
            "Word #50 (\"mens\") appears 3 time.\n",
            "Word #51 (\"ministerie\") appears 2 time.\n",
            "Word #54 (\"mogelijk\") appears 2 time.\n",
            "Word #58 (\"open\") appears 1 time.\n",
            "Word #64 (\"product\") appears 1 time.\n",
            "Word #71 (\"stat\") appears 1 time.\n",
            "Word #75 (\"vel\") appears 2 time.\n",
            "Word #79 (\"vier\") appears 1 time.\n",
            "Word #82 (\"vindt\") appears 1 time.\n",
            "Word #84 (\"vooral\") appears 1 time.\n",
            "Word #93 (\"werk\") appears 1 time.\n",
            "Word #97 (\"zegt\") appears 4 time.\n",
            "Word #114 (\"justitie\") appears 1 time.\n",
            "Word #132 (\"ziekenhuiz\") appears 1 time.\n",
            "Word #140 (\"had\") appears 2 time.\n",
            "Word #141 (\"huidig\") appears 1 time.\n",
            "Word #146 (\"nieuw\") appears 1 time.\n",
            "Word #153 (\"twee\") appears 1 time.\n",
            "Word #156 (\"achter\") appears 1 time.\n",
            "Word #161 (\"ander\") appears 1 time.\n",
            "Word #169 (\"daarmee\") appears 1 time.\n",
            "Word #174 (\"hand\") appears 2 time.\n",
            "Word #175 (\"hoewel\") appears 1 time.\n",
            "Word #176 (\"inderdad\") appears 1 time.\n",
            "Word #194 (\"regel\") appears 2 time.\n",
            "Word #201 (\"voelt\") appears 1 time.\n",
            "Word #208 (\"wild\") appears 1 time.\n",
            "Word #218 (\"groter\") appears 1 time.\n",
            "Word #220 (\"kom\") appears 1 time.\n",
            "Word #222 (\"naast\") appears 1 time.\n",
            "Word #223 (\"nederland\") appears 1 time.\n",
            "Word #224 (\"onderzoek\") appears 4 time.\n",
            "Word #247 (\"blijv\") appears 1 time.\n",
            "Word #271 (\"terwijl\") appears 1 time.\n",
            "Word #276 (\"vervolg\") appears 4 time.\n",
            "Word #277 (\"voldoend\") appears 1 time.\n",
            "Word #278 (\"wijz\") appears 1 time.\n",
            "Word #283 (\"breng\") appears 1 time.\n",
            "Word #289 (\"grot\") appears 1 time.\n",
            "Word #306 (\"ded\") appears 1 time.\n",
            "Word #307 (\"denkt\") appears 3 time.\n",
            "Word #308 (\"direct\") appears 1 time.\n",
            "Word #309 (\"doordat\") appears 1 time.\n",
            "Word #310 (\"duidelijk\") appears 1 time.\n",
            "Word #313 (\"gehad\") appears 1 time.\n",
            "Word #319 (\"kan\") appears 3 time.\n",
            "Word #337 (\"wegen\") appears 1 time.\n",
            "Word #353 (\"beweg\") appears 1 time.\n",
            "Word #365 (\"steld\") appears 1 time.\n",
            "Word #371 (\"afgelop\") appears 1 time.\n",
            "Word #374 (\"gestok\") appears 1 time.\n",
            "Word #396 (\"gekreg\") appears 1 time.\n",
            "Word #431 (\"verder\") appears 1 time.\n",
            "Word #445 (\"aangift\") appears 6 time.\n",
            "Word #447 (\"actie\") appears 1 time.\n",
            "Word #457 (\"advocat\") appears 1 time.\n",
            "Word #475 (\"international\") appears 1 time.\n",
            "Word #486 (\"verkop\") appears 1 time.\n",
            "Word #501 (\"ervan\") appears 1 time.\n",
            "Word #505 (\"legt\") appears 1 time.\n",
            "Word #516 (\"over\") appears 2 time.\n",
            "Word #530 (\"wer\") appears 1 time.\n",
            "Word #532 (\"zak\") appears 3 time.\n",
            "Word #575 (\"aangebod\") appears 1 time.\n",
            "Word #576 (\"bescherm\") appears 1 time.\n",
            "Word #577 (\"burger\") appears 1 time.\n",
            "Word #578 (\"degelijk\") appears 1 time.\n",
            "Word #579 (\"dodelijk\") appears 1 time.\n",
            "Word #580 (\"druk\") appears 1 time.\n",
            "Word #581 (\"gang\") appears 1 time.\n",
            "Word #582 (\"geleid\") appears 1 time.\n",
            "Word #583 (\"groning\") appears 1 time.\n",
            "Word #584 (\"grootst\") appears 1 time.\n",
            "Word #585 (\"initiatief\") appears 1 time.\n",
            "Word #586 (\"kijk\") appears 1 time.\n",
            "Word #587 (\"lastig\") appears 1 time.\n",
            "Word #588 (\"loopt\") appears 1 time.\n",
            "Word #589 (\"moeilijk\") appears 1 time.\n",
            "Word #590 (\"moord\") appears 2 time.\n",
            "Word #591 (\"nten\") appears 2 time.\n",
            "Word #592 (\"ogen\") appears 1 time.\n",
            "Word #593 (\"reactie\") appears 1 time.\n",
            "Word #594 (\"richt\") appears 1 time.\n",
            "Word #595 (\"stelt\") appears 1 time.\n",
            "Word #596 (\"strijd\") appears 1 time.\n",
            "Word #597 (\"universiteit\") appears 1 time.\n",
            "Word #598 (\"verbod\") appears 1 time.\n",
            "Word #599 (\"verplicht\") appears 1 time.\n",
            "Word #600 (\"vroeg\") appears 1 time.\n",
            "Word #601 (\"ziet\") appears 1 time.\n"
          ]
        },
        {
          "output_type": "stream",
          "name": "stderr",
          "text": [
            "/usr/local/lib/python3.10/dist-packages/ipykernel/ipkernel.py:283: DeprecationWarning: `should_run_async` will not call `transform_cell` automatically in the future. Please pass the result to `transformed_cell` argument and any exception that happen during thetransform in `preprocessing_exc_tuple` in IPython 7.17 and above.\n",
            "  and should_run_async(code)\n"
          ]
        }
      ]
    },
    {
      "cell_type": "markdown",
      "metadata": {
        "id": "jdEpXnWNrR4H"
      },
      "source": [
        "## LDA model using Bag-of-words\n",
        "\n",
        "Let's start by applying the LDA model using the bag-of-words (Warning: this could take a while):"
      ]
    },
    {
      "cell_type": "code",
      "metadata": {
        "id": "84CchtGap73H",
        "colab": {
          "base_uri": "https://localhost:8080/"
        },
        "outputId": "ad0851ab-3932-4f33-9ea9-06c5621886b5"
      },
      "source": [
        "lda_model = models.LdaMulticore(bow_corpus,\n",
        "                                num_topics=num_of_topics,\n",
        "                                id2word=dictionary,\n",
        "                                passes=5,\n",
        "                                workers=2)"
      ],
      "execution_count": 104,
      "outputs": [
        {
          "output_type": "stream",
          "name": "stderr",
          "text": [
            "/usr/local/lib/python3.10/dist-packages/ipykernel/ipkernel.py:283: DeprecationWarning: `should_run_async` will not call `transform_cell` automatically in the future. Please pass the result to `transformed_cell` argument and any exception that happen during thetransform in `preprocessing_exc_tuple` in IPython 7.17 and above.\n",
            "  and should_run_async(code)\n",
            "WARNING:gensim.models.ldamulticore:too few updates, training might not converge; consider increasing the number of passes or iterations to improve accuracy\n"
          ]
        }
      ]
    },
    {
      "cell_type": "markdown",
      "metadata": {
        "id": "oqm3NWaGrYzC"
      },
      "source": [
        "It is done!\n",
        "\n",
        "Now we can observe which topics the model had extracted from the documents.\n",
        "\n",
        "- *Topics* are made of sets of words and their distribution for that topic, representing their weight in that topic.\n",
        "- Every document may be composed of multiple topics, with different weights representing the relation to each topics.\n",
        "\n",
        "We will loop over the extracted topics and examine the words that construct them."
      ]
    },
    {
      "cell_type": "code",
      "metadata": {
        "id": "N83rLkRRrYYz",
        "outputId": "8c090a80-6e45-4926-be47-7bb63a897476",
        "colab": {
          "base_uri": "https://localhost:8080/"
        }
      },
      "source": [
        "for idx, topic in lda_model.print_topics(num_of_topics):\n",
        "    print(f'Topic: {idx} \\t Words: {topic}')\n"
      ],
      "execution_count": 105,
      "outputs": [
        {
          "output_type": "stream",
          "name": "stdout",
          "text": [
            "Topic: 0 \t Words: 0.023*\"gemeent\" + 0.020*\"jar\" + 0.016*\"mens\" + 0.010*\"euro\" + 0.009*\"zegt\" + 0.008*\"premier\" + 0.007*\"huis\" + 0.007*\"lang\" + 0.007*\"amsterdam\" + 0.007*\"nederland\"\n",
            "Topic: 1 \t Words: 0.028*\"jar\" + 0.018*\"procent\" + 0.013*\"mens\" + 0.012*\"zegt\" + 0.010*\"war\" + 0.010*\"supermarkt\" + 0.009*\"stat\" + 0.009*\"dorp\" + 0.008*\"nederland\" + 0.008*\"komt\"\n",
            "Topic: 2 \t Words: 0.019*\"jar\" + 0.018*\"procent\" + 0.015*\"zegt\" + 0.015*\"nederland\" + 0.012*\"grot\" + 0.012*\"auto\" + 0.011*\"boer\" + 0.009*\"winkel\" + 0.009*\"nieuw\" + 0.008*\"voer\"\n",
            "Topic: 3 \t Words: 0.016*\"mens\" + 0.015*\"aanslag\" + 0.011*\"aangift\" + 0.010*\"bank\" + 0.010*\"onderzoek\" + 0.010*\"partij\" + 0.009*\"zegt\" + 0.009*\"twee\" + 0.008*\"komt\" + 0.008*\"europes\"\n",
            "Topic: 4 \t Words: 0.026*\"nederland\" + 0.017*\"europes\" + 0.017*\"koning\" + 0.017*\"land\" + 0.017*\"moet\" + 0.015*\"gat\" + 0.012*\"euro\" + 0.010*\"minister\" + 0.009*\"maatregel\" + 0.009*\"hel\"\n",
            "Topic: 5 \t Words: 0.019*\"euro\" + 0.017*\"gat\" + 0.014*\"miljoen\" + 0.010*\"maatregel\" + 0.010*\"zegt\" + 0.010*\"woning\" + 0.010*\"aantal\" + 0.009*\"procent\" + 0.009*\"komt\" + 0.009*\"jar\"\n",
            "Topic: 6 \t Words: 0.023*\"zegt\" + 0.022*\"mens\" + 0.016*\"jar\" + 0.013*\"politie\" + 0.012*\"auto\" + 0.009*\"nederland\" + 0.009*\"nieuw\" + 0.009*\"land\" + 0.008*\"allen\" + 0.008*\"mak\"\n",
            "Topic: 7 \t Words: 0.015*\"zegt\" + 0.013*\"land\" + 0.011*\"twee\" + 0.010*\"jar\" + 0.009*\"mens\" + 0.009*\"nederland\" + 0.008*\"goed\" + 0.008*\"stat\" + 0.008*\"eerst\" + 0.007*\"veilig\"\n",
            "Topic: 8 \t Words: 0.024*\"politie\" + 0.013*\"verdacht\" + 0.012*\"twee\" + 0.009*\"vorig\" + 0.009*\"agent\" + 0.009*\"wek\" + 0.009*\"jar\" + 0.009*\"onderzoek\" + 0.009*\"jarig\" + 0.008*\"zak\"\n",
            "Topic: 9 \t Words: 0.021*\"ziekenhuis\" + 0.019*\"wegen\" + 0.017*\"jar\" + 0.014*\"oorlog\" + 0.012*\"groenlink\" + 0.012*\"miljoen\" + 0.012*\"war\" + 0.012*\"vier\" + 0.011*\"twee\" + 0.010*\"vanweg\"\n"
          ]
        },
        {
          "output_type": "stream",
          "name": "stderr",
          "text": [
            "/usr/local/lib/python3.10/dist-packages/ipykernel/ipkernel.py:283: DeprecationWarning: `should_run_async` will not call `transform_cell` automatically in the future. Please pass the result to `transformed_cell` argument and any exception that happen during thetransform in `preprocessing_exc_tuple` in IPython 7.17 and above.\n",
            "  and should_run_async(code)\n"
          ]
        }
      ]
    },
    {
      "cell_type": "markdown",
      "metadata": {
        "id": "CgCkLEelplF8"
      },
      "source": [
        "## TF / IDF\n",
        "\n",
        "Let's take it one step further. We will cluster our document by running the LDA using [TF/IDF](https://en.wikipedia.org/wiki/Tf%E2%80%93idf).\n",
        "\n",
        "We start with TF/IDF calculation on our bag-of-words.\n",
        "TF/IDF accepts a dictionary of word frequencies as an input, and it calculates the term frequency and the inversed document frequency accordingly.\n",
        "\n",
        "Its output is a re-weighted dictionary of the documents term frequencies:"
      ]
    },
    {
      "cell_type": "code",
      "metadata": {
        "id": "Xhj6Df56os0j",
        "outputId": "da1f9806-8f53-44e8-f1d1-a0a7f2ff927d",
        "colab": {
          "base_uri": "https://localhost:8080/"
        }
      },
      "source": [
        "# initialize a tfidf from our corpus\n",
        "tfidf = models.TfidfModel(bow_corpus)\n",
        "\n",
        "# apply it on our corpus\n",
        "tfidf_corpus = tfidf[bow_corpus]\n",
        "\n",
        "pprint(tfidf_corpus[0][:10])"
      ],
      "execution_count": 106,
      "outputs": [
        {
          "output_type": "stream",
          "name": "stdout",
          "text": [
            "[(0, 0.03420235371515244),\n",
            " (1, 0.058511070037302916),\n",
            " (2, 0.07920899336444842),\n",
            " (3, 0.4166371078978617),\n",
            " (4, 0.07050637163642252),\n",
            " (5, 0.04789424423823499),\n",
            " (6, 0.09971945655651832),\n",
            " (7, 0.11702214007460583),\n",
            " (8, 0.08332742157957235),\n",
            " (9, 0.055683782751587606)]\n"
          ]
        },
        {
          "output_type": "stream",
          "name": "stderr",
          "text": [
            "/usr/local/lib/python3.10/dist-packages/ipykernel/ipkernel.py:283: DeprecationWarning: `should_run_async` will not call `transform_cell` automatically in the future. Please pass the result to `transformed_cell` argument and any exception that happen during thetransform in `preprocessing_exc_tuple` in IPython 7.17 and above.\n",
            "  and should_run_async(code)\n"
          ]
        }
      ]
    },
    {
      "cell_type": "code",
      "source": [
        "# the new tfidf corpus is just our corpus - but transformed. It has the same size of documents:\n",
        "assert len(bow_corpus) == len(tfidf_corpus)"
      ],
      "metadata": {
        "id": "OdllL8StNLm2",
        "colab": {
          "base_uri": "https://localhost:8080/"
        },
        "outputId": "bbb15f02-f445-4cd4-f1fb-c7ef251d837f"
      },
      "execution_count": 107,
      "outputs": [
        {
          "output_type": "stream",
          "name": "stderr",
          "text": [
            "/usr/local/lib/python3.10/dist-packages/ipykernel/ipkernel.py:283: DeprecationWarning: `should_run_async` will not call `transform_cell` automatically in the future. Please pass the result to `transformed_cell` argument and any exception that happen during thetransform in `preprocessing_exc_tuple` in IPython 7.17 and above.\n",
            "  and should_run_async(code)\n"
          ]
        }
      ]
    },
    {
      "cell_type": "markdown",
      "metadata": {
        "id": "UZ-9a3gcsYts"
      },
      "source": [
        "Now let's apply LDA on the tfidf corpus, with the same amount of topics.\n",
        "\n",
        "You can play with the # of passes, if the model doesn't converge properly"
      ]
    },
    {
      "cell_type": "code",
      "metadata": {
        "id": "ihxND83irVSf",
        "outputId": "98c7d6b3-83a0-41eb-e869-b500ae64b427",
        "colab": {
          "base_uri": "https://localhost:8080/"
        }
      },
      "source": [
        "lda_model_tfidf = models.LdaMulticore(tfidf_corpus,\n",
        "                                      num_topics=num_of_topics,\n",
        "                                      id2word=dictionary,\n",
        "                                      passes=5,\n",
        "                                      workers=4)"
      ],
      "execution_count": 108,
      "outputs": [
        {
          "output_type": "stream",
          "name": "stderr",
          "text": [
            "/usr/local/lib/python3.10/dist-packages/ipykernel/ipkernel.py:283: DeprecationWarning: `should_run_async` will not call `transform_cell` automatically in the future. Please pass the result to `transformed_cell` argument and any exception that happen during thetransform in `preprocessing_exc_tuple` in IPython 7.17 and above.\n",
            "  and should_run_async(code)\n",
            "WARNING:gensim.models.ldamulticore:too few updates, training might not converge; consider increasing the number of passes or iterations to improve accuracy\n"
          ]
        }
      ]
    },
    {
      "cell_type": "code",
      "source": [
        "for idx, topic in lda_model_tfidf.print_topics(num_of_topics):\n",
        "    print(f'Topic: {idx} \\t Word: {topic}')"
      ],
      "metadata": {
        "id": "adACX8kGihtG",
        "outputId": "e8f17da2-acee-4b4d-ff7d-cb74c1741092",
        "colab": {
          "base_uri": "https://localhost:8080/"
        }
      },
      "execution_count": 109,
      "outputs": [
        {
          "output_type": "stream",
          "name": "stdout",
          "text": [
            "Topic: 0 \t Word: 0.010*\"agent\" + 0.009*\"politie\" + 0.007*\"besmet\" + 0.005*\"huis\" + 0.005*\"verdacht\" + 0.005*\"ongeluk\" + 0.005*\"israe\" + 0.005*\"voer\" + 0.004*\"kabinet\" + 0.004*\"normal\"\n",
            "Topic: 1 \t Word: 0.008*\"supermarkt\" + 0.006*\"brandwer\" + 0.006*\"prijs\" + 0.005*\"fran\" + 0.005*\"anti\" + 0.005*\"vijf\" + 0.005*\"unie\" + 0.005*\"brand\" + 0.005*\"twitter\" + 0.005*\"energie\"\n",
            "Topic: 2 \t Word: 0.008*\"gemeent\" + 0.006*\"gat\" + 0.006*\"miljoen\" + 0.005*\"land\" + 0.005*\"europes\" + 0.005*\"elkar\" + 0.005*\"auto\" + 0.005*\"zegt\" + 0.005*\"mens\" + 0.005*\"zegg\"\n",
            "Topic: 3 \t Word: 0.006*\"dod\" + 0.006*\"kan\" + 0.006*\"kreg\" + 0.005*\"werd\" + 0.005*\"gesprek\" + 0.005*\"rechter\" + 0.005*\"noord\" + 0.005*\"schot\" + 0.005*\"islamitisch\" + 0.005*\"gewond\"\n",
            "Topic: 4 \t Word: 0.010*\"koning\" + 0.008*\"prijs\" + 0.006*\"europa\" + 0.005*\"ler\" + 0.005*\"wer\" + 0.005*\"vrijdag\" + 0.005*\"websit\" + 0.004*\"advocat\" + 0.004*\"april\" + 0.004*\"noord\"\n",
            "Topic: 5 \t Word: 0.008*\"agent\" + 0.008*\"hag\" + 0.007*\"verdacht\" + 0.006*\"jarig\" + 0.005*\"groep\" + 0.005*\"politie\" + 0.005*\"amerikan\" + 0.005*\"vrijgelat\" + 0.004*\"verenigd\" + 0.004*\"journalist\"\n",
            "Topic: 6 \t Word: 0.006*\"ziekenhuis\" + 0.006*\"euro\" + 0.005*\"nederland\" + 0.005*\"kamer\" + 0.005*\"werk\" + 0.005*\"mens\" + 0.005*\"minister\" + 0.005*\"mak\" + 0.005*\"over\" + 0.004*\"waard\"\n",
            "Topic: 7 \t Word: 0.007*\"partij\" + 0.006*\"gewond\" + 0.006*\"groenlink\" + 0.006*\"twaalf\" + 0.006*\"onderdel\" + 0.006*\"del\" + 0.006*\"aanhanger\" + 0.005*\"kamer\" + 0.005*\"vrijdag\" + 0.005*\"water\"\n",
            "Topic: 8 \t Word: 0.009*\"procent\" + 0.007*\"ligt\" + 0.007*\"gevond\" + 0.007*\"politie\" + 0.005*\"drie\" + 0.005*\"war\" + 0.005*\"jongen\" + 0.005*\"boer\" + 0.005*\"europes\" + 0.005*\"gister\"\n",
            "Topic: 9 \t Word: 0.009*\"vrouw\" + 0.006*\"gemeent\" + 0.006*\"liep\" + 0.006*\"schrijft\" + 0.005*\"maatregel\" + 0.005*\"politie\" + 0.005*\"lop\" + 0.004*\"veroordeeld\" + 0.004*\"euro\" + 0.004*\"geheim\"\n"
          ]
        },
        {
          "output_type": "stream",
          "name": "stderr",
          "text": [
            "/usr/local/lib/python3.10/dist-packages/ipykernel/ipkernel.py:283: DeprecationWarning: `should_run_async` will not call `transform_cell` automatically in the future. Please pass the result to `transformed_cell` argument and any exception that happen during thetransform in `preprocessing_exc_tuple` in IPython 7.17 and above.\n",
            "  and should_run_async(code)\n"
          ]
        }
      ]
    },
    {
      "cell_type": "markdown",
      "metadata": {
        "id": "f9HswwLLsw0X"
      },
      "source": [
        "## Inference\n",
        "\n",
        "Now that we have a topic-modeler, let's use it on one of the articles."
      ]
    },
    {
      "cell_type": "code",
      "metadata": {
        "id": "tQlSUn_CsbcX",
        "outputId": "ff68ff9d-978a-4567-d604-b34d29e6b4aa",
        "colab": {
          "base_uri": "https://localhost:8080/"
        }
      },
      "source": [
        "# randomly pick an article:\n",
        "test_doc = choice(range(len(processed_docs)))\n",
        "processed_docs[test_doc][:50]"
      ],
      "execution_count": 110,
      "outputs": [
        {
          "output_type": "stream",
          "name": "stderr",
          "text": [
            "/usr/local/lib/python3.10/dist-packages/ipykernel/ipkernel.py:283: DeprecationWarning: `should_run_async` will not call `transform_cell` automatically in the future. Please pass the result to `transformed_cell` argument and any exception that happen during thetransform in `preprocessing_exc_tuple` in IPython 7.17 and above.\n",
            "  and should_run_async(code)\n"
          ]
        },
        {
          "output_type": "execute_result",
          "data": {
            "text/plain": [
              "['rechtbanktolk',\n",
              " 'voer',\n",
              " 'actie',\n",
              " 'sind',\n",
              " 'vandag',\n",
              " 'nem',\n",
              " 'nieuw',\n",
              " 'opdracht',\n",
              " 'daardor',\n",
              " 'zull',\n",
              " 'sommig',\n",
              " 'zitting',\n",
              " 'politieverhor',\n",
              " 'doorgan',\n",
              " 'voorspelt',\n",
              " 'ord',\n",
              " 'registertolk',\n",
              " 'vertaler',\n",
              " 'belangengroep',\n",
              " 'led',\n",
              " 'voert',\n",
              " 'langer',\n",
              " 'actie',\n",
              " 'beter',\n",
              " 'belon',\n",
              " 'vorig',\n",
              " 'wek',\n",
              " 'werd',\n",
              " 'demonstraties',\n",
              " 'leeuward',\n",
              " 'arnhem',\n",
              " 'amsterdam',\n",
              " 'hag',\n",
              " 'georganiseerd',\n",
              " 'klein',\n",
              " 'beroepsgroep',\n",
              " 'vuist',\n",
              " 'mak',\n",
              " 'daarom',\n",
              " 'gan',\n",
              " 'nieuw',\n",
              " 'acties',\n",
              " 'aldus',\n",
              " 'fed',\n",
              " 'dijkstra',\n",
              " 'tolk',\n",
              " 'vertaler',\n",
              " 'teven',\n",
              " 'voorzitter',\n",
              " 'ord']"
            ]
          },
          "metadata": {},
          "execution_count": 110
        }
      ]
    },
    {
      "cell_type": "markdown",
      "metadata": {
        "id": "Jt6oJJL8tiO_"
      },
      "source": [
        "Using the original BOW model:"
      ]
    },
    {
      "cell_type": "code",
      "metadata": {
        "id": "ZBbrSNDVszGW",
        "outputId": "a77fe7cc-8071-4abc-d4ec-d6db400f567a",
        "colab": {
          "base_uri": "https://localhost:8080/"
        }
      },
      "source": [
        "for index, score in sorted(lda_model[bow_corpus[test_doc]], key=lambda tup: -1*tup[1]):\n",
        "    print(f\"Topic match score: {score} \\nTopic: {lda_model.print_topic(index, num_of_topics)}\")\n"
      ],
      "execution_count": 111,
      "outputs": [
        {
          "output_type": "stream",
          "name": "stdout",
          "text": [
            "Topic match score: 0.9921028017997742 \n",
            "Topic: 0.024*\"politie\" + 0.013*\"verdacht\" + 0.012*\"twee\" + 0.009*\"vorig\" + 0.009*\"agent\" + 0.009*\"wek\" + 0.009*\"jar\" + 0.009*\"onderzoek\" + 0.009*\"jarig\" + 0.008*\"zak\"\n"
          ]
        },
        {
          "output_type": "stream",
          "name": "stderr",
          "text": [
            "/usr/local/lib/python3.10/dist-packages/ipykernel/ipkernel.py:283: DeprecationWarning: `should_run_async` will not call `transform_cell` automatically in the future. Please pass the result to `transformed_cell` argument and any exception that happen during thetransform in `preprocessing_exc_tuple` in IPython 7.17 and above.\n",
            "  and should_run_async(code)\n"
          ]
        }
      ]
    },
    {
      "cell_type": "markdown",
      "metadata": {
        "id": "hdz9qz-Atj3A"
      },
      "source": [
        "And with the TF/IDF model:"
      ]
    },
    {
      "cell_type": "code",
      "metadata": {
        "id": "XWHTDQjVtTyO",
        "outputId": "f4253d06-48cd-4d66-e974-ca43397dfe0b",
        "colab": {
          "base_uri": "https://localhost:8080/"
        }
      },
      "source": [
        "for index, score in sorted(lda_model_tfidf[bow_corpus[test_doc]], key=lambda tup: -1*tup[1]):\n",
        "    print(\"Topic match score: {}\\t \\nTopic: {}\".format(score, lda_model_tfidf.print_topic(index, num_of_topics)))"
      ],
      "execution_count": 112,
      "outputs": [
        {
          "output_type": "stream",
          "name": "stdout",
          "text": [
            "Topic match score: 0.868702232837677\t \n",
            "Topic: 0.006*\"ziekenhuis\" + 0.006*\"euro\" + 0.005*\"nederland\" + 0.005*\"kamer\" + 0.005*\"werk\" + 0.005*\"mens\" + 0.005*\"minister\" + 0.005*\"mak\" + 0.005*\"over\" + 0.004*\"waard\"\n",
            "Topic match score: 0.12427598237991333\t \n",
            "Topic: 0.008*\"gemeent\" + 0.006*\"gat\" + 0.006*\"miljoen\" + 0.005*\"land\" + 0.005*\"europes\" + 0.005*\"elkar\" + 0.005*\"auto\" + 0.005*\"zegt\" + 0.005*\"mens\" + 0.005*\"zegg\"\n"
          ]
        },
        {
          "output_type": "stream",
          "name": "stderr",
          "text": [
            "/usr/local/lib/python3.10/dist-packages/ipykernel/ipkernel.py:283: DeprecationWarning: `should_run_async` will not call `transform_cell` automatically in the future. Please pass the result to `transformed_cell` argument and any exception that happen during thetransform in `preprocessing_exc_tuple` in IPython 7.17 and above.\n",
            "  and should_run_async(code)\n"
          ]
        }
      ]
    },
    {
      "cell_type": "markdown",
      "source": [
        "Calculating the [perplexity score](https://towardsdatascience.com/perplexity-in-language-models-87a196019a94) (lower is better):"
      ],
      "metadata": {
        "id": "Y6hgkxQ4RIzf"
      }
    },
    {
      "cell_type": "code",
      "source": [
        "print('Perplexity: ', lda_model.log_perplexity(bow_corpus))\n",
        "print('Perplexity TFIDF: ', lda_model_tfidf.log_perplexity(bow_corpus))"
      ],
      "metadata": {
        "colab": {
          "base_uri": "https://localhost:8080/"
        },
        "id": "hHtIgzTlw-gN",
        "outputId": "4c651ef8-dc3c-479e-ef13-f2b330f775ef"
      },
      "execution_count": 113,
      "outputs": [
        {
          "output_type": "stream",
          "name": "stderr",
          "text": [
            "/usr/local/lib/python3.10/dist-packages/ipykernel/ipkernel.py:283: DeprecationWarning: `should_run_async` will not call `transform_cell` automatically in the future. Please pass the result to `transformed_cell` argument and any exception that happen during thetransform in `preprocessing_exc_tuple` in IPython 7.17 and above.\n",
            "  and should_run_async(code)\n"
          ]
        },
        {
          "output_type": "stream",
          "name": "stdout",
          "text": [
            "Perplexity:  -6.815109635912172\n",
            "Perplexity TFIDF:  -7.807528069409568\n"
          ]
        }
      ]
    },
    {
      "cell_type": "markdown",
      "metadata": {
        "id": "NZGXqV-TtyTm"
      },
      "source": [
        "### Exercise - inference\n",
        "\n",
        "Now please try it on a new document!\n",
        "\n",
        "Go to a news website, such as [orf.at](https://orf.at/) and copy an article of your choice here:"
      ]
    },
    {
      "cell_type": "code",
      "metadata": {
        "id": "Srd1NWjFtlqM",
        "outputId": "e3417d90-6389-48c7-c929-bbacdb893c1b",
        "colab": {
          "base_uri": "https://localhost:8080/"
        }
      },
      "source": [
        "unseen_document = \"\"\"FC Twente heeft woensdag in de KNVB-beker ternauwernood gewonnen van VV Katwijk. De tukkers hadden grote moeite met de amateurclub, maar wonnen met 2-3.\n",
        "FC Twente had in het winderige Katwijk nog een vliegende start en vond in de derde minuut al het net. De bal belandde vanuit een hoekschop voor de voeten van Alec Van Hoorenbeeck, die met een gelukje kon binnenwerken.\n",
        "\n",
        "Het leek een makkelijke avond te worden voor de tukkers, maar de thuisploeg besloot anders. Na een kwartier stond het plots 1-1 door een fraaie treffer van Robin Schulte. Katwijk, de nummer vier van de Tweede Divisie, kreeg vleugels en was voor rust dicht bij een voorsprong. Twente ontsnapte, omdat het bij Katwijk ontbrak aan nauwkeurigheid in de afronding.\n",
        "\n",
        "Twente-trainer Joseph Oosting moet in de rust een geweldige speech hebben gegeven, want de bezoekers kwamen na rust binnen vijf minuten met 3-1 voor. De net ingevallen Ricky van Wolfswinkel zorgde op aangeven van Sem Steijn voor de 2-1. Een paar minuten later maakte Bas Kuipers de 3-1.\n",
        "\n",
        "Katwijk, dat met een vuurwerkshow voor de aftrap enorm had uitgepakt voor de bekeravond, liet het hoofd niet hangen en maakte het Twente lastig. Mohammed Tahiri liet de thuisploeg geloven in een stunt toen hij in de 85e minuut de aansluitingstreffer binnenschoot. Het slotoffensief was niet genoeg om een verlenging af te dwingen.\n",
        "\n",
        "De volle bekeravond is nog lang niet voorbij. Volg alle duels in ons liveblog.\"\"\"\n",
        "\n",
        "bow_vector = dictionary.doc2bow(preprocess(unseen_document))\n",
        "\n",
        "print(\"Simply printing the lda_model output would look like this:\")\n",
        "pprint(lda_model[bow_vector])\n",
        "\n",
        "print(\"\\n\\nSo let's make it nicer, by printing the topic contents:\")\n",
        "for index, score in sorted(lda_model[bow_vector], key=lambda tup: -1*tup[1]):\n",
        "    print(\"Score: {}\\t Topic: {}\".format(score, lda_model.print_topic(index, 5)))\n"
      ],
      "execution_count": 97,
      "outputs": [
        {
          "output_type": "stream",
          "name": "stdout",
          "text": [
            "Simply printing the lda_model output would look like this:\n",
            "[(0, 0.1868625),\n",
            " (1, 0.11276727),\n",
            " (2, 0.19892505),\n",
            " (3, 0.3630255),\n",
            " (7, 0.12559237)]\n",
            "\n",
            "\n",
            "So let's make it nicer, by printing the topic contents:\n",
            "Score: 0.36362117528915405\t Topic: 0.021*\"miljoen\" + 0.016*\"twee\" + 0.014*\"politie\" + 0.014*\"kwam\" + 0.014*\"euro\"\n",
            "Score: 0.1987922042608261\t Topic: 0.015*\"mens\" + 0.013*\"nederland\" + 0.011*\"veilig\" + 0.011*\"zegt\" + 0.011*\"ziekenhuis\"\n",
            "Score: 0.17830641567707062\t Topic: 0.011*\"mens\" + 0.010*\"nederland\" + 0.010*\"grot\" + 0.009*\"aantal\" + 0.009*\"land\"\n",
            "Score: 0.1289258599281311\t Topic: 0.019*\"mens\" + 0.019*\"jar\" + 0.015*\"land\" + 0.014*\"gemeent\" + 0.011*\"nieuw\"\n",
            "Score: 0.11748918890953064\t Topic: 0.020*\"politie\" + 0.014*\"gat\" + 0.012*\"maatregel\" + 0.011*\"agent\" + 0.011*\"nieuw\"\n"
          ]
        }
      ]
    },
    {
      "cell_type": "code",
      "source": [],
      "metadata": {
        "colab": {
          "base_uri": "https://localhost:8080/"
        },
        "id": "dig8d3oWR6xM",
        "outputId": "db37c6d9-b4b9-4af9-8662-aaf40594355e"
      },
      "execution_count": null,
      "outputs": [
        {
          "output_type": "stream",
          "name": "stderr",
          "text": [
            "/usr/local/lib/python3.10/dist-packages/ipykernel/ipkernel.py:283: DeprecationWarning: `should_run_async` will not call `transform_cell` automatically in the future. Please pass the result to `transformed_cell` argument and any exception that happen during thetransform in `preprocessing_exc_tuple` in IPython 7.17 and above.\n",
            "  and should_run_async(code)\n"
          ]
        }
      ]
    },
    {
      "cell_type": "markdown",
      "source": [
        "## Visualization"
      ],
      "metadata": {
        "id": "NOl16tMOsmYd"
      }
    },
    {
      "cell_type": "markdown",
      "source": [
        "Finally, there are packages that can visulaize the results, such as [pyLDAvis](https://pypi.org/project/pyLDAvis/) and [tmplot](https://pypi.org/project/tmplot/).\n",
        "\n",
        "Let's take a look at pyLDAvis visualization result.\n",
        "\n",
        "**Please note:** this is an old and unmaintained package. It is easier to run it in Google-Colab than on your laptop. But, if you still try running it locally, please try **lowering your python version** (3.6 / 3.6 / 3.8) when you create the poetry environment for this exercise."
      ],
      "metadata": {
        "id": "Am2p_6seTOOE"
      }
    },
    {
      "cell_type": "code",
      "source": [
        "%pip install pyLDAvis"
      ],
      "metadata": {
        "id": "ERQDi99Rs6dO",
        "colab": {
          "base_uri": "https://localhost:8080/"
        },
        "outputId": "f5f74f7b-5476-4824-dd7a-dc2b3bd299f9"
      },
      "execution_count": 114,
      "outputs": [
        {
          "output_type": "stream",
          "name": "stderr",
          "text": [
            "/usr/local/lib/python3.10/dist-packages/ipykernel/ipkernel.py:283: DeprecationWarning: `should_run_async` will not call `transform_cell` automatically in the future. Please pass the result to `transformed_cell` argument and any exception that happen during thetransform in `preprocessing_exc_tuple` in IPython 7.17 and above.\n",
            "  and should_run_async(code)\n"
          ]
        },
        {
          "output_type": "stream",
          "name": "stdout",
          "text": [
            "Requirement already satisfied: pyLDAvis in /usr/local/lib/python3.10/dist-packages (3.4.1)\n",
            "Requirement already satisfied: numpy>=1.24.2 in /usr/local/lib/python3.10/dist-packages (from pyLDAvis) (1.26.4)\n",
            "Requirement already satisfied: scipy in /usr/local/lib/python3.10/dist-packages (from pyLDAvis) (1.13.1)\n",
            "Requirement already satisfied: pandas>=2.0.0 in /usr/local/lib/python3.10/dist-packages (from pyLDAvis) (2.2.2)\n",
            "Requirement already satisfied: joblib>=1.2.0 in /usr/local/lib/python3.10/dist-packages (from pyLDAvis) (1.4.2)\n",
            "Requirement already satisfied: jinja2 in /usr/local/lib/python3.10/dist-packages (from pyLDAvis) (3.1.4)\n",
            "Requirement already satisfied: numexpr in /usr/local/lib/python3.10/dist-packages (from pyLDAvis) (2.10.2)\n",
            "Requirement already satisfied: funcy in /usr/local/lib/python3.10/dist-packages (from pyLDAvis) (2.0)\n",
            "Requirement already satisfied: scikit-learn>=1.0.0 in /usr/local/lib/python3.10/dist-packages (from pyLDAvis) (1.6.0)\n",
            "Requirement already satisfied: gensim in /usr/local/lib/python3.10/dist-packages (from pyLDAvis) (4.3.3)\n",
            "Requirement already satisfied: setuptools in /usr/local/lib/python3.10/dist-packages (from pyLDAvis) (75.1.0)\n",
            "Requirement already satisfied: python-dateutil>=2.8.2 in /usr/local/lib/python3.10/dist-packages (from pandas>=2.0.0->pyLDAvis) (2.8.2)\n",
            "Requirement already satisfied: pytz>=2020.1 in /usr/local/lib/python3.10/dist-packages (from pandas>=2.0.0->pyLDAvis) (2024.2)\n",
            "Requirement already satisfied: tzdata>=2022.7 in /usr/local/lib/python3.10/dist-packages (from pandas>=2.0.0->pyLDAvis) (2024.2)\n",
            "Requirement already satisfied: threadpoolctl>=3.1.0 in /usr/local/lib/python3.10/dist-packages (from scikit-learn>=1.0.0->pyLDAvis) (3.5.0)\n",
            "Requirement already satisfied: smart-open>=1.8.1 in /usr/local/lib/python3.10/dist-packages (from gensim->pyLDAvis) (7.0.5)\n",
            "Requirement already satisfied: MarkupSafe>=2.0 in /usr/local/lib/python3.10/dist-packages (from jinja2->pyLDAvis) (3.0.2)\n",
            "Requirement already satisfied: six>=1.5 in /usr/local/lib/python3.10/dist-packages (from python-dateutil>=2.8.2->pandas>=2.0.0->pyLDAvis) (1.17.0)\n",
            "Requirement already satisfied: wrapt in /usr/local/lib/python3.10/dist-packages (from smart-open>=1.8.1->gensim->pyLDAvis) (1.17.0)\n"
          ]
        }
      ]
    },
    {
      "cell_type": "code",
      "source": [
        "import pyLDAvis.gensim_models as gensimvis\n",
        "import pyLDAvis\n",
        "\n",
        "bow_lda_data = gensimvis.prepare(lda_model, bow_corpus, dictionary)\n",
        "\n",
        "pyLDAvis.display(bow_lda_data)"
      ],
      "metadata": {
        "colab": {
          "base_uri": "https://localhost:8080/",
          "height": 1000
        },
        "id": "xwDURjMYslxZ",
        "outputId": "efa61526-bcfc-4cdf-f7a9-b908d595df63"
      },
      "execution_count": 115,
      "outputs": [
        {
          "output_type": "stream",
          "name": "stderr",
          "text": [
            "/usr/local/lib/python3.10/dist-packages/ipykernel/ipkernel.py:283: DeprecationWarning: `should_run_async` will not call `transform_cell` automatically in the future. Please pass the result to `transformed_cell` argument and any exception that happen during thetransform in `preprocessing_exc_tuple` in IPython 7.17 and above.\n",
            "  and should_run_async(code)\n",
            "/usr/local/lib/python3.10/dist-packages/pyLDAvis/_prepare.py:299: SettingWithCopyWarning: \n",
            "A value is trying to be set on a copy of a slice from a DataFrame.\n",
            "Try using .loc[row_indexer,col_indexer] = value instead\n",
            "\n",
            "See the caveats in the documentation: https://pandas.pydata.org/pandas-docs/stable/user_guide/indexing.html#returning-a-view-versus-a-copy\n",
            "  token_table['Freq'] = token_table['Freq'].round()\n",
            "/usr/local/lib/python3.10/dist-packages/pyLDAvis/_prepare.py:300: SettingWithCopyWarning: \n",
            "A value is trying to be set on a copy of a slice from a DataFrame.\n",
            "Try using .loc[row_indexer,col_indexer] = value instead\n",
            "\n",
            "See the caveats in the documentation: https://pandas.pydata.org/pandas-docs/stable/user_guide/indexing.html#returning-a-view-versus-a-copy\n",
            "  token_table['Term'] = vocab[token_table.index.values].values\n",
            "/usr/local/lib/python3.10/dist-packages/pyLDAvis/_prepare.py:302: SettingWithCopyWarning: \n",
            "A value is trying to be set on a copy of a slice from a DataFrame.\n",
            "Try using .loc[row_indexer,col_indexer] = value instead\n",
            "\n",
            "See the caveats in the documentation: https://pandas.pydata.org/pandas-docs/stable/user_guide/indexing.html#returning-a-view-versus-a-copy\n",
            "  token_table['Freq'] = token_table.Freq / term_frequency[token_table.index]\n"
          ]
        },
        {
          "output_type": "execute_result",
          "data": {
            "text/plain": [
              "<IPython.core.display.HTML object>"
            ],
            "text/html": [
              "\n",
              "<link rel=\"stylesheet\" type=\"text/css\" href=\"https://cdn.jsdelivr.net/gh/bmabey/pyLDAvis@3.4.0/pyLDAvis/js/ldavis.v1.0.0.css\">\n",
              "\n",
              "\n",
              "<div id=\"ldavis_el4941367116292749444347652506\" style=\"background-color:white;\"></div>\n",
              "<script type=\"text/javascript\">\n",
              "\n",
              "var ldavis_el4941367116292749444347652506_data = {\"mdsDat\": {\"x\": [0.016144361146758216, -0.018033239167545425, 0.02072471326374251, 0.06662140830423048, -0.05759569989913886, -0.12491440238766444, -0.028270503457856335, 0.029880568325858888, -0.05048630171108176, 0.14592909558269657], \"y\": [0.015918712981040004, -0.014734132506864162, -0.016599598439747284, -0.07510195709258394, 0.024381252986087242, 0.10824350976092838, -0.030006627586288713, -0.02831562897339788, -0.088494940938827, 0.10470940980965339], \"topics\": [1, 2, 3, 4, 5, 6, 7, 8, 9, 10], \"cluster\": [1, 1, 1, 1, 1, 1, 1, 1, 1, 1], \"Freq\": [16.928252119886878, 15.419127105974109, 15.04700487000534, 12.083577614354247, 10.520441134528088, 8.884943619518426, 8.160112672933748, 5.820835743997714, 4.589345789147936, 2.546359329653516]}, \"tinfo\": {\"Term\": [\"jar\", \"politie\", \"procent\", \"gemeent\", \"ziekenhuis\", \"europes\", \"koning\", \"auto\", \"miljoen\", \"euro\", \"nederland\", \"oorlog\", \"agent\", \"zegt\", \"wegen\", \"aanslag\", \"komt\", \"maatregel\", \"jarig\", \"moet\", \"verdacht\", \"aantal\", \"war\", \"twee\", \"mens\", \"winkel\", \"gat\", \"partij\", \"vier\", \"kamer\", \"opmerk\", \"gezicht\", \"macht\", \"virus\", \"tegenover\", \"situatie\", \"verlat\", \"afstand\", \"mocht\", \"ben\", \"veilig\", \"meest\", \"deur\", \"actief\", \"leider\", \"persbureau\", \"iederen\", \"oorlog\", \"direct\", \"pakistan\", \"buitenlander\", \"verenigd\", \"gesprek\", \"stak\", \"aanwez\", \"wacht\", \"ongever\", \"invloed\", \"publiek\", \"viel\", \"allemal\", \"onz\", \"enkel\", \"nooit\", \"grond\", \"ker\", \"dod\", \"land\", \"president\", \"twee\", \"goed\", \"zegt\", \"zull\", \"gevar\", \"all\", \"amerikan\", \"eerst\", \"stat\", \"gan\", \"europes\", \"mens\", \"nederland\", \"jar\", \"kwam\", \"problem\", \"wek\", \"kom\", \"rond\", \"tuss\", \"will\", \"later\", \"hel\", \"grot\", \"krijg\", \"eis\", \"gemeent\", \"activiteit\", \"york\", \"vrijdag\", \"vanavond\", \"jonger\", \"wereldwijd\", \"lukt\", \"twitter\", \"terrein\", \"idee\", \"schuld\", \"gebouw\", \"brandwer\", \"optred\", \"pol\", \"autoriteit\", \"vakbond\", \"premier\", \"lond\", \"hoofd\", \"december\", \"informatie\", \"relatief\", \"vlak\", \"won\", \"geldt\", \"universiteit\", \"aandacht\", \"waard\", \"besmet\", \"eigen\", \"gewond\", \"noord\", \"huis\", \"amsterdam\", \"problem\", \"dag\", \"lang\", \"jar\", \"mens\", \"tijd\", \"euro\", \"aantal\", \"betaald\", \"eerder\", \"schrijft\", \"wek\", \"zegt\", \"lat\", \"drie\", \"vooral\", \"geld\", \"twee\", \"nederland\", \"nieuw\", \"miljoen\", \"zit\", \"maand\", \"grot\", \"kom\", \"stat\", \"inmiddel\", \"waarom\", \"verkop\", \"licham\", \"zon\", \"merk\", \"begon\", \"duitsland\", \"verkocht\", \"partner\", \"werkt\", \"vijftig\", \"dezelfd\", \"auto\", \"teken\", \"telefon\", \"populair\", \"behor\", \"gezorgd\", \"aanhanger\", \"vertelt\", \"behandel\", \"ongeluk\", \"geslot\", \"water\", \"vond\", \"best\", \"ingesteld\", \"betrokken\", \"sneller\", \"contact\", \"gevond\", \"facebok\", \"denkt\", \"vrag\", \"mens\", \"zegt\", \"drie\", \"moment\", \"politie\", \"sommig\", \"allen\", \"jarig\", \"vrouw\", \"mak\", \"jar\", \"nieuw\", \"moet\", \"maand\", \"land\", \"nederland\", \"kwam\", \"gister\", \"war\", \"hel\", \"stat\", \"lang\", \"gat\", \"procent\", \"onderzoek\", \"miljoen\", \"grot\", \"gan\", \"demonstrant\", \"vrijgelat\", \"verband\", \"vrijlat\", \"verdacht\", \"journalist\", \"lokal\", \"agent\", \"onrust\", \"veroordeeld\", \"criminel\", \"militair\", \"vervolgd\", \"onderzocht\", \"probeerd\", \"justitie\", \"strijd\", \"vrij\", \"hag\", \"betrok\", \"israe\", \"even\", \"burgemeester\", \"gooid\", \"verklar\", \"meisj\", \"bericht\", \"geweld\", \"aangehoud\", \"behalv\", \"politie\", \"groep\", \"zak\", \"vorig\", \"jarig\", \"onderzoek\", \"wek\", \"twee\", \"media\", \"rotterdam\", \"over\", \"ging\", \"dod\", \"land\", \"jar\", \"mogelijk\", \"nieuw\", \"auto\", \"kwam\", \"mens\", \"vandag\", \"gat\", \"nederland\", \"ler\", \"sterk\", \"woning\", \"lever\", \"rijk\", \"juni\", \"sector\", \"tekort\", \"bereik\", \"provincie\", \"geplaatst\", \"miljard\", \"trek\", \"stijging\", \"holland\", \"huiz\", \"gekek\", \"directeur\", \"aanvank\", \"verhal\", \"beperkt\", \"augustus\", \"bot\", \"draai\", \"special\", \"kost\", \"video\", \"ernstig\", \"maatregel\", \"duurt\", \"nacht\", \"rotterdam\", \"utrecht\", \"euro\", \"neemt\", \"miljoen\", \"gat\", \"aantal\", \"zegg\", \"sprak\", \"vlucht\", \"komt\", \"minder\", \"eerder\", \"had\", \"procent\", \"verder\", \"moet\", \"zegt\", \"betal\", \"del\", \"jar\", \"vorig\", \"rond\", \"nederland\", \"krijg\", \"nieuw\", \"nodig\", \"grot\", \"koning\", \"kracht\", \"commissie\", \"oekrai\", \"verander\", \"kabinet\", \"brussel\", \"feit\", \"daling\", \"strak\", \"unie\", \"geslag\", \"waarschijn\", \"national\", \"onzeker\", \"bedoeld\", \"russisch\", \"spanj\", \"aanpass\", \"verlop\", \"europes\", \"belangrijkst\", \"start\", \"ingewikkeld\", \"ervan\", \"holland\", \"besluit\", \"uitzonder\", \"help\", \"prat\", \"politiek\", \"moet\", \"maatregel\", \"nederland\", \"pakistan\", \"binn\", \"minister\", \"gat\", \"zoud\", \"land\", \"europa\", \"wet\", \"nodig\", \"euro\", \"hel\", \"kost\", \"miljoen\", \"ander\", \"grot\", \"nieuw\", \"mogelijk\", \"lat\", \"regel\", \"eerst\", \"allen\", \"supermarkt\", \"prijs\", \"dorp\", \"energie\", \"winkel\", \"klar\", \"bewoner\", \"stichting\", \"trekt\", \"economie\", \"groei\", \"daald\", \"ban\", \"vanuit\", \"organisaties\", \"elk\", \"gezond\", \"akkoord\", \"bezuin\", \"israe\", \"stelt\", \"onderzoekt\", \"blijv\", \"geslaagd\", \"vak\", \"grag\", \"opzicht\", \"aangekondigd\", \"spanj\", \"hoopt\", \"vindt\", \"zwar\", \"procent\", \"kamer\", \"jar\", \"april\", \"maart\", \"war\", \"komt\", \"stat\", \"mens\", \"zegt\", \"twed\", \"maand\", \"werk\", \"nederland\", \"land\", \"goed\", \"mak\", \"gan\", \"nieuw\", \"allen\", \"aangift\", \"aanslag\", \"bank\", \"vervolg\", \"hetzelfd\", \"dinsdag\", \"februari\", \"economisch\", \"middag\", \"italiaan\", \"partij\", \"brand\", \"nauwelijk\", \"januari\", \"debat\", \"degelijk\", \"gang\", \"trot\", \"gestok\", \"beperkt\", \"maandag\", \"verkiez\", \"helft\", \"vanmiddag\", \"jongen\", \"even\", \"lond\", \"invloed\", \"richt\", \"niemand\", \"hoewel\", \"central\", \"onderzoek\", \"kort\", \"besmet\", \"zelf\", \"justitie\", \"mens\", \"aantal\", \"komt\", \"europes\", \"bekend\", \"twee\", \"duidelijk\", \"stan\", \"ziekenhuis\", \"zegt\", \"lev\", \"nederland\", \"war\", \"land\", \"vandag\", \"mogelijk\", \"goed\", \"eerst\", \"nieuw\", \"boer\", \"energie\", \"dienst\", \"winkel\", \"bedoel\", \"reger\", \"oost\", \"strat\", \"voer\", \"vanmiddag\", \"band\", \"bewoner\", \"strom\", \"personel\", \"verbod\", \"onderdel\", \"legg\", \"duurder\", \"gekreg\", \"protest\", \"akkoord\", \"cijfer\", \"rut\", \"overigen\", \"commissie\", \"september\", \"plan\", \"natur\", \"noemt\", \"consument\", \"procent\", \"bedrijv\", \"europa\", \"auto\", \"eind\", \"waarin\", \"grot\", \"vijf\", \"juist\", \"jar\", \"nederland\", \"zegt\", \"ging\", \"had\", \"aantal\", \"all\", \"nieuw\", \"lat\", \"afgelop\", \"vandag\", \"stan\", \"europes\", \"politie\", \"vrouw\", \"wegen\", \"groenlink\", \"twaalf\", \"ziekenhuiz\", \"juli\", \"betrokken\", \"oorlog\", \"gebruikt\", \"ziekenhuis\", \"bekek\", \"brief\", \"unie\", \"overled\", \"anti\", \"bekendgemaakt\", \"patie\", \"schot\", \"vervolgd\", \"last\", \"onvoldo\", \"gebied\", \"vier\", \"automatisch\", \"wijst\", \"centrum\", \"leeftijd\", \"aangekondigd\", \"gearresteerd\", \"middag\", \"doordat\", \"vanweg\", \"gebracht\", \"agent\", \"vriend\", \"kamer\", \"aanslag\", \"jarig\", \"miljoen\", \"war\", \"jar\", \"komt\", \"twee\", \"sted\", \"vijf\", \"tuss\", \"huis\", \"zegt\", \"euro\", \"stat\"], \"Freq\": [176.0, 85.0, 70.0, 64.0, 26.0, 50.0, 23.0, 47.0, 66.0, 83.0, 124.0, 16.0, 23.0, 151.0, 13.0, 18.0, 54.0, 34.0, 43.0, 59.0, 30.0, 44.0, 66.0, 87.0, 145.0, 17.0, 86.0, 21.0, 23.0, 24.0, 8.495624598164298, 4.61432115575504, 5.770023268579328, 8.975568114172404, 6.865589659581623, 5.556994665537057, 5.428417220600718, 4.87361280271012, 4.676974038200832, 4.702850910508693, 15.776028600486404, 8.60759790009323, 5.526591724647101, 3.942942963354961, 6.670845577173846, 3.937979902274897, 8.916283846558086, 9.304881259279457, 5.546074568834183, 11.823214532012425, 3.053285184317397, 11.1165452656126, 10.020265224991318, 2.9680758389877693, 3.9323545408142158, 5.409086852213288, 5.872627954364726, 3.2903661897899132, 6.63593019096912, 5.619852944936332, 7.536334894023012, 9.230024549171526, 7.391390141341954, 8.942093650472973, 6.439130043139238, 14.804023148214732, 12.791931537141098, 29.26805984534681, 9.554954146031553, 23.98517474983749, 18.76603187418797, 32.635871951993714, 10.491057049189415, 9.102266596161835, 14.686019454608175, 13.390211992833349, 16.949272765876092, 17.32434541797683, 14.77028879449253, 12.920021688284736, 20.80760423574817, 19.20531727284296, 22.295279698610198, 13.247415000642913, 11.076529537710941, 12.63347197930399, 11.82221793761058, 10.34234965486816, 11.141554440586363, 10.683586302713595, 9.979494977668704, 10.387279190498793, 10.397525983412828, 10.032851028110317, 6.428499141007263, 47.9333992378642, 8.126962779514518, 5.134428447895731, 6.863753189843268, 4.246815806880601, 7.678129711531816, 4.527733316574924, 4.451172599772737, 8.325659738719718, 6.045795304465812, 5.344180194830967, 5.295596972805899, 4.620185380225402, 3.9544877116643877, 3.5369395545521054, 10.68938840903639, 4.080730543068096, 4.533967294787146, 15.987559725624001, 4.616766762407751, 5.759358752967312, 2.72535787105149, 4.11518016910658, 3.5484124225848435, 3.1460965154052905, 6.231240645309308, 4.019449324999972, 3.868007132885394, 4.423087244095607, 6.488597229999588, 7.161283187181983, 6.842156669549186, 8.282395109038626, 12.413500987758104, 14.405040827502676, 13.780769619346657, 13.442205708462504, 8.526844180273878, 14.134023612099758, 41.20281035155929, 31.78171626683456, 12.840749466962212, 20.00294135836377, 13.255445991872838, 8.44856102989583, 13.229291155401683, 7.179778467970398, 12.63764071059013, 19.181934732148793, 10.794114661299787, 9.93350208531299, 9.93012117108428, 9.620596659855687, 13.36974322860017, 13.449066807128782, 11.239133462411251, 10.356494354312181, 8.518886336703936, 8.963542419744563, 9.151411290014003, 8.721803234306968, 8.837809064052196, 5.067483834841731, 4.969556815972384, 8.939374060205026, 8.28543991424361, 5.310872484013144, 6.08852367425469, 5.688798773057723, 7.139158655335268, 7.385556001081855, 4.6891714452614215, 8.873206954161411, 2.8594775672212696, 4.705935846689188, 23.9724298928954, 3.7691604697937633, 6.587855993275062, 3.1971732516504923, 2.7653726642101515, 2.7770097064125174, 5.3555157659816714, 11.920819109990537, 4.34575574427059, 8.997277031259495, 5.3925399663289495, 7.541860582617143, 4.231898468797955, 3.806834846676482, 2.4422549530241513, 2.365039503303096, 2.862093409994406, 6.926815935731113, 8.281916106459128, 3.6446782105797304, 5.36465642836315, 13.24266526594032, 43.93281227150232, 45.495288949515434, 13.362711327804734, 10.147662878854682, 25.03300940791918, 9.97563529613034, 15.573790331594655, 13.278953127388936, 10.619673345368955, 15.478558098852854, 32.18655904088236, 18.55179261279136, 15.089283062215822, 12.36823371487402, 17.544311469151847, 18.852883963740567, 12.860861670550799, 8.987583998268395, 13.495395778254894, 12.002332431537553, 12.534762741597355, 10.360662761131834, 11.27119308219017, 10.658737032140799, 9.83907959398779, 10.123972420651466, 10.007843253244822, 9.489999998407068, 7.777127079517478, 6.793409994259245, 4.899000399846772, 9.02480816204937, 21.049196797735448, 7.766620941849938, 4.7897242255431935, 14.23185719550293, 4.579370329683367, 8.074516228484718, 6.2598231224278456, 4.865261821903086, 3.5834745027116965, 3.675795738149311, 4.167296720521747, 8.574726570833173, 2.990490177341202, 7.680270887895495, 11.468763185858162, 7.632755767593456, 9.866115280557258, 4.0939994860211835, 9.866510990548438, 2.801730153259069, 7.55107494192814, 5.622062790290671, 8.68857285891958, 6.793113772791367, 6.066276802734054, 2.6428555839361785, 39.026873195044395, 9.358572708844815, 13.290462378450753, 15.033243983010204, 13.66819860844385, 13.92897523280178, 14.164188542909052, 18.911466700617567, 9.08481320621292, 8.209200499981923, 7.814198148974791, 9.808383511749469, 8.7017509740701, 13.049966452166325, 13.972721757762484, 8.903489762239142, 10.657801563025538, 8.74330575938211, 8.674871119962205, 9.37776202529803, 8.430033604284938, 8.610511021793641, 8.394738367566875, 10.390916914591804, 7.607241057685838, 13.993764861331462, 3.561594676028608, 3.8759493791541297, 6.938386838907762, 4.704488982671611, 5.771332767856183, 5.206444046395787, 10.296785890134146, 4.052258380313654, 4.5555075136098875, 2.656256081271274, 3.0414311351376604, 7.200754722949268, 4.818468702825095, 3.449246382285796, 3.7001688819995002, 2.935087532614965, 2.899265511625192, 3.566576550810418, 3.6815064710170637, 2.8032477636898023, 2.8009784202454964, 4.387588798457822, 11.763842670773533, 4.823823102919042, 4.8223343042065485, 14.576923279153283, 2.3739823527644672, 6.973935001691673, 9.708285771944928, 4.5766831679131945, 26.826464712398785, 6.843085485803406, 19.62295838203032, 23.443051758744826, 13.446677574520205, 10.566128854757805, 6.865995792499857, 6.545101055835028, 12.029913013555426, 9.27637784099512, 10.735358246816649, 9.573423793734845, 12.70809664683764, 7.15486377260932, 9.846400182687901, 14.362370842475093, 6.796773816317232, 6.961955577580736, 11.984449295041983, 7.934163931219799, 6.985030003820296, 8.399423297894355, 7.232286515803193, 7.593785208954944, 7.040130535347195, 6.968200586703263, 20.360226014041547, 4.647292762271199, 5.637625938924975, 9.925481174059453, 3.78970174942625, 9.49207551624649, 4.0344906540959276, 3.8466238566803765, 3.7460151094653495, 3.657166394090931, 5.921154305856178, 2.993636807472386, 5.0692821523285065, 6.821362439840922, 5.0264876489208765, 2.904645086238627, 2.889204578598877, 3.6073965048827024, 2.8295304335862506, 2.4285700551449567, 20.66900426552945, 2.2969187235305033, 3.032613054435626, 2.2905167362236063, 4.499029237509842, 6.009743685604908, 9.327443870838547, 2.210373777547806, 4.644276988706723, 3.0808580061630026, 7.778576009493985, 19.822939799958608, 11.17113041170924, 31.063325749256286, 6.963326556498331, 8.135052765319823, 11.94010371864486, 18.13412090443812, 8.500507538999564, 19.977232121736236, 7.342765653153959, 10.264878080077219, 8.892109834014631, 14.227936757410054, 10.9303679470138, 6.949103523741852, 10.394102574757538, 7.437238073946941, 9.551941069101618, 10.174456575261322, 7.731074963246447, 7.4540418124419805, 6.760346239840638, 7.678665515888315, 6.89207278703688, 11.170549543370564, 7.697099536779823, 9.245522866908171, 4.661426767728725, 8.326961277249438, 3.4850932519945217, 6.157009191864749, 6.350278781076871, 3.3771726069312367, 5.236004182620868, 8.000446769531266, 2.6677484369598545, 3.3952896260983976, 5.373980353521896, 4.56410774491756, 2.6485198311073272, 2.864025447817662, 6.431988611169183, 3.1062460210631575, 7.52211897094589, 4.115502324513033, 2.817388311915314, 5.852222276289724, 2.0449886266013833, 8.11007583821187, 2.5904329229666136, 1.8751729860410393, 1.8855464059368259, 2.8604850909513164, 1.8688614923152298, 7.5383191913502126, 3.974973368647451, 19.116769270183923, 7.129100714663654, 29.976932289523525, 3.6912305747382717, 5.537129252305313, 11.255933342998288, 8.794150477147088, 9.716665890476062, 14.032082319295956, 12.924337819036605, 5.954275077255204, 6.555634128729075, 5.769001031808584, 8.843399753358472, 8.237428160178586, 6.462813988453642, 6.296330582190059, 6.279771198807642, 6.231865626564937, 5.970402050638678, 8.396032648113644, 11.473112117787153, 7.866891544640857, 3.877186780072119, 3.3680516924941486, 3.367007430353241, 3.680864416564805, 5.586043940464147, 2.518095098253874, 2.5921351938403996, 7.517284254845493, 3.4823692094723735, 2.922137344770538, 2.5837475851951606, 1.7347150800716413, 1.7348334514012782, 1.7307086519785841, 1.7194449983790132, 1.7352936041804152, 2.5482954620535967, 2.525408716798708, 2.492840205728439, 3.31853752383228, 2.5308283940693492, 2.5603704186932825, 2.2941729368098223, 2.4963688244361117, 1.7315237385771807, 1.6873267307680484, 3.389778686989717, 2.889815485679376, 3.38807968906205, 7.7694436537456975, 4.030675297840367, 3.502724393764203, 3.032547707023484, 3.3974949842586586, 12.626905033685334, 5.9461673608047985, 6.296567035847869, 5.9481477834157115, 5.539871915127645, 6.82935188630784, 3.697115701090315, 4.294436528400612, 3.9215945861395087, 6.8819246115784125, 3.9430426783241512, 5.578253053042283, 4.724951072426513, 5.186647543423921, 4.147527799001229, 3.7881762245908135, 3.8367823392171103, 3.7887441187019486, 3.6029944589476948, 6.943730541123829, 3.4702799730133402, 2.3502210881264833, 5.681070022241937, 1.8096032306256145, 4.738902688016087, 1.7285171076888235, 3.357578670174382, 4.868727193104169, 2.512064200091459, 1.8058995153044701, 3.4999108319965084, 2.6023815561101573, 1.819674415715113, 1.8027032088402708, 1.807655417006793, 1.5564790835586497, 1.7471298646058988, 3.4520646768974217, 2.4472170072496806, 3.8728182719816577, 2.618029977073501, 3.426417233134425, 1.4478448644215929, 1.885369515462576, 1.8280235074191846, 1.6547942372995537, 3.207233937247876, 1.8076807022185895, 3.048653043759872, 11.048038620445723, 3.9796843729657483, 4.470597896404009, 7.068501981301706, 3.615566811270085, 2.702998232331527, 7.2893810909996235, 3.881936005713985, 3.606584879012349, 11.538772874573384, 9.350878726678046, 9.419147093906908, 4.86235077407546, 4.45019159407042, 4.5716793659568244, 4.459918729817387, 5.458849375801302, 4.073776896336678, 3.7478777902192997, 3.9520567277845506, 3.6002047666380967, 3.8040007326808607, 3.6952291494999447, 3.5012282199414435, 6.492873647421879, 4.13461470847926, 3.31109196077541, 2.471572519152933, 1.6805002932558872, 1.6922683403237626, 4.74015548728871, 3.287492813678342, 7.255925452574282, 1.7011460396448486, 2.3686344613598, 3.004729601796836, 2.727287429320906, 1.631787939828117, 1.6308940064690396, 3.254754139838317, 1.6551470127749692, 1.208598453186019, 1.6957638388667957, 1.6871958872181814, 3.301647257699677, 3.9043544364275236, 0.8859153868838491, 0.8764259162055811, 0.8862321491982673, 1.895553136832288, 0.8692875328224354, 0.8298836880739523, 0.8909150138191086, 1.6930831422163866, 3.3956037364179545, 1.6915575758173123, 2.8157192075685527, 1.6471558380900058, 2.536391593916829, 2.125684465578131, 3.3639029143212142, 4.114428302913496, 4.0629565942660735, 5.613095047630649, 3.303659592960122, 3.616205871119899, 2.519055812732224, 2.2329429122807323, 2.5315075115331833, 2.207836641775775, 2.568150424737981, 2.2958697676754927, 2.099171641138586], \"Total\": [176.0, 85.0, 70.0, 64.0, 26.0, 50.0, 23.0, 47.0, 66.0, 83.0, 124.0, 16.0, 23.0, 151.0, 13.0, 18.0, 54.0, 34.0, 43.0, 59.0, 30.0, 44.0, 66.0, 87.0, 145.0, 17.0, 86.0, 21.0, 23.0, 24.0, 9.654695977299745, 6.701823202622929, 8.533785202713027, 13.479835070573355, 10.526797899143238, 8.62574785260494, 8.530248116800047, 7.683009642578383, 7.65565300336325, 7.701037676953362, 25.85549847427567, 14.40537375744188, 9.378449636041463, 6.70432619132783, 11.347973530381415, 6.738609153911091, 15.391053817185949, 16.48521569951721, 10.303446785782409, 22.184718187023574, 5.751292670451507, 21.13256699915072, 19.126788024560316, 5.676914962216143, 7.539966644158682, 10.478369835648104, 11.37641560931835, 6.481233456448295, 13.097278550250536, 11.338541388147783, 15.306975044170462, 19.118549775455104, 15.388477559539743, 19.225789980290617, 13.306420431123623, 37.10295812037335, 33.22179866223066, 104.58992350101701, 22.86797407126954, 87.71218416398122, 61.62457596009318, 151.7561007253571, 26.685407456873172, 21.59121756619622, 46.43809079002033, 42.730872134296426, 67.11185114973928, 69.81472497096756, 56.93759982593945, 50.091861051221805, 145.22701189991295, 124.05904633176117, 176.3659658548175, 56.0322510189171, 36.92918366697876, 54.389847904177486, 47.202335691807164, 31.263345501002178, 44.116002861623485, 37.88849249130058, 33.16251779989817, 55.17815473669256, 65.04104313610368, 42.1387544720055, 7.561257802756095, 64.54263684372656, 11.282252414758103, 7.417877239968886, 10.4861600368796, 6.503416198020407, 12.208209395126017, 7.565347595653322, 7.569626699266252, 14.219430043004266, 10.449407615950001, 9.31729068677464, 9.531265681186095, 8.43096375788755, 7.279226849820039, 6.526603210279291, 19.745606049004213, 7.545619585181379, 8.510287843798201, 31.12366054013131, 9.164623488301899, 11.473945958649244, 5.655452049916709, 8.572281435551364, 7.443953696029931, 6.607360262648695, 13.139438511625489, 8.478364893439023, 8.247880131302331, 9.527327854539662, 14.091157065155054, 15.658497729210268, 15.08826833523027, 18.748503685972672, 29.497886563926084, 35.631220037660576, 36.67378532552248, 36.92918366697876, 20.674235096489085, 40.78206493011697, 176.3659658548175, 145.22701189991295, 41.19315811179441, 83.65456693051142, 44.456118370891446, 21.70862374326964, 48.004434985604924, 16.837247460742496, 54.389847904177486, 151.7561007253571, 44.57737624541127, 36.92567001936832, 37.6149757335422, 35.109095529249664, 87.71218416398122, 124.05904633176117, 82.95832737271375, 66.92262503951478, 27.792237522835364, 47.14766587193079, 65.04104313610368, 47.202335691807164, 69.81472497096756, 7.487436796881856, 7.5477487025043075, 13.87829949018764, 12.954038104988596, 8.440142866946871, 9.966514473351463, 9.478012730575738, 12.177309865116806, 12.939632683111018, 8.471566127227405, 16.982714657065998, 5.622796014045109, 9.321207413081012, 47.74835790707154, 7.56422811848201, 13.233848276072525, 6.4696844748329, 5.6410478687208245, 5.665184151285247, 11.217933164139993, 25.521788266550846, 9.32899638731909, 19.779682488886422, 11.983239283910052, 16.858999105863788, 9.501612111372106, 8.548186273558464, 5.493780391156826, 5.344042751617471, 6.479777335581258, 16.179438428633183, 20.192758213409427, 8.41837031690035, 12.902051689134064, 35.977825725418356, 145.22701189991295, 151.7561007253571, 36.92567001936832, 27.624779329110154, 85.5585964290769, 28.467985577397894, 51.878833669083996, 43.29684427533975, 31.938318742061263, 56.59187549331115, 176.3659658548175, 82.95832737271375, 59.23068833227518, 47.14766587193079, 104.58992350101701, 124.05904633176117, 56.0322510189171, 26.048392819672316, 66.00815642701654, 55.17815473669256, 69.81472497096756, 40.78206493011697, 86.66169289870378, 70.54174933676578, 50.369090290772114, 66.92262503951478, 65.04104313610368, 56.93759982593945, 8.77034526311995, 8.729860033581978, 6.80249718145689, 12.658378616076234, 30.068738016659793, 11.601419565962095, 7.734692376809782, 23.63095023849849, 7.663023089661748, 13.592091313762149, 10.59538075330507, 8.699959702242241, 6.525391332576604, 6.762783812151291, 7.716725356186008, 15.924523316237853, 5.644168420338568, 14.504953393991139, 22.11460312208976, 15.359165834268055, 19.96014053473673, 8.318539340919502, 20.265892873034844, 5.7557160176363595, 15.544588805406438, 11.581103993395693, 18.20263086068154, 14.519157010100773, 13.066019206467477, 5.741044187159989, 85.5585964290769, 21.02553105341422, 38.741857795646716, 49.30358640871833, 43.29684427533975, 50.369090290772114, 54.389847904177486, 87.71218416398122, 27.658656947395627, 24.728112780257977, 22.52884636027758, 45.07451179598151, 33.22179866223066, 104.58992350101701, 176.3659658548175, 37.816323067216636, 82.95832737271375, 47.74835790707154, 56.0322510189171, 145.22701189991295, 50.60712503163768, 86.66169289870378, 124.05904633176117, 14.180937986684224, 10.492959031714038, 19.920781543581075, 5.671029486683725, 6.635209100135598, 12.389975149210809, 8.598600981006852, 11.433658754613425, 10.380804879853466, 20.621001510549693, 8.339760168099883, 9.571095082386874, 5.629395012894309, 6.468932646147282, 15.388223495466372, 10.45672095976793, 7.604584590214055, 8.304742671076347, 6.652316394766666, 6.6272737099546735, 8.159939456068642, 8.496625490433429, 6.5286142327647045, 6.53596853177164, 10.330461165817612, 27.733220637671295, 11.428902073619609, 11.436085763321316, 34.57268545254018, 5.691616452111594, 16.849413294840254, 24.728112780257977, 11.068416710026067, 83.65456693051142, 17.984936553198555, 66.92262503951478, 86.66169289870378, 44.456118370891446, 33.02450396558768, 19.7594528329051, 18.758433315069816, 54.63533104075433, 35.646496653606256, 48.004434985604924, 39.17760858501028, 70.54174933676578, 27.487086778649186, 59.23068833227518, 151.7561007253571, 26.844465916716366, 28.76774947031071, 176.3659658548175, 49.30358640871833, 31.263345501002178, 124.05904633176117, 42.1387544720055, 82.95832737271375, 36.1111707075901, 65.04104313610368, 23.41005655134766, 5.814871298106017, 8.556707693355905, 15.370106547153615, 6.751665532955887, 17.38667287396558, 7.660308763345257, 7.69880931781228, 7.595240557598054, 7.666323442330778, 12.920270317372323, 6.558323116354713, 11.215374212783754, 15.297989137373337, 11.508828801352289, 6.698623965357099, 6.770631194931791, 8.497353925743461, 6.761882460481171, 5.803788482696733, 50.091861051221805, 5.753425969666011, 7.646683547478225, 5.788127624630912, 11.473979304434792, 15.388223495466372, 24.009029665955982, 5.729960359760983, 12.442918564981218, 8.524568615903545, 21.64258022388309, 59.23068833227518, 34.57268545254018, 124.05904633176117, 22.184718187023574, 28.33620437653452, 47.87354152519729, 86.66169289870378, 30.760569506129606, 104.58992350101701, 25.208509423811293, 42.62023307328235, 36.1111707075901, 83.65456693051142, 55.17815473669256, 27.733220637671295, 66.92262503951478, 32.97745783588281, 65.04104313610368, 82.95832737271375, 37.816323067216636, 44.57737624541127, 28.25381248675708, 67.11185114973928, 51.878833669083996, 14.807260469625401, 12.126841944334776, 17.704279139873048, 9.088266078512174, 17.05361630350009, 7.494825522754301, 13.563475802138667, 14.090134802445162, 7.56519203507277, 11.89030256880422, 19.458753128167288, 6.510442361012672, 8.300626428904291, 13.171186992521614, 11.353042135884863, 6.619325058389131, 7.317049592816025, 16.4633437453599, 8.193096895641572, 19.96014053473673, 11.068690286088904, 7.613462411065695, 15.899662550179343, 5.581750288432874, 23.52434089700342, 7.516449889359121, 5.4511536849705005, 5.524530418840133, 8.497353925743461, 5.553790704473982, 23.066969979928338, 12.072883533801676, 70.54174933676578, 24.31154873869357, 176.3659658548175, 11.892904524260542, 21.768921680026157, 66.00815642701654, 54.63533104075433, 69.81472497096756, 145.22701189991295, 151.7561007253571, 31.239838938997156, 47.14766587193079, 33.92344993838175, 124.05904633176117, 104.58992350101701, 61.62457596009318, 56.59187549331115, 56.93759982593945, 82.95832737271375, 51.878833669083996, 12.12180678330619, 18.97515980055037, 14.040253840011188, 7.945205547829853, 7.121227909270182, 8.015166094261787, 8.828247684026083, 13.428233327941621, 6.108263895134218, 7.3376401489314285, 21.55559182427932, 10.04809780025187, 9.079075961395807, 8.058435232462116, 5.451183167338355, 5.479067672527939, 5.471158932187133, 5.440281725366727, 5.518332668396546, 8.159939456068642, 8.088571009499075, 8.194839634041486, 11.64548049577677, 8.976147483650834, 9.155810824236807, 8.318539340919502, 9.164623488301899, 6.481233456448295, 6.369859304488135, 12.809333560591856, 11.05864886376869, 14.603089656272674, 50.369090290772114, 19.29625198569994, 15.658497729210268, 12.8352751381084, 15.924523316237853, 145.22701189991295, 44.456118370891446, 54.63533104075433, 50.091861051221805, 45.009397784155624, 87.71218416398122, 22.168549438424584, 33.289260509101354, 26.542719965770523, 151.7561007253571, 29.648521588213928, 124.05904633176117, 66.00815642701654, 104.58992350101701, 50.60712503163768, 37.816323067216636, 61.62457596009318, 67.11185114973928, 82.95832737271375, 11.66723643682452, 9.088266078512174, 6.273681053366529, 17.05361630350009, 5.506377186020226, 14.935609367842366, 5.5546482787759635, 10.897563497426077, 15.910521185655126, 8.976147483650834, 6.549269948579258, 13.563475802138667, 10.251698813137775, 7.382778999558081, 7.318736467070018, 7.402679587625871, 6.508655040604009, 7.400693259184894, 14.63015250095368, 10.387694008877192, 16.4633437453599, 11.202403303932877, 14.902109521009802, 6.49384775632172, 8.556707693355905, 8.314408454609012, 7.534837574638084, 14.95918818563516, 8.513983407558314, 14.735139502851107, 70.54174933676578, 21.336975960981157, 25.208509423811293, 47.74835790707154, 20.219743334244065, 14.006982620050502, 65.04104313610368, 24.97210501397219, 22.515462895440447, 176.3659658548175, 124.05904633176117, 151.7561007253571, 45.07451179598151, 39.17760858501028, 44.456118370891446, 46.43809079002033, 82.95832737271375, 44.57737624541127, 35.363915742569716, 50.60712503163768, 33.289260509101354, 50.091861051221805, 85.5585964290769, 31.938318742061263, 13.856472009128552, 10.636683686275179, 8.748019539635607, 6.9697917894057255, 5.260023363010512, 5.344042751617471, 16.48521569951721, 11.6942498810361, 26.542719965770523, 6.442497699649249, 10.155009137793721, 12.920270317372323, 11.830934500234566, 7.247633340496769, 7.29139316163821, 14.659272594549954, 8.908057733910681, 6.525391332576604, 9.156732916351471, 9.216294924680552, 19.20965615926058, 23.901647843572714, 5.52352424880392, 5.470606455142889, 5.5345900425531305, 12.034946702657278, 5.524530418840133, 5.639074548260685, 6.108263895134218, 11.974220633704364, 26.99040236083699, 12.892507827382744, 23.63095023849849, 12.9912654856174, 24.31154873869357, 18.97515980055037, 43.29684427533975, 66.92262503951478, 66.00815642701654, 176.3659658548175, 54.63533104075433, 87.71218416398122, 38.56864576118742, 24.97210501397219, 44.116002861623485, 35.631220037660576, 151.7561007253571, 83.65456693051142, 69.81472497096756], \"Category\": [\"Default\", \"Default\", \"Default\", \"Default\", \"Default\", \"Default\", \"Default\", \"Default\", \"Default\", \"Default\", \"Default\", \"Default\", \"Default\", \"Default\", \"Default\", \"Default\", \"Default\", \"Default\", \"Default\", \"Default\", \"Default\", \"Default\", \"Default\", \"Default\", \"Default\", \"Default\", \"Default\", \"Default\", \"Default\", \"Default\", \"Topic1\", \"Topic1\", \"Topic1\", \"Topic1\", \"Topic1\", \"Topic1\", \"Topic1\", \"Topic1\", \"Topic1\", \"Topic1\", \"Topic1\", \"Topic1\", \"Topic1\", \"Topic1\", \"Topic1\", \"Topic1\", \"Topic1\", \"Topic1\", \"Topic1\", \"Topic1\", \"Topic1\", \"Topic1\", \"Topic1\", \"Topic1\", \"Topic1\", \"Topic1\", \"Topic1\", \"Topic1\", \"Topic1\", \"Topic1\", \"Topic1\", \"Topic1\", \"Topic1\", \"Topic1\", \"Topic1\", \"Topic1\", \"Topic1\", \"Topic1\", \"Topic1\", \"Topic1\", \"Topic1\", \"Topic1\", \"Topic1\", \"Topic1\", \"Topic1\", \"Topic1\", \"Topic1\", \"Topic1\", \"Topic1\", \"Topic1\", \"Topic1\", \"Topic1\", \"Topic1\", \"Topic1\", \"Topic1\", \"Topic1\", \"Topic1\", \"Topic1\", \"Topic1\", \"Topic1\", \"Topic1\", \"Topic1\", \"Topic1\", \"Topic1\", \"Topic2\", \"Topic2\", \"Topic2\", \"Topic2\", \"Topic2\", \"Topic2\", \"Topic2\", \"Topic2\", \"Topic2\", \"Topic2\", \"Topic2\", \"Topic2\", \"Topic2\", \"Topic2\", \"Topic2\", \"Topic2\", \"Topic2\", \"Topic2\", \"Topic2\", \"Topic2\", \"Topic2\", \"Topic2\", \"Topic2\", \"Topic2\", \"Topic2\", \"Topic2\", \"Topic2\", \"Topic2\", \"Topic2\", \"Topic2\", \"Topic2\", \"Topic2\", \"Topic2\", \"Topic2\", \"Topic2\", \"Topic2\", \"Topic2\", \"Topic2\", \"Topic2\", \"Topic2\", \"Topic2\", \"Topic2\", \"Topic2\", \"Topic2\", \"Topic2\", \"Topic2\", \"Topic2\", \"Topic2\", \"Topic2\", \"Topic2\", \"Topic2\", \"Topic2\", \"Topic2\", \"Topic2\", \"Topic2\", \"Topic2\", \"Topic2\", \"Topic2\", \"Topic2\", \"Topic2\", \"Topic2\", \"Topic2\", \"Topic2\", \"Topic3\", \"Topic3\", \"Topic3\", \"Topic3\", \"Topic3\", \"Topic3\", \"Topic3\", \"Topic3\", \"Topic3\", \"Topic3\", \"Topic3\", \"Topic3\", \"Topic3\", \"Topic3\", \"Topic3\", \"Topic3\", \"Topic3\", \"Topic3\", \"Topic3\", \"Topic3\", \"Topic3\", \"Topic3\", \"Topic3\", \"Topic3\", \"Topic3\", \"Topic3\", \"Topic3\", \"Topic3\", \"Topic3\", \"Topic3\", \"Topic3\", \"Topic3\", \"Topic3\", \"Topic3\", \"Topic3\", \"Topic3\", \"Topic3\", \"Topic3\", \"Topic3\", \"Topic3\", \"Topic3\", \"Topic3\", \"Topic3\", \"Topic3\", \"Topic3\", \"Topic3\", \"Topic3\", \"Topic3\", \"Topic3\", \"Topic3\", \"Topic3\", \"Topic3\", \"Topic3\", \"Topic3\", \"Topic3\", \"Topic3\", \"Topic3\", \"Topic3\", \"Topic3\", \"Topic3\", \"Topic3\", \"Topic3\", \"Topic3\", \"Topic4\", \"Topic4\", \"Topic4\", \"Topic4\", \"Topic4\", \"Topic4\", \"Topic4\", \"Topic4\", \"Topic4\", \"Topic4\", \"Topic4\", \"Topic4\", \"Topic4\", \"Topic4\", \"Topic4\", \"Topic4\", \"Topic4\", \"Topic4\", \"Topic4\", \"Topic4\", \"Topic4\", \"Topic4\", \"Topic4\", \"Topic4\", \"Topic4\", \"Topic4\", \"Topic4\", \"Topic4\", \"Topic4\", \"Topic4\", \"Topic4\", \"Topic4\", \"Topic4\", \"Topic4\", \"Topic4\", \"Topic4\", \"Topic4\", \"Topic4\", \"Topic4\", \"Topic4\", \"Topic4\", \"Topic4\", \"Topic4\", \"Topic4\", \"Topic4\", \"Topic4\", \"Topic4\", \"Topic4\", \"Topic4\", \"Topic4\", \"Topic4\", \"Topic4\", \"Topic4\", \"Topic5\", \"Topic5\", \"Topic5\", \"Topic5\", \"Topic5\", \"Topic5\", \"Topic5\", \"Topic5\", \"Topic5\", \"Topic5\", \"Topic5\", \"Topic5\", \"Topic5\", \"Topic5\", \"Topic5\", \"Topic5\", \"Topic5\", \"Topic5\", \"Topic5\", \"Topic5\", \"Topic5\", \"Topic5\", \"Topic5\", \"Topic5\", \"Topic5\", \"Topic5\", \"Topic5\", \"Topic5\", \"Topic5\", \"Topic5\", \"Topic5\", \"Topic5\", \"Topic5\", \"Topic5\", \"Topic5\", \"Topic5\", \"Topic5\", \"Topic5\", \"Topic5\", \"Topic5\", \"Topic5\", \"Topic5\", \"Topic5\", \"Topic5\", \"Topic5\", \"Topic5\", \"Topic5\", \"Topic5\", \"Topic5\", \"Topic5\", \"Topic5\", \"Topic5\", \"Topic5\", \"Topic5\", \"Topic5\", \"Topic5\", \"Topic5\", \"Topic5\", \"Topic5\", \"Topic6\", \"Topic6\", \"Topic6\", \"Topic6\", \"Topic6\", \"Topic6\", \"Topic6\", \"Topic6\", \"Topic6\", \"Topic6\", \"Topic6\", \"Topic6\", \"Topic6\", \"Topic6\", \"Topic6\", \"Topic6\", \"Topic6\", \"Topic6\", \"Topic6\", \"Topic6\", \"Topic6\", \"Topic6\", \"Topic6\", \"Topic6\", \"Topic6\", \"Topic6\", \"Topic6\", \"Topic6\", \"Topic6\", \"Topic6\", \"Topic6\", \"Topic6\", \"Topic6\", \"Topic6\", \"Topic6\", \"Topic6\", \"Topic6\", \"Topic6\", \"Topic6\", \"Topic6\", \"Topic6\", \"Topic6\", \"Topic6\", \"Topic6\", \"Topic6\", \"Topic6\", \"Topic6\", \"Topic6\", \"Topic6\", \"Topic6\", \"Topic6\", \"Topic6\", \"Topic6\", \"Topic6\", \"Topic6\", \"Topic7\", \"Topic7\", \"Topic7\", \"Topic7\", \"Topic7\", \"Topic7\", \"Topic7\", \"Topic7\", \"Topic7\", \"Topic7\", \"Topic7\", \"Topic7\", \"Topic7\", \"Topic7\", \"Topic7\", \"Topic7\", \"Topic7\", \"Topic7\", \"Topic7\", \"Topic7\", \"Topic7\", \"Topic7\", \"Topic7\", \"Topic7\", \"Topic7\", \"Topic7\", \"Topic7\", \"Topic7\", \"Topic7\", \"Topic7\", \"Topic7\", \"Topic7\", \"Topic7\", \"Topic7\", \"Topic7\", \"Topic7\", \"Topic7\", \"Topic7\", \"Topic7\", \"Topic7\", \"Topic7\", \"Topic7\", \"Topic7\", \"Topic7\", \"Topic7\", \"Topic7\", \"Topic7\", \"Topic7\", \"Topic7\", \"Topic7\", \"Topic7\", \"Topic7\", \"Topic8\", \"Topic8\", \"Topic8\", \"Topic8\", \"Topic8\", \"Topic8\", \"Topic8\", \"Topic8\", \"Topic8\", \"Topic8\", \"Topic8\", \"Topic8\", \"Topic8\", \"Topic8\", \"Topic8\", \"Topic8\", \"Topic8\", \"Topic8\", \"Topic8\", \"Topic8\", \"Topic8\", \"Topic8\", \"Topic8\", \"Topic8\", \"Topic8\", \"Topic8\", \"Topic8\", \"Topic8\", \"Topic8\", \"Topic8\", \"Topic8\", \"Topic8\", \"Topic8\", \"Topic8\", \"Topic8\", \"Topic8\", \"Topic8\", \"Topic8\", \"Topic8\", \"Topic8\", \"Topic8\", \"Topic8\", \"Topic8\", \"Topic8\", \"Topic8\", \"Topic8\", \"Topic8\", \"Topic8\", \"Topic8\", \"Topic8\", \"Topic8\", \"Topic8\", \"Topic8\", \"Topic8\", \"Topic8\", \"Topic8\", \"Topic9\", \"Topic9\", \"Topic9\", \"Topic9\", \"Topic9\", \"Topic9\", \"Topic9\", \"Topic9\", \"Topic9\", \"Topic9\", \"Topic9\", \"Topic9\", \"Topic9\", \"Topic9\", \"Topic9\", \"Topic9\", \"Topic9\", \"Topic9\", \"Topic9\", \"Topic9\", \"Topic9\", \"Topic9\", \"Topic9\", \"Topic9\", \"Topic9\", \"Topic9\", \"Topic9\", \"Topic9\", \"Topic9\", \"Topic9\", \"Topic9\", \"Topic9\", \"Topic9\", \"Topic9\", \"Topic9\", \"Topic9\", \"Topic9\", \"Topic9\", \"Topic9\", \"Topic9\", \"Topic9\", \"Topic9\", \"Topic9\", \"Topic9\", \"Topic9\", \"Topic9\", \"Topic9\", \"Topic9\", \"Topic9\", \"Topic9\", \"Topic9\", \"Topic9\", \"Topic9\", \"Topic9\", \"Topic10\", \"Topic10\", \"Topic10\", \"Topic10\", \"Topic10\", \"Topic10\", \"Topic10\", \"Topic10\", \"Topic10\", \"Topic10\", \"Topic10\", \"Topic10\", \"Topic10\", \"Topic10\", \"Topic10\", \"Topic10\", \"Topic10\", \"Topic10\", \"Topic10\", \"Topic10\", \"Topic10\", \"Topic10\", \"Topic10\", \"Topic10\", \"Topic10\", \"Topic10\", \"Topic10\", \"Topic10\", \"Topic10\", \"Topic10\", \"Topic10\", \"Topic10\", \"Topic10\", \"Topic10\", \"Topic10\", \"Topic10\", \"Topic10\", \"Topic10\", \"Topic10\", \"Topic10\", \"Topic10\", \"Topic10\", \"Topic10\", \"Topic10\", \"Topic10\", \"Topic10\", \"Topic10\", \"Topic10\", \"Topic10\"], \"logprob\": [30.0, 29.0, 28.0, 27.0, 26.0, 25.0, 24.0, 23.0, 22.0, 21.0, 20.0, 19.0, 18.0, 17.0, 16.0, 15.0, 14.0, 13.0, 12.0, 11.0, 10.0, 9.0, 8.0, 7.0, 6.0, 5.0, 4.0, 3.0, 2.0, 1.0, -5.5793, -6.1897, -5.9662, -5.5244, -5.7924, -6.0038, -6.0272, -6.135, -6.1762, -6.1707, -4.9604, -5.5662, -6.0093, -6.347, -5.8211, -6.3482, -5.531, -5.4883, -6.0058, -5.2488, -6.6027, -5.3104, -5.4143, -6.631, -6.3496, -6.0308, -5.9486, -6.5279, -5.8264, -5.9926, -5.6991, -5.4964, -5.7186, -5.5281, -5.8565, -5.024, -5.1701, -4.3424, -5.4618, -4.5414, -4.7868, -4.2335, -5.3684, -5.5104, -5.032, -5.1244, -4.8887, -4.8668, -5.0263, -5.1601, -4.6836, -4.7637, -4.6145, -5.1351, -5.3141, -5.1825, -5.2489, -5.3826, -5.3082, -5.3502, -5.4183, -5.3783, -5.3773, -5.413, -5.7648, -3.7557, -5.5303, -5.9895, -5.6993, -6.1793, -5.5871, -6.1153, -6.1323, -5.5062, -5.8261, -5.9495, -5.9586, -6.0951, -6.2507, -6.3622, -5.2563, -6.2192, -6.1139, -4.8537, -6.0958, -5.8747, -6.6229, -6.2108, -6.359, -6.4793, -5.7959, -6.2344, -6.2728, -6.1387, -5.7555, -5.6568, -5.7024, -5.5114, -5.1067, -4.9579, -5.0022, -5.0271, -5.4823, -4.9769, -3.907, -4.1666, -5.0729, -4.6296, -5.0411, -5.4915, -5.0431, -5.6542, -5.0888, -4.6715, -5.2465, -5.3296, -5.3299, -5.3616, -5.0325, -5.0266, -5.2061, -5.2879, -5.4832, -5.4323, -5.4116, -5.4597, -5.4465, -5.9782, -5.9977, -5.4106, -5.4866, -5.9313, -5.7947, -5.8626, -5.6355, -5.6016, -6.0558, -5.418, -6.5504, -6.0523, -4.4242, -6.2742, -5.7158, -6.4388, -6.5839, -6.5797, -5.9229, -5.1228, -6.1319, -5.4042, -5.9161, -5.5806, -6.1584, -6.2643, -6.7082, -6.7403, -6.5495, -5.6657, -5.487, -6.3078, -5.9212, -5.0176, -3.8184, -3.7835, -5.0086, -5.2838, -4.3809, -5.3009, -4.8555, -5.0149, -5.2384, -4.8616, -4.1295, -4.6805, -4.8871, -5.0859, -4.7363, -4.6644, -5.0469, -5.4052, -4.9987, -5.116, -5.0726, -5.2631, -5.1788, -5.2347, -5.3147, -5.2862, -5.2977, -5.3508, -5.3306, -5.4658, -5.7927, -5.1818, -4.3349, -5.3319, -5.8153, -4.7263, -5.8602, -5.293, -5.5476, -5.7996, -6.1054, -6.08, -5.9545, -5.2329, -6.2863, -5.3431, -4.9421, -5.3493, -5.0926, -5.9722, -5.0926, -6.3515, -5.3601, -5.655, -5.2197, -5.4658, -5.579, -6.4099, -3.7175, -5.1455, -4.7947, -4.6715, -4.7667, -4.7478, -4.731, -4.442, -5.1751, -5.2765, -5.3258, -5.0985, -5.2182, -4.813, -4.7446, -5.1953, -5.0155, -5.2135, -5.2213, -5.1434, -5.2499, -5.2288, -5.2541, -4.9023, -5.2141, -4.6046, -5.973, -5.8884, -5.3061, -5.6947, -5.4903, -5.5933, -4.9114, -5.8439, -5.7269, -6.2663, -6.1309, -5.269, -5.6708, -6.0051, -5.9348, -6.1665, -6.1788, -5.9716, -5.9399, -6.2124, -6.2132, -5.7644, -4.7782, -5.6697, -5.67, -4.5638, -6.3786, -5.301, -4.9702, -5.7222, -3.9538, -5.32, -4.2665, -4.0886, -4.6445, -4.8856, -5.3166, -5.3645, -4.7558, -5.0157, -4.8697, -4.9842, -4.701, -5.2754, -4.9561, -4.5786, -5.3268, -5.3028, -4.7596, -5.172, -5.2994, -5.1151, -5.2647, -5.2159, -5.2916, -5.3019, -4.0607, -5.538, -5.3448, -4.7792, -5.742, -4.8238, -5.6794, -5.7271, -5.7536, -5.7776, -5.2957, -5.9778, -5.4511, -5.1542, -5.4595, -6.0079, -6.0133, -5.7913, -6.0341, -6.187, -4.0456, -6.2427, -5.9648, -6.2455, -5.5704, -5.2809, -4.8413, -6.2811, -5.5386, -5.949, -5.0229, -4.0874, -4.6609, -3.6382, -5.1336, -4.9781, -4.5944, -4.1765, -4.9341, -4.0797, -5.0805, -4.7455, -4.8891, -4.419, -4.6827, -5.1356, -4.733, -5.0678, -4.8175, -4.7544, -5.029, -5.0655, -5.1632, -5.0358, -5.1439, -4.5759, -4.9483, -4.765, -5.4498, -4.8697, -5.7407, -5.1716, -5.1407, -5.7721, -5.3336, -4.9097, -6.0079, -5.7668, -5.3076, -5.4709, -6.0152, -5.9369, -5.1279, -5.8557, -4.9713, -5.5744, -5.9533, -5.2223, -6.2738, -4.896, -6.0373, -6.3605, -6.3549, -5.9382, -6.3638, -4.9692, -5.6091, -4.0386, -5.025, -3.5887, -5.6832, -5.2777, -4.5683, -4.8151, -4.7153, -4.3478, -4.43, -5.205, -5.1088, -5.2367, -4.8095, -4.8805, -5.1231, -5.1492, -5.1518, -5.1595, -5.2023, -4.5236, -4.2113, -4.5887, -5.2962, -5.437, -5.4373, -5.3482, -4.9311, -5.7278, -5.6989, -4.6341, -5.4036, -5.579, -5.7021, -6.1005, -6.1004, -6.1028, -6.1093, -6.1002, -5.7159, -5.7249, -5.7379, -5.4518, -5.7228, -5.7112, -5.821, -5.7365, -6.1023, -6.1282, -5.4306, -5.5901, -5.4311, -4.6011, -5.2574, -5.3978, -5.5419, -5.4283, -4.1155, -4.8686, -4.8113, -4.8683, -4.9394, -4.7301, -5.3438, -5.194, -5.2848, -4.7224, -5.2794, -4.9325, -5.0985, -5.0053, -5.2288, -5.3195, -5.3067, -5.3193, -5.3696, -4.4758, -5.1694, -5.5591, -4.6765, -5.8205, -4.8578, -5.8664, -5.2024, -4.8308, -5.4925, -5.8226, -5.1609, -5.4572, -5.815, -5.8243, -5.8216, -5.9712, -5.8557, -5.1747, -5.5187, -5.0597, -5.4512, -5.1821, -6.0436, -5.7795, -5.8104, -5.91, -5.2482, -5.8216, -5.2989, -4.0114, -5.0324, -4.9161, -4.458, -5.1284, -5.4193, -4.4272, -5.0573, -5.1309, -3.9679, -4.1782, -4.1709, -4.8321, -4.9207, -4.8938, -4.9185, -4.7164, -5.0091, -5.0924, -5.0394, -5.1326, -5.0776, -5.1066, -5.1605, -3.9539, -4.4052, -4.6273, -4.9197, -5.3055, -5.2985, -4.2685, -4.6344, -3.8427, -5.2933, -4.9622, -4.7244, -4.8213, -5.3349, -5.3354, -4.6444, -5.3207, -5.6351, -5.2964, -5.3015, -4.6301, -4.4625, -5.9457, -5.9565, -5.9453, -5.1851, -5.9646, -6.011, -5.9401, -5.298, -4.6021, -5.2989, -4.7893, -5.3255, -4.8938, -5.0705, -4.6115, -4.4101, -4.4227, -4.0995, -4.6295, -4.5391, -4.9007, -5.0212, -4.8957, -5.0325, -4.8814, -4.9935, -5.083], \"loglift\": [30.0, 29.0, 28.0, 27.0, 26.0, 25.0, 24.0, 23.0, 22.0, 21.0, 20.0, 19.0, 18.0, 17.0, 16.0, 15.0, 14.0, 13.0, 12.0, 11.0, 10.0, 9.0, 8.0, 7.0, 6.0, 5.0, 4.0, 3.0, 2.0, 1.0, 1.6483, 1.403, 1.3848, 1.3695, 1.3488, 1.3365, 1.3242, 1.321, 1.2834, 1.283, 1.2822, 1.2612, 1.2473, 1.2454, 1.2449, 1.239, 1.2303, 1.2043, 1.1568, 1.1468, 1.143, 1.1338, 1.1297, 1.1277, 1.1252, 1.115, 1.1149, 1.0983, 1.0963, 1.0743, 1.0676, 1.048, 1.0429, 1.0107, 1.0503, 0.8574, 0.8218, 0.5026, 0.9035, 0.4796, 0.5872, 0.2393, 0.8426, 0.9124, 0.625, 0.6158, 0.4001, 0.3825, 0.4268, 0.4211, -0.1668, -0.0894, -0.292, 0.3341, 0.572, 0.3164, 0.3917, 0.67, 0.4, 0.5102, 0.5753, 0.1062, -0.0573, 0.3411, 1.7073, 1.572, 1.5415, 1.5016, 1.4458, 1.4434, 1.4058, 1.3562, 1.3386, 1.3343, 1.3224, 1.3137, 1.2819, 1.2681, 1.2594, 1.2569, 1.2559, 1.2549, 1.2399, 1.2034, 1.1839, 1.1803, 1.1395, 1.1357, 1.1287, 1.1275, 1.1235, 1.1232, 1.1123, 1.1022, 1.0941, 1.0872, 1.0787, 1.0526, 1.004, 0.9639, 0.8908, 0.859, 0.9839, 0.8099, 0.4155, 0.3502, 0.7039, 0.4387, 0.6595, 0.9258, 0.5807, 1.0172, 0.4101, -0.1987, 0.4513, 0.5566, 0.5377, 0.575, -0.0115, -0.3523, -0.1294, 0.0036, 0.6871, 0.2094, -0.0915, 0.1809, -0.1972, 1.5036, 1.4761, 1.4541, 1.4471, 1.4307, 1.4012, 1.3835, 1.36, 1.3332, 1.3025, 1.2448, 1.2178, 1.2105, 1.205, 1.1974, 1.1964, 1.1891, 1.1811, 1.181, 1.1546, 1.1327, 1.1301, 1.1063, 1.0955, 1.0896, 1.0852, 1.0851, 1.0833, 1.0788, 1.0769, 1.0457, 1.0027, 1.0568, 1.0164, 0.8945, 0.6984, 0.6893, 0.8776, 0.8925, 0.665, 0.8454, 0.6907, 0.7121, 0.7929, 0.5976, 0.193, 0.3962, 0.5265, 0.5558, 0.1087, 0.0099, 0.4223, 0.8299, 0.3066, 0.3685, 0.1767, 0.5238, -0.1458, 0.0042, 0.261, 0.0054, 0.0223, 0.1023, 1.9931, 1.8625, 1.7851, 1.775, 1.7567, 1.712, 1.6341, 1.6062, 1.5985, 1.5925, 1.5871, 1.5321, 1.514, 1.5037, 1.4972, 1.4943, 1.4781, 1.4775, 1.4567, 1.4141, 1.4087, 1.4044, 1.3935, 1.3934, 1.3913, 1.3906, 1.3738, 1.3538, 1.3461, 1.3375, 1.3284, 1.3039, 1.0434, 0.9256, 0.9603, 0.8279, 0.7679, 0.579, 1.0, 1.0106, 1.0545, 0.5882, 0.7736, 0.0321, -0.4221, 0.667, 0.0613, 0.4157, 0.2478, -0.6266, 0.321, -0.1957, -0.5798, 1.9409, 1.9302, 1.8987, 1.7867, 1.7143, 1.672, 1.6488, 1.5682, 1.5618, 1.5574, 1.5301, 1.5094, 1.5008, 1.4972, 1.4924, 1.4771, 1.4613, 1.4434, 1.4336, 1.4251, 1.4242, 1.4155, 1.4064, 1.4045, 1.3955, 1.3942, 1.3893, 1.3883, 1.3882, 1.3774, 1.3697, 1.3169, 1.3687, 1.1145, 1.2856, 1.025, 0.9444, 1.0561, 1.1123, 1.1948, 1.1989, 0.7386, 0.9057, 0.7541, 0.8427, 0.5379, 0.9059, 0.4575, -0.1058, 0.8782, 0.8331, -0.4371, 0.425, 0.7532, -0.4407, 0.4894, -0.1392, 0.6169, 0.0182, 2.2812, 2.1967, 2.0036, 1.9835, 1.8433, 1.8156, 1.7796, 1.7269, 1.714, 1.6807, 1.6405, 1.6366, 1.6267, 1.6131, 1.5924, 1.5852, 1.5692, 1.564, 1.5496, 1.5496, 1.5356, 1.5026, 1.496, 1.4938, 1.4846, 1.4806, 1.4753, 1.4683, 1.4353, 1.4031, 1.3975, 1.3262, 1.2911, 1.0361, 1.2621, 1.1729, 1.0322, 0.8566, 1.1347, 0.7654, 1.1873, 0.9972, 1.0194, 0.6493, 0.8018, 1.0368, 0.5585, 0.9315, 0.5025, 0.3224, 0.8333, 0.6323, 0.9907, 0.2529, 0.4023, 2.2241, 2.0513, 1.8562, 1.8382, 1.789, 1.7402, 1.7161, 1.7089, 1.6994, 1.6857, 1.6171, 1.6137, 1.612, 1.6094, 1.5946, 1.5899, 1.5679, 1.5661, 1.536, 1.53, 1.5166, 1.5118, 1.5064, 1.5018, 1.441, 1.4406, 1.4388, 1.4309, 1.4171, 1.4168, 1.3875, 1.395, 1.2003, 1.2791, 0.7338, 1.3359, 1.1369, 0.737, 0.6793, 0.5339, 0.169, 0.0427, 0.8483, 0.533, 0.7343, -0.1352, -0.0354, 0.2509, 0.31, 0.3013, -0.0828, 0.3438, 2.4765, 2.3406, 2.2645, 2.1263, 2.095, 1.9764, 1.9689, 1.9666, 1.9576, 1.8032, 1.7903, 1.7841, 1.7101, 1.7062, 1.6987, 1.6937, 1.6928, 1.6919, 1.6868, 1.6799, 1.6797, 1.6536, 1.5883, 1.5777, 1.5695, 1.5556, 1.5432, 1.5238, 1.5153, 1.5143, 1.5017, 1.3828, 0.9745, 1.2777, 1.3463, 1.4009, 1.2989, 0.4013, 0.832, 0.6831, 0.7129, 0.7488, 0.2909, 1.0526, 0.7958, 0.9315, -0.2496, 0.8263, -0.2582, 0.2068, -0.1602, 0.3421, 0.5429, 0.0673, -0.0306, -0.2928, 2.5625, 2.1187, 2.0996, 1.9822, 1.9686, 1.9335, 1.9141, 1.9041, 1.8973, 1.808, 1.7931, 1.7268, 1.7104, 1.6809, 1.6803, 1.6716, 1.6507, 1.6378, 1.6373, 1.6358, 1.6343, 1.6277, 1.6114, 1.5807, 1.5688, 1.5667, 1.5656, 1.5415, 1.5318, 1.5059, 1.2275, 1.4022, 1.3518, 1.1711, 1.36, 1.4362, 0.8928, 1.22, 1.25, 0.3546, 0.4961, 0.3019, 0.8546, 0.9063, 0.8068, 0.7384, 0.3603, 0.6888, 0.8369, 0.5316, 0.8572, 0.5036, -0.0607, 0.8707, 2.9125, 2.7256, 2.699, 2.6338, 2.5295, 2.5206, 2.4241, 2.4015, 2.3736, 2.3389, 2.2149, 2.2119, 2.2031, 2.1795, 2.1729, 2.1655, 1.9874, 1.9843, 1.9841, 1.9726, 1.9095, 1.8587, 1.8404, 1.8392, 1.8387, 1.8222, 1.8212, 1.7543, 1.7454, 1.7143, 1.5975, 1.6395, 1.5432, 1.6053, 1.4103, 1.4815, 1.1155, 0.8815, 0.8826, 0.223, 0.8649, 0.4819, 0.942, 1.2561, 0.8125, 0.8893, -0.4086, 0.0749, 0.1662]}, \"token.table\": {\"Topic\": [2, 4, 7, 1, 4, 8, 9, 2, 6, 7, 10, 1, 2, 8, 1, 3, 9, 4, 6, 7, 1, 2, 5, 8, 10, 1, 2, 3, 4, 5, 7, 8, 9, 2, 4, 5, 1, 2, 8, 1, 6, 7, 1, 2, 9, 1, 2, 3, 4, 5, 6, 7, 8, 9, 10, 1, 2, 4, 3, 4, 10, 2, 5, 7, 8, 9, 1, 2, 3, 4, 5, 6, 7, 8, 9, 1, 2, 3, 6, 1, 2, 3, 4, 5, 6, 7, 8, 9, 1, 2, 3, 4, 5, 6, 7, 8, 9, 10, 2, 3, 4, 5, 6, 7, 8, 9, 10, 1, 2, 3, 4, 5, 6, 7, 8, 9, 10, 4, 7, 9, 10, 3, 5, 6, 7, 8, 9, 3, 4, 5, 7, 1, 2, 3, 4, 5, 8, 9, 2, 3, 4, 7, 10, 2, 3, 4, 5, 1, 6, 7, 8, 1, 3, 4, 9, 3, 5, 7, 8, 3, 5, 9, 1, 4, 6, 9, 1, 2, 5, 6, 8, 9, 3, 4, 6, 2, 3, 4, 1, 2, 3, 4, 10, 3, 6, 7, 1, 6, 10, 1, 2, 3, 4, 5, 6, 7, 8, 9, 2, 4, 5, 6, 9, 10, 3, 4, 6, 1, 2, 4, 3, 5, 8, 1, 5, 8, 1, 2, 3, 4, 5, 7, 9, 1, 2, 4, 6, 7, 10, 2, 5, 6, 8, 9, 3, 4, 6, 2, 3, 4, 5, 9, 1, 2, 4, 5, 6, 7, 2, 3, 4, 6, 7, 3, 7, 10, 2, 7, 8, 9, 1, 5, 7, 8, 1, 2, 3, 4, 6, 7, 8, 9, 1, 2, 4, 5, 7, 8, 3, 6, 9, 10, 3, 5, 9, 1, 2, 4, 5, 8, 2, 8, 9, 2, 3, 4, 5, 6, 10, 3, 4, 6, 9, 1, 3, 6, 1, 2, 3, 4, 2, 5, 7, 8, 9, 1, 3, 10, 1, 3, 4, 5, 9, 6, 9, 2, 3, 5, 6, 8, 9, 1, 3, 4, 5, 6, 7, 1, 4, 5, 7, 5, 6, 7, 9, 1, 2, 3, 4, 5, 6, 7, 8, 10, 2, 6, 7, 9, 4, 5, 7, 8, 2, 3, 5, 1, 3, 6, 8, 1, 2, 3, 4, 5, 6, 7, 4, 1, 2, 3, 8, 1, 3, 7, 10, 1, 3, 6, 9, 5, 7, 9, 10, 2, 4, 5, 8, 9, 1, 2, 8, 1, 5, 8, 9, 1, 2, 3, 4, 5, 7, 8, 10, 1, 2, 4, 5, 7, 8, 10, 1, 2, 3, 7, 10, 3, 5, 7, 9, 1, 2, 3, 4, 5, 6, 7, 1, 2, 3, 4, 5, 7, 8, 9, 1, 3, 4, 7, 9, 2, 5, 9, 1, 3, 5, 3, 4, 5, 7, 8, 1, 2, 3, 5, 6, 7, 8, 1, 2, 3, 4, 5, 6, 7, 8, 9, 1, 2, 3, 4, 5, 6, 7, 8, 9, 10, 1, 2, 3, 5, 7, 9, 1, 2, 3, 4, 5, 7, 8, 9, 10, 2, 3, 4, 5, 6, 7, 7, 9, 1, 3, 4, 5, 7, 1, 2, 3, 4, 5, 1, 2, 5, 6, 8, 1, 2, 3, 4, 5, 6, 7, 8, 9, 10, 1, 6, 7, 8, 9, 1, 5, 6, 7, 8, 9, 4, 7, 8, 1, 2, 3, 9, 2, 3, 6, 8, 10, 1, 3, 5, 6, 1, 2, 3, 4, 5, 6, 7, 8, 9, 2, 4, 8, 1, 2, 3, 4, 5, 6, 7, 8, 9, 1, 4, 10, 1, 2, 3, 4, 6, 7, 8, 10, 2, 4, 7, 8, 1, 4, 5, 7, 8, 9, 10, 1, 3, 5, 6, 7, 10, 1, 2, 5, 1, 2, 3, 8, 9, 10, 1, 2, 4, 5, 6, 7, 8, 9, 2, 3, 4, 9, 1, 2, 3, 5, 6, 7, 8, 2, 3, 5, 8, 1, 3, 7, 8, 1, 4, 6, 10, 2, 3, 5, 7, 8, 9, 1, 2, 3, 5, 6, 7, 9, 1, 4, 8, 1, 2, 3, 5, 6, 8, 9, 10, 1, 2, 3, 4, 5, 8, 9, 10, 1, 4, 1, 2, 4, 7, 8, 9, 10, 1, 3, 1, 7, 8, 2, 3, 6, 1, 2, 3, 4, 5, 7, 8, 9, 10, 1, 2, 3, 4, 6, 7, 8, 1, 2, 3, 4, 5, 6, 7, 8, 9, 1, 2, 4, 1, 4, 7, 9, 1, 5, 7, 8, 2, 3, 4, 7, 10, 1, 2, 4, 6, 10, 1, 3, 5, 6, 7, 10, 1, 2, 3, 4, 5, 6, 7, 8, 9, 10, 1, 2, 3, 5, 7, 8, 9, 1, 3, 4, 5, 6, 10, 1, 2, 3, 4, 5, 6, 7, 8, 9, 3, 5, 7, 8, 10, 1, 2, 3, 6, 7, 2, 6, 7, 8, 1, 2, 3, 4, 6, 8, 2, 5, 6, 1, 2, 4, 5, 6, 5, 7, 9, 1, 2, 3, 4, 5, 6, 8, 9, 10, 1, 2, 5, 2, 5, 9, 1, 3, 4, 5, 2, 4, 1, 3, 8, 1, 2, 6, 2, 3, 7, 1, 4, 8, 4, 5, 7, 8, 1, 4, 8, 3, 4, 5, 8, 10, 1, 2, 3, 4, 5, 6, 7, 8, 9, 10, 1, 2, 3, 4, 6, 7, 8, 9, 10, 1, 3, 5, 8, 2, 3, 8, 2, 4, 6, 7, 1, 2, 3, 4, 7, 8, 9, 2, 3, 8, 10, 1, 2, 3, 4, 5, 1, 3, 4, 8, 4, 5, 6, 2, 4, 5, 6, 7, 8, 10, 1, 2, 3, 4, 5, 6, 8, 9, 2, 5, 7, 1, 2, 3, 4, 5, 6, 7, 8, 9, 10, 1, 2, 3, 4, 5, 6, 7, 8, 10, 2, 4, 6, 9, 1, 3, 4, 6, 7, 8, 9, 10, 1, 2, 3, 5, 6, 6, 1, 2, 3, 4, 5, 6, 7, 8, 1, 2, 3, 4, 5, 6, 7, 8, 10, 1, 2, 3, 4, 5, 6, 7, 8, 9, 10, 1, 2, 3, 4, 6, 7, 8, 1, 2, 3, 5, 6, 9, 10, 1, 2, 3, 4, 5, 6, 7, 8, 9, 1, 2, 3, 4, 5, 6, 8, 10, 1, 2, 3, 10, 2, 3, 6, 9, 1, 2, 3, 4, 9, 10, 2, 3, 5, 7, 1, 2, 3, 4, 7, 8, 10, 2, 5, 3, 4, 8, 10, 1, 2, 4, 2, 4, 8, 1, 2, 7, 1, 2, 3, 4, 5, 6, 7, 8, 3, 4, 7, 8, 9, 2, 3, 4, 5, 6, 7, 9, 10, 1, 2, 3, 5, 6, 1, 6, 10, 1, 2, 3, 4, 5, 6, 7, 8, 9, 10, 1, 3, 4, 5, 7, 9, 1, 4, 5, 7, 1, 3, 4, 7, 1, 2, 3, 4, 5, 6, 7, 8, 10, 1, 3, 8, 10, 3, 8, 10, 1, 2, 4, 5, 1, 5, 6, 1, 2, 3, 4, 5, 6, 7, 10, 1, 3, 5, 6, 7, 8, 9, 1, 2, 3, 4, 5, 6, 7, 8, 1, 5, 7, 1, 2, 3, 4, 5, 6, 7, 8, 10, 2, 3, 4, 6, 7, 8, 1, 2, 3, 4, 5, 1, 2, 3, 4, 5, 7, 8, 9, 1, 2, 3, 6, 7, 2, 3, 5, 6, 9, 1, 2, 4, 7, 8, 1, 2, 3, 4, 5, 6, 7, 8, 9, 10, 1, 2, 3, 5, 6, 8, 1, 3, 7, 8, 1, 2, 3, 4, 5, 6, 7, 8, 9, 10, 1, 2, 3, 5, 6, 7, 8, 9, 1, 6, 9, 1, 3, 4, 5, 6, 1, 2, 3, 5, 7, 5, 6, 9, 2, 4, 6, 7, 8, 9, 1, 2, 4, 1, 2, 3, 4, 5, 7, 8, 9, 10, 2, 4, 6, 7, 1, 2, 3, 4, 7, 9, 1, 3, 8, 3, 4, 7, 1, 2, 5, 7, 10, 1, 2, 3, 4, 7, 9, 2, 3, 5, 6, 7, 1, 4, 10, 1, 2, 9, 1, 1, 2, 8, 2, 7, 8, 9, 1, 4, 5, 7, 2, 3, 4, 5, 7, 8, 9, 10, 1, 2, 3, 7, 9, 1, 2, 3, 4, 7, 10, 1, 6, 9, 1, 2, 4, 8, 9, 10, 1, 2, 3, 1, 3, 5, 10, 1, 2, 4, 5, 7, 9, 4, 5, 6, 9, 1, 2, 6, 7, 9, 1, 2, 3, 4, 5, 7, 8, 9, 10, 1, 2, 6, 8, 9, 10, 1, 2, 3, 8, 1, 2, 6, 10, 1, 2, 3, 4, 6, 8, 9, 1, 2, 3, 4, 6, 7, 8, 10, 2, 3, 7, 1, 4, 5, 1, 2, 3, 5, 6, 7, 8, 1, 2, 3, 4, 5, 6, 7, 8, 9, 10, 1, 2, 4, 9, 1, 2, 5, 10, 1, 2, 3, 6, 8, 1, 2, 3, 4, 5, 6, 7, 8, 9, 10, 1, 3, 4, 6, 7, 9, 2, 3, 5, 8, 1, 3, 7, 8, 5, 6, 7, 1, 2, 3, 5, 6, 8, 9, 10, 1, 2, 4, 5, 9, 10, 3, 4, 6, 2, 6, 8, 9, 1, 3, 5, 8, 9, 10, 1, 2, 3, 4, 8, 9, 2, 3, 4, 1, 5, 4, 6, 7, 8, 9, 1, 2, 3, 3, 5, 6, 8, 1, 2, 3, 4, 5, 7, 9, 6, 7, 9, 1, 2, 4, 5, 9, 1, 3, 4, 5, 7, 8, 10, 1, 2, 9, 1, 2, 3, 4, 5, 7, 8, 9, 10, 2, 3, 5, 6, 1, 2, 3, 4, 5, 6, 7, 8, 9, 10, 1, 2, 3, 5, 6, 7, 10, 3, 4, 5, 7, 8, 4, 5, 1, 2, 5, 7, 2, 5, 8, 9, 2, 5, 6, 7, 4, 8, 9, 1, 4, 8, 1, 2, 4, 5, 7, 9, 3, 4, 7, 8, 1, 3, 7, 2, 3, 6, 2, 4, 5, 1, 3, 4, 5, 1, 2, 6, 1, 2, 3, 4, 5, 6, 7, 8, 9, 4, 5, 7, 8, 1, 7, 1, 3, 7, 8, 1, 2, 3, 4, 5, 6, 7, 8, 9, 10, 3, 6, 8, 10, 1, 2, 3, 4, 5, 6, 7, 8, 9, 10, 1, 2, 3, 4, 5, 6, 7, 8, 9, 10, 1, 2, 3, 4, 8, 3, 5, 6, 1, 6, 7, 10, 2, 7, 8, 2, 5, 7, 8, 9, 1, 2, 3, 6, 7, 10, 2, 6, 9, 2, 5, 8, 1, 2, 3, 4, 5, 6, 7, 8, 9, 10, 4, 7, 8, 9, 4, 5, 6, 7, 9, 1, 2, 3, 5, 6, 7, 9, 10, 1, 2, 3, 4, 7, 9, 4, 6, 7, 1, 4, 3, 4, 5, 8, 9, 1, 2, 3, 4, 8, 1, 2, 3, 4, 5, 8, 1, 2, 3, 4, 6, 8, 3, 4, 5, 1, 8, 9, 1, 3, 4, 5, 6, 2, 3, 8, 1, 2, 3, 8, 1, 2, 8, 1, 2, 4, 6, 1, 3, 4, 5, 1, 2, 3, 4, 5, 7, 2, 3, 7, 8, 3, 4, 10, 1, 3, 5, 1, 4, 5, 8, 9, 1, 2, 3, 4, 5, 6, 8, 9, 10, 2, 3, 4, 7, 8, 9, 10, 2, 3, 1, 2, 3, 7, 8, 9, 10, 1, 2, 5, 6, 1, 2, 3, 1, 2, 3, 5, 6, 7, 8, 10, 1, 2, 3, 4, 6, 9, 1, 2, 3, 4, 1, 2, 3, 4, 5, 6, 7, 8, 9, 10, 1, 2, 3, 4, 5, 7, 8, 9, 1, 2, 3, 4, 5, 6, 7, 9, 1, 2, 3, 5, 9, 10, 1, 2, 4, 5, 2, 3, 4, 6, 2, 4, 1, 4, 1, 3, 4, 5, 7, 8, 9, 2, 3, 6, 10, 1, 3, 4, 5, 9, 10, 3, 6, 2, 3, 4, 6, 8, 1, 2, 5, 6, 8, 1, 2, 3, 4, 5, 6, 7, 8, 9, 10, 1, 3, 4, 5, 9, 1, 2, 8, 10, 1, 2, 3, 4, 5, 6, 7, 8, 9, 2, 3, 4, 1, 2, 3, 4, 5, 6, 7, 8, 10, 2, 3, 4, 1, 2, 3, 4, 5, 6, 7, 8, 9, 5, 6, 7, 9, 10, 1, 2, 3, 4, 5, 6, 7, 9, 10, 7, 8, 9, 1, 2, 5, 7, 10, 2, 4, 5, 2, 8, 2, 3, 4, 5, 6, 7, 8, 1, 2, 3, 4, 5, 6, 8, 10, 1, 2, 3, 4, 5, 6, 7, 8, 9, 10, 3, 4, 6, 7, 8, 1, 2, 3, 5, 8, 9, 10, 1, 5, 8, 10, 1, 2, 3, 4, 6, 7, 2, 3, 1, 2, 3, 4, 5, 6, 9, 1, 2, 4, 5, 6, 7, 8, 9, 2, 3, 5, 6, 7, 9, 10], \"Freq\": [0.4198448989129776, 0.3148836741847332, 0.1049612247282444, 0.15306880912971801, 0.45920642738915407, 0.15306880912971801, 0.15306880912971801, 0.1810108595998913, 0.1810108595998913, 0.3620217191997826, 0.1810108595998913, 0.08249595277967733, 0.16499190555935467, 0.6599676222374187, 0.26742894222172797, 0.4457149037028799, 0.17828596148115197, 0.295775623384273, 0.44366343507640943, 0.1478878116921365, 0.15810143532561902, 0.052700478441873005, 0.052700478441873005, 0.5797052628606031, 0.10540095688374601, 0.022494091626649313, 0.29242319114644105, 0.022494091626649313, 0.06748227487994794, 0.29242319114644105, 0.044988183253298626, 0.13496454975989589, 0.11247045813324658, 0.30064715526359914, 0.15032357763179957, 0.4509707328953987, 0.5305063256611163, 0.26525316283055816, 0.13262658141527908, 0.5966296814695672, 0.1491574203673918, 0.1491574203673918, 0.08863478348453885, 0.7090782678763108, 0.08863478348453885, 0.14138705782462865, 0.16966446938955437, 0.19794188095448012, 0.11310964625970292, 0.08483223469477719, 0.02827741156492573, 0.08483223469477719, 0.08483223469477719, 0.11310964625970292, 0.02827741156492573, 0.650786636045666, 0.1301573272091332, 0.1301573272091332, 0.25390430513560425, 0.5924433786497432, 0.12695215256780212, 0.12148200456324, 0.18222300684485998, 0.36444601368971996, 0.06074100228162, 0.24296400912648, 0.3230106954186743, 0.17227237088995961, 0.08613618544497981, 0.043068092722489904, 0.043068092722489904, 0.1292042781674697, 0.08613618544497981, 0.021534046361244952, 0.08613618544497981, 0.5226375542466658, 0.1959890828424997, 0.13065938856166645, 0.13065938856166645, 0.11565410352653249, 0.09637841960544374, 0.30841094273742, 0.09637841960544374, 0.0385513678421775, 0.13492978744762124, 0.11565410352653249, 0.057827051763266246, 0.01927568392108875, 0.3042296904014278, 0.18721827101626326, 0.046804567754065815, 0.16381598713923035, 0.11701141938516454, 0.023402283877032908, 0.09360913550813163, 0.023402283877032908, 0.023402283877032908, 0.023402283877032908, 0.38174406802389566, 0.19087203401194783, 0.16360460058166956, 0.02726743343027826, 0.05453486686055652, 0.05453486686055652, 0.02726743343027826, 0.05453486686055652, 0.02726743343027826, 0.21226621029542464, 0.060647488655835614, 0.21226621029542464, 0.060647488655835614, 0.060647488655835614, 0.21226621029542464, 0.030323744327917807, 0.060647488655835614, 0.060647488655835614, 0.030323744327917807, 0.41392822443669225, 0.13797607481223073, 0.13797607481223073, 0.27595214962446146, 0.16816749818517127, 0.08408374909258563, 0.08408374909258563, 0.33633499637034253, 0.16816749818517127, 0.16816749818517127, 0.11769378338799633, 0.11769378338799633, 0.4707751335519853, 0.23538756677599265, 0.02094312859818578, 0.08377251439274312, 0.5026350863564587, 0.18848815738367203, 0.04188625719637156, 0.02094312859818578, 0.14660190018730046, 0.1810438326973115, 0.1810438326973115, 0.1810438326973115, 0.1810438326973115, 0.1810438326973115, 0.5301088869965672, 0.1325272217491418, 0.1325272217491418, 0.1325272217491418, 0.12047283522094406, 0.2409456704418881, 0.3614185056628322, 0.2409456704418881, 0.30537754829206004, 0.15268877414603002, 0.15268877414603002, 0.30537754829206004, 0.07122378351524186, 0.21367135054572556, 0.07122378351524186, 0.5697902681219349, 0.3632152198141578, 0.1816076099070789, 0.3632152198141578, 0.1492843911184811, 0.1492843911184811, 0.44785317335544333, 0.1492843911184811, 0.09373399509177834, 0.281201985275335, 0.281201985275335, 0.04686699754588917, 0.09373399509177834, 0.18746799018355667, 0.6330440959046414, 0.21101469863488048, 0.10550734931744024, 0.1741843412800286, 0.1741843412800286, 0.5225530238400858, 0.21438533331608972, 0.10719266665804486, 0.42877066663217944, 0.10719266665804486, 0.10719266665804486, 0.5318160862691431, 0.17727202875638104, 0.17727202875638104, 0.3104386052181108, 0.3104386052181108, 0.3104386052181108, 0.1333054938609319, 0.17774065848124254, 0.1333054938609319, 0.1333054938609319, 0.08887032924062127, 0.1333054938609319, 0.044435164620310635, 0.1333054938609319, 0.044435164620310635, 0.1371480014630459, 0.1371480014630459, 0.1371480014630459, 0.1371480014630459, 0.1371480014630459, 0.2742960029260918, 0.17380948417035955, 0.17380948417035955, 0.3476189683407191, 0.6492631525441478, 0.12985263050882956, 0.12985263050882956, 0.12254992887922574, 0.49019971551690295, 0.3676497866376772, 0.2889949319654631, 0.4816582199424385, 0.0963316439884877, 0.05493711363229601, 0.16481134089688804, 0.05493711363229601, 0.4944340226906641, 0.05493711363229601, 0.05493711363229601, 0.05493711363229601, 0.041650996059118844, 0.20825498029559422, 0.20825498029559422, 0.37485896453206957, 0.08330199211823769, 0.041650996059118844, 0.44704160776175833, 0.06386308682310833, 0.12772617364621666, 0.2554523472924333, 0.06386308682310833, 0.46793552128981253, 0.11698388032245313, 0.23396776064490626, 0.36851714298472066, 0.04606464287309008, 0.23032321436545042, 0.13819392861927024, 0.13819392861927024, 0.0745032516647901, 0.2980130066591604, 0.26076138082676537, 0.26076138082676537, 0.03725162583239505, 0.03725162583239505, 0.19532310754185994, 0.13021540502790663, 0.5208616201116265, 0.06510770251395331, 0.06510770251395331, 0.3742485030447527, 0.18712425152237636, 0.3742485030447527, 0.07372741431383846, 0.4423644858830308, 0.14745482862767692, 0.2211822429415154, 0.12205396966951086, 0.12205396966951086, 0.36616190900853257, 0.24410793933902172, 0.17645270811713043, 0.21174324974055653, 0.03529054162342609, 0.03529054162342609, 0.2823243329874087, 0.07058108324685218, 0.07058108324685218, 0.10587162487027826, 0.06289441658550925, 0.1257888331710185, 0.1257888331710185, 0.18868324975652775, 0.3773664995130555, 0.06289441658550925, 0.08571009985224665, 0.1714201997044933, 0.5999706989657265, 0.08571009985224665, 0.30634372451702513, 0.45951558677553767, 0.15317186225851256, 0.09952132432219495, 0.09952132432219495, 0.1990426486443899, 0.09952132432219495, 0.2985639729665848, 0.5495089083669498, 0.2747544541834749, 0.13737722709173744, 0.09847356968673887, 0.09847356968673887, 0.19694713937347774, 0.09847356968673887, 0.2954207090602166, 0.19694713937347774, 0.13054304087389032, 0.13054304087389032, 0.5221721634955613, 0.13054304087389032, 0.5216218634487408, 0.17387395448291362, 0.17387395448291362, 0.19737595698644364, 0.14803196773983274, 0.09868797849322182, 0.4934398924661091, 0.27391463684411627, 0.20543597763308719, 0.13695731842205813, 0.20543597763308719, 0.06847865921102907, 0.3613637116069741, 0.3613637116069741, 0.18068185580348706, 0.178533118808341, 0.178533118808341, 0.178533118808341, 0.178533118808341, 0.2677996782125115, 0.7012042733046575, 0.23373475776821917, 0.20359495065652614, 0.20359495065652614, 0.13572996710435076, 0.13572996710435076, 0.13572996710435076, 0.20359495065652614, 0.061806842333308264, 0.43264789633315787, 0.24722736933323305, 0.061806842333308264, 0.061806842333308264, 0.061806842333308264, 0.09438075169578639, 0.5662845101747184, 0.09438075169578639, 0.18876150339157277, 0.15359939379671494, 0.15359939379671494, 0.46079818139014483, 0.15359939379671494, 0.04836938321214219, 0.43532444890927974, 0.04836938321214219, 0.04836938321214219, 0.04836938321214219, 0.14510814963642657, 0.09673876642428438, 0.04836938321214219, 0.04836938321214219, 0.1316613993219253, 0.5266455972877012, 0.1316613993219253, 0.1316613993219253, 0.18344641324688218, 0.18344641324688218, 0.18344641324688218, 0.36689282649376437, 0.5304615746930756, 0.17682052489769187, 0.17682052489769187, 0.1825128032300099, 0.1825128032300099, 0.1825128032300099, 0.3650256064600198, 0.10428344431656363, 0.06952229621104242, 0.17380574052760606, 0.17380574052760606, 0.24332803673864847, 0.17380574052760606, 0.03476114810552121, 0.9121647734486216, 0.23252115805167328, 0.0775070526838911, 0.3875352634194555, 0.23252115805167328, 0.639764591467437, 0.10662743191123951, 0.10662743191123951, 0.10662743191123951, 0.1072822388435043, 0.5364111942175215, 0.1072822388435043, 0.2145644776870086, 0.15939605336860224, 0.15939605336860224, 0.3187921067372045, 0.15939605336860224, 0.12476347816621286, 0.12476347816621286, 0.12476347816621286, 0.3742904344986386, 0.12476347816621286, 0.5823294014852701, 0.19410980049509002, 0.19410980049509002, 0.1204131229114163, 0.4816524916456652, 0.1204131229114163, 0.2408262458228326, 0.3913093367451984, 0.09030215463350733, 0.03010071821116911, 0.270906463900522, 0.06020143642233822, 0.09030215463350733, 0.06020143642233822, 0.06020143642233822, 0.08351274213081193, 0.08351274213081193, 0.16702548426162386, 0.2505382263924358, 0.16702548426162386, 0.08351274213081193, 0.16702548426162386, 0.2259340788968538, 0.05648351972421345, 0.1129670394484269, 0.508351677517921, 0.05648351972421345, 0.1529995126413101, 0.4589985379239303, 0.1529995126413101, 0.1529995126413101, 0.08124429423830183, 0.27081431412767276, 0.3520586083659746, 0.1083257256510691, 0.05416286282553455, 0.027081431412767275, 0.1083257256510691, 0.18043580213087057, 0.13532685159815291, 0.13532685159815291, 0.04510895053271764, 0.13532685159815291, 0.09021790106543529, 0.18043580213087057, 0.09021790106543529, 0.0821199436555857, 0.5748396055890999, 0.0821199436555857, 0.0821199436555857, 0.0821199436555857, 0.27024495273031734, 0.405367429095476, 0.27024495273031734, 0.3513940225641871, 0.17569701128209356, 0.3513940225641871, 0.08410214914325495, 0.08410214914325495, 0.08410214914325495, 0.4205107457162748, 0.1682042982865099, 0.0744699600891793, 0.0744699600891793, 0.0744699600891793, 0.0744699600891793, 0.0744699600891793, 0.1489399201783586, 0.4468197605350759, 0.10415704302111563, 0.2708083118549006, 0.06249422581266938, 0.0833256344168925, 0.22914549464645437, 0.06249422581266938, 0.06249422581266938, 0.06249422581266938, 0.06249422581266938, 0.2533084650290717, 0.11920398354309258, 0.13410448148597914, 0.11920398354309258, 0.07450248971443287, 0.11920398354309258, 0.04470149382865972, 0.05960199177154629, 0.04470149382865972, 0.014900497942886573, 0.1325533159647029, 0.4639366058764602, 0.1325533159647029, 0.1325533159647029, 0.06627665798235145, 0.06627665798235145, 0.1483698358781446, 0.09891322391876306, 0.09891322391876306, 0.09891322391876306, 0.19782644783752612, 0.09891322391876306, 0.04945661195938153, 0.19782644783752612, 0.09891322391876306, 0.793518771151142, 0.15107280442930213, 0.15107280442930213, 0.15107280442930213, 0.15107280442930213, 0.45321841328790635, 0.5501599487521324, 0.3300959692512794, 0.45488580484432045, 0.129967372812663, 0.19495105921899447, 0.0649836864063315, 0.0649836864063315, 0.08744250617700648, 0.17488501235401296, 0.08744250617700648, 0.17488501235401296, 0.43721253088503237, 0.26146116533785924, 0.0871537217792864, 0.0871537217792864, 0.3486148871171456, 0.0871537217792864, 0.03586175997410856, 0.2390783998273904, 0.03586175997410856, 0.08367743993958664, 0.322755839766977, 0.16735487987917327, 0.0597695999568476, 0.01195391999136952, 0.01195391999136952, 0.02390783998273904, 0.19834572191234487, 0.2776840106772828, 0.19834572191234487, 0.07933828876493795, 0.1586765775298759, 0.259523198523344, 0.019963322963334154, 0.4192297822300172, 0.09981661481667077, 0.11977993778000492, 0.07985329185333662, 0.4808536494290179, 0.12021341235725448, 0.24042682471450896, 0.11878783688007213, 0.23757567376014427, 0.47515134752028854, 0.11878783688007213, 0.11327276213708976, 0.2265455242741795, 0.11327276213708976, 0.453091048548359, 0.11327276213708976, 0.1298902153202261, 0.1298902153202261, 0.1298902153202261, 0.5195608612809044, 0.26344629991175617, 0.08781543330391872, 0.1580677799470537, 0.10537851996470246, 0.10537851996470246, 0.08781543330391872, 0.10537851996470246, 0.017563086660783746, 0.05268925998235123, 0.36555326299038554, 0.18277663149519277, 0.36555326299038554, 0.10385211388057959, 0.06923474258705306, 0.12693036140959726, 0.10385211388057959, 0.2653998465837034, 0.20770422776115918, 0.05769561882254422, 0.03461737129352653, 0.03461737129352653, 0.35466812557334954, 0.35466812557334954, 0.17733406278667477, 0.10411430498384226, 0.15617145747576341, 0.20822860996768452, 0.05205715249192113, 0.05205715249192113, 0.15617145747576341, 0.05205715249192113, 0.15617145747576341, 0.5930520096616798, 0.11861040193233596, 0.23722080386467193, 0.11861040193233596, 0.07756442837878857, 0.38782214189394293, 0.07756442837878857, 0.07756442837878857, 0.07756442837878857, 0.15512885675757715, 0.15512885675757715, 0.08551211152257343, 0.2565363345677203, 0.17102422304514686, 0.08551211152257343, 0.08551211152257343, 0.2565363345677203, 0.13149962212095687, 0.26299924424191373, 0.3944988663628706, 0.13670397488130273, 0.20505596232195408, 0.27340794976260546, 0.06835198744065137, 0.20505596232195408, 0.06835198744065137, 0.056965295455526165, 0.28482647727763083, 0.17089588636657851, 0.17089588636657851, 0.14241323863881541, 0.08544794318328926, 0.056965295455526165, 0.028482647727763082, 0.4717890831869477, 0.11794727079673692, 0.11794727079673692, 0.11794727079673692, 0.10845543879697238, 0.7436944374649535, 0.015493634113853197, 0.04648090234155959, 0.030987268227706394, 0.015493634113853197, 0.015493634113853197, 0.23981504979605148, 0.11990752489802574, 0.47963009959210295, 0.11990752489802574, 0.17915527358368427, 0.17915527358368427, 0.35831054716736854, 0.17915527358368427, 0.15247800119915805, 0.15247800119915805, 0.4574340035974742, 0.15247800119915805, 0.0834498899928256, 0.417249449964128, 0.1668997799856512, 0.0834498899928256, 0.0834498899928256, 0.0834498899928256, 0.5228269371291826, 0.15684808113875479, 0.052282693712918264, 0.052282693712918264, 0.052282693712918264, 0.052282693712918264, 0.052282693712918264, 0.3624283130761555, 0.18121415653807774, 0.3624283130761555, 0.41683614980984846, 0.09263025551329966, 0.13894538326994949, 0.04631512775664983, 0.09263025551329966, 0.09263025551329966, 0.04631512775664983, 0.04631512775664983, 0.09904540919386921, 0.04952270459693461, 0.39618163677547685, 0.09904540919386921, 0.04952270459693461, 0.1485681137908038, 0.04952270459693461, 0.09904540919386921, 0.4132471324489352, 0.4821216545237577, 0.21335035942056194, 0.42670071884112387, 0.10667517971028097, 0.053337589855140484, 0.053337589855140484, 0.053337589855140484, 0.053337589855140484, 0.7460656374884856, 0.14921312749769713, 0.2733342141023106, 0.41000132115346594, 0.2733342141023106, 0.17651676861609739, 0.5295503058482921, 0.17651676861609739, 0.15529840970177886, 0.17748389680203297, 0.15529840970177886, 0.22185487100254123, 0.08874194840101648, 0.02218548710025412, 0.04437097420050824, 0.11092743550127061, 0.02218548710025412, 0.07678016888971194, 0.2303405066691358, 0.3455107600037037, 0.03839008444485597, 0.03839008444485597, 0.07678016888971194, 0.1151702533345679, 0.3083185515516409, 0.12981833749542773, 0.0973637531215708, 0.06490916874771387, 0.11359104530849928, 0.0973637531215708, 0.0973637531215708, 0.06490916874771387, 0.016227292186928467, 0.17374032994954114, 0.17374032994954114, 0.5212209898486234, 0.1330415308715992, 0.2660830617431984, 0.39912459261479766, 0.1330415308715992, 0.15417226274675253, 0.25695377124458757, 0.4111260339913401, 0.15417226274675253, 0.09401426511256784, 0.09401426511256784, 0.1880285302251357, 0.1880285302251357, 0.3760570604502714, 0.14268367312001123, 0.14268367312001123, 0.4280510193600337, 0.09512244874667415, 0.09512244874667415, 0.4509101475529845, 0.15030338251766148, 0.07515169125883074, 0.15030338251766148, 0.07515169125883074, 0.07515169125883074, 0.1537490716296506, 0.13837416446668555, 0.1537490716296506, 0.10762435014075543, 0.10762435014075543, 0.1537490716296506, 0.015374907162965062, 0.04612472148889518, 0.10762435014075543, 0.015374907162965062, 0.20419827265977827, 0.07657435224741685, 0.22972305674225058, 0.25524784082472285, 0.05104956816494457, 0.07657435224741685, 0.10209913632988914, 0.09043797842350816, 0.04521898921175408, 0.4974088813292949, 0.2260949460587704, 0.04521898921175408, 0.04521898921175408, 0.1812311420655422, 0.10873868523932533, 0.21747737047865065, 0.05436934261966266, 0.0906155710327711, 0.1993542562720964, 0.07249245682621688, 0.01812311420655422, 0.03624622841310844, 0.34348088955630457, 0.17174044477815228, 0.08587022238907614, 0.25761066716722847, 0.08587022238907614, 0.08036699708172601, 0.16073399416345202, 0.16073399416345202, 0.40183498540863005, 0.08036699708172601, 0.14042522058565668, 0.14042522058565668, 0.14042522058565668, 0.42127566175697, 0.1808539202788665, 0.1808539202788665, 0.1808539202788665, 0.09042696013943324, 0.09042696013943324, 0.27128088041829973, 0.06498475930601194, 0.45489331514208364, 0.3899085558360717, 0.17430795013396136, 0.5229238504018842, 0.08715397506698068, 0.08715397506698068, 0.08715397506698068, 0.36011439869148376, 0.36011439869148376, 0.18005719934574188, 0.16839165186199836, 0.39291385434466286, 0.056130550620666124, 0.11226110124133225, 0.08419582593099918, 0.028065275310333062, 0.028065275310333062, 0.08419582593099918, 0.056130550620666124, 0.1912645472414315, 0.1912645472414315, 0.47816136810357873, 0.5366366863596103, 0.10732733727192204, 0.21465467454384407, 0.5847552810159383, 0.12994561800354185, 0.12994561800354185, 0.12994561800354185, 0.46662023757304727, 0.34996517817978545, 0.18202402149340918, 0.36404804298681837, 0.18202402149340918, 0.34553488272946176, 0.17276744136473088, 0.34553488272946176, 0.1335570539195002, 0.6677852695975011, 0.1335570539195002, 0.46287485555936064, 0.15429161851978687, 0.30858323703957374, 0.500998476568687, 0.0500998476568687, 0.4007987812549496, 0.0500998476568687, 0.13628359795562184, 0.4088507938668655, 0.4088507938668655, 0.24818714084135343, 0.12409357042067672, 0.12409357042067672, 0.37228071126203016, 0.12409357042067672, 0.12474062041034695, 0.23247115621928297, 0.18144090241505012, 0.07938039480658442, 0.06804033840564379, 0.034020169202821894, 0.1701008460141095, 0.011340056400940633, 0.06804033840564379, 0.034020169202821894, 0.16167460047398732, 0.023096371496283904, 0.30025282945169074, 0.32334920094797465, 0.023096371496283904, 0.04619274299256781, 0.023096371496283904, 0.023096371496283904, 0.06928911448885172, 0.21844051153893432, 0.10922025576946716, 0.3276607673084015, 0.3276607673084015, 0.6552967549191862, 0.2457362830946948, 0.08191209436489827, 0.08619634815500882, 0.6895707852400705, 0.08619634815500882, 0.08619634815500882, 0.3553113714406494, 0.08882784286016235, 0.13324176429024354, 0.08882784286016235, 0.044413921430081174, 0.044413921430081174, 0.1776556857203247, 0.1901132240271385, 0.1901132240271385, 0.1901132240271385, 0.380226448054277, 0.08071041208373174, 0.08071041208373174, 0.08071041208373174, 0.16142082416746348, 0.5649728845861222, 0.06279622819103942, 0.12559245638207883, 0.5651660537193548, 0.18838868457311828, 0.057515316889488265, 0.3450919013369296, 0.5176378520053944, 0.04113271477470411, 0.24679628864822464, 0.04113271477470411, 0.20566357387352052, 0.28792900342292876, 0.04113271477470411, 0.12339814432411232, 0.40428043368767014, 0.16171217347506806, 0.10780811565004536, 0.1347601445625567, 0.05390405782502268, 0.05390405782502268, 0.05390405782502268, 0.05390405782502268, 0.13342538755091743, 0.26685077510183486, 0.40027616265275234, 0.25422470782696505, 0.19066853087022378, 0.12711235391348252, 0.06355617695674126, 0.10592696159456877, 0.08474156927565502, 0.08474156927565502, 0.04237078463782751, 0.06355617695674126, 0.021185392318913754, 0.07321269815343967, 0.036606349076719835, 0.16472857084523926, 0.05490952361507976, 0.21963809446031904, 0.10981904723015952, 0.16472857084523926, 0.10981904723015952, 0.05490952361507976, 0.04271668450721587, 0.04271668450721587, 0.8543336901443174, 0.04271668450721587, 0.36276474857332697, 0.20729414204190114, 0.051823535510475284, 0.051823535510475284, 0.051823535510475284, 0.20729414204190114, 0.051823535510475284, 0.051823535510475284, 0.03605783883036125, 0.2163470329821675, 0.03605783883036125, 0.432694065964335, 0.25240487181252874, 0.8598642590126746, 0.23731123820101063, 0.11865561910050532, 0.07119337146030319, 0.14238674292060638, 0.16611786674070744, 0.16611786674070744, 0.047462247640202126, 0.023731123820101063, 0.23200924045709065, 0.12492805255381804, 0.23200924045709065, 0.1606217818549089, 0.07138745860218174, 0.07138745860218174, 0.0535405939516363, 0.03569372930109087, 0.017846864650545434, 0.27727336467282154, 0.038244602023837455, 0.17210070910726855, 0.12429495657747174, 0.028683451517878093, 0.1912230101191873, 0.07648920404767491, 0.047805752529796824, 0.028683451517878093, 0.019122301011918728, 0.19616466242473454, 0.34328815924328543, 0.24520582803091817, 0.049041165606183636, 0.049041165606183636, 0.09808233121236727, 0.024520582803091818, 0.1092092571810485, 0.1092092571810485, 0.1092092571810485, 0.218418514362097, 0.1092092571810485, 0.1092092571810485, 0.218418514362097, 0.1121645197885484, 0.2467619435348065, 0.06729871187312904, 0.13459742374625808, 0.08973161583083872, 0.15703032770396777, 0.08973161583083872, 0.02243290395770968, 0.08973161583083872, 0.30154525842518226, 0.15077262921259113, 0.12061810337007291, 0.21108168089762758, 0.030154525842518227, 0.060309051685036454, 0.09046357752755468, 0.030154525842518227, 0.3323654104024252, 0.24927405780181888, 0.1661827052012126, 0.1661827052012126, 0.30728314644470667, 0.15364157322235333, 0.15364157322235333, 0.30728314644470667, 0.6168502227520374, 0.0881214603931482, 0.0881214603931482, 0.0881214603931482, 0.0881214603931482, 0.0881214603931482, 0.07051719716558885, 0.07051719716558885, 0.7051719716558885, 0.07051719716558885, 0.2023709675421104, 0.13491397836140692, 0.3035564513131656, 0.13491397836140692, 0.03372849459035173, 0.13491397836140692, 0.06745698918070346, 0.17633482639230197, 0.7053393055692079, 0.6175680459762738, 0.15439201149406845, 0.07719600574703422, 0.07719600574703422, 0.12928762402991076, 0.12928762402991076, 0.6464381201495538, 0.5455761501148634, 0.10911523002297269, 0.21823046004594537, 0.13210691091238794, 0.5284276436495517, 0.13210691091238794, 0.106049788627537, 0.1908896195295666, 0.2545194927060888, 0.1272597463530444, 0.106049788627537, 0.0212099577255074, 0.14846970407855178, 0.0424199154510148, 0.24726246424136417, 0.12363123212068208, 0.12363123212068208, 0.3708936963620463, 0.12363123212068208, 0.2296852399716104, 0.04593704799432208, 0.1837481919772883, 0.04593704799432208, 0.09187409598864416, 0.27562228796593247, 0.04593704799432208, 0.04593704799432208, 0.02892456825122118, 0.17354740950732708, 0.02892456825122118, 0.4338685237683177, 0.31817025076343297, 0.7030877690819431, 0.11718129484699052, 0.11718129484699052, 0.10602228584400189, 0.1236926668180022, 0.2650557146100047, 0.10602228584400189, 0.053011142922000945, 0.1236926668180022, 0.10602228584400189, 0.017670380974000314, 0.053011142922000945, 0.017670380974000314, 0.10846513645639919, 0.28924036388373114, 0.32539540936919753, 0.18077522742733196, 0.03615504548546639, 0.03615504548546639, 0.6247668510059005, 0.0694185390006556, 0.1388370780013112, 0.1388370780013112, 0.2590426613655138, 0.08634755378850459, 0.5180853227310276, 0.08634755378850459, 0.14460119867007046, 0.22034468368772642, 0.30297394007062384, 0.06197194228717306, 0.0413146281914487, 0.034428856826207256, 0.09640079911338031, 0.08951502774813885, 0.0068857713652414505, 0.10033598031426202, 0.6020158818855722, 0.20067196062852405, 0.10033598031426202, 0.32742527735142224, 0.4911379160271333, 0.16371263867571112, 0.11494306114340622, 0.11494306114340622, 0.574715305717031, 0.11494306114340622, 0.4179250091623231, 0.5224062614529039, 0.10448125229058078, 0.07471314816248953, 0.14942629632497906, 0.14942629632497906, 0.029885259264995814, 0.2988525926499581, 0.14942629632497906, 0.07471314816248953, 0.05977051852999163, 0.14026623846341332, 0.22442598154146132, 0.25247922923414395, 0.14026623846341332, 0.084159743078048, 0.084159743078048, 0.05610649538536533, 0.14621855365172198, 0.16710691845911083, 0.020888364807388853, 0.16710691845911083, 0.10444182403694427, 0.2506603776886662, 0.10444182403694427, 0.041776729614777706, 0.653112150956087, 0.13062243019121741, 0.13062243019121741, 0.08441569971212826, 0.08441569971212826, 0.25324709913638477, 0.01688313994242565, 0.1688313994242565, 0.337662798848513, 0.0337662798848513, 0.01688313994242565, 0.01688313994242565, 0.1322180369337534, 0.23799246648075612, 0.23799246648075612, 0.21154885909400545, 0.07933082216025204, 0.10577442954700272, 0.2895950734914955, 0.07239876837287387, 0.36199384186436934, 0.18099692093218467, 0.07239876837287387, 0.11869849501599287, 0.11869849501599287, 0.05934924750799644, 0.05934924750799644, 0.4154447325559751, 0.05934924750799644, 0.05934924750799644, 0.05934924750799644, 0.0653680683794563, 0.0653680683794563, 0.1961042051383689, 0.4575764786561941, 0.1961042051383689, 0.2673941894681875, 0.20054564210114062, 0.06684854736704687, 0.20054564210114062, 0.20054564210114062, 0.11014336748056694, 0.11014336748056694, 0.11014336748056694, 0.22028673496113388, 0.33043010244170085, 0.1531528780995932, 0.1047888113313006, 0.1531528780995932, 0.06448542235772345, 0.06448542235772345, 0.24988101163617835, 0.07254610015243887, 0.04836406676829258, 0.07254610015243887, 0.008060677794715431, 0.22240834646083946, 0.1668062598456296, 0.055602086615209864, 0.38921460630646904, 0.055602086615209864, 0.055602086615209864, 0.3122722959066404, 0.2342042219299803, 0.1561361479533202, 0.2342042219299803, 0.09643395971639757, 0.13259669461004667, 0.22903065432644423, 0.13259669461004667, 0.09643395971639757, 0.12054244964549696, 0.07232546978729817, 0.04821697985819878, 0.06027122482274848, 0.012054244964549696, 0.1938458339299615, 0.1384613099499725, 0.0830767859699835, 0.1938458339299615, 0.2492303579099505, 0.0276922619899945, 0.055384523979989, 0.0276922619899945, 0.46981533889870963, 0.23490766944935482, 0.23490766944935482, 0.4681212064225387, 0.2080538695211283, 0.10402693476056415, 0.05201346738028208, 0.10402693476056415, 0.2712058703820313, 0.40680880557304694, 0.16950366898876956, 0.10170220139326173, 0.033900733797753914, 0.19518407310947164, 0.6506135770315722, 0.13012271540631443, 0.1350862195456324, 0.1350862195456324, 0.1350862195456324, 0.1350862195456324, 0.1350862195456324, 0.2701724390912648, 0.14786810103307038, 0.14786810103307038, 0.5914724041322815, 0.13897412003254778, 0.11912067431361237, 0.19853445718935395, 0.27794824006509555, 0.019853445718935395, 0.019853445718935395, 0.15882756575148316, 0.03970689143787079, 0.019853445718935395, 0.13134628451656397, 0.3940388535496919, 0.13134628451656397, 0.3940388535496919, 0.15167078650962193, 0.15167078650962193, 0.4550123595288658, 0.05055692883654064, 0.15167078650962193, 0.05055692883654064, 0.5274068921221055, 0.2637034460610527, 0.08790114868701758, 0.13049680110570316, 0.6524840055285157, 0.13049680110570316, 0.21700694436808318, 0.21700694436808318, 0.32551041655212476, 0.10850347218404159, 0.21700694436808318, 0.47074700255531077, 0.05230522250614564, 0.1569156675184369, 0.1569156675184369, 0.05230522250614564, 0.05230522250614564, 0.0868898145293898, 0.0868898145293898, 0.2606694435881694, 0.43444907264694904, 0.0868898145293898, 0.545943720970759, 0.06066041344119545, 0.30330206720597724, 0.18002940056906044, 0.3600588011381209, 0.3600588011381209, 0.8286123166187429, 0.1532190586406443, 0.6128762345625772, 0.1532190586406443, 0.18344740541018367, 0.36689481082036735, 0.18344740541018367, 0.18344740541018367, 0.08808211825790598, 0.26424635477371794, 0.17616423651581195, 0.4404105912895299, 0.08877507387712319, 0.08877507387712319, 0.35510029550849276, 0.17755014775424638, 0.13316261081568478, 0.08877507387712319, 0.044387536938561595, 0.044387536938561595, 0.15399190703639554, 0.15399190703639554, 0.15399190703639554, 0.15399190703639554, 0.15399190703639554, 0.08452417685011894, 0.08452417685011894, 0.33809670740047576, 0.08452417685011894, 0.08452417685011894, 0.25357253055035683, 0.5409128887208094, 0.3155325184204722, 0.0901521481201349, 0.3247417216406692, 0.046391674520095606, 0.09278334904019121, 0.37113339616076485, 0.046391674520095606, 0.09278334904019121, 0.11804192813723365, 0.2360838562744673, 0.5902096406861682, 0.3410810439434019, 0.27286483515472154, 0.13643241757736077, 0.20464862636604114, 0.593594302420463, 0.14839857560511574, 0.14839857560511574, 0.4063510502182951, 0.27090070014553, 0.27090070014553, 0.26543372437541424, 0.26543372437541424, 0.13271686218770712, 0.26543372437541424, 0.05064417863489335, 0.5570859649838268, 0.05064417863489335, 0.15193253590468003, 0.1012883572697867, 0.08181527388428576, 0.03506368880755104, 0.292197406729592, 0.4558279544981635, 0.01168789626918368, 0.02337579253836736, 0.03506368880755104, 0.04675158507673472, 0.02337579253836736, 0.323436481583436, 0.09241042330955315, 0.3696416932382126, 0.09241042330955315, 0.046205211654776576, 0.046205211654776576, 0.154567043244536, 0.154567043244536, 0.463701129733608, 0.154567043244536, 0.2346159776658697, 0.2346159776658697, 0.35192396649880453, 0.11730798883293485, 0.12851958704672095, 0.5140783481868838, 0.03212989676168024, 0.03212989676168024, 0.12851958704672095, 0.03212989676168024, 0.09638969028504071, 0.43729278198559896, 0.08745855639711979, 0.043729278198559894, 0.13118783459567968, 0.13118783459567968, 0.043729278198559894, 0.043729278198559894, 0.043729278198559894, 0.16492339961059094, 0.08246169980529547, 0.6596935984423637, 0.1295886472360149, 0.5183545889440596, 0.1295886472360149, 0.2978674020849248, 0.3520251115549111, 0.13539427367496581, 0.027078854734993166, 0.027078854734993166, 0.05415770946998633, 0.05415770946998633, 0.0708800114401762, 0.08505601372821144, 0.15593602516838764, 0.01417600228803524, 0.18428802974445813, 0.02835200457607048, 0.26934404347266955, 0.02835200457607048, 0.15593602516838764, 0.01417600228803524, 0.19253551349229436, 0.09626775674614718, 0.3850710269845887, 0.19253551349229436, 0.1454827496358604, 0.24247124939310066, 0.4849424987862013, 0.09698849975724026, 0.5344621764852132, 0.07635173949788761, 0.07635173949788761, 0.07635173949788761, 0.15270347899577522, 0.03539345355493927, 0.2477541748845749, 0.07078690710987855, 0.03539345355493927, 0.1415738142197571, 0.2477541748845749, 0.10618036066481781, 0.07078690710987855, 0.03539345355493927, 0.03539345355493927, 0.26781632416099066, 0.06695408104024766, 0.06695408104024766, 0.13390816208049533, 0.13390816208049533, 0.33477040520123835, 0.5373488556401569, 0.13433721391003922, 0.13433721391003922, 0.13433721391003922, 0.15698933872768753, 0.31397867745537505, 0.15698933872768753, 0.31397867745537505, 0.6028446036340068, 0.1507111509085017, 0.1507111509085017, 0.31986340040541855, 0.12794536016216743, 0.09595902012162556, 0.22390438028379298, 0.12794536016216743, 0.03198634004054186, 0.03198634004054186, 0.03198634004054186, 0.04043980262005128, 0.12131940786015383, 0.3235184209604102, 0.4043980262005128, 0.04043980262005128, 0.04043980262005128, 0.1476967170724877, 0.2953934341449754, 0.44309015121746304, 0.4026275603155966, 0.26841837354373105, 0.06710459338593276, 0.2013137801577983, 0.11225791635737357, 0.22451583271474715, 0.11225791635737357, 0.22451583271474715, 0.11225791635737357, 0.22451583271474715, 0.0593921305921046, 0.41574491414473225, 0.2375685223684184, 0.0593921305921046, 0.0593921305921046, 0.0593921305921046, 0.5245893008595461, 0.10491786017190924, 0.20983572034381848, 0.34889396619596547, 0.5814899436599424, 0.24054627709459225, 0.12027313854729613, 0.24054627709459225, 0.12027313854729613, 0.24054627709459225, 0.6955918608481031, 0.11593197680801719, 0.11593197680801719, 0.4629788717471246, 0.3086525811647497, 0.15432629058237485, 0.15432629058237485, 0.3161446030500147, 0.14050871246667318, 0.35127178116668295, 0.07025435623333659, 0.035127178116668295, 0.07025435623333659, 0.035127178116668295, 0.47073477637334343, 0.3530510822800076, 0.11768369409333586, 0.09680109957809946, 0.09680109957809946, 0.09680109957809946, 0.38720439831239784, 0.19360219915619892, 0.30365213301900223, 0.10121737767300074, 0.05060868883650037, 0.3542608218555026, 0.05060868883650037, 0.05060868883650037, 0.05060868883650037, 0.5284560399384362, 0.17615201331281205, 0.17615201331281205, 0.21027802639491452, 0.12015887222566544, 0.12015887222566544, 0.12015887222566544, 0.06007943611283272, 0.09011915416924908, 0.12015887222566544, 0.12015887222566544, 0.03003971805641636, 0.13077564852671153, 0.26155129705342306, 0.13077564852671153, 0.3923269455801346, 0.24350163961928442, 0.12891263273962117, 0.18620713617945278, 0.08594175515974745, 0.028647251719915813, 0.08594175515974745, 0.14323625859957906, 0.028647251719915813, 0.04297087757987372, 0.028647251719915813, 0.2333501688321378, 0.1555667792214252, 0.2074223722952336, 0.0777833896107126, 0.1037111861476168, 0.129638982684521, 0.0777833896107126, 0.09034492556511378, 0.09034492556511378, 0.18068985113022756, 0.3613797022604551, 0.18068985113022756, 0.19060400349941112, 0.7624160139976445, 0.14194328358398145, 0.14194328358398145, 0.21291492537597217, 0.42582985075194435, 0.15458500724931376, 0.46375502174794125, 0.15458500724931376, 0.15458500724931376, 0.1304406222255569, 0.1304406222255569, 0.5217624889022277, 0.1304406222255569, 0.3670545256235277, 0.18352726281176385, 0.27529089421764574, 0.17717401847835265, 0.5315220554350579, 0.17717401847835265, 0.1950896174824173, 0.09754480874120865, 0.09754480874120865, 0.09754480874120865, 0.1950896174824173, 0.29263442622362595, 0.0675344370453489, 0.0675344370453489, 0.7428788074988378, 0.0675344370453489, 0.6649695441165181, 0.0949956491595026, 0.0949956491595026, 0.1322011954605991, 0.5288047818423964, 0.2644023909211982, 0.26238320247134495, 0.17492213498089662, 0.5247664049426899, 0.07556381024921158, 0.5289466717444811, 0.07556381024921158, 0.3022552409968463, 0.1913984097000097, 0.5741952291000291, 0.09569920485000485, 0.0971035041582481, 0.3155863885143063, 0.1942070083164962, 0.07282762811868608, 0.07282762811868608, 0.04855175207912405, 0.04855175207912405, 0.07282762811868608, 0.07282762811868608, 0.17763898211254817, 0.5329169463376444, 0.17763898211254817, 0.17763898211254817, 0.39655305325916196, 0.39655305325916196, 0.36762802019507196, 0.18381401009753598, 0.18381401009753598, 0.36762802019507196, 0.24934262595147533, 0.09067004580053649, 0.045335022900268244, 0.18134009160107298, 0.09067004580053649, 0.09067004580053649, 0.045335022900268244, 0.06800253435040236, 0.045335022900268244, 0.06800253435040236, 0.34293476213759844, 0.11431158737919947, 0.11431158737919947, 0.34293476213759844, 0.19206244986462176, 0.12804163324308118, 0.06402081662154059, 0.09603122493231088, 0.032010408310770296, 0.22407285817539205, 0.19206244986462176, 0.032010408310770296, 0.032010408310770296, 0.032010408310770296, 0.27362219090487017, 0.14821202007347134, 0.09120739696829006, 0.21661756779968888, 0.0798064723472538, 0.011400924621036257, 0.057004623105181285, 0.0798064723472538, 0.011400924621036257, 0.04560369848414503, 0.07032630681930772, 0.5626104545544618, 0.07032630681930772, 0.14065261363861545, 0.07032630681930772, 0.17452127714923904, 0.3490425542984781, 0.3490425542984781, 0.07739776145824295, 0.4643865687494577, 0.1547955229164859, 0.23219328437472886, 0.48497310052060666, 0.24248655026030333, 0.24248655026030333, 0.09034715860437142, 0.45173579302185707, 0.18069431720874285, 0.09034715860437142, 0.18069431720874285, 0.25505496737484756, 0.17003664491656506, 0.08501832245828253, 0.08501832245828253, 0.3400732898331301, 0.042509161229141265, 0.5875241932790448, 0.23500967731161793, 0.11750483865580896, 0.6150613582470043, 0.15376533956175106, 0.15376533956175106, 0.17784057075705323, 0.15808050733960285, 0.1383204439221525, 0.15808050733960285, 0.059280190252351074, 0.039520126834900714, 0.059280190252351074, 0.07904025366980143, 0.07904025366980143, 0.019760063417450357, 0.2228127382758363, 0.11140636913791815, 0.3342191074137545, 0.3342191074137545, 0.22776990423895366, 0.07592330141298455, 0.07592330141298455, 0.3796165070649228, 0.1518466028259691, 0.14820082881772784, 0.22230124322659175, 0.07410041440886392, 0.11115062161329588, 0.1852510360221598, 0.11115062161329588, 0.03705020720443196, 0.11115062161329588, 0.618823884440628, 0.0773529855550785, 0.0773529855550785, 0.0773529855550785, 0.0773529855550785, 0.03867649277753925, 0.14811160225856138, 0.5924464090342455, 0.14811160225856138, 0.14700483856515617, 0.7350241928257808, 0.2732712140953314, 0.1366356070476657, 0.1366356070476657, 0.1366356070476657, 0.2732712140953314, 0.13302852942427354, 0.06651426471213677, 0.06651426471213677, 0.6983997794774361, 0.033257132356068385, 0.14552287887805673, 0.07276143943902837, 0.29104575775611347, 0.14552287887805673, 0.2546650380365993, 0.03638071971951418, 0.5205236070204851, 0.14196098373285956, 0.04732032791095319, 0.09464065582190638, 0.14196098373285956, 0.04732032791095319, 0.3017832199982697, 0.15089160999913484, 0.4526748299974045, 0.48811205327117574, 0.24405602663558787, 0.12202801331779393, 0.19299320410177684, 0.06433106803392562, 0.5146485442714049, 0.06433106803392562, 0.12866213606785123, 0.23184583932708075, 0.5409736250965218, 0.07728194644236025, 0.07205493732910354, 0.07205493732910354, 0.6484944359619319, 0.14410987465820707, 0.5861494216273336, 0.11722988432546673, 0.11722988432546673, 0.17230124822456477, 0.17230124822456477, 0.17230124822456477, 0.34460249644912955, 0.2207165866346458, 0.07357219554488194, 0.5885775643590555, 0.07357219554488194, 0.19591103678863517, 0.11754662207318109, 0.47018648829272436, 0.03918220735772703, 0.11754662207318109, 0.07836441471545406, 0.12586206788232673, 0.25172413576465347, 0.12586206788232673, 0.5034482715293069, 0.15324751406214004, 0.6129900562485602, 0.15324751406214004, 0.34998987428835093, 0.17499493714417547, 0.43748734286043867, 0.5291685936139741, 0.08819476560232901, 0.17638953120465803, 0.08819476560232901, 0.08819476560232901, 0.20919059776644344, 0.08367623910657737, 0.041838119553288686, 0.16735247821315474, 0.08367623910657737, 0.12551435865986607, 0.08367623910657737, 0.041838119553288686, 0.16735247821315474, 0.1201340455008284, 0.20022340916804732, 0.2803127728352663, 0.08008936366721893, 0.040044681833609465, 0.16017872733443786, 0.08008936366721893, 0.35569492384291124, 0.5335423857643669, 0.1300560933061621, 0.1300560933061621, 0.21676015551027017, 0.34681624881643225, 0.08670406220410806, 0.04335203110205403, 0.04335203110205403, 0.6676639552992092, 0.07418488392213435, 0.1483697678442687, 0.07418488392213435, 0.15134637135695242, 0.45403911407085723, 0.15134637135695242, 0.15992806806472018, 0.10661871204314678, 0.15992806806472018, 0.37316549215101374, 0.05330935602157339, 0.05330935602157339, 0.05330935602157339, 0.05330935602157339, 0.12570298462649945, 0.06285149231324973, 0.12570298462649945, 0.2514059692529989, 0.06285149231324973, 0.3142574615662486, 0.10524529819557034, 0.10524529819557034, 0.42098119278228135, 0.21049059639114068, 0.2126812484652543, 0.2658515605815679, 0.13292578029078395, 0.026585156058156787, 0.13292578029078395, 0.10634062423262715, 0.026585156058156787, 0.026585156058156787, 0.053170312116313574, 0.053170312116313574, 0.06084750052725396, 0.14197750123025923, 0.14197750123025923, 0.3042375026362698, 0.16226000140601057, 0.10141250087875661, 0.04056500035150264, 0.04056500035150264, 0.08338469430854178, 0.1389744905142363, 0.3613336753370144, 0.11117959241138904, 0.08338469430854178, 0.08338469430854178, 0.1389744905142363, 0.02779489810284726, 0.3078991807555923, 0.07697479518889808, 0.15394959037779615, 0.23092438556669426, 0.07697479518889808, 0.15394959037779615, 0.0689419657435275, 0.0689419657435275, 0.55153572594822, 0.27576786297411, 0.6675465542563865, 0.09536379346519808, 0.09536379346519808, 0.09536379346519808, 0.11454937377612073, 0.8018456164328451, 0.1579981181365507, 0.7109915316144781, 0.156551759670907, 0.34441387127599543, 0.1252414077367256, 0.18786211160508842, 0.0313103519341814, 0.0313103519341814, 0.1252414077367256, 0.4257989583294719, 0.28386597221964793, 0.14193298610982397, 0.07096649305491198, 0.14278592715158156, 0.14278592715158156, 0.21417889072737234, 0.14278592715158156, 0.21417889072737234, 0.07139296357579078, 0.6624491881057226, 0.26497967524228905, 0.08916332001300127, 0.08916332001300127, 0.08916332001300127, 0.44581660006500634, 0.26748996003900377, 0.4771734609891007, 0.09543469219782014, 0.09543469219782014, 0.19086938439564027, 0.09543469219782014, 0.12119714339917047, 0.060598571699585234, 0.196945358023652, 0.10604750047427416, 0.09089785754937785, 0.07574821462448154, 0.1666460721738594, 0.07574821462448154, 0.030299285849792617, 0.060598571699585234, 0.05931550228579029, 0.47452401828632235, 0.17794650685737087, 0.11863100457158059, 0.17794650685737087, 0.21650532675443068, 0.1443368845029538, 0.1443368845029538, 0.43301065350886137, 0.23901519310925518, 0.23901519310925518, 0.09192892042663661, 0.2574009771945825, 0.07354313634130928, 0.01838578408532732, 0.03677156817065464, 0.03677156817065464, 0.01838578408532732, 0.6609081653925267, 0.13218163307850533, 0.13218163307850533, 0.14739066955400926, 0.20634693737561294, 0.1179125356432074, 0.14739066955400926, 0.02947813391080185, 0.0589562678216037, 0.1768688034648111, 0.0589562678216037, 0.02947813391080185, 0.2944170058183042, 0.5299506104729476, 0.11776680232732169, 0.1407782071412759, 0.1173151726177299, 0.09385213809418393, 0.1173151726177299, 0.04692606904709196, 0.2346303452354598, 0.09385213809418393, 0.07038910357063795, 0.04692606904709196, 0.18279509012385733, 0.18279509012385733, 0.18279509012385733, 0.18279509012385733, 0.18279509012385733, 0.29032561806267865, 0.21114590404558445, 0.1847526660398864, 0.13196619002849028, 0.026393238005698056, 0.05278647601139611, 0.05278647601139611, 0.026393238005698056, 0.05278647601139611, 0.4691087132268877, 0.11727717830672192, 0.3518315349201658, 0.15221350579253776, 0.45664051737761324, 0.15221350579253776, 0.07610675289626888, 0.07610675289626888, 0.10039766741202205, 0.15059650111803308, 0.7027836718841544, 0.6740472831039965, 0.1348094566207993, 0.18068312668233905, 0.1548712514420049, 0.3355543781243439, 0.0516237504806683, 0.0516237504806683, 0.1032475009613366, 0.07743562572100245, 0.12112218261228376, 0.09084163695921282, 0.12112218261228376, 0.03028054565307094, 0.33308600218378037, 0.2119638195714966, 0.06056109130614188, 0.03028054565307094, 0.21745419025836893, 0.12520089742148513, 0.29652844126141215, 0.05271616733536216, 0.09225329283688379, 0.00658952091692027, 0.08566377191996351, 0.04612664641844189, 0.05930568825228243, 0.01976856275076081, 0.23373086807410076, 0.07791028935803358, 0.15582057871606717, 0.23373086807410076, 0.23373086807410076, 0.07535022795626066, 0.15070045591252132, 0.22605068386878197, 0.03767511397813033, 0.15070045591252132, 0.03767511397813033, 0.2637257978469123, 0.14347630893652052, 0.14347630893652052, 0.28695261787304105, 0.28695261787304105, 0.25186888944254604, 0.32383142928327346, 0.10794380976109116, 0.10794380976109116, 0.14392507968145488, 0.07196253984072744, 0.23696281348889986, 0.5924070337222497, 0.13003660414034035, 0.13003660414034035, 0.19505490621051053, 0.16254575517542544, 0.03250915103508509, 0.29258235931576576, 0.03250915103508509, 0.37473664271985363, 0.11242099281595609, 0.07494732854397072, 0.18736832135992681, 0.07494732854397072, 0.03747366427198536, 0.03747366427198536, 0.07494732854397072, 0.08283025320340402, 0.08283025320340402, 0.08283025320340402, 0.16566050640680804, 0.3313210128136161, 0.08283025320340402, 0.08283025320340402], \"Term\": [\"aandacht\", \"aandacht\", \"aandacht\", \"aangehoud\", \"aangehoud\", \"aangehoud\", \"aangehoud\", \"aangekondigd\", \"aangekondigd\", \"aangekondigd\", \"aangekondigd\", \"aangift\", \"aangift\", \"aangift\", \"aanhanger\", \"aanhanger\", \"aanhanger\", \"aanpass\", \"aanpass\", \"aanpass\", \"aanslag\", \"aanslag\", \"aanslag\", \"aanslag\", \"aanslag\", \"aantal\", \"aantal\", \"aantal\", \"aantal\", \"aantal\", \"aantal\", \"aantal\", \"aantal\", \"aanvank\", \"aanvank\", \"aanvank\", \"aanwez\", \"aanwez\", \"aanwez\", \"actief\", \"actief\", \"actief\", \"activiteit\", \"activiteit\", \"activiteit\", \"afgelop\", \"afgelop\", \"afgelop\", \"afgelop\", \"afgelop\", \"afgelop\", \"afgelop\", \"afgelop\", \"afgelop\", \"afgelop\", \"afstand\", \"afstand\", \"afstand\", \"agent\", \"agent\", \"agent\", \"akkoord\", \"akkoord\", \"akkoord\", \"akkoord\", \"akkoord\", \"all\", \"all\", \"all\", \"all\", \"all\", \"all\", \"all\", \"all\", \"all\", \"allemal\", \"allemal\", \"allemal\", \"allemal\", \"allen\", \"allen\", \"allen\", \"allen\", \"allen\", \"allen\", \"allen\", \"allen\", \"allen\", \"amerikan\", \"amerikan\", \"amerikan\", \"amerikan\", \"amerikan\", \"amerikan\", \"amerikan\", \"amerikan\", \"amerikan\", \"amerikan\", \"amsterdam\", \"amsterdam\", \"amsterdam\", \"amsterdam\", \"amsterdam\", \"amsterdam\", \"amsterdam\", \"amsterdam\", \"amsterdam\", \"ander\", \"ander\", \"ander\", \"ander\", \"ander\", \"ander\", \"ander\", \"ander\", \"ander\", \"ander\", \"anti\", \"anti\", \"anti\", \"anti\", \"april\", \"april\", \"april\", \"april\", \"april\", \"april\", \"augustus\", \"augustus\", \"augustus\", \"augustus\", \"auto\", \"auto\", \"auto\", \"auto\", \"auto\", \"auto\", \"auto\", \"automatisch\", \"automatisch\", \"automatisch\", \"automatisch\", \"automatisch\", \"autoriteit\", \"autoriteit\", \"autoriteit\", \"autoriteit\", \"ban\", \"ban\", \"ban\", \"ban\", \"band\", \"band\", \"band\", \"band\", \"bank\", \"bank\", \"bank\", \"bank\", \"bedoel\", \"bedoel\", \"bedoel\", \"bedoeld\", \"bedoeld\", \"bedoeld\", \"bedoeld\", \"bedrijv\", \"bedrijv\", \"bedrijv\", \"bedrijv\", \"bedrijv\", \"bedrijv\", \"begon\", \"begon\", \"begon\", \"behalv\", \"behalv\", \"behalv\", \"behandel\", \"behandel\", \"behandel\", \"behandel\", \"behandel\", \"behor\", \"behor\", \"behor\", \"bekek\", \"bekek\", \"bekek\", \"bekend\", \"bekend\", \"bekend\", \"bekend\", \"bekend\", \"bekend\", \"bekend\", \"bekend\", \"bekend\", \"bekendgemaakt\", \"bekendgemaakt\", \"bekendgemaakt\", \"bekendgemaakt\", \"bekendgemaakt\", \"bekendgemaakt\", \"belangrijkst\", \"belangrijkst\", \"belangrijkst\", \"ben\", \"ben\", \"ben\", \"beperkt\", \"beperkt\", \"beperkt\", \"bereik\", \"bereik\", \"bereik\", \"bericht\", \"bericht\", \"bericht\", \"bericht\", \"bericht\", \"bericht\", \"bericht\", \"besluit\", \"besluit\", \"besluit\", \"besluit\", \"besluit\", \"besluit\", \"besmet\", \"besmet\", \"besmet\", \"besmet\", \"besmet\", \"best\", \"best\", \"best\", \"betaald\", \"betaald\", \"betaald\", \"betaald\", \"betaald\", \"betal\", \"betal\", \"betal\", \"betal\", \"betal\", \"betal\", \"betrok\", \"betrok\", \"betrok\", \"betrok\", \"betrok\", \"betrokken\", \"betrokken\", \"betrokken\", \"bewoner\", \"bewoner\", \"bewoner\", \"bewoner\", \"bezuin\", \"bezuin\", \"bezuin\", \"bezuin\", \"binn\", \"binn\", \"binn\", \"binn\", \"binn\", \"binn\", \"binn\", \"binn\", \"blijv\", \"blijv\", \"blijv\", \"blijv\", \"blijv\", \"blijv\", \"boer\", \"boer\", \"boer\", \"boer\", \"bot\", \"bot\", \"bot\", \"brand\", \"brand\", \"brand\", \"brand\", \"brand\", \"brandwer\", \"brandwer\", \"brandwer\", \"brief\", \"brief\", \"brief\", \"brief\", \"brief\", \"brief\", \"brussel\", \"brussel\", \"brussel\", \"brussel\", \"buitenlander\", \"buitenlander\", \"buitenlander\", \"burgemeester\", \"burgemeester\", \"burgemeester\", \"burgemeester\", \"central\", \"central\", \"central\", \"central\", \"central\", \"centrum\", \"centrum\", \"centrum\", \"cijfer\", \"cijfer\", \"cijfer\", \"cijfer\", \"cijfer\", \"commissie\", \"commissie\", \"consument\", \"consument\", \"consument\", \"consument\", \"consument\", \"consument\", \"contact\", \"contact\", \"contact\", \"contact\", \"contact\", \"contact\", \"criminel\", \"criminel\", \"criminel\", \"criminel\", \"daald\", \"daald\", \"daald\", \"daald\", \"dag\", \"dag\", \"dag\", \"dag\", \"dag\", \"dag\", \"dag\", \"dag\", \"dag\", \"daling\", \"daling\", \"daling\", \"daling\", \"debat\", \"debat\", \"debat\", \"debat\", \"december\", \"december\", \"december\", \"degelijk\", \"degelijk\", \"degelijk\", \"degelijk\", \"del\", \"del\", \"del\", \"del\", \"del\", \"del\", \"del\", \"demonstrant\", \"denkt\", \"denkt\", \"denkt\", \"denkt\", \"deur\", \"deur\", \"deur\", \"deur\", \"dezelfd\", \"dezelfd\", \"dezelfd\", \"dezelfd\", \"dienst\", \"dienst\", \"dienst\", \"dienst\", \"dinsdag\", \"dinsdag\", \"dinsdag\", \"dinsdag\", \"dinsdag\", \"direct\", \"direct\", \"direct\", \"directeur\", \"directeur\", \"directeur\", \"directeur\", \"dod\", \"dod\", \"dod\", \"dod\", \"dod\", \"dod\", \"dod\", \"dod\", \"doordat\", \"doordat\", \"doordat\", \"doordat\", \"doordat\", \"doordat\", \"doordat\", \"dorp\", \"dorp\", \"dorp\", \"dorp\", \"dorp\", \"draai\", \"draai\", \"draai\", \"draai\", \"drie\", \"drie\", \"drie\", \"drie\", \"drie\", \"drie\", \"drie\", \"duidelijk\", \"duidelijk\", \"duidelijk\", \"duidelijk\", \"duidelijk\", \"duidelijk\", \"duidelijk\", \"duidelijk\", \"duitsland\", \"duitsland\", \"duitsland\", \"duitsland\", \"duitsland\", \"duurder\", \"duurder\", \"duurder\", \"duurt\", \"duurt\", \"duurt\", \"economie\", \"economie\", \"economie\", \"economie\", \"economie\", \"economisch\", \"economisch\", \"economisch\", \"economisch\", \"economisch\", \"economisch\", \"economisch\", \"eerder\", \"eerder\", \"eerder\", \"eerder\", \"eerder\", \"eerder\", \"eerder\", \"eerder\", \"eerder\", \"eerst\", \"eerst\", \"eerst\", \"eerst\", \"eerst\", \"eerst\", \"eerst\", \"eerst\", \"eerst\", \"eerst\", \"eigen\", \"eigen\", \"eigen\", \"eigen\", \"eigen\", \"eigen\", \"eind\", \"eind\", \"eind\", \"eind\", \"eind\", \"eind\", \"eind\", \"eind\", \"eind\", \"eis\", \"elk\", \"elk\", \"elk\", \"elk\", \"elk\", \"energie\", \"energie\", \"enkel\", \"enkel\", \"enkel\", \"enkel\", \"enkel\", \"ernstig\", \"ernstig\", \"ernstig\", \"ernstig\", \"ernstig\", \"ervan\", \"ervan\", \"ervan\", \"ervan\", \"ervan\", \"euro\", \"euro\", \"euro\", \"euro\", \"euro\", \"euro\", \"euro\", \"euro\", \"euro\", \"euro\", \"europa\", \"europa\", \"europa\", \"europa\", \"europa\", \"europes\", \"europes\", \"europes\", \"europes\", \"europes\", \"europes\", \"even\", \"even\", \"even\", \"facebok\", \"facebok\", \"facebok\", \"facebok\", \"februari\", \"februari\", \"februari\", \"februari\", \"februari\", \"feit\", \"feit\", \"feit\", \"feit\", \"gan\", \"gan\", \"gan\", \"gan\", \"gan\", \"gan\", \"gan\", \"gan\", \"gan\", \"gang\", \"gang\", \"gang\", \"gat\", \"gat\", \"gat\", \"gat\", \"gat\", \"gat\", \"gat\", \"gat\", \"gat\", \"gearresteerd\", \"gearresteerd\", \"gearresteerd\", \"gebied\", \"gebied\", \"gebied\", \"gebied\", \"gebied\", \"gebied\", \"gebied\", \"gebied\", \"gebouw\", \"gebouw\", \"gebouw\", \"gebouw\", \"gebracht\", \"gebracht\", \"gebracht\", \"gebracht\", \"gebracht\", \"gebracht\", \"gebracht\", \"gebruikt\", \"gebruikt\", \"gebruikt\", \"gebruikt\", \"gebruikt\", \"gebruikt\", \"gekek\", \"gekek\", \"gekek\", \"gekreg\", \"gekreg\", \"gekreg\", \"gekreg\", \"gekreg\", \"gekreg\", \"geld\", \"geld\", \"geld\", \"geld\", \"geld\", \"geld\", \"geld\", \"geld\", \"geldt\", \"geldt\", \"geldt\", \"geldt\", \"gemeent\", \"gemeent\", \"gemeent\", \"gemeent\", \"gemeent\", \"gemeent\", \"gemeent\", \"geplaatst\", \"geplaatst\", \"geplaatst\", \"geplaatst\", \"geslaagd\", \"geslaagd\", \"geslaagd\", \"geslaagd\", \"geslag\", \"geslag\", \"geslag\", \"geslag\", \"geslot\", \"geslot\", \"geslot\", \"geslot\", \"geslot\", \"geslot\", \"gesprek\", \"gesprek\", \"gesprek\", \"gesprek\", \"gesprek\", \"gesprek\", \"gesprek\", \"gestok\", \"gestok\", \"gestok\", \"gevar\", \"gevar\", \"gevar\", \"gevar\", \"gevar\", \"gevar\", \"gevar\", \"gevar\", \"gevond\", \"gevond\", \"gevond\", \"gevond\", \"gevond\", \"gevond\", \"gevond\", \"gevond\", \"geweld\", \"geweld\", \"gewond\", \"gewond\", \"gewond\", \"gewond\", \"gewond\", \"gewond\", \"gewond\", \"gezicht\", \"gezicht\", \"gezond\", \"gezond\", \"gezond\", \"gezorgd\", \"gezorgd\", \"gezorgd\", \"ging\", \"ging\", \"ging\", \"ging\", \"ging\", \"ging\", \"ging\", \"ging\", \"ging\", \"gister\", \"gister\", \"gister\", \"gister\", \"gister\", \"gister\", \"gister\", \"goed\", \"goed\", \"goed\", \"goed\", \"goed\", \"goed\", \"goed\", \"goed\", \"goed\", \"gooid\", \"gooid\", \"gooid\", \"grag\", \"grag\", \"grag\", \"grag\", \"groei\", \"groei\", \"groei\", \"groei\", \"groenlink\", \"groenlink\", \"groenlink\", \"groenlink\", \"groenlink\", \"groep\", \"groep\", \"groep\", \"groep\", \"groep\", \"grond\", \"grond\", \"grond\", \"grond\", \"grond\", \"grond\", \"grot\", \"grot\", \"grot\", \"grot\", \"grot\", \"grot\", \"grot\", \"grot\", \"grot\", \"grot\", \"had\", \"had\", \"had\", \"had\", \"had\", \"had\", \"had\", \"hag\", \"hag\", \"hag\", \"hag\", \"hag\", \"hag\", \"hel\", \"hel\", \"hel\", \"hel\", \"hel\", \"hel\", \"hel\", \"hel\", \"hel\", \"helft\", \"helft\", \"helft\", \"helft\", \"helft\", \"help\", \"help\", \"help\", \"help\", \"help\", \"hetzelfd\", \"hetzelfd\", \"hetzelfd\", \"hetzelfd\", \"hoewel\", \"hoewel\", \"hoewel\", \"hoewel\", \"hoewel\", \"hoewel\", \"holland\", \"holland\", \"holland\", \"hoofd\", \"hoofd\", \"hoofd\", \"hoofd\", \"hoofd\", \"hoopt\", \"hoopt\", \"hoopt\", \"huis\", \"huis\", \"huis\", \"huis\", \"huis\", \"huis\", \"huis\", \"huis\", \"huis\", \"huiz\", \"huiz\", \"huiz\", \"idee\", \"idee\", \"idee\", \"iederen\", \"iederen\", \"iederen\", \"iederen\", \"informatie\", \"informatie\", \"ingesteld\", \"ingesteld\", \"ingesteld\", \"ingewikkeld\", \"ingewikkeld\", \"ingewikkeld\", \"inmiddel\", \"inmiddel\", \"inmiddel\", \"invloed\", \"invloed\", \"invloed\", \"israe\", \"israe\", \"israe\", \"israe\", \"italiaan\", \"italiaan\", \"italiaan\", \"januari\", \"januari\", \"januari\", \"januari\", \"januari\", \"jar\", \"jar\", \"jar\", \"jar\", \"jar\", \"jar\", \"jar\", \"jar\", \"jar\", \"jar\", \"jarig\", \"jarig\", \"jarig\", \"jarig\", \"jarig\", \"jarig\", \"jarig\", \"jarig\", \"jarig\", \"jongen\", \"jongen\", \"jongen\", \"jongen\", \"jonger\", \"jonger\", \"jonger\", \"journalist\", \"journalist\", \"journalist\", \"journalist\", \"juist\", \"juist\", \"juist\", \"juist\", \"juist\", \"juist\", \"juist\", \"juli\", \"juli\", \"juli\", \"juli\", \"juni\", \"juni\", \"juni\", \"juni\", \"juni\", \"justitie\", \"justitie\", \"justitie\", \"justitie\", \"kabinet\", \"kabinet\", \"kabinet\", \"kamer\", \"kamer\", \"kamer\", \"kamer\", \"kamer\", \"kamer\", \"kamer\", \"ker\", \"ker\", \"ker\", \"ker\", \"ker\", \"ker\", \"ker\", \"ker\", \"klar\", \"klar\", \"klar\", \"kom\", \"kom\", \"kom\", \"kom\", \"kom\", \"kom\", \"kom\", \"kom\", \"kom\", \"kom\", \"komt\", \"komt\", \"komt\", \"komt\", \"komt\", \"komt\", \"komt\", \"komt\", \"komt\", \"koning\", \"koning\", \"koning\", \"koning\", \"kort\", \"kort\", \"kort\", \"kort\", \"kort\", \"kort\", \"kort\", \"kort\", \"kost\", \"kost\", \"kost\", \"kost\", \"kost\", \"kracht\", \"krijg\", \"krijg\", \"krijg\", \"krijg\", \"krijg\", \"krijg\", \"krijg\", \"krijg\", \"kwam\", \"kwam\", \"kwam\", \"kwam\", \"kwam\", \"kwam\", \"kwam\", \"kwam\", \"kwam\", \"land\", \"land\", \"land\", \"land\", \"land\", \"land\", \"land\", \"land\", \"land\", \"land\", \"lang\", \"lang\", \"lang\", \"lang\", \"lang\", \"lang\", \"lang\", \"last\", \"last\", \"last\", \"last\", \"last\", \"last\", \"last\", \"lat\", \"lat\", \"lat\", \"lat\", \"lat\", \"lat\", \"lat\", \"lat\", \"lat\", \"later\", \"later\", \"later\", \"later\", \"later\", \"later\", \"later\", \"later\", \"leeftijd\", \"leeftijd\", \"leeftijd\", \"leeftijd\", \"legg\", \"legg\", \"legg\", \"legg\", \"leider\", \"leider\", \"leider\", \"leider\", \"leider\", \"leider\", \"ler\", \"ler\", \"ler\", \"ler\", \"lev\", \"lev\", \"lev\", \"lev\", \"lev\", \"lev\", \"lev\", \"lever\", \"lever\", \"licham\", \"licham\", \"licham\", \"licham\", \"lokal\", \"lokal\", \"lokal\", \"lond\", \"lond\", \"lond\", \"lukt\", \"lukt\", \"lukt\", \"maand\", \"maand\", \"maand\", \"maand\", \"maand\", \"maand\", \"maand\", \"maand\", \"maandag\", \"maandag\", \"maandag\", \"maandag\", \"maandag\", \"maart\", \"maart\", \"maart\", \"maart\", \"maart\", \"maart\", \"maart\", \"maart\", \"maatregel\", \"maatregel\", \"maatregel\", \"maatregel\", \"maatregel\", \"macht\", \"macht\", \"macht\", \"mak\", \"mak\", \"mak\", \"mak\", \"mak\", \"mak\", \"mak\", \"mak\", \"mak\", \"mak\", \"media\", \"media\", \"media\", \"media\", \"media\", \"media\", \"meest\", \"meest\", \"meest\", \"meest\", \"meisj\", \"meisj\", \"meisj\", \"meisj\", \"mens\", \"mens\", \"mens\", \"mens\", \"mens\", \"mens\", \"mens\", \"mens\", \"mens\", \"merk\", \"merk\", \"merk\", \"merk\", \"middag\", \"middag\", \"middag\", \"militair\", \"militair\", \"militair\", \"militair\", \"miljard\", \"miljard\", \"miljard\", \"miljoen\", \"miljoen\", \"miljoen\", \"miljoen\", \"miljoen\", \"miljoen\", \"miljoen\", \"miljoen\", \"minder\", \"minder\", \"minder\", \"minder\", \"minder\", \"minder\", \"minder\", \"minister\", \"minister\", \"minister\", \"minister\", \"minister\", \"minister\", \"minister\", \"minister\", \"mocht\", \"mocht\", \"mocht\", \"moet\", \"moet\", \"moet\", \"moet\", \"moet\", \"moet\", \"moet\", \"moet\", \"moet\", \"mogelijk\", \"mogelijk\", \"mogelijk\", \"mogelijk\", \"mogelijk\", \"mogelijk\", \"moment\", \"moment\", \"moment\", \"moment\", \"moment\", \"nacht\", \"nacht\", \"nacht\", \"nacht\", \"nacht\", \"nacht\", \"nacht\", \"nacht\", \"national\", \"national\", \"national\", \"national\", \"national\", \"natur\", \"natur\", \"natur\", \"natur\", \"natur\", \"nauwelijk\", \"nauwelijk\", \"nauwelijk\", \"nauwelijk\", \"nauwelijk\", \"nederland\", \"nederland\", \"nederland\", \"nederland\", \"nederland\", \"nederland\", \"nederland\", \"nederland\", \"nederland\", \"nederland\", \"neemt\", \"neemt\", \"neemt\", \"neemt\", \"neemt\", \"neemt\", \"niemand\", \"niemand\", \"niemand\", \"niemand\", \"nieuw\", \"nieuw\", \"nieuw\", \"nieuw\", \"nieuw\", \"nieuw\", \"nieuw\", \"nieuw\", \"nieuw\", \"nieuw\", \"nodig\", \"nodig\", \"nodig\", \"nodig\", \"nodig\", \"nodig\", \"nodig\", \"nodig\", \"noemt\", \"noemt\", \"noemt\", \"nooit\", \"nooit\", \"nooit\", \"nooit\", \"nooit\", \"noord\", \"noord\", \"noord\", \"noord\", \"noord\", \"oekrai\", \"oekrai\", \"oekrai\", \"onderdel\", \"onderdel\", \"onderdel\", \"onderdel\", \"onderdel\", \"onderdel\", \"onderzocht\", \"onderzocht\", \"onderzocht\", \"onderzoek\", \"onderzoek\", \"onderzoek\", \"onderzoek\", \"onderzoek\", \"onderzoek\", \"onderzoek\", \"onderzoek\", \"onderzoek\", \"onderzoekt\", \"onderzoekt\", \"onderzoekt\", \"onderzoekt\", \"ongeluk\", \"ongeluk\", \"ongeluk\", \"ongeluk\", \"ongeluk\", \"ongeluk\", \"ongever\", \"ongever\", \"ongever\", \"onrust\", \"onrust\", \"onrust\", \"onvoldo\", \"onvoldo\", \"onvoldo\", \"onvoldo\", \"onvoldo\", \"onz\", \"onz\", \"onz\", \"onz\", \"onz\", \"onz\", \"onzeker\", \"onzeker\", \"onzeker\", \"onzeker\", \"onzeker\", \"oorlog\", \"oorlog\", \"oorlog\", \"oost\", \"oost\", \"oost\", \"opmerk\", \"optred\", \"optred\", \"optred\", \"opzicht\", \"opzicht\", \"opzicht\", \"opzicht\", \"organisaties\", \"organisaties\", \"organisaties\", \"organisaties\", \"over\", \"over\", \"over\", \"over\", \"over\", \"over\", \"over\", \"over\", \"overigen\", \"overigen\", \"overigen\", \"overigen\", \"overigen\", \"overled\", \"overled\", \"overled\", \"overled\", \"overled\", \"overled\", \"pakistan\", \"pakistan\", \"pakistan\", \"partij\", \"partij\", \"partij\", \"partij\", \"partij\", \"partij\", \"partner\", \"partner\", \"partner\", \"patie\", \"patie\", \"patie\", \"patie\", \"persbureau\", \"persbureau\", \"persbureau\", \"personel\", \"personel\", \"personel\", \"plan\", \"plan\", \"plan\", \"plan\", \"pol\", \"pol\", \"pol\", \"pol\", \"pol\", \"politie\", \"politie\", \"politie\", \"politie\", \"politie\", \"politie\", \"politie\", \"politie\", \"politie\", \"politiek\", \"politiek\", \"politiek\", \"politiek\", \"politiek\", \"politiek\", \"populair\", \"populair\", \"populair\", \"populair\", \"prat\", \"prat\", \"prat\", \"prat\", \"premier\", \"premier\", \"premier\", \"premier\", \"premier\", \"premier\", \"premier\", \"president\", \"president\", \"president\", \"president\", \"president\", \"president\", \"president\", \"president\", \"prijs\", \"prijs\", \"prijs\", \"probeerd\", \"probeerd\", \"probeerd\", \"problem\", \"problem\", \"problem\", \"problem\", \"problem\", \"problem\", \"problem\", \"procent\", \"procent\", \"procent\", \"procent\", \"procent\", \"procent\", \"procent\", \"procent\", \"procent\", \"procent\", \"protest\", \"protest\", \"protest\", \"protest\", \"provincie\", \"provincie\", \"provincie\", \"provincie\", \"publiek\", \"publiek\", \"publiek\", \"publiek\", \"publiek\", \"regel\", \"regel\", \"regel\", \"regel\", \"regel\", \"regel\", \"regel\", \"regel\", \"regel\", \"regel\", \"reger\", \"reger\", \"reger\", \"reger\", \"reger\", \"reger\", \"relatief\", \"relatief\", \"relatief\", \"relatief\", \"richt\", \"richt\", \"richt\", \"richt\", \"rijk\", \"rijk\", \"rijk\", \"rond\", \"rond\", \"rond\", \"rond\", \"rond\", \"rond\", \"rond\", \"rond\", \"rotterdam\", \"rotterdam\", \"rotterdam\", \"rotterdam\", \"rotterdam\", \"rotterdam\", \"russisch\", \"russisch\", \"russisch\", \"rut\", \"rut\", \"rut\", \"rut\", \"schot\", \"schot\", \"schot\", \"schot\", \"schot\", \"schot\", \"schrijft\", \"schrijft\", \"schrijft\", \"schrijft\", \"schrijft\", \"schrijft\", \"schuld\", \"schuld\", \"schuld\", \"sector\", \"sector\", \"september\", \"september\", \"september\", \"september\", \"september\", \"situatie\", \"situatie\", \"situatie\", \"sneller\", \"sneller\", \"sneller\", \"sneller\", \"sommig\", \"sommig\", \"sommig\", \"sommig\", \"sommig\", \"sommig\", \"sommig\", \"spanj\", \"spanj\", \"spanj\", \"special\", \"special\", \"special\", \"special\", \"special\", \"sprak\", \"sprak\", \"sprak\", \"sprak\", \"sprak\", \"sprak\", \"sprak\", \"stak\", \"stak\", \"stak\", \"stan\", \"stan\", \"stan\", \"stan\", \"stan\", \"stan\", \"stan\", \"stan\", \"stan\", \"start\", \"start\", \"start\", \"start\", \"stat\", \"stat\", \"stat\", \"stat\", \"stat\", \"stat\", \"stat\", \"stat\", \"stat\", \"stat\", \"sted\", \"sted\", \"sted\", \"sted\", \"sted\", \"sted\", \"sted\", \"stelt\", \"stelt\", \"stelt\", \"stelt\", \"stelt\", \"sterk\", \"sterk\", \"stichting\", \"stichting\", \"stichting\", \"stichting\", \"stijging\", \"stijging\", \"stijging\", \"stijging\", \"strak\", \"strak\", \"strak\", \"strak\", \"strat\", \"strat\", \"strat\", \"strijd\", \"strijd\", \"strijd\", \"strom\", \"strom\", \"strom\", \"strom\", \"strom\", \"strom\", \"supermarkt\", \"supermarkt\", \"supermarkt\", \"supermarkt\", \"tegenover\", \"tegenover\", \"tegenover\", \"teken\", \"teken\", \"teken\", \"tekort\", \"tekort\", \"tekort\", \"telefon\", \"telefon\", \"telefon\", \"telefon\", \"terrein\", \"terrein\", \"terrein\", \"tijd\", \"tijd\", \"tijd\", \"tijd\", \"tijd\", \"tijd\", \"tijd\", \"tijd\", \"tijd\", \"trek\", \"trek\", \"trek\", \"trek\", \"trekt\", \"trekt\", \"trot\", \"trot\", \"trot\", \"trot\", \"tuss\", \"tuss\", \"tuss\", \"tuss\", \"tuss\", \"tuss\", \"tuss\", \"tuss\", \"tuss\", \"tuss\", \"twaalf\", \"twaalf\", \"twaalf\", \"twaalf\", \"twed\", \"twed\", \"twed\", \"twed\", \"twed\", \"twed\", \"twed\", \"twed\", \"twed\", \"twed\", \"twee\", \"twee\", \"twee\", \"twee\", \"twee\", \"twee\", \"twee\", \"twee\", \"twee\", \"twee\", \"twitter\", \"twitter\", \"twitter\", \"twitter\", \"twitter\", \"uitzonder\", \"uitzonder\", \"uitzonder\", \"unie\", \"unie\", \"unie\", \"unie\", \"universiteit\", \"universiteit\", \"universiteit\", \"utrecht\", \"utrecht\", \"utrecht\", \"utrecht\", \"utrecht\", \"vak\", \"vak\", \"vak\", \"vak\", \"vak\", \"vak\", \"vakbond\", \"vakbond\", \"vakbond\", \"vanavond\", \"vanavond\", \"vanavond\", \"vandag\", \"vandag\", \"vandag\", \"vandag\", \"vandag\", \"vandag\", \"vandag\", \"vandag\", \"vandag\", \"vandag\", \"vanmiddag\", \"vanmiddag\", \"vanmiddag\", \"vanmiddag\", \"vanuit\", \"vanuit\", \"vanuit\", \"vanuit\", \"vanuit\", \"vanweg\", \"vanweg\", \"vanweg\", \"vanweg\", \"vanweg\", \"vanweg\", \"vanweg\", \"vanweg\", \"veilig\", \"veilig\", \"veilig\", \"veilig\", \"veilig\", \"veilig\", \"verander\", \"verander\", \"verander\", \"verband\", \"verband\", \"verbod\", \"verbod\", \"verbod\", \"verbod\", \"verbod\", \"verdacht\", \"verdacht\", \"verdacht\", \"verdacht\", \"verdacht\", \"verder\", \"verder\", \"verder\", \"verder\", \"verder\", \"verder\", \"verenigd\", \"verenigd\", \"verenigd\", \"verenigd\", \"verenigd\", \"verenigd\", \"verhal\", \"verhal\", \"verhal\", \"verkiez\", \"verkiez\", \"verkiez\", \"verklar\", \"verklar\", \"verklar\", \"verklar\", \"verklar\", \"verkocht\", \"verkocht\", \"verkocht\", \"verkop\", \"verkop\", \"verkop\", \"verkop\", \"verlat\", \"verlat\", \"verlat\", \"verlop\", \"verlop\", \"verlop\", \"verlop\", \"veroordeeld\", \"veroordeeld\", \"veroordeeld\", \"veroordeeld\", \"vertelt\", \"vertelt\", \"vertelt\", \"vertelt\", \"vertelt\", \"vertelt\", \"vervolg\", \"vervolg\", \"vervolg\", \"vervolg\", \"vervolgd\", \"vervolgd\", \"vervolgd\", \"video\", \"video\", \"video\", \"viel\", \"viel\", \"viel\", \"viel\", \"viel\", \"vier\", \"vier\", \"vier\", \"vier\", \"vier\", \"vier\", \"vier\", \"vier\", \"vier\", \"vijf\", \"vijf\", \"vijf\", \"vijf\", \"vijf\", \"vijf\", \"vijf\", \"vijftig\", \"vijftig\", \"vindt\", \"vindt\", \"vindt\", \"vindt\", \"vindt\", \"vindt\", \"vindt\", \"virus\", \"virus\", \"virus\", \"virus\", \"vlak\", \"vlak\", \"vlak\", \"vlucht\", \"vlucht\", \"vlucht\", \"vlucht\", \"vlucht\", \"vlucht\", \"vlucht\", \"vlucht\", \"voer\", \"voer\", \"voer\", \"voer\", \"voer\", \"voer\", \"vond\", \"vond\", \"vond\", \"vond\", \"vooral\", \"vooral\", \"vooral\", \"vooral\", \"vooral\", \"vooral\", \"vooral\", \"vooral\", \"vooral\", \"vooral\", \"vorig\", \"vorig\", \"vorig\", \"vorig\", \"vorig\", \"vorig\", \"vorig\", \"vorig\", \"vrag\", \"vrag\", \"vrag\", \"vrag\", \"vrag\", \"vrag\", \"vrag\", \"vrag\", \"vriend\", \"vriend\", \"vriend\", \"vriend\", \"vriend\", \"vriend\", \"vrij\", \"vrij\", \"vrij\", \"vrij\", \"vrijdag\", \"vrijdag\", \"vrijdag\", \"vrijdag\", \"vrijgelat\", \"vrijgelat\", \"vrijlat\", \"vrijlat\", \"vrouw\", \"vrouw\", \"vrouw\", \"vrouw\", \"vrouw\", \"vrouw\", \"vrouw\", \"waard\", \"waard\", \"waard\", \"waard\", \"waarin\", \"waarin\", \"waarin\", \"waarin\", \"waarin\", \"waarin\", \"waarom\", \"waarom\", \"waarschijn\", \"waarschijn\", \"waarschijn\", \"waarschijn\", \"waarschijn\", \"wacht\", \"wacht\", \"wacht\", \"wacht\", \"wacht\", \"war\", \"war\", \"war\", \"war\", \"war\", \"war\", \"war\", \"war\", \"war\", \"war\", \"water\", \"water\", \"water\", \"water\", \"water\", \"wegen\", \"wegen\", \"wegen\", \"wegen\", \"wek\", \"wek\", \"wek\", \"wek\", \"wek\", \"wek\", \"wek\", \"wek\", \"wek\", \"wereldwijd\", \"wereldwijd\", \"wereldwijd\", \"werk\", \"werk\", \"werk\", \"werk\", \"werk\", \"werk\", \"werk\", \"werk\", \"werk\", \"werkt\", \"werkt\", \"werkt\", \"wet\", \"wet\", \"wet\", \"wet\", \"wet\", \"wet\", \"wet\", \"wet\", \"wet\", \"wijst\", \"wijst\", \"wijst\", \"wijst\", \"wijst\", \"will\", \"will\", \"will\", \"will\", \"will\", \"will\", \"will\", \"will\", \"will\", \"winkel\", \"winkel\", \"winkel\", \"won\", \"won\", \"won\", \"won\", \"won\", \"woning\", \"woning\", \"woning\", \"york\", \"york\", \"zak\", \"zak\", \"zak\", \"zak\", \"zak\", \"zak\", \"zak\", \"zegg\", \"zegg\", \"zegg\", \"zegg\", \"zegg\", \"zegg\", \"zegg\", \"zegg\", \"zegt\", \"zegt\", \"zegt\", \"zegt\", \"zegt\", \"zegt\", \"zegt\", \"zegt\", \"zegt\", \"zegt\", \"zelf\", \"zelf\", \"zelf\", \"zelf\", \"zelf\", \"ziekenhuis\", \"ziekenhuis\", \"ziekenhuis\", \"ziekenhuis\", \"ziekenhuis\", \"ziekenhuis\", \"ziekenhuis\", \"ziekenhuiz\", \"ziekenhuiz\", \"ziekenhuiz\", \"ziekenhuiz\", \"zit\", \"zit\", \"zit\", \"zit\", \"zit\", \"zit\", \"zon\", \"zon\", \"zoud\", \"zoud\", \"zoud\", \"zoud\", \"zoud\", \"zoud\", \"zoud\", \"zull\", \"zull\", \"zull\", \"zull\", \"zull\", \"zull\", \"zull\", \"zull\", \"zwar\", \"zwar\", \"zwar\", \"zwar\", \"zwar\", \"zwar\", \"zwar\"]}, \"R\": 30, \"lambda.step\": 0.01, \"plot.opts\": {\"xlab\": \"PC1\", \"ylab\": \"PC2\"}, \"topic.order\": [8, 1, 7, 9, 6, 5, 2, 4, 3, 10]};\n",
              "\n",
              "function LDAvis_load_lib(url, callback){\n",
              "  var s = document.createElement('script');\n",
              "  s.src = url;\n",
              "  s.async = true;\n",
              "  s.onreadystatechange = s.onload = callback;\n",
              "  s.onerror = function(){console.warn(\"failed to load library \" + url);};\n",
              "  document.getElementsByTagName(\"head\")[0].appendChild(s);\n",
              "}\n",
              "\n",
              "if(typeof(LDAvis) !== \"undefined\"){\n",
              "   // already loaded: just create the visualization\n",
              "   !function(LDAvis){\n",
              "       new LDAvis(\"#\" + \"ldavis_el4941367116292749444347652506\", ldavis_el4941367116292749444347652506_data);\n",
              "   }(LDAvis);\n",
              "}else if(typeof define === \"function\" && define.amd){\n",
              "   // require.js is available: use it to load d3/LDAvis\n",
              "   require.config({paths: {d3: \"https://d3js.org/d3.v5\"}});\n",
              "   require([\"d3\"], function(d3){\n",
              "      window.d3 = d3;\n",
              "      LDAvis_load_lib(\"https://cdn.jsdelivr.net/gh/bmabey/pyLDAvis@3.4.0/pyLDAvis/js/ldavis.v3.0.0.js\", function(){\n",
              "        new LDAvis(\"#\" + \"ldavis_el4941367116292749444347652506\", ldavis_el4941367116292749444347652506_data);\n",
              "      });\n",
              "    });\n",
              "}else{\n",
              "    // require.js not available: dynamically load d3 & LDAvis\n",
              "    LDAvis_load_lib(\"https://d3js.org/d3.v5.js\", function(){\n",
              "         LDAvis_load_lib(\"https://cdn.jsdelivr.net/gh/bmabey/pyLDAvis@3.4.0/pyLDAvis/js/ldavis.v3.0.0.js\", function(){\n",
              "                 new LDAvis(\"#\" + \"ldavis_el4941367116292749444347652506\", ldavis_el4941367116292749444347652506_data);\n",
              "            })\n",
              "         });\n",
              "}\n",
              "</script>"
            ]
          },
          "metadata": {},
          "execution_count": 115
        }
      ]
    },
    {
      "cell_type": "markdown",
      "metadata": {
        "id": "syy0tnTQmxZP"
      },
      "source": [
        "Try changing the parameters to get a *satisfying level of clustering*.  \n",
        "Which parameters worked best for the language you chose?"
      ]
    },
    {
      "cell_type": "code",
      "source": [
        "'''\n",
        "My observations about the hyperparameters:\n",
        "\n",
        "I had to change the hyperparameters because a lot of tokens were filtered our with the initial ones\n",
        "because I only used 50 articles when I tried this LDA out for the first time - and filtering out tokens if\n",
        "they appear in less than 15 of thosr 50 articles reduces the number of tokens drastically...\n",
        "I was left with only 2!).\n",
        "So I lowered this hyperparameter and\n",
        "also I went back and chose 200 articles randomly instead, and I will continue working with those 200 articles.\n",
        "\n",
        "The hyperparameters affect the model in the following way:\n",
        "- no_below=filter_tokens_if_container_documents_are_less_than: excludes (filters) tokens that occur in less\n",
        "than x documents. If x is 5, then a word must appear in 5 or more articles. This is helpful to remove\n",
        "rare words that might not be informative and might create noise in the model.\n",
        "\n",
        "- no_above=filter_tokens_if_appeared_percentage_more_than: filters tokens that occur in x percent of\n",
        "documents or more often. Hence, this will remove words that occur in most documents that might not be\n",
        "decisive for topic modeling. If x is 0.8, a word must occur in 80% or less of the articles. This is helpful to\n",
        "remove very common words which might be less useful for differentiating between topics.\n",
        "\n",
        "- keep_n=keep_the_first_n_token: keeps the most frequent x tokens (after filtering).\n",
        "\n",
        "My implementation:\n",
        "lower no_below: Since the corpora is still rather small (200 articles which are not super long), I set the no_below\n",
        "hyperparameter a little lower because a high value might exclude rare but important terms. In 200 short articles of\n",
        "(hopefully) differing topics, what are the chances that a word appears in a high number of them? They are low!\n",
        "\n",
        "higher no_above: The Dutch language contains a lot of commonly used/frequent compound words. I read online that\n",
        "since that is the case, it is wise to set the no_above a little higher so that you still include common compounds\n",
        "without letting overly frequent terms (that might not be informative) influence the LDA too much.\n",
        "\n",
        "I left the keep_n hyperparameter as is because I did not get as many tokens anyways due to the smaller dataset and\n",
        "rather short articles.\n",
        "\n",
        "About the visualisation: I read online that clusters that do not overlap extensively demonstrate successful clustering.\n",
        "This explains why in my first trial with only 50 articles and not-so-ideal hyperparameters, the clusters were\n",
        "almost all at the right top corner overlapping a lot. Now with 200 articles and better tuned hyperparameters,\n",
        "the clusters look more independent.\n",
        "\n",
        "As a next step, one could also play around with the number of topics, and refine the preprocessing pipeline.\n",
        "'''"
      ],
      "metadata": {
        "id": "W7hEdml1fXwq"
      },
      "execution_count": null,
      "outputs": []
    }
  ]
}